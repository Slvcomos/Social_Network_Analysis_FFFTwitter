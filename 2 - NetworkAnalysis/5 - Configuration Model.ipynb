{
 "cells": [
  {
   "cell_type": "code",
   "execution_count": null,
   "id": "8cf870e4",
   "metadata": {},
   "outputs": [],
   "source": [
    "import networkx as nx\n",
    "import numpy as np\n",
    "import pandas as pd\n",
    "import matplotlib.pyplot as plt\n",
    "from collections import Counter\n",
    "from operator import itemgetter\n",
    "import powerlaw\n",
    "from networkx.drawing.nx_agraph import graphviz_layout\n",
    "import pickle\n",
    "from statistics import mean, stdev\n",
    "import seaborn as sns"
   ]
  },
  {
   "cell_type": "code",
   "execution_count": null,
   "id": "8c32404f",
   "metadata": {},
   "outputs": [],
   "source": [
    "from net_analysis import *"
   ]
  },
  {
   "cell_type": "code",
   "execution_count": null,
   "id": "fa53d029",
   "metadata": {},
   "outputs": [],
   "source": [
    "path = \"../DataSet SuperUsers/2 - NetworkAnalysis/edges.csv\""
   ]
  },
  {
   "cell_type": "code",
   "execution_count": null,
   "id": "2bd63855",
   "metadata": {},
   "outputs": [],
   "source": [
    "path_graph = \"../DataSet SuperUsers/2 - NetworkAnalysis/Graph_data/\""
   ]
  },
  {
   "cell_type": "code",
   "execution_count": null,
   "id": "d34c6530",
   "metadata": {},
   "outputs": [],
   "source": [
    "G = nx.read_edgelist(path, comments = \"S\", delimiter = \",\", data=((\"Count\", int),))"
   ]
  },
  {
   "cell_type": "code",
   "execution_count": null,
   "id": "85c94424",
   "metadata": {},
   "outputs": [],
   "source": [
    "print(nx.info(G))"
   ]
  },
  {
   "cell_type": "code",
   "execution_count": null,
   "id": "351ea260",
   "metadata": {},
   "outputs": [],
   "source": [
    "# fitting the degree distribution of the RW\n",
    "degrees = [d for u, d in G.degree()]  \n",
    "cmodel = nx.configuration_model(degrees) \n",
    "print(\"Nodes:\", cmodel.number_of_nodes())\n",
    "print(\"Edges:\", cmodel.number_of_edges())"
   ]
  },
  {
   "cell_type": "code",
   "execution_count": null,
   "id": "cd262a83",
   "metadata": {},
   "outputs": [],
   "source": [
    "nx.write_graphml(cmodel, path_graph+\"CM_Network.graphml\")"
   ]
  },
  {
   "cell_type": "markdown",
   "id": "f249373b",
   "metadata": {},
   "source": [
    "# 1 - Degree Distribution"
   ]
  },
  {
   "cell_type": "code",
   "execution_count": null,
   "id": "49ebcabc",
   "metadata": {},
   "outputs": [],
   "source": [
    "degree_dist(cmodel, \"Configuration Model\", \"CM\")"
   ]
  },
  {
   "cell_type": "code",
   "execution_count": null,
   "id": "8b77c32f",
   "metadata": {},
   "outputs": [],
   "source": [
    "plot_dist(cmodel, \"Configuration Model\", \"CM\")"
   ]
  },
  {
   "cell_type": "code",
   "execution_count": null,
   "id": "abe49eb4",
   "metadata": {},
   "outputs": [],
   "source": [
    "info_degree(cmodel , \"Configuration Model\")"
   ]
  },
  {
   "cell_type": "markdown",
   "id": "e4babddd",
   "metadata": {},
   "source": [
    "# 2 - Connected Components"
   ]
  },
  {
   "cell_type": "code",
   "execution_count": null,
   "id": "d89be054",
   "metadata": {},
   "outputs": [],
   "source": [
    "components = n_connected_components(cmodel , \"Configuration Model\")"
   ]
  },
  {
   "cell_type": "markdown",
   "id": "7be614e0",
   "metadata": {},
   "source": [
    "# 3 - Path Analysis"
   ]
  },
  {
   "cell_type": "code",
   "execution_count": null,
   "id": "c7b5e0c3",
   "metadata": {},
   "outputs": [],
   "source": [
    "path_analysis(cmodel , \"Configuration Model\", components)"
   ]
  },
  {
   "cell_type": "markdown",
   "id": "47d7ccb8",
   "metadata": {},
   "source": [
    "# 4 - Clustering Coefficient"
   ]
  },
  {
   "cell_type": "code",
   "execution_count": null,
   "id": "983a7157",
   "metadata": {},
   "outputs": [],
   "source": [
    "# not implemented for multigraph"
   ]
  },
  {
   "cell_type": "markdown",
   "id": "274edb01",
   "metadata": {},
   "source": [
    "# 5 - Density Analysis"
   ]
  },
  {
   "cell_type": "code",
   "execution_count": null,
   "id": "0eb24933",
   "metadata": {},
   "outputs": [],
   "source": [
    "density_analysis(cmodel , \"Configuration Model\")"
   ]
  },
  {
   "cell_type": "code",
   "execution_count": null,
   "id": "6c35c574",
   "metadata": {},
   "outputs": [],
   "source": []
  },
  {
   "cell_type": "code",
   "execution_count": null,
   "id": "d781d2ae",
   "metadata": {},
   "outputs": [],
   "source": []
  }
 ],
 "metadata": {
  "kernelspec": {
   "display_name": "Python 3",
   "language": "python",
   "name": "python3"
  },
  "language_info": {
   "codemirror_mode": {
    "name": "ipython",
    "version": 3
   },
   "file_extension": ".py",
   "mimetype": "text/x-python",
   "name": "python",
   "nbconvert_exporter": "python",
   "pygments_lexer": "ipython3",
   "version": "3.8.8"
  }
 },
 "nbformat": 4,
 "nbformat_minor": 5
}
