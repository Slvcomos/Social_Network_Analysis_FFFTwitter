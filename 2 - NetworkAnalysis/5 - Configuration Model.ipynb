{
 "cells": [
  {
   "cell_type": "code",
   "execution_count": 1,
   "id": "8cf870e4",
   "metadata": {},
   "outputs": [],
   "source": [
    "import networkx as nx\n",
    "import numpy as np\n",
    "import pandas as pd\n",
    "import matplotlib.pyplot as plt\n",
    "from collections import Counter\n",
    "from operator import itemgetter\n",
    "import powerlaw\n",
    "from networkx.drawing.nx_agraph import graphviz_layout\n",
    "import pickle\n",
    "from statistics import mean, stdev\n",
    "import seaborn as sns"
   ]
  },
  {
   "cell_type": "code",
   "execution_count": 2,
   "id": "8c32404f",
   "metadata": {},
   "outputs": [],
   "source": [
    "from net_analysis import *"
   ]
  },
  {
   "cell_type": "code",
   "execution_count": 3,
   "id": "fa53d029",
   "metadata": {},
   "outputs": [],
   "source": [
    "path = \"../Dataset FFF/edges.csv\"\n",
    "path1 = \"../Dataset FFF/edges_3K.csv\""
   ]
  },
  {
   "cell_type": "code",
   "execution_count": 4,
   "id": "2bd63855",
   "metadata": {},
   "outputs": [],
   "source": [
    "path_graph = \"../Dataset FFF/Graph_data/\""
   ]
  },
  {
   "cell_type": "code",
   "execution_count": 5,
   "id": "d34c6530",
   "metadata": {},
   "outputs": [],
   "source": [
    "G = nx.read_edgelist(path, comments = \"S\", delimiter = \",\", data=((\"Count\", int),))"
   ]
  },
  {
   "cell_type": "code",
   "execution_count": 6,
   "id": "85c94424",
   "metadata": {},
   "outputs": [
    {
     "name": "stdout",
     "output_type": "stream",
     "text": [
      "Name: \n",
      "Type: Graph\n",
      "Number of nodes: 4147\n",
      "Number of edges: 63400\n",
      "Average degree:  30.5763\n"
     ]
    }
   ],
   "source": [
    "print(nx.info(G))"
   ]
  },
  {
   "cell_type": "code",
   "execution_count": 7,
   "id": "cf01891d",
   "metadata": {},
   "outputs": [
    {
     "data": {
      "text/plain": [
       "<module 'networkx' from 'C:\\\\Users\\\\marco\\\\anaconda3\\\\lib\\\\site-packages\\\\networkx\\\\__init__.py'>"
      ]
     },
     "execution_count": 7,
     "metadata": {},
     "output_type": "execute_result"
    }
   ],
   "source": [
    "degrees = [d for u, d in G.degree()]  \n",
    "nx"
   ]
  },
  {
   "cell_type": "code",
   "execution_count": 8,
   "id": "351ea260",
   "metadata": {},
   "outputs": [
    {
     "name": "stdout",
     "output_type": "stream",
     "text": [
      "Nodes: 4147\n",
      "Edges: 63400\n"
     ]
    }
   ],
   "source": [
    "# fitting the degree distribution of the RW\n",
    "# se da 'random_state_index is incorrect' usare:\n",
    "# pip install decorator==5.0.9\n",
    "degrees = [d for u, d in G.degree()]  \n",
    "cmodel = nx.configuration_model(degrees) \n",
    "print(\"Nodes:\", cmodel.number_of_nodes())\n",
    "print(\"Edges:\", cmodel.number_of_edges())"
   ]
  },
  {
   "cell_type": "code",
   "execution_count": 9,
   "id": "cd262a83",
   "metadata": {},
   "outputs": [],
   "source": [
    "nx.write_graphml(cmodel, path_graph+\"CM_Network.graphml\")"
   ]
  },
  {
   "cell_type": "markdown",
   "id": "f249373b",
   "metadata": {},
   "source": [
    "# 1 - Degree Distribution"
   ]
  },
  {
   "cell_type": "code",
   "execution_count": 10,
   "id": "49ebcabc",
   "metadata": {},
   "outputs": [
    {
     "data": {
      "image/png": "[encoded data removed]",
      "text/plain": [
       "<Figure size 432x288 with 1 Axes>"
      ]
     },
     "metadata": {
      "needs_background": "light"
     },
     "output_type": "display_data"
    }
   ],
   "source": [
    "degree_dist(cmodel, \"Configuration Model\", \"CM\")"
   ]
  },
  {
   "cell_type": "code",
   "execution_count": 11,
   "id": "8b77c32f",
   "metadata": {},
   "outputs": [
    {
     "name": "stdout",
     "output_type": "stream",
     "text": [
      "Calculating best minimal value for power law fit\n",
      "xmin progress: 00%\r",
      "xmin progress: 02%\r",
      "xmin progress: 04%\r",
      "xmin progress: 06%\r",
      "xmin progress: 08%\r",
      "xmin progress: 10%\r",
      "xmin progress: 12%\r",
      "xmin progress: 14%\r",
      "xmin progress: 16%\r",
      "xmin progress: 18%\r",
      "xmin progress: 20%\r",
      "xmin progress: 22%\r",
      "xmin progress: 24%\r",
      "xmin progress: 26%\r",
      "xmin progress: 28%\r",
      "xmin progress: 30%\r",
      "xmin progress: 32%\r",
      "xmin progress: 34%\r",
      "xmin progress: 36%\r",
      "xmin progress: 38%\r",
      "xmin progress: 40%\r",
      "xmin progress: 42%\r",
      "xmin progress: 44%\r",
      "xmin progress: 46%\r",
      "xmin progress: 48%\r",
      "xmin progress: 50%\r",
      "xmin progress: 52%\r",
      "xmin progress: 54%\r",
      "xmin progress: 56%\r",
      "xmin progress: 57%\r",
      "xmin progress: 60%\r",
      "xmin progress: 62%\r",
      "xmin progress: 64%\r",
      "xmin progress: 66%\r",
      "xmin progress: 68%\r",
      "xmin progress: 70%\r",
      "xmin progress: 72%\r",
      "xmin progress: 74%\r",
      "xmin progress: 76%\r",
      "xmin progress: 78%\r",
      "xmin progress: 80%\r",
      "xmin progress: 82%\r",
      "xmin progress: 84%\r",
      "xmin progress: 86%\r",
      "xmin progress: 88%\r",
      "xmin progress: 90%\r",
      "xmin progress: 92%\r",
      "xmin progress: 94%\r",
      "xmin progress: 96%\r",
      "xmin progress: 98%\r",
      "**** Degree Distribution for Configuration Model graph ****\n"
     ]
    },
    {
     "name": "stderr",
     "output_type": "stream",
     "text": [
      "C:\\Users\\marco\\Documents\\sna-project-2022_cosmo_d-arrigo_esposito\\2 - NetworkAnalysis\\net_analysis.py:40: UserWarning: Attempted to set non-positive left xlim on a log-scaled axis.\n",
      "Invalid limit will be ignored.\n",
      "  plt.xlim((min(degree), max(degree)))\n"
     ]
    },
    {
     "data": {
      "image/png": "[encoded data removed]",
      "text/plain": [
       "<Figure size 1152x432 with 3 Axes>"
      ]
     },
     "metadata": {
      "needs_background": "light"
     },
     "output_type": "display_data"
    },
    {
     "name": "stdout",
     "output_type": "stream",
     "text": [
      "alpha=2.833177447114602 sigma=0.06670758319924841\n"
     ]
    }
   ],
   "source": [
    "plot_dist(cmodel, \"Configuration Model\", \"CM\")"
   ]
  },
  {
   "cell_type": "code",
   "execution_count": 12,
   "id": "abe49eb4",
   "metadata": {},
   "outputs": [
    {
     "name": "stdout",
     "output_type": "stream",
     "text": [
      "***** Degree info for Configuration Model graph ***\n",
      "Maximum degree: (1901, 6)\n",
      "Minimum degree: (1, 333)\n"
     ]
    }
   ],
   "source": [
    "info_degree(cmodel , \"Configuration Model\")"
   ]
  },
  {
   "cell_type": "markdown",
   "id": "e4babddd",
   "metadata": {},
   "source": [
    "# 2 - Connected Components"
   ]
  },
  {
   "cell_type": "code",
   "execution_count": 13,
   "id": "d89be054",
   "metadata": {},
   "outputs": [
    {
     "name": "stdout",
     "output_type": "stream",
     "text": [
      "**** Connected components for Configuration Model graph ****\n",
      "Number of Connected Components for Configuration Model: 1\n",
      "\t component len = 4147\n"
     ]
    }
   ],
   "source": [
    "components = n_connected_components(cmodel , \"Configuration Model\")"
   ]
  },
  {
   "cell_type": "markdown",
   "id": "7be614e0",
   "metadata": {},
   "source": [
    "# 3 - Path Analysis"
   ]
  },
  {
   "cell_type": "code",
   "execution_count": 14,
   "id": "c7b5e0c3",
   "metadata": {},
   "outputs": [
    {
     "name": "stdout",
     "output_type": "stream",
     "text": [
      "***** Path analysis for Configuration Model graph\n",
      "Diameter for components 0 network Configuration Model: 6\n",
      "Average shortest path for components 0 network Configuration Model: 2.7269612135124386\n"
     ]
    }
   ],
   "source": [
    "path_analysis(cmodel , \"Configuration Model\", components)"
   ]
  },
  {
   "cell_type": "markdown",
   "id": "47d7ccb8",
   "metadata": {},
   "source": [
    "# 4 - Clustering Coefficient"
   ]
  },
  {
   "cell_type": "code",
   "execution_count": 15,
   "id": "983a7157",
   "metadata": {},
   "outputs": [],
   "source": [
    "# not implemented for multigraph"
   ]
  },
  {
   "cell_type": "markdown",
   "id": "274edb01",
   "metadata": {},
   "source": [
    "# 5 - Density Analysis"
   ]
  },
  {
   "cell_type": "code",
   "execution_count": 16,
   "id": "0eb24933",
   "metadata": {},
   "outputs": [
    {
     "name": "stdout",
     "output_type": "stream",
     "text": [
      "Density for Configuration Model graph: 0.0073748963414116365\n"
     ]
    }
   ],
   "source": [
    "density_analysis(cmodel , \"Configuration Model\")"
   ]
  }
 ],
 "metadata": {
  "kernelspec": {
   "display_name": "Python 3",
   "language": "python",
   "name": "python3"
  },
  "language_info": {
   "codemirror_mode": {
    "name": "ipython",
    "version": 3
   },
   "file_extension": ".py",
   "mimetype": "text/x-python",
   "name": "python",
   "nbconvert_exporter": "python",
   "pygments_lexer": "ipython3",
   "version": "3.8.8"
  }
 },
 "nbformat": 4,
 "nbformat_minor": 5
}
