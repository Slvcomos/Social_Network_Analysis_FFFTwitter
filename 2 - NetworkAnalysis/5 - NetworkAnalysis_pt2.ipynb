{
 "cells": [
  {
   "cell_type": "code",
   "execution_count": 1,
   "id": "7692e4a2",
   "metadata": {},
   "outputs": [],
   "source": [
    "import networkx as nx\n",
    "import numpy as np\n",
    "import pandas as pd\n",
    "import matplotlib.pyplot as plt\n",
    "from collections import Counter\n",
    "from operator import itemgetter\n",
    "import powerlaw\n",
    "from networkx.drawing.nx_agraph import graphviz_layout\n",
    "import pickle\n",
    "from statistics import mean, stdev\n",
    "import seaborn as sns\n",
    "import json"
   ]
  },
  {
   "cell_type": "code",
   "execution_count": 2,
   "id": "41d5a49e",
   "metadata": {},
   "outputs": [
    {
     "name": "stdout",
     "output_type": "stream",
     "text": [
      "Note: to be able to use all crisp methods, you need to install some additional packages:  {'leidenalg', 'graph_tool', 'wurlitzer', 'infomap', 'karateclub'}\n",
      "Note: to be able to use all overlapping methods, you need to install some additional packages:  {'karateclub', 'ASLPAw'}\n",
      "Note: to be able to use all bipartite methods, you need to install some additional packages:  {'wurlitzer', 'leidenalg', 'infomap'}\n"
     ]
    }
   ],
   "source": [
    "from cdlib import algorithms"
   ]
  },
  {
   "cell_type": "code",
   "execution_count": 3,
   "id": "90efaa52",
   "metadata": {},
   "outputs": [],
   "source": [
    "path_subgraph = \"../DataSet FFF/Graph_data/\""
   ]
  },
  {
   "cell_type": "code",
   "execution_count": 4,
   "id": "eb173dce",
   "metadata": {},
   "outputs": [],
   "source": [
    "def plot_centralities(first, name_f, second, name_s, third, name_t, n):\n",
    "\n",
    "    lista = [(k, v) for k, v in first.items()]\n",
    "    lista.sort(key=lambda x: x[1], reverse = True)\n",
    "    tops = lista[:n]\n",
    "    first_ = []\n",
    "    second_ = []\n",
    "    third_ = []\n",
    "    for i in tops:\n",
    "        first_.append(first[i[0]])\n",
    "        second_.append(second[i[0]])\n",
    "        third_.append(third[i[0]])\n",
    "        \n",
    "    tops = [i for i,j in tops]\n",
    "    tops = tops[::-1]\n",
    "    first_ = first_[::-1]\n",
    "    second_ = second_[::-1]\n",
    "    third_ = third_[::-1]\n",
    "    \n",
    "    fig = plt.figure(figsize = (25,8), dpi = 300)\n",
    "\n",
    "    fontsize = 17\n",
    "    plt.rcParams.update({'font.size': fontsize})\n",
    "    ax = fig.add_subplot(151)\n",
    "    plt.barh(tops,first_, color = \"#31A894\")\n",
    "    plt.grid(axis = 'both', alpha = .3)\n",
    "    plt.xlabel(name_f)\n",
    "\n",
    "    ax2 = fig.add_subplot(152)\n",
    "    plt.barh(tops,second_, color = \"#315FA8\")\n",
    "    plt.grid(axis = 'both', alpha = .3)\n",
    "    plt.setp(ax2.get_yticklabels(), visible = False)\n",
    "    plt.xlabel(name_s)\n",
    "\n",
    "    ax3 = fig.add_subplot(153)\n",
    "    plt.barh(tops,third_, color = \"#5D2FA5\")\n",
    "    plt.grid(axis = 'both', alpha = .3)\n",
    "    plt.setp(ax3.get_yticklabels(), visible = False)\n",
    "    plt.xlabel(name_t)\n",
    "    plt.show()"
   ]
  },
  {
   "cell_type": "code",
   "execution_count": 7,
   "id": "29f5663c",
   "metadata": {},
   "outputs": [],
   "source": [
    "path_graph = \"../DataSet FFF/Graph_data/\""
   ]
  },
  {
   "cell_type": "code",
   "execution_count": 8,
   "id": "91dd573a",
   "metadata": {},
   "outputs": [],
   "source": [
    "G = nx.read_graphml(path_graph+\"Real_Network.graphml\")"
   ]
  },
  {
   "cell_type": "code",
   "execution_count": 9,
   "id": "915100da",
   "metadata": {},
   "outputs": [],
   "source": [
    "ba_G = nx.read_graphml(path_graph+\"BA_Network.graphml\")\n",
    "er_G = nx.read_graphml(path_graph+\"ER_Network.graphml\")\n",
    "ws_G = nx.read_graphml(path_graph+\"WS_Network.graphml\")\n",
    "cm_G = nx.read_graphml(path_graph+\"CM_Network.graphml\")"
   ]
  },
  {
   "cell_type": "code",
   "execution_count": 10,
   "id": "23845827",
   "metadata": {},
   "outputs": [],
   "source": [
    "models = {\n",
    "    \"Real Network\": G,\n",
    "    \"Barabasi Albert\": ba_G,\n",
    "    \"Erdos Renyi\": er_G,\n",
    "    \"Watts Strogatz\": ws_G,\n",
    "    \"Configuration Model\": cm_G\n",
    "}"
   ]
  },
  {
   "cell_type": "markdown",
   "id": "1cddb65e",
   "metadata": {},
   "source": [
    "# 1 - Degree Centrality"
   ]
  },
  {
   "cell_type": "code",
   "execution_count": 11,
   "id": "6f48583f",
   "metadata": {},
   "outputs": [],
   "source": [
    "degree_centrality = nx.degree_centrality(G)"
   ]
  },
  {
   "cell_type": "code",
   "execution_count": 13,
   "id": "2e930efe",
   "metadata": {},
   "outputs": [],
   "source": [
    "new_centrality_nodes = [k for k, v in sorted(degree_centrality.items(), key=lambda item: item[1], reverse = True)]\n",
    "new_df = pd.DataFrame({\"Id\": new_centrality_nodes})\n",
    "new_df.to_csv(\"../DataSet FFF/centrality_degree_nodes.csv\", index=False)"
   ]
  },
  {
   "cell_type": "markdown",
   "id": "bccd9f07",
   "metadata": {},
   "source": [
    "# 2 - Connectivity Based Centrality"
   ]
  },
  {
   "cell_type": "code",
   "execution_count": 14,
   "id": "4b429d24",
   "metadata": {},
   "outputs": [],
   "source": [
    "eigenvector_centrality = nx.eigenvector_centrality(G, weight='Count',  max_iter=1000)"
   ]
  },
  {
   "cell_type": "markdown",
   "id": "a7a2e4da",
   "metadata": {},
   "source": [
    "# 3 - PageRank centrality"
   ]
  },
  {
   "cell_type": "code",
   "execution_count": 15,
   "id": "871b43c3",
   "metadata": {},
   "outputs": [],
   "source": [
    "pagerank_centrality = nx.pagerank(G, weight='Count', max_iter=1000)"
   ]
  },
  {
   "cell_type": "code",
   "execution_count": 16,
   "id": "eb21aba2",
   "metadata": {},
   "outputs": [],
   "source": [
    "nx.pagerank??"
   ]
  },
  {
   "cell_type": "markdown",
   "id": "1efe7c7a",
   "metadata": {},
   "source": [
    "# 4 - Geometric Centrality"
   ]
  },
  {
   "cell_type": "code",
   "execution_count": 17,
   "id": "822eda6b",
   "metadata": {},
   "outputs": [],
   "source": [
    "closeness_centrality = nx.closeness_centrality(G)"
   ]
  },
  {
   "cell_type": "code",
   "execution_count": 18,
   "id": "2dcbc7a8",
   "metadata": {},
   "outputs": [
    {
     "ename": "KeyboardInterrupt",
     "evalue": "",
     "output_type": "error",
     "traceback": [
      "\u001b[1;31m---------------------------------------------------------------------------\u001b[0m",
      "\u001b[1;31mKeyboardInterrupt\u001b[0m                         Traceback (most recent call last)",
      "\u001b[1;32m<ipython-input-18-1c7571c04def>\u001b[0m in \u001b[0;36m<module>\u001b[1;34m\u001b[0m\n\u001b[1;32m----> 1\u001b[1;33m \u001b[0mharmonic_centrality\u001b[0m \u001b[1;33m=\u001b[0m \u001b[0mnx\u001b[0m\u001b[1;33m.\u001b[0m\u001b[0mharmonic_centrality\u001b[0m\u001b[1;33m(\u001b[0m\u001b[0mG\u001b[0m\u001b[1;33m)\u001b[0m\u001b[1;33m\u001b[0m\u001b[1;33m\u001b[0m\u001b[0m\n\u001b[0m",
      "\u001b[1;32m~\\anaconda3\\lib\\site-packages\\networkx\\algorithms\\centrality\\harmonic.py\u001b[0m in \u001b[0;36mharmonic_centrality\u001b[1;34m(G, nbunch, distance)\u001b[0m\n\u001b[0;32m     58\u001b[0m         \u001b[0mG\u001b[0m \u001b[1;33m=\u001b[0m \u001b[0mG\u001b[0m\u001b[1;33m.\u001b[0m\u001b[0mreverse\u001b[0m\u001b[1;33m(\u001b[0m\u001b[1;33m)\u001b[0m\u001b[1;33m\u001b[0m\u001b[1;33m\u001b[0m\u001b[0m\n\u001b[0;32m     59\u001b[0m     \u001b[0mspl\u001b[0m \u001b[1;33m=\u001b[0m \u001b[0mpartial\u001b[0m\u001b[1;33m(\u001b[0m\u001b[0mnx\u001b[0m\u001b[1;33m.\u001b[0m\u001b[0mshortest_path_length\u001b[0m\u001b[1;33m,\u001b[0m \u001b[0mG\u001b[0m\u001b[1;33m,\u001b[0m \u001b[0mweight\u001b[0m\u001b[1;33m=\u001b[0m\u001b[0mdistance\u001b[0m\u001b[1;33m)\u001b[0m\u001b[1;33m\u001b[0m\u001b[1;33m\u001b[0m\u001b[0m\n\u001b[1;32m---> 60\u001b[1;33m     return {\n\u001b[0m\u001b[0;32m     61\u001b[0m         \u001b[0mu\u001b[0m\u001b[1;33m:\u001b[0m \u001b[0msum\u001b[0m\u001b[1;33m(\u001b[0m\u001b[1;36m1\u001b[0m \u001b[1;33m/\u001b[0m \u001b[0md\u001b[0m \u001b[1;32mif\u001b[0m \u001b[0md\u001b[0m \u001b[1;33m>\u001b[0m \u001b[1;36m0\u001b[0m \u001b[1;32melse\u001b[0m \u001b[1;36m0\u001b[0m \u001b[1;32mfor\u001b[0m \u001b[0mv\u001b[0m\u001b[1;33m,\u001b[0m \u001b[0md\u001b[0m \u001b[1;32min\u001b[0m \u001b[0mspl\u001b[0m\u001b[1;33m(\u001b[0m\u001b[0msource\u001b[0m\u001b[1;33m=\u001b[0m\u001b[0mu\u001b[0m\u001b[1;33m)\u001b[0m\u001b[1;33m.\u001b[0m\u001b[0mitems\u001b[0m\u001b[1;33m(\u001b[0m\u001b[1;33m)\u001b[0m\u001b[1;33m)\u001b[0m\u001b[1;33m\u001b[0m\u001b[1;33m\u001b[0m\u001b[0m\n\u001b[0;32m     62\u001b[0m         \u001b[1;32mfor\u001b[0m \u001b[0mu\u001b[0m \u001b[1;32min\u001b[0m \u001b[0mG\u001b[0m\u001b[1;33m.\u001b[0m\u001b[0mnbunch_iter\u001b[0m\u001b[1;33m(\u001b[0m\u001b[0mnbunch\u001b[0m\u001b[1;33m)\u001b[0m\u001b[1;33m\u001b[0m\u001b[1;33m\u001b[0m\u001b[0m\n",
      "\u001b[1;32m~\\anaconda3\\lib\\site-packages\\networkx\\algorithms\\centrality\\harmonic.py\u001b[0m in \u001b[0;36m<dictcomp>\u001b[1;34m(.0)\u001b[0m\n\u001b[0;32m     59\u001b[0m     \u001b[0mspl\u001b[0m \u001b[1;33m=\u001b[0m \u001b[0mpartial\u001b[0m\u001b[1;33m(\u001b[0m\u001b[0mnx\u001b[0m\u001b[1;33m.\u001b[0m\u001b[0mshortest_path_length\u001b[0m\u001b[1;33m,\u001b[0m \u001b[0mG\u001b[0m\u001b[1;33m,\u001b[0m \u001b[0mweight\u001b[0m\u001b[1;33m=\u001b[0m\u001b[0mdistance\u001b[0m\u001b[1;33m)\u001b[0m\u001b[1;33m\u001b[0m\u001b[1;33m\u001b[0m\u001b[0m\n\u001b[0;32m     60\u001b[0m     return {\n\u001b[1;32m---> 61\u001b[1;33m         \u001b[0mu\u001b[0m\u001b[1;33m:\u001b[0m \u001b[0msum\u001b[0m\u001b[1;33m(\u001b[0m\u001b[1;36m1\u001b[0m \u001b[1;33m/\u001b[0m \u001b[0md\u001b[0m \u001b[1;32mif\u001b[0m \u001b[0md\u001b[0m \u001b[1;33m>\u001b[0m \u001b[1;36m0\u001b[0m \u001b[1;32melse\u001b[0m \u001b[1;36m0\u001b[0m \u001b[1;32mfor\u001b[0m \u001b[0mv\u001b[0m\u001b[1;33m,\u001b[0m \u001b[0md\u001b[0m \u001b[1;32min\u001b[0m \u001b[0mspl\u001b[0m\u001b[1;33m(\u001b[0m\u001b[0msource\u001b[0m\u001b[1;33m=\u001b[0m\u001b[0mu\u001b[0m\u001b[1;33m)\u001b[0m\u001b[1;33m.\u001b[0m\u001b[0mitems\u001b[0m\u001b[1;33m(\u001b[0m\u001b[1;33m)\u001b[0m\u001b[1;33m)\u001b[0m\u001b[1;33m\u001b[0m\u001b[1;33m\u001b[0m\u001b[0m\n\u001b[0m\u001b[0;32m     62\u001b[0m         \u001b[1;32mfor\u001b[0m \u001b[0mu\u001b[0m \u001b[1;32min\u001b[0m \u001b[0mG\u001b[0m\u001b[1;33m.\u001b[0m\u001b[0mnbunch_iter\u001b[0m\u001b[1;33m(\u001b[0m\u001b[0mnbunch\u001b[0m\u001b[1;33m)\u001b[0m\u001b[1;33m\u001b[0m\u001b[1;33m\u001b[0m\u001b[0m\n\u001b[0;32m     63\u001b[0m     }\n",
      "\u001b[1;32m~\\anaconda3\\lib\\site-packages\\networkx\\algorithms\\shortest_paths\\generic.py\u001b[0m in \u001b[0;36mshortest_path_length\u001b[1;34m(G, source, target, weight, method)\u001b[0m\n\u001b[0;32m    285\u001b[0m             \u001b[1;31m# Find paths to all nodes accessible from the source.\u001b[0m\u001b[1;33m\u001b[0m\u001b[1;33m\u001b[0m\u001b[1;33m\u001b[0m\u001b[0m\n\u001b[0;32m    286\u001b[0m             \u001b[1;32mif\u001b[0m \u001b[0mmethod\u001b[0m \u001b[1;33m==\u001b[0m \u001b[1;34m\"unweighted\"\u001b[0m\u001b[1;33m:\u001b[0m\u001b[1;33m\u001b[0m\u001b[1;33m\u001b[0m\u001b[0m\n\u001b[1;32m--> 287\u001b[1;33m                 \u001b[0mpaths\u001b[0m \u001b[1;33m=\u001b[0m \u001b[0mnx\u001b[0m\u001b[1;33m.\u001b[0m\u001b[0msingle_source_shortest_path_length\u001b[0m\u001b[1;33m(\u001b[0m\u001b[0mG\u001b[0m\u001b[1;33m,\u001b[0m \u001b[0msource\u001b[0m\u001b[1;33m)\u001b[0m\u001b[1;33m\u001b[0m\u001b[1;33m\u001b[0m\u001b[0m\n\u001b[0m\u001b[0;32m    288\u001b[0m             \u001b[1;32melif\u001b[0m \u001b[0mmethod\u001b[0m \u001b[1;33m==\u001b[0m \u001b[1;34m\"dijkstra\"\u001b[0m\u001b[1;33m:\u001b[0m\u001b[1;33m\u001b[0m\u001b[1;33m\u001b[0m\u001b[0m\n\u001b[0;32m    289\u001b[0m                 \u001b[0mpath_length\u001b[0m \u001b[1;33m=\u001b[0m \u001b[0mnx\u001b[0m\u001b[1;33m.\u001b[0m\u001b[0msingle_source_dijkstra_path_length\u001b[0m\u001b[1;33m\u001b[0m\u001b[1;33m\u001b[0m\u001b[0m\n",
      "\u001b[1;32m~\\anaconda3\\lib\\site-packages\\networkx\\algorithms\\shortest_paths\\unweighted.py\u001b[0m in \u001b[0;36msingle_source_shortest_path_length\u001b[1;34m(G, source, cutoff)\u001b[0m\n\u001b[0;32m     57\u001b[0m         \u001b[0mcutoff\u001b[0m \u001b[1;33m=\u001b[0m \u001b[0mfloat\u001b[0m\u001b[1;33m(\u001b[0m\u001b[1;34m\"inf\"\u001b[0m\u001b[1;33m)\u001b[0m\u001b[1;33m\u001b[0m\u001b[1;33m\u001b[0m\u001b[0m\n\u001b[0;32m     58\u001b[0m     \u001b[0mnextlevel\u001b[0m \u001b[1;33m=\u001b[0m \u001b[1;33m{\u001b[0m\u001b[0msource\u001b[0m\u001b[1;33m:\u001b[0m \u001b[1;36m1\u001b[0m\u001b[1;33m}\u001b[0m\u001b[1;33m\u001b[0m\u001b[1;33m\u001b[0m\u001b[0m\n\u001b[1;32m---> 59\u001b[1;33m     \u001b[1;32mreturn\u001b[0m \u001b[0mdict\u001b[0m\u001b[1;33m(\u001b[0m\u001b[0m_single_shortest_path_length\u001b[0m\u001b[1;33m(\u001b[0m\u001b[0mG\u001b[0m\u001b[1;33m.\u001b[0m\u001b[0madj\u001b[0m\u001b[1;33m,\u001b[0m \u001b[0mnextlevel\u001b[0m\u001b[1;33m,\u001b[0m \u001b[0mcutoff\u001b[0m\u001b[1;33m)\u001b[0m\u001b[1;33m)\u001b[0m\u001b[1;33m\u001b[0m\u001b[1;33m\u001b[0m\u001b[0m\n\u001b[0m\u001b[0;32m     60\u001b[0m \u001b[1;33m\u001b[0m\u001b[0m\n\u001b[0;32m     61\u001b[0m \u001b[1;33m\u001b[0m\u001b[0m\n",
      "\u001b[1;32m~\\anaconda3\\lib\\site-packages\\networkx\\algorithms\\shortest_paths\\unweighted.py\u001b[0m in \u001b[0;36m_single_shortest_path_length\u001b[1;34m(adj, firstlevel, cutoff)\u001b[0m\n\u001b[0;32m     89\u001b[0m             \u001b[1;32mreturn\u001b[0m\u001b[1;33m\u001b[0m\u001b[1;33m\u001b[0m\u001b[0m\n\u001b[0;32m     90\u001b[0m         \u001b[1;32mfor\u001b[0m \u001b[0mv\u001b[0m \u001b[1;32min\u001b[0m \u001b[0mfound\u001b[0m\u001b[1;33m:\u001b[0m\u001b[1;33m\u001b[0m\u001b[1;33m\u001b[0m\u001b[0m\n\u001b[1;32m---> 91\u001b[1;33m             \u001b[0mnextlevel\u001b[0m\u001b[1;33m.\u001b[0m\u001b[0mupdate\u001b[0m\u001b[1;33m(\u001b[0m\u001b[0madj\u001b[0m\u001b[1;33m[\u001b[0m\u001b[0mv\u001b[0m\u001b[1;33m]\u001b[0m\u001b[1;33m)\u001b[0m\u001b[1;33m\u001b[0m\u001b[1;33m\u001b[0m\u001b[0m\n\u001b[0m\u001b[0;32m     92\u001b[0m         \u001b[0mlevel\u001b[0m \u001b[1;33m+=\u001b[0m \u001b[1;36m1\u001b[0m\u001b[1;33m\u001b[0m\u001b[1;33m\u001b[0m\u001b[0m\n\u001b[0;32m     93\u001b[0m     \u001b[1;32mdel\u001b[0m \u001b[0mseen\u001b[0m\u001b[1;33m\u001b[0m\u001b[1;33m\u001b[0m\u001b[0m\n",
      "\u001b[1;32m~\\anaconda3\\lib\\site-packages\\networkx\\classes\\coreviews.py\u001b[0m in \u001b[0;36m__getitem__\u001b[1;34m(self, name)\u001b[0m\n\u001b[0;32m     76\u001b[0m     \u001b[0m__slots__\u001b[0m \u001b[1;33m=\u001b[0m \u001b[1;33m(\u001b[0m\u001b[1;33m)\u001b[0m  \u001b[1;31m# Still uses AtlasView slots names _atlas\u001b[0m\u001b[1;33m\u001b[0m\u001b[1;33m\u001b[0m\u001b[0m\n\u001b[0;32m     77\u001b[0m \u001b[1;33m\u001b[0m\u001b[0m\n\u001b[1;32m---> 78\u001b[1;33m     \u001b[1;32mdef\u001b[0m \u001b[0m__getitem__\u001b[0m\u001b[1;33m(\u001b[0m\u001b[0mself\u001b[0m\u001b[1;33m,\u001b[0m \u001b[0mname\u001b[0m\u001b[1;33m)\u001b[0m\u001b[1;33m:\u001b[0m\u001b[1;33m\u001b[0m\u001b[1;33m\u001b[0m\u001b[0m\n\u001b[0m\u001b[0;32m     79\u001b[0m         \u001b[1;32mreturn\u001b[0m \u001b[0mAtlasView\u001b[0m\u001b[1;33m(\u001b[0m\u001b[0mself\u001b[0m\u001b[1;33m.\u001b[0m\u001b[0m_atlas\u001b[0m\u001b[1;33m[\u001b[0m\u001b[0mname\u001b[0m\u001b[1;33m]\u001b[0m\u001b[1;33m)\u001b[0m\u001b[1;33m\u001b[0m\u001b[1;33m\u001b[0m\u001b[0m\n\u001b[0;32m     80\u001b[0m \u001b[1;33m\u001b[0m\u001b[0m\n",
      "\u001b[1;31mKeyboardInterrupt\u001b[0m: "
     ]
    }
   ],
   "source": [
    "harmonic_centrality = nx.harmonic_centrality(G)"
   ]
  },
  {
   "cell_type": "code",
   "execution_count": null,
   "id": "14bd788c",
   "metadata": {},
   "outputs": [],
   "source": [
    "betweenness_centrality = nx.betweenness_centrality(G, weight='Count')"
   ]
  },
  {
   "cell_type": "markdown",
   "id": "92cc5ec3",
   "metadata": {},
   "source": [
    "Plot"
   ]
  },
  {
   "cell_type": "code",
   "execution_count": null,
   "id": "c6cb2537",
   "metadata": {},
   "outputs": [],
   "source": [
    "plot_centralities(degree_centrality, \"Degree\", eigenvector_centrality, \"Eigenvector\", pagerank_centrality, \"PageRank\", 15)"
   ]
  },
  {
   "cell_type": "code",
   "execution_count": null,
   "id": "4a0f48ea",
   "metadata": {},
   "outputs": [],
   "source": [
    "plot_centralities(closeness_centrality, \"Closeness\", betweenness_centrality, \"Betweeneess\", harmonic_centrality, \"Harmonic\", 15)"
   ]
  },
  {
   "cell_type": "code",
   "execution_count": null,
   "id": "60d28a8c",
   "metadata": {},
   "outputs": [],
   "source": [
    "lista = [(k, v) for k, v in degree_centrality.items()]\n",
    "lista.sort(key=lambda x: x[1], reverse = True)\n",
    "tops = lista[:20]\n",
    "tops = [i for i,j in tops]\n",
    "H = G.subgraph(tops)\n",
    "nx.write_gexf(H, path_subgraph+\"centrality_subgraph.gexf\")"
   ]
  },
  {
   "cell_type": "code",
   "execution_count": null,
   "id": "c5531b7a",
   "metadata": {},
   "outputs": [],
   "source": []
  },
  {
   "cell_type": "markdown",
   "id": "c898a9da",
   "metadata": {},
   "source": [
    "# Storing central nodes"
   ]
  },
  {
   "cell_type": "code",
   "execution_count": null,
   "id": "591dc6c3",
   "metadata": {},
   "outputs": [],
   "source": [
    "betweenness_centrality"
   ]
  },
  {
   "cell_type": "code",
   "execution_count": null,
   "id": "7eb50bd7",
   "metadata": {},
   "outputs": [],
   "source": [
    "new_centrality = {k: v for k, v in sorted(betweenness_centrality.items(), key=lambda item: item[1], reverse = True)}\n",
    "new_centrality_nodes = [k for k, v in sorted(betweenness_centrality.items(), key=lambda item: item[1], reverse = True)]"
   ]
  },
  {
   "cell_type": "markdown",
   "id": "ee39d96c",
   "metadata": {},
   "source": [
    "# 5 - Assortativity"
   ]
  },
  {
   "cell_type": "markdown",
   "id": "a2a72290",
   "metadata": {},
   "source": [
    "Weighted graph"
   ]
  },
  {
   "cell_type": "code",
   "execution_count": null,
   "id": "c038cd8b",
   "metadata": {},
   "outputs": [],
   "source": [
    "d_weighted = nx.degree_assortativity_coefficient(G, weight = \"Count\")"
   ]
  },
  {
   "cell_type": "code",
   "execution_count": null,
   "id": "57a1af55",
   "metadata": {},
   "outputs": [],
   "source": [
    "d_weighted"
   ]
  },
  {
   "cell_type": "code",
   "execution_count": null,
   "id": "4b990103",
   "metadata": {},
   "outputs": [],
   "source": [
    "# Calcolo avg nearest neigh\n",
    "## Compute the average degree connectivity of graph.\n",
    "\"\"\"\n",
    "The average degree connectivity is the average nearest neighbor degree of\n",
    "    nodes with degree k. For weighted graphs, an analogous measure can\n",
    "    be computed using the weighted average neighbors degree defined in\n",
    "    [1]_, for a node `i`, as\n",
    "\"\"\"\n",
    "avg=nx.k_nearest_neighbors(G, weight = \"Count\")\n",
    "y=list(avg.values())\n",
    "\n",
    "# Calcolo vettore dei gradi\n",
    "k=G.degree()\n",
    "x=[]\n",
    "for item in k:\n",
    "    x.append(item[1])\n",
    "    \n",
    "output = []\n",
    "for b in x:\n",
    "       if b not in output:\n",
    "            output.append(b)\n",
    "\n",
    "# Plot\n",
    "plt.plot(output,y,'b.')   \n",
    "plt.xlabel('Degree k')\n",
    "plt.ylabel('KNN(k)')"
   ]
  },
  {
   "cell_type": "code",
   "execution_count": null,
   "id": "148c5f14",
   "metadata": {},
   "outputs": [],
   "source": [
    "d=nx.degree_assortativity_coefficient(G)"
   ]
  },
  {
   "cell_type": "code",
   "execution_count": null,
   "id": "1771384e",
   "metadata": {},
   "outputs": [],
   "source": [
    "d"
   ]
  },
  {
   "cell_type": "code",
   "execution_count": null,
   "id": "0956821f",
   "metadata": {},
   "outputs": [],
   "source": [
    "# Calcolo avg nearest neigh\n",
    "avg=nx.k_nearest_neighbors(G)\n",
    "y=list(avg.values())\n",
    "\n",
    "# Calcolo vettore dei gradi\n",
    "k=G.degree()\n",
    "x=[]\n",
    "for item in k:\n",
    "    x.append(item[1])\n",
    "    \n",
    "output = []\n",
    "for b in x:\n",
    "       if b not in output:\n",
    "            output.append(b)\n",
    "\n",
    "# Plot\n",
    "plt.plot(output,y,'b.')   \n",
    "plt.xlabel('Degree k')\n",
    "plt.ylabel('KNN(k)')"
   ]
  },
  {
   "cell_type": "code",
   "execution_count": null,
   "id": "9511070a",
   "metadata": {},
   "outputs": [],
   "source": []
  }
 ],
 "metadata": {
  "kernelspec": {
   "display_name": "Python 3 (ipykernel)",
   "language": "python",
   "name": "python3"
  },
  "language_info": {
   "codemirror_mode": {
    "name": "ipython",
    "version": 3
   },
   "file_extension": ".py",
   "mimetype": "text/x-python",
   "name": "python",
   "nbconvert_exporter": "python",
   "pygments_lexer": "ipython3",
   "version": "3.9.7"
  }
 },
 "nbformat": 4,
 "nbformat_minor": 5
}
