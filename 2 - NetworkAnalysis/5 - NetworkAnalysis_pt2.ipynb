{
 "cells": [
  {
   "cell_type": "code",
   "execution_count": null,
   "id": "7692e4a2",
   "metadata": {},
   "outputs": [],
   "source": [
    "import networkx as nx\n",
    "import numpy as np\n",
    "import pandas as pd\n",
    "import matplotlib.pyplot as plt\n",
    "from collections import Counter\n",
    "from operator import itemgetter\n",
    "import powerlaw\n",
    "from networkx.drawing.nx_agraph import graphviz_layout\n",
    "import pickle\n",
    "from statistics import mean, stdev\n",
    "import seaborn as sns\n",
    "import json"
   ]
  },
  {
   "cell_type": "code",
   "execution_count": null,
   "id": "41d5a49e",
   "metadata": {},
   "outputs": [],
   "source": [
    "from cdlib import algorithms"
   ]
  },
  {
   "cell_type": "code",
   "execution_count": null,
   "id": "90efaa52",
   "metadata": {},
   "outputs": [],
   "source": [
    "path_subgraph = \"../DataSet SuperUsers/2 - NetworkAnalysis/Graph_data/\""
   ]
  },
  {
   "cell_type": "code",
   "execution_count": null,
   "id": "eb173dce",
   "metadata": {},
   "outputs": [],
   "source": [
    "def plot_centralities(first, name_f, second, name_s, third, name_t, n):\n",
    "\n",
    "    lista = [(k, v) for k, v in first.items()]\n",
    "    lista.sort(key=lambda x: x[1], reverse = True)\n",
    "    tops = lista[:n]\n",
    "    first_ = []\n",
    "    second_ = []\n",
    "    third_ = []\n",
    "    for i in tops:\n",
    "        first_.append(first[i[0]])\n",
    "        second_.append(second[i[0]])\n",
    "        third_.append(third[i[0]])\n",
    "        \n",
    "    tops = [i for i,j in tops]\n",
    "    tops = tops[::-1]\n",
    "    first_ = first_[::-1]\n",
    "    second_ = second_[::-1]\n",
    "    third_ = third_[::-1]\n",
    "    \n",
    "    fig = plt.figure(figsize = (25,8), dpi = 300)\n",
    "\n",
    "    fontsize = 17\n",
    "    plt.rcParams.update({'font.size': fontsize})\n",
    "    ax = fig.add_subplot(151)\n",
    "    plt.barh(tops,first_, color = \"#31A894\")\n",
    "    plt.grid(axis = 'both', alpha = .3)\n",
    "    plt.xlabel(name_f)\n",
    "\n",
    "    ax2 = fig.add_subplot(152)\n",
    "    plt.barh(tops,second_, color = \"#315FA8\")\n",
    "    plt.grid(axis = 'both', alpha = .3)\n",
    "    plt.setp(ax2.get_yticklabels(), visible = False)\n",
    "    plt.xlabel(name_s)\n",
    "\n",
    "    ax3 = fig.add_subplot(153)\n",
    "    plt.barh(tops,third_, color = \"#5D2FA5\")\n",
    "    plt.grid(axis = 'both', alpha = .3)\n",
    "    plt.setp(ax3.get_yticklabels(), visible = False)\n",
    "    plt.xlabel(name_t)\n",
    "    plt.show()"
   ]
  },
  {
   "cell_type": "code",
   "execution_count": null,
   "id": "29f5663c",
   "metadata": {},
   "outputs": [],
   "source": [
    "path_graph = \"../DataSet SuperUsers/2 - NetworkAnalysis/Graph_data/\""
   ]
  },
  {
   "cell_type": "code",
   "execution_count": null,
   "id": "91dd573a",
   "metadata": {},
   "outputs": [],
   "source": [
    "G = nx.read_graphml(path_graph+\"Real_Network.graphml\")"
   ]
  },
  {
   "cell_type": "code",
   "execution_count": null,
   "id": "915100da",
   "metadata": {},
   "outputs": [],
   "source": [
    "ba_G = nx.read_graphml(path_graph+\"BA_Network.graphml\")\n",
    "er_G = nx.read_graphml(path_graph+\"ER_Network.graphml\")\n",
    "ws_G = nx.read_graphml(path_graph+\"WS_Network.graphml\")\n",
    "cm_G = nx.read_graphml(path_graph+\"CM_Network.graphml\")"
   ]
  },
  {
   "cell_type": "code",
   "execution_count": null,
   "id": "23845827",
   "metadata": {},
   "outputs": [],
   "source": [
    "models = {\n",
    "    \"Real Network\": G,\n",
    "    \"Barabasi Albert\": ba_G,\n",
    "    \"Erdos Renyi\": er_G,\n",
    "    \"Watts Strogatz\": ws_G,\n",
    "    \"Configuration Model\": cm_G\n",
    "}"
   ]
  },
  {
   "cell_type": "markdown",
   "id": "1cddb65e",
   "metadata": {},
   "source": [
    "# 1 - Degree Centrality"
   ]
  },
  {
   "cell_type": "code",
   "execution_count": null,
   "id": "6f48583f",
   "metadata": {},
   "outputs": [],
   "source": [
    "degree_centrality = nx.degree_centrality(G)"
   ]
  },
  {
   "cell_type": "code",
   "execution_count": null,
   "id": "2e930efe",
   "metadata": {},
   "outputs": [],
   "source": [
    "new_centrality_nodes = [k for k, v in sorted(degree_centrality.items(), key=lambda item: item[1], reverse = True)]\n",
    "new_df = pd.DataFrame({\"Id\": new_centrality_nodes})\n",
    "new_df.to_csv(\"../DataSet SuperUsers/2 - NetworkAnalysis/centrality_degree_nodes.csv\", index=False)"
   ]
  },
  {
   "cell_type": "markdown",
   "id": "bccd9f07",
   "metadata": {},
   "source": [
    "# 2 - Connectivity Based Centrality"
   ]
  },
  {
   "cell_type": "code",
   "execution_count": null,
   "id": "4b429d24",
   "metadata": {},
   "outputs": [],
   "source": [
    "eigenvector_centrality = nx.eigenvector_centrality(G, weight='Count',  max_iter=1000)"
   ]
  },
  {
   "cell_type": "markdown",
   "id": "a7a2e4da",
   "metadata": {},
   "source": [
    "# 3 - PageRank centrality"
   ]
  },
  {
   "cell_type": "code",
   "execution_count": null,
   "id": "871b43c3",
   "metadata": {},
   "outputs": [],
   "source": [
    "pagerank_centrality = nx.pagerank(G, weight='Count', max_iter=1000)"
   ]
  },
  {
   "cell_type": "code",
   "execution_count": null,
   "id": "eb21aba2",
   "metadata": {},
   "outputs": [],
   "source": [
    "nx.pagerank??"
   ]
  },
  {
   "cell_type": "markdown",
   "id": "1efe7c7a",
   "metadata": {},
   "source": [
    "# 4 - Geometric Centrality"
   ]
  },
  {
   "cell_type": "code",
   "execution_count": null,
   "id": "822eda6b",
   "metadata": {},
   "outputs": [],
   "source": [
    "closeness_centrality = nx.closeness_centrality(G)"
   ]
  },
  {
   "cell_type": "code",
   "execution_count": null,
   "id": "2dcbc7a8",
   "metadata": {},
   "outputs": [],
   "source": [
    "harmonic_centrality = nx.harmonic_centrality(G)"
   ]
  },
  {
   "cell_type": "code",
   "execution_count": null,
   "id": "14bd788c",
   "metadata": {},
   "outputs": [],
   "source": [
    "betweenness_centrality = nx.betweenness_centrality(G, weight='Count')"
   ]
  },
  {
   "cell_type": "markdown",
   "id": "92cc5ec3",
   "metadata": {},
   "source": [
    "Plot"
   ]
  },
  {
   "cell_type": "code",
   "execution_count": null,
   "id": "c6cb2537",
   "metadata": {},
   "outputs": [],
   "source": [
    "plot_centralities(degree_centrality, \"Degree\", eigenvector_centrality, \"Eigenvector\", pagerank_centrality, \"PageRank\", 15)"
   ]
  },
  {
   "cell_type": "code",
   "execution_count": null,
   "id": "4a0f48ea",
   "metadata": {},
   "outputs": [],
   "source": [
    "plot_centralities(closeness_centrality, \"Closeness\", betweenness_centrality, \"Betweeneess\", harmonic_centrality, \"Harmonic\", 15)"
   ]
  },
  {
   "cell_type": "code",
   "execution_count": null,
   "id": "60d28a8c",
   "metadata": {},
   "outputs": [],
   "source": [
    "lista = [(k, v) for k, v in degree_centrality.items()]\n",
    "lista.sort(key=lambda x: x[1], reverse = True)\n",
    "tops = lista[:20]\n",
    "tops = [i for i,j in tops]\n",
    "H = G.subgraph(tops)\n",
    "nx.write_gexf(H, path_subgraph+\"centrality_subgraph.gexf\")"
   ]
  },
  {
   "cell_type": "code",
   "execution_count": null,
   "id": "c5531b7a",
   "metadata": {},
   "outputs": [],
   "source": []
  },
  {
   "cell_type": "markdown",
   "id": "c898a9da",
   "metadata": {},
   "source": [
    "# Storing central nodes"
   ]
  },
  {
   "cell_type": "code",
   "execution_count": null,
   "id": "591dc6c3",
   "metadata": {},
   "outputs": [],
   "source": [
    "betweenness_centrality"
   ]
  },
  {
   "cell_type": "code",
   "execution_count": null,
   "id": "7eb50bd7",
   "metadata": {},
   "outputs": [],
   "source": [
    "new_centrality = {k: v for k, v in sorted(betweenness_centrality.items(), key=lambda item: item[1], reverse = True)}\n",
    "new_centrality_nodes = [k for k, v in sorted(betweenness_centrality.items(), key=lambda item: item[1], reverse = True)]"
   ]
  },
  {
   "cell_type": "code",
   "execution_count": null,
   "id": "9a24e525",
   "metadata": {},
   "outputs": [],
   "source": []
  },
  {
   "cell_type": "markdown",
   "id": "ee39d96c",
   "metadata": {},
   "source": [
    "# 5 - Assortativity"
   ]
  },
  {
   "cell_type": "markdown",
   "id": "a2a72290",
   "metadata": {},
   "source": [
    "Weighted graph"
   ]
  },
  {
   "cell_type": "code",
   "execution_count": null,
   "id": "c038cd8b",
   "metadata": {},
   "outputs": [],
   "source": [
    "d_weighted = nx.degree_assortativity_coefficient(G, weight = \"Count\")"
   ]
  },
  {
   "cell_type": "code",
   "execution_count": null,
   "id": "57a1af55",
   "metadata": {},
   "outputs": [],
   "source": [
    "d_weighted"
   ]
  },
  {
   "cell_type": "code",
   "execution_count": null,
   "id": "4b990103",
   "metadata": {},
   "outputs": [],
   "source": [
    "# Calcolo avg nearest neigh\n",
    "## Compute the average degree connectivity of graph.\n",
    "\"\"\"\n",
    "The average degree connectivity is the average nearest neighbor degree of\n",
    "    nodes with degree k. For weighted graphs, an analogous measure can\n",
    "    be computed using the weighted average neighbors degree defined in\n",
    "    [1]_, for a node `i`, as\n",
    "\"\"\"\n",
    "avg=nx.k_nearest_neighbors(G, weight = \"Count\")\n",
    "y=list(avg.values())\n",
    "\n",
    "# Calcolo vettore dei gradi\n",
    "k=G.degree()\n",
    "x=[]\n",
    "for item in k:\n",
    "    x.append(item[1])\n",
    "    \n",
    "output = []\n",
    "for b in x:\n",
    "       if b not in output:\n",
    "            output.append(b)\n",
    "\n",
    "# Plot\n",
    "plt.plot(output,y,'b.')   \n",
    "plt.xlabel('Degree k')\n",
    "plt.ylabel('KNN(k)')"
   ]
  },
  {
   "cell_type": "code",
   "execution_count": null,
   "id": "148c5f14",
   "metadata": {},
   "outputs": [],
   "source": [
    "d=nx.degree_assortativity_coefficient(G)"
   ]
  },
  {
   "cell_type": "code",
   "execution_count": null,
   "id": "1771384e",
   "metadata": {},
   "outputs": [],
   "source": [
    "d"
   ]
  },
  {
   "cell_type": "code",
   "execution_count": null,
   "id": "0956821f",
   "metadata": {},
   "outputs": [],
   "source": [
    "# Calcolo avg nearest neigh\n",
    "avg=nx.k_nearest_neighbors(G)\n",
    "y=list(avg.values())\n",
    "\n",
    "# Calcolo vettore dei gradi\n",
    "k=G.degree()\n",
    "x=[]\n",
    "for item in k:\n",
    "    x.append(item[1])\n",
    "    \n",
    "output = []\n",
    "for b in x:\n",
    "       if b not in output:\n",
    "            output.append(b)\n",
    "\n",
    "# Plot\n",
    "plt.plot(output,y,'b.')   \n",
    "plt.xlabel('Degree k')\n",
    "plt.ylabel('KNN(k)')"
   ]
  },
  {
   "cell_type": "code",
   "execution_count": null,
   "id": "0986c0af",
   "metadata": {},
   "outputs": [],
   "source": []
  },
  {
   "cell_type": "code",
   "execution_count": null,
   "id": "da44c9bf",
   "metadata": {},
   "outputs": [],
   "source": []
  },
  {
   "cell_type": "code",
   "execution_count": null,
   "id": "0ef66fd1",
   "metadata": {},
   "outputs": [],
   "source": []
  },
  {
   "cell_type": "code",
   "execution_count": null,
   "id": "2482828b",
   "metadata": {},
   "outputs": [],
   "source": []
  },
  {
   "cell_type": "code",
   "execution_count": null,
   "id": "30a01e57",
   "metadata": {},
   "outputs": [],
   "source": []
  },
  {
   "cell_type": "code",
   "execution_count": null,
   "id": "e2216d03",
   "metadata": {},
   "outputs": [],
   "source": []
  }
 ],
 "metadata": {
  "kernelspec": {
   "display_name": "Python 3",
   "language": "python",
   "name": "python3"
  },
  "language_info": {
   "codemirror_mode": {
    "name": "ipython",
    "version": 3
   },
   "file_extension": ".py",
   "mimetype": "text/x-python",
   "name": "python",
   "nbconvert_exporter": "python",
   "pygments_lexer": "ipython3",
   "version": "3.8.8"
  }
 },
 "nbformat": 4,
 "nbformat_minor": 5
}
