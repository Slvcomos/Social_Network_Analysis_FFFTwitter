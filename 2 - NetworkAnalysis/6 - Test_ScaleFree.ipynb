{
 "cells": [
  {
   "cell_type": "code",
   "execution_count": 1,
   "id": "849eacf3",
   "metadata": {},
   "outputs": [
    {
     "ename": "ModuleNotFoundError",
     "evalue": "No module named 'cdlib'",
     "output_type": "error",
     "traceback": [
      "\u001b[1;31m---------------------------------------------------------------------------\u001b[0m",
      "\u001b[1;31mModuleNotFoundError\u001b[0m                       Traceback (most recent call last)",
      "\u001b[1;32m<ipython-input-1-e5987bdb646d>\u001b[0m in \u001b[0;36m<module>\u001b[1;34m\u001b[0m\n\u001b[0;32m     10\u001b[0m \u001b[1;32mfrom\u001b[0m \u001b[0mstatistics\u001b[0m \u001b[1;32mimport\u001b[0m \u001b[0mmean\u001b[0m\u001b[1;33m,\u001b[0m \u001b[0mstdev\u001b[0m\u001b[1;33m\u001b[0m\u001b[1;33m\u001b[0m\u001b[0m\n\u001b[0;32m     11\u001b[0m \u001b[1;32mimport\u001b[0m \u001b[0mseaborn\u001b[0m \u001b[1;32mas\u001b[0m \u001b[0msns\u001b[0m\u001b[1;33m\u001b[0m\u001b[1;33m\u001b[0m\u001b[0m\n\u001b[1;32m---> 12\u001b[1;33m \u001b[1;32mfrom\u001b[0m \u001b[0mcdlib\u001b[0m \u001b[1;32mimport\u001b[0m \u001b[0malgorithms\u001b[0m\u001b[1;33m\u001b[0m\u001b[1;33m\u001b[0m\u001b[0m\n\u001b[0m\u001b[0;32m     13\u001b[0m \u001b[1;32mimport\u001b[0m \u001b[0mjson\u001b[0m\u001b[1;33m\u001b[0m\u001b[1;33m\u001b[0m\u001b[0m\n",
      "\u001b[1;31mModuleNotFoundError\u001b[0m: No module named 'cdlib'"
     ]
    }
   ],
   "source": [
    "import networkx as nx\n",
    "import numpy as np\n",
    "import pandas as pd\n",
    "import matplotlib.pyplot as plt\n",
    "from collections import Counter\n",
    "from operator import itemgetter\n",
    "import powerlaw\n",
    "from networkx.drawing.nx_agraph import graphviz_layout\n",
    "import pickle\n",
    "from statistics import mean, stdev\n",
    "import seaborn as sns\n",
    "from cdlib import algorithms\n",
    "import json"
   ]
  },
  {
   "cell_type": "code",
   "execution_count": null,
   "id": "3b9d7582",
   "metadata": {},
   "outputs": [],
   "source": [
    "path_graph = \"../DataSet SuperUsers/2 - NetworkAnalysis/Graph_data/\""
   ]
  },
  {
   "cell_type": "code",
   "execution_count": null,
   "id": "ffbd13ad",
   "metadata": {},
   "outputs": [],
   "source": [
    "G = nx.read_graphml(path_graph+\"Real_Network.graphml\")"
   ]
  },
  {
   "cell_type": "code",
   "execution_count": null,
   "id": "01ae14ab",
   "metadata": {},
   "outputs": [],
   "source": [
    "saved_path = \"../DataSet SuperUsers/2 - NetworkAnalysis/centrality_degree_nodes.csv\""
   ]
  },
  {
   "cell_type": "code",
   "execution_count": null,
   "id": "bee6d201",
   "metadata": {},
   "outputs": [],
   "source": [
    "df = pd.read_csv(saved_path)\n",
    "new_centrality_nodes = list(df[\"Id\"])"
   ]
  },
  {
   "cell_type": "code",
   "execution_count": null,
   "id": "33c1865a",
   "metadata": {},
   "outputs": [],
   "source": [
    "it_res = {0: {\"connected_components\":[], \"path\":[]},\n",
    "          1: {\"connected_components\":[], \"path\":[]},\n",
    "          2: {\"connected_components\":[], \"path\":[]},\n",
    "          3: {\"connected_components\":[], \"path\":[]},\n",
    "          4: {\"connected_components\":[], \"path\":[]},\n",
    "          5: {\"connected_components\":[], \"path\":[]},\n",
    "          6: {\"connected_components\":[], \"path\":[]},\n",
    "          7: {\"connected_components\":[], \"path\":[]},\n",
    "          8: {\"connected_components\":[], \"path\":[]}}"
   ]
  },
  {
   "cell_type": "code",
   "execution_count": null,
   "id": "3c115ea5",
   "metadata": {},
   "outputs": [],
   "source": [
    "for i in range(9):\n",
    "    G.remove_nodes_from(new_centrality_nodes[:10*i+10])\n",
    "    n_connected_component = list(nx.connected_components(G))\n",
    "    it_res[i][\"connected_components\"].append(len(n_connected_component))\n",
    "    it_res[i][\"connected_components\"].append(len(n_connected_component[0]))\n",
    "    max_diameter = 0\n",
    "    max_avg_path = 0\n",
    "    for s in n_connected_component:\n",
    "        diam = nx.diameter(G.subgraph(s))\n",
    "        if diam > max_diameter:\n",
    "            max_diameter = diam\n",
    "        avg_sp = nx.average_shortest_path_length(G.subgraph(s))\n",
    "        if avg_sp > max_avg_path:\n",
    "            max_avg_path = avg_sp\n",
    "    it_res[i][\"path\"].append(max_diameter)\n",
    "    it_res[i][\"path\"].append(max_avg_path)\n",
    "    jsonString = json.dumps(it_res)\n",
    "    jsonFile = open(f\"../DataSet SuperUsers/2 - NetworkAnalysis/centrality_result_{i}.json\", \"w\")\n",
    "    jsonFile.write(jsonString)\n",
    "    jsonFile.close()"
   ]
  },
  {
   "cell_type": "code",
   "execution_count": null,
   "id": "1f81f95b",
   "metadata": {},
   "outputs": [],
   "source": []
  },
  {
   "cell_type": "code",
   "execution_count": null,
   "id": "6064b374",
   "metadata": {},
   "outputs": [],
   "source": []
  },
  {
   "cell_type": "code",
   "execution_count": null,
   "id": "94cdfdaf",
   "metadata": {},
   "outputs": [],
   "source": []
  },
  {
   "cell_type": "code",
   "execution_count": null,
   "id": "0c129d1c",
   "metadata": {},
   "outputs": [],
   "source": []
  },
  {
   "cell_type": "code",
   "execution_count": null,
   "id": "0068c6de",
   "metadata": {},
   "outputs": [],
   "source": []
  },
  {
   "cell_type": "code",
   "execution_count": null,
   "id": "d9b7260c",
   "metadata": {},
   "outputs": [],
   "source": []
  },
  {
   "cell_type": "code",
   "execution_count": null,
   "id": "7db2e8fa",
   "metadata": {},
   "outputs": [],
   "source": []
  },
  {
   "cell_type": "code",
   "execution_count": null,
   "id": "013ddabd",
   "metadata": {},
   "outputs": [],
   "source": []
  },
  {
   "cell_type": "code",
   "execution_count": null,
   "id": "2c765ef6",
   "metadata": {},
   "outputs": [],
   "source": []
  },
  {
   "cell_type": "code",
   "execution_count": null,
   "id": "f8e053b3",
   "metadata": {},
   "outputs": [],
   "source": []
  },
  {
   "cell_type": "code",
   "execution_count": null,
   "id": "8bcc92a6",
   "metadata": {},
   "outputs": [],
   "source": []
  }
 ],
 "metadata": {
  "kernelspec": {
   "display_name": "Python 3",
   "language": "python",
   "name": "python3"
  },
  "language_info": {
   "codemirror_mode": {
    "name": "ipython",
    "version": 3
   },
   "file_extension": ".py",
   "mimetype": "text/x-python",
   "name": "python",
   "nbconvert_exporter": "python",
   "pygments_lexer": "ipython3",
   "version": "3.8.8"
  }
 },
 "nbformat": 4,
 "nbformat_minor": 5
}
