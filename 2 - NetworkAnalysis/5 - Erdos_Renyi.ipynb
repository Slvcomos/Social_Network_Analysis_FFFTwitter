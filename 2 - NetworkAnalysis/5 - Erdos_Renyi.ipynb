{
 "cells": [
  {
   "cell_type": "code",
   "execution_count": null,
   "id": "e7fc108a",
   "metadata": {},
   "outputs": [],
   "source": [
    "import networkx as nx\n",
    "import numpy as np\n",
    "import pandas as pd\n",
    "import matplotlib.pyplot as plt\n",
    "from collections import Counter\n",
    "from operator import itemgetter\n",
    "import powerlaw\n",
    "from networkx.drawing.nx_agraph import graphviz_layout\n",
    "import pickle\n",
    "from statistics import mean, stdev\n",
    "import seaborn as sns"
   ]
  },
  {
   "cell_type": "code",
   "execution_count": null,
   "id": "75a49cda",
   "metadata": {},
   "outputs": [],
   "source": [
    "from net_analysis import *"
   ]
  },
  {
   "cell_type": "code",
   "execution_count": null,
   "id": "3b24b089",
   "metadata": {},
   "outputs": [],
   "source": [
    "path = \"../DataSet SuperUsers/2 - NetworkAnalysis/edges.csv\""
   ]
  },
  {
   "cell_type": "code",
   "execution_count": null,
   "id": "e237182e",
   "metadata": {},
   "outputs": [],
   "source": [
    "path_graph = \"../DataSet SuperUsers/2 - NetworkAnalysis/Graph_data/\""
   ]
  },
  {
   "cell_type": "code",
   "execution_count": null,
   "id": "154035c5",
   "metadata": {},
   "outputs": [],
   "source": [
    "G = nx.read_edgelist(path, comments = \"S\", delimiter = \",\", data=((\"Count\", int),))"
   ]
  },
  {
   "cell_type": "code",
   "execution_count": null,
   "id": "885d2ec8",
   "metadata": {},
   "outputs": [],
   "source": [
    "print(nx.info(G))"
   ]
  },
  {
   "cell_type": "code",
   "execution_count": null,
   "id": "3b592976",
   "metadata": {},
   "outputs": [],
   "source": [
    "er_G = nx.erdos_renyi_graph(G.number_of_nodes(), p=0.001033 , directed = False, seed = 42)\n",
    "print(\"Nodes:\", er_G.number_of_nodes())\n",
    "print(\"Edges:\", er_G.number_of_edges())"
   ]
  },
  {
   "cell_type": "code",
   "execution_count": null,
   "id": "81115795",
   "metadata": {},
   "outputs": [],
   "source": [
    "nx.write_graphml(er_G, path_graph+\"ER_Network.graphml\")"
   ]
  },
  {
   "cell_type": "markdown",
   "id": "9ccd728d",
   "metadata": {},
   "source": [
    "# 1 - Degree Distribution1"
   ]
  },
  {
   "cell_type": "code",
   "execution_count": null,
   "id": "b6f48b63",
   "metadata": {},
   "outputs": [],
   "source": [
    "degree_dist(er_G, \"Erdos_Renyi\", \"ER\")"
   ]
  },
  {
   "cell_type": "code",
   "execution_count": null,
   "id": "2111c676",
   "metadata": {},
   "outputs": [],
   "source": [
    "plot_dist(er_G, \"Erdos_Renyi\", \"ER\")"
   ]
  },
  {
   "cell_type": "code",
   "execution_count": null,
   "id": "5374f98f",
   "metadata": {},
   "outputs": [],
   "source": [
    "info_degree(er_G , \"Erdos_Renyi\")"
   ]
  },
  {
   "cell_type": "markdown",
   "id": "c0f34491",
   "metadata": {},
   "source": [
    "# 2 - Connected Components"
   ]
  },
  {
   "cell_type": "code",
   "execution_count": null,
   "id": "7ad61753",
   "metadata": {},
   "outputs": [],
   "source": [
    "components = n_connected_components(er_G , \"Erdos_Renyi\")"
   ]
  },
  {
   "cell_type": "markdown",
   "id": "d87d7b58",
   "metadata": {},
   "source": [
    "# 3 - Path Analysis"
   ]
  },
  {
   "cell_type": "code",
   "execution_count": null,
   "id": "9ced483d",
   "metadata": {},
   "outputs": [],
   "source": [
    "path_analysis(er_G , \"Erdos_Renyi\", components)"
   ]
  },
  {
   "cell_type": "markdown",
   "id": "df68fb30",
   "metadata": {},
   "source": [
    "# 4 - Clustering Coefficient"
   ]
  },
  {
   "cell_type": "code",
   "execution_count": null,
   "id": "d60f8035",
   "metadata": {},
   "outputs": [],
   "source": [
    "name, values = c_coefficient_analysis(er_G , \"Erdos_Renyi\")"
   ]
  },
  {
   "cell_type": "code",
   "execution_count": null,
   "id": "d9aaa00e",
   "metadata": {},
   "outputs": [],
   "source": [
    "degree_clustering(er_G , \"Erdos_Renyi\", \"ER\")"
   ]
  },
  {
   "cell_type": "markdown",
   "id": "caea8263",
   "metadata": {},
   "source": [
    "# 5 - Density Analysis"
   ]
  },
  {
   "cell_type": "code",
   "execution_count": null,
   "id": "4b29b9b7",
   "metadata": {},
   "outputs": [],
   "source": [
    "density_analysis(er_G , \"Erdos_Renyi\")"
   ]
  },
  {
   "cell_type": "code",
   "execution_count": null,
   "id": "7dff0349",
   "metadata": {},
   "outputs": [],
   "source": []
  },
  {
   "cell_type": "code",
   "execution_count": null,
   "id": "52d4bbf8",
   "metadata": {},
   "outputs": [],
   "source": []
  }
 ],
 "metadata": {
  "kernelspec": {
   "display_name": "Python 3",
   "language": "python",
   "name": "python3"
  },
  "language_info": {
   "codemirror_mode": {
    "name": "ipython",
    "version": 3
   },
   "file_extension": ".py",
   "mimetype": "text/x-python",
   "name": "python",
   "nbconvert_exporter": "python",
   "pygments_lexer": "ipython3",
   "version": "3.8.8"
  }
 },
 "nbformat": 4,
 "nbformat_minor": 5
}
