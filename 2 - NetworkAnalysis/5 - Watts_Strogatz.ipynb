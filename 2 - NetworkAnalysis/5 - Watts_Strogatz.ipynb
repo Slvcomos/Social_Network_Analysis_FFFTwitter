{
 "cells": [
  {
   "cell_type": "code",
   "execution_count": null,
   "id": "f016b1c6",
   "metadata": {},
   "outputs": [],
   "source": [
    "import networkx as nx\n",
    "import numpy as np\n",
    "import pandas as pd\n",
    "import matplotlib.pyplot as plt\n",
    "from collections import Counter\n",
    "from operator import itemgetter\n",
    "import powerlaw\n",
    "from networkx.drawing.nx_agraph import graphviz_layout\n",
    "import pickle\n",
    "from statistics import mean, stdev\n",
    "import seaborn as sns"
   ]
  },
  {
   "cell_type": "code",
   "execution_count": null,
   "id": "dd6fd2f9",
   "metadata": {},
   "outputs": [],
   "source": [
    "from net_analysis import *"
   ]
  },
  {
   "cell_type": "code",
   "execution_count": null,
   "id": "a09e4312",
   "metadata": {},
   "outputs": [],
   "source": [
    "path = \"../DataSet SuperUsers/2 - NetworkAnalysis/edges.csv\""
   ]
  },
  {
   "cell_type": "code",
   "execution_count": null,
   "id": "1b9eb607",
   "metadata": {},
   "outputs": [],
   "source": [
    "path_graph = \"../DataSet SuperUsers/2 - NetworkAnalysis/Graph_data/\""
   ]
  },
  {
   "cell_type": "code",
   "execution_count": null,
   "id": "b7a6b2c3",
   "metadata": {},
   "outputs": [],
   "source": [
    "G = nx.read_edgelist(path, comments = \"S\", delimiter = \",\", data=((\"Count\", int),))"
   ]
  },
  {
   "cell_type": "code",
   "execution_count": null,
   "id": "f9c06adb",
   "metadata": {},
   "outputs": [],
   "source": [
    "print(nx.info(G))"
   ]
  },
  {
   "cell_type": "code",
   "execution_count": null,
   "id": "4bbfa0b6",
   "metadata": {},
   "outputs": [],
   "source": [
    "ws_G = nx.watts_strogatz_graph(G.number_of_nodes(), k=14, p=0.1, seed = 42)\n",
    "print(\"Nodes:\",ws_G.number_of_nodes())\n",
    "print(\"Edges:\",ws_G.number_of_edges())"
   ]
  },
  {
   "cell_type": "code",
   "execution_count": null,
   "id": "77913909",
   "metadata": {},
   "outputs": [],
   "source": [
    "nx.write_graphml(ws_G, path_graph+\"WS_Network.graphml\")"
   ]
  },
  {
   "cell_type": "markdown",
   "id": "3f31dadb",
   "metadata": {},
   "source": [
    "# 1 - Degree Distribution"
   ]
  },
  {
   "cell_type": "code",
   "execution_count": null,
   "id": "cd3e87a7",
   "metadata": {},
   "outputs": [],
   "source": [
    "degree_dist(ws_G, \"Watts_Strogatz\", \"WS\")"
   ]
  },
  {
   "cell_type": "code",
   "execution_count": null,
   "id": "55278b13",
   "metadata": {},
   "outputs": [],
   "source": [
    "plot_dist(ws_G, \"Watts_Strogatz\", \"WS\")"
   ]
  },
  {
   "cell_type": "code",
   "execution_count": null,
   "id": "243b8d24",
   "metadata": {},
   "outputs": [],
   "source": [
    "info_degree(ws_G, \"Watts_Strogatz\")"
   ]
  },
  {
   "cell_type": "markdown",
   "id": "cfff6096",
   "metadata": {},
   "source": [
    "# 2 - Connected Components"
   ]
  },
  {
   "cell_type": "code",
   "execution_count": null,
   "id": "707dabf9",
   "metadata": {},
   "outputs": [],
   "source": [
    "components = n_connected_components(ws_G, \"Watts_Strogatz\")"
   ]
  },
  {
   "cell_type": "markdown",
   "id": "e6acefd3",
   "metadata": {},
   "source": [
    "# 3 - Path Analysis"
   ]
  },
  {
   "cell_type": "code",
   "execution_count": null,
   "id": "5750e1b3",
   "metadata": {},
   "outputs": [],
   "source": [
    "path_analysis(ws_G, \"Watts_Strogatz\", components)"
   ]
  },
  {
   "cell_type": "markdown",
   "id": "2b755d32",
   "metadata": {},
   "source": [
    "# 4 - Clustering Coefficient"
   ]
  },
  {
   "cell_type": "code",
   "execution_count": null,
   "id": "6e84b46d",
   "metadata": {},
   "outputs": [],
   "source": [
    "name, values = c_coefficient_analysis(ws_G, \"Watts_Strogatz\")"
   ]
  },
  {
   "cell_type": "code",
   "execution_count": null,
   "id": "3d5bd4a8",
   "metadata": {},
   "outputs": [],
   "source": [
    "degree_clustering(ws_G, \"Watts_Strogatz\", \"WS\")"
   ]
  },
  {
   "cell_type": "markdown",
   "id": "d58e6dc9",
   "metadata": {},
   "source": [
    "# 5 - Density Analysis"
   ]
  },
  {
   "cell_type": "code",
   "execution_count": null,
   "id": "6efb33b5",
   "metadata": {},
   "outputs": [],
   "source": [
    "density_analysis(ws_G, \"Watts_Strogatz\")"
   ]
  }
 ],
 "metadata": {
  "kernelspec": {
   "display_name": "Python 3",
   "language": "python",
   "name": "python3"
  },
  "language_info": {
   "codemirror_mode": {
    "name": "ipython",
    "version": 3
   },
   "file_extension": ".py",
   "mimetype": "text/x-python",
   "name": "python",
   "nbconvert_exporter": "python",
   "pygments_lexer": "ipython3",
   "version": "3.8.8"
  }
 },
 "nbformat": 4,
 "nbformat_minor": 5
}
