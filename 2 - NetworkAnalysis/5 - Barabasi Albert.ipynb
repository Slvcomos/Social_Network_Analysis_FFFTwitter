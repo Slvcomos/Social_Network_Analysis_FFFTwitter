{
 "cells": [
  {
   "cell_type": "markdown",
   "id": "7cccdbf5",
   "metadata": {},
   "source": [
    "Durante lo studio vengono quindi\n",
    "esplorate tutte le caratteristiche di questa rete tag-tag, confrontandola\n",
    "con alcuni modelli standard: Barabási-Albert,\n",
    "Erdös–Rényi,Watts–Strogatz, Configuration Model."
   ]
  },
  {
   "cell_type": "markdown",
   "id": "3f29bced",
   "metadata": {},
   "source": [
    "#### usando un modello Barabasi Albert viene costruito un network con lo stesso numero di nodi e edges del nostro dataset \n",
    "\n",
    "#### si analizzano quindi vari aspetti della rete cosi costruita (da path analysis in poi si riscontrano problemi di costo computazionale, per questo motivo non so se applicare una parte ridotta del dataset ossia quella a 3k nodi usando path1 ecc)\n",
    "\n",
    "queste reti prodotte servono per network analysis in generale dei notebook dopo \n",
    "l'analisi quindi penso sia inutile anche vedendo il progetto di m"
   ]
  },
  {
   "cell_type": "code",
   "execution_count": 1,
   "id": "c4d12d5e",
   "metadata": {},
   "outputs": [],
   "source": [
    "import networkx as nx\n",
    "import numpy as np\n",
    "import pandas as pd\n",
    "import matplotlib.pyplot as plt\n",
    "from collections import Counter\n",
    "from operator import itemgetter\n",
    "import powerlaw\n",
    "from networkx.drawing.nx_agraph import graphviz_layout\n",
    "import pickle\n",
    "from statistics import mean, stdev\n",
    "import seaborn as sns"
   ]
  },
  {
   "cell_type": "code",
   "execution_count": 2,
   "id": "de5bacbd",
   "metadata": {},
   "outputs": [],
   "source": [
    "from net_analysis import *"
   ]
  },
  {
   "cell_type": "code",
   "execution_count": 3,
   "id": "a3713b44",
   "metadata": {},
   "outputs": [],
   "source": [
    "path = \"../Dataset FFF/edges.csv\"\n",
    "path1 = \"../Dataset FFF/edges_3K.csv\""
   ]
  },
  {
   "cell_type": "code",
   "execution_count": 4,
   "id": "8e768bf9",
   "metadata": {},
   "outputs": [],
   "source": [
    "path_graph = \"../Dataset FFF/Graph_data/\""
   ]
  },
  {
   "cell_type": "code",
   "execution_count": 5,
   "id": "2042ea07",
   "metadata": {},
   "outputs": [],
   "source": [
    "G = nx.read_edgelist(path, comments = \"S\", delimiter = \",\", data=((\"Count\", int),))\n",
    "G1 = nx.read_edgelist(path1, comments = \"S\", delimiter = \",\", data=((\"Count\", int),))"
   ]
  },
  {
   "cell_type": "code",
   "execution_count": 6,
   "id": "bab14864",
   "metadata": {},
   "outputs": [
    {
     "name": "stdout",
     "output_type": "stream",
     "text": [
      "Graph with 15169 nodes and 300987 edges\n"
     ]
    }
   ],
   "source": [
    "print(nx.info(G))"
   ]
  },
  {
   "cell_type": "code",
   "execution_count": 7,
   "id": "ac668429",
   "metadata": {},
   "outputs": [
    {
     "name": "stdout",
     "output_type": "stream",
     "text": [
      "Nodes: 15169\n",
      "Edges: 106134\n"
     ]
    }
   ],
   "source": [
    "ba_G = nx.barabasi_albert_graph(G.number_of_nodes(), 7, seed = 42)\n",
    "ba_G1 = nx.barabasi_albert_graph(G.number_of_nodes(), 7, seed = 42)\n",
    "print(\"Nodes:\",ba_G.number_of_nodes())\n",
    "print(\"Edges:\",ba_G.number_of_edges())"
   ]
  },
  {
   "cell_type": "code",
   "execution_count": 8,
   "id": "28fa3f8b",
   "metadata": {},
   "outputs": [],
   "source": [
    "nx.write_graphml(ba_G, path_graph+\"BA_Network.graphml\")"
   ]
  },
  {
   "cell_type": "markdown",
   "id": "3f37530c",
   "metadata": {},
   "source": [
    "# 1 - Degree Distribution"
   ]
  },
  {
   "cell_type": "code",
   "execution_count": 9,
   "id": "eefdd1d8",
   "metadata": {},
   "outputs": [
    {
     "data": {
      "image/png": "[encoded data removed]",
      "text/plain": [
       "<Figure size 432x288 with 1 Axes>"
      ]
     },
     "metadata": {
      "needs_background": "light"
     },
     "output_type": "display_data"
    }
   ],
   "source": [
    "degree_dist(ba_G, \"Barabasi_Albert\", \"BA\")"
   ]
  },
  {
   "cell_type": "code",
   "execution_count": 10,
   "id": "e43f0e58",
   "metadata": {},
   "outputs": [
    {
     "name": "stdout",
     "output_type": "stream",
     "text": [
      "Calculating best minimal value for power law fit\n",
      "xmin progress: 00%\r",
      "xmin progress: 01%\r",
      "xmin progress: 03%\r",
      "xmin progress: 05%\r",
      "xmin progress: 07%\r",
      "xmin progress: 09%\r",
      "xmin progress: 11%\r",
      "xmin progress: 13%\r",
      "xmin progress: 15%\r",
      "xmin progress: 17%\r",
      "xmin progress: 19%\r",
      "xmin progress: 21%\r",
      "xmin progress: 23%\r",
      "xmin progress: 25%\r",
      "xmin progress: 26%\r",
      "xmin progress: 28%\r",
      "xmin progress: 30%\r",
      "xmin progress: 32%\r",
      "xmin progress: 34%\r",
      "xmin progress: 36%\r",
      "xmin progress: 38%\r",
      "xmin progress: 40%\r",
      "xmin progress: 42%\r",
      "xmin progress: 44%\r",
      "xmin progress: 46%\r",
      "xmin progress: 48%\r",
      "xmin progress: 50%\r",
      "xmin progress: 51%\r",
      "xmin progress: 53%\r",
      "xmin progress: 55%\r",
      "xmin progress: 57%\r",
      "xmin progress: 59%\r",
      "xmin progress: 61%\r",
      "xmin progress: 63%\r",
      "xmin progress: 65%\r",
      "xmin progress: 67%\r",
      "xmin progress: 69%\r",
      "xmin progress: 71%\r",
      "xmin progress: 73%\r",
      "xmin progress: 75%\r",
      "xmin progress: 76%\r",
      "xmin progress: 78%\r",
      "xmin progress: 80%\r",
      "xmin progress: 82%\r",
      "xmin progress: 84%\r",
      "xmin progress: 86%\r",
      "xmin progress: 88%\r",
      "xmin progress: 90%\r",
      "xmin progress: 92%\r",
      "xmin progress: 94%\r",
      "xmin progress: 96%\r",
      "xmin progress: 98%\r",
      "**** Degree Distribution for Barabasi_Albert graph ****\n"
     ]
    },
    {
     "name": "stderr",
     "output_type": "stream",
     "text": [
      "C:\\Users\\mir-9\\Desktop\\SNA\\Progetto\\sna-project-2022_cosmo_d-arrigo_esposito\\2 - NetworkAnalysis\\net_analysis.py:40: UserWarning: Attempted to set non-positive left xlim on a log-scaled axis.\n",
      "Invalid limit will be ignored.\n",
      "  plt.xlim((min(degree), max(degree)))\n"
     ]
    },
    {
     "data": {
      "image/png": "[encoded data removed]",
      "text/plain": [
       "<Figure size 1152x432 with 3 Axes>"
      ]
     },
     "metadata": {
      "needs_background": "light"
     },
     "output_type": "display_data"
    },
    {
     "name": "stdout",
     "output_type": "stream",
     "text": [
      "alpha=2.5644208880549093 sigma=0.05561404262079931\n"
     ]
    }
   ],
   "source": [
    "plot_dist(ba_G, \"Barabasi_Albert\", \"BA\")"
   ]
  },
  {
   "cell_type": "code",
   "execution_count": 11,
   "id": "e8bcf69d",
   "metadata": {},
   "outputs": [
    {
     "name": "stdout",
     "output_type": "stream",
     "text": [
      "***** Degree info for Barabasi_Albert graph ***\n",
      "Maximum degree: (645, 0)\n",
      "Minimum degree: (7, 2319)\n"
     ]
    }
   ],
   "source": [
    "info_degree(ba_G , \"Barabasi_Albert\")"
   ]
  },
  {
   "cell_type": "markdown",
   "id": "5aefd565",
   "metadata": {},
   "source": [
    "# 2 - Connected Components"
   ]
  },
  {
   "cell_type": "code",
   "execution_count": 12,
   "id": "30644f94",
   "metadata": {},
   "outputs": [
    {
     "name": "stdout",
     "output_type": "stream",
     "text": [
      "**** Connected components for Barabasi_Albert graph ****\n",
      "Number of Connected Components for Barabasi_Albert: 1\n",
      "\t component len = 15169\n"
     ]
    }
   ],
   "source": [
    "components = n_connected_components(ba_G1 , \"Barabasi_Albert\")"
   ]
  },
  {
   "cell_type": "markdown",
   "id": "1bf33866",
   "metadata": {},
   "source": [
    "# 3 - Path Analysis"
   ]
  },
  {
   "cell_type": "code",
   "execution_count": 13,
   "id": "aef4e608",
   "metadata": {},
   "outputs": [
    {
     "name": "stdout",
     "output_type": "stream",
     "text": [
      "***** Path analysis for Barabasi_Albert graph\n"
     ]
    },
    {
     "ename": "KeyboardInterrupt",
     "evalue": "",
     "output_type": "error",
     "traceback": [
      "\u001b[1;31m---------------------------------------------------------------------------\u001b[0m",
      "\u001b[1;31mKeyboardInterrupt\u001b[0m                         Traceback (most recent call last)",
      "\u001b[1;32m~\\AppData\\Local\\Temp/ipykernel_20544/1969508726.py\u001b[0m in \u001b[0;36m<module>\u001b[1;34m\u001b[0m\n\u001b[1;32m----> 1\u001b[1;33m \u001b[0mpath_analysis\u001b[0m\u001b[1;33m(\u001b[0m\u001b[0mba_G1\u001b[0m \u001b[1;33m,\u001b[0m \u001b[1;34m\"Barabasi_Albert\"\u001b[0m\u001b[1;33m,\u001b[0m \u001b[0mcomponents\u001b[0m\u001b[1;33m)\u001b[0m\u001b[1;33m\u001b[0m\u001b[1;33m\u001b[0m\u001b[0m\n\u001b[0m",
      "\u001b[1;32m~\\Desktop\\SNA\\Progetto\\sna-project-2022_cosmo_d-arrigo_esposito\\2 - NetworkAnalysis\\net_analysis.py\u001b[0m in \u001b[0;36mpath_analysis\u001b[1;34m(G, name, components)\u001b[0m\n\u001b[0;32m    119\u001b[0m \u001b[1;32mdef\u001b[0m \u001b[0mpath_analysis\u001b[0m\u001b[1;33m(\u001b[0m\u001b[0mG\u001b[0m\u001b[1;33m,\u001b[0m \u001b[0mname\u001b[0m\u001b[1;33m,\u001b[0m \u001b[0mcomponents\u001b[0m\u001b[1;33m)\u001b[0m\u001b[1;33m:\u001b[0m\u001b[1;33m\u001b[0m\u001b[1;33m\u001b[0m\u001b[0m\n\u001b[0;32m    120\u001b[0m     \u001b[0mprint\u001b[0m\u001b[1;33m(\u001b[0m\u001b[1;34mf\"***** Path analysis for {name} graph\"\u001b[0m\u001b[1;33m)\u001b[0m\u001b[1;33m\u001b[0m\u001b[1;33m\u001b[0m\u001b[0m\n\u001b[1;32m--> 121\u001b[1;33m     \u001b[0mprint\u001b[0m\u001b[1;33m(\u001b[0m\u001b[1;34mf\"Diameter for components 0 network {name}: {nx.diameter(G.subgraph(components[0]))}\"\u001b[0m\u001b[1;33m)\u001b[0m\u001b[1;33m\u001b[0m\u001b[1;33m\u001b[0m\u001b[0m\n\u001b[0m\u001b[0;32m    122\u001b[0m     \u001b[0mprint\u001b[0m\u001b[1;33m(\u001b[0m\u001b[1;34mf\"Average shortest path for components 0 network {name}: {nx.average_shortest_path_length(G.subgraph(components[0]))}\"\u001b[0m\u001b[1;33m)\u001b[0m\u001b[1;33m\u001b[0m\u001b[1;33m\u001b[0m\u001b[0m\n\u001b[0;32m    123\u001b[0m \u001b[1;33m\u001b[0m\u001b[0m\n",
      "\u001b[1;32m~\\anaconda3\\lib\\site-packages\\networkx\\algorithms\\distance_measures.py\u001b[0m in \u001b[0;36mdiameter\u001b[1;34m(G, e, usebounds)\u001b[0m\n\u001b[0;32m    297\u001b[0m         \u001b[1;32mreturn\u001b[0m \u001b[0mextrema_bounding\u001b[0m\u001b[1;33m(\u001b[0m\u001b[0mG\u001b[0m\u001b[1;33m,\u001b[0m \u001b[0mcompute\u001b[0m\u001b[1;33m=\u001b[0m\u001b[1;34m\"diameter\"\u001b[0m\u001b[1;33m)\u001b[0m\u001b[1;33m\u001b[0m\u001b[1;33m\u001b[0m\u001b[0m\n\u001b[0;32m    298\u001b[0m     \u001b[1;32mif\u001b[0m \u001b[0me\u001b[0m \u001b[1;32mis\u001b[0m \u001b[1;32mNone\u001b[0m\u001b[1;33m:\u001b[0m\u001b[1;33m\u001b[0m\u001b[1;33m\u001b[0m\u001b[0m\n\u001b[1;32m--> 299\u001b[1;33m         \u001b[0me\u001b[0m \u001b[1;33m=\u001b[0m \u001b[0meccentricity\u001b[0m\u001b[1;33m(\u001b[0m\u001b[0mG\u001b[0m\u001b[1;33m)\u001b[0m\u001b[1;33m\u001b[0m\u001b[1;33m\u001b[0m\u001b[0m\n\u001b[0m\u001b[0;32m    300\u001b[0m     \u001b[1;32mreturn\u001b[0m \u001b[0mmax\u001b[0m\u001b[1;33m(\u001b[0m\u001b[0me\u001b[0m\u001b[1;33m.\u001b[0m\u001b[0mvalues\u001b[0m\u001b[1;33m(\u001b[0m\u001b[1;33m)\u001b[0m\u001b[1;33m)\u001b[0m\u001b[1;33m\u001b[0m\u001b[1;33m\u001b[0m\u001b[0m\n\u001b[0;32m    301\u001b[0m \u001b[1;33m\u001b[0m\u001b[0m\n",
      "\u001b[1;32m~\\anaconda3\\lib\\site-packages\\networkx\\algorithms\\distance_measures.py\u001b[0m in \u001b[0;36meccentricity\u001b[1;34m(G, v, sp)\u001b[0m\n\u001b[0;32m    246\u001b[0m     \u001b[1;32mfor\u001b[0m \u001b[0mn\u001b[0m \u001b[1;32min\u001b[0m \u001b[0mG\u001b[0m\u001b[1;33m.\u001b[0m\u001b[0mnbunch_iter\u001b[0m\u001b[1;33m(\u001b[0m\u001b[0mv\u001b[0m\u001b[1;33m)\u001b[0m\u001b[1;33m:\u001b[0m\u001b[1;33m\u001b[0m\u001b[1;33m\u001b[0m\u001b[0m\n\u001b[0;32m    247\u001b[0m         \u001b[1;32mif\u001b[0m \u001b[0msp\u001b[0m \u001b[1;32mis\u001b[0m \u001b[1;32mNone\u001b[0m\u001b[1;33m:\u001b[0m\u001b[1;33m\u001b[0m\u001b[1;33m\u001b[0m\u001b[0m\n\u001b[1;32m--> 248\u001b[1;33m             \u001b[0mlength\u001b[0m \u001b[1;33m=\u001b[0m \u001b[0mnx\u001b[0m\u001b[1;33m.\u001b[0m\u001b[0msingle_source_shortest_path_length\u001b[0m\u001b[1;33m(\u001b[0m\u001b[0mG\u001b[0m\u001b[1;33m,\u001b[0m \u001b[0mn\u001b[0m\u001b[1;33m)\u001b[0m\u001b[1;33m\u001b[0m\u001b[1;33m\u001b[0m\u001b[0m\n\u001b[0m\u001b[0;32m    249\u001b[0m             \u001b[0mL\u001b[0m \u001b[1;33m=\u001b[0m \u001b[0mlen\u001b[0m\u001b[1;33m(\u001b[0m\u001b[0mlength\u001b[0m\u001b[1;33m)\u001b[0m\u001b[1;33m\u001b[0m\u001b[1;33m\u001b[0m\u001b[0m\n\u001b[0;32m    250\u001b[0m         \u001b[1;32melse\u001b[0m\u001b[1;33m:\u001b[0m\u001b[1;33m\u001b[0m\u001b[1;33m\u001b[0m\u001b[0m\n",
      "\u001b[1;32m~\\anaconda3\\lib\\site-packages\\networkx\\algorithms\\shortest_paths\\unweighted.py\u001b[0m in \u001b[0;36msingle_source_shortest_path_length\u001b[1;34m(G, source, cutoff)\u001b[0m\n\u001b[0;32m     57\u001b[0m         \u001b[0mcutoff\u001b[0m \u001b[1;33m=\u001b[0m \u001b[0mfloat\u001b[0m\u001b[1;33m(\u001b[0m\u001b[1;34m\"inf\"\u001b[0m\u001b[1;33m)\u001b[0m\u001b[1;33m\u001b[0m\u001b[1;33m\u001b[0m\u001b[0m\n\u001b[0;32m     58\u001b[0m     \u001b[0mnextlevel\u001b[0m \u001b[1;33m=\u001b[0m \u001b[1;33m{\u001b[0m\u001b[0msource\u001b[0m\u001b[1;33m:\u001b[0m \u001b[1;36m1\u001b[0m\u001b[1;33m}\u001b[0m\u001b[1;33m\u001b[0m\u001b[1;33m\u001b[0m\u001b[0m\n\u001b[1;32m---> 59\u001b[1;33m     \u001b[1;32mreturn\u001b[0m \u001b[0mdict\u001b[0m\u001b[1;33m(\u001b[0m\u001b[0m_single_shortest_path_length\u001b[0m\u001b[1;33m(\u001b[0m\u001b[0mG\u001b[0m\u001b[1;33m.\u001b[0m\u001b[0madj\u001b[0m\u001b[1;33m,\u001b[0m \u001b[0mnextlevel\u001b[0m\u001b[1;33m,\u001b[0m \u001b[0mcutoff\u001b[0m\u001b[1;33m)\u001b[0m\u001b[1;33m)\u001b[0m\u001b[1;33m\u001b[0m\u001b[1;33m\u001b[0m\u001b[0m\n\u001b[0m\u001b[0;32m     60\u001b[0m \u001b[1;33m\u001b[0m\u001b[0m\n\u001b[0;32m     61\u001b[0m \u001b[1;33m\u001b[0m\u001b[0m\n",
      "\u001b[1;32m~\\anaconda3\\lib\\site-packages\\networkx\\algorithms\\shortest_paths\\unweighted.py\u001b[0m in \u001b[0;36m_single_shortest_path_length\u001b[1;34m(adj, firstlevel, cutoff)\u001b[0m\n\u001b[0;32m     89\u001b[0m             \u001b[1;32mreturn\u001b[0m\u001b[1;33m\u001b[0m\u001b[1;33m\u001b[0m\u001b[0m\n\u001b[0;32m     90\u001b[0m         \u001b[1;32mfor\u001b[0m \u001b[0mv\u001b[0m \u001b[1;32min\u001b[0m \u001b[0mfound\u001b[0m\u001b[1;33m:\u001b[0m\u001b[1;33m\u001b[0m\u001b[1;33m\u001b[0m\u001b[0m\n\u001b[1;32m---> 91\u001b[1;33m             \u001b[0mnextlevel\u001b[0m\u001b[1;33m.\u001b[0m\u001b[0mupdate\u001b[0m\u001b[1;33m(\u001b[0m\u001b[0madj\u001b[0m\u001b[1;33m[\u001b[0m\u001b[0mv\u001b[0m\u001b[1;33m]\u001b[0m\u001b[1;33m)\u001b[0m\u001b[1;33m\u001b[0m\u001b[1;33m\u001b[0m\u001b[0m\n\u001b[0m\u001b[0;32m     92\u001b[0m         \u001b[0mlevel\u001b[0m \u001b[1;33m+=\u001b[0m \u001b[1;36m1\u001b[0m\u001b[1;33m\u001b[0m\u001b[1;33m\u001b[0m\u001b[0m\n\u001b[0;32m     93\u001b[0m     \u001b[1;32mdel\u001b[0m \u001b[0mseen\u001b[0m\u001b[1;33m\u001b[0m\u001b[1;33m\u001b[0m\u001b[0m\n",
      "\u001b[1;32m~\\anaconda3\\lib\\site-packages\\networkx\\classes\\coreviews.py\u001b[0m in \u001b[0;36m__iter__\u001b[1;34m(self)\u001b[0m\n\u001b[0;32m     49\u001b[0m \u001b[1;33m\u001b[0m\u001b[0m\n\u001b[0;32m     50\u001b[0m     \u001b[1;32mdef\u001b[0m \u001b[0m__iter__\u001b[0m\u001b[1;33m(\u001b[0m\u001b[0mself\u001b[0m\u001b[1;33m)\u001b[0m\u001b[1;33m:\u001b[0m\u001b[1;33m\u001b[0m\u001b[1;33m\u001b[0m\u001b[0m\n\u001b[1;32m---> 51\u001b[1;33m         \u001b[1;32mreturn\u001b[0m \u001b[0miter\u001b[0m\u001b[1;33m(\u001b[0m\u001b[0mself\u001b[0m\u001b[1;33m.\u001b[0m\u001b[0m_atlas\u001b[0m\u001b[1;33m)\u001b[0m\u001b[1;33m\u001b[0m\u001b[1;33m\u001b[0m\u001b[0m\n\u001b[0m\u001b[0;32m     52\u001b[0m \u001b[1;33m\u001b[0m\u001b[0m\n\u001b[0;32m     53\u001b[0m     \u001b[1;32mdef\u001b[0m \u001b[0m__getitem__\u001b[0m\u001b[1;33m(\u001b[0m\u001b[0mself\u001b[0m\u001b[1;33m,\u001b[0m \u001b[0mkey\u001b[0m\u001b[1;33m)\u001b[0m\u001b[1;33m:\u001b[0m\u001b[1;33m\u001b[0m\u001b[1;33m\u001b[0m\u001b[0m\n",
      "\u001b[1;31mKeyboardInterrupt\u001b[0m: "
     ]
    }
   ],
   "source": [
    "path_analysis(ba_G1 , \"Barabasi_Albert\", components)"
   ]
  },
  {
   "cell_type": "markdown",
   "id": "f25c2284",
   "metadata": {},
   "source": [
    "# 4 - Clustering Coefficient "
   ]
  },
  {
   "cell_type": "code",
   "execution_count": null,
   "id": "139cf341",
   "metadata": {},
   "outputs": [],
   "source": [
    "name, values = c_coefficient_analysis(ba_G1 , \"Barabasi_Albert\")"
   ]
  },
  {
   "cell_type": "code",
   "execution_count": null,
   "id": "cfbf82b1",
   "metadata": {},
   "outputs": [],
   "source": [
    "degree_clustering(ba_G1 , \"Barabasi_Albert\", \"BA\")"
   ]
  },
  {
   "cell_type": "markdown",
   "id": "c9460fd7",
   "metadata": {},
   "source": [
    "# 5 - Density Analysis"
   ]
  },
  {
   "cell_type": "code",
   "execution_count": null,
   "id": "860b2439",
   "metadata": {},
   "outputs": [],
   "source": [
    "density_analysis(ba_G1 , \"Barabasi_Albert\")"
   ]
  },
  {
   "cell_type": "code",
   "execution_count": null,
   "id": "f5afe41f",
   "metadata": {},
   "outputs": [],
   "source": []
  }
 ],
 "metadata": {
  "kernelspec": {
   "display_name": "Python 3 (ipykernel)",
   "language": "python",
   "name": "python3"
  },
  "language_info": {
   "codemirror_mode": {
    "name": "ipython",
    "version": 3
   },
   "file_extension": ".py",
   "mimetype": "text/x-python",
   "name": "python",
   "nbconvert_exporter": "python",
   "pygments_lexer": "ipython3",
   "version": "3.9.7"
  }
 },
 "nbformat": 4,
 "nbformat_minor": 5
}
