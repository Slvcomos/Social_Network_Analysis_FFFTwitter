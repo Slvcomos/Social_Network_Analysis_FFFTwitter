{
 "cells": [
  {
   "cell_type": "markdown",
   "id": "7cccdbf5",
   "metadata": {},
   "source": [
    "Dopo aver costruito la nostra rete hashtag-to-hashtag, la confrontiamo con i modelli Barabási-Albert, Erdös–Rényi, Watts–Strogatz, Configuration Model, configurati con la medesima quantità di nodi ed archi presenti nella rete reale.\n",
    "I valori estratti dai modelli sono i seguenti:\n",
    "\n",
    "**Barabasi-Albert(BA):**\n",
    "- N=10361;\n",
    "- E=72478;\n",
    "- m= E/N = 6.99\n",
    "\n",
    "**Configuration model(CM):**\n",
    "costruito con la stessa degree distribution della nostra rete\n",
    "- Nodes: 10361\n",
    "- Edges: 63960\n",
    "\n",
    "**Erdös–Rényi(ER):**\n",
    "- Nodes: 10361\n",
    "- Edges: 55123\n",
    "- p = 2E/N(N-1) = 0,0010270732\n",
    "\n",
    "**Watts–Strogatz(WS):**\n",
    "- Nodes: 10361\n",
    "- Edges: 72527\n",
    "- k=?\n",
    "- p = ?"
   ]
  },
  {
   "cell_type": "markdown",
   "id": "3f29bced",
   "metadata": {},
   "source": []
  },
  {
   "cell_type": "code",
   "execution_count": 1,
   "id": "c4d12d5e",
   "metadata": {},
   "outputs": [],
   "source": [
    "import networkx as nx\n",
    "import numpy as np\n",
    "import pandas as pd\n",
    "import matplotlib.pyplot as plt\n",
    "from collections import Counter\n",
    "from operator import itemgetter\n",
    "import powerlaw\n",
    "from networkx.drawing.nx_agraph import graphviz_layout\n",
    "import pickle\n",
    "from statistics import mean, stdev\n",
    "import seaborn as sns"
   ]
  },
  {
   "cell_type": "code",
   "execution_count": 2,
   "id": "de5bacbd",
   "metadata": {},
   "outputs": [],
   "source": [
    "from net_analysis import *"
   ]
  },
  {
   "cell_type": "code",
   "execution_count": 3,
   "id": "a3713b44",
   "metadata": {},
   "outputs": [],
   "source": [
    "path = \"../Dataset FFF/edges.csv\""
   ]
  },
  {
   "cell_type": "code",
   "execution_count": 4,
   "id": "8e768bf9",
   "metadata": {},
   "outputs": [],
   "source": [
    "path_graph = \"../Dataset FFF/Graph_data/\""
   ]
  },
  {
   "cell_type": "code",
   "execution_count": 5,
   "id": "2042ea07",
   "metadata": {},
   "outputs": [],
   "source": [
    "G = nx.read_edgelist(path, comments = \"S\", delimiter = \",\", data=((\"Count\", int),))"
   ]
  },
  {
   "cell_type": "code",
   "execution_count": 6,
   "id": "bab14864",
   "metadata": {},
   "outputs": [
    {
     "name": "stdout",
     "output_type": "stream",
     "text": [
      "Name: \n",
      "Type: Graph\n",
      "Number of nodes: 10361\n",
      "Number of edges: 63960\n",
      "Average degree:  12.3463\n"
     ]
    }
   ],
   "source": [
    "print(nx.info(G))"
   ]
  },
  {
   "cell_type": "code",
   "execution_count": 7,
   "id": "ac668429",
   "metadata": {},
   "outputs": [
    {
     "name": "stdout",
     "output_type": "stream",
     "text": [
      "Nodes: 10361\n",
      "Edges: 72478\n"
     ]
    }
   ],
   "source": [
    "ba_G = nx.barabasi_albert_graph(G.number_of_nodes(), 7, seed = 42)\n",
    "print(\"Nodes:\",ba_G.number_of_nodes())\n",
    "print(\"Edges:\",ba_G.number_of_edges())"
   ]
  },
  {
   "cell_type": "code",
   "execution_count": 8,
   "id": "28fa3f8b",
   "metadata": {},
   "outputs": [],
   "source": [
    "nx.write_graphml(ba_G, path_graph+\"BA_Network.graphml\")"
   ]
  },
  {
   "cell_type": "markdown",
   "id": "3f37530c",
   "metadata": {},
   "source": [
    "# 1 - Degree Distribution"
   ]
  },
  {
   "cell_type": "code",
   "execution_count": 9,
   "id": "eefdd1d8",
   "metadata": {},
   "outputs": [
    {
     "data": {
      "image/png": "[encoded data removed]",
      "text/plain": [
       "<Figure size 432x288 with 1 Axes>"
      ]
     },
     "metadata": {
      "needs_background": "light"
     },
     "output_type": "display_data"
    }
   ],
   "source": [
    "degree_dist(ba_G, \"Barabasi_Albert\", \"BA\")"
   ]
  },
  {
   "cell_type": "code",
   "execution_count": 10,
   "id": "e43f0e58",
   "metadata": {},
   "outputs": [
    {
     "name": "stdout",
     "output_type": "stream",
     "text": [
      "Calculating best minimal value for power law fit\n",
      "xmin progress: 00%\r",
      "xmin progress: 02%\r",
      "xmin progress: 04%\r",
      "xmin progress: 06%\r",
      "xmin progress: 08%\r",
      "xmin progress: 10%\r",
      "xmin progress: 13%\r",
      "xmin progress: 15%\r",
      "xmin progress: 17%\r",
      "xmin progress: 19%\r",
      "xmin progress: 21%\r",
      "xmin progress: 23%\r",
      "xmin progress: 26%\r",
      "xmin progress: 28%\r",
      "xmin progress: 30%\r",
      "xmin progress: 32%\r",
      "xmin progress: 34%\r",
      "xmin progress: 36%\r",
      "xmin progress: 39%\r",
      "xmin progress: 41%\r",
      "xmin progress: 43%\r",
      "xmin progress: 45%\r",
      "xmin progress: 47%\r",
      "xmin progress: 50%\r",
      "xmin progress: 52%\r",
      "xmin progress: 54%\r",
      "xmin progress: 56%\r",
      "xmin progress: 58%\r",
      "xmin progress: 60%\r",
      "xmin progress: 63%\r",
      "xmin progress: 65%\r",
      "xmin progress: 67%\r",
      "xmin progress: 69%\r",
      "xmin progress: 71%\r",
      "xmin progress: 73%\r",
      "xmin progress: 76%\r",
      "xmin progress: 78%\r",
      "xmin progress: 80%\r",
      "xmin progress: 82%\r",
      "xmin progress: 84%\r",
      "xmin progress: 86%\r",
      "xmin progress: 89%\r",
      "xmin progress: 91%\r",
      "xmin progress: 93%\r",
      "xmin progress: 95%\r",
      "xmin progress: 97%\r",
      "**** Degree Distribution for Barabasi_Albert graph ****\n"
     ]
    },
    {
     "name": "stderr",
     "output_type": "stream",
     "text": [
      "C:\\Users\\naomi\\Documents\\GitHub\\sna-project-2022_cosmo_d-arrigo_esposito\\2 - NetworkAnalysis\\net_analysis.py:40: UserWarning: Attempted to set non-positive left xlim on a log-scaled axis.\n",
      "Invalid limit will be ignored.\n",
      "  plt.xlim((min(degree), max(degree)))\n"
     ]
    },
    {
     "data": {
      "image/png": "[encoded data removed]",
      "text/plain": [
       "<Figure size 1152x432 with 3 Axes>"
      ]
     },
     "metadata": {
      "needs_background": "light"
     },
     "output_type": "display_data"
    },
    {
     "name": "stdout",
     "output_type": "stream",
     "text": [
      "alpha=2.581401389207888 sigma=0.0612850874894322\n"
     ]
    }
   ],
   "source": [
    "plot_dist(ba_G, \"Barabasi_Albert\", \"BA\")"
   ]
  },
  {
   "cell_type": "code",
   "execution_count": 11,
   "id": "e8bcf69d",
   "metadata": {},
   "outputs": [
    {
     "name": "stdout",
     "output_type": "stream",
     "text": [
      "***** Degree info for Barabasi_Albert graph ***\n",
      "Maximum degree: (422, 8)\n",
      "Minimum degree: (7, 1607)\n"
     ]
    }
   ],
   "source": [
    "info_degree(ba_G , \"Barabasi_Albert\")"
   ]
  },
  {
   "cell_type": "markdown",
   "id": "5aefd565",
   "metadata": {},
   "source": [
    "# 2 - Connected Components"
   ]
  },
  {
   "cell_type": "code",
   "execution_count": 12,
   "id": "30644f94",
   "metadata": {},
   "outputs": [
    {
     "name": "stdout",
     "output_type": "stream",
     "text": [
      "**** Connected components for Barabasi_Albert graph ****\n",
      "Number of Connected Components for Barabasi_Albert: 1\n",
      "\t component len = 10361\n"
     ]
    }
   ],
   "source": [
    "components = n_connected_components(ba_G , \"Barabasi_Albert\")"
   ]
  },
  {
   "cell_type": "markdown",
   "id": "1bf33866",
   "metadata": {},
   "source": [
    "# 3 - Path Analysis"
   ]
  },
  {
   "cell_type": "code",
   "execution_count": 13,
   "id": "aef4e608",
   "metadata": {},
   "outputs": [
    {
     "name": "stdout",
     "output_type": "stream",
     "text": [
      "***** Path analysis for Barabasi_Albert graph\n",
      "Diameter for components 0 network Barabasi_Albert: 5\n",
      "Average shortest path for components 0 network Barabasi_Albert: 3.3685859394767803\n"
     ]
    }
   ],
   "source": [
    "path_analysis(ba_G , \"Barabasi_Albert\", components)"
   ]
  },
  {
   "cell_type": "markdown",
   "id": "f25c2284",
   "metadata": {},
   "source": [
    "# 4 - Clustering Coefficient "
   ]
  },
  {
   "cell_type": "code",
   "execution_count": 14,
   "id": "139cf341",
   "metadata": {},
   "outputs": [
    {
     "name": "stdout",
     "output_type": "stream",
     "text": [
      "*** Clustering coefficient analyssi for Barabasi_Albert graph ***\n",
      "Min: 0\n",
      "Max: 0.19047619047619047\n",
      "Mean: 0.008459655985215172\n",
      "Stdev: 0.017067903637867126\n"
     ]
    }
   ],
   "source": [
    "name, values = c_coefficient_analysis(ba_G , \"Barabasi_Albert\")"
   ]
  },
  {
   "cell_type": "code",
   "execution_count": 15,
   "id": "cfbf82b1",
   "metadata": {},
   "outputs": [
    {
     "name": "stdout",
     "output_type": "stream",
     "text": [
      "**** Distribution degree/clustering for Barabasi_Albert graph ***\n"
     ]
    },
    {
     "data": {
      "image/png": "[encoded data removed]",
      "text/plain": [
       "<Figure size 1440x360 with 1 Axes>"
      ]
     },
     "metadata": {
      "needs_background": "light"
     },
     "output_type": "display_data"
    }
   ],
   "source": [
    "degree_clustering(ba_G , \"Barabasi_Albert\", \"BA\")"
   ]
  },
  {
   "cell_type": "markdown",
   "id": "c9460fd7",
   "metadata": {},
   "source": [
    "# 5 - Density Analysis"
   ]
  },
  {
   "cell_type": "code",
   "execution_count": 16,
   "id": "860b2439",
   "metadata": {},
   "outputs": [
    {
     "name": "stdout",
     "output_type": "stream",
     "text": [
      "Density for Barabasi_Albert graph: 0.0013504383642401207\n"
     ]
    }
   ],
   "source": [
    "density_analysis(ba_G , \"Barabasi_Albert\")"
   ]
  },
  {
   "cell_type": "code",
   "execution_count": null,
   "id": "f5afe41f",
   "metadata": {},
   "outputs": [],
   "source": []
  }
 ],
 "metadata": {
  "kernelspec": {
   "display_name": "Python 3",
   "language": "python",
   "name": "python3"
  },
  "language_info": {
   "codemirror_mode": {
    "name": "ipython",
    "version": 3
   },
   "file_extension": ".py",
   "mimetype": "text/x-python",
   "name": "python",
   "nbconvert_exporter": "python",
   "pygments_lexer": "ipython3",
   "version": "3.8.8"
  }
 },
 "nbformat": 4,
 "nbformat_minor": 5
}
