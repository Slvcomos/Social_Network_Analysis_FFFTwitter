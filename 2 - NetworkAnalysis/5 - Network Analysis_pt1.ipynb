{
 "cells": [
  {
   "cell_type": "code",
   "execution_count": null,
   "id": "07d9ed7a",
   "metadata": {},
   "outputs": [],
   "source": [
    "import powerlaw"
   ]
  },
  {
   "cell_type": "code",
   "execution_count": null,
   "id": "d741819b",
   "metadata": {},
   "outputs": [],
   "source": [
    "powerlaw.Fit??"
   ]
  },
  {
   "cell_type": "code",
   "execution_count": null,
   "id": "847c6f18",
   "metadata": {},
   "outputs": [],
   "source": [
    "from net_analysis import *"
   ]
  },
  {
   "cell_type": "code",
   "execution_count": null,
   "id": "2e961415",
   "metadata": {},
   "outputs": [],
   "source": [
    "import networkx as nx\n",
    "import numpy as np\n",
    "import pandas as pd\n",
    "import matplotlib.pyplot as plt\n",
    "from collections import Counter\n",
    "from operator import itemgetter\n",
    "import powerlaw\n",
    "from networkx.drawing.nx_agraph import graphviz_layout\n",
    "import pickle\n",
    "from statistics import mean, stdev\n",
    "import seaborn as sns"
   ]
  },
  {
   "cell_type": "code",
   "execution_count": null,
   "id": "c48df7f5",
   "metadata": {},
   "outputs": [],
   "source": [
    "path = \"../DataSet SuperUsers/2 - NetworkAnalysis/edges.csv\""
   ]
  },
  {
   "cell_type": "code",
   "execution_count": null,
   "id": "e3beee47",
   "metadata": {},
   "outputs": [],
   "source": [
    "path_graph = \"../DataSet SuperUsers/2 - NetworkAnalysis/Graph_data/\""
   ]
  },
  {
   "cell_type": "markdown",
   "id": "d3ab8c22",
   "metadata": {},
   "source": [
    "# 1 - Real World network analysis"
   ]
  },
  {
   "cell_type": "markdown",
   "id": "b0d1cb45",
   "metadata": {},
   "source": [
    "Read unidirect network:\n",
    "for a unidirect network:\n",
    "average degree < k > = 2L/N"
   ]
  },
  {
   "cell_type": "code",
   "execution_count": null,
   "id": "230f1e3f",
   "metadata": {},
   "outputs": [],
   "source": [
    "G = nx.read_edgelist(path, comments = \"S\", delimiter = \",\", data=((\"Count\", int),))"
   ]
  },
  {
   "cell_type": "code",
   "execution_count": null,
   "id": "a59c1f8e",
   "metadata": {},
   "outputs": [],
   "source": [
    "print(nx.info(G))"
   ]
  },
  {
   "cell_type": "code",
   "execution_count": null,
   "id": "7c6945f1",
   "metadata": {},
   "outputs": [],
   "source": [
    "nx.write_graphml(G, path_graph+\"Real_Network.graphml\")"
   ]
  },
  {
   "cell_type": "code",
   "execution_count": null,
   "id": "6e025441",
   "metadata": {},
   "outputs": [],
   "source": []
  },
  {
   "cell_type": "markdown",
   "id": "3f120af8",
   "metadata": {},
   "source": [
    "Maximum number of edges that a unidirect graph can contain:\n",
    "Lmax = N(N-1)/2"
   ]
  },
  {
   "cell_type": "code",
   "execution_count": null,
   "id": "82136b48",
   "metadata": {},
   "outputs": [],
   "source": [
    "N = G.number_of_nodes()\n",
    "print(\"LMAX: \", (N * (N-1))/2.0)"
   ]
  },
  {
   "cell_type": "code",
   "execution_count": null,
   "id": "e08dfe50",
   "metadata": {},
   "outputs": [],
   "source": []
  },
  {
   "cell_type": "markdown",
   "id": "96197e24",
   "metadata": {},
   "source": [
    "Mean degree:\n",
    "< k > = 2*L/N"
   ]
  },
  {
   "cell_type": "code",
   "execution_count": null,
   "id": "e31f8ccf",
   "metadata": {},
   "outputs": [],
   "source": [
    "avg_degree=(2*G.number_of_edges())/N\n",
    "avg_degree"
   ]
  },
  {
   "cell_type": "code",
   "execution_count": null,
   "id": "8b7fe871",
   "metadata": {},
   "outputs": [],
   "source": []
  },
  {
   "cell_type": "markdown",
   "id": "39028697",
   "metadata": {},
   "source": [
    "Network density:\n",
    "d(G) = L/Lmax"
   ]
  },
  {
   "cell_type": "code",
   "execution_count": null,
   "id": "6d99172c",
   "metadata": {},
   "outputs": [],
   "source": [
    "density = nx.density(G)\n",
    "print(\"Density: \", density)"
   ]
  },
  {
   "cell_type": "code",
   "execution_count": null,
   "id": "b5cb26b0",
   "metadata": {},
   "outputs": [],
   "source": []
  },
  {
   "cell_type": "markdown",
   "id": "68cc2f4e",
   "metadata": {},
   "source": [
    "For sparse network:\n",
    "      L << Lmax     \n",
    "      < k > << N-1  \n",
    "      d(G) << 1  "
   ]
  },
  {
   "cell_type": "code",
   "execution_count": null,
   "id": "9e39c97a",
   "metadata": {},
   "outputs": [],
   "source": []
  },
  {
   "cell_type": "markdown",
   "id": "26640224",
   "metadata": {},
   "source": [
    "Top 10 nodes by degree"
   ]
  },
  {
   "cell_type": "code",
   "execution_count": null,
   "id": "6a0d854a",
   "metadata": {},
   "outputs": [],
   "source": [
    "degree_dict = dict(G.degree(G.nodes()))\n",
    "nx.set_node_attributes(G, degree_dict, 'degree')\n",
    "sorted_degree = sorted(degree_dict.items(), key = itemgetter(1), reverse = True)\n",
    "print(\" ---- Top 20 nodes by degree ----\")\n",
    "for d in sorted_degree[:20]:\n",
    "    print(\"\\t\" + str(d))"
   ]
  },
  {
   "cell_type": "code",
   "execution_count": null,
   "id": "3928e2bd",
   "metadata": {},
   "outputs": [],
   "source": [
    "len(sorted_degree)"
   ]
  },
  {
   "cell_type": "code",
   "execution_count": null,
   "id": "93551316",
   "metadata": {},
   "outputs": [],
   "source": [
    "example_path = nx.shortest_path(G, source = \"adal.js\", target = \"elmo\")\n",
    "example_path"
   ]
  },
  {
   "cell_type": "code",
   "execution_count": null,
   "id": "1ab16c07",
   "metadata": {},
   "outputs": [],
   "source": []
  },
  {
   "cell_type": "markdown",
   "id": "021ef603",
   "metadata": {},
   "source": [
    "Number of selfloops:"
   ]
  },
  {
   "cell_type": "code",
   "execution_count": null,
   "id": "a775be14",
   "metadata": {},
   "outputs": [],
   "source": [
    "print(\"Number of selfloops:\",nx.number_of_selfloops(G))"
   ]
  },
  {
   "cell_type": "code",
   "execution_count": null,
   "id": "9d3279dd",
   "metadata": {},
   "outputs": [],
   "source": []
  },
  {
   "cell_type": "markdown",
   "id": "bed9ab52",
   "metadata": {},
   "source": [
    "Average clustering coefficient:"
   ]
  },
  {
   "cell_type": "code",
   "execution_count": null,
   "id": "65d1e5bc",
   "metadata": {},
   "outputs": [],
   "source": [
    "print(\"Avg Clustering coefficient:\", nx.average_clustering(G))"
   ]
  },
  {
   "cell_type": "code",
   "execution_count": null,
   "id": "b7de1eaa",
   "metadata": {},
   "outputs": [],
   "source": []
  },
  {
   "cell_type": "markdown",
   "id": "0b411a3b",
   "metadata": {},
   "source": [
    "Check if the network is connected"
   ]
  },
  {
   "cell_type": "code",
   "execution_count": null,
   "id": "e843fe47",
   "metadata": {},
   "outputs": [],
   "source": [
    "print(\"Is connected: \", nx.is_connected(G))"
   ]
  },
  {
   "cell_type": "code",
   "execution_count": null,
   "id": "6fa44a62",
   "metadata": {},
   "outputs": [],
   "source": []
  },
  {
   "cell_type": "markdown",
   "id": "5590117a",
   "metadata": {},
   "source": [
    "# 2 - Models construction"
   ]
  },
  {
   "cell_type": "markdown",
   "id": "8d2cf64c",
   "metadata": {},
   "source": [
    "Barabási-Albert (scale-free - preferential attachment):\n",
    "Function networkx.barabasi_albert_graph(n, m, seed) return a random graph according to the Barabàsi-Albert preferential attachment model.\n",
    "A graph of n nodes is grown by attaching new nodes each with m edges that are preferentially attached to existing nodes with high degree. Where 1 <= m < n\n",
    "\n",
    "Growth: While the random network model assumes that the number of nodes is fixed (time invariant), real networks are the result of a growth process that continuously increases.\n",
    "\n",
    "Preferential Attachment: While nodes in random networks randomly choose their interaction partner, in real networks new nodes prefer to link to the more connected nodes."
   ]
  },
  {
   "cell_type": "code",
   "execution_count": null,
   "id": "395b3f96",
   "metadata": {},
   "outputs": [],
   "source": [
    "ba_G = nx.read_graphml(path_graph+\"BA_Network.graphml\")"
   ]
  },
  {
   "cell_type": "code",
   "execution_count": null,
   "id": "3805245d",
   "metadata": {},
   "outputs": [],
   "source": [
    "#ba_G = nx.barabasi_albert_graph(G.number_of_nodes(), 10, seed = 42)\n",
    "print(\"Nodes:\",ba_G.number_of_nodes())\n",
    "print(\"Edges:\",ba_G.number_of_edges())"
   ]
  },
  {
   "cell_type": "code",
   "execution_count": null,
   "id": "1f16ec66",
   "metadata": {},
   "outputs": [],
   "source": []
  },
  {
   "cell_type": "markdown",
   "id": "4654ac15",
   "metadata": {},
   "source": [
    "Watts-Strogatz (small-world):\n",
    "Function watts_strogatz_graph(n, k, p, seed=None) return a Watts-Strogatz small-world graph. Where k = Each node is connected to k nearest neighbors in ring topology; p = The probability of rewiring each edge"
   ]
  },
  {
   "cell_type": "markdown",
   "id": "005703da",
   "metadata": {},
   "source": [
    "A model to capture large clustering coefficient and short distances observed in real networks. From regular lattice (p=0)\n",
    "..to random netwroks (p=1)..\n",
    ".. passing by the small world regime (0.001 < p < 0.1)"
   ]
  },
  {
   "cell_type": "code",
   "execution_count": null,
   "id": "0cd105f5",
   "metadata": {},
   "outputs": [],
   "source": [
    "ws_G = nx.read_graphml(path_graph+\"WS_Network.graphml\")"
   ]
  },
  {
   "cell_type": "code",
   "execution_count": null,
   "id": "35118dbd",
   "metadata": {},
   "outputs": [],
   "source": [
    "#ws_G = nx.watts_strogatz_graph(G.number_of_nodes(), k=20, p=0.1, seed = 42)\n",
    "print(\"Nodes:\",ws_G.number_of_nodes())\n",
    "print(\"Edges:\",ws_G.number_of_edges())"
   ]
  },
  {
   "cell_type": "code",
   "execution_count": null,
   "id": "03722a39",
   "metadata": {},
   "outputs": [],
   "source": []
  },
  {
   "cell_type": "markdown",
   "id": "379d57a7",
   "metadata": {},
   "source": [
    "Erdös–Rényi (random):\n",
    "Function networkx.erdos_renyi_graph(n, p, seed=None, directed=True) return a random graph. The model chooses each of the possible edges with probability p."
   ]
  },
  {
   "cell_type": "markdown",
   "id": "81a6bf69",
   "metadata": {},
   "source": [
    "A random graph is a graph of N nodes where each pair of nodes is connected by probability p. ER Regimes:\n",
    "\n",
    "- Subcritical: regime <1, p < pc = 1/N\n",
    "- Critical regime = 1, p=pc=1/N\n",
    "- Supercritical regime ( > 1, p > pc=1/N )\n",
    "- Connected regime ( > ln N, p > (ln N)/N)"
   ]
  },
  {
   "cell_type": "code",
   "execution_count": null,
   "id": "a5c63c2d",
   "metadata": {},
   "outputs": [],
   "source": [
    "er_G = nx.read_graphml(path_graph+\"ER_Network.graphml\")"
   ]
  },
  {
   "cell_type": "code",
   "execution_count": null,
   "id": "b803daec",
   "metadata": {},
   "outputs": [],
   "source": [
    "#er_G = nx.gnm_random_graph(G.number_of_nodes(), G.number_of_edges())\n",
    "print(\"Nodes:\", er_G.number_of_nodes())\n",
    "print(\"Edges:\", er_G.number_of_edges())"
   ]
  },
  {
   "cell_type": "code",
   "execution_count": null,
   "id": "fb8c4870",
   "metadata": {},
   "outputs": [],
   "source": []
  },
  {
   "cell_type": "markdown",
   "id": "0257ec6f",
   "metadata": {},
   "source": [
    "Configuration model:\n",
    "creation Unidirected Configuration Model"
   ]
  },
  {
   "cell_type": "code",
   "execution_count": null,
   "id": "7c019fc4",
   "metadata": {},
   "outputs": [],
   "source": [
    "cmodel = nx.read_graphml(path_graph+\"CM_Network.graphml\")"
   ]
  },
  {
   "cell_type": "code",
   "execution_count": null,
   "id": "458f4edd",
   "metadata": {},
   "outputs": [],
   "source": [
    "print(\"Nodes:\", cmodel.number_of_nodes())\n",
    "print(\"Edges:\", cmodel.number_of_edges())"
   ]
  },
  {
   "cell_type": "code",
   "execution_count": null,
   "id": "d1f9e42d",
   "metadata": {},
   "outputs": [],
   "source": [
    "models = {\"Real Network\": G,\n",
    "          \"Barabasi Albert\": ba_G, \n",
    "          \"Watts Strogatz\": ws_G, \n",
    "          \"Erdos Renyi\": er_G, \n",
    "          \"Configuration Model\": cmodel\n",
    "         }"
   ]
  },
  {
   "cell_type": "markdown",
   "id": "3ca44962",
   "metadata": {},
   "source": [
    "# 3 - Degree Distribution"
   ]
  },
  {
   "cell_type": "markdown",
   "id": "7faeadfd",
   "metadata": {},
   "source": [
    "Visualize the digree distribution"
   ]
  },
  {
   "cell_type": "code",
   "execution_count": null,
   "id": "02c07f15",
   "metadata": {},
   "outputs": [],
   "source": [
    "def degree_dist(G, name):\n",
    "    hist = nx.degree_histogram(G)\n",
    "    plt.plot(range(0, len(hist[4:])), hist[4:], \".\")\n",
    "    plt.title(f\"Degree Distribution for {name} graph\")\n",
    "    plt.xlabel(\"Degree\")\n",
    "    plt.ylabel(\"P(k)\")\n",
    "    plt.loglog()\n",
    "    plt.show()"
   ]
  },
  {
   "cell_type": "code",
   "execution_count": null,
   "id": "fa23c845",
   "metadata": {},
   "outputs": [],
   "source": [
    "degree_dist(models[\"Real Network\"], \"Real Network\")"
   ]
  },
  {
   "cell_type": "markdown",
   "id": "f3b85e9f",
   "metadata": {},
   "source": [
    "Degree distribution with powerlaw fit"
   ]
  },
  {
   "cell_type": "code",
   "execution_count": null,
   "id": "d12330ee",
   "metadata": {},
   "outputs": [],
   "source": [
    "plot_dist(models[\"Real Network\"], \"Real Network\")"
   ]
  },
  {
   "cell_type": "markdown",
   "id": "de87fcb3",
   "metadata": {},
   "source": [
    "Degree info"
   ]
  },
  {
   "cell_type": "code",
   "execution_count": null,
   "id": "8d9bb5c0",
   "metadata": {},
   "outputs": [],
   "source": [
    "def info_degree(G, name):\n",
    "    print(f\"***** Degree info for {name} graph ***\")\n",
    "    degree_sequence = sorted([(d, n) for n, d in G.degree()], reverse=True)\n",
    "    dmax = max(degree_sequence)\n",
    "    print(\"Maximum degree:\", dmax)\n",
    "    dmin = min(degree_sequence)\n",
    "    print(\"Minimum degree:\", dmin)"
   ]
  },
  {
   "cell_type": "code",
   "execution_count": null,
   "id": "9c0704c1",
   "metadata": {},
   "outputs": [],
   "source": [
    "info_degree(models[\"Real Network\"], \"Real Network\")"
   ]
  },
  {
   "cell_type": "markdown",
   "id": "fa36c20b",
   "metadata": {},
   "source": [
    "Degree distribution plot"
   ]
  },
  {
   "cell_type": "code",
   "execution_count": null,
   "id": "0ffe786c",
   "metadata": {},
   "outputs": [],
   "source": [
    "def degree_dist_plot(models):\n",
    "    graphs = []\n",
    "    for model in models:\n",
    "        graphs.append((models[model], model))\n",
    "    fig = plt.figure(figsize=(16,8), dpi= 300)\n",
    "    labels = []\n",
    "    for i in graphs:\n",
    "        print(f\"Network - {i[1]}\")\n",
    "        degrees = i[0].degree()\n",
    "        values = sorted(set([v for k, v in degrees]))\n",
    "        hist = [[v for k, v in degrees].count(x) for x in values]\n",
    "        labels.append(i[1])\n",
    "        if(i[1] == \"Real Network\"):\n",
    "            plt.loglog(values, hist, 'o-')\n",
    "        else:\n",
    "            plt.loglog(values, hist, 'o')\n",
    "    fontsize = 15\n",
    "    plt.yticks(fontsize=fontsize, alpha=1)\n",
    "    plt.xlabel(\"Degree\", fontsize=fontsize)\n",
    "    plt.ylabel(\"Number of nodes\", fontsize=fontsize)\n",
    "    plt.title(\"Degree Distribution\", fontsize=fontsize)\n",
    "    plt.legend(labels, fontsize=fontsize)\n",
    "    plt.grid(axis='both', alpha=.3)\n",
    "    \n",
    "    plt.xlim([0, 2*10**2])\n",
    "\n",
    "    plt.gca().spines[\"top\"].set_alpha(0.0)    \n",
    "    plt.gca().spines[\"bottom\"].set_alpha(0.3)\n",
    "    plt.gca().spines[\"right\"].set_alpha(0.0)    \n",
    "    plt.gca().spines[\"left\"].set_alpha(0.3)   \n",
    "    plt.show()"
   ]
  },
  {
   "cell_type": "markdown",
   "id": "9d5fa2d7",
   "metadata": {},
   "source": [
    "The real world degree distribution is very similar to configuration model"
   ]
  },
  {
   "cell_type": "code",
   "execution_count": null,
   "id": "0d8badd4",
   "metadata": {},
   "outputs": [],
   "source": [
    "degree_dist_plot(models)"
   ]
  },
  {
   "cell_type": "markdown",
   "id": "32559908",
   "metadata": {},
   "source": [
    "# 4 - Connected Components"
   ]
  },
  {
   "cell_type": "code",
   "execution_count": null,
   "id": "efb463b7",
   "metadata": {},
   "outputs": [],
   "source": [
    "def n_connected_components(G, name):\n",
    "    print(f\"**** Connected components for {name} graph ****\")\n",
    "    # list of connected components\n",
    "    n_connected_component = list(nx.connected_components(G))\n",
    "    print(f\"Number of Connected Components for {name}: {len(n_connected_component)}\")\n",
    "    for i in range(len(n_connected_component)):\n",
    "        if i < 3:\n",
    "            print(f\"\\t component len = {len(n_connected_component[i])}\")\n",
    "    # Giant component -> Identify and store giant component\n",
    "    H = nx.Graph()\n",
    "    H = nx.subgraph(G,n_connected_component[0])\n",
    "    nx.write_graphml(H, path_graph+\"giant_component/\"+ name+\".graphml\")\n",
    "    return n_connected_component\n"
   ]
  },
  {
   "cell_type": "code",
   "execution_count": null,
   "id": "2b7b743c",
   "metadata": {},
   "outputs": [],
   "source": [
    "components = n_connected_components(models[\"Real Network\"], \"Real Network\")"
   ]
  },
  {
   "cell_type": "markdown",
   "id": "22c0a265",
   "metadata": {},
   "source": [
    "# 5 - Path Analysis"
   ]
  },
  {
   "cell_type": "markdown",
   "id": "a8dfbbcd",
   "metadata": {},
   "source": [
    "Shortest Path"
   ]
  },
  {
   "cell_type": "code",
   "execution_count": null,
   "id": "770ace0b",
   "metadata": {},
   "outputs": [],
   "source": [
    "def path_analysis(G, name, components):\n",
    "    print(f\"***** Path analysis for {name} graph\")\n",
    "    print(f\"Diameter for components 0 network {name}: {nx.diameter(G.subgraph(components[0]))}\")\n",
    "    print(f\"Average shortest path for components 0 network {name}: {nx.average_shortest_path_length(G.subgraph(components[0]))}\")\n",
    "    "
   ]
  },
  {
   "cell_type": "code",
   "execution_count": null,
   "id": "8563379c",
   "metadata": {},
   "outputs": [],
   "source": [
    "path_analysis(models[\"Real Network\"], \"Real Network\", components)"
   ]
  },
  {
   "cell_type": "code",
   "execution_count": null,
   "id": "67274b4b",
   "metadata": {},
   "outputs": [],
   "source": [
    "print(f\"Average shortest path for components 0 network Real Network weighted: {nx.average_shortest_path_length(G.subgraph(components[0]), weight='Count')}\")\n"
   ]
  },
  {
   "cell_type": "markdown",
   "id": "160606f7",
   "metadata": {},
   "source": [
    "# 6 - Clustering Coefficient"
   ]
  },
  {
   "cell_type": "markdown",
   "id": "5a4fcc50",
   "metadata": {},
   "source": [
    "Average clustering coefficient"
   ]
  },
  {
   "cell_type": "code",
   "execution_count": null,
   "id": "0c984102",
   "metadata": {},
   "outputs": [],
   "source": [
    "G_cc = nx.average_clustering(G)\n",
    "print('Real world average cluster coefficient: ' + str(G_cc) + '\\n')"
   ]
  },
  {
   "cell_type": "markdown",
   "id": "3c5d8983",
   "metadata": {},
   "source": [
    "# Clustering coefficient distribution"
   ]
  },
  {
   "cell_type": "markdown",
   "id": "9c45f06f",
   "metadata": {},
   "source": [
    "The avarage clustering for the cm cannot be calculated because it is a multigraph (the function always returns a multigraph)"
   ]
  },
  {
   "cell_type": "code",
   "execution_count": null,
   "id": "83ecae5b",
   "metadata": {},
   "outputs": [],
   "source": [
    "def degree_clustering(G, name):\n",
    "    print(f\"**** Distribution degree/clustering for {name} graph ***\")\n",
    "    degrees = G.degree()\n",
    "    local_clustering_coefficient= []\n",
    "    degree = []\n",
    "\n",
    "    for d in degrees:\n",
    "        local_clustering_coefficient.append(nx.clustering(G,d[0]))\n",
    "        #print(local_clustering_coefficient)\n",
    "        degree.append(d[1])\n",
    "        \n",
    "    plt.figure(figsize=(20,5))\n",
    "    plt.scatter(degree, local_clustering_coefficient)\n",
    "\n",
    "    plt.xlabel(\"k\")\n",
    "    plt.ylabel(\"C(k)\")\n",
    "\n",
    "    plt.show()"
   ]
  },
  {
   "cell_type": "code",
   "execution_count": null,
   "id": "ae890252",
   "metadata": {},
   "outputs": [],
   "source": [
    "#for model in models:\n",
    "#    degree_clustering(models[model], model)\n",
    "degree_clustering(models[\"Real Network\"], \"Real Network\")"
   ]
  },
  {
   "cell_type": "code",
   "execution_count": null,
   "id": "76da9b8e",
   "metadata": {},
   "outputs": [],
   "source": [
    "def c_coefficient_analysis(G, name):\n",
    "    clustering_g = nx.clustering(G)\n",
    "    print(f\"*** Clustering coefficient analysis for {name} graph ***\")\n",
    "    #print(f\"CC: {clustering_g.values()}\")\n",
    "    print(f\"Min: {min(clustering_g.values())}\")\n",
    "    print(f\"Max: {max(clustering_g.values())}\")\n",
    "    print(f\"Mean: {mean(clustering_g.values())}\")\n",
    "    print(f\"Stdev: {stdev(clustering_g.values())}\")\n",
    "    return (name, clustering_g.values())"
   ]
  },
  {
   "cell_type": "code",
   "execution_count": null,
   "id": "c58d08eb",
   "metadata": {},
   "outputs": [],
   "source": [
    "name, clustering_g = c_coefficient_analysis(models[\"Real Network\"], \"Real Network\")"
   ]
  },
  {
   "cell_type": "code",
   "execution_count": null,
   "id": "3b5f6a29",
   "metadata": {},
   "outputs": [],
   "source": []
  },
  {
   "cell_type": "code",
   "execution_count": null,
   "id": "565f2dc2",
   "metadata": {},
   "outputs": [],
   "source": []
  },
  {
   "cell_type": "code",
   "execution_count": null,
   "id": "89e80c42",
   "metadata": {},
   "outputs": [],
   "source": []
  }
 ],
 "metadata": {
  "kernelspec": {
   "display_name": "Python 3",
   "language": "python",
   "name": "python3"
  },
  "language_info": {
   "codemirror_mode": {
    "name": "ipython",
    "version": 3
   },
   "file_extension": ".py",
   "mimetype": "text/x-python",
   "name": "python",
   "nbconvert_exporter": "python",
   "pygments_lexer": "ipython3",
   "version": "3.8.8"
  }
 },
 "nbformat": 4,
 "nbformat_minor": 5
}
