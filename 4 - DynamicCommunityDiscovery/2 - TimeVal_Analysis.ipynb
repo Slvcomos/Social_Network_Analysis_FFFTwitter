{
 "cells": [
  {
   "cell_type": "code",
   "execution_count": null,
   "id": "c9be72b9",
   "metadata": {},
   "outputs": [],
   "source": [
    "import pandas as pd\n",
    "import numpy as np\n",
    "import matplotlib.pyplot as plt"
   ]
  },
  {
   "cell_type": "code",
   "execution_count": null,
   "id": "d35d6711",
   "metadata": {},
   "outputs": [],
   "source": [
    "path_tags= \"../Dataset FFF/hashtags_with_time.csv\""
   ]
  },
  {
   "cell_type": "code",
   "execution_count": null,
   "id": "a2acccd5",
   "metadata": {},
   "outputs": [],
   "source": [
    "path_couple= \"../Dataset FFF/hashtags_edges_with_time.csv\""
   ]
  },
  {
   "cell_type": "code",
   "execution_count": null,
   "id": "d071071f",
   "metadata": {},
   "outputs": [],
   "source": [
    "path_tweet = \"../Dataset FFF/tweet_with_time.csv\""
   ]
  },
  {
   "cell_type": "code",
   "execution_count": null,
   "id": "f25cfc62",
   "metadata": {},
   "outputs": [],
   "source": [
    "df_tags = pd.read_csv(path_tags)"
   ]
  },
  {
   "cell_type": "code",
   "execution_count": null,
   "id": "92236b01",
   "metadata": {},
   "outputs": [],
   "source": [
    "df_couple = pd.read_csv(path_couple)"
   ]
  },
  {
   "cell_type": "code",
   "execution_count": null,
   "id": "6e3d8aa0",
   "metadata": {},
   "outputs": [],
   "source": [
    "df_tweet = pd.read_csv(path_tweet)"
   ]
  },
  {
   "cell_type": "code",
   "execution_count": null,
   "id": "a0b67e26",
   "metadata": {},
   "outputs": [],
   "source": [
    "df_tweet[\"Id\"] = [1 for i in range(len(df_tweet))]"
   ]
  },
  {
   "cell_type": "code",
   "execution_count": null,
   "id": "9a57c686",
   "metadata": {},
   "outputs": [],
   "source": [
    "plt.plot([i for i in range(1, 13)], list(df_tweet.groupby(['Month']).sum()[\"Id\"]) , color='blue', marker='o')\n",
    "plt.title('Tweet per Month', fontsize=14)\n",
    "plt.xlabel('Month', fontsize=14)\n",
    "plt.xticks(np.arange(13),[\"\", \"January\", \"February\", \"March\", \"April\", \"May\", \"June\", \"July\", \"August\", \"September\", \"October\", \"November\", \"December\"], rotation=50)\n",
    "plt.ylabel('Number of tweet', fontsize=14)\n",
    "plt.grid(True)\n",
    "plt.show()"
   ]
  },
  {
   "cell_type": "code",
   "execution_count": null,
   "id": "e8b73909",
   "metadata": {},
   "outputs": [],
   "source": [
    "list(df_tweet.groupby(['Month']).sum()[\"Id\"])"
   ]
  },
  {
   "cell_type": "code",
   "execution_count": null,
   "id": "3a078dd9",
   "metadata": {},
   "outputs": [],
   "source": [
    "df_tags[\"Val\"] = [1 for i in range(len(df_tags))]"
   ]
  },
  {
   "cell_type": "code",
   "execution_count": null,
   "id": "1fb703a3",
   "metadata": {},
   "outputs": [],
   "source": [
    "df_tags"
   ]
  },
  {
   "cell_type": "code",
   "execution_count": null,
   "id": "8b055b74",
   "metadata": {},
   "outputs": [],
   "source": [
    "#DA CAMBIARE LA LEGEND ED IL TITLE QUI SOTTO"
   ]
  },
  {
   "cell_type": "code",
   "execution_count": null,
   "id": "b4ec2285",
   "metadata": {},
   "outputs": [],
   "source": [
    "plt.figure(figsize=(15,7))\n",
    "plt.plot([i for i in range(1, 13)], list(df_tags[df_tags[\"Id\"]==\"python\"].groupby(['Month']).sum()[\"Scores\"]) , color='blue')\n",
    "plt.plot([i for i in range(1, 13)], list(df_tags[df_tags[\"Id\"]==\"javascript\"].groupby(['Month']).sum()[\"Scores\"]) , color='orange')\n",
    "plt.plot([i for i in range(1, 13)], list(df_tags[df_tags[\"Id\"]==\"java\"].groupby(['Month']).sum()[\"Scores\"]) , color='green')\n",
    "plt.plot([i for i in range(1, 13)], list(df_tags[df_tags[\"Id\"]==\"c\"].groupby(['Month']).sum()[\"Scores\"]) , color='red')\n",
    "plt.plot([i for i in range(1, 13)], list(df_tags[df_tags[\"Id\"]==\"r\"].groupby(['Month']).sum()[\"Scores\"]) , color='yellow')\n",
    "plt.plot([i for i in range(1, 13)], list(df_tags[df_tags[\"Id\"]==\"ruby\"].groupby(['Month']).sum()[\"Scores\"]) , color='pink')\n",
    "plt.plot([i for i in range(1, 13)], list(df_tags[df_tags[\"Id\"]==\"c++\"].groupby(['Month']).sum()[\"Scores\"]) , color='violet')\n",
    "plt.plot([i for i in range(1, 13)], list(df_tags[df_tags[\"Id\"]==\"php\"].groupby(['Month']).sum()[\"Scores\"]) , color='black')\n",
    "plt.plot([i for i in range(1, 13)], list(df_tags[df_tags[\"Id\"]==\"c#\"].groupby(['Month']).sum()[\"Scores\"]) , color='gray')\n",
    "plt.legend([\"python\", \"javascript\", \"java\", \"c\", \"r\", \"ruby\", \"c++\", \"php\", \"c#\"])\n",
    "plt.title('Programming Languages per Month', fontsize=14)\n",
    "plt.xlabel('Month', fontsize=14)\n",
    "plt.xticks(np.arange(13),[\"\", \"January\", \"February\", \"March\", \"April\", \"May\", \"June\", \"July\", \"August\", \"September\", \"October\", \"November\", \"December\"], rotation=50)\n",
    "plt.ylabel('Scores', fontsize=14)\n",
    "plt.grid(True)\n",
    "plt.show()"
   ]
  },
  {
   "cell_type": "code",
   "execution_count": null,
   "id": "25f29b74",
   "metadata": {},
   "outputs": [],
   "source": [
    "plt.figure(figsize=(15,7))\n",
    "plt.plot([i for i in range(1, 13)], list(df_tags[df_tags[\"Id\"]==\"reactjs\"].groupby(['Month']).sum()[\"Scores\"]) , color='blue')\n",
    "plt.plot([i for i in range(1, 13)], list(df_tags[df_tags[\"Id\"]==\"ruby-on-rails\"].groupby(['Month']).sum()[\"Scores\"]) , color='orange')\n",
    "plt.plot([i for i in range(1, 13)], list(df_tags[df_tags[\"Id\"]==\"asp.net\"].groupby(['Month']).sum()[\"Scores\"]) , color='green')\n",
    "plt.plot([i for i in range(1, 13)], list(df_tags[df_tags[\"Id\"]==\"angular\"].groupby(['Month']).sum()[\"Scores\"]) , color='red')\n",
    "plt.plot([i for i in range(1, 13)], list(df_tags[df_tags[\"Id\"]==\"django\"].groupby(['Month']).sum()[\"Scores\"]) , color='pink')\n",
    "plt.plot([i for i in range(1, 13)], list(df_tags[df_tags[\"Id\"]==\"vue.js\"].groupby(['Month']).sum()[\"Scores\"]) , color='violet')\n",
    "plt.plot([i for i in range(1, 13)], list(df_tags[df_tags[\"Id\"]==\"laravel\"].groupby(['Month']).sum()[\"Scores\"]) , color='black')\n",
    "plt.plot([i for i in range(1, 13)], list(df_tags[df_tags[\"Id\"]==\"spring\"].groupby(['Month']).sum()[\"Scores\"]) , color='gray')\n",
    "plt.plot([i for i in range(1, 13)], list(df_tags[df_tags[\"Id\"]==\"flask\"].groupby(['Month']).sum()[\"Scores\"]) , color='brown')\n",
    "plt.legend([\"reactjs\", \"ruby-on-rails\", \"asp.net\", \"angular\", \"django\", \"vue.js\", \"laravel\", \"spring\", \"flask\"])\n",
    "plt.title('Web Framework per Month', fontsize=14)\n",
    "plt.xlabel('Month', fontsize=14)\n",
    "plt.xticks(np.arange(13),[\"\", \"January\", \"February\", \"March\", \"April\", \"May\", \"June\", \"July\", \"August\", \"September\", \"October\", \"November\", \"December\"], rotation=50)\n",
    "plt.ylabel('Scores', fontsize=14)\n",
    "plt.grid(True)\n",
    "plt.show()"
   ]
  },
  {
   "cell_type": "code",
   "execution_count": null,
   "id": "83d7cea6",
   "metadata": {},
   "outputs": [],
   "source": [
    "plt.figure(figsize=(15,7))\n",
    "plt.plot([i for i in range(1, 13)], list(df_tags[df_tags[\"Id\"]==\"ios\"].groupby(['Month']).sum()[\"Scores\"]) , color='blue')\n",
    "plt.plot([i for i in range(1, 13)], list(df_tags[df_tags[\"Id\"]==\"android\"].groupby(['Month']).sum()[\"Scores\"]) , color='orange')\n",
    "plt.plot([i for i in range(1, 13)], list(df_tags[df_tags[\"Id\"]==\"windows\"].groupby(['Month']).sum()[\"Scores\"]) , color='green')\n",
    "plt.plot([i for i in range(1, 13)], list(df_tags[df_tags[\"Id\"]==\"linux\"].groupby(['Month']).sum()[\"Scores\"]) , color='red')\n",
    "plt.plot([i for i in range(1, 13)], list(df_tags[df_tags[\"Id\"]==\"unix\"].groupby(['Month']).sum()[\"Scores\"]) , color='pink')\n",
    "plt.legend([\"ios\", \"android\", \"windows\", \"linux\", \"unix\"])\n",
    "plt.title('Operating Systems per Month', fontsize=14)\n",
    "plt.xlabel('Month', fontsize=14)\n",
    "plt.xticks(np.arange(13),[\"\", \"January\", \"February\", \"March\", \"April\", \"May\", \"June\", \"July\", \"August\", \"September\", \"October\", \"November\", \"December\"], rotation=50)\n",
    "plt.ylabel('Scores', fontsize=14)\n",
    "plt.grid(True)\n",
    "plt.show()"
   ]
  },
  {
   "cell_type": "code",
   "execution_count": null,
   "id": "bc52bba0",
   "metadata": {},
   "outputs": [],
   "source": []
  },
  {
   "cell_type": "code",
   "execution_count": null,
   "id": "cfcfe2e8",
   "metadata": {},
   "outputs": [],
   "source": []
  },
  {
   "cell_type": "code",
   "execution_count": null,
   "id": "fb1a0f5a",
   "metadata": {},
   "outputs": [],
   "source": []
  }
 ],
 "metadata": {
  "kernelspec": {
   "display_name": "Python 3",
   "language": "python",
   "name": "python3"
  },
  "language_info": {
   "codemirror_mode": {
    "name": "ipython",
    "version": 3
   },
   "file_extension": ".py",
   "mimetype": "text/x-python",
   "name": "python",
   "nbconvert_exporter": "python",
   "pygments_lexer": "ipython3",
   "version": "3.8.8"
  }
 },
 "nbformat": 4,
 "nbformat_minor": 5
}
