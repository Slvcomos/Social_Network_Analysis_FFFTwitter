{
 "cells": [
  {
   "cell_type": "code",
   "execution_count": 32,
   "id": "c9be72b9",
   "metadata": {},
   "outputs": [],
   "source": [
    "import pandas as pd\n",
    "import numpy as np\n",
    "import matplotlib.pyplot as plt"
   ]
  },
  {
   "cell_type": "code",
   "execution_count": 33,
   "id": "d35d6711",
   "metadata": {},
   "outputs": [],
   "source": [
    "path_tags= \"../Dataset FFF/tags_with_time.csv\""
   ]
  },
  {
   "cell_type": "code",
   "execution_count": 34,
   "id": "a2acccd5",
   "metadata": {},
   "outputs": [],
   "source": [
    "path_couple= \"../Dataset FFF/edges_date.csv\""
   ]
  },
  {
   "cell_type": "code",
   "execution_count": 35,
   "id": "d071071f",
   "metadata": {},
   "outputs": [],
   "source": [
    "path_tweet = \"../Dataset FFF/tweet_with_time.csv\""
   ]
  },
  {
   "cell_type": "code",
   "execution_count": 36,
   "id": "f25cfc62",
   "metadata": {},
   "outputs": [],
   "source": [
    "df_tags = pd.read_csv(path_tags)"
   ]
  },
  {
   "cell_type": "code",
   "execution_count": 37,
   "id": "92236b01",
   "metadata": {},
   "outputs": [],
   "source": [
    "df_couple = pd.read_csv(path_couple)"
   ]
  },
  {
   "cell_type": "code",
   "execution_count": 38,
   "id": "6e3d8aa0",
   "metadata": {},
   "outputs": [],
   "source": [
    "df_tweet = pd.read_csv(path_tweet)"
   ]
  },
  {
   "cell_type": "code",
   "execution_count": 39,
   "id": "a0b67e26",
   "metadata": {},
   "outputs": [],
   "source": [
    "df_tweet[\"Id\"] = [1 for i in range(len(df_tweet))]"
   ]
  },
  {
   "cell_type": "code",
   "execution_count": 40,
   "id": "2e13283f",
   "metadata": {},
   "outputs": [
    {
     "data": {
      "text/html": [
       "<div>\n",
       "<style scoped>\n",
       "    .dataframe tbody tr th:only-of-type {\n",
       "        vertical-align: middle;\n",
       "    }\n",
       "\n",
       "    .dataframe tbody tr th {\n",
       "        vertical-align: top;\n",
       "    }\n",
       "\n",
       "    .dataframe thead th {\n",
       "        text-align: right;\n",
       "    }\n",
       "</style>\n",
       "<table border=\"1\" class=\"dataframe\">\n",
       "  <thead>\n",
       "    <tr style=\"text-align: right;\">\n",
       "      <th></th>\n",
       "      <th>tweet</th>\n",
       "      <th>Timeval</th>\n",
       "      <th>Month</th>\n",
       "      <th>Id</th>\n",
       "    </tr>\n",
       "  </thead>\n",
       "  <tbody>\n",
       "    <tr>\n",
       "      <th>0</th>\n",
       "      <td>#FridaysForFuture we wish u a happy new year 2...</td>\n",
       "      <td>2021-01-01</td>\n",
       "      <td>1</td>\n",
       "      <td>1</td>\n",
       "    </tr>\n",
       "    <tr>\n",
       "      <th>1</th>\n",
       "      <td>#ClimateStrike week 100!   Happy #NewYear! Tod...</td>\n",
       "      <td>2021-01-01</td>\n",
       "      <td>1</td>\n",
       "      <td>1</td>\n",
       "    </tr>\n",
       "    <tr>\n",
       "      <th>2</th>\n",
       "      <td>Frohes neues Jahr und danke an das Internet da...</td>\n",
       "      <td>2021-01-01</td>\n",
       "      <td>1</td>\n",
       "      <td>1</td>\n",
       "    </tr>\n",
       "    <tr>\n",
       "      <th>3</th>\n",
       "      <td>Das kommt dafon, wenn man das #Deutschunterric...</td>\n",
       "      <td>2021-01-01</td>\n",
       "      <td>1</td>\n",
       "      <td>1</td>\n",
       "    </tr>\n",
       "    <tr>\n",
       "      <th>4</th>\n",
       "      <td>#ClimateStrikeOnline #DigitalStrike for #Frida...</td>\n",
       "      <td>2021-01-01</td>\n",
       "      <td>1</td>\n",
       "      <td>1</td>\n",
       "    </tr>\n",
       "    <tr>\n",
       "      <th>...</th>\n",
       "      <td>...</td>\n",
       "      <td>...</td>\n",
       "      <td>...</td>\n",
       "      <td>...</td>\n",
       "    </tr>\n",
       "    <tr>\n",
       "      <th>5905</th>\n",
       "      <td>We wish everyone a safe, happy and healthy new...</td>\n",
       "      <td>2021-12-31</td>\n",
       "      <td>12</td>\n",
       "      <td>1</td>\n",
       "    </tr>\n",
       "    <tr>\n",
       "      <th>5906</th>\n",
       "      <td>Week 1 #ClimateStrike in #Philippines  We Dema...</td>\n",
       "      <td>2021-12-31</td>\n",
       "      <td>12</td>\n",
       "      <td>1</td>\n",
       "    </tr>\n",
       "    <tr>\n",
       "      <th>5907</th>\n",
       "      <td>Global warming could lead to an increase in pe...</td>\n",
       "      <td>2021-12-31</td>\n",
       "      <td>12</td>\n",
       "      <td>1</td>\n",
       "    </tr>\n",
       "    <tr>\n",
       "      <th>5908</th>\n",
       "      <td>Week 159 Final climate strike of 2021. Happy H...</td>\n",
       "      <td>2021-12-31</td>\n",
       "      <td>12</td>\n",
       "      <td>1</td>\n",
       "    </tr>\n",
       "    <tr>\n",
       "      <th>5909</th>\n",
       "      <td>No time left for blah blah What I stand for is...</td>\n",
       "      <td>2021-12-31</td>\n",
       "      <td>12</td>\n",
       "      <td>1</td>\n",
       "    </tr>\n",
       "  </tbody>\n",
       "</table>\n",
       "<p>5910 rows × 4 columns</p>\n",
       "</div>"
      ],
      "text/plain": [
       "                                                  tweet     Timeval  Month  Id\n",
       "0     #FridaysForFuture we wish u a happy new year 2...  2021-01-01      1   1\n",
       "1     #ClimateStrike week 100!   Happy #NewYear! Tod...  2021-01-01      1   1\n",
       "2     Frohes neues Jahr und danke an das Internet da...  2021-01-01      1   1\n",
       "3     Das kommt dafon, wenn man das #Deutschunterric...  2021-01-01      1   1\n",
       "4     #ClimateStrikeOnline #DigitalStrike for #Frida...  2021-01-01      1   1\n",
       "...                                                 ...         ...    ...  ..\n",
       "5905  We wish everyone a safe, happy and healthy new...  2021-12-31     12   1\n",
       "5906  Week 1 #ClimateStrike in #Philippines  We Dema...  2021-12-31     12   1\n",
       "5907  Global warming could lead to an increase in pe...  2021-12-31     12   1\n",
       "5908  Week 159 Final climate strike of 2021. Happy H...  2021-12-31     12   1\n",
       "5909  No time left for blah blah What I stand for is...  2021-12-31     12   1\n",
       "\n",
       "[5910 rows x 4 columns]"
      ]
     },
     "execution_count": 40,
     "metadata": {},
     "output_type": "execute_result"
    }
   ],
   "source": [
    "df_tweet"
   ]
  },
  {
   "cell_type": "code",
   "execution_count": 41,
   "id": "9a57c686",
   "metadata": {},
   "outputs": [
    {
     "data": {
      "image/png": "[encoded data removed]",
      "text/plain": [
       "<Figure size 432x288 with 1 Axes>"
      ]
     },
     "metadata": {
      "needs_background": "light"
     },
     "output_type": "display_data"
    }
   ],
   "source": [
    "plt.plot([i for i in range(1, 13)], list(df_tweet.groupby(['Month']).sum()[\"Id\"]) , color='blue', marker='o')\n",
    "plt.title('Tweet per Month', fontsize=14)\n",
    "plt.xlabel('Month', fontsize=14)\n",
    "plt.xticks(np.arange(13),[\"\", \"January\", \"February\", \"March\", \"April\", \"May\", \"June\", \"July\", \"August\", \"September\", \"October\", \"November\", \"December\"], rotation=50)\n",
    "plt.ylabel('Number of tweet', fontsize=14)\n",
    "plt.grid(True)\n",
    "plt.show()"
   ]
  },
  {
   "cell_type": "code",
   "execution_count": 42,
   "id": "e8b73909",
   "metadata": {},
   "outputs": [
    {
     "data": {
      "text/plain": [
       "[406, 393, 553, 448, 486, 414, 508, 408, 988, 582, 424, 300]"
      ]
     },
     "execution_count": 42,
     "metadata": {},
     "output_type": "execute_result"
    }
   ],
   "source": [
    "list(df_tweet.groupby(['Month']).sum()[\"Id\"])"
   ]
  },
  {
   "cell_type": "code",
   "execution_count": 60,
   "id": "3a078dd9",
   "metadata": {},
   "outputs": [],
   "source": [
    "df_tags[\"Val\"] = [1 for i in range(len(df_tags))]"
   ]
  },
  {
   "cell_type": "code",
   "execution_count": 58,
   "id": "1fb703a3",
   "metadata": {},
   "outputs": [
    {
     "data": {
      "text/html": [
       "<div>\n",
       "<style scoped>\n",
       "    .dataframe tbody tr th:only-of-type {\n",
       "        vertical-align: middle;\n",
       "    }\n",
       "\n",
       "    .dataframe tbody tr th {\n",
       "        vertical-align: top;\n",
       "    }\n",
       "\n",
       "    .dataframe thead th {\n",
       "        text-align: right;\n",
       "    }\n",
       "</style>\n",
       "<table border=\"1\" class=\"dataframe\">\n",
       "  <thead>\n",
       "    <tr style=\"text-align: right;\">\n",
       "      <th></th>\n",
       "      <th>tags</th>\n",
       "      <th>Month</th>\n",
       "      <th>Val</th>\n",
       "    </tr>\n",
       "  </thead>\n",
       "  <tbody>\n",
       "    <tr>\n",
       "      <th>6122</th>\n",
       "      <td>earthday</td>\n",
       "      <td>4</td>\n",
       "      <td>1</td>\n",
       "    </tr>\n",
       "    <tr>\n",
       "      <th>6144</th>\n",
       "      <td>earthday</td>\n",
       "      <td>4</td>\n",
       "      <td>1</td>\n",
       "    </tr>\n",
       "    <tr>\n",
       "      <th>6159</th>\n",
       "      <td>earthday</td>\n",
       "      <td>4</td>\n",
       "      <td>1</td>\n",
       "    </tr>\n",
       "    <tr>\n",
       "      <th>6298</th>\n",
       "      <td>earthday</td>\n",
       "      <td>4</td>\n",
       "      <td>1</td>\n",
       "    </tr>\n",
       "    <tr>\n",
       "      <th>6305</th>\n",
       "      <td>earthday</td>\n",
       "      <td>4</td>\n",
       "      <td>1</td>\n",
       "    </tr>\n",
       "  </tbody>\n",
       "</table>\n",
       "</div>"
      ],
      "text/plain": [
       "          tags  Month  Val\n",
       "6122  earthday      4    1\n",
       "6144  earthday      4    1\n",
       "6159  earthday      4    1\n",
       "6298  earthday      4    1\n",
       "6305  earthday      4    1"
      ]
     },
     "execution_count": 58,
     "metadata": {},
     "output_type": "execute_result"
    }
   ],
   "source": [
    "df_tags[df_tags[\"tags\"]==\"earthday\"]"
   ]
  },
  {
   "cell_type": "code",
   "execution_count": null,
   "id": "6b10e4e3",
   "metadata": {},
   "outputs": [],
   "source": [
    "mesi=[]\n",
    "for m in df_tags['Month']:\n",
    "    if m == 1:\n",
    "    if m == 2:\n",
    "    if m == 3:\n",
    "    if m == 4:\n",
    "    if m == 5:\n",
    "    if m == 6:\n",
    "    if m == 7:\n",
    "    if m == 8:\n",
    "    if m == 9:\n",
    "    if m == 10:\n",
    "    if m == 11:\n",
    "    if m == 12:"
   ]
  },
  {
   "cell_type": "code",
   "execution_count": null,
   "id": "9e835cb0",
   "metadata": {},
   "outputs": [],
   "source": []
  },
  {
   "cell_type": "code",
   "execution_count": null,
   "id": "82c972c8",
   "metadata": {},
   "outputs": [],
   "source": []
  },
  {
   "cell_type": "code",
   "execution_count": null,
   "id": "dfba6def",
   "metadata": {},
   "outputs": [],
   "source": []
  },
  {
   "cell_type": "code",
   "execution_count": null,
   "id": "17fe45ff",
   "metadata": {},
   "outputs": [],
   "source": []
  },
  {
   "cell_type": "code",
   "execution_count": 64,
   "id": "b4ec2285",
   "metadata": {},
   "outputs": [
    {
     "ename": "ValueError",
     "evalue": "x and y must have same first dimension, but have shapes (12,) and (1,)",
     "output_type": "error",
     "traceback": [
      "\u001b[1;31m---------------------------------------------------------------------------\u001b[0m",
      "\u001b[1;31mValueError\u001b[0m                                Traceback (most recent call last)",
      "\u001b[1;32m~\\AppData\\Local\\Temp/ipykernel_15224/919095424.py\u001b[0m in \u001b[0;36m<module>\u001b[1;34m\u001b[0m\n\u001b[0;32m      6\u001b[0m \u001b[1;31m#plt.plot([i for i in range(1, 13)], list(df_tags[df_tags[\"tags\"]==\"uprootthesystem\"].groupby(['Month']).sum()[\"Val\"]) , color='yellow')\u001b[0m\u001b[1;33m\u001b[0m\u001b[1;33m\u001b[0m\u001b[0m\n\u001b[0;32m      7\u001b[0m \u001b[1;31m#plt.plot([i for i in range(1, 13)], list(df_tags[df_tags[\"tags\"]==\"globalwarming\"].groupby(['Month']).sum()[\"Val\"]) , color='pink')\u001b[0m\u001b[1;33m\u001b[0m\u001b[1;33m\u001b[0m\u001b[0m\n\u001b[1;32m----> 8\u001b[1;33m \u001b[0mplt\u001b[0m\u001b[1;33m.\u001b[0m\u001b[0mplot\u001b[0m\u001b[1;33m(\u001b[0m\u001b[1;33m[\u001b[0m\u001b[0mi\u001b[0m \u001b[1;32mfor\u001b[0m \u001b[0mi\u001b[0m \u001b[1;32min\u001b[0m \u001b[0mrange\u001b[0m\u001b[1;33m(\u001b[0m\u001b[1;36m1\u001b[0m\u001b[1;33m,\u001b[0m \u001b[1;36m13\u001b[0m\u001b[1;33m)\u001b[0m\u001b[1;33m]\u001b[0m\u001b[1;33m,\u001b[0m \u001b[0mlist\u001b[0m\u001b[1;33m(\u001b[0m\u001b[0mdf_tags\u001b[0m\u001b[1;33m[\u001b[0m\u001b[0mdf_tags\u001b[0m\u001b[1;33m[\u001b[0m\u001b[1;34m\"tags\"\u001b[0m\u001b[1;33m]\u001b[0m\u001b[1;33m==\u001b[0m\u001b[1;34m\"youngpeopleforclimateaction\"\u001b[0m\u001b[1;33m]\u001b[0m\u001b[1;33m.\u001b[0m\u001b[0mgroupby\u001b[0m\u001b[1;33m(\u001b[0m\u001b[1;33m[\u001b[0m\u001b[1;34m'Month'\u001b[0m\u001b[1;33m]\u001b[0m\u001b[1;33m)\u001b[0m\u001b[1;33m.\u001b[0m\u001b[0msum\u001b[0m\u001b[1;33m(\u001b[0m\u001b[1;33m)\u001b[0m\u001b[1;33m[\u001b[0m\u001b[1;34m\"Val\"\u001b[0m\u001b[1;33m]\u001b[0m\u001b[1;33m)\u001b[0m \u001b[1;33m,\u001b[0m \u001b[0mcolor\u001b[0m\u001b[1;33m=\u001b[0m\u001b[1;34m'violet'\u001b[0m\u001b[1;33m)\u001b[0m\u001b[1;33m\u001b[0m\u001b[1;33m\u001b[0m\u001b[0m\n\u001b[0m\u001b[0;32m      9\u001b[0m \u001b[0mplt\u001b[0m\u001b[1;33m.\u001b[0m\u001b[0mplot\u001b[0m\u001b[1;33m(\u001b[0m\u001b[1;33m[\u001b[0m\u001b[0mi\u001b[0m \u001b[1;32mfor\u001b[0m \u001b[0mi\u001b[0m \u001b[1;32min\u001b[0m \u001b[0mrange\u001b[0m\u001b[1;33m(\u001b[0m\u001b[1;36m1\u001b[0m\u001b[1;33m,\u001b[0m \u001b[1;36m13\u001b[0m\u001b[1;33m)\u001b[0m\u001b[1;33m]\u001b[0m\u001b[1;33m,\u001b[0m \u001b[0mlist\u001b[0m\u001b[1;33m(\u001b[0m\u001b[0mdf_tags\u001b[0m\u001b[1;33m[\u001b[0m\u001b[0mdf_tags\u001b[0m\u001b[1;33m[\u001b[0m\u001b[1;34m\"tags\"\u001b[0m\u001b[1;33m]\u001b[0m\u001b[1;33m==\u001b[0m\u001b[1;34m\"fridays4futureonline\"\u001b[0m\u001b[1;33m]\u001b[0m\u001b[1;33m.\u001b[0m\u001b[0mgroupby\u001b[0m\u001b[1;33m(\u001b[0m\u001b[1;33m[\u001b[0m\u001b[1;34m'Month'\u001b[0m\u001b[1;33m]\u001b[0m\u001b[1;33m)\u001b[0m\u001b[1;33m.\u001b[0m\u001b[0msum\u001b[0m\u001b[1;33m(\u001b[0m\u001b[1;33m)\u001b[0m\u001b[1;33m[\u001b[0m\u001b[1;34m\"Val\"\u001b[0m\u001b[1;33m]\u001b[0m\u001b[1;33m)\u001b[0m \u001b[1;33m,\u001b[0m \u001b[0mcolor\u001b[0m\u001b[1;33m=\u001b[0m\u001b[1;34m'black'\u001b[0m\u001b[1;33m)\u001b[0m\u001b[1;33m\u001b[0m\u001b[1;33m\u001b[0m\u001b[0m\n\u001b[0;32m     10\u001b[0m \u001b[0mplt\u001b[0m\u001b[1;33m.\u001b[0m\u001b[0mplot\u001b[0m\u001b[1;33m(\u001b[0m\u001b[1;33m[\u001b[0m\u001b[0mi\u001b[0m \u001b[1;32mfor\u001b[0m \u001b[0mi\u001b[0m \u001b[1;32min\u001b[0m \u001b[0mrange\u001b[0m\u001b[1;33m(\u001b[0m\u001b[1;36m1\u001b[0m\u001b[1;33m,\u001b[0m \u001b[1;36m13\u001b[0m\u001b[1;33m)\u001b[0m\u001b[1;33m]\u001b[0m\u001b[1;33m,\u001b[0m \u001b[0mlist\u001b[0m\u001b[1;33m(\u001b[0m\u001b[0mdf_tags\u001b[0m\u001b[1;33m[\u001b[0m\u001b[0mdf_tags\u001b[0m\u001b[1;33m[\u001b[0m\u001b[1;34m\"tags\"\u001b[0m\u001b[1;33m]\u001b[0m\u001b[1;33m==\u001b[0m\u001b[1;34m\"facetheclimateemergency\"\u001b[0m\u001b[1;33m]\u001b[0m\u001b[1;33m.\u001b[0m\u001b[0mgroupby\u001b[0m\u001b[1;33m(\u001b[0m\u001b[1;33m[\u001b[0m\u001b[1;34m'Month'\u001b[0m\u001b[1;33m]\u001b[0m\u001b[1;33m)\u001b[0m\u001b[1;33m.\u001b[0m\u001b[0msum\u001b[0m\u001b[1;33m(\u001b[0m\u001b[1;33m)\u001b[0m\u001b[1;33m[\u001b[0m\u001b[1;34m\"Val\"\u001b[0m\u001b[1;33m]\u001b[0m\u001b[1;33m)\u001b[0m \u001b[1;33m,\u001b[0m \u001b[0mcolor\u001b[0m\u001b[1;33m=\u001b[0m\u001b[1;34m'gray'\u001b[0m\u001b[1;33m)\u001b[0m\u001b[1;33m\u001b[0m\u001b[1;33m\u001b[0m\u001b[0m\n",
      "\u001b[1;32m~\\anaconda3\\lib\\site-packages\\matplotlib\\pyplot.py\u001b[0m in \u001b[0;36mplot\u001b[1;34m(scalex, scaley, data, *args, **kwargs)\u001b[0m\n\u001b[0;32m   3017\u001b[0m \u001b[1;33m@\u001b[0m\u001b[0m_copy_docstring_and_deprecators\u001b[0m\u001b[1;33m(\u001b[0m\u001b[0mAxes\u001b[0m\u001b[1;33m.\u001b[0m\u001b[0mplot\u001b[0m\u001b[1;33m)\u001b[0m\u001b[1;33m\u001b[0m\u001b[1;33m\u001b[0m\u001b[0m\n\u001b[0;32m   3018\u001b[0m \u001b[1;32mdef\u001b[0m \u001b[0mplot\u001b[0m\u001b[1;33m(\u001b[0m\u001b[1;33m*\u001b[0m\u001b[0margs\u001b[0m\u001b[1;33m,\u001b[0m \u001b[0mscalex\u001b[0m\u001b[1;33m=\u001b[0m\u001b[1;32mTrue\u001b[0m\u001b[1;33m,\u001b[0m \u001b[0mscaley\u001b[0m\u001b[1;33m=\u001b[0m\u001b[1;32mTrue\u001b[0m\u001b[1;33m,\u001b[0m \u001b[0mdata\u001b[0m\u001b[1;33m=\u001b[0m\u001b[1;32mNone\u001b[0m\u001b[1;33m,\u001b[0m \u001b[1;33m**\u001b[0m\u001b[0mkwargs\u001b[0m\u001b[1;33m)\u001b[0m\u001b[1;33m:\u001b[0m\u001b[1;33m\u001b[0m\u001b[1;33m\u001b[0m\u001b[0m\n\u001b[1;32m-> 3019\u001b[1;33m     return gca().plot(\n\u001b[0m\u001b[0;32m   3020\u001b[0m         \u001b[1;33m*\u001b[0m\u001b[0margs\u001b[0m\u001b[1;33m,\u001b[0m \u001b[0mscalex\u001b[0m\u001b[1;33m=\u001b[0m\u001b[0mscalex\u001b[0m\u001b[1;33m,\u001b[0m \u001b[0mscaley\u001b[0m\u001b[1;33m=\u001b[0m\u001b[0mscaley\u001b[0m\u001b[1;33m,\u001b[0m\u001b[1;33m\u001b[0m\u001b[1;33m\u001b[0m\u001b[0m\n\u001b[0;32m   3021\u001b[0m         **({\"data\": data} if data is not None else {}), **kwargs)\n",
      "\u001b[1;32m~\\anaconda3\\lib\\site-packages\\matplotlib\\axes\\_axes.py\u001b[0m in \u001b[0;36mplot\u001b[1;34m(self, scalex, scaley, data, *args, **kwargs)\u001b[0m\n\u001b[0;32m   1603\u001b[0m         \"\"\"\n\u001b[0;32m   1604\u001b[0m         \u001b[0mkwargs\u001b[0m \u001b[1;33m=\u001b[0m \u001b[0mcbook\u001b[0m\u001b[1;33m.\u001b[0m\u001b[0mnormalize_kwargs\u001b[0m\u001b[1;33m(\u001b[0m\u001b[0mkwargs\u001b[0m\u001b[1;33m,\u001b[0m \u001b[0mmlines\u001b[0m\u001b[1;33m.\u001b[0m\u001b[0mLine2D\u001b[0m\u001b[1;33m)\u001b[0m\u001b[1;33m\u001b[0m\u001b[1;33m\u001b[0m\u001b[0m\n\u001b[1;32m-> 1605\u001b[1;33m         \u001b[0mlines\u001b[0m \u001b[1;33m=\u001b[0m \u001b[1;33m[\u001b[0m\u001b[1;33m*\u001b[0m\u001b[0mself\u001b[0m\u001b[1;33m.\u001b[0m\u001b[0m_get_lines\u001b[0m\u001b[1;33m(\u001b[0m\u001b[1;33m*\u001b[0m\u001b[0margs\u001b[0m\u001b[1;33m,\u001b[0m \u001b[0mdata\u001b[0m\u001b[1;33m=\u001b[0m\u001b[0mdata\u001b[0m\u001b[1;33m,\u001b[0m \u001b[1;33m**\u001b[0m\u001b[0mkwargs\u001b[0m\u001b[1;33m)\u001b[0m\u001b[1;33m]\u001b[0m\u001b[1;33m\u001b[0m\u001b[1;33m\u001b[0m\u001b[0m\n\u001b[0m\u001b[0;32m   1606\u001b[0m         \u001b[1;32mfor\u001b[0m \u001b[0mline\u001b[0m \u001b[1;32min\u001b[0m \u001b[0mlines\u001b[0m\u001b[1;33m:\u001b[0m\u001b[1;33m\u001b[0m\u001b[1;33m\u001b[0m\u001b[0m\n\u001b[0;32m   1607\u001b[0m             \u001b[0mself\u001b[0m\u001b[1;33m.\u001b[0m\u001b[0madd_line\u001b[0m\u001b[1;33m(\u001b[0m\u001b[0mline\u001b[0m\u001b[1;33m)\u001b[0m\u001b[1;33m\u001b[0m\u001b[1;33m\u001b[0m\u001b[0m\n",
      "\u001b[1;32m~\\anaconda3\\lib\\site-packages\\matplotlib\\axes\\_base.py\u001b[0m in \u001b[0;36m__call__\u001b[1;34m(self, data, *args, **kwargs)\u001b[0m\n\u001b[0;32m    313\u001b[0m                 \u001b[0mthis\u001b[0m \u001b[1;33m+=\u001b[0m \u001b[0margs\u001b[0m\u001b[1;33m[\u001b[0m\u001b[1;36m0\u001b[0m\u001b[1;33m]\u001b[0m\u001b[1;33m,\u001b[0m\u001b[1;33m\u001b[0m\u001b[1;33m\u001b[0m\u001b[0m\n\u001b[0;32m    314\u001b[0m                 \u001b[0margs\u001b[0m \u001b[1;33m=\u001b[0m \u001b[0margs\u001b[0m\u001b[1;33m[\u001b[0m\u001b[1;36m1\u001b[0m\u001b[1;33m:\u001b[0m\u001b[1;33m]\u001b[0m\u001b[1;33m\u001b[0m\u001b[1;33m\u001b[0m\u001b[0m\n\u001b[1;32m--> 315\u001b[1;33m             \u001b[1;32myield\u001b[0m \u001b[1;32mfrom\u001b[0m \u001b[0mself\u001b[0m\u001b[1;33m.\u001b[0m\u001b[0m_plot_args\u001b[0m\u001b[1;33m(\u001b[0m\u001b[0mthis\u001b[0m\u001b[1;33m,\u001b[0m \u001b[0mkwargs\u001b[0m\u001b[1;33m)\u001b[0m\u001b[1;33m\u001b[0m\u001b[1;33m\u001b[0m\u001b[0m\n\u001b[0m\u001b[0;32m    316\u001b[0m \u001b[1;33m\u001b[0m\u001b[0m\n\u001b[0;32m    317\u001b[0m     \u001b[1;32mdef\u001b[0m \u001b[0mget_next_color\u001b[0m\u001b[1;33m(\u001b[0m\u001b[0mself\u001b[0m\u001b[1;33m)\u001b[0m\u001b[1;33m:\u001b[0m\u001b[1;33m\u001b[0m\u001b[1;33m\u001b[0m\u001b[0m\n",
      "\u001b[1;32m~\\anaconda3\\lib\\site-packages\\matplotlib\\axes\\_base.py\u001b[0m in \u001b[0;36m_plot_args\u001b[1;34m(self, tup, kwargs, return_kwargs)\u001b[0m\n\u001b[0;32m    499\u001b[0m \u001b[1;33m\u001b[0m\u001b[0m\n\u001b[0;32m    500\u001b[0m         \u001b[1;32mif\u001b[0m \u001b[0mx\u001b[0m\u001b[1;33m.\u001b[0m\u001b[0mshape\u001b[0m\u001b[1;33m[\u001b[0m\u001b[1;36m0\u001b[0m\u001b[1;33m]\u001b[0m \u001b[1;33m!=\u001b[0m \u001b[0my\u001b[0m\u001b[1;33m.\u001b[0m\u001b[0mshape\u001b[0m\u001b[1;33m[\u001b[0m\u001b[1;36m0\u001b[0m\u001b[1;33m]\u001b[0m\u001b[1;33m:\u001b[0m\u001b[1;33m\u001b[0m\u001b[1;33m\u001b[0m\u001b[0m\n\u001b[1;32m--> 501\u001b[1;33m             raise ValueError(f\"x and y must have same first dimension, but \"\n\u001b[0m\u001b[0;32m    502\u001b[0m                              f\"have shapes {x.shape} and {y.shape}\")\n\u001b[0;32m    503\u001b[0m         \u001b[1;32mif\u001b[0m \u001b[0mx\u001b[0m\u001b[1;33m.\u001b[0m\u001b[0mndim\u001b[0m \u001b[1;33m>\u001b[0m \u001b[1;36m2\u001b[0m \u001b[1;32mor\u001b[0m \u001b[0my\u001b[0m\u001b[1;33m.\u001b[0m\u001b[0mndim\u001b[0m \u001b[1;33m>\u001b[0m \u001b[1;36m2\u001b[0m\u001b[1;33m:\u001b[0m\u001b[1;33m\u001b[0m\u001b[1;33m\u001b[0m\u001b[0m\n",
      "\u001b[1;31mValueError\u001b[0m: x and y must have same first dimension, but have shapes (12,) and (1,)"
     ]
    },
    {
     "data": {
      "image/png": "[encoded data removed]",
      "text/plain": [
       "<Figure size 1080x504 with 1 Axes>"
      ]
     },
     "metadata": {
      "needs_background": "light"
     },
     "output_type": "display_data"
    }
   ],
   "source": [
    "plt.figure(figsize=(15,7))\n",
    "plt.plot([i for i in range(1, 13)], list(df_tags[df_tags[\"tags\"]==\"fridaysforfuture\"].groupby(['Month']).sum()[\"Val\"]) , color='blue')\n",
    "plt.plot([i for i in range(1, 13)], list(df_tags[df_tags[\"tags\"]==\"climatecrisis\"].groupby(['Month']).sum()[\"Val\"]) , color='orange')\n",
    "plt.plot([i for i in range(1, 13)], list(df_tags[df_tags[\"tags\"]==\"climatechang\"].groupby(['Month']).sum()[\"Val\"]) , color='green')\n",
    "plt.plot([i for i in range(1, 13)], list(df_tags[df_tags[\"tags\"]==\"earthday\"].groupby(['Month']).sum()[\"Val\"]) , color='red')\n",
    "plt.plot([i for i in range(1, 13)], list(df_tags[df_tags[\"tags\"]==\"uprootthesystem\"].groupby(['Month']).sum()[\"Val\"]) , color='yellow')\n",
    "plt.plot([i for i in range(1, 13)], list(df_tags[df_tags[\"tags\"]==\"globalwarming\"].groupby(['Month']).sum()[\"Val\"]) , color='pink')\n",
    "plt.plot([i for i in range(1, 13)], list(df_tags[df_tags[\"tags\"]==\"youngpeopleforclimateaction\"].groupby(['Month']).sum()[\"Val\"]) , color='violet')\n",
    "plt.plot([i for i in range(1, 13)], list(df_tags[df_tags[\"tags\"]==\"fridays4futureonline\"].groupby(['Month']).sum()[\"Val\"]) , color='black')\n",
    "plt.plot([i for i in range(1, 13)], list(df_tags[df_tags[\"tags\"]==\"facetheclimateemergency\"].groupby(['Month']).sum()[\"Val\"]) , color='gray')\n",
    "plt.legend([\"fridaysforfuture\", \"climatecrisis\", \"climatechang\",\"earthday\",\"uprootthesystem\", \"globalwarming\", \"youngpeopleforclimateaction\", \"fridays4futureonline\", \"facetheclimateemergency\"])\n",
    "plt.title('Programming Languages per Month', fontsize=14)\n",
    "plt.xlabel('Month', fontsize=14)\n",
    "plt.xticks(np.arange(13),[\"\", \"January\", \"February\", \"March\", \"April\", \"May\", \"June\", \"July\", \"August\", \"September\", \"October\", \"November\", \"December\"], rotation=50)\n",
    "plt.ylabel('Val', fontsize=14)\n",
    "plt.grid(True)\n",
    "plt.show()"
   ]
  },
  {
   "cell_type": "code",
   "execution_count": null,
   "id": "25f29b74",
   "metadata": {},
   "outputs": [],
   "source": [
    "plt.figure(figsize=(15,7))\n",
    "plt.plot([i for i in range(1, 13)], list(df_tags[df_tags[\"Id\"]==\"reactjs\"].groupby(['Month']).sum()[\"Scores\"]) , color='blue')\n",
    "plt.plot([i for i in range(1, 13)], list(df_tags[df_tags[\"Id\"]==\"ruby-on-rails\"].groupby(['Month']).sum()[\"Scores\"]) , color='orange')\n",
    "plt.plot([i for i in range(1, 13)], list(df_tags[df_tags[\"Id\"]==\"asp.net\"].groupby(['Month']).sum()[\"Scores\"]) , color='green')\n",
    "plt.plot([i for i in range(1, 13)], list(df_tags[df_tags[\"Id\"]==\"angular\"].groupby(['Month']).sum()[\"Scores\"]) , color='red')\n",
    "plt.plot([i for i in range(1, 13)], list(df_tags[df_tags[\"Id\"]==\"django\"].groupby(['Month']).sum()[\"Scores\"]) , color='pink')\n",
    "plt.plot([i for i in range(1, 13)], list(df_tags[df_tags[\"Id\"]==\"vue.js\"].groupby(['Month']).sum()[\"Scores\"]) , color='violet')\n",
    "plt.plot([i for i in range(1, 13)], list(df_tags[df_tags[\"Id\"]==\"laravel\"].groupby(['Month']).sum()[\"Scores\"]) , color='black')\n",
    "plt.plot([i for i in range(1, 13)], list(df_tags[df_tags[\"Id\"]==\"spring\"].groupby(['Month']).sum()[\"Scores\"]) , color='gray')\n",
    "plt.plot([i for i in range(1, 13)], list(df_tags[df_tags[\"Id\"]==\"flask\"].groupby(['Month']).sum()[\"Scores\"]) , color='brown')\n",
    "plt.legend([\"reactjs\", \"ruby-on-rails\", \"asp.net\", \"angular\", \"django\", \"vue.js\", \"laravel\", \"spring\", \"flask\"])\n",
    "plt.title('Web Framework per Month', fontsize=14)\n",
    "plt.xlabel('Month', fontsize=14)\n",
    "plt.xticks(np.arange(13),[\"\", \"January\", \"February\", \"March\", \"April\", \"May\", \"June\", \"July\", \"August\", \"September\", \"October\", \"November\", \"December\"], rotation=50)\n",
    "plt.ylabel('Scores', fontsize=14)\n",
    "plt.grid(True)\n",
    "plt.show()"
   ]
  },
  {
   "cell_type": "code",
   "execution_count": null,
   "id": "83d7cea6",
   "metadata": {},
   "outputs": [],
   "source": [
    "plt.figure(figsize=(15,7))\n",
    "plt.plot([i for i in range(1, 13)], list(df_tags[df_tags[\"Id\"]==\"ios\"].groupby(['Month']).sum()[\"Scores\"]) , color='blue')\n",
    "plt.plot([i for i in range(1, 13)], list(df_tags[df_tags[\"Id\"]==\"android\"].groupby(['Month']).sum()[\"Scores\"]) , color='orange')\n",
    "plt.plot([i for i in range(1, 13)], list(df_tags[df_tags[\"Id\"]==\"windows\"].groupby(['Month']).sum()[\"Scores\"]) , color='green')\n",
    "plt.plot([i for i in range(1, 13)], list(df_tags[df_tags[\"Id\"]==\"linux\"].groupby(['Month']).sum()[\"Scores\"]) , color='red')\n",
    "plt.plot([i for i in range(1, 13)], list(df_tags[df_tags[\"Id\"]==\"unix\"].groupby(['Month']).sum()[\"Scores\"]) , color='pink')\n",
    "plt.legend([\"ios\", \"android\", \"windows\", \"linux\", \"unix\"])\n",
    "plt.title('Operating Systems per Month', fontsize=14)\n",
    "plt.xlabel('Month', fontsize=14)\n",
    "plt.xticks(np.arange(13),[\"\", \"January\", \"February\", \"March\", \"April\", \"May\", \"June\", \"July\", \"August\", \"September\", \"October\", \"November\", \"December\"], rotation=50)\n",
    "plt.ylabel('Scores', fontsize=14)\n",
    "plt.grid(True)\n",
    "plt.show()"
   ]
  },
  {
   "cell_type": "code",
   "execution_count": null,
   "id": "bc52bba0",
   "metadata": {},
   "outputs": [],
   "source": []
  },
  {
   "cell_type": "code",
   "execution_count": null,
   "id": "cfcfe2e8",
   "metadata": {},
   "outputs": [],
   "source": []
  },
  {
   "cell_type": "code",
   "execution_count": null,
   "id": "fb1a0f5a",
   "metadata": {},
   "outputs": [],
   "source": []
  }
 ],
 "metadata": {
  "kernelspec": {
   "display_name": "Python 3 (ipykernel)",
   "language": "python",
   "name": "python3"
  },
  "language_info": {
   "codemirror_mode": {
    "name": "ipython",
    "version": 3
   },
   "file_extension": ".py",
   "mimetype": "text/x-python",
   "name": "python",
   "nbconvert_exporter": "python",
   "pygments_lexer": "ipython3",
   "version": "3.9.7"
  }
 },
 "nbformat": 4,
 "nbformat_minor": 5
}
