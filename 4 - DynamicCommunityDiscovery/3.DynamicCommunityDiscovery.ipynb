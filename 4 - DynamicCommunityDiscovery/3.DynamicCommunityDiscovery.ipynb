{
 "cells": [
  {
   "cell_type": "code",
   "execution_count": null,
   "id": "4938824a",
   "metadata": {},
   "outputs": [],
   "source": [
    "from cdlib import algorithms, evaluation\n",
    "from cdlib import TemporalClustering\n",
    "import matplotlib.pyplot as plt\n",
    "\n",
    "import pandas as pd\n",
    "import networkx as nx\n",
    "import pickle"
   ]
  },
  {
   "cell_type": "code",
   "execution_count": null,
   "id": "0e4052ee",
   "metadata": {},
   "outputs": [],
   "source": [
    "#Per plottare le communities per dimensione\n",
    "def plot_communities_dimentions(coms):\n",
    "    myd = {}\n",
    "    for t in coms:\n",
    "        lunghezza = len(t)\n",
    "\n",
    "        if str(lunghezza) in myd:\n",
    "            myd[str(lunghezza)] = myd[str(lunghezza)] + 1\n",
    "        else:\n",
    "            myd[str(lunghezza)] = 1\n",
    "\n",
    "    print(myd)\n",
    "    plt.figure(figsize=(20,5))\n",
    "    plt.bar(myd.keys(), myd.values(), color='b')"
   ]
  },
  {
   "cell_type": "code",
   "execution_count": null,
   "id": "c773d28e",
   "metadata": {},
   "outputs": [],
   "source": [
    "coms_months = []\n",
    "for i in range(12):\n",
    "    with open(f'CommunityDiscovery/communities_{i}.pickle', 'rb') as f:\n",
    "        louvain_coms = pickle.load(f)\n",
    "    coms_months.append(louvain_coms"
   ]
  },
  {
   "cell_type": "code",
   "execution_count": null,
   "id": "0a01775a",
   "metadata": {},
   "outputs": [],
   "source": [
    "for i in coms_months:\n",
    "    \n",
    "    max_c=0\n",
    "    for com in i.communities:\n",
    "        if(len(com)>max_c):\n",
    "            max_c = len(com)\n",
    "    print(str(len(i.communities)) + \" - \" + str(max_c))"
   ]
  },
  {
   "cell_type": "code",
   "execution_count": null,
   "id": "4c03d511",
   "metadata": {},
   "outputs": [],
   "source": [
    "tc = TemporalClustering()\n",
    "for t in range(12):\n",
    "    tc.add_clustering(coms_months[t], t)"
   ]
  },
  {
   "cell_type": "code",
   "execution_count": null,
   "id": "7a9ce770",
   "metadata": {},
   "outputs": [],
   "source": [
    "tc.get_observation_ids()"
   ]
  },
  {
   "cell_type": "markdown",
   "id": "1f32ca2f",
   "metadata": {},
   "source": [
    "Una semplice misura della stabilità temporale è il \"clustering stability trend\"\n",
    "Dato come input un TemporalClustering e un punteggio di somiglianza delle partizioni (ad esempio, NMI, NF1...) tale trend descrive quante partizioni tendono a rimanere le stesse con il passare del tempo.\n",
    "\n",
    "L'indice di stabilità viene calcolato per coppie di cluster temporalmente adiacent"
   ]
  },
  {
   "cell_type": "code",
   "execution_count": null,
   "id": "a3196225",
   "metadata": {},
   "outputs": [],
   "source": [
    "trend = tc.clustering_stability_trend(evaluation.nf1)\n",
    "trend"
   ]
  },
  {
   "cell_type": "markdown",
   "id": "6f4b933f",
   "metadata": {},
   "source": [
    "Poiché il nostro obiettivo è trasformare un algoritmo statico in uno dinamico, una volta calcolati i clustering dobbiamo abbinarli tra id temporali consecutivi."
   ]
  },
  {
   "cell_type": "code",
   "execution_count": null,
   "id": "6215b636",
   "metadata": {},
   "outputs": [],
   "source": [
    "tc.has_explicit_match()"
   ]
  },
  {
   "cell_type": "markdown",
   "id": "90778a39",
   "metadata": {},
   "source": [
    "Dall'approccio personalizzato non è venuto fuori però un abbinamento esplicito. Si definisce una funzione di somiglianza (prendendo come input due set e restituendo un valore float) per eseguire tale corrispondenza intertemporale"
   ]
  },
  {
   "cell_type": "code",
   "execution_count": null,
   "id": "f2dff1f0",
   "metadata": {},
   "outputs": [],
   "source": [
    "# una funzione di similarità il cui co-dominio è in [0, 1]\n",
    "jaccard = lambda x, y: len(set(x) & set(y)) / len(set(x) | set(y))"
   ]
  },
  {
   "cell_type": "markdown",
   "id": "16f3f54c",
   "metadata": {},
   "source": [
    "Successivamente possiamo applicarlo alla nostra partizione temporale, specificando se deve essere applicato solo dal passato al futuro (un lato) o anche dal futuro al passato (due lati).\n",
    "\n",
    "Il primo scenario consente di identificare eventi di merge, il secondo anche di split."
   ]
  },
  {
   "cell_type": "code",
   "execution_count": null,
   "id": "cfe058f6",
   "metadata": {},
   "outputs": [],
   "source": [
    "matches = tc.community_matching(jaccard, two_sided=True)"
   ]
  },
  {
   "cell_type": "markdown",
   "id": "9cbcf03e",
   "metadata": {},
   "source": [
    "community_matching restituisce una lista di tuple della forma:\n",
    "(Ti_Ca, TjCb, score)\n",
    "I nomi di comunità vengono assegnati seguendo lo schema {tid}{cid}, dove tid è il tempo di osservazione e cid è la posizione della comunità all'interno dell'oggetto Clustering.\n",
    "\n",
    "Una volta ottenuta la corrispondenza tra le comunità, possiamo calcolare il loro grafo del ciclo di vita: un polytree diretto che rappresenta la trasformazione della comunità nel tempo"
   ]
  },
  {
   "cell_type": "code",
   "execution_count": null,
   "id": "7e66f465",
   "metadata": {},
   "outputs": [],
   "source": [
    "com_polytree = tc.lifecycle_polytree(jaccard, two_sided=True)"
   ]
  },
  {
   "cell_type": "code",
   "execution_count": null,
   "id": "98a01eff",
   "metadata": {},
   "outputs": [],
   "source": [
    "edges = list(com_polytree.edges(data=True))"
   ]
  },
  {
   "cell_type": "code",
   "execution_count": null,
   "id": "538f5ac9",
   "metadata": {},
   "outputs": [],
   "source": [
    "edges[0]"
   ]
  },
  {
   "cell_type": "code",
   "execution_count": null,
   "id": "ed20ecc5",
   "metadata": {},
   "outputs": [],
   "source": [
    "new = com_polytree.edge_subgraph([edges[0][0:2]]).copy()"
   ]
  },
  {
   "cell_type": "code",
   "execution_count": null,
   "id": "94419cac",
   "metadata": {},
   "outputs": [],
   "source": [
    "new.edges(data=True)"
   ]
  },
  {
   "cell_type": "code",
   "execution_count": null,
   "id": "9e603cbd",
   "metadata": {},
   "outputs": [],
   "source": [
    "selelected_edges = []"
   ]
  },
  {
   "cell_type": "code",
   "execution_count": null,
   "id": "978f05eb",
   "metadata": {},
   "outputs": [],
   "source": [
    "for i in edges:\n",
    "    if i[2][\"weight\"] > 0:\n",
    "        selelected_edges.append(i[0:2])\n",
    "new_polytree = com_polytree.edge_subgraph(selelected_edges).copy()"
   ]
  },
  {
   "cell_type": "code",
   "execution_count": null,
   "id": "ac2d05a8",
   "metadata": {},
   "outputs": [],
   "source": [
    "for nodes in nx.weakly_connected_components(new_polytree):\n",
    "    sub =  com_polytree.subgraph(nodes)\n",
    "    nx.draw(sub, pos=nx.spring_layout(sub), with_labels=True)"
   ]
  },
  {
   "cell_type": "code",
   "execution_count": null,
   "id": "27102c81",
   "metadata": {},
   "outputs": [],
   "source": [
    "n_nodes = []\n",
    "month_com = []\n",
    "for i in list(new_polytree.nodes()):\n",
    "    month_com.append(int(i.split(\"_\")[0]))\n",
    "    n_nodes.append(i)"
   ]
  },
  {
   "cell_type": "code",
   "execution_count": null,
   "id": "c588b84e",
   "metadata": {},
   "outputs": [],
   "source": [
    "s_edges = []\n",
    "t_edges = []\n",
    "for i in list(new_polytree.edges()):\n",
    "    s_edges.append(i[0])\n",
    "    t_edges.append(i[1])"
   ]
  },
  {
   "cell_type": "code",
   "execution_count": null,
   "id": "769d6484",
   "metadata": {},
   "outputs": [],
   "source": [
    "new_df = pd.DataFrame({\"Id\": n_nodes, \"month\": month_com})\n",
    "new_df.to_csv(\"nodes.csv\", index=False)"
   ]
  },
  {
   "cell_type": "code",
   "execution_count": null,
   "id": "30166c62",
   "metadata": {},
   "outputs": [],
   "source": [
    "new_df = pd.DataFrame({\"Source\": s_edges, \"Target\": t_edges})\n",
    "new_df.to_csv(\"edges.csv\", index=False)"
   ]
  },
  {
   "cell_type": "code",
   "execution_count": null,
   "id": "72e4cf1d",
   "metadata": {},
   "outputs": [],
   "source": [
    "nx.write_graphml(new_polytree, \"polytree_threshold.graphml\")"
   ]
  },
  {
   "cell_type": "code",
   "execution_count": null,
   "id": "16d03772",
   "metadata": {},
   "outputs": [],
   "source": [
    "def birth(nodes, edges):\n",
    "    n_birth = 0\n",
    "    birth_nodes = []\n",
    "    for node in nodes:\n",
    "        is_birth = True\n",
    "        for edge in edges:\n",
    "            if node == edge[1]:\n",
    "                is_birth = False\n",
    "                break\n",
    "        if is_birth:\n",
    "            n_birth+=1\n",
    "            birth_nodes.append(node)\n",
    "    return n_birth, birth_nodes"
   ]
  },
  {
   "cell_type": "code",
   "execution_count": null,
   "id": "8e45f77f",
   "metadata": {},
   "outputs": [],
   "source": [
    "def death(nodes, edges):\n",
    "    n_death = 0\n",
    "    death_nodes = []\n",
    "    for node in nodes:\n",
    "        is_death = True\n",
    "        for edge in edges:\n",
    "            if node == edge[0]:\n",
    "                is_death = False\n",
    "                break\n",
    "        if is_death:\n",
    "            n_death+=1\n",
    "            death_nodes.append(node)\n",
    "    return n_death, death_nodes\n",
    "\n"
   ]
  },
  {
   "cell_type": "code",
   "execution_count": null,
   "id": "de99b628",
   "metadata": {},
   "outputs": [],
   "source": [
    "def merge(nodes, edges):\n",
    "    n_merge = 0\n",
    "    merge_nodes = {}\n",
    "    for node in nodes:\n",
    "        tmp_from = []\n",
    "        n_from = 0\n",
    "        for edge in edges:\n",
    "            if node == edge[1]:\n",
    "                tmp_from.append(edge[0])\n",
    "                n_from+=1\n",
    "        if n_from >1:\n",
    "            n_merge+=1\n",
    "            merge_nodes[node]=tmp_from\n",
    "    return n_merge, merge_nodes"
   ]
  },
  {
   "cell_type": "code",
   "execution_count": null,
   "id": "09b04381",
   "metadata": {},
   "outputs": [],
   "source": [
    "def split(nodes, edges):\n",
    "    n_split = 0\n",
    "    split_nodes = {}\n",
    "    for node in nodes:\n",
    "        tmp_to = []\n",
    "        n_to = 0\n",
    "        for edge in edges:\n",
    "            if node == edge[0]:\n",
    "                tmp_to.append(edge[1])\n",
    "                n_to+=1\n",
    "        if n_to >1:\n",
    "            n_split+=1\n",
    "            split_nodes[node]=tmp_to\n",
    "    return n_split, split_nodes"
   ]
  },
  {
   "cell_type": "code",
   "execution_count": null,
   "id": "7c9c62f3",
   "metadata": {},
   "outputs": [],
   "source": [
    "def continue_(nodes, edges):\n",
    "    n_continue = 0\n",
    "    continue_nodes = []\n",
    "    for node in nodes:\n",
    "        n_to = 0\n",
    "        tmp_to = \"\"\n",
    "        for edge in edges:\n",
    "            if node == edge[0]:\n",
    "                tmp_to=edge[1]\n",
    "                n_to+=1\n",
    "        if n_to ==1:\n",
    "            n_in = 0\n",
    "            for edge in edges:\n",
    "                if edge[1] == tmp_to:\n",
    "                    n_in+=1\n",
    "            if n_in ==1:\n",
    "                n_continue+=1\n",
    "                continue_nodes.append((node, tmp_to))\n",
    "    return n_continue, continue_nodes"
   ]
  },
  {
   "cell_type": "code",
   "execution_count": null,
   "id": "9f284156",
   "metadata": {},
   "outputs": [],
   "source": [
    "def type_continue(continue_nodes, tc):\n",
    "    grow = 0\n",
    "    contraction = 0\n",
    "    grow_ll = []\n",
    "    contraction_ll = []\n",
    "    for u,v in continue_nodes:\n",
    "        u_  = u.split(\"_\")\n",
    "        v_  = v.split(\"_\")\n",
    "        com_u = tc.get_clustering_at(int(u_[0])).named_communities[u]\n",
    "        com_v = tc.get_clustering_at(int(v_[0])).named_communities[v]\n",
    "        l_u = len(com_u)\n",
    "        l_v = len(com_v)\n",
    "        if l_u < l_v:\n",
    "            grow+=1\n",
    "            grow_ll.append((u, v))\n",
    "        if l_u > l_v:\n",
    "            contraction+=1\n",
    "            contraction_ll.append((u, v))\n",
    "    return grow, contraction, grow_ll, contraction_ll"
   ]
  },
  {
   "cell_type": "code",
   "execution_count": null,
   "id": "63040900",
   "metadata": {},
   "outputs": [],
   "source": [
    "def resourge(nodes, edges, tc):\n",
    "    #nodes without exit edges\n",
    "    no_exit_nodes = []\n",
    "    for node in nodes:\n",
    "        no_exit = True\n",
    "        for edge in edges:\n",
    "            if node == edge[0]:\n",
    "                no_exit = False\n",
    "                break\n",
    "        if no_exit:\n",
    "            no_exit_nodes.append(node)\n",
    "    #nodes withou entry edges\n",
    "    no_entry_nodes = []\n",
    "    for node in nodes:\n",
    "        no_entry = True\n",
    "        for edge in edges:\n",
    "            if node == edge[1]:\n",
    "                no_entry = False\n",
    "                break\n",
    "        if no_entry:\n",
    "            no_entry_nodes.append(node)\n",
    "    #for all no_exit (at t):\n",
    "    #       if there is a no_entry (at t + n) == no_exit (at t)\n",
    "    #              resourge found\n",
    "    resourge = 0\n",
    "    resourge_ll = []\n",
    "    for n_ex in no_exit_nodes:\n",
    "        clust_ex, commu_ex = n_ex.split(\"_\")\n",
    "        for n_en in no_entry_nodes:\n",
    "            clust_en, commu_en = n_en.split(\"_\")\n",
    "            if int(clust_en) > int(clust_ex):\n",
    "                # from t to t+n\n",
    "                com_ex = tc.get_clustering_at(int(clust_ex)).named_communities[n_ex]\n",
    "                com_en = tc.get_clustering_at(int(clust_en)).named_communities[n_en]\n",
    "                com_ex.sort()\n",
    "                com_en.sort()\n",
    "                if com_ex == com_en:\n",
    "                    resourge+=1\n",
    "                    resourge_ll.append((n_ex, n_en))\n",
    "    return resourge, resourge_ll\n",
    "\n"
   ]
  },
  {
   "cell_type": "code",
   "execution_count": null,
   "id": "f6ce03ca",
   "metadata": {},
   "outputs": [],
   "source": [
    "nodes_polytree = list(com_polytree.nodes())\n",
    "edges_polytree = list(com_polytree.edges())"
   ]
  },
  {
   "cell_type": "code",
   "execution_count": null,
   "id": "ab8fbbe9",
   "metadata": {},
   "outputs": [],
   "source": [
    "print(len(nodes_polytree))\n",
    "print(len(edges_polytree))"
   ]
  },
  {
   "cell_type": "code",
   "execution_count": null,
   "id": "88a58cde",
   "metadata": {},
   "outputs": [],
   "source": [
    "nodes_new = list(new_polytree.nodes())\n",
    "edges_new = list(new_polytree.edges())"
   ]
  },
  {
   "cell_type": "code",
   "execution_count": null,
   "id": "ca5fe680",
   "metadata": {},
   "outputs": [],
   "source": [
    "print(len(nodes_new))\n",
    "print(len(edges_new))"
   ]
  },
  {
   "cell_type": "code",
   "execution_count": null,
   "id": "972bd443",
   "metadata": {},
   "outputs": [],
   "source": [
    "for i in new_polytree.edges(data=True):\n",
    "    print(i)"
   ]
  },
  {
   "cell_type": "code",
   "execution_count": null,
   "id": "2a37b5c8",
   "metadata": {},
   "outputs": [],
   "source": [
    "n_birth, birth_nodes = birth(nodes_polytree, edges_polytree)\n",
    "print(n_birth)"
   ]
  },
  {
   "cell_type": "code",
   "execution_count": null,
   "id": "c239cb17",
   "metadata": {},
   "outputs": [],
   "source": [
    "n_death, death_nodes = death(nodes_polytree, edges_polytree)\n",
    "print(n_death)"
   ]
  },
  {
   "cell_type": "code",
   "execution_count": null,
   "id": "0b803a21",
   "metadata": {},
   "outputs": [],
   "source": [
    "n_merge, merge_nodes = merge(nodes_polytree, edges_polytree)\n",
    "print(n_merge)\n",
    "\n"
   ]
  },
  {
   "cell_type": "code",
   "execution_count": null,
   "id": "312a4f5c",
   "metadata": {},
   "outputs": [],
   "source": [
    "n_split, split_nodes = split(nodes_polytree, edges_polytree)\n",
    "print(n_split)\n",
    "\n"
   ]
  },
  {
   "cell_type": "code",
   "execution_count": null,
   "id": "56f6cd32",
   "metadata": {},
   "outputs": [],
   "source": [
    "n_continue, continue_nodes = continue_(nodes_polytree, edges_polytree)\n",
    "print(n_continue)\n",
    "\n"
   ]
  },
  {
   "cell_type": "code",
   "execution_count": null,
   "id": "ccccf6fa",
   "metadata": {},
   "outputs": [],
   "source": [
    "if n_continue > 0:\n",
    "    n_grow, n_contraction = type_continue(continue_nodes, tc)\n",
    "    print(\"N grow events: \", n_grow)\n",
    "    print(\"N contraction events: \", n_contraction)\n",
    "\n"
   ]
  },
  {
   "cell_type": "code",
   "execution_count": null,
   "id": "452efa46",
   "metadata": {},
   "outputs": [],
   "source": [
    "n_birth, birth_nodes = birth(nodes_new, edges_new)\n",
    "print(n_birth)"
   ]
  },
  {
   "cell_type": "code",
   "execution_count": null,
   "id": "4e14c26f",
   "metadata": {},
   "outputs": [],
   "source": [
    "real_birth = 0\n",
    "for i in birth_nodes:\n",
    "    if i.split(\"_\")[0] != \"0\":\n",
    "        real_birth+=1\n",
    "print(real_birth)\n",
    "\n"
   ]
  },
  {
   "cell_type": "code",
   "execution_count": null,
   "id": "70dc2f56",
   "metadata": {},
   "outputs": [],
   "source": [
    "n_death, death_nodes = death(nodes_new, edges_new)\n",
    "print(n_death)"
   ]
  },
  {
   "cell_type": "code",
   "execution_count": null,
   "id": "fef9931f",
   "metadata": {},
   "outputs": [],
   "source": [
    "real_death = 0\n",
    "for i in death_nodes:\n",
    "    if i.split(\"_\")[0] != \"11\":\n",
    "        real_death+=1\n",
    "print(real_death)\n",
    "\n"
   ]
  },
  {
   "cell_type": "code",
   "execution_count": null,
   "id": "cfb16398",
   "metadata": {},
   "outputs": [],
   "source": [
    "n_merge, merge_nodes = merge(nodes_new, edges_new)\n",
    "print(n_merge)\n",
    "\n"
   ]
  },
  {
   "cell_type": "code",
   "execution_count": null,
   "id": "2e81025c",
   "metadata": {},
   "outputs": [],
   "source": [
    "n_split, split_nodes = split(nodes_new, edges_new)\n",
    "print(n_split)"
   ]
  },
  {
   "cell_type": "code",
   "execution_count": null,
   "id": "1f5c9a1d",
   "metadata": {},
   "outputs": [],
   "source": [
    "n_continue, continue_nodes = continue_(nodes_new, edges_new)\n",
    "print(n_continue)\n",
    "\n"
   ]
  },
  {
   "cell_type": "code",
   "execution_count": null,
   "id": "dae6de16",
   "metadata": {},
   "outputs": [],
   "source": [
    "if n_continue > 0:\n",
    "    n_grow, n_contraction, grow_ll, contraction_ll = type_continue(continue_nodes, tc)\n",
    "    print(\"N grow events: \", n_grow)\n",
    "    print(\"N contraction events: \", n_contraction)\n",
    "\n"
   ]
  },
  {
   "cell_type": "code",
   "execution_count": null,
   "id": "ec39a751",
   "metadata": {},
   "outputs": [],
   "source": [
    "com_8_27 = tc.get_clustering_at(8).named_communities[\"8_27\"]\n",
    "print(len(com_8_27))"
   ]
  },
  {
   "cell_type": "code",
   "execution_count": null,
   "id": "d0d0bff0",
   "metadata": {},
   "outputs": [],
   "source": [
    "com_9_16 = tc.get_clustering_at(9).named_communities[\"9_16\"]\n",
    "print(len(com_9_16))"
   ]
  },
  {
   "cell_type": "code",
   "execution_count": null,
   "id": "e5e54130",
   "metadata": {},
   "outputs": [],
   "source": [
    "com_10_37 = tc.get_clustering_at(10).named_communities[\"10_37\"]\n",
    "print(len(com_10_37))"
   ]
  },
  {
   "cell_type": "code",
   "execution_count": null,
   "id": "4e00b3f3",
   "metadata": {},
   "outputs": [],
   "source": [
    "tc.get_clustering_at(1)\n",
    "\n"
   ]
  },
  {
   "cell_type": "code",
   "execution_count": null,
   "id": "0d11b0b6",
   "metadata": {},
   "outputs": [],
   "source": [
    "max_grow = 0 \n",
    "edge_grow = (\"0\", \"0\")\n",
    "for i in grow_ll:\n",
    "    tt = i[0].split(\"_\")\n",
    "    com_ = tc.get_clustering_at(int(tt[0])).named_communities[i[0]]\n",
    "    if len(com_) > max_grow:\n",
    "        max_grow = len(com_)\n",
    "        edge_grow = i\n",
    "print(edge_grow)\n",
    "\n"
   ]
  },
  {
   "cell_type": "code",
   "execution_count": null,
   "id": "8c0f7ac3",
   "metadata": {},
   "outputs": [],
   "source": [
    "com_10_3 = tc.get_clustering_at(10).named_communities[\"10_3\"]\n",
    "print(len(com_1_17))\n",
    "com_11_2 = tc.get_clustering_at(11).named_communities[\"11_2\"]\n",
    "print(len(com_11_2))"
   ]
  },
  {
   "cell_type": "code",
   "execution_count": null,
   "id": "c5936012",
   "metadata": {},
   "outputs": [],
   "source": [
    "com_1_4 = tc.get_clustering_at(1).named_communities[\"1_4\"]\n",
    "print(len(com_1_4))"
   ]
  },
  {
   "cell_type": "code",
   "execution_count": null,
   "id": "f74e337e",
   "metadata": {},
   "outputs": [],
   "source": [
    "com_1_17 = tc.get_clustering_at(1).named_communities[\"1_17\"]\n",
    "print(len(com_1_17))\n",
    "\n"
   ]
  },
  {
   "cell_type": "code",
   "execution_count": null,
   "id": "fd222a24",
   "metadata": {},
   "outputs": [],
   "source": [
    "com_2_3 = tc.get_clustering_at(2).named_communities[\"2_3\"]\n",
    "print(len(com_2_3))\n",
    "\n"
   ]
  },
  {
   "cell_type": "code",
   "execution_count": null,
   "id": "273e239c",
   "metadata": {},
   "outputs": [],
   "source": [
    "com_3_4 = tc.get_clustering_at(3).named_communities[\"3_4\"]\n",
    "print(len(com_3_4))\n",
    "com_3_36 = tc.get_clustering_at(3).named_communities[\"3_36\"]\n",
    "print(len(com_3_36))\n",
    "com_3_32 = tc.get_clustering_at(3).named_communities[\"3_32\"]\n",
    "print(len(com_3_32))\n",
    "com_3_44 = tc.get_clustering_at(3).named_communities[\"3_44\"]\n",
    "print(len(com_3_44))\n",
    "com_3_15 = tc.get_clustering_at(3).named_communities[\"3_15\"]\n",
    "print(len(com_3_15))\n",
    "com_3_43 = tc.get_clustering_at(3).named_communities[\"3_43\"]\n",
    "print(len(com_3_43))"
   ]
  },
  {
   "cell_type": "code",
   "execution_count": null,
   "id": "a7e1fd15",
   "metadata": {},
   "outputs": [],
   "source": [
    "n_resourge, resourge_ll = resourge(nodes_new, edges_new, tc)\n",
    "\n"
   ]
  },
  {
   "cell_type": "code",
   "execution_count": null,
   "id": "cc973b16",
   "metadata": {},
   "outputs": [],
   "source": [
    "n_resourge\n",
    "\n"
   ]
  },
  {
   "cell_type": "code",
   "execution_count": null,
   "id": "e363854e",
   "metadata": {},
   "outputs": [],
   "source": []
  }
 ],
 "metadata": {
  "kernelspec": {
   "display_name": "Python 3 (ipykernel)",
   "language": "python",
   "name": "python3"
  },
  "language_info": {
   "codemirror_mode": {
    "name": "ipython",
    "version": 3
   },
   "file_extension": ".py",
   "mimetype": "text/x-python",
   "name": "python",
   "nbconvert_exporter": "python",
   "pygments_lexer": "ipython3",
   "version": "3.9.7"
  }
 },
 "nbformat": 4,
 "nbformat_minor": 5
}
