{
 "cells": [
  {
   "cell_type": "code",
   "execution_count": 1,
   "id": "975a17af",
   "metadata": {},
   "outputs": [],
   "source": [
    "import pandas as pd\n",
    "import time as _time\n",
    "import datetime\n",
    "import numpy as np\n",
    "from datetime import tzinfo, timedelta, datetime, time"
   ]
  },
  {
   "cell_type": "code",
   "execution_count": 2,
   "id": "7b9a5a31",
   "metadata": {},
   "outputs": [],
   "source": [
    "path = \"../Dataset FFF/fff.csv\""
   ]
  },
  {
   "cell_type": "code",
   "execution_count": 3,
   "id": "0d47857d",
   "metadata": {},
   "outputs": [
    {
     "data": {
      "text/plain": [
       "Index(['clean_tags', 'hashtags', 'date', 'user_id', 'username', 'name',\n",
       "       'tweet', 'language', 'mentions', 'replies_count', 'retweets_count',\n",
       "       'likes_count', 'link', 'retweet', 'reply_to'],\n",
       "      dtype='object')"
      ]
     },
     "execution_count": 3,
     "metadata": {},
     "output_type": "execute_result"
    }
   ],
   "source": [
    "df = pd.read_csv(path)\n",
    "df.columns"
   ]
  },
  {
   "cell_type": "code",
   "execution_count": 4,
   "id": "08598eb4",
   "metadata": {},
   "outputs": [],
   "source": [
    "df = df.sort_values(by=['date'])"
   ]
  },
  {
   "cell_type": "code",
   "execution_count": 8,
   "id": "fea3b947",
   "metadata": {
    "scrolled": true
   },
   "outputs": [
    {
     "data": {
      "text/html": [
       "<div>\n",
       "<style scoped>\n",
       "    .dataframe tbody tr th:only-of-type {\n",
       "        vertical-align: middle;\n",
       "    }\n",
       "\n",
       "    .dataframe tbody tr th {\n",
       "        vertical-align: top;\n",
       "    }\n",
       "\n",
       "    .dataframe thead th {\n",
       "        text-align: right;\n",
       "    }\n",
       "</style>\n",
       "<table border=\"1\" class=\"dataframe\">\n",
       "  <thead>\n",
       "    <tr style=\"text-align: right;\">\n",
       "      <th></th>\n",
       "      <th>clean_tags</th>\n",
       "      <th>hashtags</th>\n",
       "      <th>date</th>\n",
       "      <th>user_id</th>\n",
       "      <th>username</th>\n",
       "      <th>name</th>\n",
       "      <th>tweet</th>\n",
       "      <th>language</th>\n",
       "      <th>mentions</th>\n",
       "      <th>replies_count</th>\n",
       "      <th>retweets_count</th>\n",
       "      <th>likes_count</th>\n",
       "      <th>link</th>\n",
       "      <th>retweet</th>\n",
       "      <th>reply_to</th>\n",
       "    </tr>\n",
       "  </thead>\n",
       "  <tbody>\n",
       "    <tr>\n",
       "      <th>23503</th>\n",
       "      <td>klimastreik, fridaysforfuture, allefuersklima,...</td>\n",
       "      <td>['klimastreik', 'fridaysforfuture', 'allefuers...</td>\n",
       "      <td>2019-09-20</td>\n",
       "      <td>19811643</td>\n",
       "      <td>lvz</td>\n",
       "      <td>LVZ</td>\n",
       "      <td>Verkehrschaos in der City: Auf dem Ring ist de...</td>\n",
       "      <td>de</td>\n",
       "      <td>[]</td>\n",
       "      <td>2</td>\n",
       "      <td>5</td>\n",
       "      <td>17</td>\n",
       "      <td>https://twitter.com/LVZ/status/117507069339176...</td>\n",
       "      <td>False</td>\n",
       "      <td>[]</td>\n",
       "    </tr>\n",
       "  </tbody>\n",
       "</table>\n",
       "</div>"
      ],
      "text/plain": [
       "                                              clean_tags  \\\n",
       "23503  klimastreik, fridaysforfuture, allefuersklima,...   \n",
       "\n",
       "                                                hashtags        date  \\\n",
       "23503  ['klimastreik', 'fridaysforfuture', 'allefuers...  2019-09-20   \n",
       "\n",
       "        user_id username name  \\\n",
       "23503  19811643      lvz  LVZ   \n",
       "\n",
       "                                                   tweet language mentions  \\\n",
       "23503  Verkehrschaos in der City: Auf dem Ring ist de...       de       []   \n",
       "\n",
       "       replies_count  retweets_count  likes_count  \\\n",
       "23503              2               5           17   \n",
       "\n",
       "                                                    link  retweet reply_to  \n",
       "23503  https://twitter.com/LVZ/status/117507069339176...    False       []  "
      ]
     },
     "execution_count": 8,
     "metadata": {},
     "output_type": "execute_result"
    }
   ],
   "source": [
    "df.head(1)"
   ]
  },
  {
   "cell_type": "code",
   "execution_count": 6,
   "id": "0d4873e0",
   "metadata": {},
   "outputs": [],
   "source": [
    "df['date'] = pd.to_datetime(df['date'])"
   ]
  },
  {
   "cell_type": "code",
   "execution_count": 7,
   "id": "d24e2a62",
   "metadata": {},
   "outputs": [],
   "source": [
    "df['Year'] = df['date'].dt.year \n",
    "df['Month'] = df['date'].dt.month \n",
    "df['Day'] = df['date'].dt.day"
   ]
  },
  {
   "cell_type": "code",
   "execution_count": 9,
   "id": "71c78bd8",
   "metadata": {},
   "outputs": [
    {
     "data": {
      "text/html": [
       "<div>\n",
       "<style scoped>\n",
       "    .dataframe tbody tr th:only-of-type {\n",
       "        vertical-align: middle;\n",
       "    }\n",
       "\n",
       "    .dataframe tbody tr th {\n",
       "        vertical-align: top;\n",
       "    }\n",
       "\n",
       "    .dataframe thead th {\n",
       "        text-align: right;\n",
       "    }\n",
       "</style>\n",
       "<table border=\"1\" class=\"dataframe\">\n",
       "  <thead>\n",
       "    <tr style=\"text-align: right;\">\n",
       "      <th></th>\n",
       "      <th>clean_tags</th>\n",
       "      <th>hashtags</th>\n",
       "      <th>date</th>\n",
       "      <th>user_id</th>\n",
       "      <th>username</th>\n",
       "      <th>name</th>\n",
       "      <th>tweet</th>\n",
       "      <th>language</th>\n",
       "      <th>mentions</th>\n",
       "      <th>replies_count</th>\n",
       "      <th>retweets_count</th>\n",
       "      <th>likes_count</th>\n",
       "      <th>link</th>\n",
       "      <th>retweet</th>\n",
       "      <th>reply_to</th>\n",
       "    </tr>\n",
       "  </thead>\n",
       "  <tbody>\n",
       "    <tr>\n",
       "      <th>23503</th>\n",
       "      <td>klimastreik, fridaysforfuture, allefuersklima,...</td>\n",
       "      <td>['klimastreik', 'fridaysforfuture', 'allefuers...</td>\n",
       "      <td>2019-09-20</td>\n",
       "      <td>19811643</td>\n",
       "      <td>lvz</td>\n",
       "      <td>LVZ</td>\n",
       "      <td>Verkehrschaos in der City: Auf dem Ring ist de...</td>\n",
       "      <td>de</td>\n",
       "      <td>[]</td>\n",
       "      <td>2</td>\n",
       "      <td>5</td>\n",
       "      <td>17</td>\n",
       "      <td>https://twitter.com/LVZ/status/117507069339176...</td>\n",
       "      <td>False</td>\n",
       "      <td>[]</td>\n",
       "    </tr>\n",
       "  </tbody>\n",
       "</table>\n",
       "</div>"
      ],
      "text/plain": [
       "                                              clean_tags  \\\n",
       "23503  klimastreik, fridaysforfuture, allefuersklima,...   \n",
       "\n",
       "                                                hashtags        date  \\\n",
       "23503  ['klimastreik', 'fridaysforfuture', 'allefuers...  2019-09-20   \n",
       "\n",
       "        user_id username name  \\\n",
       "23503  19811643      lvz  LVZ   \n",
       "\n",
       "                                                   tweet language mentions  \\\n",
       "23503  Verkehrschaos in der City: Auf dem Ring ist de...       de       []   \n",
       "\n",
       "       replies_count  retweets_count  likes_count  \\\n",
       "23503              2               5           17   \n",
       "\n",
       "                                                    link  retweet reply_to  \n",
       "23503  https://twitter.com/LVZ/status/117507069339176...    False       []  "
      ]
     },
     "execution_count": 9,
     "metadata": {},
     "output_type": "execute_result"
    }
   ],
   "source": [
    "df.head(1)"
   ]
  },
  {
   "cell_type": "code",
   "execution_count": 9,
   "id": "35f93a90",
   "metadata": {},
   "outputs": [],
   "source": [
    "df.insert(3, 'Year', df.pop('Year'))"
   ]
  },
  {
   "cell_type": "code",
   "execution_count": 10,
   "id": "9a296bb7",
   "metadata": {},
   "outputs": [],
   "source": [
    "df.insert(4, 'Month', df.pop('Month'))"
   ]
  },
  {
   "cell_type": "code",
   "execution_count": 11,
   "id": "92337959",
   "metadata": {},
   "outputs": [],
   "source": [
    "df.insert(5, 'Day', df.pop('Day'))"
   ]
  },
  {
   "cell_type": "code",
   "execution_count": 64,
   "id": "a66b711f",
   "metadata": {
    "scrolled": false
   },
   "outputs": [
    {
     "data": {
      "text/html": [
       "<div>\n",
       "<style scoped>\n",
       "    .dataframe tbody tr th:only-of-type {\n",
       "        vertical-align: middle;\n",
       "    }\n",
       "\n",
       "    .dataframe tbody tr th {\n",
       "        vertical-align: top;\n",
       "    }\n",
       "\n",
       "    .dataframe thead th {\n",
       "        text-align: right;\n",
       "    }\n",
       "</style>\n",
       "<table border=\"1\" class=\"dataframe\">\n",
       "  <thead>\n",
       "    <tr style=\"text-align: right;\">\n",
       "      <th></th>\n",
       "      <th>clean_tags</th>\n",
       "      <th>hashtags</th>\n",
       "      <th>date</th>\n",
       "      <th>user_id</th>\n",
       "      <th>username</th>\n",
       "      <th>name</th>\n",
       "      <th>tweet</th>\n",
       "      <th>language</th>\n",
       "      <th>mentions</th>\n",
       "      <th>replies_count</th>\n",
       "      <th>retweets_count</th>\n",
       "      <th>likes_count</th>\n",
       "      <th>link</th>\n",
       "      <th>retweet</th>\n",
       "      <th>reply_to</th>\n",
       "    </tr>\n",
       "  </thead>\n",
       "  <tbody>\n",
       "    <tr>\n",
       "      <th>23503</th>\n",
       "      <td>klimastreik, fridaysforfuture, allefuersklima,...</td>\n",
       "      <td>['klimastreik', 'fridaysforfuture', 'allefuers...</td>\n",
       "      <td>2019-09-20</td>\n",
       "      <td>19811643</td>\n",
       "      <td>lvz</td>\n",
       "      <td>LVZ</td>\n",
       "      <td>Verkehrschaos in der City: Auf dem Ring ist de...</td>\n",
       "      <td>de</td>\n",
       "      <td>[]</td>\n",
       "      <td>2</td>\n",
       "      <td>5</td>\n",
       "      <td>17</td>\n",
       "      <td>https://twitter.com/LVZ/status/117507069339176...</td>\n",
       "      <td>False</td>\n",
       "      <td>[]</td>\n",
       "    </tr>\n",
       "    <tr>\n",
       "      <th>23161</th>\n",
       "      <td>climatestrike, youthclimatestrike, fridaysforf...</td>\n",
       "      <td>['climatestrike', 'youthclimatestrike', 'frida...</td>\n",
       "      <td>2019-09-20</td>\n",
       "      <td>457653720</td>\n",
       "      <td>jakewoodier</td>\n",
       "      <td>Jake Woodier</td>\n",
       "      <td>Wow, provisional estimate in for the UK #Clima...</td>\n",
       "      <td>en</td>\n",
       "      <td>[{'screen_name': 'strike4youth', 'name': 'yout...</td>\n",
       "      <td>15</td>\n",
       "      <td>287</td>\n",
       "      <td>1341</td>\n",
       "      <td>https://twitter.com/JakeWoodier/status/1175125...</td>\n",
       "      <td>False</td>\n",
       "      <td>[]</td>\n",
       "    </tr>\n",
       "  </tbody>\n",
       "</table>\n",
       "</div>"
      ],
      "text/plain": [
       "                                              clean_tags  \\\n",
       "23503  klimastreik, fridaysforfuture, allefuersklima,...   \n",
       "23161  climatestrike, youthclimatestrike, fridaysforf...   \n",
       "\n",
       "                                                hashtags        date  \\\n",
       "23503  ['klimastreik', 'fridaysforfuture', 'allefuers...  2019-09-20   \n",
       "23161  ['climatestrike', 'youthclimatestrike', 'frida...  2019-09-20   \n",
       "\n",
       "         user_id     username          name  \\\n",
       "23503   19811643          lvz           LVZ   \n",
       "23161  457653720  jakewoodier  Jake Woodier   \n",
       "\n",
       "                                                   tweet language  \\\n",
       "23503  Verkehrschaos in der City: Auf dem Ring ist de...       de   \n",
       "23161  Wow, provisional estimate in for the UK #Clima...       en   \n",
       "\n",
       "                                                mentions  replies_count  \\\n",
       "23503                                                 []              2   \n",
       "23161  [{'screen_name': 'strike4youth', 'name': 'yout...             15   \n",
       "\n",
       "       retweets_count  likes_count  \\\n",
       "23503               5           17   \n",
       "23161             287         1341   \n",
       "\n",
       "                                                    link  retweet reply_to  \n",
       "23503  https://twitter.com/LVZ/status/117507069339176...    False       []  \n",
       "23161  https://twitter.com/JakeWoodier/status/1175125...    False       []  "
      ]
     },
     "execution_count": 64,
     "metadata": {},
     "output_type": "execute_result"
    }
   ],
   "source": [
    "df.head(2)"
   ]
  },
  {
   "cell_type": "code",
   "execution_count": 81,
   "id": "59760758",
   "metadata": {},
   "outputs": [],
   "source": [
    "#Prendo solo il 2021 -post pandemia\n",
    "#faccio la colonna mesi e la applico al dizionario\n",
    "df['date'] = pd.to_datetime(df['date'])"
   ]
  },
  {
   "cell_type": "code",
   "execution_count": 36,
   "id": "c119ec99",
   "metadata": {},
   "outputs": [],
   "source": [
    "date=df['date']"
   ]
  },
  {
   "cell_type": "code",
   "execution_count": 82,
   "id": "120ec570",
   "metadata": {},
   "outputs": [],
   "source": [
    "df['Year'] = df['date'].dt.year \n",
    "df['Month'] = df['date'].dt.month \n",
    "df['Day'] = df['date'].dt.day"
   ]
  },
  {
   "cell_type": "code",
   "execution_count": 84,
   "id": "f6b8be99",
   "metadata": {},
   "outputs": [],
   "source": [
    "df.insert(3, 'Year', df.pop('Year'))\n",
    "df.insert(4, 'Month', df.pop('Month'))\n",
    "df.insert(5, 'Day', df.pop('Day'))"
   ]
  },
  {
   "cell_type": "code",
   "execution_count": 85,
   "id": "fabcfdd4",
   "metadata": {},
   "outputs": [],
   "source": [
    "df_2021=df[df['Year']==2021]"
   ]
  },
  {
   "cell_type": "markdown",
   "id": "d795e38f",
   "metadata": {},
   "source": [
    "Ho selezionato il **2021** e abbiamo come risultato un df di **5910 valori**"
   ]
  },
  {
   "cell_type": "code",
   "execution_count": 91,
   "id": "25039fce",
   "metadata": {},
   "outputs": [],
   "source": [
    "#Creo un file csv\n",
    "df_2021.to_csv('../Dataset FFF/fff_2021.csv', index=False)"
   ]
  },
  {
   "cell_type": "code",
   "execution_count": 92,
   "id": "15da771f",
   "metadata": {},
   "outputs": [
    {
     "data": {
      "text/html": [
       "<div>\n",
       "<style scoped>\n",
       "    .dataframe tbody tr th:only-of-type {\n",
       "        vertical-align: middle;\n",
       "    }\n",
       "\n",
       "    .dataframe tbody tr th {\n",
       "        vertical-align: top;\n",
       "    }\n",
       "\n",
       "    .dataframe thead th {\n",
       "        text-align: right;\n",
       "    }\n",
       "</style>\n",
       "<table border=\"1\" class=\"dataframe\">\n",
       "  <thead>\n",
       "    <tr style=\"text-align: right;\">\n",
       "      <th></th>\n",
       "      <th>clean_tags</th>\n",
       "      <th>hashtags</th>\n",
       "      <th>date</th>\n",
       "      <th>Year</th>\n",
       "      <th>Month</th>\n",
       "      <th>Day</th>\n",
       "      <th>user_id</th>\n",
       "      <th>username</th>\n",
       "      <th>name</th>\n",
       "      <th>tweet</th>\n",
       "      <th>language</th>\n",
       "      <th>mentions</th>\n",
       "      <th>replies_count</th>\n",
       "      <th>retweets_count</th>\n",
       "      <th>likes_count</th>\n",
       "      <th>link</th>\n",
       "      <th>retweet</th>\n",
       "      <th>reply_to</th>\n",
       "    </tr>\n",
       "  </thead>\n",
       "  <tbody>\n",
       "    <tr>\n",
       "      <th>0</th>\n",
       "      <td>fridaysforfuture, climatestrike, climateemerge...</td>\n",
       "      <td>['fridaysforfuture', 'climatestrike', 'climate...</td>\n",
       "      <td>2021-01-01</td>\n",
       "      <td>2021</td>\n",
       "      <td>1</td>\n",
       "      <td>1</td>\n",
       "      <td>2159967748</td>\n",
       "      <td>brothadestin</td>\n",
       "      <td>Destin M. Sempijja 🇺🇬</td>\n",
       "      <td>#FridaysForFuture we wish u a happy new year 2...</td>\n",
       "      <td>en</td>\n",
       "      <td>[]</td>\n",
       "      <td>6</td>\n",
       "      <td>32</td>\n",
       "      <td>62</td>\n",
       "      <td>https://twitter.com/brothadestin/status/134501...</td>\n",
       "      <td>False</td>\n",
       "      <td>[]</td>\n",
       "    </tr>\n",
       "    <tr>\n",
       "      <th>1</th>\n",
       "      <td>climatestrike, newyear, climatecrisis, climate...</td>\n",
       "      <td>['climatestrike', 'newyear', 'climatecrisis', ...</td>\n",
       "      <td>2021-01-01</td>\n",
       "      <td>2021</td>\n",
       "      <td>1</td>\n",
       "      <td>1</td>\n",
       "      <td>1083095649372065793</td>\n",
       "      <td>anikadafert</td>\n",
       "      <td>Anika Dafert</td>\n",
       "      <td>#ClimateStrike week 100!   Happy #NewYear! Tod...</td>\n",
       "      <td>en</td>\n",
       "      <td>[]</td>\n",
       "      <td>31</td>\n",
       "      <td>224</td>\n",
       "      <td>1407</td>\n",
       "      <td>https://twitter.com/anikadafert/status/1344994...</td>\n",
       "      <td>False</td>\n",
       "      <td>[]</td>\n",
       "    </tr>\n",
       "    <tr>\n",
       "      <th>2</th>\n",
       "      <td>happynewyear2021, fridaysforfuture</td>\n",
       "      <td>['happynewyear2021', 'fridaysforfuture']</td>\n",
       "      <td>2021-01-01</td>\n",
       "      <td>2021</td>\n",
       "      <td>1</td>\n",
       "      <td>1</td>\n",
       "      <td>1068337838</td>\n",
       "      <td>luisamneubauer</td>\n",
       "      <td>Luisa Neubauer</td>\n",
       "      <td>Frohes neues Jahr und danke an das Internet da...</td>\n",
       "      <td>de</td>\n",
       "      <td>[]</td>\n",
       "      <td>555</td>\n",
       "      <td>341</td>\n",
       "      <td>6576</td>\n",
       "      <td>https://twitter.com/Luisamneubauer/status/1344...</td>\n",
       "      <td>False</td>\n",
       "      <td>[]</td>\n",
       "    </tr>\n",
       "    <tr>\n",
       "      <th>3</th>\n",
       "      <td>deutschunterricht, fridaysforfuture, fff</td>\n",
       "      <td>['deutschunterricht', 'fridaysforfuture', 'fff']</td>\n",
       "      <td>2021-01-01</td>\n",
       "      <td>2021</td>\n",
       "      <td>1</td>\n",
       "      <td>1</td>\n",
       "      <td>4821992621</td>\n",
       "      <td>boesmensch60488</td>\n",
       "      <td>Bösmensch 🇩🇪🇦🇲</td>\n",
       "      <td>Das kommt dafon, wenn man das #Deutschunterric...</td>\n",
       "      <td>de</td>\n",
       "      <td>[]</td>\n",
       "      <td>7</td>\n",
       "      <td>6</td>\n",
       "      <td>36</td>\n",
       "      <td>https://twitter.com/Boesmensch60488/status/134...</td>\n",
       "      <td>False</td>\n",
       "      <td>[]</td>\n",
       "    </tr>\n",
       "    <tr>\n",
       "      <th>4</th>\n",
       "      <td>climatestrikeonline, digitalstrike, fridaysfor...</td>\n",
       "      <td>['climatestrikeonline', 'digitalstrike', 'frid...</td>\n",
       "      <td>2021-01-01</td>\n",
       "      <td>2021</td>\n",
       "      <td>1</td>\n",
       "      <td>1</td>\n",
       "      <td>1205202374765232130</td>\n",
       "      <td>tomstweeters</td>\n",
       "      <td>Tom #StandWithUkraine 🇺🇦</td>\n",
       "      <td>#ClimateStrikeOnline #DigitalStrike for #Frida...</td>\n",
       "      <td>en</td>\n",
       "      <td>[]</td>\n",
       "      <td>4</td>\n",
       "      <td>15</td>\n",
       "      <td>35</td>\n",
       "      <td>https://twitter.com/TomsTweeters/status/134500...</td>\n",
       "      <td>False</td>\n",
       "      <td>[]</td>\n",
       "    </tr>\n",
       "  </tbody>\n",
       "</table>\n",
       "</div>"
      ],
      "text/plain": [
       "                                          clean_tags  \\\n",
       "0  fridaysforfuture, climatestrike, climateemerge...   \n",
       "1  climatestrike, newyear, climatecrisis, climate...   \n",
       "2                 happynewyear2021, fridaysforfuture   \n",
       "3           deutschunterricht, fridaysforfuture, fff   \n",
       "4  climatestrikeonline, digitalstrike, fridaysfor...   \n",
       "\n",
       "                                            hashtags        date  Year  Month  \\\n",
       "0  ['fridaysforfuture', 'climatestrike', 'climate...  2021-01-01  2021      1   \n",
       "1  ['climatestrike', 'newyear', 'climatecrisis', ...  2021-01-01  2021      1   \n",
       "2           ['happynewyear2021', 'fridaysforfuture']  2021-01-01  2021      1   \n",
       "3   ['deutschunterricht', 'fridaysforfuture', 'fff']  2021-01-01  2021      1   \n",
       "4  ['climatestrikeonline', 'digitalstrike', 'frid...  2021-01-01  2021      1   \n",
       "\n",
       "   Day              user_id         username                      name  \\\n",
       "0    1           2159967748     brothadestin     Destin M. Sempijja 🇺🇬   \n",
       "1    1  1083095649372065793      anikadafert              Anika Dafert   \n",
       "2    1           1068337838   luisamneubauer            Luisa Neubauer   \n",
       "3    1           4821992621  boesmensch60488            Bösmensch 🇩🇪🇦🇲   \n",
       "4    1  1205202374765232130     tomstweeters  Tom #StandWithUkraine 🇺🇦   \n",
       "\n",
       "                                               tweet language mentions  \\\n",
       "0  #FridaysForFuture we wish u a happy new year 2...       en       []   \n",
       "1  #ClimateStrike week 100!   Happy #NewYear! Tod...       en       []   \n",
       "2  Frohes neues Jahr und danke an das Internet da...       de       []   \n",
       "3  Das kommt dafon, wenn man das #Deutschunterric...       de       []   \n",
       "4  #ClimateStrikeOnline #DigitalStrike for #Frida...       en       []   \n",
       "\n",
       "   replies_count  retweets_count  likes_count  \\\n",
       "0              6              32           62   \n",
       "1             31             224         1407   \n",
       "2            555             341         6576   \n",
       "3              7               6           36   \n",
       "4              4              15           35   \n",
       "\n",
       "                                                link  retweet reply_to  \n",
       "0  https://twitter.com/brothadestin/status/134501...    False       []  \n",
       "1  https://twitter.com/anikadafert/status/1344994...    False       []  \n",
       "2  https://twitter.com/Luisamneubauer/status/1344...    False       []  \n",
       "3  https://twitter.com/Boesmensch60488/status/134...    False       []  \n",
       "4  https://twitter.com/TomsTweeters/status/134500...    False       []  "
      ]
     },
     "execution_count": 92,
     "metadata": {},
     "output_type": "execute_result"
    }
   ],
   "source": [
    "df1=pd.read_csv(\"../Dataset FFF/fff_2021.csv\")\n",
    "df1.head(5)"
   ]
  },
  {
   "cell_type": "code",
   "execution_count": 94,
   "id": "211cd5ff",
   "metadata": {},
   "outputs": [],
   "source": [
    "#Ti crea un dizionario in cui le chiavi sono i tag singoli e i valori sono gli id degli user\n",
    "tags_dict = {}\n",
    "for i in range(len(df1)):\n",
    "    ll = df1[\"clean_tags\"][i].split(\",\")\n",
    "    for tg in ll:\n",
    "        tgs=tg.lstrip()\n",
    "        if tgs not in tags_dict:\n",
    "            tags_dict[tgs] = [df1[\"Month\"][i]]\n",
    "        else:\n",
    "            tags_dict[tgs].append(df1[\"Month\"][i])"
   ]
  },
  {
   "cell_type": "code",
   "execution_count": 95,
   "id": "8b5a6670",
   "metadata": {},
   "outputs": [],
   "source": [
    "#Crea la lista di tags dalle chiavi del dizionario e li associa alla variabile tag\n",
    "tags = list(tags_dict.keys())\n",
    "#crea una lista costituita da coppie di tags\n",
    "couple_tags = []\n",
    "for i in range(len(tags)):\n",
    "    for j in tags[i+1:]:\n",
    "        couple_tags.append((tags[i], j)) "
   ]
  },
  {
   "cell_type": "code",
   "execution_count": 96,
   "id": "32f61e35",
   "metadata": {},
   "outputs": [],
   "source": [
    "source = []\n",
    "target = []\n",
    "date = []\n",
    "nodes = []\n",
    "for i in couple_tags:\n",
    "    ll = list(set(tags_dict[i[0]]) & set(tags_dict[i[1]]))\n",
    "    if len(ll)>0:\n",
    "        source.append(i[0])\n",
    "        target.append(i[1])\n",
    "        date.append(ll)\n",
    "        nodes.append(i[0])\n",
    "        nodes.append(i[1])"
   ]
  },
  {
   "cell_type": "code",
   "execution_count": 97,
   "id": "0f3f1f9c",
   "metadata": {},
   "outputs": [
    {
     "data": {
      "text/plain": [
       "1061580"
      ]
     },
     "execution_count": 97,
     "metadata": {},
     "output_type": "execute_result"
    }
   ],
   "source": [
    "len(date)"
   ]
  },
  {
   "cell_type": "code",
   "execution_count": 98,
   "id": "2356b8db",
   "metadata": {},
   "outputs": [
    {
     "data": {
      "text/plain": [
       "1061580"
      ]
     },
     "execution_count": 98,
     "metadata": {},
     "output_type": "execute_result"
    }
   ],
   "source": [
    "len(target)"
   ]
  },
  {
   "cell_type": "code",
   "execution_count": 99,
   "id": "d0590785",
   "metadata": {},
   "outputs": [],
   "source": [
    "new_df = pd.DataFrame({\"Source\": source,\n",
    "                       \"Target\": target,\n",
    "                      \"Date\": date})\n",
    "new_df.to_csv(\"../Dataset FFF/edges_date.csv\", index=False)"
   ]
  },
  {
   "cell_type": "code",
   "execution_count": 100,
   "id": "cfc1b1c9",
   "metadata": {},
   "outputs": [],
   "source": [
    "path = \"../Dataset FFF/edges_date.csv\""
   ]
  },
  {
   "cell_type": "code",
   "execution_count": 101,
   "id": "bc2de697",
   "metadata": {},
   "outputs": [],
   "source": [
    "fff = pd.read_csv(path)"
   ]
  },
  {
   "cell_type": "code",
   "execution_count": 102,
   "id": "1a36e146",
   "metadata": {},
   "outputs": [
    {
     "data": {
      "text/html": [
       "<div>\n",
       "<style scoped>\n",
       "    .dataframe tbody tr th:only-of-type {\n",
       "        vertical-align: middle;\n",
       "    }\n",
       "\n",
       "    .dataframe tbody tr th {\n",
       "        vertical-align: top;\n",
       "    }\n",
       "\n",
       "    .dataframe thead th {\n",
       "        text-align: right;\n",
       "    }\n",
       "</style>\n",
       "<table border=\"1\" class=\"dataframe\">\n",
       "  <thead>\n",
       "    <tr style=\"text-align: right;\">\n",
       "      <th></th>\n",
       "      <th>Source</th>\n",
       "      <th>Target</th>\n",
       "      <th>Date</th>\n",
       "    </tr>\n",
       "  </thead>\n",
       "  <tbody>\n",
       "    <tr>\n",
       "      <th>0</th>\n",
       "      <td>fridaysforfuture</td>\n",
       "      <td>climatestrike</td>\n",
       "      <td>[1, 2, 3, 4, 5, 6, 7, 8, 9, 10, 11, 12]</td>\n",
       "    </tr>\n",
       "    <tr>\n",
       "      <th>1</th>\n",
       "      <td>fridaysforfuture</td>\n",
       "      <td>climateemergency</td>\n",
       "      <td>[1, 2, 3, 4, 5, 6, 7, 8, 9, 10, 11, 12]</td>\n",
       "    </tr>\n",
       "    <tr>\n",
       "      <th>2</th>\n",
       "      <td>fridaysforfuture</td>\n",
       "      <td>climatestrikeonline</td>\n",
       "      <td>[1, 2, 3, 4, 5, 6, 7, 8, 9, 10, 11, 12]</td>\n",
       "    </tr>\n",
       "    <tr>\n",
       "      <th>3</th>\n",
       "      <td>fridaysforfuture</td>\n",
       "      <td>newyear</td>\n",
       "      <td>[1]</td>\n",
       "    </tr>\n",
       "    <tr>\n",
       "      <th>4</th>\n",
       "      <td>fridaysforfuture</td>\n",
       "      <td>climatecrisis</td>\n",
       "      <td>[1, 2, 3, 4, 5, 6, 7, 8, 9, 10, 11, 12]</td>\n",
       "    </tr>\n",
       "  </tbody>\n",
       "</table>\n",
       "</div>"
      ],
      "text/plain": [
       "             Source               Target  \\\n",
       "0  fridaysforfuture        climatestrike   \n",
       "1  fridaysforfuture     climateemergency   \n",
       "2  fridaysforfuture  climatestrikeonline   \n",
       "3  fridaysforfuture              newyear   \n",
       "4  fridaysforfuture        climatecrisis   \n",
       "\n",
       "                                      Date  \n",
       "0  [1, 2, 3, 4, 5, 6, 7, 8, 9, 10, 11, 12]  \n",
       "1  [1, 2, 3, 4, 5, 6, 7, 8, 9, 10, 11, 12]  \n",
       "2  [1, 2, 3, 4, 5, 6, 7, 8, 9, 10, 11, 12]  \n",
       "3                                      [1]  \n",
       "4  [1, 2, 3, 4, 5, 6, 7, 8, 9, 10, 11, 12]  "
      ]
     },
     "execution_count": 102,
     "metadata": {},
     "output_type": "execute_result"
    }
   ],
   "source": [
    "fff.head()"
   ]
  },
  {
   "cell_type": "code",
   "execution_count": null,
   "id": "f2cf2cff",
   "metadata": {},
   "outputs": [],
   "source": []
  },
  {
   "cell_type": "code",
   "execution_count": null,
   "id": "f8cd7036",
   "metadata": {},
   "outputs": [],
   "source": []
  },
  {
   "cell_type": "code",
   "execution_count": null,
   "id": "95c42504",
   "metadata": {},
   "outputs": [],
   "source": []
  },
  {
   "cell_type": "code",
   "execution_count": null,
   "id": "5151040d",
   "metadata": {},
   "outputs": [],
   "source": []
  },
  {
   "cell_type": "code",
   "execution_count": null,
   "id": "d029d84d",
   "metadata": {},
   "outputs": [],
   "source": []
  },
  {
   "cell_type": "code",
   "execution_count": null,
   "id": "5ac1c03a",
   "metadata": {},
   "outputs": [],
   "source": []
  },
  {
   "cell_type": "code",
   "execution_count": null,
   "id": "8462072d",
   "metadata": {},
   "outputs": [],
   "source": []
  },
  {
   "cell_type": "code",
   "execution_count": null,
   "id": "7bdd5dd5",
   "metadata": {},
   "outputs": [],
   "source": []
  },
  {
   "cell_type": "code",
   "execution_count": null,
   "id": "66a6fb28",
   "metadata": {},
   "outputs": [],
   "source": []
  },
  {
   "cell_type": "code",
   "execution_count": null,
   "id": "e012773f",
   "metadata": {},
   "outputs": [],
   "source": []
  },
  {
   "cell_type": "code",
   "execution_count": null,
   "id": "40ea03b3",
   "metadata": {},
   "outputs": [],
   "source": []
  },
  {
   "cell_type": "code",
   "execution_count": null,
   "id": "0af517f8",
   "metadata": {},
   "outputs": [],
   "source": []
  },
  {
   "cell_type": "code",
   "execution_count": null,
   "id": "70c7f6e3",
   "metadata": {},
   "outputs": [],
   "source": [
    "new_df"
   ]
  },
  {
   "cell_type": "code",
   "execution_count": null,
   "id": "cadba62f",
   "metadata": {},
   "outputs": [],
   "source": []
  },
  {
   "cell_type": "code",
   "execution_count": null,
   "id": "690ed7f6",
   "metadata": {},
   "outputs": [],
   "source": []
  },
  {
   "cell_type": "code",
   "execution_count": null,
   "id": "6edec25b",
   "metadata": {},
   "outputs": [],
   "source": []
  },
  {
   "cell_type": "code",
   "execution_count": null,
   "id": "41984e35",
   "metadata": {},
   "outputs": [],
   "source": []
  },
  {
   "cell_type": "code",
   "execution_count": null,
   "id": "0fba858f",
   "metadata": {},
   "outputs": [],
   "source": [
    "source = []\n",
    "target = []\n",
    "count = []\n",
    "nodes = []\n",
    "for i in couple_tags:\n",
    "    ll = list(set(tags_dict[i[0]]) & set(tags_dict[i[1]]))\n",
    "    if len(ll)>0:\n",
    "        source.append(i[0])\n",
    "        target.append(i[1])\n",
    "        count.append(len(ll))\n",
    "        nodes.append(i[0])\n",
    "        nodes.append(i[1])"
   ]
  },
  {
   "cell_type": "code",
   "execution_count": null,
   "id": "779006c1",
   "metadata": {},
   "outputs": [],
   "source": [
    "len(count)"
   ]
  },
  {
   "cell_type": "code",
   "execution_count": null,
   "id": "cab24e65",
   "metadata": {},
   "outputs": [],
   "source": [
    "len(month)"
   ]
  },
  {
   "cell_type": "code",
   "execution_count": null,
   "id": "ee893d20",
   "metadata": {},
   "outputs": [],
   "source": [
    "len(year)"
   ]
  },
  {
   "cell_type": "code",
   "execution_count": null,
   "id": "b6e7a047",
   "metadata": {},
   "outputs": [],
   "source": [
    "len(nodes)"
   ]
  },
  {
   "cell_type": "code",
   "execution_count": null,
   "id": "7e8a807a",
   "metadata": {},
   "outputs": [],
   "source": [
    "new_df = pd.DataFrame({\"Title\": df[\"Title\"], \"Timeval\": new_date, \"Month\": month})\n",
    "new_df.to_csv(\"../Dataset FFF/tweet_with_time.csv\", index=False)"
   ]
  },
  {
   "cell_type": "code",
   "execution_count": null,
   "id": "68ba8087",
   "metadata": {},
   "outputs": [],
   "source": [
    "source = []\n",
    "target = []\n",
    "for i in couple_tags:\n",
    "    source.append(i[0])\n",
    "    target.append(i[1])"
   ]
  },
  {
   "cell_type": "code",
   "execution_count": null,
   "id": "816d7673",
   "metadata": {},
   "outputs": [],
   "source": [
    "month = []\n",
    "for i in time_tags:\n",
    "    month.append(i[5:7])"
   ]
  },
  {
   "cell_type": "code",
   "execution_count": null,
   "id": "02103a73",
   "metadata": {},
   "outputs": [],
   "source": [
    "new_df = pd.DataFrame({\"Id\": tags, \"Timeval\": time_tags, \"Month\": month})\n",
    "new_df.to_csv(\"../Dataset FFF/hashtags_with_time.csv\", index=False)"
   ]
  },
  {
   "cell_type": "code",
   "execution_count": null,
   "id": "0e0c97f7",
   "metadata": {},
   "outputs": [],
   "source": [
    "month = []\n",
    "for i in time_couple:\n",
    "    month.append(i[5:7])"
   ]
  },
  {
   "cell_type": "code",
   "execution_count": null,
   "id": "f38680c5",
   "metadata": {},
   "outputs": [],
   "source": [
    "new_df = pd.DataFrame({\"Source\": source,\n",
    "                       \"Target\": target,\n",
    "                      \"Timeval\": time_couple, \"Month\": month})\n",
    "new_df.to_csv(\"../Dataset FFF/hashtags_edges_with_time.csv\", index=False)"
   ]
  },
  {
   "cell_type": "code",
   "execution_count": null,
   "id": "d3efe83d",
   "metadata": {},
   "outputs": [],
   "source": []
  },
  {
   "cell_type": "code",
   "execution_count": null,
   "id": "7ef79740",
   "metadata": {},
   "outputs": [],
   "source": []
  }
 ],
 "metadata": {
  "kernelspec": {
   "display_name": "Python 3 (ipykernel)",
   "language": "python",
   "name": "python3"
  },
  "language_info": {
   "codemirror_mode": {
    "name": "ipython",
    "version": 3
   },
   "file_extension": ".py",
   "mimetype": "text/x-python",
   "name": "python",
   "nbconvert_exporter": "python",
   "pygments_lexer": "ipython3",
   "version": "3.9.7"
  }
 },
 "nbformat": 4,
 "nbformat_minor": 5
}
