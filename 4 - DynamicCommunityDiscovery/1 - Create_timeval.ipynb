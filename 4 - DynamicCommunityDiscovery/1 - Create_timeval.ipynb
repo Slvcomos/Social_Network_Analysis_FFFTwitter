{
 "cells": [
  {
   "cell_type": "code",
   "execution_count": null,
   "id": "975a17af",
   "metadata": {},
   "outputs": [],
   "source": [
    "import pandas as pd"
   ]
  },
  {
   "cell_type": "code",
   "execution_count": null,
   "id": "7b9a5a31",
   "metadata": {},
   "outputs": [],
   "source": [
    "path = \"../Dataset FFF/climatechange.csv\""
   ]
  },
  {
   "cell_type": "code",
   "execution_count": null,
   "id": "0d47857d",
   "metadata": {},
   "outputs": [],
   "source": [
    "df = pd.read_csv(path)"
   ]
  },
  {
   "cell_type": "code",
   "execution_count": null,
   "id": "08598eb4",
   "metadata": {},
   "outputs": [],
   "source": [
    "df = df.sort_values(by=['Creation_date'])"
   ]
  },
  {
   "cell_type": "code",
   "execution_count": null,
   "id": "fea3b947",
   "metadata": {},
   "outputs": [],
   "source": [
    "df"
   ]
  },
  {
   "cell_type": "code",
   "execution_count": null,
   "id": "dd0d2d83",
   "metadata": {},
   "outputs": [],
   "source": [
    "tags = []\n",
    "time_tags = []"
   ]
  },
  {
   "cell_type": "code",
   "execution_count": null,
   "id": "8e7cba9c",
   "metadata": {},
   "outputs": [],
   "source": [
    "couple_tags = []\n",
    "time_couple = []"
   ]
  },
  {
   "cell_type": "code",
   "execution_count": null,
   "id": "fbca9383",
   "metadata": {},
   "outputs": [],
   "source": [
    "for i in df.values:\n",
    "    tagsss = i[0].split(\"|-|\")[:-1]\n",
    "    for t in range(len(tagsss)):\n",
    "        tags.append(tagsss[t])\n",
    "        time_tags.append(datetime.utcfromtimestamp(i[8]).strftime('%Y-%m-%d %H:%M:%S'))\n",
    "        for j in tagsss[t+1:]:\n",
    "            couple_tags.append((tagsss[t], j))  \n",
    "            time_couple.append(datetime.utcfromtimestamp(i[8]).strftime('%Y-%m-%d %H:%M:%S'))"
   ]
  },
  {
   "cell_type": "code",
   "execution_count": null,
   "id": "ab30d7ad",
   "metadata": {},
   "outputs": [],
   "source": [
    "new_date = []\n",
    "month = []\n",
    "for i in df[\"Creation_date\"]:\n",
    "    new_date.append(datetime.utcfromtimestamp(i).strftime('%Y-%m-%d %H:%M:%S'))\n",
    "    month.append(datetime.utcfromtimestamp(i).strftime('%m'))"
   ]
  },
  {
   "cell_type": "code",
   "execution_count": null,
   "id": "7e8a807a",
   "metadata": {},
   "outputs": [],
   "source": [
    "new_df = pd.DataFrame({\"Title\": df[\"Title\"], \"Timeval\": new_date, \"Month\": month})\n",
    "new_df.to_csv(\"../Dataset FFF/tweet_with_time.csv\", index=False)"
   ]
  },
  {
   "cell_type": "code",
   "execution_count": null,
   "id": "68ba8087",
   "metadata": {},
   "outputs": [],
   "source": [
    "source = []\n",
    "target = []\n",
    "for i in couple_tags:\n",
    "    source.append(i[0])\n",
    "    target.append(i[1])"
   ]
  },
  {
   "cell_type": "code",
   "execution_count": null,
   "id": "816d7673",
   "metadata": {},
   "outputs": [],
   "source": [
    "month = []\n",
    "for i in time_tags:\n",
    "    month.append(i[5:7])"
   ]
  },
  {
   "cell_type": "code",
   "execution_count": null,
   "id": "02103a73",
   "metadata": {},
   "outputs": [],
   "source": [
    "new_df = pd.DataFrame({\"Id\": tags, \"Timeval\": time_tags, \"Month\": month})\n",
    "new_df.to_csv(\"../Dataset FFF/hashtags_with_time.csv\", index=False)"
   ]
  },
  {
   "cell_type": "code",
   "execution_count": null,
   "id": "0e0c97f7",
   "metadata": {},
   "outputs": [],
   "source": [
    "month = []\n",
    "for i in time_couple:\n",
    "    month.append(i[5:7])"
   ]
  },
  {
   "cell_type": "code",
   "execution_count": null,
   "id": "f38680c5",
   "metadata": {},
   "outputs": [],
   "source": [
    "new_df = pd.DataFrame({\"Source\": source,\n",
    "                       \"Target\": target,\n",
    "                      \"Timeval\": time_couple, \"Month\": month})\n",
    "new_df.to_csv(\"../Dataset FFF/hashtags_edges_with_time.csv\", index=False)"
   ]
  }
 ],
 "metadata": {
  "kernelspec": {
   "display_name": "Python 3",
   "language": "python",
   "name": "python3"
  },
  "language_info": {
   "codemirror_mode": {
    "name": "ipython",
    "version": 3
   },
   "file_extension": ".py",
   "mimetype": "text/x-python",
   "name": "python",
   "nbconvert_exporter": "python",
   "pygments_lexer": "ipython3",
   "version": "3.8.8"
  }
 },
 "nbformat": 4,
 "nbformat_minor": 5
}
