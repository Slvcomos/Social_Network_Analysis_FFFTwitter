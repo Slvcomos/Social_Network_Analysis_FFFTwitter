{
 "cells": [
  {
   "cell_type": "code",
   "execution_count": null,
   "id": "976b90eb",
   "metadata": {},
   "outputs": [],
   "source": [
    "pip install Wikipedia-API"
   ]
  },
  {
   "cell_type": "code",
   "execution_count": 1,
   "id": "562fc621",
   "metadata": {},
   "outputs": [],
   "source": [
    "import wikipediaapi"
   ]
  },
  {
   "cell_type": "code",
   "execution_count": 2,
   "id": "6afaae87",
   "metadata": {},
   "outputs": [],
   "source": [
    "#Inserimento lingua di interesse\n",
    "wiki_wiki = wikipediaapi.Wikipedia('en')"
   ]
  },
  {
   "cell_type": "code",
   "execution_count": 4,
   "id": "88346bf2",
   "metadata": {},
   "outputs": [
    {
     "name": "stdout",
     "output_type": "stream",
     "text": [
      "Page - Exists: True\n"
     ]
    }
   ],
   "source": [
    "#Ricerca pagina su wiki\n",
    "page_py = wiki_wiki.page('fridays for future')\n",
    "print(\"Page - Exists: %s\" % page_py.exists())"
   ]
  },
  {
   "cell_type": "code",
   "execution_count": 5,
   "id": "ba0c5c1b",
   "metadata": {},
   "outputs": [
    {
     "name": "stdout",
     "output_type": "stream",
     "text": [
      "Page - Summary: School Strike for Climate (Swedish: Skolstrejk för klimatet), also known variously as Fridays for Future (FFF), Youth for Climate, Climate Strike or Youth Strike for Climate, is an international movement of school students who skip Friday classes to participate in demonstrations to demand action from political leaders to prevent climate change and for the fossil fuel industry to transition to renewable energy.\n",
      "Publicity and widespread organising began after Swedish pupil Greta Thunberg staged a protest in August 2018 outside of the Swedish Riksdag (parliament), holding a sign that read \"Skolstrejk för klimatet\" (\"School strike for climate\").A global strike on 15 March 2019 gathered more than one million strikers in 2,200 strikes organised in 125 countries. On 24 May 2019, in the second glo\n"
     ]
    }
   ],
   "source": [
    "#estrazione significato\n",
    "print(\"Page - Summary: %s\" % page_py.summary[0:800])"
   ]
  },
  {
   "cell_type": "code",
   "execution_count": null,
   "id": "7b4eead5",
   "metadata": {},
   "outputs": [],
   "source": []
  },
  {
   "cell_type": "code",
   "execution_count": 7,
   "id": "8650cc42",
   "metadata": {},
   "outputs": [
    {
     "name": "stdout",
     "output_type": "stream",
     "text": [
      "Page - Exists: True\n"
     ]
    }
   ],
   "source": [
    "page_py = wiki_wiki.page('climate strike')\n",
    "print(\"Page - Exists: %s\" % page_py.exists())"
   ]
  },
  {
   "cell_type": "code",
   "execution_count": 8,
   "id": "73688125",
   "metadata": {},
   "outputs": [
    {
     "name": "stdout",
     "output_type": "stream",
     "text": [
      "Page - Summary: School Strike for Climate (Swedish: Skolstrejk för klimatet), also known variously as Fridays for Future (FFF), Youth for Climate, Climate Strike or Youth Strike for Climate, is an international movement of school students who skip Friday classes to participate in demonstrations to demand action from political leaders to prevent climate change and for the fossil fuel industry to transition to renewable energy.\n",
      "Publicity and widespread organising began after Swedish pupil Greta Thunberg staged a protest in August 2018 outside of the Swedish Riksdag (parliament), holding a sign that read \"Skolstrejk för klimatet\" (\"School strike for climate\").A global strike on 15 March 2019 gathered more than one million strikers in 2,200 strikes organised in 125 countries. On 24 May 2019, in the second glo\n"
     ]
    }
   ],
   "source": [
    "print(\"Page - Summary: %s\" % page_py.summary[0:800])"
   ]
  },
  {
   "cell_type": "code",
   "execution_count": null,
   "id": "2faa13db",
   "metadata": {},
   "outputs": [],
   "source": []
  },
  {
   "cell_type": "code",
   "execution_count": 9,
   "id": "64da3d8a",
   "metadata": {},
   "outputs": [
    {
     "name": "stdout",
     "output_type": "stream",
     "text": [
      "Page - Exists: True\n"
     ]
    }
   ],
   "source": [
    "page_py = wiki_wiki.page('climate action')\n",
    "print(\"Page - Exists: %s\" % page_py.exists())"
   ]
  },
  {
   "cell_type": "code",
   "execution_count": 10,
   "id": "9718ce09",
   "metadata": {},
   "outputs": [
    {
     "name": "stdout",
     "output_type": "stream",
     "text": [
      "Page - Summary: Climate action (or climate change action) refers to a range of activities, mechanisms, policy instruments and so forth that aim to reduce the severity of human induced climate change and its impacts. \"More climate action\" is a central demand of the climate movement. Climate inaction is the absence of climate action. Examples for climate action include:\n",
      "\n",
      "Business action on climate change\n",
      "Climate change adaptation\n",
      "Climate change mitigation\n",
      "Climate finance\n",
      "Climate movement – actions by non-governmental organizations\n",
      "Individual action on climate change\n",
      "Politics of climate change\n"
     ]
    }
   ],
   "source": [
    "print(\"Page - Summary: %s\" % page_py.summary[0:800])"
   ]
  },
  {
   "cell_type": "code",
   "execution_count": null,
   "id": "9d8e4781",
   "metadata": {},
   "outputs": [],
   "source": []
  },
  {
   "cell_type": "code",
   "execution_count": 11,
   "id": "0fec65ce",
   "metadata": {},
   "outputs": [
    {
     "name": "stdout",
     "output_type": "stream",
     "text": [
      "Page - Exists: True\n"
     ]
    }
   ],
   "source": [
    "page_py = wiki_wiki.page('climate crisis')\n",
    "print(\"Page - Exists: %s\" % page_py.exists())"
   ]
  },
  {
   "cell_type": "code",
   "execution_count": 12,
   "id": "02a3c77c",
   "metadata": {},
   "outputs": [
    {
     "name": "stdout",
     "output_type": "stream",
     "text": [
      "Page - Summary: Climate crisis is a term describing global warming and climate change, and their impacts.\n",
      "The term has been used to describe the threat of global warming to the planet, and to urge aggressive climate change mitigation. For example, in the journal BioScience, a January 2020 article, endorsed by over 11,000 scientists worldwide, stated that \"the climate crisis has arrived\" and that an \"immense increase of scale in endeavors to conserve our biosphere is needed to avoid untold suffering due to the climate crisis.\"The term is applied by those who \"believe it evokes the gravity of the threats the planet faces from continued greenhouse gas emissions and can help spur the kind of political willpower that has long been missing from climate advocacy\". They believe that, much as \"global warming\" drew\n"
     ]
    }
   ],
   "source": [
    "print(\"Page - Summary: %s\" % page_py.summary[0:800])"
   ]
  },
  {
   "cell_type": "code",
   "execution_count": null,
   "id": "de8fb79e",
   "metadata": {},
   "outputs": [],
   "source": []
  },
  {
   "cell_type": "code",
   "execution_count": 13,
   "id": "5fb966fc",
   "metadata": {},
   "outputs": [
    {
     "name": "stdout",
     "output_type": "stream",
     "text": [
      "Page - Exists: True\n"
     ]
    }
   ],
   "source": [
    "page_py = wiki_wiki.page('climate change')\n",
    "print(\"Page - Exists: %s\" % page_py.exists())"
   ]
  },
  {
   "cell_type": "code",
   "execution_count": 14,
   "id": "f6ee27f0",
   "metadata": {},
   "outputs": [
    {
     "name": "stdout",
     "output_type": "stream",
     "text": [
      "Page - Summary: Contemporary climate change includes both global warming and its impacts on Earth's weather patterns. There have been previous periods of climate change, but the current changes are distinctly more rapid and not due to natural causes. Instead, they are caused by the emission of greenhouse gases, mostly carbon dioxide (CO2) and methane. Burning fossil fuels for energy use creates most of these emissions. Certain agricultural practices, industrial processes, and forest loss are additional sources. As their name suggests, these gases trap heat from sunlight near the earth’s surface, warming it over time.\n",
      "Due to climate change, deserts are expanding, while heat waves and wildfires are becoming more common. Increased warming in the Arctic has contributed to melting permafrost, glacial retreat a\n"
     ]
    }
   ],
   "source": [
    "print(\"Page - Summary: %s\" % page_py.summary[0:800])"
   ]
  },
  {
   "cell_type": "code",
   "execution_count": null,
   "id": "ecfd1b6b",
   "metadata": {},
   "outputs": [],
   "source": []
  },
  {
   "cell_type": "code",
   "execution_count": 15,
   "id": "003da298",
   "metadata": {},
   "outputs": [
    {
     "name": "stdout",
     "output_type": "stream",
     "text": [
      "Page - Exists: True\n"
     ]
    }
   ],
   "source": [
    "page_py = wiki_wiki.page('climate emergency')\n",
    "print(\"Page - Exists: %s\" % page_py.exists())"
   ]
  },
  {
   "cell_type": "code",
   "execution_count": 16,
   "id": "2ff73cc6",
   "metadata": {},
   "outputs": [
    {
     "name": "stdout",
     "output_type": "stream",
     "text": [
      "Page - Summary: Climate emergency may refer to:\n",
      "\n",
      "Human-caused climate change\n",
      "Climate crisis, a characterization of climate change\n",
      "Climate emergency declaration, a public declaration of a state of climate emergency\n"
     ]
    }
   ],
   "source": [
    "print(\"Page - Summary: %s\" % page_py.summary[0:800])"
   ]
  },
  {
   "cell_type": "code",
   "execution_count": null,
   "id": "c153f25b",
   "metadata": {},
   "outputs": [],
   "source": []
  },
  {
   "cell_type": "code",
   "execution_count": 17,
   "id": "2152e478",
   "metadata": {},
   "outputs": [
    {
     "name": "stdout",
     "output_type": "stream",
     "text": [
      "Page - Exists: True\n"
     ]
    }
   ],
   "source": [
    "page_py = wiki_wiki.page('fff')                #####\n",
    "print(\"Page - Exists: %s\" % page_py.exists())"
   ]
  },
  {
   "cell_type": "code",
   "execution_count": 20,
   "id": "0db18761",
   "metadata": {},
   "outputs": [
    {
     "name": "stdout",
     "output_type": "stream",
     "text": [
      "Page - Summary: FFF may refer to:\n"
     ]
    }
   ],
   "source": [
    "print(\"Page - Summary: %s\" % page_py.summary[0:10000])"
   ]
  },
  {
   "cell_type": "code",
   "execution_count": null,
   "id": "f2999519",
   "metadata": {},
   "outputs": [],
   "source": []
  },
  {
   "cell_type": "code",
   "execution_count": 25,
   "id": "69d6a3d8",
   "metadata": {},
   "outputs": [
    {
     "name": "stdout",
     "output_type": "stream",
     "text": [
      "Page - Exists: True\n"
     ]
    }
   ],
   "source": [
    "page_py = wiki_wiki.page('Greta Thunberg')\n",
    "print(\"Page - Exists: %s\" % page_py.exists())"
   ]
  },
  {
   "cell_type": "code",
   "execution_count": 26,
   "id": "045bd012",
   "metadata": {},
   "outputs": [
    {
     "name": "stdout",
     "output_type": "stream",
     "text": [
      "Page - Summary: Greta Tintin Eleonora Ernman Thunberg (Swedish: [ˈɡrêːta ˈtʉ̂ːnbærj] (listen); born 3 January 2003) is a Swedish environmental activist who is known for challenging world leaders to take immediate action for climate change mitigation.Thunberg's activism began when she persuaded her parents to adopt lifestyle choices that reduced their own carbon footprint. In August 2018, at age 15, she started spending her Fridays outside the Swedish Parliament to call for stronger action on climate change by holding up a sign reading Skolstrejk för klimatet (School strike for climate). Thunberg initially gained notice for her youth and her straightforward and blunt speaking manner, both in public and to political leaders and assemblies, in which she criticizes world leaders for their failure to take what\n"
     ]
    }
   ],
   "source": [
    "print(\"Page - Summary: %s\" % page_py.summary[0:800])"
   ]
  },
  {
   "cell_type": "code",
   "execution_count": null,
   "id": "afb3d825",
   "metadata": {},
   "outputs": [],
   "source": []
  },
  {
   "cell_type": "code",
   "execution_count": 27,
   "id": "a9804cbc",
   "metadata": {},
   "outputs": [
    {
     "name": "stdout",
     "output_type": "stream",
     "text": [
      "Page - Exists: False\n"
     ]
    }
   ],
   "source": [
    "page_py = wiki_wiki.page('climate strike online')        #ONLINE\n",
    "print(\"Page - Exists: %s\" % page_py.exists())"
   ]
  },
  {
   "cell_type": "code",
   "execution_count": 28,
   "id": "bd27be75",
   "metadata": {},
   "outputs": [
    {
     "name": "stdout",
     "output_type": "stream",
     "text": [
      "Page - Summary: \n"
     ]
    }
   ],
   "source": [
    "print(\"Page - Summary: %s\" % page_py.summary[0:800])"
   ]
  },
  {
   "cell_type": "code",
   "execution_count": null,
   "id": "a221d764",
   "metadata": {},
   "outputs": [],
   "source": []
  },
  {
   "cell_type": "code",
   "execution_count": 29,
   "id": "b8265c2b",
   "metadata": {},
   "outputs": [
    {
     "name": "stdout",
     "output_type": "stream",
     "text": [
      "Page - Exists: True\n"
     ]
    }
   ],
   "source": [
    "page_py = wiki_wiki.page('climate justice')\n",
    "print(\"Page - Exists: %s\" % page_py.exists())"
   ]
  },
  {
   "cell_type": "code",
   "execution_count": 30,
   "id": "4ee8b407",
   "metadata": {},
   "outputs": [
    {
     "name": "stdout",
     "output_type": "stream",
     "text": [
      "Page - Summary: Climate justice is a concept that addresses the just division, fair sharing, and equitable distribution of the benefits and burdens of climate change and responsibilities to deal with climate change. \"Justice\", \"fairness\", and \"equity\" are not completely identical, but they are in the same family of related terms and are often used interchangeably in negotiations and politics. Applied ethics, research and activism using these terms approach anthropogenic climate change as an ethical, legal and political issue, rather than one that is purely environmental or physical in nature. This is done by relating the causes and effects of climate change to concepts of justice, particularly environmental justice and social justice. Climate justice examines concepts such as equality, human rights, colle\n"
     ]
    }
   ],
   "source": [
    "print(\"Page - Summary: %s\" % page_py.summary[0:800])"
   ]
  },
  {
   "cell_type": "code",
   "execution_count": null,
   "id": "da40dbc9",
   "metadata": {},
   "outputs": [],
   "source": []
  },
  {
   "cell_type": "code",
   "execution_count": 31,
   "id": "9747c877",
   "metadata": {},
   "outputs": [
    {
     "name": "stdout",
     "output_type": "stream",
     "text": [
      "Page - Exists: True\n"
     ]
    }
   ],
   "source": [
    "page_py = wiki_wiki.page('extinction rebellion')\n",
    "print(\"Page - Exists: %s\" % page_py.exists())"
   ]
  },
  {
   "cell_type": "code",
   "execution_count": 32,
   "id": "bacb0fa4",
   "metadata": {},
   "outputs": [
    {
     "name": "stdout",
     "output_type": "stream",
     "text": [
      "Page - Summary: Extinction Rebellion (abbreviated as XR) is a global environmental movement, with the stated aim of using nonviolent civil disobedience to compel government action to avoid tipping points in the climate system, biodiversity loss, and the risk of social and ecological collapse. Extinction Rebellion was established in the United Kingdom in May 2018 by Gail Bradbrook, Simon Bramwell, and Roger Hallam, along with eight other co-founders from the campaign group Rising Up!Its first major action was to occupy the London Greenpeace offices on 17 October 2018, which was followed by the public launch at the \"Declaration of Rebellion\" on 31 October 2018 outside the UK Parliament. Earlier that month, about one hundred academics signed a call to action in their support. In November 2018, five bridges a\n"
     ]
    }
   ],
   "source": [
    "print(\"Page - Summary: %s\" % page_py.summary[0:800])"
   ]
  },
  {
   "cell_type": "code",
   "execution_count": null,
   "id": "247717a3",
   "metadata": {},
   "outputs": [],
   "source": []
  },
  {
   "cell_type": "code",
   "execution_count": 33,
   "id": "495f852e",
   "metadata": {},
   "outputs": [
    {
     "name": "stdout",
     "output_type": "stream",
     "text": [
      "Page - Exists: False\n"
     ]
    }
   ],
   "source": [
    "page_py = wiki_wiki.page('climate action now')         #ONLINE\n",
    "print(\"Page - Exists: %s\" % page_py.exists())"
   ]
  },
  {
   "cell_type": "code",
   "execution_count": null,
   "id": "957df72f",
   "metadata": {},
   "outputs": [],
   "source": [
    "print(\"Page - Summary: %s\" % page_py.summary[0:800])"
   ]
  },
  {
   "cell_type": "code",
   "execution_count": null,
   "id": "32a8d234",
   "metadata": {},
   "outputs": [],
   "source": []
  },
  {
   "cell_type": "code",
   "execution_count": 34,
   "id": "eb338c47",
   "metadata": {},
   "outputs": [
    {
     "name": "stdout",
     "output_type": "stream",
     "text": [
      "Page - Exists: True\n"
     ]
    }
   ],
   "source": [
    "page_py = wiki_wiki.page('climate')\n",
    "print(\"Page - Exists: %s\" % page_py.exists())"
   ]
  },
  {
   "cell_type": "code",
   "execution_count": 35,
   "id": "eed3477c",
   "metadata": {},
   "outputs": [
    {
     "name": "stdout",
     "output_type": "stream",
     "text": [
      "Page - Summary: Climate is the long-term weather pattern in an area, typically averaged over 30 years. More rigorously, it is the mean and variability of meteorological variables over a time spanning from months to millions of years. Some of the meteorological variables that are commonly measured are temperature, humidity, atmospheric pressure, wind, and precipitation. In a broader sense, climate is the state of the components of the climate system, including the atmosphere, the hydrosphere, the cryosphere, the lithosphere and the biosphere and the interactions between them. The climate of a location is affected by its latitude/longitude, terrain, altitude, and nearby water bodies and their currents.\n",
      "Climates can be classified according to the average and typical variables, most commonly temperature and p\n"
     ]
    }
   ],
   "source": [
    "print(\"Page - Summary: %s\" % page_py.summary[0:800])"
   ]
  },
  {
   "cell_type": "code",
   "execution_count": null,
   "id": "ca41f6f3",
   "metadata": {},
   "outputs": [],
   "source": []
  },
  {
   "cell_type": "code",
   "execution_count": 246,
   "id": "175631d6",
   "metadata": {},
   "outputs": [
    {
     "name": "stdout",
     "output_type": "stream",
     "text": [
      "Page - Exists: False\n"
     ]
    }
   ],
   "source": [
    "page_py = wiki_wiki.page('school strike for climate')  #c'era il 4 al posto di for\n",
    "print(\"Page - Exists: %s\" % page_py.exists())"
   ]
  },
  {
   "cell_type": "code",
   "execution_count": 245,
   "id": "1e9aa602",
   "metadata": {},
   "outputs": [
    {
     "name": "stdout",
     "output_type": "stream",
     "text": [
      "Page - Summary: School Strike for Climate (Swedish: Skolstrejk för klimatet), also known variously as Fridays for Future (FFF), Youth for Climate, Climate Strike or Youth Strike for Climate, is an international movement of school students who skip Friday classes to participate in demonstrations to demand action from political leaders to prevent climate change and for the fossil fuel industry to transition to renewable energy.\n",
      "Publicity and widespread organising began after Swedish pupil Greta Thunberg staged a protest in August 2018 outside of the Swedish Riksdag (parliament), holding a sign that read \"Skolstrejk för klimatet\" (\"School strike for climate\").A global strike on 15 March 2019 gathered more than one million strikers in 2,200 strikes organised in 125 countries. On 24 May 2019, in the second glo\n"
     ]
    }
   ],
   "source": [
    "print(\"Page - Summary: %s\" % page_py.summary[0:800])"
   ]
  },
  {
   "cell_type": "code",
   "execution_count": null,
   "id": "8baa9052",
   "metadata": {},
   "outputs": [],
   "source": []
  },
  {
   "cell_type": "code",
   "execution_count": 38,
   "id": "07487354",
   "metadata": {},
   "outputs": [
    {
     "name": "stdout",
     "output_type": "stream",
     "text": [
      "Page - Exists: False\n"
     ]
    }
   ],
   "source": [
    "page_py = wiki_wiki.page('friday motivation')   #slogan\n",
    "print(\"Page - Exists: %s\" % page_py.exists())"
   ]
  },
  {
   "cell_type": "code",
   "execution_count": null,
   "id": "3c2fa156",
   "metadata": {},
   "outputs": [],
   "source": [
    "print(\"Page - Summary: %s\" % page_py.summary[0:800])"
   ]
  },
  {
   "cell_type": "code",
   "execution_count": null,
   "id": "0391d30a",
   "metadata": {},
   "outputs": [],
   "source": []
  },
  {
   "cell_type": "code",
   "execution_count": 39,
   "id": "595bec45",
   "metadata": {},
   "outputs": [
    {
     "name": "stdout",
     "output_type": "stream",
     "text": [
      "Page - Exists: False\n"
     ]
    }
   ],
   "source": [
    "page_py = wiki_wiki.page('face the climate emergency')  #slogan\n",
    "print(\"Page - Exists: %s\" % page_py.exists())"
   ]
  },
  {
   "cell_type": "code",
   "execution_count": null,
   "id": "79cf1bc7",
   "metadata": {},
   "outputs": [],
   "source": [
    "print(\"Page - Summary: %s\" % page_py.summary[0:800])"
   ]
  },
  {
   "cell_type": "code",
   "execution_count": null,
   "id": "28e585ee",
   "metadata": {},
   "outputs": [],
   "source": []
  },
  {
   "cell_type": "code",
   "execution_count": 40,
   "id": "212d1498",
   "metadata": {},
   "outputs": [
    {
     "name": "stdout",
     "output_type": "stream",
     "text": [
      "Page - Exists: False\n"
     ]
    }
   ],
   "source": [
    "page_py = wiki_wiki.page('friday feeling')     #slogan ?\n",
    "print(\"Page - Exists: %s\" % page_py.exists())  "
   ]
  },
  {
   "cell_type": "code",
   "execution_count": null,
   "id": "d1c3876f",
   "metadata": {},
   "outputs": [],
   "source": [
    "print(\"Page - Summary: %s\" % page_py.summary[0:800])"
   ]
  },
  {
   "cell_type": "code",
   "execution_count": null,
   "id": "7a7a3540",
   "metadata": {},
   "outputs": [],
   "source": []
  },
  {
   "cell_type": "code",
   "execution_count": 41,
   "id": "e9ab88ea",
   "metadata": {},
   "outputs": [
    {
     "name": "stdout",
     "output_type": "stream",
     "text": [
      "Page - Exists: True\n"
     ]
    }
   ],
   "source": [
    "page_py = wiki_wiki.page('act now')               #dove inserire?\n",
    "print(\"Page - Exists: %s\" % page_py.exists())"
   ]
  },
  {
   "cell_type": "code",
   "execution_count": 42,
   "id": "c62fc525",
   "metadata": {},
   "outputs": [
    {
     "name": "stdout",
     "output_type": "stream",
     "text": [
      "Page - Summary: Act now or Act Now may refer to:\n"
     ]
    }
   ],
   "source": [
    "print(\"Page - Summary: %s\" % page_py.summary[0:800])"
   ]
  },
  {
   "cell_type": "code",
   "execution_count": null,
   "id": "edfac3c4",
   "metadata": {},
   "outputs": [],
   "source": []
  },
  {
   "cell_type": "code",
   "execution_count": 251,
   "id": "b5d27feb",
   "metadata": {},
   "outputs": [
    {
     "name": "stdout",
     "output_type": "stream",
     "text": [
      "Page - Exists: True\n"
     ]
    }
   ],
   "source": [
    "page_py = wiki_wiki.page('global climate strike')\n",
    "print(\"Page - Exists: %s\" % page_py.exists())"
   ]
  },
  {
   "cell_type": "code",
   "execution_count": 254,
   "id": "063e9310",
   "metadata": {},
   "outputs": [
    {
     "name": "stdout",
     "output_type": "stream",
     "text": [
      "Global Climate Strike may refer to:\n",
      "\n",
      "Climate Strike of November 2015, a worldwide climate strike occurring on 30 November 2015 in parallel to the 2015 United Nations Climate Change Conference\n",
      "Global Climate Strike for Future, the first global climate strike of the Fridays for Future movement on 15 March 2019\n",
      "Global Climate Strike of May 2019, the second global climate strike of the Fridays for Future movement on 24 May 2019\n",
      "Global Climate Strike of September 2019, the third global climate strike of the Fridays for Future movement on 20 September 2019 precluding the 2019 United Nations Climate Action Summit\n",
      "Global Climate Strike of November 2019, the fourth global climate strike of the Fridays for Future movement on 29 November 2019  three days before the start of the United Nations Climate\n"
     ]
    }
   ],
   "source": [
    "print(\"Page - Summary: %s\" % page_py.summary[0:800])"
   ]
  },
  {
   "cell_type": "code",
   "execution_count": null,
   "id": "70fb0003",
   "metadata": {},
   "outputs": [],
   "source": []
  },
  {
   "cell_type": "code",
   "execution_count": 45,
   "id": "5c38bb7d",
   "metadata": {},
   "outputs": [
    {
     "name": "stdout",
     "output_type": "stream",
     "text": [
      "Page - Exists: False\n"
     ]
    }
   ],
   "source": [
    "page_py = wiki_wiki.page('digital strike')        #ONLINE\n",
    "print(\"Page - Exists: %s\" % page_py.exists())"
   ]
  },
  {
   "cell_type": "code",
   "execution_count": null,
   "id": "a1c41791",
   "metadata": {},
   "outputs": [],
   "source": [
    "print(\"Page - Summary: %s\" % page_py.summary[0:800])"
   ]
  },
  {
   "cell_type": "code",
   "execution_count": null,
   "id": "057476e3",
   "metadata": {},
   "outputs": [],
   "source": []
  },
  {
   "cell_type": "code",
   "execution_count": 46,
   "id": "9948574c",
   "metadata": {},
   "outputs": [
    {
     "name": "stdout",
     "output_type": "stream",
     "text": [
      "Page - Exists: False\n"
     ]
    }
   ],
   "source": [
    "page_py = wiki_wiki.page('friday thoughts')      #slogan\n",
    "print(\"Page - Exists: %s\" % page_py.exists())"
   ]
  },
  {
   "cell_type": "code",
   "execution_count": null,
   "id": "c82fdbc0",
   "metadata": {},
   "outputs": [],
   "source": [
    "print(\"Page - Summary: %s\" % page_py.summary[0:800])"
   ]
  },
  {
   "cell_type": "code",
   "execution_count": null,
   "id": "3c54f87d",
   "metadata": {},
   "outputs": [],
   "source": []
  },
  {
   "cell_type": "code",
   "execution_count": 47,
   "id": "b346dd76",
   "metadata": {},
   "outputs": [
    {
     "name": "stdout",
     "output_type": "stream",
     "text": [
      "Page - Exists: True\n"
     ]
    }
   ],
   "source": [
    "page_py = wiki_wiki.page('co2')\n",
    "print(\"Page - Exists: %s\" % page_py.exists())"
   ]
  },
  {
   "cell_type": "code",
   "execution_count": 48,
   "id": "2f22e7e7",
   "metadata": {},
   "outputs": [
    {
     "name": "stdout",
     "output_type": "stream",
     "text": [
      "Page - Summary: Carbon dioxide (chemical formula CO2) is a chemical compound occurring as a colorless gas with a density about 53% higher than that of dry air. Carbon dioxide molecules consist of a carbon atom covalently double bonded to two oxygen atoms. It occurs naturally in Earth's atmosphere as a trace gas. The current concentration is about 0.04% (417 ppm) by volume, having risen from pre-industrial levels of 280 ppm. In water it forms an acidic solution due to the formation of carbonic acid (H2CO3). Natural sources include volcanoes, forest fires, hot springs, geysers, and it is freed from carbonate rocks by dissolution in water and acids. Because carbon dioxide is soluble in water, it occurs naturally in groundwater, rivers and lakes, ice caps, glaciers and seawater. It is present in deposits of p\n"
     ]
    }
   ],
   "source": [
    "print(\"Page - Summary: %s\" % page_py.summary[0:800])"
   ]
  },
  {
   "cell_type": "code",
   "execution_count": null,
   "id": "5ead5a1f",
   "metadata": {},
   "outputs": [],
   "source": []
  },
  {
   "cell_type": "code",
   "execution_count": 51,
   "id": "2078e8d7",
   "metadata": {},
   "outputs": [
    {
     "name": "stdout",
     "output_type": "stream",
     "text": [
      "Page - Exists: False\n"
     ]
    }
   ],
   "source": [
    "page_py = wiki_wiki.page('up root the system')    ######\n",
    "print(\"Page - Exists: %s\" % page_py.exists())"
   ]
  },
  {
   "cell_type": "code",
   "execution_count": null,
   "id": "3f0e7639",
   "metadata": {},
   "outputs": [],
   "source": [
    "print(\"Page - Summary: %s\" % page_py.summary[0:800])"
   ]
  },
  {
   "cell_type": "code",
   "execution_count": null,
   "id": "88fab95f",
   "metadata": {},
   "outputs": [],
   "source": []
  },
  {
   "cell_type": "code",
   "execution_count": 52,
   "id": "45d93b6f",
   "metadata": {},
   "outputs": [
    {
     "name": "stdout",
     "output_type": "stream",
     "text": [
      "Page - Exists: True\n"
     ]
    }
   ],
   "source": [
    "page_py = wiki_wiki.page('cop26')\n",
    "print(\"Page - Exists: %s\" % page_py.exists())"
   ]
  },
  {
   "cell_type": "code",
   "execution_count": 53,
   "id": "3e47fe5d",
   "metadata": {},
   "outputs": [
    {
     "name": "stdout",
     "output_type": "stream",
     "text": [
      "Page - Summary: The 2021 United Nations Climate Change Conference, more commonly referred to as COP26, was the 26th United Nations Climate Change conference, held at the SEC Centre in Glasgow, Scotland, United Kingdom, from 31 October to 13 November 2021. The president of the conference was UK cabinet minister Alok Sharma. Delayed for a year due to the COVID-19 pandemic, it was the 26th Conference of the Parties (COP) to the United Nations Framework Convention on Climate Change (UNFCCC), the third meeting of the parties to the 2015 Paris Agreement (designated CMA1, CMA2, CMA3), and the 16th meeting of the parties to the Kyoto Protocol (CMP16).\n",
      "The conference was the first since the Paris Agreement of COP21 that expected parties to make enhanced commitments towards mitigating climate change; the Paris Agre\n"
     ]
    }
   ],
   "source": [
    "print(\"Page - Summary: %s\" % page_py.summary[0:800])"
   ]
  },
  {
   "cell_type": "code",
   "execution_count": null,
   "id": "76d323bd",
   "metadata": {},
   "outputs": [],
   "source": []
  },
  {
   "cell_type": "code",
   "execution_count": 54,
   "id": "9178a740",
   "metadata": {},
   "outputs": [
    {
     "name": "stdout",
     "output_type": "stream",
     "text": [
      "Page - Exists: True\n"
     ]
    }
   ],
   "source": [
    "page_py = wiki_wiki.page('sustainability')\n",
    "print(\"Page - Exists: %s\" % page_py.exists())"
   ]
  },
  {
   "cell_type": "code",
   "execution_count": 55,
   "id": "82613340",
   "metadata": {},
   "outputs": [
    {
     "name": "stdout",
     "output_type": "stream",
     "text": [
      "Page - Summary: Sustainability is a societal goal that broadly aims for humans to safely co-exist on planet Earth over a long time. Specific definitions of sustainability are difficult to agree on and therefore vary in the literature and over time. Sustainability is commonly described along the lines of three dimensions (also called pillars): environmental, economic and social. This concept can be used to guide decisions at the global, national and at the individual level (e.g. sustainable living). In everyday usage, sustainability is often focused mostly on the environmental aspects so that \"sustainability\" becomes the same as \"environmental sustainability\". Consideration of human impacts on the environment and work to reduce negative impacts are linked to improving environmental sustainability.: 34  The\n"
     ]
    }
   ],
   "source": [
    "print(\"Page - Summary: %s\" % page_py.summary[0:800])"
   ]
  },
  {
   "cell_type": "code",
   "execution_count": null,
   "id": "0322ce59",
   "metadata": {},
   "outputs": [],
   "source": []
  },
  {
   "cell_type": "code",
   "execution_count": 57,
   "id": "50442ae6",
   "metadata": {},
   "outputs": [
    {
     "name": "stdout",
     "output_type": "stream",
     "text": [
      "Page - Exists: False\n"
     ]
    }
   ],
   "source": [
    "page_py = wiki_wiki.page('no more empty promises')   #SLOGAN\n",
    "print(\"Page - Exists: %s\" % page_py.exists())"
   ]
  },
  {
   "cell_type": "code",
   "execution_count": null,
   "id": "9704ed38",
   "metadata": {},
   "outputs": [],
   "source": [
    "print(\"Page - Summary: %s\" % page_py.summary[0:800])"
   ]
  },
  {
   "cell_type": "code",
   "execution_count": null,
   "id": "8e4f4687",
   "metadata": {},
   "outputs": [],
   "source": []
  },
  {
   "cell_type": "code",
   "execution_count": 60,
   "id": "1cb6fdd2",
   "metadata": {},
   "outputs": [
    {
     "name": "stdout",
     "output_type": "stream",
     "text": [
      "Page - Exists: False\n"
     ]
    }
   ],
   "source": [
    "page_py = wiki_wiki.page('friday vibes')            #slogan\n",
    "print(\"Page - Exists: %s\" % page_py.exists())"
   ]
  },
  {
   "cell_type": "code",
   "execution_count": null,
   "id": "1501a759",
   "metadata": {},
   "outputs": [],
   "source": [
    "print(\"Page - Summary: %s\" % page_py.summary[0:800])"
   ]
  },
  {
   "cell_type": "code",
   "execution_count": null,
   "id": "32ecaab6",
   "metadata": {},
   "outputs": [],
   "source": []
  },
  {
   "cell_type": "code",
   "execution_count": 61,
   "id": "244ecb66",
   "metadata": {},
   "outputs": [
    {
     "name": "stdout",
     "output_type": "stream",
     "text": [
      "Page - Exists: False\n"
     ]
    }
   ],
   "source": [
    "page_py = wiki_wiki.page('people not profit')    #slogan\n",
    "print(\"Page - Exists: %s\" % page_py.exists())"
   ]
  },
  {
   "cell_type": "code",
   "execution_count": null,
   "id": "278e7ea1",
   "metadata": {},
   "outputs": [],
   "source": [
    "print(\"Page - Summary: %s\" % page_py.summary[0:800])"
   ]
  },
  {
   "cell_type": "code",
   "execution_count": null,
   "id": "b0976f1b",
   "metadata": {},
   "outputs": [],
   "source": []
  },
  {
   "cell_type": "code",
   "execution_count": 62,
   "id": "0075d742",
   "metadata": {},
   "outputs": [
    {
     "name": "stdout",
     "output_type": "stream",
     "text": [
      "Page - Exists: True\n"
     ]
    }
   ],
   "source": [
    "page_py = wiki_wiki.page('berlin')\n",
    "print(\"Page - Exists: %s\" % page_py.exists())"
   ]
  },
  {
   "cell_type": "code",
   "execution_count": 63,
   "id": "ee1efdba",
   "metadata": {},
   "outputs": [
    {
     "name": "stdout",
     "output_type": "stream",
     "text": [
      "Page - Summary: Berlin ( bur-LIN, German: [bɛʁˈliːn] (listen)) is the capital and largest city of Germany by both area and population. Its 3.7 million inhabitants make it the European Union's most populous city, according to population within city limits. One of Germany's sixteen constituent states, Berlin is surrounded by the State of Brandenburg and contiguous with Potsdam, Brandenburg's capital. Berlin's urban area, which has a population of around 4.5 million, is the second most populous urban area in Germany after the Ruhr. The Berlin-Brandenburg capital region has around 6.2 million inhabitants and is Germany's third-largest metropolitan region after the Rhine-Ruhr and Rhine-Main regions. There was an unsuccessful attempt to unify both states in 1996, and despite remaining separate, the two states c\n"
     ]
    }
   ],
   "source": [
    "print(\"Page - Summary: %s\" % page_py.summary[0:800])"
   ]
  },
  {
   "cell_type": "code",
   "execution_count": null,
   "id": "788ae4bb",
   "metadata": {},
   "outputs": [],
   "source": []
  },
  {
   "cell_type": "code",
   "execution_count": 64,
   "id": "eee641b1",
   "metadata": {},
   "outputs": [
    {
     "name": "stdout",
     "output_type": "stream",
     "text": [
      "Page - Exists: False\n"
     ]
    }
   ],
   "source": [
    "page_py = wiki_wiki.page('act on climate')    ############à\n",
    "print(\"Page - Exists: %s\" % page_py.exists())"
   ]
  },
  {
   "cell_type": "code",
   "execution_count": null,
   "id": "e3e377f7",
   "metadata": {},
   "outputs": [],
   "source": [
    "print(\"Page - Summary: %s\" % page_py.summary[0:800])"
   ]
  },
  {
   "cell_type": "code",
   "execution_count": null,
   "id": "dbf6ad5d",
   "metadata": {},
   "outputs": [],
   "source": []
  },
  {
   "cell_type": "code",
   "execution_count": 65,
   "id": "7e7ec79e",
   "metadata": {},
   "outputs": [
    {
     "name": "stdout",
     "output_type": "stream",
     "text": [
      "Page - Exists: True\n"
     ]
    }
   ],
   "source": [
    "page_py = wiki_wiki.page('covid19')     ##ASSOCIARE ANCHE CORONA \n",
    "print(\"Page - Exists: %s\" % page_py.exists())"
   ]
  },
  {
   "cell_type": "code",
   "execution_count": 66,
   "id": "3a23a3b9",
   "metadata": {},
   "outputs": [
    {
     "name": "stdout",
     "output_type": "stream",
     "text": [
      "Page - Summary: Coronavirus disease 2019 (COVID-19) is a contagious disease caused by a virus, the severe acute respiratory syndrome coronavirus 2 (SARS-CoV-2). The first known case was identified in Wuhan, China, in December 2019. The disease quickly spread worldwide, resulting in the COVID-19 pandemic.\n",
      "Symptoms of COVID‑19 are variable, but often include fever, cough, headache, fatigue, breathing difficulties, loss of smell, and loss of taste. Symptoms may begin one to fourteen days after exposure to the virus. At least a third of people who are infected do not develop noticeable symptoms. Of those people who develop symptoms noticeable enough to be classed as patients, most (81%) develop mild to moderate symptoms (up to mild pneumonia), while 14% develop severe symptoms (dyspnea, hypoxia, or more than \n"
     ]
    }
   ],
   "source": [
    "print(\"Page - Summary: %s\" % page_py.summary[0:800])"
   ]
  },
  {
   "cell_type": "code",
   "execution_count": null,
   "id": "8982c394",
   "metadata": {},
   "outputs": [],
   "source": []
  },
  {
   "cell_type": "code",
   "execution_count": 69,
   "id": "5242b3ac",
   "metadata": {},
   "outputs": [
    {
     "name": "stdout",
     "output_type": "stream",
     "text": [
      "Page - Exists: False\n"
     ]
    }
   ],
   "source": [
    "page_py = wiki_wiki.page('scientists 4 future')    #######\n",
    "print(\"Page - Exists: %s\" % page_py.exists())"
   ]
  },
  {
   "cell_type": "code",
   "execution_count": null,
   "id": "ae7a1fb9",
   "metadata": {},
   "outputs": [],
   "source": [
    "print(\"Page - Summary: %s\" % page_py.summary[0:800])"
   ]
  },
  {
   "cell_type": "code",
   "execution_count": null,
   "id": "64cd33fd",
   "metadata": {},
   "outputs": [],
   "source": []
  },
  {
   "cell_type": "code",
   "execution_count": 70,
   "id": "fd9ee95e",
   "metadata": {},
   "outputs": [
    {
     "name": "stdout",
     "output_type": "stream",
     "text": [
      "Page - Exists: False\n"
     ]
    }
   ],
   "source": [
    "page_py = wiki_wiki.page('friday morning')        ############\n",
    "print(\"Page - Exists: %s\" % page_py.exists())"
   ]
  },
  {
   "cell_type": "code",
   "execution_count": null,
   "id": "9aaa0878",
   "metadata": {},
   "outputs": [],
   "source": [
    "print(\"Page - Summary: %s\" % page_py.summary[0:800])"
   ]
  },
  {
   "cell_type": "code",
   "execution_count": null,
   "id": "995eae50",
   "metadata": {},
   "outputs": [],
   "source": []
  },
  {
   "cell_type": "code",
   "execution_count": 72,
   "id": "a02edb0d",
   "metadata": {},
   "outputs": [
    {
     "name": "stdout",
     "output_type": "stream",
     "text": [
      "Page - Exists: True\n"
     ]
    }
   ],
   "source": [
    "page_py = wiki_wiki.page('environment')\n",
    "print(\"Page - Exists: %s\" % page_py.exists())"
   ]
  },
  {
   "cell_type": "code",
   "execution_count": 73,
   "id": "747c488b",
   "metadata": {},
   "outputs": [
    {
     "name": "stdout",
     "output_type": "stream",
     "text": [
      "Page - Summary: Environment most often refers to:\n",
      "\n",
      "Natural environment, all living and non-living things occurring naturally\n",
      "Biophysical environment, the physical and biological factors along with their chemical interactions that affect an organism or a group of organisms\n"
     ]
    }
   ],
   "source": [
    "print(\"Page - Summary: %s\" % page_py.summary[0:800])"
   ]
  },
  {
   "cell_type": "code",
   "execution_count": null,
   "id": "814af4b1",
   "metadata": {},
   "outputs": [],
   "source": []
  },
  {
   "cell_type": "code",
   "execution_count": 74,
   "id": "4796886e",
   "metadata": {},
   "outputs": [
    {
     "name": "stdout",
     "output_type": "stream",
     "text": [
      "Page - Exists: True\n"
     ]
    }
   ],
   "source": [
    "page_py = wiki_wiki.page('india')\n",
    "print(\"Page - Exists: %s\" % page_py.exists())"
   ]
  },
  {
   "cell_type": "code",
   "execution_count": 75,
   "id": "52ec68f8",
   "metadata": {},
   "outputs": [
    {
     "name": "stdout",
     "output_type": "stream",
     "text": [
      "Page - Summary: India, officially the Republic of India (Hindi: Bhārat Gaṇarājya), is a country in South Asia. It is the seventh-largest country by area, the second-most populous country, and the most populous democracy in the world. Bounded by the Indian Ocean on the south, the Arabian Sea on the southwest, and the Bay of Bengal on the southeast, it shares land borders with Pakistan to the west; China, Nepal, and Bhutan to the north; and Bangladesh and Myanmar to the east. In the Indian Ocean, India is in the vicinity of Sri Lanka and the Maldives; its Andaman and Nicobar Islands share a maritime border with Thailand, Myanmar and Indonesia.\n",
      "Modern humans arrived on the Indian subcontinent from Africa no later than 55,000 years ago.\n",
      "Their long occupation, initially in varying forms of isolation as hunter-\n"
     ]
    }
   ],
   "source": [
    "print(\"Page - Summary: %s\" % page_py.summary[0:800])"
   ]
  },
  {
   "cell_type": "code",
   "execution_count": null,
   "id": "507435c6",
   "metadata": {},
   "outputs": [],
   "source": []
  },
  {
   "cell_type": "code",
   "execution_count": 76,
   "id": "b7609fa0",
   "metadata": {},
   "outputs": [
    {
     "name": "stdout",
     "output_type": "stream",
     "text": [
      "Page - Exists: False\n"
     ]
    }
   ],
   "source": [
    "page_py = wiki_wiki.page('fight for 1 point 5')      ###### SI RIFERISCE AD UNA COSA SPECIFICA\n",
    "print(\"Page - Exists: %s\" % page_py.exists())"
   ]
  },
  {
   "cell_type": "code",
   "execution_count": null,
   "id": "05ae0e5d",
   "metadata": {},
   "outputs": [],
   "source": [
    "print(\"Page - Summary: %s\" % page_py.summary[0:800])"
   ]
  },
  {
   "cell_type": "code",
   "execution_count": null,
   "id": "93b9161f",
   "metadata": {},
   "outputs": [],
   "source": []
  },
  {
   "cell_type": "code",
   "execution_count": 77,
   "id": "45846c36",
   "metadata": {},
   "outputs": [
    {
     "name": "stdout",
     "output_type": "stream",
     "text": [
      "Page - Exists: True\n"
     ]
    }
   ],
   "source": [
    "page_py = wiki_wiki.page('green new deal')\n",
    "print(\"Page - Exists: %s\" % page_py.exists())"
   ]
  },
  {
   "cell_type": "code",
   "execution_count": 78,
   "id": "34a56e0a",
   "metadata": {},
   "outputs": [
    {
     "name": "stdout",
     "output_type": "stream",
     "text": [
      "Page - Summary: Green New Deal (GND) proposals call for public policy to address climate change along with achieving other social aims like job creation and reducing economic inequality. The name refers back to the New Deal, a set of social and economic reforms and public works projects undertaken by President Franklin D. Roosevelt in response to the Great Depression. The Green New Deal combines Roosevelt's economic approach with modern ideas such as renewable energy and resource efficiency.A prominent 2019 attempt to get legislation passed for a Green New Deal was sponsored by Rep. Alexandria Ocasio-Cortez (D-NY) and Sen. Ed Markey (D-MA) during the 116th United States Congress, though it failed to advance in the Senate. In the European Union, a 2019 proposal from the European commission for a European G\n"
     ]
    }
   ],
   "source": [
    "print(\"Page - Summary: %s\" % page_py.summary[0:800])"
   ]
  },
  {
   "cell_type": "code",
   "execution_count": null,
   "id": "aa1386a1",
   "metadata": {},
   "outputs": [],
   "source": []
  },
  {
   "cell_type": "code",
   "execution_count": 79,
   "id": "97b922a3",
   "metadata": {},
   "outputs": [
    {
     "name": "stdout",
     "output_type": "stream",
     "text": [
      "Page - Exists: False\n"
     ]
    }
   ],
   "source": [
    "page_py = wiki_wiki.page('save congora in forest')     ##############\n",
    "print(\"Page - Exists: %s\" % page_py.exists())"
   ]
  },
  {
   "cell_type": "code",
   "execution_count": 80,
   "id": "e069aa4e",
   "metadata": {},
   "outputs": [
    {
     "name": "stdout",
     "output_type": "stream",
     "text": [
      "Page - Summary: \n"
     ]
    }
   ],
   "source": [
    "print(\"Page - Summary: %s\" % page_py.summary[0:800])"
   ]
  },
  {
   "cell_type": "code",
   "execution_count": null,
   "id": "e5c29f38",
   "metadata": {},
   "outputs": [],
   "source": []
  },
  {
   "cell_type": "code",
   "execution_count": 81,
   "id": "55a9f456",
   "metadata": {},
   "outputs": [
    {
     "name": "stdout",
     "output_type": "stream",
     "text": [
      "Page - Exists: True\n"
     ]
    }
   ],
   "source": [
    "page_py = wiki_wiki.page('carbon')\n",
    "print(\"Page - Exists: %s\" % page_py.exists())"
   ]
  },
  {
   "cell_type": "code",
   "execution_count": 82,
   "id": "a89e512b",
   "metadata": {},
   "outputs": [
    {
     "name": "stdout",
     "output_type": "stream",
     "text": [
      "Page - Summary: Carbon (from Latin: carbo \"coal\") is a chemical element with the symbol C and atomic number 6. It is nonmetallic and tetravalent—making four electrons available to form covalent chemical bonds. It belongs to group 14 of the periodic table. Carbon makes up only about 0.025 percent of Earth's crust. Three isotopes occur naturally, 12C and 13C being stable, while 14C is a radionuclide, decaying with a half-life of about 5,730 years. Carbon is one of the few elements known since antiquity.Carbon is the 15th most abundant element in the Earth's crust, and the fourth most abundant element in the universe by mass after hydrogen, helium, and oxygen. Carbon's abundance, its unique diversity of organic compounds, and its unusual ability to form polymers at the temperatures commonly encountered on Ea\n"
     ]
    }
   ],
   "source": [
    "print(\"Page - Summary: %s\" % page_py.summary[0:800])"
   ]
  },
  {
   "cell_type": "code",
   "execution_count": null,
   "id": "67a84734",
   "metadata": {},
   "outputs": [],
   "source": []
  },
  {
   "cell_type": "code",
   "execution_count": 83,
   "id": "d3ea4bbb",
   "metadata": {},
   "outputs": [
    {
     "name": "stdout",
     "output_type": "stream",
     "text": [
      "Page - Exists: True\n"
     ]
    }
   ],
   "source": [
    "page_py = wiki_wiki.page('nature')\n",
    "print(\"Page - Exists: %s\" % page_py.exists())"
   ]
  },
  {
   "cell_type": "code",
   "execution_count": 84,
   "id": "22a59c56",
   "metadata": {},
   "outputs": [
    {
     "name": "stdout",
     "output_type": "stream",
     "text": [
      "Page - Summary: Nature, in the broadest sense, is the physical world or universe. \"Nature\" can refer to the phenomena of the physical world, and also to life in general. The study of nature is a large, if not the only, part of science. Although humans are part of nature, human activity is often understood as a separate category from other natural phenomena.The word nature is borrowed from the Old French nature and is derived from the Latin word natura, or \"essential qualities, innate disposition\", and in ancient times, literally meant \"birth\". In ancient philosophy, natura is mostly used as the Latin translation of the Greek word physis (φύσις), which originally related to the intrinsic characteristics of plants, animals, and other features of the world to develop of their own accord.\n",
      "The concept of natur\n"
     ]
    }
   ],
   "source": [
    "print(\"Page - Summary: %s\" % page_py.summary[0:800])"
   ]
  },
  {
   "cell_type": "code",
   "execution_count": null,
   "id": "8156ca23",
   "metadata": {},
   "outputs": [],
   "source": []
  },
  {
   "cell_type": "code",
   "execution_count": 85,
   "id": "70872231",
   "metadata": {},
   "outputs": [
    {
     "name": "stdout",
     "output_type": "stream",
     "text": [
      "Page - Exists: True\n"
     ]
    }
   ],
   "source": [
    "page_py = wiki_wiki.page('energy transition')\n",
    "print(\"Page - Exists: %s\" % page_py.exists())"
   ]
  },
  {
   "cell_type": "code",
   "execution_count": 86,
   "id": "6e90d384",
   "metadata": {},
   "outputs": [
    {
     "name": "stdout",
     "output_type": "stream",
     "text": [
      "Page - Summary: The energy transition is the ongoing process of replacing fossil fuels with low carbon energy sources.  More generally, an energy transition is a significant structural change in an energy system regarding supply and consumption.\n",
      "The industrial revolution was driven by an energy transition from wood and other biomass to coal, followed by oil and most recently natural gas.  Historically, there is a correlation between an increasing demand for energy and availability of different energy sources.The current transition to sustainable energy differs as it is largely driven by a recognition that global greenhouse-gas emissions must be brought to zero. Since fossil fuels are the largest single source of carbon emissions, the quantity that can be produced is limited by the Paris Agreement of 2015 \n"
     ]
    }
   ],
   "source": [
    "print(\"Page - Summary: %s\" % page_py.summary[0:800])"
   ]
  },
  {
   "cell_type": "code",
   "execution_count": null,
   "id": "5e9aa62a",
   "metadata": {},
   "outputs": [],
   "source": []
  },
  {
   "cell_type": "code",
   "execution_count": 87,
   "id": "5e623d17",
   "metadata": {},
   "outputs": [
    {
     "name": "stdout",
     "output_type": "stream",
     "text": [
      "Page - Exists: True\n"
     ]
    }
   ],
   "source": [
    "page_py = wiki_wiki.page('global warming')\n",
    "print(\"Page - Exists: %s\" % page_py.exists())"
   ]
  },
  {
   "cell_type": "code",
   "execution_count": 88,
   "id": "9dc88d28",
   "metadata": {},
   "outputs": [
    {
     "name": "stdout",
     "output_type": "stream",
     "text": [
      "Page - Summary: Contemporary climate change includes both global warming and its impacts on Earth's weather patterns. There have been previous periods of climate change, but the current changes are distinctly more rapid and not due to natural causes. Instead, they are caused by the emission of greenhouse gases, mostly carbon dioxide (CO2) and methane. Burning fossil fuels for energy use creates most of these emissions. Certain agricultural practices, industrial processes, and forest loss are additional sources. As their name suggests, these gases trap heat from sunlight near the earth’s surface, warming it over time.\n",
      "Due to climate change, deserts are expanding, while heat waves and wildfires are becoming more common. Increased warming in the Arctic has contributed to melting permafrost, glacial retreat a\n"
     ]
    }
   ],
   "source": [
    "print(\"Page - Summary: %s\" % page_py.summary[0:800])"
   ]
  },
  {
   "cell_type": "code",
   "execution_count": null,
   "id": "a97fc0b4",
   "metadata": {},
   "outputs": [],
   "source": []
  },
  {
   "cell_type": "code",
   "execution_count": 91,
   "id": "52d3d23b",
   "metadata": {},
   "outputs": [
    {
     "name": "stdout",
     "output_type": "stream",
     "text": [
      "Page - Exists: False\n"
     ]
    }
   ],
   "source": [
    "page_py = wiki_wiki.page('cop 25')       ####### ESISTE ma NON su WIKI\n",
    "print(\"Page - Exists: %s\" % page_py.exists())"
   ]
  },
  {
   "cell_type": "code",
   "execution_count": 92,
   "id": "244893a6",
   "metadata": {},
   "outputs": [
    {
     "name": "stdout",
     "output_type": "stream",
     "text": [
      "Page - Summary: \n"
     ]
    }
   ],
   "source": [
    "print(\"Page - Summary: %s\" % page_py.summary[0:800])"
   ]
  },
  {
   "cell_type": "code",
   "execution_count": null,
   "id": "9ec01534",
   "metadata": {},
   "outputs": [],
   "source": []
  },
  {
   "cell_type": "code",
   "execution_count": 95,
   "id": "2874b7e7",
   "metadata": {},
   "outputs": [
    {
     "name": "stdout",
     "output_type": "stream",
     "text": [
      "Page - Exists: True\n"
     ]
    }
   ],
   "source": [
    "page_py = wiki_wiki.page('solar energy')    #UNISCE DUE TAG SOLAR + ENERGY\n",
    "print(\"Page - Exists: %s\" % page_py.exists())"
   ]
  },
  {
   "cell_type": "code",
   "execution_count": 96,
   "id": "0d5dc114",
   "metadata": {},
   "outputs": [
    {
     "name": "stdout",
     "output_type": "stream",
     "text": [
      "Page - Summary: Solar energy is radiant light and heat from the Sun that is harnessed using a range of technologies such as solar power to generate electricity, solar thermal energy (including solar water heating), and solar architecture.It is an essential source of renewable energy, and its technologies are broadly characterized as either passive solar or active solar depending on how they capture and distribute solar energy or convert it into solar power. Active solar techniques include the use of photovoltaic systems, concentrated solar power, and solar water heating to harness the energy. Passive solar techniques include orienting a building to the Sun, selecting materials with favorable thermal mass or light-dispersing properties, and designing spaces that naturally circulate air.\n",
      "The large magnitude\n"
     ]
    }
   ],
   "source": [
    "print(\"Page - Summary: %s\" % page_py.summary[0:800])"
   ]
  },
  {
   "cell_type": "code",
   "execution_count": null,
   "id": "d2284033",
   "metadata": {},
   "outputs": [],
   "source": []
  },
  {
   "cell_type": "code",
   "execution_count": 97,
   "id": "aebe1cd8",
   "metadata": {},
   "outputs": [
    {
     "name": "stdout",
     "output_type": "stream",
     "text": [
      "Page - Exists: True\n"
     ]
    }
   ],
   "source": [
    "page_py = wiki_wiki.page('renewable energy')\n",
    "print(\"Page - Exists: %s\" % page_py.exists())"
   ]
  },
  {
   "cell_type": "code",
   "execution_count": 98,
   "id": "6dfe73c8",
   "metadata": {},
   "outputs": [
    {
     "name": "stdout",
     "output_type": "stream",
     "text": [
      "Page - Summary: Renewable energy is energy that is collected from renewable resources that are naturally replenished on a human timescale. It includes sources such as sunlight, wind, rain, tides, waves, and geothermal heat. Although most renewable energy sources are sustainable, some are not. For example, some biomass sources are considered unsustainable at current rates of exploitation. Renewable energy often provides energy for electricity generation to a grid, air and water heating/cooling, and stand-alone power systems. About 20% of humans' global energy consumption is renewables, including almost 30% of electricity. About 7% of energy consumption is traditional biomass, but this is declining. Over 4% of energy consumption is heat energy from modern renewables, such as solar water heating, and over 6%\n"
     ]
    }
   ],
   "source": [
    "print(\"Page - Summary: %s\" % page_py.summary[0:800])"
   ]
  },
  {
   "cell_type": "code",
   "execution_count": null,
   "id": "7bed53a1",
   "metadata": {},
   "outputs": [],
   "source": []
  },
  {
   "cell_type": "code",
   "execution_count": 99,
   "id": "378c4f40",
   "metadata": {},
   "outputs": [
    {
     "name": "stdout",
     "output_type": "stream",
     "text": [
      "Page - Exists: True\n"
     ]
    }
   ],
   "source": [
    "page_py = wiki_wiki.page('clean energy')\n",
    "print(\"Page - Exists: %s\" % page_py.exists())"
   ]
  },
  {
   "cell_type": "code",
   "execution_count": 100,
   "id": "6292223c",
   "metadata": {},
   "outputs": [
    {
     "name": "stdout",
     "output_type": "stream",
     "text": [
      "Page - Summary: Energy is sustainable if it \"meets the needs of the present without compromising the ability of future generations to meet their own needs\".  Most definitions of sustainable energy include considerations of environmental aspects such as greenhouse gas emissions and social and economic aspects such as energy poverty. Renewable energy sources such as wind, hydroelectric power, solar, and geothermal energy are generally far more sustainable than fossil fuel sources. However, some renewable energy projects, such as the clearing of forests to produce biofuels, can cause severe environmental damage. The role of non-renewable energy sources in sustainable energy has been controversial. Nuclear power is a low-carbon source whose historic mortality rates are comparable to wind and solar, but its su\n"
     ]
    }
   ],
   "source": [
    "print(\"Page - Summary: %s\" % page_py.summary[0:800])"
   ]
  },
  {
   "cell_type": "code",
   "execution_count": null,
   "id": "6040e4c1",
   "metadata": {},
   "outputs": [],
   "source": []
  },
  {
   "cell_type": "code",
   "execution_count": 101,
   "id": "a2c6e8f0",
   "metadata": {},
   "outputs": [
    {
     "name": "stdout",
     "output_type": "stream",
     "text": [
      "Page - Exists: True\n"
     ]
    }
   ],
   "source": [
    "page_py = wiki_wiki.page('coronavirus')\n",
    "print(\"Page - Exists: %s\" % page_py.exists())"
   ]
  },
  {
   "cell_type": "code",
   "execution_count": 102,
   "id": "3d41cf50",
   "metadata": {},
   "outputs": [
    {
     "name": "stdout",
     "output_type": "stream",
     "text": [
      "Page - Summary: Coronaviruses are a group of related RNA viruses that cause diseases in mammals and birds. In humans and birds, they cause respiratory tract infections that can range from mild to lethal. Mild illnesses in humans include some cases of the common cold (which is also caused by other viruses, predominantly rhinoviruses), while more lethal varieties can cause SARS, MERS and COVID-19, which is causing an ongoing pandemic. In cows and pigs they cause diarrhea, while in mice they cause hepatitis and encephalomyelitis.\n",
      "Coronaviruses constitute the subfamily Orthocoronavirinae, in the family Coronaviridae, order Nidovirales and realm Riboviria. They are enveloped viruses with a positive-sense single-stranded RNA genome and a nucleocapsid of helical symmetry. The genome size of coronaviruses ranges \n"
     ]
    }
   ],
   "source": [
    "print(\"Page - Summary: %s\" % page_py.summary[0:800])"
   ]
  },
  {
   "cell_type": "code",
   "execution_count": null,
   "id": "ba40686d",
   "metadata": {},
   "outputs": [],
   "source": []
  },
  {
   "cell_type": "code",
   "execution_count": 103,
   "id": "f6d43e1a",
   "metadata": {},
   "outputs": [
    {
     "name": "stdout",
     "output_type": "stream",
     "text": [
      "Page - Exists: True\n"
     ]
    }
   ],
   "source": [
    "page_py = wiki_wiki.page('energy')\n",
    "print(\"Page - Exists: %s\" % page_py.exists())"
   ]
  },
  {
   "cell_type": "code",
   "execution_count": 104,
   "id": "d62a3b38",
   "metadata": {},
   "outputs": [
    {
     "name": "stdout",
     "output_type": "stream",
     "text": [
      "Page - Summary: In physics, energy is the quantitative property that is transferred to a body or to a physical system, recognizable in the performance of work and in the form of heat and light. Energy is a conserved quantity; the law of conservation of energy states that energy can be converted in form, but not created or destroyed. The unit of measurement in the International System of Units (SI) of energy is the joule, which is the energy transferred to an object by the work of moving it a distance of one metre against a force of one newton.\n",
      "Common forms of energy include the kinetic energy of a moving object, the potential energy stored by an object's position in a force field (gravitational, electric or magnetic), the elastic energy stored by stretching solid objects, the chemical energy released when\n"
     ]
    }
   ],
   "source": [
    "print(\"Page - Summary: %s\" % page_py.summary[0:800])"
   ]
  },
  {
   "cell_type": "code",
   "execution_count": null,
   "id": "5f0111ed",
   "metadata": {},
   "outputs": [],
   "source": []
  },
  {
   "cell_type": "code",
   "execution_count": 105,
   "id": "1530b26a",
   "metadata": {},
   "outputs": [
    {
     "name": "stdout",
     "output_type": "stream",
     "text": [
      "Page - Exists: True\n"
     ]
    }
   ],
   "source": [
    "page_py = wiki_wiki.page('pollution')\n",
    "print(\"Page - Exists: %s\" % page_py.exists())"
   ]
  },
  {
   "cell_type": "code",
   "execution_count": 106,
   "id": "13e9b20a",
   "metadata": {},
   "outputs": [
    {
     "name": "stdout",
     "output_type": "stream",
     "text": [
      "Page - Summary: Pollution is the introduction of contaminants into the natural environment that cause adverse change. Pollution can take the form of any substance (solid, liquid, or gas) or energy (such as radioactivity, heat, sound, or light). Pollutants, the components of pollution, can be either foreign substances/energies or naturally occurring contaminants. Although environmental pollution can be caused by natural events, the word pollution generally implies that the contaminants have an anthropogenic source – that is, a source created by human activities. Pollution is often classed as point source or nonpoint source pollution. In 2015, pollution killed nine million people worldwide (one in six deaths). This remained unchanged in 2019, with little real progress against pollution being identifiable. A\n"
     ]
    }
   ],
   "source": [
    "print(\"Page - Summary: %s\" % page_py.summary[0:800])"
   ]
  },
  {
   "cell_type": "code",
   "execution_count": null,
   "id": "9ce829b1",
   "metadata": {},
   "outputs": [],
   "source": []
  },
  {
   "cell_type": "code",
   "execution_count": 108,
   "id": "a737850f",
   "metadata": {},
   "outputs": [
    {
     "name": "stdout",
     "output_type": "stream",
     "text": [
      "Page - Exists: False\n"
     ]
    }
   ],
   "source": [
    "page_py = wiki_wiki.page('end coal')      ##### è un sito internet \n",
    "print(\"Page - Exists: %s\" % page_py.exists())"
   ]
  },
  {
   "cell_type": "code",
   "execution_count": 109,
   "id": "328a797f",
   "metadata": {},
   "outputs": [
    {
     "name": "stdout",
     "output_type": "stream",
     "text": [
      "Page - Summary: \n"
     ]
    }
   ],
   "source": [
    "print(\"Page - Summary: %s\" % page_py.summary[0:800])"
   ]
  },
  {
   "cell_type": "code",
   "execution_count": null,
   "id": "104d7498",
   "metadata": {},
   "outputs": [],
   "source": []
  },
  {
   "cell_type": "code",
   "execution_count": 110,
   "id": "dc9a6697",
   "metadata": {},
   "outputs": [
    {
     "name": "stdout",
     "output_type": "stream",
     "text": [
      "Page - Exists: True\n"
     ]
    }
   ],
   "source": [
    "page_py = wiki_wiki.page('hamburg')\n",
    "print(\"Page - Exists: %s\" % page_py.exists())"
   ]
  },
  {
   "cell_type": "code",
   "execution_count": 111,
   "id": "bcb759a1",
   "metadata": {},
   "outputs": [
    {
     "name": "stdout",
     "output_type": "stream",
     "text": [
      "Page - Summary: Hamburg (German: [ˈhambʊʁk] (listen), locally also [ˈhambʊɪ̯ç] (listen); Low Saxon: Hamborg [ˈhambɔːç] (listen)), officially the Free and Hanseatic City of Hamburg (German: Freie und Hansestadt Hamburg; Low Saxon: Friee un Hansestadt Hamborg), is the second-largest city in Germany after Berlin, as well as the overall 7th largest city and largest non-capital city in the European Union with a population of over 1.84 million. Hamburg's urban area has a population of around 2.5 million and is part of the Hamburg Metropolitan Region, which has a population of over 5.1 million people in total. The city lies on the River Elbe and two of its tributaries, the River Alster and the River Bille. One of Germany's 16 federated states, Hamburg is surrounded by Schleswig-Holstein to the north and Lower Sa\n"
     ]
    }
   ],
   "source": [
    "print(\"Page - Summary: %s\" % page_py.summary[0:800])"
   ]
  },
  {
   "cell_type": "code",
   "execution_count": null,
   "id": "0fcedc50",
   "metadata": {},
   "outputs": [],
   "source": []
  },
  {
   "cell_type": "code",
   "execution_count": 112,
   "id": "15bbea85",
   "metadata": {},
   "outputs": [
    {
     "name": "stdout",
     "output_type": "stream",
     "text": [
      "Page - Exists: True\n"
     ]
    }
   ],
   "source": [
    "page_py = wiki_wiki.page('science')\n",
    "print(\"Page - Exists: %s\" % page_py.exists())"
   ]
  },
  {
   "cell_type": "code",
   "execution_count": 113,
   "id": "6f25badc",
   "metadata": {},
   "outputs": [
    {
     "name": "stdout",
     "output_type": "stream",
     "text": [
      "Page - Summary: Science is a systematic enterprise that builds and organizes knowledge in the form of testable explanations and predictions about the universe.The earliest roots in the history of science can be traced to Ancient Egypt and Mesopotamia in around 3000 to 1200 BCE. Their contributions to mathematics, astronomy, and medicine entered and shaped Greek natural philosophy of classical antiquity, whereby formal attempts were made to provide explanations of events in the physical world based on natural causes. After the fall of the Western Roman Empire, knowledge of Greek conceptions of the world deteriorated in Western Europe during the early centuries (400 to 1000 CE) of the Middle Ages, but was preserved in the Muslim world during the Islamic Golden Age.The recovery and assimilation of Greek work\n"
     ]
    }
   ],
   "source": [
    "print(\"Page - Summary: %s\" % page_py.summary[0:800])"
   ]
  },
  {
   "cell_type": "code",
   "execution_count": null,
   "id": "4595a151",
   "metadata": {},
   "outputs": [],
   "source": []
  },
  {
   "cell_type": "code",
   "execution_count": 114,
   "id": "48e8e4cf",
   "metadata": {},
   "outputs": [
    {
     "name": "stdout",
     "output_type": "stream",
     "text": [
      "Page - Exists: True\n"
     ]
    }
   ],
   "source": [
    "page_py = wiki_wiki.page('vegan')\n",
    "print(\"Page - Exists: %s\" % page_py.exists())"
   ]
  },
  {
   "cell_type": "code",
   "execution_count": 115,
   "id": "91c8faab",
   "metadata": {},
   "outputs": [
    {
     "name": "stdout",
     "output_type": "stream",
     "text": [
      "Page - Summary: Veganism is the practice of abstaining from the use of animal products, particularly in diet, and an associated philosophy that rejects the commodity status of animals. An individual who follows the diet or philosophy is known as a vegan. Distinctions may be made between several categories of veganism. Dietary vegans, also known as \"strict vegetarians\", refrain from consuming meat, eggs, dairy products, and any other animal-derived substances. An ethical vegan is someone who not only follows a plant-based diet but extends the philosophy into other areas of their lives, opposes the use of animals for any purpose, and tries to avoid any cruelty and exploitation of all animals including humans. Another term is \"environmental veganism\", which refers to the avoidance of animal products on the p\n"
     ]
    }
   ],
   "source": [
    "print(\"Page - Summary: %s\" % page_py.summary[0:800])"
   ]
  },
  {
   "cell_type": "code",
   "execution_count": null,
   "id": "f58efeae",
   "metadata": {},
   "outputs": [],
   "source": [
    " "
   ]
  },
  {
   "cell_type": "code",
   "execution_count": 116,
   "id": "32a82b5d",
   "metadata": {},
   "outputs": [
    {
     "name": "stdout",
     "output_type": "stream",
     "text": [
      "Page - Exists: True\n"
     ]
    }
   ],
   "source": [
    "page_py = wiki_wiki.page('covid_19')\n",
    "print(\"Page - Exists: %s\" % page_py.exists())"
   ]
  },
  {
   "cell_type": "code",
   "execution_count": 117,
   "id": "5274a1be",
   "metadata": {},
   "outputs": [
    {
     "name": "stdout",
     "output_type": "stream",
     "text": [
      "Page - Summary: Coronavirus disease 2019 (COVID-19) is a contagious disease caused by a virus, the severe acute respiratory syndrome coronavirus 2 (SARS-CoV-2). The first known case was identified in Wuhan, China, in December 2019. The disease quickly spread worldwide, resulting in the COVID-19 pandemic.\n",
      "Symptoms of COVID‑19 are variable, but often include fever, cough, headache, fatigue, breathing difficulties, loss of smell, and loss of taste. Symptoms may begin one to fourteen days after exposure to the virus. At least a third of people who are infected do not develop noticeable symptoms. Of those people who develop symptoms noticeable enough to be classed as patients, most (81%) develop mild to moderate symptoms (up to mild pneumonia), while 14% develop severe symptoms (dyspnea, hypoxia, or more than \n"
     ]
    }
   ],
   "source": [
    "print(\"Page - Summary: %s\" % page_py.summary[0:800])"
   ]
  },
  {
   "cell_type": "code",
   "execution_count": null,
   "id": "b8c76175",
   "metadata": {},
   "outputs": [],
   "source": []
  },
  {
   "cell_type": "code",
   "execution_count": 118,
   "id": "b44788cb",
   "metadata": {},
   "outputs": [
    {
     "name": "stdout",
     "output_type": "stream",
     "text": [
      "Page - Exists: False\n"
     ]
    }
   ],
   "source": [
    "page_py = wiki_wiki.page('govegan')       #https://www.govegan.org.uk/\n",
    "print(\"Page - Exists: %s\" % page_py.exists())"
   ]
  },
  {
   "cell_type": "code",
   "execution_count": null,
   "id": "7aa02ab2",
   "metadata": {},
   "outputs": [],
   "source": [
    "print(\"Page - Summary: %s\" % page_py.summary[0:800])"
   ]
  },
  {
   "cell_type": "code",
   "execution_count": null,
   "id": "8f8b075e",
   "metadata": {},
   "outputs": [],
   "source": []
  },
  {
   "cell_type": "code",
   "execution_count": 119,
   "id": "637b28b2",
   "metadata": {},
   "outputs": [
    {
     "name": "stdout",
     "output_type": "stream",
     "text": [
      "Page - Exists: False\n"
     ]
    }
   ],
   "source": [
    "page_py = wiki_wiki.page('parents for future')    ###slogan\n",
    "print(\"Page - Exists: %s\" % page_py.exists())"
   ]
  },
  {
   "cell_type": "code",
   "execution_count": null,
   "id": "a231ec97",
   "metadata": {},
   "outputs": [],
   "source": [
    "print(\"Page - Summary: %s\" % page_py.summary[0:800])"
   ]
  },
  {
   "cell_type": "code",
   "execution_count": null,
   "id": "736b5770",
   "metadata": {},
   "outputs": [],
   "source": []
  },
  {
   "cell_type": "code",
   "execution_count": 120,
   "id": "5d7efb7d",
   "metadata": {},
   "outputs": [
    {
     "name": "stdout",
     "output_type": "stream",
     "text": [
      "Page - Exists: True\n"
     ]
    }
   ],
   "source": [
    "page_py = wiki_wiki.page('art')\n",
    "print(\"Page - Exists: %s\" % page_py.exists())"
   ]
  },
  {
   "cell_type": "code",
   "execution_count": 121,
   "id": "70481839",
   "metadata": {},
   "outputs": [
    {
     "name": "stdout",
     "output_type": "stream",
     "text": [
      "Page - Summary: Art is a diverse range of human activity, and resulting product, that involves creative or imaginative talent expressive of technical proficiency, beauty, emotional power, or conceptual ideas.There is no generally agreed definition of what constitutes art, and its interpretation has varied greatly throughout history and across cultures. The three classical branches of visual art are painting, sculpture, and architecture. Theatre, dance, and other performing arts, as well as literature, music, film and other media such as interactive media, are included in a broader definition of the arts. Until the 17th century, art referred to any skill or mastery and was not differentiated from crafts or sciences. In modern usage after the 17th century, where aesthetic considerations are paramount, the f\n"
     ]
    }
   ],
   "source": [
    "print(\"Page - Summary: %s\" % page_py.summary[0:800])"
   ]
  },
  {
   "cell_type": "code",
   "execution_count": null,
   "id": "a322ad35",
   "metadata": {},
   "outputs": [],
   "source": []
  },
  {
   "cell_type": "code",
   "execution_count": 122,
   "id": "d74ff19b",
   "metadata": {},
   "outputs": [
    {
     "name": "stdout",
     "output_type": "stream",
     "text": [
      "Page - Exists: True\n"
     ]
    }
   ],
   "source": [
    "page_py = wiki_wiki.page('earth')\n",
    "print(\"Page - Exists: %s\" % page_py.exists())"
   ]
  },
  {
   "cell_type": "code",
   "execution_count": 123,
   "id": "ccdb7b0a",
   "metadata": {},
   "outputs": [
    {
     "name": "stdout",
     "output_type": "stream",
     "text": [
      "Page - Summary: Earth is the third planet from the Sun and the only astronomical object known to harbor life. While large volumes of water can be found throughout the Solar System, only Earth sustains liquid surface water. About 71% of Earth's surface is made up of the ocean, dwarfing Earth's polar ice, lakes, and rivers. The remaining 29% of Earth's surface is land, consisting of continents and islands. Earth's surface layer is formed of several slowly moving tectonic plates, interacting to produce mountain ranges, volcanoes, and earthquakes. Earth's liquid outer core generates the magnetic field that shapes Earth's magnetosphere, deflecting destructive solar winds.\n",
      "Earth's atmosphere consists mostly of nitrogen and oxygen. More solar energy is received by tropical regions than polar regions and is redis\n"
     ]
    }
   ],
   "source": [
    "print(\"Page - Summary: %s\" % page_py.summary[0:800])"
   ]
  },
  {
   "cell_type": "code",
   "execution_count": null,
   "id": "9c3a783a",
   "metadata": {},
   "outputs": [],
   "source": []
  },
  {
   "cell_type": "code",
   "execution_count": 124,
   "id": "cf6ca702",
   "metadata": {},
   "outputs": [
    {
     "name": "stdout",
     "output_type": "stream",
     "text": [
      "Page - Exists: True\n"
     ]
    }
   ],
   "source": [
    "page_py = wiki_wiki.page('future')\n",
    "print(\"Page - Exists: %s\" % page_py.exists())"
   ]
  },
  {
   "cell_type": "code",
   "execution_count": 125,
   "id": "14610b7d",
   "metadata": {},
   "outputs": [
    {
     "name": "stdout",
     "output_type": "stream",
     "text": [
      "Page - Summary: The future is the time after the past and present. Its arrival is considered inevitable due to the existence of time and the laws of physics. Due to the apparent nature of reality and the unavoidability of the future, everything that currently exists and will exist can be categorized as either permanent, meaning that it will exist forever, or temporary, meaning that it will end. In the Occidental view, which uses a linear conception of time, the future is the portion of the projected timeline that is anticipated to occur. In special relativity, the future is considered absolute future, or the future light cone.In the philosophy of time, presentism is the belief that only the present exists and the future and the past are unreal. Religions consider the future when they address issues such a\n"
     ]
    }
   ],
   "source": [
    "print(\"Page - Summary: %s\" % page_py.summary[0:800])"
   ]
  },
  {
   "cell_type": "code",
   "execution_count": null,
   "id": "23b5c7cc",
   "metadata": {},
   "outputs": [],
   "source": []
  },
  {
   "cell_type": "code",
   "execution_count": 126,
   "id": "bd514cf9",
   "metadata": {},
   "outputs": [
    {
     "name": "stdout",
     "output_type": "stream",
     "text": [
      "Page - Exists: True\n"
     ]
    }
   ],
   "source": [
    "page_py = wiki_wiki.page('wind')\n",
    "print(\"Page - Exists: %s\" % page_py.exists())"
   ]
  },
  {
   "cell_type": "code",
   "execution_count": 127,
   "id": "8b157096",
   "metadata": {},
   "outputs": [
    {
     "name": "stdout",
     "output_type": "stream",
     "text": [
      "Page - Summary: Wind is the natural movement of air or other gases relative to a planet's surface. Winds occur on a range of scales, from thunderstorm flows lasting tens of minutes, to local breezes generated by heating of land surfaces and lasting a few hours, to global winds resulting from the difference in absorption of solar energy between the climate zones on Earth. The two main causes of large-scale atmospheric circulation are the differential heating between the equator and the poles, and the rotation of the planet (Coriolis effect). Within the tropics and subtropics, thermal low circulations over terrain and high plateaus can drive monsoon circulations. In coastal areas the sea breeze/land breeze cycle can define local winds; in areas that have variable terrain, mountain and valley breezes can pre\n"
     ]
    }
   ],
   "source": [
    "print(\"Page - Summary: %s\" % page_py.summary[0:800])"
   ]
  },
  {
   "cell_type": "code",
   "execution_count": null,
   "id": "74baad93",
   "metadata": {},
   "outputs": [],
   "source": []
  },
  {
   "cell_type": "code",
   "execution_count": 129,
   "id": "e3d15413",
   "metadata": {},
   "outputs": [
    {
     "name": "stdout",
     "output_type": "stream",
     "text": [
      "Page - Exists: False\n"
     ]
    }
   ],
   "source": [
    "page_py = wiki_wiki.page('bio diversity')        ####################\n",
    "print(\"Page - Exists: %s\" % page_py.exists())"
   ]
  },
  {
   "cell_type": "code",
   "execution_count": null,
   "id": "2967cd8f",
   "metadata": {},
   "outputs": [],
   "source": [
    "print(\"Page - Summary: %s\" % page_py.summary[0:800])"
   ]
  },
  {
   "cell_type": "code",
   "execution_count": null,
   "id": "1136a365",
   "metadata": {},
   "outputs": [],
   "source": []
  },
  {
   "cell_type": "code",
   "execution_count": 130,
   "id": "7791b456",
   "metadata": {},
   "outputs": [
    {
     "name": "stdout",
     "output_type": "stream",
     "text": [
      "Page - Exists: True\n"
     ]
    }
   ],
   "source": [
    "page_py = wiki_wiki.page('Merkel')\n",
    "print(\"Page - Exists: %s\" % page_py.exists())"
   ]
  },
  {
   "cell_type": "code",
   "execution_count": 131,
   "id": "545ccdf1",
   "metadata": {},
   "outputs": [
    {
     "name": "stdout",
     "output_type": "stream",
     "text": [
      "Page - Summary: Angela Dorothea Merkel  (German: [ˈaŋɡela doʁoˈteːa ˈmɛɐ̯kl̩] (listen); née Kasner; born 17 July 1954) is a retired German politician and scientist who served as the chancellor of Germany from 2005 to 2021. A member of the Christian Democratic Union (CDU), she previously served as leader of the Opposition from 2002 to 2005 and as Leader of the Christian Democratic Union from 2000 to 2018. Merkel was the first female chancellor of Germany. During her tenure as Chancellor, Merkel was frequently referred to as the de facto leader of the European Union (EU) and the most powerful woman in the world.Merkel was born in Hamburg in then-West Germany, moving to East Germany as an infant when her father, a Lutheran clergyman, received a pastorate in Perleberg. She obtained a doctorate in quantum chem\n"
     ]
    }
   ],
   "source": [
    "print(\"Page - Summary: %s\" % page_py.summary[0:800])"
   ]
  },
  {
   "cell_type": "code",
   "execution_count": null,
   "id": "da596682",
   "metadata": {},
   "outputs": [],
   "source": []
  },
  {
   "cell_type": "code",
   "execution_count": 132,
   "id": "25c87e67",
   "metadata": {},
   "outputs": [
    {
     "name": "stdout",
     "output_type": "stream",
     "text": [
      "Page - Exists: True\n"
     ]
    }
   ],
   "source": [
    "page_py = wiki_wiki.page('hambi bleibt')\n",
    "print(\"Page - Exists: %s\" % page_py.exists())"
   ]
  },
  {
   "cell_type": "code",
   "execution_count": 133,
   "id": "d4522493",
   "metadata": {},
   "outputs": [
    {
     "name": "stdout",
     "output_type": "stream",
     "text": [
      "Page - Summary: Hambach Forest (German: Hambacher Wald, Hambacher Forst (German pronunciation: [ˈhambaxɐ ˈfɔʁst] (listen)), Bürgewald, Die Bürge) is an ancient forest located near Buir in North Rhine-Westphalia, western Germany, between Cologne and Aachen. It was planned to be cleared as part of the Hambach surface mine by owner RWE AG. There were protests and occupations from 2012 against this, and in 2020 a law was passed to preserve it.\n"
     ]
    }
   ],
   "source": [
    "print(\"Page - Summary: %s\" % page_py.summary[0:800])"
   ]
  },
  {
   "cell_type": "code",
   "execution_count": null,
   "id": "8de0b356",
   "metadata": {},
   "outputs": [],
   "source": []
  },
  {
   "cell_type": "code",
   "execution_count": 134,
   "id": "ac0b6da0",
   "metadata": {},
   "outputs": [
    {
     "name": "stdout",
     "output_type": "stream",
     "text": [
      "Page - Exists: False\n"
     ]
    }
   ],
   "source": [
    "page_py = wiki_wiki.page('no planet b')         ###SLOGAN\n",
    "print(\"Page - Exists: %s\" % page_py.exists())"
   ]
  },
  {
   "cell_type": "code",
   "execution_count": null,
   "id": "e3951c32",
   "metadata": {},
   "outputs": [],
   "source": [
    "print(\"Page - Summary: %s\" % page_py.summary[0:800])"
   ]
  },
  {
   "cell_type": "code",
   "execution_count": null,
   "id": "359123f8",
   "metadata": {},
   "outputs": [],
   "source": []
  },
  {
   "cell_type": "code",
   "execution_count": 135,
   "id": "5d9448ef",
   "metadata": {},
   "outputs": [
    {
     "name": "stdout",
     "output_type": "stream",
     "text": [
      "Page - Exists: True\n"
     ]
    }
   ],
   "source": [
    "page_py = wiki_wiki.page('grünen')\n",
    "print(\"Page - Exists: %s\" % page_py.exists())"
   ]
  },
  {
   "cell_type": "code",
   "execution_count": 136,
   "id": "8f102cfd",
   "metadata": {},
   "outputs": [
    {
     "name": "stdout",
     "output_type": "stream",
     "text": [
      "Page - Summary: Die Grünen (German for \"the Greens\") may refer to:\n",
      "\n",
      "The Greens – The Green Alternative, the Austrian Green Party\n",
      "Alliance 90/The Greens, the German Green Party\n",
      "Green Party of Switzerland\n",
      "Greens (South Tyrol)\n"
     ]
    }
   ],
   "source": [
    "print(\"Page - Summary: %s\" % page_py.summary[0:800])"
   ]
  },
  {
   "cell_type": "code",
   "execution_count": null,
   "id": "a7e6e569",
   "metadata": {},
   "outputs": [],
   "source": []
  },
  {
   "cell_type": "code",
   "execution_count": 141,
   "id": "60033ec9",
   "metadata": {},
   "outputs": [
    {
     "name": "stdout",
     "output_type": "stream",
     "text": [
      "Page - Exists: True\n"
     ]
    }
   ],
   "source": [
    "page_py = wiki_wiki.page('how dare you')  ###### discorso di greta\n",
    "print(\"Page - Exists: %s\" % page_py.exists())"
   ]
  },
  {
   "cell_type": "code",
   "execution_count": 140,
   "id": "53d30af3",
   "metadata": {},
   "outputs": [
    {
     "name": "stdout",
     "output_type": "stream",
     "text": [
      "Page - Summary: \n"
     ]
    }
   ],
   "source": [
    "print(\"Page - Summary: %s\" % page_py.summary[0:800])"
   ]
  },
  {
   "cell_type": "code",
   "execution_count": null,
   "id": "057a893c",
   "metadata": {},
   "outputs": [],
   "source": []
  },
  {
   "cell_type": "code",
   "execution_count": 144,
   "id": "f770ce1a",
   "metadata": {},
   "outputs": [
    {
     "name": "stdout",
     "output_type": "stream",
     "text": [
      "Page - Exists: False\n"
     ]
    }
   ],
   "source": [
    "page_py = wiki_wiki.page('unite behind the science')    #slogan\n",
    "print(\"Page - Exists: %s\" % page_py.exists())"
   ]
  },
  {
   "cell_type": "code",
   "execution_count": 143,
   "id": "ff53264d",
   "metadata": {},
   "outputs": [
    {
     "name": "stdout",
     "output_type": "stream",
     "text": [
      "Page - Summary: Antifa may refer to:\n"
     ]
    }
   ],
   "source": [
    "print(\"Page - Summary: %s\" % page_py.summary[0:800])"
   ]
  },
  {
   "cell_type": "code",
   "execution_count": null,
   "id": "63029f33",
   "metadata": {},
   "outputs": [],
   "source": []
  },
  {
   "cell_type": "code",
   "execution_count": 145,
   "id": "f2cecbea",
   "metadata": {},
   "outputs": [
    {
     "name": "stdout",
     "output_type": "stream",
     "text": [
      "Page - Exists: False\n"
     ]
    }
   ],
   "source": [
    "page_py = wiki_wiki.page('tired earth')     #SLOGAN\n",
    "print(\"Page - Exists: %s\" % page_py.exists())"
   ]
  },
  {
   "cell_type": "code",
   "execution_count": null,
   "id": "7da692e3",
   "metadata": {},
   "outputs": [],
   "source": [
    "print(\"Page - Summary: %s\" % page_py.summary[0:800])"
   ]
  },
  {
   "cell_type": "code",
   "execution_count": null,
   "id": "9c0ef877",
   "metadata": {},
   "outputs": [],
   "source": []
  },
  {
   "cell_type": "code",
   "execution_count": 148,
   "id": "ae47da26",
   "metadata": {},
   "outputs": [
    {
     "name": "stdout",
     "output_type": "stream",
     "text": [
      "Page - Exists: True\n"
     ]
    }
   ],
   "source": [
    "page_py = wiki_wiki.page('fossil fuels')\n",
    "print(\"Page - Exists: %s\" % page_py.exists())"
   ]
  },
  {
   "cell_type": "code",
   "execution_count": 149,
   "id": "fecddb57",
   "metadata": {},
   "outputs": [
    {
     "name": "stdout",
     "output_type": "stream",
     "text": [
      "Page - Summary: A fossil fuel is a hydrocarbon-containing material formed naturally in the earth's crust from the remains of dead plants and animals that is extracted and burned as a fuel. The main fossil fuels are coal, crude oil and natural gas. Fossil fuels may be burned to provide heat for use directly (such as for cooking or heating), to power engines (such as internal combustion engines in motor vehicles), or to generate electricity. Some fossil fuels are refined into derivatives such as kerosene, gasoline and propane before burning. The origin of fossil fuels is the anaerobic decomposition of buried dead organisms, containing organic molecules created by photosynthesis. The conversion from these materials to high-carbon fossil fuels typically require a geological process of millions of years.In 201\n"
     ]
    }
   ],
   "source": [
    "print(\"Page - Summary: %s\" % page_py.summary[0:800])"
   ]
  },
  {
   "cell_type": "code",
   "execution_count": null,
   "id": "34483e34",
   "metadata": {},
   "outputs": [],
   "source": []
  },
  {
   "cell_type": "code",
   "execution_count": 150,
   "id": "3e433048",
   "metadata": {},
   "outputs": [
    {
     "name": "stdout",
     "output_type": "stream",
     "text": [
      "Page - Exists: True\n"
     ]
    }
   ],
   "source": [
    "page_py = wiki_wiki.page('planet')\n",
    "print(\"Page - Exists: %s\" % page_py.exists())"
   ]
  },
  {
   "cell_type": "code",
   "execution_count": 151,
   "id": "8037e8cb",
   "metadata": {},
   "outputs": [
    {
     "name": "stdout",
     "output_type": "stream",
     "text": [
      "Page - Summary: A planet is a large, rounded astronomical body that is neither a star nor its remnant. The best available theory of planet formation is the nebular hypothesis, which posits that an interstellar cloud collapses out of a nebula to create a young protostar orbited by a protoplanetary disk. Planets grow in this disk by the gradual accumulation of material driven by gravity, a process called accretion. At least eight planets exist in the Solar System: the terrestrial planets Mercury, Venus, Earth and Mars, and the giant planets Jupiter, Saturn, Uranus and Neptune. These planets each rotate around an axis tilted with respect to its orbital pole. All of them possess an atmosphere, even Mercury, and some share such features as ice caps, seasons, volcanism, hurricanes, tectonics, and even hydrology\n"
     ]
    }
   ],
   "source": [
    "print(\"Page - Summary: %s\" % page_py.summary[0:800])"
   ]
  },
  {
   "cell_type": "code",
   "execution_count": null,
   "id": "5087e0e5",
   "metadata": {},
   "outputs": [],
   "source": []
  },
  {
   "cell_type": "code",
   "execution_count": 152,
   "id": "0a4c4115",
   "metadata": {},
   "outputs": [
    {
     "name": "stdout",
     "output_type": "stream",
     "text": [
      "Page - Exists: False\n"
     ]
    }
   ],
   "source": [
    "page_py = wiki_wiki.page('defend the defenders')    ####SLOGAN\n",
    "print(\"Page - Exists: %s\" % page_py.exists())"
   ]
  },
  {
   "cell_type": "code",
   "execution_count": null,
   "id": "1c6e47fc",
   "metadata": {},
   "outputs": [],
   "source": [
    "print(\"Page - Summary: %s\" % page_py.summary[0:800])"
   ]
  },
  {
   "cell_type": "code",
   "execution_count": null,
   "id": "e89682a6",
   "metadata": {},
   "outputs": [],
   "source": []
  },
  {
   "cell_type": "code",
   "execution_count": 153,
   "id": "0c6c517c",
   "metadata": {},
   "outputs": [
    {
     "name": "stdout",
     "output_type": "stream",
     "text": [
      "Page - Exists: True\n"
     ]
    }
   ],
   "source": [
    "page_py = wiki_wiki.page('canada')\n",
    "print(\"Page - Exists: %s\" % page_py.exists())"
   ]
  },
  {
   "cell_type": "code",
   "execution_count": 154,
   "id": "3f0bd6c0",
   "metadata": {},
   "outputs": [
    {
     "name": "stdout",
     "output_type": "stream",
     "text": [
      "Page - Summary: Canada is a country in North America. Its ten provinces and three territories extend from the Atlantic Ocean to the Pacific Ocean and northward into the Arctic Ocean, covering over 9.98 million square kilometres (3.85 million square miles), making it the world's second-largest country by total area. Its southern and western border with the United States, stretching 8,891 kilometres (5,525 mi), is the world's longest binational land border. Canada's capital is Ottawa, and its three largest metropolitan areas are Toronto, Montreal, and Vancouver.\n",
      "Indigenous peoples have continuously inhabited what is now Canada for thousands of years. Beginning in the 16th century, British and French expeditions explored and later settled along the Atlantic coast. As a consequence of various armed conflicts,\n"
     ]
    }
   ],
   "source": [
    "print(\"Page - Summary: %s\" % page_py.summary[0:800])"
   ]
  },
  {
   "cell_type": "code",
   "execution_count": null,
   "id": "2d11af70",
   "metadata": {},
   "outputs": [],
   "source": []
  },
  {
   "cell_type": "code",
   "execution_count": 155,
   "id": "ff163fc9",
   "metadata": {},
   "outputs": [
    {
     "name": "stdout",
     "output_type": "stream",
     "text": [
      "Page - Exists: False\n"
     ]
    }
   ],
   "source": [
    "page_py = wiki_wiki.page('climate justice now')    #######SLOGAN\n",
    "print(\"Page - Exists: %s\" % page_py.exists())"
   ]
  },
  {
   "cell_type": "code",
   "execution_count": null,
   "id": "d3c41034",
   "metadata": {},
   "outputs": [],
   "source": [
    "print(\"Page - Summary: %s\" % page_py.summary[0:800])"
   ]
  },
  {
   "cell_type": "code",
   "execution_count": null,
   "id": "c4ccc8f7",
   "metadata": {},
   "outputs": [],
   "source": []
  },
  {
   "cell_type": "code",
   "execution_count": 156,
   "id": "f8987e5c",
   "metadata": {},
   "outputs": [
    {
     "name": "stdout",
     "output_type": "stream",
     "text": [
      "Page - Exists: True\n"
     ]
    }
   ],
   "source": [
    "page_py = wiki_wiki.page('friday')\n",
    "print(\"Page - Exists: %s\" % page_py.exists())"
   ]
  },
  {
   "cell_type": "code",
   "execution_count": 157,
   "id": "a1d071ce",
   "metadata": {},
   "outputs": [
    {
     "name": "stdout",
     "output_type": "stream",
     "text": [
      "Page - Summary: Friday is the day of the week between Thursday and Saturday. In countries adopting the \"Monday-first\" convention it is the fifth day of the week. In countries that adopt the \"Sunday-first\" convention, it is the sixth day of the week.\n",
      "In most Western countries, Friday is the fifth and final day of the working week. In some other countries, Friday is the first day of the weekend, with Saturday the second. \n",
      "In Israel, Friday is the sixth day of the week. In Iran, Friday is the last day of the weekend, with Saturday as the first day of the working week. Bahrain, the United Arab Emirates (UAE), Saudi Arabia and Kuwait also followed this convention until they changed to a Friday–Saturday weekend on September 1, 2006, in Bahrain and the UAE, and a year later in Kuwait. The UAE changed its weekend\n"
     ]
    }
   ],
   "source": [
    "print(\"Page - Summary: %s\" % page_py.summary[0:800])"
   ]
  },
  {
   "cell_type": "code",
   "execution_count": null,
   "id": "ea12e382",
   "metadata": {},
   "outputs": [],
   "source": []
  },
  {
   "cell_type": "code",
   "execution_count": 158,
   "id": "5e9b9d9d",
   "metadata": {},
   "outputs": [
    {
     "name": "stdout",
     "output_type": "stream",
     "text": [
      "Page - Exists: False\n"
     ]
    }
   ],
   "source": [
    "page_py = wiki_wiki.page('save the planet')  #SLOGAN\n",
    "print(\"Page - Exists: %s\" % page_py.exists())"
   ]
  },
  {
   "cell_type": "code",
   "execution_count": null,
   "id": "2364cd1c",
   "metadata": {},
   "outputs": [],
   "source": [
    "print(\"Page - Summary: %s\" % page_py.summary[0:800])"
   ]
  },
  {
   "cell_type": "code",
   "execution_count": null,
   "id": "a7028744",
   "metadata": {},
   "outputs": [],
   "source": []
  },
  {
   "cell_type": "code",
   "execution_count": 159,
   "id": "91ff6e45",
   "metadata": {},
   "outputs": [
    {
     "name": "stdout",
     "output_type": "stream",
     "text": [
      "Page - Exists: False\n"
     ]
    }
   ],
   "source": [
    "page_py = wiki_wiki.page('climate strikes')    #SLOGAN\n",
    "print(\"Page - Exists: %s\" % page_py.exists())"
   ]
  },
  {
   "cell_type": "code",
   "execution_count": null,
   "id": "123d55d3",
   "metadata": {},
   "outputs": [],
   "source": [
    "print(\"Page - Summary: %s\" % page_py.summary[0:800])"
   ]
  },
  {
   "cell_type": "code",
   "execution_count": null,
   "id": "cb06e8c6",
   "metadata": {},
   "outputs": [],
   "source": []
  },
  {
   "cell_type": "code",
   "execution_count": 160,
   "id": "8f4f38cc",
   "metadata": {},
   "outputs": [
    {
     "name": "stdout",
     "output_type": "stream",
     "text": [
      "Page - Exists: False\n"
     ]
    }
   ],
   "source": [
    "page_py = wiki_wiki.page('comics for climate')   ##### \n",
    "print(\"Page - Exists: %s\" % page_py.exists())"
   ]
  },
  {
   "cell_type": "code",
   "execution_count": null,
   "id": "c3761645",
   "metadata": {},
   "outputs": [],
   "source": [
    "print(\"Page - Summary: %s\" % page_py.summary[0:800])"
   ]
  },
  {
   "cell_type": "code",
   "execution_count": null,
   "id": "b7f6e899",
   "metadata": {},
   "outputs": [],
   "source": []
  },
  {
   "cell_type": "code",
   "execution_count": 162,
   "id": "5f00ce9b",
   "metadata": {},
   "outputs": [
    {
     "name": "stdout",
     "output_type": "stream",
     "text": [
      "Page - Exists: True\n"
     ]
    }
   ],
   "source": [
    "page_py = wiki_wiki.page('black friday') ##############\n",
    "print(\"Page - Exists: %s\" % page_py.exists())"
   ]
  },
  {
   "cell_type": "code",
   "execution_count": 163,
   "id": "6f940285",
   "metadata": {},
   "outputs": [
    {
     "name": "stdout",
     "output_type": "stream",
     "text": [
      "Page - Summary: Black Friday may refer to:\n"
     ]
    }
   ],
   "source": [
    "print(\"Page - Summary: %s\" % page_py.summary[0:800])"
   ]
  },
  {
   "cell_type": "code",
   "execution_count": null,
   "id": "92e594a3",
   "metadata": {},
   "outputs": [],
   "source": []
  },
  {
   "cell_type": "code",
   "execution_count": 165,
   "id": "89f86e51",
   "metadata": {},
   "outputs": [
    {
     "name": "stdout",
     "output_type": "stream",
     "text": [
      "Page - Exists: False\n"
     ]
    }
   ],
   "source": [
    "page_py = wiki_wiki.page('cdnpoli')          ######## HASTAGH DA CONTROLLARE PER IL CANADA\n",
    "print(\"Page - Exists: %s\" % page_py.exists())"
   ]
  },
  {
   "cell_type": "code",
   "execution_count": null,
   "id": "acfa9737",
   "metadata": {},
   "outputs": [],
   "source": [
    "print(\"Page - Summary: %s\" % page_py.summary[0:800])"
   ]
  },
  {
   "cell_type": "code",
   "execution_count": null,
   "id": "a7fd52c0",
   "metadata": {},
   "outputs": [],
   "source": []
  },
  {
   "cell_type": "code",
   "execution_count": 166,
   "id": "babbef1b",
   "metadata": {},
   "outputs": [
    {
     "name": "stdout",
     "output_type": "stream",
     "text": [
      "Page - Exists: False\n"
     ]
    }
   ],
   "source": [
    "page_py = wiki_wiki.page('demvoice1')     ########è UN ACCOUNT TWITTER\n",
    "print(\"Page - Exists: %s\" % page_py.exists())"
   ]
  },
  {
   "cell_type": "code",
   "execution_count": null,
   "id": "5462be19",
   "metadata": {},
   "outputs": [],
   "source": [
    "print(\"Page - Summary: %s\" % page_py.summary[0:800])"
   ]
  },
  {
   "cell_type": "code",
   "execution_count": null,
   "id": "af65835c",
   "metadata": {},
   "outputs": [],
   "source": []
  },
  {
   "cell_type": "code",
   "execution_count": 167,
   "id": "60e69d06",
   "metadata": {},
   "outputs": [
    {
     "name": "stdout",
     "output_type": "stream",
     "text": [
      "Page - Exists: True\n"
     ]
    }
   ],
   "source": [
    "page_py = wiki_wiki.page('thunberg')      ######## si riferisce sempre a greta\n",
    "print(\"Page - Exists: %s\" % page_py.exists())"
   ]
  },
  {
   "cell_type": "code",
   "execution_count": 168,
   "id": "a5f6e4da",
   "metadata": {},
   "outputs": [
    {
     "name": "stdout",
     "output_type": "stream",
     "text": [
      "Page - Summary: Thunberg is a surname. Notable people with the surname include:\n",
      "\n",
      "Carl Peter Thunberg (1743–1828), Swedish naturalist\n",
      "Anna Sofia Thunberg (1790–1871), Swedish opera singer\n",
      "Clas Thunberg (1893–1973), Finnish speed skater\n",
      "Greta Thunberg (born 2003), Swedish climate activist\n",
      "Lage Thunberg (1905–1977), Swedish Air Force general\n",
      "Olof Thunberg (1925-2020), Swedish actor and director\n",
      "Svante Thunberg (born 1969), Swedish actor, producer and author\n",
      "Torsten Thunberg (1873–1952), Swedish physiologist\n"
     ]
    }
   ],
   "source": [
    "print(\"Page - Summary: %s\" % page_py.summary[0:800])"
   ]
  },
  {
   "cell_type": "code",
   "execution_count": null,
   "id": "41c890fb",
   "metadata": {},
   "outputs": [],
   "source": []
  },
  {
   "cell_type": "code",
   "execution_count": 169,
   "id": "d4987ed5",
   "metadata": {},
   "outputs": [
    {
     "name": "stdout",
     "output_type": "stream",
     "text": [
      "Page - Exists: True\n"
     ]
    }
   ],
   "source": [
    "page_py = wiki_wiki.page('eu')\n",
    "print(\"Page - Exists: %s\" % page_py.exists())"
   ]
  },
  {
   "cell_type": "code",
   "execution_count": 170,
   "id": "8de06401",
   "metadata": {},
   "outputs": [
    {
     "name": "stdout",
     "output_type": "stream",
     "text": [
      "Page - Summary: The European Union (EU) is a political and economic union of 27 member states that are located primarily in Europe. The union has a total area of 4,233,255.3 km2 (1,634,469.0 sq mi) and an estimated total population of about 447 million. An internal single market has been established through a standardised system of laws that apply in all member states in those matters, and only those matters, where the states have agreed to act as one. EU policies aim to ensure the free movement of people, goods, services and capital within the internal market; enact legislation in justice and home affairs; and maintain common policies on trade, agriculture, fisheries and regional development. Passport controls have been abolished for travel within the Schengen Area. The eurozone is a monetary union estab\n"
     ]
    }
   ],
   "source": [
    "print(\"Page - Summary: %s\" % page_py.summary[0:800])"
   ]
  },
  {
   "cell_type": "code",
   "execution_count": null,
   "id": "a4db1420",
   "metadata": {},
   "outputs": [],
   "source": []
  },
  {
   "cell_type": "code",
   "execution_count": 171,
   "id": "13c81ad0",
   "metadata": {},
   "outputs": [
    {
     "name": "stdout",
     "output_type": "stream",
     "text": [
      "Page - Exists: False\n"
     ]
    }
   ],
   "source": [
    "page_py = wiki_wiki.page('global strike')         #################\n",
    "print(\"Page - Exists: %s\" % page_py.exists())"
   ]
  },
  {
   "cell_type": "code",
   "execution_count": null,
   "id": "7f0551df",
   "metadata": {},
   "outputs": [],
   "source": [
    "print(\"Page - Summary: %s\" % page_py.summary[0:800])"
   ]
  },
  {
   "cell_type": "code",
   "execution_count": null,
   "id": "e83bb666",
   "metadata": {},
   "outputs": [],
   "source": []
  },
  {
   "cell_type": "code",
   "execution_count": 173,
   "id": "6ae16db1",
   "metadata": {},
   "outputs": [
    {
     "name": "stdout",
     "output_type": "stream",
     "text": [
      "Page - Exists: True\n"
     ]
    }
   ],
   "source": [
    "page_py = wiki_wiki.page('black lives matter')   \n",
    "print(\"Page - Exists: %s\" % page_py.exists())"
   ]
  },
  {
   "cell_type": "code",
   "execution_count": 174,
   "id": "e37ed850",
   "metadata": {},
   "outputs": [
    {
     "name": "stdout",
     "output_type": "stream",
     "text": [
      "Page - Summary: Black Lives Matter (abbreviated BLM) is a decentralized political and social movement that seeks to highlight racism, discrimination, and inequality experienced by black people. When its supporters come together, they do so primarily to protest incidents of police brutality and racially motivated violence against black people. It started following the killings of Trayvon Martin, Michael Brown, Eric Garner, Pamela Turner and Rekia Boyd, among others. The movement and its related organizations typically advocate for various policy changes considered to be related to black liberation. While there are specific organizations that label themselves simply as \"Black Lives Matter,\" such as the Black Lives Matter Global Network, the overall movement is a decentralized network of people and organizat\n"
     ]
    }
   ],
   "source": [
    "print(\"Page - Summary: %s\" % page_py.summary[0:800])"
   ]
  },
  {
   "cell_type": "code",
   "execution_count": null,
   "id": "8f9811cb",
   "metadata": {},
   "outputs": [],
   "source": []
  },
  {
   "cell_type": "code",
   "execution_count": 175,
   "id": "8bdc0908",
   "metadata": {},
   "outputs": [
    {
     "name": "stdout",
     "output_type": "stream",
     "text": [
      "Page - Exists: True\n"
     ]
    }
   ],
   "source": [
    "page_py = wiki_wiki.page('love')\n",
    "print(\"Page - Exists: %s\" % page_py.exists())"
   ]
  },
  {
   "cell_type": "code",
   "execution_count": 176,
   "id": "f64f8503",
   "metadata": {},
   "outputs": [
    {
     "name": "stdout",
     "output_type": "stream",
     "text": [
      "Page - Summary: Love encompasses a range of strong and positive emotional and mental states, from the most sublime virtue or good habit, the deepest interpersonal affection, to the simplest pleasure. An example of this range of meanings is that the love of a mother differs from the love of a spouse, which differs from the love for food. Most commonly, love refers to a feeling of a strong attraction and emotional attachment.Love is considered to be both positive and negative, with its virtue representing human kindness, compassion, and affection, as \"the unselfish loyal and benevolent concern for the good of another\" and its vice representing human moral flaw, akin to vanity, selfishness, amour-propre, and egotism, as potentially leading people into a type of mania, obsessiveness or codependency. It may al\n"
     ]
    }
   ],
   "source": [
    "print(\"Page - Summary: %s\" % page_py.summary[0:800])"
   ]
  },
  {
   "cell_type": "code",
   "execution_count": null,
   "id": "10efd934",
   "metadata": {},
   "outputs": [],
   "source": []
  },
  {
   "cell_type": "code",
   "execution_count": 177,
   "id": "545f7cc6",
   "metadata": {},
   "outputs": [
    {
     "name": "stdout",
     "output_type": "stream",
     "text": [
      "Page - Exists: True\n"
     ]
    }
   ],
   "source": [
    "page_py = wiki_wiki.page('gas')\n",
    "print(\"Page - Exists: %s\" % page_py.exists())"
   ]
  },
  {
   "cell_type": "code",
   "execution_count": 178,
   "id": "b7d9afab",
   "metadata": {},
   "outputs": [
    {
     "name": "stdout",
     "output_type": "stream",
     "text": [
      "Page - Summary: Gas is one of the four fundamental states of matter (the others being solid, liquid, and plasma).A pure gas may be made up of individual atoms (e.g. a noble gas like neon), elemental molecules made from one type of atom (e.g. oxygen), or compound molecules made from a variety of atoms (e.g. carbon dioxide). A gas mixture, such as air, contains a variety of pure gases. What distinguishes a gas from liquids and solids is the vast separation of the individual gas particles. This separation usually makes a colourless gas invisible to the human observer.\n",
      "The gaseous state of matter occurs between the liquid and plasma states, the latter of which provides the upper temperature boundary for gases. Bounding the lower end of the temperature scale lie degenerative quantum gases which are gaining inc\n"
     ]
    }
   ],
   "source": [
    "print(\"Page - Summary: %s\" % page_py.summary[0:800])"
   ]
  },
  {
   "cell_type": "code",
   "execution_count": null,
   "id": "1ce540be",
   "metadata": {},
   "outputs": [],
   "source": []
  },
  {
   "cell_type": "code",
   "execution_count": 179,
   "id": "69155e62",
   "metadata": {},
   "outputs": [
    {
     "name": "stdout",
     "output_type": "stream",
     "text": [
      "Page - Exists: True\n"
     ]
    }
   ],
   "source": [
    "page_py = wiki_wiki.page('earth day')\n",
    "print(\"Page - Exists: %s\" % page_py.exists())"
   ]
  },
  {
   "cell_type": "code",
   "execution_count": 180,
   "id": "03da013e",
   "metadata": {},
   "outputs": [
    {
     "name": "stdout",
     "output_type": "stream",
     "text": [
      "Page - Summary: Earth Day is an annual event on April 22 to demonstrate support for environmental protection. First held on April 22, 1970, it now includes a wide range of events coordinated globally by EarthDay.org (formerly Earth Day Network) including 1 billion people in more than 193 countries. The official theme for 2022 is Invest In Our Planet.In 1969 at a UNESCO Conference in San Francisco, peace activist John McConnell proposed a day to honor the Earth and the concept of peace, to first be observed on March 21, 1970, the first day of spring in the northern hemisphere. This day of nature's equipoise was later sanctioned in a proclamation written by McConnell and signed by Secretary General U Thant at the United Nations. A month later, United States Senator Gaylord Nelson proposed the idea to hold a\n"
     ]
    }
   ],
   "source": [
    "print(\"Page - Summary: %s\" % page_py.summary[0:800])"
   ]
  },
  {
   "cell_type": "code",
   "execution_count": null,
   "id": "7d9bbcf6",
   "metadata": {},
   "outputs": [],
   "source": []
  },
  {
   "cell_type": "code",
   "execution_count": 181,
   "id": "751e1ccb",
   "metadata": {},
   "outputs": [
    {
     "name": "stdout",
     "output_type": "stream",
     "text": [
      "Page - Exists: False\n"
     ]
    }
   ],
   "source": [
    "page_py = wiki_wiki.page('climate brawl')    #################\n",
    "print(\"Page - Exists: %s\" % page_py.exists())"
   ]
  },
  {
   "cell_type": "code",
   "execution_count": null,
   "id": "a64fdd9f",
   "metadata": {},
   "outputs": [],
   "source": [
    "print(\"Page - Summary: %s\" % page_py.summary[0:800])"
   ]
  },
  {
   "cell_type": "code",
   "execution_count": null,
   "id": "a75f78ca",
   "metadata": {},
   "outputs": [],
   "source": []
  },
  {
   "cell_type": "code",
   "execution_count": 184,
   "id": "e5a6e91c",
   "metadata": {},
   "outputs": [
    {
     "name": "stdout",
     "output_type": "stream",
     "text": [
      "Page - Exists: True\n"
     ]
    }
   ],
   "source": [
    "page_py = wiki_wiki.page('Donald Trump')\n",
    "print(\"Page - Exists: %s\" % page_py.exists())"
   ]
  },
  {
   "cell_type": "code",
   "execution_count": 185,
   "id": "1ba63af7",
   "metadata": {},
   "outputs": [
    {
     "name": "stdout",
     "output_type": "stream",
     "text": [
      "Page - Summary: Donald John Trump (born June 14, 1946) is an American politician, media personality, and businessman who served as the 45th president of the United States from 2017 to 2021.\n",
      "Trump graduated from the Wharton School of the University of Pennsylvania with a bachelor's degree in 1968. He became president of his father Fred Trump's real estate business in 1971 and renamed it The Trump Organization. Trump expanded the company's operations to building and renovating skyscrapers, hotels, casinos, and golf courses. He later started side ventures, mostly by licensing his name. From 2004 to 2015, he co-produced and hosted the reality television series The Apprentice. Trump and his businesses have been involved in more than 4,000 state and federal legal actions, including six bankruptcies.\n",
      "Trump's pol\n"
     ]
    }
   ],
   "source": [
    "print(\"Page - Summary: %s\" % page_py.summary[0:800])"
   ]
  },
  {
   "cell_type": "code",
   "execution_count": null,
   "id": "00e3fae0",
   "metadata": {},
   "outputs": [],
   "source": []
  },
  {
   "cell_type": "code",
   "execution_count": 186,
   "id": "d910eb65",
   "metadata": {},
   "outputs": [
    {
     "name": "stdout",
     "output_type": "stream",
     "text": [
      "Page - Exists: True\n"
     ]
    }
   ],
   "source": [
    "page_py = wiki_wiki.page('innovation')\n",
    "print(\"Page - Exists: %s\" % page_py.exists())"
   ]
  },
  {
   "cell_type": "code",
   "execution_count": 187,
   "id": "38fca6fa",
   "metadata": {},
   "outputs": [
    {
     "name": "stdout",
     "output_type": "stream",
     "text": [
      "Page - Summary: Innovation is the practical implementation of ideas that result in the introduction of new goods or services or improvement in offering goods or services. ISO TC 279 in the standard ISO 56000:2020  defines innovation as \"a new or changed entity realizing or redistributing value\". Others have different definitions; a common element in the definitions is a focus on newness, improvement, and spread of ideas or technologies.\n",
      "Innovation often takes place through the development of more-effective products, processes, services, technologies, art works\n",
      "or business models that innovators make available to markets, governments and society. Innovation is related to, but not the same as, invention: innovation is more apt to involve the practical implementation of an invention (i.e. new / improved abil\n"
     ]
    }
   ],
   "source": [
    "print(\"Page - Summary: %s\" % page_py.summary[0:800])"
   ]
  },
  {
   "cell_type": "code",
   "execution_count": null,
   "id": "8ca2bcda",
   "metadata": {},
   "outputs": [],
   "source": []
  },
  {
   "cell_type": "code",
   "execution_count": 189,
   "id": "73dcb569",
   "metadata": {},
   "outputs": [
    {
     "name": "stdout",
     "output_type": "stream",
     "text": [
      "Page - Exists: False\n"
     ]
    }
   ],
   "source": [
    "page_py = wiki_wiki.page('no nazis')\n",
    "print(\"Page - Exists: %s\" % page_py.exists())"
   ]
  },
  {
   "cell_type": "code",
   "execution_count": null,
   "id": "6ccf7a56",
   "metadata": {},
   "outputs": [],
   "source": [
    "print(\"Page - Summary: %s\" % page_py.summary[0:800])"
   ]
  },
  {
   "cell_type": "code",
   "execution_count": null,
   "id": "bae6fb24",
   "metadata": {},
   "outputs": [],
   "source": []
  },
  {
   "cell_type": "code",
   "execution_count": 190,
   "id": "fe393eed",
   "metadata": {},
   "outputs": [
    {
     "name": "stdout",
     "output_type": "stream",
     "text": [
      "Page - Exists: True\n"
     ]
    }
   ],
   "source": [
    "page_py = wiki_wiki.page('clima')\n",
    "print(\"Page - Exists: %s\" % page_py.exists())"
   ]
  },
  {
   "cell_type": "code",
   "execution_count": 191,
   "id": "b8ddea01",
   "metadata": {},
   "outputs": [
    {
     "name": "stdout",
     "output_type": "stream",
     "text": [
      "Page - Summary: Clima (Portuguese: Climate) was a cultural magazine published in Sao Paulo, Brazil. Ismail Xavier argues that although it existed for a brief period from 1941 to 1944, the magazine significantly influenced cultural criticism in Brazil.\n"
     ]
    }
   ],
   "source": [
    "print(\"Page - Summary: %s\" % page_py.summary[0:800])"
   ]
  },
  {
   "cell_type": "code",
   "execution_count": null,
   "id": "19907922",
   "metadata": {},
   "outputs": [],
   "source": []
  },
  {
   "cell_type": "code",
   "execution_count": 192,
   "id": "612a7ab4",
   "metadata": {},
   "outputs": [
    {
     "name": "stdout",
     "output_type": "stream",
     "text": [
      "Page - Exists: False\n"
     ]
    }
   ],
   "source": [
    "page_py = wiki_wiki.page('fight climate in justice')  #######\n",
    "print(\"Page - Exists: %s\" % page_py.exists())"
   ]
  },
  {
   "cell_type": "code",
   "execution_count": null,
   "id": "dd0f84c2",
   "metadata": {},
   "outputs": [],
   "source": [
    "print(\"Page - Summary: %s\" % page_py.summary[0:800])"
   ]
  },
  {
   "cell_type": "code",
   "execution_count": null,
   "id": "1854ea73",
   "metadata": {},
   "outputs": [],
   "source": []
  },
  {
   "cell_type": "code",
   "execution_count": 193,
   "id": "10cbdddd",
   "metadata": {},
   "outputs": [
    {
     "name": "stdout",
     "output_type": "stream",
     "text": [
      "Page - Exists: False\n"
     ]
    }
   ],
   "source": [
    "page_py = wiki_wiki.page('system change')                ######\n",
    "print(\"Page - Exists: %s\" % page_py.exists())"
   ]
  },
  {
   "cell_type": "code",
   "execution_count": null,
   "id": "2ed9f697",
   "metadata": {},
   "outputs": [],
   "source": [
    "print(\"Page - Summary: %s\" % page_py.summary[0:800])"
   ]
  },
  {
   "cell_type": "code",
   "execution_count": null,
   "id": "c533272c",
   "metadata": {},
   "outputs": [],
   "source": []
  },
  {
   "cell_type": "code",
   "execution_count": 194,
   "id": "81c56b07",
   "metadata": {},
   "outputs": [
    {
     "name": "stdout",
     "output_type": "stream",
     "text": [
      "Page - Exists: True\n"
     ]
    }
   ],
   "source": [
    "page_py = wiki_wiki.page('earth strike')\n",
    "print(\"Page - Exists: %s\" % page_py.exists())"
   ]
  },
  {
   "cell_type": "code",
   "execution_count": 195,
   "id": "b3b41001",
   "metadata": {},
   "outputs": [
    {
     "name": "stdout",
     "output_type": "stream",
     "text": [
      "Page - Summary: Earth Strike is an international grassroots movement that called for a global general strike for climate action. Their aim was a global general strike lasting from 20 until 27 September 2019. The movement has had public support from organizations including Extinction Rebellion and Fridays for Future, as well as public figures including Noam Chomsky. The Earth Strikes were part of the worldwide September 2019 climate strikes, which gathered millions of protesters.\n",
      "An estimated 6 million people participated in strikes worldwide from 20–27 September. Youth environmental activist Greta Thunberg spoke in New York on the 20 September strike and Montreal on the 27 September strike.\n"
     ]
    }
   ],
   "source": [
    "print(\"Page - Summary: %s\" % page_py.summary[0:800])"
   ]
  },
  {
   "cell_type": "code",
   "execution_count": null,
   "id": "b9e70223",
   "metadata": {},
   "outputs": [],
   "source": []
  },
  {
   "cell_type": "code",
   "execution_count": 196,
   "id": "24053340",
   "metadata": {},
   "outputs": [
    {
     "name": "stdout",
     "output_type": "stream",
     "text": [
      "Page - Exists: True\n"
     ]
    }
   ],
   "source": [
    "page_py = wiki_wiki.page('photography')\n",
    "print(\"Page - Exists: %s\" % page_py.exists())"
   ]
  },
  {
   "cell_type": "code",
   "execution_count": 197,
   "id": "79a037a8",
   "metadata": {},
   "outputs": [
    {
     "name": "stdout",
     "output_type": "stream",
     "text": [
      "Page - Summary: Photography is the art, application, and practice of creating durable images by recording light, either electronically by means of an image sensor, or chemically by means of a light-sensitive material such as photographic film. It is employed in many fields of science, manufacturing (e.g., photolithography), and business, as well as its more direct uses for art, film and video production, recreational purposes, hobby, and mass communication.Typically, a lens is used to focus the light reflected or emitted from objects into a real image on the light-sensitive surface inside a camera during a timed exposure. With an electronic image sensor, this produces an electrical charge at each pixel, which is electronically processed and stored in a digital image file for subsequent display or processi\n"
     ]
    }
   ],
   "source": [
    "print(\"Page - Summary: %s\" % page_py.summary[0:800])"
   ]
  },
  {
   "cell_type": "code",
   "execution_count": null,
   "id": "7ca9e173",
   "metadata": {},
   "outputs": [],
   "source": []
  },
  {
   "cell_type": "code",
   "execution_count": 200,
   "id": "6b6055c8",
   "metadata": {},
   "outputs": [
    {
     "name": "stdout",
     "output_type": "stream",
     "text": [
      "Page - Exists: False\n"
     ]
    }
   ],
   "source": [
    "page_py = wiki_wiki.page('youth strike 4 climate')    ##slogan\n",
    "print(\"Page - Exists: %s\" % page_py.exists())"
   ]
  },
  {
   "cell_type": "code",
   "execution_count": null,
   "id": "c598a81e",
   "metadata": {},
   "outputs": [],
   "source": [
    "print(\"Page - Summary: %s\" % page_py.summary[0:800])"
   ]
  },
  {
   "cell_type": "code",
   "execution_count": null,
   "id": "0cd4494f",
   "metadata": {},
   "outputs": [],
   "source": []
  },
  {
   "cell_type": "code",
   "execution_count": 201,
   "id": "6a1457cd",
   "metadata": {},
   "outputs": [
    {
     "name": "stdout",
     "output_type": "stream",
     "text": [
      "Page - Exists: True\n"
     ]
    }
   ],
   "source": [
    "page_py = wiki_wiki.page('comics')\n",
    "print(\"Page - Exists: %s\" % page_py.exists())"
   ]
  },
  {
   "cell_type": "code",
   "execution_count": 202,
   "id": "f40f5b01",
   "metadata": {},
   "outputs": [
    {
     "name": "stdout",
     "output_type": "stream",
     "text": [
      "Page - Summary: Comics is a medium used to express ideas with images, often combined with text or other visual information. It typically takes the form of a sequence of panels of images. Textual devices such as speech balloons, captions, and onomatopoeia can indicate dialogue, narration, sound effects, or other information. There is no consensus amongst theorists and historians on a definition of comics; some emphasize the combination of images and text, some sequentiality or other image relations, and others historical aspects such as mass reproduction or the use of recurring characters. Cartooning and other forms of illustration are the most common image-making means in comics; fumetti is a form that uses photographic images. Common forms include comic strips, editorial and gag cartoons, and comic books\n"
     ]
    }
   ],
   "source": [
    "print(\"Page - Summary: %s\" % page_py.summary[0:800])"
   ]
  },
  {
   "cell_type": "code",
   "execution_count": null,
   "id": "5e07a953",
   "metadata": {},
   "outputs": [],
   "source": []
  },
  {
   "cell_type": "code",
   "execution_count": 204,
   "id": "60b30b5f",
   "metadata": {},
   "outputs": [
    {
     "name": "stdout",
     "output_type": "stream",
     "text": [
      "Page - Exists: True\n"
     ]
    }
   ],
   "source": [
    "page_py = wiki_wiki.page('green')\n",
    "print(\"Page - Exists: %s\" % page_py.exists())"
   ]
  },
  {
   "cell_type": "code",
   "execution_count": 205,
   "id": "a411a933",
   "metadata": {},
   "outputs": [
    {
     "name": "stdout",
     "output_type": "stream",
     "text": [
      "Page - Summary: Green is the color between cyan and yellow on the visible spectrum. It is evoked by light which has a dominant wavelength of roughly 495–570 nm. In subtractive color systems, used in painting and color printing, it is created by a combination of yellow and cyan; in the RGB color model, used on television and computer screens, it is one of the additive primary colors, along with red and blue, which are mixed in different combinations to create all other colors. By far the largest contributor to green in nature is chlorophyll, the chemical by which plants photosynthesize and convert sunlight into chemical energy. Many creatures have adapted to their green environments by taking on a green hue themselves as camouflage. Several minerals have a green color, including the emerald, which is color\n"
     ]
    }
   ],
   "source": [
    "print(\"Page - Summary: %s\" % page_py.summary[0:800])     ### NON PENSO INTENDA IL COLORE"
   ]
  },
  {
   "cell_type": "code",
   "execution_count": null,
   "id": "2a82ab69",
   "metadata": {},
   "outputs": [],
   "source": []
  },
  {
   "cell_type": "code",
   "execution_count": 206,
   "id": "b0744d62",
   "metadata": {},
   "outputs": [
    {
     "name": "stdout",
     "output_type": "stream",
     "text": [
      "Page - Exists: True\n"
     ]
    }
   ],
   "source": [
    "page_py = wiki_wiki.page('australia')\n",
    "print(\"Page - Exists: %s\" % page_py.exists())"
   ]
  },
  {
   "cell_type": "code",
   "execution_count": 207,
   "id": "a3ec5a9b",
   "metadata": {},
   "outputs": [
    {
     "name": "stdout",
     "output_type": "stream",
     "text": [
      "Page - Summary: Australia, officially the Commonwealth of Australia, is a sovereign country comprising the mainland of the Australian continent, the island of Tasmania, and numerous smaller islands. With an area of 7,617,930 square kilometres (2,941,300 sq mi), Australia is the largest country by area in Oceania and the world's sixth-largest country. Australia is the oldest, flattest, and driest inhabited continent, with the least fertile soils. It is a megadiverse country, and its size gives it a wide variety of landscapes and climates, with deserts in the centre, tropical rainforests in the north-east, and mountain ranges in the south-east.\n",
      "Indigenous Australians have inhabited the continent for approximately 65,000 years. The European maritime exploration of Australia commenced in the early 17th centur\n"
     ]
    }
   ],
   "source": [
    "print(\"Page - Summary: %s\" % page_py.summary[0:800])"
   ]
  },
  {
   "cell_type": "code",
   "execution_count": null,
   "id": "153670f1",
   "metadata": {},
   "outputs": [],
   "source": []
  },
  {
   "cell_type": "code",
   "execution_count": 208,
   "id": "162b87c9",
   "metadata": {},
   "outputs": [
    {
     "name": "stdout",
     "output_type": "stream",
     "text": [
      "Page - Exists: True\n"
     ]
    }
   ],
   "source": [
    "page_py = wiki_wiki.page('school strike')\n",
    "print(\"Page - Exists: %s\" % page_py.exists())"
   ]
  },
  {
   "cell_type": "code",
   "execution_count": 209,
   "id": "17329682",
   "metadata": {},
   "outputs": [
    {
     "name": "stdout",
     "output_type": "stream",
     "text": [
      "Page - Summary: School Strike for Climate (Swedish: Skolstrejk för klimatet), also known variously as Fridays for Future (FFF), Youth for Climate, Climate Strike or Youth Strike for Climate, is an international movement of school students who skip Friday classes to participate in demonstrations to demand action from political leaders to prevent climate change and for the fossil fuel industry to transition to renewable energy.\n",
      "Publicity and widespread organising began after Swedish pupil Greta Thunberg staged a protest in August 2018 outside of the Swedish Riksdag (parliament), holding a sign that read \"Skolstrejk för klimatet\" (\"School strike for climate\").A global strike on 15 March 2019 gathered more than one million strikers in 2,200 strikes organised in 125 countries. On 24 May 2019, in the second glo\n"
     ]
    }
   ],
   "source": [
    "print(\"Page - Summary: %s\" % page_py.summary[0:800])"
   ]
  },
  {
   "cell_type": "code",
   "execution_count": null,
   "id": "2324dcc1",
   "metadata": {},
   "outputs": [],
   "source": []
  },
  {
   "cell_type": "code",
   "execution_count": 210,
   "id": "8e975077",
   "metadata": {},
   "outputs": [
    {
     "name": "stdout",
     "output_type": "stream",
     "text": [
      "Page - Exists: True\n"
     ]
    }
   ],
   "source": [
    "page_py = wiki_wiki.page('food')\n",
    "print(\"Page - Exists: %s\" % page_py.exists())"
   ]
  },
  {
   "cell_type": "code",
   "execution_count": 211,
   "id": "d732123b",
   "metadata": {},
   "outputs": [
    {
     "name": "stdout",
     "output_type": "stream",
     "text": [
      "Page - Summary: Food is any substance consumed to provide nutritional support for an organism. Food is usually of plant, animal, or fungal origin, and contains essential nutrients, such as carbohydrates, fats, proteins, vitamins, or minerals. The substance is ingested by an organism and assimilated by the organism's cells to provide energy, maintain life, or stimulate growth. Different species of animals have different feeding behaviours that satisfy the needs of their unique metabolisms, often evolved to fill a specific ecological niche within specific geographical contexts.\n",
      "Omnivorous humans are highly adaptable and have adapted to obtain food in many different ecosystems. Historically, humans secured food through two main methods: hunting and gathering and agriculture. As agricultural technologies incr\n"
     ]
    }
   ],
   "source": [
    "print(\"Page - Summary: %s\" % page_py.summary[0:800])"
   ]
  },
  {
   "cell_type": "code",
   "execution_count": null,
   "id": "d686ec01",
   "metadata": {},
   "outputs": [],
   "source": []
  },
  {
   "cell_type": "code",
   "execution_count": 222,
   "id": "fd323abe",
   "metadata": {},
   "outputs": [
    {
     "name": "stdout",
     "output_type": "stream",
     "text": [
      "Page - Exists: True\n"
     ]
    }
   ],
   "source": [
    "page_py = wiki_wiki.page('technology')      ### ERA TECH \n",
    "print(\"Page - Exists: %s\" % page_py.exists())"
   ]
  },
  {
   "cell_type": "code",
   "execution_count": 223,
   "id": "b1d4fe79",
   "metadata": {},
   "outputs": [
    {
     "name": "stdout",
     "output_type": "stream",
     "text": [
      "Page - Summary: Technology is the result of accumulated knowledge and application of skills, methods, and processes used in industrial production and scientific research. Technology is embedded in the operation of all machines, with or without detailed knowledge of their function, for the intended purpose of an organization. The technologies of society consist of what is known as systems. Systems operate by obtaining an input, altering this input through what is known as a process, and then producing an outcome that achieves the intended purpose of the system.\n",
      "The earliest and simplest form of technology is the development of knowledge that leads to the application of basic tools. The prehistoric invention of shaped stone tools and the discovery of how to control fire increased the sources of food that we\n"
     ]
    }
   ],
   "source": [
    "print(\"Page - Summary: %s\" % page_py.summary[0:800])"
   ]
  },
  {
   "cell_type": "code",
   "execution_count": null,
   "id": "3239ad02",
   "metadata": {},
   "outputs": [],
   "source": []
  },
  {
   "cell_type": "code",
   "execution_count": 224,
   "id": "c6ba7285",
   "metadata": {},
   "outputs": [
    {
     "name": "stdout",
     "output_type": "stream",
     "text": [
      "Page - Exists: True\n"
     ]
    }
   ],
   "source": [
    "page_py = wiki_wiki.page('sustainable')\n",
    "print(\"Page - Exists: %s\" % page_py.exists())"
   ]
  },
  {
   "cell_type": "code",
   "execution_count": 225,
   "id": "fd72e200",
   "metadata": {},
   "outputs": [
    {
     "name": "stdout",
     "output_type": "stream",
     "text": [
      "Page - Summary: Sustainability is a societal goal that broadly aims for humans to safely co-exist on planet Earth over a long time. Specific definitions of sustainability are difficult to agree on and therefore vary in the literature and over time. Sustainability is commonly described along the lines of three dimensions (also called pillars): environmental, economic and social. This concept can be used to guide decisions at the global, national and at the individual level (e.g. sustainable living). In everyday usage, sustainability is often focused mostly on the environmental aspects so that \"sustainability\" becomes the same as \"environmental sustainability\". Consideration of human impacts on the environment and work to reduce negative impacts are linked to improving environmental sustainability.: 34  The\n"
     ]
    }
   ],
   "source": [
    "print(\"Page - Summary: %s\" % page_py.summary[0:800])"
   ]
  },
  {
   "cell_type": "code",
   "execution_count": null,
   "id": "5f5605bf",
   "metadata": {},
   "outputs": [],
   "source": []
  },
  {
   "cell_type": "code",
   "execution_count": 227,
   "id": "0422aee8",
   "metadata": {},
   "outputs": [
    {
     "name": "stdout",
     "output_type": "stream",
     "text": [
      "Page - Exists: True\n"
     ]
    }
   ],
   "source": [
    "page_py = wiki_wiki.page('green energy')\n",
    "print(\"Page - Exists: %s\" % page_py.exists())"
   ]
  },
  {
   "cell_type": "code",
   "execution_count": 228,
   "id": "e1677e1b",
   "metadata": {},
   "outputs": [
    {
     "name": "stdout",
     "output_type": "stream",
     "text": [
      "Page - Summary: Energy is sustainable if it \"meets the needs of the present without compromising the ability of future generations to meet their own needs\".  Most definitions of sustainable energy include considerations of environmental aspects such as greenhouse gas emissions and social and economic aspects such as energy poverty. Renewable energy sources such as wind, hydroelectric power, solar, and geothermal energy are generally far more sustainable than fossil fuel sources. However, some renewable energy projects, such as the clearing of forests to produce biofuels, can cause severe environmental damage. The role of non-renewable energy sources in sustainable energy has been controversial. Nuclear power is a low-carbon source whose historic mortality rates are comparable to wind and solar, but its su\n"
     ]
    }
   ],
   "source": [
    "print(\"Page - Summary: %s\" % page_py.summary[0:800])"
   ]
  },
  {
   "cell_type": "code",
   "execution_count": null,
   "id": "bc48adcf",
   "metadata": {},
   "outputs": [],
   "source": []
  },
  {
   "cell_type": "code",
   "execution_count": 229,
   "id": "37a22a82",
   "metadata": {},
   "outputs": [
    {
     "name": "stdout",
     "output_type": "stream",
     "text": [
      "Page - Exists: True\n"
     ]
    }
   ],
   "source": [
    "page_py = wiki_wiki.page('life')\n",
    "print(\"Page - Exists: %s\" % page_py.exists())"
   ]
  },
  {
   "cell_type": "code",
   "execution_count": 230,
   "id": "657c7a2e",
   "metadata": {},
   "outputs": [
    {
     "name": "stdout",
     "output_type": "stream",
     "text": [
      "Page - Summary: Life is a characteristic that distinguishes physical entities that have biological processes, such as signaling and self-sustaining processes, from those that do not, either because such functions have ceased (they have died) or because they never had such functions and are classified as inanimate. Various forms of life exist, such as plants, animals, fungi, protists, archaea, and bacteria. Biology is the science that studies life.\n",
      "\n",
      "There is currently no consensus regarding the definition of life. One popular definition is that organisms are open systems that maintain homeostasis, are composed of cells, have a life cycle, undergo metabolism, can grow, adapt to their environment, respond to stimuli, reproduce and evolve. Other definitions sometimes include non-cellular life forms such as vi\n"
     ]
    }
   ],
   "source": [
    "print(\"Page - Summary: %s\" % page_py.summary[0:800])"
   ]
  },
  {
   "cell_type": "code",
   "execution_count": null,
   "id": "f94e7d47",
   "metadata": {},
   "outputs": [],
   "source": []
  },
  {
   "cell_type": "code",
   "execution_count": 231,
   "id": "738d4a96",
   "metadata": {},
   "outputs": [
    {
     "name": "stdout",
     "output_type": "stream",
     "text": [
      "Page - Exists: True\n"
     ]
    }
   ],
   "source": [
    "page_py = wiki_wiki.page('weekend')\n",
    "print(\"Page - Exists: %s\" % page_py.exists())"
   ]
  },
  {
   "cell_type": "code",
   "execution_count": 232,
   "id": "fef325bd",
   "metadata": {},
   "outputs": [
    {
     "name": "stdout",
     "output_type": "stream",
     "text": [
      "Page - Summary: The weekdays and weekend are the complementary parts of the week devoted to labour and rest, respectively. The legal weekdays (British English), or workweek (American English), is the part of the seven-day week devoted to working. In most of the world, the workweek is from Monday to Friday and the weekend is Saturday and Sunday. A weekday or workday is any day of the working week. Other institutions often follow this pattern, such as places of education. The constituted weekend has varying definitions, based on determined calendar days, designated period of time, and/or regional definition of the working week (e.g., commencing after 5:00 p.m. on Friday and lasting until 6:00 p.m. on Sunday). Sometimes the term \"weekend\" is expanded to include the time after work hours on the last workday o\n"
     ]
    }
   ],
   "source": [
    "print(\"Page - Summary: %s\" % page_py.summary[0:800])"
   ]
  },
  {
   "cell_type": "code",
   "execution_count": null,
   "id": "bf538eef",
   "metadata": {},
   "outputs": [],
   "source": []
  },
  {
   "cell_type": "code",
   "execution_count": 235,
   "id": "66cd78ab",
   "metadata": {},
   "outputs": [
    {
     "name": "stdout",
     "output_type": "stream",
     "text": [
      "Page - Exists: True\n"
     ]
    }
   ],
   "source": [
    "page_py = wiki_wiki.page('electric vehicles')   ##EV\n",
    "print(\"Page - Exists: %s\" % page_py.exists())"
   ]
  },
  {
   "cell_type": "code",
   "execution_count": 236,
   "id": "bd962b56",
   "metadata": {},
   "outputs": [
    {
     "name": "stdout",
     "output_type": "stream",
     "text": [
      "Page - Summary: An electric vehicle (EV) is a vehicle that uses one or more electric motors for propulsion. It can be powered by a collector system, with electricity from extravehicular sources, or it can be powered autonomously by a battery (sometimes charged by solar panels, or by converting fuel to electricity using fuel cells or a generator). EVs include, but are not limited to, road and rail vehicles, surface and underwater vessels, electric aircraft and electric spacecraft.\n",
      "EVs first came into existence in the mid-19th century, when electricity was among the preferred methods for motor vehicle propulsion, providing a level of comfort and ease of operation that could not be achieved by the gasoline cars of the time. Internal combustion engines were the dominant propulsion method for cars and trucks f\n"
     ]
    }
   ],
   "source": [
    "print(\"Page - Summary: %s\" % page_py.summary[0:800])"
   ]
  },
  {
   "cell_type": "code",
   "execution_count": null,
   "id": "7429e347",
   "metadata": {},
   "outputs": [],
   "source": []
  },
  {
   "cell_type": "code",
   "execution_count": 241,
   "id": "d463eb35",
   "metadata": {},
   "outputs": [
    {
     "name": "stdout",
     "output_type": "stream",
     "text": [
      "Page - Exists: True\n"
     ]
    }
   ],
   "source": [
    "page_py = wiki_wiki.page('coal')\n",
    "print(\"Page - Exists: %s\" % page_py.exists())"
   ]
  },
  {
   "cell_type": "code",
   "execution_count": 242,
   "id": "f8c2d65a",
   "metadata": {},
   "outputs": [
    {
     "name": "stdout",
     "output_type": "stream",
     "text": [
      "Page - Summary: Coal is a combustible black or brownish-black sedimentary rock, formed as rock strata called coal seams. Coal is mostly carbon with variable amounts of other elements, chiefly hydrogen, sulfur, oxygen, and nitrogen.\n",
      "Coal is formed when dead plant matter decays into peat and is converted into coal by the heat and pressure of deep burial over millions of years. Vast deposits of coal originate in former wetlands—called coal forests—that covered much of the Earth's tropical land areas during the late Carboniferous (Pennsylvanian) and Permian times. However, many significant coal deposits are younger than this and originate from the Mesozoic and Cenozoic eras.\n",
      "Coal is primarily used as a fuel. While coal has been known and used for thousands of years, its usage was limited until the Industrial \n"
     ]
    }
   ],
   "source": [
    "print(\"Page - Summary: %s\" % page_py.summary[0:800])"
   ]
  },
  {
   "cell_type": "code",
   "execution_count": null,
   "id": "acccafa9",
   "metadata": {},
   "outputs": [],
   "source": []
  },
  {
   "cell_type": "code",
   "execution_count": 255,
   "id": "a98e9dd8",
   "metadata": {},
   "outputs": [
    {
     "name": "stdout",
     "output_type": "stream",
     "text": [
      "Page - Exists: True\n"
     ]
    }
   ],
   "source": [
    "page_py = wiki_wiki.page('germany')\n",
    "print(\"Page - Exists: %s\" % page_py.exists())"
   ]
  },
  {
   "cell_type": "code",
   "execution_count": 256,
   "id": "846699ba",
   "metadata": {},
   "outputs": [
    {
     "name": "stdout",
     "output_type": "stream",
     "text": [
      "Page - Summary: Germany (German: Deutschland, pronounced [ˈdɔʏtʃlant] (listen)), by formality the Federal Republic of Germany, is a country in Central Europe. It is the second most populous country in Europe after Russia, and the most populous member state of the European Union. Germany is situated between the Baltic and North seas to the north, and the Alps to the south; it covers an area of 357,022 square kilometres (137,847 sq mi), with a population of over 83 million within its 16 constituent states. Germany borders Denmark to the north, Poland and the Czech Republic to the east, Austria and Switzerland to the south, and France, Luxembourg, Belgium, and the Netherlands to the west. The nation's capital and largest city is Berlin and its financial centre is Frankfurt; the largest urban area is the Ruhr\n"
     ]
    }
   ],
   "source": [
    "print(\"Page - Summary: %s\" % page_py.summary[0:800])"
   ]
  },
  {
   "cell_type": "code",
   "execution_count": null,
   "id": "446419a1",
   "metadata": {},
   "outputs": [],
   "source": []
  },
  {
   "cell_type": "code",
   "execution_count": 257,
   "id": "e647659e",
   "metadata": {},
   "outputs": [
    {
     "name": "stdout",
     "output_type": "stream",
     "text": [
      "Page - Exists: False\n"
     ]
    }
   ],
   "source": [
    "page_py = wiki_wiki.page('climate break down')     ############\n",
    "print(\"Page - Exists: %s\" % page_py.exists())"
   ]
  },
  {
   "cell_type": "code",
   "execution_count": null,
   "id": "38c30c3c",
   "metadata": {},
   "outputs": [],
   "source": [
    "print(\"Page - Summary: %s\" % page_py.summary[0:800])"
   ]
  },
  {
   "cell_type": "code",
   "execution_count": null,
   "id": "72f77110",
   "metadata": {},
   "outputs": [],
   "source": []
  },
  {
   "cell_type": "code",
   "execution_count": 258,
   "id": "fbfc1442",
   "metadata": {},
   "outputs": [
    {
     "name": "stdout",
     "output_type": "stream",
     "text": [
      "Page - Exists: True\n"
     ]
    }
   ],
   "source": [
    "page_py = wiki_wiki.page('usa')\n",
    "print(\"Page - Exists: %s\" % page_py.exists())"
   ]
  },
  {
   "cell_type": "code",
   "execution_count": 259,
   "id": "2e4d534b",
   "metadata": {},
   "outputs": [
    {
     "name": "stdout",
     "output_type": "stream",
     "text": [
      "Page - Summary: The United States of America (U.S.A. or USA), commonly known as the United States (U.S. or US) or America, is a transcontinental country primarily located in North America. It consists of 50 states, a federal district, five major unincorporated territories, 326 Indian reservations, and nine minor outlying islands. It is the third-largest country by both land and total area. The United States shares land borders with Canada to the north and with Mexico to the south as well as maritime borders with the Bahamas, Cuba, and Russia, among others. With more than 331 million people, it is the third most populous country in the world. The national capital is Washington, D.C., and the most populous city and financial center is New York City.\n",
      "Paleo-Indians migrated from Siberia to the North American \n"
     ]
    }
   ],
   "source": [
    "print(\"Page - Summary: %s\" % page_py.summary[0:800])"
   ]
  },
  {
   "cell_type": "code",
   "execution_count": null,
   "id": "221f0391",
   "metadata": {},
   "outputs": [],
   "source": []
  },
  {
   "cell_type": "code",
   "execution_count": 260,
   "id": "6346034f",
   "metadata": {},
   "outputs": [
    {
     "name": "stdout",
     "output_type": "stream",
     "text": [
      "Page - Exists: True\n"
     ]
    }
   ],
   "source": [
    "page_py = wiki_wiki.page('electric')\n",
    "print(\"Page - Exists: %s\" % page_py.exists())"
   ]
  },
  {
   "cell_type": "code",
   "execution_count": 261,
   "id": "e1afe2d2",
   "metadata": {},
   "outputs": [
    {
     "name": "stdout",
     "output_type": "stream",
     "text": [
      "Page - Summary: Electricity is the set of physical phenomena associated with the presence and motion of matter that has a property of electric charge. Electricity is related to magnetism, both being part of the phenomenon of electromagnetism, as described by Maxwell's equations. Various common phenomena are related to electricity, including lightning, static electricity, electric heating, electric discharges and many others.\n",
      "The presence of an electric charge, which can be either positive or negative, produces an electric field. The movement of electric charges is an electric current and produces a magnetic field.\n",
      "When a charge is placed in a location with a non-zero electric field, a force will act on it. The magnitude of this force is given by Coulomb's law. If the charge moves, the electric field would\n"
     ]
    }
   ],
   "source": [
    "print(\"Page - Summary: %s\" % page_py.summary[0:800])"
   ]
  },
  {
   "cell_type": "code",
   "execution_count": null,
   "id": "556c8093",
   "metadata": {},
   "outputs": [],
   "source": []
  },
  {
   "cell_type": "code",
   "execution_count": 262,
   "id": "40bb87e2",
   "metadata": {},
   "outputs": [
    {
     "name": "stdout",
     "output_type": "stream",
     "text": [
      "Page - Exists: True\n"
     ]
    }
   ],
   "source": [
    "page_py = wiki_wiki.page('Luisa Neubauer')\n",
    "print(\"Page - Exists: %s\" % page_py.exists())"
   ]
  },
  {
   "cell_type": "code",
   "execution_count": 263,
   "id": "2e30a94b",
   "metadata": {},
   "outputs": [
    {
     "name": "stdout",
     "output_type": "stream",
     "text": [
      "Page - Summary: Luisa-Marie Neubauer (born 21 April 1996) is a German climate activist. She is one of the main organisers of the school strike for climate movement in Germany, where it is commonly referred to under its alternative name Fridays for Future. She advocates a climate policy that complies with and surpasses the Paris Agreement and endorses de-growth. Neubauer is a member of Alliance 90/The Greens and the Green Youth.\n"
     ]
    }
   ],
   "source": [
    "print(\"Page - Summary: %s\" % page_py.summary[0:800])"
   ]
  },
  {
   "cell_type": "code",
   "execution_count": null,
   "id": "88c19e62",
   "metadata": {},
   "outputs": [],
   "source": []
  },
  {
   "cell_type": "code",
   "execution_count": 264,
   "id": "72d94192",
   "metadata": {},
   "outputs": [
    {
     "name": "stdout",
     "output_type": "stream",
     "text": [
      "Page - Exists: True\n"
     ]
    }
   ],
   "source": [
    "page_py = wiki_wiki.page('Social Democratic Party of Germany') ## spd\n",
    "print(\"Page - Exists: %s\" % page_py.exists())"
   ]
  },
  {
   "cell_type": "code",
   "execution_count": 265,
   "id": "61410cb7",
   "metadata": {},
   "outputs": [
    {
     "name": "stdout",
     "output_type": "stream",
     "text": [
      "Page - Summary: The Social Democratic Party of Germany (German: Sozialdemokratische Partei Deutschlands, [zoˈtsi̯aːldemoˌkʁaːtɪʃə paʁˌtaɪ ˈdɔʏtʃlants]; SPD, German pronunciation: [ɛspeːˈdeː] (listen)) is a centre-left social democratic political party in Germany. It is one of the two major parties of contemporary Germany along with the Union parties (CDU/CSU).\n",
      "Saskia Esken has been the party's leader since the 2019 leadership election together with Lars Klingbeil, who joined her in December 2021. After Olaf Scholz was elected Chancellor in 2021 the SPD became the leading party of the federal government, which the SPD formed with the Greens and FDP, after the 2021 federal election. The SPD is a member of 11 of the 16 German state governments and is a leading partner in seven of them.\n",
      "The SPD was establishe\n"
     ]
    }
   ],
   "source": [
    "print(\"Page - Summary: %s\" % page_py.summary[0:800])"
   ]
  },
  {
   "cell_type": "code",
   "execution_count": null,
   "id": "daf21f64",
   "metadata": {},
   "outputs": [],
   "source": []
  },
  {
   "cell_type": "code",
   "execution_count": 267,
   "id": "9d838e81",
   "metadata": {},
   "outputs": [
    {
     "name": "stdout",
     "output_type": "stream",
     "text": [
      "Page - Exists: True\n"
     ]
    }
   ],
   "source": [
    "page_py = wiki_wiki.page('school strike for climate')\n",
    "print(\"Page - Exists: %s\" % page_py.exists())"
   ]
  },
  {
   "cell_type": "code",
   "execution_count": 268,
   "id": "756cc35d",
   "metadata": {},
   "outputs": [
    {
     "name": "stdout",
     "output_type": "stream",
     "text": [
      "Page - Summary: School Strike for Climate (Swedish: Skolstrejk för klimatet), also known variously as Fridays for Future (FFF), Youth for Climate, Climate Strike or Youth Strike for Climate, is an international movement of school students who skip Friday classes to participate in demonstrations to demand action from political leaders to prevent climate change and for the fossil fuel industry to transition to renewable energy.\n",
      "Publicity and widespread organising began after Swedish pupil Greta Thunberg staged a protest in August 2018 outside of the Swedish Riksdag (parliament), holding a sign that read \"Skolstrejk för klimatet\" (\"School strike for climate\").A global strike on 15 March 2019 gathered more than one million strikers in 2,200 strikes organised in 125 countries. On 24 May 2019, in the second glo\n"
     ]
    }
   ],
   "source": [
    "print(\"Page - Summary: %s\" % page_py.summary[0:800])"
   ]
  },
  {
   "cell_type": "code",
   "execution_count": null,
   "id": "357a8284",
   "metadata": {},
   "outputs": [],
   "source": []
  },
  {
   "cell_type": "code",
   "execution_count": 269,
   "id": "0c50c42e",
   "metadata": {},
   "outputs": [
    {
     "name": "stdout",
     "output_type": "stream",
     "text": [
      "Page - Exists: True\n"
     ]
    }
   ],
   "source": [
    "page_py = wiki_wiki.page('beautiful')\n",
    "print(\"Page - Exists: %s\" % page_py.exists())"
   ]
  },
  {
   "cell_type": "code",
   "execution_count": 270,
   "id": "9ed8f875",
   "metadata": {},
   "outputs": [
    {
     "name": "stdout",
     "output_type": "stream",
     "text": [
      "Page - Summary: Beautiful, an adjective used to describe things as possessing beauty, may refer to:\n"
     ]
    }
   ],
   "source": [
    "print(\"Page - Summary: %s\" % page_py.summary[0:800])"
   ]
  },
  {
   "cell_type": "code",
   "execution_count": null,
   "id": "49f86c4a",
   "metadata": {},
   "outputs": [],
   "source": []
  },
  {
   "cell_type": "code",
   "execution_count": 271,
   "id": "9aa83f94",
   "metadata": {},
   "outputs": [
    {
     "name": "stdout",
     "output_type": "stream",
     "text": [
      "Page - Exists: True\n"
     ]
    }
   ],
   "source": [
    "page_py = wiki_wiki.page('stayhome')\n",
    "print(\"Page - Exists: %s\" % page_py.exists())"
   ]
  },
  {
   "cell_type": "code",
   "execution_count": 272,
   "id": "7a81c032",
   "metadata": {},
   "outputs": [
    {
     "name": "stdout",
     "output_type": "stream",
     "text": [
      "Page - Summary: In public health, social distancing, also called physical distancing, is a set of non-pharmaceutical interventions or measures intended to prevent the spread of a contagious disease by maintaining a physical distance between people and reducing the number of times people come into close contact with each other. It usually involves keeping a certain distance from others (the distance specified differs from country to country and can change with time) and avoiding gathering together in large groups.By minimising the probability that a given uninfected person will come into physical contact with an infected person, the disease transmission can be suppressed, resulting in fewer deaths. The measures may be used in combination with others, such as good respiratory hygiene, face masks and hand wa\n"
     ]
    }
   ],
   "source": [
    "print(\"Page - Summary: %s\" % page_py.summary[0:800])"
   ]
  },
  {
   "cell_type": "code",
   "execution_count": null,
   "id": "60cf509e",
   "metadata": {},
   "outputs": [],
   "source": []
  },
  {
   "cell_type": "code",
   "execution_count": 273,
   "id": "074569a3",
   "metadata": {},
   "outputs": [
    {
     "name": "stdout",
     "output_type": "stream",
     "text": [
      "Page - Exists: False\n"
     ]
    }
   ],
   "source": [
    "page_py = wiki_wiki.page('plant based')     ############\n",
    "print(\"Page - Exists: %s\" % page_py.exists())"
   ]
  },
  {
   "cell_type": "code",
   "execution_count": null,
   "id": "28409d95",
   "metadata": {},
   "outputs": [],
   "source": [
    "print(\"Page - Summary: %s\" % page_py.summary[0:800])"
   ]
  },
  {
   "cell_type": "code",
   "execution_count": null,
   "id": "3dd642b2",
   "metadata": {},
   "outputs": [],
   "source": []
  },
  {
   "cell_type": "code",
   "execution_count": 274,
   "id": "3b7fdf7b",
   "metadata": {},
   "outputs": [
    {
     "name": "stdout",
     "output_type": "stream",
     "text": [
      "Page - Exists: False\n"
     ]
    }
   ],
   "source": [
    "page_py = wiki_wiki.page('with draw the cap')         #########\n",
    "print(\"Page - Exists: %s\" % page_py.exists())"
   ]
  },
  {
   "cell_type": "code",
   "execution_count": null,
   "id": "12910b96",
   "metadata": {},
   "outputs": [],
   "source": [
    "print(\"Page - Summary: %s\" % page_py.summary[0:800])"
   ]
  },
  {
   "cell_type": "code",
   "execution_count": null,
   "id": "f945d110",
   "metadata": {},
   "outputs": [],
   "source": []
  },
  {
   "cell_type": "code",
   "execution_count": 275,
   "id": "d8fd5dba",
   "metadata": {},
   "outputs": [
    {
     "name": "stdout",
     "output_type": "stream",
     "text": [
      "Page - Exists: True\n"
     ]
    }
   ],
   "source": [
    "page_py = wiki_wiki.page('madrid')\n",
    "print(\"Page - Exists: %s\" % page_py.exists())"
   ]
  },
  {
   "cell_type": "code",
   "execution_count": 276,
   "id": "1b215a45",
   "metadata": {},
   "outputs": [
    {
     "name": "stdout",
     "output_type": "stream",
     "text": [
      "Page - Summary: Madrid ( mə-DRID, Spanish: [maˈðɾið]) is the capital and most populous city of Spain. The city has almost 3.4 million inhabitants and a metropolitan area population of approximately 6.7 million. It is the second-largest city in the European Union (EU), and its monocentric metropolitan area is the second-largest in the EU. The municipality covers 604.3 km2 (233.3 sq mi) geographical area.Madrid lies on the River Manzanares in the central part of the Iberian Peninsula. Capital city of both Spain (almost without interruption since 1561) and the surrounding autonomous community of Madrid (since 1983), it is also the political, economic and cultural centre of the country. The city is situated on an elevated plain about 300 km (190 mi) from the closest seaside location. The climate of Madrid fea\n"
     ]
    }
   ],
   "source": [
    "print(\"Page - Summary: %s\" % page_py.summary[0:800])"
   ]
  },
  {
   "cell_type": "code",
   "execution_count": null,
   "id": "5917d531",
   "metadata": {},
   "outputs": [],
   "source": []
  },
  {
   "cell_type": "code",
   "execution_count": 277,
   "id": "fd3edfb1",
   "metadata": {},
   "outputs": [
    {
     "name": "stdout",
     "output_type": "stream",
     "text": [
      "Page - Exists: True\n"
     ]
    }
   ],
   "source": [
    "page_py = wiki_wiki.page('ecocide')\n",
    "print(\"Page - Exists: %s\" % page_py.exists())"
   ]
  },
  {
   "cell_type": "code",
   "execution_count": 278,
   "id": "1871b6af",
   "metadata": {},
   "outputs": [
    {
     "name": "stdout",
     "output_type": "stream",
     "text": [
      "Page - Summary: Ecocide is human impact on the environment causing mass destruction to that environment. \n",
      "Ten nations have codified ecocide as a crime. Activities that might constitute ecocide in these nations include substantially damaging or destroying ecosystems, or harming the health and well-being of a species, including humans. It has been proposed that ecocide be a crime punishable by the International Criminal Court.\n"
     ]
    }
   ],
   "source": [
    "print(\"Page - Summary: %s\" % page_py.summary[0:800])"
   ]
  },
  {
   "cell_type": "code",
   "execution_count": null,
   "id": "ee605981",
   "metadata": {},
   "outputs": [],
   "source": []
  },
  {
   "cell_type": "code",
   "execution_count": 280,
   "id": "8679300b",
   "metadata": {},
   "outputs": [
    {
     "name": "stdout",
     "output_type": "stream",
     "text": [
      "Page - Exists: True\n"
     ]
    }
   ],
   "source": [
    "page_py = wiki_wiki.page('greenpeace')\n",
    "print(\"Page - Exists: %s\" % page_py.exists())"
   ]
  },
  {
   "cell_type": "code",
   "execution_count": 281,
   "id": "a106c7a2",
   "metadata": {},
   "outputs": [
    {
     "name": "stdout",
     "output_type": "stream",
     "text": [
      "Page - Summary: Greenpeace is an independent global campaigning network. The network comprises 26 independent national/regional organisations in over 55 countries across Europe, the Americas, Africa, Asia and the Pacific, as well as a co-ordinating body, Greenpeace International, based in Amsterdam, the Netherlands. Greenpeace was founded in Canada in 1971 by Irving and Dorothy Stowe, immigrant environmental activists from the United States. Greenpeace states its goal is to \"ensure the ability of the Earth to nurture life in all its diversity\" and focuses its campaigning on worldwide issues such as climate change, deforestation, overfishing, commercial whaling, genetic engineering, and anti-nuclear issues. It uses direct action, lobbying, research, and ecotage to achieve its goals. The global network does\n"
     ]
    }
   ],
   "source": [
    "print(\"Page - Summary: %s\" % page_py.summary[0:800])"
   ]
  },
  {
   "cell_type": "code",
   "execution_count": null,
   "id": "650d7d1c",
   "metadata": {},
   "outputs": [],
   "source": []
  },
  {
   "cell_type": "code",
   "execution_count": 282,
   "id": "40d0c2c7",
   "metadata": {},
   "outputs": [
    {
     "name": "stdout",
     "output_type": "stream",
     "text": [
      "Page - Exists: False\n"
     ]
    }
   ],
   "source": [
    "page_py = wiki_wiki.page('friday fun')       ################\n",
    "print(\"Page - Exists: %s\" % page_py.exists())"
   ]
  },
  {
   "cell_type": "code",
   "execution_count": null,
   "id": "605840dc",
   "metadata": {},
   "outputs": [],
   "source": [
    "print(\"Page - Summary: %s\" % page_py.summary[0:800])"
   ]
  },
  {
   "cell_type": "code",
   "execution_count": null,
   "id": "eafefc97",
   "metadata": {},
   "outputs": [],
   "source": []
  },
  {
   "cell_type": "code",
   "execution_count": 283,
   "id": "0aa9c002",
   "metadata": {},
   "outputs": [
    {
     "name": "stdout",
     "output_type": "stream",
     "text": [
      "Page - Exists: True\n"
     ]
    }
   ],
   "source": [
    "page_py = wiki_wiki.page('sudbury')       ###### CERCA SU GOOGLE\n",
    "print(\"Page - Exists: %s\" % page_py.exists())"
   ]
  },
  {
   "cell_type": "code",
   "execution_count": 284,
   "id": "02c7f932",
   "metadata": {},
   "outputs": [
    {
     "name": "stdout",
     "output_type": "stream",
     "text": [
      "Page - Summary: Sudbury may refer to:\n"
     ]
    }
   ],
   "source": [
    "print(\"Page - Summary: %s\" % page_py.summary[0:800])"
   ]
  },
  {
   "cell_type": "code",
   "execution_count": null,
   "id": "a38fc984",
   "metadata": {},
   "outputs": [],
   "source": []
  }
 ],
 "metadata": {
  "kernelspec": {
   "display_name": "Python 3",
   "language": "python",
   "name": "python3"
  },
  "language_info": {
   "codemirror_mode": {
    "name": "ipython",
    "version": 3
   },
   "file_extension": ".py",
   "mimetype": "text/x-python",
   "name": "python",
   "nbconvert_exporter": "python",
   "pygments_lexer": "ipython3",
   "version": "3.8.8"
  }
 },
 "nbformat": 4,
 "nbformat_minor": 5
}
