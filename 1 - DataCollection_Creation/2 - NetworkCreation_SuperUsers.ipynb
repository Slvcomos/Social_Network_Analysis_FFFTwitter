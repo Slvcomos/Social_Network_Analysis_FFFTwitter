{
 "cells": [
  {
   "cell_type": "code",
   "execution_count": 1,
   "id": "e4363ddb",
   "metadata": {},
   "outputs": [],
   "source": [
    "import pandas as pd"
   ]
  },
  {
   "cell_type": "code",
   "execution_count": 2,
   "id": "3a326044",
   "metadata": {},
   "outputs": [],
   "source": [
    "path = \"../Dataset SuperUsers/questions_2020_2022.csv\""
   ]
  },
  {
   "cell_type": "code",
   "execution_count": 3,
   "id": "e18cece8",
   "metadata": {},
   "outputs": [],
   "source": [
    "df = pd.read_csv(path)"
   ]
  },
  {
   "cell_type": "code",
   "execution_count": 4,
   "id": "4721d7af",
   "metadata": {},
   "outputs": [
    {
     "data": {
      "text/html": [
       "<div>\n",
       "<style scoped>\n",
       "    .dataframe tbody tr th:only-of-type {\n",
       "        vertical-align: middle;\n",
       "    }\n",
       "\n",
       "    .dataframe tbody tr th {\n",
       "        vertical-align: top;\n",
       "    }\n",
       "\n",
       "    .dataframe thead th {\n",
       "        text-align: right;\n",
       "    }\n",
       "</style>\n",
       "<table border=\"1\" class=\"dataframe\">\n",
       "  <thead>\n",
       "    <tr style=\"text-align: right;\">\n",
       "      <th></th>\n",
       "      <th>Tags</th>\n",
       "      <th>User_Name</th>\n",
       "      <th>Title</th>\n",
       "      <th>View_count</th>\n",
       "      <th>Down_vote_count</th>\n",
       "      <th>Up_vote_count</th>\n",
       "      <th>Answer_count</th>\n",
       "      <th>Score</th>\n",
       "      <th>Creation_date</th>\n",
       "      <th>Question_id</th>\n",
       "      <th>Question_link</th>\n",
       "      <th>Is_Answered</th>\n",
       "    </tr>\n",
       "  </thead>\n",
       "  <tbody>\n",
       "    <tr>\n",
       "      <th>0</th>\n",
       "      <td>macos|-|python|-|zsh|-|compression|-|tar|-|</td>\n",
       "      <td>Saaru Lindest&amp;#248;kke</td>\n",
       "      <td>Why are tar.xz files 15x smaller when using Py...</td>\n",
       "      <td>57933</td>\n",
       "      <td>0</td>\n",
       "      <td>242</td>\n",
       "      <td>3</td>\n",
       "      <td>242</td>\n",
       "      <td>242</td>\n",
       "      <td>1615657068</td>\n",
       "      <td>1633073</td>\n",
       "      <td>https://superuser.com/questions/1633073/why-ar...</td>\n",
       "    </tr>\n",
       "    <tr>\n",
       "      <th>1</th>\n",
       "      <td>crash|-|</td>\n",
       "      <td>Stuntddude</td>\n",
       "      <td>Why does my PC crash only when my cat is nearby?</td>\n",
       "      <td>24585</td>\n",
       "      <td>8</td>\n",
       "      <td>150</td>\n",
       "      <td>11</td>\n",
       "      <td>142</td>\n",
       "      <td>142</td>\n",
       "      <td>1613416737</td>\n",
       "      <td>1626284</td>\n",
       "      <td>https://superuser.com/questions/1626284/why-do...</td>\n",
       "    </tr>\n",
       "    <tr>\n",
       "      <th>2</th>\n",
       "      <td>windows-10|-|memory|-|docker|-|resources|-|</td>\n",
       "      <td>CiaranWelsh</td>\n",
       "      <td>How can I reduce the consumption of the `vmmem...</td>\n",
       "      <td>225274</td>\n",
       "      <td>0</td>\n",
       "      <td>116</td>\n",
       "      <td>11</td>\n",
       "      <td>116</td>\n",
       "      <td>116</td>\n",
       "      <td>1591697218</td>\n",
       "      <td>1559170</td>\n",
       "      <td>https://superuser.com/questions/1559170/how-ca...</td>\n",
       "    </tr>\n",
       "    <tr>\n",
       "      <th>3</th>\n",
       "      <td>windows|-|uninstall|-|</td>\n",
       "      <td>Anne Maier</td>\n",
       "      <td>What is the best way to remove 100% of a softw...</td>\n",
       "      <td>13317</td>\n",
       "      <td>1</td>\n",
       "      <td>95</td>\n",
       "      <td>13</td>\n",
       "      <td>94</td>\n",
       "      <td>94</td>\n",
       "      <td>1606380846</td>\n",
       "      <td>1605207</td>\n",
       "      <td>https://superuser.com/questions/1605207/what-i...</td>\n",
       "    </tr>\n",
       "    <tr>\n",
       "      <th>4</th>\n",
       "      <td>motherboard|-|</td>\n",
       "      <td>MechMK1</td>\n",
       "      <td>How do modern motherboards differ from each ot...</td>\n",
       "      <td>11845</td>\n",
       "      <td>2</td>\n",
       "      <td>92</td>\n",
       "      <td>3</td>\n",
       "      <td>90</td>\n",
       "      <td>90</td>\n",
       "      <td>1604851644</td>\n",
       "      <td>1600547</td>\n",
       "      <td>https://superuser.com/questions/1600547/how-do...</td>\n",
       "    </tr>\n",
       "  </tbody>\n",
       "</table>\n",
       "</div>"
      ],
      "text/plain": [
       "                                          Tags               User_Name  \\\n",
       "0  macos|-|python|-|zsh|-|compression|-|tar|-|  Saaru Lindest&#248;kke   \n",
       "1                                     crash|-|              Stuntddude   \n",
       "2  windows-10|-|memory|-|docker|-|resources|-|             CiaranWelsh   \n",
       "3                       windows|-|uninstall|-|              Anne Maier   \n",
       "4                               motherboard|-|                 MechMK1   \n",
       "\n",
       "                                               Title  View_count  \\\n",
       "0  Why are tar.xz files 15x smaller when using Py...       57933   \n",
       "1   Why does my PC crash only when my cat is nearby?       24585   \n",
       "2  How can I reduce the consumption of the `vmmem...      225274   \n",
       "3  What is the best way to remove 100% of a softw...       13317   \n",
       "4  How do modern motherboards differ from each ot...       11845   \n",
       "\n",
       "   Down_vote_count  Up_vote_count  Answer_count  Score  Creation_date  \\\n",
       "0                0            242             3    242            242   \n",
       "1                8            150            11    142            142   \n",
       "2                0            116            11    116            116   \n",
       "3                1             95            13     94             94   \n",
       "4                2             92             3     90             90   \n",
       "\n",
       "   Question_id  Question_link  \\\n",
       "0   1615657068        1633073   \n",
       "1   1613416737        1626284   \n",
       "2   1591697218        1559170   \n",
       "3   1606380846        1605207   \n",
       "4   1604851644        1600547   \n",
       "\n",
       "                                         Is_Answered  \n",
       "0  https://superuser.com/questions/1633073/why-ar...  \n",
       "1  https://superuser.com/questions/1626284/why-do...  \n",
       "2  https://superuser.com/questions/1559170/how-ca...  \n",
       "3  https://superuser.com/questions/1605207/what-i...  \n",
       "4  https://superuser.com/questions/1600547/how-do...  "
      ]
     },
     "execution_count": 4,
     "metadata": {},
     "output_type": "execute_result"
    }
   ],
   "source": [
    "df.head()"
   ]
  },
  {
   "cell_type": "code",
   "execution_count": 5,
   "id": "0ecbb3c6",
   "metadata": {},
   "outputs": [],
   "source": [
    "tags_dict = {}\n",
    "for i in range(len(df)):\n",
    "    ll = df[\"Tags\"][i].split(\"|-|\")[:-1]\n",
    "    for tg in ll:\n",
    "        if tg not in tags_dict:\n",
    "            tags_dict[tg] = [df[\"Question_id\"][i]]\n",
    "        else:\n",
    "            tags_dict[tg].append(df[\"Question_id\"][i])"
   ]
  },
  {
   "cell_type": "code",
   "execution_count": 6,
   "id": "2e09d61f",
   "metadata": {},
   "outputs": [],
   "source": [
    "tags = list(tags_dict.keys())\n",
    "couple_tags = []\n",
    "for i in range(len(tags)):\n",
    "    for j in tags[i+1:]:\n",
    "        couple_tags.append((tags[i], j))    "
   ]
  },
  {
   "cell_type": "code",
   "execution_count": 7,
   "id": "1da545f8",
   "metadata": {},
   "outputs": [
    {
     "data": {
      "text/plain": [
       "8742471"
      ]
     },
     "execution_count": 7,
     "metadata": {},
     "output_type": "execute_result"
    }
   ],
   "source": [
    "len(couple_tags)"
   ]
  },
  {
   "cell_type": "code",
   "execution_count": 8,
   "id": "2d2bec51",
   "metadata": {},
   "outputs": [
    {
     "data": {
      "text/plain": [
       "4182"
      ]
     },
     "execution_count": 8,
     "metadata": {},
     "output_type": "execute_result"
    }
   ],
   "source": [
    "len(tags)\n"
   ]
  },
  {
   "cell_type": "code",
   "execution_count": 9,
   "id": "b261b101",
   "metadata": {},
   "outputs": [],
   "source": [
    "source = []\n",
    "target = []\n",
    "count = []\n",
    "nodes = []\n",
    "for i in couple_tags:\n",
    "    ll = list(set(tags_dict[i[0]]) & set(tags_dict[i[1]]))\n",
    "    if len(ll)>0:\n",
    "        source.append(i[0])\n",
    "        target.append(i[1])\n",
    "        count.append(len(ll))\n",
    "        nodes.append(i[0])\n",
    "        nodes.append(i[1])"
   ]
  },
  {
   "cell_type": "code",
   "execution_count": 10,
   "id": "61359295",
   "metadata": {},
   "outputs": [],
   "source": [
    "nodes = list(set(nodes))"
   ]
  },
  {
   "cell_type": "code",
   "execution_count": 11,
   "id": "c4b4b909",
   "metadata": {},
   "outputs": [],
   "source": [
    "new_df = pd.DataFrame({\"Id\": nodes})\n",
    "new_df.to_csv(\"../Dataset SuperUsers/nodes.csv\", index=False)"
   ]
  },
  {
   "cell_type": "code",
   "execution_count": 12,
   "id": "7b7a1c10",
   "metadata": {},
   "outputs": [],
   "source": [
    "new_df = pd.DataFrame({\"Source\": source,\n",
    "                       \"Target\": target,\n",
    "                      \"Count\": count})\n",
    "new_df.to_csv(\"../Dataset SuperUsers/edges.csv\", index=False)"
   ]
  },
  {
   "cell_type": "code",
   "execution_count": 13,
   "id": "b099220c",
   "metadata": {},
   "outputs": [
    {
     "data": {
      "text/plain": [
       "4147"
      ]
     },
     "execution_count": 13,
     "metadata": {},
     "output_type": "execute_result"
    }
   ],
   "source": [
    "len(nodes)"
   ]
  },
  {
   "cell_type": "code",
   "execution_count": null,
   "id": "5c85a66e",
   "metadata": {},
   "outputs": [],
   "source": []
  }
 ],
 "metadata": {
  "kernelspec": {
   "display_name": "Python 3",
   "language": "python",
   "name": "python3"
  },
  "language_info": {
   "codemirror_mode": {
    "name": "ipython",
    "version": 3
   },
   "file_extension": ".py",
   "mimetype": "text/x-python",
   "name": "python",
   "nbconvert_exporter": "python",
   "pygments_lexer": "ipython3",
   "version": "3.8.8"
  }
 },
 "nbformat": 4,
 "nbformat_minor": 5
}
