{
 "cells": [
  {
   "cell_type": "code",
   "execution_count": 1,
   "id": "e4363ddb",
   "metadata": {},
   "outputs": [],
   "source": [
    "import pandas as pd"
   ]
  },
  {
   "cell_type": "code",
   "execution_count": 2,
   "id": "3a326044",
   "metadata": {},
   "outputs": [],
   "source": [
    "path = \"../Dataset FFF/fff.csv\""
   ]
  },
  {
   "cell_type": "code",
   "execution_count": 3,
   "id": "e18cece8",
   "metadata": {},
   "outputs": [],
   "source": [
    "df = pd.read_csv(path)"
   ]
  },
  {
   "cell_type": "code",
   "execution_count": 4,
   "id": "4721d7af",
   "metadata": {},
   "outputs": [
    {
     "data": {
      "text/html": [
       "<div>\n",
       "<style scoped>\n",
       "    .dataframe tbody tr th:only-of-type {\n",
       "        vertical-align: middle;\n",
       "    }\n",
       "\n",
       "    .dataframe tbody tr th {\n",
       "        vertical-align: top;\n",
       "    }\n",
       "\n",
       "    .dataframe thead th {\n",
       "        text-align: right;\n",
       "    }\n",
       "</style>\n",
       "<table border=\"1\" class=\"dataframe\">\n",
       "  <thead>\n",
       "    <tr style=\"text-align: right;\">\n",
       "      <th></th>\n",
       "      <th>clean_tags</th>\n",
       "      <th>hashtags</th>\n",
       "      <th>date</th>\n",
       "      <th>user_id</th>\n",
       "      <th>username</th>\n",
       "      <th>name</th>\n",
       "      <th>tweet</th>\n",
       "      <th>language</th>\n",
       "      <th>mentions</th>\n",
       "      <th>urls</th>\n",
       "      <th>replies_count</th>\n",
       "      <th>retweets_count</th>\n",
       "      <th>likes_count</th>\n",
       "      <th>link</th>\n",
       "      <th>retweet</th>\n",
       "      <th>reply_to</th>\n",
       "    </tr>\n",
       "  </thead>\n",
       "  <tbody>\n",
       "    <tr>\n",
       "      <th>0</th>\n",
       "      <td>fossilfuels, wind, solar, green, hydrogen, ene...</td>\n",
       "      <td>['fossilfuels', 'wind', 'solar', 'green', 'hyd...</td>\n",
       "      <td>2022-07-10</td>\n",
       "      <td>59386332</td>\n",
       "      <td>arikring</td>\n",
       "      <td>Arik Ring - Energy Engineering Expert</td>\n",
       "      <td>@ProfStrachan @ECOWARRIORSS @ChristineMilne @m...</td>\n",
       "      <td>en</td>\n",
       "      <td>[{'screen_name': 'guytaur', 'name': 'scott. tr...</td>\n",
       "      <td>['https://reneweconomy.com.au/integrated-wind-...</td>\n",
       "      <td>2</td>\n",
       "      <td>54</td>\n",
       "      <td>59</td>\n",
       "      <td>https://twitter.com/arikring/status/1546251358...</td>\n",
       "      <td>False</td>\n",
       "      <td>[{'screen_name': 'ProfStrachan', 'name': 'Prof...</td>\n",
       "    </tr>\n",
       "    <tr>\n",
       "      <th>1</th>\n",
       "      <td>fridaysforfuture</td>\n",
       "      <td>['fridaysforfuture']</td>\n",
       "      <td>2022-07-10</td>\n",
       "      <td>1096766566279073792</td>\n",
       "      <td>parents4future</td>\n",
       "      <td>Parents For Future #EndFossilFuels</td>\n",
       "      <td>Eltern wissen, wer hier dumm ist. #FridaysForF...</td>\n",
       "      <td>de</td>\n",
       "      <td>[]</td>\n",
       "      <td>[]</td>\n",
       "      <td>21</td>\n",
       "      <td>54</td>\n",
       "      <td>595</td>\n",
       "      <td>https://twitter.com/parents4future/status/1546...</td>\n",
       "      <td>False</td>\n",
       "      <td>[]</td>\n",
       "    </tr>\n",
       "    <tr>\n",
       "      <th>2</th>\n",
       "      <td>fridaysforfuture</td>\n",
       "      <td>['fridaysforfuture']</td>\n",
       "      <td>2022-07-10</td>\n",
       "      <td>126978307</td>\n",
       "      <td>kl_stone</td>\n",
       "      <td>Klaus Steinfelder</td>\n",
       "      <td>SERVICETWEET:  Zur aktuellen Hetze der BLÖD-Ze...</td>\n",
       "      <td>de</td>\n",
       "      <td>[]</td>\n",
       "      <td>[]</td>\n",
       "      <td>2</td>\n",
       "      <td>5</td>\n",
       "      <td>8</td>\n",
       "      <td>https://twitter.com/Kl_Stone/status/1546221657...</td>\n",
       "      <td>False</td>\n",
       "      <td>[]</td>\n",
       "    </tr>\n",
       "    <tr>\n",
       "      <th>3</th>\n",
       "      <td>fridaysforfuture</td>\n",
       "      <td>['fridaysforfuture']</td>\n",
       "      <td>2022-07-10</td>\n",
       "      <td>1445119113353994245</td>\n",
       "      <td>tobichrislorenz</td>\n",
       "      <td>Tobias Christopher Lorenz</td>\n",
       "      <td>#Fridaysforfuture ist eine linksradikale Sekte...</td>\n",
       "      <td>de</td>\n",
       "      <td>[]</td>\n",
       "      <td>[]</td>\n",
       "      <td>1</td>\n",
       "      <td>3</td>\n",
       "      <td>12</td>\n",
       "      <td>https://twitter.com/tobichrislorenz/status/154...</td>\n",
       "      <td>False</td>\n",
       "      <td>[]</td>\n",
       "    </tr>\n",
       "    <tr>\n",
       "      <th>4</th>\n",
       "      <td>fridaysforfuture</td>\n",
       "      <td>['fridaysforfuture']</td>\n",
       "      <td>2022-07-10</td>\n",
       "      <td>126978307</td>\n",
       "      <td>kl_stone</td>\n",
       "      <td>Klaus Steinfelder</td>\n",
       "      <td>Nettostromerzeugung in D. am gestrigen 09.07.2...</td>\n",
       "      <td>de</td>\n",
       "      <td>[]</td>\n",
       "      <td>[]</td>\n",
       "      <td>1</td>\n",
       "      <td>3</td>\n",
       "      <td>6</td>\n",
       "      <td>https://twitter.com/Kl_Stone/status/1546154883...</td>\n",
       "      <td>False</td>\n",
       "      <td>[]</td>\n",
       "    </tr>\n",
       "  </tbody>\n",
       "</table>\n",
       "</div>"
      ],
      "text/plain": [
       "                                          clean_tags  \\\n",
       "0  fossilfuels, wind, solar, green, hydrogen, ene...   \n",
       "1                                   fridaysforfuture   \n",
       "2                                   fridaysforfuture   \n",
       "3                                   fridaysforfuture   \n",
       "4                                   fridaysforfuture   \n",
       "\n",
       "                                            hashtags        date  \\\n",
       "0  ['fossilfuels', 'wind', 'solar', 'green', 'hyd...  2022-07-10   \n",
       "1                               ['fridaysforfuture']  2022-07-10   \n",
       "2                               ['fridaysforfuture']  2022-07-10   \n",
       "3                               ['fridaysforfuture']  2022-07-10   \n",
       "4                               ['fridaysforfuture']  2022-07-10   \n",
       "\n",
       "               user_id         username  \\\n",
       "0             59386332         arikring   \n",
       "1  1096766566279073792   parents4future   \n",
       "2            126978307         kl_stone   \n",
       "3  1445119113353994245  tobichrislorenz   \n",
       "4            126978307         kl_stone   \n",
       "\n",
       "                                    name  \\\n",
       "0  Arik Ring - Energy Engineering Expert   \n",
       "1     Parents For Future #EndFossilFuels   \n",
       "2                      Klaus Steinfelder   \n",
       "3              Tobias Christopher Lorenz   \n",
       "4                      Klaus Steinfelder   \n",
       "\n",
       "                                               tweet language  \\\n",
       "0  @ProfStrachan @ECOWARRIORSS @ChristineMilne @m...       en   \n",
       "1  Eltern wissen, wer hier dumm ist. #FridaysForF...       de   \n",
       "2  SERVICETWEET:  Zur aktuellen Hetze der BLÖD-Ze...       de   \n",
       "3  #Fridaysforfuture ist eine linksradikale Sekte...       de   \n",
       "4  Nettostromerzeugung in D. am gestrigen 09.07.2...       de   \n",
       "\n",
       "                                            mentions  \\\n",
       "0  [{'screen_name': 'guytaur', 'name': 'scott. tr...   \n",
       "1                                                 []   \n",
       "2                                                 []   \n",
       "3                                                 []   \n",
       "4                                                 []   \n",
       "\n",
       "                                                urls  replies_count  \\\n",
       "0  ['https://reneweconomy.com.au/integrated-wind-...              2   \n",
       "1                                                 []             21   \n",
       "2                                                 []              2   \n",
       "3                                                 []              1   \n",
       "4                                                 []              1   \n",
       "\n",
       "   retweets_count  likes_count  \\\n",
       "0              54           59   \n",
       "1              54          595   \n",
       "2               5            8   \n",
       "3               3           12   \n",
       "4               3            6   \n",
       "\n",
       "                                                link  retweet  \\\n",
       "0  https://twitter.com/arikring/status/1546251358...    False   \n",
       "1  https://twitter.com/parents4future/status/1546...    False   \n",
       "2  https://twitter.com/Kl_Stone/status/1546221657...    False   \n",
       "3  https://twitter.com/tobichrislorenz/status/154...    False   \n",
       "4  https://twitter.com/Kl_Stone/status/1546154883...    False   \n",
       "\n",
       "                                            reply_to  \n",
       "0  [{'screen_name': 'ProfStrachan', 'name': 'Prof...  \n",
       "1                                                 []  \n",
       "2                                                 []  \n",
       "3                                                 []  \n",
       "4                                                 []  "
      ]
     },
     "execution_count": 4,
     "metadata": {},
     "output_type": "execute_result"
    }
   ],
   "source": [
    "df.head()"
   ]
  },
  {
   "cell_type": "code",
   "execution_count": 6,
   "id": "a20e9e79",
   "metadata": {},
   "outputs": [
    {
     "data": {
      "text/plain": [
       "array([\"['fossilfuels', 'wind', 'solar', 'green', 'hydrogen', 'energy', 'climateaction', 'renewableenergy', 'carbon', 'demvoice1', 'sdgs', 'climatecrisis', 'fridaysforfuture']\",\n",
       "       \"['fridaysforfuture']\", \"['fridayforfuture']\", ...,\n",
       "       \"['気候ストライキ', '気候危機', 'climatestrike', 'fridayforfuture']\",\n",
       "       \"['northtynesideclimatestrike', 'youthstrike4climate', 'fridaysforfuture']\",\n",
       "       \"['exxonknew', 'klima']\"], dtype=object)"
      ]
     },
     "execution_count": 6,
     "metadata": {},
     "output_type": "execute_result"
    }
   ],
   "source": [
    "df['hashtags'].unique()"
   ]
  },
  {
   "cell_type": "code",
   "execution_count": null,
   "id": "8c976ac4",
   "metadata": {},
   "outputs": [],
   "source": []
  },
  {
   "cell_type": "code",
   "execution_count": 7,
   "id": "c79af230",
   "metadata": {},
   "outputs": [
    {
     "data": {
      "text/plain": [
       "['fridaysforfuture']                                                                                                                              2989\n",
       "[]                                                                                                                                                2852\n",
       "['fridaysforfuture', 'climatestrike']                                                                                                              208\n",
       "['climatestrike', 'fridaysforfuture']                                                                                                              196\n",
       "['climatestrikeonline', 'fridaysforfuture']                                                                                                        167\n",
       "                                                                                                                                                  ... \n",
       "['b2210', 'fridaysforfuture']                                                                                                                        1\n",
       "['fridaysforfuture', 'emobility', 'shapingmobility']                                                                                                 1\n",
       "['fridaysforfuture', 'nannas', 'worimi', 'forster', 'nsw', 'australia', 'fundourfuturenotgas', 'climatestrike', 'climatestrikeforster', 'nom']       1\n",
       "['fridaysforfuture', 'cduvorsitz']                                                                                                                   1\n",
       "['maldives', 'ipcc', 'climatereport', 'climateemergency', 'fridaysforfuture']                                                                        1\n",
       "Name: hashtags, Length: 15501, dtype: int64"
      ]
     },
     "execution_count": 7,
     "metadata": {},
     "output_type": "execute_result"
    }
   ],
   "source": [
    "df['hashtags'].value_counts()"
   ]
  },
  {
   "cell_type": "code",
   "execution_count": 18,
   "id": "0ecbb3c6",
   "metadata": {},
   "outputs": [],
   "source": [
    "hashtags_dict = {}\n",
    "for i in range(len(df)):\n",
    "    ll = df[\"hashtags\"][i].split(\",\")[:-1]\n",
    "    for tg in ll:\n",
    "        if tg not in hashtags_dict:\n",
    "            hashtags_dict[tg] = [df[\"clean_tags\"][i]]\n",
    "        else:\n",
    "            hashtags_dict[tg].append(df[\"clean_tags\"][i])"
   ]
  },
  {
   "cell_type": "code",
   "execution_count": 19,
   "id": "2e09d61f",
   "metadata": {},
   "outputs": [],
   "source": [
    "hashtags = list(hashtags_dict.keys())\n",
    "couple_hashtags = []\n",
    "for i in range(len(hashtags)):\n",
    "    for j in hashtags[i+1:]:\n",
    "        couple_hashtags.append((hashtags[i], j))    "
   ]
  },
  {
   "cell_type": "code",
   "execution_count": 20,
   "id": "47b403b3",
   "metadata": {},
   "outputs": [
    {
     "data": {
      "text/plain": [
       "0"
      ]
     },
     "execution_count": 20,
     "metadata": {},
     "output_type": "execute_result"
    }
   ],
   "source": [
    "len(tags)"
   ]
  },
  {
   "cell_type": "code",
   "execution_count": 21,
   "id": "e98744bf",
   "metadata": {},
   "outputs": [
    {
     "data": {
      "text/plain": [
       "[]"
      ]
     },
     "execution_count": 21,
     "metadata": {},
     "output_type": "execute_result"
    }
   ],
   "source": [
    "tags"
   ]
  },
  {
   "cell_type": "code",
   "execution_count": 7,
   "id": "1da545f8",
   "metadata": {},
   "outputs": [
    {
     "data": {
      "text/plain": [
       "8742471"
      ]
     },
     "execution_count": 7,
     "metadata": {},
     "output_type": "execute_result"
    }
   ],
   "source": [
    "len(couple_tags)"
   ]
  },
  {
   "cell_type": "code",
   "execution_count": 8,
   "id": "2d2bec51",
   "metadata": {},
   "outputs": [
    {
     "data": {
      "text/plain": [
       "4182"
      ]
     },
     "execution_count": 8,
     "metadata": {},
     "output_type": "execute_result"
    }
   ],
   "source": [
    "len(tags)\n"
   ]
  },
  {
   "cell_type": "code",
   "execution_count": 9,
   "id": "b261b101",
   "metadata": {},
   "outputs": [],
   "source": [
    "source = []\n",
    "target = []\n",
    "count = []\n",
    "nodes = []\n",
    "for i in couple_tags:\n",
    "    ll = list(set(tags_dict[i[0]]) & set(tags_dict[i[1]]))\n",
    "    if len(ll)>0:\n",
    "        source.append(i[0])\n",
    "        target.append(i[1])\n",
    "        count.append(len(ll))\n",
    "        nodes.append(i[0])\n",
    "        nodes.append(i[1])"
   ]
  },
  {
   "cell_type": "code",
   "execution_count": 10,
   "id": "61359295",
   "metadata": {},
   "outputs": [],
   "source": [
    "nodes = list(set(nodes))"
   ]
  },
  {
   "cell_type": "code",
   "execution_count": 11,
   "id": "c4b4b909",
   "metadata": {},
   "outputs": [],
   "source": [
    "new_df = pd.DataFrame({\"Id\": nodes})\n",
    "new_df.to_csv(\"../Dataset SuperUsers/nodes.csv\", index=False)"
   ]
  },
  {
   "cell_type": "code",
   "execution_count": 12,
   "id": "7b7a1c10",
   "metadata": {},
   "outputs": [],
   "source": [
    "new_df = pd.DataFrame({\"Source\": source,\n",
    "                       \"Target\": target,\n",
    "                      \"Count\": count})\n",
    "new_df.to_csv(\"../Dataset SuperUsers/edges.csv\", index=False)"
   ]
  },
  {
   "cell_type": "code",
   "execution_count": 13,
   "id": "b099220c",
   "metadata": {},
   "outputs": [
    {
     "data": {
      "text/plain": [
       "4147"
      ]
     },
     "execution_count": 13,
     "metadata": {},
     "output_type": "execute_result"
    }
   ],
   "source": [
    "len(nodes)"
   ]
  },
  {
   "cell_type": "code",
   "execution_count": null,
   "id": "ca9fe819",
   "metadata": {},
   "outputs": [],
   "source": []
  }
 ],
 "metadata": {
  "kernelspec": {
   "display_name": "Python 3",
   "language": "python",
   "name": "python3"
  },
  "language_info": {
   "codemirror_mode": {
    "name": "ipython",
    "version": 3
   },
   "file_extension": ".py",
   "mimetype": "text/x-python",
   "name": "python",
   "nbconvert_exporter": "python",
   "pygments_lexer": "ipython3",
   "version": "3.8.8"
  }
 },
 "nbformat": 4,
 "nbformat_minor": 5
}
