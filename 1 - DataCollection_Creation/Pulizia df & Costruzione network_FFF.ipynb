{
 "cells": [
  {
   "cell_type": "markdown",
   "id": "0c73953d",
   "metadata": {},
   "source": [
    "## Indice\n",
    "#### 1. Pulizia crawled data\n",
    "#### 2.Creo una colonna con i tag puliti\n",
    "#### 3.Creazione network di partenza\n",
    "###### 4.1 Controllo preliminare dei nodi ed edges\n",
    "#### 5. Risultati"
   ]
  },
  {
   "cell_type": "code",
   "execution_count": 1,
   "id": "c1f8ac8a",
   "metadata": {},
   "outputs": [],
   "source": [
    "import twint\n",
    "\n",
    "import networkx as nx\n",
    "import warnings\n",
    "import pandas as pd\n",
    "import numpy as np\n",
    "import matplotlib.pyplot as plt\n",
    "import powerlaw\n",
    "warnings.filterwarnings('ignore')\n",
    "\n",
    "from wordcloud import WordCloud\n",
    "import math\n",
    "from operator import itemgetter\n",
    "\n",
    "%matplotlib inline "
   ]
  },
  {
   "cell_type": "markdown",
   "id": "55e82703",
   "metadata": {},
   "source": [
    "### PULIZIA CRAWLED DATA"
   ]
  },
  {
   "cell_type": "code",
   "execution_count": 2,
   "id": "3328d1a0",
   "metadata": {},
   "outputs": [],
   "source": [
    "df = pd.read_csv(\"../Dataset FFF/climatechange.csv\", sep='\\t')"
   ]
  },
  {
   "cell_type": "code",
   "execution_count": 3,
   "id": "1724302f",
   "metadata": {},
   "outputs": [],
   "source": [
    "#riduco le dimensioni del dataframe per avvicinarcio ai 15k, lo faccio togliendo parte finale dei dati \n",
    "#df = df.iloc[:41700]"
   ]
  },
  {
   "cell_type": "code",
   "execution_count": 4,
   "id": "d2ee24cc",
   "metadata": {
    "scrolled": true
   },
   "outputs": [
    {
     "data": {
      "text/html": [
       "<div>\n",
       "<style scoped>\n",
       "    .dataframe tbody tr th:only-of-type {\n",
       "        vertical-align: middle;\n",
       "    }\n",
       "\n",
       "    .dataframe tbody tr th {\n",
       "        vertical-align: top;\n",
       "    }\n",
       "\n",
       "    .dataframe thead th {\n",
       "        text-align: right;\n",
       "    }\n",
       "</style>\n",
       "<table border=\"1\" class=\"dataframe\">\n",
       "  <thead>\n",
       "    <tr style=\"text-align: right;\">\n",
       "      <th></th>\n",
       "      <th>id</th>\n",
       "      <th>conversation_id</th>\n",
       "      <th>created_at</th>\n",
       "      <th>date</th>\n",
       "      <th>time</th>\n",
       "      <th>timezone</th>\n",
       "      <th>user_id</th>\n",
       "      <th>username</th>\n",
       "      <th>name</th>\n",
       "      <th>place</th>\n",
       "      <th>...</th>\n",
       "      <th>geo</th>\n",
       "      <th>source</th>\n",
       "      <th>user_rt_id</th>\n",
       "      <th>user_rt</th>\n",
       "      <th>retweet_id</th>\n",
       "      <th>reply_to</th>\n",
       "      <th>retweet_date</th>\n",
       "      <th>translate</th>\n",
       "      <th>trans_src</th>\n",
       "      <th>trans_dest</th>\n",
       "    </tr>\n",
       "  </thead>\n",
       "  <tbody>\n",
       "    <tr>\n",
       "      <th>50017</th>\n",
       "      <td>1175070693391765507</td>\n",
       "      <td>1175070693391765507</td>\n",
       "      <td>2019-09-20 17:34:19 ora legale Europa occidentale</td>\n",
       "      <td>2019-09-20</td>\n",
       "      <td>17:34:19</td>\n",
       "      <td>200</td>\n",
       "      <td>19811643</td>\n",
       "      <td>lvz</td>\n",
       "      <td>LVZ</td>\n",
       "      <td>NaN</td>\n",
       "      <td>...</td>\n",
       "      <td>NaN</td>\n",
       "      <td>NaN</td>\n",
       "      <td>NaN</td>\n",
       "      <td>NaN</td>\n",
       "      <td>NaN</td>\n",
       "      <td>[]</td>\n",
       "      <td>NaN</td>\n",
       "      <td>NaN</td>\n",
       "      <td>NaN</td>\n",
       "      <td>NaN</td>\n",
       "    </tr>\n",
       "    <tr>\n",
       "      <th>50018</th>\n",
       "      <td>1175070453859094528</td>\n",
       "      <td>1175070453859094528</td>\n",
       "      <td>2019-09-20 17:33:22 ora legale Europa occidentale</td>\n",
       "      <td>2019-09-20</td>\n",
       "      <td>17:33:22</td>\n",
       "      <td>200</td>\n",
       "      <td>881570054801944576</td>\n",
       "      <td>gswnature</td>\n",
       "      <td>Georgie Ward</td>\n",
       "      <td>NaN</td>\n",
       "      <td>...</td>\n",
       "      <td>NaN</td>\n",
       "      <td>NaN</td>\n",
       "      <td>NaN</td>\n",
       "      <td>NaN</td>\n",
       "      <td>NaN</td>\n",
       "      <td>[]</td>\n",
       "      <td>NaN</td>\n",
       "      <td>NaN</td>\n",
       "      <td>NaN</td>\n",
       "      <td>NaN</td>\n",
       "    </tr>\n",
       "  </tbody>\n",
       "</table>\n",
       "<p>2 rows × 36 columns</p>\n",
       "</div>"
      ],
      "text/plain": [
       "                        id      conversation_id  \\\n",
       "50017  1175070693391765507  1175070693391765507   \n",
       "50018  1175070453859094528  1175070453859094528   \n",
       "\n",
       "                                              created_at        date  \\\n",
       "50017  2019-09-20 17:34:19 ora legale Europa occidentale  2019-09-20   \n",
       "50018  2019-09-20 17:33:22 ora legale Europa occidentale  2019-09-20   \n",
       "\n",
       "           time  timezone             user_id   username          name place  \\\n",
       "50017  17:34:19       200            19811643        lvz           LVZ   NaN   \n",
       "50018  17:33:22       200  881570054801944576  gswnature  Georgie Ward   NaN   \n",
       "\n",
       "       ... geo source user_rt_id user_rt retweet_id  reply_to  retweet_date  \\\n",
       "50017  ... NaN    NaN        NaN     NaN        NaN        []           NaN   \n",
       "50018  ... NaN    NaN        NaN     NaN        NaN        []           NaN   \n",
       "\n",
       "       translate trans_src trans_dest  \n",
       "50017        NaN       NaN        NaN  \n",
       "50018        NaN       NaN        NaN  \n",
       "\n",
       "[2 rows x 36 columns]"
      ]
     },
     "execution_count": 4,
     "metadata": {},
     "output_type": "execute_result"
    }
   ],
   "source": [
    "df.tail(2)"
   ]
  },
  {
   "cell_type": "code",
   "execution_count": 5,
   "id": "6dccbef3",
   "metadata": {
    "scrolled": true
   },
   "outputs": [
    {
     "name": "stdout",
     "output_type": "stream",
     "text": [
      "id\n",
      "conversation_id\n",
      "created_at\n",
      "date\n",
      "time\n",
      "timezone\n",
      "user_id\n",
      "username\n",
      "name\n",
      "place\n",
      "tweet\n",
      "language\n",
      "mentions\n",
      "urls\n",
      "photos\n",
      "replies_count\n",
      "retweets_count\n",
      "likes_count\n",
      "hashtags\n",
      "cashtags\n",
      "link\n",
      "retweet\n",
      "quote_url\n",
      "video\n",
      "thumbnail\n",
      "near\n",
      "geo\n",
      "source\n",
      "user_rt_id\n",
      "user_rt\n",
      "retweet_id\n",
      "reply_to\n",
      "retweet_date\n",
      "translate\n",
      "trans_src\n",
      "trans_dest\n"
     ]
    }
   ],
   "source": [
    "# Get all names \n",
    "for col_name in df.columns: \n",
    "    print(col_name)"
   ]
  },
  {
   "cell_type": "code",
   "execution_count": 6,
   "id": "fbb48c37",
   "metadata": {
    "scrolled": true
   },
   "outputs": [
    {
     "name": "stdout",
     "output_type": "stream",
     "text": [
      "<class 'pandas.core.frame.DataFrame'>\n",
      "RangeIndex: 50019 entries, 0 to 50018\n",
      "Data columns (total 36 columns):\n",
      " #   Column           Non-Null Count  Dtype  \n",
      "---  ------           --------------  -----  \n",
      " 0   id               50019 non-null  int64  \n",
      " 1   conversation_id  50019 non-null  int64  \n",
      " 2   created_at       50019 non-null  object \n",
      " 3   date             50019 non-null  object \n",
      " 4   time             50019 non-null  object \n",
      " 5   timezone         50019 non-null  int64  \n",
      " 6   user_id          50019 non-null  int64  \n",
      " 7   username         50019 non-null  object \n",
      " 8   name             50007 non-null  object \n",
      " 9   place            18 non-null     object \n",
      " 10  tweet            50019 non-null  object \n",
      " 11  language         50019 non-null  object \n",
      " 12  mentions         50019 non-null  object \n",
      " 13  urls             50019 non-null  object \n",
      " 14  photos           50019 non-null  object \n",
      " 15  replies_count    50019 non-null  int64  \n",
      " 16  retweets_count   50019 non-null  int64  \n",
      " 17  likes_count      50019 non-null  int64  \n",
      " 18  hashtags         50019 non-null  object \n",
      " 19  cashtags         50019 non-null  object \n",
      " 20  link             50019 non-null  object \n",
      " 21  retweet          50019 non-null  bool   \n",
      " 22  quote_url        6653 non-null   object \n",
      " 23  video            50019 non-null  int64  \n",
      " 24  thumbnail        23957 non-null  object \n",
      " 25  near             0 non-null      float64\n",
      " 26  geo              0 non-null      float64\n",
      " 27  source           0 non-null      float64\n",
      " 28  user_rt_id       0 non-null      float64\n",
      " 29  user_rt          0 non-null      float64\n",
      " 30  retweet_id       0 non-null      float64\n",
      " 31  reply_to         50019 non-null  object \n",
      " 32  retweet_date     0 non-null      float64\n",
      " 33  translate        0 non-null      float64\n",
      " 34  trans_src        0 non-null      float64\n",
      " 35  trans_dest       0 non-null      float64\n",
      "dtypes: bool(1), float64(10), int64(8), object(17)\n",
      "memory usage: 13.4+ MB\n"
     ]
    }
   ],
   "source": [
    "df.info()"
   ]
  },
  {
   "cell_type": "markdown",
   "id": "4dde40f1",
   "metadata": {},
   "source": [
    "Toglie created_at, time, timezone, lasciando la data\n",
    "Sono dati ripetuti "
   ]
  },
  {
   "cell_type": "code",
   "execution_count": 7,
   "id": "efa7dfa6",
   "metadata": {},
   "outputs": [],
   "source": [
    "df.drop(['trans_dest', 'trans_src','translate','retweet_date','geo','source','user_rt_id', 'user_rt','retweet_id',\n",
    "        'near','place','thumbnail', 'time', 'timezone', 'video', 'photos', 'cashtags', 'created_at','quote_url','id','conversation_id'], axis=1, inplace=True)"
   ]
  },
  {
   "cell_type": "code",
   "execution_count": 8,
   "id": "81edb4b8",
   "metadata": {},
   "outputs": [
    {
     "data": {
      "text/plain": [
       "False"
      ]
     },
     "execution_count": 8,
     "metadata": {},
     "output_type": "execute_result"
    }
   ],
   "source": [
    "#No valori nulli!\n",
    "df['language'].isnull().values.any()"
   ]
  },
  {
   "cell_type": "code",
   "execution_count": 9,
   "id": "bfbf04bb",
   "metadata": {},
   "outputs": [],
   "source": [
    "Lingue=list(set(df['language']))\n",
    "#Lingue"
   ]
  },
  {
   "cell_type": "markdown",
   "id": "384d6256",
   "metadata": {},
   "source": [
    "Restingendo il range di tweet con numero di likes, retweet e replies\n",
    "Si arriva a 16335 valori totali"
   ]
  },
  {
   "cell_type": "code",
   "execution_count": 10,
   "id": "29b2ab0f",
   "metadata": {},
   "outputs": [],
   "source": [
    "df=df[df['likes_count']>=10]\n",
    "df=df[df['replies_count']>=3]\n",
    "df=df[df['retweets_count']>=3]"
   ]
  },
  {
   "cell_type": "code",
   "execution_count": 11,
   "id": "be7c0325",
   "metadata": {},
   "outputs": [
    {
     "name": "stdout",
     "output_type": "stream",
     "text": [
      "<class 'pandas.core.frame.DataFrame'>\n",
      "Int64Index: 19579 entries, 6 to 50015\n",
      "Data columns (total 15 columns):\n",
      " #   Column          Non-Null Count  Dtype \n",
      "---  ------          --------------  ----- \n",
      " 0   date            19579 non-null  object\n",
      " 1   user_id         19579 non-null  int64 \n",
      " 2   username        19579 non-null  object\n",
      " 3   name            19571 non-null  object\n",
      " 4   tweet           19579 non-null  object\n",
      " 5   language        19579 non-null  object\n",
      " 6   mentions        19579 non-null  object\n",
      " 7   urls            19579 non-null  object\n",
      " 8   replies_count   19579 non-null  int64 \n",
      " 9   retweets_count  19579 non-null  int64 \n",
      " 10  likes_count     19579 non-null  int64 \n",
      " 11  hashtags        19579 non-null  object\n",
      " 12  link            19579 non-null  object\n",
      " 13  retweet         19579 non-null  bool  \n",
      " 14  reply_to        19579 non-null  object\n",
      "dtypes: bool(1), int64(4), object(10)\n",
      "memory usage: 2.3+ MB\n"
     ]
    }
   ],
   "source": [
    "df.info() "
   ]
  },
  {
   "cell_type": "markdown",
   "id": "00bae431",
   "metadata": {},
   "source": [
    "### Creo una colonna con i tag puliti"
   ]
  },
  {
   "cell_type": "code",
   "execution_count": 12,
   "id": "c3906ef3",
   "metadata": {},
   "outputs": [
    {
     "name": "stderr",
     "output_type": "stream",
     "text": [
      "[nltk_data] Downloading package stopwords to\n",
      "[nltk_data]     C:\\Users\\marco\\AppData\\Roaming\\nltk_data...\n",
      "[nltk_data]   Package stopwords is already up-to-date!\n"
     ]
    }
   ],
   "source": [
    "import re\n",
    "import nltk\n",
    "from nltk.corpus import stopwords\n",
    "nltk.download('stopwords')\n",
    "from nltk.tokenize import word_tokenize"
   ]
  },
  {
   "cell_type": "markdown",
   "id": "ee48436d",
   "metadata": {},
   "source": [
    "Faccio questa funzione per pulire i tags dalle quadre, la applico a una nuova colonna (clean_tags)"
   ]
  },
  {
   "cell_type": "code",
   "execution_count": 13,
   "id": "fe9f02ed",
   "metadata": {},
   "outputs": [],
   "source": [
    "def remove_content(text):\n",
    "    text = re.sub(r\"\\[\", \"\", text) #remove ]\n",
    "    text=re.sub(r'\\]','',text) #remove ]\n",
    "    text=re.sub(r'\\'','',text) #remove apici\n",
    "    text=re.sub(r'\\n','',text) #remove spazio vuoto\n",
    "\n",
    "    return text"
   ]
  },
  {
   "cell_type": "code",
   "execution_count": 14,
   "id": "ff331500",
   "metadata": {},
   "outputs": [],
   "source": [
    "df.drop(df.index[df['hashtags'] == '[]'], inplace=True)"
   ]
  },
  {
   "cell_type": "code",
   "execution_count": 15,
   "id": "11b0dd30",
   "metadata": {},
   "outputs": [
    {
     "data": {
      "text/plain": [
       "17658"
      ]
     },
     "execution_count": 15,
     "metadata": {},
     "output_type": "execute_result"
    }
   ],
   "source": [
    "len(df['hashtags'])"
   ]
  },
  {
   "cell_type": "code",
   "execution_count": 17,
   "id": "7a412cf7",
   "metadata": {},
   "outputs": [],
   "source": [
    "df.insert(0, 'clean_tags', df.pop('clean_tags'))"
   ]
  },
  {
   "cell_type": "code",
   "execution_count": 18,
   "id": "a7dd0d4b",
   "metadata": {},
   "outputs": [],
   "source": [
    "df.insert(1, 'hashtags', df.pop('hashtags'))"
   ]
  },
  {
   "cell_type": "code",
   "execution_count": 19,
   "id": "22fec12b",
   "metadata": {},
   "outputs": [
    {
     "data": {
      "text/html": [
       "<div>\n",
       "<style scoped>\n",
       "    .dataframe tbody tr th:only-of-type {\n",
       "        vertical-align: middle;\n",
       "    }\n",
       "\n",
       "    .dataframe tbody tr th {\n",
       "        vertical-align: top;\n",
       "    }\n",
       "\n",
       "    .dataframe thead th {\n",
       "        text-align: right;\n",
       "    }\n",
       "</style>\n",
       "<table border=\"1\" class=\"dataframe\">\n",
       "  <thead>\n",
       "    <tr style=\"text-align: right;\">\n",
       "      <th></th>\n",
       "      <th>clean_tags</th>\n",
       "      <th>hashtags</th>\n",
       "      <th>date</th>\n",
       "      <th>user_id</th>\n",
       "      <th>username</th>\n",
       "      <th>name</th>\n",
       "      <th>tweet</th>\n",
       "      <th>language</th>\n",
       "      <th>mentions</th>\n",
       "      <th>urls</th>\n",
       "      <th>replies_count</th>\n",
       "      <th>retweets_count</th>\n",
       "      <th>likes_count</th>\n",
       "      <th>link</th>\n",
       "      <th>retweet</th>\n",
       "      <th>reply_to</th>\n",
       "    </tr>\n",
       "  </thead>\n",
       "  <tbody>\n",
       "    <tr>\n",
       "      <th>6</th>\n",
       "      <td>fridaysforfuture</td>\n",
       "      <td>['fridaysforfuture']</td>\n",
       "      <td>2022-07-10</td>\n",
       "      <td>1096766566279073792</td>\n",
       "      <td>parents4future</td>\n",
       "      <td>Parents For Future #EndFossilFuels</td>\n",
       "      <td>Eltern wissen, wer hier dumm ist. #FridaysForF...</td>\n",
       "      <td>de</td>\n",
       "      <td>[]</td>\n",
       "      <td>[]</td>\n",
       "      <td>21</td>\n",
       "      <td>54</td>\n",
       "      <td>595</td>\n",
       "      <td>https://twitter.com/parents4future/status/1546...</td>\n",
       "      <td>False</td>\n",
       "      <td>[]</td>\n",
       "    </tr>\n",
       "    <tr>\n",
       "      <th>12</th>\n",
       "      <td>fridayforfuture</td>\n",
       "      <td>['fridayforfuture']</td>\n",
       "      <td>2022-07-10</td>\n",
       "      <td>403735368</td>\n",
       "      <td>hahnflo</td>\n",
       "      <td>Florian Hahn</td>\n",
       "      <td>Wer erklärt #FridayForFuture, dass es ohne NAT...</td>\n",
       "      <td>de</td>\n",
       "      <td>[]</td>\n",
       "      <td>[]</td>\n",
       "      <td>127</td>\n",
       "      <td>65</td>\n",
       "      <td>679</td>\n",
       "      <td>https://twitter.com/hahnflo/status/15461339384...</td>\n",
       "      <td>False</td>\n",
       "      <td>[]</td>\n",
       "    </tr>\n",
       "    <tr>\n",
       "      <th>13</th>\n",
       "      <td>klimakrise, govegan, fridaysforfuture</td>\n",
       "      <td>['klimakrise', 'govegan', 'fridaysforfuture']</td>\n",
       "      <td>2022-07-10</td>\n",
       "      <td>1529883123881857031</td>\n",
       "      <td>vegancardio</td>\n",
       "      <td>Der vegane Kardiologe</td>\n",
       "      <td>Was sind das eigentlich für Menschen, die sich...</td>\n",
       "      <td>de</td>\n",
       "      <td>[]</td>\n",
       "      <td>[]</td>\n",
       "      <td>79</td>\n",
       "      <td>25</td>\n",
       "      <td>348</td>\n",
       "      <td>https://twitter.com/VeganCardio/status/1546127...</td>\n",
       "      <td>False</td>\n",
       "      <td>[]</td>\n",
       "    </tr>\n",
       "    <tr>\n",
       "      <th>22</th>\n",
       "      <td>hitzewelle</td>\n",
       "      <td>['hitzewelle']</td>\n",
       "      <td>2022-07-10</td>\n",
       "      <td>364849195</td>\n",
       "      <td>bayernrocker</td>\n",
       "      <td>Andi Schrank🤘🖖🌹🌻</td>\n",
       "      <td>So sehr ihr euch übrigens über @FridayForFutur...</td>\n",
       "      <td>de</td>\n",
       "      <td>[{'screen_name': 'fridayforfuture', 'name': 'f...</td>\n",
       "      <td>[]</td>\n",
       "      <td>20</td>\n",
       "      <td>14</td>\n",
       "      <td>140</td>\n",
       "      <td>https://twitter.com/bayernrocker/status/154607...</td>\n",
       "      <td>False</td>\n",
       "      <td>[]</td>\n",
       "    </tr>\n",
       "    <tr>\n",
       "      <th>37</th>\n",
       "      <td>fridaysforfuture, peoplenotprofit</td>\n",
       "      <td>['fridaysforfuture', 'peoplenotprofit']</td>\n",
       "      <td>2022-07-09</td>\n",
       "      <td>1449429842999525377</td>\n",
       "      <td>climateworrier3</td>\n",
       "      <td>Climate Worrier</td>\n",
       "      <td>Climate striking in school yesterday (photo ta...</td>\n",
       "      <td>en</td>\n",
       "      <td>[]</td>\n",
       "      <td>[]</td>\n",
       "      <td>9</td>\n",
       "      <td>141</td>\n",
       "      <td>497</td>\n",
       "      <td>https://twitter.com/ClimateWorrier3/status/154...</td>\n",
       "      <td>False</td>\n",
       "      <td>[]</td>\n",
       "    </tr>\n",
       "    <tr>\n",
       "      <th>38</th>\n",
       "      <td>climatecrisis, climatestrike, climateaction, c...</td>\n",
       "      <td>['climatecrisis', 'climatestrike', 'climateact...</td>\n",
       "      <td>2022-07-09</td>\n",
       "      <td>1101867372221288448</td>\n",
       "      <td>dmugalizi</td>\n",
       "      <td>Mugalizi Dianey</td>\n",
       "      <td>Climate justice approaches promote transformat...</td>\n",
       "      <td>en</td>\n",
       "      <td>[]</td>\n",
       "      <td>[]</td>\n",
       "      <td>3</td>\n",
       "      <td>7</td>\n",
       "      <td>11</td>\n",
       "      <td>https://twitter.com/DMugalizi/status/154571399...</td>\n",
       "      <td>False</td>\n",
       "      <td>[]</td>\n",
       "    </tr>\n",
       "    <tr>\n",
       "      <th>44</th>\n",
       "      <td>peoplepower, actnow, climateaction, climatecri...</td>\n",
       "      <td>['peoplepower', 'actnow', 'climateaction', 'cl...</td>\n",
       "      <td>2022-07-09</td>\n",
       "      <td>1442093243835969540</td>\n",
       "      <td>greenagewarrior</td>\n",
       "      <td>Green Age Warriors</td>\n",
       "      <td>The older generation has failed and it is the ...</td>\n",
       "      <td>en</td>\n",
       "      <td>[]</td>\n",
       "      <td>[]</td>\n",
       "      <td>3</td>\n",
       "      <td>17</td>\n",
       "      <td>35</td>\n",
       "      <td>https://twitter.com/Greenagewarrior/status/154...</td>\n",
       "      <td>False</td>\n",
       "      <td>[]</td>\n",
       "    </tr>\n",
       "    <tr>\n",
       "      <th>52</th>\n",
       "      <td>notmytaxonomy</td>\n",
       "      <td>['notmytaxonomy']</td>\n",
       "      <td>2022-07-08</td>\n",
       "      <td>1072187272815149057</td>\n",
       "      <td>fridayforfuture</td>\n",
       "      <td>Fridays for Future Germany</td>\n",
       "      <td>Das EU-Parlament hat's verkackt und alle wisse...</td>\n",
       "      <td>de</td>\n",
       "      <td>[]</td>\n",
       "      <td>[]</td>\n",
       "      <td>42</td>\n",
       "      <td>124</td>\n",
       "      <td>805</td>\n",
       "      <td>https://twitter.com/FridayForFuture/status/154...</td>\n",
       "      <td>False</td>\n",
       "      <td>[]</td>\n",
       "    </tr>\n",
       "    <tr>\n",
       "      <th>57</th>\n",
       "      <td>bangladesh, climateaction, climatejustice, fri...</td>\n",
       "      <td>['bangladesh', 'climateaction', 'climatejustic...</td>\n",
       "      <td>2022-07-08</td>\n",
       "      <td>3185337024</td>\n",
       "      <td>husainaemran</td>\n",
       "      <td>Husain Ahmed Emran</td>\n",
       "      <td>Climate activists are striking from kustia, #B...</td>\n",
       "      <td>en</td>\n",
       "      <td>[{'screen_name': 'gretathunberg', 'name': 'gre...</td>\n",
       "      <td>[]</td>\n",
       "      <td>3</td>\n",
       "      <td>45</td>\n",
       "      <td>91</td>\n",
       "      <td>https://twitter.com/husainAemran/status/154547...</td>\n",
       "      <td>False</td>\n",
       "      <td>[]</td>\n",
       "    </tr>\n",
       "    <tr>\n",
       "      <th>58</th>\n",
       "      <td>climatestrike, plastic, humanity, recycled, pl...</td>\n",
       "      <td>['climatestrike', 'plastic', 'humanity', 'recy...</td>\n",
       "      <td>2022-07-08</td>\n",
       "      <td>1048180379847258112</td>\n",
       "      <td>nasadox_</td>\n",
       "      <td>Nasadox</td>\n",
       "      <td>#ClimateStrike Week 46 #Plastic is a threat to...</td>\n",
       "      <td>en</td>\n",
       "      <td>[]</td>\n",
       "      <td>[]</td>\n",
       "      <td>5</td>\n",
       "      <td>21</td>\n",
       "      <td>49</td>\n",
       "      <td>https://twitter.com/Nasadox_/status/1545475050...</td>\n",
       "      <td>False</td>\n",
       "      <td>[]</td>\n",
       "    </tr>\n",
       "  </tbody>\n",
       "</table>\n",
       "</div>"
      ],
      "text/plain": [
       "                                           clean_tags  \\\n",
       "6                                    fridaysforfuture   \n",
       "12                                    fridayforfuture   \n",
       "13              klimakrise, govegan, fridaysforfuture   \n",
       "22                                         hitzewelle   \n",
       "37                  fridaysforfuture, peoplenotprofit   \n",
       "38  climatecrisis, climatestrike, climateaction, c...   \n",
       "44  peoplepower, actnow, climateaction, climatecri...   \n",
       "52                                      notmytaxonomy   \n",
       "57  bangladesh, climateaction, climatejustice, fri...   \n",
       "58  climatestrike, plastic, humanity, recycled, pl...   \n",
       "\n",
       "                                             hashtags        date  \\\n",
       "6                                ['fridaysforfuture']  2022-07-10   \n",
       "12                                ['fridayforfuture']  2022-07-10   \n",
       "13      ['klimakrise', 'govegan', 'fridaysforfuture']  2022-07-10   \n",
       "22                                     ['hitzewelle']  2022-07-10   \n",
       "37            ['fridaysforfuture', 'peoplenotprofit']  2022-07-09   \n",
       "38  ['climatecrisis', 'climatestrike', 'climateact...  2022-07-09   \n",
       "44  ['peoplepower', 'actnow', 'climateaction', 'cl...  2022-07-09   \n",
       "52                                  ['notmytaxonomy']  2022-07-08   \n",
       "57  ['bangladesh', 'climateaction', 'climatejustic...  2022-07-08   \n",
       "58  ['climatestrike', 'plastic', 'humanity', 'recy...  2022-07-08   \n",
       "\n",
       "                user_id         username                                name  \\\n",
       "6   1096766566279073792   parents4future  Parents For Future #EndFossilFuels   \n",
       "12            403735368          hahnflo                        Florian Hahn   \n",
       "13  1529883123881857031      vegancardio               Der vegane Kardiologe   \n",
       "22            364849195     bayernrocker                    Andi Schrank🤘🖖🌹🌻   \n",
       "37  1449429842999525377  climateworrier3                     Climate Worrier   \n",
       "38  1101867372221288448        dmugalizi                     Mugalizi Dianey   \n",
       "44  1442093243835969540  greenagewarrior                  Green Age Warriors   \n",
       "52  1072187272815149057  fridayforfuture          Fridays for Future Germany   \n",
       "57           3185337024     husainaemran                  Husain Ahmed Emran   \n",
       "58  1048180379847258112         nasadox_                             Nasadox   \n",
       "\n",
       "                                                tweet language  \\\n",
       "6   Eltern wissen, wer hier dumm ist. #FridaysForF...       de   \n",
       "12  Wer erklärt #FridayForFuture, dass es ohne NAT...       de   \n",
       "13  Was sind das eigentlich für Menschen, die sich...       de   \n",
       "22  So sehr ihr euch übrigens über @FridayForFutur...       de   \n",
       "37  Climate striking in school yesterday (photo ta...       en   \n",
       "38  Climate justice approaches promote transformat...       en   \n",
       "44  The older generation has failed and it is the ...       en   \n",
       "52  Das EU-Parlament hat's verkackt und alle wisse...       de   \n",
       "57  Climate activists are striking from kustia, #B...       en   \n",
       "58  #ClimateStrike Week 46 #Plastic is a threat to...       en   \n",
       "\n",
       "                                             mentions urls  replies_count  \\\n",
       "6                                                  []   []             21   \n",
       "12                                                 []   []            127   \n",
       "13                                                 []   []             79   \n",
       "22  [{'screen_name': 'fridayforfuture', 'name': 'f...   []             20   \n",
       "37                                                 []   []              9   \n",
       "38                                                 []   []              3   \n",
       "44                                                 []   []              3   \n",
       "52                                                 []   []             42   \n",
       "57  [{'screen_name': 'gretathunberg', 'name': 'gre...   []              3   \n",
       "58                                                 []   []              5   \n",
       "\n",
       "    retweets_count  likes_count  \\\n",
       "6               54          595   \n",
       "12              65          679   \n",
       "13              25          348   \n",
       "22              14          140   \n",
       "37             141          497   \n",
       "38               7           11   \n",
       "44              17           35   \n",
       "52             124          805   \n",
       "57              45           91   \n",
       "58              21           49   \n",
       "\n",
       "                                                 link  retweet reply_to  \n",
       "6   https://twitter.com/parents4future/status/1546...    False       []  \n",
       "12  https://twitter.com/hahnflo/status/15461339384...    False       []  \n",
       "13  https://twitter.com/VeganCardio/status/1546127...    False       []  \n",
       "22  https://twitter.com/bayernrocker/status/154607...    False       []  \n",
       "37  https://twitter.com/ClimateWorrier3/status/154...    False       []  \n",
       "38  https://twitter.com/DMugalizi/status/154571399...    False       []  \n",
       "44  https://twitter.com/Greenagewarrior/status/154...    False       []  \n",
       "52  https://twitter.com/FridayForFuture/status/154...    False       []  \n",
       "57  https://twitter.com/husainAemran/status/154547...    False       []  \n",
       "58  https://twitter.com/Nasadox_/status/1545475050...    False       []  "
      ]
     },
     "execution_count": 19,
     "metadata": {},
     "output_type": "execute_result"
    }
   ],
   "source": [
    "df.head(10)"
   ]
  },
  {
   "cell_type": "code",
   "execution_count": 20,
   "id": "4acd008b",
   "metadata": {},
   "outputs": [],
   "source": [
    "#Salvo le modifiche nel df nuovo\n",
    "df.to_csv('../Dataset FFF/fff.csv', index=False)"
   ]
  },
  {
   "cell_type": "markdown",
   "id": "d067d4bb",
   "metadata": {},
   "source": [
    "###  Creazione network di partenza"
   ]
  },
  {
   "cell_type": "code",
   "execution_count": 21,
   "id": "bcb1b603",
   "metadata": {},
   "outputs": [
    {
     "data": {
      "text/html": [
       "<div>\n",
       "<style scoped>\n",
       "    .dataframe tbody tr th:only-of-type {\n",
       "        vertical-align: middle;\n",
       "    }\n",
       "\n",
       "    .dataframe tbody tr th {\n",
       "        vertical-align: top;\n",
       "    }\n",
       "\n",
       "    .dataframe thead th {\n",
       "        text-align: right;\n",
       "    }\n",
       "</style>\n",
       "<table border=\"1\" class=\"dataframe\">\n",
       "  <thead>\n",
       "    <tr style=\"text-align: right;\">\n",
       "      <th></th>\n",
       "      <th>clean_tags</th>\n",
       "      <th>hashtags</th>\n",
       "      <th>date</th>\n",
       "      <th>user_id</th>\n",
       "      <th>username</th>\n",
       "      <th>name</th>\n",
       "      <th>tweet</th>\n",
       "      <th>language</th>\n",
       "      <th>mentions</th>\n",
       "      <th>urls</th>\n",
       "      <th>replies_count</th>\n",
       "      <th>retweets_count</th>\n",
       "      <th>likes_count</th>\n",
       "      <th>link</th>\n",
       "      <th>retweet</th>\n",
       "      <th>reply_to</th>\n",
       "    </tr>\n",
       "  </thead>\n",
       "  <tbody>\n",
       "    <tr>\n",
       "      <th>0</th>\n",
       "      <td>fridaysforfuture</td>\n",
       "      <td>['fridaysforfuture']</td>\n",
       "      <td>2022-07-10</td>\n",
       "      <td>1096766566279073792</td>\n",
       "      <td>parents4future</td>\n",
       "      <td>Parents For Future #EndFossilFuels</td>\n",
       "      <td>Eltern wissen, wer hier dumm ist. #FridaysForF...</td>\n",
       "      <td>de</td>\n",
       "      <td>[]</td>\n",
       "      <td>[]</td>\n",
       "      <td>21</td>\n",
       "      <td>54</td>\n",
       "      <td>595</td>\n",
       "      <td>https://twitter.com/parents4future/status/1546...</td>\n",
       "      <td>False</td>\n",
       "      <td>[]</td>\n",
       "    </tr>\n",
       "  </tbody>\n",
       "</table>\n",
       "</div>"
      ],
      "text/plain": [
       "         clean_tags              hashtags        date              user_id  \\\n",
       "0  fridaysforfuture  ['fridaysforfuture']  2022-07-10  1096766566279073792   \n",
       "\n",
       "         username                                name  \\\n",
       "0  parents4future  Parents For Future #EndFossilFuels   \n",
       "\n",
       "                                               tweet language mentions urls  \\\n",
       "0  Eltern wissen, wer hier dumm ist. #FridaysForF...       de       []   []   \n",
       "\n",
       "   replies_count  retweets_count  likes_count  \\\n",
       "0             21              54          595   \n",
       "\n",
       "                                                link  retweet reply_to  \n",
       "0  https://twitter.com/parents4future/status/1546...    False       []  "
      ]
     },
     "execution_count": 21,
     "metadata": {},
     "output_type": "execute_result"
    }
   ],
   "source": [
    "df1=pd.read_csv(\"../Dataset FFF/fff.csv\")\n",
    "df1.head(1)"
   ]
  },
  {
   "cell_type": "code",
   "execution_count": 22,
   "id": "5205d53c",
   "metadata": {},
   "outputs": [
    {
     "data": {
      "text/plain": [
       "17658"
      ]
     },
     "execution_count": 22,
     "metadata": {},
     "output_type": "execute_result"
    }
   ],
   "source": [
    "len(df1)"
   ]
  },
  {
   "cell_type": "code",
   "execution_count": 23,
   "id": "fecb539d",
   "metadata": {},
   "outputs": [],
   "source": [
    "#Ti crea un dizionario in cui le chiavi sono i tag singoli e i valori sono gli id degli user\n",
    "tags_dict = {}\n",
    "for i in range(len(df1)):\n",
    "    ll = str(df1[\"clean_tags\"][i]).split(\",\")[:-1]\n",
    "    for tg in ll:\n",
    "        if tg not in tags_dict:\n",
    "            tags_dict[tg] = [df1[\"tweet\"][i]]\n",
    "        else:\n",
    "            tags_dict[tg].append(df1[\"tweet\"][i])"
   ]
  },
  {
   "cell_type": "code",
   "execution_count": 24,
   "id": "140e202d",
   "metadata": {},
   "outputs": [],
   "source": [
    "#Crea la lista di tags dalle chiavi del dizionario e li associa alla variabile tag\n",
    "tags = list(tags_dict.keys())\n",
    "#crea una lista costituita da coppie di tags\n",
    "couple_tags = []\n",
    "for i in range(len(tags)):\n",
    "    for j in tags[i+1:]:\n",
    "        couple_tags.append((tags[i], j)) "
   ]
  },
  {
   "cell_type": "code",
   "execution_count": 25,
   "id": "d84c43c2",
   "metadata": {},
   "outputs": [
    {
     "data": {
      "text/plain": [
       "27302355"
      ]
     },
     "execution_count": 25,
     "metadata": {},
     "output_type": "execute_result"
    }
   ],
   "source": [
    "len(couple_tags)"
   ]
  },
  {
   "cell_type": "code",
   "execution_count": 26,
   "id": "edbe80bd",
   "metadata": {},
   "outputs": [
    {
     "data": {
      "text/plain": [
       "7390"
      ]
     },
     "execution_count": 26,
     "metadata": {},
     "output_type": "execute_result"
    }
   ],
   "source": [
    "len(tags)"
   ]
  },
  {
   "cell_type": "code",
   "execution_count": 27,
   "id": "1c68f381",
   "metadata": {},
   "outputs": [],
   "source": [
    "source = []\n",
    "target = []\n",
    "count = []\n",
    "nodes = []\n",
    "for i in couple_tags:\n",
    "    ll = list(set(tags_dict[i[0]]) & set(tags_dict[i[1]]))\n",
    "    if len(ll)>0:\n",
    "        source.append(i[0])\n",
    "        target.append(i[1])\n",
    "        count.append(len(ll))\n",
    "        nodes.append(i[0])\n",
    "        nodes.append(i[1])"
   ]
  },
  {
   "cell_type": "code",
   "execution_count": 28,
   "id": "713d507e",
   "metadata": {},
   "outputs": [
    {
     "data": {
      "text/plain": [
       "72046"
      ]
     },
     "execution_count": 28,
     "metadata": {},
     "output_type": "execute_result"
    }
   ],
   "source": [
    "len(nodes)"
   ]
  },
  {
   "cell_type": "code",
   "execution_count": 29,
   "id": "5f629ac0",
   "metadata": {},
   "outputs": [],
   "source": [
    "nodes = list(set(nodes)) #list()crea una lista; set(nodes) prende i nodi senza ripetizioni"
   ]
  },
  {
   "cell_type": "code",
   "execution_count": 30,
   "id": "89a2bbfe",
   "metadata": {},
   "outputs": [
    {
     "data": {
      "text/plain": [
       "6900"
      ]
     },
     "execution_count": 30,
     "metadata": {},
     "output_type": "execute_result"
    }
   ],
   "source": [
    "len(nodes)"
   ]
  },
  {
   "cell_type": "code",
   "execution_count": 31,
   "id": "33983f62",
   "metadata": {},
   "outputs": [],
   "source": [
    "new_df = pd.DataFrame({\"Id\": nodes})\n",
    "new_df.to_csv(\"../Dataset FFF/nodes.csv\", index=False)"
   ]
  },
  {
   "cell_type": "code",
   "execution_count": 32,
   "id": "1334c0bc",
   "metadata": {},
   "outputs": [],
   "source": [
    "new_df = pd.DataFrame({\"Source\": source,\n",
    "                       \"Target\": target,\n",
    "                      \"Count\": count})\n",
    "new_df.to_csv(\"../Dataset FFF/edges.csv\", index=False)"
   ]
  },
  {
   "cell_type": "markdown",
   "id": "6f4d0315",
   "metadata": {},
   "source": [
    "qui abbiamo salvato i dati di edges e nodi ma la cosa che facciamo dopo con nx prende in input gli edges e ne costruisce un network, non so perche però otteniamo un numwero di nodi diversi"
   ]
  },
  {
   "cell_type": "markdown",
   "id": "d563c741",
   "metadata": {},
   "source": [
    "## Risultato pulizia:"
   ]
  },
  {
   "cell_type": "code",
   "execution_count": 33,
   "id": "99cda4d3",
   "metadata": {},
   "outputs": [],
   "source": [
    "path = \"../Dataset FFF/edges.csv\"\n",
    "path_nodes = \"../Dataset FFF/nodes.csv\""
   ]
  },
  {
   "cell_type": "code",
   "execution_count": 34,
   "id": "30a97c37",
   "metadata": {},
   "outputs": [],
   "source": [
    "G = nx.read_edgelist(path, comments = \"S\", delimiter = \",\", data=((\"Count\", int),))"
   ]
  },
  {
   "cell_type": "code",
   "execution_count": 35,
   "id": "792fac0c",
   "metadata": {},
   "outputs": [
    {
     "name": "stdout",
     "output_type": "stream",
     "text": [
      "Name: \n",
      "Type: Graph\n",
      "Number of nodes: 8786\n",
      "Number of edges: 34505\n",
      "Average degree:   7.8545\n"
     ]
    }
   ],
   "source": [
    "print(nx.info(G))"
   ]
  },
  {
   "cell_type": "code",
   "execution_count": 36,
   "id": "fdc30afc",
   "metadata": {},
   "outputs": [
    {
     "data": {
      "text/plain": [
       "34505"
      ]
     },
     "execution_count": 36,
     "metadata": {},
     "output_type": "execute_result"
    }
   ],
   "source": [
    "len(list(G.edges(data=True)))"
   ]
  },
  {
   "cell_type": "code",
   "execution_count": null,
   "id": "72775bc9",
   "metadata": {},
   "outputs": [],
   "source": []
  },
  {
   "cell_type": "markdown",
   "id": "eca83e1b",
   "metadata": {},
   "source": [
    "### Degree\n"
   ]
  },
  {
   "cell_type": "code",
   "execution_count": 37,
   "id": "4654e0a7",
   "metadata": {},
   "outputs": [],
   "source": [
    "fff = pd.read_csv(path)\n",
    "fff1 = pd.read_csv(path_nodes)"
   ]
  },
  {
   "cell_type": "code",
   "execution_count": 38,
   "id": "c325a336",
   "metadata": {},
   "outputs": [
    {
     "data": {
      "text/html": [
       "<div>\n",
       "<style scoped>\n",
       "    .dataframe tbody tr th:only-of-type {\n",
       "        vertical-align: middle;\n",
       "    }\n",
       "\n",
       "    .dataframe tbody tr th {\n",
       "        vertical-align: top;\n",
       "    }\n",
       "\n",
       "    .dataframe thead th {\n",
       "        text-align: right;\n",
       "    }\n",
       "</style>\n",
       "<table border=\"1\" class=\"dataframe\">\n",
       "  <thead>\n",
       "    <tr style=\"text-align: right;\">\n",
       "      <th></th>\n",
       "      <th>Source</th>\n",
       "      <th>Target</th>\n",
       "      <th>Count</th>\n",
       "    </tr>\n",
       "  </thead>\n",
       "  <tbody>\n",
       "    <tr>\n",
       "      <th>3397</th>\n",
       "      <td>fridaysforfuture</td>\n",
       "      <td>climatestrike</td>\n",
       "      <td>634</td>\n",
       "    </tr>\n",
       "    <tr>\n",
       "      <th>10809</th>\n",
       "      <td>therapeutenamlimit</td>\n",
       "      <td>heimatstern</td>\n",
       "      <td>552</td>\n",
       "    </tr>\n",
       "    <tr>\n",
       "      <th>10833</th>\n",
       "      <td>einesorgeweniger</td>\n",
       "      <td>heimatstern</td>\n",
       "      <td>529</td>\n",
       "    </tr>\n",
       "    <tr>\n",
       "      <th>10864</th>\n",
       "      <td>heimatstern</td>\n",
       "      <td>ohnemeinenphysiotherapeuten</td>\n",
       "      <td>526</td>\n",
       "    </tr>\n",
       "    <tr>\n",
       "      <th>10808</th>\n",
       "      <td>therapeutenamlimit</td>\n",
       "      <td>einesorgeweniger</td>\n",
       "      <td>525</td>\n",
       "    </tr>\n",
       "    <tr>\n",
       "      <th>...</th>\n",
       "      <td>...</td>\n",
       "      <td>...</td>\n",
       "      <td>...</td>\n",
       "    </tr>\n",
       "    <tr>\n",
       "      <th>14203</th>\n",
       "      <td>klimakrise</td>\n",
       "      <td>goere</td>\n",
       "      <td>1</td>\n",
       "    </tr>\n",
       "    <tr>\n",
       "      <th>14202</th>\n",
       "      <td>klimakrise</td>\n",
       "      <td>demokratie</td>\n",
       "      <td>1</td>\n",
       "    </tr>\n",
       "    <tr>\n",
       "      <th>14201</th>\n",
       "      <td>klimakrise</td>\n",
       "      <td>fridays4future</td>\n",
       "      <td>1</td>\n",
       "    </tr>\n",
       "    <tr>\n",
       "      <th>14198</th>\n",
       "      <td>klimakrise</td>\n",
       "      <td>union</td>\n",
       "      <td>1</td>\n",
       "    </tr>\n",
       "    <tr>\n",
       "      <th>36022</th>\n",
       "      <td>jeunes</td>\n",
       "      <td>agitaction</td>\n",
       "      <td>1</td>\n",
       "    </tr>\n",
       "  </tbody>\n",
       "</table>\n",
       "<p>36023 rows × 3 columns</p>\n",
       "</div>"
      ],
      "text/plain": [
       "                    Source                       Target  Count\n",
       "3397      fridaysforfuture                climatestrike    634\n",
       "10809   therapeutenamlimit                  heimatstern    552\n",
       "10833     einesorgeweniger                  heimatstern    529\n",
       "10864          heimatstern  ohnemeinenphysiotherapeuten    526\n",
       "10808   therapeutenamlimit             einesorgeweniger    525\n",
       "...                    ...                          ...    ...\n",
       "14203           klimakrise                        goere      1\n",
       "14202           klimakrise                   demokratie      1\n",
       "14201           klimakrise               fridays4future      1\n",
       "14198           klimakrise                        union      1\n",
       "36022               jeunes                   agitaction      1\n",
       "\n",
       "[36023 rows x 3 columns]"
      ]
     },
     "execution_count": 38,
     "metadata": {},
     "output_type": "execute_result"
    }
   ],
   "source": [
    "fff.sort_values('Count', ascending=False)\n"
   ]
  },
  {
   "cell_type": "code",
   "execution_count": 39,
   "id": "5ce924a8",
   "metadata": {},
   "outputs": [
    {
     "data": {
      "text/html": [
       "<div>\n",
       "<style scoped>\n",
       "    .dataframe tbody tr th:only-of-type {\n",
       "        vertical-align: middle;\n",
       "    }\n",
       "\n",
       "    .dataframe tbody tr th {\n",
       "        vertical-align: top;\n",
       "    }\n",
       "\n",
       "    .dataframe thead th {\n",
       "        text-align: right;\n",
       "    }\n",
       "</style>\n",
       "<table border=\"1\" class=\"dataframe\">\n",
       "  <thead>\n",
       "    <tr style=\"text-align: right;\">\n",
       "      <th></th>\n",
       "      <th>Id</th>\n",
       "    </tr>\n",
       "  </thead>\n",
       "  <tbody>\n",
       "    <tr>\n",
       "      <th>0</th>\n",
       "      <td>hola</td>\n",
       "    </tr>\n",
       "    <tr>\n",
       "      <th>1</th>\n",
       "      <td>klimapakt</td>\n",
       "    </tr>\n",
       "    <tr>\n",
       "      <th>2</th>\n",
       "      <td>hro</td>\n",
       "    </tr>\n",
       "    <tr>\n",
       "      <th>3</th>\n",
       "      <td>blackfridaysale</td>\n",
       "    </tr>\n",
       "    <tr>\n",
       "      <th>4</th>\n",
       "      <td>sustentable</td>\n",
       "    </tr>\n",
       "    <tr>\n",
       "      <th>...</th>\n",
       "      <td>...</td>\n",
       "    </tr>\n",
       "    <tr>\n",
       "      <th>6895</th>\n",
       "      <td>teamgeist</td>\n",
       "    </tr>\n",
       "    <tr>\n",
       "      <th>6896</th>\n",
       "      <td>siemenslügt</td>\n",
       "    </tr>\n",
       "    <tr>\n",
       "      <th>6897</th>\n",
       "      <td>enkelbriefe</td>\n",
       "    </tr>\n",
       "    <tr>\n",
       "      <th>6898</th>\n",
       "      <td>whistleblower</td>\n",
       "    </tr>\n",
       "    <tr>\n",
       "      <th>6899</th>\n",
       "      <td>savesoil</td>\n",
       "    </tr>\n",
       "  </tbody>\n",
       "</table>\n",
       "<p>6900 rows × 1 columns</p>\n",
       "</div>"
      ],
      "text/plain": [
       "                    Id\n",
       "0                 hola\n",
       "1            klimapakt\n",
       "2                  hro\n",
       "3      blackfridaysale\n",
       "4          sustentable\n",
       "...                ...\n",
       "6895         teamgeist\n",
       "6896       siemenslügt\n",
       "6897       enkelbriefe\n",
       "6898     whistleblower\n",
       "6899          savesoil\n",
       "\n",
       "[6900 rows x 1 columns]"
      ]
     },
     "execution_count": 39,
     "metadata": {},
     "output_type": "execute_result"
    }
   ],
   "source": [
    "fff1"
   ]
  },
  {
   "cell_type": "code",
   "execution_count": 40,
   "id": "7e2b6e6a",
   "metadata": {},
   "outputs": [
    {
     "name": "stdout",
     "output_type": "stream",
     "text": [
      " ---- Top 20 nodes by degree ----\n",
      "\t('fridaysforfuture', 4671)\n",
      "\t('climatestrike', 1352)\n",
      "\t('climateaction', 764)\n",
      "\t('climatecrisis', 721)\n",
      "\t('climatechange', 566)\n",
      "\t('climateemergency', 551)\n",
      "\t('klimaschutz', 455)\n",
      "\t('fridayforfuture', 395)\n",
      "\t('klimakrise', 368)\n",
      "\t('gretathunberg', 362)\n",
      "\t('climatestrikeonline', 358)\n",
      "\t('klimastreik', 321)\n",
      "\t('climate', 311)\n",
      "\t('fff', 302)\n",
      "\t('climateactionnow', 297)\n",
      "\t('schoolstrike4climate', 295)\n",
      "\t('klimawandel', 294)\n",
      "\t('climatejustice', 288)\n",
      "\t('fridaymotivation', 270)\n",
      "\t('fridayfeeling', 259)\n"
     ]
    }
   ],
   "source": [
    "degree_dict = dict(G.degree(G.nodes()))\n",
    "nx.set_node_attributes(G, degree_dict, 'degree')\n",
    "sorted_degree = sorted(degree_dict.items(), key = itemgetter(1), reverse = True)\n",
    "print(\" ---- Top 20 nodes by degree ----\")\n",
    "for d in sorted_degree[:20]:\n",
    "    print(\"\\t\" + str(d))"
   ]
  }
 ],
 "metadata": {
  "kernelspec": {
   "display_name": "Python 3",
   "language": "python",
   "name": "python3"
  },
  "language_info": {
   "codemirror_mode": {
    "name": "ipython",
    "version": 3
   },
   "file_extension": ".py",
   "mimetype": "text/x-python",
   "name": "python",
   "nbconvert_exporter": "python",
   "pygments_lexer": "ipython3",
   "version": "3.8.8"
  }
 },
 "nbformat": 4,
 "nbformat_minor": 5
}
