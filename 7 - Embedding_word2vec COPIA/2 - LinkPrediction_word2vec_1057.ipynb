{
 "cells": [
  {
   "cell_type": "code",
   "execution_count": 1,
   "id": "0dfd1c08",
   "metadata": {},
   "outputs": [],
   "source": [
    "import pandas as pd\n",
    "import numpy as np\n",
    "import random\n",
    "import networkx as nx\n",
    "from tqdm import tqdm\n",
    "import re\n",
    "import matplotlib.pyplot as plt\n",
    "import itertools\n",
    "from operator import itemgetter\n",
    "import pickle\n",
    "\n",
    "from sklearn.linear_model import LogisticRegression\n",
    "from sklearn.metrics import classification_report, roc_auc_score\n",
    "from sklearn.model_selection import train_test_split\n",
    "from sklearn.metrics import confusion_matrix\n",
    "from sklearn.metrics import roc_curve\n",
    "from sklearn.metrics import auc"
   ]
  },
  {
   "cell_type": "code",
   "execution_count": 2,
   "id": "5014267e",
   "metadata": {},
   "outputs": [],
   "source": [
    "import tensorflow as tf\n",
    "import tensorflow.keras\n",
    "import tensorflow.keras.backend as K\n",
    "from tensorflow.keras.models import Sequential \n",
    "from tensorflow.keras.layers import Dense, Activation\n",
    "from tensorflow.keras.wrappers.scikit_learn import KerasClassifier\n",
    "from tensorflow.keras import optimizers, utils, initializers, regularizers\n",
    "from tensorflow.keras.callbacks import EarlyStopping"
   ]
  },
  {
   "cell_type": "code",
   "execution_count": 3,
   "id": "c555a2a2",
   "metadata": {},
   "outputs": [],
   "source": [
    "import linkpred\n",
    "from linkpred.evaluation import Pair\n",
    "import seaborn as sns"
   ]
  },
  {
   "cell_type": "code",
   "execution_count": 4,
   "id": "d25c2613",
   "metadata": {},
   "outputs": [],
   "source": [
    "import sklearn.metrics as metrics"
   ]
  },
  {
   "cell_type": "code",
   "execution_count": 5,
   "id": "d61eaaad",
   "metadata": {},
   "outputs": [],
   "source": [
    "from gensim.models import Word2Vec"
   ]
  },
  {
   "cell_type": "code",
   "execution_count": 6,
   "id": "474bb3f5",
   "metadata": {},
   "outputs": [],
   "source": [
    "with open('universe_1057.pickle', 'rb') as f:\n",
    "    universe_1057 = pickle.load(f)"
   ]
  },
  {
   "cell_type": "code",
   "execution_count": 7,
   "id": "3e0e5a88",
   "metadata": {},
   "outputs": [],
   "source": [
    "embedding_pickle_1057 = pd.read_pickle('embedding_pickle_1057.csv')"
   ]
  },
  {
   "cell_type": "code",
   "execution_count": 8,
   "id": "37b1cf99",
   "metadata": {},
   "outputs": [],
   "source": [
    "edges_1057 = pd.read_pickle('edges_original_1057.csv')"
   ]
  },
  {
   "cell_type": "code",
   "execution_count": 9,
   "id": "33d33b15",
   "metadata": {},
   "outputs": [],
   "source": [
    "all_unconnected_pairs_1057 = []"
   ]
  },
  {
   "cell_type": "code",
   "execution_count": 10,
   "id": "02906d2f",
   "metadata": {},
   "outputs": [],
   "source": [
    "def check_isequal(x, a, b):\n",
    "    if x[0] == a:\n",
    "        if x[1] == b:\n",
    "            return True\n",
    "    return False"
   ]
  },
  {
   "cell_type": "code",
   "execution_count": 11,
   "id": "ea75f045",
   "metadata": {},
   "outputs": [],
   "source": [
    "for ui in universe_1057:\n",
    "    is_not = False\n",
    "    for i,j in edges_1057.values:\n",
    "        if check_isequal(ui, i, j):\n",
    "            is_not = True\n",
    "            break\n",
    "    if not is_not:\n",
    "        all_unconnected_pairs_1057.append((ui[0], ui[1]))"
   ]
  },
  {
   "cell_type": "code",
   "execution_count": 12,
   "id": "dd2ed61e",
   "metadata": {},
   "outputs": [],
   "source": [
    "word2vec_1057 = Word2Vec.load(\"word2vec_1057.model\")"
   ]
  },
  {
   "cell_type": "markdown",
   "id": "5584465b",
   "metadata": {},
   "source": [
    "Collegamenti inesistenti => target negativo"
   ]
  },
  {
   "cell_type": "code",
   "execution_count": 13,
   "id": "1f50394e",
   "metadata": {},
   "outputs": [],
   "source": [
    "node_1_unlinked = [word2vec_1057.wv[i[0]] for i in all_unconnected_pairs_1057]\n",
    "node_2_unlinked = [word2vec_1057.wv[i[1]] for i in all_unconnected_pairs_1057]\n",
    "\n",
    "data_1057 = pd.DataFrame({'node_1':node_1_unlinked, \n",
    "                     'node_2':node_2_unlinked})\n",
    "\n",
    "# add target variable 'link'\n",
    "data_1057['link'] = 0"
   ]
  },
  {
   "cell_type": "code",
   "execution_count": 14,
   "id": "5a00f1b1",
   "metadata": {},
   "outputs": [
    {
     "data": {
      "text/html": [
       "<div>\n",
       "<style scoped>\n",
       "    .dataframe tbody tr th:only-of-type {\n",
       "        vertical-align: middle;\n",
       "    }\n",
       "\n",
       "    .dataframe tbody tr th {\n",
       "        vertical-align: top;\n",
       "    }\n",
       "\n",
       "    .dataframe thead th {\n",
       "        text-align: right;\n",
       "    }\n",
       "</style>\n",
       "<table border=\"1\" class=\"dataframe\">\n",
       "  <thead>\n",
       "    <tr style=\"text-align: right;\">\n",
       "      <th></th>\n",
       "      <th>node_1</th>\n",
       "      <th>node_2</th>\n",
       "      <th>link</th>\n",
       "    </tr>\n",
       "  </thead>\n",
       "  <tbody>\n",
       "    <tr>\n",
       "      <th>0</th>\n",
       "      <td>[-0.004029544, 0.005909367, -0.009431077, -0.0...</td>\n",
       "      <td>[-0.002808011, 0.008729938, -0.0030782113, -0....</td>\n",
       "      <td>0</td>\n",
       "    </tr>\n",
       "    <tr>\n",
       "      <th>1</th>\n",
       "      <td>[0.0052940776, -0.00034964527, -0.0025018135, ...</td>\n",
       "      <td>[-0.004768085, -0.0022963774, 0.0057055135, 0....</td>\n",
       "      <td>0</td>\n",
       "    </tr>\n",
       "    <tr>\n",
       "      <th>2</th>\n",
       "      <td>[-0.002272107, 0.0069066547, -0.009370051, -0....</td>\n",
       "      <td>[-0.00038697114, 7.716117e-05, 0.008939102, -0...</td>\n",
       "      <td>0</td>\n",
       "    </tr>\n",
       "    <tr>\n",
       "      <th>3</th>\n",
       "      <td>[0.0025233123, 0.007877934, 0.0061169583, 0.00...</td>\n",
       "      <td>[-0.009035716, 0.009190363, 0.007643464, -0.00...</td>\n",
       "      <td>0</td>\n",
       "    </tr>\n",
       "    <tr>\n",
       "      <th>4</th>\n",
       "      <td>[-0.00788017, -0.009050664, 0.0042381403, -0.0...</td>\n",
       "      <td>[-0.0018274903, -0.0011091642, 0.0048377938, 0...</td>\n",
       "      <td>0</td>\n",
       "    </tr>\n",
       "    <tr>\n",
       "      <th>...</th>\n",
       "      <td>...</td>\n",
       "      <td>...</td>\n",
       "      <td>...</td>\n",
       "    </tr>\n",
       "    <tr>\n",
       "      <th>3888</th>\n",
       "      <td>[-0.00762396, -0.0095786825, -0.0043723052, 0....</td>\n",
       "      <td>[-0.0018528695, 0.006204947, -0.006871443, 0.0...</td>\n",
       "      <td>0</td>\n",
       "    </tr>\n",
       "    <tr>\n",
       "      <th>3889</th>\n",
       "      <td>[-0.0051412056, -0.0051100506, -0.005624291, -...</td>\n",
       "      <td>[0.007287868, 0.001381168, -0.0073154424, 0.00...</td>\n",
       "      <td>0</td>\n",
       "    </tr>\n",
       "    <tr>\n",
       "      <th>3890</th>\n",
       "      <td>[-0.005842145, -0.0060832286, -0.007844865, 0....</td>\n",
       "      <td>[-0.0018528695, 0.006204947, -0.006871443, 0.0...</td>\n",
       "      <td>0</td>\n",
       "    </tr>\n",
       "    <tr>\n",
       "      <th>3891</th>\n",
       "      <td>[-0.004029544, 0.005909367, -0.009431077, -0.0...</td>\n",
       "      <td>[0.0001300528, -0.007096527, 0.008575471, -0.0...</td>\n",
       "      <td>0</td>\n",
       "    </tr>\n",
       "    <tr>\n",
       "      <th>3892</th>\n",
       "      <td>[0.008950044, -0.0065531647, -0.0049238647, 0....</td>\n",
       "      <td>[0.0042403387, -0.009255243, 0.007099749, -0.0...</td>\n",
       "      <td>0</td>\n",
       "    </tr>\n",
       "  </tbody>\n",
       "</table>\n",
       "<p>3893 rows × 3 columns</p>\n",
       "</div>"
      ],
      "text/plain": [
       "                                                 node_1  \\\n",
       "0     [-0.004029544, 0.005909367, -0.009431077, -0.0...   \n",
       "1     [0.0052940776, -0.00034964527, -0.0025018135, ...   \n",
       "2     [-0.002272107, 0.0069066547, -0.009370051, -0....   \n",
       "3     [0.0025233123, 0.007877934, 0.0061169583, 0.00...   \n",
       "4     [-0.00788017, -0.009050664, 0.0042381403, -0.0...   \n",
       "...                                                 ...   \n",
       "3888  [-0.00762396, -0.0095786825, -0.0043723052, 0....   \n",
       "3889  [-0.0051412056, -0.0051100506, -0.005624291, -...   \n",
       "3890  [-0.005842145, -0.0060832286, -0.007844865, 0....   \n",
       "3891  [-0.004029544, 0.005909367, -0.009431077, -0.0...   \n",
       "3892  [0.008950044, -0.0065531647, -0.0049238647, 0....   \n",
       "\n",
       "                                                 node_2  link  \n",
       "0     [-0.002808011, 0.008729938, -0.0030782113, -0....     0  \n",
       "1     [-0.004768085, -0.0022963774, 0.0057055135, 0....     0  \n",
       "2     [-0.00038697114, 7.716117e-05, 0.008939102, -0...     0  \n",
       "3     [-0.009035716, 0.009190363, 0.007643464, -0.00...     0  \n",
       "4     [-0.0018274903, -0.0011091642, 0.0048377938, 0...     0  \n",
       "...                                                 ...   ...  \n",
       "3888  [-0.0018528695, 0.006204947, -0.006871443, 0.0...     0  \n",
       "3889  [0.007287868, 0.001381168, -0.0073154424, 0.00...     0  \n",
       "3890  [-0.0018528695, 0.006204947, -0.006871443, 0.0...     0  \n",
       "3891  [0.0001300528, -0.007096527, 0.008575471, -0.0...     0  \n",
       "3892  [0.0042403387, -0.009255243, 0.007099749, -0.0...     0  \n",
       "\n",
       "[3893 rows x 3 columns]"
      ]
     },
     "execution_count": 14,
     "metadata": {},
     "output_type": "execute_result"
    }
   ],
   "source": [
    "data_1057"
   ]
  },
  {
   "cell_type": "code",
   "execution_count": 15,
   "id": "0fdc78ec",
   "metadata": {},
   "outputs": [],
   "source": [
    "H_1057 = nx.read_graphml(\"H_1057.graphml\")"
   ]
  },
  {
   "cell_type": "code",
   "execution_count": 16,
   "id": "983ecfcc",
   "metadata": {},
   "outputs": [
    {
     "name": "stdout",
     "output_type": "stream",
     "text": [
      "Name: \n",
      "Type: Graph\n",
      "Number of nodes: 97\n",
      "Number of edges: 1486\n",
      "Average degree:  30.6392\n"
     ]
    }
   ],
   "source": [
    "print(nx.info(H_1057))"
   ]
  },
  {
   "cell_type": "code",
   "execution_count": 17,
   "id": "760a2f44",
   "metadata": {},
   "outputs": [],
   "source": [
    "def omissibile_links(G, df_edges):\n",
    "    initial_node_count = len(G.nodes)\n",
    "\n",
    "    fb_df_temp = df_edges.copy()\n",
    "\n",
    "    # empty list to store removable links\n",
    "    omissible_links_index = []\n",
    "\n",
    "    for i in tqdm(df_edges.index.values):\n",
    "\n",
    "      # remove a node pair and build a new graph\n",
    "      G_temp = nx.from_pandas_edgelist(fb_df_temp.drop(index = i), \"first\", \"second\", create_using=nx.Graph())\n",
    "\n",
    "      # check there is no spliting of graph and number of nodes is same\n",
    "      if (nx.number_connected_components(G_temp) == 1) and (len(G_temp.nodes) == initial_node_count):\n",
    "        omissible_links_index.append(i)\n",
    "        fb_df_temp = fb_df_temp.drop(index = i)\n",
    "    return omissible_links_index"
   ]
  },
  {
   "cell_type": "code",
   "execution_count": 18,
   "id": "493151bb",
   "metadata": {},
   "outputs": [
    {
     "name": "stderr",
     "output_type": "stream",
     "text": [
      "100%|█████████████████████████████████████████████████████████████████████████████| 1486/1486 [00:02<00:00, 550.34it/s]\n"
     ]
    }
   ],
   "source": [
    "omissible_links_1057 =  omissibile_links(H_1057, edges_1057)"
   ]
  },
  {
   "cell_type": "code",
   "execution_count": 19,
   "id": "2b79ca5b",
   "metadata": {},
   "outputs": [
    {
     "data": {
      "text/plain": [
       "1486"
      ]
     },
     "execution_count": 19,
     "metadata": {},
     "output_type": "execute_result"
    }
   ],
   "source": [
    "len(edges_1057)"
   ]
  },
  {
   "cell_type": "code",
   "execution_count": 20,
   "id": "733b4eaf",
   "metadata": {},
   "outputs": [
    {
     "data": {
      "text/plain": [
       "1390"
      ]
     },
     "execution_count": 20,
     "metadata": {},
     "output_type": "execute_result"
    }
   ],
   "source": [
    "len(omissible_links_1057)"
   ]
  },
  {
   "cell_type": "code",
   "execution_count": 21,
   "id": "6960ff0e",
   "metadata": {},
   "outputs": [
    {
     "data": {
      "text/plain": [
       "4656"
      ]
     },
     "execution_count": 21,
     "metadata": {},
     "output_type": "execute_result"
    }
   ],
   "source": [
    "len(universe_1057)"
   ]
  },
  {
   "cell_type": "code",
   "execution_count": 22,
   "id": "ca71ecf3",
   "metadata": {},
   "outputs": [
    {
     "data": {
      "text/html": [
       "<div>\n",
       "<style scoped>\n",
       "    .dataframe tbody tr th:only-of-type {\n",
       "        vertical-align: middle;\n",
       "    }\n",
       "\n",
       "    .dataframe tbody tr th {\n",
       "        vertical-align: top;\n",
       "    }\n",
       "\n",
       "    .dataframe thead th {\n",
       "        text-align: right;\n",
       "    }\n",
       "</style>\n",
       "<table border=\"1\" class=\"dataframe\">\n",
       "  <thead>\n",
       "    <tr style=\"text-align: right;\">\n",
       "      <th></th>\n",
       "      <th>first</th>\n",
       "      <th>second</th>\n",
       "    </tr>\n",
       "  </thead>\n",
       "  <tbody>\n",
       "    <tr>\n",
       "      <th>0</th>\n",
       "      <td>[-0.0067305905, 0.008604753, -0.009962158, 0.0...</td>\n",
       "      <td>[0.00579291, -0.009710455, -0.0018261216, 0.00...</td>\n",
       "    </tr>\n",
       "    <tr>\n",
       "      <th>1</th>\n",
       "      <td>[-0.0067305905, 0.008604753, -0.009962158, 0.0...</td>\n",
       "      <td>[-0.005854544, 0.004006448, 0.0012593302, -0.0...</td>\n",
       "    </tr>\n",
       "    <tr>\n",
       "      <th>2</th>\n",
       "      <td>[-0.0067305905, 0.008604753, -0.009962158, 0.0...</td>\n",
       "      <td>[-0.009007853, 0.010250819, -0.00019994462, -0...</td>\n",
       "    </tr>\n",
       "    <tr>\n",
       "      <th>3</th>\n",
       "      <td>[-0.0067305905, 0.008604753, -0.009962158, 0.0...</td>\n",
       "      <td>[-0.004031753, 0.008645464, 0.0069751577, -0.0...</td>\n",
       "    </tr>\n",
       "    <tr>\n",
       "      <th>4</th>\n",
       "      <td>[-0.0067305905, 0.008604753, -0.009962158, 0.0...</td>\n",
       "      <td>[0.004984007, 0.0060267765, 0.0017293151, 0.00...</td>\n",
       "    </tr>\n",
       "    <tr>\n",
       "      <th>...</th>\n",
       "      <td>...</td>\n",
       "      <td>...</td>\n",
       "    </tr>\n",
       "    <tr>\n",
       "      <th>1481</th>\n",
       "      <td>[0.009549069, 0.004714752, -0.002151297, -0.00...</td>\n",
       "      <td>[0.0012623224, 0.0013071975, -0.0043557603, -0...</td>\n",
       "    </tr>\n",
       "    <tr>\n",
       "      <th>1482</th>\n",
       "      <td>[0.009549069, 0.004714752, -0.002151297, -0.00...</td>\n",
       "      <td>[-0.00026423682, 0.009727423, -0.0058031147, -...</td>\n",
       "    </tr>\n",
       "    <tr>\n",
       "      <th>1483</th>\n",
       "      <td>[-0.00910064, 0.004200009, -0.0066999607, 0.00...</td>\n",
       "      <td>[-0.005854544, 0.004006448, 0.0012593302, -0.0...</td>\n",
       "    </tr>\n",
       "    <tr>\n",
       "      <th>1484</th>\n",
       "      <td>[-0.00026423682, 0.009727423, -0.0058031147, -...</td>\n",
       "      <td>[-0.005854544, 0.004006448, 0.0012593302, -0.0...</td>\n",
       "    </tr>\n",
       "    <tr>\n",
       "      <th>1485</th>\n",
       "      <td>[-0.00026423682, 0.009727423, -0.0058031147, -...</td>\n",
       "      <td>[0.0012623224, 0.0013071975, -0.0043557603, -0...</td>\n",
       "    </tr>\n",
       "  </tbody>\n",
       "</table>\n",
       "<p>1486 rows × 2 columns</p>\n",
       "</div>"
      ],
      "text/plain": [
       "                                                  first  \\\n",
       "0     [-0.0067305905, 0.008604753, -0.009962158, 0.0...   \n",
       "1     [-0.0067305905, 0.008604753, -0.009962158, 0.0...   \n",
       "2     [-0.0067305905, 0.008604753, -0.009962158, 0.0...   \n",
       "3     [-0.0067305905, 0.008604753, -0.009962158, 0.0...   \n",
       "4     [-0.0067305905, 0.008604753, -0.009962158, 0.0...   \n",
       "...                                                 ...   \n",
       "1481  [0.009549069, 0.004714752, -0.002151297, -0.00...   \n",
       "1482  [0.009549069, 0.004714752, -0.002151297, -0.00...   \n",
       "1483  [-0.00910064, 0.004200009, -0.0066999607, 0.00...   \n",
       "1484  [-0.00026423682, 0.009727423, -0.0058031147, -...   \n",
       "1485  [-0.00026423682, 0.009727423, -0.0058031147, -...   \n",
       "\n",
       "                                                 second  \n",
       "0     [0.00579291, -0.009710455, -0.0018261216, 0.00...  \n",
       "1     [-0.005854544, 0.004006448, 0.0012593302, -0.0...  \n",
       "2     [-0.009007853, 0.010250819, -0.00019994462, -0...  \n",
       "3     [-0.004031753, 0.008645464, 0.0069751577, -0.0...  \n",
       "4     [0.004984007, 0.0060267765, 0.0017293151, 0.00...  \n",
       "...                                                 ...  \n",
       "1481  [0.0012623224, 0.0013071975, -0.0043557603, -0...  \n",
       "1482  [-0.00026423682, 0.009727423, -0.0058031147, -...  \n",
       "1483  [-0.005854544, 0.004006448, 0.0012593302, -0.0...  \n",
       "1484  [-0.005854544, 0.004006448, 0.0012593302, -0.0...  \n",
       "1485  [0.0012623224, 0.0013071975, -0.0043557603, -0...  \n",
       "\n",
       "[1486 rows x 2 columns]"
      ]
     },
     "execution_count": 22,
     "metadata": {},
     "output_type": "execute_result"
    }
   ],
   "source": [
    "embedding_pickle_1057"
   ]
  },
  {
   "cell_type": "code",
   "execution_count": 23,
   "id": "b818ad27",
   "metadata": {},
   "outputs": [],
   "source": [
    "fb_df_ghost_1057 = embedding_pickle_1057.loc[omissible_links_1057]"
   ]
  },
  {
   "cell_type": "code",
   "execution_count": 24,
   "id": "0037efce",
   "metadata": {},
   "outputs": [
    {
     "data": {
      "text/html": [
       "<div>\n",
       "<style scoped>\n",
       "    .dataframe tbody tr th:only-of-type {\n",
       "        vertical-align: middle;\n",
       "    }\n",
       "\n",
       "    .dataframe tbody tr th {\n",
       "        vertical-align: top;\n",
       "    }\n",
       "\n",
       "    .dataframe thead th {\n",
       "        text-align: right;\n",
       "    }\n",
       "</style>\n",
       "<table border=\"1\" class=\"dataframe\">\n",
       "  <thead>\n",
       "    <tr style=\"text-align: right;\">\n",
       "      <th></th>\n",
       "      <th>first</th>\n",
       "      <th>second</th>\n",
       "    </tr>\n",
       "  </thead>\n",
       "  <tbody>\n",
       "    <tr>\n",
       "      <th>0</th>\n",
       "      <td>[-0.0067305905, 0.008604753, -0.009962158, 0.0...</td>\n",
       "      <td>[0.00579291, -0.009710455, -0.0018261216, 0.00...</td>\n",
       "    </tr>\n",
       "    <tr>\n",
       "      <th>1</th>\n",
       "      <td>[-0.0067305905, 0.008604753, -0.009962158, 0.0...</td>\n",
       "      <td>[-0.005854544, 0.004006448, 0.0012593302, -0.0...</td>\n",
       "    </tr>\n",
       "    <tr>\n",
       "      <th>2</th>\n",
       "      <td>[-0.0067305905, 0.008604753, -0.009962158, 0.0...</td>\n",
       "      <td>[-0.009007853, 0.010250819, -0.00019994462, -0...</td>\n",
       "    </tr>\n",
       "    <tr>\n",
       "      <th>3</th>\n",
       "      <td>[-0.0067305905, 0.008604753, -0.009962158, 0.0...</td>\n",
       "      <td>[-0.004031753, 0.008645464, 0.0069751577, -0.0...</td>\n",
       "    </tr>\n",
       "    <tr>\n",
       "      <th>4</th>\n",
       "      <td>[-0.0067305905, 0.008604753, -0.009962158, 0.0...</td>\n",
       "      <td>[0.004984007, 0.0060267765, 0.0017293151, 0.00...</td>\n",
       "    </tr>\n",
       "    <tr>\n",
       "      <th>...</th>\n",
       "      <td>...</td>\n",
       "      <td>...</td>\n",
       "    </tr>\n",
       "    <tr>\n",
       "      <th>1475</th>\n",
       "      <td>[-0.009666364, 0.0047051175, 0.005463008, 0.00...</td>\n",
       "      <td>[-0.005854544, 0.004006448, 0.0012593302, -0.0...</td>\n",
       "    </tr>\n",
       "    <tr>\n",
       "      <th>1476</th>\n",
       "      <td>[-0.009666364, 0.0047051175, 0.005463008, 0.00...</td>\n",
       "      <td>[0.0012623224, 0.0013071975, -0.0043557603, -0...</td>\n",
       "    </tr>\n",
       "    <tr>\n",
       "      <th>1477</th>\n",
       "      <td>[-0.009666364, 0.0047051175, 0.005463008, 0.00...</td>\n",
       "      <td>[0.009549069, 0.004714752, -0.002151297, -0.00...</td>\n",
       "    </tr>\n",
       "    <tr>\n",
       "      <th>1479</th>\n",
       "      <td>[-0.009666364, 0.0047051175, 0.005463008, 0.00...</td>\n",
       "      <td>[-0.00910064, 0.004200009, -0.0066999607, 0.00...</td>\n",
       "    </tr>\n",
       "    <tr>\n",
       "      <th>1481</th>\n",
       "      <td>[0.009549069, 0.004714752, -0.002151297, -0.00...</td>\n",
       "      <td>[0.0012623224, 0.0013071975, -0.0043557603, -0...</td>\n",
       "    </tr>\n",
       "  </tbody>\n",
       "</table>\n",
       "<p>1390 rows × 2 columns</p>\n",
       "</div>"
      ],
      "text/plain": [
       "                                                  first  \\\n",
       "0     [-0.0067305905, 0.008604753, -0.009962158, 0.0...   \n",
       "1     [-0.0067305905, 0.008604753, -0.009962158, 0.0...   \n",
       "2     [-0.0067305905, 0.008604753, -0.009962158, 0.0...   \n",
       "3     [-0.0067305905, 0.008604753, -0.009962158, 0.0...   \n",
       "4     [-0.0067305905, 0.008604753, -0.009962158, 0.0...   \n",
       "...                                                 ...   \n",
       "1475  [-0.009666364, 0.0047051175, 0.005463008, 0.00...   \n",
       "1476  [-0.009666364, 0.0047051175, 0.005463008, 0.00...   \n",
       "1477  [-0.009666364, 0.0047051175, 0.005463008, 0.00...   \n",
       "1479  [-0.009666364, 0.0047051175, 0.005463008, 0.00...   \n",
       "1481  [0.009549069, 0.004714752, -0.002151297, -0.00...   \n",
       "\n",
       "                                                 second  \n",
       "0     [0.00579291, -0.009710455, -0.0018261216, 0.00...  \n",
       "1     [-0.005854544, 0.004006448, 0.0012593302, -0.0...  \n",
       "2     [-0.009007853, 0.010250819, -0.00019994462, -0...  \n",
       "3     [-0.004031753, 0.008645464, 0.0069751577, -0.0...  \n",
       "4     [0.004984007, 0.0060267765, 0.0017293151, 0.00...  \n",
       "...                                                 ...  \n",
       "1475  [-0.005854544, 0.004006448, 0.0012593302, -0.0...  \n",
       "1476  [0.0012623224, 0.0013071975, -0.0043557603, -0...  \n",
       "1477  [0.009549069, 0.004714752, -0.002151297, -0.00...  \n",
       "1479  [-0.00910064, 0.004200009, -0.0066999607, 0.00...  \n",
       "1481  [0.0012623224, 0.0013071975, -0.0043557603, -0...  \n",
       "\n",
       "[1390 rows x 2 columns]"
      ]
     },
     "execution_count": 24,
     "metadata": {},
     "output_type": "execute_result"
    }
   ],
   "source": [
    "fb_df_ghost_1057"
   ]
  },
  {
   "cell_type": "code",
   "execution_count": 25,
   "id": "dec706cd",
   "metadata": {},
   "outputs": [],
   "source": [
    "# create dataframe of removable edges\n",
    "fb_df_ghost_1057 = embedding_pickle_1057.loc[omissible_links_1057]\n",
    "\n",
    "fb_df_ghost_1057 = fb_df_ghost_1057.rename(columns={\"first\": \"node_1\", \"second\": \"node_2\"})\n",
    "# add the target variable 'link'\n",
    "fb_df_ghost_1057['link'] = 1\n",
    "\n",
    "data_1057 = data_1057.append(fb_df_ghost_1057[['node_1', 'node_2', 'link']], ignore_index=True)"
   ]
  },
  {
   "cell_type": "code",
   "execution_count": 26,
   "id": "90f8c663",
   "metadata": {
    "scrolled": true
   },
   "outputs": [
    {
     "data": {
      "text/plain": [
       "0    3893\n",
       "1    1390\n",
       "Name: link, dtype: int64"
      ]
     },
     "execution_count": 26,
     "metadata": {},
     "output_type": "execute_result"
    }
   ],
   "source": [
    "data_1057['link'].value_counts()"
   ]
  },
  {
   "cell_type": "code",
   "execution_count": 27,
   "id": "f9e81e31",
   "metadata": {},
   "outputs": [],
   "source": [
    "data_1057.to_pickle(\"data_1057.csv\")"
   ]
  },
  {
   "cell_type": "markdown",
   "id": "90122197",
   "metadata": {},
   "source": [
    "----------------- Lettura dati -------------------"
   ]
  },
  {
   "cell_type": "code",
   "execution_count": 28,
   "id": "64633754",
   "metadata": {},
   "outputs": [],
   "source": [
    "data_1057 = pd.read_pickle('data_1057.csv')"
   ]
  },
  {
   "cell_type": "markdown",
   "id": "6b656fce",
   "metadata": {},
   "source": [
    "# 2 - Classificatori"
   ]
  },
  {
   "cell_type": "code",
   "execution_count": 29,
   "id": "95b21bf9",
   "metadata": {},
   "outputs": [],
   "source": [
    "X_1057 = []\n",
    "for i in range(data_1057.shape[0]):\n",
    "    first = data_1057.iloc[i][0]\n",
    "    second = data_1057.iloc[i][1]\n",
    "    mixed = np.concatenate((first, second), 0)\n",
    "    X_1057.append(mixed)"
   ]
  },
  {
   "cell_type": "code",
   "execution_count": 30,
   "id": "5f4355ea",
   "metadata": {},
   "outputs": [],
   "source": [
    "xtrain_1057, xtest_1057, ytrain_1057, ytest_1057 = train_test_split(np.asarray(X_1057), data_1057['link'], \n",
    "                                                test_size = 0.3, \n",
    "                                                random_state = 35,\n",
    "                                                stratify=data_1057['link'])"
   ]
  },
  {
   "cell_type": "markdown",
   "id": "7d02c877",
   "metadata": {},
   "source": [
    "### 1 - DecisionTree"
   ]
  },
  {
   "cell_type": "code",
   "execution_count": 31,
   "id": "b2f8c7d6",
   "metadata": {},
   "outputs": [],
   "source": [
    "from sklearn import tree\n",
    "from sklearn.model_selection import ShuffleSplit, StratifiedKFold, GridSearchCV\n",
    "from sklearn.metrics import roc_curve, auc, roc_auc_score"
   ]
  },
  {
   "cell_type": "code",
   "execution_count": 32,
   "id": "77d75902",
   "metadata": {},
   "outputs": [],
   "source": [
    "# Set the parameters by cross-validation\n",
    "tuned_parameters = {\n",
    "    'criterion' : ['gini', 'entropy'],\n",
    "    'max_depth': [2, 5, 10, 15, None],\n",
    "    'min_samples_split': [2, 5, 10, 20],\n",
    "    'min_samples_leaf': [1, 5, 10, 20],\n",
    "}\n",
    "scores = ['roc_auc']"
   ]
  },
  {
   "cell_type": "code",
   "execution_count": 33,
   "id": "b9d39b93",
   "metadata": {},
   "outputs": [],
   "source": [
    "def builtGridSearch( X_train, X_test, y_train, y_test, tuned_parameters, scores):\n",
    "    optimals = {}\n",
    "    for score in scores:\n",
    "        print(\"------- Score = \" + str(score) + \" ------- \\n\")\n",
    "        model = tree.DecisionTreeClassifier()\n",
    "        k_fold = StratifiedKFold(n_splits=5, random_state=42)\n",
    "        \n",
    "        print(\"> Fold = \" + str(k_fold) + \"\\n\")\n",
    "        clf = GridSearchCV(model, tuned_parameters, error_score='raise', cv=5, scoring = score, return_train_score=True)\n",
    "\n",
    "        clf.fit(X_train, y_train)\n",
    "\n",
    "        print(\"> Best Parameter set: \\n\")\n",
    "        best = clf.best_params_\n",
    "        print(best)\n",
    "        \n",
    "        print(\"\\n> Grid scores:\\n\")\n",
    "        means = clf.cv_results_['mean_test_score']\n",
    "        stds = clf.cv_results_['std_test_score']\n",
    "        \n",
    "        parameters = {\"criterion\": [], \"max_depth\": [], \"min_samples_leaf\": [], \"min_samples_split\": []}\n",
    "        for mean, std, params in zip(means, stds, clf.cv_results_['params']):\n",
    "            print(\"%0.3f (+/-%0.03f) for %r\"\n",
    "                  % (mean, std * 2, params))\n",
    "            parameters[\"criterion\"].append(params[\"criterion\"])\n",
    "\n",
    "            if(params[\"max_depth\"] == None):\n",
    "                parameters[\"max_depth\"].append(0)\n",
    "            else:\n",
    "                parameters[\"max_depth\"].append(params[\"max_depth\"])\n",
    "\n",
    "            #parameters[\"max_depth\"].append(params[\"max_depth\"])\n",
    "            parameters[\"min_samples_leaf\"].append(params[\"min_samples_leaf\"])\n",
    "            parameters[\"min_samples_split\"].append(params[\"min_samples_split\"])\n",
    "        \n",
    "        print(\"-> Report\\n\") \n",
    "        y_true, y_pred = y_test, clf.predict(X_test)\n",
    "        print(classification_report(y_true, y_pred))\n",
    "        print(\"\\n\")\n",
    "        print(\"**** Matrice di Confusione *****\")\n",
    "        tn, fp, fn, tp = confusion_matrix(y_true, y_pred).ravel()\n",
    "        print(' True negative: %d False negative: %d' % (tn, fn))\n",
    "        print(' True positive: %d False positive: %d' % (tp, fp))\n",
    "\n",
    "        \n",
    "        # Creazione del csv\n",
    "        d = {score: means, 'std_dev': stds*2, 'criterion': parameters[\"criterion\"], \"max_depth\": parameters[\"max_depth\"], \"min_samples_leaf\": parameters[\"min_samples_leaf\"], \"min_samples_split\": parameters[\"min_samples_split\"]}\n",
    "        \n",
    "        dataF = pd.DataFrame(data=d)\n",
    "        \n",
    "        dataF.to_csv(\"result_DT_gridsearch.csv\",index=False, header=True)\n",
    "        \n",
    "\n",
    "        print(\"...........RESULTS FOR TRAINING.........\")\n",
    "        print(\"........................................\")\n",
    "        means = clf.cv_results_['mean_train_score']\n",
    "        stds = clf.cv_results_['std_train_score']\n",
    "        for mean, std, params in zip(means, stds, clf.cv_results_['params']):\n",
    "            print(\"%0.3f (+/-%0.03f) for %r\"\n",
    "                  % (mean, std * 2, params))        \n",
    "        \n",
    "        print(\"____________________________________________\")\n",
    "        \n",
    "        optimals[score] = best\n",
    "    return optimals"
   ]
  },
  {
   "cell_type": "code",
   "execution_count": 34,
   "id": "29c1f31e",
   "metadata": {},
   "outputs": [
    {
     "name": "stdout",
     "output_type": "stream",
     "text": [
      "------- Score = roc_auc ------- \n",
      "\n"
     ]
    },
    {
     "ename": "ValueError",
     "evalue": "Setting a random_state has no effect since shuffle is False. You should leave random_state to its default (None), or set shuffle=True.",
     "output_type": "error",
     "traceback": [
      "\u001b[1;31m---------------------------------------------------------------------------\u001b[0m",
      "\u001b[1;31mValueError\u001b[0m                                Traceback (most recent call last)",
      "\u001b[1;32m<ipython-input-34-f6ccfa6dda21>\u001b[0m in \u001b[0;36m<module>\u001b[1;34m\u001b[0m\n\u001b[1;32m----> 1\u001b[1;33m \u001b[0moptimals_1057\u001b[0m \u001b[1;33m=\u001b[0m \u001b[0mbuiltGridSearch\u001b[0m\u001b[1;33m(\u001b[0m\u001b[0mxtrain_1057\u001b[0m\u001b[1;33m,\u001b[0m \u001b[0mxtest_1057\u001b[0m\u001b[1;33m,\u001b[0m \u001b[0mytrain_1057\u001b[0m\u001b[1;33m,\u001b[0m \u001b[0mytest_1057\u001b[0m\u001b[1;33m,\u001b[0m \u001b[0mtuned_parameters\u001b[0m\u001b[1;33m,\u001b[0m \u001b[0mscores\u001b[0m\u001b[1;33m)\u001b[0m\u001b[1;33m\u001b[0m\u001b[1;33m\u001b[0m\u001b[0m\n\u001b[0m",
      "\u001b[1;32m<ipython-input-33-26d2803334ba>\u001b[0m in \u001b[0;36mbuiltGridSearch\u001b[1;34m(X_train, X_test, y_train, y_test, tuned_parameters, scores)\u001b[0m\n\u001b[0;32m      4\u001b[0m         \u001b[0mprint\u001b[0m\u001b[1;33m(\u001b[0m\u001b[1;34m\"------- Score = \"\u001b[0m \u001b[1;33m+\u001b[0m \u001b[0mstr\u001b[0m\u001b[1;33m(\u001b[0m\u001b[0mscore\u001b[0m\u001b[1;33m)\u001b[0m \u001b[1;33m+\u001b[0m \u001b[1;34m\" ------- \\n\"\u001b[0m\u001b[1;33m)\u001b[0m\u001b[1;33m\u001b[0m\u001b[1;33m\u001b[0m\u001b[0m\n\u001b[0;32m      5\u001b[0m         \u001b[0mmodel\u001b[0m \u001b[1;33m=\u001b[0m \u001b[0mtree\u001b[0m\u001b[1;33m.\u001b[0m\u001b[0mDecisionTreeClassifier\u001b[0m\u001b[1;33m(\u001b[0m\u001b[1;33m)\u001b[0m\u001b[1;33m\u001b[0m\u001b[1;33m\u001b[0m\u001b[0m\n\u001b[1;32m----> 6\u001b[1;33m         \u001b[0mk_fold\u001b[0m \u001b[1;33m=\u001b[0m \u001b[0mStratifiedKFold\u001b[0m\u001b[1;33m(\u001b[0m\u001b[0mn_splits\u001b[0m\u001b[1;33m=\u001b[0m\u001b[1;36m5\u001b[0m\u001b[1;33m,\u001b[0m \u001b[0mrandom_state\u001b[0m\u001b[1;33m=\u001b[0m\u001b[1;36m42\u001b[0m\u001b[1;33m)\u001b[0m\u001b[1;33m\u001b[0m\u001b[1;33m\u001b[0m\u001b[0m\n\u001b[0m\u001b[0;32m      7\u001b[0m \u001b[1;33m\u001b[0m\u001b[0m\n\u001b[0;32m      8\u001b[0m         \u001b[0mprint\u001b[0m\u001b[1;33m(\u001b[0m\u001b[1;34m\"> Fold = \"\u001b[0m \u001b[1;33m+\u001b[0m \u001b[0mstr\u001b[0m\u001b[1;33m(\u001b[0m\u001b[0mk_fold\u001b[0m\u001b[1;33m)\u001b[0m \u001b[1;33m+\u001b[0m \u001b[1;34m\"\\n\"\u001b[0m\u001b[1;33m)\u001b[0m\u001b[1;33m\u001b[0m\u001b[1;33m\u001b[0m\u001b[0m\n",
      "\u001b[1;32m~\\anaconda3\\lib\\site-packages\\sklearn\\model_selection\\_split.py\u001b[0m in \u001b[0;36m__init__\u001b[1;34m(self, n_splits, shuffle, random_state)\u001b[0m\n\u001b[0;32m    642\u001b[0m \u001b[1;33m\u001b[0m\u001b[0m\n\u001b[0;32m    643\u001b[0m     \u001b[1;32mdef\u001b[0m \u001b[0m__init__\u001b[0m\u001b[1;33m(\u001b[0m\u001b[0mself\u001b[0m\u001b[1;33m,\u001b[0m \u001b[0mn_splits\u001b[0m\u001b[1;33m=\u001b[0m\u001b[1;36m5\u001b[0m\u001b[1;33m,\u001b[0m \u001b[1;33m*\u001b[0m\u001b[1;33m,\u001b[0m \u001b[0mshuffle\u001b[0m\u001b[1;33m=\u001b[0m\u001b[1;32mFalse\u001b[0m\u001b[1;33m,\u001b[0m \u001b[0mrandom_state\u001b[0m\u001b[1;33m=\u001b[0m\u001b[1;32mNone\u001b[0m\u001b[1;33m)\u001b[0m\u001b[1;33m:\u001b[0m\u001b[1;33m\u001b[0m\u001b[1;33m\u001b[0m\u001b[0m\n\u001b[1;32m--> 644\u001b[1;33m         \u001b[0msuper\u001b[0m\u001b[1;33m(\u001b[0m\u001b[1;33m)\u001b[0m\u001b[1;33m.\u001b[0m\u001b[0m__init__\u001b[0m\u001b[1;33m(\u001b[0m\u001b[0mn_splits\u001b[0m\u001b[1;33m=\u001b[0m\u001b[0mn_splits\u001b[0m\u001b[1;33m,\u001b[0m \u001b[0mshuffle\u001b[0m\u001b[1;33m=\u001b[0m\u001b[0mshuffle\u001b[0m\u001b[1;33m,\u001b[0m \u001b[0mrandom_state\u001b[0m\u001b[1;33m=\u001b[0m\u001b[0mrandom_state\u001b[0m\u001b[1;33m)\u001b[0m\u001b[1;33m\u001b[0m\u001b[1;33m\u001b[0m\u001b[0m\n\u001b[0m\u001b[0;32m    645\u001b[0m \u001b[1;33m\u001b[0m\u001b[0m\n\u001b[0;32m    646\u001b[0m     \u001b[1;32mdef\u001b[0m \u001b[0m_make_test_folds\u001b[0m\u001b[1;33m(\u001b[0m\u001b[0mself\u001b[0m\u001b[1;33m,\u001b[0m \u001b[0mX\u001b[0m\u001b[1;33m,\u001b[0m \u001b[0my\u001b[0m\u001b[1;33m=\u001b[0m\u001b[1;32mNone\u001b[0m\u001b[1;33m)\u001b[0m\u001b[1;33m:\u001b[0m\u001b[1;33m\u001b[0m\u001b[1;33m\u001b[0m\u001b[0m\n",
      "\u001b[1;32m~\\anaconda3\\lib\\site-packages\\sklearn\\model_selection\\_split.py\u001b[0m in \u001b[0;36m__init__\u001b[1;34m(self, n_splits, shuffle, random_state)\u001b[0m\n\u001b[0;32m    294\u001b[0m \u001b[1;33m\u001b[0m\u001b[0m\n\u001b[0;32m    295\u001b[0m         \u001b[1;32mif\u001b[0m \u001b[1;32mnot\u001b[0m \u001b[0mshuffle\u001b[0m \u001b[1;32mand\u001b[0m \u001b[0mrandom_state\u001b[0m \u001b[1;32mis\u001b[0m \u001b[1;32mnot\u001b[0m \u001b[1;32mNone\u001b[0m\u001b[1;33m:\u001b[0m  \u001b[1;31m# None is the default\u001b[0m\u001b[1;33m\u001b[0m\u001b[1;33m\u001b[0m\u001b[0m\n\u001b[1;32m--> 296\u001b[1;33m             raise ValueError(\n\u001b[0m\u001b[0;32m    297\u001b[0m                 \u001b[1;34m\"Setting a random_state has no effect since shuffle is \"\u001b[0m\u001b[1;33m\u001b[0m\u001b[1;33m\u001b[0m\u001b[0m\n\u001b[0;32m    298\u001b[0m                 \u001b[1;34m\"False. You should leave \"\u001b[0m\u001b[1;33m\u001b[0m\u001b[1;33m\u001b[0m\u001b[0m\n",
      "\u001b[1;31mValueError\u001b[0m: Setting a random_state has no effect since shuffle is False. You should leave random_state to its default (None), or set shuffle=True."
     ]
    }
   ],
   "source": [
    "optimals_1057 = builtGridSearch(xtrain_1057, xtest_1057, ytrain_1057, ytest_1057, tuned_parameters, scores)"
   ]
  },
  {
   "cell_type": "code",
   "execution_count": 36,
   "id": "b5d47aa6",
   "metadata": {},
   "outputs": [
    {
     "ename": "NameError",
     "evalue": "name 'optimals_1057' is not defined",
     "output_type": "error",
     "traceback": [
      "\u001b[1;31m---------------------------------------------------------------------------\u001b[0m",
      "\u001b[1;31mNameError\u001b[0m                                 Traceback (most recent call last)",
      "\u001b[1;32m<ipython-input-36-ced66a8f1fee>\u001b[0m in \u001b[0;36m<module>\u001b[1;34m\u001b[0m\n\u001b[1;32m----> 1\u001b[1;33m \u001b[0moptimals_1057\u001b[0m\u001b[1;33m\u001b[0m\u001b[1;33m\u001b[0m\u001b[0m\n\u001b[0m",
      "\u001b[1;31mNameError\u001b[0m: name 'optimals_1057' is not defined"
     ]
    }
   ],
   "source": [
    "optimals_1057"
   ]
  },
  {
   "cell_type": "markdown",
   "id": "187e00d5",
   "metadata": {},
   "source": [
    "# 1 - DecisionTree_Bilanciato"
   ]
  },
  {
   "cell_type": "code",
   "execution_count": 35,
   "id": "f40a2849",
   "metadata": {},
   "outputs": [
    {
     "data": {
      "text/plain": [
       "2503"
      ]
     },
     "execution_count": 35,
     "metadata": {},
     "output_type": "execute_result"
    }
   ],
   "source": [
    "remove_n = data_1057['link'].value_counts()[0] - data_1057['link'].value_counts()[1]\n",
    "remove_n"
   ]
  },
  {
   "cell_type": "code",
   "execution_count": 36,
   "id": "c1899a5e",
   "metadata": {},
   "outputs": [
    {
     "name": "stdout",
     "output_type": "stream",
     "text": [
      "0    1390\n",
      "1    1390\n",
      "Name: link, dtype: int64\n"
     ]
    },
    {
     "ename": "NameError",
     "evalue": "name 'X_sbset_597' is not defined",
     "output_type": "error",
     "traceback": [
      "\u001b[1;31m---------------------------------------------------------------------------\u001b[0m",
      "\u001b[1;31mNameError\u001b[0m                                 Traceback (most recent call last)",
      "\u001b[1;32m<ipython-input-36-2970b9143597>\u001b[0m in \u001b[0;36m<module>\u001b[1;34m\u001b[0m\n\u001b[0;32m      9\u001b[0m     \u001b[0msecond\u001b[0m \u001b[1;33m=\u001b[0m \u001b[0mdf_subset\u001b[0m\u001b[1;33m.\u001b[0m\u001b[0miloc\u001b[0m\u001b[1;33m[\u001b[0m\u001b[0mi\u001b[0m\u001b[1;33m]\u001b[0m\u001b[1;33m[\u001b[0m\u001b[1;36m1\u001b[0m\u001b[1;33m]\u001b[0m\u001b[1;33m\u001b[0m\u001b[1;33m\u001b[0m\u001b[0m\n\u001b[0;32m     10\u001b[0m     \u001b[0mmixed\u001b[0m \u001b[1;33m=\u001b[0m \u001b[0mnp\u001b[0m\u001b[1;33m.\u001b[0m\u001b[0mconcatenate\u001b[0m\u001b[1;33m(\u001b[0m\u001b[1;33m(\u001b[0m\u001b[0mfirst\u001b[0m\u001b[1;33m,\u001b[0m \u001b[0msecond\u001b[0m\u001b[1;33m)\u001b[0m\u001b[1;33m,\u001b[0m \u001b[1;36m0\u001b[0m\u001b[1;33m)\u001b[0m\u001b[1;33m\u001b[0m\u001b[1;33m\u001b[0m\u001b[0m\n\u001b[1;32m---> 11\u001b[1;33m     \u001b[0mX_sbset_597\u001b[0m\u001b[1;33m.\u001b[0m\u001b[0mappend\u001b[0m\u001b[1;33m(\u001b[0m\u001b[0mmixed\u001b[0m\u001b[1;33m)\u001b[0m\u001b[1;33m\u001b[0m\u001b[1;33m\u001b[0m\u001b[0m\n\u001b[0m\u001b[0;32m     12\u001b[0m \u001b[1;33m\u001b[0m\u001b[0m\n\u001b[0;32m     13\u001b[0m \u001b[1;33m\u001b[0m\u001b[0m\n",
      "\u001b[1;31mNameError\u001b[0m: name 'X_sbset_597' is not defined"
     ]
    }
   ],
   "source": [
    "\n",
    "df = data_1057.copy()\n",
    "drop_indices = np.random.choice(df[df[\"link\"]==0].index, remove_n, replace=False)\n",
    "df_subset = df.drop(drop_indices)\n",
    "print(df_subset['link'].value_counts())\n",
    "\n",
    "X_sbset_1057 = []\n",
    "for i in range(df_subset.shape[0]):\n",
    "    first = df_subset.iloc[i][0]\n",
    "    second = df_subset.iloc[i][1]\n",
    "    mixed = np.concatenate((first, second), 0)\n",
    "    X_sbset_597.append(mixed)\n",
    "    \n",
    "    \n",
    "xtrain_sb_1057, xtest_sb_1057, ytrain_sb_1057, ytest_sb_1057 = train_test_split(np.asarray(X_sbset_1057), df_subset[\"link\"], \n",
    "                                                test_size = 0.3, \n",
    "                                                random_state = 35,\n",
    "                                                stratify=df_subset[\"link\"])\n"
   ]
  },
  {
   "cell_type": "code",
   "execution_count": 37,
   "id": "0b494737",
   "metadata": {},
   "outputs": [
    {
     "ename": "NameError",
     "evalue": "name 'xtrain_sb_1057' is not defined",
     "output_type": "error",
     "traceback": [
      "\u001b[1;31m---------------------------------------------------------------------------\u001b[0m",
      "\u001b[1;31mNameError\u001b[0m                                 Traceback (most recent call last)",
      "\u001b[1;32m<ipython-input-37-070e1fd2ec53>\u001b[0m in \u001b[0;36m<module>\u001b[1;34m\u001b[0m\n\u001b[1;32m----> 1\u001b[1;33m \u001b[0moptimals_sb_1057\u001b[0m \u001b[1;33m=\u001b[0m \u001b[0mbuiltGridSearch\u001b[0m\u001b[1;33m(\u001b[0m\u001b[0mxtrain_sb_1057\u001b[0m\u001b[1;33m,\u001b[0m \u001b[0mxtest_sb_1057\u001b[0m\u001b[1;33m,\u001b[0m \u001b[0mytrain_sb_1057\u001b[0m\u001b[1;33m,\u001b[0m \u001b[0mytest_sb_1057\u001b[0m\u001b[1;33m,\u001b[0m \u001b[0mtuned_parameters\u001b[0m\u001b[1;33m,\u001b[0m \u001b[0mscores\u001b[0m\u001b[1;33m)\u001b[0m\u001b[1;33m\u001b[0m\u001b[1;33m\u001b[0m\u001b[0m\n\u001b[0m",
      "\u001b[1;31mNameError\u001b[0m: name 'xtrain_sb_1057' is not defined"
     ]
    }
   ],
   "source": [
    "optimals_sb_1057 = builtGridSearch(xtrain_sb_1057, xtest_sb_1057, ytrain_sb_1057, ytest_sb_1057, tuned_parameters, scores)"
   ]
  },
  {
   "cell_type": "code",
   "execution_count": 38,
   "id": "77edeb39",
   "metadata": {},
   "outputs": [
    {
     "ename": "NameError",
     "evalue": "name 'optimals_sb_1057' is not defined",
     "output_type": "error",
     "traceback": [
      "\u001b[1;31m---------------------------------------------------------------------------\u001b[0m",
      "\u001b[1;31mNameError\u001b[0m                                 Traceback (most recent call last)",
      "\u001b[1;32m<ipython-input-38-8dc12c7bc0ea>\u001b[0m in \u001b[0;36m<module>\u001b[1;34m\u001b[0m\n\u001b[1;32m----> 1\u001b[1;33m \u001b[0moptimals_sb_1057\u001b[0m\u001b[1;33m\u001b[0m\u001b[1;33m\u001b[0m\u001b[0m\n\u001b[0m",
      "\u001b[1;31mNameError\u001b[0m: name 'optimals_sb_1057' is not defined"
     ]
    }
   ],
   "source": [
    "optimals_sb_1057"
   ]
  },
  {
   "cell_type": "markdown",
   "id": "76f34fd2",
   "metadata": {},
   "source": [
    "### 3 - LinearSVC"
   ]
  },
  {
   "cell_type": "code",
   "execution_count": 39,
   "id": "446173f4",
   "metadata": {},
   "outputs": [],
   "source": [
    "from sklearn.svm import LinearSVC\n",
    "from sklearn.svm import SVC\n",
    "from sklearn.calibration import CalibratedClassifierCV"
   ]
  },
  {
   "cell_type": "code",
   "execution_count": 40,
   "id": "d8d0d2a7",
   "metadata": {},
   "outputs": [
    {
     "ename": "ValueError",
     "evalue": "Setting a random_state has no effect since shuffle is False. You should leave random_state to its default (None), or set shuffle=True.",
     "output_type": "error",
     "traceback": [
      "\u001b[1;31m---------------------------------------------------------------------------\u001b[0m",
      "\u001b[1;31mValueError\u001b[0m                                Traceback (most recent call last)",
      "\u001b[1;32m<ipython-input-40-034b155e750c>\u001b[0m in \u001b[0;36m<module>\u001b[1;34m\u001b[0m\n\u001b[0;32m      5\u001b[0m }\n\u001b[0;32m      6\u001b[0m \u001b[1;31m# Set the parameters by cross-validation\u001b[0m\u001b[1;33m\u001b[0m\u001b[1;33m\u001b[0m\u001b[1;33m\u001b[0m\u001b[0m\n\u001b[1;32m----> 7\u001b[1;33m \u001b[0mk_fold\u001b[0m \u001b[1;33m=\u001b[0m \u001b[0mStratifiedKFold\u001b[0m\u001b[1;33m(\u001b[0m\u001b[0mn_splits\u001b[0m\u001b[1;33m=\u001b[0m\u001b[1;36m4\u001b[0m\u001b[1;33m,\u001b[0m \u001b[0mrandom_state\u001b[0m\u001b[1;33m=\u001b[0m\u001b[1;36m42\u001b[0m\u001b[1;33m)\u001b[0m\u001b[1;33m\u001b[0m\u001b[1;33m\u001b[0m\u001b[0m\n\u001b[0m\u001b[0;32m      8\u001b[0m \u001b[1;33m\u001b[0m\u001b[0m\n\u001b[0;32m      9\u001b[0m \u001b[0mscores\u001b[0m \u001b[1;33m=\u001b[0m \u001b[1;33m[\u001b[0m\u001b[1;34m'roc_auc'\u001b[0m\u001b[1;33m]\u001b[0m\u001b[1;33m\u001b[0m\u001b[1;33m\u001b[0m\u001b[0m\n",
      "\u001b[1;32m~\\anaconda3\\lib\\site-packages\\sklearn\\model_selection\\_split.py\u001b[0m in \u001b[0;36m__init__\u001b[1;34m(self, n_splits, shuffle, random_state)\u001b[0m\n\u001b[0;32m    642\u001b[0m \u001b[1;33m\u001b[0m\u001b[0m\n\u001b[0;32m    643\u001b[0m     \u001b[1;32mdef\u001b[0m \u001b[0m__init__\u001b[0m\u001b[1;33m(\u001b[0m\u001b[0mself\u001b[0m\u001b[1;33m,\u001b[0m \u001b[0mn_splits\u001b[0m\u001b[1;33m=\u001b[0m\u001b[1;36m5\u001b[0m\u001b[1;33m,\u001b[0m \u001b[1;33m*\u001b[0m\u001b[1;33m,\u001b[0m \u001b[0mshuffle\u001b[0m\u001b[1;33m=\u001b[0m\u001b[1;32mFalse\u001b[0m\u001b[1;33m,\u001b[0m \u001b[0mrandom_state\u001b[0m\u001b[1;33m=\u001b[0m\u001b[1;32mNone\u001b[0m\u001b[1;33m)\u001b[0m\u001b[1;33m:\u001b[0m\u001b[1;33m\u001b[0m\u001b[1;33m\u001b[0m\u001b[0m\n\u001b[1;32m--> 644\u001b[1;33m         \u001b[0msuper\u001b[0m\u001b[1;33m(\u001b[0m\u001b[1;33m)\u001b[0m\u001b[1;33m.\u001b[0m\u001b[0m__init__\u001b[0m\u001b[1;33m(\u001b[0m\u001b[0mn_splits\u001b[0m\u001b[1;33m=\u001b[0m\u001b[0mn_splits\u001b[0m\u001b[1;33m,\u001b[0m \u001b[0mshuffle\u001b[0m\u001b[1;33m=\u001b[0m\u001b[0mshuffle\u001b[0m\u001b[1;33m,\u001b[0m \u001b[0mrandom_state\u001b[0m\u001b[1;33m=\u001b[0m\u001b[0mrandom_state\u001b[0m\u001b[1;33m)\u001b[0m\u001b[1;33m\u001b[0m\u001b[1;33m\u001b[0m\u001b[0m\n\u001b[0m\u001b[0;32m    645\u001b[0m \u001b[1;33m\u001b[0m\u001b[0m\n\u001b[0;32m    646\u001b[0m     \u001b[1;32mdef\u001b[0m \u001b[0m_make_test_folds\u001b[0m\u001b[1;33m(\u001b[0m\u001b[0mself\u001b[0m\u001b[1;33m,\u001b[0m \u001b[0mX\u001b[0m\u001b[1;33m,\u001b[0m \u001b[0my\u001b[0m\u001b[1;33m=\u001b[0m\u001b[1;32mNone\u001b[0m\u001b[1;33m)\u001b[0m\u001b[1;33m:\u001b[0m\u001b[1;33m\u001b[0m\u001b[1;33m\u001b[0m\u001b[0m\n",
      "\u001b[1;32m~\\anaconda3\\lib\\site-packages\\sklearn\\model_selection\\_split.py\u001b[0m in \u001b[0;36m__init__\u001b[1;34m(self, n_splits, shuffle, random_state)\u001b[0m\n\u001b[0;32m    294\u001b[0m \u001b[1;33m\u001b[0m\u001b[0m\n\u001b[0;32m    295\u001b[0m         \u001b[1;32mif\u001b[0m \u001b[1;32mnot\u001b[0m \u001b[0mshuffle\u001b[0m \u001b[1;32mand\u001b[0m \u001b[0mrandom_state\u001b[0m \u001b[1;32mis\u001b[0m \u001b[1;32mnot\u001b[0m \u001b[1;32mNone\u001b[0m\u001b[1;33m:\u001b[0m  \u001b[1;31m# None is the default\u001b[0m\u001b[1;33m\u001b[0m\u001b[1;33m\u001b[0m\u001b[0m\n\u001b[1;32m--> 296\u001b[1;33m             raise ValueError(\n\u001b[0m\u001b[0;32m    297\u001b[0m                 \u001b[1;34m\"Setting a random_state has no effect since shuffle is \"\u001b[0m\u001b[1;33m\u001b[0m\u001b[1;33m\u001b[0m\u001b[0m\n\u001b[0;32m    298\u001b[0m                 \u001b[1;34m\"False. You should leave \"\u001b[0m\u001b[1;33m\u001b[0m\u001b[1;33m\u001b[0m\u001b[0m\n",
      "\u001b[1;31mValueError\u001b[0m: Setting a random_state has no effect since shuffle is False. You should leave random_state to its default (None), or set shuffle=True."
     ]
    }
   ],
   "source": [
    "# Set the parameters by cross-validation\n",
    "tuned_parameters = {\n",
    "    'tol':(1.0, 1e-1, 1e-2, 1e-3, 1e-4, 1e-5, 1e-6),\n",
    "    'C': (0.001, 0.05, 0.01, 0.1, 1.0, 10.0, 50, 100.0)\n",
    "}\n",
    "# Set the parameters by cross-validation\n",
    "k_fold = StratifiedKFold(n_splits=4, random_state=42)\n",
    "\n",
    "scores = ['roc_auc']\n",
    "\n",
    "def gridsearch_linearsvc(X_train, y_train, X_test, y_test, k_fold, tuned_parameters, scores):\n",
    "    optimals = {}\n",
    "    for score in scores:\n",
    "        print(\"# Tuning hyper-parameters for ----> %s\" % score)\n",
    "        print()\n",
    "\n",
    "        svm = LinearSVC()\n",
    "\n",
    "        clf = GridSearchCV(svm, tuned_parameters, error_score='raise', cv=k_fold, scoring=score)\n",
    "\n",
    "        clf.fit(X_train, y_train)\n",
    "\n",
    "        print(\"Best parameters set found on development set:\")\n",
    "        print()\n",
    "        print(clf.best_params_)\n",
    "        print()\n",
    "        print(\"Grid scores on development set:\")\n",
    "        print()\n",
    "        means = clf.cv_results_['mean_test_score']\n",
    "        stds = clf.cv_results_['std_test_score']\n",
    "        for mean, std, params in zip(means, stds, clf.cv_results_['params']):\n",
    "            print(\"%0.3f (+/-%0.03f) for %r\"\n",
    "                  % (mean, std * 2, params))\n",
    "        print()\n",
    "\n",
    "        print(\"Detailed classification report:\")\n",
    "        print()\n",
    "        print(\"The model is trained on the full development set.\")\n",
    "        print(\"The scores are computed on the full evaluation set.\")\n",
    "        print()\n",
    "        y_true, y_pred = y_test, clf.predict(X_test)\n",
    "        print(classification_report(y_true, y_pred))\n",
    "        print()\n",
    "        print(\"**** Matrice di Confusione *****\")\n",
    "        tn, fp, fn, tp = confusion_matrix(y_true, y_pred).ravel()\n",
    "        print(' True negative: %d False negative: %d' % (tn, fn))\n",
    "        print(' True positive: %d False positive: %d' % (tp, fp))\n",
    "        print(\"____________________________________________\")\n",
    "        optimals[score] = clf.best_params_\n",
    "    return optimals"
   ]
  },
  {
   "cell_type": "code",
   "execution_count": 43,
   "id": "2acb6afe",
   "metadata": {},
   "outputs": [
    {
     "ename": "NameError",
     "evalue": "name 'gridsearch_linearsvc' is not defined",
     "output_type": "error",
     "traceback": [
      "\u001b[1;31m---------------------------------------------------------------------------\u001b[0m",
      "\u001b[1;31mNameError\u001b[0m                                 Traceback (most recent call last)",
      "\u001b[1;32m<ipython-input-43-78132daa296c>\u001b[0m in \u001b[0;36m<module>\u001b[1;34m\u001b[0m\n\u001b[1;32m----> 1\u001b[1;33m \u001b[0moptimals_1057\u001b[0m \u001b[1;33m=\u001b[0m \u001b[0mgridsearch_linearsvc\u001b[0m\u001b[1;33m(\u001b[0m\u001b[0mxtrain_1057\u001b[0m\u001b[1;33m,\u001b[0m  \u001b[0mytrain_1057\u001b[0m\u001b[1;33m,\u001b[0m \u001b[0mxtest_1057\u001b[0m\u001b[1;33m,\u001b[0m \u001b[0mytest_1057\u001b[0m\u001b[1;33m,\u001b[0m \u001b[0mk_fold\u001b[0m\u001b[1;33m,\u001b[0m \u001b[0mtuned_parameters\u001b[0m\u001b[1;33m,\u001b[0m \u001b[0mscores\u001b[0m\u001b[1;33m)\u001b[0m\u001b[1;33m\u001b[0m\u001b[1;33m\u001b[0m\u001b[0m\n\u001b[0m",
      "\u001b[1;31mNameError\u001b[0m: name 'gridsearch_linearsvc' is not defined"
     ]
    }
   ],
   "source": [
    "optimals_1057 = gridsearch_linearsvc(xtrain_1057,  ytrain_1057, xtest_1057, ytest_1057, k_fold, tuned_parameters, scores)"
   ]
  },
  {
   "cell_type": "code",
   "execution_count": 44,
   "id": "19bd2eec",
   "metadata": {},
   "outputs": [
    {
     "ename": "NameError",
     "evalue": "name 'optimals_1057' is not defined",
     "output_type": "error",
     "traceback": [
      "\u001b[1;31m---------------------------------------------------------------------------\u001b[0m",
      "\u001b[1;31mNameError\u001b[0m                                 Traceback (most recent call last)",
      "\u001b[1;32m<ipython-input-44-ced66a8f1fee>\u001b[0m in \u001b[0;36m<module>\u001b[1;34m\u001b[0m\n\u001b[1;32m----> 1\u001b[1;33m \u001b[0moptimals_1057\u001b[0m\u001b[1;33m\u001b[0m\u001b[1;33m\u001b[0m\u001b[0m\n\u001b[0m",
      "\u001b[1;31mNameError\u001b[0m: name 'optimals_1057' is not defined"
     ]
    }
   ],
   "source": [
    "optimals_1057"
   ]
  },
  {
   "cell_type": "markdown",
   "id": "f7171926",
   "metadata": {},
   "source": [
    "# 4 - NN"
   ]
  },
  {
   "cell_type": "code",
   "execution_count": 45,
   "id": "e53e9c10",
   "metadata": {},
   "outputs": [],
   "source": [
    "def build_model_1( X_train):\n",
    "    optimizer='adagrad'\n",
    "    #optimizer='adam'\n",
    "    n_feature = X_train.shape[1]\n",
    "    model = Sequential()\n",
    "    model.add(Dense(32, input_dim=n_feature, activation='tanh'))\n",
    "    model.add(Dense(32, activation='tanh'))\n",
    "    model.add(Dense(32, activation='tanh'))\n",
    "    model.add(Dense(32, activation='tanh'))\n",
    "    model.add(Dense(32, activation='tanh'))\n",
    "    model.add(Dense(32, activation='tanh'))\n",
    "    model.add(Dense(32, activation='tanh'))\n",
    "    model.add(Dense(32, activation='tanh'))\n",
    "    # Linear\n",
    "    model.add(Dense(1, activation='sigmoid'))\n",
    "    model.compile(loss='binary_crossentropy', optimizer=optimizer, metrics=[\"AUC\"])\n",
    "    return model"
   ]
  },
  {
   "cell_type": "code",
   "execution_count": 46,
   "id": "2da72adc",
   "metadata": {},
   "outputs": [],
   "source": [
    "def build_model_2(X_train):\n",
    "    n_feature = X_train.shape[1]\n",
    "    model = Sequential()\n",
    "    model.add(Dense(128, input_dim=n_feature, activation='relu'))\n",
    "    model.add(Dense(32, activation='relu'))\n",
    "    model.add(Dense(32, activation='relu'))\n",
    "    model.add(Dense(32, activation='relu'))\n",
    "    model.add(Dense(32, activation='relu'))\n",
    "    # Linear\n",
    "    model.add(Dense(1, activation='sigmoid', kernel_regularizer=regularizers.l2(0.01)))\n",
    "    sgd = optimizers.SGD(learning_rate=0.1, momentum=0.9, nesterov=True)\n",
    "    model.compile(loss='binary_crossentropy', optimizer=sgd, metrics=[\"AUC\"])\n",
    "    return model"
   ]
  },
  {
   "cell_type": "code",
   "execution_count": 47,
   "id": "b24b2483",
   "metadata": {},
   "outputs": [
    {
     "name": "stdout",
     "output_type": "stream",
     "text": [
      "Epoch 1/30\n",
      "378/378 [==============================] - 2s 2ms/step - loss: 0.6108 - auc: 0.4868 - val_loss: 0.5791 - val_auc: 0.5102\n",
      "Epoch 2/30\n",
      "378/378 [==============================] - 1s 2ms/step - loss: 0.5737 - auc: 0.4993 - val_loss: 0.5712 - val_auc: 0.5034\n",
      "Epoch 3/30\n",
      "378/378 [==============================] - 1s 2ms/step - loss: 0.5710 - auc: 0.5022 - val_loss: 0.5706 - val_auc: 0.5069\n",
      "Epoch 4/30\n",
      "378/378 [==============================] - 1s 2ms/step - loss: 0.5708 - auc: 0.5043 - val_loss: 0.5706 - val_auc: 0.5174\n",
      "Epoch 5/30\n",
      "378/378 [==============================] - 1s 2ms/step - loss: 0.5707 - auc: 0.5058 - val_loss: 0.5706 - val_auc: 0.5037\n",
      "Epoch 6/30\n",
      "378/378 [==============================] - 1s 2ms/step - loss: 0.5707 - auc: 0.4996 - val_loss: 0.5705 - val_auc: 0.5068\n",
      "Epoch 7/30\n",
      "378/378 [==============================] - 1s 2ms/step - loss: 0.5706 - auc: 0.5107 - val_loss: 0.5705 - val_auc: 0.5058\n",
      "Epoch 8/30\n",
      "378/378 [==============================] - 1s 2ms/step - loss: 0.5706 - auc: 0.5130 - val_loss: 0.5705 - val_auc: 0.5092\n",
      "Epoch 9/30\n",
      "378/378 [==============================] - 1s 2ms/step - loss: 0.5706 - auc: 0.5206 - val_loss: 0.5705 - val_auc: 0.5313\n",
      "Epoch 10/30\n",
      "378/378 [==============================] - 1s 2ms/step - loss: 0.5705 - auc: 0.5216 - val_loss: 0.5705 - val_auc: 0.5317\n",
      "Epoch 11/30\n",
      "378/378 [==============================] - 1s 2ms/step - loss: 0.5706 - auc: 0.5252 - val_loss: 0.5704 - val_auc: 0.5161\n",
      "Epoch 12/30\n",
      "378/378 [==============================] - 1s 2ms/step - loss: 0.5705 - auc: 0.5154 - val_loss: 0.5704 - val_auc: 0.5127\n",
      "Epoch 13/30\n",
      "378/378 [==============================] - 1s 2ms/step - loss: 0.5705 - auc: 0.5169 - val_loss: 0.5704 - val_auc: 0.5136\n",
      "Epoch 14/30\n",
      "378/378 [==============================] - 1s 2ms/step - loss: 0.5705 - auc: 0.5293 - val_loss: 0.5704 - val_auc: 0.5166\n",
      "Epoch 15/30\n",
      "378/378 [==============================] - 1s 2ms/step - loss: 0.5704 - auc: 0.5240 - val_loss: 0.5704 - val_auc: 0.5451\n",
      "Epoch 16/30\n",
      "378/378 [==============================] - 1s 2ms/step - loss: 0.5704 - auc: 0.5375 - val_loss: 0.5703 - val_auc: 0.5466\n",
      "Epoch 17/30\n",
      "378/378 [==============================] - 1s 2ms/step - loss: 0.5704 - auc: 0.5384 - val_loss: 0.5703 - val_auc: 0.5335\n",
      "Epoch 18/30\n",
      "378/378 [==============================] - 1s 2ms/step - loss: 0.5704 - auc: 0.5467 - val_loss: 0.5703 - val_auc: 0.5371\n",
      "Epoch 19/30\n",
      "378/378 [==============================] - 1s 2ms/step - loss: 0.5704 - auc: 0.5432 - val_loss: 0.5703 - val_auc: 0.5274\n",
      "Epoch 20/30\n",
      "378/378 [==============================] - 1s 2ms/step - loss: 0.5703 - auc: 0.5341 - val_loss: 0.5703 - val_auc: 0.5535\n",
      "Epoch 21/30\n",
      "378/378 [==============================] - 1s 2ms/step - loss: 0.5703 - auc: 0.5598 - val_loss: 0.5702 - val_auc: 0.5553\n",
      "Epoch 22/30\n",
      "378/378 [==============================] - 1s 2ms/step - loss: 0.5703 - auc: 0.5375 - val_loss: 0.5702 - val_auc: 0.5489\n",
      "Epoch 23/30\n",
      "378/378 [==============================] - 1s 2ms/step - loss: 0.5702 - auc: 0.5380 - val_loss: 0.5702 - val_auc: 0.5634\n",
      "Epoch 24/30\n",
      "378/378 [==============================] - 1s 2ms/step - loss: 0.5702 - auc: 0.5526 - val_loss: 0.5702 - val_auc: 0.5507\n",
      "Epoch 25/30\n",
      "378/378 [==============================] - 1s 2ms/step - loss: 0.5702 - auc: 0.5523 - val_loss: 0.5702 - val_auc: 0.5469\n",
      "Epoch 26/30\n",
      "378/378 [==============================] - 1s 2ms/step - loss: 0.5702 - auc: 0.5603 - val_loss: 0.5701 - val_auc: 0.5505\n",
      "Epoch 27/30\n",
      "378/378 [==============================] - 1s 2ms/step - loss: 0.5702 - auc: 0.5509 - val_loss: 0.5701 - val_auc: 0.5537\n",
      "Epoch 28/30\n",
      "378/378 [==============================] - 1s 2ms/step - loss: 0.5701 - auc: 0.5665 - val_loss: 0.5701 - val_auc: 0.5574\n",
      "Epoch 29/30\n",
      "378/378 [==============================] - 1s 2ms/step - loss: 0.5701 - auc: 0.5666 - val_loss: 0.5701 - val_auc: 0.5487\n",
      "Epoch 30/30\n",
      "378/378 [==============================] - 1s 2ms/step - loss: 0.5701 - auc: 0.5635 - val_loss: 0.5700 - val_auc: 0.5632\n",
      "Epoch 1/30\n",
      "76/76 [==============================] - 1s 5ms/step - loss: 0.5869 - auc: 0.4802 - val_loss: 0.5718 - val_auc: 0.5000\n",
      "Epoch 2/30\n",
      "76/76 [==============================] - 0s 2ms/step - loss: 0.5720 - auc: 0.5051 - val_loss: 0.5708 - val_auc: 0.5000\n",
      "Epoch 3/30\n",
      "76/76 [==============================] - 0s 2ms/step - loss: 0.5731 - auc: 0.4960 - val_loss: 0.5711 - val_auc: 0.5000\n",
      "Epoch 4/30\n",
      "76/76 [==============================] - 0s 2ms/step - loss: 0.5715 - auc: 0.5105 - val_loss: 0.5707 - val_auc: 0.5000\n",
      "Epoch 5/30\n",
      "76/76 [==============================] - 0s 2ms/step - loss: 0.5721 - auc: 0.4856 - val_loss: 0.5714 - val_auc: 0.5000\n",
      "Epoch 6/30\n",
      "76/76 [==============================] - 0s 2ms/step - loss: 0.5711 - auc: 0.5039 - val_loss: 0.5708 - val_auc: 0.5000\n",
      "Epoch 7/30\n",
      "76/76 [==============================] - 0s 2ms/step - loss: 0.5723 - auc: 0.4893 - val_loss: 0.5708 - val_auc: 0.5000\n",
      "Epoch 8/30\n",
      "76/76 [==============================] - 0s 2ms/step - loss: 0.5725 - auc: 0.4811 - val_loss: 0.5708 - val_auc: 0.5000\n",
      "Epoch 9/30\n",
      "76/76 [==============================] - 0s 2ms/step - loss: 0.5721 - auc: 0.5037 - val_loss: 0.5715 - val_auc: 0.5000\n",
      "Epoch 10/30\n",
      "76/76 [==============================] - 0s 2ms/step - loss: 0.5720 - auc: 0.4935 - val_loss: 0.5707 - val_auc: 0.5000\n",
      "Epoch 11/30\n",
      "76/76 [==============================] - 0s 2ms/step - loss: 0.5719 - auc: 0.4921 - val_loss: 0.5708 - val_auc: 0.5000\n",
      "Epoch 12/30\n",
      "76/76 [==============================] - 0s 2ms/step - loss: 0.5720 - auc: 0.4941 - val_loss: 0.5711 - val_auc: 0.5000\n",
      "Epoch 13/30\n",
      "76/76 [==============================] - 0s 2ms/step - loss: 0.5717 - auc: 0.4912 - val_loss: 0.5708 - val_auc: 0.5000\n",
      "Epoch 14/30\n",
      "76/76 [==============================] - 0s 2ms/step - loss: 0.5722 - auc: 0.4811 - val_loss: 0.5707 - val_auc: 0.5000\n",
      "Epoch 15/30\n",
      "76/76 [==============================] - 0s 2ms/step - loss: 0.5717 - auc: 0.4955 - val_loss: 0.5710 - val_auc: 0.5000\n",
      "Epoch 16/30\n",
      "76/76 [==============================] - 0s 2ms/step - loss: 0.5725 - auc: 0.4843 - val_loss: 0.5742 - val_auc: 0.5000\n",
      "Epoch 17/30\n",
      "76/76 [==============================] - 0s 2ms/step - loss: 0.5719 - auc: 0.5005 - val_loss: 0.5712 - val_auc: 0.5000\n",
      "Epoch 18/30\n",
      "76/76 [==============================] - 0s 2ms/step - loss: 0.5716 - auc: 0.4814 - val_loss: 0.5712 - val_auc: 0.5000\n",
      "Epoch 19/30\n",
      "76/76 [==============================] - 0s 2ms/step - loss: 0.5717 - auc: 0.5018 - val_loss: 0.5707 - val_auc: 0.5000\n",
      "Epoch 20/30\n",
      "76/76 [==============================] - 0s 2ms/step - loss: 0.5713 - auc: 0.4926 - val_loss: 0.5707 - val_auc: 0.5000\n",
      "Epoch 21/30\n",
      "76/76 [==============================] - 0s 2ms/step - loss: 0.5715 - auc: 0.5012 - val_loss: 0.5710 - val_auc: 0.5000\n",
      "Epoch 22/30\n",
      "76/76 [==============================] - 0s 2ms/step - loss: 0.5715 - auc: 0.4924 - val_loss: 0.5707 - val_auc: 0.5000\n",
      "Epoch 23/30\n",
      "76/76 [==============================] - 0s 2ms/step - loss: 0.5714 - auc: 0.4959 - val_loss: 0.5711 - val_auc: 0.5000\n",
      "Epoch 24/30\n",
      "76/76 [==============================] - 0s 2ms/step - loss: 0.5713 - auc: 0.4945 - val_loss: 0.5722 - val_auc: 0.5000\n",
      "Epoch 25/30\n",
      "76/76 [==============================] - 0s 2ms/step - loss: 0.5713 - auc: 0.5113 - val_loss: 0.5711 - val_auc: 0.5000\n",
      "Epoch 26/30\n",
      "76/76 [==============================] - 0s 2ms/step - loss: 0.5710 - auc: 0.4932 - val_loss: 0.5730 - val_auc: 0.5000\n",
      "Epoch 27/30\n",
      "76/76 [==============================] - 0s 2ms/step - loss: 0.5722 - auc: 0.4947 - val_loss: 0.5713 - val_auc: 0.5000\n",
      "Epoch 28/30\n",
      "76/76 [==============================] - 0s 2ms/step - loss: 0.5713 - auc: 0.4925 - val_loss: 0.5707 - val_auc: 0.5000\n",
      "Epoch 29/30\n",
      "76/76 [==============================] - 0s 2ms/step - loss: 0.5717 - auc: 0.5030 - val_loss: 0.5707 - val_auc: 0.5000\n",
      "Epoch 30/30\n",
      "76/76 [==============================] - 0s 2ms/step - loss: 0.5716 - auc: 0.4867 - val_loss: 0.5729 - val_auc: 0.5000\n"
     ]
    }
   ],
   "source": [
    "model1_1057 = build_model_1(xtrain_1057)\n",
    "history1_1057 = model1_1057.fit(xtrain_1057, ytrain_1057, validation_data=(xtest_1057, ytest_1057), epochs=30, batch_size=10).history\n",
    "\n",
    "model2_1057 = build_model_2(xtrain_1057)\n",
    "history2_1057 = model2_1057.fit(xtrain_1057, ytrain_1057, validation_data=(xtest_1057, ytest_1057), epochs=30, batch_size=50).history"
   ]
  },
  {
   "cell_type": "code",
   "execution_count": 48,
   "id": "1b0db87c",
   "metadata": {},
   "outputs": [
    {
     "name": "stdout",
     "output_type": "stream",
     "text": [
      "51/51 [==============================] - 0s 1ms/step - loss: 0.5700 - auc: 0.5632\n",
      "51/51 [==============================] - 0s 1ms/step - loss: 0.5729 - auc: 0.5000\n",
      "Loss 0.570032, AUC 0.563224\n",
      "Loss 0.572946, AUC 0.500000\n"
     ]
    }
   ],
   "source": [
    "test_loss_1_1057, test_auc_1_1057 = model1_1057.evaluate(xtest_1057, ytest_1057)\n",
    "test_loss_2_1057, test_auc_2_1057 = model2_1057.evaluate(xtest_1057, ytest_1057)\n",
    "\n",
    "print('Loss %f, AUC %f' % (test_loss_1_1057, test_auc_1_1057))\n",
    "print('Loss %f, AUC %f' % (test_loss_2_1057, test_auc_2_1057))"
   ]
  },
  {
   "cell_type": "code",
   "execution_count": null,
   "id": "c7afa2f0",
   "metadata": {},
   "outputs": [],
   "source": []
  },
  {
   "cell_type": "code",
   "execution_count": null,
   "id": "20fe67a5",
   "metadata": {},
   "outputs": [],
   "source": []
  },
  {
   "cell_type": "code",
   "execution_count": 49,
   "id": "b160f922",
   "metadata": {},
   "outputs": [],
   "source": [
    "def create_model(X_train, learning_rate=0.1, momentum = 0.9, nesterov = True,\n",
    "                 activation = 'sigmoid', regularizer = 0.01, units=3, hidden_layers=1):\n",
    "    # create model\n",
    "    model = Sequential()\n",
    "    #initializer = initializers.RandomUniform(minval=0, maxval=0.5, seed=None)\n",
    "    model.add(Dense(units, input_dim=X_train.shape[1], activation = activation, \n",
    "                         kernel_regularizer=regularizers.l2(regularizer)))  \n",
    "    for i in range(1,hidden_layers):\n",
    "          model.add(Dense(units, activation = activation, \n",
    "                         kernel_regularizer=regularizers.l2(regularizer)))  \n",
    "    model.add(Dense(1, activation = 'sigmoid',  kernel_regularizer=regularizers.l2(regularizer)))\n",
    "    sgd = optimizers.SGD(learning_rate=learning_rate, momentum=momentum, nesterov=nesterov)\n",
    "    model.compile(optimizer=sgd, loss='binary_crossentropy', metrics=['AUC'])\n",
    "    return model"
   ]
  },
  {
   "cell_type": "code",
   "execution_count": 50,
   "id": "c7d511a2",
   "metadata": {},
   "outputs": [],
   "source": [
    "param_list = {'batch_size': [128],\n",
    "              'epochs': [100],\n",
    "             'learning_rate': [0.261],\n",
    "             'momentum':[0.9],\n",
    "             'nesterov':[False],\n",
    "             'activation':['tanh'],\n",
    "              'regularizer':[0.0001],\n",
    "              'units': [10],\n",
    "             'hidden_layers': [1]}"
   ]
  },
  {
   "cell_type": "code",
   "execution_count": 51,
   "id": "ba1142cc",
   "metadata": {},
   "outputs": [],
   "source": [
    "class Model:\n",
    "    def __init__(self, loss = 0, accuracy = 0, batch_size = 0, epochs = 0, learning_rate=0, momentum=0,nesterov=False,\n",
    "                activation='sigmoid', regularizer=0, units=0):\n",
    "        self.accuracy_CV_list = []\n",
    "        self.accuracy = accuracy\n",
    "        self.loss_CV_list = []\n",
    "        self.loss = loss\n",
    "        self.mee_list = []\n",
    "        self.mee = 0\n",
    "        self.std = 0\n",
    "        self.batch_size = batch_size\n",
    "        self.epochs = epochs\n",
    "        self.learning_rate = learning_rate\n",
    "        self.momentum = momentum\n",
    "        self.nesterov = nesterov\n",
    "        self.activation = activation\n",
    "        self.regularizer = regularizer\n",
    "        self.units = units\n",
    "        self.noise = 0\n",
    "    def toString(self):\n",
    "        print(\"\"\"{MEE: %f (+/- %0.2f), Number of Units: %d, Batch Size: %d, Epochs: %d, Learning Rate: %f, Momentum: %f,\n",
    "              \"Nesterov: %s, Activation: %s, Regularization: %f, Noise: %f}\"\"\" % \n",
    "              (self.mee, self.std, self.units, self.batch_size, self.epochs, self.learning_rate, self.momentum,\n",
    "              self.nesterov, self.activation, self.regularizer, self.noise))"
   ]
  },
  {
   "cell_type": "code",
   "execution_count": 52,
   "id": "2c1d3b3d",
   "metadata": {},
   "outputs": [],
   "source": [
    "def GridSearch(X_train, Y_train, parameters, cv = 3, rand=False):\n",
    "    models = []\n",
    "    allNames = list(parameters)\n",
    "    combinations = itertools.product(*(parameters[Name] for Name in allNames))\n",
    "    searchList = []\n",
    "    if rand:\n",
    "        searchList = random.sample(list(combinations), k=100)\n",
    "    else:\n",
    "        searchList = list(combinations)\n",
    "    for i in searchList:\n",
    "        print(searchList.index(i), i)\n",
    "        batch_size = i[0]\n",
    "        epochs=i[1]\n",
    "        learning_rate=i[2]\n",
    "        momentum=i[3]\n",
    "        nesterov=i[4]\n",
    "        activation=i[5]\n",
    "        regularizer=i[6]\n",
    "        units = i[7]\n",
    "        temp = Model(batch_size=batch_size, epochs=epochs, learning_rate=learning_rate,\n",
    "                     momentum=momentum, nesterov=nesterov, activation=activation, regularizer=regularizer, units=units)\n",
    "        model = None # Clearing the NN.\n",
    "        model = create_model(X_train, learning_rate=learning_rate, momentum=momentum, nesterov=nesterov, \n",
    "                                 activation=activation, regularizer=regularizer, units=units)\n",
    "        r = model.fit(X_train, Y_train,validation_split = float(1.0/cv),\n",
    "                      batch_size =batch_size, epochs=epochs, verbose=1)\n",
    "        loss = r.history['val_loss'][-1]\n",
    "        #accuracy = r.history['val_acc'][-1]\n",
    "        temp.loss = loss\n",
    "        #temp.accuracy = accuracy\n",
    "        models.append(temp) \n",
    "          \n",
    "    result = sorted(models, key=lambda x: x.loss, reverse=False)\n",
    "    return result, r, model"
   ]
  },
  {
   "cell_type": "code",
   "execution_count": 53,
   "id": "7cd7ef79",
   "metadata": {},
   "outputs": [
    {
     "name": "stdout",
     "output_type": "stream",
     "text": [
      "0 (128, 100, 0.261, 0.9, False, 'tanh', 0.0001, 10, 1)\n",
      "Epoch 1/100\n",
      "20/20 [==============================] - 1s 12ms/step - loss: 0.5906 - auc: 0.5353 - val_loss: 0.5837 - val_auc: 0.5696\n",
      "Epoch 2/100\n",
      "20/20 [==============================] - 0s 3ms/step - loss: 0.5775 - auc: 0.5186 - val_loss: 0.5670 - val_auc: 0.5000\n",
      "Epoch 3/100\n",
      "20/20 [==============================] - 0s 3ms/step - loss: 0.5769 - auc: 0.4870 - val_loss: 0.5691 - val_auc: 0.5134\n",
      "Epoch 4/100\n",
      "20/20 [==============================] - 0s 3ms/step - loss: 0.5753 - auc: 0.5119 - val_loss: 0.5667 - val_auc: 0.5287\n",
      "Epoch 5/100\n",
      "20/20 [==============================] - 0s 3ms/step - loss: 0.5749 - auc: 0.5188 - val_loss: 0.5697 - val_auc: 0.5059\n",
      "Epoch 6/100\n",
      "20/20 [==============================] - 0s 3ms/step - loss: 0.5750 - auc: 0.5269 - val_loss: 0.5665 - val_auc: 0.5111\n",
      "Epoch 7/100\n",
      "20/20 [==============================] - 0s 3ms/step - loss: 0.5752 - auc: 0.5170 - val_loss: 0.5668 - val_auc: 0.5265\n",
      "Epoch 8/100\n",
      "20/20 [==============================] - 0s 3ms/step - loss: 0.5744 - auc: 0.5302 - val_loss: 0.5659 - val_auc: 0.6541\n",
      "Epoch 9/100\n",
      "20/20 [==============================] - 0s 3ms/step - loss: 0.5743 - auc: 0.5336 - val_loss: 0.5666 - val_auc: 0.6247\n",
      "Epoch 10/100\n",
      "20/20 [==============================] - 0s 3ms/step - loss: 0.5756 - auc: 0.5134 - val_loss: 0.5668 - val_auc: 0.7133\n",
      "Epoch 11/100\n",
      "20/20 [==============================] - 0s 4ms/step - loss: 0.5751 - auc: 0.5462 - val_loss: 0.5658 - val_auc: 0.6459\n",
      "Epoch 12/100\n",
      "20/20 [==============================] - 0s 3ms/step - loss: 0.5743 - auc: 0.5444 - val_loss: 0.5679 - val_auc: 0.7023\n",
      "Epoch 13/100\n",
      "20/20 [==============================] - 0s 3ms/step - loss: 0.5776 - auc: 0.5073 - val_loss: 0.5649 - val_auc: 0.7247\n",
      "Epoch 14/100\n",
      "20/20 [==============================] - 0s 3ms/step - loss: 0.5742 - auc: 0.5329 - val_loss: 0.5646 - val_auc: 0.7132\n",
      "Epoch 15/100\n",
      "20/20 [==============================] - 0s 3ms/step - loss: 0.5770 - auc: 0.5297 - val_loss: 0.5641 - val_auc: 0.7500\n",
      "Epoch 16/100\n",
      "20/20 [==============================] - 0s 3ms/step - loss: 0.5737 - auc: 0.5411 - val_loss: 0.5639 - val_auc: 0.7427\n",
      "Epoch 17/100\n",
      "20/20 [==============================] - 0s 3ms/step - loss: 0.5736 - auc: 0.5471 - val_loss: 0.5642 - val_auc: 0.7830\n",
      "Epoch 18/100\n",
      "20/20 [==============================] - 0s 3ms/step - loss: 0.5726 - auc: 0.5513 - val_loss: 0.5679 - val_auc: 0.8017\n",
      "Epoch 19/100\n",
      "20/20 [==============================] - 0s 3ms/step - loss: 0.5694 - auc: 0.5966 - val_loss: 0.5652 - val_auc: 0.8019\n",
      "Epoch 20/100\n",
      "20/20 [==============================] - 0s 3ms/step - loss: 0.5697 - auc: 0.5774 - val_loss: 0.5670 - val_auc: 0.7998\n",
      "Epoch 21/100\n",
      "20/20 [==============================] - 0s 3ms/step - loss: 0.5803 - auc: 0.5574 - val_loss: 0.5622 - val_auc: 0.8135\n",
      "Epoch 22/100\n",
      "20/20 [==============================] - 0s 3ms/step - loss: 0.5695 - auc: 0.6173 - val_loss: 0.5613 - val_auc: 0.8294\n",
      "Epoch 23/100\n",
      "20/20 [==============================] - 0s 3ms/step - loss: 0.5696 - auc: 0.6224 - val_loss: 0.5595 - val_auc: 0.8354\n",
      "Epoch 24/100\n",
      "20/20 [==============================] - 0s 3ms/step - loss: 0.5678 - auc: 0.6349 - val_loss: 0.5619 - val_auc: 0.8411\n",
      "Epoch 25/100\n",
      "20/20 [==============================] - 0s 3ms/step - loss: 0.5721 - auc: 0.5628 - val_loss: 0.5642 - val_auc: 0.8517\n",
      "Epoch 26/100\n",
      "20/20 [==============================] - 0s 3ms/step - loss: 0.5736 - auc: 0.5715 - val_loss: 0.5591 - val_auc: 0.8476\n",
      "Epoch 27/100\n",
      "20/20 [==============================] - 0s 3ms/step - loss: 0.5684 - auc: 0.5949 - val_loss: 0.5644 - val_auc: 0.8537\n",
      "Epoch 28/100\n",
      "20/20 [==============================] - 0s 3ms/step - loss: 0.5675 - auc: 0.5936 - val_loss: 0.5627 - val_auc: 0.8545\n",
      "Epoch 29/100\n",
      "20/20 [==============================] - 0s 3ms/step - loss: 0.5616 - auc: 0.6886 - val_loss: 0.5642 - val_auc: 0.8551\n",
      "Epoch 30/100\n",
      "20/20 [==============================] - 0s 3ms/step - loss: 0.5608 - auc: 0.6289 - val_loss: 0.5494 - val_auc: 0.8602\n",
      "Epoch 31/100\n",
      "20/20 [==============================] - 0s 3ms/step - loss: 0.5629 - auc: 0.6384 - val_loss: 0.5499 - val_auc: 0.8633\n",
      "Epoch 32/100\n",
      "20/20 [==============================] - 0s 3ms/step - loss: 0.5560 - auc: 0.6830 - val_loss: 0.5471 - val_auc: 0.8640\n",
      "Epoch 33/100\n",
      "20/20 [==============================] - 0s 3ms/step - loss: 0.5509 - auc: 0.7716 - val_loss: 0.5519 - val_auc: 0.8659\n",
      "Epoch 34/100\n",
      "20/20 [==============================] - 0s 3ms/step - loss: 0.5500 - auc: 0.6849 - val_loss: 0.5392 - val_auc: 0.8681\n",
      "Epoch 35/100\n",
      "20/20 [==============================] - 0s 3ms/step - loss: 0.5407 - auc: 0.7728 - val_loss: 0.5289 - val_auc: 0.8699\n",
      "Epoch 36/100\n",
      "20/20 [==============================] - 0s 3ms/step - loss: 0.5364 - auc: 0.7584 - val_loss: 0.5299 - val_auc: 0.8682\n",
      "Epoch 37/100\n",
      "20/20 [==============================] - 0s 3ms/step - loss: 0.5895 - auc: 0.6005 - val_loss: 0.6991 - val_auc: 0.8669\n",
      "Epoch 38/100\n",
      "20/20 [==============================] - 0s 3ms/step - loss: 0.6869 - auc: 0.5500 - val_loss: 0.5807 - val_auc: 0.8652\n",
      "Epoch 39/100\n",
      "20/20 [==============================] - 0s 3ms/step - loss: 0.5749 - auc: 0.5750 - val_loss: 0.5633 - val_auc: 0.8542\n",
      "Epoch 40/100\n",
      "20/20 [==============================] - 0s 3ms/step - loss: 0.5694 - auc: 0.6214 - val_loss: 0.5557 - val_auc: 0.8659\n",
      "Epoch 41/100\n",
      "20/20 [==============================] - 0s 3ms/step - loss: 0.5589 - auc: 0.8101 - val_loss: 0.5472 - val_auc: 0.8697\n",
      "Epoch 42/100\n",
      "20/20 [==============================] - 0s 3ms/step - loss: 0.5508 - auc: 0.7528 - val_loss: 0.5476 - val_auc: 0.8711\n",
      "Epoch 43/100\n",
      "20/20 [==============================] - 0s 3ms/step - loss: 0.5457 - auc: 0.6930 - val_loss: 0.5311 - val_auc: 0.8726\n",
      "Epoch 44/100\n",
      "20/20 [==============================] - 0s 3ms/step - loss: 0.5370 - auc: 0.7528 - val_loss: 0.5245 - val_auc: 0.8720\n",
      "Epoch 45/100\n",
      "20/20 [==============================] - 0s 3ms/step - loss: 0.5292 - auc: 0.7797 - val_loss: 0.5187 - val_auc: 0.8725\n",
      "Epoch 46/100\n",
      "20/20 [==============================] - 0s 3ms/step - loss: 0.5249 - auc: 0.7405 - val_loss: 0.5074 - val_auc: 0.8737\n",
      "Epoch 47/100\n",
      "20/20 [==============================] - 0s 3ms/step - loss: 0.5577 - auc: 0.6467 - val_loss: 0.5603 - val_auc: 0.8745\n",
      "Epoch 48/100\n",
      "20/20 [==============================] - 0s 3ms/step - loss: 0.5257 - auc: 0.7268 - val_loss: 0.5168 - val_auc: 0.8749\n",
      "Epoch 49/100\n",
      "20/20 [==============================] - 0s 3ms/step - loss: 0.5227 - auc: 0.7304 - val_loss: 0.4968 - val_auc: 0.8758\n",
      "Epoch 50/100\n",
      "20/20 [==============================] - 0s 3ms/step - loss: 0.5180 - auc: 0.7291 - val_loss: 0.5469 - val_auc: 0.8769\n",
      "Epoch 51/100\n",
      "20/20 [==============================] - 0s 3ms/step - loss: 0.5495 - auc: 0.6751 - val_loss: 0.5173 - val_auc: 0.8772\n",
      "Epoch 52/100\n",
      "20/20 [==============================] - 0s 3ms/step - loss: 0.5130 - auc: 0.7537 - val_loss: 0.4850 - val_auc: 0.8786\n",
      "Epoch 53/100\n",
      "20/20 [==============================] - 0s 3ms/step - loss: 0.4866 - auc: 0.8550 - val_loss: 0.4858 - val_auc: 0.8793\n",
      "Epoch 54/100\n",
      "20/20 [==============================] - 0s 2ms/step - loss: 0.5408 - auc: 0.6964 - val_loss: 0.6526 - val_auc: 0.8794\n",
      "Epoch 55/100\n",
      "20/20 [==============================] - 0s 3ms/step - loss: 0.5666 - auc: 0.6716 - val_loss: 0.5273 - val_auc: 0.8804\n",
      "Epoch 56/100\n",
      "20/20 [==============================] - 0s 3ms/step - loss: 0.5327 - auc: 0.7031 - val_loss: 0.4816 - val_auc: 0.8808\n",
      "Epoch 57/100\n",
      "20/20 [==============================] - 0s 2ms/step - loss: 0.4963 - auc: 0.8016 - val_loss: 0.4817 - val_auc: 0.8814\n",
      "Epoch 58/100\n",
      "20/20 [==============================] - 0s 2ms/step - loss: 0.4950 - auc: 0.7922 - val_loss: 0.4905 - val_auc: 0.8821\n",
      "Epoch 59/100\n",
      "20/20 [==============================] - 0s 3ms/step - loss: 0.5204 - auc: 0.7386 - val_loss: 0.4844 - val_auc: 0.8827\n",
      "Epoch 60/100\n",
      "20/20 [==============================] - 0s 3ms/step - loss: 0.6519 - auc: 0.6135 - val_loss: 0.4876 - val_auc: 0.8829\n",
      "Epoch 61/100\n",
      "20/20 [==============================] - 0s 3ms/step - loss: 0.4931 - auc: 0.8316 - val_loss: 0.5396 - val_auc: 0.8835\n",
      "Epoch 62/100\n",
      "20/20 [==============================] - 0s 3ms/step - loss: 0.5151 - auc: 0.7465 - val_loss: 0.5415 - val_auc: 0.8840\n"
     ]
    },
    {
     "name": "stdout",
     "output_type": "stream",
     "text": [
      "Epoch 63/100\n",
      "20/20 [==============================] - 0s 3ms/step - loss: 0.5213 - auc: 0.7326 - val_loss: 0.4703 - val_auc: 0.8845\n",
      "Epoch 64/100\n",
      "20/20 [==============================] - 0s 3ms/step - loss: 0.5354 - auc: 0.7131 - val_loss: 0.5675 - val_auc: 0.8854\n",
      "Epoch 65/100\n",
      "20/20 [==============================] - 0s 3ms/step - loss: 0.5362 - auc: 0.7141 - val_loss: 0.5763 - val_auc: 0.8854\n",
      "Epoch 66/100\n",
      "20/20 [==============================] - 0s 3ms/step - loss: 0.4931 - auc: 0.8112 - val_loss: 0.4701 - val_auc: 0.8858\n",
      "Epoch 67/100\n",
      "20/20 [==============================] - 0s 3ms/step - loss: 0.4738 - auc: 0.8379 - val_loss: 0.4573 - val_auc: 0.8863\n",
      "Epoch 68/100\n",
      "20/20 [==============================] - 0s 3ms/step - loss: 0.4808 - auc: 0.8111 - val_loss: 0.5909 - val_auc: 0.8871\n",
      "Epoch 69/100\n",
      "20/20 [==============================] - 0s 3ms/step - loss: 0.6006 - auc: 0.6775 - val_loss: 0.4712 - val_auc: 0.8875\n",
      "Epoch 70/100\n",
      "20/20 [==============================] - 0s 3ms/step - loss: 0.5418 - auc: 0.7123 - val_loss: 0.4773 - val_auc: 0.8876\n",
      "Epoch 71/100\n",
      "20/20 [==============================] - 0s 3ms/step - loss: 0.4783 - auc: 0.8372 - val_loss: 0.4743 - val_auc: 0.8883\n",
      "Epoch 72/100\n",
      "20/20 [==============================] - 0s 3ms/step - loss: 0.5038 - auc: 0.7677 - val_loss: 0.4593 - val_auc: 0.8885\n",
      "Epoch 73/100\n",
      "20/20 [==============================] - 0s 2ms/step - loss: 0.4835 - auc: 0.8030 - val_loss: 0.4846 - val_auc: 0.8890\n",
      "Epoch 74/100\n",
      "20/20 [==============================] - 0s 3ms/step - loss: 0.5995 - auc: 0.6952 - val_loss: 0.6033 - val_auc: 0.8894\n",
      "Epoch 75/100\n",
      "20/20 [==============================] - 0s 3ms/step - loss: 0.5127 - auc: 0.7632 - val_loss: 0.5106 - val_auc: 0.8898\n",
      "Epoch 76/100\n",
      "20/20 [==============================] - 0s 2ms/step - loss: 0.4811 - auc: 0.8244 - val_loss: 0.4612 - val_auc: 0.8899\n",
      "Epoch 77/100\n",
      "20/20 [==============================] - 0s 3ms/step - loss: 0.4664 - auc: 0.8486 - val_loss: 0.4469 - val_auc: 0.8902\n",
      "Epoch 78/100\n",
      "20/20 [==============================] - 0s 2ms/step - loss: 0.4567 - auc: 0.8513 - val_loss: 0.4477 - val_auc: 0.8909\n",
      "Epoch 79/100\n",
      "20/20 [==============================] - 0s 3ms/step - loss: 0.5035 - auc: 0.7735 - val_loss: 0.5920 - val_auc: 0.8919\n",
      "Epoch 80/100\n",
      "20/20 [==============================] - 0s 2ms/step - loss: 0.5734 - auc: 0.7273 - val_loss: 0.4933 - val_auc: 0.8920\n",
      "Epoch 81/100\n",
      "20/20 [==============================] - 0s 3ms/step - loss: 0.5870 - auc: 0.6945 - val_loss: 0.4740 - val_auc: 0.8921\n",
      "Epoch 82/100\n",
      "20/20 [==============================] - 0s 3ms/step - loss: 0.4828 - auc: 0.8505 - val_loss: 0.4976 - val_auc: 0.8925\n",
      "Epoch 83/100\n",
      "20/20 [==============================] - 0s 3ms/step - loss: 0.4923 - auc: 0.7940 - val_loss: 0.4776 - val_auc: 0.8925\n",
      "Epoch 84/100\n",
      "20/20 [==============================] - 0s 3ms/step - loss: 0.4853 - auc: 0.8096 - val_loss: 0.4895 - val_auc: 0.8929\n",
      "Epoch 85/100\n",
      "20/20 [==============================] - 0s 3ms/step - loss: 0.4526 - auc: 0.8660 - val_loss: 0.4828 - val_auc: 0.8935\n",
      "Epoch 86/100\n",
      "20/20 [==============================] - 0s 3ms/step - loss: 0.5003 - auc: 0.7918 - val_loss: 0.7502 - val_auc: 0.8938\n",
      "Epoch 87/100\n",
      "20/20 [==============================] - 0s 3ms/step - loss: 0.5169 - auc: 0.7675 - val_loss: 0.4923 - val_auc: 0.8941\n",
      "Epoch 88/100\n",
      "20/20 [==============================] - 0s 2ms/step - loss: 0.4670 - auc: 0.8332 - val_loss: 0.4539 - val_auc: 0.8947\n",
      "Epoch 89/100\n",
      "20/20 [==============================] - 0s 2ms/step - loss: 0.4412 - auc: 0.8756 - val_loss: 0.4360 - val_auc: 0.8951\n",
      "Epoch 90/100\n",
      "20/20 [==============================] - 0s 3ms/step - loss: 0.4363 - auc: 0.8729 - val_loss: 0.4487 - val_auc: 0.8957\n",
      "Epoch 91/100\n",
      "20/20 [==============================] - 0s 3ms/step - loss: 0.4524 - auc: 0.8484 - val_loss: 0.4290 - val_auc: 0.8967\n",
      "Epoch 92/100\n",
      "20/20 [==============================] - 0s 2ms/step - loss: 0.5441 - auc: 0.7596 - val_loss: 0.6730 - val_auc: 0.8964\n",
      "Epoch 93/100\n",
      "20/20 [==============================] - 0s 3ms/step - loss: 0.6462 - auc: 0.7001 - val_loss: 0.4659 - val_auc: 0.8977\n",
      "Epoch 94/100\n",
      "20/20 [==============================] - 0s 3ms/step - loss: 0.4799 - auc: 0.8246 - val_loss: 0.4505 - val_auc: 0.8973\n",
      "Epoch 95/100\n",
      "20/20 [==============================] - 0s 2ms/step - loss: 0.4788 - auc: 0.8281 - val_loss: 0.5178 - val_auc: 0.8977\n",
      "Epoch 96/100\n",
      "20/20 [==============================] - 0s 3ms/step - loss: 0.4759 - auc: 0.8187 - val_loss: 0.4354 - val_auc: 0.8979\n",
      "Epoch 97/100\n",
      "20/20 [==============================] - 0s 3ms/step - loss: 0.4587 - auc: 0.8480 - val_loss: 0.4472 - val_auc: 0.8986\n",
      "Epoch 98/100\n",
      "20/20 [==============================] - 0s 2ms/step - loss: 0.5104 - auc: 0.7869 - val_loss: 0.5765 - val_auc: 0.8989\n",
      "Epoch 99/100\n",
      "20/20 [==============================] - 0s 3ms/step - loss: 0.4591 - auc: 0.8520 - val_loss: 0.4392 - val_auc: 0.8989\n",
      "Epoch 100/100\n",
      "20/20 [==============================] - 0s 3ms/step - loss: 0.4620 - auc: 0.8419 - val_loss: 0.6973 - val_auc: 0.8986\n"
     ]
    }
   ],
   "source": [
    "allModels_1057, r_1057, model_1057 = GridSearch(xtrain_1057, ytrain_1057, param_list, cv=3, rand=False)"
   ]
  },
  {
   "cell_type": "code",
   "execution_count": 54,
   "id": "2688e48d",
   "metadata": {},
   "outputs": [
    {
     "ename": "AttributeError",
     "evalue": "'Sequential' object has no attribute 'predict_classes'",
     "output_type": "error",
     "traceback": [
      "\u001b[1;31m---------------------------------------------------------------------------\u001b[0m",
      "\u001b[1;31mAttributeError\u001b[0m                            Traceback (most recent call last)",
      "\u001b[1;32m<ipython-input-54-42762a69f643>\u001b[0m in \u001b[0;36m<module>\u001b[1;34m\u001b[0m\n\u001b[1;32m----> 1\u001b[1;33m \u001b[0mpred_1057\u001b[0m \u001b[1;33m=\u001b[0m \u001b[0mmodel_1057\u001b[0m\u001b[1;33m.\u001b[0m\u001b[0mpredict_classes\u001b[0m\u001b[1;33m(\u001b[0m\u001b[0mxtest_1057\u001b[0m\u001b[1;33m)\u001b[0m\u001b[1;33m\u001b[0m\u001b[1;33m\u001b[0m\u001b[0m\n\u001b[0m",
      "\u001b[1;31mAttributeError\u001b[0m: 'Sequential' object has no attribute 'predict_classes'"
     ]
    }
   ],
   "source": [
    "pred_1057 = model_1057.predict_classes(xtest_1057)"
   ]
  },
  {
   "cell_type": "code",
   "execution_count": 55,
   "id": "9fbd1685",
   "metadata": {},
   "outputs": [],
   "source": [
    "y_pred_keras_1057 = model_1057.predict(xtest_1057).ravel()\n",
    "fpr_keras, tpr_keras, thresholds_keras = roc_curve(ytest_1057, y_pred_keras_1057)\n",
    "auc_keras_1057 = auc(fpr_keras, tpr_keras)"
   ]
  },
  {
   "cell_type": "code",
   "execution_count": 56,
   "id": "eea62b75",
   "metadata": {},
   "outputs": [
    {
     "ename": "NameError",
     "evalue": "name 'auc_keras_597' is not defined",
     "output_type": "error",
     "traceback": [
      "\u001b[1;31m---------------------------------------------------------------------------\u001b[0m",
      "\u001b[1;31mNameError\u001b[0m                                 Traceback (most recent call last)",
      "\u001b[1;32m<ipython-input-56-2a89a00ebd53>\u001b[0m in \u001b[0;36m<module>\u001b[1;34m\u001b[0m\n\u001b[0;32m      1\u001b[0m \u001b[0mplt\u001b[0m\u001b[1;33m.\u001b[0m\u001b[0mfigure\u001b[0m\u001b[1;33m(\u001b[0m\u001b[1;36m1\u001b[0m\u001b[1;33m)\u001b[0m\u001b[1;33m\u001b[0m\u001b[1;33m\u001b[0m\u001b[0m\n\u001b[0;32m      2\u001b[0m \u001b[0mplt\u001b[0m\u001b[1;33m.\u001b[0m\u001b[0mplot\u001b[0m\u001b[1;33m(\u001b[0m\u001b[1;33m[\u001b[0m\u001b[1;36m0\u001b[0m\u001b[1;33m,\u001b[0m \u001b[1;36m1\u001b[0m\u001b[1;33m]\u001b[0m\u001b[1;33m,\u001b[0m \u001b[1;33m[\u001b[0m\u001b[1;36m0\u001b[0m\u001b[1;33m,\u001b[0m \u001b[1;36m1\u001b[0m\u001b[1;33m]\u001b[0m\u001b[1;33m,\u001b[0m \u001b[1;34m'k--'\u001b[0m\u001b[1;33m)\u001b[0m\u001b[1;33m\u001b[0m\u001b[1;33m\u001b[0m\u001b[0m\n\u001b[1;32m----> 3\u001b[1;33m \u001b[0mplt\u001b[0m\u001b[1;33m.\u001b[0m\u001b[0mplot\u001b[0m\u001b[1;33m(\u001b[0m\u001b[0mfpr_keras\u001b[0m\u001b[1;33m,\u001b[0m \u001b[0mtpr_keras\u001b[0m\u001b[1;33m,\u001b[0m \u001b[0mlabel\u001b[0m\u001b[1;33m=\u001b[0m\u001b[1;34m'Keras 597 (area = {:.3f})'\u001b[0m\u001b[1;33m.\u001b[0m\u001b[0mformat\u001b[0m\u001b[1;33m(\u001b[0m\u001b[0mauc_keras_597\u001b[0m\u001b[1;33m)\u001b[0m\u001b[1;33m)\u001b[0m\u001b[1;33m\u001b[0m\u001b[1;33m\u001b[0m\u001b[0m\n\u001b[0m\u001b[0;32m      4\u001b[0m \u001b[0mplt\u001b[0m\u001b[1;33m.\u001b[0m\u001b[0mplot\u001b[0m\u001b[1;33m(\u001b[0m\u001b[0mfpr_keras\u001b[0m\u001b[1;33m,\u001b[0m \u001b[0mtpr_keras\u001b[0m\u001b[1;33m,\u001b[0m \u001b[0mlabel\u001b[0m\u001b[1;33m=\u001b[0m\u001b[1;34m'Keras 1057 (area = {:.3f})'\u001b[0m\u001b[1;33m.\u001b[0m\u001b[0mformat\u001b[0m\u001b[1;33m(\u001b[0m\u001b[0mauc_keras_1057\u001b[0m\u001b[1;33m)\u001b[0m\u001b[1;33m)\u001b[0m\u001b[1;33m\u001b[0m\u001b[1;33m\u001b[0m\u001b[0m\n\u001b[0;32m      5\u001b[0m \u001b[1;33m\u001b[0m\u001b[0m\n",
      "\u001b[1;31mNameError\u001b[0m: name 'auc_keras_597' is not defined"
     ]
    },
    {
     "data": {
      "image/png": "[encoded data removed]",
      "text/plain": [
       "<Figure size 432x288 with 1 Axes>"
      ]
     },
     "metadata": {
      "needs_background": "light"
     },
     "output_type": "display_data"
    }
   ],
   "source": [
    "plt.figure(1)\n",
    "plt.plot([0, 1], [0, 1], 'k--')\n",
    "plt.plot(fpr_keras, tpr_keras, label='Keras 597 (area = {:.3f})'.format(auc_keras_597))\n",
    "plt.plot(fpr_keras, tpr_keras, label='Keras 1057 (area = {:.3f})'.format(auc_keras_1057))\n",
    "\n",
    "plt.xlabel('False positive rate')\n",
    "plt.ylabel('True positive rate')\n",
    "plt.title('ROC curve')\n",
    "plt.legend(loc='best')\n",
    "plt.show()"
   ]
  },
  {
   "cell_type": "markdown",
   "id": "9a65af55",
   "metadata": {},
   "source": [
    "# 4 - NN_Bilanciato"
   ]
  },
  {
   "cell_type": "code",
   "execution_count": 57,
   "id": "5da374dc",
   "metadata": {},
   "outputs": [
    {
     "ename": "NameError",
     "evalue": "name 'xtrain_sb_1057' is not defined",
     "output_type": "error",
     "traceback": [
      "\u001b[1;31m---------------------------------------------------------------------------\u001b[0m",
      "\u001b[1;31mNameError\u001b[0m                                 Traceback (most recent call last)",
      "\u001b[1;32m<ipython-input-57-697e1a30b6e0>\u001b[0m in \u001b[0;36m<module>\u001b[1;34m\u001b[0m\n\u001b[1;32m----> 1\u001b[1;33m \u001b[0mmodel1_sb_1057\u001b[0m \u001b[1;33m=\u001b[0m \u001b[0mbuild_model_1\u001b[0m\u001b[1;33m(\u001b[0m\u001b[0mxtrain_sb_1057\u001b[0m\u001b[1;33m)\u001b[0m\u001b[1;33m\u001b[0m\u001b[1;33m\u001b[0m\u001b[0m\n\u001b[0m\u001b[0;32m      2\u001b[0m \u001b[0mhistory1_sb_1057\u001b[0m \u001b[1;33m=\u001b[0m \u001b[0mmodel1_sb_1057\u001b[0m\u001b[1;33m.\u001b[0m\u001b[0mfit\u001b[0m\u001b[1;33m(\u001b[0m\u001b[0mxtrain_sb_1057\u001b[0m\u001b[1;33m,\u001b[0m \u001b[0mytrain_sb_1057\u001b[0m\u001b[1;33m,\u001b[0m \u001b[0mvalidation_data\u001b[0m\u001b[1;33m=\u001b[0m\u001b[1;33m(\u001b[0m\u001b[0mxtest_sb_1057\u001b[0m\u001b[1;33m,\u001b[0m \u001b[0mytest_sb_1057\u001b[0m\u001b[1;33m)\u001b[0m\u001b[1;33m,\u001b[0m \u001b[0mepochs\u001b[0m\u001b[1;33m=\u001b[0m\u001b[1;36m30\u001b[0m\u001b[1;33m,\u001b[0m \u001b[0mbatch_size\u001b[0m\u001b[1;33m=\u001b[0m\u001b[1;36m10\u001b[0m\u001b[1;33m)\u001b[0m\u001b[1;33m.\u001b[0m\u001b[0mhistory\u001b[0m\u001b[1;33m\u001b[0m\u001b[1;33m\u001b[0m\u001b[0m\n\u001b[0;32m      3\u001b[0m \u001b[1;33m\u001b[0m\u001b[0m\n\u001b[0;32m      4\u001b[0m \u001b[0mmodel2_sb_1057\u001b[0m \u001b[1;33m=\u001b[0m \u001b[0mbuild_model_2\u001b[0m\u001b[1;33m(\u001b[0m\u001b[0mxtrain_sb_1057\u001b[0m\u001b[1;33m)\u001b[0m\u001b[1;33m\u001b[0m\u001b[1;33m\u001b[0m\u001b[0m\n\u001b[0;32m      5\u001b[0m \u001b[0mhistory2_sb_1057\u001b[0m \u001b[1;33m=\u001b[0m \u001b[0mmodel2_sb_1057\u001b[0m\u001b[1;33m.\u001b[0m\u001b[0mfit\u001b[0m\u001b[1;33m(\u001b[0m\u001b[0mxtrain_sb_1057\u001b[0m\u001b[1;33m,\u001b[0m \u001b[0mytrain_sb_1057\u001b[0m\u001b[1;33m,\u001b[0m \u001b[0mvalidation_data\u001b[0m\u001b[1;33m=\u001b[0m\u001b[1;33m(\u001b[0m\u001b[0mxtest_sb_1057\u001b[0m\u001b[1;33m,\u001b[0m \u001b[0mytest_sb_1057\u001b[0m\u001b[1;33m)\u001b[0m\u001b[1;33m,\u001b[0m \u001b[0mepochs\u001b[0m\u001b[1;33m=\u001b[0m\u001b[1;36m30\u001b[0m\u001b[1;33m,\u001b[0m \u001b[0mbatch_size\u001b[0m\u001b[1;33m=\u001b[0m\u001b[1;36m50\u001b[0m\u001b[1;33m)\u001b[0m\u001b[1;33m.\u001b[0m\u001b[0mhistory\u001b[0m\u001b[1;33m\u001b[0m\u001b[1;33m\u001b[0m\u001b[0m\n",
      "\u001b[1;31mNameError\u001b[0m: name 'xtrain_sb_1057' is not defined"
     ]
    }
   ],
   "source": [
    "model1_sb_1057 = build_model_1(xtrain_sb_1057)\n",
    "history1_sb_1057 = model1_sb_1057.fit(xtrain_sb_1057, ytrain_sb_1057, validation_data=(xtest_sb_1057, ytest_sb_1057), epochs=30, batch_size=10).history\n",
    "\n",
    "model2_sb_1057 = build_model_2(xtrain_sb_1057)\n",
    "history2_sb_1057 = model2_sb_1057.fit(xtrain_sb_1057, ytrain_sb_1057, validation_data=(xtest_sb_1057, ytest_sb_1057), epochs=30, batch_size=50).history"
   ]
  },
  {
   "cell_type": "code",
   "execution_count": 58,
   "id": "7e1b1261",
   "metadata": {},
   "outputs": [
    {
     "ename": "NameError",
     "evalue": "name 'model1_sb_1057' is not defined",
     "output_type": "error",
     "traceback": [
      "\u001b[1;31m---------------------------------------------------------------------------\u001b[0m",
      "\u001b[1;31mNameError\u001b[0m                                 Traceback (most recent call last)",
      "\u001b[1;32m<ipython-input-58-8619f229f520>\u001b[0m in \u001b[0;36m<module>\u001b[1;34m\u001b[0m\n\u001b[1;32m----> 1\u001b[1;33m \u001b[0mtest_loss_1_sb_1057\u001b[0m\u001b[1;33m,\u001b[0m \u001b[0mtest_auc_1_sb_1057\u001b[0m \u001b[1;33m=\u001b[0m \u001b[0mmodel1_sb_1057\u001b[0m\u001b[1;33m.\u001b[0m\u001b[0mevaluate\u001b[0m\u001b[1;33m(\u001b[0m\u001b[0mxtest_sb_1057\u001b[0m\u001b[1;33m,\u001b[0m \u001b[0mytest_sb_1057\u001b[0m\u001b[1;33m)\u001b[0m\u001b[1;33m\u001b[0m\u001b[1;33m\u001b[0m\u001b[0m\n\u001b[0m\u001b[0;32m      2\u001b[0m \u001b[0mtest_loss_2_sb_1057\u001b[0m\u001b[1;33m,\u001b[0m \u001b[0mtest_auc_2_sb_1057\u001b[0m \u001b[1;33m=\u001b[0m \u001b[0mmodel2_sb_1057\u001b[0m\u001b[1;33m.\u001b[0m\u001b[0mevaluate\u001b[0m\u001b[1;33m(\u001b[0m\u001b[0mxtest_sb_1057\u001b[0m\u001b[1;33m,\u001b[0m \u001b[0mytest_sb_1057\u001b[0m\u001b[1;33m)\u001b[0m\u001b[1;33m\u001b[0m\u001b[1;33m\u001b[0m\u001b[0m\n\u001b[0;32m      3\u001b[0m \u001b[1;33m\u001b[0m\u001b[0m\n\u001b[0;32m      4\u001b[0m \u001b[0mprint\u001b[0m\u001b[1;33m(\u001b[0m\u001b[1;34m'Loss %f, AUC %f'\u001b[0m \u001b[1;33m%\u001b[0m \u001b[1;33m(\u001b[0m\u001b[0mtest_loss_1_sb_1057\u001b[0m\u001b[1;33m,\u001b[0m \u001b[0mtest_auc_1_sb_1057\u001b[0m\u001b[1;33m)\u001b[0m\u001b[1;33m)\u001b[0m\u001b[1;33m\u001b[0m\u001b[1;33m\u001b[0m\u001b[0m\n\u001b[0;32m      5\u001b[0m \u001b[0mprint\u001b[0m\u001b[1;33m(\u001b[0m\u001b[1;34m'Loss %f, AUC %f'\u001b[0m \u001b[1;33m%\u001b[0m \u001b[1;33m(\u001b[0m\u001b[0mtest_loss_2_sb_1057\u001b[0m\u001b[1;33m,\u001b[0m \u001b[0mtest_auc_2_sb_1057\u001b[0m\u001b[1;33m)\u001b[0m\u001b[1;33m)\u001b[0m\u001b[1;33m\u001b[0m\u001b[1;33m\u001b[0m\u001b[0m\n",
      "\u001b[1;31mNameError\u001b[0m: name 'model1_sb_1057' is not defined"
     ]
    }
   ],
   "source": [
    "test_loss_1_sb_1057, test_auc_1_sb_1057 = model1_sb_1057.evaluate(xtest_sb_1057, ytest_sb_1057)\n",
    "test_loss_2_sb_1057, test_auc_2_sb_1057 = model2_sb_1057.evaluate(xtest_sb_1057, ytest_sb_1057)\n",
    "\n",
    "print('Loss %f, AUC %f' % (test_loss_1_sb_1057, test_auc_1_sb_1057))\n",
    "print('Loss %f, AUC %f' % (test_loss_2_sb_1057, test_auc_2_sb_1057))"
   ]
  },
  {
   "cell_type": "code",
   "execution_count": 59,
   "id": "b656feda",
   "metadata": {},
   "outputs": [
    {
     "ename": "NameError",
     "evalue": "name 'xtrain_sb_1057' is not defined",
     "output_type": "error",
     "traceback": [
      "\u001b[1;31m---------------------------------------------------------------------------\u001b[0m",
      "\u001b[1;31mNameError\u001b[0m                                 Traceback (most recent call last)",
      "\u001b[1;32m<ipython-input-59-a7841ab0f0b7>\u001b[0m in \u001b[0;36m<module>\u001b[1;34m\u001b[0m\n\u001b[1;32m----> 1\u001b[1;33m \u001b[0mallModels_sb_1057\u001b[0m\u001b[1;33m,\u001b[0m \u001b[0mr_sb_1057\u001b[0m\u001b[1;33m,\u001b[0m \u001b[0mmodel_sb_1057\u001b[0m \u001b[1;33m=\u001b[0m \u001b[0mGridSearch\u001b[0m\u001b[1;33m(\u001b[0m\u001b[0mxtrain_sb_1057\u001b[0m\u001b[1;33m,\u001b[0m \u001b[0mytrain_sb_1057\u001b[0m\u001b[1;33m,\u001b[0m \u001b[0mparam_list\u001b[0m\u001b[1;33m,\u001b[0m \u001b[0mcv\u001b[0m\u001b[1;33m=\u001b[0m\u001b[1;36m3\u001b[0m\u001b[1;33m,\u001b[0m \u001b[0mrand\u001b[0m\u001b[1;33m=\u001b[0m\u001b[1;32mFalse\u001b[0m\u001b[1;33m)\u001b[0m\u001b[1;33m\u001b[0m\u001b[1;33m\u001b[0m\u001b[0m\n\u001b[0m",
      "\u001b[1;31mNameError\u001b[0m: name 'xtrain_sb_1057' is not defined"
     ]
    }
   ],
   "source": [
    "allModels_sb_1057, r_sb_1057, model_sb_1057 = GridSearch(xtrain_sb_1057, ytrain_sb_1057, param_list, cv=3, rand=False)"
   ]
  },
  {
   "cell_type": "code",
   "execution_count": 60,
   "id": "1a78aa1a",
   "metadata": {},
   "outputs": [
    {
     "ename": "NameError",
     "evalue": "name 'model_sb_1057' is not defined",
     "output_type": "error",
     "traceback": [
      "\u001b[1;31m---------------------------------------------------------------------------\u001b[0m",
      "\u001b[1;31mNameError\u001b[0m                                 Traceback (most recent call last)",
      "\u001b[1;32m<ipython-input-60-cba01fedede8>\u001b[0m in \u001b[0;36m<module>\u001b[1;34m\u001b[0m\n\u001b[1;32m----> 1\u001b[1;33m \u001b[0mpred_sb_1057\u001b[0m \u001b[1;33m=\u001b[0m \u001b[0mmodel_sb_1057\u001b[0m\u001b[1;33m.\u001b[0m\u001b[0mpredict_classes\u001b[0m\u001b[1;33m(\u001b[0m\u001b[0mxtest_sb_1057\u001b[0m\u001b[1;33m)\u001b[0m\u001b[1;33m\u001b[0m\u001b[1;33m\u001b[0m\u001b[0m\n\u001b[0m",
      "\u001b[1;31mNameError\u001b[0m: name 'model_sb_1057' is not defined"
     ]
    }
   ],
   "source": [
    "pred_sb_1057 = model_sb_1057.predict_classes(xtest_sb_1057)"
   ]
  },
  {
   "cell_type": "code",
   "execution_count": 61,
   "id": "7703f8ee",
   "metadata": {},
   "outputs": [
    {
     "ename": "NameError",
     "evalue": "name 'model_sb_1057' is not defined",
     "output_type": "error",
     "traceback": [
      "\u001b[1;31m---------------------------------------------------------------------------\u001b[0m",
      "\u001b[1;31mNameError\u001b[0m                                 Traceback (most recent call last)",
      "\u001b[1;32m<ipython-input-61-1c2cc72de615>\u001b[0m in \u001b[0;36m<module>\u001b[1;34m\u001b[0m\n\u001b[1;32m----> 1\u001b[1;33m \u001b[0my_pred_keras_sb_1057\u001b[0m \u001b[1;33m=\u001b[0m \u001b[0mmodel_sb_1057\u001b[0m\u001b[1;33m.\u001b[0m\u001b[0mpredict\u001b[0m\u001b[1;33m(\u001b[0m\u001b[0mxtest_sb_1057\u001b[0m\u001b[1;33m)\u001b[0m\u001b[1;33m.\u001b[0m\u001b[0mravel\u001b[0m\u001b[1;33m(\u001b[0m\u001b[1;33m)\u001b[0m\u001b[1;33m\u001b[0m\u001b[1;33m\u001b[0m\u001b[0m\n\u001b[0m\u001b[0;32m      2\u001b[0m \u001b[0mfpr_keras\u001b[0m\u001b[1;33m,\u001b[0m \u001b[0mtpr_keras\u001b[0m\u001b[1;33m,\u001b[0m \u001b[0mthresholds_keras\u001b[0m \u001b[1;33m=\u001b[0m \u001b[0mroc_curve\u001b[0m\u001b[1;33m(\u001b[0m\u001b[0mytest_sb_1057\u001b[0m\u001b[1;33m,\u001b[0m \u001b[0my_pred_keras_sb_1057\u001b[0m\u001b[1;33m)\u001b[0m\u001b[1;33m\u001b[0m\u001b[1;33m\u001b[0m\u001b[0m\n\u001b[0;32m      3\u001b[0m \u001b[0mauc_keras_sb_1057\u001b[0m \u001b[1;33m=\u001b[0m \u001b[0mauc\u001b[0m\u001b[1;33m(\u001b[0m\u001b[0mfpr_keras\u001b[0m\u001b[1;33m,\u001b[0m \u001b[0mtpr_keras\u001b[0m\u001b[1;33m)\u001b[0m\u001b[1;33m\u001b[0m\u001b[1;33m\u001b[0m\u001b[0m\n",
      "\u001b[1;31mNameError\u001b[0m: name 'model_sb_1057' is not defined"
     ]
    }
   ],
   "source": [
    "y_pred_keras_sb_1057 = model_sb_1057.predict(xtest_sb_1057).ravel()\n",
    "fpr_keras, tpr_keras, thresholds_keras = roc_curve(ytest_sb_1057, y_pred_keras_sb_1057)\n",
    "auc_keras_sb_1057 = auc(fpr_keras, tpr_keras)"
   ]
  },
  {
   "cell_type": "code",
   "execution_count": null,
   "id": "2df3a0ad",
   "metadata": {},
   "outputs": [],
   "source": []
  },
  {
   "cell_type": "code",
   "execution_count": 62,
   "id": "6591e1f5",
   "metadata": {},
   "outputs": [
    {
     "ename": "NameError",
     "evalue": "name 'auc_keras_sb_597' is not defined",
     "output_type": "error",
     "traceback": [
      "\u001b[1;31m---------------------------------------------------------------------------\u001b[0m",
      "\u001b[1;31mNameError\u001b[0m                                 Traceback (most recent call last)",
      "\u001b[1;32m<ipython-input-62-9255c6dcdee1>\u001b[0m in \u001b[0;36m<module>\u001b[1;34m\u001b[0m\n\u001b[0;32m      1\u001b[0m \u001b[0mplt\u001b[0m\u001b[1;33m.\u001b[0m\u001b[0mfigure\u001b[0m\u001b[1;33m(\u001b[0m\u001b[1;36m1\u001b[0m\u001b[1;33m)\u001b[0m\u001b[1;33m\u001b[0m\u001b[1;33m\u001b[0m\u001b[0m\n\u001b[0;32m      2\u001b[0m \u001b[0mplt\u001b[0m\u001b[1;33m.\u001b[0m\u001b[0mplot\u001b[0m\u001b[1;33m(\u001b[0m\u001b[1;33m[\u001b[0m\u001b[1;36m0\u001b[0m\u001b[1;33m,\u001b[0m \u001b[1;36m1\u001b[0m\u001b[1;33m]\u001b[0m\u001b[1;33m,\u001b[0m \u001b[1;33m[\u001b[0m\u001b[1;36m0\u001b[0m\u001b[1;33m,\u001b[0m \u001b[1;36m1\u001b[0m\u001b[1;33m]\u001b[0m\u001b[1;33m,\u001b[0m \u001b[1;34m'k--'\u001b[0m\u001b[1;33m)\u001b[0m\u001b[1;33m\u001b[0m\u001b[1;33m\u001b[0m\u001b[0m\n\u001b[1;32m----> 3\u001b[1;33m \u001b[0mplt\u001b[0m\u001b[1;33m.\u001b[0m\u001b[0mplot\u001b[0m\u001b[1;33m(\u001b[0m\u001b[0mfpr_keras\u001b[0m\u001b[1;33m,\u001b[0m \u001b[0mtpr_keras\u001b[0m\u001b[1;33m,\u001b[0m \u001b[0mlabel\u001b[0m\u001b[1;33m=\u001b[0m\u001b[1;34m'Keras bilancato 597 (area = {:.3f})'\u001b[0m\u001b[1;33m.\u001b[0m\u001b[0mformat\u001b[0m\u001b[1;33m(\u001b[0m\u001b[0mauc_keras_sb_597\u001b[0m\u001b[1;33m)\u001b[0m\u001b[1;33m)\u001b[0m\u001b[1;33m\u001b[0m\u001b[1;33m\u001b[0m\u001b[0m\n\u001b[0m\u001b[0;32m      4\u001b[0m \u001b[0mplt\u001b[0m\u001b[1;33m.\u001b[0m\u001b[0mplot\u001b[0m\u001b[1;33m(\u001b[0m\u001b[0mfpr_keras\u001b[0m\u001b[1;33m,\u001b[0m \u001b[0mtpr_keras\u001b[0m\u001b[1;33m,\u001b[0m \u001b[0mlabel\u001b[0m\u001b[1;33m=\u001b[0m\u001b[1;34m'Keras bilancato 1057 (area = {:.3f})'\u001b[0m\u001b[1;33m.\u001b[0m\u001b[0mformat\u001b[0m\u001b[1;33m(\u001b[0m\u001b[0mauc_keras_sb_1057\u001b[0m\u001b[1;33m)\u001b[0m\u001b[1;33m)\u001b[0m\u001b[1;33m\u001b[0m\u001b[1;33m\u001b[0m\u001b[0m\n\u001b[0;32m      5\u001b[0m \u001b[1;33m\u001b[0m\u001b[0m\n",
      "\u001b[1;31mNameError\u001b[0m: name 'auc_keras_sb_597' is not defined"
     ]
    },
    {
     "data": {
      "image/png": "[encoded data removed]",
      "text/plain": [
       "<Figure size 432x288 with 1 Axes>"
      ]
     },
     "metadata": {
      "needs_background": "light"
     },
     "output_type": "display_data"
    }
   ],
   "source": [
    "plt.figure(1)\n",
    "plt.plot([0, 1], [0, 1], 'k--')\n",
    "plt.plot(fpr_keras, tpr_keras, label='Keras bilancato 597 (area = {:.3f})'.format(auc_keras_sb_597))\n",
    "plt.plot(fpr_keras, tpr_keras, label='Keras bilancato 1057 (area = {:.3f})'.format(auc_keras_sb_1057))\n",
    "\n",
    "plt.xlabel('False positive rate')\n",
    "plt.ylabel('True positive rate')\n",
    "plt.title('ROC curve')\n",
    "plt.legend(loc='best')\n",
    "plt.show()"
   ]
  },
  {
   "cell_type": "code",
   "execution_count": null,
   "id": "ef046168",
   "metadata": {},
   "outputs": [],
   "source": []
  }
 ],
 "metadata": {
  "kernelspec": {
   "display_name": "Python 3",
   "language": "python",
   "name": "python3"
  },
  "language_info": {
   "codemirror_mode": {
    "name": "ipython",
    "version": 3
   },
   "file_extension": ".py",
   "mimetype": "text/x-python",
   "name": "python",
   "nbconvert_exporter": "python",
   "pygments_lexer": "ipython3",
   "version": "3.8.8"
  }
 },
 "nbformat": 4,
 "nbformat_minor": 5
}
