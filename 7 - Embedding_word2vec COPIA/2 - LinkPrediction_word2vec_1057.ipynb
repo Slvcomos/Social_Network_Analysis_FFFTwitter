{
 "cells": [
  {
   "cell_type": "code",
   "execution_count": 1,
   "id": "0dfd1c08",
   "metadata": {},
   "outputs": [],
   "source": [
    "import pandas as pd\n",
    "import numpy as np\n",
    "import random\n",
    "import networkx as nx\n",
    "from tqdm import tqdm\n",
    "import re\n",
    "import matplotlib.pyplot as plt\n",
    "import itertools\n",
    "from operator import itemgetter\n",
    "import pickle\n",
    "\n",
    "from sklearn.linear_model import LogisticRegression\n",
    "from sklearn.metrics import classification_report, roc_auc_score\n",
    "from sklearn.model_selection import train_test_split\n",
    "from sklearn.metrics import confusion_matrix\n",
    "from sklearn.metrics import roc_curve\n",
    "from sklearn.metrics import auc"
   ]
  },
  {
   "cell_type": "code",
   "execution_count": 2,
   "id": "5014267e",
   "metadata": {},
   "outputs": [],
   "source": [
    "import tensorflow as tf\n",
    "import tensorflow.keras\n",
    "import tensorflow.keras.backend as K\n",
    "from tensorflow.keras.models import Sequential \n",
    "from tensorflow.keras.layers import Dense, Activation\n",
    "from tensorflow.keras.wrappers.scikit_learn import KerasClassifier\n",
    "from tensorflow.keras import optimizers, utils, initializers, regularizers\n",
    "from tensorflow.keras.callbacks import EarlyStopping"
   ]
  },
  {
   "cell_type": "code",
   "execution_count": 3,
   "id": "c555a2a2",
   "metadata": {},
   "outputs": [],
   "source": [
    "import linkpred\n",
    "from linkpred.evaluation import Pair\n",
    "import seaborn as sns"
   ]
  },
  {
   "cell_type": "code",
   "execution_count": 4,
   "id": "d25c2613",
   "metadata": {},
   "outputs": [],
   "source": [
    "import sklearn.metrics as metrics"
   ]
  },
  {
   "cell_type": "code",
   "execution_count": 5,
   "id": "d61eaaad",
   "metadata": {},
   "outputs": [],
   "source": [
    "from gensim.models import Word2Vec"
   ]
  },
  {
   "cell_type": "code",
   "execution_count": 6,
   "id": "474bb3f5",
   "metadata": {},
   "outputs": [],
   "source": [
    "with open('universe_1057.pickle', 'rb') as f:\n",
    "    universe_1057 = pickle.load(f)"
   ]
  },
  {
   "cell_type": "code",
   "execution_count": 7,
   "id": "3e0e5a88",
   "metadata": {},
   "outputs": [],
   "source": [
    "embedding_pickle_1057 = pd.read_pickle('embedding_pickle_1057.csv')"
   ]
  },
  {
   "cell_type": "code",
   "execution_count": 8,
   "id": "37b1cf99",
   "metadata": {},
   "outputs": [],
   "source": [
    "edges_1057 = pd.read_pickle('edges_original_1057.csv')"
   ]
  },
  {
   "cell_type": "code",
   "execution_count": 9,
   "id": "33d33b15",
   "metadata": {},
   "outputs": [],
   "source": [
    "all_unconnected_pairs_1057 = []"
   ]
  },
  {
   "cell_type": "code",
   "execution_count": 10,
   "id": "02906d2f",
   "metadata": {},
   "outputs": [],
   "source": [
    "def check_isequal(x, a, b):\n",
    "    if x[0] == a:\n",
    "        if x[1] == b:\n",
    "            return True\n",
    "    return False"
   ]
  },
  {
   "cell_type": "code",
   "execution_count": 11,
   "id": "ea75f045",
   "metadata": {},
   "outputs": [],
   "source": [
    "for ui in universe_1057:\n",
    "    is_not = False\n",
    "    for i,j in edges_1057.values:\n",
    "        if check_isequal(ui, i, j):\n",
    "            is_not = True\n",
    "            break\n",
    "    if not is_not:\n",
    "        all_unconnected_pairs_1057.append((ui[0], ui[1]))"
   ]
  },
  {
   "cell_type": "code",
   "execution_count": 12,
   "id": "dd2ed61e",
   "metadata": {},
   "outputs": [],
   "source": [
    "word2vec_1057 = Word2Vec.load(\"word2vec_1057.model\")"
   ]
  },
  {
   "cell_type": "markdown",
   "id": "5584465b",
   "metadata": {},
   "source": [
    "Collegamenti inesistenti => target negativo"
   ]
  },
  {
   "cell_type": "code",
   "execution_count": 13,
   "id": "1f50394e",
   "metadata": {},
   "outputs": [],
   "source": [
    "node_1_unlinked = [word2vec_1057.wv[i[0]] for i in all_unconnected_pairs_1057]\n",
    "node_2_unlinked = [word2vec_1057.wv[i[1]] for i in all_unconnected_pairs_1057]\n",
    "\n",
    "data_1057 = pd.DataFrame({'node_1':node_1_unlinked, \n",
    "                     'node_2':node_2_unlinked})\n",
    "\n",
    "# add target variable 'link'\n",
    "data_1057['link'] = 0"
   ]
  },
  {
   "cell_type": "code",
   "execution_count": 14,
   "id": "5a00f1b1",
   "metadata": {},
   "outputs": [
    {
     "data": {
      "text/html": [
       "<div>\n",
       "<style scoped>\n",
       "    .dataframe tbody tr th:only-of-type {\n",
       "        vertical-align: middle;\n",
       "    }\n",
       "\n",
       "    .dataframe tbody tr th {\n",
       "        vertical-align: top;\n",
       "    }\n",
       "\n",
       "    .dataframe thead th {\n",
       "        text-align: right;\n",
       "    }\n",
       "</style>\n",
       "<table border=\"1\" class=\"dataframe\">\n",
       "  <thead>\n",
       "    <tr style=\"text-align: right;\">\n",
       "      <th></th>\n",
       "      <th>node_1</th>\n",
       "      <th>node_2</th>\n",
       "      <th>link</th>\n",
       "    </tr>\n",
       "  </thead>\n",
       "  <tbody>\n",
       "    <tr>\n",
       "      <th>0</th>\n",
       "      <td>[-0.0028029422, 0.002066179, -0.008986698, 0.0...</td>\n",
       "      <td>[-0.0034580696, 0.005837318, -0.0011574319, -0...</td>\n",
       "      <td>0</td>\n",
       "    </tr>\n",
       "    <tr>\n",
       "      <th>1</th>\n",
       "      <td>[0.00091978983, 0.0010522334, -0.002763025, -0...</td>\n",
       "      <td>[0.0074036596, 0.010397072, -0.007715365, -0.0...</td>\n",
       "      <td>0</td>\n",
       "    </tr>\n",
       "    <tr>\n",
       "      <th>2</th>\n",
       "      <td>[-0.0077114245, 0.0007750519, 0.004330388, 0.0...</td>\n",
       "      <td>[-0.00030924423, 0.005032955, 0.00071717676, 0...</td>\n",
       "      <td>0</td>\n",
       "    </tr>\n",
       "    <tr>\n",
       "      <th>3</th>\n",
       "      <td>[0.006557724, -0.007497761, -0.0077382056, -0....</td>\n",
       "      <td>[0.0067642312, -0.0020208904, 0.002834014, 0.0...</td>\n",
       "      <td>0</td>\n",
       "    </tr>\n",
       "    <tr>\n",
       "      <th>4</th>\n",
       "      <td>[0.008464857, 0.010669234, 0.002438791, 0.0046...</td>\n",
       "      <td>[-0.005602994, 0.00064837135, 0.0038972532, 0....</td>\n",
       "      <td>0</td>\n",
       "    </tr>\n",
       "    <tr>\n",
       "      <th>...</th>\n",
       "      <td>...</td>\n",
       "      <td>...</td>\n",
       "      <td>...</td>\n",
       "    </tr>\n",
       "    <tr>\n",
       "      <th>14979</th>\n",
       "      <td>[0.008133189, 0.008165237, -0.0015068189, -0.0...</td>\n",
       "      <td>[-0.004563829, 0.005721207, -0.008197071, 0.00...</td>\n",
       "      <td>0</td>\n",
       "    </tr>\n",
       "    <tr>\n",
       "      <th>14980</th>\n",
       "      <td>[-0.004003905, -0.005635018, 0.006135591, 0.00...</td>\n",
       "      <td>[0.0022282824, -0.0038769601, 0.0052677165, 0....</td>\n",
       "      <td>0</td>\n",
       "    </tr>\n",
       "    <tr>\n",
       "      <th>14981</th>\n",
       "      <td>[0.00038462738, -0.0068092523, 0.0038909044, -...</td>\n",
       "      <td>[-0.0046033184, -0.00053639896, 0.00812684, 0....</td>\n",
       "      <td>0</td>\n",
       "    </tr>\n",
       "    <tr>\n",
       "      <th>14982</th>\n",
       "      <td>[0.0015396645, 0.0055753607, 0.0025678803, 0.0...</td>\n",
       "      <td>[-0.003455472, -0.0031393452, 0.01054282, -0.0...</td>\n",
       "      <td>0</td>\n",
       "    </tr>\n",
       "    <tr>\n",
       "      <th>14983</th>\n",
       "      <td>[-0.009514523, -0.00899469, -0.002300691, 0.00...</td>\n",
       "      <td>[0.00012482554, 0.0034422071, -0.0057903393, -...</td>\n",
       "      <td>0</td>\n",
       "    </tr>\n",
       "  </tbody>\n",
       "</table>\n",
       "<p>14984 rows × 3 columns</p>\n",
       "</div>"
      ],
      "text/plain": [
       "                                                  node_1  \\\n",
       "0      [-0.0028029422, 0.002066179, -0.008986698, 0.0...   \n",
       "1      [0.00091978983, 0.0010522334, -0.002763025, -0...   \n",
       "2      [-0.0077114245, 0.0007750519, 0.004330388, 0.0...   \n",
       "3      [0.006557724, -0.007497761, -0.0077382056, -0....   \n",
       "4      [0.008464857, 0.010669234, 0.002438791, 0.0046...   \n",
       "...                                                  ...   \n",
       "14979  [0.008133189, 0.008165237, -0.0015068189, -0.0...   \n",
       "14980  [-0.004003905, -0.005635018, 0.006135591, 0.00...   \n",
       "14981  [0.00038462738, -0.0068092523, 0.0038909044, -...   \n",
       "14982  [0.0015396645, 0.0055753607, 0.0025678803, 0.0...   \n",
       "14983  [-0.009514523, -0.00899469, -0.002300691, 0.00...   \n",
       "\n",
       "                                                  node_2  link  \n",
       "0      [-0.0034580696, 0.005837318, -0.0011574319, -0...     0  \n",
       "1      [0.0074036596, 0.010397072, -0.007715365, -0.0...     0  \n",
       "2      [-0.00030924423, 0.005032955, 0.00071717676, 0...     0  \n",
       "3      [0.0067642312, -0.0020208904, 0.002834014, 0.0...     0  \n",
       "4      [-0.005602994, 0.00064837135, 0.0038972532, 0....     0  \n",
       "...                                                  ...   ...  \n",
       "14979  [-0.004563829, 0.005721207, -0.008197071, 0.00...     0  \n",
       "14980  [0.0022282824, -0.0038769601, 0.0052677165, 0....     0  \n",
       "14981  [-0.0046033184, -0.00053639896, 0.00812684, 0....     0  \n",
       "14982  [-0.003455472, -0.0031393452, 0.01054282, -0.0...     0  \n",
       "14983  [0.00012482554, 0.0034422071, -0.0057903393, -...     0  \n",
       "\n",
       "[14984 rows x 3 columns]"
      ]
     },
     "execution_count": 14,
     "metadata": {},
     "output_type": "execute_result"
    }
   ],
   "source": [
    "data_1057"
   ]
  },
  {
   "cell_type": "code",
   "execution_count": 15,
   "id": "0fdc78ec",
   "metadata": {},
   "outputs": [],
   "source": [
    "H_1057 = nx.read_graphml(\"H_1057.graphml\")"
   ]
  },
  {
   "cell_type": "code",
   "execution_count": 16,
   "id": "983ecfcc",
   "metadata": {},
   "outputs": [
    {
     "name": "stdout",
     "output_type": "stream",
     "text": [
      "Name: \n",
      "Type: Graph\n",
      "Number of nodes: 184\n",
      "Number of edges: 3272\n",
      "Average degree:  35.5652\n"
     ]
    }
   ],
   "source": [
    "print(nx.info(H_1057))"
   ]
  },
  {
   "cell_type": "code",
   "execution_count": 17,
   "id": "760a2f44",
   "metadata": {},
   "outputs": [],
   "source": [
    "def omissibile_links(G, df_edges):\n",
    "    initial_node_count = len(G.nodes)\n",
    "\n",
    "    fb_df_temp = df_edges.copy()\n",
    "\n",
    "    # empty list to store removable links\n",
    "    omissible_links_index = []\n",
    "\n",
    "    for i in tqdm(df_edges.index.values):\n",
    "\n",
    "      # remove a node pair and build a new graph\n",
    "      G_temp = nx.from_pandas_edgelist(fb_df_temp.drop(index = i), \"first\", \"second\", create_using=nx.Graph())\n",
    "\n",
    "      # check there is no spliting of graph and number of nodes is same\n",
    "      if (nx.number_connected_components(G_temp) == 1) and (len(G_temp.nodes) == initial_node_count):\n",
    "        omissible_links_index.append(i)\n",
    "        fb_df_temp = fb_df_temp.drop(index = i)\n",
    "    return omissible_links_index"
   ]
  },
  {
   "cell_type": "code",
   "execution_count": 18,
   "id": "493151bb",
   "metadata": {},
   "outputs": [
    {
     "name": "stderr",
     "output_type": "stream",
     "text": [
      "100%|█████████████████████████████████████████████████████████████████████████████| 3272/3272 [00:11<00:00, 282.37it/s]\n"
     ]
    }
   ],
   "source": [
    "omissible_links_1057 =  omissibile_links(H_1057, edges_1057)"
   ]
  },
  {
   "cell_type": "code",
   "execution_count": 19,
   "id": "2b79ca5b",
   "metadata": {},
   "outputs": [
    {
     "data": {
      "text/plain": [
       "3272"
      ]
     },
     "execution_count": 19,
     "metadata": {},
     "output_type": "execute_result"
    }
   ],
   "source": [
    "len(edges_1057)"
   ]
  },
  {
   "cell_type": "code",
   "execution_count": 20,
   "id": "733b4eaf",
   "metadata": {},
   "outputs": [
    {
     "data": {
      "text/plain": [
       "3089"
      ]
     },
     "execution_count": 20,
     "metadata": {},
     "output_type": "execute_result"
    }
   ],
   "source": [
    "len(omissible_links_1057)"
   ]
  },
  {
   "cell_type": "code",
   "execution_count": 21,
   "id": "6960ff0e",
   "metadata": {},
   "outputs": [
    {
     "data": {
      "text/plain": [
       "16836"
      ]
     },
     "execution_count": 21,
     "metadata": {},
     "output_type": "execute_result"
    }
   ],
   "source": [
    "len(universe_1057)"
   ]
  },
  {
   "cell_type": "code",
   "execution_count": 22,
   "id": "ca71ecf3",
   "metadata": {},
   "outputs": [
    {
     "data": {
      "text/html": [
       "<div>\n",
       "<style scoped>\n",
       "    .dataframe tbody tr th:only-of-type {\n",
       "        vertical-align: middle;\n",
       "    }\n",
       "\n",
       "    .dataframe tbody tr th {\n",
       "        vertical-align: top;\n",
       "    }\n",
       "\n",
       "    .dataframe thead th {\n",
       "        text-align: right;\n",
       "    }\n",
       "</style>\n",
       "<table border=\"1\" class=\"dataframe\">\n",
       "  <thead>\n",
       "    <tr style=\"text-align: right;\">\n",
       "      <th></th>\n",
       "      <th>first</th>\n",
       "      <th>second</th>\n",
       "    </tr>\n",
       "  </thead>\n",
       "  <tbody>\n",
       "    <tr>\n",
       "      <th>0</th>\n",
       "      <td>[0.0039885594, -0.008024157, 0.0028861517, -0....</td>\n",
       "      <td>[0.0008663615, -0.008490867, -0.002296012, 0.0...</td>\n",
       "    </tr>\n",
       "    <tr>\n",
       "      <th>1</th>\n",
       "      <td>[0.0039885594, -0.008024157, 0.0028861517, -0....</td>\n",
       "      <td>[0.0059173736, -0.0051996214, -0.007877759, 0....</td>\n",
       "    </tr>\n",
       "    <tr>\n",
       "      <th>2</th>\n",
       "      <td>[0.0039885594, -0.008024157, 0.0028861517, -0....</td>\n",
       "      <td>[0.0072947503, -0.005026768, 0.00061695016, -0...</td>\n",
       "    </tr>\n",
       "    <tr>\n",
       "      <th>3</th>\n",
       "      <td>[0.0039885594, -0.008024157, 0.0028861517, -0....</td>\n",
       "      <td>[-0.0028029422, 0.002066179, -0.008986698, 0.0...</td>\n",
       "    </tr>\n",
       "    <tr>\n",
       "      <th>4</th>\n",
       "      <td>[0.0039885594, -0.008024157, 0.0028861517, -0....</td>\n",
       "      <td>[-0.00897787, -0.0012301602, -0.0073964167, -0...</td>\n",
       "    </tr>\n",
       "    <tr>\n",
       "      <th>...</th>\n",
       "      <td>...</td>\n",
       "      <td>...</td>\n",
       "    </tr>\n",
       "    <tr>\n",
       "      <th>3267</th>\n",
       "      <td>[-0.005621736, 0.002458445, 0.008004737, -0.00...</td>\n",
       "      <td>[0.00038462738, -0.0068092523, 0.0038909044, -...</td>\n",
       "    </tr>\n",
       "    <tr>\n",
       "      <th>3268</th>\n",
       "      <td>[0.0029600423, 0.008465885, -0.00519485, 0.007...</td>\n",
       "      <td>[0.0008663615, -0.008490867, -0.002296012, 0.0...</td>\n",
       "    </tr>\n",
       "    <tr>\n",
       "      <th>3269</th>\n",
       "      <td>[0.00038462738, -0.0068092523, 0.0038909044, -...</td>\n",
       "      <td>[0.0008663615, -0.008490867, -0.002296012, 0.0...</td>\n",
       "    </tr>\n",
       "    <tr>\n",
       "      <th>3270</th>\n",
       "      <td>[0.0008663615, -0.008490867, -0.002296012, 0.0...</td>\n",
       "      <td>[-0.008548371, 0.005509098, -0.005961837, 0.00...</td>\n",
       "    </tr>\n",
       "    <tr>\n",
       "      <th>3271</th>\n",
       "      <td>[0.0008663615, -0.008490867, -0.002296012, 0.0...</td>\n",
       "      <td>[-0.0032424948, -0.0033936307, -0.006376024, 0...</td>\n",
       "    </tr>\n",
       "  </tbody>\n",
       "</table>\n",
       "<p>3272 rows × 2 columns</p>\n",
       "</div>"
      ],
      "text/plain": [
       "                                                  first  \\\n",
       "0     [0.0039885594, -0.008024157, 0.0028861517, -0....   \n",
       "1     [0.0039885594, -0.008024157, 0.0028861517, -0....   \n",
       "2     [0.0039885594, -0.008024157, 0.0028861517, -0....   \n",
       "3     [0.0039885594, -0.008024157, 0.0028861517, -0....   \n",
       "4     [0.0039885594, -0.008024157, 0.0028861517, -0....   \n",
       "...                                                 ...   \n",
       "3267  [-0.005621736, 0.002458445, 0.008004737, -0.00...   \n",
       "3268  [0.0029600423, 0.008465885, -0.00519485, 0.007...   \n",
       "3269  [0.00038462738, -0.0068092523, 0.0038909044, -...   \n",
       "3270  [0.0008663615, -0.008490867, -0.002296012, 0.0...   \n",
       "3271  [0.0008663615, -0.008490867, -0.002296012, 0.0...   \n",
       "\n",
       "                                                 second  \n",
       "0     [0.0008663615, -0.008490867, -0.002296012, 0.0...  \n",
       "1     [0.0059173736, -0.0051996214, -0.007877759, 0....  \n",
       "2     [0.0072947503, -0.005026768, 0.00061695016, -0...  \n",
       "3     [-0.0028029422, 0.002066179, -0.008986698, 0.0...  \n",
       "4     [-0.00897787, -0.0012301602, -0.0073964167, -0...  \n",
       "...                                                 ...  \n",
       "3267  [0.00038462738, -0.0068092523, 0.0038909044, -...  \n",
       "3268  [0.0008663615, -0.008490867, -0.002296012, 0.0...  \n",
       "3269  [0.0008663615, -0.008490867, -0.002296012, 0.0...  \n",
       "3270  [-0.008548371, 0.005509098, -0.005961837, 0.00...  \n",
       "3271  [-0.0032424948, -0.0033936307, -0.006376024, 0...  \n",
       "\n",
       "[3272 rows x 2 columns]"
      ]
     },
     "execution_count": 22,
     "metadata": {},
     "output_type": "execute_result"
    }
   ],
   "source": [
    "embedding_pickle_1057"
   ]
  },
  {
   "cell_type": "code",
   "execution_count": 23,
   "id": "b818ad27",
   "metadata": {},
   "outputs": [],
   "source": [
    "fb_df_ghost_1057 = embedding_pickle_1057.loc[omissible_links_1057]"
   ]
  },
  {
   "cell_type": "code",
   "execution_count": 24,
   "id": "0037efce",
   "metadata": {},
   "outputs": [
    {
     "data": {
      "text/html": [
       "<div>\n",
       "<style scoped>\n",
       "    .dataframe tbody tr th:only-of-type {\n",
       "        vertical-align: middle;\n",
       "    }\n",
       "\n",
       "    .dataframe tbody tr th {\n",
       "        vertical-align: top;\n",
       "    }\n",
       "\n",
       "    .dataframe thead th {\n",
       "        text-align: right;\n",
       "    }\n",
       "</style>\n",
       "<table border=\"1\" class=\"dataframe\">\n",
       "  <thead>\n",
       "    <tr style=\"text-align: right;\">\n",
       "      <th></th>\n",
       "      <th>first</th>\n",
       "      <th>second</th>\n",
       "    </tr>\n",
       "  </thead>\n",
       "  <tbody>\n",
       "    <tr>\n",
       "      <th>0</th>\n",
       "      <td>[0.0039885594, -0.008024157, 0.0028861517, -0....</td>\n",
       "      <td>[0.0008663615, -0.008490867, -0.002296012, 0.0...</td>\n",
       "    </tr>\n",
       "    <tr>\n",
       "      <th>1</th>\n",
       "      <td>[0.0039885594, -0.008024157, 0.0028861517, -0....</td>\n",
       "      <td>[0.0059173736, -0.0051996214, -0.007877759, 0....</td>\n",
       "    </tr>\n",
       "    <tr>\n",
       "      <th>2</th>\n",
       "      <td>[0.0039885594, -0.008024157, 0.0028861517, -0....</td>\n",
       "      <td>[0.0072947503, -0.005026768, 0.00061695016, -0...</td>\n",
       "    </tr>\n",
       "    <tr>\n",
       "      <th>3</th>\n",
       "      <td>[0.0039885594, -0.008024157, 0.0028861517, -0....</td>\n",
       "      <td>[-0.0028029422, 0.002066179, -0.008986698, 0.0...</td>\n",
       "    </tr>\n",
       "    <tr>\n",
       "      <th>4</th>\n",
       "      <td>[0.0039885594, -0.008024157, 0.0028861517, -0....</td>\n",
       "      <td>[-0.00897787, -0.0012301602, -0.0073964167, -0...</td>\n",
       "    </tr>\n",
       "    <tr>\n",
       "      <th>...</th>\n",
       "      <td>...</td>\n",
       "      <td>...</td>\n",
       "    </tr>\n",
       "    <tr>\n",
       "      <th>3258</th>\n",
       "      <td>[0.0037780073, -0.0019808104, -0.0032479796, 0...</td>\n",
       "      <td>[-0.0026167454, 0.0077929436, -0.008782764, -0...</td>\n",
       "    </tr>\n",
       "    <tr>\n",
       "      <th>3260</th>\n",
       "      <td>[-0.0027288226, 0.0032658703, -0.00033385758, ...</td>\n",
       "      <td>[0.0008663615, -0.008490867, -0.002296012, 0.0...</td>\n",
       "    </tr>\n",
       "    <tr>\n",
       "      <th>3262</th>\n",
       "      <td>[-0.0026167454, 0.0077929436, -0.008782764, -0...</td>\n",
       "      <td>[0.0008663615, -0.008490867, -0.002296012, 0.0...</td>\n",
       "    </tr>\n",
       "    <tr>\n",
       "      <th>3265</th>\n",
       "      <td>[-0.005621736, 0.002458445, 0.008004737, -0.00...</td>\n",
       "      <td>[0.0008663615, -0.008490867, -0.002296012, 0.0...</td>\n",
       "    </tr>\n",
       "    <tr>\n",
       "      <th>3266</th>\n",
       "      <td>[-0.005621736, 0.002458445, 0.008004737, -0.00...</td>\n",
       "      <td>[0.0029600423, 0.008465885, -0.00519485, 0.007...</td>\n",
       "    </tr>\n",
       "  </tbody>\n",
       "</table>\n",
       "<p>3089 rows × 2 columns</p>\n",
       "</div>"
      ],
      "text/plain": [
       "                                                  first  \\\n",
       "0     [0.0039885594, -0.008024157, 0.0028861517, -0....   \n",
       "1     [0.0039885594, -0.008024157, 0.0028861517, -0....   \n",
       "2     [0.0039885594, -0.008024157, 0.0028861517, -0....   \n",
       "3     [0.0039885594, -0.008024157, 0.0028861517, -0....   \n",
       "4     [0.0039885594, -0.008024157, 0.0028861517, -0....   \n",
       "...                                                 ...   \n",
       "3258  [0.0037780073, -0.0019808104, -0.0032479796, 0...   \n",
       "3260  [-0.0027288226, 0.0032658703, -0.00033385758, ...   \n",
       "3262  [-0.0026167454, 0.0077929436, -0.008782764, -0...   \n",
       "3265  [-0.005621736, 0.002458445, 0.008004737, -0.00...   \n",
       "3266  [-0.005621736, 0.002458445, 0.008004737, -0.00...   \n",
       "\n",
       "                                                 second  \n",
       "0     [0.0008663615, -0.008490867, -0.002296012, 0.0...  \n",
       "1     [0.0059173736, -0.0051996214, -0.007877759, 0....  \n",
       "2     [0.0072947503, -0.005026768, 0.00061695016, -0...  \n",
       "3     [-0.0028029422, 0.002066179, -0.008986698, 0.0...  \n",
       "4     [-0.00897787, -0.0012301602, -0.0073964167, -0...  \n",
       "...                                                 ...  \n",
       "3258  [-0.0026167454, 0.0077929436, -0.008782764, -0...  \n",
       "3260  [0.0008663615, -0.008490867, -0.002296012, 0.0...  \n",
       "3262  [0.0008663615, -0.008490867, -0.002296012, 0.0...  \n",
       "3265  [0.0008663615, -0.008490867, -0.002296012, 0.0...  \n",
       "3266  [0.0029600423, 0.008465885, -0.00519485, 0.007...  \n",
       "\n",
       "[3089 rows x 2 columns]"
      ]
     },
     "execution_count": 24,
     "metadata": {},
     "output_type": "execute_result"
    }
   ],
   "source": [
    "fb_df_ghost_1057"
   ]
  },
  {
   "cell_type": "code",
   "execution_count": 25,
   "id": "dec706cd",
   "metadata": {},
   "outputs": [],
   "source": [
    "# create dataframe of removable edges\n",
    "fb_df_ghost_1057 = embedding_pickle_1057.loc[omissible_links_1057]\n",
    "\n",
    "fb_df_ghost_1057 = fb_df_ghost_1057.rename(columns={\"first\": \"node_1\", \"second\": \"node_2\"})\n",
    "# add the target variable 'link'\n",
    "fb_df_ghost_1057['link'] = 1\n",
    "\n",
    "data_1057 = data_1057.append(fb_df_ghost_1057[['node_1', 'node_2', 'link']], ignore_index=True)"
   ]
  },
  {
   "cell_type": "code",
   "execution_count": 26,
   "id": "90f8c663",
   "metadata": {
    "scrolled": true
   },
   "outputs": [
    {
     "data": {
      "text/plain": [
       "0    14984\n",
       "1     3089\n",
       "Name: link, dtype: int64"
      ]
     },
     "execution_count": 26,
     "metadata": {},
     "output_type": "execute_result"
    }
   ],
   "source": [
    "data_1057['link'].value_counts()"
   ]
  },
  {
   "cell_type": "code",
   "execution_count": 27,
   "id": "f9e81e31",
   "metadata": {},
   "outputs": [],
   "source": [
    "data_1057.to_pickle(\"data_1057.csv\")"
   ]
  },
  {
   "cell_type": "markdown",
   "id": "90122197",
   "metadata": {},
   "source": [
    "----------------- Lettura dati -------------------"
   ]
  },
  {
   "cell_type": "code",
   "execution_count": 28,
   "id": "64633754",
   "metadata": {},
   "outputs": [],
   "source": [
    "data_1057 = pd.read_pickle('data_1057.csv')"
   ]
  },
  {
   "cell_type": "markdown",
   "id": "6b656fce",
   "metadata": {},
   "source": [
    "# 2 - Classificatori"
   ]
  },
  {
   "cell_type": "code",
   "execution_count": 29,
   "id": "95b21bf9",
   "metadata": {},
   "outputs": [],
   "source": [
    "X_1057 = []\n",
    "for i in range(data_1057.shape[0]):\n",
    "    first = data_1057.iloc[i][0]\n",
    "    second = data_1057.iloc[i][1]\n",
    "    mixed = np.concatenate((first, second), 0)\n",
    "    X_1057.append(mixed)"
   ]
  },
  {
   "cell_type": "code",
   "execution_count": 30,
   "id": "5f4355ea",
   "metadata": {},
   "outputs": [],
   "source": [
    "xtrain_1057, xtest_1057, ytrain_1057, ytest_1057 = train_test_split(np.asarray(X_1057), data_1057['link'], \n",
    "                                                test_size = 0.3, \n",
    "                                                random_state = 35,\n",
    "                                                stratify=data_1057['link'])"
   ]
  },
  {
   "cell_type": "markdown",
   "id": "7d02c877",
   "metadata": {},
   "source": [
    "### 1 - DecisionTree"
   ]
  },
  {
   "cell_type": "code",
   "execution_count": 31,
   "id": "b2f8c7d6",
   "metadata": {},
   "outputs": [],
   "source": [
    "from sklearn import tree\n",
    "from sklearn.model_selection import ShuffleSplit, StratifiedKFold, GridSearchCV\n",
    "from sklearn.metrics import roc_curve, auc, roc_auc_score"
   ]
  },
  {
   "cell_type": "code",
   "execution_count": 32,
   "id": "77d75902",
   "metadata": {},
   "outputs": [],
   "source": [
    "# Set the parameters by cross-validation\n",
    "tuned_parameters = {\n",
    "    'criterion' : ['gini', 'entropy'],\n",
    "    'max_depth': [2, 5, 10, 15, None],\n",
    "    'min_samples_split': [2, 5, 10, 20],\n",
    "    'min_samples_leaf': [1, 5, 10, 20],\n",
    "}\n",
    "scores = ['roc_auc']"
   ]
  },
  {
   "cell_type": "code",
   "execution_count": 33,
   "id": "b9d39b93",
   "metadata": {},
   "outputs": [],
   "source": [
    "def builtGridSearch( X_train, X_test, y_train, y_test, tuned_parameters, scores):\n",
    "    optimals = {}\n",
    "    for score in scores:\n",
    "        print(\"------- Score = \" + str(score) + \" ------- \\n\")\n",
    "        model = tree.DecisionTreeClassifier()\n",
    "        k_fold = StratifiedKFold(n_splits=5, random_state=42)\n",
    "        \n",
    "        print(\"> Fold = \" + str(k_fold) + \"\\n\")\n",
    "        clf = GridSearchCV(model, tuned_parameters, error_score='raise', cv=5, scoring = score, return_train_score=True)\n",
    "\n",
    "        clf.fit(X_train, y_train)\n",
    "\n",
    "        print(\"> Best Parameter set: \\n\")\n",
    "        best = clf.best_params_\n",
    "        print(best)\n",
    "        \n",
    "        print(\"\\n> Grid scores:\\n\")\n",
    "        means = clf.cv_results_['mean_test_score']\n",
    "        stds = clf.cv_results_['std_test_score']\n",
    "        \n",
    "        parameters = {\"criterion\": [], \"max_depth\": [], \"min_samples_leaf\": [], \"min_samples_split\": []}\n",
    "        for mean, std, params in zip(means, stds, clf.cv_results_['params']):\n",
    "            print(\"%0.3f (+/-%0.03f) for %r\"\n",
    "                  % (mean, std * 2, params))\n",
    "            parameters[\"criterion\"].append(params[\"criterion\"])\n",
    "\n",
    "            if(params[\"max_depth\"] == None):\n",
    "                parameters[\"max_depth\"].append(0)\n",
    "            else:\n",
    "                parameters[\"max_depth\"].append(params[\"max_depth\"])\n",
    "\n",
    "            #parameters[\"max_depth\"].append(params[\"max_depth\"])\n",
    "            parameters[\"min_samples_leaf\"].append(params[\"min_samples_leaf\"])\n",
    "            parameters[\"min_samples_split\"].append(params[\"min_samples_split\"])\n",
    "        \n",
    "        print(\"-> Report\\n\") \n",
    "        y_true, y_pred = y_test, clf.predict(X_test)\n",
    "        print(classification_report(y_true, y_pred))\n",
    "        print(\"\\n\")\n",
    "        print(\"**** Matrice di Confusione *****\")\n",
    "        tn, fp, fn, tp = confusion_matrix(y_true, y_pred).ravel()\n",
    "        print(' True negative: %d False negative: %d' % (tn, fn))\n",
    "        print(' True positive: %d False positive: %d' % (tp, fp))\n",
    "\n",
    "        \n",
    "        # Creazione del csv\n",
    "        d = {score: means, 'std_dev': stds*2, 'criterion': parameters[\"criterion\"], \"max_depth\": parameters[\"max_depth\"], \"min_samples_leaf\": parameters[\"min_samples_leaf\"], \"min_samples_split\": parameters[\"min_samples_split\"]}\n",
    "        \n",
    "        dataF = pd.DataFrame(data=d)\n",
    "        \n",
    "        dataF.to_csv(\"result_DT_gridsearch.csv\",index=False, header=True)\n",
    "        \n",
    "\n",
    "        print(\"...........RESULTS FOR TRAINING.........\")\n",
    "        print(\"........................................\")\n",
    "        means = clf.cv_results_['mean_train_score']\n",
    "        stds = clf.cv_results_['std_train_score']\n",
    "        for mean, std, params in zip(means, stds, clf.cv_results_['params']):\n",
    "            print(\"%0.3f (+/-%0.03f) for %r\"\n",
    "                  % (mean, std * 2, params))        \n",
    "        \n",
    "        print(\"____________________________________________\")\n",
    "        \n",
    "        optimals[score] = best\n",
    "    return optimals"
   ]
  },
  {
   "cell_type": "code",
   "execution_count": 34,
   "id": "29c1f31e",
   "metadata": {},
   "outputs": [
    {
     "name": "stdout",
     "output_type": "stream",
     "text": [
      "------- Score = roc_auc ------- \n",
      "\n"
     ]
    },
    {
     "ename": "ValueError",
     "evalue": "Setting a random_state has no effect since shuffle is False. You should leave random_state to its default (None), or set shuffle=True.",
     "output_type": "error",
     "traceback": [
      "\u001b[1;31m---------------------------------------------------------------------------\u001b[0m",
      "\u001b[1;31mValueError\u001b[0m                                Traceback (most recent call last)",
      "\u001b[1;32m<ipython-input-34-f6ccfa6dda21>\u001b[0m in \u001b[0;36m<module>\u001b[1;34m\u001b[0m\n\u001b[1;32m----> 1\u001b[1;33m \u001b[0moptimals_1057\u001b[0m \u001b[1;33m=\u001b[0m \u001b[0mbuiltGridSearch\u001b[0m\u001b[1;33m(\u001b[0m\u001b[0mxtrain_1057\u001b[0m\u001b[1;33m,\u001b[0m \u001b[0mxtest_1057\u001b[0m\u001b[1;33m,\u001b[0m \u001b[0mytrain_1057\u001b[0m\u001b[1;33m,\u001b[0m \u001b[0mytest_1057\u001b[0m\u001b[1;33m,\u001b[0m \u001b[0mtuned_parameters\u001b[0m\u001b[1;33m,\u001b[0m \u001b[0mscores\u001b[0m\u001b[1;33m)\u001b[0m\u001b[1;33m\u001b[0m\u001b[1;33m\u001b[0m\u001b[0m\n\u001b[0m",
      "\u001b[1;32m<ipython-input-33-26d2803334ba>\u001b[0m in \u001b[0;36mbuiltGridSearch\u001b[1;34m(X_train, X_test, y_train, y_test, tuned_parameters, scores)\u001b[0m\n\u001b[0;32m      4\u001b[0m         \u001b[0mprint\u001b[0m\u001b[1;33m(\u001b[0m\u001b[1;34m\"------- Score = \"\u001b[0m \u001b[1;33m+\u001b[0m \u001b[0mstr\u001b[0m\u001b[1;33m(\u001b[0m\u001b[0mscore\u001b[0m\u001b[1;33m)\u001b[0m \u001b[1;33m+\u001b[0m \u001b[1;34m\" ------- \\n\"\u001b[0m\u001b[1;33m)\u001b[0m\u001b[1;33m\u001b[0m\u001b[1;33m\u001b[0m\u001b[0m\n\u001b[0;32m      5\u001b[0m         \u001b[0mmodel\u001b[0m \u001b[1;33m=\u001b[0m \u001b[0mtree\u001b[0m\u001b[1;33m.\u001b[0m\u001b[0mDecisionTreeClassifier\u001b[0m\u001b[1;33m(\u001b[0m\u001b[1;33m)\u001b[0m\u001b[1;33m\u001b[0m\u001b[1;33m\u001b[0m\u001b[0m\n\u001b[1;32m----> 6\u001b[1;33m         \u001b[0mk_fold\u001b[0m \u001b[1;33m=\u001b[0m \u001b[0mStratifiedKFold\u001b[0m\u001b[1;33m(\u001b[0m\u001b[0mn_splits\u001b[0m\u001b[1;33m=\u001b[0m\u001b[1;36m5\u001b[0m\u001b[1;33m,\u001b[0m \u001b[0mrandom_state\u001b[0m\u001b[1;33m=\u001b[0m\u001b[1;36m42\u001b[0m\u001b[1;33m)\u001b[0m\u001b[1;33m\u001b[0m\u001b[1;33m\u001b[0m\u001b[0m\n\u001b[0m\u001b[0;32m      7\u001b[0m \u001b[1;33m\u001b[0m\u001b[0m\n\u001b[0;32m      8\u001b[0m         \u001b[0mprint\u001b[0m\u001b[1;33m(\u001b[0m\u001b[1;34m\"> Fold = \"\u001b[0m \u001b[1;33m+\u001b[0m \u001b[0mstr\u001b[0m\u001b[1;33m(\u001b[0m\u001b[0mk_fold\u001b[0m\u001b[1;33m)\u001b[0m \u001b[1;33m+\u001b[0m \u001b[1;34m\"\\n\"\u001b[0m\u001b[1;33m)\u001b[0m\u001b[1;33m\u001b[0m\u001b[1;33m\u001b[0m\u001b[0m\n",
      "\u001b[1;32m~\\anaconda3\\lib\\site-packages\\sklearn\\model_selection\\_split.py\u001b[0m in \u001b[0;36m__init__\u001b[1;34m(self, n_splits, shuffle, random_state)\u001b[0m\n\u001b[0;32m    642\u001b[0m \u001b[1;33m\u001b[0m\u001b[0m\n\u001b[0;32m    643\u001b[0m     \u001b[1;32mdef\u001b[0m \u001b[0m__init__\u001b[0m\u001b[1;33m(\u001b[0m\u001b[0mself\u001b[0m\u001b[1;33m,\u001b[0m \u001b[0mn_splits\u001b[0m\u001b[1;33m=\u001b[0m\u001b[1;36m5\u001b[0m\u001b[1;33m,\u001b[0m \u001b[1;33m*\u001b[0m\u001b[1;33m,\u001b[0m \u001b[0mshuffle\u001b[0m\u001b[1;33m=\u001b[0m\u001b[1;32mFalse\u001b[0m\u001b[1;33m,\u001b[0m \u001b[0mrandom_state\u001b[0m\u001b[1;33m=\u001b[0m\u001b[1;32mNone\u001b[0m\u001b[1;33m)\u001b[0m\u001b[1;33m:\u001b[0m\u001b[1;33m\u001b[0m\u001b[1;33m\u001b[0m\u001b[0m\n\u001b[1;32m--> 644\u001b[1;33m         \u001b[0msuper\u001b[0m\u001b[1;33m(\u001b[0m\u001b[1;33m)\u001b[0m\u001b[1;33m.\u001b[0m\u001b[0m__init__\u001b[0m\u001b[1;33m(\u001b[0m\u001b[0mn_splits\u001b[0m\u001b[1;33m=\u001b[0m\u001b[0mn_splits\u001b[0m\u001b[1;33m,\u001b[0m \u001b[0mshuffle\u001b[0m\u001b[1;33m=\u001b[0m\u001b[0mshuffle\u001b[0m\u001b[1;33m,\u001b[0m \u001b[0mrandom_state\u001b[0m\u001b[1;33m=\u001b[0m\u001b[0mrandom_state\u001b[0m\u001b[1;33m)\u001b[0m\u001b[1;33m\u001b[0m\u001b[1;33m\u001b[0m\u001b[0m\n\u001b[0m\u001b[0;32m    645\u001b[0m \u001b[1;33m\u001b[0m\u001b[0m\n\u001b[0;32m    646\u001b[0m     \u001b[1;32mdef\u001b[0m \u001b[0m_make_test_folds\u001b[0m\u001b[1;33m(\u001b[0m\u001b[0mself\u001b[0m\u001b[1;33m,\u001b[0m \u001b[0mX\u001b[0m\u001b[1;33m,\u001b[0m \u001b[0my\u001b[0m\u001b[1;33m=\u001b[0m\u001b[1;32mNone\u001b[0m\u001b[1;33m)\u001b[0m\u001b[1;33m:\u001b[0m\u001b[1;33m\u001b[0m\u001b[1;33m\u001b[0m\u001b[0m\n",
      "\u001b[1;32m~\\anaconda3\\lib\\site-packages\\sklearn\\model_selection\\_split.py\u001b[0m in \u001b[0;36m__init__\u001b[1;34m(self, n_splits, shuffle, random_state)\u001b[0m\n\u001b[0;32m    294\u001b[0m \u001b[1;33m\u001b[0m\u001b[0m\n\u001b[0;32m    295\u001b[0m         \u001b[1;32mif\u001b[0m \u001b[1;32mnot\u001b[0m \u001b[0mshuffle\u001b[0m \u001b[1;32mand\u001b[0m \u001b[0mrandom_state\u001b[0m \u001b[1;32mis\u001b[0m \u001b[1;32mnot\u001b[0m \u001b[1;32mNone\u001b[0m\u001b[1;33m:\u001b[0m  \u001b[1;31m# None is the default\u001b[0m\u001b[1;33m\u001b[0m\u001b[1;33m\u001b[0m\u001b[0m\n\u001b[1;32m--> 296\u001b[1;33m             raise ValueError(\n\u001b[0m\u001b[0;32m    297\u001b[0m                 \u001b[1;34m\"Setting a random_state has no effect since shuffle is \"\u001b[0m\u001b[1;33m\u001b[0m\u001b[1;33m\u001b[0m\u001b[0m\n\u001b[0;32m    298\u001b[0m                 \u001b[1;34m\"False. You should leave \"\u001b[0m\u001b[1;33m\u001b[0m\u001b[1;33m\u001b[0m\u001b[0m\n",
      "\u001b[1;31mValueError\u001b[0m: Setting a random_state has no effect since shuffle is False. You should leave random_state to its default (None), or set shuffle=True."
     ]
    }
   ],
   "source": [
    "optimals_1057 = builtGridSearch(xtrain_1057, xtest_1057, ytrain_1057, ytest_1057, tuned_parameters, scores)"
   ]
  },
  {
   "cell_type": "code",
   "execution_count": null,
   "id": "b5d47aa6",
   "metadata": {},
   "outputs": [],
   "source": [
    "optimals_1057"
   ]
  },
  {
   "cell_type": "markdown",
   "id": "187e00d5",
   "metadata": {},
   "source": [
    "# 1 - DecisionTree_Bilanciato"
   ]
  },
  {
   "cell_type": "code",
   "execution_count": 35,
   "id": "f40a2849",
   "metadata": {},
   "outputs": [
    {
     "data": {
      "text/plain": [
       "11895"
      ]
     },
     "execution_count": 35,
     "metadata": {},
     "output_type": "execute_result"
    }
   ],
   "source": [
    "remove_n = data_1057['link'].value_counts()[0] - data_1057['link'].value_counts()[1]\n",
    "remove_n"
   ]
  },
  {
   "cell_type": "code",
   "execution_count": 36,
   "id": "c1899a5e",
   "metadata": {},
   "outputs": [
    {
     "name": "stdout",
     "output_type": "stream",
     "text": [
      "0    3089\n",
      "1    3089\n",
      "Name: link, dtype: int64\n"
     ]
    },
    {
     "ename": "NameError",
     "evalue": "name 'X_sbset_597' is not defined",
     "output_type": "error",
     "traceback": [
      "\u001b[1;31m---------------------------------------------------------------------------\u001b[0m",
      "\u001b[1;31mNameError\u001b[0m                                 Traceback (most recent call last)",
      "\u001b[1;32m<ipython-input-36-2970b9143597>\u001b[0m in \u001b[0;36m<module>\u001b[1;34m\u001b[0m\n\u001b[0;32m      9\u001b[0m     \u001b[0msecond\u001b[0m \u001b[1;33m=\u001b[0m \u001b[0mdf_subset\u001b[0m\u001b[1;33m.\u001b[0m\u001b[0miloc\u001b[0m\u001b[1;33m[\u001b[0m\u001b[0mi\u001b[0m\u001b[1;33m]\u001b[0m\u001b[1;33m[\u001b[0m\u001b[1;36m1\u001b[0m\u001b[1;33m]\u001b[0m\u001b[1;33m\u001b[0m\u001b[1;33m\u001b[0m\u001b[0m\n\u001b[0;32m     10\u001b[0m     \u001b[0mmixed\u001b[0m \u001b[1;33m=\u001b[0m \u001b[0mnp\u001b[0m\u001b[1;33m.\u001b[0m\u001b[0mconcatenate\u001b[0m\u001b[1;33m(\u001b[0m\u001b[1;33m(\u001b[0m\u001b[0mfirst\u001b[0m\u001b[1;33m,\u001b[0m \u001b[0msecond\u001b[0m\u001b[1;33m)\u001b[0m\u001b[1;33m,\u001b[0m \u001b[1;36m0\u001b[0m\u001b[1;33m)\u001b[0m\u001b[1;33m\u001b[0m\u001b[1;33m\u001b[0m\u001b[0m\n\u001b[1;32m---> 11\u001b[1;33m     \u001b[0mX_sbset_597\u001b[0m\u001b[1;33m.\u001b[0m\u001b[0mappend\u001b[0m\u001b[1;33m(\u001b[0m\u001b[0mmixed\u001b[0m\u001b[1;33m)\u001b[0m\u001b[1;33m\u001b[0m\u001b[1;33m\u001b[0m\u001b[0m\n\u001b[0m\u001b[0;32m     12\u001b[0m \u001b[1;33m\u001b[0m\u001b[0m\n\u001b[0;32m     13\u001b[0m \u001b[1;33m\u001b[0m\u001b[0m\n",
      "\u001b[1;31mNameError\u001b[0m: name 'X_sbset_597' is not defined"
     ]
    }
   ],
   "source": [
    "\n",
    "df = data_1057.copy()\n",
    "drop_indices = np.random.choice(df[df[\"link\"]==0].index, remove_n, replace=False)\n",
    "df_subset = df.drop(drop_indices)\n",
    "print(df_subset['link'].value_counts())\n",
    "\n",
    "X_sbset_1057 = []\n",
    "for i in range(df_subset.shape[0]):\n",
    "    first = df_subset.iloc[i][0]\n",
    "    second = df_subset.iloc[i][1]\n",
    "    mixed = np.concatenate((first, second), 0)\n",
    "    X_sbset_597.append(mixed)\n",
    "    \n",
    "    \n",
    "xtrain_sb_1057, xtest_sb_1057, ytrain_sb_1057, ytest_sb_1057 = train_test_split(np.asarray(X_sbset_1057), df_subset[\"link\"], \n",
    "                                                test_size = 0.3, \n",
    "                                                random_state = 35,\n",
    "                                                stratify=df_subset[\"link\"])\n"
   ]
  },
  {
   "cell_type": "code",
   "execution_count": 37,
   "id": "0b494737",
   "metadata": {},
   "outputs": [
    {
     "ename": "NameError",
     "evalue": "name 'xtrain_sb_1057' is not defined",
     "output_type": "error",
     "traceback": [
      "\u001b[1;31m---------------------------------------------------------------------------\u001b[0m",
      "\u001b[1;31mNameError\u001b[0m                                 Traceback (most recent call last)",
      "\u001b[1;32m<ipython-input-37-070e1fd2ec53>\u001b[0m in \u001b[0;36m<module>\u001b[1;34m\u001b[0m\n\u001b[1;32m----> 1\u001b[1;33m \u001b[0moptimals_sb_1057\u001b[0m \u001b[1;33m=\u001b[0m \u001b[0mbuiltGridSearch\u001b[0m\u001b[1;33m(\u001b[0m\u001b[0mxtrain_sb_1057\u001b[0m\u001b[1;33m,\u001b[0m \u001b[0mxtest_sb_1057\u001b[0m\u001b[1;33m,\u001b[0m \u001b[0mytrain_sb_1057\u001b[0m\u001b[1;33m,\u001b[0m \u001b[0mytest_sb_1057\u001b[0m\u001b[1;33m,\u001b[0m \u001b[0mtuned_parameters\u001b[0m\u001b[1;33m,\u001b[0m \u001b[0mscores\u001b[0m\u001b[1;33m)\u001b[0m\u001b[1;33m\u001b[0m\u001b[1;33m\u001b[0m\u001b[0m\n\u001b[0m",
      "\u001b[1;31mNameError\u001b[0m: name 'xtrain_sb_1057' is not defined"
     ]
    }
   ],
   "source": [
    "optimals_sb_1057 = builtGridSearch(xtrain_sb_1057, xtest_sb_1057, ytrain_sb_1057, ytest_sb_1057, tuned_parameters, scores)"
   ]
  },
  {
   "cell_type": "code",
   "execution_count": 38,
   "id": "77edeb39",
   "metadata": {},
   "outputs": [
    {
     "ename": "NameError",
     "evalue": "name 'optimals_sb_1057' is not defined",
     "output_type": "error",
     "traceback": [
      "\u001b[1;31m---------------------------------------------------------------------------\u001b[0m",
      "\u001b[1;31mNameError\u001b[0m                                 Traceback (most recent call last)",
      "\u001b[1;32m<ipython-input-38-8dc12c7bc0ea>\u001b[0m in \u001b[0;36m<module>\u001b[1;34m\u001b[0m\n\u001b[1;32m----> 1\u001b[1;33m \u001b[0moptimals_sb_1057\u001b[0m\u001b[1;33m\u001b[0m\u001b[1;33m\u001b[0m\u001b[0m\n\u001b[0m",
      "\u001b[1;31mNameError\u001b[0m: name 'optimals_sb_1057' is not defined"
     ]
    }
   ],
   "source": [
    "optimals_sb_1057"
   ]
  },
  {
   "cell_type": "markdown",
   "id": "76f34fd2",
   "metadata": {},
   "source": [
    "### 3 - LinearSVC"
   ]
  },
  {
   "cell_type": "code",
   "execution_count": 39,
   "id": "446173f4",
   "metadata": {},
   "outputs": [],
   "source": [
    "from sklearn.svm import LinearSVC\n",
    "from sklearn.svm import SVC\n",
    "from sklearn.calibration import CalibratedClassifierCV"
   ]
  },
  {
   "cell_type": "code",
   "execution_count": 40,
   "id": "d8d0d2a7",
   "metadata": {},
   "outputs": [
    {
     "ename": "ValueError",
     "evalue": "Setting a random_state has no effect since shuffle is False. You should leave random_state to its default (None), or set shuffle=True.",
     "output_type": "error",
     "traceback": [
      "\u001b[1;31m---------------------------------------------------------------------------\u001b[0m",
      "\u001b[1;31mValueError\u001b[0m                                Traceback (most recent call last)",
      "\u001b[1;32m<ipython-input-40-034b155e750c>\u001b[0m in \u001b[0;36m<module>\u001b[1;34m\u001b[0m\n\u001b[0;32m      5\u001b[0m }\n\u001b[0;32m      6\u001b[0m \u001b[1;31m# Set the parameters by cross-validation\u001b[0m\u001b[1;33m\u001b[0m\u001b[1;33m\u001b[0m\u001b[1;33m\u001b[0m\u001b[0m\n\u001b[1;32m----> 7\u001b[1;33m \u001b[0mk_fold\u001b[0m \u001b[1;33m=\u001b[0m \u001b[0mStratifiedKFold\u001b[0m\u001b[1;33m(\u001b[0m\u001b[0mn_splits\u001b[0m\u001b[1;33m=\u001b[0m\u001b[1;36m4\u001b[0m\u001b[1;33m,\u001b[0m \u001b[0mrandom_state\u001b[0m\u001b[1;33m=\u001b[0m\u001b[1;36m42\u001b[0m\u001b[1;33m)\u001b[0m\u001b[1;33m\u001b[0m\u001b[1;33m\u001b[0m\u001b[0m\n\u001b[0m\u001b[0;32m      8\u001b[0m \u001b[1;33m\u001b[0m\u001b[0m\n\u001b[0;32m      9\u001b[0m \u001b[0mscores\u001b[0m \u001b[1;33m=\u001b[0m \u001b[1;33m[\u001b[0m\u001b[1;34m'roc_auc'\u001b[0m\u001b[1;33m]\u001b[0m\u001b[1;33m\u001b[0m\u001b[1;33m\u001b[0m\u001b[0m\n",
      "\u001b[1;32m~\\anaconda3\\lib\\site-packages\\sklearn\\model_selection\\_split.py\u001b[0m in \u001b[0;36m__init__\u001b[1;34m(self, n_splits, shuffle, random_state)\u001b[0m\n\u001b[0;32m    642\u001b[0m \u001b[1;33m\u001b[0m\u001b[0m\n\u001b[0;32m    643\u001b[0m     \u001b[1;32mdef\u001b[0m \u001b[0m__init__\u001b[0m\u001b[1;33m(\u001b[0m\u001b[0mself\u001b[0m\u001b[1;33m,\u001b[0m \u001b[0mn_splits\u001b[0m\u001b[1;33m=\u001b[0m\u001b[1;36m5\u001b[0m\u001b[1;33m,\u001b[0m \u001b[1;33m*\u001b[0m\u001b[1;33m,\u001b[0m \u001b[0mshuffle\u001b[0m\u001b[1;33m=\u001b[0m\u001b[1;32mFalse\u001b[0m\u001b[1;33m,\u001b[0m \u001b[0mrandom_state\u001b[0m\u001b[1;33m=\u001b[0m\u001b[1;32mNone\u001b[0m\u001b[1;33m)\u001b[0m\u001b[1;33m:\u001b[0m\u001b[1;33m\u001b[0m\u001b[1;33m\u001b[0m\u001b[0m\n\u001b[1;32m--> 644\u001b[1;33m         \u001b[0msuper\u001b[0m\u001b[1;33m(\u001b[0m\u001b[1;33m)\u001b[0m\u001b[1;33m.\u001b[0m\u001b[0m__init__\u001b[0m\u001b[1;33m(\u001b[0m\u001b[0mn_splits\u001b[0m\u001b[1;33m=\u001b[0m\u001b[0mn_splits\u001b[0m\u001b[1;33m,\u001b[0m \u001b[0mshuffle\u001b[0m\u001b[1;33m=\u001b[0m\u001b[0mshuffle\u001b[0m\u001b[1;33m,\u001b[0m \u001b[0mrandom_state\u001b[0m\u001b[1;33m=\u001b[0m\u001b[0mrandom_state\u001b[0m\u001b[1;33m)\u001b[0m\u001b[1;33m\u001b[0m\u001b[1;33m\u001b[0m\u001b[0m\n\u001b[0m\u001b[0;32m    645\u001b[0m \u001b[1;33m\u001b[0m\u001b[0m\n\u001b[0;32m    646\u001b[0m     \u001b[1;32mdef\u001b[0m \u001b[0m_make_test_folds\u001b[0m\u001b[1;33m(\u001b[0m\u001b[0mself\u001b[0m\u001b[1;33m,\u001b[0m \u001b[0mX\u001b[0m\u001b[1;33m,\u001b[0m \u001b[0my\u001b[0m\u001b[1;33m=\u001b[0m\u001b[1;32mNone\u001b[0m\u001b[1;33m)\u001b[0m\u001b[1;33m:\u001b[0m\u001b[1;33m\u001b[0m\u001b[1;33m\u001b[0m\u001b[0m\n",
      "\u001b[1;32m~\\anaconda3\\lib\\site-packages\\sklearn\\model_selection\\_split.py\u001b[0m in \u001b[0;36m__init__\u001b[1;34m(self, n_splits, shuffle, random_state)\u001b[0m\n\u001b[0;32m    294\u001b[0m \u001b[1;33m\u001b[0m\u001b[0m\n\u001b[0;32m    295\u001b[0m         \u001b[1;32mif\u001b[0m \u001b[1;32mnot\u001b[0m \u001b[0mshuffle\u001b[0m \u001b[1;32mand\u001b[0m \u001b[0mrandom_state\u001b[0m \u001b[1;32mis\u001b[0m \u001b[1;32mnot\u001b[0m \u001b[1;32mNone\u001b[0m\u001b[1;33m:\u001b[0m  \u001b[1;31m# None is the default\u001b[0m\u001b[1;33m\u001b[0m\u001b[1;33m\u001b[0m\u001b[0m\n\u001b[1;32m--> 296\u001b[1;33m             raise ValueError(\n\u001b[0m\u001b[0;32m    297\u001b[0m                 \u001b[1;34m\"Setting a random_state has no effect since shuffle is \"\u001b[0m\u001b[1;33m\u001b[0m\u001b[1;33m\u001b[0m\u001b[0m\n\u001b[0;32m    298\u001b[0m                 \u001b[1;34m\"False. You should leave \"\u001b[0m\u001b[1;33m\u001b[0m\u001b[1;33m\u001b[0m\u001b[0m\n",
      "\u001b[1;31mValueError\u001b[0m: Setting a random_state has no effect since shuffle is False. You should leave random_state to its default (None), or set shuffle=True."
     ]
    }
   ],
   "source": [
    "# Set the parameters by cross-validation\n",
    "tuned_parameters = {\n",
    "    'tol':(1.0, 1e-1, 1e-2, 1e-3, 1e-4, 1e-5, 1e-6),\n",
    "    'C': (0.001, 0.05, 0.01, 0.1, 1.0, 10.0, 50, 100.0)\n",
    "}\n",
    "# Set the parameters by cross-validation\n",
    "k_fold = StratifiedKFold(n_splits=4, random_state=42)\n",
    "\n",
    "scores = ['roc_auc']\n",
    "\n",
    "def gridsearch_linearsvc(X_train, y_train, X_test, y_test, k_fold, tuned_parameters, scores):\n",
    "    optimals = {}\n",
    "    for score in scores:\n",
    "        print(\"# Tuning hyper-parameters for ----> %s\" % score)\n",
    "        print()\n",
    "\n",
    "        svm = LinearSVC()\n",
    "\n",
    "        clf = GridSearchCV(svm, tuned_parameters, error_score='raise', cv=k_fold, scoring=score)\n",
    "\n",
    "        clf.fit(X_train, y_train)\n",
    "\n",
    "        print(\"Best parameters set found on development set:\")\n",
    "        print()\n",
    "        print(clf.best_params_)\n",
    "        print()\n",
    "        print(\"Grid scores on development set:\")\n",
    "        print()\n",
    "        means = clf.cv_results_['mean_test_score']\n",
    "        stds = clf.cv_results_['std_test_score']\n",
    "        for mean, std, params in zip(means, stds, clf.cv_results_['params']):\n",
    "            print(\"%0.3f (+/-%0.03f) for %r\"\n",
    "                  % (mean, std * 2, params))\n",
    "        print()\n",
    "\n",
    "        print(\"Detailed classification report:\")\n",
    "        print()\n",
    "        print(\"The model is trained on the full development set.\")\n",
    "        print(\"The scores are computed on the full evaluation set.\")\n",
    "        print()\n",
    "        y_true, y_pred = y_test, clf.predict(X_test)\n",
    "        print(classification_report(y_true, y_pred))\n",
    "        print()\n",
    "        print(\"**** Matrice di Confusione *****\")\n",
    "        tn, fp, fn, tp = confusion_matrix(y_true, y_pred).ravel()\n",
    "        print(' True negative: %d False negative: %d' % (tn, fn))\n",
    "        print(' True positive: %d False positive: %d' % (tp, fp))\n",
    "        print(\"____________________________________________\")\n",
    "        optimals[score] = clf.best_params_\n",
    "    return optimals"
   ]
  },
  {
   "cell_type": "code",
   "execution_count": 41,
   "id": "2acb6afe",
   "metadata": {},
   "outputs": [
    {
     "ename": "NameError",
     "evalue": "name 'gridsearch_linearsvc' is not defined",
     "output_type": "error",
     "traceback": [
      "\u001b[1;31m---------------------------------------------------------------------------\u001b[0m",
      "\u001b[1;31mNameError\u001b[0m                                 Traceback (most recent call last)",
      "\u001b[1;32m<ipython-input-41-78132daa296c>\u001b[0m in \u001b[0;36m<module>\u001b[1;34m\u001b[0m\n\u001b[1;32m----> 1\u001b[1;33m \u001b[0moptimals_1057\u001b[0m \u001b[1;33m=\u001b[0m \u001b[0mgridsearch_linearsvc\u001b[0m\u001b[1;33m(\u001b[0m\u001b[0mxtrain_1057\u001b[0m\u001b[1;33m,\u001b[0m  \u001b[0mytrain_1057\u001b[0m\u001b[1;33m,\u001b[0m \u001b[0mxtest_1057\u001b[0m\u001b[1;33m,\u001b[0m \u001b[0mytest_1057\u001b[0m\u001b[1;33m,\u001b[0m \u001b[0mk_fold\u001b[0m\u001b[1;33m,\u001b[0m \u001b[0mtuned_parameters\u001b[0m\u001b[1;33m,\u001b[0m \u001b[0mscores\u001b[0m\u001b[1;33m)\u001b[0m\u001b[1;33m\u001b[0m\u001b[1;33m\u001b[0m\u001b[0m\n\u001b[0m",
      "\u001b[1;31mNameError\u001b[0m: name 'gridsearch_linearsvc' is not defined"
     ]
    }
   ],
   "source": [
    "optimals_1057 = gridsearch_linearsvc(xtrain_1057,  ytrain_1057, xtest_1057, ytest_1057, k_fold, tuned_parameters, scores)"
   ]
  },
  {
   "cell_type": "code",
   "execution_count": 42,
   "id": "19bd2eec",
   "metadata": {},
   "outputs": [
    {
     "ename": "NameError",
     "evalue": "name 'optimals_1057' is not defined",
     "output_type": "error",
     "traceback": [
      "\u001b[1;31m---------------------------------------------------------------------------\u001b[0m",
      "\u001b[1;31mNameError\u001b[0m                                 Traceback (most recent call last)",
      "\u001b[1;32m<ipython-input-42-ced66a8f1fee>\u001b[0m in \u001b[0;36m<module>\u001b[1;34m\u001b[0m\n\u001b[1;32m----> 1\u001b[1;33m \u001b[0moptimals_1057\u001b[0m\u001b[1;33m\u001b[0m\u001b[1;33m\u001b[0m\u001b[0m\n\u001b[0m",
      "\u001b[1;31mNameError\u001b[0m: name 'optimals_1057' is not defined"
     ]
    }
   ],
   "source": [
    "optimals_1057"
   ]
  },
  {
   "cell_type": "markdown",
   "id": "f7171926",
   "metadata": {},
   "source": [
    "# 4 - NN"
   ]
  },
  {
   "cell_type": "code",
   "execution_count": 43,
   "id": "e53e9c10",
   "metadata": {},
   "outputs": [],
   "source": [
    "def build_model_1( X_train):\n",
    "    optimizer='adagrad'\n",
    "    #optimizer='adam'\n",
    "    n_feature = X_train.shape[1]\n",
    "    model = Sequential()\n",
    "    model.add(Dense(32, input_dim=n_feature, activation='tanh'))\n",
    "    model.add(Dense(32, activation='tanh'))\n",
    "    model.add(Dense(32, activation='tanh'))\n",
    "    model.add(Dense(32, activation='tanh'))\n",
    "    model.add(Dense(32, activation='tanh'))\n",
    "    model.add(Dense(32, activation='tanh'))\n",
    "    model.add(Dense(32, activation='tanh'))\n",
    "    model.add(Dense(32, activation='tanh'))\n",
    "    # Linear\n",
    "    model.add(Dense(1, activation='sigmoid'))\n",
    "    model.compile(loss='binary_crossentropy', optimizer=optimizer, metrics=[\"AUC\"])\n",
    "    return model"
   ]
  },
  {
   "cell_type": "code",
   "execution_count": 44,
   "id": "2da72adc",
   "metadata": {},
   "outputs": [],
   "source": [
    "def build_model_2(X_train):\n",
    "    n_feature = X_train.shape[1]\n",
    "    model = Sequential()\n",
    "    model.add(Dense(128, input_dim=n_feature, activation='relu'))\n",
    "    model.add(Dense(32, activation='relu'))\n",
    "    model.add(Dense(32, activation='relu'))\n",
    "    model.add(Dense(32, activation='relu'))\n",
    "    model.add(Dense(32, activation='relu'))\n",
    "    # Linear\n",
    "    model.add(Dense(1, activation='sigmoid', kernel_regularizer=regularizers.l2(0.01)))\n",
    "    sgd = optimizers.SGD(learning_rate=0.1, momentum=0.9, nesterov=True)\n",
    "    model.compile(loss='binary_crossentropy', optimizer=sgd, metrics=[\"AUC\"])\n",
    "    return model"
   ]
  },
  {
   "cell_type": "code",
   "execution_count": 45,
   "id": "b24b2483",
   "metadata": {},
   "outputs": [
    {
     "name": "stdout",
     "output_type": "stream",
     "text": [
      "Epoch 1/30\n",
      "1266/1266 [==============================] - 3s 2ms/step - loss: 0.4768 - auc: 0.4845 - val_loss: 0.4578 - val_auc: 0.4828\n",
      "Epoch 2/30\n",
      "1266/1266 [==============================] - 2s 2ms/step - loss: 0.4575 - auc: 0.4958 - val_loss: 0.4575 - val_auc: 0.5032\n",
      "Epoch 3/30\n",
      "1266/1266 [==============================] - 2s 2ms/step - loss: 0.4575 - auc: 0.4878 - val_loss: 0.4575 - val_auc: 0.4985\n",
      "Epoch 4/30\n",
      "1266/1266 [==============================] - 2s 2ms/step - loss: 0.4575 - auc: 0.4922 - val_loss: 0.4574 - val_auc: 0.4967\n",
      "Epoch 5/30\n",
      "1266/1266 [==============================] - 2s 2ms/step - loss: 0.4574 - auc: 0.4886 - val_loss: 0.4574 - val_auc: 0.4928\n",
      "Epoch 6/30\n",
      "1266/1266 [==============================] - 2s 2ms/step - loss: 0.4573 - auc: 0.5005 - val_loss: 0.4574 - val_auc: 0.5093\n",
      "Epoch 7/30\n",
      "1266/1266 [==============================] - 2s 2ms/step - loss: 0.4573 - auc: 0.5003 - val_loss: 0.4574 - val_auc: 0.4977\n",
      "Epoch 8/30\n",
      "1266/1266 [==============================] - 2s 2ms/step - loss: 0.4573 - auc: 0.4988 - val_loss: 0.4574 - val_auc: 0.5018\n",
      "Epoch 9/30\n",
      "1266/1266 [==============================] - 2s 2ms/step - loss: 0.4573 - auc: 0.5086 - val_loss: 0.4573 - val_auc: 0.5216\n",
      "Epoch 10/30\n",
      "1266/1266 [==============================] - 2s 2ms/step - loss: 0.4572 - auc: 0.5085 - val_loss: 0.4573 - val_auc: 0.5226\n",
      "Epoch 11/30\n",
      "1266/1266 [==============================] - 2s 2ms/step - loss: 0.4572 - auc: 0.5179 - val_loss: 0.4572 - val_auc: 0.5152\n",
      "Epoch 12/30\n",
      "1266/1266 [==============================] - 2s 2ms/step - loss: 0.4571 - auc: 0.5134 - val_loss: 0.4572 - val_auc: 0.5270\n",
      "Epoch 13/30\n",
      "1266/1266 [==============================] - 2s 2ms/step - loss: 0.4571 - auc: 0.5188 - val_loss: 0.4572 - val_auc: 0.5278\n",
      "Epoch 14/30\n",
      "1266/1266 [==============================] - 2s 2ms/step - loss: 0.4571 - auc: 0.5207 - val_loss: 0.4571 - val_auc: 0.5234\n",
      "Epoch 15/30\n",
      "1266/1266 [==============================] - 2s 1ms/step - loss: 0.4571 - auc: 0.5190 - val_loss: 0.4571 - val_auc: 0.5341\n",
      "Epoch 16/30\n",
      "1266/1266 [==============================] - 2s 1ms/step - loss: 0.4570 - auc: 0.5270 - val_loss: 0.4571 - val_auc: 0.5435\n",
      "Epoch 17/30\n",
      "1266/1266 [==============================] - 2s 2ms/step - loss: 0.4570 - auc: 0.5279 - val_loss: 0.4571 - val_auc: 0.5407\n",
      "Epoch 18/30\n",
      "1266/1266 [==============================] - 2s 1ms/step - loss: 0.4569 - auc: 0.5293 - val_loss: 0.4570 - val_auc: 0.5410\n",
      "Epoch 19/30\n",
      "1266/1266 [==============================] - 2s 1ms/step - loss: 0.4569 - auc: 0.5326 - val_loss: 0.4570 - val_auc: 0.5420\n",
      "Epoch 20/30\n",
      "1266/1266 [==============================] - 2s 2ms/step - loss: 0.4569 - auc: 0.5448 - val_loss: 0.4570 - val_auc: 0.5403\n",
      "Epoch 21/30\n",
      "1266/1266 [==============================] - 2s 1ms/step - loss: 0.4569 - auc: 0.5433 - val_loss: 0.4570 - val_auc: 0.5435\n",
      "Epoch 22/30\n",
      "1266/1266 [==============================] - 2s 1ms/step - loss: 0.4568 - auc: 0.5474 - val_loss: 0.4569 - val_auc: 0.5531\n",
      "Epoch 23/30\n",
      "1266/1266 [==============================] - 2s 1ms/step - loss: 0.4568 - auc: 0.5490 - val_loss: 0.4569 - val_auc: 0.5444\n",
      "Epoch 24/30\n",
      "1266/1266 [==============================] - 2s 1ms/step - loss: 0.4567 - auc: 0.5520 - val_loss: 0.4568 - val_auc: 0.5501\n",
      "Epoch 25/30\n",
      "1266/1266 [==============================] - 2s 1ms/step - loss: 0.4567 - auc: 0.5505 - val_loss: 0.4568 - val_auc: 0.5679\n",
      "Epoch 26/30\n",
      "1266/1266 [==============================] - 2s 1ms/step - loss: 0.4567 - auc: 0.5528 - val_loss: 0.4568 - val_auc: 0.5579\n",
      "Epoch 27/30\n",
      "1266/1266 [==============================] - 2s 1ms/step - loss: 0.4566 - auc: 0.5570 - val_loss: 0.4567 - val_auc: 0.5666\n",
      "Epoch 28/30\n",
      "1266/1266 [==============================] - 2s 2ms/step - loss: 0.4566 - auc: 0.5567 - val_loss: 0.4567 - val_auc: 0.5730\n",
      "Epoch 29/30\n",
      "1266/1266 [==============================] - 4s 3ms/step - loss: 0.4566 - auc: 0.5699 - val_loss: 0.4566 - val_auc: 0.5690\n",
      "Epoch 30/30\n",
      "1266/1266 [==============================] - 4s 3ms/step - loss: 0.4565 - auc: 0.5654 - val_loss: 0.4566 - val_auc: 0.5788\n",
      "Epoch 1/30\n",
      "254/254 [==============================] - 1s 3ms/step - loss: 0.4653 - auc: 0.4965 - val_loss: 0.4577 - val_auc: 0.5000\n",
      "Epoch 2/30\n",
      "254/254 [==============================] - 1s 2ms/step - loss: 0.4584 - auc: 0.5013 - val_loss: 0.4577 - val_auc: 0.5000\n",
      "Epoch 3/30\n",
      "254/254 [==============================] - 0s 2ms/step - loss: 0.4582 - auc: 0.4961 - val_loss: 0.4575 - val_auc: 0.5000\n",
      "Epoch 4/30\n",
      "254/254 [==============================] - 0s 2ms/step - loss: 0.4580 - auc: 0.4922 - val_loss: 0.4578 - val_auc: 0.5000\n",
      "Epoch 5/30\n",
      "254/254 [==============================] - 0s 2ms/step - loss: 0.4578 - auc: 0.5003 - val_loss: 0.4577 - val_auc: 0.5000\n",
      "Epoch 6/30\n",
      "254/254 [==============================] - 0s 2ms/step - loss: 0.4581 - auc: 0.4987 - val_loss: 0.4575 - val_auc: 0.5000\n",
      "Epoch 7/30\n",
      "254/254 [==============================] - 0s 2ms/step - loss: 0.4580 - auc: 0.4903 - val_loss: 0.4574 - val_auc: 0.5000\n",
      "Epoch 8/30\n",
      "254/254 [==============================] - 0s 2ms/step - loss: 0.4581 - auc: 0.4948 - val_loss: 0.4574 - val_auc: 0.5000\n",
      "Epoch 9/30\n",
      "254/254 [==============================] - 0s 2ms/step - loss: 0.4579 - auc: 0.5097 - val_loss: 0.4575 - val_auc: 0.5000\n",
      "Epoch 10/30\n",
      "254/254 [==============================] - 0s 2ms/step - loss: 0.4582 - auc: 0.4899 - val_loss: 0.4577 - val_auc: 0.5000\n",
      "Epoch 11/30\n",
      "254/254 [==============================] - 0s 2ms/step - loss: 0.4581 - auc: 0.4970 - val_loss: 0.4601 - val_auc: 0.5000\n",
      "Epoch 12/30\n",
      "254/254 [==============================] - 0s 2ms/step - loss: 0.4585 - auc: 0.4898 - val_loss: 0.4581 - val_auc: 0.5000\n",
      "Epoch 13/30\n",
      "254/254 [==============================] - 0s 2ms/step - loss: 0.4581 - auc: 0.4950 - val_loss: 0.4591 - val_auc: 0.5000\n",
      "Epoch 14/30\n",
      "254/254 [==============================] - 0s 2ms/step - loss: 0.4581 - auc: 0.4967 - val_loss: 0.4582 - val_auc: 0.5000\n",
      "Epoch 15/30\n",
      "254/254 [==============================] - 0s 2ms/step - loss: 0.4581 - auc: 0.5035 - val_loss: 0.4580 - val_auc: 0.5000\n",
      "Epoch 16/30\n",
      "254/254 [==============================] - 0s 2ms/step - loss: 0.4579 - auc: 0.4962 - val_loss: 0.4577 - val_auc: 0.5000\n",
      "Epoch 17/30\n",
      "254/254 [==============================] - 0s 2ms/step - loss: 0.4580 - auc: 0.4927 - val_loss: 0.4575 - val_auc: 0.5000\n",
      "Epoch 18/30\n",
      "254/254 [==============================] - 0s 2ms/step - loss: 0.4580 - auc: 0.5020 - val_loss: 0.4583 - val_auc: 0.5000\n",
      "Epoch 19/30\n",
      "254/254 [==============================] - 0s 2ms/step - loss: 0.4581 - auc: 0.5013 - val_loss: 0.4600 - val_auc: 0.5000\n",
      "Epoch 20/30\n",
      "254/254 [==============================] - 0s 2ms/step - loss: 0.4577 - auc: 0.5037 - val_loss: 0.4577 - val_auc: 0.5000\n",
      "Epoch 21/30\n",
      "254/254 [==============================] - 0s 2ms/step - loss: 0.4580 - auc: 0.4958 - val_loss: 0.4603 - val_auc: 0.5000\n",
      "Epoch 22/30\n",
      "254/254 [==============================] - 0s 2ms/step - loss: 0.4584 - auc: 0.5025 - val_loss: 0.4574 - val_auc: 0.5000\n",
      "Epoch 23/30\n",
      "254/254 [==============================] - 0s 2ms/step - loss: 0.4578 - auc: 0.5040 - val_loss: 0.4583 - val_auc: 0.5000\n",
      "Epoch 24/30\n",
      "254/254 [==============================] - 0s 2ms/step - loss: 0.4581 - auc: 0.4893 - val_loss: 0.4576 - val_auc: 0.5000\n",
      "Epoch 25/30\n",
      "254/254 [==============================] - 0s 2ms/step - loss: 0.4578 - auc: 0.5029 - val_loss: 0.4576 - val_auc: 0.5000\n",
      "Epoch 26/30\n",
      "254/254 [==============================] - 0s 2ms/step - loss: 0.4581 - auc: 0.5007 - val_loss: 0.4578 - val_auc: 0.5000\n",
      "Epoch 27/30\n",
      "254/254 [==============================] - 0s 2ms/step - loss: 0.4580 - auc: 0.4849 - val_loss: 0.4576 - val_auc: 0.5000\n",
      "Epoch 28/30\n",
      "254/254 [==============================] - 0s 2ms/step - loss: 0.4579 - auc: 0.4885 - val_loss: 0.4575 - val_auc: 0.5000\n",
      "Epoch 29/30\n",
      "254/254 [==============================] - 0s 2ms/step - loss: 0.4579 - auc: 0.5004 - val_loss: 0.4579 - val_auc: 0.5000\n",
      "Epoch 30/30\n",
      "254/254 [==============================] - 0s 2ms/step - loss: 0.4579 - auc: 0.5011 - val_loss: 0.4584 - val_auc: 0.5000\n"
     ]
    }
   ],
   "source": [
    "model1_1057 = build_model_1(xtrain_1057)\n",
    "history1_1057 = model1_1057.fit(xtrain_1057, ytrain_1057, validation_data=(xtest_1057, ytest_1057), epochs=30, batch_size=10).history\n",
    "\n",
    "model2_1057 = build_model_2(xtrain_1057)\n",
    "history2_1057 = model2_1057.fit(xtrain_1057, ytrain_1057, validation_data=(xtest_1057, ytest_1057), epochs=30, batch_size=50).history"
   ]
  },
  {
   "cell_type": "code",
   "execution_count": 46,
   "id": "1b0db87c",
   "metadata": {},
   "outputs": [
    {
     "name": "stdout",
     "output_type": "stream",
     "text": [
      "170/170 [==============================] - 0s 864us/step - loss: 0.4566 - auc: 0.5788\n",
      "170/170 [==============================] - 0s 941us/step - loss: 0.4584 - auc: 0.5000\n",
      "Loss 0.456610, AUC 0.578806\n",
      "Loss 0.458406, AUC 0.500000\n"
     ]
    }
   ],
   "source": [
    "test_loss_1_1057, test_auc_1_1057 = model1_1057.evaluate(xtest_1057, ytest_1057)\n",
    "test_loss_2_1057, test_auc_2_1057 = model2_1057.evaluate(xtest_1057, ytest_1057)\n",
    "\n",
    "print('Loss %f, AUC %f' % (test_loss_1_1057, test_auc_1_1057))\n",
    "print('Loss %f, AUC %f' % (test_loss_2_1057, test_auc_2_1057))"
   ]
  },
  {
   "cell_type": "code",
   "execution_count": null,
   "id": "c7afa2f0",
   "metadata": {},
   "outputs": [],
   "source": []
  },
  {
   "cell_type": "code",
   "execution_count": null,
   "id": "20fe67a5",
   "metadata": {},
   "outputs": [],
   "source": []
  },
  {
   "cell_type": "code",
   "execution_count": 47,
   "id": "b160f922",
   "metadata": {},
   "outputs": [],
   "source": [
    "def create_model(X_train, learning_rate=0.1, momentum = 0.9, nesterov = True,\n",
    "                 activation = 'sigmoid', regularizer = 0.01, units=3, hidden_layers=1):\n",
    "    # create model\n",
    "    model = Sequential()\n",
    "    #initializer = initializers.RandomUniform(minval=0, maxval=0.5, seed=None)\n",
    "    model.add(Dense(units, input_dim=X_train.shape[1], activation = activation, \n",
    "                         kernel_regularizer=regularizers.l2(regularizer)))  \n",
    "    for i in range(1,hidden_layers):\n",
    "          model.add(Dense(units, activation = activation, \n",
    "                         kernel_regularizer=regularizers.l2(regularizer)))  \n",
    "    model.add(Dense(1, activation = 'sigmoid',  kernel_regularizer=regularizers.l2(regularizer)))\n",
    "    sgd = optimizers.SGD(learning_rate=learning_rate, momentum=momentum, nesterov=nesterov)\n",
    "    model.compile(optimizer=sgd, loss='binary_crossentropy', metrics=['AUC'])\n",
    "    return model"
   ]
  },
  {
   "cell_type": "code",
   "execution_count": 48,
   "id": "c7d511a2",
   "metadata": {},
   "outputs": [],
   "source": [
    "param_list = {'batch_size': [128],\n",
    "              'epochs': [100],\n",
    "             'learning_rate': [0.261],\n",
    "             'momentum':[0.9],\n",
    "             'nesterov':[False],\n",
    "             'activation':['tanh'],\n",
    "              'regularizer':[0.0001],\n",
    "              'units': [10],\n",
    "             'hidden_layers': [1]}"
   ]
  },
  {
   "cell_type": "code",
   "execution_count": 49,
   "id": "ba1142cc",
   "metadata": {},
   "outputs": [],
   "source": [
    "class Model:\n",
    "    def __init__(self, loss = 0, accuracy = 0, batch_size = 0, epochs = 0, learning_rate=0, momentum=0,nesterov=False,\n",
    "                activation='sigmoid', regularizer=0, units=0):\n",
    "        self.accuracy_CV_list = []\n",
    "        self.accuracy = accuracy\n",
    "        self.loss_CV_list = []\n",
    "        self.loss = loss\n",
    "        self.mee_list = []\n",
    "        self.mee = 0\n",
    "        self.std = 0\n",
    "        self.batch_size = batch_size\n",
    "        self.epochs = epochs\n",
    "        self.learning_rate = learning_rate\n",
    "        self.momentum = momentum\n",
    "        self.nesterov = nesterov\n",
    "        self.activation = activation\n",
    "        self.regularizer = regularizer\n",
    "        self.units = units\n",
    "        self.noise = 0\n",
    "    def toString(self):\n",
    "        print(\"\"\"{MEE: %f (+/- %0.2f), Number of Units: %d, Batch Size: %d, Epochs: %d, Learning Rate: %f, Momentum: %f,\n",
    "              \"Nesterov: %s, Activation: %s, Regularization: %f, Noise: %f}\"\"\" % \n",
    "              (self.mee, self.std, self.units, self.batch_size, self.epochs, self.learning_rate, self.momentum,\n",
    "              self.nesterov, self.activation, self.regularizer, self.noise))"
   ]
  },
  {
   "cell_type": "code",
   "execution_count": 50,
   "id": "2c1d3b3d",
   "metadata": {},
   "outputs": [],
   "source": [
    "def GridSearch(X_train, Y_train, parameters, cv = 3, rand=False):\n",
    "    models = []\n",
    "    allNames = list(parameters)\n",
    "    combinations = itertools.product(*(parameters[Name] for Name in allNames))\n",
    "    searchList = []\n",
    "    if rand:\n",
    "        searchList = random.sample(list(combinations), k=100)\n",
    "    else:\n",
    "        searchList = list(combinations)\n",
    "    for i in searchList:\n",
    "        print(searchList.index(i), i)\n",
    "        batch_size = i[0]\n",
    "        epochs=i[1]\n",
    "        learning_rate=i[2]\n",
    "        momentum=i[3]\n",
    "        nesterov=i[4]\n",
    "        activation=i[5]\n",
    "        regularizer=i[6]\n",
    "        units = i[7]\n",
    "        temp = Model(batch_size=batch_size, epochs=epochs, learning_rate=learning_rate,\n",
    "                     momentum=momentum, nesterov=nesterov, activation=activation, regularizer=regularizer, units=units)\n",
    "        model = None # Clearing the NN.\n",
    "        model = create_model(X_train, learning_rate=learning_rate, momentum=momentum, nesterov=nesterov, \n",
    "                                 activation=activation, regularizer=regularizer, units=units)\n",
    "        r = model.fit(X_train, Y_train,validation_split = float(1.0/cv),\n",
    "                      batch_size =batch_size, epochs=epochs, verbose=1)\n",
    "        loss = r.history['val_loss'][-1]\n",
    "        #accuracy = r.history['val_acc'][-1]\n",
    "        temp.loss = loss\n",
    "        #temp.accuracy = accuracy\n",
    "        models.append(temp) \n",
    "          \n",
    "    result = sorted(models, key=lambda x: x.loss, reverse=False)\n",
    "    return result, r, model"
   ]
  },
  {
   "cell_type": "code",
   "execution_count": 51,
   "id": "7cd7ef79",
   "metadata": {},
   "outputs": [
    {
     "name": "stdout",
     "output_type": "stream",
     "text": [
      "0 (128, 100, 0.261, 0.9, False, 'tanh', 0.0001, 10, 1)\n",
      "Epoch 1/100\n",
      "66/66 [==============================] - 1s 5ms/step - loss: 0.4723 - auc: 0.5121 - val_loss: 0.4658 - val_auc: 0.5000\n",
      "Epoch 2/100\n",
      "66/66 [==============================] - 0s 2ms/step - loss: 0.4566 - auc: 0.5011 - val_loss: 0.4657 - val_auc: 0.5372\n",
      "Epoch 3/100\n",
      "66/66 [==============================] - 0s 2ms/step - loss: 0.4562 - auc: 0.5011 - val_loss: 0.4656 - val_auc: 0.5396\n",
      "Epoch 4/100\n",
      "66/66 [==============================] - 0s 2ms/step - loss: 0.4563 - auc: 0.4942 - val_loss: 0.4676 - val_auc: 0.5491\n",
      "Epoch 5/100\n",
      "66/66 [==============================] - 0s 2ms/step - loss: 0.4561 - auc: 0.4946 - val_loss: 0.4657 - val_auc: 0.5000\n",
      "Epoch 6/100\n",
      "66/66 [==============================] - 0s 2ms/step - loss: 0.4557 - auc: 0.5062 - val_loss: 0.4669 - val_auc: 0.5000\n",
      "Epoch 7/100\n",
      "66/66 [==============================] - 0s 2ms/step - loss: 0.4550 - auc: 0.5211 - val_loss: 0.4657 - val_auc: 0.6294\n",
      "Epoch 8/100\n",
      "66/66 [==============================] - 0s 2ms/step - loss: 0.4559 - auc: 0.4905 - val_loss: 0.4677 - val_auc: 0.5003\n",
      "Epoch 9/100\n",
      "66/66 [==============================] - 0s 2ms/step - loss: 0.4555 - auc: 0.4996 - val_loss: 0.4656 - val_auc: 0.5262\n",
      "Epoch 10/100\n",
      "66/66 [==============================] - 0s 2ms/step - loss: 0.4546 - auc: 0.5240 - val_loss: 0.4675 - val_auc: 0.5573\n",
      "Epoch 11/100\n",
      "66/66 [==============================] - 0s 2ms/step - loss: 0.4553 - auc: 0.5110 - val_loss: 0.4643 - val_auc: 0.5426\n",
      "Epoch 12/100\n",
      "66/66 [==============================] - 0s 2ms/step - loss: 0.4546 - auc: 0.5237 - val_loss: 0.4642 - val_auc: 0.5634\n",
      "Epoch 13/100\n",
      "66/66 [==============================] - 0s 2ms/step - loss: 0.4552 - auc: 0.5107 - val_loss: 0.4640 - val_auc: 0.5742\n",
      "Epoch 14/100\n",
      "66/66 [==============================] - 0s 2ms/step - loss: 0.4548 - auc: 0.5204 - val_loss: 0.4639 - val_auc: 0.6057\n",
      "Epoch 15/100\n",
      "66/66 [==============================] - 0s 2ms/step - loss: 0.4545 - auc: 0.5276 - val_loss: 0.4637 - val_auc: 0.6545\n",
      "Epoch 16/100\n",
      "66/66 [==============================] - 0s 2ms/step - loss: 0.4540 - auc: 0.5366 - val_loss: 0.4636 - val_auc: 0.7092\n",
      "Epoch 17/100\n",
      "66/66 [==============================] - 0s 2ms/step - loss: 0.4537 - auc: 0.5415 - val_loss: 0.4663 - val_auc: 0.7115\n",
      "Epoch 18/100\n",
      "66/66 [==============================] - 0s 2ms/step - loss: 0.4553 - auc: 0.5230 - val_loss: 0.4626 - val_auc: 0.7116\n",
      "Epoch 19/100\n",
      "66/66 [==============================] - 0s 2ms/step - loss: 0.4524 - auc: 0.5653 - val_loss: 0.4646 - val_auc: 0.7328\n",
      "Epoch 20/100\n",
      "66/66 [==============================] - 0s 2ms/step - loss: 0.4528 - auc: 0.5587 - val_loss: 0.4616 - val_auc: 0.7568\n",
      "Epoch 21/100\n",
      "66/66 [==============================] - 0s 2ms/step - loss: 0.4551 - auc: 0.5317 - val_loss: 0.4633 - val_auc: 0.7463\n",
      "Epoch 22/100\n",
      "66/66 [==============================] - 0s 2ms/step - loss: 0.4519 - auc: 0.5639 - val_loss: 0.4666 - val_auc: 0.7619\n",
      "Epoch 23/100\n",
      "66/66 [==============================] - 0s 2ms/step - loss: 0.4511 - auc: 0.5812 - val_loss: 0.4682 - val_auc: 0.7555\n",
      "Epoch 24/100\n",
      "66/66 [==============================] - 0s 2ms/step - loss: 0.4502 - auc: 0.5906 - val_loss: 0.4609 - val_auc: 0.7698\n",
      "Epoch 25/100\n",
      "66/66 [==============================] - 0s 2ms/step - loss: 0.4514 - auc: 0.5699 - val_loss: 0.4655 - val_auc: 0.7744\n",
      "Epoch 26/100\n",
      "66/66 [==============================] - 0s 2ms/step - loss: 0.4481 - auc: 0.6019 - val_loss: 0.4679 - val_auc: 0.7755\n",
      "Epoch 27/100\n",
      "66/66 [==============================] - 0s 2ms/step - loss: 0.4515 - auc: 0.5814 - val_loss: 0.4545 - val_auc: 0.7722\n",
      "Epoch 28/100\n",
      "66/66 [==============================] - 0s 2ms/step - loss: 0.4527 - auc: 0.5754 - val_loss: 0.4614 - val_auc: 0.7706\n",
      "Epoch 29/100\n",
      "66/66 [==============================] - 0s 2ms/step - loss: 0.4476 - auc: 0.6130 - val_loss: 0.4824 - val_auc: 0.7689\n",
      "Epoch 30/100\n",
      "66/66 [==============================] - 0s 2ms/step - loss: 0.4547 - auc: 0.5597 - val_loss: 0.4670 - val_auc: 0.7749\n",
      "Epoch 31/100\n",
      "66/66 [==============================] - 0s 2ms/step - loss: 0.4479 - auc: 0.6043 - val_loss: 0.4708 - val_auc: 0.7754\n",
      "Epoch 32/100\n",
      "66/66 [==============================] - 0s 2ms/step - loss: 0.4465 - auc: 0.6163 - val_loss: 0.4518 - val_auc: 0.7799\n",
      "Epoch 33/100\n",
      "66/66 [==============================] - 0s 2ms/step - loss: 0.4457 - auc: 0.6203 - val_loss: 0.4578 - val_auc: 0.7775\n",
      "Epoch 34/100\n",
      "66/66 [==============================] - 0s 2ms/step - loss: 0.4398 - auc: 0.6538 - val_loss: 0.4580 - val_auc: 0.7791\n",
      "Epoch 35/100\n",
      "66/66 [==============================] - 0s 2ms/step - loss: 0.4520 - auc: 0.5985 - val_loss: 0.4478 - val_auc: 0.7796\n",
      "Epoch 36/100\n",
      "66/66 [==============================] - 0s 2ms/step - loss: 0.4439 - auc: 0.6307 - val_loss: 0.4564 - val_auc: 0.7812\n",
      "Epoch 37/100\n",
      "66/66 [==============================] - 0s 2ms/step - loss: 0.4427 - auc: 0.6404 - val_loss: 0.4515 - val_auc: 0.7806\n",
      "Epoch 38/100\n",
      "66/66 [==============================] - 0s 2ms/step - loss: 0.4408 - auc: 0.6453 - val_loss: 0.4469 - val_auc: 0.7812\n",
      "Epoch 39/100\n",
      "66/66 [==============================] - 0s 2ms/step - loss: 0.4324 - auc: 0.7063 - val_loss: 0.4757 - val_auc: 0.7822\n",
      "Epoch 40/100\n",
      "66/66 [==============================] - 0s 2ms/step - loss: 0.4274 - auc: 0.7149 - val_loss: 0.4522 - val_auc: 0.7832\n",
      "Epoch 41/100\n",
      "66/66 [==============================] - 0s 2ms/step - loss: 0.4355 - auc: 0.6813 - val_loss: 0.4486 - val_auc: 0.7836\n",
      "Epoch 42/100\n",
      "66/66 [==============================] - 0s 2ms/step - loss: 0.4387 - auc: 0.6645 - val_loss: 0.4577 - val_auc: 0.7840\n",
      "Epoch 43/100\n",
      "66/66 [==============================] - 0s 2ms/step - loss: 0.4358 - auc: 0.6780 - val_loss: 0.4471 - val_auc: 0.7851\n",
      "Epoch 44/100\n",
      "66/66 [==============================] - 0s 2ms/step - loss: 0.4330 - auc: 0.6911 - val_loss: 0.4861 - val_auc: 0.7866\n",
      "Epoch 45/100\n",
      "66/66 [==============================] - 0s 2ms/step - loss: 0.4217 - auc: 0.7370 - val_loss: 0.4283 - val_auc: 0.7873\n",
      "Epoch 46/100\n",
      "66/66 [==============================] - 0s 2ms/step - loss: 0.4443 - auc: 0.6706 - val_loss: 0.4424 - val_auc: 0.7877\n",
      "Epoch 47/100\n",
      "66/66 [==============================] - 0s 2ms/step - loss: 0.4324 - auc: 0.6957 - val_loss: 0.4350 - val_auc: 0.7892\n",
      "Epoch 48/100\n",
      "66/66 [==============================] - 0s 2ms/step - loss: 0.4434 - auc: 0.6657 - val_loss: 0.4367 - val_auc: 0.7889\n",
      "Epoch 49/100\n",
      "66/66 [==============================] - 0s 2ms/step - loss: 0.4251 - auc: 0.7354 - val_loss: 0.4437 - val_auc: 0.7897\n",
      "Epoch 50/100\n",
      "66/66 [==============================] - 0s 2ms/step - loss: 0.4498 - auc: 0.6648 - val_loss: 0.4320 - val_auc: 0.7902\n",
      "Epoch 51/100\n",
      "66/66 [==============================] - 0s 2ms/step - loss: 0.4428 - auc: 0.6699 - val_loss: 0.5036 - val_auc: 0.7905\n",
      "Epoch 52/100\n",
      "66/66 [==============================] - 0s 2ms/step - loss: 0.4479 - auc: 0.6639 - val_loss: 0.4434 - val_auc: 0.7905\n",
      "Epoch 53/100\n",
      "66/66 [==============================] - 0s 2ms/step - loss: 0.4256 - auc: 0.7319 - val_loss: 0.4550 - val_auc: 0.7904\n",
      "Epoch 54/100\n",
      "66/66 [==============================] - 0s 2ms/step - loss: 0.4461 - auc: 0.6688 - val_loss: 0.4529 - val_auc: 0.7911\n",
      "Epoch 55/100\n",
      "66/66 [==============================] - 0s 2ms/step - loss: 0.4272 - auc: 0.7254 - val_loss: 0.4357 - val_auc: 0.7911\n",
      "Epoch 56/100\n",
      "66/66 [==============================] - 0s 2ms/step - loss: 0.4399 - auc: 0.6902 - val_loss: 0.4289 - val_auc: 0.7920\n",
      "Epoch 57/100\n",
      "66/66 [==============================] - 0s 2ms/step - loss: 0.4152 - auc: 0.7746 - val_loss: 0.4225 - val_auc: 0.7923\n",
      "Epoch 58/100\n",
      "66/66 [==============================] - 0s 2ms/step - loss: 0.4146 - auc: 0.7610 - val_loss: 0.4610 - val_auc: 0.7931\n",
      "Epoch 59/100\n",
      "66/66 [==============================] - 0s 2ms/step - loss: 0.4218 - auc: 0.7389 - val_loss: 0.4309 - val_auc: 0.7941\n",
      "Epoch 60/100\n",
      "66/66 [==============================] - 0s 2ms/step - loss: 0.4114 - auc: 0.7674 - val_loss: 0.4155 - val_auc: 0.7947\n",
      "Epoch 61/100\n",
      "66/66 [==============================] - 0s 2ms/step - loss: 0.4147 - auc: 0.7538 - val_loss: 0.4407 - val_auc: 0.7959\n",
      "Epoch 62/100\n",
      "66/66 [==============================] - 0s 2ms/step - loss: 0.4879 - auc: 0.6384 - val_loss: 0.4857 - val_auc: 0.7954\n"
     ]
    },
    {
     "name": "stdout",
     "output_type": "stream",
     "text": [
      "Epoch 63/100\n",
      "66/66 [==============================] - 0s 2ms/step - loss: 0.4540 - auc: 0.6554 - val_loss: 0.4384 - val_auc: 0.7960\n",
      "Epoch 64/100\n",
      "66/66 [==============================] - 0s 2ms/step - loss: 0.4299 - auc: 0.7320 - val_loss: 0.4360 - val_auc: 0.7960\n",
      "Epoch 65/100\n",
      "66/66 [==============================] - 0s 2ms/step - loss: 0.4278 - auc: 0.7314 - val_loss: 0.4719 - val_auc: 0.7965\n",
      "Epoch 66/100\n",
      "66/66 [==============================] - 0s 2ms/step - loss: 0.4206 - auc: 0.7502 - val_loss: 0.4192 - val_auc: 0.7966\n",
      "Epoch 67/100\n",
      "66/66 [==============================] - 0s 2ms/step - loss: 0.4277 - auc: 0.7305 - val_loss: 0.4245 - val_auc: 0.7969\n",
      "Epoch 68/100\n",
      "66/66 [==============================] - 0s 2ms/step - loss: 0.4174 - auc: 0.7534 - val_loss: 0.4214 - val_auc: 0.7977\n",
      "Epoch 69/100\n",
      "66/66 [==============================] - 0s 2ms/step - loss: 0.4354 - auc: 0.7152 - val_loss: 0.4623 - val_auc: 0.7979\n",
      "Epoch 70/100\n",
      "66/66 [==============================] - 0s 2ms/step - loss: 0.4448 - auc: 0.6946 - val_loss: 0.4610 - val_auc: 0.7985\n",
      "Epoch 71/100\n",
      "66/66 [==============================] - 0s 2ms/step - loss: 0.4382 - auc: 0.7057 - val_loss: 0.4666 - val_auc: 0.7985\n",
      "Epoch 72/100\n",
      "66/66 [==============================] - 0s 2ms/step - loss: 0.4204 - auc: 0.7541 - val_loss: 0.4215 - val_auc: 0.7989\n",
      "Epoch 73/100\n",
      "66/66 [==============================] - 0s 2ms/step - loss: 0.4424 - auc: 0.7002 - val_loss: 0.4354 - val_auc: 0.7987\n",
      "Epoch 74/100\n",
      "66/66 [==============================] - 0s 2ms/step - loss: 0.4149 - auc: 0.7731 - val_loss: 0.4343 - val_auc: 0.7991\n",
      "Epoch 75/100\n",
      "66/66 [==============================] - 0s 2ms/step - loss: 0.4585 - auc: 0.6869 - val_loss: 0.4403 - val_auc: 0.7992\n",
      "Epoch 76/100\n",
      "66/66 [==============================] - 0s 2ms/step - loss: 0.4124 - auc: 0.7904 - val_loss: 0.4473 - val_auc: 0.7992\n",
      "Epoch 77/100\n",
      "66/66 [==============================] - 0s 2ms/step - loss: 0.4355 - auc: 0.7171 - val_loss: 0.4680 - val_auc: 0.7996\n",
      "Epoch 78/100\n",
      "66/66 [==============================] - 0s 2ms/step - loss: 0.4230 - auc: 0.7478 - val_loss: 0.4646 - val_auc: 0.7999\n",
      "Epoch 79/100\n",
      "66/66 [==============================] - 0s 2ms/step - loss: 0.4306 - auc: 0.7288 - val_loss: 0.4325 - val_auc: 0.8002\n",
      "Epoch 80/100\n",
      "66/66 [==============================] - 0s 2ms/step - loss: 0.4356 - auc: 0.7263 - val_loss: 0.5352 - val_auc: 0.8008\n",
      "Epoch 81/100\n",
      "66/66 [==============================] - 0s 2ms/step - loss: 0.4291 - auc: 0.7383 - val_loss: 0.4210 - val_auc: 0.8006\n",
      "Epoch 82/100\n",
      "66/66 [==============================] - 0s 2ms/step - loss: 0.4213 - auc: 0.7525 - val_loss: 0.4467 - val_auc: 0.8011\n",
      "Epoch 83/100\n",
      "66/66 [==============================] - 0s 2ms/step - loss: 0.4286 - auc: 0.7402 - val_loss: 0.4633 - val_auc: 0.8013\n",
      "Epoch 84/100\n",
      "66/66 [==============================] - 0s 2ms/step - loss: 0.4303 - auc: 0.7341 - val_loss: 0.4496 - val_auc: 0.8016\n",
      "Epoch 85/100\n",
      "66/66 [==============================] - 0s 2ms/step - loss: 0.4393 - auc: 0.7203 - val_loss: 0.4507 - val_auc: 0.8012\n",
      "Epoch 86/100\n",
      "66/66 [==============================] - 0s 2ms/step - loss: 0.4425 - auc: 0.7062 - val_loss: 0.4301 - val_auc: 0.8015\n",
      "Epoch 87/100\n",
      "66/66 [==============================] - 0s 2ms/step - loss: 0.4240 - auc: 0.7528 - val_loss: 0.4496 - val_auc: 0.8016\n",
      "Epoch 88/100\n",
      "66/66 [==============================] - 0s 2ms/step - loss: 0.4108 - auc: 0.7847 - val_loss: 0.4163 - val_auc: 0.8019\n",
      "Epoch 89/100\n",
      "66/66 [==============================] - 0s 2ms/step - loss: 0.4351 - auc: 0.7268 - val_loss: 0.4188 - val_auc: 0.8022\n",
      "Epoch 90/100\n",
      "66/66 [==============================] - 0s 2ms/step - loss: 0.4427 - auc: 0.7124 - val_loss: 0.4663 - val_auc: 0.8025\n",
      "Epoch 91/100\n",
      "66/66 [==============================] - 0s 2ms/step - loss: 0.4164 - auc: 0.7772 - val_loss: 0.4697 - val_auc: 0.8028\n",
      "Epoch 92/100\n",
      "66/66 [==============================] - 0s 2ms/step - loss: 0.4372 - auc: 0.7207 - val_loss: 0.4237 - val_auc: 0.8027\n",
      "Epoch 93/100\n",
      "66/66 [==============================] - 0s 2ms/step - loss: 0.4278 - auc: 0.7432 - val_loss: 0.4252 - val_auc: 0.8028\n",
      "Epoch 94/100\n",
      "66/66 [==============================] - 0s 2ms/step - loss: 0.4289 - auc: 0.7365 - val_loss: 0.4374 - val_auc: 0.8024\n",
      "Epoch 95/100\n",
      "66/66 [==============================] - 0s 2ms/step - loss: 0.4431 - auc: 0.7105 - val_loss: 0.4277 - val_auc: 0.8030\n",
      "Epoch 96/100\n",
      "66/66 [==============================] - 0s 2ms/step - loss: 0.4127 - auc: 0.7846 - val_loss: 0.4208 - val_auc: 0.8030\n",
      "Epoch 97/100\n",
      "66/66 [==============================] - 0s 2ms/step - loss: 0.4194 - auc: 0.7602 - val_loss: 0.4179 - val_auc: 0.8033\n",
      "Epoch 98/100\n",
      "66/66 [==============================] - 0s 2ms/step - loss: 0.4545 - auc: 0.6976 - val_loss: 0.4498 - val_auc: 0.8032\n",
      "Epoch 99/100\n",
      "66/66 [==============================] - 0s 2ms/step - loss: 0.4137 - auc: 0.7883 - val_loss: 0.4623 - val_auc: 0.8033\n",
      "Epoch 100/100\n",
      "66/66 [==============================] - 0s 2ms/step - loss: 0.4494 - auc: 0.7030 - val_loss: 0.4409 - val_auc: 0.8031\n"
     ]
    }
   ],
   "source": [
    "allModels_1057, r_1057, model_1057 = GridSearch(xtrain_1057, ytrain_1057, param_list, cv=3, rand=False)"
   ]
  },
  {
   "cell_type": "code",
   "execution_count": 52,
   "id": "2688e48d",
   "metadata": {},
   "outputs": [
    {
     "ename": "AttributeError",
     "evalue": "'Sequential' object has no attribute 'predict_classes'",
     "output_type": "error",
     "traceback": [
      "\u001b[1;31m---------------------------------------------------------------------------\u001b[0m",
      "\u001b[1;31mAttributeError\u001b[0m                            Traceback (most recent call last)",
      "\u001b[1;32m<ipython-input-52-42762a69f643>\u001b[0m in \u001b[0;36m<module>\u001b[1;34m\u001b[0m\n\u001b[1;32m----> 1\u001b[1;33m \u001b[0mpred_1057\u001b[0m \u001b[1;33m=\u001b[0m \u001b[0mmodel_1057\u001b[0m\u001b[1;33m.\u001b[0m\u001b[0mpredict_classes\u001b[0m\u001b[1;33m(\u001b[0m\u001b[0mxtest_1057\u001b[0m\u001b[1;33m)\u001b[0m\u001b[1;33m\u001b[0m\u001b[1;33m\u001b[0m\u001b[0m\n\u001b[0m",
      "\u001b[1;31mAttributeError\u001b[0m: 'Sequential' object has no attribute 'predict_classes'"
     ]
    }
   ],
   "source": [
    "pred_1057 = model_1057.predict_classes(xtest_1057)"
   ]
  },
  {
   "cell_type": "code",
   "execution_count": null,
   "id": "9fbd1685",
   "metadata": {},
   "outputs": [],
   "source": [
    "y_pred_keras_1057 = model_1057.predict(xtest_1057).ravel()\n",
    "fpr_keras, tpr_keras, thresholds_keras = roc_curve(ytest_1057, y_pred_keras_1057)\n",
    "auc_keras_1057 = auc(fpr_keras, tpr_keras)"
   ]
  },
  {
   "cell_type": "code",
   "execution_count": null,
   "id": "eea62b75",
   "metadata": {},
   "outputs": [],
   "source": [
    "plt.figure(1)\n",
    "plt.plot([0, 1], [0, 1], 'k--')\n",
    "plt.plot(fpr_keras, tpr_keras, label='Keras 597 (area = {:.3f})'.format(auc_keras_597))\n",
    "plt.plot(fpr_keras, tpr_keras, label='Keras 1057 (area = {:.3f})'.format(auc_keras_1057))\n",
    "\n",
    "plt.xlabel('False positive rate')\n",
    "plt.ylabel('True positive rate')\n",
    "plt.title('ROC curve')\n",
    "plt.legend(loc='best')\n",
    "plt.show()"
   ]
  },
  {
   "cell_type": "markdown",
   "id": "9a65af55",
   "metadata": {},
   "source": [
    "# 4 - NN_Bilanciato"
   ]
  },
  {
   "cell_type": "code",
   "execution_count": null,
   "id": "5da374dc",
   "metadata": {},
   "outputs": [],
   "source": [
    "model1_sb_1057 = build_model_1(xtrain_sb_1057)\n",
    "history1_sb_1057 = model1_sb_1057.fit(xtrain_sb_1057, ytrain_sb_1057, validation_data=(xtest_sb_1057, ytest_sb_1057), epochs=30, batch_size=10).history\n",
    "\n",
    "model2_sb_1057 = build_model_2(xtrain_sb_1057)\n",
    "history2_sb_1057 = model2_sb_1057.fit(xtrain_sb_1057, ytrain_sb_1057, validation_data=(xtest_sb_1057, ytest_sb_1057), epochs=30, batch_size=50).history"
   ]
  },
  {
   "cell_type": "code",
   "execution_count": null,
   "id": "7e1b1261",
   "metadata": {},
   "outputs": [],
   "source": [
    "test_loss_1_sb_1057, test_auc_1_sb_1057 = model1_sb_1057.evaluate(xtest_sb_1057, ytest_sb_1057)\n",
    "test_loss_2_sb_1057, test_auc_2_sb_1057 = model2_sb_1057.evaluate(xtest_sb_1057, ytest_sb_1057)\n",
    "\n",
    "print('Loss %f, AUC %f' % (test_loss_1_sb_1057, test_auc_1_sb_1057))\n",
    "print('Loss %f, AUC %f' % (test_loss_2_sb_1057, test_auc_2_sb_1057))"
   ]
  },
  {
   "cell_type": "code",
   "execution_count": null,
   "id": "b656feda",
   "metadata": {},
   "outputs": [],
   "source": [
    "allModels_sb_1057, r_sb_1057, model_sb_1057 = GridSearch(xtrain_sb_1057, ytrain_sb_1057, param_list, cv=3, rand=False)"
   ]
  },
  {
   "cell_type": "code",
   "execution_count": null,
   "id": "1a78aa1a",
   "metadata": {},
   "outputs": [],
   "source": [
    "pred_sb_1057 = model_sb_1057.predict_classes(xtest_sb_1057)"
   ]
  },
  {
   "cell_type": "code",
   "execution_count": null,
   "id": "7703f8ee",
   "metadata": {},
   "outputs": [],
   "source": [
    "y_pred_keras_sb_1057 = model_sb_1057.predict(xtest_sb_1057).ravel()\n",
    "fpr_keras, tpr_keras, thresholds_keras = roc_curve(ytest_sb_1057, y_pred_keras_sb_1057)\n",
    "auc_keras_sb_1057 = auc(fpr_keras, tpr_keras)"
   ]
  },
  {
   "cell_type": "code",
   "execution_count": null,
   "id": "6591e1f5",
   "metadata": {},
   "outputs": [],
   "source": [
    "plt.figure(1)\n",
    "plt.plot([0, 1], [0, 1], 'k--')\n",
    "plt.plot(fpr_keras, tpr_keras, label='Keras bilancato 597 (area = {:.3f})'.format(auc_keras_sb_597))\n",
    "plt.plot(fpr_keras, tpr_keras, label='Keras bilancato 1057 (area = {:.3f})'.format(auc_keras_sb_1057))\n",
    "\n",
    "plt.xlabel('False positive rate')\n",
    "plt.ylabel('True positive rate')\n",
    "plt.title('ROC curve')\n",
    "plt.legend(loc='best')\n",
    "plt.show()"
   ]
  }
 ],
 "metadata": {
  "kernelspec": {
   "display_name": "Python 3",
   "language": "python",
   "name": "python3"
  },
  "language_info": {
   "codemirror_mode": {
    "name": "ipython",
    "version": 3
   },
   "file_extension": ".py",
   "mimetype": "text/x-python",
   "name": "python",
   "nbconvert_exporter": "python",
   "pygments_lexer": "ipython3",
   "version": "3.8.8"
  }
 },
 "nbformat": 4,
 "nbformat_minor": 5
}
