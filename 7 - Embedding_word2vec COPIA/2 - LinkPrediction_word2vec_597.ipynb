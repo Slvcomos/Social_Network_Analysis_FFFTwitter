{
 "cells": [
  {
   "cell_type": "code",
   "execution_count": 1,
   "id": "a931aa6b",
   "metadata": {},
   "outputs": [],
   "source": [
    "import pandas as pd\n",
    "import numpy as np\n",
    "import random\n",
    "import networkx as nx\n",
    "from tqdm import tqdm\n",
    "import re\n",
    "import matplotlib.pyplot as plt\n",
    "import itertools\n",
    "from operator import itemgetter\n",
    "import pickle\n",
    "\n",
    "from sklearn.linear_model import LogisticRegression\n",
    "from sklearn.metrics import classification_report, roc_auc_score\n",
    "from sklearn.model_selection import train_test_split\n",
    "from sklearn.metrics import confusion_matrix\n",
    "from sklearn.metrics import roc_curve\n",
    "from sklearn.metrics import auc"
   ]
  },
  {
   "cell_type": "code",
   "execution_count": 2,
   "id": "b77d27e7",
   "metadata": {},
   "outputs": [],
   "source": [
    "import tensorflow as tf\n",
    "import tensorflow.keras\n",
    "import tensorflow.keras.backend as K\n",
    "from tensorflow.keras.models import Sequential \n",
    "from tensorflow.keras.layers import Dense, Activation\n",
    "from tensorflow.keras.wrappers.scikit_learn import KerasClassifier\n",
    "from tensorflow.keras import optimizers, utils, initializers, regularizers\n",
    "from tensorflow.keras.callbacks import EarlyStopping"
   ]
  },
  {
   "cell_type": "code",
   "execution_count": 3,
   "id": "c8fd9502",
   "metadata": {},
   "outputs": [],
   "source": [
    "import linkpred\n",
    "from linkpred.evaluation import Pair\n",
    "import seaborn as sns"
   ]
  },
  {
   "cell_type": "code",
   "execution_count": 4,
   "id": "25f08af2",
   "metadata": {},
   "outputs": [],
   "source": [
    "import sklearn.metrics as metrics"
   ]
  },
  {
   "cell_type": "code",
   "execution_count": 5,
   "id": "f34e7fd7",
   "metadata": {},
   "outputs": [],
   "source": [
    "from gensim.models import Word2Vec"
   ]
  },
  {
   "cell_type": "code",
   "execution_count": 6,
   "id": "905f95c4",
   "metadata": {},
   "outputs": [],
   "source": [
    "with open('universe_1057.pickle', 'rb') as f:\n",
    "    universe_1057 = pickle.load(f)"
   ]
  },
  {
   "cell_type": "code",
   "execution_count": 7,
   "id": "9390ee20",
   "metadata": {},
   "outputs": [],
   "source": [
    "with open('universe_597.pickle', 'rb') as f:\n",
    "    universe_597 = pickle.load(f)"
   ]
  },
  {
   "cell_type": "code",
   "execution_count": 8,
   "id": "cc00d535",
   "metadata": {},
   "outputs": [
    {
     "data": {
      "text/plain": [
       "3160"
      ]
     },
     "execution_count": 8,
     "metadata": {},
     "output_type": "execute_result"
    }
   ],
   "source": [
    "len(universe_597)"
   ]
  },
  {
   "cell_type": "code",
   "execution_count": 9,
   "id": "16899a6c",
   "metadata": {},
   "outputs": [],
   "source": [
    "embedding_pickle_597 = pd.read_pickle('embedding_pickle_597.csv')"
   ]
  },
  {
   "cell_type": "code",
   "execution_count": 10,
   "id": "70bc6761",
   "metadata": {},
   "outputs": [],
   "source": [
    "edges_597 = pd.read_pickle('edges_original_597.csv')"
   ]
  },
  {
   "cell_type": "code",
   "execution_count": 11,
   "id": "5cf9f5bc",
   "metadata": {},
   "outputs": [],
   "source": [
    "embedding_pickle_1057 = pd.read_pickle('embedding_pickle_1057.csv')"
   ]
  },
  {
   "cell_type": "code",
   "execution_count": 12,
   "id": "82a4cf14",
   "metadata": {},
   "outputs": [],
   "source": [
    "edges_1057 = pd.read_pickle('edges_original_1057.csv')"
   ]
  },
  {
   "cell_type": "code",
   "execution_count": 13,
   "id": "28c978b4",
   "metadata": {},
   "outputs": [],
   "source": [
    "H_597 = nx.read_graphml(\"H_597.graphml\")"
   ]
  },
  {
   "cell_type": "code",
   "execution_count": 14,
   "id": "eb20ae6d",
   "metadata": {},
   "outputs": [],
   "source": [
    "all_unconnected_pairs_597 = []"
   ]
  },
  {
   "cell_type": "code",
   "execution_count": 15,
   "id": "2ddf98f9",
   "metadata": {},
   "outputs": [],
   "source": [
    "def check_isequal(x, a, b):\n",
    "    if x[0] == a:\n",
    "        if x[1] == b:\n",
    "            return True\n",
    "    if x[1] == a:\n",
    "        if x[0] == b:\n",
    "            return True\n",
    "    return False"
   ]
  },
  {
   "cell_type": "code",
   "execution_count": 16,
   "id": "1061e2d5",
   "metadata": {},
   "outputs": [],
   "source": [
    "for ui in universe_597:\n",
    "    is_not = False\n",
    "    for i,j in edges_597.values:\n",
    "        if check_isequal(ui, i, j):\n",
    "            is_not = True\n",
    "            break\n",
    "    if not is_not:\n",
    "        all_unconnected_pairs_597.append((ui[0], ui[1]))"
   ]
  },
  {
   "cell_type": "code",
   "execution_count": 17,
   "id": "fd5704a9",
   "metadata": {},
   "outputs": [
    {
     "data": {
      "text/plain": [
       "1908"
      ]
     },
     "execution_count": 17,
     "metadata": {},
     "output_type": "execute_result"
    }
   ],
   "source": [
    "len(all_unconnected_pairs_597)"
   ]
  },
  {
   "cell_type": "code",
   "execution_count": 18,
   "id": "864c37e9",
   "metadata": {},
   "outputs": [],
   "source": [
    "word2vec_597 = Word2Vec.load(\"word2vec_597.model\")"
   ]
  },
  {
   "cell_type": "markdown",
   "id": "618d1ed9",
   "metadata": {},
   "source": [
    "Collegamenti inesistenti => target negativo"
   ]
  },
  {
   "cell_type": "code",
   "execution_count": 19,
   "id": "5af89530",
   "metadata": {},
   "outputs": [],
   "source": [
    "node_1_unlinked = [word2vec_597.wv[i[0]] for i in all_unconnected_pairs_597]\n",
    "node_2_unlinked = [word2vec_597.wv[i[1]] for i in all_unconnected_pairs_597]\n",
    "\n",
    "data_597 = pd.DataFrame({'node_1':node_1_unlinked, \n",
    "                     'node_2':node_2_unlinked})\n",
    "\n",
    "# add target variable 'link'\n",
    "data_597['link'] = 0"
   ]
  },
  {
   "cell_type": "code",
   "execution_count": 20,
   "id": "93f7bf7a",
   "metadata": {},
   "outputs": [
    {
     "data": {
      "text/html": [
       "<div>\n",
       "<style scoped>\n",
       "    .dataframe tbody tr th:only-of-type {\n",
       "        vertical-align: middle;\n",
       "    }\n",
       "\n",
       "    .dataframe tbody tr th {\n",
       "        vertical-align: top;\n",
       "    }\n",
       "\n",
       "    .dataframe thead th {\n",
       "        text-align: right;\n",
       "    }\n",
       "</style>\n",
       "<table border=\"1\" class=\"dataframe\">\n",
       "  <thead>\n",
       "    <tr style=\"text-align: right;\">\n",
       "      <th></th>\n",
       "      <th>node_1</th>\n",
       "      <th>node_2</th>\n",
       "      <th>link</th>\n",
       "    </tr>\n",
       "  </thead>\n",
       "  <tbody>\n",
       "    <tr>\n",
       "      <th>0</th>\n",
       "      <td>[-0.0030631882, 0.008616773, -0.0045523765, 0....</td>\n",
       "      <td>[-0.001554146, -0.0012236267, -0.0026807743, -...</td>\n",
       "      <td>0</td>\n",
       "    </tr>\n",
       "    <tr>\n",
       "      <th>1</th>\n",
       "      <td>[0.0022856512, 0.006231843, -0.0096024, -0.001...</td>\n",
       "      <td>[0.007664479, 0.004021384, -0.002702067, 0.009...</td>\n",
       "      <td>0</td>\n",
       "    </tr>\n",
       "    <tr>\n",
       "      <th>2</th>\n",
       "      <td>[0.0058875037, -0.00839095, -0.007141535, -0.0...</td>\n",
       "      <td>[-0.0074241604, -0.0012602279, 0.009695181, -0...</td>\n",
       "      <td>0</td>\n",
       "    </tr>\n",
       "    <tr>\n",
       "      <th>3</th>\n",
       "      <td>[-0.0017582083, -0.0034002608, -0.004141071, -...</td>\n",
       "      <td>[-0.0064709443, -0.00025158245, -0.009321352, ...</td>\n",
       "      <td>0</td>\n",
       "    </tr>\n",
       "    <tr>\n",
       "      <th>4</th>\n",
       "      <td>[0.0022856512, 0.006231843, -0.0096024, -0.001...</td>\n",
       "      <td>[0.005889654, 0.00078929117, 0.005454147, 0.00...</td>\n",
       "      <td>0</td>\n",
       "    </tr>\n",
       "    <tr>\n",
       "      <th>...</th>\n",
       "      <td>...</td>\n",
       "      <td>...</td>\n",
       "      <td>...</td>\n",
       "    </tr>\n",
       "    <tr>\n",
       "      <th>1903</th>\n",
       "      <td>[0.0017936621, -0.00034908883, 0.0077299355, 0...</td>\n",
       "      <td>[-0.009829871, 0.0017744834, -0.0053669345, 0....</td>\n",
       "      <td>0</td>\n",
       "    </tr>\n",
       "    <tr>\n",
       "      <th>1904</th>\n",
       "      <td>[-0.0033032289, -0.008142593, 0.009370617, -0....</td>\n",
       "      <td>[0.007260275, 0.0014188879, -0.0073164664, 0.0...</td>\n",
       "      <td>0</td>\n",
       "    </tr>\n",
       "    <tr>\n",
       "      <th>1905</th>\n",
       "      <td>[-0.0032215626, -0.0003636058, 9.800874e-06, -...</td>\n",
       "      <td>[0.0018837609, 0.0034408027, -0.009308512, -0....</td>\n",
       "      <td>0</td>\n",
       "    </tr>\n",
       "    <tr>\n",
       "      <th>1906</th>\n",
       "      <td>[0.008844223, 0.0013586662, -0.0043488606, 0.0...</td>\n",
       "      <td>[-0.0007017409, 0.009480938, 0.0040279943, 0.0...</td>\n",
       "      <td>0</td>\n",
       "    </tr>\n",
       "    <tr>\n",
       "      <th>1907</th>\n",
       "      <td>[0.007167314, 0.00966693, 0.0014101949, -0.008...</td>\n",
       "      <td>[0.007260275, 0.0014188879, -0.0073164664, 0.0...</td>\n",
       "      <td>0</td>\n",
       "    </tr>\n",
       "  </tbody>\n",
       "</table>\n",
       "<p>1908 rows × 3 columns</p>\n",
       "</div>"
      ],
      "text/plain": [
       "                                                 node_1  \\\n",
       "0     [-0.0030631882, 0.008616773, -0.0045523765, 0....   \n",
       "1     [0.0022856512, 0.006231843, -0.0096024, -0.001...   \n",
       "2     [0.0058875037, -0.00839095, -0.007141535, -0.0...   \n",
       "3     [-0.0017582083, -0.0034002608, -0.004141071, -...   \n",
       "4     [0.0022856512, 0.006231843, -0.0096024, -0.001...   \n",
       "...                                                 ...   \n",
       "1903  [0.0017936621, -0.00034908883, 0.0077299355, 0...   \n",
       "1904  [-0.0033032289, -0.008142593, 0.009370617, -0....   \n",
       "1905  [-0.0032215626, -0.0003636058, 9.800874e-06, -...   \n",
       "1906  [0.008844223, 0.0013586662, -0.0043488606, 0.0...   \n",
       "1907  [0.007167314, 0.00966693, 0.0014101949, -0.008...   \n",
       "\n",
       "                                                 node_2  link  \n",
       "0     [-0.001554146, -0.0012236267, -0.0026807743, -...     0  \n",
       "1     [0.007664479, 0.004021384, -0.002702067, 0.009...     0  \n",
       "2     [-0.0074241604, -0.0012602279, 0.009695181, -0...     0  \n",
       "3     [-0.0064709443, -0.00025158245, -0.009321352, ...     0  \n",
       "4     [0.005889654, 0.00078929117, 0.005454147, 0.00...     0  \n",
       "...                                                 ...   ...  \n",
       "1903  [-0.009829871, 0.0017744834, -0.0053669345, 0....     0  \n",
       "1904  [0.007260275, 0.0014188879, -0.0073164664, 0.0...     0  \n",
       "1905  [0.0018837609, 0.0034408027, -0.009308512, -0....     0  \n",
       "1906  [-0.0007017409, 0.009480938, 0.0040279943, 0.0...     0  \n",
       "1907  [0.007260275, 0.0014188879, -0.0073164664, 0.0...     0  \n",
       "\n",
       "[1908 rows x 3 columns]"
      ]
     },
     "execution_count": 20,
     "metadata": {},
     "output_type": "execute_result"
    }
   ],
   "source": [
    "data_597"
   ]
  },
  {
   "cell_type": "code",
   "execution_count": 21,
   "id": "b30068ee",
   "metadata": {},
   "outputs": [],
   "source": [
    "def omissibile_links(G, df_edges):\n",
    "    initial_node_count = len(G.nodes)\n",
    "\n",
    "    fb_df_temp = df_edges.copy()\n",
    "\n",
    "    # empty list to store removable links\n",
    "    omissible_links_index = []\n",
    "\n",
    "    for i in tqdm(df_edges.index.values):\n",
    "\n",
    "      # remove a node pair and build a new graph\n",
    "      G_temp = nx.from_pandas_edgelist(fb_df_temp.drop(index = i), \"first\", \"second\", create_using=nx.Graph())\n",
    "\n",
    "      # check there is no spliting of graph and number of nodes is same\n",
    "      if (nx.number_connected_components(G_temp) == 1) and (len(G_temp.nodes) == initial_node_count):\n",
    "        omissible_links_index.append(i)\n",
    "        fb_df_temp = fb_df_temp.drop(index = i)\n",
    "    return omissible_links_index"
   ]
  },
  {
   "cell_type": "code",
   "execution_count": 22,
   "id": "94de34d9",
   "metadata": {},
   "outputs": [
    {
     "name": "stderr",
     "output_type": "stream",
     "text": [
      "100%|█████████████████████████████████████████████████████████████████████████████| 1252/1252 [00:02<00:00, 585.72it/s]\n"
     ]
    }
   ],
   "source": [
    "omissible_links_597 =  omissibile_links(H_597, edges_597)"
   ]
  },
  {
   "cell_type": "code",
   "execution_count": 23,
   "id": "87ab9bea",
   "metadata": {},
   "outputs": [
    {
     "data": {
      "text/plain": [
       "1252"
      ]
     },
     "execution_count": 23,
     "metadata": {},
     "output_type": "execute_result"
    }
   ],
   "source": [
    "len(edges_597)"
   ]
  },
  {
   "cell_type": "code",
   "execution_count": 24,
   "id": "f6be6011",
   "metadata": {},
   "outputs": [
    {
     "data": {
      "text/plain": [
       "1173"
      ]
     },
     "execution_count": 24,
     "metadata": {},
     "output_type": "execute_result"
    }
   ],
   "source": [
    "len(omissible_links_597)"
   ]
  },
  {
   "cell_type": "code",
   "execution_count": 25,
   "id": "9502bbe9",
   "metadata": {},
   "outputs": [
    {
     "data": {
      "text/plain": [
       "3160"
      ]
     },
     "execution_count": 25,
     "metadata": {},
     "output_type": "execute_result"
    }
   ],
   "source": [
    "len(universe_597)"
   ]
  },
  {
   "cell_type": "code",
   "execution_count": 26,
   "id": "ecd51a3c",
   "metadata": {},
   "outputs": [],
   "source": [
    "# create dataframe of removable edges\n",
    "fb_df_ghost_597 = embedding_pickle_597.loc[omissible_links_597]\n",
    "\n",
    "fb_df_ghost_597 = fb_df_ghost_597.rename(columns={\"first\": \"node_1\", \"second\": \"node_2\"})\n",
    "# add the target variable 'link'\n",
    "fb_df_ghost_597['link'] = 1\n",
    "\n",
    "data_597 = data_597.append(fb_df_ghost_597[['node_1', 'node_2', 'link']], ignore_index=True)"
   ]
  },
  {
   "cell_type": "code",
   "execution_count": 27,
   "id": "52701644",
   "metadata": {},
   "outputs": [
    {
     "data": {
      "text/plain": [
       "0    1908\n",
       "1    1173\n",
       "Name: link, dtype: int64"
      ]
     },
     "execution_count": 27,
     "metadata": {},
     "output_type": "execute_result"
    }
   ],
   "source": [
    "data_597['link'].value_counts()"
   ]
  },
  {
   "cell_type": "code",
   "execution_count": 28,
   "id": "cb38d8de",
   "metadata": {},
   "outputs": [],
   "source": [
    "data_597.to_pickle(\"data_597.csv\")"
   ]
  },
  {
   "cell_type": "markdown",
   "id": "1ef47ebb",
   "metadata": {},
   "source": [
    "----------------- Lettura dati -------------------"
   ]
  },
  {
   "cell_type": "code",
   "execution_count": 29,
   "id": "ca559161",
   "metadata": {},
   "outputs": [],
   "source": [
    "data_597 = pd.read_pickle('data_597.csv')"
   ]
  },
  {
   "cell_type": "markdown",
   "id": "02860546",
   "metadata": {},
   "source": [
    "# 2 - Classificatori"
   ]
  },
  {
   "cell_type": "code",
   "execution_count": 30,
   "id": "616eaf92",
   "metadata": {},
   "outputs": [],
   "source": [
    "X_597 = []\n",
    "for i in range(data_597.shape[0]):\n",
    "    first = data_597.iloc[i][0]\n",
    "    second = data_597.iloc[i][1]\n",
    "    mixed = np.concatenate((first, second), 0)\n",
    "    X_597.append(mixed)"
   ]
  },
  {
   "cell_type": "code",
   "execution_count": 31,
   "id": "246dd18c",
   "metadata": {},
   "outputs": [],
   "source": [
    "xtrain_597, xtest_597, ytrain_597, ytest_597 = train_test_split(np.asarray(X_597), data_597['link'], \n",
    "                                                test_size = 0.3, \n",
    "                                                random_state = 35,\n",
    "                                                stratify=data_597['link'])"
   ]
  },
  {
   "cell_type": "markdown",
   "id": "7fe64ff9",
   "metadata": {},
   "source": [
    "### 1 - DecisionTree"
   ]
  },
  {
   "cell_type": "code",
   "execution_count": 32,
   "id": "48f3974a",
   "metadata": {},
   "outputs": [],
   "source": [
    "from sklearn import tree\n",
    "from sklearn.model_selection import ShuffleSplit, StratifiedKFold, GridSearchCV\n",
    "from sklearn.metrics import roc_curve, auc, roc_auc_score"
   ]
  },
  {
   "cell_type": "code",
   "execution_count": 33,
   "id": "c384f1c5",
   "metadata": {},
   "outputs": [],
   "source": [
    "# Set the parameters by cross-validation\n",
    "tuned_parameters = {\n",
    "    'criterion' : ['gini', 'entropy'],\n",
    "    'max_depth': [2, 5, 10, 15, None],\n",
    "    'min_samples_split': [2, 5, 10, 20],\n",
    "    'min_samples_leaf': [1, 5, 10, 20],\n",
    "}\n",
    "scores = ['roc_auc']"
   ]
  },
  {
   "cell_type": "code",
   "execution_count": 34,
   "id": "e1bee94e",
   "metadata": {},
   "outputs": [],
   "source": [
    "def builtGridSearch( X_train, X_test, y_train, y_test, tuned_parameters, scores):\n",
    "    optimals = {}\n",
    "    for score in scores:\n",
    "        print(\"------- Score = \" + str(score) + \" ------- \\n\")\n",
    "        model = tree.DecisionTreeClassifier()\n",
    "        k_fold = StratifiedKFold(n_splits=5, random_state=42)\n",
    "        \n",
    "        print(\"> Fold = \" + str(k_fold) + \"\\n\")\n",
    "        clf = GridSearchCV(model, tuned_parameters, error_score='raise', cv=5, scoring = score, return_train_score=True)\n",
    "\n",
    "        clf.fit(X_train, y_train)\n",
    "\n",
    "        print(\"> Best Parameter set: \\n\")\n",
    "        best = clf.best_params_\n",
    "        print(best)\n",
    "        \n",
    "        print(\"\\n> Grid scores:\\n\")\n",
    "        means = clf.cv_results_['mean_test_score']\n",
    "        stds = clf.cv_results_['std_test_score']\n",
    "        \n",
    "        parameters = {\"criterion\": [], \"max_depth\": [], \"min_samples_leaf\": [], \"min_samples_split\": []}\n",
    "        for mean, std, params in zip(means, stds, clf.cv_results_['params']):\n",
    "            print(\"%0.3f (+/-%0.03f) for %r\"\n",
    "                  % (mean, std * 2, params))\n",
    "            parameters[\"criterion\"].append(params[\"criterion\"])\n",
    "\n",
    "            if(params[\"max_depth\"] == None):\n",
    "                parameters[\"max_depth\"].append(0)\n",
    "            else:\n",
    "                parameters[\"max_depth\"].append(params[\"max_depth\"])\n",
    "\n",
    "            #parameters[\"max_depth\"].append(params[\"max_depth\"])\n",
    "            parameters[\"min_samples_leaf\"].append(params[\"min_samples_leaf\"])\n",
    "            parameters[\"min_samples_split\"].append(params[\"min_samples_split\"])\n",
    "        \n",
    "        print(\"-> Report\\n\") \n",
    "        y_true, y_pred = y_test, clf.predict(X_test)\n",
    "        print(classification_report(y_true, y_pred))\n",
    "        print(\"\\n\")\n",
    "        print(\"**** Matrice di Confusione *****\")\n",
    "        tn, fp, fn, tp = confusion_matrix(y_true, y_pred).ravel()\n",
    "        print(' True negative: %d False negative: %d' % (tn, fn))\n",
    "        print(' True positive: %d False positive: %d' % (tp, fp))\n",
    "\n",
    "        \n",
    "        # Creazione del csv\n",
    "        d = {score: means, 'std_dev': stds*2, 'criterion': parameters[\"criterion\"], \"max_depth\": parameters[\"max_depth\"], \"min_samples_leaf\": parameters[\"min_samples_leaf\"], \"min_samples_split\": parameters[\"min_samples_split\"]}\n",
    "        \n",
    "        dataF = pd.DataFrame(data=d)\n",
    "        \n",
    "        dataF.to_csv(\"result_DT_gridsearch.csv\",index=False, header=True)\n",
    "        \n",
    "\n",
    "        print(\"...........RESULTS FOR TRAINING.........\")\n",
    "        print(\"........................................\")\n",
    "        means = clf.cv_results_['mean_train_score']\n",
    "        stds = clf.cv_results_['std_train_score']\n",
    "        for mean, std, params in zip(means, stds, clf.cv_results_['params']):\n",
    "            print(\"%0.3f (+/-%0.03f) for %r\"\n",
    "                  % (mean, std * 2, params))        \n",
    "        \n",
    "        print(\"____________________________________________\")\n",
    "        \n",
    "        optimals[score] = best\n",
    "    return optimals"
   ]
  },
  {
   "cell_type": "code",
   "execution_count": 35,
   "id": "d889752c",
   "metadata": {},
   "outputs": [
    {
     "name": "stdout",
     "output_type": "stream",
     "text": [
      "------- Score = roc_auc ------- \n",
      "\n"
     ]
    },
    {
     "ename": "ValueError",
     "evalue": "Setting a random_state has no effect since shuffle is False. You should leave random_state to its default (None), or set shuffle=True.",
     "output_type": "error",
     "traceback": [
      "\u001b[1;31m---------------------------------------------------------------------------\u001b[0m",
      "\u001b[1;31mValueError\u001b[0m                                Traceback (most recent call last)",
      "\u001b[1;32m<ipython-input-35-662405864da1>\u001b[0m in \u001b[0;36m<module>\u001b[1;34m\u001b[0m\n\u001b[1;32m----> 1\u001b[1;33m \u001b[0moptimals_597\u001b[0m \u001b[1;33m=\u001b[0m \u001b[0mbuiltGridSearch\u001b[0m\u001b[1;33m(\u001b[0m\u001b[0mxtrain_597\u001b[0m\u001b[1;33m,\u001b[0m \u001b[0mxtest_597\u001b[0m\u001b[1;33m,\u001b[0m \u001b[0mytrain_597\u001b[0m\u001b[1;33m,\u001b[0m \u001b[0mytest_597\u001b[0m\u001b[1;33m,\u001b[0m \u001b[0mtuned_parameters\u001b[0m\u001b[1;33m,\u001b[0m \u001b[0mscores\u001b[0m\u001b[1;33m)\u001b[0m\u001b[1;33m\u001b[0m\u001b[1;33m\u001b[0m\u001b[0m\n\u001b[0m",
      "\u001b[1;32m<ipython-input-34-26d2803334ba>\u001b[0m in \u001b[0;36mbuiltGridSearch\u001b[1;34m(X_train, X_test, y_train, y_test, tuned_parameters, scores)\u001b[0m\n\u001b[0;32m      4\u001b[0m         \u001b[0mprint\u001b[0m\u001b[1;33m(\u001b[0m\u001b[1;34m\"------- Score = \"\u001b[0m \u001b[1;33m+\u001b[0m \u001b[0mstr\u001b[0m\u001b[1;33m(\u001b[0m\u001b[0mscore\u001b[0m\u001b[1;33m)\u001b[0m \u001b[1;33m+\u001b[0m \u001b[1;34m\" ------- \\n\"\u001b[0m\u001b[1;33m)\u001b[0m\u001b[1;33m\u001b[0m\u001b[1;33m\u001b[0m\u001b[0m\n\u001b[0;32m      5\u001b[0m         \u001b[0mmodel\u001b[0m \u001b[1;33m=\u001b[0m \u001b[0mtree\u001b[0m\u001b[1;33m.\u001b[0m\u001b[0mDecisionTreeClassifier\u001b[0m\u001b[1;33m(\u001b[0m\u001b[1;33m)\u001b[0m\u001b[1;33m\u001b[0m\u001b[1;33m\u001b[0m\u001b[0m\n\u001b[1;32m----> 6\u001b[1;33m         \u001b[0mk_fold\u001b[0m \u001b[1;33m=\u001b[0m \u001b[0mStratifiedKFold\u001b[0m\u001b[1;33m(\u001b[0m\u001b[0mn_splits\u001b[0m\u001b[1;33m=\u001b[0m\u001b[1;36m5\u001b[0m\u001b[1;33m,\u001b[0m \u001b[0mrandom_state\u001b[0m\u001b[1;33m=\u001b[0m\u001b[1;36m42\u001b[0m\u001b[1;33m)\u001b[0m\u001b[1;33m\u001b[0m\u001b[1;33m\u001b[0m\u001b[0m\n\u001b[0m\u001b[0;32m      7\u001b[0m \u001b[1;33m\u001b[0m\u001b[0m\n\u001b[0;32m      8\u001b[0m         \u001b[0mprint\u001b[0m\u001b[1;33m(\u001b[0m\u001b[1;34m\"> Fold = \"\u001b[0m \u001b[1;33m+\u001b[0m \u001b[0mstr\u001b[0m\u001b[1;33m(\u001b[0m\u001b[0mk_fold\u001b[0m\u001b[1;33m)\u001b[0m \u001b[1;33m+\u001b[0m \u001b[1;34m\"\\n\"\u001b[0m\u001b[1;33m)\u001b[0m\u001b[1;33m\u001b[0m\u001b[1;33m\u001b[0m\u001b[0m\n",
      "\u001b[1;32m~\\anaconda3\\lib\\site-packages\\sklearn\\model_selection\\_split.py\u001b[0m in \u001b[0;36m__init__\u001b[1;34m(self, n_splits, shuffle, random_state)\u001b[0m\n\u001b[0;32m    642\u001b[0m \u001b[1;33m\u001b[0m\u001b[0m\n\u001b[0;32m    643\u001b[0m     \u001b[1;32mdef\u001b[0m \u001b[0m__init__\u001b[0m\u001b[1;33m(\u001b[0m\u001b[0mself\u001b[0m\u001b[1;33m,\u001b[0m \u001b[0mn_splits\u001b[0m\u001b[1;33m=\u001b[0m\u001b[1;36m5\u001b[0m\u001b[1;33m,\u001b[0m \u001b[1;33m*\u001b[0m\u001b[1;33m,\u001b[0m \u001b[0mshuffle\u001b[0m\u001b[1;33m=\u001b[0m\u001b[1;32mFalse\u001b[0m\u001b[1;33m,\u001b[0m \u001b[0mrandom_state\u001b[0m\u001b[1;33m=\u001b[0m\u001b[1;32mNone\u001b[0m\u001b[1;33m)\u001b[0m\u001b[1;33m:\u001b[0m\u001b[1;33m\u001b[0m\u001b[1;33m\u001b[0m\u001b[0m\n\u001b[1;32m--> 644\u001b[1;33m         \u001b[0msuper\u001b[0m\u001b[1;33m(\u001b[0m\u001b[1;33m)\u001b[0m\u001b[1;33m.\u001b[0m\u001b[0m__init__\u001b[0m\u001b[1;33m(\u001b[0m\u001b[0mn_splits\u001b[0m\u001b[1;33m=\u001b[0m\u001b[0mn_splits\u001b[0m\u001b[1;33m,\u001b[0m \u001b[0mshuffle\u001b[0m\u001b[1;33m=\u001b[0m\u001b[0mshuffle\u001b[0m\u001b[1;33m,\u001b[0m \u001b[0mrandom_state\u001b[0m\u001b[1;33m=\u001b[0m\u001b[0mrandom_state\u001b[0m\u001b[1;33m)\u001b[0m\u001b[1;33m\u001b[0m\u001b[1;33m\u001b[0m\u001b[0m\n\u001b[0m\u001b[0;32m    645\u001b[0m \u001b[1;33m\u001b[0m\u001b[0m\n\u001b[0;32m    646\u001b[0m     \u001b[1;32mdef\u001b[0m \u001b[0m_make_test_folds\u001b[0m\u001b[1;33m(\u001b[0m\u001b[0mself\u001b[0m\u001b[1;33m,\u001b[0m \u001b[0mX\u001b[0m\u001b[1;33m,\u001b[0m \u001b[0my\u001b[0m\u001b[1;33m=\u001b[0m\u001b[1;32mNone\u001b[0m\u001b[1;33m)\u001b[0m\u001b[1;33m:\u001b[0m\u001b[1;33m\u001b[0m\u001b[1;33m\u001b[0m\u001b[0m\n",
      "\u001b[1;32m~\\anaconda3\\lib\\site-packages\\sklearn\\model_selection\\_split.py\u001b[0m in \u001b[0;36m__init__\u001b[1;34m(self, n_splits, shuffle, random_state)\u001b[0m\n\u001b[0;32m    294\u001b[0m \u001b[1;33m\u001b[0m\u001b[0m\n\u001b[0;32m    295\u001b[0m         \u001b[1;32mif\u001b[0m \u001b[1;32mnot\u001b[0m \u001b[0mshuffle\u001b[0m \u001b[1;32mand\u001b[0m \u001b[0mrandom_state\u001b[0m \u001b[1;32mis\u001b[0m \u001b[1;32mnot\u001b[0m \u001b[1;32mNone\u001b[0m\u001b[1;33m:\u001b[0m  \u001b[1;31m# None is the default\u001b[0m\u001b[1;33m\u001b[0m\u001b[1;33m\u001b[0m\u001b[0m\n\u001b[1;32m--> 296\u001b[1;33m             raise ValueError(\n\u001b[0m\u001b[0;32m    297\u001b[0m                 \u001b[1;34m\"Setting a random_state has no effect since shuffle is \"\u001b[0m\u001b[1;33m\u001b[0m\u001b[1;33m\u001b[0m\u001b[0m\n\u001b[0;32m    298\u001b[0m                 \u001b[1;34m\"False. You should leave \"\u001b[0m\u001b[1;33m\u001b[0m\u001b[1;33m\u001b[0m\u001b[0m\n",
      "\u001b[1;31mValueError\u001b[0m: Setting a random_state has no effect since shuffle is False. You should leave random_state to its default (None), or set shuffle=True."
     ]
    }
   ],
   "source": [
    "optimals_597 = builtGridSearch(xtrain_597, xtest_597, ytrain_597, ytest_597, tuned_parameters, scores)"
   ]
  },
  {
   "cell_type": "code",
   "execution_count": null,
   "id": "4bd61bcb",
   "metadata": {},
   "outputs": [],
   "source": [
    "optimals_597"
   ]
  },
  {
   "cell_type": "code",
   "execution_count": null,
   "id": "fdf2e239",
   "metadata": {},
   "outputs": [],
   "source": [
    "model_597 = tree.DecisionTreeClassifier(criterion = \"entropy\", max_depth = None, min_samples_leaf = 20, min_samples_split = 10)\n",
    "model_597.fit(xtrain_597, ytrain_597)\n",
    "y_pred_597 = model_597.predict(xtest_597)"
   ]
  },
  {
   "cell_type": "code",
   "execution_count": null,
   "id": "74cb355e",
   "metadata": {},
   "outputs": [],
   "source": [
    "y_score_597 = model_597.predict_proba(xtest_597)\n",
    "fpr0, tpr0, _ = roc_curve(ytest_597, y_score_597[:, 1])\n",
    "roc_auc0_597 = auc(fpr0, tpr0)"
   ]
  },
  {
   "cell_type": "code",
   "execution_count": null,
   "id": "3f932b59",
   "metadata": {},
   "outputs": [],
   "source": [
    "plt.plot(fpr0, tpr0, color='darkorange', lw=3, label='$AUC_0$ = %.3f' % (roc_auc0_597))\n",
    "\n",
    "plt.plot([0, 1], [0, 1], color='navy', lw=2, linestyle='--')\n",
    "plt.xlim([0.0, 1.0])\n",
    "plt.ylim([0.0, 1.05])\n",
    "plt.xlabel('False Positive Rate', fontsize=16)\n",
    "plt.ylabel('True Positive Rate', fontsize=16)\n",
    "plt.title('ROC curve', fontsize=16)\n",
    "plt.legend(loc=\"lower right\", fontsize=14, frameon=False)\n",
    "plt.tick_params(axis='both', which='major', labelsize=16)\n",
    "plt.show()"
   ]
  },
  {
   "cell_type": "markdown",
   "id": "d3e57596",
   "metadata": {},
   "source": [
    "### 1 - DecisionTree_Bilanciato"
   ]
  },
  {
   "cell_type": "code",
   "execution_count": 36,
   "id": "27f5956d",
   "metadata": {},
   "outputs": [
    {
     "data": {
      "text/plain": [
       "735"
      ]
     },
     "execution_count": 36,
     "metadata": {},
     "output_type": "execute_result"
    }
   ],
   "source": [
    "remove_n = data_597['link'].value_counts()[0] - data_597['link'].value_counts()[1]\n",
    "remove_n"
   ]
  },
  {
   "cell_type": "code",
   "execution_count": 37,
   "id": "7299c6ef",
   "metadata": {},
   "outputs": [
    {
     "name": "stdout",
     "output_type": "stream",
     "text": [
      "0    1173\n",
      "1    1173\n",
      "Name: link, dtype: int64\n"
     ]
    }
   ],
   "source": [
    "df = data_597.copy()\n",
    "drop_indices = np.random.choice(df[df[\"link\"]==0].index, remove_n, replace=False)\n",
    "df_subset = df.drop(drop_indices)\n",
    "print(df_subset['link'].value_counts())\n",
    "\n",
    "X_sbset_597 = []\n",
    "for i in range(df_subset.shape[0]):\n",
    "    first = df_subset.iloc[i][0]\n",
    "    second = df_subset.iloc[i][1]\n",
    "    mixed = np.concatenate((first, second), 0)\n",
    "    X_sbset_597.append(mixed)\n",
    "    \n",
    "    \n",
    "xtrain_sb_597, xtest_sb_597, ytrain_sb_597, ytest_sb_597 = train_test_split(np.asarray(X_sbset_597), df_subset[\"link\"], \n",
    "                                                test_size = 0.3, \n",
    "                                                random_state = 35,\n",
    "                                                stratify=df_subset[\"link\"])"
   ]
  },
  {
   "cell_type": "code",
   "execution_count": 38,
   "id": "c8bf78fe",
   "metadata": {},
   "outputs": [
    {
     "name": "stdout",
     "output_type": "stream",
     "text": [
      "------- Score = roc_auc ------- \n",
      "\n"
     ]
    },
    {
     "ename": "ValueError",
     "evalue": "Setting a random_state has no effect since shuffle is False. You should leave random_state to its default (None), or set shuffle=True.",
     "output_type": "error",
     "traceback": [
      "\u001b[1;31m---------------------------------------------------------------------------\u001b[0m",
      "\u001b[1;31mValueError\u001b[0m                                Traceback (most recent call last)",
      "\u001b[1;32m<ipython-input-38-d1fb8d81d2c7>\u001b[0m in \u001b[0;36m<module>\u001b[1;34m\u001b[0m\n\u001b[1;32m----> 1\u001b[1;33m \u001b[0moptimals_sb_597\u001b[0m \u001b[1;33m=\u001b[0m \u001b[0mbuiltGridSearch\u001b[0m\u001b[1;33m(\u001b[0m\u001b[0mxtrain_sb_597\u001b[0m\u001b[1;33m,\u001b[0m \u001b[0mxtest_sb_597\u001b[0m\u001b[1;33m,\u001b[0m \u001b[0mytrain_sb_597\u001b[0m\u001b[1;33m,\u001b[0m \u001b[0mytest_sb_597\u001b[0m\u001b[1;33m,\u001b[0m \u001b[0mtuned_parameters\u001b[0m\u001b[1;33m,\u001b[0m \u001b[0mscores\u001b[0m\u001b[1;33m)\u001b[0m\u001b[1;33m\u001b[0m\u001b[1;33m\u001b[0m\u001b[0m\n\u001b[0m",
      "\u001b[1;32m<ipython-input-34-26d2803334ba>\u001b[0m in \u001b[0;36mbuiltGridSearch\u001b[1;34m(X_train, X_test, y_train, y_test, tuned_parameters, scores)\u001b[0m\n\u001b[0;32m      4\u001b[0m         \u001b[0mprint\u001b[0m\u001b[1;33m(\u001b[0m\u001b[1;34m\"------- Score = \"\u001b[0m \u001b[1;33m+\u001b[0m \u001b[0mstr\u001b[0m\u001b[1;33m(\u001b[0m\u001b[0mscore\u001b[0m\u001b[1;33m)\u001b[0m \u001b[1;33m+\u001b[0m \u001b[1;34m\" ------- \\n\"\u001b[0m\u001b[1;33m)\u001b[0m\u001b[1;33m\u001b[0m\u001b[1;33m\u001b[0m\u001b[0m\n\u001b[0;32m      5\u001b[0m         \u001b[0mmodel\u001b[0m \u001b[1;33m=\u001b[0m \u001b[0mtree\u001b[0m\u001b[1;33m.\u001b[0m\u001b[0mDecisionTreeClassifier\u001b[0m\u001b[1;33m(\u001b[0m\u001b[1;33m)\u001b[0m\u001b[1;33m\u001b[0m\u001b[1;33m\u001b[0m\u001b[0m\n\u001b[1;32m----> 6\u001b[1;33m         \u001b[0mk_fold\u001b[0m \u001b[1;33m=\u001b[0m \u001b[0mStratifiedKFold\u001b[0m\u001b[1;33m(\u001b[0m\u001b[0mn_splits\u001b[0m\u001b[1;33m=\u001b[0m\u001b[1;36m5\u001b[0m\u001b[1;33m,\u001b[0m \u001b[0mrandom_state\u001b[0m\u001b[1;33m=\u001b[0m\u001b[1;36m42\u001b[0m\u001b[1;33m)\u001b[0m\u001b[1;33m\u001b[0m\u001b[1;33m\u001b[0m\u001b[0m\n\u001b[0m\u001b[0;32m      7\u001b[0m \u001b[1;33m\u001b[0m\u001b[0m\n\u001b[0;32m      8\u001b[0m         \u001b[0mprint\u001b[0m\u001b[1;33m(\u001b[0m\u001b[1;34m\"> Fold = \"\u001b[0m \u001b[1;33m+\u001b[0m \u001b[0mstr\u001b[0m\u001b[1;33m(\u001b[0m\u001b[0mk_fold\u001b[0m\u001b[1;33m)\u001b[0m \u001b[1;33m+\u001b[0m \u001b[1;34m\"\\n\"\u001b[0m\u001b[1;33m)\u001b[0m\u001b[1;33m\u001b[0m\u001b[1;33m\u001b[0m\u001b[0m\n",
      "\u001b[1;32m~\\anaconda3\\lib\\site-packages\\sklearn\\model_selection\\_split.py\u001b[0m in \u001b[0;36m__init__\u001b[1;34m(self, n_splits, shuffle, random_state)\u001b[0m\n\u001b[0;32m    642\u001b[0m \u001b[1;33m\u001b[0m\u001b[0m\n\u001b[0;32m    643\u001b[0m     \u001b[1;32mdef\u001b[0m \u001b[0m__init__\u001b[0m\u001b[1;33m(\u001b[0m\u001b[0mself\u001b[0m\u001b[1;33m,\u001b[0m \u001b[0mn_splits\u001b[0m\u001b[1;33m=\u001b[0m\u001b[1;36m5\u001b[0m\u001b[1;33m,\u001b[0m \u001b[1;33m*\u001b[0m\u001b[1;33m,\u001b[0m \u001b[0mshuffle\u001b[0m\u001b[1;33m=\u001b[0m\u001b[1;32mFalse\u001b[0m\u001b[1;33m,\u001b[0m \u001b[0mrandom_state\u001b[0m\u001b[1;33m=\u001b[0m\u001b[1;32mNone\u001b[0m\u001b[1;33m)\u001b[0m\u001b[1;33m:\u001b[0m\u001b[1;33m\u001b[0m\u001b[1;33m\u001b[0m\u001b[0m\n\u001b[1;32m--> 644\u001b[1;33m         \u001b[0msuper\u001b[0m\u001b[1;33m(\u001b[0m\u001b[1;33m)\u001b[0m\u001b[1;33m.\u001b[0m\u001b[0m__init__\u001b[0m\u001b[1;33m(\u001b[0m\u001b[0mn_splits\u001b[0m\u001b[1;33m=\u001b[0m\u001b[0mn_splits\u001b[0m\u001b[1;33m,\u001b[0m \u001b[0mshuffle\u001b[0m\u001b[1;33m=\u001b[0m\u001b[0mshuffle\u001b[0m\u001b[1;33m,\u001b[0m \u001b[0mrandom_state\u001b[0m\u001b[1;33m=\u001b[0m\u001b[0mrandom_state\u001b[0m\u001b[1;33m)\u001b[0m\u001b[1;33m\u001b[0m\u001b[1;33m\u001b[0m\u001b[0m\n\u001b[0m\u001b[0;32m    645\u001b[0m \u001b[1;33m\u001b[0m\u001b[0m\n\u001b[0;32m    646\u001b[0m     \u001b[1;32mdef\u001b[0m \u001b[0m_make_test_folds\u001b[0m\u001b[1;33m(\u001b[0m\u001b[0mself\u001b[0m\u001b[1;33m,\u001b[0m \u001b[0mX\u001b[0m\u001b[1;33m,\u001b[0m \u001b[0my\u001b[0m\u001b[1;33m=\u001b[0m\u001b[1;32mNone\u001b[0m\u001b[1;33m)\u001b[0m\u001b[1;33m:\u001b[0m\u001b[1;33m\u001b[0m\u001b[1;33m\u001b[0m\u001b[0m\n",
      "\u001b[1;32m~\\anaconda3\\lib\\site-packages\\sklearn\\model_selection\\_split.py\u001b[0m in \u001b[0;36m__init__\u001b[1;34m(self, n_splits, shuffle, random_state)\u001b[0m\n\u001b[0;32m    294\u001b[0m \u001b[1;33m\u001b[0m\u001b[0m\n\u001b[0;32m    295\u001b[0m         \u001b[1;32mif\u001b[0m \u001b[1;32mnot\u001b[0m \u001b[0mshuffle\u001b[0m \u001b[1;32mand\u001b[0m \u001b[0mrandom_state\u001b[0m \u001b[1;32mis\u001b[0m \u001b[1;32mnot\u001b[0m \u001b[1;32mNone\u001b[0m\u001b[1;33m:\u001b[0m  \u001b[1;31m# None is the default\u001b[0m\u001b[1;33m\u001b[0m\u001b[1;33m\u001b[0m\u001b[0m\n\u001b[1;32m--> 296\u001b[1;33m             raise ValueError(\n\u001b[0m\u001b[0;32m    297\u001b[0m                 \u001b[1;34m\"Setting a random_state has no effect since shuffle is \"\u001b[0m\u001b[1;33m\u001b[0m\u001b[1;33m\u001b[0m\u001b[0m\n\u001b[0;32m    298\u001b[0m                 \u001b[1;34m\"False. You should leave \"\u001b[0m\u001b[1;33m\u001b[0m\u001b[1;33m\u001b[0m\u001b[0m\n",
      "\u001b[1;31mValueError\u001b[0m: Setting a random_state has no effect since shuffle is False. You should leave random_state to its default (None), or set shuffle=True."
     ]
    }
   ],
   "source": [
    "optimals_sb_597 = builtGridSearch(xtrain_sb_597, xtest_sb_597, ytrain_sb_597, ytest_sb_597, tuned_parameters, scores)"
   ]
  },
  {
   "cell_type": "code",
   "execution_count": 39,
   "id": "6b1d7b76",
   "metadata": {},
   "outputs": [
    {
     "data": {
      "text/plain": [
       "DecisionTreeClassifier(min_samples_leaf=20, min_samples_split=10)"
      ]
     },
     "execution_count": 39,
     "metadata": {},
     "output_type": "execute_result"
    }
   ],
   "source": [
    "model_sb_597 = tree.DecisionTreeClassifier(criterion = \"gini\", max_depth = None, min_samples_leaf = 20, min_samples_split = 10)\n",
    "model_sb_597.fit(xtrain_sb_597, ytrain_sb_597)"
   ]
  },
  {
   "cell_type": "code",
   "execution_count": 40,
   "id": "ffb2a18a",
   "metadata": {},
   "outputs": [],
   "source": [
    "y_score_sb_597 = model_sb_597.predict_proba(xtest_sb_597)\n",
    "fpr0, tpr0, _ = roc_curve(ytest_sb_597, y_score_sb_597[:, 1])\n",
    "roc_auc0_dt_597_sb = auc(fpr0, tpr0)"
   ]
  },
  {
   "cell_type": "code",
   "execution_count": 41,
   "id": "5af1ee64",
   "metadata": {
    "scrolled": true
   },
   "outputs": [
    {
     "data": {
      "image/png": "[encoded data removed]",
      "text/plain": [
       "<Figure size 432x288 with 1 Axes>"
      ]
     },
     "metadata": {
      "needs_background": "light"
     },
     "output_type": "display_data"
    }
   ],
   "source": [
    "plt.plot(fpr0, tpr0, color='darkorange', lw=3, label='$AUC_0$ = %.3f' % (roc_auc0_dt_597_sb))\n",
    "plt.plot([0, 1], [0, 1], color='navy', lw=2, linestyle='--')\n",
    "plt.xlim([0.0, 1.0])\n",
    "plt.ylim([0.0, 1.05])\n",
    "plt.xlabel('False Positive Rate', fontsize=16)\n",
    "plt.ylabel('True Positive Rate', fontsize=16)\n",
    "plt.title('ROC curve', fontsize=16)\n",
    "plt.legend(loc=\"lower right\", fontsize=14, frameon=False)\n",
    "plt.tick_params(axis='both', which='major', labelsize=16)\n",
    "plt.show()"
   ]
  },
  {
   "cell_type": "markdown",
   "id": "848bf159",
   "metadata": {},
   "source": [
    "### 2 - Regressione logistica"
   ]
  },
  {
   "cell_type": "code",
   "execution_count": 42,
   "id": "1a11c79c",
   "metadata": {},
   "outputs": [],
   "source": [
    "lr = LogisticRegression()\n",
    "lr.fit(xtrain_597, ytrain_597)\n",
    "predictions = lr.predict_proba(xtest_597)"
   ]
  },
  {
   "cell_type": "code",
   "execution_count": 43,
   "id": "d1eddcf1",
   "metadata": {},
   "outputs": [
    {
     "name": "stdout",
     "output_type": "stream",
     "text": [
      "0.8748264715214977\n"
     ]
    }
   ],
   "source": [
    "y_score = lr.predict_proba(xtest_597)\n",
    "fpr0, tpr0, _ = roc_curve(ytest_597, y_score[:, 1])\n",
    "roc_auc0 = auc(fpr0, tpr0)\n",
    "print(roc_auc0)"
   ]
  },
  {
   "cell_type": "code",
   "execution_count": 44,
   "id": "ae3d5eb0",
   "metadata": {},
   "outputs": [
    {
     "data": {
      "image/png": "[encoded data removed]",
      "text/plain": [
       "<Figure size 432x288 with 1 Axes>"
      ]
     },
     "metadata": {
      "needs_background": "light"
     },
     "output_type": "display_data"
    }
   ],
   "source": [
    "plt.plot(fpr0, tpr0, color='darkorange', lw=3, label='$AUC_0$ = %.3f' % (roc_auc0))\n",
    "\n",
    "plt.plot([0, 1], [0, 1], color='navy', lw=2, linestyle='--')\n",
    "plt.xlim([0.0, 1.0])\n",
    "plt.ylim([0.0, 1.05])\n",
    "plt.xlabel('False Positive Rate', fontsize=16)\n",
    "plt.ylabel('True Positive Rate', fontsize=16)\n",
    "plt.title('ROC curve', fontsize=16)\n",
    "plt.legend(loc=\"lower right\", fontsize=14, frameon=False)\n",
    "plt.tick_params(axis='both', which='major', labelsize=16)\n",
    "plt.show()"
   ]
  },
  {
   "cell_type": "markdown",
   "id": "0da1989a",
   "metadata": {},
   "source": [
    "### 2 - Regressione Logistica_Bilanciata"
   ]
  },
  {
   "cell_type": "code",
   "execution_count": 45,
   "id": "c03d640d",
   "metadata": {},
   "outputs": [
    {
     "data": {
      "text/plain": [
       "LogisticRegression()"
      ]
     },
     "execution_count": 45,
     "metadata": {},
     "output_type": "execute_result"
    }
   ],
   "source": [
    "lr = LogisticRegression()\n",
    "lr.fit(xtrain_sb_597, ytrain_sb_597)"
   ]
  },
  {
   "cell_type": "code",
   "execution_count": 46,
   "id": "e3995aea",
   "metadata": {},
   "outputs": [
    {
     "name": "stdout",
     "output_type": "stream",
     "text": [
      "0.8838455578512396\n"
     ]
    }
   ],
   "source": [
    "y_score = lr.predict_proba(xtest_sb_597)\n",
    "fpr0, tpr0, _ = roc_curve(ytest_sb_597, y_score[:, 1])\n",
    "roc_auc0 = auc(fpr0, tpr0)\n",
    "print(roc_auc0)"
   ]
  },
  {
   "cell_type": "code",
   "execution_count": 47,
   "id": "05db3b05",
   "metadata": {},
   "outputs": [
    {
     "data": {
      "image/png": "[encoded data removed]",
      "text/plain": [
       "<Figure size 432x288 with 1 Axes>"
      ]
     },
     "metadata": {
      "needs_background": "light"
     },
     "output_type": "display_data"
    }
   ],
   "source": [
    "plt.plot(fpr0, tpr0, color='darkorange', lw=3, label='$AUC_0$ = %.3f' % (roc_auc0))\n",
    "\n",
    "plt.plot([0, 1], [0, 1], color='navy', lw=2, linestyle='--')\n",
    "plt.xlim([0.0, 1.0])\n",
    "plt.ylim([0.0, 1.05])\n",
    "plt.xlabel('False Positive Rate', fontsize=16)\n",
    "plt.ylabel('True Positive Rate', fontsize=16)\n",
    "plt.title('ROC curve', fontsize=16)\n",
    "plt.legend(loc=\"lower right\", fontsize=14, frameon=False)\n",
    "plt.tick_params(axis='both', which='major', labelsize=16)\n",
    "plt.show()"
   ]
  },
  {
   "cell_type": "markdown",
   "id": "3dc3f677",
   "metadata": {},
   "source": [
    "### 3 - LGBM"
   ]
  },
  {
   "cell_type": "code",
   "execution_count": 48,
   "id": "c85b9393",
   "metadata": {},
   "outputs": [],
   "source": [
    "new_xtrain_597, xval_597, new_ytrain_597, yval_597 = train_test_split(xtrain_597, ytrain_597, \n",
    "                                                test_size = 0.3, \n",
    "                                                random_state = 35,\n",
    "                                                stratify=ytrain_597)"
   ]
  },
  {
   "cell_type": "code",
   "execution_count": 49,
   "id": "7f7a1ec1",
   "metadata": {},
   "outputs": [],
   "source": [
    "import lightgbm as lgbm"
   ]
  },
  {
   "cell_type": "code",
   "execution_count": 50,
   "id": "e2edbd09",
   "metadata": {},
   "outputs": [
    {
     "name": "stderr",
     "output_type": "stream",
     "text": [
      "C:\\Users\\marco\\anaconda3\\lib\\site-packages\\lightgbm\\engine.py:181: UserWarning: 'early_stopping_rounds' argument is deprecated and will be removed in a future release of LightGBM. Pass 'early_stopping()' callback via 'callbacks' argument instead.\n",
      "  _log_warning(\"'early_stopping_rounds' argument is deprecated and will be removed in a future release of LightGBM. \"\n"
     ]
    },
    {
     "name": "stdout",
     "output_type": "stream",
     "text": [
      "[LightGBM] [Info] Number of positive: 575, number of negative: 934\n",
      "[LightGBM] [Warning] Auto-choosing col-wise multi-threading, the overhead of testing was 0.002623 seconds.\n",
      "You can set `force_col_wise=true` to remove the overhead.\n",
      "[LightGBM] [Info] Total Bins 15714\n",
      "[LightGBM] [Info] Number of data points in the train set: 1509, number of used features: 200\n",
      "[LightGBM] [Info] [binary:BoostFromScore]: pavg=0.381047 -> initscore=-0.485106\n",
      "[LightGBM] [Info] Start training from score -0.485106\n",
      "[LightGBM] [Warning] No further splits with positive gain, best gain: -inf\n",
      "[1]\tvalid_0's auc: 0.803874\n",
      "Training until validation scores don't improve for 20 rounds\n",
      "[LightGBM] [Warning] No further splits with positive gain, best gain: -inf\n",
      "[2]\tvalid_0's auc: 0.824296\n",
      "[LightGBM] [Warning] No further splits with positive gain, best gain: -inf\n",
      "[3]\tvalid_0's auc: 0.850992\n",
      "[LightGBM] [Warning] No further splits with positive gain, best gain: -inf\n",
      "[4]\tvalid_0's auc: 0.872382\n",
      "[LightGBM] [Warning] No further splits with positive gain, best gain: -inf\n",
      "[5]\tvalid_0's auc: 0.880512\n",
      "[LightGBM] [Warning] No further splits with positive gain, best gain: -inf\n",
      "[6]\tvalid_0's auc: 0.885809\n",
      "[7]\tvalid_0's auc: 0.88998\n",
      "[8]\tvalid_0's auc: 0.894684\n",
      "[LightGBM] [Warning] No further splits with positive gain, best gain: -inf\n",
      "[9]\tvalid_0's auc: 0.897695\n",
      "[LightGBM] [Warning] No further splits with positive gain, best gain: -inf\n",
      "[10]\tvalid_0's auc: 0.900655\n",
      "[11]\tvalid_0's auc: 0.898668\n",
      "[LightGBM] [Warning] No further splits with positive gain, best gain: -inf\n",
      "[12]\tvalid_0's auc: 0.902611\n",
      "[13]\tvalid_0's auc: 0.905622\n",
      "[14]\tvalid_0's auc: 0.90697\n",
      "[15]\tvalid_0's auc: 0.907143\n",
      "[LightGBM] [Warning] No further splits with positive gain, best gain: -inf\n",
      "[16]\tvalid_0's auc: 0.908937\n",
      "[LightGBM] [Warning] No further splits with positive gain, best gain: -inf\n",
      "[17]\tvalid_0's auc: 0.90841\n",
      "[LightGBM] [Warning] No further splits with positive gain, best gain: -inf\n",
      "[18]\tvalid_0's auc: 0.909251\n",
      "[19]\tvalid_0's auc: 0.909342\n",
      "[LightGBM] [Warning] No further splits with positive gain, best gain: -inf\n",
      "[20]\tvalid_0's auc: 0.910306\n",
      "[21]\tvalid_0's auc: 0.911552\n",
      "[LightGBM] [Warning] No further splits with positive gain, best gain: -inf\n",
      "[22]\tvalid_0's auc: 0.912891\n",
      "[LightGBM] [Warning] No further splits with positive gain, best gain: -inf\n",
      "[23]\tvalid_0's auc: 0.91504\n",
      "[LightGBM] [Warning] No further splits with positive gain, best gain: -inf\n",
      "[24]\tvalid_0's auc: 0.916489\n",
      "[LightGBM] [Warning] No further splits with positive gain, best gain: -inf\n",
      "[25]\tvalid_0's auc: 0.917361\n",
      "[LightGBM] [Warning] No further splits with positive gain, best gain: -inf\n",
      "[26]\tvalid_0's auc: 0.917645\n",
      "[LightGBM] [Warning] No further splits with positive gain, best gain: -inf\n",
      "[27]\tvalid_0's auc: 0.917168\n",
      "[28]\tvalid_0's auc: 0.918294\n",
      "[29]\tvalid_0's auc: 0.919551\n",
      "[LightGBM] [Warning] No further splits with positive gain, best gain: -inf\n",
      "[30]\tvalid_0's auc: 0.919622\n",
      "[31]\tvalid_0's auc: 0.919814\n",
      "[LightGBM] [Warning] No further splits with positive gain, best gain: -inf\n",
      "[32]\tvalid_0's auc: 0.920554\n",
      "[LightGBM] [Warning] No further splits with positive gain, best gain: -inf\n",
      "[33]\tvalid_0's auc: 0.918821\n",
      "[34]\tvalid_0's auc: 0.91799\n",
      "[LightGBM] [Warning] No further splits with positive gain, best gain: -inf\n",
      "[35]\tvalid_0's auc: 0.917716\n",
      "[36]\tvalid_0's auc: 0.916388\n",
      "[37]\tvalid_0's auc: 0.915192\n",
      "[LightGBM] [Warning] No further splits with positive gain, best gain: -inf\n",
      "[38]\tvalid_0's auc: 0.916621\n",
      "[39]\tvalid_0's auc: 0.916165\n",
      "[LightGBM] [Warning] No further splits with positive gain, best gain: -inf\n",
      "[40]\tvalid_0's auc: 0.9158\n",
      "[41]\tvalid_0's auc: 0.916489\n",
      "[42]\tvalid_0's auc: 0.918091\n",
      "[LightGBM] [Warning] No further splits with positive gain, best gain: -inf\n",
      "[43]\tvalid_0's auc: 0.919105\n",
      "[LightGBM] [Warning] No further splits with positive gain, best gain: -inf\n",
      "[44]\tvalid_0's auc: 0.919987\n",
      "[LightGBM] [Warning] No further splits with positive gain, best gain: -inf\n",
      "[45]\tvalid_0's auc: 0.9195\n",
      "[LightGBM] [Warning] No further splits with positive gain, best gain: -inf\n",
      "[46]\tvalid_0's auc: 0.919591\n",
      "[LightGBM] [Warning] No further splits with positive gain, best gain: -inf\n",
      "[47]\tvalid_0's auc: 0.920007\n",
      "[48]\tvalid_0's auc: 0.918973\n",
      "[LightGBM] [Warning] No further splits with positive gain, best gain: -inf\n",
      "[49]\tvalid_0's auc: 0.918213\n",
      "[50]\tvalid_0's auc: 0.918142\n",
      "[LightGBM] [Warning] No further splits with positive gain, best gain: -inf\n",
      "[51]\tvalid_0's auc: 0.918172\n",
      "[LightGBM] [Warning] No further splits with positive gain, best gain: -inf\n",
      "[52]\tvalid_0's auc: 0.918061\n",
      "Early stopping, best iteration is:\n",
      "[32]\tvalid_0's auc: 0.920554\n"
     ]
    }
   ],
   "source": [
    "train_data = lgbm.Dataset(new_xtrain_597, new_ytrain_597)\n",
    "test_data = lgbm.Dataset(xval_597, yval_597)\n",
    "\n",
    "# define parameters\n",
    "parameters = {\n",
    "    'objective': 'binary',\n",
    "    'metric': 'auc',\n",
    "    'is_unbalance': 'true',\n",
    "    'feature_fraction': 0.5,\n",
    "    'bagging_fraction': 0.5,\n",
    "    'bagging_freq': 20,\n",
    "    'num_threads' : 2,\n",
    "    'seed' : 76\n",
    "}\n",
    "\n",
    "# train lightGBM model\n",
    "model = lgbm.train(parameters,\n",
    "                   train_data,\n",
    "                   valid_sets=test_data,\n",
    "                   num_boost_round=1000,\n",
    "                   early_stopping_rounds=20)\n",
    "\n",
    "y_pred = model.predict(xtest_597)"
   ]
  },
  {
   "cell_type": "code",
   "execution_count": 51,
   "id": "0555e415",
   "metadata": {},
   "outputs": [
    {
     "data": {
      "text/plain": [
       "array([0.02784735, 0.03451315, 0.93262568, 0.87076399, 0.03276709,\n",
       "       0.02684692, 0.96023263, 0.07250399, 0.56716608, 0.0727544 ,\n",
       "       0.85233175, 0.94653231, 0.82921796, 0.55859149, 0.03487478,\n",
       "       0.37539393, 0.02767673, 0.8328968 , 0.95836849, 0.56808066,\n",
       "       0.29780355, 0.95320167, 0.16035027, 0.92625521, 0.91498906,\n",
       "       0.76836766, 0.18164972, 0.6480838 , 0.58091546, 0.08415868,\n",
       "       0.96605965, 0.12935268, 0.0585266 , 0.61983314, 0.75294517,\n",
       "       0.4650537 , 0.32606865, 0.03121468, 0.02340865, 0.04212751,\n",
       "       0.66754839, 0.88417749, 0.5767976 , 0.07455013, 0.81368593,\n",
       "       0.30900359, 0.09931975, 0.77451057, 0.16054006, 0.07597932,\n",
       "       0.13061675, 0.51658192, 0.16975247, 0.92887351, 0.05136405,\n",
       "       0.38646086, 0.88033852, 0.04427943, 0.07095067, 0.11286805,\n",
       "       0.19263879, 0.93957917, 0.19049568, 0.07729283, 0.10687245,\n",
       "       0.06886669, 0.58562254, 0.81723155, 0.7948343 , 0.11607752,\n",
       "       0.03312402, 0.03482923, 0.07880838, 0.39162854, 0.02091526,\n",
       "       0.13372604, 0.01741995, 0.33436296, 0.41251759, 0.91705775,\n",
       "       0.1722577 , 0.11277531, 0.02451019, 0.33632693, 0.73113329,\n",
       "       0.04595811, 0.79736598, 0.1083898 , 0.05554778, 0.15287522,\n",
       "       0.15127226, 0.64847937, 0.0195112 , 0.13789107, 0.05360115,\n",
       "       0.44065922, 0.1074737 , 0.24834555, 0.97889442, 0.54460023,\n",
       "       0.18966962, 0.03513159, 0.34394636, 0.20032119, 0.79708251,\n",
       "       0.08720507, 0.05401884, 0.32679083, 0.5834691 , 0.03145742,\n",
       "       0.94692819, 0.12938961, 0.21996743, 0.05237927, 0.11709095,\n",
       "       0.43932983, 0.06416704, 0.05146523, 0.26698111, 0.02015108,\n",
       "       0.02773816, 0.90229166, 0.29140059, 0.01898901, 0.06810608,\n",
       "       0.89799496, 0.20457793, 0.63764582, 0.06802719, 0.13911426,\n",
       "       0.08677601, 0.15616559, 0.11737701, 0.59103787, 0.06590634,\n",
       "       0.14251081, 0.88514651, 0.37120364, 0.73942805, 0.94430724,\n",
       "       0.77086027, 0.07505699, 0.62387412, 0.57448287, 0.07870316,\n",
       "       0.85454482, 0.14254295, 0.88197977, 0.06479446, 0.0470248 ,\n",
       "       0.53368614, 0.3079387 , 0.85315014, 0.18559133, 0.49662404,\n",
       "       0.4557728 , 0.70210054, 0.1538728 , 0.02558292, 0.02056954,\n",
       "       0.04263474, 0.09013381, 0.44671416, 0.93809541, 0.71636919,\n",
       "       0.0267301 , 0.19743724, 0.43107659, 0.94131581, 0.234676  ,\n",
       "       0.10447973, 0.11028107, 0.20911747, 0.72084131, 0.05620201,\n",
       "       0.79990905, 0.71894157, 0.09158902, 0.26866656, 0.94605113,\n",
       "       0.12069137, 0.22280847, 0.86815688, 0.19598889, 0.03493856,\n",
       "       0.19604142, 0.02871028, 0.81780965, 0.11008996, 0.82716461,\n",
       "       0.41449374, 0.91249802, 0.0768285 , 0.28619528, 0.05636564,\n",
       "       0.03579425, 0.96081448, 0.04890539, 0.16696845, 0.87555062,\n",
       "       0.05261843, 0.05219525, 0.0532239 , 0.88163227, 0.26736851,\n",
       "       0.16234563, 0.04654385, 0.38999981, 0.44594719, 0.95130447,\n",
       "       0.61289085, 0.40225378, 0.91727646, 0.37531321, 0.89132997,\n",
       "       0.33058587, 0.0262805 , 0.89008071, 0.91182242, 0.06854044,\n",
       "       0.0518731 , 0.88918518, 0.91238187, 0.03192216, 0.88599309,\n",
       "       0.5528941 , 0.08509898, 0.72751255, 0.06388737, 0.11495511,\n",
       "       0.72744231, 0.02746599, 0.01402828, 0.9301434 , 0.43249526,\n",
       "       0.14146624, 0.18475797, 0.22030487, 0.19563097, 0.10158752,\n",
       "       0.12415865, 0.35881258, 0.71267476, 0.82080101, 0.05453289,\n",
       "       0.75557202, 0.11575791, 0.14314356, 0.30586525, 0.05026138,\n",
       "       0.06029722, 0.19908318, 0.09605462, 0.82343812, 0.14152744,\n",
       "       0.05001642, 0.2096095 , 0.10978572, 0.03474139, 0.09671397,\n",
       "       0.09580939, 0.39329686, 0.64549082, 0.27330526, 0.66607822,\n",
       "       0.71002865, 0.74895537, 0.12085242, 0.57527425, 0.13291104,\n",
       "       0.15388179, 0.07262565, 0.05484328, 0.85733504, 0.09639136,\n",
       "       0.2969967 , 0.95741974, 0.03314165, 0.12927399, 0.20831804,\n",
       "       0.28718339, 0.58374173, 0.04639387, 0.29381427, 0.8679166 ,\n",
       "       0.08484304, 0.69673236, 0.9704892 , 0.89493044, 0.35522475,\n",
       "       0.36235912, 0.07266478, 0.21305902, 0.32372547, 0.18983768,\n",
       "       0.37710516, 0.47013973, 0.12955736, 0.12265541, 0.11099498,\n",
       "       0.16402128, 0.91205099, 0.02329775, 0.76726143, 0.2431994 ,\n",
       "       0.47802478, 0.07993755, 0.09911949, 0.82249972, 0.85892007,\n",
       "       0.45413449, 0.91284627, 0.37094327, 0.83706075, 0.37570353,\n",
       "       0.0344873 , 0.82382541, 0.36919046, 0.86593064, 0.68660447,\n",
       "       0.61636725, 0.20009807, 0.93833929, 0.76859981, 0.91095666,\n",
       "       0.77650463, 0.92617801, 0.68118327, 0.11984772, 0.05392933,\n",
       "       0.41993346, 0.18742995, 0.59048054, 0.26150214, 0.18346404,\n",
       "       0.27253643, 0.84235152, 0.10744498, 0.32500466, 0.65358626,\n",
       "       0.0319931 , 0.67144299, 0.11565003, 0.02478785, 0.94576401,\n",
       "       0.07129128, 0.24341778, 0.14990103, 0.10260909, 0.10317508,\n",
       "       0.95143829, 0.07028289, 0.09855334, 0.03941733, 0.0910261 ,\n",
       "       0.38149316, 0.07645231, 0.21610548, 0.24325645, 0.91341825,\n",
       "       0.19200891, 0.87527561, 0.03842575, 0.57719267, 0.0430233 ,\n",
       "       0.83856933, 0.91710654, 0.92861217, 0.06789006, 0.65815855,\n",
       "       0.27420118, 0.25351436, 0.31802955, 0.96507795, 0.02945197,\n",
       "       0.01911876, 0.60879665, 0.07372747, 0.95856498, 0.02552315,\n",
       "       0.88796635, 0.09903168, 0.36854862, 0.17530307, 0.95427057,\n",
       "       0.28314798, 0.90144833, 0.27141281, 0.09323608, 0.05404106,\n",
       "       0.89007317, 0.9504025 , 0.52708963, 0.22487862, 0.6800771 ,\n",
       "       0.22750319, 0.91219731, 0.14175629, 0.01775272, 0.43302658,\n",
       "       0.02804462, 0.69178085, 0.76851196, 0.70172167, 0.17346013,\n",
       "       0.64280172, 0.82217456, 0.86441828, 0.34347203, 0.25249178,\n",
       "       0.72105221, 0.80690574, 0.37016828, 0.38834949, 0.04403597,\n",
       "       0.04752839, 0.07897764, 0.0915538 , 0.36731696, 0.26642378,\n",
       "       0.0462925 , 0.90237806, 0.03702419, 0.32873703, 0.52466513,\n",
       "       0.11422708, 0.45339235, 0.06947329, 0.02393129, 0.05452569,\n",
       "       0.10686845, 0.75177543, 0.26811684, 0.21644684, 0.20180056,\n",
       "       0.51719282, 0.79734528, 0.49538421, 0.30192756, 0.87444711,\n",
       "       0.67229045, 0.92645776, 0.90741969, 0.90270336, 0.31054335,\n",
       "       0.06202729, 0.04582577, 0.77259444, 0.05113718, 0.46578179,\n",
       "       0.18327261, 0.29829816, 0.02688635, 0.95446744, 0.37710131,\n",
       "       0.68464563, 0.66496263, 0.03375706, 0.37034755, 0.74856558,\n",
       "       0.30652452, 0.11094723, 0.05679836, 0.89458362, 0.07234458,\n",
       "       0.50022195, 0.21665635, 0.92957475, 0.05678377, 0.68868517,\n",
       "       0.0358135 , 0.11898117, 0.94009106, 0.64006759, 0.77016022,\n",
       "       0.04580495, 0.25160767, 0.45154016, 0.82776454, 0.08701141,\n",
       "       0.1334704 , 0.58778659, 0.51119147, 0.51504241, 0.11936287,\n",
       "       0.93918449, 0.36136776, 0.39797086, 0.08587326, 0.7170884 ,\n",
       "       0.56171455, 0.08180784, 0.31255657, 0.26187595, 0.06921643,\n",
       "       0.26821841, 0.93871479, 0.76344654, 0.15831399, 0.91556874,\n",
       "       0.80403544, 0.06115545, 0.48594531, 0.59309533, 0.91314258,\n",
       "       0.03883788, 0.88558669, 0.85084251, 0.05103392, 0.20786891,\n",
       "       0.68122183, 0.8812206 , 0.06596949, 0.79723122, 0.91854816,\n",
       "       0.85122906, 0.28940287, 0.91830066, 0.95710136, 0.53467916,\n",
       "       0.04297651, 0.71305277, 0.1086384 , 0.21739158, 0.08278916,\n",
       "       0.92974412, 0.77427336, 0.95074524, 0.21814511, 0.03267521,\n",
       "       0.06263131, 0.56794705, 0.30152876, 0.25545736, 0.45990634,\n",
       "       0.27394353, 0.77773894, 0.07426886, 0.6520952 , 0.16815054,\n",
       "       0.14399586, 0.21057311, 0.07765597, 0.20335898, 0.10233776,\n",
       "       0.78670473, 0.16375717, 0.02065179, 0.79401348, 0.44946244,\n",
       "       0.8939929 , 0.39914109, 0.50155484, 0.10905065, 0.03419737,\n",
       "       0.65811629, 0.95127251, 0.93040528, 0.21596215, 0.95327886,\n",
       "       0.85824181, 0.11157612, 0.15821974, 0.76400505, 0.08848498,\n",
       "       0.10673939, 0.08957493, 0.1132045 , 0.06100812, 0.55488861,\n",
       "       0.50293145, 0.77728067, 0.0612453 , 0.07218915, 0.15153511,\n",
       "       0.3189242 , 0.06257105, 0.29267137, 0.04335808, 0.05970835,\n",
       "       0.03820093, 0.13505258, 0.08288736, 0.90082901, 0.06098098,\n",
       "       0.1532539 , 0.83958613, 0.93416895, 0.48238444, 0.01743389,\n",
       "       0.77620041, 0.66020405, 0.08170412, 0.94234075, 0.12344451,\n",
       "       0.12951409, 0.88320214, 0.88970367, 0.6842172 , 0.09114995,\n",
       "       0.09125507, 0.20084444, 0.08563328, 0.35434188, 0.83476735,\n",
       "       0.9211879 , 0.82398895, 0.53461228, 0.10991837, 0.17957114,\n",
       "       0.6325598 , 0.80688961, 0.10954841, 0.13196065, 0.20298237,\n",
       "       0.87688868, 0.07310027, 0.22103849, 0.89888036, 0.05605948,\n",
       "       0.35751876, 0.15217791, 0.09696953, 0.20630567, 0.07370538,\n",
       "       0.28374019, 0.38929972, 0.82151284, 0.05613125, 0.70465185,\n",
       "       0.04035281, 0.05420652, 0.04230095, 0.8993124 , 0.02033748,\n",
       "       0.32180908, 0.03488787, 0.02636672, 0.81465146, 0.75318269,\n",
       "       0.04636396, 0.48863927, 0.89248235, 0.91691059, 0.86882382,\n",
       "       0.04755329, 0.0805752 , 0.04996555, 0.0199438 , 0.17274168,\n",
       "       0.44742509, 0.06897947, 0.0990468 , 0.48885656, 0.24309149,\n",
       "       0.15157981, 0.67427343, 0.11203308, 0.33501268, 0.11193215,\n",
       "       0.82017199, 0.90713249, 0.37864499, 0.03264096, 0.13844132,\n",
       "       0.37791163, 0.0199713 , 0.44751751, 0.28793085, 0.13123164,\n",
       "       0.52450183, 0.05943684, 0.96142207, 0.01896796, 0.84647769,\n",
       "       0.64390981, 0.06991641, 0.28512608, 0.94403499, 0.57256402,\n",
       "       0.02506564, 0.08874456, 0.36094387, 0.10716082, 0.28250746,\n",
       "       0.08067822, 0.21233492, 0.11714592, 0.72691768, 0.21593084,\n",
       "       0.61402226, 0.07632245, 0.15392434, 0.71909756, 0.38515259,\n",
       "       0.36508999, 0.85077254, 0.96261898, 0.07120806, 0.60985452,\n",
       "       0.14594715, 0.06491694, 0.25410754, 0.078803  , 0.87771051,\n",
       "       0.05398133, 0.36644435, 0.53532938, 0.43721851, 0.35290237,\n",
       "       0.8434997 , 0.72068154, 0.06426389, 0.78951533, 0.68282002,\n",
       "       0.84569187, 0.02434534, 0.06395002, 0.17878394, 0.23138695,\n",
       "       0.25503875, 0.04272529, 0.17521246, 0.06418449, 0.95678976,\n",
       "       0.20387843, 0.11998248, 0.15576713, 0.03607989, 0.78499331,\n",
       "       0.0245121 , 0.60204134, 0.87792919, 0.08150301, 0.91043483,\n",
       "       0.38066531, 0.17814206, 0.03054777, 0.04080799, 0.91282716,\n",
       "       0.02573994, 0.44566402, 0.94409571, 0.09589867, 0.97482084,\n",
       "       0.02611555, 0.16534722, 0.03934127, 0.05158507, 0.92445689,\n",
       "       0.38468978, 0.40971602, 0.3161357 , 0.83024063, 0.44650025,\n",
       "       0.05918132, 0.05896415, 0.91137546, 0.93435485, 0.89409953,\n",
       "       0.16498613, 0.76105021, 0.95515559, 0.09078369, 0.0424585 ,\n",
       "       0.41571526, 0.90201043, 0.07335877, 0.04127608, 0.04372542,\n",
       "       0.10253234, 0.94267263, 0.20880639, 0.81223609, 0.77757801,\n",
       "       0.8125986 , 0.51505523, 0.74678762, 0.17490942, 0.50569672,\n",
       "       0.58904737, 0.03397314, 0.04780762, 0.16718131, 0.51800279,\n",
       "       0.04575648, 0.21505976, 0.14031954, 0.59579987, 0.20110143,\n",
       "       0.78253665, 0.0157534 , 0.58040247, 0.29715973, 0.11508454,\n",
       "       0.05571034, 0.04408097, 0.83165243, 0.64851433, 0.77983584,\n",
       "       0.29059044, 0.08569766, 0.05108864, 0.29974729, 0.14647337,\n",
       "       0.02235386, 0.1509824 , 0.93097591, 0.9059406 , 0.95785708,\n",
       "       0.12019303, 0.09281262, 0.2230026 , 0.12322597, 0.23541901,\n",
       "       0.352215  , 0.09045269, 0.05297459, 0.07045258, 0.73333627,\n",
       "       0.04133508, 0.04859253, 0.76529472, 0.26432368, 0.6638539 ,\n",
       "       0.04225032, 0.20855234, 0.03827598, 0.08093942, 0.64205221,\n",
       "       0.16910412, 0.50806629, 0.11972183, 0.09062569, 0.58221028,\n",
       "       0.30326787, 0.69469727, 0.90460939, 0.19031379, 0.80606843,\n",
       "       0.24329161, 0.04041493, 0.04531504, 0.95451919, 0.10324968,\n",
       "       0.60406622, 0.14576242, 0.06141499, 0.0549355 , 0.10752675,\n",
       "       0.71069211, 0.64359733, 0.07329185, 0.85393992, 0.02854016,\n",
       "       0.02076882, 0.74088416, 0.23457789, 0.67474922, 0.25501119,\n",
       "       0.19245016, 0.45670983, 0.66020882, 0.34670027, 0.13258097,\n",
       "       0.17110636, 0.03682232, 0.02472201, 0.04024308, 0.76910039,\n",
       "       0.88273906, 0.8671093 , 0.0201927 , 0.12936591, 0.02736543,\n",
       "       0.05898013, 0.12029763, 0.08221557, 0.23682725, 0.91297792,\n",
       "       0.09629213, 0.15566806, 0.1497223 , 0.10743493, 0.1123757 ,\n",
       "       0.88870767, 0.90538422, 0.51734754, 0.04403435, 0.84851486,\n",
       "       0.94578598, 0.31389104, 0.91730861, 0.78522009, 0.9669967 ,\n",
       "       0.14776633, 0.02779865, 0.08140685, 0.52305108, 0.80813103,\n",
       "       0.13640853, 0.90968444, 0.11987601, 0.91994837, 0.08679262,\n",
       "       0.04200471, 0.96256798, 0.05427368, 0.14963498, 0.21029503,\n",
       "       0.1585275 , 0.19664421, 0.24978491, 0.02837401, 0.0375047 ,\n",
       "       0.06479171, 0.6238312 , 0.55639045, 0.94189361, 0.7677121 ,\n",
       "       0.96051195, 0.78808336, 0.03314866, 0.52493591, 0.6304285 ])"
      ]
     },
     "execution_count": 51,
     "metadata": {},
     "output_type": "execute_result"
    }
   ],
   "source": [
    "y_pred"
   ]
  },
  {
   "cell_type": "code",
   "execution_count": 52,
   "id": "2e899c9a",
   "metadata": {},
   "outputs": [
    {
     "name": "stdout",
     "output_type": "stream",
     "text": [
      "0.9378073933047755\n"
     ]
    }
   ],
   "source": [
    "fpr0, tpr0, _ = roc_curve(ytest_597, y_pred)\n",
    "roc_auc_lgbm = auc(fpr0, tpr0)\n",
    "print(roc_auc_lgbm)"
   ]
  },
  {
   "cell_type": "markdown",
   "id": "321376fe",
   "metadata": {},
   "source": [
    "### 3 - LGBM_Bilanciato"
   ]
  },
  {
   "cell_type": "code",
   "execution_count": 53,
   "id": "437d0f85",
   "metadata": {},
   "outputs": [],
   "source": [
    "new_xtrain_sb_597, xval_sb_597, new_ytrain_sb_597, yval_sb_597 = train_test_split(xtrain_sb_597, ytrain_sb_597, \n",
    "                                                test_size = 0.3, \n",
    "                                                random_state = 35,\n",
    "                                                stratify=ytrain_sb_597)"
   ]
  },
  {
   "cell_type": "code",
   "execution_count": 54,
   "id": "a1db120e",
   "metadata": {},
   "outputs": [
    {
     "name": "stderr",
     "output_type": "stream",
     "text": [
      "C:\\Users\\marco\\anaconda3\\lib\\site-packages\\lightgbm\\engine.py:181: UserWarning: 'early_stopping_rounds' argument is deprecated and will be removed in a future release of LightGBM. Pass 'early_stopping()' callback via 'callbacks' argument instead.\n",
      "  _log_warning(\"'early_stopping_rounds' argument is deprecated and will be removed in a future release of LightGBM. \"\n"
     ]
    },
    {
     "name": "stdout",
     "output_type": "stream",
     "text": [
      "[LightGBM] [Info] Number of positive: 574, number of negative: 575\n",
      "[LightGBM] [Warning] Auto-choosing col-wise multi-threading, the overhead of testing was 0.001641 seconds.\n",
      "You can set `force_col_wise=true` to remove the overhead.\n",
      "[LightGBM] [Info] Total Bins 15634\n",
      "[LightGBM] [Info] Number of data points in the train set: 1149, number of used features: 200\n",
      "[LightGBM] [Info] [binary:BoostFromScore]: pavg=0.499565 -> initscore=-0.001741\n",
      "[LightGBM] [Info] Start training from score -0.001741\n",
      "[LightGBM] [Warning] No further splits with positive gain, best gain: -inf\n",
      "[1]\tvalid_0's auc: 0.822373\n",
      "Training until validation scores don't improve for 20 rounds\n",
      "[LightGBM] [Warning] No further splits with positive gain, best gain: -inf\n",
      "[2]\tvalid_0's auc: 0.849536\n",
      "[LightGBM] [Warning] No further splits with positive gain, best gain: -inf\n",
      "[3]\tvalid_0's auc: 0.854588\n",
      "[LightGBM] [Warning] No further splits with positive gain, best gain: -inf\n",
      "[4]\tvalid_0's auc: 0.872552\n",
      "[LightGBM] [Warning] No further splits with positive gain, best gain: -inf\n",
      "[5]\tvalid_0's auc: 0.887709\n",
      "[LightGBM] [Warning] No further splits with positive gain, best gain: -inf\n",
      "[6]\tvalid_0's auc: 0.890252\n",
      "[LightGBM] [Warning] No further splits with positive gain, best gain: -inf\n",
      "[7]\tvalid_0's auc: 0.889725\n",
      "[LightGBM] [Warning] No further splits with positive gain, best gain: -inf\n",
      "[8]\tvalid_0's auc: 0.894367\n",
      "[LightGBM] [Warning] No further splits with positive gain, best gain: -inf\n",
      "[9]\tvalid_0's auc: 0.8937\n",
      "[LightGBM] [Warning] No further splits with positive gain, best gain: -inf\n",
      "[10]\tvalid_0's auc: 0.900201\n",
      "[LightGBM] [Warning] No further splits with positive gain, best gain: -inf\n",
      "[11]\tvalid_0's auc: 0.901748\n",
      "[LightGBM] [Warning] No further splits with positive gain, best gain: -inf\n",
      "[12]\tvalid_0's auc: 0.904529\n",
      "[LightGBM] [Warning] No further splits with positive gain, best gain: -inf\n",
      "[13]\tvalid_0's auc: 0.907524\n",
      "[LightGBM] [Warning] No further splits with positive gain, best gain: -inf\n",
      "[14]\tvalid_0's auc: 0.907623\n",
      "[LightGBM] [Warning] No further splits with positive gain, best gain: -inf\n",
      "[15]\tvalid_0's auc: 0.908314\n",
      "[LightGBM] [Warning] No further splits with positive gain, best gain: -inf\n",
      "[16]\tvalid_0's auc: 0.908923\n",
      "[LightGBM] [Warning] No further splits with positive gain, best gain: -inf\n",
      "[17]\tvalid_0's auc: 0.906948\n",
      "[LightGBM] [Warning] No further splits with positive gain, best gain: -inf\n",
      "[18]\tvalid_0's auc: 0.907524\n",
      "[LightGBM] [Warning] No further splits with positive gain, best gain: -inf\n",
      "[19]\tvalid_0's auc: 0.907673\n",
      "[LightGBM] [Warning] No further splits with positive gain, best gain: -inf\n",
      "[20]\tvalid_0's auc: 0.908775\n",
      "[LightGBM] [Warning] No further splits with positive gain, best gain: -inf\n",
      "[21]\tvalid_0's auc: 0.910536\n",
      "[LightGBM] [Warning] No further splits with positive gain, best gain: -inf\n",
      "[22]\tvalid_0's auc: 0.91312\n",
      "[LightGBM] [Warning] No further splits with positive gain, best gain: -inf\n",
      "[23]\tvalid_0's auc: 0.91391\n",
      "[LightGBM] [Warning] No further splits with positive gain, best gain: -inf\n",
      "[24]\tvalid_0's auc: 0.915885\n",
      "[LightGBM] [Warning] No further splits with positive gain, best gain: -inf\n",
      "[25]\tvalid_0's auc: 0.916593\n",
      "[LightGBM] [Warning] No further splits with positive gain, best gain: -inf\n",
      "[26]\tvalid_0's auc: 0.918436\n",
      "[LightGBM] [Warning] No further splits with positive gain, best gain: -inf\n",
      "[27]\tvalid_0's auc: 0.917234\n",
      "[LightGBM] [Warning] No further splits with positive gain, best gain: -inf\n",
      "[28]\tvalid_0's auc: 0.918238\n",
      "[LightGBM] [Warning] No further splits with positive gain, best gain: -inf\n",
      "[29]\tvalid_0's auc: 0.918156\n",
      "[LightGBM] [Warning] No further splits with positive gain, best gain: -inf\n",
      "[30]\tvalid_0's auc: 0.917547\n",
      "[LightGBM] [Warning] No further splits with positive gain, best gain: -inf\n",
      "[31]\tvalid_0's auc: 0.919703\n",
      "[LightGBM] [Warning] No further splits with positive gain, best gain: -inf\n",
      "[32]\tvalid_0's auc: 0.920888\n",
      "[LightGBM] [Warning] No further splits with positive gain, best gain: -inf\n",
      "[33]\tvalid_0's auc: 0.920345\n",
      "[LightGBM] [Warning] No further splits with positive gain, best gain: -inf\n",
      "[34]\tvalid_0's auc: 0.921662\n",
      "[LightGBM] [Warning] No further splits with positive gain, best gain: -inf\n",
      "[35]\tvalid_0's auc: 0.922369\n",
      "[LightGBM] [Warning] No further splits with positive gain, best gain: -inf\n",
      "[36]\tvalid_0's auc: 0.923209\n",
      "[LightGBM] [Warning] No further splits with positive gain, best gain: -inf\n",
      "[37]\tvalid_0's auc: 0.922484\n",
      "[LightGBM] [Warning] No further splits with positive gain, best gain: -inf\n",
      "[38]\tvalid_0's auc: 0.922484\n",
      "[LightGBM] [Warning] No further splits with positive gain, best gain: -inf\n",
      "[39]\tvalid_0's auc: 0.922945\n",
      "[LightGBM] [Warning] No further splits with positive gain, best gain: -inf\n",
      "[40]\tvalid_0's auc: 0.922172\n",
      "[LightGBM] [Warning] No further splits with positive gain, best gain: -inf\n",
      "[41]\tvalid_0's auc: 0.923258\n",
      "[LightGBM] [Warning] No further splits with positive gain, best gain: -inf\n",
      "[42]\tvalid_0's auc: 0.925035\n",
      "[LightGBM] [Warning] No further splits with positive gain, best gain: -inf\n",
      "[43]\tvalid_0's auc: 0.925825\n",
      "[LightGBM] [Warning] No further splits with positive gain, best gain: -inf\n",
      "[44]\tvalid_0's auc: 0.925546\n",
      "[LightGBM] [Warning] No further splits with positive gain, best gain: -inf\n",
      "[45]\tvalid_0's auc: 0.9265\n",
      "[LightGBM] [Warning] No further splits with positive gain, best gain: -inf\n",
      "[46]\tvalid_0's auc: 0.925842\n",
      "[LightGBM] [Warning] No further splits with positive gain, best gain: -inf\n",
      "[47]\tvalid_0's auc: 0.925644\n",
      "[LightGBM] [Warning] No further splits with positive gain, best gain: -inf\n",
      "[48]\tvalid_0's auc: 0.926533\n",
      "[LightGBM] [Warning] No further splits with positive gain, best gain: -inf\n",
      "[49]\tvalid_0's auc: 0.925908\n",
      "[LightGBM] [Warning] No further splits with positive gain, best gain: -inf\n",
      "[50]\tvalid_0's auc: 0.926204\n",
      "[LightGBM] [Warning] No further splits with positive gain, best gain: -inf\n",
      "[51]\tvalid_0's auc: 0.927208\n",
      "[LightGBM] [Warning] No further splits with positive gain, best gain: -inf\n",
      "[52]\tvalid_0's auc: 0.926615\n",
      "[LightGBM] [Warning] No further splits with positive gain, best gain: -inf\n",
      "[53]\tvalid_0's auc: 0.926319\n",
      "[LightGBM] [Warning] No further splits with positive gain, best gain: -inf\n",
      "[54]\tvalid_0's auc: 0.926368\n",
      "[LightGBM] [Warning] No further splits with positive gain, best gain: -inf\n",
      "[55]\tvalid_0's auc: 0.927043\n",
      "[LightGBM] [Warning] No further splits with positive gain, best gain: -inf\n",
      "[56]\tvalid_0's auc: 0.92706\n",
      "[LightGBM] [Warning] No further splits with positive gain, best gain: -inf\n",
      "[57]\tvalid_0's auc: 0.927553\n",
      "[LightGBM] [Warning] No further splits with positive gain, best gain: -inf\n",
      "[58]\tvalid_0's auc: 0.927685\n",
      "[LightGBM] [Warning] No further splits with positive gain, best gain: -inf\n",
      "[59]\tvalid_0's auc: 0.927915\n",
      "[LightGBM] [Warning] No further splits with positive gain, best gain: -inf\n",
      "[60]\tvalid_0's auc: 0.926599\n",
      "[LightGBM] [Warning] No further splits with positive gain, best gain: -inf\n",
      "[61]\tvalid_0's auc: 0.927603\n",
      "[LightGBM] [Warning] No further splits with positive gain, best gain: -inf\n",
      "[62]\tvalid_0's auc: 0.928047\n",
      "[LightGBM] [Warning] No further splits with positive gain, best gain: -inf\n",
      "[63]\tvalid_0's auc: 0.926928\n",
      "[LightGBM] [Warning] No further splits with positive gain, best gain: -inf\n",
      "[64]\tvalid_0's auc: 0.928212\n",
      "[LightGBM] [Warning] No further splits with positive gain, best gain: -inf\n",
      "[65]\tvalid_0's auc: 0.928179\n",
      "[LightGBM] [Warning] No further splits with positive gain, best gain: -inf\n",
      "[66]\tvalid_0's auc: 0.928113\n",
      "[LightGBM] [Warning] No further splits with positive gain, best gain: -inf\n",
      "[67]\tvalid_0's auc: 0.928475\n",
      "[LightGBM] [Warning] No further splits with positive gain, best gain: -inf\n",
      "[68]\tvalid_0's auc: 0.928195\n",
      "[LightGBM] [Warning] No further splits with positive gain, best gain: -inf\n",
      "[69]\tvalid_0's auc: 0.927998\n",
      "[LightGBM] [Warning] No further splits with positive gain, best gain: -inf\n",
      "[70]\tvalid_0's auc: 0.927734\n",
      "[LightGBM] [Warning] No further splits with positive gain, best gain: -inf\n",
      "[71]\tvalid_0's auc: 0.927389\n",
      "[LightGBM] [Warning] No further splits with positive gain, best gain: -inf\n",
      "[72]\tvalid_0's auc: 0.927372\n",
      "[LightGBM] [Warning] No further splits with positive gain, best gain: -inf\n",
      "[73]\tvalid_0's auc: 0.926072\n",
      "[LightGBM] [Warning] No further splits with positive gain, best gain: -inf\n",
      "[74]\tvalid_0's auc: 0.925052\n",
      "[LightGBM] [Warning] No further splits with positive gain, best gain: -inf\n",
      "[75]\tvalid_0's auc: 0.925002\n",
      "[LightGBM] [Warning] No further splits with positive gain, best gain: -inf\n",
      "[76]\tvalid_0's auc: 0.924509\n",
      "[LightGBM] [Warning] No further splits with positive gain, best gain: -inf\n",
      "[77]\tvalid_0's auc: 0.924394\n",
      "[LightGBM] [Warning] No further splits with positive gain, best gain: -inf\n",
      "[78]\tvalid_0's auc: 0.924328\n",
      "[LightGBM] [Warning] No further splits with positive gain, best gain: -inf\n",
      "[79]\tvalid_0's auc: 0.923999\n",
      "[LightGBM] [Warning] No further splits with positive gain, best gain: -inf\n",
      "[80]\tvalid_0's auc: 0.922797\n",
      "[LightGBM] [Warning] No further splits with positive gain, best gain: -inf\n",
      "[81]\tvalid_0's auc: 0.922106\n",
      "[LightGBM] [Warning] No further splits with positive gain, best gain: -inf\n",
      "[82]\tvalid_0's auc: 0.923785\n",
      "[LightGBM] [Warning] No further splits with positive gain, best gain: -inf\n",
      "[83]\tvalid_0's auc: 0.9239\n",
      "[LightGBM] [Warning] No further splits with positive gain, best gain: -inf\n",
      "[84]\tvalid_0's auc: 0.924706\n",
      "[LightGBM] [Warning] No further splits with positive gain, best gain: -inf\n",
      "[85]\tvalid_0's auc: 0.924558\n",
      "[LightGBM] [Warning] No further splits with positive gain, best gain: -inf\n",
      "[86]\tvalid_0's auc: 0.925414\n",
      "[LightGBM] [Warning] No further splits with positive gain, best gain: -inf\n",
      "[87]\tvalid_0's auc: 0.924789\n",
      "Early stopping, best iteration is:\n",
      "[67]\tvalid_0's auc: 0.928475\n"
     ]
    }
   ],
   "source": [
    "train_data = lgbm.Dataset(new_xtrain_sb_597, new_ytrain_sb_597)\n",
    "test_data = lgbm.Dataset(xval_sb_597, yval_sb_597)\n",
    "\n",
    "# define parameters\n",
    "parameters = {\n",
    "    'objective': 'binary',\n",
    "    'metric': 'auc',\n",
    "    'is_unbalance': 'false',\n",
    "    'feature_fraction': 0.5,\n",
    "    'bagging_fraction': 0.5,\n",
    "    'bagging_freq': 20,\n",
    "    'num_threads' : 2,\n",
    "    'seed' : 76\n",
    "}\n",
    "\n",
    "# train lightGBM model\n",
    "model = lgbm.train(parameters,\n",
    "                   train_data,\n",
    "                   valid_sets=test_data,\n",
    "                   num_boost_round=1000,\n",
    "                   early_stopping_rounds=20)\n",
    "y_pred = model.predict(xtest_sb_597)"
   ]
  },
  {
   "cell_type": "code",
   "execution_count": 55,
   "id": "a12df862",
   "metadata": {},
   "outputs": [
    {
     "name": "stdout",
     "output_type": "stream",
     "text": [
      "0.9337551652892562\n"
     ]
    }
   ],
   "source": [
    "fpr0, tpr0, _ = roc_curve(ytest_sb_597, y_pred)\n",
    "roc_auc_lgbm_sb = auc(fpr0, tpr0)\n",
    "print(roc_auc_lgbm_sb)"
   ]
  },
  {
   "cell_type": "markdown",
   "id": "faad1b35",
   "metadata": {},
   "source": [
    "### 3 - LinearSVC"
   ]
  },
  {
   "cell_type": "code",
   "execution_count": 56,
   "id": "ab462cba",
   "metadata": {},
   "outputs": [],
   "source": [
    "from sklearn.svm import LinearSVC\n",
    "from sklearn.svm import SVC\n",
    "from sklearn.calibration import CalibratedClassifierCV"
   ]
  },
  {
   "cell_type": "code",
   "execution_count": 57,
   "id": "302475b9",
   "metadata": {},
   "outputs": [
    {
     "ename": "ValueError",
     "evalue": "Setting a random_state has no effect since shuffle is False. You should leave random_state to its default (None), or set shuffle=True.",
     "output_type": "error",
     "traceback": [
      "\u001b[1;31m---------------------------------------------------------------------------\u001b[0m",
      "\u001b[1;31mValueError\u001b[0m                                Traceback (most recent call last)",
      "\u001b[1;32m<ipython-input-57-034b155e750c>\u001b[0m in \u001b[0;36m<module>\u001b[1;34m\u001b[0m\n\u001b[0;32m      5\u001b[0m }\n\u001b[0;32m      6\u001b[0m \u001b[1;31m# Set the parameters by cross-validation\u001b[0m\u001b[1;33m\u001b[0m\u001b[1;33m\u001b[0m\u001b[1;33m\u001b[0m\u001b[0m\n\u001b[1;32m----> 7\u001b[1;33m \u001b[0mk_fold\u001b[0m \u001b[1;33m=\u001b[0m \u001b[0mStratifiedKFold\u001b[0m\u001b[1;33m(\u001b[0m\u001b[0mn_splits\u001b[0m\u001b[1;33m=\u001b[0m\u001b[1;36m4\u001b[0m\u001b[1;33m,\u001b[0m \u001b[0mrandom_state\u001b[0m\u001b[1;33m=\u001b[0m\u001b[1;36m42\u001b[0m\u001b[1;33m)\u001b[0m\u001b[1;33m\u001b[0m\u001b[1;33m\u001b[0m\u001b[0m\n\u001b[0m\u001b[0;32m      8\u001b[0m \u001b[1;33m\u001b[0m\u001b[0m\n\u001b[0;32m      9\u001b[0m \u001b[0mscores\u001b[0m \u001b[1;33m=\u001b[0m \u001b[1;33m[\u001b[0m\u001b[1;34m'roc_auc'\u001b[0m\u001b[1;33m]\u001b[0m\u001b[1;33m\u001b[0m\u001b[1;33m\u001b[0m\u001b[0m\n",
      "\u001b[1;32m~\\anaconda3\\lib\\site-packages\\sklearn\\model_selection\\_split.py\u001b[0m in \u001b[0;36m__init__\u001b[1;34m(self, n_splits, shuffle, random_state)\u001b[0m\n\u001b[0;32m    642\u001b[0m \u001b[1;33m\u001b[0m\u001b[0m\n\u001b[0;32m    643\u001b[0m     \u001b[1;32mdef\u001b[0m \u001b[0m__init__\u001b[0m\u001b[1;33m(\u001b[0m\u001b[0mself\u001b[0m\u001b[1;33m,\u001b[0m \u001b[0mn_splits\u001b[0m\u001b[1;33m=\u001b[0m\u001b[1;36m5\u001b[0m\u001b[1;33m,\u001b[0m \u001b[1;33m*\u001b[0m\u001b[1;33m,\u001b[0m \u001b[0mshuffle\u001b[0m\u001b[1;33m=\u001b[0m\u001b[1;32mFalse\u001b[0m\u001b[1;33m,\u001b[0m \u001b[0mrandom_state\u001b[0m\u001b[1;33m=\u001b[0m\u001b[1;32mNone\u001b[0m\u001b[1;33m)\u001b[0m\u001b[1;33m:\u001b[0m\u001b[1;33m\u001b[0m\u001b[1;33m\u001b[0m\u001b[0m\n\u001b[1;32m--> 644\u001b[1;33m         \u001b[0msuper\u001b[0m\u001b[1;33m(\u001b[0m\u001b[1;33m)\u001b[0m\u001b[1;33m.\u001b[0m\u001b[0m__init__\u001b[0m\u001b[1;33m(\u001b[0m\u001b[0mn_splits\u001b[0m\u001b[1;33m=\u001b[0m\u001b[0mn_splits\u001b[0m\u001b[1;33m,\u001b[0m \u001b[0mshuffle\u001b[0m\u001b[1;33m=\u001b[0m\u001b[0mshuffle\u001b[0m\u001b[1;33m,\u001b[0m \u001b[0mrandom_state\u001b[0m\u001b[1;33m=\u001b[0m\u001b[0mrandom_state\u001b[0m\u001b[1;33m)\u001b[0m\u001b[1;33m\u001b[0m\u001b[1;33m\u001b[0m\u001b[0m\n\u001b[0m\u001b[0;32m    645\u001b[0m \u001b[1;33m\u001b[0m\u001b[0m\n\u001b[0;32m    646\u001b[0m     \u001b[1;32mdef\u001b[0m \u001b[0m_make_test_folds\u001b[0m\u001b[1;33m(\u001b[0m\u001b[0mself\u001b[0m\u001b[1;33m,\u001b[0m \u001b[0mX\u001b[0m\u001b[1;33m,\u001b[0m \u001b[0my\u001b[0m\u001b[1;33m=\u001b[0m\u001b[1;32mNone\u001b[0m\u001b[1;33m)\u001b[0m\u001b[1;33m:\u001b[0m\u001b[1;33m\u001b[0m\u001b[1;33m\u001b[0m\u001b[0m\n",
      "\u001b[1;32m~\\anaconda3\\lib\\site-packages\\sklearn\\model_selection\\_split.py\u001b[0m in \u001b[0;36m__init__\u001b[1;34m(self, n_splits, shuffle, random_state)\u001b[0m\n\u001b[0;32m    294\u001b[0m \u001b[1;33m\u001b[0m\u001b[0m\n\u001b[0;32m    295\u001b[0m         \u001b[1;32mif\u001b[0m \u001b[1;32mnot\u001b[0m \u001b[0mshuffle\u001b[0m \u001b[1;32mand\u001b[0m \u001b[0mrandom_state\u001b[0m \u001b[1;32mis\u001b[0m \u001b[1;32mnot\u001b[0m \u001b[1;32mNone\u001b[0m\u001b[1;33m:\u001b[0m  \u001b[1;31m# None is the default\u001b[0m\u001b[1;33m\u001b[0m\u001b[1;33m\u001b[0m\u001b[0m\n\u001b[1;32m--> 296\u001b[1;33m             raise ValueError(\n\u001b[0m\u001b[0;32m    297\u001b[0m                 \u001b[1;34m\"Setting a random_state has no effect since shuffle is \"\u001b[0m\u001b[1;33m\u001b[0m\u001b[1;33m\u001b[0m\u001b[0m\n\u001b[0;32m    298\u001b[0m                 \u001b[1;34m\"False. You should leave \"\u001b[0m\u001b[1;33m\u001b[0m\u001b[1;33m\u001b[0m\u001b[0m\n",
      "\u001b[1;31mValueError\u001b[0m: Setting a random_state has no effect since shuffle is False. You should leave random_state to its default (None), or set shuffle=True."
     ]
    }
   ],
   "source": [
    "# Set the parameters by cross-validation\n",
    "tuned_parameters = {\n",
    "    'tol':(1.0, 1e-1, 1e-2, 1e-3, 1e-4, 1e-5, 1e-6),\n",
    "    'C': (0.001, 0.05, 0.01, 0.1, 1.0, 10.0, 50, 100.0)\n",
    "}\n",
    "# Set the parameters by cross-validation\n",
    "k_fold = StratifiedKFold(n_splits=4, random_state=42)\n",
    "\n",
    "scores = ['roc_auc']\n",
    "\n",
    "def gridsearch_linearsvc(X_train, y_train, X_test, y_test, k_fold, tuned_parameters, scores):\n",
    "    optimals = {}\n",
    "    for score in scores:\n",
    "        print(\"# Tuning hyper-parameters for ----> %s\" % score)\n",
    "        print()\n",
    "\n",
    "        svm = LinearSVC()\n",
    "\n",
    "        clf = GridSearchCV(svm, tuned_parameters, error_score='raise', cv=k_fold, scoring=score)\n",
    "\n",
    "        clf.fit(X_train, y_train)\n",
    "\n",
    "        print(\"Best parameters set found on development set:\")\n",
    "        print()\n",
    "        print(clf.best_params_)\n",
    "        print()\n",
    "        print(\"Grid scores on development set:\")\n",
    "        print()\n",
    "        means = clf.cv_results_['mean_test_score']\n",
    "        stds = clf.cv_results_['std_test_score']\n",
    "        for mean, std, params in zip(means, stds, clf.cv_results_['params']):\n",
    "            print(\"%0.3f (+/-%0.03f) for %r\"\n",
    "                  % (mean, std * 2, params))\n",
    "        print()\n",
    "\n",
    "        print(\"Detailed classification report:\")\n",
    "        print()\n",
    "        print(\"The model is trained on the full development set.\")\n",
    "        print(\"The scores are computed on the full evaluation set.\")\n",
    "        print()\n",
    "        y_true, y_pred = y_test, clf.predict(X_test)\n",
    "        print(classification_report(y_true, y_pred))\n",
    "        print()\n",
    "        print(\"**** Matrice di Confusione *****\")\n",
    "        tn, fp, fn, tp = confusion_matrix(y_true, y_pred).ravel()\n",
    "        print(' True negative: %d False negative: %d' % (tn, fn))\n",
    "        print(' True positive: %d False positive: %d' % (tp, fp))\n",
    "        print(\"____________________________________________\")\n",
    "        optimals[score] = clf.best_params_\n",
    "    return optimals"
   ]
  },
  {
   "cell_type": "code",
   "execution_count": 58,
   "id": "818c111d",
   "metadata": {},
   "outputs": [
    {
     "ename": "NameError",
     "evalue": "name 'gridsearch_linearsvc' is not defined",
     "output_type": "error",
     "traceback": [
      "\u001b[1;31m---------------------------------------------------------------------------\u001b[0m",
      "\u001b[1;31mNameError\u001b[0m                                 Traceback (most recent call last)",
      "\u001b[1;32m<ipython-input-58-7c6349539195>\u001b[0m in \u001b[0;36m<module>\u001b[1;34m\u001b[0m\n\u001b[1;32m----> 1\u001b[1;33m \u001b[0moptimals_597\u001b[0m \u001b[1;33m=\u001b[0m \u001b[0mgridsearch_linearsvc\u001b[0m\u001b[1;33m(\u001b[0m\u001b[0mxtrain_597\u001b[0m\u001b[1;33m,\u001b[0m \u001b[0mytrain_597\u001b[0m\u001b[1;33m,\u001b[0m \u001b[0mxtest_597\u001b[0m\u001b[1;33m,\u001b[0m \u001b[0mytest_597\u001b[0m\u001b[1;33m,\u001b[0m \u001b[0mk_fold\u001b[0m\u001b[1;33m,\u001b[0m \u001b[0mtuned_parameters\u001b[0m\u001b[1;33m,\u001b[0m \u001b[0mscores\u001b[0m\u001b[1;33m)\u001b[0m\u001b[1;33m\u001b[0m\u001b[1;33m\u001b[0m\u001b[0m\n\u001b[0m",
      "\u001b[1;31mNameError\u001b[0m: name 'gridsearch_linearsvc' is not defined"
     ]
    }
   ],
   "source": [
    "optimals_597 = gridsearch_linearsvc(xtrain_597, ytrain_597, xtest_597, ytest_597, k_fold, tuned_parameters, scores)"
   ]
  },
  {
   "cell_type": "code",
   "execution_count": 59,
   "id": "fcebdeb3",
   "metadata": {},
   "outputs": [
    {
     "ename": "NameError",
     "evalue": "name 'optimals_597' is not defined",
     "output_type": "error",
     "traceback": [
      "\u001b[1;31m---------------------------------------------------------------------------\u001b[0m",
      "\u001b[1;31mNameError\u001b[0m                                 Traceback (most recent call last)",
      "\u001b[1;32m<ipython-input-59-cdff4f5fce51>\u001b[0m in \u001b[0;36m<module>\u001b[1;34m\u001b[0m\n\u001b[1;32m----> 1\u001b[1;33m \u001b[0moptimals_597\u001b[0m\u001b[1;33m\u001b[0m\u001b[1;33m\u001b[0m\u001b[0m\n\u001b[0m",
      "\u001b[1;31mNameError\u001b[0m: name 'optimals_597' is not defined"
     ]
    }
   ],
   "source": [
    "optimals_597"
   ]
  },
  {
   "cell_type": "code",
   "execution_count": 60,
   "id": "c9b32395",
   "metadata": {},
   "outputs": [
    {
     "name": "stdout",
     "output_type": "stream",
     "text": [
      "0.9496916151039188\n"
     ]
    },
    {
     "data": {
      "image/png": "[encoded data removed]",
      "text/plain": [
       "<Figure size 432x288 with 1 Axes>"
      ]
     },
     "metadata": {
      "needs_background": "light"
     },
     "output_type": "display_data"
    }
   ],
   "source": [
    "model_597 = LinearSVC(C = 100.0, tol =1.0)\n",
    "model_597.fit(xtrain_597, ytrain_597)\n",
    "\n",
    "\n",
    "y_score_597 = model_597.predict(xtest_597)\n",
    "\n",
    "cclf = CalibratedClassifierCV(base_estimator=model_597, cv=5)\n",
    "cclf.fit(xtrain_597, ytrain_597)\n",
    "y_pred = cclf.predict(xtest_597)\n",
    "y_score_597 = cclf.predict_proba(xtest_597)\n",
    "fpr0, tpr0, _ = roc_curve(ytest_597, y_score_597[:, 1])\n",
    "roc_auc0 = auc(fpr0, tpr0)\n",
    "print(roc_auc0)\n",
    "\n",
    "plt.plot(fpr0, tpr0, color='darkorange', lw=3, label='$AUC_0$ = %.3f' % (roc_auc0))\n",
    "\n",
    "plt.plot([0, 1], [0, 1], color='navy', lw=2, linestyle='--')\n",
    "plt.xlim([0.0, 1.0])\n",
    "plt.ylim([0.0, 1.05])\n",
    "plt.xlabel('False Positive Rate', fontsize=16)\n",
    "plt.ylabel('True Positive Rate', fontsize=16)\n",
    "plt.title('ROC curve', fontsize=16)\n",
    "plt.legend(loc=\"lower right\", fontsize=14, frameon=False)\n",
    "plt.tick_params(axis='both', which='major', labelsize=16)\n",
    "plt.show()"
   ]
  },
  {
   "cell_type": "markdown",
   "id": "7791beb8",
   "metadata": {},
   "source": [
    "### 3 - LinearSVC_Bilanciato"
   ]
  },
  {
   "cell_type": "code",
   "execution_count": 61,
   "id": "5ac9e4f3",
   "metadata": {},
   "outputs": [
    {
     "ename": "NameError",
     "evalue": "name 'gridsearch_linearsvc' is not defined",
     "output_type": "error",
     "traceback": [
      "\u001b[1;31m---------------------------------------------------------------------------\u001b[0m",
      "\u001b[1;31mNameError\u001b[0m                                 Traceback (most recent call last)",
      "\u001b[1;32m<ipython-input-61-f4938971b540>\u001b[0m in \u001b[0;36m<module>\u001b[1;34m\u001b[0m\n\u001b[1;32m----> 1\u001b[1;33m \u001b[0moptimals_sb_597\u001b[0m \u001b[1;33m=\u001b[0m \u001b[0mgridsearch_linearsvc\u001b[0m\u001b[1;33m(\u001b[0m\u001b[0mxtrain_sb_597\u001b[0m\u001b[1;33m,\u001b[0m \u001b[0mytrain_sb_597\u001b[0m\u001b[1;33m,\u001b[0m \u001b[0mxtest_sb_597\u001b[0m\u001b[1;33m,\u001b[0m \u001b[0mytest_sb_597\u001b[0m\u001b[1;33m,\u001b[0m \u001b[0mk_fold\u001b[0m\u001b[1;33m,\u001b[0m \u001b[0mtuned_parameters\u001b[0m\u001b[1;33m,\u001b[0m \u001b[0mscores\u001b[0m\u001b[1;33m)\u001b[0m\u001b[1;33m\u001b[0m\u001b[1;33m\u001b[0m\u001b[0m\n\u001b[0m",
      "\u001b[1;31mNameError\u001b[0m: name 'gridsearch_linearsvc' is not defined"
     ]
    }
   ],
   "source": [
    "optimals_sb_597 = gridsearch_linearsvc(xtrain_sb_597, ytrain_sb_597, xtest_sb_597, ytest_sb_597, k_fold, tuned_parameters, scores)"
   ]
  },
  {
   "cell_type": "code",
   "execution_count": null,
   "id": "7cd03af0",
   "metadata": {},
   "outputs": [],
   "source": [
    "optimals_sb_597"
   ]
  },
  {
   "cell_type": "code",
   "execution_count": null,
   "id": "bc2a3121",
   "metadata": {},
   "outputs": [],
   "source": [
    "model_sb_597 = LinearSVC(C = 10.0, tol =0.1)\n",
    "model_sb_597.fit(xtrain_sb_597, ytrain_sb_597)\n",
    "\n",
    "\n",
    "y_score_sb_597 = model_sb_597.predict(xtest_sb_597)\n",
    "\n",
    "cclf = CalibratedClassifierCV(base_estimator=model_sb_597, cv=5)\n",
    "cclf.fit(xtrain_sb_597, ytrain_sb_597)\n",
    "y_pred = cclf.predict(xtest_sb_597)\n",
    "y_score_sb_597 = cclf.predict_proba(xtest_sb_597)\n",
    "fpr0, tpr0, _ = roc_curve(ytest_sb_597, y_score_sb_597[:, 1])\n",
    "roc_auc0 = auc(fpr0, tpr0)\n",
    "print(roc_auc0)\n",
    "\n",
    "plt.plot(fpr0, tpr0, color='darkorange', lw=3, label='$AUC_0$ = %.3f' % (roc_auc0))\n",
    "\n",
    "plt.plot([0, 1], [0, 1], color='navy', lw=2, linestyle='--')\n",
    "plt.xlim([0.0, 1.0])\n",
    "plt.ylim([0.0, 1.05])\n",
    "plt.xlabel('False Positive Rate', fontsize=16)\n",
    "plt.ylabel('True Positive Rate', fontsize=16)\n",
    "plt.title('ROC curve', fontsize=16)\n",
    "plt.legend(loc=\"lower right\", fontsize=14, frameon=False)\n",
    "plt.tick_params(axis='both', which='major', labelsize=16)\n",
    "plt.show()"
   ]
  },
  {
   "cell_type": "markdown",
   "id": "0df1e242",
   "metadata": {},
   "source": [
    "# 4 - NN"
   ]
  },
  {
   "cell_type": "code",
   "execution_count": 62,
   "id": "f568fe5b",
   "metadata": {},
   "outputs": [],
   "source": [
    "def build_model_1( X_train):\n",
    "    optimizer='adagrad'\n",
    "    #optimizer='adam'\n",
    "    n_feature = X_train.shape[1]\n",
    "    model = Sequential()\n",
    "    model.add(Dense(32, input_dim=n_feature, activation='tanh'))\n",
    "    model.add(Dense(32, activation='tanh'))\n",
    "    model.add(Dense(32, activation='tanh'))\n",
    "    model.add(Dense(32, activation='tanh'))\n",
    "    model.add(Dense(32, activation='tanh'))\n",
    "    model.add(Dense(32, activation='tanh'))\n",
    "    model.add(Dense(32, activation='tanh'))\n",
    "    model.add(Dense(32, activation='tanh'))\n",
    "    # Linear\n",
    "    model.add(Dense(1, activation='sigmoid'))\n",
    "    model.compile(loss='binary_crossentropy', optimizer=optimizer, metrics=[\"AUC\"])\n",
    "    return model"
   ]
  },
  {
   "cell_type": "code",
   "execution_count": 63,
   "id": "ec95d766",
   "metadata": {},
   "outputs": [],
   "source": [
    "def build_model_2(X_train):\n",
    "    n_feature = X_train.shape[1]\n",
    "    model = Sequential()\n",
    "    model.add(Dense(128, input_dim=n_feature, activation='relu'))\n",
    "    model.add(Dense(32, activation='relu'))\n",
    "    model.add(Dense(32, activation='relu'))\n",
    "    model.add(Dense(32, activation='relu'))\n",
    "    model.add(Dense(32, activation='relu'))\n",
    "    # Linear\n",
    "    model.add(Dense(1, activation='sigmoid', kernel_regularizer=regularizers.l2(0.01)))\n",
    "    sgd = optimizers.SGD(learning_rate=0.1, momentum=0.9, nesterov=True)\n",
    "    model.compile(loss='binary_crossentropy', optimizer=sgd, metrics=[\"AUC\"])\n",
    "    return model"
   ]
  },
  {
   "cell_type": "code",
   "execution_count": 64,
   "id": "c2620100",
   "metadata": {},
   "outputs": [
    {
     "name": "stdout",
     "output_type": "stream",
     "text": [
      "Epoch 1/30\n",
      "216/216 [==============================] - 2s 5ms/step - loss: 0.6731 - auc: 0.4919 - val_loss: 0.6660 - val_auc: 0.5096\n",
      "Epoch 2/30\n",
      "216/216 [==============================] - 1s 3ms/step - loss: 0.6654 - auc: 0.4741 - val_loss: 0.6645 - val_auc: 0.5129\n",
      "Epoch 3/30\n",
      "216/216 [==============================] - 1s 3ms/step - loss: 0.6647 - auc: 0.4940 - val_loss: 0.6642 - val_auc: 0.5079\n",
      "Epoch 4/30\n",
      "216/216 [==============================] - 1s 3ms/step - loss: 0.6645 - auc: 0.4959 - val_loss: 0.6641 - val_auc: 0.5206\n",
      "Epoch 5/30\n",
      "216/216 [==============================] - 1s 3ms/step - loss: 0.6645 - auc: 0.4970 - val_loss: 0.6641 - val_auc: 0.5225\n",
      "Epoch 6/30\n",
      "216/216 [==============================] - 1s 3ms/step - loss: 0.6644 - auc: 0.5145 - val_loss: 0.6640 - val_auc: 0.5182\n",
      "Epoch 7/30\n",
      "216/216 [==============================] - 1s 2ms/step - loss: 0.6644 - auc: 0.5020 - val_loss: 0.6640 - val_auc: 0.5207\n",
      "Epoch 8/30\n",
      "216/216 [==============================] - 1s 3ms/step - loss: 0.6644 - auc: 0.5169 - val_loss: 0.6640 - val_auc: 0.5212\n",
      "Epoch 9/30\n",
      "216/216 [==============================] - 1s 3ms/step - loss: 0.6643 - auc: 0.5113 - val_loss: 0.6640 - val_auc: 0.5235\n",
      "Epoch 10/30\n",
      "216/216 [==============================] - 1s 3ms/step - loss: 0.6643 - auc: 0.5099 - val_loss: 0.6639 - val_auc: 0.5384\n",
      "Epoch 11/30\n",
      "216/216 [==============================] - 1s 2ms/step - loss: 0.6643 - auc: 0.5147 - val_loss: 0.6639 - val_auc: 0.5455\n",
      "Epoch 12/30\n",
      "216/216 [==============================] - 1s 2ms/step - loss: 0.6642 - auc: 0.5088 - val_loss: 0.6639 - val_auc: 0.5400\n",
      "Epoch 13/30\n",
      "216/216 [==============================] - 1s 2ms/step - loss: 0.6642 - auc: 0.5256 - val_loss: 0.6639 - val_auc: 0.5309\n",
      "Epoch 14/30\n",
      "216/216 [==============================] - 1s 3ms/step - loss: 0.6642 - auc: 0.5252 - val_loss: 0.6638 - val_auc: 0.5281\n",
      "Epoch 15/30\n",
      "216/216 [==============================] - 1s 3ms/step - loss: 0.6641 - auc: 0.5316 - val_loss: 0.6638 - val_auc: 0.5252\n",
      "Epoch 16/30\n",
      "216/216 [==============================] - 1s 2ms/step - loss: 0.6641 - auc: 0.5292 - val_loss: 0.6638 - val_auc: 0.5363\n",
      "Epoch 17/30\n",
      "216/216 [==============================] - 1s 3ms/step - loss: 0.6641 - auc: 0.5265 - val_loss: 0.6637 - val_auc: 0.5440\n",
      "Epoch 18/30\n",
      "216/216 [==============================] - 1s 2ms/step - loss: 0.6640 - auc: 0.5306 - val_loss: 0.6637 - val_auc: 0.5379\n",
      "Epoch 19/30\n",
      "216/216 [==============================] - 1s 2ms/step - loss: 0.6640 - auc: 0.5345 - val_loss: 0.6637 - val_auc: 0.5446\n",
      "Epoch 20/30\n",
      "216/216 [==============================] - 1s 3ms/step - loss: 0.6640 - auc: 0.5230 - val_loss: 0.6637 - val_auc: 0.5414\n",
      "Epoch 21/30\n",
      "216/216 [==============================] - 1s 4ms/step - loss: 0.6639 - auc: 0.5392 - val_loss: 0.6636 - val_auc: 0.5428\n",
      "Epoch 22/30\n",
      "216/216 [==============================] - 1s 2ms/step - loss: 0.6639 - auc: 0.5346 - val_loss: 0.6636 - val_auc: 0.5502\n",
      "Epoch 23/30\n",
      "216/216 [==============================] - 1s 3ms/step - loss: 0.6639 - auc: 0.5426 - val_loss: 0.6636 - val_auc: 0.5456\n",
      "Epoch 24/30\n",
      "216/216 [==============================] - 1s 3ms/step - loss: 0.6638 - auc: 0.5462 - val_loss: 0.6635 - val_auc: 0.5468\n",
      "Epoch 25/30\n",
      "216/216 [==============================] - 1s 3ms/step - loss: 0.6638 - auc: 0.5559 - val_loss: 0.6635 - val_auc: 0.5481\n",
      "Epoch 26/30\n",
      "216/216 [==============================] - 1s 3ms/step - loss: 0.6638 - auc: 0.5437 - val_loss: 0.6635 - val_auc: 0.5460\n",
      "Epoch 27/30\n",
      "216/216 [==============================] - 1s 3ms/step - loss: 0.6637 - auc: 0.5551 - val_loss: 0.6635 - val_auc: 0.5505\n",
      "Epoch 28/30\n",
      "216/216 [==============================] - 1s 3ms/step - loss: 0.6637 - auc: 0.5545 - val_loss: 0.6634 - val_auc: 0.5512\n",
      "Epoch 29/30\n",
      "216/216 [==============================] - 1s 3ms/step - loss: 0.6637 - auc: 0.5527 - val_loss: 0.6634 - val_auc: 0.5664\n",
      "Epoch 30/30\n",
      "216/216 [==============================] - 1s 3ms/step - loss: 0.6636 - auc: 0.5507 - val_loss: 0.6634 - val_auc: 0.5631\n",
      "Epoch 1/30\n",
      "44/44 [==============================] - 2s 13ms/step - loss: 0.6794 - auc: 0.5063 - val_loss: 0.6677 - val_auc: 0.6175\n",
      "Epoch 2/30\n",
      "44/44 [==============================] - 0s 4ms/step - loss: 0.6682 - auc: 0.4772 - val_loss: 0.6647 - val_auc: 0.5000\n",
      "Epoch 3/30\n",
      "44/44 [==============================] - 0s 5ms/step - loss: 0.6658 - auc: 0.4975 - val_loss: 0.6659 - val_auc: 0.5000\n",
      "Epoch 4/30\n",
      "44/44 [==============================] - 0s 3ms/step - loss: 0.6659 - auc: 0.4831 - val_loss: 0.6644 - val_auc: 0.5000\n",
      "Epoch 5/30\n",
      "44/44 [==============================] - 0s 3ms/step - loss: 0.6664 - auc: 0.4804 - val_loss: 0.6654 - val_auc: 0.5000\n",
      "Epoch 6/30\n",
      "44/44 [==============================] - 0s 3ms/step - loss: 0.6655 - auc: 0.4961 - val_loss: 0.6644 - val_auc: 0.5000\n",
      "Epoch 7/30\n",
      "44/44 [==============================] - 0s 4ms/step - loss: 0.6663 - auc: 0.4920 - val_loss: 0.6649 - val_auc: 0.5000\n",
      "Epoch 8/30\n",
      "44/44 [==============================] - 0s 3ms/step - loss: 0.6662 - auc: 0.4924 - val_loss: 0.6649 - val_auc: 0.5000\n",
      "Epoch 9/30\n",
      "44/44 [==============================] - 0s 3ms/step - loss: 0.6660 - auc: 0.4756 - val_loss: 0.6662 - val_auc: 0.5000\n",
      "Epoch 10/30\n",
      "44/44 [==============================] - 0s 3ms/step - loss: 0.6672 - auc: 0.4762 - val_loss: 0.6648 - val_auc: 0.5000\n",
      "Epoch 11/30\n",
      "44/44 [==============================] - 0s 3ms/step - loss: 0.6655 - auc: 0.4767 - val_loss: 0.6643 - val_auc: 0.5000\n",
      "Epoch 12/30\n",
      "44/44 [==============================] - 0s 3ms/step - loss: 0.6649 - auc: 0.5052 - val_loss: 0.6690 - val_auc: 0.5000\n",
      "Epoch 13/30\n",
      "44/44 [==============================] - 0s 3ms/step - loss: 0.6662 - auc: 0.4889 - val_loss: 0.6650 - val_auc: 0.5000\n",
      "Epoch 14/30\n",
      "44/44 [==============================] - 0s 3ms/step - loss: 0.6657 - auc: 0.4839 - val_loss: 0.6652 - val_auc: 0.5000\n",
      "Epoch 15/30\n",
      "44/44 [==============================] - 0s 3ms/step - loss: 0.6665 - auc: 0.4896 - val_loss: 0.6653 - val_auc: 0.5000\n",
      "Epoch 16/30\n",
      "44/44 [==============================] - 0s 3ms/step - loss: 0.6661 - auc: 0.5057 - val_loss: 0.6643 - val_auc: 0.5000\n",
      "Epoch 17/30\n",
      "44/44 [==============================] - 0s 3ms/step - loss: 0.6650 - auc: 0.4914 - val_loss: 0.6643 - val_auc: 0.5000\n",
      "Epoch 18/30\n",
      "44/44 [==============================] - 0s 3ms/step - loss: 0.6654 - auc: 0.4852 - val_loss: 0.6646 - val_auc: 0.5000\n",
      "Epoch 19/30\n",
      "44/44 [==============================] - 0s 3ms/step - loss: 0.6651 - auc: 0.4847 - val_loss: 0.6643 - val_auc: 0.5000\n",
      "Epoch 20/30\n",
      "44/44 [==============================] - 0s 3ms/step - loss: 0.6654 - auc: 0.4774 - val_loss: 0.6646 - val_auc: 0.6687\n",
      "Epoch 21/30\n",
      "44/44 [==============================] - 0s 3ms/step - loss: 0.6658 - auc: 0.4937 - val_loss: 0.6706 - val_auc: 0.5000\n",
      "Epoch 22/30\n",
      "44/44 [==============================] - 0s 3ms/step - loss: 0.6669 - auc: 0.4825 - val_loss: 0.6651 - val_auc: 0.5000\n",
      "Epoch 23/30\n",
      "44/44 [==============================] - 0s 4ms/step - loss: 0.6651 - auc: 0.4889 - val_loss: 0.6649 - val_auc: 0.5000\n",
      "Epoch 24/30\n",
      "44/44 [==============================] - 0s 3ms/step - loss: 0.6656 - auc: 0.4962 - val_loss: 0.6645 - val_auc: 0.5000\n",
      "Epoch 25/30\n",
      "44/44 [==============================] - 0s 3ms/step - loss: 0.6650 - auc: 0.4910 - val_loss: 0.6660 - val_auc: 0.5000\n",
      "Epoch 26/30\n",
      "44/44 [==============================] - 0s 3ms/step - loss: 0.6662 - auc: 0.5077 - val_loss: 0.6646 - val_auc: 0.5000\n",
      "Epoch 27/30\n",
      "44/44 [==============================] - 0s 3ms/step - loss: 0.6660 - auc: 0.4993 - val_loss: 0.6643 - val_auc: 0.5000\n",
      "Epoch 28/30\n",
      "44/44 [==============================] - 0s 3ms/step - loss: 0.6652 - auc: 0.4888 - val_loss: 0.6645 - val_auc: 0.5000\n",
      "Epoch 29/30\n",
      "44/44 [==============================] - 0s 3ms/step - loss: 0.6665 - auc: 0.4849 - val_loss: 0.6646 - val_auc: 0.5000\n",
      "Epoch 30/30\n",
      "44/44 [==============================] - 0s 3ms/step - loss: 0.6657 - auc: 0.4687 - val_loss: 0.6644 - val_auc: 0.5000\n"
     ]
    }
   ],
   "source": [
    "model1_597 = build_model_1(xtrain_597)\n",
    "history1_597 = model1_597.fit(xtrain_597, ytrain_597, validation_data=(xtest_597, ytest_597), epochs=30, batch_size=10).history\n",
    "\n",
    "model2_597 = build_model_2(xtrain_597)\n",
    "history2_597 = model2_597.fit(xtrain_597, ytrain_597, validation_data=(xtest_597, ytest_597), epochs=30, batch_size=50).history"
   ]
  },
  {
   "cell_type": "code",
   "execution_count": 65,
   "id": "70975dbc",
   "metadata": {},
   "outputs": [
    {
     "data": {
      "image/png": "[encoded data removed]",
      "text/plain": [
       "<Figure size 432x288 with 1 Axes>"
      ]
     },
     "metadata": {
      "needs_background": "light"
     },
     "output_type": "display_data"
    }
   ],
   "source": [
    "plt.plot(history1_597['loss'], label='Loss 10 (batch_size)')\n",
    "plt.plot(history2_597['loss'], label='Loss 50 (batch_size)')\n",
    "plt.xlabel('Epochs')\n",
    "plt.ylabel('Cross-Entropy')\n",
    "plt.legend()\n",
    "plt.show()"
   ]
  },
  {
   "cell_type": "code",
   "execution_count": 66,
   "id": "dd7cc970",
   "metadata": {},
   "outputs": [
    {
     "data": {
      "image/png": "[encoded data removed]",
      "text/plain": [
       "<Figure size 432x288 with 1 Axes>"
      ]
     },
     "metadata": {
      "needs_background": "light"
     },
     "output_type": "display_data"
    }
   ],
   "source": [
    "plt.plot(history1_597['loss'], label='Train')\n",
    "plt.plot(history1_597['val_loss'], label='Val')\n",
    "plt.xlabel('Epochs')\n",
    "plt.ylabel('Cross-Entropy')\n",
    "plt.legend()\n",
    "plt.show()"
   ]
  },
  {
   "cell_type": "code",
   "execution_count": 67,
   "id": "f0af4802",
   "metadata": {},
   "outputs": [
    {
     "data": {
      "image/png": "[encoded data removed]",
      "text/plain": [
       "<Figure size 432x288 with 1 Axes>"
      ]
     },
     "metadata": {
      "needs_background": "light"
     },
     "output_type": "display_data"
    }
   ],
   "source": [
    "plt.plot(history2_597['loss'], label='Train')\n",
    "plt.plot(history2_597['val_loss'], label='Val')\n",
    "plt.xlabel('Epochs')\n",
    "plt.ylabel('Cross-Entropy')\n",
    "plt.legend()\n",
    "plt.show()"
   ]
  },
  {
   "cell_type": "code",
   "execution_count": 68,
   "id": "50720034",
   "metadata": {},
   "outputs": [
    {
     "name": "stdout",
     "output_type": "stream",
     "text": [
      "29/29 [==============================] - 0s 2ms/step - loss: 0.6634 - auc: 0.5631\n",
      "29/29 [==============================] - 0s 2ms/step - loss: 0.6644 - auc: 0.5000\n",
      "Loss 0.663353, AUC 0.563080\n",
      "Loss 0.664419, AUC 0.500000\n"
     ]
    }
   ],
   "source": [
    "test_loss_1_597, test_auc_1_597 = model1_597.evaluate(xtest_597, ytest_597)\n",
    "test_loss_2_597, test_auc_2_597 = model2_597.evaluate(xtest_597, ytest_597)\n",
    "\n",
    "print('Loss %f, AUC %f' % (test_loss_1_597, test_auc_1_597))\n",
    "print('Loss %f, AUC %f' % (test_loss_2_597, test_auc_2_597))"
   ]
  },
  {
   "cell_type": "code",
   "execution_count": 69,
   "id": "3655f927",
   "metadata": {},
   "outputs": [],
   "source": [
    "def create_model(X_train, learning_rate=0.1, momentum = 0.9, nesterov = True,\n",
    "                 activation = 'sigmoid', regularizer = 0.01, units=3, hidden_layers=1):\n",
    "    # create model\n",
    "    model = Sequential()\n",
    "    #initializer = initializers.RandomUniform(minval=0, maxval=0.5, seed=None)\n",
    "    model.add(Dense(units, input_dim=X_train.shape[1], activation = activation, \n",
    "                         kernel_regularizer=regularizers.l2(regularizer)))  \n",
    "    for i in range(1,hidden_layers):\n",
    "          model.add(Dense(units, activation = activation, \n",
    "                         kernel_regularizer=regularizers.l2(regularizer)))  \n",
    "    model.add(Dense(1, activation = 'sigmoid',  kernel_regularizer=regularizers.l2(regularizer)))\n",
    "    sgd = optimizers.SGD(learning_rate=learning_rate, momentum=momentum, nesterov=nesterov)\n",
    "    model.compile(optimizer=sgd, loss='binary_crossentropy', metrics=['AUC'])\n",
    "    return model"
   ]
  },
  {
   "cell_type": "code",
   "execution_count": 70,
   "id": "22fcc2c2",
   "metadata": {},
   "outputs": [],
   "source": [
    "param_list = {'batch_size': [128],\n",
    "              'epochs': [100],\n",
    "             'learning_rate': [0.261],\n",
    "             'momentum':[0.9],\n",
    "             'nesterov':[False],\n",
    "             'activation':['tanh'],\n",
    "              'regularizer':[0.0001],\n",
    "              'units': [10],\n",
    "             'hidden_layers': [1]}"
   ]
  },
  {
   "cell_type": "code",
   "execution_count": 71,
   "id": "cefe3d33",
   "metadata": {},
   "outputs": [],
   "source": [
    "class Model:\n",
    "    def __init__(self, loss = 0, accuracy = 0, batch_size = 0, epochs = 0, learning_rate=0, momentum=0,nesterov=False,\n",
    "                activation='sigmoid', regularizer=0, units=0):\n",
    "        self.accuracy_CV_list = []\n",
    "        self.accuracy = accuracy\n",
    "        self.loss_CV_list = []\n",
    "        self.loss = loss\n",
    "        self.mee_list = []\n",
    "        self.mee = 0\n",
    "        self.std = 0\n",
    "        self.batch_size = batch_size\n",
    "        self.epochs = epochs\n",
    "        self.learning_rate = learning_rate\n",
    "        self.momentum = momentum\n",
    "        self.nesterov = nesterov\n",
    "        self.activation = activation\n",
    "        self.regularizer = regularizer\n",
    "        self.units = units\n",
    "        self.noise = 0\n",
    "    def toString(self):\n",
    "        print(\"\"\"{MEE: %f (+/- %0.2f), Number of Units: %d, Batch Size: %d, Epochs: %d, Learning Rate: %f, Momentum: %f,\n",
    "              \"Nesterov: %s, Activation: %s, Regularization: %f, Noise: %f}\"\"\" % \n",
    "              (self.mee, self.std, self.units, self.batch_size, self.epochs, self.learning_rate, self.momentum,\n",
    "              self.nesterov, self.activation, self.regularizer, self.noise))"
   ]
  },
  {
   "cell_type": "code",
   "execution_count": 72,
   "id": "cab6441e",
   "metadata": {},
   "outputs": [],
   "source": [
    "def GridSearchNN(X_train, Y_train, parameters, cv = 3, rand=False):\n",
    "    models = []\n",
    "    allNames = list(parameters)\n",
    "    combinations = itertools.product(*(parameters[Name] for Name in allNames))\n",
    "    searchList = []\n",
    "    if rand:\n",
    "        searchList = random.sample(list(combinations), k=100)\n",
    "    else:\n",
    "        searchList = list(combinations)\n",
    "    for i in searchList:\n",
    "        print(searchList.index(i), i)\n",
    "        batch_size = i[0]\n",
    "        epochs=i[1]\n",
    "        learning_rate=i[2]\n",
    "        momentum=i[3]\n",
    "        nesterov=i[4]\n",
    "        activation=i[5]\n",
    "        regularizer=i[6]\n",
    "        units = i[7]\n",
    "        temp = Model(batch_size=batch_size, epochs=epochs, learning_rate=learning_rate,\n",
    "                     momentum=momentum, nesterov=nesterov, activation=activation, regularizer=regularizer, units=units)\n",
    "        model = None # Clearing the NN.\n",
    "        model = create_model(X_train, learning_rate=learning_rate, momentum=momentum, nesterov=nesterov, \n",
    "                                 activation=activation, regularizer=regularizer, units=units)\n",
    "        r = model.fit(X_train, Y_train,validation_split = float(1.0/cv),\n",
    "                      batch_size =batch_size, epochs=epochs, verbose=1)\n",
    "        loss = r.history['val_loss'][-1]\n",
    "        #accuracy = r.history['val_acc'][-1]\n",
    "        temp.loss = loss\n",
    "        #temp.accuracy = accuracy\n",
    "        models.append(temp) \n",
    "          \n",
    "    result = sorted(models, key=lambda x: x.loss, reverse=False)\n",
    "    return result, r, model"
   ]
  },
  {
   "cell_type": "code",
   "execution_count": 73,
   "id": "f7910cd7",
   "metadata": {
    "scrolled": true
   },
   "outputs": [
    {
     "name": "stdout",
     "output_type": "stream",
     "text": [
      "0 (128, 100, 0.261, 0.9, False, 'tanh', 0.0001, 10, 1)\n",
      "Epoch 1/100\n",
      "12/12 [==============================] - 1s 28ms/step - loss: 0.6812 - auc: 0.5001 - val_loss: 0.6689 - val_auc: 0.5660\n",
      "Epoch 2/100\n",
      "12/12 [==============================] - 0s 5ms/step - loss: 0.6746 - auc: 0.5271 - val_loss: 0.6775 - val_auc: 0.5521\n",
      "Epoch 3/100\n",
      "12/12 [==============================] - 0s 5ms/step - loss: 0.6806 - auc: 0.5209 - val_loss: 0.6821 - val_auc: 0.5849\n",
      "Epoch 4/100\n",
      "12/12 [==============================] - 0s 5ms/step - loss: 0.6730 - auc: 0.5089 - val_loss: 0.6615 - val_auc: 0.6102\n",
      "Epoch 5/100\n",
      "12/12 [==============================] - 0s 4ms/step - loss: 0.6706 - auc: 0.4809 - val_loss: 0.6622 - val_auc: 0.5000\n",
      "Epoch 6/100\n",
      "12/12 [==============================] - 0s 4ms/step - loss: 0.6687 - auc: 0.5170 - val_loss: 0.6611 - val_auc: 0.6415\n",
      "Epoch 7/100\n",
      "12/12 [==============================] - 0s 4ms/step - loss: 0.6690 - auc: 0.4973 - val_loss: 0.6623 - val_auc: 0.6651\n",
      "Epoch 8/100\n",
      "12/12 [==============================] - 0s 5ms/step - loss: 0.6690 - auc: 0.5024 - val_loss: 0.6609 - val_auc: 0.6050\n",
      "Epoch 9/100\n",
      "12/12 [==============================] - 0s 4ms/step - loss: 0.6698 - auc: 0.5102 - val_loss: 0.6622 - val_auc: 0.5962\n",
      "Epoch 10/100\n",
      "12/12 [==============================] - 0s 4ms/step - loss: 0.6685 - auc: 0.5116 - val_loss: 0.6610 - val_auc: 0.6018\n",
      "Epoch 11/100\n",
      "12/12 [==============================] - 0s 4ms/step - loss: 0.6687 - auc: 0.5209 - val_loss: 0.6627 - val_auc: 0.5336\n",
      "Epoch 12/100\n",
      "12/12 [==============================] - 0s 4ms/step - loss: 0.6702 - auc: 0.5056 - val_loss: 0.6608 - val_auc: 0.6761\n",
      "Epoch 13/100\n",
      "12/12 [==============================] - 0s 4ms/step - loss: 0.6700 - auc: 0.4963 - val_loss: 0.6606 - val_auc: 0.5570\n",
      "Epoch 14/100\n",
      "12/12 [==============================] - 0s 4ms/step - loss: 0.6673 - auc: 0.5832 - val_loss: 0.6605 - val_auc: 0.7074\n",
      "Epoch 15/100\n",
      "12/12 [==============================] - 0s 4ms/step - loss: 0.6677 - auc: 0.5553 - val_loss: 0.6598 - val_auc: 0.7050\n",
      "Epoch 16/100\n",
      "12/12 [==============================] - 0s 4ms/step - loss: 0.6667 - auc: 0.5724 - val_loss: 0.6607 - val_auc: 0.6712\n",
      "Epoch 17/100\n",
      "12/12 [==============================] - 0s 4ms/step - loss: 0.6682 - auc: 0.5272 - val_loss: 0.6609 - val_auc: 0.7041\n",
      "Epoch 18/100\n",
      "12/12 [==============================] - 0s 4ms/step - loss: 0.6665 - auc: 0.5777 - val_loss: 0.6666 - val_auc: 0.7272\n",
      "Epoch 19/100\n",
      "12/12 [==============================] - 0s 4ms/step - loss: 0.6717 - auc: 0.5277 - val_loss: 0.6601 - val_auc: 0.7423\n",
      "Epoch 20/100\n",
      "12/12 [==============================] - 0s 4ms/step - loss: 0.6702 - auc: 0.5257 - val_loss: 0.6587 - val_auc: 0.7467\n",
      "Epoch 21/100\n",
      "12/12 [==============================] - 0s 4ms/step - loss: 0.6683 - auc: 0.5405 - val_loss: 0.6610 - val_auc: 0.7555\n",
      "Epoch 22/100\n",
      "12/12 [==============================] - 0s 4ms/step - loss: 0.6661 - auc: 0.5800 - val_loss: 0.6586 - val_auc: 0.7678\n",
      "Epoch 23/100\n",
      "12/12 [==============================] - 0s 4ms/step - loss: 0.6652 - auc: 0.6021 - val_loss: 0.6582 - val_auc: 0.7841\n",
      "Epoch 24/100\n",
      "12/12 [==============================] - 0s 4ms/step - loss: 0.6686 - auc: 0.5526 - val_loss: 0.6572 - val_auc: 0.8043\n",
      "Epoch 25/100\n",
      "12/12 [==============================] - 0s 4ms/step - loss: 0.6688 - auc: 0.5368 - val_loss: 0.6583 - val_auc: 0.8150\n",
      "Epoch 26/100\n",
      "12/12 [==============================] - 0s 4ms/step - loss: 0.6673 - auc: 0.5425 - val_loss: 0.6608 - val_auc: 0.8248\n",
      "Epoch 27/100\n",
      "12/12 [==============================] - 0s 4ms/step - loss: 0.6643 - auc: 0.6085 - val_loss: 0.6567 - val_auc: 0.8265\n",
      "Epoch 28/100\n",
      "12/12 [==============================] - 0s 4ms/step - loss: 0.6672 - auc: 0.5535 - val_loss: 0.6866 - val_auc: 0.8364\n",
      "Epoch 29/100\n",
      "12/12 [==============================] - 0s 4ms/step - loss: 0.6742 - auc: 0.5428 - val_loss: 0.6553 - val_auc: 0.8451\n",
      "Epoch 30/100\n",
      "12/12 [==============================] - 0s 4ms/step - loss: 0.6631 - auc: 0.6118 - val_loss: 0.6563 - val_auc: 0.8450\n",
      "Epoch 31/100\n",
      "12/12 [==============================] - 0s 4ms/step - loss: 0.6690 - auc: 0.5327 - val_loss: 0.6540 - val_auc: 0.8539\n",
      "Epoch 32/100\n",
      "12/12 [==============================] - 0s 4ms/step - loss: 0.6667 - auc: 0.5526 - val_loss: 0.6572 - val_auc: 0.8536\n",
      "Epoch 33/100\n",
      "12/12 [==============================] - 0s 3ms/step - loss: 0.6644 - auc: 0.5939 - val_loss: 0.6635 - val_auc: 0.8562\n",
      "Epoch 34/100\n",
      "12/12 [==============================] - 0s 4ms/step - loss: 0.6652 - auc: 0.5753 - val_loss: 0.6532 - val_auc: 0.8637\n",
      "Epoch 35/100\n",
      "12/12 [==============================] - 0s 4ms/step - loss: 0.6591 - auc: 0.6685 - val_loss: 0.6533 - val_auc: 0.8684\n",
      "Epoch 36/100\n",
      "12/12 [==============================] - 0s 4ms/step - loss: 0.6573 - auc: 0.6861 - val_loss: 0.6488 - val_auc: 0.8683\n",
      "Epoch 37/100\n",
      "12/12 [==============================] - 0s 4ms/step - loss: 0.6586 - auc: 0.6114 - val_loss: 0.6518 - val_auc: 0.8745\n",
      "Epoch 38/100\n",
      "12/12 [==============================] - 0s 4ms/step - loss: 0.6712 - auc: 0.5581 - val_loss: 0.6497 - val_auc: 0.8753\n",
      "Epoch 39/100\n",
      "12/12 [==============================] - 0s 4ms/step - loss: 0.6572 - auc: 0.6181 - val_loss: 0.6469 - val_auc: 0.8778\n",
      "Epoch 40/100\n",
      "12/12 [==============================] - 0s 4ms/step - loss: 0.6549 - auc: 0.6444 - val_loss: 0.6467 - val_auc: 0.8817\n",
      "Epoch 41/100\n",
      "12/12 [==============================] - 0s 4ms/step - loss: 0.6559 - auc: 0.6126 - val_loss: 0.6664 - val_auc: 0.8816\n",
      "Epoch 42/100\n",
      "12/12 [==============================] - 0s 4ms/step - loss: 0.6604 - auc: 0.5975 - val_loss: 0.6718 - val_auc: 0.8829\n",
      "Epoch 43/100\n",
      "12/12 [==============================] - 0s 3ms/step - loss: 0.6499 - auc: 0.6711 - val_loss: 0.6620 - val_auc: 0.8831\n",
      "Epoch 44/100\n",
      "12/12 [==============================] - 0s 4ms/step - loss: 0.6540 - auc: 0.6223 - val_loss: 0.6606 - val_auc: 0.8860\n",
      "Epoch 45/100\n",
      "12/12 [==============================] - 0s 4ms/step - loss: 0.6512 - auc: 0.6312 - val_loss: 0.6662 - val_auc: 0.8846\n",
      "Epoch 46/100\n",
      "12/12 [==============================] - 0s 4ms/step - loss: 0.6516 - auc: 0.6155 - val_loss: 0.6350 - val_auc: 0.8863\n",
      "Epoch 47/100\n",
      "12/12 [==============================] - 0s 4ms/step - loss: 0.6447 - auc: 0.6449 - val_loss: 0.6513 - val_auc: 0.8878\n",
      "Epoch 48/100\n",
      "12/12 [==============================] - 0s 3ms/step - loss: 0.6442 - auc: 0.6389 - val_loss: 0.6418 - val_auc: 0.8870\n",
      "Epoch 49/100\n",
      "12/12 [==============================] - 0s 4ms/step - loss: 0.6459 - auc: 0.6357 - val_loss: 0.6459 - val_auc: 0.8893\n",
      "Epoch 50/100\n",
      "12/12 [==============================] - 0s 4ms/step - loss: 0.6452 - auc: 0.6323 - val_loss: 0.6309 - val_auc: 0.8902\n",
      "Epoch 51/100\n",
      "12/12 [==============================] - 0s 4ms/step - loss: 0.6457 - auc: 0.6315 - val_loss: 0.6314 - val_auc: 0.8900\n",
      "Epoch 52/100\n",
      "12/12 [==============================] - 0s 4ms/step - loss: 0.6430 - auc: 0.6641 - val_loss: 0.6312 - val_auc: 0.8910\n",
      "Epoch 53/100\n",
      "12/12 [==============================] - 0s 4ms/step - loss: 0.6284 - auc: 0.7190 - val_loss: 0.6229 - val_auc: 0.8909\n",
      "Epoch 54/100\n",
      "12/12 [==============================] - 0s 4ms/step - loss: 0.6307 - auc: 0.6842 - val_loss: 0.6112 - val_auc: 0.8913\n",
      "Epoch 55/100\n",
      "12/12 [==============================] - 0s 4ms/step - loss: 0.6146 - auc: 0.7669 - val_loss: 0.6888 - val_auc: 0.8919\n",
      "Epoch 56/100\n",
      "12/12 [==============================] - 0s 4ms/step - loss: 0.6341 - auc: 0.6722 - val_loss: 0.6034 - val_auc: 0.8930\n",
      "Epoch 57/100\n",
      "12/12 [==============================] - 0s 4ms/step - loss: 0.6167 - auc: 0.7093 - val_loss: 0.6382 - val_auc: 0.8947\n",
      "Epoch 58/100\n",
      "12/12 [==============================] - 0s 4ms/step - loss: 0.6087 - auc: 0.7376 - val_loss: 0.5953 - val_auc: 0.8940\n",
      "Epoch 59/100\n",
      "12/12 [==============================] - 0s 5ms/step - loss: 0.6005 - auc: 0.7494 - val_loss: 0.7364 - val_auc: 0.8944\n",
      "Epoch 60/100\n",
      "12/12 [==============================] - 0s 4ms/step - loss: 0.7115 - auc: 0.6230 - val_loss: 0.6644 - val_auc: 0.8949\n",
      "Epoch 61/100\n",
      "12/12 [==============================] - 0s 3ms/step - loss: 0.6033 - auc: 0.7569 - val_loss: 0.6128 - val_auc: 0.8963\n",
      "Epoch 62/100\n",
      "12/12 [==============================] - 0s 3ms/step - loss: 0.6008 - auc: 0.7389 - val_loss: 0.5841 - val_auc: 0.8963\n"
     ]
    },
    {
     "name": "stdout",
     "output_type": "stream",
     "text": [
      "Epoch 63/100\n",
      "12/12 [==============================] - 0s 4ms/step - loss: 0.7284 - auc: 0.6213 - val_loss: 0.8073 - val_auc: 0.8962\n",
      "Epoch 64/100\n",
      "12/12 [==============================] - 0s 3ms/step - loss: 0.7721 - auc: 0.6045 - val_loss: 0.6784 - val_auc: 0.8957\n",
      "Epoch 65/100\n",
      "12/12 [==============================] - 0s 4ms/step - loss: 0.6551 - auc: 0.6382 - val_loss: 0.7003 - val_auc: 0.8977\n",
      "Epoch 66/100\n",
      "12/12 [==============================] - 0s 4ms/step - loss: 0.6554 - auc: 0.6130 - val_loss: 0.6306 - val_auc: 0.8966\n",
      "Epoch 67/100\n",
      "12/12 [==============================] - 0s 4ms/step - loss: 0.6332 - auc: 0.7876 - val_loss: 0.6191 - val_auc: 0.8973\n",
      "Epoch 68/100\n",
      "12/12 [==============================] - 0s 4ms/step - loss: 0.6214 - auc: 0.8363 - val_loss: 0.6062 - val_auc: 0.8970\n",
      "Epoch 69/100\n",
      "12/12 [==============================] - 0s 4ms/step - loss: 0.6170 - auc: 0.7432 - val_loss: 0.5925 - val_auc: 0.8974\n",
      "Epoch 70/100\n",
      "12/12 [==============================] - 0s 3ms/step - loss: 0.6183 - auc: 0.7076 - val_loss: 0.5835 - val_auc: 0.8976\n",
      "Epoch 71/100\n",
      "12/12 [==============================] - 0s 4ms/step - loss: 0.6487 - auc: 0.6498 - val_loss: 0.5973 - val_auc: 0.8983\n",
      "Epoch 72/100\n",
      "12/12 [==============================] - 0s 4ms/step - loss: 0.6101 - auc: 0.7260 - val_loss: 0.5834 - val_auc: 0.8986\n",
      "Epoch 73/100\n",
      "12/12 [==============================] - 0s 4ms/step - loss: 0.6089 - auc: 0.7193 - val_loss: 0.6338 - val_auc: 0.8988\n",
      "Epoch 74/100\n",
      "12/12 [==============================] - 0s 4ms/step - loss: 0.6096 - auc: 0.7147 - val_loss: 0.5708 - val_auc: 0.8991\n",
      "Epoch 75/100\n",
      "12/12 [==============================] - 0s 4ms/step - loss: 0.6201 - auc: 0.6887 - val_loss: 0.5809 - val_auc: 0.8997\n",
      "Epoch 76/100\n",
      "12/12 [==============================] - 0s 4ms/step - loss: 0.5737 - auc: 0.8367 - val_loss: 0.5690 - val_auc: 0.9002\n",
      "Epoch 77/100\n",
      "12/12 [==============================] - 0s 4ms/step - loss: 0.5854 - auc: 0.7639 - val_loss: 0.6397 - val_auc: 0.8998\n",
      "Epoch 78/100\n",
      "12/12 [==============================] - 0s 4ms/step - loss: 0.6887 - auc: 0.6547 - val_loss: 0.7610 - val_auc: 0.8998\n",
      "Epoch 79/100\n",
      "12/12 [==============================] - 0s 3ms/step - loss: 0.6130 - auc: 0.7070 - val_loss: 0.5629 - val_auc: 0.9003\n",
      "Epoch 80/100\n",
      "12/12 [==============================] - 0s 4ms/step - loss: 0.5688 - auc: 0.8370 - val_loss: 0.5602 - val_auc: 0.9014\n",
      "Epoch 81/100\n",
      "12/12 [==============================] - 0s 4ms/step - loss: 0.5599 - auc: 0.8212 - val_loss: 0.5386 - val_auc: 0.9018\n",
      "Epoch 82/100\n",
      "12/12 [==============================] - 0s 4ms/step - loss: 0.6345 - auc: 0.6927 - val_loss: 0.8989 - val_auc: 0.9018\n",
      "Epoch 83/100\n",
      "12/12 [==============================] - 0s 4ms/step - loss: 0.6356 - auc: 0.6980 - val_loss: 0.6397 - val_auc: 0.9020\n",
      "Epoch 84/100\n",
      "12/12 [==============================] - 0s 4ms/step - loss: 0.6127 - auc: 0.7138 - val_loss: 0.5577 - val_auc: 0.9023\n",
      "Epoch 85/100\n",
      "12/12 [==============================] - 0s 4ms/step - loss: 0.5580 - auc: 0.8220 - val_loss: 0.5383 - val_auc: 0.9026\n",
      "Epoch 86/100\n",
      "12/12 [==============================] - 0s 4ms/step - loss: 0.5579 - auc: 0.8206 - val_loss: 0.5311 - val_auc: 0.9030\n",
      "Epoch 87/100\n",
      "12/12 [==============================] - 0s 4ms/step - loss: 0.5584 - auc: 0.7991 - val_loss: 0.5170 - val_auc: 0.9034\n",
      "Epoch 88/100\n",
      "12/12 [==============================] - 0s 3ms/step - loss: 0.5662 - auc: 0.7804 - val_loss: 0.5487 - val_auc: 0.9036\n",
      "Epoch 89/100\n",
      "12/12 [==============================] - 0s 4ms/step - loss: 0.5225 - auc: 0.8723 - val_loss: 0.5277 - val_auc: 0.9039\n",
      "Epoch 90/100\n",
      "12/12 [==============================] - 0s 4ms/step - loss: 0.5733 - auc: 0.7672 - val_loss: 0.5124 - val_auc: 0.9043\n",
      "Epoch 91/100\n",
      "12/12 [==============================] - 0s 4ms/step - loss: 0.5921 - auc: 0.7528 - val_loss: 0.6974 - val_auc: 0.9052\n",
      "Epoch 92/100\n",
      "12/12 [==============================] - 0s 4ms/step - loss: 0.5878 - auc: 0.7551 - val_loss: 0.4998 - val_auc: 0.9055\n",
      "Epoch 93/100\n",
      "12/12 [==============================] - 0s 4ms/step - loss: 0.5311 - auc: 0.8361 - val_loss: 0.5335 - val_auc: 0.9059\n",
      "Epoch 94/100\n",
      "12/12 [==============================] - 0s 4ms/step - loss: 0.5146 - auc: 0.8617 - val_loss: 0.5212 - val_auc: 0.9066\n",
      "Epoch 95/100\n",
      "12/12 [==============================] - 0s 4ms/step - loss: 0.5242 - auc: 0.8380 - val_loss: 0.5116 - val_auc: 0.9072\n",
      "Epoch 96/100\n",
      "12/12 [==============================] - 0s 4ms/step - loss: 0.5096 - auc: 0.8498 - val_loss: 0.4850 - val_auc: 0.9078\n",
      "Epoch 97/100\n",
      "12/12 [==============================] - 0s 4ms/step - loss: 0.6848 - auc: 0.7152 - val_loss: 0.6220 - val_auc: 0.9086\n",
      "Epoch 98/100\n",
      "12/12 [==============================] - 0s 4ms/step - loss: 0.5464 - auc: 0.8027 - val_loss: 0.4850 - val_auc: 0.9085\n",
      "Epoch 99/100\n",
      "12/12 [==============================] - 0s 4ms/step - loss: 0.5340 - auc: 0.8217 - val_loss: 0.6807 - val_auc: 0.9096\n",
      "Epoch 100/100\n",
      "12/12 [==============================] - 0s 4ms/step - loss: 0.6123 - auc: 0.7434 - val_loss: 0.8626 - val_auc: 0.9091\n"
     ]
    }
   ],
   "source": [
    "allModels_597, r_597, model_597 = GridSearchNN(xtrain_597, ytrain_597, param_list, cv=3, rand=False)"
   ]
  },
  {
   "cell_type": "code",
   "execution_count": 74,
   "id": "84ecc5ff",
   "metadata": {},
   "outputs": [
    {
     "ename": "AttributeError",
     "evalue": "'Sequential' object has no attribute 'predict_classes'",
     "output_type": "error",
     "traceback": [
      "\u001b[1;31m---------------------------------------------------------------------------\u001b[0m",
      "\u001b[1;31mAttributeError\u001b[0m                            Traceback (most recent call last)",
      "\u001b[1;32m<ipython-input-74-c3d12cfdea5c>\u001b[0m in \u001b[0;36m<module>\u001b[1;34m\u001b[0m\n\u001b[1;32m----> 1\u001b[1;33m \u001b[0mpred_597\u001b[0m \u001b[1;33m=\u001b[0m \u001b[0mmodel_597\u001b[0m\u001b[1;33m.\u001b[0m\u001b[0mpredict_classes\u001b[0m\u001b[1;33m(\u001b[0m\u001b[0mxtest_597\u001b[0m\u001b[1;33m)\u001b[0m\u001b[1;33m\u001b[0m\u001b[1;33m\u001b[0m\u001b[0m\n\u001b[0m",
      "\u001b[1;31mAttributeError\u001b[0m: 'Sequential' object has no attribute 'predict_classes'"
     ]
    }
   ],
   "source": [
    "pred_597 = model_597.predict_classes(xtest_597)"
   ]
  },
  {
   "cell_type": "code",
   "execution_count": null,
   "id": "13c2b7ed",
   "metadata": {},
   "outputs": [],
   "source": [
    "y_pred_keras_597 = model_597.predict(xtest_597).ravel()\n",
    "fpr_keras, tpr_keras, thresholds_keras = roc_curve(ytest_597, y_pred_keras_597)\n",
    "auc_keras_597 = auc(fpr_keras, tpr_keras)"
   ]
  },
  {
   "cell_type": "code",
   "execution_count": null,
   "id": "d2f40549",
   "metadata": {},
   "outputs": [],
   "source": [
    "plt.figure(1)\n",
    "plt.plot([0, 1], [0, 1], 'k--')\n",
    "plt.plot(fpr_keras, tpr_keras, label='Keras 597 (area = {:.3f})'.format(auc_keras_597))\n",
    "\n",
    "plt.xlabel('False positive rate')\n",
    "plt.ylabel('True positive rate')\n",
    "plt.title('ROC curve')\n",
    "plt.legend(loc='best')\n",
    "plt.show()"
   ]
  },
  {
   "cell_type": "markdown",
   "id": "43603030",
   "metadata": {},
   "source": [
    "# 4 - NN_Bilanciato"
   ]
  },
  {
   "cell_type": "code",
   "execution_count": null,
   "id": "b490fbce",
   "metadata": {},
   "outputs": [],
   "source": [
    "model1_sb_597 = build_model_1(xtrain_sb_597)\n",
    "history1_sb_597 = model1_sb_597.fit(xtrain_sb_597, ytrain_sb_597, validation_data=(xtest_sb_597, ytest_sb_597), epochs=30, batch_size=10).history\n",
    "\n",
    "model2_sb_597 = build_model_2(xtrain_sb_597)\n",
    "history2_sb_597 = model2_sb_597.fit(xtrain_sb_597, ytrain_sb_597, validation_data=(xtest_sb_597, ytest_sb_597), epochs=30, batch_size=50).history"
   ]
  },
  {
   "cell_type": "code",
   "execution_count": null,
   "id": "fb3fbd48",
   "metadata": {},
   "outputs": [],
   "source": [
    "test_loss_1_sb_597, test_auc_1_sb_597 = model1_sb_597.evaluate(xtest_sb_597, ytest_sb_597)\n",
    "test_loss_2_sb_597, test_auc_2_sb_597 = model2_sb_597.evaluate(xtest_sb_597, ytest_sb_597)\n",
    "\n",
    "print('Loss %f, AUC %f' % (test_loss_1_sb_597, test_auc_1_sb_597))\n",
    "print('Loss %f, AUC %f' % (test_loss_2_sb_597, test_auc_2_sb_597))"
   ]
  },
  {
   "cell_type": "code",
   "execution_count": null,
   "id": "bb88871c",
   "metadata": {},
   "outputs": [],
   "source": [
    "allModels_sb_597, r_sb_597, model_sb_597 = GridSearchNN(xtrain_sb_597, ytrain_sb_597, param_list, cv=3, rand=False)"
   ]
  },
  {
   "cell_type": "code",
   "execution_count": null,
   "id": "03f561d0",
   "metadata": {},
   "outputs": [],
   "source": [
    "pred_sb_597 = model_sb_597.predict_classes(xtest_sb_597)"
   ]
  },
  {
   "cell_type": "code",
   "execution_count": null,
   "id": "643b507a",
   "metadata": {},
   "outputs": [],
   "source": [
    "y_pred_keras_sb_597 = model_sb_597.predict(xtest_sb_597).ravel()\n",
    "fpr_keras, tpr_keras, thresholds_keras = roc_curve(ytest_sb_597, y_pred_keras_sb_597)\n",
    "auc_keras_sb_597 = auc(fpr_keras, tpr_keras)"
   ]
  },
  {
   "cell_type": "code",
   "execution_count": null,
   "id": "b9756f7e",
   "metadata": {},
   "outputs": [],
   "source": [
    "plt.figure(1)\n",
    "plt.plot([0, 1], [0, 1], 'k--')\n",
    "plt.plot(fpr_keras, tpr_keras, label='Keras bilancato 597 (area = {:.3f})'.format(auc_keras_sb_597))\n",
    "\n",
    "plt.xlabel('False positive rate')\n",
    "plt.ylabel('True positive rate')\n",
    "plt.title('ROC curve')\n",
    "plt.legend(loc='best')\n",
    "plt.show()"
   ]
  },
  {
   "cell_type": "code",
   "execution_count": null,
   "id": "d3a35d8d",
   "metadata": {},
   "outputs": [],
   "source": []
  },
  {
   "cell_type": "code",
   "execution_count": null,
   "id": "2576a351",
   "metadata": {},
   "outputs": [],
   "source": []
  },
  {
   "cell_type": "code",
   "execution_count": null,
   "id": "d0b6a6e7",
   "metadata": {},
   "outputs": [],
   "source": []
  },
  {
   "cell_type": "code",
   "execution_count": null,
   "id": "f7a328e5",
   "metadata": {},
   "outputs": [],
   "source": []
  },
  {
   "cell_type": "markdown",
   "id": "ed76ad63",
   "metadata": {},
   "source": [
    "# ----- Curve d'apprendimento"
   ]
  },
  {
   "cell_type": "code",
   "execution_count": null,
   "id": "2d6031fe",
   "metadata": {},
   "outputs": [],
   "source": [
    "from sklearn.model_selection import learning_curve\n",
    "def plot_learning_curve(estimator, title, X, y, axes=None, ylim=None, cv=None,\n",
    "                        n_jobs=None, train_sizes=np.linspace(.1, 1.0, 5)):\n",
    "    if axes is None:\n",
    "        _, axes = plt.subplots(1, 3, figsize=(20, 5))\n",
    "\n",
    "    axes.set_title(title)\n",
    "    if ylim is not None:\n",
    "        axes.set_ylim(*ylim)\n",
    "    axes.set_xlabel(\"Examples\")\n",
    "    axes.set_ylabel(\"Score\")\n",
    "\n",
    "    train_sizes, train_scores, test_scores, fit_times, _ = \\\n",
    "        learning_curve(estimator, X, y, cv=cv, n_jobs=n_jobs,\n",
    "                       train_sizes=train_sizes,\n",
    "                       return_times=True)\n",
    "    train_scores_mean = np.mean(train_scores, axis=1)\n",
    "    train_scores_std = np.std(train_scores, axis=1)\n",
    "    test_scores_mean = np.mean(test_scores, axis=1)\n",
    "    test_scores_std = np.std(test_scores, axis=1)\n",
    "    fit_times_mean = np.mean(fit_times, axis=1)\n",
    "    fit_times_std = np.std(fit_times, axis=1)\n",
    "\n",
    "    # Plot learning curve\n",
    "    axes.grid()\n",
    "    axes.fill_between(train_sizes, train_scores_mean - train_scores_std,\n",
    "                         train_scores_mean + train_scores_std, alpha=0.1,\n",
    "                         color=\"r\")\n",
    "    axes.fill_between(train_sizes, test_scores_mean - test_scores_std,\n",
    "                         test_scores_mean + test_scores_std, alpha=0.1,\n",
    "                         color=\"g\")\n",
    "    axes.plot(train_sizes, train_scores_mean, 'o-', color=\"r\",\n",
    "                 label=\"Training score\")\n",
    "    axes.plot(train_sizes, test_scores_mean, 'o-', color=\"g\",\n",
    "                 label=\"Cross-validation score\")\n",
    "    axes.legend(loc=\"best\")\n",
    "    return plt"
   ]
  },
  {
   "cell_type": "code",
   "execution_count": null,
   "id": "1708a3f1",
   "metadata": {},
   "outputs": [],
   "source": [
    "def plot_learning_dt(X1, y1, X2, y2):\n",
    "    \n",
    "    fig, axes = plt.subplots(1, 2, figsize=(16, 5))\n",
    "\n",
    "    cv = ShuffleSplit(n_splits=10, test_size=0.3, random_state=0)\n",
    "    estimator = tree.DecisionTreeClassifier(criterion = \"entropy\", max_depth = None, min_samples_leaf = 20, min_samples_split = 10)\n",
    "    title = \"Decision Tree G1\"\n",
    "    plot_learning_curve(estimator, title, X1, y1, axes=axes[0], ylim=(0.3, 1.01),\n",
    "                        cv=cv, n_jobs=10)\n",
    "    print(\"done\")\n",
    "    cv = ShuffleSplit(n_splits=10, test_size=0.3, random_state=0)\n",
    "    estimator = tree.DecisionTreeClassifier(criterion = \"gini\", max_depth = None, min_samples_leaf = 20, min_samples_split = 10)\n",
    "    title = \"Decision Tree G1 Bilanciato\"\n",
    "    plot_learning_curve(estimator, title, X2, y2, axes=axes[1], ylim=(0.3, 1.01),\n",
    "                        cv=cv, n_jobs=10)\n",
    "    plt.show()"
   ]
  },
  {
   "cell_type": "code",
   "execution_count": null,
   "id": "77dc3333",
   "metadata": {},
   "outputs": [],
   "source": [
    "plot_learning_dt(xtrain_597, ytrain_597, xtrain_sb_597, ytrain_sb_597)"
   ]
  },
  {
   "cell_type": "code",
   "execution_count": null,
   "id": "088c6b2e",
   "metadata": {},
   "outputs": [],
   "source": [
    "def plot_learning_regr(X1, y1, X2, y2):\n",
    "    \n",
    "    fig, axes = plt.subplots(1, 2, figsize=(16, 5))\n",
    "\n",
    "    cv = ShuffleSplit(n_splits=10, test_size=0.3, random_state=0)\n",
    "    estimator = LogisticRegression()\n",
    "    title = \"Logistic Regression 597\"\n",
    "    plot_learning_curve(estimator, title, X1, y1, axes=axes[0], ylim=(0.3, 1.01),\n",
    "                        cv=cv, n_jobs=10)\n",
    "\n",
    "    cv = ShuffleSplit(n_splits=10, test_size=0.3, random_state=0)\n",
    "    estimator = LogisticRegression()\n",
    "    title = \"Logistic Regression 597 Bilanciato\"\n",
    "    plot_learning_curve(estimator, title, X2, y2, axes=axes[1], ylim=(0.3, 1.01),\n",
    "                        cv=cv, n_jobs=10)\n",
    "    plt.show()"
   ]
  },
  {
   "cell_type": "code",
   "execution_count": null,
   "id": "eb77f351",
   "metadata": {},
   "outputs": [],
   "source": [
    "plot_learning_regr(xtrain_597, ytrain_597, xtrain_sb_597, ytrain_sb_597)"
   ]
  },
  {
   "cell_type": "code",
   "execution_count": null,
   "id": "804bc720",
   "metadata": {},
   "outputs": [],
   "source": []
  }
 ],
 "metadata": {
  "kernelspec": {
   "display_name": "Python 3",
   "language": "python",
   "name": "python3"
  },
  "language_info": {
   "codemirror_mode": {
    "name": "ipython",
    "version": 3
   },
   "file_extension": ".py",
   "mimetype": "text/x-python",
   "name": "python",
   "nbconvert_exporter": "python",
   "pygments_lexer": "ipython3",
   "version": "3.8.8"
  }
 },
 "nbformat": 4,
 "nbformat_minor": 5
}
