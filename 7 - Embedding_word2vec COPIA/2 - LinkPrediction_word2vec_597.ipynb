{
 "cells": [
  {
   "cell_type": "code",
   "execution_count": 1,
   "id": "a931aa6b",
   "metadata": {},
   "outputs": [],
   "source": [
    "import pandas as pd\n",
    "import numpy as np\n",
    "import random\n",
    "import networkx as nx\n",
    "from tqdm import tqdm\n",
    "import re\n",
    "import matplotlib.pyplot as plt\n",
    "import itertools\n",
    "from operator import itemgetter\n",
    "import pickle\n",
    "\n",
    "from sklearn.linear_model import LogisticRegression\n",
    "from sklearn.metrics import classification_report, roc_auc_score\n",
    "from sklearn.model_selection import train_test_split\n",
    "from sklearn.metrics import confusion_matrix\n",
    "from sklearn.metrics import roc_curve\n",
    "from sklearn.metrics import auc"
   ]
  },
  {
   "cell_type": "code",
   "execution_count": 2,
   "id": "b77d27e7",
   "metadata": {},
   "outputs": [],
   "source": [
    "import tensorflow as tf\n",
    "import tensorflow.keras\n",
    "import tensorflow.keras.backend as K\n",
    "from tensorflow.keras.models import Sequential \n",
    "from tensorflow.keras.layers import Dense, Activation\n",
    "from tensorflow.keras.wrappers.scikit_learn import KerasClassifier\n",
    "from tensorflow.keras import optimizers, utils, initializers, regularizers\n",
    "from tensorflow.keras.callbacks import EarlyStopping"
   ]
  },
  {
   "cell_type": "code",
   "execution_count": 3,
   "id": "c8fd9502",
   "metadata": {},
   "outputs": [],
   "source": [
    "import linkpred\n",
    "from linkpred.evaluation import Pair\n",
    "import seaborn as sns"
   ]
  },
  {
   "cell_type": "code",
   "execution_count": 4,
   "id": "25f08af2",
   "metadata": {},
   "outputs": [],
   "source": [
    "import sklearn.metrics as metrics"
   ]
  },
  {
   "cell_type": "code",
   "execution_count": 5,
   "id": "f34e7fd7",
   "metadata": {},
   "outputs": [],
   "source": [
    "from gensim.models import Word2Vec"
   ]
  },
  {
   "cell_type": "code",
   "execution_count": 6,
   "id": "9390ee20",
   "metadata": {},
   "outputs": [],
   "source": [
    "with open('universe_597.pickle', 'rb') as f:\n",
    "    universe_597 = pickle.load(f)"
   ]
  },
  {
   "cell_type": "code",
   "execution_count": 7,
   "id": "cc00d535",
   "metadata": {},
   "outputs": [
    {
     "data": {
      "text/plain": [
       "12246"
      ]
     },
     "execution_count": 7,
     "metadata": {},
     "output_type": "execute_result"
    }
   ],
   "source": [
    "len(universe_597)"
   ]
  },
  {
   "cell_type": "code",
   "execution_count": 8,
   "id": "16899a6c",
   "metadata": {},
   "outputs": [],
   "source": [
    "embedding_pickle_597 = pd.read_pickle('embedding_pickle_597.csv')"
   ]
  },
  {
   "cell_type": "code",
   "execution_count": 9,
   "id": "70bc6761",
   "metadata": {},
   "outputs": [],
   "source": [
    "edges_597 = pd.read_pickle('edges_original_597.csv')"
   ]
  },
  {
   "cell_type": "code",
   "execution_count": 10,
   "id": "28c978b4",
   "metadata": {},
   "outputs": [],
   "source": [
    "H_597 = nx.read_graphml(\"H_597.graphml\")"
   ]
  },
  {
   "cell_type": "code",
   "execution_count": 11,
   "id": "eb20ae6d",
   "metadata": {},
   "outputs": [],
   "source": [
    "all_unconnected_pairs_597 = []"
   ]
  },
  {
   "cell_type": "code",
   "execution_count": 12,
   "id": "2ddf98f9",
   "metadata": {},
   "outputs": [],
   "source": [
    "def check_isequal(x, a, b):\n",
    "    if x[0] == a:\n",
    "        if x[1] == b:\n",
    "            return True\n",
    "    if x[1] == a:\n",
    "        if x[0] == b:\n",
    "            return True\n",
    "    return False"
   ]
  },
  {
   "cell_type": "code",
   "execution_count": 13,
   "id": "1061e2d5",
   "metadata": {},
   "outputs": [],
   "source": [
    "for ui in universe_597:\n",
    "    is_not = False\n",
    "    for i,j in edges_597.values:\n",
    "        if check_isequal(ui, i, j):\n",
    "            is_not = True\n",
    "            break\n",
    "    if not is_not:\n",
    "        all_unconnected_pairs_597.append((ui[0], ui[1]))"
   ]
  },
  {
   "cell_type": "code",
   "execution_count": 14,
   "id": "fd5704a9",
   "metadata": {},
   "outputs": [
    {
     "data": {
      "text/plain": [
       "9385"
      ]
     },
     "execution_count": 14,
     "metadata": {},
     "output_type": "execute_result"
    }
   ],
   "source": [
    "len(all_unconnected_pairs_597)"
   ]
  },
  {
   "cell_type": "code",
   "execution_count": 15,
   "id": "864c37e9",
   "metadata": {},
   "outputs": [],
   "source": [
    "word2vec_597 = Word2Vec.load(\"word2vec_597.model\")"
   ]
  },
  {
   "cell_type": "markdown",
   "id": "618d1ed9",
   "metadata": {},
   "source": [
    "Collegamenti inesistenti => target negativo"
   ]
  },
  {
   "cell_type": "code",
   "execution_count": 16,
   "id": "5af89530",
   "metadata": {},
   "outputs": [],
   "source": [
    "node_1_unlinked = [word2vec_597.wv[i[0]] for i in all_unconnected_pairs_597]\n",
    "node_2_unlinked = [word2vec_597.wv[i[1]] for i in all_unconnected_pairs_597]\n",
    "\n",
    "data_597 = pd.DataFrame({'node_1':node_1_unlinked, \n",
    "                     'node_2':node_2_unlinked})\n",
    "\n",
    "# add target variable 'link'\n",
    "data_597['link'] = 0"
   ]
  },
  {
   "cell_type": "code",
   "execution_count": 17,
   "id": "93f7bf7a",
   "metadata": {},
   "outputs": [
    {
     "data": {
      "text/html": [
       "<div>\n",
       "<style scoped>\n",
       "    .dataframe tbody tr th:only-of-type {\n",
       "        vertical-align: middle;\n",
       "    }\n",
       "\n",
       "    .dataframe tbody tr th {\n",
       "        vertical-align: top;\n",
       "    }\n",
       "\n",
       "    .dataframe thead th {\n",
       "        text-align: right;\n",
       "    }\n",
       "</style>\n",
       "<table border=\"1\" class=\"dataframe\">\n",
       "  <thead>\n",
       "    <tr style=\"text-align: right;\">\n",
       "      <th></th>\n",
       "      <th>node_1</th>\n",
       "      <th>node_2</th>\n",
       "      <th>link</th>\n",
       "    </tr>\n",
       "  </thead>\n",
       "  <tbody>\n",
       "    <tr>\n",
       "      <th>0</th>\n",
       "      <td>[-0.008231005, -0.004594763, -0.00755696, 0.00...</td>\n",
       "      <td>[0.004507509, 0.0057908525, 0.008361925, -0.00...</td>\n",
       "      <td>0</td>\n",
       "    </tr>\n",
       "    <tr>\n",
       "      <th>1</th>\n",
       "      <td>[-0.008885862, 0.004954352, 0.0037993155, 0.00...</td>\n",
       "      <td>[0.005989758, 0.0075734872, 0.006979599, 0.007...</td>\n",
       "      <td>0</td>\n",
       "    </tr>\n",
       "    <tr>\n",
       "      <th>2</th>\n",
       "      <td>[0.002120536, 0.0014593028, 0.009171474, -0.00...</td>\n",
       "      <td>[0.008841461, 0.002022296, -0.0035497195, -0.0...</td>\n",
       "      <td>0</td>\n",
       "    </tr>\n",
       "    <tr>\n",
       "      <th>3</th>\n",
       "      <td>[-3.9411578e-05, 0.0034265118, -0.0050224867, ...</td>\n",
       "      <td>[-0.0053557553, 0.0024364803, -0.0042181546, -...</td>\n",
       "      <td>0</td>\n",
       "    </tr>\n",
       "    <tr>\n",
       "      <th>4</th>\n",
       "      <td>[-0.0013594986, -0.0023813576, -0.0068328995, ...</td>\n",
       "      <td>[-0.004604383, -0.009412111, 0.008800645, 0.00...</td>\n",
       "      <td>0</td>\n",
       "    </tr>\n",
       "    <tr>\n",
       "      <th>...</th>\n",
       "      <td>...</td>\n",
       "      <td>...</td>\n",
       "      <td>...</td>\n",
       "    </tr>\n",
       "    <tr>\n",
       "      <th>9380</th>\n",
       "      <td>[-0.0041587707, -0.0025582802, -0.00082691945,...</td>\n",
       "      <td>[-0.008081911, -0.00036678519, 0.009434214, 0....</td>\n",
       "      <td>0</td>\n",
       "    </tr>\n",
       "    <tr>\n",
       "      <th>9381</th>\n",
       "      <td>[-0.0053436984, -0.004193794, 0.007578733, -0....</td>\n",
       "      <td>[-0.0010905871, 0.004840827, -0.006455613, -0....</td>\n",
       "      <td>0</td>\n",
       "    </tr>\n",
       "    <tr>\n",
       "      <th>9382</th>\n",
       "      <td>[-0.003419323, 0.007969065, -0.0014578901, 0.0...</td>\n",
       "      <td>[-0.0014829355, -0.0011742322, 0.007540557, 0....</td>\n",
       "      <td>0</td>\n",
       "    </tr>\n",
       "    <tr>\n",
       "      <th>9383</th>\n",
       "      <td>[-6.297439e-05, -0.0029983763, 0.0013136878, -...</td>\n",
       "      <td>[-3.9411578e-05, 0.0034265118, -0.0050224867, ...</td>\n",
       "      <td>0</td>\n",
       "    </tr>\n",
       "    <tr>\n",
       "      <th>9384</th>\n",
       "      <td>[-0.0013594986, -0.0023813576, -0.0068328995, ...</td>\n",
       "      <td>[-0.006453036, 0.0061549237, -0.0065229624, -0...</td>\n",
       "      <td>0</td>\n",
       "    </tr>\n",
       "  </tbody>\n",
       "</table>\n",
       "<p>9385 rows × 3 columns</p>\n",
       "</div>"
      ],
      "text/plain": [
       "                                                 node_1  \\\n",
       "0     [-0.008231005, -0.004594763, -0.00755696, 0.00...   \n",
       "1     [-0.008885862, 0.004954352, 0.0037993155, 0.00...   \n",
       "2     [0.002120536, 0.0014593028, 0.009171474, -0.00...   \n",
       "3     [-3.9411578e-05, 0.0034265118, -0.0050224867, ...   \n",
       "4     [-0.0013594986, -0.0023813576, -0.0068328995, ...   \n",
       "...                                                 ...   \n",
       "9380  [-0.0041587707, -0.0025582802, -0.00082691945,...   \n",
       "9381  [-0.0053436984, -0.004193794, 0.007578733, -0....   \n",
       "9382  [-0.003419323, 0.007969065, -0.0014578901, 0.0...   \n",
       "9383  [-6.297439e-05, -0.0029983763, 0.0013136878, -...   \n",
       "9384  [-0.0013594986, -0.0023813576, -0.0068328995, ...   \n",
       "\n",
       "                                                 node_2  link  \n",
       "0     [0.004507509, 0.0057908525, 0.008361925, -0.00...     0  \n",
       "1     [0.005989758, 0.0075734872, 0.006979599, 0.007...     0  \n",
       "2     [0.008841461, 0.002022296, -0.0035497195, -0.0...     0  \n",
       "3     [-0.0053557553, 0.0024364803, -0.0042181546, -...     0  \n",
       "4     [-0.004604383, -0.009412111, 0.008800645, 0.00...     0  \n",
       "...                                                 ...   ...  \n",
       "9380  [-0.008081911, -0.00036678519, 0.009434214, 0....     0  \n",
       "9381  [-0.0010905871, 0.004840827, -0.006455613, -0....     0  \n",
       "9382  [-0.0014829355, -0.0011742322, 0.007540557, 0....     0  \n",
       "9383  [-3.9411578e-05, 0.0034265118, -0.0050224867, ...     0  \n",
       "9384  [-0.006453036, 0.0061549237, -0.0065229624, -0...     0  \n",
       "\n",
       "[9385 rows x 3 columns]"
      ]
     },
     "execution_count": 17,
     "metadata": {},
     "output_type": "execute_result"
    }
   ],
   "source": [
    "data_597"
   ]
  },
  {
   "cell_type": "code",
   "execution_count": 18,
   "id": "b30068ee",
   "metadata": {},
   "outputs": [],
   "source": [
    "def omissibile_links(G, df_edges):\n",
    "    initial_node_count = len(G.nodes)\n",
    "\n",
    "    fb_df_temp = df_edges.copy()\n",
    "\n",
    "    # empty list to store removable links\n",
    "    omissible_links_index = []\n",
    "\n",
    "    for i in tqdm(df_edges.index.values):\n",
    "\n",
    "      # remove a node pair and build a new graph\n",
    "      G_temp = nx.from_pandas_edgelist(fb_df_temp.drop(index = i), \"first\", \"second\", create_using=nx.Graph())\n",
    "\n",
    "      # check there is no spliting of graph and number of nodes is same\n",
    "      if (nx.number_connected_components(G_temp) == 1) and (len(G_temp.nodes) == initial_node_count):\n",
    "        omissible_links_index.append(i)\n",
    "        fb_df_temp = fb_df_temp.drop(index = i)\n",
    "    return omissible_links_index"
   ]
  },
  {
   "cell_type": "code",
   "execution_count": 19,
   "id": "94de34d9",
   "metadata": {},
   "outputs": [
    {
     "name": "stderr",
     "output_type": "stream",
     "text": [
      "100%|█████████████████████████████████████████████████████████████████████████████| 2861/2861 [00:09<00:00, 312.36it/s]\n"
     ]
    }
   ],
   "source": [
    "omissible_links_597 =  omissibile_links(H_597, edges_597)"
   ]
  },
  {
   "cell_type": "code",
   "execution_count": 20,
   "id": "87ab9bea",
   "metadata": {},
   "outputs": [
    {
     "data": {
      "text/plain": [
       "2861"
      ]
     },
     "execution_count": 20,
     "metadata": {},
     "output_type": "execute_result"
    }
   ],
   "source": [
    "len(edges_597)"
   ]
  },
  {
   "cell_type": "code",
   "execution_count": 21,
   "id": "f6be6011",
   "metadata": {},
   "outputs": [
    {
     "data": {
      "text/plain": [
       "2705"
      ]
     },
     "execution_count": 21,
     "metadata": {},
     "output_type": "execute_result"
    }
   ],
   "source": [
    "len(omissible_links_597)"
   ]
  },
  {
   "cell_type": "code",
   "execution_count": 22,
   "id": "9502bbe9",
   "metadata": {},
   "outputs": [
    {
     "data": {
      "text/plain": [
       "12246"
      ]
     },
     "execution_count": 22,
     "metadata": {},
     "output_type": "execute_result"
    }
   ],
   "source": [
    "len(universe_597)"
   ]
  },
  {
   "cell_type": "code",
   "execution_count": 23,
   "id": "ecd51a3c",
   "metadata": {},
   "outputs": [],
   "source": [
    "# create dataframe of removable edges\n",
    "fb_df_ghost_597 = embedding_pickle_597.loc[omissible_links_597]\n",
    "\n",
    "fb_df_ghost_597 = fb_df_ghost_597.rename(columns={\"first\": \"node_1\", \"second\": \"node_2\"})\n",
    "# add the target variable 'link'\n",
    "fb_df_ghost_597['link'] = 1\n",
    "\n",
    "data_597 = data_597.append(fb_df_ghost_597[['node_1', 'node_2', 'link']], ignore_index=True)"
   ]
  },
  {
   "cell_type": "code",
   "execution_count": 24,
   "id": "52701644",
   "metadata": {},
   "outputs": [
    {
     "data": {
      "text/plain": [
       "0    9385\n",
       "1    2705\n",
       "Name: link, dtype: int64"
      ]
     },
     "execution_count": 24,
     "metadata": {},
     "output_type": "execute_result"
    }
   ],
   "source": [
    "data_597['link'].value_counts()"
   ]
  },
  {
   "cell_type": "code",
   "execution_count": 25,
   "id": "cb38d8de",
   "metadata": {},
   "outputs": [],
   "source": [
    "data_597.to_pickle(\"data_597.csv\")"
   ]
  },
  {
   "cell_type": "markdown",
   "id": "1ef47ebb",
   "metadata": {},
   "source": [
    "----------------- Lettura dati -------------------"
   ]
  },
  {
   "cell_type": "code",
   "execution_count": 26,
   "id": "ca559161",
   "metadata": {},
   "outputs": [],
   "source": [
    "data_597 = pd.read_pickle('data_597.csv')"
   ]
  },
  {
   "cell_type": "markdown",
   "id": "02860546",
   "metadata": {},
   "source": [
    "# 2 - Classificatori"
   ]
  },
  {
   "cell_type": "code",
   "execution_count": 27,
   "id": "616eaf92",
   "metadata": {},
   "outputs": [],
   "source": [
    "X_597 = []\n",
    "for i in range(data_597.shape[0]):\n",
    "    first = data_597.iloc[i][0]\n",
    "    second = data_597.iloc[i][1]\n",
    "    mixed = np.concatenate((first, second), 0)\n",
    "    X_597.append(mixed)"
   ]
  },
  {
   "cell_type": "code",
   "execution_count": 28,
   "id": "246dd18c",
   "metadata": {},
   "outputs": [],
   "source": [
    "xtrain_597, xtest_597, ytrain_597, ytest_597 = train_test_split(np.asarray(X_597), data_597['link'], \n",
    "                                                test_size = 0.3, \n",
    "                                                random_state = 35,\n",
    "                                                stratify=data_597['link'])"
   ]
  },
  {
   "cell_type": "markdown",
   "id": "7fe64ff9",
   "metadata": {},
   "source": [
    "### 1 - DecisionTree"
   ]
  },
  {
   "cell_type": "code",
   "execution_count": 29,
   "id": "48f3974a",
   "metadata": {},
   "outputs": [],
   "source": [
    "from sklearn import tree\n",
    "from sklearn.model_selection import ShuffleSplit, StratifiedKFold, GridSearchCV\n",
    "from sklearn.metrics import roc_curve, auc, roc_auc_score"
   ]
  },
  {
   "cell_type": "code",
   "execution_count": 30,
   "id": "c384f1c5",
   "metadata": {},
   "outputs": [],
   "source": [
    "# Set the parameters by cross-validation\n",
    "tuned_parameters = {\n",
    "    'criterion' : ['gini', 'entropy'],\n",
    "    'max_depth': [2, 5, 10, 15, None],\n",
    "    'min_samples_split': [2, 5, 10, 20],\n",
    "    'min_samples_leaf': [1, 5, 10, 20],\n",
    "}\n",
    "scores = ['roc_auc']"
   ]
  },
  {
   "cell_type": "code",
   "execution_count": 31,
   "id": "e1bee94e",
   "metadata": {},
   "outputs": [],
   "source": [
    "def builtGridSearch( X_train, X_test, y_train, y_test, tuned_parameters, scores):\n",
    "    optimals = {}\n",
    "    for score in scores:\n",
    "        print(\"------- Score = \" + str(score) + \" ------- \\n\")\n",
    "        model = tree.DecisionTreeClassifier()\n",
    "        k_fold = StratifiedKFold(n_splits=5, random_state=42)\n",
    "        \n",
    "        print(\"> Fold = \" + str(k_fold) + \"\\n\")\n",
    "        clf = GridSearchCV(model, tuned_parameters, error_score='raise', cv=5, scoring = score, return_train_score=True)\n",
    "\n",
    "        clf.fit(X_train, y_train)\n",
    "\n",
    "        print(\"> Best Parameter set: \\n\")\n",
    "        best = clf.best_params_\n",
    "        print(best)\n",
    "        \n",
    "        print(\"\\n> Grid scores:\\n\")\n",
    "        means = clf.cv_results_['mean_test_score']\n",
    "        stds = clf.cv_results_['std_test_score']\n",
    "        \n",
    "        parameters = {\"criterion\": [], \"max_depth\": [], \"min_samples_leaf\": [], \"min_samples_split\": []}\n",
    "        for mean, std, params in zip(means, stds, clf.cv_results_['params']):\n",
    "            print(\"%0.3f (+/-%0.03f) for %r\"\n",
    "                  % (mean, std * 2, params))\n",
    "            parameters[\"criterion\"].append(params[\"criterion\"])\n",
    "\n",
    "            if(params[\"max_depth\"] == None):\n",
    "                parameters[\"max_depth\"].append(0)\n",
    "            else:\n",
    "                parameters[\"max_depth\"].append(params[\"max_depth\"])\n",
    "\n",
    "            #parameters[\"max_depth\"].append(params[\"max_depth\"])\n",
    "            parameters[\"min_samples_leaf\"].append(params[\"min_samples_leaf\"])\n",
    "            parameters[\"min_samples_split\"].append(params[\"min_samples_split\"])\n",
    "        \n",
    "        print(\"-> Report\\n\") \n",
    "        y_true, y_pred = y_test, clf.predict(X_test)\n",
    "        print(classification_report(y_true, y_pred))\n",
    "        print(\"\\n\")\n",
    "        print(\"**** Matrice di Confusione *****\")\n",
    "        tn, fp, fn, tp = confusion_matrix(y_true, y_pred).ravel()\n",
    "        print(' True negative: %d False negative: %d' % (tn, fn))\n",
    "        print(' True positive: %d False positive: %d' % (tp, fp))\n",
    "\n",
    "        \n",
    "        # Creazione del csv\n",
    "        d = {score: means, 'std_dev': stds*2, 'criterion': parameters[\"criterion\"], \"max_depth\": parameters[\"max_depth\"], \"min_samples_leaf\": parameters[\"min_samples_leaf\"], \"min_samples_split\": parameters[\"min_samples_split\"]}\n",
    "        \n",
    "        dataF = pd.DataFrame(data=d)\n",
    "        \n",
    "        dataF.to_csv(\"result_DT_gridsearch.csv\",index=False, header=True)\n",
    "        \n",
    "\n",
    "        print(\"...........RESULTS FOR TRAINING.........\")\n",
    "        print(\"........................................\")\n",
    "        means = clf.cv_results_['mean_train_score']\n",
    "        stds = clf.cv_results_['std_train_score']\n",
    "        for mean, std, params in zip(means, stds, clf.cv_results_['params']):\n",
    "            print(\"%0.3f (+/-%0.03f) for %r\"\n",
    "                  % (mean, std * 2, params))        \n",
    "        \n",
    "        print(\"____________________________________________\")\n",
    "        \n",
    "        optimals[score] = best\n",
    "    return optimals"
   ]
  },
  {
   "cell_type": "code",
   "execution_count": 32,
   "id": "d889752c",
   "metadata": {},
   "outputs": [
    {
     "name": "stdout",
     "output_type": "stream",
     "text": [
      "------- Score = roc_auc ------- \n",
      "\n"
     ]
    },
    {
     "ename": "ValueError",
     "evalue": "Setting a random_state has no effect since shuffle is False. You should leave random_state to its default (None), or set shuffle=True.",
     "output_type": "error",
     "traceback": [
      "\u001b[1;31m---------------------------------------------------------------------------\u001b[0m",
      "\u001b[1;31mValueError\u001b[0m                                Traceback (most recent call last)",
      "\u001b[1;32m<ipython-input-32-662405864da1>\u001b[0m in \u001b[0;36m<module>\u001b[1;34m\u001b[0m\n\u001b[1;32m----> 1\u001b[1;33m \u001b[0moptimals_597\u001b[0m \u001b[1;33m=\u001b[0m \u001b[0mbuiltGridSearch\u001b[0m\u001b[1;33m(\u001b[0m\u001b[0mxtrain_597\u001b[0m\u001b[1;33m,\u001b[0m \u001b[0mxtest_597\u001b[0m\u001b[1;33m,\u001b[0m \u001b[0mytrain_597\u001b[0m\u001b[1;33m,\u001b[0m \u001b[0mytest_597\u001b[0m\u001b[1;33m,\u001b[0m \u001b[0mtuned_parameters\u001b[0m\u001b[1;33m,\u001b[0m \u001b[0mscores\u001b[0m\u001b[1;33m)\u001b[0m\u001b[1;33m\u001b[0m\u001b[1;33m\u001b[0m\u001b[0m\n\u001b[0m",
      "\u001b[1;32m<ipython-input-31-26d2803334ba>\u001b[0m in \u001b[0;36mbuiltGridSearch\u001b[1;34m(X_train, X_test, y_train, y_test, tuned_parameters, scores)\u001b[0m\n\u001b[0;32m      4\u001b[0m         \u001b[0mprint\u001b[0m\u001b[1;33m(\u001b[0m\u001b[1;34m\"------- Score = \"\u001b[0m \u001b[1;33m+\u001b[0m \u001b[0mstr\u001b[0m\u001b[1;33m(\u001b[0m\u001b[0mscore\u001b[0m\u001b[1;33m)\u001b[0m \u001b[1;33m+\u001b[0m \u001b[1;34m\" ------- \\n\"\u001b[0m\u001b[1;33m)\u001b[0m\u001b[1;33m\u001b[0m\u001b[1;33m\u001b[0m\u001b[0m\n\u001b[0;32m      5\u001b[0m         \u001b[0mmodel\u001b[0m \u001b[1;33m=\u001b[0m \u001b[0mtree\u001b[0m\u001b[1;33m.\u001b[0m\u001b[0mDecisionTreeClassifier\u001b[0m\u001b[1;33m(\u001b[0m\u001b[1;33m)\u001b[0m\u001b[1;33m\u001b[0m\u001b[1;33m\u001b[0m\u001b[0m\n\u001b[1;32m----> 6\u001b[1;33m         \u001b[0mk_fold\u001b[0m \u001b[1;33m=\u001b[0m \u001b[0mStratifiedKFold\u001b[0m\u001b[1;33m(\u001b[0m\u001b[0mn_splits\u001b[0m\u001b[1;33m=\u001b[0m\u001b[1;36m5\u001b[0m\u001b[1;33m,\u001b[0m \u001b[0mrandom_state\u001b[0m\u001b[1;33m=\u001b[0m\u001b[1;36m42\u001b[0m\u001b[1;33m)\u001b[0m\u001b[1;33m\u001b[0m\u001b[1;33m\u001b[0m\u001b[0m\n\u001b[0m\u001b[0;32m      7\u001b[0m \u001b[1;33m\u001b[0m\u001b[0m\n\u001b[0;32m      8\u001b[0m         \u001b[0mprint\u001b[0m\u001b[1;33m(\u001b[0m\u001b[1;34m\"> Fold = \"\u001b[0m \u001b[1;33m+\u001b[0m \u001b[0mstr\u001b[0m\u001b[1;33m(\u001b[0m\u001b[0mk_fold\u001b[0m\u001b[1;33m)\u001b[0m \u001b[1;33m+\u001b[0m \u001b[1;34m\"\\n\"\u001b[0m\u001b[1;33m)\u001b[0m\u001b[1;33m\u001b[0m\u001b[1;33m\u001b[0m\u001b[0m\n",
      "\u001b[1;32m~\\anaconda3\\lib\\site-packages\\sklearn\\model_selection\\_split.py\u001b[0m in \u001b[0;36m__init__\u001b[1;34m(self, n_splits, shuffle, random_state)\u001b[0m\n\u001b[0;32m    642\u001b[0m \u001b[1;33m\u001b[0m\u001b[0m\n\u001b[0;32m    643\u001b[0m     \u001b[1;32mdef\u001b[0m \u001b[0m__init__\u001b[0m\u001b[1;33m(\u001b[0m\u001b[0mself\u001b[0m\u001b[1;33m,\u001b[0m \u001b[0mn_splits\u001b[0m\u001b[1;33m=\u001b[0m\u001b[1;36m5\u001b[0m\u001b[1;33m,\u001b[0m \u001b[1;33m*\u001b[0m\u001b[1;33m,\u001b[0m \u001b[0mshuffle\u001b[0m\u001b[1;33m=\u001b[0m\u001b[1;32mFalse\u001b[0m\u001b[1;33m,\u001b[0m \u001b[0mrandom_state\u001b[0m\u001b[1;33m=\u001b[0m\u001b[1;32mNone\u001b[0m\u001b[1;33m)\u001b[0m\u001b[1;33m:\u001b[0m\u001b[1;33m\u001b[0m\u001b[1;33m\u001b[0m\u001b[0m\n\u001b[1;32m--> 644\u001b[1;33m         \u001b[0msuper\u001b[0m\u001b[1;33m(\u001b[0m\u001b[1;33m)\u001b[0m\u001b[1;33m.\u001b[0m\u001b[0m__init__\u001b[0m\u001b[1;33m(\u001b[0m\u001b[0mn_splits\u001b[0m\u001b[1;33m=\u001b[0m\u001b[0mn_splits\u001b[0m\u001b[1;33m,\u001b[0m \u001b[0mshuffle\u001b[0m\u001b[1;33m=\u001b[0m\u001b[0mshuffle\u001b[0m\u001b[1;33m,\u001b[0m \u001b[0mrandom_state\u001b[0m\u001b[1;33m=\u001b[0m\u001b[0mrandom_state\u001b[0m\u001b[1;33m)\u001b[0m\u001b[1;33m\u001b[0m\u001b[1;33m\u001b[0m\u001b[0m\n\u001b[0m\u001b[0;32m    645\u001b[0m \u001b[1;33m\u001b[0m\u001b[0m\n\u001b[0;32m    646\u001b[0m     \u001b[1;32mdef\u001b[0m \u001b[0m_make_test_folds\u001b[0m\u001b[1;33m(\u001b[0m\u001b[0mself\u001b[0m\u001b[1;33m,\u001b[0m \u001b[0mX\u001b[0m\u001b[1;33m,\u001b[0m \u001b[0my\u001b[0m\u001b[1;33m=\u001b[0m\u001b[1;32mNone\u001b[0m\u001b[1;33m)\u001b[0m\u001b[1;33m:\u001b[0m\u001b[1;33m\u001b[0m\u001b[1;33m\u001b[0m\u001b[0m\n",
      "\u001b[1;32m~\\anaconda3\\lib\\site-packages\\sklearn\\model_selection\\_split.py\u001b[0m in \u001b[0;36m__init__\u001b[1;34m(self, n_splits, shuffle, random_state)\u001b[0m\n\u001b[0;32m    294\u001b[0m \u001b[1;33m\u001b[0m\u001b[0m\n\u001b[0;32m    295\u001b[0m         \u001b[1;32mif\u001b[0m \u001b[1;32mnot\u001b[0m \u001b[0mshuffle\u001b[0m \u001b[1;32mand\u001b[0m \u001b[0mrandom_state\u001b[0m \u001b[1;32mis\u001b[0m \u001b[1;32mnot\u001b[0m \u001b[1;32mNone\u001b[0m\u001b[1;33m:\u001b[0m  \u001b[1;31m# None is the default\u001b[0m\u001b[1;33m\u001b[0m\u001b[1;33m\u001b[0m\u001b[0m\n\u001b[1;32m--> 296\u001b[1;33m             raise ValueError(\n\u001b[0m\u001b[0;32m    297\u001b[0m                 \u001b[1;34m\"Setting a random_state has no effect since shuffle is \"\u001b[0m\u001b[1;33m\u001b[0m\u001b[1;33m\u001b[0m\u001b[0m\n\u001b[0;32m    298\u001b[0m                 \u001b[1;34m\"False. You should leave \"\u001b[0m\u001b[1;33m\u001b[0m\u001b[1;33m\u001b[0m\u001b[0m\n",
      "\u001b[1;31mValueError\u001b[0m: Setting a random_state has no effect since shuffle is False. You should leave random_state to its default (None), or set shuffle=True."
     ]
    }
   ],
   "source": [
    "optimals_597 = builtGridSearch(xtrain_597, xtest_597, ytrain_597, ytest_597, tuned_parameters, scores)"
   ]
  },
  {
   "cell_type": "code",
   "execution_count": 33,
   "id": "4bd61bcb",
   "metadata": {},
   "outputs": [
    {
     "ename": "NameError",
     "evalue": "name 'optimals_597' is not defined",
     "output_type": "error",
     "traceback": [
      "\u001b[1;31m---------------------------------------------------------------------------\u001b[0m",
      "\u001b[1;31mNameError\u001b[0m                                 Traceback (most recent call last)",
      "\u001b[1;32m<ipython-input-33-cdff4f5fce51>\u001b[0m in \u001b[0;36m<module>\u001b[1;34m\u001b[0m\n\u001b[1;32m----> 1\u001b[1;33m \u001b[0moptimals_597\u001b[0m\u001b[1;33m\u001b[0m\u001b[1;33m\u001b[0m\u001b[0m\n\u001b[0m",
      "\u001b[1;31mNameError\u001b[0m: name 'optimals_597' is not defined"
     ]
    }
   ],
   "source": [
    "optimals_597"
   ]
  },
  {
   "cell_type": "code",
   "execution_count": 34,
   "id": "fdf2e239",
   "metadata": {},
   "outputs": [],
   "source": [
    "model_597 = tree.DecisionTreeClassifier(criterion = \"entropy\", max_depth = None, min_samples_leaf = 20, min_samples_split = 10)\n",
    "model_597.fit(xtrain_597, ytrain_597)\n",
    "y_pred_597 = model_597.predict(xtest_597)"
   ]
  },
  {
   "cell_type": "code",
   "execution_count": 35,
   "id": "74cb355e",
   "metadata": {},
   "outputs": [],
   "source": [
    "y_score_597 = model_597.predict_proba(xtest_597)\n",
    "fpr0, tpr0, _ = roc_curve(ytest_597, y_score_597[:, 1])\n",
    "roc_auc0_597 = auc(fpr0, tpr0)"
   ]
  },
  {
   "cell_type": "code",
   "execution_count": 36,
   "id": "3f932b59",
   "metadata": {},
   "outputs": [
    {
     "data": {
      "image/png": "[encoded data removed]",
      "text/plain": [
       "<Figure size 432x288 with 1 Axes>"
      ]
     },
     "metadata": {
      "needs_background": "light"
     },
     "output_type": "display_data"
    }
   ],
   "source": [
    "plt.plot(fpr0, tpr0, color='darkorange', lw=3, label='$AUC_0$ = %.3f' % (roc_auc0_597))\n",
    "\n",
    "plt.plot([0, 1], [0, 1], color='navy', lw=2, linestyle='--')\n",
    "plt.xlim([0.0, 1.0])\n",
    "plt.ylim([0.0, 1.05])\n",
    "plt.xlabel('False Positive Rate', fontsize=16)\n",
    "plt.ylabel('True Positive Rate', fontsize=16)\n",
    "plt.title('ROC curve', fontsize=16)\n",
    "plt.legend(loc=\"lower right\", fontsize=14, frameon=False)\n",
    "plt.tick_params(axis='both', which='major', labelsize=16)\n",
    "plt.show()"
   ]
  },
  {
   "cell_type": "markdown",
   "id": "d3e57596",
   "metadata": {},
   "source": [
    "### 1 - DecisionTree_Bilanciato"
   ]
  },
  {
   "cell_type": "code",
   "execution_count": 37,
   "id": "27f5956d",
   "metadata": {},
   "outputs": [
    {
     "data": {
      "text/plain": [
       "6680"
      ]
     },
     "execution_count": 37,
     "metadata": {},
     "output_type": "execute_result"
    }
   ],
   "source": [
    "remove_n = data_597['link'].value_counts()[0] - data_597['link'].value_counts()[1]\n",
    "remove_n"
   ]
  },
  {
   "cell_type": "code",
   "execution_count": 38,
   "id": "7299c6ef",
   "metadata": {},
   "outputs": [
    {
     "name": "stdout",
     "output_type": "stream",
     "text": [
      "0    2705\n",
      "1    2705\n",
      "Name: link, dtype: int64\n"
     ]
    }
   ],
   "source": [
    "df = data_597.copy()\n",
    "drop_indices = np.random.choice(df[df[\"link\"]==0].index, remove_n, replace=False)\n",
    "df_subset = df.drop(drop_indices)\n",
    "print(df_subset['link'].value_counts())\n",
    "\n",
    "X_sbset_597 = []\n",
    "for i in range(df_subset.shape[0]):\n",
    "    first = df_subset.iloc[i][0]\n",
    "    second = df_subset.iloc[i][1]\n",
    "    mixed = np.concatenate((first, second), 0)\n",
    "    X_sbset_597.append(mixed)\n",
    "    \n",
    "    \n",
    "xtrain_sb_597, xtest_sb_597, ytrain_sb_597, ytest_sb_597 = train_test_split(np.asarray(X_sbset_597), df_subset[\"link\"], \n",
    "                                                test_size = 0.3, \n",
    "                                                random_state = 35,\n",
    "                                                stratify=df_subset[\"link\"])"
   ]
  },
  {
   "cell_type": "code",
   "execution_count": 39,
   "id": "c8bf78fe",
   "metadata": {},
   "outputs": [
    {
     "name": "stdout",
     "output_type": "stream",
     "text": [
      "------- Score = roc_auc ------- \n",
      "\n"
     ]
    },
    {
     "ename": "ValueError",
     "evalue": "Setting a random_state has no effect since shuffle is False. You should leave random_state to its default (None), or set shuffle=True.",
     "output_type": "error",
     "traceback": [
      "\u001b[1;31m---------------------------------------------------------------------------\u001b[0m",
      "\u001b[1;31mValueError\u001b[0m                                Traceback (most recent call last)",
      "\u001b[1;32m<ipython-input-39-d1fb8d81d2c7>\u001b[0m in \u001b[0;36m<module>\u001b[1;34m\u001b[0m\n\u001b[1;32m----> 1\u001b[1;33m \u001b[0moptimals_sb_597\u001b[0m \u001b[1;33m=\u001b[0m \u001b[0mbuiltGridSearch\u001b[0m\u001b[1;33m(\u001b[0m\u001b[0mxtrain_sb_597\u001b[0m\u001b[1;33m,\u001b[0m \u001b[0mxtest_sb_597\u001b[0m\u001b[1;33m,\u001b[0m \u001b[0mytrain_sb_597\u001b[0m\u001b[1;33m,\u001b[0m \u001b[0mytest_sb_597\u001b[0m\u001b[1;33m,\u001b[0m \u001b[0mtuned_parameters\u001b[0m\u001b[1;33m,\u001b[0m \u001b[0mscores\u001b[0m\u001b[1;33m)\u001b[0m\u001b[1;33m\u001b[0m\u001b[1;33m\u001b[0m\u001b[0m\n\u001b[0m",
      "\u001b[1;32m<ipython-input-31-26d2803334ba>\u001b[0m in \u001b[0;36mbuiltGridSearch\u001b[1;34m(X_train, X_test, y_train, y_test, tuned_parameters, scores)\u001b[0m\n\u001b[0;32m      4\u001b[0m         \u001b[0mprint\u001b[0m\u001b[1;33m(\u001b[0m\u001b[1;34m\"------- Score = \"\u001b[0m \u001b[1;33m+\u001b[0m \u001b[0mstr\u001b[0m\u001b[1;33m(\u001b[0m\u001b[0mscore\u001b[0m\u001b[1;33m)\u001b[0m \u001b[1;33m+\u001b[0m \u001b[1;34m\" ------- \\n\"\u001b[0m\u001b[1;33m)\u001b[0m\u001b[1;33m\u001b[0m\u001b[1;33m\u001b[0m\u001b[0m\n\u001b[0;32m      5\u001b[0m         \u001b[0mmodel\u001b[0m \u001b[1;33m=\u001b[0m \u001b[0mtree\u001b[0m\u001b[1;33m.\u001b[0m\u001b[0mDecisionTreeClassifier\u001b[0m\u001b[1;33m(\u001b[0m\u001b[1;33m)\u001b[0m\u001b[1;33m\u001b[0m\u001b[1;33m\u001b[0m\u001b[0m\n\u001b[1;32m----> 6\u001b[1;33m         \u001b[0mk_fold\u001b[0m \u001b[1;33m=\u001b[0m \u001b[0mStratifiedKFold\u001b[0m\u001b[1;33m(\u001b[0m\u001b[0mn_splits\u001b[0m\u001b[1;33m=\u001b[0m\u001b[1;36m5\u001b[0m\u001b[1;33m,\u001b[0m \u001b[0mrandom_state\u001b[0m\u001b[1;33m=\u001b[0m\u001b[1;36m42\u001b[0m\u001b[1;33m)\u001b[0m\u001b[1;33m\u001b[0m\u001b[1;33m\u001b[0m\u001b[0m\n\u001b[0m\u001b[0;32m      7\u001b[0m \u001b[1;33m\u001b[0m\u001b[0m\n\u001b[0;32m      8\u001b[0m         \u001b[0mprint\u001b[0m\u001b[1;33m(\u001b[0m\u001b[1;34m\"> Fold = \"\u001b[0m \u001b[1;33m+\u001b[0m \u001b[0mstr\u001b[0m\u001b[1;33m(\u001b[0m\u001b[0mk_fold\u001b[0m\u001b[1;33m)\u001b[0m \u001b[1;33m+\u001b[0m \u001b[1;34m\"\\n\"\u001b[0m\u001b[1;33m)\u001b[0m\u001b[1;33m\u001b[0m\u001b[1;33m\u001b[0m\u001b[0m\n",
      "\u001b[1;32m~\\anaconda3\\lib\\site-packages\\sklearn\\model_selection\\_split.py\u001b[0m in \u001b[0;36m__init__\u001b[1;34m(self, n_splits, shuffle, random_state)\u001b[0m\n\u001b[0;32m    642\u001b[0m \u001b[1;33m\u001b[0m\u001b[0m\n\u001b[0;32m    643\u001b[0m     \u001b[1;32mdef\u001b[0m \u001b[0m__init__\u001b[0m\u001b[1;33m(\u001b[0m\u001b[0mself\u001b[0m\u001b[1;33m,\u001b[0m \u001b[0mn_splits\u001b[0m\u001b[1;33m=\u001b[0m\u001b[1;36m5\u001b[0m\u001b[1;33m,\u001b[0m \u001b[1;33m*\u001b[0m\u001b[1;33m,\u001b[0m \u001b[0mshuffle\u001b[0m\u001b[1;33m=\u001b[0m\u001b[1;32mFalse\u001b[0m\u001b[1;33m,\u001b[0m \u001b[0mrandom_state\u001b[0m\u001b[1;33m=\u001b[0m\u001b[1;32mNone\u001b[0m\u001b[1;33m)\u001b[0m\u001b[1;33m:\u001b[0m\u001b[1;33m\u001b[0m\u001b[1;33m\u001b[0m\u001b[0m\n\u001b[1;32m--> 644\u001b[1;33m         \u001b[0msuper\u001b[0m\u001b[1;33m(\u001b[0m\u001b[1;33m)\u001b[0m\u001b[1;33m.\u001b[0m\u001b[0m__init__\u001b[0m\u001b[1;33m(\u001b[0m\u001b[0mn_splits\u001b[0m\u001b[1;33m=\u001b[0m\u001b[0mn_splits\u001b[0m\u001b[1;33m,\u001b[0m \u001b[0mshuffle\u001b[0m\u001b[1;33m=\u001b[0m\u001b[0mshuffle\u001b[0m\u001b[1;33m,\u001b[0m \u001b[0mrandom_state\u001b[0m\u001b[1;33m=\u001b[0m\u001b[0mrandom_state\u001b[0m\u001b[1;33m)\u001b[0m\u001b[1;33m\u001b[0m\u001b[1;33m\u001b[0m\u001b[0m\n\u001b[0m\u001b[0;32m    645\u001b[0m \u001b[1;33m\u001b[0m\u001b[0m\n\u001b[0;32m    646\u001b[0m     \u001b[1;32mdef\u001b[0m \u001b[0m_make_test_folds\u001b[0m\u001b[1;33m(\u001b[0m\u001b[0mself\u001b[0m\u001b[1;33m,\u001b[0m \u001b[0mX\u001b[0m\u001b[1;33m,\u001b[0m \u001b[0my\u001b[0m\u001b[1;33m=\u001b[0m\u001b[1;32mNone\u001b[0m\u001b[1;33m)\u001b[0m\u001b[1;33m:\u001b[0m\u001b[1;33m\u001b[0m\u001b[1;33m\u001b[0m\u001b[0m\n",
      "\u001b[1;32m~\\anaconda3\\lib\\site-packages\\sklearn\\model_selection\\_split.py\u001b[0m in \u001b[0;36m__init__\u001b[1;34m(self, n_splits, shuffle, random_state)\u001b[0m\n\u001b[0;32m    294\u001b[0m \u001b[1;33m\u001b[0m\u001b[0m\n\u001b[0;32m    295\u001b[0m         \u001b[1;32mif\u001b[0m \u001b[1;32mnot\u001b[0m \u001b[0mshuffle\u001b[0m \u001b[1;32mand\u001b[0m \u001b[0mrandom_state\u001b[0m \u001b[1;32mis\u001b[0m \u001b[1;32mnot\u001b[0m \u001b[1;32mNone\u001b[0m\u001b[1;33m:\u001b[0m  \u001b[1;31m# None is the default\u001b[0m\u001b[1;33m\u001b[0m\u001b[1;33m\u001b[0m\u001b[0m\n\u001b[1;32m--> 296\u001b[1;33m             raise ValueError(\n\u001b[0m\u001b[0;32m    297\u001b[0m                 \u001b[1;34m\"Setting a random_state has no effect since shuffle is \"\u001b[0m\u001b[1;33m\u001b[0m\u001b[1;33m\u001b[0m\u001b[0m\n\u001b[0;32m    298\u001b[0m                 \u001b[1;34m\"False. You should leave \"\u001b[0m\u001b[1;33m\u001b[0m\u001b[1;33m\u001b[0m\u001b[0m\n",
      "\u001b[1;31mValueError\u001b[0m: Setting a random_state has no effect since shuffle is False. You should leave random_state to its default (None), or set shuffle=True."
     ]
    }
   ],
   "source": [
    "optimals_sb_597 = builtGridSearch(xtrain_sb_597, xtest_sb_597, ytrain_sb_597, ytest_sb_597, tuned_parameters, scores)"
   ]
  },
  {
   "cell_type": "code",
   "execution_count": 40,
   "id": "6b1d7b76",
   "metadata": {},
   "outputs": [
    {
     "data": {
      "text/plain": [
       "DecisionTreeClassifier(min_samples_leaf=20, min_samples_split=10)"
      ]
     },
     "execution_count": 40,
     "metadata": {},
     "output_type": "execute_result"
    }
   ],
   "source": [
    "model_sb_597 = tree.DecisionTreeClassifier(criterion = \"gini\", max_depth = None, min_samples_leaf = 20, min_samples_split = 10)\n",
    "model_sb_597.fit(xtrain_sb_597, ytrain_sb_597)"
   ]
  },
  {
   "cell_type": "code",
   "execution_count": 41,
   "id": "ffb2a18a",
   "metadata": {},
   "outputs": [],
   "source": [
    "y_score_sb_597 = model_sb_597.predict_proba(xtest_sb_597)\n",
    "fpr0, tpr0, _ = roc_curve(ytest_sb_597, y_score_sb_597[:, 1])\n",
    "roc_auc0_dt_597_sb = auc(fpr0, tpr0)"
   ]
  },
  {
   "cell_type": "code",
   "execution_count": 42,
   "id": "5af1ee64",
   "metadata": {
    "scrolled": true
   },
   "outputs": [
    {
     "data": {
      "image/png": "[encoded data removed]",
      "text/plain": [
       "<Figure size 432x288 with 1 Axes>"
      ]
     },
     "metadata": {
      "needs_background": "light"
     },
     "output_type": "display_data"
    }
   ],
   "source": [
    "plt.plot(fpr0, tpr0, color='darkorange', lw=3, label='$AUC_0$ = %.3f' % (roc_auc0_dt_597_sb))\n",
    "plt.plot([0, 1], [0, 1], color='navy', lw=2, linestyle='--')\n",
    "plt.xlim([0.0, 1.0])\n",
    "plt.ylim([0.0, 1.05])\n",
    "plt.xlabel('False Positive Rate', fontsize=16)\n",
    "plt.ylabel('True Positive Rate', fontsize=16)\n",
    "plt.title('ROC curve', fontsize=16)\n",
    "plt.legend(loc=\"lower right\", fontsize=14, frameon=False)\n",
    "plt.tick_params(axis='both', which='major', labelsize=16)\n",
    "plt.show()"
   ]
  },
  {
   "cell_type": "markdown",
   "id": "848bf159",
   "metadata": {},
   "source": [
    "### 2 - Regressione logistica"
   ]
  },
  {
   "cell_type": "code",
   "execution_count": 43,
   "id": "1a11c79c",
   "metadata": {},
   "outputs": [],
   "source": [
    "lr = LogisticRegression()\n",
    "lr.fit(xtrain_597, ytrain_597)\n",
    "predictions = lr.predict_proba(xtest_597)"
   ]
  },
  {
   "cell_type": "code",
   "execution_count": 44,
   "id": "d1eddcf1",
   "metadata": {},
   "outputs": [
    {
     "name": "stdout",
     "output_type": "stream",
     "text": [
      "0.8086473763879288\n"
     ]
    }
   ],
   "source": [
    "y_score = lr.predict_proba(xtest_597)\n",
    "fpr0, tpr0, _ = roc_curve(ytest_597, y_score[:, 1])\n",
    "roc_auc0 = auc(fpr0, tpr0)\n",
    "print(roc_auc0)"
   ]
  },
  {
   "cell_type": "code",
   "execution_count": 45,
   "id": "ae3d5eb0",
   "metadata": {},
   "outputs": [
    {
     "data": {
      "image/png": "[encoded data removed]",
      "text/plain": [
       "<Figure size 432x288 with 1 Axes>"
      ]
     },
     "metadata": {
      "needs_background": "light"
     },
     "output_type": "display_data"
    }
   ],
   "source": [
    "plt.plot(fpr0, tpr0, color='darkorange', lw=3, label='$AUC_0$ = %.3f' % (roc_auc0))\n",
    "\n",
    "plt.plot([0, 1], [0, 1], color='navy', lw=2, linestyle='--')\n",
    "plt.xlim([0.0, 1.0])\n",
    "plt.ylim([0.0, 1.05])\n",
    "plt.xlabel('False Positive Rate', fontsize=16)\n",
    "plt.ylabel('True Positive Rate', fontsize=16)\n",
    "plt.title('ROC curve', fontsize=16)\n",
    "plt.legend(loc=\"lower right\", fontsize=14, frameon=False)\n",
    "plt.tick_params(axis='both', which='major', labelsize=16)\n",
    "plt.show()"
   ]
  },
  {
   "cell_type": "markdown",
   "id": "0da1989a",
   "metadata": {},
   "source": [
    "### 2 - Regressione Logistica_Bilanciata"
   ]
  },
  {
   "cell_type": "code",
   "execution_count": 46,
   "id": "c03d640d",
   "metadata": {},
   "outputs": [
    {
     "data": {
      "text/plain": [
       "LogisticRegression()"
      ]
     },
     "execution_count": 46,
     "metadata": {},
     "output_type": "execute_result"
    }
   ],
   "source": [
    "lr = LogisticRegression()\n",
    "lr.fit(xtrain_sb_597, ytrain_sb_597)"
   ]
  },
  {
   "cell_type": "code",
   "execution_count": 47,
   "id": "e3995aea",
   "metadata": {},
   "outputs": [
    {
     "name": "stdout",
     "output_type": "stream",
     "text": [
      "0.8100107511859713\n"
     ]
    }
   ],
   "source": [
    "y_score = lr.predict_proba(xtest_sb_597)\n",
    "fpr0, tpr0, _ = roc_curve(ytest_sb_597, y_score[:, 1])\n",
    "roc_auc0 = auc(fpr0, tpr0)\n",
    "print(roc_auc0)"
   ]
  },
  {
   "cell_type": "code",
   "execution_count": 48,
   "id": "05db3b05",
   "metadata": {},
   "outputs": [
    {
     "data": {
      "image/png": "[encoded data removed]",
      "text/plain": [
       "<Figure size 432x288 with 1 Axes>"
      ]
     },
     "metadata": {
      "needs_background": "light"
     },
     "output_type": "display_data"
    }
   ],
   "source": [
    "plt.plot(fpr0, tpr0, color='darkorange', lw=3, label='$AUC_0$ = %.3f' % (roc_auc0))\n",
    "\n",
    "plt.plot([0, 1], [0, 1], color='navy', lw=2, linestyle='--')\n",
    "plt.xlim([0.0, 1.0])\n",
    "plt.ylim([0.0, 1.05])\n",
    "plt.xlabel('False Positive Rate', fontsize=16)\n",
    "plt.ylabel('True Positive Rate', fontsize=16)\n",
    "plt.title('ROC curve', fontsize=16)\n",
    "plt.legend(loc=\"lower right\", fontsize=14, frameon=False)\n",
    "plt.tick_params(axis='both', which='major', labelsize=16)\n",
    "plt.show()"
   ]
  },
  {
   "cell_type": "markdown",
   "id": "3dc3f677",
   "metadata": {},
   "source": [
    "### 3 - LGBM"
   ]
  },
  {
   "cell_type": "code",
   "execution_count": 49,
   "id": "c85b9393",
   "metadata": {},
   "outputs": [],
   "source": [
    "new_xtrain_597, xval_597, new_ytrain_597, yval_597 = train_test_split(xtrain_597, ytrain_597, \n",
    "                                                test_size = 0.3, \n",
    "                                                random_state = 35,\n",
    "                                                stratify=ytrain_597)"
   ]
  },
  {
   "cell_type": "code",
   "execution_count": 50,
   "id": "7f7a1ec1",
   "metadata": {},
   "outputs": [],
   "source": [
    "import lightgbm as lgbm"
   ]
  },
  {
   "cell_type": "code",
   "execution_count": 51,
   "id": "e2edbd09",
   "metadata": {},
   "outputs": [
    {
     "name": "stderr",
     "output_type": "stream",
     "text": [
      "C:\\Users\\marco\\anaconda3\\lib\\site-packages\\lightgbm\\engine.py:181: UserWarning: 'early_stopping_rounds' argument is deprecated and will be removed in a future release of LightGBM. Pass 'early_stopping()' callback via 'callbacks' argument instead.\n",
      "  _log_warning(\"'early_stopping_rounds' argument is deprecated and will be removed in a future release of LightGBM. \"\n"
     ]
    },
    {
     "name": "stdout",
     "output_type": "stream",
     "text": [
      "[LightGBM] [Info] Number of positive: 1325, number of negative: 4599\n",
      "[LightGBM] [Warning] Auto-choosing col-wise multi-threading, the overhead of testing was 0.006522 seconds.\n",
      "You can set `force_col_wise=true` to remove the overhead.\n",
      "[LightGBM] [Info] Total Bins 31100\n",
      "[LightGBM] [Info] Number of data points in the train set: 5924, number of used features: 200\n",
      "[LightGBM] [Info] [binary:BoostFromScore]: pavg=0.223666 -> initscore=-1.244426\n",
      "[LightGBM] [Info] Start training from score -1.244426\n",
      "[1]\tvalid_0's auc: 0.785386\n",
      "Training until validation scores don't improve for 20 rounds\n",
      "[2]\tvalid_0's auc: 0.844618\n",
      "[3]\tvalid_0's auc: 0.857177\n",
      "[4]\tvalid_0's auc: 0.862887\n",
      "[5]\tvalid_0's auc: 0.871801\n",
      "[6]\tvalid_0's auc: 0.874654\n",
      "[7]\tvalid_0's auc: 0.878521\n",
      "[8]\tvalid_0's auc: 0.879627\n",
      "[9]\tvalid_0's auc: 0.882027\n",
      "[10]\tvalid_0's auc: 0.88648\n",
      "[11]\tvalid_0's auc: 0.886317\n",
      "[12]\tvalid_0's auc: 0.889095\n",
      "[13]\tvalid_0's auc: 0.891679\n",
      "[14]\tvalid_0's auc: 0.891809\n",
      "[15]\tvalid_0's auc: 0.892034\n",
      "[16]\tvalid_0's auc: 0.893496\n",
      "[17]\tvalid_0's auc: 0.893709\n",
      "[18]\tvalid_0's auc: 0.894142\n",
      "[19]\tvalid_0's auc: 0.894667\n",
      "[20]\tvalid_0's auc: 0.894799\n",
      "[21]\tvalid_0's auc: 0.897242\n",
      "[22]\tvalid_0's auc: 0.899381\n",
      "[23]\tvalid_0's auc: 0.901573\n",
      "[24]\tvalid_0's auc: 0.902563\n",
      "[25]\tvalid_0's auc: 0.90299\n",
      "[26]\tvalid_0's auc: 0.903258\n",
      "[27]\tvalid_0's auc: 0.903013\n",
      "[28]\tvalid_0's auc: 0.904046\n",
      "[29]\tvalid_0's auc: 0.906065\n",
      "[30]\tvalid_0's auc: 0.905959\n",
      "[31]\tvalid_0's auc: 0.905904\n",
      "[32]\tvalid_0's auc: 0.9062\n",
      "[33]\tvalid_0's auc: 0.906346\n",
      "[34]\tvalid_0's auc: 0.906629\n",
      "[35]\tvalid_0's auc: 0.906527\n",
      "[36]\tvalid_0's auc: 0.906495\n",
      "[37]\tvalid_0's auc: 0.906745\n",
      "[38]\tvalid_0's auc: 0.907426\n",
      "[39]\tvalid_0's auc: 0.907444\n",
      "[40]\tvalid_0's auc: 0.908073\n",
      "[41]\tvalid_0's auc: 0.90817\n",
      "[42]\tvalid_0's auc: 0.907768\n",
      "[43]\tvalid_0's auc: 0.908398\n",
      "[44]\tvalid_0's auc: 0.908819\n",
      "[45]\tvalid_0's auc: 0.909443\n",
      "[46]\tvalid_0's auc: 0.909918\n",
      "[47]\tvalid_0's auc: 0.910109\n",
      "[48]\tvalid_0's auc: 0.909863\n",
      "[49]\tvalid_0's auc: 0.909773\n",
      "[50]\tvalid_0's auc: 0.909122\n",
      "[51]\tvalid_0's auc: 0.90929\n",
      "[52]\tvalid_0's auc: 0.909555\n",
      "[53]\tvalid_0's auc: 0.909741\n",
      "[54]\tvalid_0's auc: 0.910366\n",
      "[55]\tvalid_0's auc: 0.910552\n",
      "[56]\tvalid_0's auc: 0.910372\n",
      "[57]\tvalid_0's auc: 0.910999\n",
      "[58]\tvalid_0's auc: 0.910879\n",
      "[59]\tvalid_0's auc: 0.910971\n",
      "[60]\tvalid_0's auc: 0.911103\n",
      "[61]\tvalid_0's auc: 0.911735\n",
      "[62]\tvalid_0's auc: 0.911918\n",
      "[63]\tvalid_0's auc: 0.912459\n",
      "[64]\tvalid_0's auc: 0.913135\n",
      "[65]\tvalid_0's auc: 0.9132\n",
      "[66]\tvalid_0's auc: 0.914058\n",
      "[67]\tvalid_0's auc: 0.914217\n",
      "[68]\tvalid_0's auc: 0.914937\n",
      "[69]\tvalid_0's auc: 0.914749\n",
      "[70]\tvalid_0's auc: 0.914975\n",
      "[71]\tvalid_0's auc: 0.915756\n",
      "[72]\tvalid_0's auc: 0.915539\n",
      "[73]\tvalid_0's auc: 0.915694\n",
      "[74]\tvalid_0's auc: 0.916326\n",
      "[75]\tvalid_0's auc: 0.916273\n",
      "[76]\tvalid_0's auc: 0.91662\n",
      "[77]\tvalid_0's auc: 0.916563\n",
      "[78]\tvalid_0's auc: 0.916503\n",
      "[79]\tvalid_0's auc: 0.916632\n",
      "[80]\tvalid_0's auc: 0.916458\n",
      "[81]\tvalid_0's auc: 0.917379\n",
      "[82]\tvalid_0's auc: 0.917796\n",
      "[83]\tvalid_0's auc: 0.918116\n",
      "[84]\tvalid_0's auc: 0.918425\n",
      "[85]\tvalid_0's auc: 0.918723\n",
      "[86]\tvalid_0's auc: 0.918907\n",
      "[87]\tvalid_0's auc: 0.918783\n",
      "[88]\tvalid_0's auc: 0.918508\n",
      "[89]\tvalid_0's auc: 0.918367\n",
      "[90]\tvalid_0's auc: 0.91896\n",
      "[91]\tvalid_0's auc: 0.919024\n",
      "[92]\tvalid_0's auc: 0.919052\n",
      "[93]\tvalid_0's auc: 0.919258\n",
      "[94]\tvalid_0's auc: 0.918946\n",
      "[95]\tvalid_0's auc: 0.919158\n",
      "[96]\tvalid_0's auc: 0.919009\n",
      "[97]\tvalid_0's auc: 0.918835\n",
      "[98]\tvalid_0's auc: 0.919008\n",
      "[99]\tvalid_0's auc: 0.918957\n",
      "[100]\tvalid_0's auc: 0.918536\n",
      "[101]\tvalid_0's auc: 0.918862\n",
      "[102]\tvalid_0's auc: 0.918906\n",
      "[103]\tvalid_0's auc: 0.919608\n",
      "[104]\tvalid_0's auc: 0.919411\n",
      "[105]\tvalid_0's auc: 0.919481\n",
      "[106]\tvalid_0's auc: 0.920307\n",
      "[107]\tvalid_0's auc: 0.920223\n",
      "[108]\tvalid_0's auc: 0.920335\n",
      "[109]\tvalid_0's auc: 0.920873\n",
      "[110]\tvalid_0's auc: 0.921045\n",
      "[111]\tvalid_0's auc: 0.921425\n",
      "[112]\tvalid_0's auc: 0.921732\n",
      "[113]\tvalid_0's auc: 0.922023\n",
      "[114]\tvalid_0's auc: 0.922231\n",
      "[115]\tvalid_0's auc: 0.922301\n",
      "[116]\tvalid_0's auc: 0.922521\n",
      "[117]\tvalid_0's auc: 0.922466\n",
      "[118]\tvalid_0's auc: 0.922524\n",
      "[119]\tvalid_0's auc: 0.922291\n",
      "[120]\tvalid_0's auc: 0.9223\n",
      "[121]\tvalid_0's auc: 0.922087\n",
      "[122]\tvalid_0's auc: 0.922289\n",
      "[123]\tvalid_0's auc: 0.922561\n",
      "[124]\tvalid_0's auc: 0.92275\n",
      "[125]\tvalid_0's auc: 0.922554\n",
      "[126]\tvalid_0's auc: 0.922804\n",
      "[127]\tvalid_0's auc: 0.922839\n",
      "[128]\tvalid_0's auc: 0.923007\n",
      "[129]\tvalid_0's auc: 0.923275\n",
      "[130]\tvalid_0's auc: 0.923394\n",
      "[131]\tvalid_0's auc: 0.923789\n",
      "[132]\tvalid_0's auc: 0.923949\n",
      "[133]\tvalid_0's auc: 0.923936\n",
      "[134]\tvalid_0's auc: 0.923789\n",
      "[135]\tvalid_0's auc: 0.924181\n",
      "[136]\tvalid_0's auc: 0.923859\n",
      "[137]\tvalid_0's auc: 0.923716\n",
      "[138]\tvalid_0's auc: 0.923761\n",
      "[139]\tvalid_0's auc: 0.923886\n",
      "[140]\tvalid_0's auc: 0.923887\n",
      "[141]\tvalid_0's auc: 0.924122\n",
      "[142]\tvalid_0's auc: 0.924353\n",
      "[143]\tvalid_0's auc: 0.924126\n",
      "[144]\tvalid_0's auc: 0.923837\n",
      "[145]\tvalid_0's auc: 0.924048\n",
      "[146]\tvalid_0's auc: 0.924254\n",
      "[147]\tvalid_0's auc: 0.924379\n",
      "[148]\tvalid_0's auc: 0.924218\n",
      "[149]\tvalid_0's auc: 0.924246\n",
      "[150]\tvalid_0's auc: 0.924008\n",
      "[151]\tvalid_0's auc: 0.924096\n",
      "[152]\tvalid_0's auc: 0.924181\n",
      "[153]\tvalid_0's auc: 0.924599\n",
      "[154]\tvalid_0's auc: 0.924525\n",
      "[155]\tvalid_0's auc: 0.924583\n",
      "[156]\tvalid_0's auc: 0.924354\n",
      "[157]\tvalid_0's auc: 0.924517\n",
      "[158]\tvalid_0's auc: 0.924633\n",
      "[159]\tvalid_0's auc: 0.924639\n",
      "[160]\tvalid_0's auc: 0.924615\n",
      "[161]\tvalid_0's auc: 0.924478\n",
      "[162]\tvalid_0's auc: 0.924698\n",
      "[163]\tvalid_0's auc: 0.924382\n",
      "[164]\tvalid_0's auc: 0.924169\n",
      "[165]\tvalid_0's auc: 0.924324\n",
      "[166]\tvalid_0's auc: 0.92411\n",
      "[167]\tvalid_0's auc: 0.923918\n",
      "[168]\tvalid_0's auc: 0.924177\n",
      "[169]\tvalid_0's auc: 0.924119\n",
      "[170]\tvalid_0's auc: 0.924152\n",
      "[171]\tvalid_0's auc: 0.924062\n",
      "[172]\tvalid_0's auc: 0.924049\n",
      "[173]\tvalid_0's auc: 0.923789\n",
      "[174]\tvalid_0's auc: 0.923654\n",
      "[175]\tvalid_0's auc: 0.923309\n",
      "[176]\tvalid_0's auc: 0.923174\n",
      "[177]\tvalid_0's auc: 0.922826\n",
      "[178]\tvalid_0's auc: 0.922674\n",
      "[179]\tvalid_0's auc: 0.922647\n",
      "[180]\tvalid_0's auc: 0.922574\n",
      "[181]\tvalid_0's auc: 0.922477\n",
      "[182]\tvalid_0's auc: 0.922597\n",
      "Early stopping, best iteration is:\n",
      "[162]\tvalid_0's auc: 0.924698\n"
     ]
    }
   ],
   "source": [
    "train_data = lgbm.Dataset(new_xtrain_597, new_ytrain_597)\n",
    "test_data = lgbm.Dataset(xval_597, yval_597)\n",
    "\n",
    "# define parameters\n",
    "parameters = {\n",
    "    'objective': 'binary',\n",
    "    'metric': 'auc',\n",
    "    'is_unbalance': 'true',\n",
    "    'feature_fraction': 0.5,\n",
    "    'bagging_fraction': 0.5,\n",
    "    'bagging_freq': 20,\n",
    "    'num_threads' : 2,\n",
    "    'seed' : 76\n",
    "}\n",
    "\n",
    "# train lightGBM model\n",
    "model = lgbm.train(parameters,\n",
    "                   train_data,\n",
    "                   valid_sets=test_data,\n",
    "                   num_boost_round=1000,\n",
    "                   early_stopping_rounds=20)\n",
    "\n",
    "y_pred = model.predict(xtest_597)"
   ]
  },
  {
   "cell_type": "code",
   "execution_count": 52,
   "id": "0555e415",
   "metadata": {},
   "outputs": [
    {
     "data": {
      "text/plain": [
       "array([0.02381528, 0.59880109, 0.01803628, ..., 0.99085264, 0.00167503,\n",
       "       0.0242019 ])"
      ]
     },
     "execution_count": 52,
     "metadata": {},
     "output_type": "execute_result"
    }
   ],
   "source": [
    "y_pred"
   ]
  },
  {
   "cell_type": "code",
   "execution_count": 53,
   "id": "2e899c9a",
   "metadata": {},
   "outputs": [
    {
     "name": "stdout",
     "output_type": "stream",
     "text": [
      "0.9076184059708283\n"
     ]
    }
   ],
   "source": [
    "fpr0, tpr0, _ = roc_curve(ytest_597, y_pred)\n",
    "roc_auc_lgbm = auc(fpr0, tpr0)\n",
    "print(roc_auc_lgbm)"
   ]
  },
  {
   "cell_type": "markdown",
   "id": "321376fe",
   "metadata": {},
   "source": [
    "### 3 - LGBM_Bilanciato"
   ]
  },
  {
   "cell_type": "code",
   "execution_count": 54,
   "id": "437d0f85",
   "metadata": {},
   "outputs": [],
   "source": [
    "new_xtrain_sb_597, xval_sb_597, new_ytrain_sb_597, yval_sb_597 = train_test_split(xtrain_sb_597, ytrain_sb_597, \n",
    "                                                test_size = 0.3, \n",
    "                                                random_state = 35,\n",
    "                                                stratify=ytrain_sb_597)"
   ]
  },
  {
   "cell_type": "code",
   "execution_count": 55,
   "id": "a1db120e",
   "metadata": {},
   "outputs": [
    {
     "name": "stdout",
     "output_type": "stream",
     "text": [
      "[LightGBM] [Info] Number of positive: 1325, number of negative: 1325\n",
      "[LightGBM] [Warning] Auto-choosing col-wise multi-threading, the overhead of testing was 0.002833 seconds.\n",
      "You can set `force_col_wise=true` to remove the overhead.\n",
      "[LightGBM] [Info] Total Bins 30224\n",
      "[LightGBM] [Info] Number of data points in the train set: 2650, number of used features: 200\n",
      "[LightGBM] [Info] [binary:BoostFromScore]: pavg=0.500000 -> initscore=0.000000\n",
      "[1]\tvalid_0's auc: 0.762933\n",
      "Training until validation scores don't improve for 20 rounds\n",
      "[2]\tvalid_0's auc: 0.793026\n",
      "[3]\tvalid_0's auc: 0.820568\n",
      "[4]\tvalid_0's auc: 0.838681\n",
      "[5]\tvalid_0's auc: 0.850677\n",
      "[6]\tvalid_0's auc: 0.857105\n",
      "[7]\tvalid_0's auc: 0.865035\n",
      "[8]\tvalid_0's auc: 0.869618\n",
      "[9]\tvalid_0's auc: 0.869274\n",
      "[10]\tvalid_0's auc: 0.869081\n",
      "[11]\tvalid_0's auc: 0.872525\n",
      "[12]\tvalid_0's auc: 0.872488\n",
      "[13]\tvalid_0's auc: 0.874709\n",
      "[14]\tvalid_0's auc: 0.876136\n",
      "[15]\tvalid_0's auc: 0.877364\n",
      "[16]\tvalid_0's auc: 0.877444\n",
      "[17]\tvalid_0's auc: 0.877816\n",
      "[18]\tvalid_0's auc: 0.877977\n",
      "[19]\tvalid_0's auc: 0.877398\n",
      "[20]\tvalid_0's auc: 0.878667\n",
      "[21]\tvalid_0's auc: 0.880387\n"
     ]
    },
    {
     "name": "stderr",
     "output_type": "stream",
     "text": [
      "C:\\Users\\marco\\anaconda3\\lib\\site-packages\\lightgbm\\engine.py:181: UserWarning: 'early_stopping_rounds' argument is deprecated and will be removed in a future release of LightGBM. Pass 'early_stopping()' callback via 'callbacks' argument instead.\n",
      "  _log_warning(\"'early_stopping_rounds' argument is deprecated and will be removed in a future release of LightGBM. \"\n"
     ]
    },
    {
     "name": "stdout",
     "output_type": "stream",
     "text": [
      "[22]\tvalid_0's auc: 0.881819\n",
      "[23]\tvalid_0's auc: 0.882277\n",
      "[24]\tvalid_0's auc: 0.883549\n",
      "[25]\tvalid_0's auc: 0.883308\n",
      "[26]\tvalid_0's auc: 0.884505\n",
      "[27]\tvalid_0's auc: 0.884279\n",
      "[28]\tvalid_0's auc: 0.884363\n",
      "[29]\tvalid_0's auc: 0.885424\n",
      "[30]\tvalid_0's auc: 0.883753\n",
      "[31]\tvalid_0's auc: 0.883657\n",
      "[32]\tvalid_0's auc: 0.88448\n",
      "[33]\tvalid_0's auc: 0.884889\n",
      "[34]\tvalid_0's auc: 0.886485\n",
      "[35]\tvalid_0's auc: 0.886931\n",
      "[36]\tvalid_0's auc: 0.887915\n",
      "[37]\tvalid_0's auc: 0.886974\n",
      "[38]\tvalid_0's auc: 0.887562\n",
      "[39]\tvalid_0's auc: 0.887921\n",
      "[40]\tvalid_0's auc: 0.888422\n",
      "[41]\tvalid_0's auc: 0.889245\n",
      "[42]\tvalid_0's auc: 0.890984\n",
      "[43]\tvalid_0's auc: 0.890842\n",
      "[44]\tvalid_0's auc: 0.89164\n",
      "[45]\tvalid_0's auc: 0.891133\n",
      "[46]\tvalid_0's auc: 0.890891\n",
      "[47]\tvalid_0's auc: 0.890758\n",
      "[48]\tvalid_0's auc: 0.890789\n",
      "[49]\tvalid_0's auc: 0.891705\n",
      "[50]\tvalid_0's auc: 0.891461\n",
      "[51]\tvalid_0's auc: 0.892491\n",
      "[52]\tvalid_0's auc: 0.891965\n",
      "[53]\tvalid_0's auc: 0.891408\n",
      "[54]\tvalid_0's auc: 0.89126\n",
      "[55]\tvalid_0's auc: 0.891322\n",
      "[56]\tvalid_0's auc: 0.890622\n",
      "[57]\tvalid_0's auc: 0.89083\n",
      "[58]\tvalid_0's auc: 0.890666\n",
      "[59]\tvalid_0's auc: 0.890539\n",
      "[60]\tvalid_0's auc: 0.890251\n",
      "[61]\tvalid_0's auc: 0.889976\n",
      "[62]\tvalid_0's auc: 0.891411\n",
      "[63]\tvalid_0's auc: 0.89143\n",
      "[64]\tvalid_0's auc: 0.891551\n",
      "[65]\tvalid_0's auc: 0.890926\n",
      "[66]\tvalid_0's auc: 0.891807\n",
      "[67]\tvalid_0's auc: 0.892695\n",
      "[68]\tvalid_0's auc: 0.892794\n",
      "[69]\tvalid_0's auc: 0.89281\n",
      "[70]\tvalid_0's auc: 0.892364\n",
      "[71]\tvalid_0's auc: 0.89199\n",
      "[72]\tvalid_0's auc: 0.892519\n",
      "[73]\tvalid_0's auc: 0.892615\n",
      "[74]\tvalid_0's auc: 0.893812\n",
      "[75]\tvalid_0's auc: 0.894134\n",
      "[76]\tvalid_0's auc: 0.894044\n",
      "[77]\tvalid_0's auc: 0.893197\n",
      "[78]\tvalid_0's auc: 0.893447\n",
      "[79]\tvalid_0's auc: 0.893011\n",
      "[80]\tvalid_0's auc: 0.893262\n",
      "[81]\tvalid_0's auc: 0.894162\n",
      "[82]\tvalid_0's auc: 0.894484\n",
      "[83]\tvalid_0's auc: 0.895468\n",
      "[84]\tvalid_0's auc: 0.896285\n",
      "[85]\tvalid_0's auc: 0.8969\n",
      "[86]\tvalid_0's auc: 0.897247\n",
      "[87]\tvalid_0's auc: 0.897894\n",
      "[88]\tvalid_0's auc: 0.898639\n",
      "[89]\tvalid_0's auc: 0.898958\n",
      "[90]\tvalid_0's auc: 0.899051\n",
      "[91]\tvalid_0's auc: 0.898865\n",
      "[92]\tvalid_0's auc: 0.898358\n",
      "[93]\tvalid_0's auc: 0.898754\n",
      "[94]\tvalid_0's auc: 0.899379\n",
      "[95]\tvalid_0's auc: 0.899379\n",
      "[96]\tvalid_0's auc: 0.899391\n",
      "[97]\tvalid_0's auc: 0.899506\n",
      "[98]\tvalid_0's auc: 0.899181\n",
      "[99]\tvalid_0's auc: 0.899459\n",
      "[100]\tvalid_0's auc: 0.898549\n",
      "[101]\tvalid_0's auc: 0.898293\n",
      "[102]\tvalid_0's auc: 0.898392\n",
      "[103]\tvalid_0's auc: 0.898107\n",
      "[104]\tvalid_0's auc: 0.89781\n",
      "[105]\tvalid_0's auc: 0.897442\n",
      "[106]\tvalid_0's auc: 0.897052\n",
      "[107]\tvalid_0's auc: 0.896575\n",
      "[108]\tvalid_0's auc: 0.896204\n",
      "[109]\tvalid_0's auc: 0.896034\n",
      "[110]\tvalid_0's auc: 0.896003\n",
      "[111]\tvalid_0's auc: 0.896445\n",
      "[112]\tvalid_0's auc: 0.89651\n",
      "[113]\tvalid_0's auc: 0.896572\n",
      "[114]\tvalid_0's auc: 0.896854\n",
      "[115]\tvalid_0's auc: 0.896712\n",
      "[116]\tvalid_0's auc: 0.896411\n",
      "[117]\tvalid_0's auc: 0.895972\n",
      "Early stopping, best iteration is:\n",
      "[97]\tvalid_0's auc: 0.899506\n"
     ]
    }
   ],
   "source": [
    "train_data = lgbm.Dataset(new_xtrain_sb_597, new_ytrain_sb_597)\n",
    "test_data = lgbm.Dataset(xval_sb_597, yval_sb_597)\n",
    "\n",
    "# define parameters\n",
    "parameters = {\n",
    "    'objective': 'binary',\n",
    "    'metric': 'auc',\n",
    "    'is_unbalance': 'false',\n",
    "    'feature_fraction': 0.5,\n",
    "    'bagging_fraction': 0.5,\n",
    "    'bagging_freq': 20,\n",
    "    'num_threads' : 2,\n",
    "    'seed' : 76\n",
    "}\n",
    "\n",
    "# train lightGBM model\n",
    "model = lgbm.train(parameters,\n",
    "                   train_data,\n",
    "                   valid_sets=test_data,\n",
    "                   num_boost_round=1000,\n",
    "                   early_stopping_rounds=20)\n",
    "y_pred = model.predict(xtest_sb_597)"
   ]
  },
  {
   "cell_type": "code",
   "execution_count": 56,
   "id": "a12df862",
   "metadata": {},
   "outputs": [
    {
     "name": "stdout",
     "output_type": "stream",
     "text": [
      "0.9015643886705582\n"
     ]
    }
   ],
   "source": [
    "fpr0, tpr0, _ = roc_curve(ytest_sb_597, y_pred)\n",
    "roc_auc_lgbm_sb = auc(fpr0, tpr0)\n",
    "print(roc_auc_lgbm_sb)"
   ]
  },
  {
   "cell_type": "markdown",
   "id": "faad1b35",
   "metadata": {},
   "source": [
    "### 3 - LinearSVC"
   ]
  },
  {
   "cell_type": "code",
   "execution_count": 57,
   "id": "ab462cba",
   "metadata": {},
   "outputs": [],
   "source": [
    "from sklearn.svm import LinearSVC\n",
    "from sklearn.svm import SVC\n",
    "from sklearn.calibration import CalibratedClassifierCV"
   ]
  },
  {
   "cell_type": "code",
   "execution_count": 61,
   "id": "302475b9",
   "metadata": {},
   "outputs": [
    {
     "ename": "ValueError",
     "evalue": "Setting a random_state has no effect since shuffle is False. You should leave random_state to its default (None), or set shuffle=True.",
     "output_type": "error",
     "traceback": [
      "\u001b[1;31m---------------------------------------------------------------------------\u001b[0m",
      "\u001b[1;31mValueError\u001b[0m                                Traceback (most recent call last)",
      "\u001b[1;32m<ipython-input-61-034b155e750c>\u001b[0m in \u001b[0;36m<module>\u001b[1;34m\u001b[0m\n\u001b[0;32m      5\u001b[0m }\n\u001b[0;32m      6\u001b[0m \u001b[1;31m# Set the parameters by cross-validation\u001b[0m\u001b[1;33m\u001b[0m\u001b[1;33m\u001b[0m\u001b[1;33m\u001b[0m\u001b[0m\n\u001b[1;32m----> 7\u001b[1;33m \u001b[0mk_fold\u001b[0m \u001b[1;33m=\u001b[0m \u001b[0mStratifiedKFold\u001b[0m\u001b[1;33m(\u001b[0m\u001b[0mn_splits\u001b[0m\u001b[1;33m=\u001b[0m\u001b[1;36m4\u001b[0m\u001b[1;33m,\u001b[0m \u001b[0mrandom_state\u001b[0m\u001b[1;33m=\u001b[0m\u001b[1;36m42\u001b[0m\u001b[1;33m)\u001b[0m\u001b[1;33m\u001b[0m\u001b[1;33m\u001b[0m\u001b[0m\n\u001b[0m\u001b[0;32m      8\u001b[0m \u001b[1;33m\u001b[0m\u001b[0m\n\u001b[0;32m      9\u001b[0m \u001b[0mscores\u001b[0m \u001b[1;33m=\u001b[0m \u001b[1;33m[\u001b[0m\u001b[1;34m'roc_auc'\u001b[0m\u001b[1;33m]\u001b[0m\u001b[1;33m\u001b[0m\u001b[1;33m\u001b[0m\u001b[0m\n",
      "\u001b[1;32m~\\anaconda3\\lib\\site-packages\\sklearn\\model_selection\\_split.py\u001b[0m in \u001b[0;36m__init__\u001b[1;34m(self, n_splits, shuffle, random_state)\u001b[0m\n\u001b[0;32m    642\u001b[0m \u001b[1;33m\u001b[0m\u001b[0m\n\u001b[0;32m    643\u001b[0m     \u001b[1;32mdef\u001b[0m \u001b[0m__init__\u001b[0m\u001b[1;33m(\u001b[0m\u001b[0mself\u001b[0m\u001b[1;33m,\u001b[0m \u001b[0mn_splits\u001b[0m\u001b[1;33m=\u001b[0m\u001b[1;36m5\u001b[0m\u001b[1;33m,\u001b[0m \u001b[1;33m*\u001b[0m\u001b[1;33m,\u001b[0m \u001b[0mshuffle\u001b[0m\u001b[1;33m=\u001b[0m\u001b[1;32mFalse\u001b[0m\u001b[1;33m,\u001b[0m \u001b[0mrandom_state\u001b[0m\u001b[1;33m=\u001b[0m\u001b[1;32mNone\u001b[0m\u001b[1;33m)\u001b[0m\u001b[1;33m:\u001b[0m\u001b[1;33m\u001b[0m\u001b[1;33m\u001b[0m\u001b[0m\n\u001b[1;32m--> 644\u001b[1;33m         \u001b[0msuper\u001b[0m\u001b[1;33m(\u001b[0m\u001b[1;33m)\u001b[0m\u001b[1;33m.\u001b[0m\u001b[0m__init__\u001b[0m\u001b[1;33m(\u001b[0m\u001b[0mn_splits\u001b[0m\u001b[1;33m=\u001b[0m\u001b[0mn_splits\u001b[0m\u001b[1;33m,\u001b[0m \u001b[0mshuffle\u001b[0m\u001b[1;33m=\u001b[0m\u001b[0mshuffle\u001b[0m\u001b[1;33m,\u001b[0m \u001b[0mrandom_state\u001b[0m\u001b[1;33m=\u001b[0m\u001b[0mrandom_state\u001b[0m\u001b[1;33m)\u001b[0m\u001b[1;33m\u001b[0m\u001b[1;33m\u001b[0m\u001b[0m\n\u001b[0m\u001b[0;32m    645\u001b[0m \u001b[1;33m\u001b[0m\u001b[0m\n\u001b[0;32m    646\u001b[0m     \u001b[1;32mdef\u001b[0m \u001b[0m_make_test_folds\u001b[0m\u001b[1;33m(\u001b[0m\u001b[0mself\u001b[0m\u001b[1;33m,\u001b[0m \u001b[0mX\u001b[0m\u001b[1;33m,\u001b[0m \u001b[0my\u001b[0m\u001b[1;33m=\u001b[0m\u001b[1;32mNone\u001b[0m\u001b[1;33m)\u001b[0m\u001b[1;33m:\u001b[0m\u001b[1;33m\u001b[0m\u001b[1;33m\u001b[0m\u001b[0m\n",
      "\u001b[1;32m~\\anaconda3\\lib\\site-packages\\sklearn\\model_selection\\_split.py\u001b[0m in \u001b[0;36m__init__\u001b[1;34m(self, n_splits, shuffle, random_state)\u001b[0m\n\u001b[0;32m    294\u001b[0m \u001b[1;33m\u001b[0m\u001b[0m\n\u001b[0;32m    295\u001b[0m         \u001b[1;32mif\u001b[0m \u001b[1;32mnot\u001b[0m \u001b[0mshuffle\u001b[0m \u001b[1;32mand\u001b[0m \u001b[0mrandom_state\u001b[0m \u001b[1;32mis\u001b[0m \u001b[1;32mnot\u001b[0m \u001b[1;32mNone\u001b[0m\u001b[1;33m:\u001b[0m  \u001b[1;31m# None is the default\u001b[0m\u001b[1;33m\u001b[0m\u001b[1;33m\u001b[0m\u001b[0m\n\u001b[1;32m--> 296\u001b[1;33m             raise ValueError(\n\u001b[0m\u001b[0;32m    297\u001b[0m                 \u001b[1;34m\"Setting a random_state has no effect since shuffle is \"\u001b[0m\u001b[1;33m\u001b[0m\u001b[1;33m\u001b[0m\u001b[0m\n\u001b[0;32m    298\u001b[0m                 \u001b[1;34m\"False. You should leave \"\u001b[0m\u001b[1;33m\u001b[0m\u001b[1;33m\u001b[0m\u001b[0m\n",
      "\u001b[1;31mValueError\u001b[0m: Setting a random_state has no effect since shuffle is False. You should leave random_state to its default (None), or set shuffle=True."
     ]
    }
   ],
   "source": [
    "# Set the parameters by cross-validation\n",
    "tuned_parameters = {\n",
    "    'tol':(1.0, 1e-1, 1e-2, 1e-3, 1e-4, 1e-5, 1e-6),\n",
    "    'C': (0.001, 0.05, 0.01, 0.1, 1.0, 10.0, 50, 100.0)\n",
    "}\n",
    "# Set the parameters by cross-validation\n",
    "k_fold = StratifiedKFold(n_splits=4, random_state=42)\n",
    "\n",
    "scores = ['roc_auc']\n",
    "\n",
    "def gridsearch_linearsvc(X_train, y_train, X_test, y_test, k_fold, tuned_parameters, scores):\n",
    "    optimals = {}\n",
    "    for score in scores:\n",
    "        print(\"# Tuning hyper-parameters for ----> %s\" % score)\n",
    "        print()\n",
    "\n",
    "        svm = LinearSVC()\n",
    "\n",
    "        clf = GridSearchCV(svm, tuned_parameters, error_score='raise', cv=k_fold, scoring=score)\n",
    "\n",
    "        clf.fit(X_train, y_train)\n",
    "\n",
    "        print(\"Best parameters set found on development set:\")\n",
    "        print()\n",
    "        print(clf.best_params_)\n",
    "        print()\n",
    "        print(\"Grid scores on development set:\")\n",
    "        print()\n",
    "        means = clf.cv_results_['mean_test_score']\n",
    "        stds = clf.cv_results_['std_test_score']\n",
    "        for mean, std, params in zip(means, stds, clf.cv_results_['params']):\n",
    "            print(\"%0.3f (+/-%0.03f) for %r\"\n",
    "                  % (mean, std * 2, params))\n",
    "        print()\n",
    "\n",
    "        print(\"Detailed classification report:\")\n",
    "        print()\n",
    "        print(\"The model is trained on the full development set.\")\n",
    "        print(\"The scores are computed on the full evaluation set.\")\n",
    "        print()\n",
    "        y_true, y_pred = y_test, clf.predict(X_test)\n",
    "        print(classification_report(y_true, y_pred))\n",
    "        print()\n",
    "        print(\"**** Matrice di Confusione *****\")\n",
    "        tn, fp, fn, tp = confusion_matrix(y_true, y_pred).ravel()\n",
    "        print(' True negative: %d False negative: %d' % (tn, fn))\n",
    "        print(' True positive: %d False positive: %d' % (tp, fp))\n",
    "        print(\"____________________________________________\")\n",
    "        optimals[score] = clf.best_params_\n",
    "    return optimals"
   ]
  },
  {
   "cell_type": "code",
   "execution_count": null,
   "id": "818c111d",
   "metadata": {},
   "outputs": [],
   "source": [
    "optimals_597 = gridsearch_linearsvc(xtrain_597, ytrain_597, xtest_597, ytest_597, k_fold, tuned_parameters, scores)"
   ]
  },
  {
   "cell_type": "code",
   "execution_count": null,
   "id": "fcebdeb3",
   "metadata": {},
   "outputs": [],
   "source": [
    "optimals_597"
   ]
  },
  {
   "cell_type": "code",
   "execution_count": 59,
   "id": "c9b32395",
   "metadata": {},
   "outputs": [
    {
     "name": "stdout",
     "output_type": "stream",
     "text": [
      "0.87989789043565\n"
     ]
    },
    {
     "data": {
      "image/png": "[encoded data removed]",
      "text/plain": [
       "<Figure size 432x288 with 1 Axes>"
      ]
     },
     "metadata": {
      "needs_background": "light"
     },
     "output_type": "display_data"
    }
   ],
   "source": [
    "model_597 = LinearSVC(C = 100.0, tol =1.0)\n",
    "model_597.fit(xtrain_597, ytrain_597)\n",
    "\n",
    "\n",
    "y_score_597 = model_597.predict(xtest_597)\n",
    "\n",
    "cclf = CalibratedClassifierCV(base_estimator=model_597, cv=5)\n",
    "cclf.fit(xtrain_597, ytrain_597)\n",
    "y_pred = cclf.predict(xtest_597)\n",
    "y_score_597 = cclf.predict_proba(xtest_597)\n",
    "fpr0, tpr0, _ = roc_curve(ytest_597, y_score_597[:, 1])\n",
    "roc_auc0 = auc(fpr0, tpr0)\n",
    "print(roc_auc0)\n",
    "\n",
    "plt.plot(fpr0, tpr0, color='darkorange', lw=3, label='$AUC_0$ = %.3f' % (roc_auc0))\n",
    "\n",
    "plt.plot([0, 1], [0, 1], color='navy', lw=2, linestyle='--')\n",
    "plt.xlim([0.0, 1.0])\n",
    "plt.ylim([0.0, 1.05])\n",
    "plt.xlabel('False Positive Rate', fontsize=16)\n",
    "plt.ylabel('True Positive Rate', fontsize=16)\n",
    "plt.title('ROC curve', fontsize=16)\n",
    "plt.legend(loc=\"lower right\", fontsize=14, frameon=False)\n",
    "plt.tick_params(axis='both', which='major', labelsize=16)\n",
    "plt.show()"
   ]
  },
  {
   "cell_type": "markdown",
   "id": "7791beb8",
   "metadata": {},
   "source": [
    "### 3 - LinearSVC_Bilanciato"
   ]
  },
  {
   "cell_type": "code",
   "execution_count": 60,
   "id": "5ac9e4f3",
   "metadata": {},
   "outputs": [
    {
     "ename": "NameError",
     "evalue": "name 'gridsearch_linearsvc' is not defined",
     "output_type": "error",
     "traceback": [
      "\u001b[1;31m---------------------------------------------------------------------------\u001b[0m",
      "\u001b[1;31mNameError\u001b[0m                                 Traceback (most recent call last)",
      "\u001b[1;32m<ipython-input-60-f4938971b540>\u001b[0m in \u001b[0;36m<module>\u001b[1;34m\u001b[0m\n\u001b[1;32m----> 1\u001b[1;33m \u001b[0moptimals_sb_597\u001b[0m \u001b[1;33m=\u001b[0m \u001b[0mgridsearch_linearsvc\u001b[0m\u001b[1;33m(\u001b[0m\u001b[0mxtrain_sb_597\u001b[0m\u001b[1;33m,\u001b[0m \u001b[0mytrain_sb_597\u001b[0m\u001b[1;33m,\u001b[0m \u001b[0mxtest_sb_597\u001b[0m\u001b[1;33m,\u001b[0m \u001b[0mytest_sb_597\u001b[0m\u001b[1;33m,\u001b[0m \u001b[0mk_fold\u001b[0m\u001b[1;33m,\u001b[0m \u001b[0mtuned_parameters\u001b[0m\u001b[1;33m,\u001b[0m \u001b[0mscores\u001b[0m\u001b[1;33m)\u001b[0m\u001b[1;33m\u001b[0m\u001b[1;33m\u001b[0m\u001b[0m\n\u001b[0m",
      "\u001b[1;31mNameError\u001b[0m: name 'gridsearch_linearsvc' is not defined"
     ]
    }
   ],
   "source": [
    "optimals_sb_597 = gridsearch_linearsvc(xtrain_sb_597, ytrain_sb_597, xtest_sb_597, ytest_sb_597, k_fold, tuned_parameters, scores)"
   ]
  },
  {
   "cell_type": "code",
   "execution_count": 62,
   "id": "7cd03af0",
   "metadata": {},
   "outputs": [
    {
     "ename": "NameError",
     "evalue": "name 'optimals_sb_597' is not defined",
     "output_type": "error",
     "traceback": [
      "\u001b[1;31m---------------------------------------------------------------------------\u001b[0m",
      "\u001b[1;31mNameError\u001b[0m                                 Traceback (most recent call last)",
      "\u001b[1;32m<ipython-input-62-253f43dbbc58>\u001b[0m in \u001b[0;36m<module>\u001b[1;34m\u001b[0m\n\u001b[1;32m----> 1\u001b[1;33m \u001b[0moptimals_sb_597\u001b[0m\u001b[1;33m\u001b[0m\u001b[1;33m\u001b[0m\u001b[0m\n\u001b[0m",
      "\u001b[1;31mNameError\u001b[0m: name 'optimals_sb_597' is not defined"
     ]
    }
   ],
   "source": [
    "optimals_sb_597"
   ]
  },
  {
   "cell_type": "code",
   "execution_count": 63,
   "id": "bc2a3121",
   "metadata": {},
   "outputs": [
    {
     "name": "stdout",
     "output_type": "stream",
     "text": [
      "0.8683040459689126\n"
     ]
    },
    {
     "data": {
      "image/png": "[encoded data removed]",
      "text/plain": [
       "<Figure size 432x288 with 1 Axes>"
      ]
     },
     "metadata": {
      "needs_background": "light"
     },
     "output_type": "display_data"
    }
   ],
   "source": [
    "model_sb_597 = LinearSVC(C = 10.0, tol =0.1)\n",
    "model_sb_597.fit(xtrain_sb_597, ytrain_sb_597)\n",
    "\n",
    "\n",
    "y_score_sb_597 = model_sb_597.predict(xtest_sb_597)\n",
    "\n",
    "cclf = CalibratedClassifierCV(base_estimator=model_sb_597, cv=5)\n",
    "cclf.fit(xtrain_sb_597, ytrain_sb_597)\n",
    "y_pred = cclf.predict(xtest_sb_597)\n",
    "y_score_sb_597 = cclf.predict_proba(xtest_sb_597)\n",
    "fpr0, tpr0, _ = roc_curve(ytest_sb_597, y_score_sb_597[:, 1])\n",
    "roc_auc0 = auc(fpr0, tpr0)\n",
    "print(roc_auc0)\n",
    "\n",
    "plt.plot(fpr0, tpr0, color='darkorange', lw=3, label='$AUC_0$ = %.3f' % (roc_auc0))\n",
    "\n",
    "plt.plot([0, 1], [0, 1], color='navy', lw=2, linestyle='--')\n",
    "plt.xlim([0.0, 1.0])\n",
    "plt.ylim([0.0, 1.05])\n",
    "plt.xlabel('False Positive Rate', fontsize=16)\n",
    "plt.ylabel('True Positive Rate', fontsize=16)\n",
    "plt.title('ROC curve', fontsize=16)\n",
    "plt.legend(loc=\"lower right\", fontsize=14, frameon=False)\n",
    "plt.tick_params(axis='both', which='major', labelsize=16)\n",
    "plt.show()"
   ]
  },
  {
   "cell_type": "markdown",
   "id": "0df1e242",
   "metadata": {},
   "source": [
    "# 4 - NN"
   ]
  },
  {
   "cell_type": "code",
   "execution_count": 64,
   "id": "f568fe5b",
   "metadata": {},
   "outputs": [],
   "source": [
    "def build_model_1( X_train):\n",
    "    optimizer='adagrad'\n",
    "    #optimizer='adam'\n",
    "    n_feature = X_train.shape[1]\n",
    "    model = Sequential()\n",
    "    model.add(Dense(32, input_dim=n_feature, activation='tanh'))\n",
    "    model.add(Dense(32, activation='tanh'))\n",
    "    model.add(Dense(32, activation='tanh'))\n",
    "    model.add(Dense(32, activation='tanh'))\n",
    "    model.add(Dense(32, activation='tanh'))\n",
    "    model.add(Dense(32, activation='tanh'))\n",
    "    model.add(Dense(32, activation='tanh'))\n",
    "    model.add(Dense(32, activation='tanh'))\n",
    "    # Linear\n",
    "    model.add(Dense(1, activation='sigmoid'))\n",
    "    model.compile(loss='binary_crossentropy', optimizer=optimizer, metrics=[\"AUC\"])\n",
    "    return model"
   ]
  },
  {
   "cell_type": "code",
   "execution_count": 65,
   "id": "ec95d766",
   "metadata": {},
   "outputs": [],
   "source": [
    "def build_model_2(X_train):\n",
    "    n_feature = X_train.shape[1]\n",
    "    model = Sequential()\n",
    "    model.add(Dense(128, input_dim=n_feature, activation='relu'))\n",
    "    model.add(Dense(32, activation='relu'))\n",
    "    model.add(Dense(32, activation='relu'))\n",
    "    model.add(Dense(32, activation='relu'))\n",
    "    model.add(Dense(32, activation='relu'))\n",
    "    # Linear\n",
    "    model.add(Dense(1, activation='sigmoid', kernel_regularizer=regularizers.l2(0.01)))\n",
    "    sgd = optimizers.SGD(learning_rate=0.1, momentum=0.9, nesterov=True)\n",
    "    model.compile(loss='binary_crossentropy', optimizer=sgd, metrics=[\"AUC\"])\n",
    "    return model"
   ]
  },
  {
   "cell_type": "code",
   "execution_count": 66,
   "id": "c2620100",
   "metadata": {},
   "outputs": [
    {
     "name": "stdout",
     "output_type": "stream",
     "text": [
      "Epoch 1/30\n",
      "847/847 [==============================] - 2s 2ms/step - loss: 0.5436 - auc: 0.4967 - val_loss: 0.5316 - val_auc: 0.5194\n",
      "Epoch 2/30\n",
      "847/847 [==============================] - 1s 2ms/step - loss: 0.5315 - auc: 0.5061 - val_loss: 0.5315 - val_auc: 0.5147\n",
      "Epoch 3/30\n",
      "847/847 [==============================] - 1s 2ms/step - loss: 0.5314 - auc: 0.5127 - val_loss: 0.5314 - val_auc: 0.5243\n",
      "Epoch 4/30\n",
      "847/847 [==============================] - 1s 2ms/step - loss: 0.5313 - auc: 0.5214 - val_loss: 0.5313 - val_auc: 0.5423\n",
      "Epoch 5/30\n",
      "847/847 [==============================] - 1s 2ms/step - loss: 0.5312 - auc: 0.5211 - val_loss: 0.5312 - val_auc: 0.5413\n",
      "Epoch 6/30\n",
      "847/847 [==============================] - 1s 2ms/step - loss: 0.5311 - auc: 0.5245 - val_loss: 0.5311 - val_auc: 0.5510\n",
      "Epoch 7/30\n",
      "847/847 [==============================] - 1s 2ms/step - loss: 0.5310 - auc: 0.5344 - val_loss: 0.5310 - val_auc: 0.5547\n",
      "Epoch 8/30\n",
      "847/847 [==============================] - 1s 1ms/step - loss: 0.5309 - auc: 0.5376 - val_loss: 0.5309 - val_auc: 0.5627\n",
      "Epoch 9/30\n",
      "847/847 [==============================] - 1s 2ms/step - loss: 0.5307 - auc: 0.5408 - val_loss: 0.5308 - val_auc: 0.5612\n",
      "Epoch 10/30\n",
      "847/847 [==============================] - 1s 2ms/step - loss: 0.5307 - auc: 0.5583 - val_loss: 0.5307 - val_auc: 0.5725\n",
      "Epoch 11/30\n",
      "847/847 [==============================] - 1s 2ms/step - loss: 0.5305 - auc: 0.5646 - val_loss: 0.5306 - val_auc: 0.5774\n",
      "Epoch 12/30\n",
      "847/847 [==============================] - 1s 2ms/step - loss: 0.5304 - auc: 0.5677 - val_loss: 0.5304 - val_auc: 0.5863\n",
      "Epoch 13/30\n",
      "847/847 [==============================] - 1s 2ms/step - loss: 0.5303 - auc: 0.5750 - val_loss: 0.5303 - val_auc: 0.5907\n",
      "Epoch 14/30\n",
      "847/847 [==============================] - 1s 2ms/step - loss: 0.5302 - auc: 0.5854 - val_loss: 0.5302 - val_auc: 0.6050\n",
      "Epoch 15/30\n",
      "847/847 [==============================] - 1s 2ms/step - loss: 0.5300 - auc: 0.5869 - val_loss: 0.5301 - val_auc: 0.6070\n",
      "Epoch 16/30\n",
      "847/847 [==============================] - 1s 2ms/step - loss: 0.5299 - auc: 0.5972 - val_loss: 0.5299 - val_auc: 0.6142\n",
      "Epoch 17/30\n",
      "847/847 [==============================] - 1s 2ms/step - loss: 0.5297 - auc: 0.6001 - val_loss: 0.5298 - val_auc: 0.6209\n",
      "Epoch 18/30\n",
      "847/847 [==============================] - 1s 1ms/step - loss: 0.5295 - auc: 0.6088 - val_loss: 0.5296 - val_auc: 0.6240\n",
      "Epoch 19/30\n",
      "847/847 [==============================] - 1s 1ms/step - loss: 0.5294 - auc: 0.6161 - val_loss: 0.5294 - val_auc: 0.6365\n",
      "Epoch 20/30\n",
      "847/847 [==============================] - 1s 2ms/step - loss: 0.5292 - auc: 0.6200 - val_loss: 0.5293 - val_auc: 0.6326\n",
      "Epoch 21/30\n",
      "847/847 [==============================] - 1s 2ms/step - loss: 0.5290 - auc: 0.6233 - val_loss: 0.5291 - val_auc: 0.6444\n",
      "Epoch 22/30\n",
      "847/847 [==============================] - 1s 2ms/step - loss: 0.5288 - auc: 0.6371 - val_loss: 0.5289 - val_auc: 0.6459\n",
      "Epoch 23/30\n",
      "847/847 [==============================] - 1s 1ms/step - loss: 0.5286 - auc: 0.6472 - val_loss: 0.5287 - val_auc: 0.6534\n",
      "Epoch 24/30\n",
      "847/847 [==============================] - 1s 2ms/step - loss: 0.5283 - auc: 0.6512 - val_loss: 0.5284 - val_auc: 0.6600\n",
      "Epoch 25/30\n",
      "847/847 [==============================] - 1s 2ms/step - loss: 0.5281 - auc: 0.6575 - val_loss: 0.5282 - val_auc: 0.6638\n",
      "Epoch 26/30\n",
      "847/847 [==============================] - 1s 2ms/step - loss: 0.5278 - auc: 0.6620 - val_loss: 0.5279 - val_auc: 0.6707\n",
      "Epoch 27/30\n",
      "847/847 [==============================] - 1s 2ms/step - loss: 0.5275 - auc: 0.6676 - val_loss: 0.5276 - val_auc: 0.6756\n",
      "Epoch 28/30\n",
      "847/847 [==============================] - 1s 2ms/step - loss: 0.5271 - auc: 0.6717 - val_loss: 0.5273 - val_auc: 0.6824\n",
      "Epoch 29/30\n",
      "847/847 [==============================] - 1s 2ms/step - loss: 0.5267 - auc: 0.6735 - val_loss: 0.5269 - val_auc: 0.6875\n",
      "Epoch 30/30\n",
      "847/847 [==============================] - 1s 2ms/step - loss: 0.5264 - auc: 0.6869 - val_loss: 0.5265 - val_auc: 0.6936\n",
      "Epoch 1/30\n",
      "170/170 [==============================] - 1s 3ms/step - loss: 0.5401 - auc: 0.5028 - val_loss: 0.5323 - val_auc: 0.5000\n",
      "Epoch 2/30\n",
      "170/170 [==============================] - 0s 2ms/step - loss: 0.5323 - auc: 0.5025 - val_loss: 0.5322 - val_auc: 0.5000\n",
      "Epoch 3/30\n",
      "170/170 [==============================] - 0s 2ms/step - loss: 0.5324 - auc: 0.4998 - val_loss: 0.5325 - val_auc: 0.5000\n",
      "Epoch 4/30\n",
      "170/170 [==============================] - 0s 2ms/step - loss: 0.5326 - auc: 0.5032 - val_loss: 0.5322 - val_auc: 0.5000\n",
      "Epoch 5/30\n",
      "170/170 [==============================] - 0s 2ms/step - loss: 0.5323 - auc: 0.4988 - val_loss: 0.5318 - val_auc: 0.5000\n",
      "Epoch 6/30\n",
      "170/170 [==============================] - 0s 2ms/step - loss: 0.5325 - auc: 0.4873 - val_loss: 0.5332 - val_auc: 0.5000\n",
      "Epoch 7/30\n",
      "170/170 [==============================] - 0s 2ms/step - loss: 0.5325 - auc: 0.4965 - val_loss: 0.5325 - val_auc: 0.5000\n",
      "Epoch 8/30\n",
      "170/170 [==============================] - 0s 2ms/step - loss: 0.5324 - auc: 0.4902 - val_loss: 0.5321 - val_auc: 0.5000\n",
      "Epoch 9/30\n",
      "170/170 [==============================] - 0s 2ms/step - loss: 0.5322 - auc: 0.5026 - val_loss: 0.5318 - val_auc: 0.6136\n",
      "Epoch 10/30\n",
      "170/170 [==============================] - 0s 2ms/step - loss: 0.5322 - auc: 0.4944 - val_loss: 0.5323 - val_auc: 0.5000\n",
      "Epoch 11/30\n",
      "170/170 [==============================] - 0s 2ms/step - loss: 0.5326 - auc: 0.4982 - val_loss: 0.5355 - val_auc: 0.5000\n",
      "Epoch 12/30\n",
      "170/170 [==============================] - 0s 2ms/step - loss: 0.5320 - auc: 0.5069 - val_loss: 0.5340 - val_auc: 0.5000\n",
      "Epoch 13/30\n",
      "170/170 [==============================] - 0s 2ms/step - loss: 0.5323 - auc: 0.4882 - val_loss: 0.5321 - val_auc: 0.5000\n",
      "Epoch 14/30\n",
      "170/170 [==============================] - 0s 2ms/step - loss: 0.5322 - auc: 0.4817 - val_loss: 0.5318 - val_auc: 0.5000\n",
      "Epoch 15/30\n",
      "170/170 [==============================] - 0s 2ms/step - loss: 0.5323 - auc: 0.4899 - val_loss: 0.5319 - val_auc: 0.5000\n",
      "Epoch 16/30\n",
      "170/170 [==============================] - 0s 2ms/step - loss: 0.5320 - auc: 0.5105 - val_loss: 0.5330 - val_auc: 0.5000\n",
      "Epoch 17/30\n",
      "170/170 [==============================] - 0s 2ms/step - loss: 0.5323 - auc: 0.4839 - val_loss: 0.5323 - val_auc: 0.5000\n",
      "Epoch 18/30\n",
      "170/170 [==============================] - 0s 2ms/step - loss: 0.5323 - auc: 0.5043 - val_loss: 0.5319 - val_auc: 0.5000\n",
      "Epoch 19/30\n",
      "170/170 [==============================] - 0s 2ms/step - loss: 0.5326 - auc: 0.4930 - val_loss: 0.5322 - val_auc: 0.5000\n",
      "Epoch 20/30\n",
      "170/170 [==============================] - 0s 2ms/step - loss: 0.5327 - auc: 0.4931 - val_loss: 0.5318 - val_auc: 0.5000\n",
      "Epoch 21/30\n",
      "170/170 [==============================] - 0s 2ms/step - loss: 0.5324 - auc: 0.4958 - val_loss: 0.5323 - val_auc: 0.5000\n",
      "Epoch 22/30\n",
      "170/170 [==============================] - 0s 2ms/step - loss: 0.5326 - auc: 0.4979 - val_loss: 0.5329 - val_auc: 0.5000\n",
      "Epoch 23/30\n",
      "170/170 [==============================] - 0s 2ms/step - loss: 0.5323 - auc: 0.4927 - val_loss: 0.5318 - val_auc: 0.5000\n",
      "Epoch 24/30\n",
      "170/170 [==============================] - 0s 2ms/step - loss: 0.5325 - auc: 0.4866 - val_loss: 0.5321 - val_auc: 0.5000\n",
      "Epoch 25/30\n",
      "170/170 [==============================] - 0s 2ms/step - loss: 0.5322 - auc: 0.5076 - val_loss: 0.5317 - val_auc: 0.5000\n",
      "Epoch 26/30\n",
      "170/170 [==============================] - 0s 2ms/step - loss: 0.5318 - auc: 0.5096 - val_loss: 0.5409 - val_auc: 0.6157\n",
      "Epoch 27/30\n",
      "170/170 [==============================] - 0s 2ms/step - loss: 0.5327 - auc: 0.4893 - val_loss: 0.5317 - val_auc: 0.5000\n",
      "Epoch 28/30\n",
      "170/170 [==============================] - 0s 2ms/step - loss: 0.5326 - auc: 0.4872 - val_loss: 0.5318 - val_auc: 0.5000\n",
      "Epoch 29/30\n",
      "170/170 [==============================] - 0s 2ms/step - loss: 0.5319 - auc: 0.5016 - val_loss: 0.5339 - val_auc: 0.5000\n",
      "Epoch 30/30\n",
      "170/170 [==============================] - 0s 2ms/step - loss: 0.5321 - auc: 0.5074 - val_loss: 0.5357 - val_auc: 0.5000\n"
     ]
    }
   ],
   "source": [
    "model1_597 = build_model_1(xtrain_597)\n",
    "history1_597 = model1_597.fit(xtrain_597, ytrain_597, validation_data=(xtest_597, ytest_597), epochs=30, batch_size=10).history\n",
    "\n",
    "model2_597 = build_model_2(xtrain_597)\n",
    "history2_597 = model2_597.fit(xtrain_597, ytrain_597, validation_data=(xtest_597, ytest_597), epochs=30, batch_size=50).history"
   ]
  },
  {
   "cell_type": "code",
   "execution_count": 67,
   "id": "70975dbc",
   "metadata": {},
   "outputs": [
    {
     "data": {
      "image/png": "[encoded data removed]",
      "text/plain": [
       "<Figure size 432x288 with 1 Axes>"
      ]
     },
     "metadata": {
      "needs_background": "light"
     },
     "output_type": "display_data"
    }
   ],
   "source": [
    "plt.plot(history1_597['loss'], label='Loss 10 (batch_size)')\n",
    "plt.plot(history2_597['loss'], label='Loss 50 (batch_size)')\n",
    "plt.xlabel('Epochs')\n",
    "plt.ylabel('Cross-Entropy')\n",
    "plt.legend()\n",
    "plt.show()"
   ]
  },
  {
   "cell_type": "code",
   "execution_count": 68,
   "id": "dd7cc970",
   "metadata": {},
   "outputs": [
    {
     "data": {
      "image/png": "[encoded data removed]",
      "text/plain": [
       "<Figure size 432x288 with 1 Axes>"
      ]
     },
     "metadata": {
      "needs_background": "light"
     },
     "output_type": "display_data"
    }
   ],
   "source": [
    "plt.plot(history1_597['loss'], label='Train')\n",
    "plt.plot(history1_597['val_loss'], label='Val')\n",
    "plt.xlabel('Epochs')\n",
    "plt.ylabel('Cross-Entropy')\n",
    "plt.legend()\n",
    "plt.show()"
   ]
  },
  {
   "cell_type": "code",
   "execution_count": 69,
   "id": "f0af4802",
   "metadata": {},
   "outputs": [
    {
     "data": {
      "image/png": "[encoded data removed]",
      "text/plain": [
       "<Figure size 432x288 with 1 Axes>"
      ]
     },
     "metadata": {
      "needs_background": "light"
     },
     "output_type": "display_data"
    }
   ],
   "source": [
    "plt.plot(history2_597['loss'], label='Train')\n",
    "plt.plot(history2_597['val_loss'], label='Val')\n",
    "plt.xlabel('Epochs')\n",
    "plt.ylabel('Cross-Entropy')\n",
    "plt.legend()\n",
    "plt.show()"
   ]
  },
  {
   "cell_type": "code",
   "execution_count": 70,
   "id": "50720034",
   "metadata": {},
   "outputs": [
    {
     "name": "stdout",
     "output_type": "stream",
     "text": [
      "114/114 [==============================] - 0s 991us/step - loss: 0.5265 - auc: 0.6936\n",
      "114/114 [==============================] - 0s 1ms/step - loss: 0.5357 - auc: 0.5000\n",
      "Loss 0.526514, AUC 0.693650\n",
      "Loss 0.535705, AUC 0.500000\n"
     ]
    }
   ],
   "source": [
    "test_loss_1_597, test_auc_1_597 = model1_597.evaluate(xtest_597, ytest_597)\n",
    "test_loss_2_597, test_auc_2_597 = model2_597.evaluate(xtest_597, ytest_597)\n",
    "\n",
    "print('Loss %f, AUC %f' % (test_loss_1_597, test_auc_1_597))\n",
    "print('Loss %f, AUC %f' % (test_loss_2_597, test_auc_2_597))"
   ]
  },
  {
   "cell_type": "code",
   "execution_count": 71,
   "id": "3655f927",
   "metadata": {},
   "outputs": [],
   "source": [
    "def create_model(X_train, learning_rate=0.1, momentum = 0.9, nesterov = True,\n",
    "                 activation = 'sigmoid', regularizer = 0.01, units=3, hidden_layers=1):\n",
    "    # create model\n",
    "    model = Sequential()\n",
    "    #initializer = initializers.RandomUniform(minval=0, maxval=0.5, seed=None)\n",
    "    model.add(Dense(units, input_dim=X_train.shape[1], activation = activation, \n",
    "                         kernel_regularizer=regularizers.l2(regularizer)))  \n",
    "    for i in range(1,hidden_layers):\n",
    "          model.add(Dense(units, activation = activation, \n",
    "                         kernel_regularizer=regularizers.l2(regularizer)))  \n",
    "    model.add(Dense(1, activation = 'sigmoid',  kernel_regularizer=regularizers.l2(regularizer)))\n",
    "    sgd = optimizers.SGD(learning_rate=learning_rate, momentum=momentum, nesterov=nesterov)\n",
    "    model.compile(optimizer=sgd, loss='binary_crossentropy', metrics=['AUC'])\n",
    "    return model"
   ]
  },
  {
   "cell_type": "code",
   "execution_count": 72,
   "id": "22fcc2c2",
   "metadata": {},
   "outputs": [],
   "source": [
    "param_list = {'batch_size': [128],\n",
    "              'epochs': [100],\n",
    "             'learning_rate': [0.261],\n",
    "             'momentum':[0.9],\n",
    "             'nesterov':[False],\n",
    "             'activation':['tanh'],\n",
    "              'regularizer':[0.0001],\n",
    "              'units': [10],\n",
    "             'hidden_layers': [1]}"
   ]
  },
  {
   "cell_type": "code",
   "execution_count": 73,
   "id": "cefe3d33",
   "metadata": {},
   "outputs": [],
   "source": [
    "class Model:\n",
    "    def __init__(self, loss = 0, accuracy = 0, batch_size = 0, epochs = 0, learning_rate=0, momentum=0,nesterov=False,\n",
    "                activation='sigmoid', regularizer=0, units=0):\n",
    "        self.accuracy_CV_list = []\n",
    "        self.accuracy = accuracy\n",
    "        self.loss_CV_list = []\n",
    "        self.loss = loss\n",
    "        self.mee_list = []\n",
    "        self.mee = 0\n",
    "        self.std = 0\n",
    "        self.batch_size = batch_size\n",
    "        self.epochs = epochs\n",
    "        self.learning_rate = learning_rate\n",
    "        self.momentum = momentum\n",
    "        self.nesterov = nesterov\n",
    "        self.activation = activation\n",
    "        self.regularizer = regularizer\n",
    "        self.units = units\n",
    "        self.noise = 0\n",
    "    def toString(self):\n",
    "        print(\"\"\"{MEE: %f (+/- %0.2f), Number of Units: %d, Batch Size: %d, Epochs: %d, Learning Rate: %f, Momentum: %f,\n",
    "              \"Nesterov: %s, Activation: %s, Regularization: %f, Noise: %f}\"\"\" % \n",
    "              (self.mee, self.std, self.units, self.batch_size, self.epochs, self.learning_rate, self.momentum,\n",
    "              self.nesterov, self.activation, self.regularizer, self.noise))"
   ]
  },
  {
   "cell_type": "code",
   "execution_count": 74,
   "id": "cab6441e",
   "metadata": {},
   "outputs": [],
   "source": [
    "def GridSearchNN(X_train, Y_train, parameters, cv = 3, rand=False):\n",
    "    models = []\n",
    "    allNames = list(parameters)\n",
    "    combinations = itertools.product(*(parameters[Name] for Name in allNames))\n",
    "    searchList = []\n",
    "    if rand:\n",
    "        searchList = random.sample(list(combinations), k=100)\n",
    "    else:\n",
    "        searchList = list(combinations)\n",
    "    for i in searchList:\n",
    "        print(searchList.index(i), i)\n",
    "        batch_size = i[0]\n",
    "        epochs=i[1]\n",
    "        learning_rate=i[2]\n",
    "        momentum=i[3]\n",
    "        nesterov=i[4]\n",
    "        activation=i[5]\n",
    "        regularizer=i[6]\n",
    "        units = i[7]\n",
    "        temp = Model(batch_size=batch_size, epochs=epochs, learning_rate=learning_rate,\n",
    "                     momentum=momentum, nesterov=nesterov, activation=activation, regularizer=regularizer, units=units)\n",
    "        model = None # Clearing the NN.\n",
    "        model = create_model(X_train, learning_rate=learning_rate, momentum=momentum, nesterov=nesterov, \n",
    "                                 activation=activation, regularizer=regularizer, units=units)\n",
    "        r = model.fit(X_train, Y_train,validation_split = float(1.0/cv),\n",
    "                      batch_size =batch_size, epochs=epochs, verbose=1)\n",
    "        loss = r.history['val_loss'][-1]\n",
    "        #accuracy = r.history['val_acc'][-1]\n",
    "        temp.loss = loss\n",
    "        #temp.accuracy = accuracy\n",
    "        models.append(temp) \n",
    "          \n",
    "    result = sorted(models, key=lambda x: x.loss, reverse=False)\n",
    "    return result, r, model"
   ]
  },
  {
   "cell_type": "code",
   "execution_count": 75,
   "id": "f7910cd7",
   "metadata": {
    "scrolled": true
   },
   "outputs": [
    {
     "name": "stdout",
     "output_type": "stream",
     "text": [
      "0 (128, 100, 0.261, 0.9, False, 'tanh', 0.0001, 10, 1)\n",
      "Epoch 1/100\n",
      "45/45 [==============================] - 1s 6ms/step - loss: 0.5466 - auc: 0.5036 - val_loss: 0.5366 - val_auc: 0.4994\n",
      "Epoch 2/100\n",
      "45/45 [==============================] - 0s 2ms/step - loss: 0.5373 - auc: 0.4937 - val_loss: 0.5394 - val_auc: 0.5000\n",
      "Epoch 3/100\n",
      "45/45 [==============================] - 0s 2ms/step - loss: 0.5329 - auc: 0.4998 - val_loss: 0.5391 - val_auc: 0.5031\n",
      "Epoch 4/100\n",
      "45/45 [==============================] - 0s 2ms/step - loss: 0.5348 - auc: 0.5052 - val_loss: 0.5369 - val_auc: 0.5000\n",
      "Epoch 5/100\n",
      "45/45 [==============================] - 0s 2ms/step - loss: 0.5325 - auc: 0.5008 - val_loss: 0.5463 - val_auc: 0.5008\n",
      "Epoch 6/100\n",
      "45/45 [==============================] - 0s 2ms/step - loss: 0.5389 - auc: 0.4953 - val_loss: 0.5413 - val_auc: 0.6248\n",
      "Epoch 7/100\n",
      "45/45 [==============================] - 0s 2ms/step - loss: 0.5320 - auc: 0.4990 - val_loss: 0.5378 - val_auc: 0.5000\n",
      "Epoch 8/100\n",
      "45/45 [==============================] - 0s 2ms/step - loss: 0.5316 - auc: 0.4997 - val_loss: 0.5389 - val_auc: 0.5000\n",
      "Epoch 9/100\n",
      "45/45 [==============================] - 0s 2ms/step - loss: 0.5322 - auc: 0.5093 - val_loss: 0.5357 - val_auc: 0.5000\n",
      "Epoch 10/100\n",
      "45/45 [==============================] - 0s 2ms/step - loss: 0.5311 - auc: 0.5247 - val_loss: 0.5375 - val_auc: 0.5000\n",
      "Epoch 11/100\n",
      "45/45 [==============================] - 0s 2ms/step - loss: 0.5320 - auc: 0.5038 - val_loss: 0.5373 - val_auc: 0.6248\n",
      "Epoch 12/100\n",
      "45/45 [==============================] - 0s 2ms/step - loss: 0.5325 - auc: 0.5021 - val_loss: 0.5354 - val_auc: 0.6714\n",
      "Epoch 13/100\n",
      "45/45 [==============================] - 0s 2ms/step - loss: 0.5315 - auc: 0.5081 - val_loss: 0.5350 - val_auc: 0.6260\n",
      "Epoch 14/100\n",
      "45/45 [==============================] - 0s 2ms/step - loss: 0.5306 - auc: 0.5245 - val_loss: 0.5347 - val_auc: 0.5905\n",
      "Epoch 15/100\n",
      "45/45 [==============================] - 0s 2ms/step - loss: 0.5299 - auc: 0.5346 - val_loss: 0.5374 - val_auc: 0.6455\n",
      "Epoch 16/100\n",
      "45/45 [==============================] - 0s 2ms/step - loss: 0.5324 - auc: 0.5161 - val_loss: 0.5361 - val_auc: 0.6683\n",
      "Epoch 17/100\n",
      "45/45 [==============================] - 0s 2ms/step - loss: 0.5332 - auc: 0.5106 - val_loss: 0.5345 - val_auc: 0.6281\n",
      "Epoch 18/100\n",
      "45/45 [==============================] - 0s 2ms/step - loss: 0.5310 - auc: 0.5492 - val_loss: 0.5449 - val_auc: 0.5702\n",
      "Epoch 19/100\n",
      "45/45 [==============================] - 0s 2ms/step - loss: 0.5300 - auc: 0.5327 - val_loss: 0.5346 - val_auc: 0.6841\n",
      "Epoch 20/100\n",
      "45/45 [==============================] - 0s 2ms/step - loss: 0.5292 - auc: 0.5489 - val_loss: 0.5377 - val_auc: 0.7533\n",
      "Epoch 21/100\n",
      "45/45 [==============================] - 0s 2ms/step - loss: 0.5302 - auc: 0.5322 - val_loss: 0.5349 - val_auc: 0.7695\n",
      "Epoch 22/100\n",
      "45/45 [==============================] - 0s 2ms/step - loss: 0.5279 - auc: 0.5623 - val_loss: 0.5312 - val_auc: 0.7774\n",
      "Epoch 23/100\n",
      "45/45 [==============================] - 0s 2ms/step - loss: 0.5265 - auc: 0.5941 - val_loss: 0.5299 - val_auc: 0.7931\n",
      "Epoch 24/100\n",
      "45/45 [==============================] - 0s 2ms/step - loss: 0.5286 - auc: 0.5514 - val_loss: 0.5396 - val_auc: 0.8045\n",
      "Epoch 25/100\n",
      "45/45 [==============================] - 0s 2ms/step - loss: 0.5266 - auc: 0.5674 - val_loss: 0.5337 - val_auc: 0.8045\n",
      "Epoch 26/100\n",
      "45/45 [==============================] - 0s 2ms/step - loss: 0.5262 - auc: 0.5760 - val_loss: 0.5287 - val_auc: 0.8055\n",
      "Epoch 27/100\n",
      "45/45 [==============================] - 0s 2ms/step - loss: 0.5220 - auc: 0.6054 - val_loss: 0.5229 - val_auc: 0.8090\n",
      "Epoch 28/100\n",
      "45/45 [==============================] - 0s 2ms/step - loss: 0.5312 - auc: 0.5665 - val_loss: 0.5269 - val_auc: 0.8091\n",
      "Epoch 29/100\n",
      "45/45 [==============================] - 0s 2ms/step - loss: 0.5184 - auc: 0.6324 - val_loss: 0.5373 - val_auc: 0.8130\n",
      "Epoch 30/100\n",
      "45/45 [==============================] - 0s 2ms/step - loss: 0.5248 - auc: 0.5956 - val_loss: 0.5305 - val_auc: 0.8091\n",
      "Epoch 31/100\n",
      "45/45 [==============================] - 0s 2ms/step - loss: 0.5204 - auc: 0.6102 - val_loss: 0.5162 - val_auc: 0.8146\n",
      "Epoch 32/100\n",
      "45/45 [==============================] - 0s 2ms/step - loss: 0.5111 - auc: 0.6647 - val_loss: 0.5242 - val_auc: 0.8114\n",
      "Epoch 33/100\n",
      "45/45 [==============================] - 0s 2ms/step - loss: 0.5138 - auc: 0.6340 - val_loss: 0.5082 - val_auc: 0.8149\n",
      "Epoch 34/100\n",
      "45/45 [==============================] - 0s 2ms/step - loss: 0.5080 - auc: 0.6571 - val_loss: 0.5044 - val_auc: 0.8144\n",
      "Epoch 35/100\n",
      "45/45 [==============================] - 0s 2ms/step - loss: 0.5124 - auc: 0.6453 - val_loss: 0.5032 - val_auc: 0.8149\n",
      "Epoch 36/100\n",
      "45/45 [==============================] - 0s 2ms/step - loss: 0.4956 - auc: 0.7128 - val_loss: 0.5672 - val_auc: 0.8159\n",
      "Epoch 37/100\n",
      "45/45 [==============================] - 0s 2ms/step - loss: 0.5228 - auc: 0.6176 - val_loss: 0.4970 - val_auc: 0.8162\n",
      "Epoch 38/100\n",
      "45/45 [==============================] - 0s 2ms/step - loss: 0.4937 - auc: 0.7070 - val_loss: 0.4930 - val_auc: 0.8174\n",
      "Epoch 39/100\n",
      "45/45 [==============================] - 0s 2ms/step - loss: 0.5184 - auc: 0.6451 - val_loss: 0.5239 - val_auc: 0.8181\n",
      "Epoch 40/100\n",
      "45/45 [==============================] - 0s 2ms/step - loss: 0.4969 - auc: 0.6915 - val_loss: 0.5758 - val_auc: 0.8173\n",
      "Epoch 41/100\n",
      "45/45 [==============================] - 0s 2ms/step - loss: 0.5110 - auc: 0.6616 - val_loss: 0.4890 - val_auc: 0.8192\n",
      "Epoch 42/100\n",
      "45/45 [==============================] - 0s 2ms/step - loss: 0.4765 - auc: 0.7693 - val_loss: 0.4910 - val_auc: 0.8204\n",
      "Epoch 43/100\n",
      "45/45 [==============================] - 0s 2ms/step - loss: 0.4901 - auc: 0.7129 - val_loss: 0.5765 - val_auc: 0.8205\n",
      "Epoch 44/100\n",
      "45/45 [==============================] - 0s 2ms/step - loss: 0.4865 - auc: 0.7187 - val_loss: 0.4870 - val_auc: 0.8224\n",
      "Epoch 45/100\n",
      "45/45 [==============================] - 0s 2ms/step - loss: 0.4837 - auc: 0.7246 - val_loss: 0.7193 - val_auc: 0.8218\n",
      "Epoch 46/100\n",
      "45/45 [==============================] - 0s 2ms/step - loss: 0.4870 - auc: 0.7216 - val_loss: 0.4825 - val_auc: 0.8241\n",
      "Epoch 47/100\n",
      "45/45 [==============================] - 0s 2ms/step - loss: 0.4797 - auc: 0.7366 - val_loss: 0.4666 - val_auc: 0.8252\n",
      "Epoch 48/100\n",
      "45/45 [==============================] - 0s 2ms/step - loss: 0.4512 - auc: 0.8028 - val_loss: 0.4557 - val_auc: 0.8266\n",
      "Epoch 49/100\n",
      "45/45 [==============================] - 0s 2ms/step - loss: 0.4729 - auc: 0.7509 - val_loss: 0.8356 - val_auc: 0.8274\n",
      "Epoch 50/100\n",
      "45/45 [==============================] - 0s 2ms/step - loss: 0.5664 - auc: 0.6433 - val_loss: 0.4854 - val_auc: 0.8281\n",
      "Epoch 51/100\n",
      "45/45 [==============================] - 0s 2ms/step - loss: 0.4883 - auc: 0.7277 - val_loss: 0.4793 - val_auc: 0.8280\n",
      "Epoch 52/100\n",
      "45/45 [==============================] - 0s 2ms/step - loss: 0.4697 - auc: 0.7681 - val_loss: 0.5374 - val_auc: 0.8288\n",
      "Epoch 53/100\n",
      "45/45 [==============================] - 0s 4ms/step - loss: 0.4763 - auc: 0.7486 - val_loss: 0.4539 - val_auc: 0.8292\n",
      "Epoch 54/100\n",
      "45/45 [==============================] - 0s 4ms/step - loss: 0.4973 - auc: 0.7186 - val_loss: 0.4933 - val_auc: 0.8301\n",
      "Epoch 55/100\n",
      "45/45 [==============================] - 0s 4ms/step - loss: 0.4712 - auc: 0.7611 - val_loss: 0.5552 - val_auc: 0.8306\n",
      "Epoch 56/100\n",
      "45/45 [==============================] - 0s 5ms/step - loss: 0.5039 - auc: 0.7137 - val_loss: 0.6837 - val_auc: 0.8301\n",
      "Epoch 57/100\n",
      "45/45 [==============================] - 0s 2ms/step - loss: 0.4794 - auc: 0.7498 - val_loss: 0.4689 - val_auc: 0.8318\n",
      "Epoch 58/100\n",
      "45/45 [==============================] - 0s 2ms/step - loss: 0.4791 - auc: 0.7479 - val_loss: 0.5800 - val_auc: 0.8319\n",
      "Epoch 59/100\n",
      "45/45 [==============================] - 0s 2ms/step - loss: 0.4797 - auc: 0.7488 - val_loss: 0.4581 - val_auc: 0.8325\n",
      "Epoch 60/100\n",
      "45/45 [==============================] - 0s 2ms/step - loss: 0.4608 - auc: 0.7836 - val_loss: 0.4504 - val_auc: 0.8329\n",
      "Epoch 61/100\n",
      "45/45 [==============================] - 0s 2ms/step - loss: 0.4808 - auc: 0.7497 - val_loss: 0.4499 - val_auc: 0.8330\n",
      "Epoch 62/100\n",
      "45/45 [==============================] - 0s 2ms/step - loss: 0.4613 - auc: 0.7826 - val_loss: 0.5549 - val_auc: 0.8337\n"
     ]
    },
    {
     "name": "stdout",
     "output_type": "stream",
     "text": [
      "Epoch 63/100\n",
      "45/45 [==============================] - 0s 2ms/step - loss: 0.4532 - auc: 0.7950 - val_loss: 0.4842 - val_auc: 0.8347\n",
      "Epoch 64/100\n",
      "45/45 [==============================] - 0s 2ms/step - loss: 0.4802 - auc: 0.7592 - val_loss: 0.8512 - val_auc: 0.8358\n",
      "Epoch 65/100\n",
      "45/45 [==============================] - 0s 2ms/step - loss: 0.5264 - auc: 0.7073 - val_loss: 0.4776 - val_auc: 0.8363\n",
      "Epoch 66/100\n",
      "45/45 [==============================] - 0s 2ms/step - loss: 0.4734 - auc: 0.7654 - val_loss: 0.5834 - val_auc: 0.8369\n",
      "Epoch 67/100\n",
      "45/45 [==============================] - 0s 2ms/step - loss: 0.4795 - auc: 0.7572 - val_loss: 0.4519 - val_auc: 0.8373\n",
      "Epoch 68/100\n",
      "45/45 [==============================] - 0s 2ms/step - loss: 0.4754 - auc: 0.7623 - val_loss: 0.4551 - val_auc: 0.8375\n",
      "Epoch 69/100\n",
      "45/45 [==============================] - 0s 2ms/step - loss: 0.4947 - auc: 0.7389 - val_loss: 0.4592 - val_auc: 0.8380\n",
      "Epoch 70/100\n",
      "45/45 [==============================] - 0s 2ms/step - loss: 0.4926 - auc: 0.7413 - val_loss: 0.4666 - val_auc: 0.8382\n",
      "Epoch 71/100\n",
      "45/45 [==============================] - 0s 2ms/step - loss: 0.4805 - auc: 0.7588 - val_loss: 0.6486 - val_auc: 0.8371\n",
      "Epoch 72/100\n",
      "45/45 [==============================] - 0s 2ms/step - loss: 0.4866 - auc: 0.7483 - val_loss: 0.5972 - val_auc: 0.8376\n",
      "Epoch 73/100\n",
      "45/45 [==============================] - 0s 2ms/step - loss: 0.4764 - auc: 0.7678 - val_loss: 0.4638 - val_auc: 0.8386\n",
      "Epoch 74/100\n",
      "45/45 [==============================] - 0s 2ms/step - loss: 0.4521 - auc: 0.8066 - val_loss: 0.5282 - val_auc: 0.8390\n",
      "Epoch 75/100\n",
      "45/45 [==============================] - 0s 2ms/step - loss: 0.4482 - auc: 0.8088 - val_loss: 0.4434 - val_auc: 0.8397\n",
      "Epoch 76/100\n",
      "45/45 [==============================] - 0s 2ms/step - loss: 0.5283 - auc: 0.7137 - val_loss: 0.4601 - val_auc: 0.8395\n",
      "Epoch 77/100\n",
      "45/45 [==============================] - 0s 2ms/step - loss: 0.4619 - auc: 0.7931 - val_loss: 0.6439 - val_auc: 0.8389\n",
      "Epoch 78/100\n",
      "45/45 [==============================] - 0s 2ms/step - loss: 0.4872 - auc: 0.7547 - val_loss: 0.6578 - val_auc: 0.8399\n",
      "Epoch 79/100\n",
      "45/45 [==============================] - 0s 2ms/step - loss: 0.4765 - auc: 0.7693 - val_loss: 0.4512 - val_auc: 0.8402\n",
      "Epoch 80/100\n",
      "45/45 [==============================] - 0s 2ms/step - loss: 0.4500 - auc: 0.8114 - val_loss: 0.6257 - val_auc: 0.8405\n",
      "Epoch 81/100\n",
      "45/45 [==============================] - 0s 2ms/step - loss: 0.4628 - auc: 0.7941 - val_loss: 0.6080 - val_auc: 0.8408\n",
      "Epoch 82/100\n",
      "45/45 [==============================] - 0s 2ms/step - loss: 0.5426 - auc: 0.7005 - val_loss: 0.5270 - val_auc: 0.8415\n",
      "Epoch 83/100\n",
      "45/45 [==============================] - 0s 2ms/step - loss: 0.4599 - auc: 0.8057 - val_loss: 0.4774 - val_auc: 0.8413\n",
      "Epoch 84/100\n",
      "45/45 [==============================] - 0s 2ms/step - loss: 0.4939 - auc: 0.7496 - val_loss: 0.4548 - val_auc: 0.8414\n",
      "Epoch 85/100\n",
      "45/45 [==============================] - 0s 2ms/step - loss: 0.4736 - auc: 0.7770 - val_loss: 0.4855 - val_auc: 0.8420\n",
      "Epoch 86/100\n",
      "45/45 [==============================] - 0s 2ms/step - loss: 0.4548 - auc: 0.8139 - val_loss: 0.6770 - val_auc: 0.8418\n",
      "Epoch 87/100\n",
      "45/45 [==============================] - 0s 2ms/step - loss: 0.4976 - auc: 0.7489 - val_loss: 0.4529 - val_auc: 0.8417\n",
      "Epoch 88/100\n",
      "45/45 [==============================] - 0s 2ms/step - loss: 0.4825 - auc: 0.7624 - val_loss: 0.9454 - val_auc: 0.8420\n",
      "Epoch 89/100\n",
      "45/45 [==============================] - 0s 2ms/step - loss: 0.5352 - auc: 0.7132 - val_loss: 0.5825 - val_auc: 0.8422\n",
      "Epoch 90/100\n",
      "45/45 [==============================] - 0s 2ms/step - loss: 0.4778 - auc: 0.7775 - val_loss: 0.5397 - val_auc: 0.8418\n",
      "Epoch 91/100\n",
      "45/45 [==============================] - 0s 2ms/step - loss: 0.4617 - auc: 0.7959 - val_loss: 0.5616 - val_auc: 0.8421\n",
      "Epoch 92/100\n",
      "45/45 [==============================] - 0s 2ms/step - loss: 0.4690 - auc: 0.7823 - val_loss: 0.4584 - val_auc: 0.8427\n",
      "Epoch 93/100\n",
      "45/45 [==============================] - 0s 2ms/step - loss: 0.4557 - auc: 0.8044 - val_loss: 0.8403 - val_auc: 0.8398\n",
      "Epoch 94/100\n",
      "45/45 [==============================] - 0s 2ms/step - loss: 0.5826 - auc: 0.6704 - val_loss: 0.4973 - val_auc: 0.8428\n",
      "Epoch 95/100\n",
      "45/45 [==============================] - 0s 2ms/step - loss: 0.4723 - auc: 0.8114 - val_loss: 0.5348 - val_auc: 0.8424\n",
      "Epoch 96/100\n",
      "45/45 [==============================] - 0s 2ms/step - loss: 0.4785 - auc: 0.7733 - val_loss: 0.5140 - val_auc: 0.8429\n",
      "Epoch 97/100\n",
      "45/45 [==============================] - 0s 2ms/step - loss: 0.5111 - auc: 0.7329 - val_loss: 0.5598 - val_auc: 0.8424\n",
      "Epoch 98/100\n",
      "45/45 [==============================] - 0s 2ms/step - loss: 0.4631 - auc: 0.8087 - val_loss: 0.4533 - val_auc: 0.8429\n",
      "Epoch 99/100\n",
      "45/45 [==============================] - 0s 2ms/step - loss: 0.4592 - auc: 0.8032 - val_loss: 0.4865 - val_auc: 0.8432\n",
      "Epoch 100/100\n",
      "45/45 [==============================] - 0s 2ms/step - loss: 0.4580 - auc: 0.8027 - val_loss: 0.4448 - val_auc: 0.8434\n"
     ]
    }
   ],
   "source": [
    "allModels_597, r_597, model_597 = GridSearchNN(xtrain_597, ytrain_597, param_list, cv=3, rand=False)"
   ]
  },
  {
   "cell_type": "code",
   "execution_count": 76,
   "id": "84ecc5ff",
   "metadata": {},
   "outputs": [
    {
     "ename": "AttributeError",
     "evalue": "'Sequential' object has no attribute 'predict_classes'",
     "output_type": "error",
     "traceback": [
      "\u001b[1;31m---------------------------------------------------------------------------\u001b[0m",
      "\u001b[1;31mAttributeError\u001b[0m                            Traceback (most recent call last)",
      "\u001b[1;32m<ipython-input-76-c3d12cfdea5c>\u001b[0m in \u001b[0;36m<module>\u001b[1;34m\u001b[0m\n\u001b[1;32m----> 1\u001b[1;33m \u001b[0mpred_597\u001b[0m \u001b[1;33m=\u001b[0m \u001b[0mmodel_597\u001b[0m\u001b[1;33m.\u001b[0m\u001b[0mpredict_classes\u001b[0m\u001b[1;33m(\u001b[0m\u001b[0mxtest_597\u001b[0m\u001b[1;33m)\u001b[0m\u001b[1;33m\u001b[0m\u001b[1;33m\u001b[0m\u001b[0m\n\u001b[0m",
      "\u001b[1;31mAttributeError\u001b[0m: 'Sequential' object has no attribute 'predict_classes'"
     ]
    }
   ],
   "source": [
    "pred_597 = model_597.predict_classes(xtest_597)"
   ]
  },
  {
   "cell_type": "code",
   "execution_count": 77,
   "id": "13c2b7ed",
   "metadata": {},
   "outputs": [],
   "source": [
    "y_pred_keras_597 = model_597.predict(xtest_597).ravel()\n",
    "fpr_keras, tpr_keras, thresholds_keras = roc_curve(ytest_597, y_pred_keras_597)\n",
    "auc_keras_597 = auc(fpr_keras, tpr_keras)"
   ]
  },
  {
   "cell_type": "code",
   "execution_count": 78,
   "id": "d2f40549",
   "metadata": {},
   "outputs": [
    {
     "data": {
      "image/png": "[encoded data removed]",
      "text/plain": [
       "<Figure size 432x288 with 1 Axes>"
      ]
     },
     "metadata": {
      "needs_background": "light"
     },
     "output_type": "display_data"
    }
   ],
   "source": [
    "plt.figure(1)\n",
    "plt.plot([0, 1], [0, 1], 'k--')\n",
    "plt.plot(fpr_keras, tpr_keras, label='Keras 597 (area = {:.3f})'.format(auc_keras_597))\n",
    "\n",
    "plt.xlabel('False positive rate')\n",
    "plt.ylabel('True positive rate')\n",
    "plt.title('ROC curve')\n",
    "plt.legend(loc='best')\n",
    "plt.show()"
   ]
  },
  {
   "cell_type": "markdown",
   "id": "43603030",
   "metadata": {},
   "source": [
    "# 4 - NN_Bilanciato"
   ]
  },
  {
   "cell_type": "code",
   "execution_count": 79,
   "id": "b490fbce",
   "metadata": {},
   "outputs": [
    {
     "name": "stdout",
     "output_type": "stream",
     "text": [
      "Epoch 1/30\n",
      "379/379 [==============================] - 1s 2ms/step - loss: 0.6930 - auc: 0.5169 - val_loss: 0.6930 - val_auc: 0.5161\n",
      "Epoch 2/30\n",
      "379/379 [==============================] - 1s 2ms/step - loss: 0.6929 - auc: 0.5266 - val_loss: 0.6929 - val_auc: 0.5102\n",
      "Epoch 3/30\n",
      "379/379 [==============================] - 1s 2ms/step - loss: 0.6928 - auc: 0.5209 - val_loss: 0.6929 - val_auc: 0.5122\n",
      "Epoch 4/30\n",
      "379/379 [==============================] - 1s 2ms/step - loss: 0.6928 - auc: 0.5241 - val_loss: 0.6929 - val_auc: 0.5144\n",
      "Epoch 5/30\n",
      "379/379 [==============================] - 1s 2ms/step - loss: 0.6928 - auc: 0.5283 - val_loss: 0.6929 - val_auc: 0.5140\n",
      "Epoch 6/30\n",
      "379/379 [==============================] - 1s 2ms/step - loss: 0.6927 - auc: 0.5365 - val_loss: 0.6929 - val_auc: 0.5151\n",
      "Epoch 7/30\n",
      "379/379 [==============================] - 1s 2ms/step - loss: 0.6927 - auc: 0.5510 - val_loss: 0.6928 - val_auc: 0.5251\n",
      "Epoch 8/30\n",
      "379/379 [==============================] - 1s 2ms/step - loss: 0.6927 - auc: 0.5427 - val_loss: 0.6928 - val_auc: 0.5244\n",
      "Epoch 9/30\n",
      "379/379 [==============================] - 1s 2ms/step - loss: 0.6926 - auc: 0.5456 - val_loss: 0.6928 - val_auc: 0.5283\n",
      "Epoch 10/30\n",
      "379/379 [==============================] - 1s 2ms/step - loss: 0.6926 - auc: 0.5523 - val_loss: 0.6927 - val_auc: 0.5326\n",
      "Epoch 11/30\n",
      "379/379 [==============================] - 1s 2ms/step - loss: 0.6926 - auc: 0.5525 - val_loss: 0.6927 - val_auc: 0.5404\n",
      "Epoch 12/30\n",
      "379/379 [==============================] - 1s 2ms/step - loss: 0.6925 - auc: 0.5574 - val_loss: 0.6927 - val_auc: 0.5315\n",
      "Epoch 13/30\n",
      "379/379 [==============================] - 1s 2ms/step - loss: 0.6925 - auc: 0.5579 - val_loss: 0.6927 - val_auc: 0.5358\n",
      "Epoch 14/30\n",
      "379/379 [==============================] - 1s 2ms/step - loss: 0.6924 - auc: 0.5658 - val_loss: 0.6926 - val_auc: 0.5466\n",
      "Epoch 15/30\n",
      "379/379 [==============================] - 1s 2ms/step - loss: 0.6924 - auc: 0.5600 - val_loss: 0.6926 - val_auc: 0.5468\n",
      "Epoch 16/30\n",
      "379/379 [==============================] - 1s 2ms/step - loss: 0.6923 - auc: 0.5684 - val_loss: 0.6926 - val_auc: 0.5530\n",
      "Epoch 17/30\n",
      "379/379 [==============================] - 1s 2ms/step - loss: 0.6923 - auc: 0.5701 - val_loss: 0.6925 - val_auc: 0.5640\n",
      "Epoch 18/30\n",
      "379/379 [==============================] - 1s 2ms/step - loss: 0.6923 - auc: 0.5739 - val_loss: 0.6925 - val_auc: 0.5633\n",
      "Epoch 19/30\n",
      "379/379 [==============================] - 1s 2ms/step - loss: 0.6922 - auc: 0.5760 - val_loss: 0.6924 - val_auc: 0.5675\n",
      "Epoch 20/30\n",
      "379/379 [==============================] - 1s 2ms/step - loss: 0.6921 - auc: 0.5845 - val_loss: 0.6924 - val_auc: 0.5662\n",
      "Epoch 21/30\n",
      "379/379 [==============================] - 1s 2ms/step - loss: 0.6921 - auc: 0.5898 - val_loss: 0.6923 - val_auc: 0.5741\n",
      "Epoch 22/30\n",
      "379/379 [==============================] - 1s 2ms/step - loss: 0.6920 - auc: 0.5877 - val_loss: 0.6923 - val_auc: 0.5728\n",
      "Epoch 23/30\n",
      "379/379 [==============================] - 1s 2ms/step - loss: 0.6920 - auc: 0.5899 - val_loss: 0.6922 - val_auc: 0.5786\n",
      "Epoch 24/30\n",
      "379/379 [==============================] - 1s 2ms/step - loss: 0.6919 - auc: 0.5955 - val_loss: 0.6922 - val_auc: 0.5783\n",
      "Epoch 25/30\n",
      "379/379 [==============================] - 1s 2ms/step - loss: 0.6918 - auc: 0.5976 - val_loss: 0.6921 - val_auc: 0.5808\n",
      "Epoch 26/30\n",
      "379/379 [==============================] - 1s 2ms/step - loss: 0.6917 - auc: 0.6044 - val_loss: 0.6920 - val_auc: 0.5793\n",
      "Epoch 27/30\n",
      "379/379 [==============================] - 1s 2ms/step - loss: 0.6916 - auc: 0.6038 - val_loss: 0.6920 - val_auc: 0.5782\n",
      "Epoch 28/30\n",
      "379/379 [==============================] - 1s 2ms/step - loss: 0.6916 - auc: 0.6048 - val_loss: 0.6919 - val_auc: 0.5834\n",
      "Epoch 29/30\n",
      "379/379 [==============================] - 1s 2ms/step - loss: 0.6914 - auc: 0.6100 - val_loss: 0.6918 - val_auc: 0.5819\n",
      "Epoch 30/30\n",
      "379/379 [==============================] - 1s 2ms/step - loss: 0.6913 - auc: 0.6138 - val_loss: 0.6917 - val_auc: 0.5873\n",
      "Epoch 1/30\n",
      "76/76 [==============================] - 1s 4ms/step - loss: 0.6995 - auc: 0.5000 - val_loss: 0.6946 - val_auc: 0.5000\n",
      "Epoch 2/30\n",
      "76/76 [==============================] - 0s 2ms/step - loss: 0.6948 - auc: 0.4993 - val_loss: 0.6934 - val_auc: 0.5000\n",
      "Epoch 3/30\n",
      "76/76 [==============================] - 0s 2ms/step - loss: 0.6942 - auc: 0.4865 - val_loss: 0.6932 - val_auc: 0.5000\n",
      "Epoch 4/30\n",
      "76/76 [==============================] - 0s 2ms/step - loss: 0.6940 - auc: 0.4907 - val_loss: 0.6935 - val_auc: 0.5000\n",
      "Epoch 5/30\n",
      "76/76 [==============================] - 0s 2ms/step - loss: 0.6941 - auc: 0.4950 - val_loss: 0.6934 - val_auc: 0.5000\n",
      "Epoch 6/30\n",
      "76/76 [==============================] - 0s 2ms/step - loss: 0.6939 - auc: 0.5028 - val_loss: 0.6952 - val_auc: 0.5000\n",
      "Epoch 7/30\n",
      "76/76 [==============================] - 0s 2ms/step - loss: 0.6937 - auc: 0.4966 - val_loss: 0.6934 - val_auc: 0.5000\n",
      "Epoch 8/30\n",
      "76/76 [==============================] - 0s 2ms/step - loss: 0.6945 - auc: 0.4893 - val_loss: 0.6942 - val_auc: 0.5000\n",
      "Epoch 9/30\n",
      "76/76 [==============================] - 0s 2ms/step - loss: 0.6948 - auc: 0.4932 - val_loss: 0.6935 - val_auc: 0.5000\n",
      "Epoch 10/30\n",
      "76/76 [==============================] - 0s 2ms/step - loss: 0.6949 - auc: 0.4830 - val_loss: 0.6937 - val_auc: 0.5000\n",
      "Epoch 11/30\n",
      "76/76 [==============================] - 0s 2ms/step - loss: 0.6943 - auc: 0.4733 - val_loss: 0.6932 - val_auc: 0.5000\n",
      "Epoch 12/30\n",
      "76/76 [==============================] - 0s 2ms/step - loss: 0.6945 - auc: 0.4909 - val_loss: 0.6943 - val_auc: 0.5000\n",
      "Epoch 13/30\n",
      "76/76 [==============================] - 0s 2ms/step - loss: 0.6944 - auc: 0.4872 - val_loss: 0.6933 - val_auc: 0.5000\n",
      "Epoch 14/30\n",
      "76/76 [==============================] - 0s 2ms/step - loss: 0.6944 - auc: 0.4960 - val_loss: 0.6935 - val_auc: 0.5000\n",
      "Epoch 15/30\n",
      "76/76 [==============================] - 0s 2ms/step - loss: 0.6941 - auc: 0.4978 - val_loss: 0.6932 - val_auc: 0.5000\n",
      "Epoch 16/30\n",
      "76/76 [==============================] - 0s 2ms/step - loss: 0.6947 - auc: 0.4967 - val_loss: 0.6940 - val_auc: 0.5000\n",
      "Epoch 17/30\n",
      "76/76 [==============================] - 0s 2ms/step - loss: 0.6953 - auc: 0.4864 - val_loss: 0.6945 - val_auc: 0.5000\n",
      "Epoch 18/30\n",
      "76/76 [==============================] - 0s 2ms/step - loss: 0.6943 - auc: 0.4953 - val_loss: 0.6931 - val_auc: 0.5000\n",
      "Epoch 19/30\n",
      "76/76 [==============================] - 0s 2ms/step - loss: 0.6938 - auc: 0.4832 - val_loss: 0.6932 - val_auc: 0.5000\n",
      "Epoch 20/30\n",
      "76/76 [==============================] - 0s 2ms/step - loss: 0.6942 - auc: 0.4902 - val_loss: 0.6959 - val_auc: 0.5000\n",
      "Epoch 21/30\n",
      "76/76 [==============================] - 0s 2ms/step - loss: 0.6944 - auc: 0.5006 - val_loss: 0.6970 - val_auc: 0.5000\n",
      "Epoch 22/30\n",
      "76/76 [==============================] - 0s 2ms/step - loss: 0.6943 - auc: 0.5029 - val_loss: 0.6981 - val_auc: 0.5000\n",
      "Epoch 23/30\n",
      "76/76 [==============================] - 0s 2ms/step - loss: 0.6943 - auc: 0.4979 - val_loss: 0.6931 - val_auc: 0.5000\n",
      "Epoch 24/30\n",
      "76/76 [==============================] - 0s 2ms/step - loss: 0.6940 - auc: 0.4992 - val_loss: 0.6944 - val_auc: 0.5000\n",
      "Epoch 25/30\n",
      "76/76 [==============================] - 0s 2ms/step - loss: 0.6943 - auc: 0.5017 - val_loss: 0.6939 - val_auc: 0.5000\n",
      "Epoch 26/30\n",
      "76/76 [==============================] - 0s 2ms/step - loss: 0.6940 - auc: 0.4965 - val_loss: 0.6940 - val_auc: 0.5000\n",
      "Epoch 27/30\n",
      "76/76 [==============================] - 0s 2ms/step - loss: 0.6942 - auc: 0.4860 - val_loss: 0.6931 - val_auc: 0.5000\n",
      "Epoch 28/30\n",
      "76/76 [==============================] - 0s 2ms/step - loss: 0.6935 - auc: 0.5120 - val_loss: 0.6939 - val_auc: 0.5000\n",
      "Epoch 29/30\n",
      "76/76 [==============================] - 0s 2ms/step - loss: 0.6941 - auc: 0.4918 - val_loss: 0.6936 - val_auc: 0.5000\n",
      "Epoch 30/30\n",
      "76/76 [==============================] - 0s 2ms/step - loss: 0.6941 - auc: 0.4957 - val_loss: 0.6986 - val_auc: 0.5000\n"
     ]
    }
   ],
   "source": [
    "model1_sb_597 = build_model_1(xtrain_sb_597)\n",
    "history1_sb_597 = model1_sb_597.fit(xtrain_sb_597, ytrain_sb_597, validation_data=(xtest_sb_597, ytest_sb_597), epochs=30, batch_size=10).history\n",
    "\n",
    "model2_sb_597 = build_model_2(xtrain_sb_597)\n",
    "history2_sb_597 = model2_sb_597.fit(xtrain_sb_597, ytrain_sb_597, validation_data=(xtest_sb_597, ytest_sb_597), epochs=30, batch_size=50).history"
   ]
  },
  {
   "cell_type": "code",
   "execution_count": 80,
   "id": "fb3fbd48",
   "metadata": {},
   "outputs": [
    {
     "name": "stdout",
     "output_type": "stream",
     "text": [
      "51/51 [==============================] - 0s 1ms/step - loss: 0.6917 - auc: 0.5873\n",
      "51/51 [==============================] - 0s 1ms/step - loss: 0.6986 - auc: 0.5000\n",
      "Loss 0.691693, AUC 0.587325\n",
      "Loss 0.698636, AUC 0.500000\n"
     ]
    }
   ],
   "source": [
    "test_loss_1_sb_597, test_auc_1_sb_597 = model1_sb_597.evaluate(xtest_sb_597, ytest_sb_597)\n",
    "test_loss_2_sb_597, test_auc_2_sb_597 = model2_sb_597.evaluate(xtest_sb_597, ytest_sb_597)\n",
    "\n",
    "print('Loss %f, AUC %f' % (test_loss_1_sb_597, test_auc_1_sb_597))\n",
    "print('Loss %f, AUC %f' % (test_loss_2_sb_597, test_auc_2_sb_597))"
   ]
  },
  {
   "cell_type": "code",
   "execution_count": 81,
   "id": "bb88871c",
   "metadata": {},
   "outputs": [
    {
     "name": "stdout",
     "output_type": "stream",
     "text": [
      "0 (128, 100, 0.261, 0.9, False, 'tanh', 0.0001, 10, 1)\n",
      "Epoch 1/100\n",
      "20/20 [==============================] - 1s 12ms/step - loss: 0.6960 - auc: 0.5030 - val_loss: 0.6949 - val_auc: 0.5257\n",
      "Epoch 2/100\n",
      "20/20 [==============================] - 0s 3ms/step - loss: 0.6979 - auc: 0.4931 - val_loss: 0.6976 - val_auc: 0.5646\n",
      "Epoch 3/100\n",
      "20/20 [==============================] - 0s 3ms/step - loss: 0.6963 - auc: 0.5150 - val_loss: 0.7012 - val_auc: 0.6174\n",
      "Epoch 4/100\n",
      "20/20 [==============================] - 0s 2ms/step - loss: 0.6968 - auc: 0.5157 - val_loss: 0.6935 - val_auc: 0.6126\n",
      "Epoch 5/100\n",
      "20/20 [==============================] - 0s 3ms/step - loss: 0.6944 - auc: 0.5260 - val_loss: 0.6936 - val_auc: 0.6707\n",
      "Epoch 6/100\n",
      "20/20 [==============================] - 0s 3ms/step - loss: 0.6946 - auc: 0.5212 - val_loss: 0.6946 - val_auc: 0.6950\n",
      "Epoch 7/100\n",
      "20/20 [==============================] - 0s 3ms/step - loss: 0.6934 - auc: 0.5348 - val_loss: 0.6942 - val_auc: 0.6911\n",
      "Epoch 8/100\n",
      "20/20 [==============================] - 0s 3ms/step - loss: 0.6953 - auc: 0.5242 - val_loss: 0.6924 - val_auc: 0.7218\n",
      "Epoch 9/100\n",
      "20/20 [==============================] - 0s 3ms/step - loss: 0.6972 - auc: 0.5356 - val_loss: 0.6944 - val_auc: 0.7182\n",
      "Epoch 10/100\n",
      "20/20 [==============================] - 0s 3ms/step - loss: 0.7021 - auc: 0.5091 - val_loss: 0.6985 - val_auc: 0.7123\n",
      "Epoch 11/100\n",
      "20/20 [==============================] - 0s 3ms/step - loss: 0.6955 - auc: 0.5491 - val_loss: 0.6927 - val_auc: 0.7139\n",
      "Epoch 12/100\n",
      "20/20 [==============================] - 0s 3ms/step - loss: 0.6938 - auc: 0.5403 - val_loss: 0.6943 - val_auc: 0.7352\n",
      "Epoch 13/100\n",
      "20/20 [==============================] - 0s 3ms/step - loss: 0.6934 - auc: 0.5408 - val_loss: 0.6929 - val_auc: 0.7483\n",
      "Epoch 14/100\n",
      "20/20 [==============================] - 0s 3ms/step - loss: 0.6913 - auc: 0.5780 - val_loss: 0.6910 - val_auc: 0.7581\n",
      "Epoch 15/100\n",
      "20/20 [==============================] - 0s 3ms/step - loss: 0.6921 - auc: 0.5480 - val_loss: 0.6949 - val_auc: 0.7631\n",
      "Epoch 16/100\n",
      "20/20 [==============================] - 0s 3ms/step - loss: 0.6921 - auc: 0.5568 - val_loss: 0.6890 - val_auc: 0.7713\n",
      "Epoch 17/100\n",
      "20/20 [==============================] - 0s 3ms/step - loss: 0.6899 - auc: 0.5873 - val_loss: 0.6883 - val_auc: 0.7796\n",
      "Epoch 18/100\n",
      "20/20 [==============================] - 0s 3ms/step - loss: 0.6955 - auc: 0.5394 - val_loss: 0.6915 - val_auc: 0.7820\n",
      "Epoch 19/100\n",
      "20/20 [==============================] - 0s 3ms/step - loss: 0.6865 - auc: 0.6078 - val_loss: 0.6864 - val_auc: 0.7885\n",
      "Epoch 20/100\n",
      "20/20 [==============================] - 0s 3ms/step - loss: 0.6865 - auc: 0.6029 - val_loss: 0.6868 - val_auc: 0.7926\n",
      "Epoch 21/100\n",
      "20/20 [==============================] - 0s 3ms/step - loss: 0.6852 - auc: 0.5925 - val_loss: 0.6822 - val_auc: 0.7963\n",
      "Epoch 22/100\n",
      "20/20 [==============================] - 0s 2ms/step - loss: 0.6813 - auc: 0.6393 - val_loss: 0.6816 - val_auc: 0.7987\n",
      "Epoch 23/100\n",
      "20/20 [==============================] - 0s 3ms/step - loss: 0.6807 - auc: 0.6259 - val_loss: 0.6759 - val_auc: 0.7998\n",
      "Epoch 24/100\n",
      "20/20 [==============================] - 0s 2ms/step - loss: 0.6877 - auc: 0.5820 - val_loss: 0.6958 - val_auc: 0.8019\n",
      "Epoch 25/100\n",
      "20/20 [==============================] - 0s 3ms/step - loss: 0.6879 - auc: 0.5782 - val_loss: 0.6806 - val_auc: 0.8034\n",
      "Epoch 26/100\n",
      "20/20 [==============================] - 0s 3ms/step - loss: 0.6746 - auc: 0.6615 - val_loss: 0.6834 - val_auc: 0.8071\n",
      "Epoch 27/100\n",
      "20/20 [==============================] - 0s 3ms/step - loss: 0.6830 - auc: 0.6001 - val_loss: 0.6762 - val_auc: 0.8059\n",
      "Epoch 28/100\n",
      "20/20 [==============================] - 0s 3ms/step - loss: 0.6846 - auc: 0.5981 - val_loss: 0.6696 - val_auc: 0.8081\n",
      "Epoch 29/100\n",
      "20/20 [==============================] - 0s 3ms/step - loss: 0.6784 - auc: 0.6190 - val_loss: 0.6653 - val_auc: 0.8090\n",
      "Epoch 30/100\n",
      "20/20 [==============================] - 0s 3ms/step - loss: 0.6700 - auc: 0.6500 - val_loss: 0.6953 - val_auc: 0.8094\n",
      "Epoch 31/100\n",
      "20/20 [==============================] - 0s 3ms/step - loss: 0.6767 - auc: 0.6256 - val_loss: 0.7267 - val_auc: 0.8092\n",
      "Epoch 32/100\n",
      "20/20 [==============================] - 0s 3ms/step - loss: 0.6917 - auc: 0.5939 - val_loss: 0.6641 - val_auc: 0.8109\n",
      "Epoch 33/100\n",
      "20/20 [==============================] - 0s 3ms/step - loss: 0.6654 - auc: 0.6590 - val_loss: 0.6581 - val_auc: 0.8112\n",
      "Epoch 34/100\n",
      "20/20 [==============================] - 0s 3ms/step - loss: 0.6580 - auc: 0.7049 - val_loss: 0.6537 - val_auc: 0.8121\n",
      "Epoch 35/100\n",
      "20/20 [==============================] - 0s 3ms/step - loss: 0.6466 - auc: 0.7602 - val_loss: 0.6450 - val_auc: 0.8125\n",
      "Epoch 36/100\n",
      "20/20 [==============================] - 0s 3ms/step - loss: 0.6485 - auc: 0.7033 - val_loss: 0.6911 - val_auc: 0.8138\n",
      "Epoch 37/100\n",
      "20/20 [==============================] - 0s 3ms/step - loss: 0.7182 - auc: 0.5969 - val_loss: 0.6907 - val_auc: 0.8141\n",
      "Epoch 38/100\n",
      "20/20 [==============================] - 0s 3ms/step - loss: 0.6940 - auc: 0.6236 - val_loss: 0.7106 - val_auc: 0.8149\n",
      "Epoch 39/100\n",
      "20/20 [==============================] - 0s 3ms/step - loss: 0.7202 - auc: 0.5643 - val_loss: 0.7623 - val_auc: 0.8137\n",
      "Epoch 40/100\n",
      "20/20 [==============================] - 0s 3ms/step - loss: 0.6946 - auc: 0.5746 - val_loss: 0.6868 - val_auc: 0.8134\n",
      "Epoch 41/100\n",
      "20/20 [==============================] - 0s 4ms/step - loss: 0.6778 - auc: 0.6378 - val_loss: 0.6688 - val_auc: 0.8142\n",
      "Epoch 42/100\n",
      "20/20 [==============================] - 0s 3ms/step - loss: 0.6643 - auc: 0.7179 - val_loss: 0.6588 - val_auc: 0.8156\n",
      "Epoch 43/100\n",
      "20/20 [==============================] - 0s 3ms/step - loss: 0.6535 - auc: 0.7212 - val_loss: 0.6432 - val_auc: 0.8159\n",
      "Epoch 44/100\n",
      "20/20 [==============================] - 0s 3ms/step - loss: 0.6409 - auc: 0.7490 - val_loss: 0.6340 - val_auc: 0.8164\n",
      "Epoch 45/100\n",
      "20/20 [==============================] - 0s 3ms/step - loss: 0.6383 - auc: 0.7223 - val_loss: 0.6240 - val_auc: 0.8169\n",
      "Epoch 46/100\n",
      "20/20 [==============================] - 0s 3ms/step - loss: 0.6559 - auc: 0.6816 - val_loss: 0.6192 - val_auc: 0.8176\n",
      "Epoch 47/100\n",
      "20/20 [==============================] - 0s 3ms/step - loss: 0.6201 - auc: 0.7589 - val_loss: 0.7275 - val_auc: 0.8185\n",
      "Epoch 48/100\n",
      "20/20 [==============================] - 0s 3ms/step - loss: 0.6450 - auc: 0.6948 - val_loss: 0.6256 - val_auc: 0.8191\n",
      "Epoch 49/100\n",
      "20/20 [==============================] - 0s 3ms/step - loss: 0.6608 - auc: 0.6702 - val_loss: 0.6100 - val_auc: 0.8196\n",
      "Epoch 50/100\n",
      "20/20 [==============================] - 0s 3ms/step - loss: 0.6199 - auc: 0.7535 - val_loss: 0.6026 - val_auc: 0.8204\n",
      "Epoch 51/100\n",
      "20/20 [==============================] - 0s 3ms/step - loss: 0.6279 - auc: 0.7214 - val_loss: 0.6051 - val_auc: 0.8212\n",
      "Epoch 52/100\n",
      "20/20 [==============================] - 0s 3ms/step - loss: 0.6179 - auc: 0.7378 - val_loss: 0.5957 - val_auc: 0.8222\n",
      "Epoch 53/100\n",
      "20/20 [==============================] - 0s 3ms/step - loss: 0.5963 - auc: 0.7898 - val_loss: 0.6556 - val_auc: 0.8234\n",
      "Epoch 54/100\n",
      "20/20 [==============================] - 0s 2ms/step - loss: 0.7251 - auc: 0.6475 - val_loss: 0.7082 - val_auc: 0.8240\n",
      "Epoch 55/100\n",
      "20/20 [==============================] - 0s 2ms/step - loss: 0.6463 - auc: 0.7012 - val_loss: 0.6173 - val_auc: 0.8243\n",
      "Epoch 56/100\n",
      "20/20 [==============================] - 0s 2ms/step - loss: 0.6669 - auc: 0.6779 - val_loss: 0.7897 - val_auc: 0.8246\n",
      "Epoch 57/100\n",
      "20/20 [==============================] - 0s 2ms/step - loss: 0.6785 - auc: 0.6596 - val_loss: 0.6437 - val_auc: 0.8249\n",
      "Epoch 58/100\n",
      "20/20 [==============================] - 0s 2ms/step - loss: 0.6138 - auc: 0.7941 - val_loss: 0.6108 - val_auc: 0.8253\n",
      "Epoch 59/100\n",
      "20/20 [==============================] - 0s 2ms/step - loss: 0.6069 - auc: 0.7848 - val_loss: 0.5966 - val_auc: 0.8258\n",
      "Epoch 60/100\n",
      "20/20 [==============================] - 0s 2ms/step - loss: 0.6042 - auc: 0.7740 - val_loss: 0.7054 - val_auc: 0.8263\n",
      "Epoch 61/100\n",
      "20/20 [==============================] - 0s 2ms/step - loss: 0.6236 - auc: 0.7319 - val_loss: 0.6574 - val_auc: 0.8273\n",
      "Epoch 62/100\n",
      "20/20 [==============================] - 0s 2ms/step - loss: 0.6109 - auc: 0.7532 - val_loss: 0.6794 - val_auc: 0.8282\n"
     ]
    },
    {
     "name": "stdout",
     "output_type": "stream",
     "text": [
      "Epoch 63/100\n",
      "20/20 [==============================] - 0s 2ms/step - loss: 0.6765 - auc: 0.6801 - val_loss: 0.6180 - val_auc: 0.8281\n",
      "Epoch 64/100\n",
      "20/20 [==============================] - 0s 2ms/step - loss: 0.5870 - auc: 0.8099 - val_loss: 0.5843 - val_auc: 0.8290\n",
      "Epoch 65/100\n",
      "20/20 [==============================] - 0s 2ms/step - loss: 0.5939 - auc: 0.7766 - val_loss: 0.5899 - val_auc: 0.8297\n",
      "Epoch 66/100\n",
      "20/20 [==============================] - 0s 2ms/step - loss: 0.6165 - auc: 0.7520 - val_loss: 0.9998 - val_auc: 0.8302\n",
      "Epoch 67/100\n",
      "20/20 [==============================] - 0s 2ms/step - loss: 0.7858 - auc: 0.6456 - val_loss: 0.6014 - val_auc: 0.8307\n",
      "Epoch 68/100\n",
      "20/20 [==============================] - 0s 2ms/step - loss: 0.6804 - auc: 0.6627 - val_loss: 0.6607 - val_auc: 0.8304\n",
      "Epoch 69/100\n",
      "20/20 [==============================] - 0s 2ms/step - loss: 0.6360 - auc: 0.7495 - val_loss: 0.6150 - val_auc: 0.8306\n",
      "Epoch 70/100\n",
      "20/20 [==============================] - 0s 2ms/step - loss: 0.6238 - auc: 0.7563 - val_loss: 0.7626 - val_auc: 0.8307\n",
      "Epoch 71/100\n",
      "20/20 [==============================] - 0s 3ms/step - loss: 0.6150 - auc: 0.7655 - val_loss: 0.6616 - val_auc: 0.8313\n",
      "Epoch 72/100\n",
      "20/20 [==============================] - 0s 2ms/step - loss: 0.6368 - auc: 0.7207 - val_loss: 0.6034 - val_auc: 0.8313\n",
      "Epoch 73/100\n",
      "20/20 [==============================] - 0s 2ms/step - loss: 0.6069 - auc: 0.7723 - val_loss: 0.5881 - val_auc: 0.8318\n",
      "Epoch 74/100\n",
      "20/20 [==============================] - 0s 2ms/step - loss: 0.5809 - auc: 0.8109 - val_loss: 0.7178 - val_auc: 0.8319\n",
      "Epoch 75/100\n",
      "20/20 [==============================] - 0s 2ms/step - loss: 0.6259 - auc: 0.7407 - val_loss: 0.6353 - val_auc: 0.8327\n",
      "Epoch 76/100\n",
      "20/20 [==============================] - 0s 3ms/step - loss: 0.6510 - auc: 0.7193 - val_loss: 0.8350 - val_auc: 0.8329\n",
      "Epoch 77/100\n",
      "20/20 [==============================] - 0s 2ms/step - loss: 0.6540 - auc: 0.7108 - val_loss: 0.5898 - val_auc: 0.8335\n",
      "Epoch 78/100\n",
      "20/20 [==============================] - 0s 2ms/step - loss: 0.6228 - auc: 0.7442 - val_loss: 0.6145 - val_auc: 0.8340\n",
      "Epoch 79/100\n",
      "20/20 [==============================] - 0s 2ms/step - loss: 0.6176 - auc: 0.7515 - val_loss: 0.5905 - val_auc: 0.8340\n",
      "Epoch 80/100\n",
      "20/20 [==============================] - 0s 2ms/step - loss: 0.6470 - auc: 0.7191 - val_loss: 0.5995 - val_auc: 0.8346\n",
      "Epoch 81/100\n",
      "20/20 [==============================] - 0s 3ms/step - loss: 0.5983 - auc: 0.7867 - val_loss: 0.5822 - val_auc: 0.8349\n",
      "Epoch 82/100\n",
      "20/20 [==============================] - 0s 2ms/step - loss: 0.5761 - auc: 0.8227 - val_loss: 0.5751 - val_auc: 0.8354\n",
      "Epoch 83/100\n",
      "20/20 [==============================] - 0s 2ms/step - loss: 0.6819 - auc: 0.6999 - val_loss: 0.7250 - val_auc: 0.8359\n",
      "Epoch 84/100\n",
      "20/20 [==============================] - 0s 3ms/step - loss: 0.6164 - auc: 0.7559 - val_loss: 0.5847 - val_auc: 0.8358\n",
      "Epoch 85/100\n",
      "20/20 [==============================] - 0s 3ms/step - loss: 0.5940 - auc: 0.7888 - val_loss: 0.6199 - val_auc: 0.8361\n",
      "Epoch 86/100\n",
      "20/20 [==============================] - 0s 3ms/step - loss: 0.6178 - auc: 0.7538 - val_loss: 0.5768 - val_auc: 0.8368\n",
      "Epoch 87/100\n",
      "20/20 [==============================] - 0s 3ms/step - loss: 0.5816 - auc: 0.8039 - val_loss: 0.6966 - val_auc: 0.8371\n",
      "Epoch 88/100\n",
      "20/20 [==============================] - 0s 2ms/step - loss: 0.7123 - auc: 0.6819 - val_loss: 0.6104 - val_auc: 0.8373\n",
      "Epoch 89/100\n",
      "20/20 [==============================] - 0s 2ms/step - loss: 0.6092 - auc: 0.7703 - val_loss: 0.6337 - val_auc: 0.8374\n",
      "Epoch 90/100\n",
      "20/20 [==============================] - 0s 3ms/step - loss: 0.6217 - auc: 0.7528 - val_loss: 0.7515 - val_auc: 0.8378\n",
      "Epoch 91/100\n",
      "20/20 [==============================] - 0s 2ms/step - loss: 0.6327 - auc: 0.7407 - val_loss: 0.6245 - val_auc: 0.8380\n",
      "Epoch 92/100\n",
      "20/20 [==============================] - 0s 2ms/step - loss: 0.6800 - auc: 0.6997 - val_loss: 0.6271 - val_auc: 0.8381\n",
      "Epoch 93/100\n",
      "20/20 [==============================] - 0s 3ms/step - loss: 0.6277 - auc: 0.7475 - val_loss: 0.6952 - val_auc: 0.8379\n",
      "Epoch 94/100\n",
      "20/20 [==============================] - 0s 3ms/step - loss: 0.6566 - auc: 0.7079 - val_loss: 0.6266 - val_auc: 0.8380\n",
      "Epoch 95/100\n",
      "20/20 [==============================] - 0s 3ms/step - loss: 0.5970 - auc: 0.8177 - val_loss: 0.5884 - val_auc: 0.8380\n",
      "Epoch 96/100\n",
      "20/20 [==============================] - 0s 2ms/step - loss: 0.6488 - auc: 0.7223 - val_loss: 0.7093 - val_auc: 0.8382\n",
      "Epoch 97/100\n",
      "20/20 [==============================] - 0s 3ms/step - loss: 0.6310 - auc: 0.7452 - val_loss: 0.5860 - val_auc: 0.8384\n",
      "Epoch 98/100\n",
      "20/20 [==============================] - 0s 3ms/step - loss: 0.5939 - auc: 0.8026 - val_loss: 0.6055 - val_auc: 0.8389\n",
      "Epoch 99/100\n",
      "20/20 [==============================] - 0s 2ms/step - loss: 0.5886 - auc: 0.8019 - val_loss: 0.6379 - val_auc: 0.8391\n",
      "Epoch 100/100\n",
      "20/20 [==============================] - 0s 2ms/step - loss: 0.5707 - auc: 0.8211 - val_loss: 0.6536 - val_auc: 0.8392\n"
     ]
    }
   ],
   "source": [
    "allModels_sb_597, r_sb_597, model_sb_597 = GridSearchNN(xtrain_sb_597, ytrain_sb_597, param_list, cv=3, rand=False)"
   ]
  },
  {
   "cell_type": "code",
   "execution_count": 82,
   "id": "03f561d0",
   "metadata": {},
   "outputs": [
    {
     "ename": "AttributeError",
     "evalue": "'Sequential' object has no attribute 'predict_classes'",
     "output_type": "error",
     "traceback": [
      "\u001b[1;31m---------------------------------------------------------------------------\u001b[0m",
      "\u001b[1;31mAttributeError\u001b[0m                            Traceback (most recent call last)",
      "\u001b[1;32m<ipython-input-82-0e58cf594880>\u001b[0m in \u001b[0;36m<module>\u001b[1;34m\u001b[0m\n\u001b[1;32m----> 1\u001b[1;33m \u001b[0mpred_sb_597\u001b[0m \u001b[1;33m=\u001b[0m \u001b[0mmodel_sb_597\u001b[0m\u001b[1;33m.\u001b[0m\u001b[0mpredict_classes\u001b[0m\u001b[1;33m(\u001b[0m\u001b[0mxtest_sb_597\u001b[0m\u001b[1;33m)\u001b[0m\u001b[1;33m\u001b[0m\u001b[1;33m\u001b[0m\u001b[0m\n\u001b[0m",
      "\u001b[1;31mAttributeError\u001b[0m: 'Sequential' object has no attribute 'predict_classes'"
     ]
    }
   ],
   "source": [
    "pred_sb_597 = model_sb_597.predict_classes(xtest_sb_597)"
   ]
  },
  {
   "cell_type": "code",
   "execution_count": 83,
   "id": "643b507a",
   "metadata": {},
   "outputs": [],
   "source": [
    "y_pred_keras_sb_597 = model_sb_597.predict(xtest_sb_597).ravel()\n",
    "fpr_keras, tpr_keras, thresholds_keras = roc_curve(ytest_sb_597, y_pred_keras_sb_597)\n",
    "auc_keras_sb_597 = auc(fpr_keras, tpr_keras)"
   ]
  },
  {
   "cell_type": "code",
   "execution_count": 84,
   "id": "b9756f7e",
   "metadata": {},
   "outputs": [
    {
     "data": {
      "image/png": "[encoded data removed]",
      "text/plain": [
       "<Figure size 432x288 with 1 Axes>"
      ]
     },
     "metadata": {
      "needs_background": "light"
     },
     "output_type": "display_data"
    }
   ],
   "source": [
    "plt.figure(1)\n",
    "plt.plot([0, 1], [0, 1], 'k--')\n",
    "plt.plot(fpr_keras, tpr_keras, label='Keras bilancato 597 (area = {:.3f})'.format(auc_keras_sb_597))\n",
    "\n",
    "plt.xlabel('False positive rate')\n",
    "plt.ylabel('True positive rate')\n",
    "plt.title('ROC curve')\n",
    "plt.legend(loc='best')\n",
    "plt.show()"
   ]
  },
  {
   "cell_type": "code",
   "execution_count": null,
   "id": "d3a35d8d",
   "metadata": {},
   "outputs": [],
   "source": []
  },
  {
   "cell_type": "markdown",
   "id": "ed76ad63",
   "metadata": {},
   "source": [
    "# ----- Curve d'apprendimento"
   ]
  },
  {
   "cell_type": "code",
   "execution_count": 85,
   "id": "2d6031fe",
   "metadata": {},
   "outputs": [],
   "source": [
    "from sklearn.model_selection import learning_curve\n",
    "def plot_learning_curve(estimator, title, X, y, axes=None, ylim=None, cv=None,\n",
    "                        n_jobs=None, train_sizes=np.linspace(.1, 1.0, 5)):\n",
    "    if axes is None:\n",
    "        _, axes = plt.subplots(1, 3, figsize=(20, 5))\n",
    "\n",
    "    axes.set_title(title)\n",
    "    if ylim is not None:\n",
    "        axes.set_ylim(*ylim)\n",
    "    axes.set_xlabel(\"Examples\")\n",
    "    axes.set_ylabel(\"Score\")\n",
    "\n",
    "    train_sizes, train_scores, test_scores, fit_times, _ = \\\n",
    "        learning_curve(estimator, X, y, cv=cv, n_jobs=n_jobs,\n",
    "                       train_sizes=train_sizes,\n",
    "                       return_times=True)\n",
    "    train_scores_mean = np.mean(train_scores, axis=1)\n",
    "    train_scores_std = np.std(train_scores, axis=1)\n",
    "    test_scores_mean = np.mean(test_scores, axis=1)\n",
    "    test_scores_std = np.std(test_scores, axis=1)\n",
    "    fit_times_mean = np.mean(fit_times, axis=1)\n",
    "    fit_times_std = np.std(fit_times, axis=1)\n",
    "\n",
    "    # Plot learning curve\n",
    "    axes.grid()\n",
    "    axes.fill_between(train_sizes, train_scores_mean - train_scores_std,\n",
    "                         train_scores_mean + train_scores_std, alpha=0.1,\n",
    "                         color=\"r\")\n",
    "    axes.fill_between(train_sizes, test_scores_mean - test_scores_std,\n",
    "                         test_scores_mean + test_scores_std, alpha=0.1,\n",
    "                         color=\"g\")\n",
    "    axes.plot(train_sizes, train_scores_mean, 'o-', color=\"r\",\n",
    "                 label=\"Training score\")\n",
    "    axes.plot(train_sizes, test_scores_mean, 'o-', color=\"g\",\n",
    "                 label=\"Cross-validation score\")\n",
    "    axes.legend(loc=\"best\")\n",
    "    return plt"
   ]
  },
  {
   "cell_type": "code",
   "execution_count": 86,
   "id": "1708a3f1",
   "metadata": {},
   "outputs": [],
   "source": [
    "def plot_learning_dt(X1, y1, X2, y2):\n",
    "    \n",
    "    fig, axes = plt.subplots(1, 2, figsize=(16, 5))\n",
    "\n",
    "    cv = ShuffleSplit(n_splits=10, test_size=0.3, random_state=0)\n",
    "    estimator = tree.DecisionTreeClassifier(criterion = \"entropy\", max_depth = None, min_samples_leaf = 20, min_samples_split = 10)\n",
    "    title = \"Decision Tree G1\"\n",
    "    plot_learning_curve(estimator, title, X1, y1, axes=axes[0], ylim=(0.3, 1.01),\n",
    "                        cv=cv, n_jobs=10)\n",
    "    print(\"done\")\n",
    "    cv = ShuffleSplit(n_splits=10, test_size=0.3, random_state=0)\n",
    "    estimator = tree.DecisionTreeClassifier(criterion = \"gini\", max_depth = None, min_samples_leaf = 20, min_samples_split = 10)\n",
    "    title = \"Decision Tree G1 Bilanciato\"\n",
    "    plot_learning_curve(estimator, title, X2, y2, axes=axes[1], ylim=(0.3, 1.01),\n",
    "                        cv=cv, n_jobs=10)\n",
    "    plt.show()"
   ]
  },
  {
   "cell_type": "code",
   "execution_count": 87,
   "id": "77dc3333",
   "metadata": {},
   "outputs": [
    {
     "name": "stdout",
     "output_type": "stream",
     "text": [
      "done\n"
     ]
    },
    {
     "data": {
      "image/png": "[encoded data removed]",
      "text/plain": [
       "<Figure size 1152x360 with 2 Axes>"
      ]
     },
     "metadata": {
      "needs_background": "light"
     },
     "output_type": "display_data"
    }
   ],
   "source": [
    "plot_learning_dt(xtrain_597, ytrain_597, xtrain_sb_597, ytrain_sb_597)"
   ]
  },
  {
   "cell_type": "code",
   "execution_count": 88,
   "id": "088c6b2e",
   "metadata": {},
   "outputs": [],
   "source": [
    "def plot_learning_regr(X1, y1, X2, y2):\n",
    "    \n",
    "    fig, axes = plt.subplots(1, 2, figsize=(16, 5))\n",
    "\n",
    "    cv = ShuffleSplit(n_splits=10, test_size=0.3, random_state=0)\n",
    "    estimator = LogisticRegression()\n",
    "    title = \"Logistic Regression 597\"\n",
    "    plot_learning_curve(estimator, title, X1, y1, axes=axes[0], ylim=(0.3, 1.01),\n",
    "                        cv=cv, n_jobs=10)\n",
    "\n",
    "    cv = ShuffleSplit(n_splits=10, test_size=0.3, random_state=0)\n",
    "    estimator = LogisticRegression()\n",
    "    title = \"Logistic Regression 597 Bilanciato\"\n",
    "    plot_learning_curve(estimator, title, X2, y2, axes=axes[1], ylim=(0.3, 1.01),\n",
    "                        cv=cv, n_jobs=10)\n",
    "    plt.show()"
   ]
  },
  {
   "cell_type": "code",
   "execution_count": 89,
   "id": "eb77f351",
   "metadata": {},
   "outputs": [
    {
     "data": {
      "image/png": "[encoded data removed]",
      "text/plain": [
       "<Figure size 1152x360 with 2 Axes>"
      ]
     },
     "metadata": {
      "needs_background": "light"
     },
     "output_type": "display_data"
    }
   ],
   "source": [
    "plot_learning_regr(xtrain_597, ytrain_597, xtrain_sb_597, ytrain_sb_597)"
   ]
  },
  {
   "cell_type": "code",
   "execution_count": null,
   "id": "6bf18f7a",
   "metadata": {},
   "outputs": [],
   "source": []
  }
 ],
 "metadata": {
  "kernelspec": {
   "display_name": "Python 3",
   "language": "python",
   "name": "python3"
  },
  "language_info": {
   "codemirror_mode": {
    "name": "ipython",
    "version": 3
   },
   "file_extension": ".py",
   "mimetype": "text/x-python",
   "name": "python",
   "nbconvert_exporter": "python",
   "pygments_lexer": "ipython3",
   "version": "3.8.8"
  }
 },
 "nbformat": 4,
 "nbformat_minor": 5
}
