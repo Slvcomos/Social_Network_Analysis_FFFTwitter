{
 "cells": [
  {
   "cell_type": "code",
   "execution_count": 1,
   "metadata": {},
   "outputs": [],
   "source": [
    "from stackapi import StackAPI\n",
    "import os\n",
    "import json\n",
    "import time\n",
    "import pandas as pd\n",
    "import numpy as np"
   ]
  },
  {
   "cell_type": "markdown",
   "metadata": {},
   "source": [
    "# 1 - Preprocess meanings"
   ]
  },
  {
   "cell_type": "code",
   "execution_count": 2,
   "metadata": {},
   "outputs": [],
   "source": [
    "path = '../Dati wiki/pulito_nodes.csv'"
   ]
  },
  {
   "cell_type": "code",
   "execution_count": 3,
   "metadata": {},
   "outputs": [],
   "source": [
    "df = pd.read_csv(path, error_bad_lines=False)"
   ]
  },
  {
   "cell_type": "code",
   "execution_count": 4,
   "metadata": {},
   "outputs": [
    {
     "data": {
      "text/html": [
       "<div>\n",
       "<style scoped>\n",
       "    .dataframe tbody tr th:only-of-type {\n",
       "        vertical-align: middle;\n",
       "    }\n",
       "\n",
       "    .dataframe tbody tr th {\n",
       "        vertical-align: top;\n",
       "    }\n",
       "\n",
       "    .dataframe thead th {\n",
       "        text-align: right;\n",
       "    }\n",
       "</style>\n",
       "<table border=\"1\" class=\"dataframe\">\n",
       "  <thead>\n",
       "    <tr style=\"text-align: right;\">\n",
       "      <th></th>\n",
       "      <th>Tag</th>\n",
       "      <th>Significati</th>\n",
       "    </tr>\n",
       "  </thead>\n",
       "  <tbody>\n",
       "    <tr>\n",
       "      <th>0</th>\n",
       "      <td>fridaysforfuture</td>\n",
       "      <td>School Strike for Climate Swedish, also known ...</td>\n",
       "    </tr>\n",
       "    <tr>\n",
       "      <th>1</th>\n",
       "      <td>climatestrike</td>\n",
       "      <td>School Strike for Climate Swedish, also known ...</td>\n",
       "    </tr>\n",
       "    <tr>\n",
       "      <th>2</th>\n",
       "      <td>climateaction</td>\n",
       "      <td>Climate action (or climate change action) refe...</td>\n",
       "    </tr>\n",
       "    <tr>\n",
       "      <th>3</th>\n",
       "      <td>climatecrisis</td>\n",
       "      <td>Climate crisis is a term describing global war...</td>\n",
       "    </tr>\n",
       "    <tr>\n",
       "      <th>4</th>\n",
       "      <td>climatechange</td>\n",
       "      <td>Contemporary climate change includes both glo...</td>\n",
       "    </tr>\n",
       "    <tr>\n",
       "      <th>...</th>\n",
       "      <td>...</td>\n",
       "      <td>...</td>\n",
       "    </tr>\n",
       "    <tr>\n",
       "      <th>94</th>\n",
       "      <td>animals</td>\n",
       "      <td>Animals are multicellular, eukaryotic organism...</td>\n",
       "    </tr>\n",
       "    <tr>\n",
       "      <th>95</th>\n",
       "      <td>governo</td>\n",
       "      <td>Governo is a winemaking technique reportedly i...</td>\n",
       "    </tr>\n",
       "    <tr>\n",
       "      <th>96</th>\n",
       "      <td>emobility</td>\n",
       "      <td>EVs first came into existence in the mid-19th ...</td>\n",
       "    </tr>\n",
       "    <tr>\n",
       "      <th>97</th>\n",
       "      <td>chile</td>\n",
       "      <td>Chile, officially the Republic of Chile, is a ...</td>\n",
       "    </tr>\n",
       "    <tr>\n",
       "      <th>98</th>\n",
       "      <td>onu</td>\n",
       "      <td>United Nations in other languages, e.g. French...</td>\n",
       "    </tr>\n",
       "  </tbody>\n",
       "</table>\n",
       "<p>99 rows × 2 columns</p>\n",
       "</div>"
      ],
      "text/plain": [
       "                 Tag                                        Significati\n",
       "0   fridaysforfuture  School Strike for Climate Swedish, also known ...\n",
       "1      climatestrike  School Strike for Climate Swedish, also known ...\n",
       "2      climateaction  Climate action (or climate change action) refe...\n",
       "3      climatecrisis  Climate crisis is a term describing global war...\n",
       "4      climatechange   Contemporary climate change includes both glo...\n",
       "..               ...                                                ...\n",
       "94           animals  Animals are multicellular, eukaryotic organism...\n",
       "95           governo  Governo is a winemaking technique reportedly i...\n",
       "96         emobility  EVs first came into existence in the mid-19th ...\n",
       "97             chile  Chile, officially the Republic of Chile, is a ...\n",
       "98               onu  United Nations in other languages, e.g. French...\n",
       "\n",
       "[99 rows x 2 columns]"
      ]
     },
     "execution_count": 4,
     "metadata": {},
     "output_type": "execute_result"
    }
   ],
   "source": [
    "df"
   ]
  },
  {
   "cell_type": "code",
   "execution_count": 5,
   "metadata": {},
   "outputs": [],
   "source": [
    "import re\n",
    "from nltk.corpus import stopwords\n",
    "from nltk.tokenize import word_tokenize\n",
    "from nltk.stem import WordNetLemmatizer\n",
    "import string"
   ]
  },
  {
   "cell_type": "code",
   "execution_count": 6,
   "metadata": {},
   "outputs": [],
   "source": [
    "tags = df['Tag']\n",
    "meaning = df['Significati']"
   ]
  },
  {
   "cell_type": "code",
   "execution_count": 7,
   "metadata": {},
   "outputs": [],
   "source": [
    "def clean_text(corpus):\n",
    "    clear_text = []\n",
    "    for phrase in corpus:\n",
    "        # Replace URL with the tag url\n",
    "        phrase = re.sub(\"https*\\S+\", \"url\", phrase)\n",
    "        # Remove strange characters\n",
    "        # &quot => \"\"\n",
    "        # &#39 => '\n",
    "        # &amp; => &\n",
    "        # &lt; => <\n",
    "        # &gt; => >\n",
    "        phrase = re.sub(\"&quot;|\\r|\\n\\|&#39|&amp;|&lt;|&gt;\", \"\", phrase)\n",
    "\n",
    "        # Punctuaction removal\n",
    "        phrase = re.sub('[%s]' % re.escape(string.punctuation), ' ', phrase)\n",
    "        # Replace numbers with the tag number\n",
    "        phrase = re.sub(\"\\d+\", \"number \", phrase)\n",
    "        # Convert to lowercase\n",
    "        phrase = phrase.lower()\n",
    "        # Replace the over spaces\n",
    "        phrase = re.sub('\\s{2,}', \" \", phrase)\n",
    "        clear_text.append([phrase])\n",
    "    return clear_text"
   ]
  },
  {
   "cell_type": "code",
   "execution_count": 8,
   "metadata": {},
   "outputs": [
    {
     "data": {
      "text/plain": [
       "<function __main__.clean_text(corpus)>"
      ]
     },
     "execution_count": 8,
     "metadata": {},
     "output_type": "execute_result"
    }
   ],
   "source": [
    "clean_text"
   ]
  },
  {
   "cell_type": "code",
   "execution_count": 9,
   "metadata": {},
   "outputs": [],
   "source": [
    "cleared_text = clean_text(meaning)"
   ]
  },
  {
   "cell_type": "code",
   "execution_count": 10,
   "metadata": {},
   "outputs": [
    {
     "data": {
      "text/plain": [
       "[['school strike for climate swedish also known variously as fridays for future fff youth for climate climate strike or youth strike for climate is an international movement of school students who skip friday classes to participate in demonstrations to demand action from political leaders to prevent climate change and for the fossil fuel industry to transition to renewable energy publicity and widespread organising began after swedish pupil greta thunberg staged a protest in august number outside of the swedish riksdag parliament holding a sign that read skolstrejk för klimatet school strike for climate a global strike on number march number gathered more than one million strikers in number number strikes organised in number countries on number may number in the second glo'],\n",
       " ['school strike for climate swedish also known variously as fridays for future fff youth for climate climate strike or youth strike for climate is an international movement of school students who skip friday classes to participate in demonstrations to demand action from political leaders to prevent climate change and for the fossil fuel industry to transition to renewable energy '],\n",
       " ['climate action or climate change action refers to a range of activities mechanisms policy instruments and so forth that aim to reduce the severity of human induced climate change and its impacts more climate action is a central demand of the climate movement '],\n",
       " ['climate crisis is a term describing global warming and climate change and their impacts the term has been used to describe the threat of global warming to the planet and to urge aggressive climate change mitigation '],\n",
       " [' contemporary climate change includes both global warming and its impacts on earth s weather patterns there have been previous periods of climate change but the current changes are distinctly more rapid and not due to natural causes '],\n",
       " ['climate emergency climate crisis a characterization of climate change climate emergency declaration a public declaration of a state of climate emergency'],\n",
       " ['fridays for future'],\n",
       " ['greta tintin eleonora ernman thunberg swedish born number january number is a swedish environmental activist who is known for challenging world leaders to take immediate action for climate change mitigation thunberg s activism began when she persuaded her parents to adopt lifestyle choices that reduced their own carbon footprint '],\n",
       " ['do online event climate strike '],\n",
       " [' climate justice is a concept that addresses the just division fair sharing and equitable distribution of the benefits and burdens of climate change and responsibilities to deal with climate change justice fairness and equity are not completely identical but they are in the same family of related terms and are often used interchangeably in negotiations and politics '],\n",
       " ['extinction rebellion abbreviated as xr is a global environmental movement with the stated aim of using nonviolent civil disobedience to compel government action to avoid tipping points in the climate system biodiversity loss and the risk of social and ecological collapse '],\n",
       " ['do somethings for clima immediately'],\n",
       " ['climate is the long term weather pattern in an area typically averaged over number years more rigorously it is the mean and variability of meteorological variables over a time spanning from months to millions of years some of the meteorological variables that are commonly measured are temperature humidity atmospheric pressure wind and precipitation in a broader sense climate is the state of the components of the climate system including the atmosphere the hydrosphere the cryosphere the lithosphere and the biosphere and the interactions between them '],\n",
       " ['school strike for climate swedish also known variously as fridays for future fff youth for climate climate strike or youth strike for climate is an international movement of school students who skip friday classes to participate in demonstrations to demand action from political leaders to prevent climate change and for the fossil fuel industry to transition to renewable energy '],\n",
       " ['day on which the event usually takes place motivation slogan fridays for future'],\n",
       " ['slogan fridays for future '],\n",
       " ['friday feeling vibes positive slogan'],\n",
       " ['do somethings for clima immediately act now '],\n",
       " ['global climate strike annual event a worldwide climate strike occurring on number november number in parallel to the number united nations climate change conference'],\n",
       " ['online strike on remote device pc phone digital'],\n",
       " ['things to do on friday day of the strike'],\n",
       " ['carbon dioxide chemical formula conumber is a chemical compound occurring as a colorless gas with a density about number higher than that of dry air carbon dioxide molecules consist of a carbon atom covalently double bonded to two oxygen atoms it occurs naturally in earth s atmosphere as a trace gas '],\n",
       " ['uproot the system is a more specific way of changing the system because to change the system we have to tackle it from the roots from the beginning and those roots are capitalism imperialism and more '],\n",
       " ['the number united nations climate change conference more commonly referred to as copnumber was the number th united nations climate change conference held at the sec centre in glasgow scotland united kingdom from number october to number november number the president of the conference was uk cabinet minister alok sharma '],\n",
       " ['sustainability is a societal goal that broadly aims for humans to safely co exist on planet earth over a long time specific definitions of sustainability are difficult to agree on and therefore vary in the literature and over time '],\n",
       " ['song slogan a promise is a statement which you make to a person in which you say that you will definitely do something or give them something '],\n",
       " ['friday vibes day event positive have positive energy '],\n",
       " ['increase people and not profits '],\n",
       " ['berlin is the capital and largest city of germany by both area and population its number number million inhabitants make it the european union s most populous city according to population within city limits one of germany s sixteen constituent states berlin is surrounded by the state of brandenburg and contiguous with potsdam brandenburg s capital '],\n",
       " ['take action to do something to prevent climate change '],\n",
       " ['coronavirus disease number covid number is a contagious disease caused by a virus the severe acute respiratory syndrome coronavirus number sars cov number the first known case was identified in wuhan china in december number the disease quickly spread worldwide resulting in the covid number pandemic '],\n",
       " ['natural environment all living and non living things occurring naturally biophysical environment the physical and biological factors along with their chemical interactions that affect an organism or a group of organisms'],\n",
       " ['india officially the republic of india hindi bhārat gaṇarājya is a country in south asia it is the seventh largest country by area the second most populous country and the most populous democracy in the world '],\n",
       " ['a little over number years ago world leaders made a commitment to keep the temperature rise due to the climate crisis within number number ºc or at least well below number hectares c by signing the paris agreement the european states promised to implement policies to reduce greenhouse gas production by up to number from number levels despite the fact that this objective is not satisfactory however we are a long way from achieving it so much so that many countries with fewer means and less responsibility on the part of the eu are working much harder to combat climate change '],\n",
       " ['green new deal gnd proposals call for public policy to address climate change along with achieving other social aims like job creation and reducing economic inequality the name refers back to the new deal a set of social and economic reforms and public works projects undertaken by president franklin d roosevelt in response to the great depression the green new deal combines roosevelt s economic approach with modern ideas such as renewable energy and resource efficiency '],\n",
       " ['carbon from latin carbo coal is a chemical element with the symbol c and atomic number number it is nonmetallic and tetravalent—making four electrons available to form covalent chemical bonds it belongs to group number of the periodic table carbon makes up only about number number percent of earth s crust '],\n",
       " ['nature in the broadest sense is the physical world or universe nature can refer to the phenomena of the physical world and also to life in general the study of nature is a large if not the only part of science although humans are part of nature human activity is often understood as a separate category from other natural phenomena the word nature is borrowed from the old french nature and is derived from the latin word natura or essential qualities innate disposition and in ancient times literally meant birth '],\n",
       " ['the energy transition is the ongoing process of replacing fossil fuels with low carbon energy sources more generally an energy transition is a significant structural change in an energy system regarding supply and consumption '],\n",
       " ['contemporary climate change includes both global warming and its impacts on earth s weather patterns there have been previous periods of climate change but the current changes are distinctly more rapid and not due to natural causes instead they are caused by the emission of greenhouse gases mostly carbon dioxide conumber and methane burning fossil fuels for energy use creates most of these emissions certain agricultural practices industrial processes and forest loss are additional sources as their name suggests these gases trap heat from sunlight near the earth’s surface warming it over time '],\n",
       " ['the number united nations climate change conference also known as copnumber was the number th united nations climate change conference it was held in madrid spain from number to number december number under the presidency of the chilean government '],\n",
       " ['solar energy is radiant light and heat from the sun that is harnessed using a range of technologies such as solar power to generate electricity solar thermal energy including solar water heating and solar architecture it is an essential source of renewable energy and its technologies are broadly characterized as either passive solar or active solar depending on how they capture and distribute solar energy or convert it into solar power active solar techniques include the use of photovoltaic systems concentrated solar power and solar water heating to harness the energy '],\n",
       " ['renewable energy is energy that is collected from renewable resources that are naturally replenished on a human timescale it includes sources such as sunlight wind rain tides waves and geothermal heat although most renewable energy sources are sustainable some are not '],\n",
       " ['energy is sustainable if it meets the needs of the present without compromising the ability of future generations to meet their own needs most definitions of sustainable energy include considerations of environmental aspects such as greenhouse gas emissions and social and economic aspects such as energy poverty'],\n",
       " ['coronaviruses are a group of related rna viruses that cause diseases in mammals and birds in humans and birds they cause respiratory tract infections that can range from mild to lethal mild illnesses in humans include some cases of the common cold which is also caused by other viruses predominantly rhinoviruses while more lethal varieties can cause sars mers and covid number which is causing an ongoing pandemic in cows and pigs they cause diarrhea while in mice they cause hepatitis and encephalomyelitis '],\n",
       " ['in physics energy is the quantitative property that is transferred to a body or to a physical system recognizable in the performance of work and in the form of heat and light energy is a conserved quantity the law of conservation of energy states that energy can be converted in form but not created or destroyed the unit of measurement in the international system of units si of energy is the joule which is the energy transferred to an object by the work of moving it a distance of one metre against a force of one newton '],\n",
       " ['pollution is the introduction of contaminants into the natural environment that cause adverse change pollution can take the form of any substance solid liquid or gas or energy such as radioactivity heat sound or light pollutants the components of pollution can be either foreign substances energies or naturally occurring contaminants although environmental pollution can be caused by natural events the word pollution generally implies that the contaminants have an anthropogenic source – that is a source created by human activities '],\n",
       " ['hamburg locally also officially the free and hanseatic city of hamburg german freie und hansestadt hamburg low saxon friee un hansestadt hamborg is the second largest city in germany after berlin as well as the overall number th largest city and largest non capital city in the european union with a population of over number number million'],\n",
       " ['science is a systematic enterprise that builds and organizes knowledge in the form of testable explanations and predictions about the universe the earliest roots in the history of science can be traced to ancient egypt and mesopotamia in around number to number bce their contributions to mathematics astronomy and medicine entered and shaped greek natural philosophy of classical antiquity whereby formal attempts were made to provide explanations of events in the physical world based on natural causes '],\n",
       " ['veganism is the practice of abstaining from the use of animal products particularly in diet and an associated philosophy that rejects the commodity status of animals an individual who follows the diet or philosophy is known as a vegan distinctions may be made between several categories of veganism '],\n",
       " [' art is a diverse range of human activity and resulting product that involves creative or imaginative talent expressive of technical proficiency beauty emotional power or conceptual ideas there is no generally agreed definition of what constitutes art and its interpretation has varied greatly throughout history and across cultures '],\n",
       " [' earth is the third planet from the sun and the only astronomical object known to harbor life while large volumes of water can be found throughout the solar system only earth sustains liquid surface water about number of earth s surface is made up of the ocean dwarfing earth s polar ice lakes and rivers the remaining number of earth s surface is land consisting of continents and islands '],\n",
       " ['the future is the time after the past and present its arrival is considered inevitable due to the existence of time and the laws of physics due to the apparent nature of reality and the unavoidability of the future everything that currently exists and will exist can be categorized as either permanent meaning that it will exist forever or temporary meaning that it will end'],\n",
       " ['wind is the natural movement of air or other gases relative to a planet s surface winds occur on a range of scales from thunderstorm flows lasting tens of minutes to local breezes generated by heating of land surfaces and lasting a few hours to global winds resulting from the difference in absorption of solar energy between the climate zones on earth '],\n",
       " ['angela dorothea merkel is a retired german politician and scientist who served as the chancellor of germany from number to number a member of the christian democratic union cdu she previously served as leader of the opposition from number to number and as leader of the christian democratic union from number to number '],\n",
       " ['a fossil fuel is a hydrocarbon containing material formed naturally in the earth s crust from the remains of dead plants and animals that is extracted and burned as a fuel the main fossil fuels are coal crude oil and natural gas fossil fuels may be burned to provide heat for use directly such as for cooking or heating to power engines such as internal combustion engines in motor vehicles or to generate electricity '],\n",
       " ['a planet is a large rounded astronomical body that is neither a star nor its remnant the best available theory of planet formation is the nebular hypothesis which posits that an interstellar cloud collapses out of a nebula to create a young protostar orbited by a protoplanetary disk planets grow in this disk by the gradual accumulation of material driven by gravity a process called accretion '],\n",
       " ['canada is a country in north america its ten provinces and three territories extend from the atlantic ocean to the pacific ocean and northward into the arctic ocean covering over number number million square kilometres number number million square miles making it the world s second largest country by total area its southern and western border with the united states stretching number number kilometres number number mi is the world s longest binational land border canada s capital is ottawa and its three largest metropolitan areas are toronto montreal and vancouver '],\n",
       " ['water chemical formula hnumber o is an inorganic transparent tasteless odorless and nearly colorless chemical substance which is the main constituent of earth s hydrosphere and the fluids of all known living organisms in which it acts as a solvent it is vital for all known forms of life even though it provides neither food energy nor organic micronutrients its chemical formula hnumber o indicates that each of its molecules contains one oxygen and two hydrogen atoms connected by covalent bonds the hydrogen atoms are attached to the oxygen atom at an angle of number number ° water is also the name of the liquid state of hnumber o at standard temperature and pressure '],\n",
       " ['the paris agreement french accord de paris often referred to as the paris accords or the paris climate accords is an international treaty on climate change adopted in number it covers climate change mitigation adaptation and finance the agreement was negotiated by number parties at the number united nations climate change conference near paris france '],\n",
       " ['milan us also lombard miˈlãː listen italian milano miˈlaːno listen is a city in northern italy capital of lombardy and the second most populous city proper in italy after rome the city proper has a population of about number number million while its metropolitan city has number number million inhabitants its continuously built up urban area whose outer suburbs extend well beyond the boundaries of the administrative metropolitan city and even stretch into the nearby country of switzerland is the fourth largest in the eu with number number million inhabitants '],\n",
       " ['a global catastrophic risk or a doomsday scenario is a hypothetical future event that could damage human well being on a global scale even endangering or destroying modern civilization an event that could cause human extinction or permanently and drastically curtail humanity s potential is known as an existential risk '],\n",
       " ['israel hebrew יִשְׂרָאֵל romanized yīsrāʾēl arabic إِسْرَائِيل romanized ʾisrāʾīl officially the state of israel מְדִינַת יִשְׂרָאֵל medīnat yīsrāʾēl دَوْلَة إِسْرَائِيل dawlat ʾisrāʾīl is a country in western asia it is situated on the southeastern shore of the mediterranean sea and the northern shore of the red sea and shares borders with lebanon to the north syria to the northeast jordan to the east and egypt to the southwest it is also bordered by the palestinian territories of the west bank and the gaza strip to the east and west respectively '],\n",
       " ['rome italian and latin roma ˈroːma listen is the capital city of italy it is also the capital of the lazio region the centre of the metropolitan city of rome and a special comune named comune di roma capitale with number number number residents in number number kmnumber number number sq mi number rome is the countrys most populated comune and the third most populous city in the european union by population within city limits '],\n",
       " ['the diesel engine named after rudolf diesel is an internal combustion engine in which ignition of the fuel is caused by the elevated temperature of the air in the cylinder due to mechanical compression thus the diesel engine is a so called compression ignition engine ci engine this contrasts with engines using spark plug ignition of the air fuel mixture such as a petrol engine gasoline engine or a gas engine using a gaseous fuel like natural gas or liquefied petroleum gas '],\n",
       " ['siemens ag german pronunciation ˈziːməns listen or mɛns is a german multinational conglomerate corporation and the largest industrial manufacturing company in europe headquartered in munich with branch offices abroad '],\n",
       " ['publicity and widespread organising began after swedish pupil greta thunberg staged a protest in august number outside of the swedish riksdag parliament holding a sign that read skolstrejk för klimatet school strike for climate a global strike on number march number gathered more than one million strikers in number number strikes organised in number countries on number may number in the second glo'],\n",
       " ['plastic pollution is the accumulation of plastic objects and particles e g plastic bottles bags and microbeads in the earth s environment that adversely affects humans wildlife and their habitat plastics that act as pollutants are categorized by size into micro meso or macro debris plastics are inexpensive and durable making them very adaptable for different uses as a result manufacturers choose to use plastic over other materials '],\n",
       " ['davos uk us german daˈfoːs or daˈvoːs listen romansh tavau archaic italian tavate is an alpine resort town and a municipality in the prättigau davos region in the canton of graubünden switzerland it has a permanent population of number number number davos is located on the river landwasser in the rhaetian alps between the plessur and albula ranges '],\n",
       " ['a sport utility vehicle or suv is a car classification that combines elements of road going passenger cars with features from off road vehicles such as raised ground clearance and four wheel drive '],\n",
       " ['atomkraft are an english speed metal band from newcastle who were part of the new wave of british heavy metal movement they formed in number disbanded number and reformed in number their total metal approach is somewhere between fellow nwobhm bands such as motörhead and venom punk rock bands such as the dickies and early exodus or slayer '],\n",
       " ['school strike for climate swedish skolstrejk för klimatet also known variously as fridays for future fff youth for climate climate strike or youth strike for climate is an international movement of school students who skip friday classes to participate in demonstrations to demand action from political leaders to prevent climate change and for the fossil fuel industry to transition to renewable energy '],\n",
       " ['the united kingdom of great britain and northern ireland commonly known as the united kingdom uk or britain is a sovereign country in europe off the north western coast of the continental mainland it comprises england wales scotland and northern ireland the united kingdom includes the island of great britain the north eastern part of the island of ireland and many smaller islands within the british isles '],\n",
       " ['a greenhouse gas ghg or ghg is a gas that absorbs and emits radiant energy within the thermal infrared range causing the greenhouse effect the primary greenhouse gases in earth s atmosphere are water vapor hnumber o carbon dioxide conumber methane chnumber nitrous oxide nnumber o and ozone onumber without greenhouse gases the average temperature of earth s surface would be about −number °c number °f rather than the present average of number °c number °f the atmospheres of venus mars and titan also contain greenhouse gases '],\n",
       " ['basilicata uk us italian baziliˈkaːta also known by its ancient name lucania also us italian luˈkaːnja is an administrative region in southern italy bordering on campania to the west apulia to the north and east and calabria to the south it has two coastlines a number km stretch on the tyrrhenian sea between campania and calabria and a longer coastline along the gulf of taranto between calabria and apulia the region can be thought of as the instep of italy with calabria functioning as the toe and apulia the heel '],\n",
       " ['london is the capital and largest city of england and the united kingdom with a population of just over number million it stands on the river thames in south east england at the head of a number mile number km estuary down to the north sea and has been a major settlement for two millennia the city of london its ancient core and financial centre was founded by the romans as londinium and retains boundaries close to its medieval ones '],\n",
       " ['wildlife refers to undomesticated animal species but has come to include all organisms that grow or live wild in an area without being introduced by humans wildlife was also synonymous to game those birds and mammals that were hunted for sport wildlife can be found in all ecosystems deserts plains grasslands woodlands forests and other areas including the most developed urban areas all have distinct forms of wildlife '],\n",
       " ['just transition is a framework developed by the trade union movement to encompass a range of social interventions needed to secure workers rights and livelihoods when economies are shifting to sustainable production primarily combating climate change and protecting biodiversity in europe advocates for a just transition want to unite social and climate justice for example for coal workers in coal dependent developing regions who lack employment opportunities beyond coal '],\n",
       " ['north rhine westphalia german nordrhein westfalen pronounced ˌnɔʁtʁaɪn vɛstˈfaːlən listen limburgish noordrien wesfale ˈnoːʀtʀiːn βæsˈfaːlə low german noordrhien westfalen kölsch noodrhing wäßßfaale commonly shortened to nrw german ɛnʔɛʁˈveː listen is a state land in western germany with more than number number million inhabitants it is the most populous state of germany apart from the city states it is also the most densely populated state in germany covering an area of number number square kilometres number number sq mi it is the fourth largest german state by size '],\n",
       " ['a flood is an overflow of water or rarely other fluids that submerges land that is usually dry in the sense of flowing water the word may also be applied to the inflow of the tide floods are an area of study of the discipline hydrology and are of significant concern in agriculture civil engineering and public health '],\n",
       " ['new york often called new york city nyc to distinguish it from the state of new york is the most populous city in the united states with a number population of number number number distributed over number number square miles number number kmnumber new york city is also the most densely populated major city in the united states located at the southern tip of the state of new york the city is the center of the new york metropolitan area the largest metropolitan area in the world by urban area '],\n",
       " ['shell plc is a british multinational oil and gas company headquartered in london england number shell is a public limited company with a primary listing on the london stock exchange lse and secondary listings on euronext amsterdam and the new york stock exchange it is one of the oil and gas supermajors and by revenue and profits is one of the largest companies in the world ranking within the top number of the fortune global number since number '],\n",
       " ['air pollution is the contamination of air due to the presence of substances in the atmosphere that are harmful to the health of humans and other living beings or cause damage to the climate or to materials there are many different types of air pollutants such as gases including ammonia carbon monoxide sulfur dioxide nitrous oxides methane carbon dioxide and chlorofluorocarbons particulates both organic and inorganic and biological molecules '],\n",
       " ['social justice is justice in terms of the distribution of wealth opportunities and privileges within a society in western and asian cultures the concept of social justice has often referred to the process of ensuring that individuals fulfill their societal roles and receive what was their due from society '],\n",
       " ['transport in british english or transportation in american english is the movement of humans animals and goods from one location to another in other words the action of transport is defined as a particular movement of an organism or thing from a point a a place in space to a point b '],\n",
       " ['in its most general sense the term world refers to the totality of entities to the whole of reality or to everything that is the nature of the world has been conceptualized differently in different fields some conceptions see the world as unique while others talk of a plurality of worlds '],\n",
       " ['in botany a tree is a perennial plant with an elongated stem or trunk usually supporting branches and leaves in some usages the definition of a tree may be narrower including only woody plants with secondary growth plants that are usable as lumber or plants above a specified height in wider definitions the taller palms tree ferns bananas and bamboos are also trees '],\n",
       " ['a circular economy also referred to as circularity and ce is a model of production and consumption which involves sharing leasing reusing repairing refurbishing and recycling existing materials and products as long as possible ce aims to tackle global challenges as climate change biodiversity loss waste and pollution by emphasizing the design based implementation of the three base principles of the model '],\n",
       " ['the number united nations climate change conference also known as copnumber was the number th united nations climate change conference it was held in madrid spain from number to number december number under the presidency of the chilean government '],\n",
       " ['hong kong chinese 香港 cantonese hœ́ːŋ kɔ̌ːŋ listen officially the hong kong special administrative region of the people s republic of china abbr hong kong sar or hksar is a city and special administrative region of china on the eastern pearl river delta in south china with number number million residents of various nationalities in a number number square kilometre number sq mi territory hong kong is one of the most densely populated places in the world hong kong is also a major global financial centre and one of the most developed cities in the world '],\n",
       " ['totalenergies se is a french multinational integrated energy and petroleum company founded in number and one of the seven supermajor oil companies its businesses cover the entire oil and gas chain from crude oil and natural gas exploration and production to power generation transportation refining petroleum product marketing and international crude oil and product trading '],\n",
       " ['the number united nations climate change conference more commonly referred to as copnumber was the number th united nations climate change conference held at the sec centre in glasgow scotland united kingdom from number october to number november number '],\n",
       " ['zero waste is a set of principles focused on waste prevention that encourages the redesign of resource life cycles so that all products are reused the goal is for no trash to be sent to landfills incinerators or the ocean '],\n",
       " ['lucknow hindustani ˈləkʰnəuː listen lakhnaū is the capital and the largest city of the indian state of uttar pradesh and it is also the second largest urban agglomeration in uttar pradesh lucknow is the administrative headquarters of the eponymous district and division '],\n",
       " ['europe is a continent also recognised as a part of eurasia located entirely in the northern hemisphere and mostly in the eastern hemisphere comprising the westernmost peninsulas of eurasia number it shares the continental landmass of afro eurasia with both asia and africa it is bordered by the arctic ocean to the north the atlantic ocean to the west the mediterranean sea to the south and asia to the east '],\n",
       " ['animals are multicellular eukaryotic organisms in the biological kingdom animalia with few exceptions animals consume organic material breathe oxygen are able to move can reproduce sexually and go through an ontogenetic stage in which their body consists of a hollow sphere of cells the blastula during embryonic development '],\n",
       " ['governo is a winemaking technique reportedly invented in tuscany in the number th century to help complete fermentation and stabilize the wine the technique involves saving a batch of harvested grapes and allowing them to partially dry '],\n",
       " ['evs first came into existence in the mid number th century when electricity was among the preferred methods for motor vehicle propulsion providing a level of comfort and ease of operation that could not be achieved by the gasoline cars of the time '],\n",
       " ['chile officially the republic of chile is a country in the western part of south america it is the southernmost country in the world and the closest to antarctica occupying a long and narrow strip of land between the andes to the east and the pacific ocean to the west '],\n",
       " ['united nations in other languages e g french organisation des nations unies and arabic ']]"
      ]
     },
     "execution_count": 10,
     "metadata": {},
     "output_type": "execute_result"
    }
   ],
   "source": [
    "cleared_text"
   ]
  },
  {
   "cell_type": "code",
   "execution_count": 11,
   "metadata": {},
   "outputs": [],
   "source": [
    "import networkx as nx\n",
    "import itertools\n",
    "from operator import itemgetter"
   ]
  },
  {
   "cell_type": "code",
   "execution_count": 12,
   "metadata": {},
   "outputs": [],
   "source": [
    "G = nx.read_graphml(\"../Dataset FFF/Graph_data/Real_Network.graphml\")"
   ]
  },
  {
   "cell_type": "code",
   "execution_count": 13,
   "metadata": {},
   "outputs": [],
   "source": [
    "degree_dict = dict(G.degree(G.nodes()))\n",
    "nx.set_node_attributes(G, degree_dict, 'degree')\n",
    "sorted_degree = sorted(degree_dict.items(), key = itemgetter(1), reverse = True)"
   ]
  },
  {
   "cell_type": "code",
   "execution_count": 14,
   "metadata": {},
   "outputs": [
    {
     "name": "stdout",
     "output_type": "stream",
     "text": [
      "511\n"
     ]
    }
   ],
   "source": [
    "sample_nodes_1057 = []\n",
    "for i in sorted_degree:\n",
    "    if i[1] > 30:\n",
    "        sample_nodes_1057.append(i[0])\n",
    "print(len(sample_nodes_1057))"
   ]
  },
  {
   "cell_type": "code",
   "execution_count": 15,
   "metadata": {},
   "outputs": [],
   "source": [
    "def select_sample_meaning(sample, meaning):\n",
    "    sampled_meaning = []\n",
    "    sample_nodes = []\n",
    "    for i in sample:\n",
    "        for j in range(len(tags)):\n",
    "            if tags[j]==i:\n",
    "                sampled_meaning.append(i + \" \" + meaning[j][0])\n",
    "                sample_nodes.append(i)\n",
    "    return sampled_meaning, sample_nodes"
   ]
  },
  {
   "cell_type": "code",
   "execution_count": 16,
   "metadata": {},
   "outputs": [],
   "source": [
    "sampled_meaning_1057, sample_nodes_1057 = select_sample_meaning(sample_nodes_1057, cleared_text)"
   ]
  },
  {
   "cell_type": "code",
   "execution_count": 17,
   "metadata": {},
   "outputs": [
    {
     "data": {
      "text/plain": [
       "'\\nfor i in range(len(sample_nodes_1057)):\\n    if not isNaN(tags[i]):\\n        sampled_meaning_1057[i] = sample_nodes_1057[i] + \" \" + sampled_meaning_1057[i][0]\\n    else:\\n        sampled_meaning_1057[i] = \"nan \" + sampled_meaning_1057[i][0]\\n'"
      ]
     },
     "execution_count": 17,
     "metadata": {},
     "output_type": "execute_result"
    }
   ],
   "source": [
    "\"\"\"\n",
    "for i in range(len(sample_nodes_1057)):\n",
    "    if not isNaN(tags[i]):\n",
    "        sampled_meaning_1057[i] = sample_nodes_1057[i] + \" \" + sampled_meaning_1057[i][0]\n",
    "    else:\n",
    "        sampled_meaning_1057[i] = \"nan \" + sampled_meaning_1057[i][0]\n",
    "\"\"\""
   ]
  },
  {
   "cell_type": "code",
   "execution_count": 18,
   "metadata": {},
   "outputs": [],
   "source": [
    "word_tokens = []\n",
    "for phrase in sampled_meaning_1057:\n",
    "    word_tokens.append(phrase.split())\n",
    "stop_words = stopwords.words('english')\n",
    "no_sw_1057=[]\n",
    "for phrase in word_tokens:\n",
    "    no_sw_tmp=[]\n",
    "    for word in phrase:\n",
    "        if word not in stop_words:\n",
    "            no_sw_tmp.append(word)\n",
    "    no_sw_1057.append(no_sw_tmp)"
   ]
  },
  {
   "cell_type": "code",
   "execution_count": 19,
   "metadata": {},
   "outputs": [],
   "source": [
    "cleared_meaning_1057 = []\n",
    "for i in no_sw_1057:\n",
    "    new_s = \"\"\n",
    "    for j in i:\n",
    "        new_s = new_s + \" \" + j\n",
    "    cleared_meaning_1057.append(new_s)"
   ]
  },
  {
   "cell_type": "code",
   "execution_count": 21,
   "metadata": {},
   "outputs": [],
   "source": [
    "df = pd.DataFrame({\"Tags\": sample_nodes_1057, \"Meaning\" : cleared_meaning_1057})\n",
    "df.to_csv(\"nodes_1057_meaning.csv\", index=False)"
   ]
  },
  {
   "cell_type": "code",
   "execution_count": 22,
   "metadata": {},
   "outputs": [],
   "source": [
    "from gensim.models import Word2Vec"
   ]
  },
  {
   "cell_type": "code",
   "execution_count": 23,
   "metadata": {},
   "outputs": [],
   "source": [
    "def check_isin(word2vec, data):\n",
    "    not_in = []\n",
    "    for i in data:\n",
    "        try:\n",
    "            word2vec.wv[i]\n",
    "        except:\n",
    "            not_in.append(i)\n",
    "    print(len(not_in))"
   ]
  },
  {
   "cell_type": "code",
   "execution_count": 24,
   "metadata": {},
   "outputs": [],
   "source": [
    "word2vec_1057 = Word2Vec(no_sw_1057, min_count=1)"
   ]
  },
  {
   "cell_type": "code",
   "execution_count": 25,
   "metadata": {},
   "outputs": [
    {
     "data": {
      "text/plain": [
       "1538"
      ]
     },
     "execution_count": 25,
     "metadata": {},
     "output_type": "execute_result"
    }
   ],
   "source": [
    "len(word2vec_1057.wv)"
   ]
  },
  {
   "cell_type": "code",
   "execution_count": 26,
   "metadata": {},
   "outputs": [],
   "source": [
    "G = nx.read_graphml(\"../Dataset FFF/Graph_data/Real_Network.graphml\")"
   ]
  },
  {
   "cell_type": "markdown",
   "metadata": {},
   "source": [
    "# 2 - Store word2vec embedding"
   ]
  },
  {
   "cell_type": "code",
   "execution_count": 27,
   "metadata": {},
   "outputs": [],
   "source": [
    "from linkpred.evaluation import Pair\n",
    "import pickle"
   ]
  },
  {
   "cell_type": "code",
   "execution_count": 29,
   "metadata": {},
   "outputs": [],
   "source": [
    "H_1057 = G.subgraph(sample_nodes_1057)"
   ]
  },
  {
   "cell_type": "code",
   "execution_count": 30,
   "metadata": {},
   "outputs": [],
   "source": [
    "first = []\n",
    "second = []\n",
    "for i in H_1057.edges():\n",
    "    first.append(word2vec_1057.wv[i[0]])\n",
    "    second.append(word2vec_1057.wv[i[1]])\n",
    "new_df = pd.DataFrame({\"first\":first, \"second\":second})\n",
    "new_df.reset_index(inplace=True, drop=True)\n",
    "new_df.to_pickle(\"embedding_pickle_1057.csv\")"
   ]
  },
  {
   "cell_type": "code",
   "execution_count": 31,
   "metadata": {},
   "outputs": [],
   "source": [
    "word2vec_1057.save(\"word2vec_1057.model\")"
   ]
  },
  {
   "cell_type": "code",
   "execution_count": 32,
   "metadata": {},
   "outputs": [],
   "source": [
    "nodes = list(H_1057.nodes())\n",
    "universe_1057 = set([Pair(i) for i in itertools.product(nodes, nodes) if i[0]!=i[1]])"
   ]
  },
  {
   "cell_type": "code",
   "execution_count": 33,
   "metadata": {},
   "outputs": [],
   "source": [
    "with open('universe_1057.pickle', 'wb') as f:\n",
    "    pickle.dump(universe_1057, f)"
   ]
  },
  {
   "cell_type": "code",
   "execution_count": 34,
   "metadata": {},
   "outputs": [],
   "source": [
    "first = []\n",
    "second = []\n",
    "for i in H_1057.edges():\n",
    "    first.append(i[0])\n",
    "    second.append(i[1])"
   ]
  },
  {
   "cell_type": "code",
   "execution_count": 35,
   "metadata": {},
   "outputs": [],
   "source": [
    "new_df = pd.DataFrame({\"first\":first, \"second\":second})\n",
    "new_df.reset_index(inplace=True, drop=True)\n",
    "new_df.to_pickle(\"edges_original_1057.csv\")"
   ]
  },
  {
   "cell_type": "code",
   "execution_count": 36,
   "metadata": {},
   "outputs": [],
   "source": [
    "nx.write_graphml(H_1057,\"H_1057.graphml\")"
   ]
  },
  {
   "cell_type": "code",
   "execution_count": null,
   "metadata": {},
   "outputs": [],
   "source": []
  },
  {
   "cell_type": "markdown",
   "metadata": {},
   "source": [
    "-------------------------------------"
   ]
  }
 ],
 "metadata": {
  "kernelspec": {
   "display_name": "Python 3",
   "language": "python",
   "name": "python3"
  },
  "language_info": {
   "codemirror_mode": {
    "name": "ipython",
    "version": 3
   },
   "file_extension": ".py",
   "mimetype": "text/x-python",
   "name": "python",
   "nbconvert_exporter": "python",
   "pygments_lexer": "ipython3",
   "version": "3.8.8"
  }
 },
 "nbformat": 4,
 "nbformat_minor": 4
}
