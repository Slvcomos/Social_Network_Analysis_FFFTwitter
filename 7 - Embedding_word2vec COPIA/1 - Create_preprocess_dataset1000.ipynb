{
 "cells": [
  {
   "cell_type": "code",
   "execution_count": 1,
   "metadata": {},
   "outputs": [],
   "source": [
    "from stackapi import StackAPI\n",
    "import os\n",
    "import json\n",
    "import time\n",
    "import pandas as pd\n",
    "import numpy as np"
   ]
  },
  {
   "cell_type": "markdown",
   "metadata": {},
   "source": [
    "# 1 - Preprocess meanings"
   ]
  },
  {
   "cell_type": "code",
   "execution_count": 2,
   "metadata": {},
   "outputs": [],
   "source": [
    "path = '../Dati wiki/pulito_nodes.csv'"
   ]
  },
  {
   "cell_type": "code",
   "execution_count": 3,
   "metadata": {},
   "outputs": [],
   "source": [
    "df = pd.read_csv(path, error_bad_lines=False)"
   ]
  },
  {
   "cell_type": "code",
   "execution_count": 4,
   "metadata": {},
   "outputs": [
    {
     "data": {
      "text/html": [
       "<div>\n",
       "<style scoped>\n",
       "    .dataframe tbody tr th:only-of-type {\n",
       "        vertical-align: middle;\n",
       "    }\n",
       "\n",
       "    .dataframe tbody tr th {\n",
       "        vertical-align: top;\n",
       "    }\n",
       "\n",
       "    .dataframe thead th {\n",
       "        text-align: right;\n",
       "    }\n",
       "</style>\n",
       "<table border=\"1\" class=\"dataframe\">\n",
       "  <thead>\n",
       "    <tr style=\"text-align: right;\">\n",
       "      <th></th>\n",
       "      <th>Tag</th>\n",
       "      <th>Significati</th>\n",
       "    </tr>\n",
       "  </thead>\n",
       "  <tbody>\n",
       "    <tr>\n",
       "      <th>0</th>\n",
       "      <td>fridaysforfuture</td>\n",
       "      <td>School Strike for Climate Swedish, also known ...</td>\n",
       "    </tr>\n",
       "    <tr>\n",
       "      <th>1</th>\n",
       "      <td>climatestrike</td>\n",
       "      <td>School Strike for Climate Swedish, also known ...</td>\n",
       "    </tr>\n",
       "    <tr>\n",
       "      <th>2</th>\n",
       "      <td>climateaction</td>\n",
       "      <td>Climate action (or climate change action) refe...</td>\n",
       "    </tr>\n",
       "    <tr>\n",
       "      <th>3</th>\n",
       "      <td>climatecrisis</td>\n",
       "      <td>Climate crisis is a term describing global war...</td>\n",
       "    </tr>\n",
       "    <tr>\n",
       "      <th>4</th>\n",
       "      <td>climatechange</td>\n",
       "      <td>Contemporary climate change includes both glob...</td>\n",
       "    </tr>\n",
       "    <tr>\n",
       "      <th>...</th>\n",
       "      <td>...</td>\n",
       "      <td>...</td>\n",
       "    </tr>\n",
       "    <tr>\n",
       "      <th>312</th>\n",
       "      <td>krieg</td>\n",
       "      <td>Als Krieg wird ein organisierter und unter Ein...</td>\n",
       "    </tr>\n",
       "    <tr>\n",
       "      <th>313</th>\n",
       "      <td>astronaut</td>\n",
       "      <td>Ein Raumfahrer (auch Weltraumfahrer) ist ein T...</td>\n",
       "    </tr>\n",
       "    <tr>\n",
       "      <th>314</th>\n",
       "      <td>maurer</td>\n",
       "      <td>Ein Maurer ist ein Bauhandwerker, dessen namen...</td>\n",
       "    </tr>\n",
       "    <tr>\n",
       "      <th>315</th>\n",
       "      <td>wattenmeer</td>\n",
       "      <td>Wattenmeere (abgeleitet von Watt) sind bestimm...</td>\n",
       "    </tr>\n",
       "    <tr>\n",
       "      <th>316</th>\n",
       "      <td>schwerin</td>\n",
       "      <td>Schwerin ist die Landeshauptstadt von Mecklenb...</td>\n",
       "    </tr>\n",
       "  </tbody>\n",
       "</table>\n",
       "<p>317 rows × 2 columns</p>\n",
       "</div>"
      ],
      "text/plain": [
       "                  Tag                                        Significati\n",
       "0    fridaysforfuture  School Strike for Climate Swedish, also known ...\n",
       "1       climatestrike  School Strike for Climate Swedish, also known ...\n",
       "2       climateaction  Climate action (or climate change action) refe...\n",
       "3       climatecrisis  Climate crisis is a term describing global war...\n",
       "4       climatechange  Contemporary climate change includes both glob...\n",
       "..                ...                                                ...\n",
       "312             krieg  Als Krieg wird ein organisierter und unter Ein...\n",
       "313         astronaut  Ein Raumfahrer (auch Weltraumfahrer) ist ein T...\n",
       "314            maurer  Ein Maurer ist ein Bauhandwerker, dessen namen...\n",
       "315        wattenmeer  Wattenmeere (abgeleitet von Watt) sind bestimm...\n",
       "316          schwerin  Schwerin ist die Landeshauptstadt von Mecklenb...\n",
       "\n",
       "[317 rows x 2 columns]"
      ]
     },
     "execution_count": 4,
     "metadata": {},
     "output_type": "execute_result"
    }
   ],
   "source": [
    "df"
   ]
  },
  {
   "cell_type": "code",
   "execution_count": 5,
   "metadata": {},
   "outputs": [],
   "source": [
    "import re\n",
    "from nltk.corpus import stopwords\n",
    "from nltk.tokenize import word_tokenize\n",
    "from nltk.stem import WordNetLemmatizer\n",
    "import string"
   ]
  },
  {
   "cell_type": "code",
   "execution_count": 6,
   "metadata": {},
   "outputs": [],
   "source": [
    "tags = df['Tag']\n",
    "meaning = df['Significati']"
   ]
  },
  {
   "cell_type": "code",
   "execution_count": 7,
   "metadata": {},
   "outputs": [],
   "source": [
    "def clean_text(corpus):\n",
    "    clear_text = []\n",
    "    for phrase in corpus:\n",
    "        # Replace URL with the tag url\n",
    "        phrase = re.sub(\"https*\\S+\", \"url\", phrase)\n",
    "        # Remove strange characters\n",
    "        # &quot => \"\"\n",
    "        # &#39 => '\n",
    "        # &amp; => &\n",
    "        # &lt; => <\n",
    "        # &gt; => >\n",
    "        phrase = re.sub(\"&quot;|\\r|\\n\\|&#39|&amp;|&lt;|&gt;\", \"\", phrase)\n",
    "\n",
    "        # Punctuaction removal\n",
    "        phrase = re.sub('[%s]' % re.escape(string.punctuation), ' ', phrase)\n",
    "        # Replace numbers with the tag number\n",
    "        phrase = re.sub(\"\\d+\", \"number \", phrase)\n",
    "        # Convert to lowercase\n",
    "        phrase = phrase.lower()\n",
    "        # Replace the over spaces\n",
    "        phrase = re.sub('\\s{2,}', \" \", phrase)\n",
    "        clear_text.append([phrase])\n",
    "    return clear_text"
   ]
  },
  {
   "cell_type": "code",
   "execution_count": 8,
   "metadata": {},
   "outputs": [
    {
     "data": {
      "text/plain": [
       "<function __main__.clean_text(corpus)>"
      ]
     },
     "execution_count": 8,
     "metadata": {},
     "output_type": "execute_result"
    }
   ],
   "source": [
    "clean_text"
   ]
  },
  {
   "cell_type": "code",
   "execution_count": 9,
   "metadata": {},
   "outputs": [],
   "source": [
    "cleared_text = clean_text(meaning)"
   ]
  },
  {
   "cell_type": "code",
   "execution_count": 10,
   "metadata": {},
   "outputs": [
    {
     "data": {
      "text/plain": [
       "[['school strike for climate swedish also known variously as fridays for future fff youth for climate climate strike or youth strike for climate is an international movement of school students who skip friday classes to participate in demonstrations to demand action from political leaders to prevent climate change and for the fossil fuel industry to transition to renewable energy publicity and widespread organising began after swedish pupil greta thunberg staged a protest in august number outside of the swedish riksdag parliament holding a sign that read skolstrejk för klimatet school strike for climate a global strike on number march number gathered more than one million strikers in number number strikes organised in number countries on number may number in the second glo'],\n",
       " ['school strike for climate swedish also known variously as fridays for future fff youth for climate climate strike or youth strike for climate is an international movement of school students who skip friday classes to participate in demonstrations to demand action from political leaders to prevent climate change and for the fossil fuel industry to transition to renewable energy '],\n",
       " ['climate action or climate change action refers to a range of activities mechanisms policy instruments and so forth that aim to reduce the severity of human induced climate change and its impacts more climate action is a central demand of the climate movement '],\n",
       " ['climate crisis is a term describing global warming and climate change and their impacts the term has been used to describe the threat of global warming to the planet and to urge aggressive climate change mitigation '],\n",
       " ['contemporary climate change includes both global warming and its impacts on earth s weather patterns there have been previous periods of climate change but the current changes are distinctly more rapid and not due to natural causes '],\n",
       " ['climate emergency climate crisis a characterization of climate change climate emergency declaration a public declaration of a state of climate emergency'],\n",
       " ['fridays for future'],\n",
       " ['greta tintin eleonora ernman thunberg swedish born number january number is a swedish environmental activist who is known for challenging world leaders to take immediate action for climate change mitigation thunberg s activism began when she persuaded her parents to adopt lifestyle choices that reduced their own carbon footprint '],\n",
       " ['do online event climate strike '],\n",
       " [' climate justice is a concept that addresses the just division fair sharing and equitable distribution of the benefits and burdens of climate change and responsibilities to deal with climate change justice fairness and equity are not completely identical but they are in the same family of related terms and are often used interchangeably in negotiations and politics '],\n",
       " ['extinction rebellion abbreviated as xr is a global environmental movement with the stated aim of using nonviolent civil disobedience to compel government action to avoid tipping points in the climate system biodiversity loss and the risk of social and ecological collapse '],\n",
       " ['do somethings for clima immediately'],\n",
       " ['climate is the long term weather pattern in an area typically averaged over number years more rigorously it is the mean and variability of meteorological variables over a time spanning from months to millions of years some of the meteorological variables that are commonly measured are temperature humidity atmospheric pressure wind and precipitation in a broader sense climate is the state of the components of the climate system including the atmosphere the hydrosphere the cryosphere the lithosphere and the biosphere and the interactions between them '],\n",
       " ['school strike for climate swedish also known variously as fridays for future fff youth for climate climate strike or youth strike for climate is an international movement of school students who skip friday classes to participate in demonstrations to demand action from political leaders to prevent climate change and for the fossil fuel industry to transition to renewable energy '],\n",
       " ['day on which the event usually takes place motivation slogan fridays for future'],\n",
       " ['slogan fridays for future '],\n",
       " ['friday feeling vibes positive slogan'],\n",
       " ['do somethings for clima immediately act now '],\n",
       " ['global climate strike annual event a worldwide climate strike occurring on number november number in parallel to the number united nations climate change conference'],\n",
       " ['online strike on remote device pc phone digital'],\n",
       " ['things to do on friday day of the strike'],\n",
       " ['carbon dioxide chemical formula conumber is a chemical compound occurring as a colorless gas with a density about number higher than that of dry air carbon dioxide molecules consist of a carbon atom covalently double bonded to two oxygen atoms it occurs naturally in earth s atmosphere as a trace gas '],\n",
       " ['uproot the system is a more specific way of changing the system because to change the system we have to tackle it from the roots from the beginning and those roots are capitalism imperialism and more '],\n",
       " ['the number united nations climate change conference more commonly referred to as copnumber was the number th united nations climate change conference held at the sec centre in glasgow scotland united kingdom from number october to number november number the president of the conference was uk cabinet minister alok sharma '],\n",
       " ['sustainability is a societal goal that broadly aims for humans to safely co exist on planet earth over a long time specific definitions of sustainability are difficult to agree on and therefore vary in the literature and over time '],\n",
       " ['song slogan a promise is a statement which you make to a person in which you say that you will definitely do something or give them something '],\n",
       " ['friday vibes day event positive have positive energy '],\n",
       " ['increase people and not profits '],\n",
       " ['berlin is the capital and largest city of germany by both area and population its number number million inhabitants make it the european union s most populous city according to population within city limits one of germany s sixteen constituent states berlin is surrounded by the state of brandenburg and contiguous with potsdam brandenburg s capital '],\n",
       " ['take action to do something to prevent climate change '],\n",
       " ['coronavirus disease number covid number is a contagious disease caused by a virus the severe acute respiratory syndrome coronavirus number sars cov number the first known case was identified in wuhan china in december number the disease quickly spread worldwide resulting in the covid number pandemic '],\n",
       " ['natural environment all living and non living things occurring naturally biophysical environment the physical and biological factors along with their chemical interactions that affect an organism or a group of organisms'],\n",
       " ['india officially the republic of india hindi bhārat gaṇarājya is a country in south asia it is the seventh largest country by area the second most populous country and the most populous democracy in the world '],\n",
       " ['a little over number years ago world leaders made a commitment to keep the temperature rise due to the climate crisis within number number ºc or at least well below number hectares c by signing the paris agreement the european states promised to implement policies to reduce greenhouse gas production by up to number from number levels despite the fact that this objective is not satisfactory however we are a long way from achieving it so much so that many countries with fewer means and less responsibility on the part of the eu are working much harder to combat climate change '],\n",
       " ['green new deal gnd proposals call for public policy to address climate change along with achieving other social aims like job creation and reducing economic inequality the name refers back to the new deal a set of social and economic reforms and public works projects undertaken by president franklin d roosevelt in response to the great depression the green new deal combines roosevelt s economic approach with modern ideas such as renewable energy and resource efficiency '],\n",
       " ['carbon from latin carbo coal is a chemical element with the symbol c and atomic number number it is nonmetallic and tetravalent—making four electrons available to form covalent chemical bonds it belongs to group number of the periodic table carbon makes up only about number number percent of earth s crust '],\n",
       " ['nature in the broadest sense is the physical world or universe nature can refer to the phenomena of the physical world and also to life in general the study of nature is a large if not the only part of science although humans are part of nature human activity is often understood as a separate category from other natural phenomena the word nature is borrowed from the old french nature and is derived from the latin word natura or essential qualities innate disposition and in ancient times literally meant birth '],\n",
       " ['the energy transition is the ongoing process of replacing fossil fuels with low carbon energy sources more generally an energy transition is a significant structural change in an energy system regarding supply and consumption '],\n",
       " ['contemporary climate change includes both global warming and its impacts on earth s weather patterns there have been previous periods of climate change but the current changes are distinctly more rapid and not due to natural causes instead they are caused by the emission of greenhouse gases mostly carbon dioxide conumber and methane burning fossil fuels for energy use creates most of these emissions certain agricultural practices industrial processes and forest loss are additional sources as their name suggests these gases trap heat from sunlight near the earth’s surface warming it over time '],\n",
       " ['the number united nations climate change conference also known as copnumber was the number th united nations climate change conference it was held in madrid spain from number to number december number under the presidency of the chilean government '],\n",
       " ['solar energy is radiant light and heat from the sun that is harnessed using a range of technologies such as solar power to generate electricity solar thermal energy including solar water heating and solar architecture it is an essential source of renewable energy and its technologies are broadly characterized as either passive solar or active solar depending on how they capture and distribute solar energy or convert it into solar power active solar techniques include the use of photovoltaic systems concentrated solar power and solar water heating to harness the energy '],\n",
       " ['renewable energy is energy that is collected from renewable resources that are naturally replenished on a human timescale it includes sources such as sunlight wind rain tides waves and geothermal heat although most renewable energy sources are sustainable some are not '],\n",
       " ['energy is sustainable if it meets the needs of the present without compromising the ability of future generations to meet their own needs most definitions of sustainable energy include considerations of environmental aspects such as greenhouse gas emissions and social and economic aspects such as energy poverty'],\n",
       " ['coronaviruses are a group of related rna viruses that cause diseases in mammals and birds in humans and birds they cause respiratory tract infections that can range from mild to lethal mild illnesses in humans include some cases of the common cold which is also caused by other viruses predominantly rhinoviruses while more lethal varieties can cause sars mers and covid number which is causing an ongoing pandemic in cows and pigs they cause diarrhea while in mice they cause hepatitis and encephalomyelitis '],\n",
       " ['in physics energy is the quantitative property that is transferred to a body or to a physical system recognizable in the performance of work and in the form of heat and light energy is a conserved quantity the law of conservation of energy states that energy can be converted in form but not created or destroyed the unit of measurement in the international system of units si of energy is the joule which is the energy transferred to an object by the work of moving it a distance of one metre against a force of one newton '],\n",
       " ['pollution is the introduction of contaminants into the natural environment that cause adverse change pollution can take the form of any substance solid liquid or gas or energy such as radioactivity heat sound or light pollutants the components of pollution can be either foreign substances energies or naturally occurring contaminants although environmental pollution can be caused by natural events the word pollution generally implies that the contaminants have an anthropogenic source – that is a source created by human activities '],\n",
       " ['hamburg locally also officially the free and hanseatic city of hamburg german freie und hansestadt hamburg low saxon friee un hansestadt hamborg is the second largest city in germany after berlin as well as the overall number th largest city and largest non capital city in the european union with a population of over number number million'],\n",
       " ['science is a systematic enterprise that builds and organizes knowledge in the form of testable explanations and predictions about the universe the earliest roots in the history of science can be traced to ancient egypt and mesopotamia in around number to number bce their contributions to mathematics astronomy and medicine entered and shaped greek natural philosophy of classical antiquity whereby formal attempts were made to provide explanations of events in the physical world based on natural causes '],\n",
       " ['veganism is the practice of abstaining from the use of animal products particularly in diet and an associated philosophy that rejects the commodity status of animals an individual who follows the diet or philosophy is known as a vegan distinctions may be made between several categories of veganism '],\n",
       " [' art is a diverse range of human activity and resulting product that involves creative or imaginative talent expressive of technical proficiency beauty emotional power or conceptual ideas there is no generally agreed definition of what constitutes art and its interpretation has varied greatly throughout history and across cultures '],\n",
       " [' earth is the third planet from the sun and the only astronomical object known to harbor life while large volumes of water can be found throughout the solar system only earth sustains liquid surface water about number of earth s surface is made up of the ocean dwarfing earth s polar ice lakes and rivers the remaining number of earth s surface is land consisting of continents and islands '],\n",
       " ['the future is the time after the past and present its arrival is considered inevitable due to the existence of time and the laws of physics due to the apparent nature of reality and the unavoidability of the future everything that currently exists and will exist can be categorized as either permanent meaning that it will exist forever or temporary meaning that it will end'],\n",
       " ['wind is the natural movement of air or other gases relative to a planet s surface winds occur on a range of scales from thunderstorm flows lasting tens of minutes to local breezes generated by heating of land surfaces and lasting a few hours to global winds resulting from the difference in absorption of solar energy between the climate zones on earth '],\n",
       " ['angela dorothea merkel is a retired german politician and scientist who served as the chancellor of germany from number to number a member of the christian democratic union cdu she previously served as leader of the opposition from number to number and as leader of the christian democratic union from number to number '],\n",
       " ['a fossil fuel is a hydrocarbon containing material formed naturally in the earth s crust from the remains of dead plants and animals that is extracted and burned as a fuel the main fossil fuels are coal crude oil and natural gas fossil fuels may be burned to provide heat for use directly such as for cooking or heating to power engines such as internal combustion engines in motor vehicles or to generate electricity '],\n",
       " ['a planet is a large rounded astronomical body that is neither a star nor its remnant the best available theory of planet formation is the nebular hypothesis which posits that an interstellar cloud collapses out of a nebula to create a young protostar orbited by a protoplanetary disk planets grow in this disk by the gradual accumulation of material driven by gravity a process called accretion '],\n",
       " ['canada is a country in north america its ten provinces and three territories extend from the atlantic ocean to the pacific ocean and northward into the arctic ocean covering over number number million square kilometres number number million square miles making it the world s second largest country by total area its southern and western border with the united states stretching number number kilometres number number mi is the world s longest binational land border canada s capital is ottawa and its three largest metropolitan areas are toronto montreal and vancouver '],\n",
       " ['water chemical formula hnumber o is an inorganic transparent tasteless odorless and nearly colorless chemical substance which is the main constituent of earth s hydrosphere and the fluids of all known living organisms in which it acts as a solvent it is vital for all known forms of life even though it provides neither food energy nor organic micronutrients its chemical formula hnumber o indicates that each of its molecules contains one oxygen and two hydrogen atoms connected by covalent bonds the hydrogen atoms are attached to the oxygen atom at an angle of number number ° water is also the name of the liquid state of hnumber o at standard temperature and pressure '],\n",
       " ['the paris agreement french accord de paris often referred to as the paris accords or the paris climate accords is an international treaty on climate change adopted in number it covers climate change mitigation adaptation and finance the agreement was negotiated by number parties at the number united nations climate change conference near paris france '],\n",
       " ['milan us also lombard miˈlãː listen italian milano miˈlaːno listen is a city in northern italy capital of lombardy and the second most populous city proper in italy after rome the city proper has a population of about number number million while its metropolitan city has number number million inhabitants its continuously built up urban area whose outer suburbs extend well beyond the boundaries of the administrative metropolitan city and even stretch into the nearby country of switzerland is the fourth largest in the eu with number number million inhabitants '],\n",
       " ['a global catastrophic risk or a doomsday scenario is a hypothetical future event that could damage human well being on a global scale even endangering or destroying modern civilization an event that could cause human extinction or permanently and drastically curtail humanity s potential is known as an existential risk '],\n",
       " ['israel hebrew יִשְׂרָאֵל romanized yīsrāʾēl arabic إِسْرَائِيل romanized ʾisrāʾīl officially the state of israel מְדִינַת יִשְׂרָאֵל medīnat yīsrāʾēl دَوْلَة إِسْرَائِيل dawlat ʾisrāʾīl is a country in western asia it is situated on the southeastern shore of the mediterranean sea and the northern shore of the red sea and shares borders with lebanon to the north syria to the northeast jordan to the east and egypt to the southwest it is also bordered by the palestinian territories of the west bank and the gaza strip to the east and west respectively '],\n",
       " ['rome italian and latin roma ˈroːma listen is the capital city of italy it is also the capital of the lazio region the centre of the metropolitan city of rome and a special comune named comune di roma capitale with number number number residents in number number kmnumber number number sq mi number rome is the countrys most populated comune and the third most populous city in the european union by population within city limits '],\n",
       " ['the diesel engine named after rudolf diesel is an internal combustion engine in which ignition of the fuel is caused by the elevated temperature of the air in the cylinder due to mechanical compression thus the diesel engine is a so called compression ignition engine ci engine this contrasts with engines using spark plug ignition of the air fuel mixture such as a petrol engine gasoline engine or a gas engine using a gaseous fuel like natural gas or liquefied petroleum gas '],\n",
       " ['siemens ag german pronunciation ˈziːməns listen or mɛns is a german multinational conglomerate corporation and the largest industrial manufacturing company in europe headquartered in munich with branch offices abroad '],\n",
       " ['publicity and widespread organising began after swedish pupil greta thunberg staged a protest in august number outside of the swedish riksdag parliament holding a sign that read skolstrejk för klimatet school strike for climate a global strike on number march number gathered more than one million strikers in number number strikes organised in number countries on number may number in the second glo'],\n",
       " ['plastic pollution is the accumulation of plastic objects and particles e g plastic bottles bags and microbeads in the earth s environment that adversely affects humans wildlife and their habitat plastics that act as pollutants are categorized by size into micro meso or macro debris plastics are inexpensive and durable making them very adaptable for different uses as a result manufacturers choose to use plastic over other materials '],\n",
       " ['davos uk us german daˈfoːs or daˈvoːs listen romansh tavau archaic italian tavate is an alpine resort town and a municipality in the prättigau davos region in the canton of graubünden switzerland it has a permanent population of number number number davos is located on the river landwasser in the rhaetian alps between the plessur and albula ranges '],\n",
       " ['a sport utility vehicle or suv is a car classification that combines elements of road going passenger cars with features from off road vehicles such as raised ground clearance and four wheel drive '],\n",
       " ['atomkraft are an english speed metal band from newcastle who were part of the new wave of british heavy metal movement they formed in number disbanded number and reformed in number their total metal approach is somewhere between fellow nwobhm bands such as motörhead and venom punk rock bands such as the dickies and early exodus or slayer '],\n",
       " ['school strike for climate swedish skolstrejk för klimatet also known variously as fridays for future fff youth for climate climate strike or youth strike for climate is an international movement of school students who skip friday classes to participate in demonstrations to demand action from political leaders to prevent climate change and for the fossil fuel industry to transition to renewable energy '],\n",
       " ['the united kingdom of great britain and northern ireland commonly known as the united kingdom uk or britain is a sovereign country in europe off the north western coast of the continental mainland it comprises england wales scotland and northern ireland the united kingdom includes the island of great britain the north eastern part of the island of ireland and many smaller islands within the british isles '],\n",
       " ['a greenhouse gas ghg or ghg is a gas that absorbs and emits radiant energy within the thermal infrared range causing the greenhouse effect the primary greenhouse gases in earth s atmosphere are water vapor hnumber o carbon dioxide conumber methane chnumber nitrous oxide nnumber o and ozone onumber without greenhouse gases the average temperature of earth s surface would be about −number °c number °f rather than the present average of number °c number °f the atmospheres of venus mars and titan also contain greenhouse gases '],\n",
       " ['basilicata uk us italian baziliˈkaːta also known by its ancient name lucania also us italian luˈkaːnja is an administrative region in southern italy bordering on campania to the west apulia to the north and east and calabria to the south it has two coastlines a number km stretch on the tyrrhenian sea between campania and calabria and a longer coastline along the gulf of taranto between calabria and apulia the region can be thought of as the instep of italy with calabria functioning as the toe and apulia the heel '],\n",
       " ['london is the capital and largest city of england and the united kingdom with a population of just over number million it stands on the river thames in south east england at the head of a number mile number km estuary down to the north sea and has been a major settlement for two millennia the city of london its ancient core and financial centre was founded by the romans as londinium and retains boundaries close to its medieval ones '],\n",
       " ['wildlife refers to undomesticated animal species but has come to include all organisms that grow or live wild in an area without being introduced by humans wildlife was also synonymous to game those birds and mammals that were hunted for sport wildlife can be found in all ecosystems deserts plains grasslands woodlands forests and other areas including the most developed urban areas all have distinct forms of wildlife '],\n",
       " ['just transition is a framework developed by the trade union movement to encompass a range of social interventions needed to secure workers rights and livelihoods when economies are shifting to sustainable production primarily combating climate change and protecting biodiversity in europe advocates for a just transition want to unite social and climate justice for example for coal workers in coal dependent developing regions who lack employment opportunities beyond coal '],\n",
       " ['north rhine westphalia german nordrhein westfalen pronounced ˌnɔʁtʁaɪn vɛstˈfaːlən listen limburgish noordrien wesfale ˈnoːʀtʀiːn βæsˈfaːlə low german noordrhien westfalen kölsch noodrhing wäßßfaale commonly shortened to nrw german ɛnʔɛʁˈveː listen is a state land in western germany with more than number number million inhabitants it is the most populous state of germany apart from the city states it is also the most densely populated state in germany covering an area of number number square kilometres number number sq mi it is the fourth largest german state by size '],\n",
       " ['a flood is an overflow of water or rarely other fluids that submerges land that is usually dry in the sense of flowing water the word may also be applied to the inflow of the tide floods are an area of study of the discipline hydrology and are of significant concern in agriculture civil engineering and public health '],\n",
       " ['new york often called new york city nyc to distinguish it from the state of new york is the most populous city in the united states with a number population of number number number distributed over number number square miles number number kmnumber new york city is also the most densely populated major city in the united states located at the southern tip of the state of new york the city is the center of the new york metropolitan area the largest metropolitan area in the world by urban area '],\n",
       " ['shell plc is a british multinational oil and gas company headquartered in london england number shell is a public limited company with a primary listing on the london stock exchange lse and secondary listings on euronext amsterdam and the new york stock exchange it is one of the oil and gas supermajors and by revenue and profits is one of the largest companies in the world ranking within the top number of the fortune global number since number '],\n",
       " ['air pollution is the contamination of air due to the presence of substances in the atmosphere that are harmful to the health of humans and other living beings or cause damage to the climate or to materials there are many different types of air pollutants such as gases including ammonia carbon monoxide sulfur dioxide nitrous oxides methane carbon dioxide and chlorofluorocarbons particulates both organic and inorganic and biological molecules '],\n",
       " ['social justice is justice in terms of the distribution of wealth opportunities and privileges within a society in western and asian cultures the concept of social justice has often referred to the process of ensuring that individuals fulfill their societal roles and receive what was their due from society '],\n",
       " ['transport in british english or transportation in american english is the movement of humans animals and goods from one location to another in other words the action of transport is defined as a particular movement of an organism or thing from a point a a place in space to a point b '],\n",
       " ['in its most general sense the term world refers to the totality of entities to the whole of reality or to everything that is the nature of the world has been conceptualized differently in different fields some conceptions see the world as unique while others talk of a plurality of worlds '],\n",
       " ['in botany a tree is a perennial plant with an elongated stem or trunk usually supporting branches and leaves in some usages the definition of a tree may be narrower including only woody plants with secondary growth plants that are usable as lumber or plants above a specified height in wider definitions the taller palms tree ferns bananas and bamboos are also trees '],\n",
       " ['a circular economy also referred to as circularity and ce is a model of production and consumption which involves sharing leasing reusing repairing refurbishing and recycling existing materials and products as long as possible ce aims to tackle global challenges as climate change biodiversity loss waste and pollution by emphasizing the design based implementation of the three base principles of the model '],\n",
       " ['the number united nations climate change conference also known as copnumber was the number th united nations climate change conference it was held in madrid spain from number to number december number under the presidency of the chilean government '],\n",
       " ['hong kong chinese 香港 cantonese hœ́ːŋ kɔ̌ːŋ listen officially the hong kong special administrative region of the people s republic of china abbr hong kong sar or hksar is a city and special administrative region of china on the eastern pearl river delta in south china with number number million residents of various nationalities in a number number square kilometre number sq mi territory hong kong is one of the most densely populated places in the world hong kong is also a major global financial centre and one of the most developed cities in the world '],\n",
       " ['totalenergies se is a french multinational integrated energy and petroleum company founded in number and one of the seven supermajor oil companies its businesses cover the entire oil and gas chain from crude oil and natural gas exploration and production to power generation transportation refining petroleum product marketing and international crude oil and product trading '],\n",
       " ['the number united nations climate change conference more commonly referred to as copnumber was the number th united nations climate change conference held at the sec centre in glasgow scotland united kingdom from number october to number november number '],\n",
       " ['zero waste is a set of principles focused on waste prevention that encourages the redesign of resource life cycles so that all products are reused the goal is for no trash to be sent to landfills incinerators or the ocean '],\n",
       " ['lucknow hindustani ˈləkʰnəuː listen lakhnaū is the capital and the largest city of the indian state of uttar pradesh and it is also the second largest urban agglomeration in uttar pradesh lucknow is the administrative headquarters of the eponymous district and division '],\n",
       " ['europe is a continent also recognised as a part of eurasia located entirely in the northern hemisphere and mostly in the eastern hemisphere comprising the westernmost peninsulas of eurasia number it shares the continental landmass of afro eurasia with both asia and africa it is bordered by the arctic ocean to the north the atlantic ocean to the west the mediterranean sea to the south and asia to the east '],\n",
       " ['animals are multicellular eukaryotic organisms in the biological kingdom animalia with few exceptions animals consume organic material breathe oxygen are able to move can reproduce sexually and go through an ontogenetic stage in which their body consists of a hollow sphere of cells the blastula during embryonic development '],\n",
       " ['governo is a winemaking technique reportedly invented in tuscany in the number th century to help complete fermentation and stabilize the wine the technique involves saving a batch of harvested grapes and allowing them to partially dry '],\n",
       " ['evs first came into existence in the mid number th century when electricity was among the preferred methods for motor vehicle propulsion providing a level of comfort and ease of operation that could not be achieved by the gasoline cars of the time '],\n",
       " ['chile officially the republic of chile is a country in the western part of south america it is the southernmost country in the world and the closest to antarctica occupying a long and narrow strip of land between the andes to the east and the pacific ocean to the west '],\n",
       " ['the united nations un is an intergovernmental organization whose purposes are to maintain international peace and security develop friendly relations among nations achieve international cooperation and be a centre for harmonizing the actions of nations it is the world s largest and most familiar international organization'],\n",
       " ['scientists community for the best future research university slogan'],\n",
       " ['day on which the event usually takes exactly slogan fridays for future '],\n",
       " ['stop use coal mineral extraction strike'],\n",
       " ['going vegan is a great opportunity to learn more about nutrition and cooking and improve your diet getting your nutrients from plant foods allows more room in your diet for health promoting options like whole grains fruit nuts seeds and vegetables which are packed full of beneficial fibre vitamins and minerals '],\n",
       " ['slogan fridays for future parents must work to help young people improve the future against the climate crisis'],\n",
       " ['the term biodiversity from “biological diversity” refers to the variety of life on earth at all its levels from genes to ecosystems and can encompass the evolutionary ecological and cultural processes that sustain life '],\n",
       " ['hambach forest german hambacher wald hambacher forst german pronunciation bürgewald die bürge is an ancient forest located near buir in north rhine westphalia western germany between cologne and aachen it was planned to be cleared as part of the hambach surface mine by owner rwe ag there were protests and occupations from number against this and in number a law was passed to preserve it '],\n",
       " ['we must energize plan a for action to make the one planet we have safe and productive for future generations — with job creation not loss with higher not lower standards of living all over the world no planet b is an increasingly heard call for action '],\n",
       " ['used to express indignation and shock at another person s actions '],\n",
       " ['title song of copnumber greta thunberg '],\n",
       " ['tired earth is an international environmental group trying to improve awareness and increase the hope for a shiny future '],\n",
       " ['defenddefenders is the east and horn of africa human rights defenders project we seek to strengthen the work of human rights defenders hrds throughout the region by reducing their vulnerability to the risk of persecution and by enhancing their capacity to effectively defend human rights '],\n",
       " ['is a global coalition of networks and organizations campaigning for climate justice the coalition was founded at the number '],\n",
       " ['is a famous slogan of friday for future to say that it is important to save our planet because if we do not save it soon will face destruction'],\n",
       " ['a protest in which people refuse to go to work or school as a way of drawing attention to climate change and demanding action from governments '],\n",
       " ['create an eco comic book to inspire other kids to take climate action '],\n",
       " ['event in which the fridays for future movement made a protest against the conduct of the blackfriday'],\n",
       " ['twitter page of democrats we are a grassroots organization dedicated to help democratic candidates stay in the office and to get elected in the first place '],\n",
       " ['surname of greta thunberg'],\n",
       " ['the european union eu is a political and economic union of number member states that are located primarily in europe the union has a total area of and an estimated total population of about number million an internal single market has been established through a standardised system of laws that apply in all member states in those matters and only those matters where the states have agreed to act as one'],\n",
       " ['global event for climate strike'],\n",
       " ['black lives matter abbreviated blm is a decentralized political and social movement that seeks to highlight racism discrimination and inequality experienced by black people when its supporters come together they do so primarily to protest incidents of police brutality and racially motivated violence against black people it started following the killings of trayvon martin michael brown eric garner pamela turner and rekia boyd among others the movement and its related organizations typically advocate for various policy changes considered to be related to black liberation while there are specific organizations that label themselves simply as black lives matter such as the black lives matter global network the overall movement is a decentralized network of people and organizat'],\n",
       " ['love encompasses a range of strong and positive emotional and mental states from the most sublime virtue or good habit the deepest interpersonal affection to the simplest pleasure an example of this range of meanings is that the love of a mother differs from the love of a spouse which differs from the love for food most commonly love refers to a feeling of a strong attraction and emotional attachment love is considered to be both positive and negative with its virtue representing human kindness compassion and affection as the unselfish loyal and benevolent concern for the good of another and its vice representing human moral flaw akin to vanity selfishness amour propre and egotism as potentially leading people into a type of mania obsessiveness or codependency'],\n",
       " ['gas is one of the four fundamental states of matter the others being solid liquid and plasma a pure gas may be made up of individual atoms e g a noble gas like neon elemental molecules made from one type of atom e g oxygen or compound molecules made from a variety of atoms e g carbon dioxide a gas mixture such as air contains a variety of pure gases what distinguishes a gas from liquids and solids is the vast separation of the individual gas particles this separation usually makes a colourless gas invisible to the human observer '],\n",
       " ['earth day is an annual event on april number to demonstrate support for environmental protection first held on april number number it now includes a wide range of events coordinated globally by earthday org formerly earth day network including number billion people in more than number countries the official theme for number is invest in our planet in number at a unesco conference in san francisco peace activist john mcconnell proposed a day to honor the earth and the concept of peace to first be observed on march number number the first day of spring in the northern hemisphere '],\n",
       " ['climate deniers frolic freely in this virtual world as keyboard outlaws who scour google for blogs memes doctored graphs and youtube videos'],\n",
       " ['donald john trump born june number number is an american politician media personality and businessman who served as the number th president of the united states from number to number trump graduated from the wharton school of the university of pennsylvania with a bachelor s degree in number he became president of his father fred trump s real estate business in number and renamed it the trump organization '],\n",
       " [' innovation is the practical implementation of ideas that result in the introduction of new goods or services or improvement in offering goods or services iso tc number in the standard iso number number defines innovation as a new or changed entity realizing or redistributing value others have different definitions a common element in the definitions is a focus on newness improvement and spread of ideas or technologies '],\n",
       " ['be against the nazis'],\n",
       " ['the definition of climate is the weather of a location over time or the environment or mood '],\n",
       " ['an end to dirty and harmful energy a fulfillment of peoples rights to energy for their basic needs a swift change to public and community renewable and clean energy an end to the excessive and wasteful energy consumption by corporations and elites '],\n",
       " ['systemic change is generally understood to require adjustments or transformations in the policies practices power dynamics social norms or mindsets that underlie the societal issue at stake'],\n",
       " ['earth strike is an international grassroots movement that called for a global general strike for climate action their aim was a global general strike lasting from number until number september number '],\n",
       " ['photography is the art application and practice of creating durable images by recording light either electronically by means of an image sensor or chemically by means of a light sensitive material such as photographic film it is employed in many fields of science manufacturing e g photolithography and business as well as its more direct uses for art film and video production recreational purposes hobby and mass communication typically a lens is used to focus the light reflected or emitted from objects into a real image on the light sensitive surface inside a camera during a timed exposure'],\n",
       " ['bristol youth strike number climate abbreviated as bysnumber c is an environmental advocacy group that was established in february number in response to the international fridays for future and youth strike number climate movements '],\n",
       " ['the comic summarizes some basic facts about climate change and the history of international treaties on climate but with some clever page'],\n",
       " ['ecology clean future environment without pollution '],\n",
       " ['australia officially the commonwealth of australia is a sovereign country comprising the mainland of the australian continent the island of tasmania and numerous smaller islands with an area of number number number square kilometres australia is the largest country by area in oceania and the world s sixth largest country australia is the oldest flattest and driest inhabited continent with the least fertile soils it is a megadiverse country and its size gives it a wide variety of landscapes and climates with deserts in the centre tropical rainforests in the north east and mountain ranges in the south east '],\n",
       " ['school strike for climate swedish skolstrejk för klimatet also known variously as fridays for future fff youth for climate climate strike or youth strike for climate is an international movement of school students who skip friday classes to participate in demonstrations to demand action from political leaders to prevent climate change and for the fossil fuel industry to transition to renewable energy '],\n",
       " ['food is any substance consumed to provide nutritional support for an organism food is usually of plant animal or fungal origin and contains essential nutrients such as carbohydrates fats proteins vitamins or minerals the substance is ingested by an organism and assimilated by the organism s cells to provide energy maintain life or stimulate growth different species of animals have different feeding behaviours that satisfy the needs of their unique metabolisms often evolved to fill a specific ecological niche within specific geographical contexts '],\n",
       " ['technology is the result of accumulated knowledge and application of skills methods and processes used in industrial production and scientific research technology is embedded in the operation of all machines with or without detailed knowledge of their function for the intended purpose of an organization the technologies of society consist of what is known as systems systems operate by obtaining an input altering this input through what is known as a process and then producing an outcome that achieves the intended purpose of the system'],\n",
       " ['sustainability is a societal goal that broadly aims for humans to safely co exist on planet earth over a long time specific definitions of sustainability are difficult to agree on and therefore vary in the literature and over time sustainability is commonly described along the lines of three dimensions also called pillars environmental economic and social this concept can be used to guide decisions at the global national and at the individual level e g sustainable living '],\n",
       " ['energy is sustainable if it meets the needs of the present without compromising the ability of future generations to meet their own needs most definitions of sustainable energy include considerations of environmental aspects such as greenhouse gas emissions and social and economic aspects such as energy poverty renewable energy sources such as wind hydroelectric power solar and geothermal energy are generally far more sustainable than fossil fuel sources however some renewable energy projects such as the clearing of forests to produce biofuels can cause severe environmental damage '],\n",
       " ['life is a characteristic that distinguishes physical entities that have biological processes such as signaling and self sustaining processes from those that do not either because such functions have ceased they have died or because they never had such functions and are classified as inanimate various forms of life exist such as plants animals fungi protists archaea and bacteria biology is the science that studies life '],\n",
       " ['the weekdays and weekend are the complementary parts of the week devoted to labour and rest respectively the legal weekdays british english or workweek american english is the part of the seven day week devoted to working in most of the world the workweek is from monday to friday and the weekend is saturday and sunday a weekday or workday is any day of the working week other institutions often follow this pattern such as places of education'],\n",
       " ['an electric vehicle ev is a vehicle that uses one or more electric motors for propulsion it can be powered by a collector system with electricity from extravehicular sources or it can be powered autonomously by a battery sometimes charged by solar panels or by converting fuel to electricity using fuel cells or a generator evs include but are not limited to road and rail vehicles surface and underwater vessels electric aircraft and electric spacecraft '],\n",
       " ['coal is a combustible black or brownish black sedimentary rock formed as rock strata called coal seams coal is mostly carbon with variable amounts of other elements chiefly hydrogen sulfur oxygen and nitrogen coal is formed when dead plant matter decays into peat and is converted into coal by the heat and pressure of deep burial over millions of years vast deposits of coal originate in former wetlands—called coal forests—that covered much of the earth s tropical land areas during the late carboniferous pennsylvanian and permian times however many significant coal deposits are younger than this and originate from the mesozoic and cenozoic eras '],\n",
       " ['germany german deutschland pronounced by formality the federal republic of germany is a country in central europe it is the second most populous country in europe after russia and the most populous member state of the european union germany is situated between the baltic and north seas to the north and the alps to the south it covers an area of number number square kilometres number number sq mi with a population of over number million within its number constituent states germany borders denmark to the north poland and the czech republic to the east '],\n",
       " ['climate breakdown is the most recent term for what was previously known as global warming that the average temperature of the earth is continuing to rise or climate change that the global climate has changed in an unprecedented manner '],\n",
       " ['the united states of america u s a or usa commonly known as the united states u s or us or america is a transcontinental country primarily located in north america it consists of number states a federal district five major unincorporated territories number indian reservations and nine minor outlying islands it is the third largest country by both land and total area '],\n",
       " ['electricity is the set of physical phenomena associated with the presence and motion of matter that has a property of electric charge electricity is related to magnetism both being part of the phenomenon of electromagnetism as described by maxwell s equations various common phenomena are related to electricity including lightning static electricity electric heating electric discharges and many others '],\n",
       " ['publicity and widespread organising began after swedish pupil greta thunberg staged a protest in august number outside of the swedish riksdag parliament holding a sign that read skolstrejk för klimatet school strike for climate a global strike on number march number gathered more than one million strikers in number number strikes organised in number countries '],\n",
       " ['very pleasant'],\n",
       " ['in public health social distancing also called physical distancing is a set of non pharmaceutical interventions or measures intended to prevent the spread of a contagious disease by maintaining a physical distance between people and reducing the number of times people come into close contact with each other it usually involves keeping a certain distance from others the distance specified differs from country to country and can change with time and avoiding gathering together in large groups by minimising the probability that a given uninfected person will come into physical contact with an infected person the disease transmission can be suppressed resulting in fewer deaths '],\n",
       " ['a plant based diet consists of all minimally processed fruits vegetables whole grains legumes nuts and seeds herbs and spices and excludes all animal products including red meat poultry fish eggs and dairy products '],\n",
       " ['he hashtag was popularized by teenage activist greta thunberg and quickly evolved into a digital movement calling attention to the upcoming cap reform vote taking place in the european parliament every seven years the cap faces a new reform and this proposed reform was met with outrage as many felt that the policy was unambitious in its environmental targets and overall sustainability and equitability efforts '],\n",
       " ['is the capital and most populous city of spain the city has almost number number million inhabitants and a metropolitan area population of approximately number number million it is the second largest city in the european union'],\n",
       " ['ecocide is human impact on the environment causing mass destruction to that environment ten nations have codified ecocide as a crime activities that might constitute ecocide in these nations include substantially damaging or destroying ecosystems or harming the health and well being of a species including humans it has been proposed that ecocide be a crime punishable by the international criminal court '],\n",
       " ['greenpeace is an independent global campaigning network the network comprises number independent national regional organisations in over number countries across europe the americas africa asia and the pacific as well as a co ordinating body greenpeace international based in amsterdam the netherlands greenpeace was founded in canada in number by irving and dorothy stowe immigrant environmental activists from the united states greenpeace states its goal is to ensure the ability of the earth to nurture life in all its diversity and focuses its campaigning on worldwide issues such as climate change deforestation overfishing commercial whaling genetic engineering and anti nuclear issues it uses direct action lobbying research and ecotage to achieve its goals the global network does'],\n",
       " ['have fun on the day when strikes are carried out'],\n",
       " ['a city of southern ontario canada north of georgian bay it grew as a lumbering and mining center '],\n",
       " ['in other words our climate can t afford any new fossil fuel development that s why since number the center has campaigned to keep it in the ground — to stop the expansion of oil gas and coal development on public lands and oceans by halting new leasing and permitting '],\n",
       " ['have positive feelings on the weekend '],\n",
       " ['matters because it forces people to work with and protect communities bearing the brunt of devastating hurricanes and accompanying flooding disproportionate exposures to toxic substances chronic flooding premature deaths chronic illnesses and more '],\n",
       " ['help amazonia during the forest fire'],\n",
       " ['the bynumber weriseup campaign has come to a close at the end of number thank you to each and everyone who has been a part of this campaign all over europe whether you were attending one of the seven european strategy conferences taking action on the ground or doing reproductive background work it couldn’t have been done without you love and rage to all of you read about the ending of the campaign here '],\n",
       " ['\\ncut off from the economic sector companies that pollute without respecting any rules and without repairing the damage done'],\n",
       " ['the time to manage to save the way is limited and you have to act quickly before it is too late'],\n",
       " ['carry out a climate march in which you try to raise awareness about this important issue'],\n",
       " ['used to say that one is being honest and admitting something to tell the truth i liked her first book better to tell you the truth i don t remember when i saw her last '],\n",
       " ['world environment day wed is celebrated annually on number june and is the united nations principal vehicle for encouraging awareness and action for the protection of the environment '],\n",
       " ['an ambitious system wide strategy to guide the united nations and its partners to work meaningfully with and for young people around the world '],\n",
       " ['we are the only ones who can make the change and do something to make things better'],\n",
       " ['earth overshoot day marks the date when humanity has used all the biological resources that earth regenerates during the entire year '],\n",
       " ['deep strike is used to denote the way certain troops can arrive in battle it can be achieved via various means'],\n",
       " ['it is really urgent to do something about the plant and slow down the catastrophes brought about by climate change'],\n",
       " ['s the second largest city and municipality in the netherlands it is in the province of south holland at the mouth of the nieuwe maas channel leading into the rhine–meuse–scheldt delta at the north sea its history goes back to number when a dam was constructed in the rotte in number rotterdam was granted city rights by william iv count of holland the rotterdam–the hague metropolitan area with a population of approximately number number million is the number th largest in the european union and the most populous in the country'],\n",
       " ['the people with common interests living in a particular area broadly the area itself the problems of a large community'],\n",
       " ['a domesticated carnivorous mammal that typically has a long snout an acute sense of smell non retractable claws and a barking howling or whining voice'],\n",
       " ['teach a person or animal a particular skill or type of behaviour through practice and instruction over a period of time '],\n",
       " ['all living things that are found in the sea\\nthe effects of pollution on marine life'],\n",
       " ['advent advocacy are here to support you they work on your behalf to support you and act as your advocates if there s anything that you need help with'],\n",
       " ['he highest legislature consisting of the sovereign the house of lords and the house of commons '],\n",
       " ['tell the events that occurred during the friday strikes'],\n",
       " ['resistance are the people acting to do something about climate change'],\n",
       " ['take action to stop open pit coal mining in the eastern slopes a collection of resources for understanding the impact of open pit coal mining in alberta '],\n",
       " ['saving forests from deforestation fires and pollution'],\n",
       " ['love our land because this is the only one we have'],\n",
       " ['the main goal of the day is to raise awareness of the growing harm that the use of this non biodegradable substance is causing to the environment'],\n",
       " ['a warm blooded egg laying vertebrate animal distinguished by the possession of feathers wings a beak and typically by being able to fly '],\n",
       " ['hristian feast day honoring all the saints'],\n",
       " ['finding solutions to climate change'],\n",
       " ['false information which is intended to mislead especially propaganda issued by a government organization to a rival power or the media '],\n",
       " ['that first meal of the day is more commonly known as breakfast if you divide this compound word into two parts you ll see it s made up of “break and “fast to fast means to go without food so “breakfast means to break the fast you ve been observing since you went to sleep the night before'],\n",
       " ['stop the use of coal plants that are scattered around the world do not use coal as ore '],\n",
       " ['morning glory as slang for the sort of erection that a man gets while still hitting the snooze button is recorded in the number s it also goes by morning wood and the alliterative breakfast boner '],\n",
       " ['a gesture in which the palm of one s hand is brought to one s face as an expression of dismay exasperation embarrassment '],\n",
       " ['growing vigorously especially with luxuriant foliage '],\n",
       " ['strike to be carried out during the event '],\n",
       " ['the number agenda is a continuation of the un millennium development goals number number which were in their day the first international consensus on facing global problems such as the eradication of extreme poverty and hunger and to promote improvements in access to education although the targets were not fully achieved they nevertheless provided the basis for significant progress which in number was extended through the number agenda and its respective sdgs '],\n",
       " ['the masks were used because of covidnumber to prevent the spread of infection they turn out to be polluting'],\n",
       " ['help colombia'],\n",
       " ['to become warm or hot'],\n",
       " ['an aspect or quality such as resemblance that connects two or more things or parts as being or belonging or working together or as being of the same kind the referring by a legal fiction of an act to a prior date as the time of its taking effect —usually used with back'],\n",
       " ['is the capital number and largest city of japan its metropolitan area is the most populous in the world originally a fishing village named edo the city became a prominent political center in number when it became the seat of the tokugawa shogunate by the mid number th century edo was one of the most populous cities in the world at over one million following the end of the shogunate in number the imperial capital in kyoto was moved to the city which was renamed tokyo literally eastern capital tokyo was devastated by the number great kantō earthquake and again by allied bombing raids during world war ii beginning in the number s the city underwent rapid reconstruction and expansion going on to lead japan s post war economic recovery since number the tokyo metropolitan government has administered the prefecture s number special wards formerly tokyo city various bed towns and suburbs in the western area and two outlying island chains '],\n",
       " [' the season between summer and winter comprising in the northern hemisphere usually the months of september october and november or as reckoned astronomically extending from the september equinox to the december solstice'],\n",
       " ['island of southern italy in the mediterranean constituting a region with palermo as its capital'],\n",
       " ['the act or process of motivating'],\n",
       " ['most productive of good offering or producing the greatest advantage utility or satisfaction'],\n",
       " ['avoid finding a coal substitute that is similar to it and pollutes'],\n",
       " ['stop using the gas '],\n",
       " ['make social change to improve the world'],\n",
       " ['an individual human a man belonging to a particular category as by birth residence membership or occupation —usually used in combination'],\n",
       " ['is a seaport city on the west coast of the united states it is the seat of king county washington is the largest city in both the state of washington and the pacific northwest region of north america the seattle metropolitan area s population is number number million making it the number th largest in the united states its growth rate of number number between number and number makes it one of the nation s fastest growing large cities '],\n",
       " ['is a city and comune in tuscany central italy straddling the arno just before it empties into the ligurian sea it is the capital city of the province of pisa although pisa is known worldwide for its leaning tower the city contains more than twenty other historic churches several medieval palaces and bridges across the arno much of the city s architecture was financed from its history as one of the italian maritime republics '],\n",
       " ['a device made usually of two movable rails and necessary connections and designed to turn a locomotive or train from one track to another'],\n",
       " ['people regarded as the inhabitants of this world as opposed to the spiritual or supernatural realm human beings '],\n",
       " ['event cancelled '],\n",
       " ['water falling in drops condensed from vapor in the atmosphere'],\n",
       " ['event carried out before the start of the main event concerning the holding of copnumber '],\n",
       " ['eine hitzewelle ist in meteorologie und klimatologie eine ungew”hnlich lange phase aufeinander folgender ungew”hnlich heiáer tage etwas abgeschw„cht spricht man auch von w„rmewelle f\\x81r phasen abnorm hoher temperaturen hitzewellen sind extremwetterereignisse die die menschliche gesundheit die ™kosysteme und die infrastruktur sch„digen k”nnen '],\n",
       " ['eine laufzeitverl„ngerung deutscher kernkraftwerke wurde gefordert nachdem im jahr number erstmals ein atomausstieg vereinbart worden war im herbst number wurden die reststrommenge verl„ngert aber angesichts der nuklearkatastrophe von fukushima wurden im sommer einige „ltere kernkraftwerke stillgelegt die abschaltung der modernen reaktoren wurde bis ende number festgeschrieben '],\n",
       " ['ein kernkraftwerk kkw auch atomkraftwerk akw ist ein w„rmekraftwerk zur gewinnung elektrischer energie aus kernenergie durch kontrollierte kernspaltung fission '],\n",
       " ['l\\x81tzerath ist ein weiler der stadt erkelenz in nordrhein westfalen der energieversorgungskonzern rwe plant l\\x81tzerath vollst„ndig abzureiáen um den tagebau garzweiler auszudehnen wie schon den unmittelbar s\\x81d”stlich gelegenen nachbarort immerath die umsiedlung des ortes begann number und h„tte nach vorherigen pl„nen des unternehmens im september number abgeschlossen sein sollen wogegen sich bis heute widerstand regt in anlehnung an das wort hambi das sich im hinblick auf die protestaktionen im hambacher forst gebildet hatte entstand unter dort agierenden aktivisten f\\x81r den ort der name l\\x81tzi seit number wird in der bundes und landespolitik vermehrt \\x81ber den erhalt des dorfes diskutiert '],\n",
       " [' die alternative f\\x81r deutschland kurzbezeichnung afd ist eine rechtspopulistische und rechtsextreme politische partei in deutschland sie wurde number als eu skeptische und rechtsliberale partei gegr\\x81ndet im juli number spaltete sich unter bernd lucke ein wirtschaftsliberaler fl\\x81gel ab und formierte sich als partei allianz f\\x81r fortschritt und aufbruch alfa w„hrend sich der \\x81berwiegende rest der partei unter frauke petry und j”rg meuthen deutlich nach rechts entwickelte '],\n",
       " ['entkriminalisierung ist ein in der rechtspolitischen diskussion und der strafrechtsreform gebrauchter begriff entkriminalisierung setzt logischerweise voraus dass eine verhaltensweise kriminalisiert ist der vorgang der kriminalisierung stellt das gegenst\\x81ck zur entkriminalisierung dar die forderung nach entkriminalisierung geht dahin bestimmte verhaltensweisen nicht mehr mit strafe und der damit verbundenen besonderen missbilligung durch die rechtsgemeinschaft zu belegen'],\n",
       " ['karlsruhe aussprache ka ls u lokal s\\x81dfr„nkisch kallsruh ist mit number number einwohnern number dezember number nach der landeshauptstadt stuttgart und mannheim die drittgr”áte stadt des landes baden w\\x81rttemberg sie ist verwaltungssitz des regierungsbezirks karlsruhe und des landkreises karlsruhe und bildet selbst einen stadtkreis kreisfreie stadt die stadt ist oberzentrum f\\x81r die region mittlerer oberrhein und l„nder\\x81bergreifend f\\x81r teile der s\\x81dpfalz'],\n",
       " ['olaf scholz number juni number in osnabr\\x81ck ist ein deutscher politiker spd er ist seit dem number dezember number der neunte bundeskanzler der bundesrepublik deutschland'],\n",
       " ['bundeskanzler deutschland deutscher regierungschef'],\n",
       " ['den begriff hitze verwendet man f\\x81r eine als ungew”hnlich hoch empfundene temperatur'],\n",
       " ['klimaschutz ist der sammelbegriff f\\x81r maánahmen die der durch den menschen verursachten globalen erw„rmung entgegenwirken und m”gliche folgen der globalen erw„rmung abmildern mitigation oder verhindern sollen'],\n",
       " ['unter einem passivhaus wird ein geb„ude verstanden das aufgrund seiner hohen w„rmed„mmung und dem funktionsprinzip mittels w„rmetauscher l\\x81ftungsw„rmeverluste signifikant zu reduzieren in der regel keine klassische wassergef\\x81hrte geb„udeheizung ben”tigt'],\n",
       " ['kernkraft als physikalischer begriff bezeichnet die elektrische energieerzeugung durch kernreaktionen siehe kernenergie die restwechselwirkung der starken wechselwirkung als schwache kernkraft die schwache wechselwirkungsiehe auch kernkraft number lied des deutschen electronic projekts zombie nation number '],\n",
       " ['als ”ffentlicher personennahverkehr ™pnv wird der personenverkehr als teil des ”ffentlichen verkehrs ™v im rahmen der grundversorgung auf straáe schiene wasser und mittels luftseilbahn bezeichnet trotz des begriffs ”ffentlicher personennahverkehr ist dieser nicht nur im nahverkehr sondern teils auch im regionalverkehr anzutreffen der begriff grenzt sich jeweils ab vom individualverkehr nicht ”ffentlich g\\x81terverkehr nicht personen und fernverkehr nicht nahverkehr '],\n",
       " ['magdeburg makd b k regiolektal auch maxd b ‡ niederdeutsch meideborg ma deb x ist die hauptstadt des landes sachsen anhalt die stadt liegt an der elbe und ist eines der drei oberzentren des landes'],\n",
       " ['robert habeck number september number in l\\x81beck ist ein deutscher politiker b\\x81ndnis number die gr\\x81nen und schriftsteller er ist seit dem number dezember number der stellvertreter des bundeskanzlers sowie bundesminister f\\x81r wirtschaft und klimaschutz im kabinett scholz'],\n",
       " ['ein beruflicher wiedereinstieg ist eine wiederaufnahme einer erwerbst„tigkeit nach einer beruflichen auszeit der anlass f\\x81r die auszeit kann dabei etwa eine krankheit eine erziehungsphase oder elternzeit eine phase von arbeitslosigkeit oder ein sabbaticals gewesen sein entsprechend kann es sein dass w„hrend der dauer der beruflichen auszeit krankengeld elterngeld oder arbeitslosengeld bezogen wurde'],\n",
       " ['als handwerk von mittelhochdeutsch hant werc eine lehn\\x81bersetzung zu lateinisch opus manuum und altgriechisch cheirurg¡a handarbeit werden zahlreiche gewerbliche t„tigkeiten bezeichnet die produkte meist auf bestellung fertigen oder dienstleistungen auf nachfrage erbringen'],\n",
       " ['klimakatastrophe ist der begriff f\\x81r einen klimawandel mit weltweiten katastrophalen wirkungen dazu geh”rt auch eine unkontrollierte globale erw„rmung etwa als treibhaus erde szenario besonders in den massenmedien verwendet man den begriff oft als deutungsrahmen f\\x81r bef\\x81rchtete folgen des menschengemachten klimawandels'],\n",
       " ['klimawandel auch klimaver„nderung klima„nderung oder klimawechsel ist eine weltweit auftretende ver„nderung des klimas auf der erde oder erd„hnlichen planeten oder monden die eine atmosph„re besitzen die mit einem klimawandel verbundene abk\\x81hlung oder erw„rmung kann \\x81ber unterschiedlich lange zeitr„ume erfolgen'],\n",
       " ['klimarat steht f\\x81r expertenrat f\\x81r klimafragen ein gremium der deutschen bundesregierung committee on climate change in groábritannien vereinigtes k”nigreich hoher rat f\\x81r das klima ein franz”sisches gremium intergovernmental panel on climate change ipcc im deutschen oft als weltklimarat bezeichnet europ„ische umweltagentur wissenschaftlicher beirat f\\x81r klimawandel ein im rahmen des europ„ischen klimagesetzes eingerichteter beirat an der eua klimarat der b\\x81rgerinnen und b\\x81rger in ™sterreich ein von der regierung eingesetztes b\\x81rgerforum b\\x81rgerrat klima eine b\\x81rgerversammlung zur deutschen klimapolitik'],\n",
       " ['das klima ist der mit meteorologischen methoden ermittelte durchschnitt der dynamischen prozesse in der erdatmosph„re als zusammenfassung der wettererscheinungen kleinr„umiger ™rtlichkeiten meso beziehungsweise regionalklima oder bezogen auf kontinentale dimensionen makroklima einschlieálich aller schwankungen im jahresverlauf und basierend auf einer vielzahl von klimaelementen'],\n",
       " ['rassismus ist eine ideologie nach der menschen aufgrund „uáerlicher merkmale oder negativer fremdzuschreibungen die \\x81bertrieben naturalisiert oder stereotypisiert werden als rasse volk oder ethnie kategorisiert und ausgegrenzt werden bis ins number jahrhundert wurden dazu vor allem aufgrund biologischer merkmale hautfarbe formen von gesicht und k”rper usw angebliche menschenrassen in heute obsoleten rassentheorien konstruiert um damit etwa sklaverei assimilationspolitik ethno oder genozid zu rechtfertigen'],\n",
       " ['kriegsverbrechen sind schwere verst”áe von angeh”rigen eines kriegf\\x81hrenden staates gegen die regeln des in internationalen oder nichtinternationalen bewaffneten konflikten anwendbaren v”lkerrechts deren strafbarkeit sich unmittelbar aus dem v”lkerrecht ergibt kriegsverbrechen z„hlen zu den kernverbrechen des v”lkerstrafrechts und unterfallen dem weltrechtsprinzip'],\n",
       " ['wladimir wladimirowitsch putin russisch vladimir vladimirovi putin v d im r v d im r v t put n number oktober number in leningrad russische sfsr sowjetunion ist ein russischer politiker er ist seit dem number mai number mit unterbrechung von number bis number pr„sident der russischen f”deration von august number bis mai number sowie von mai number bis zu seiner wiederwahl als staatspr„sident number war putin ministerpr„sident russlands von dezember number bis zu seiner wahl im mai number war er als kommissarischer staatspr„sident im amt in den jahren number bis number war er mitarbeiter des kgb'],\n",
       " ['die polizei staatsverwaltung wie griech politik die staatl angelegenheiten betreffendes ist ein exekutivorgan eines staates die polizeibeh”rden die polizeibeamten die polizeigewalt und im \\x81bertragenen sinn auch ein polizeigeb„ude werden als polizei bezeichnet'],\n",
       " ['ziviler ungehorsam aus lateinisch civilis b\\x81rgerlich deshalb auch b\\x81rgerlicher ungehorsam ist eine form politischer partizipation deren wurzeln bis in die antike zur\\x81ckreichen durch einen symbolischen aus gewissensgr\\x81nden vollzogenen und damit bewussten verstoá gegen rechtliche normen zielt der handelnde staatsb\\x81rger mit einem akt zivilen ungehorsams auf die beseitigung einer unrechtssituation und betont damit sein moralisches recht auf partizipation die normen k”nnen sich durch gesetze pflichten oder auch befehle eines staates oder einer einheit in einem staatlichen gef\\x81ge manifestieren'],\n",
       " ['letzte generation ist ein b\\x81ndnis von aktivisten aus der umweltschutzbewegung mit dem erkl„rten ziel durch mittel des zivilen ungehorsams maánahmen der deutschen und der ”sterreichischen bundesregierung gegen die klimakrise zu erzwingen'],\n",
       " ['klimacamps sind zeltlager deren teilnehmer sich gegen den menschengemachten klimawandel einsetzen sie finden oft an zentralen orten gr”áer st„dte oder an orten der verbrennung fossiler brennstoffe z b kraftwerken flugh„fen statt'],\n",
       " ['die extinction rebellion xr deutsch rebellion gegen das aussterben ist eine umweltschutzbewegung mit dem erkl„rten ziel durch mittel des zivilen ungehorsams maánahmen von regierungen gegen das massenaussterben von tieren pflanzen und lebensr„umen sowie das m”gliche aussterben der menschheit als folge der klimakrise zu erzwingen'],\n",
       " ['m\\x81nchen ist die landeshauptstadt des freistaates bayern sie ist mit number number number einwohnern number dezember number die bev”lkerungsreichste stadt bayerns die drittgr”áte gemeinde deutschlands und mit number einwohnern pro quadratkilometer die am dichtesten bev”lkerte gemeinde deutschlands die stadt bildet das zentrum der metropolregion m\\x81nchen rund number number millionen einwohner und der planungsregion m\\x81nchen number number millionen einwohner '],\n",
       " ['die freie demokratische partei kurzbezeichnung fdp von number bis number f d p eigenbezeichnung freie demokraten bis number die liberalen ist eine liberale partei in deutschland die im politischen spektrum im bereich mitte bis mitte rechts eingeordnet wird die fdp war number bis number number bis number number bis number number bis number und ist seit number als jeweils kleinerer koalitionspartner an der bundesregierung beteiligt siehe liste der deutschen bundesregierungen von number bis number war die partei durchgehend im deutschen bundestag vertreten number zog sie wieder als fraktion der freien demokraten in den bundestag ein'],\n",
       " ['der begriff polizeigewalt wird in der kriminologie und den medien verwendet um k”rperliche und psychische gewalt zu beschreiben die von polizisten ausge\\x81bt wird die anwendung von gewalt ist vom gesetz nur unter bestimmten voraussetzungen erlaubt und dann nur in einem verh„ltnism„áigen ausmaá sind die voraussetzungen gegeben und das richtige ausmaá gewahrt ist sie rechtm„áig andernfalls rechtswidrig f„lle von unrechtm„áiger polizeigewalt werden auch polizei\\x81bergriffe genannt'],\n",
       " ['der paul spiegel preis f\\x81r zivilcourage ist ein vom zentralrat der juden in deutschland gestifteter preis der seit number verliehen wird und mit number euro dotiert ist'],\n",
       " ['ein stromerzeugungsaggregat stromerzeuger stromaggregat stromgenerator notstromaggregat netzersatzanlage oder landl„ufig moppel ist eine einrichtung die mittels vorhandener ressourcen elektrische energie bereitstellt um insbesondere von stromnetzen unabh„ngig zu sein'],\n",
       " ['ein antriebsaggregat meistens eine verbrennungskraftmaschine z b diesel oder benzinmotor und ein generator der mechanische energie des antriebs in elektrische energie wandelt bilden hierbei eine einheit'],\n",
       " ['ist eine deutsche klimaschutzaktivistin'],\n",
       " ['luisa marie neubauer number april number in hamburg ist eine deutsche klimaschutzaktivistin in deutschland ist sie eine der hauptorganisatorinnen des von greta thunberg inspirierten schulstreiks fridays for future klimastreik sie tritt f\\x81r eine klimapolitik ein die mit dem šbereinkommen von paris vereinbar ist und wirbt f\\x81r einen kohleausstieg deutschlands bis number neubauer ist mitglied von b\\x81ndnis number die gr\\x81nen und gr\\x81ner jugend und engagiert sich in verschiedenen nichtregierungsorganisationen'],\n",
       " ['™ko steht f\\x81r kurzform von ™kologie biologische wechselbeziehungen siehe ™kologie begriffskl„rung eine gesetzlich gesch\\x81tzte vorsilbe f\\x81r produkte aus ”kologischer landwirtschaft umgangssprachliche bezeichnung f\\x81r anh„nger der umweltbewegungsiehe auch oikos haus und wirtschaftsgemeinschaft im antiken griechenland ™konomie begriffskl„rung ™konomik begriffskl„rung bio begriffskl„rung liste aller wikipedia artikel deren titel mit ™ko beginnt'],\n",
       " ['ein kohlekraftwerk ist ein dampfkraftwerk in dem kohle verbrannt wird um elektrischen strom zu erzeugen es gibt kraftwerke f\\x81r braunkohle und f\\x81r steinkohle die kraftwerkstypen sind speziell f\\x81r den jeweiligen brennstoff mit seinen verfahrenstechnischen eigenheiten seinem heizwert und seinen ascheanteilen konzipiert'],\n",
       " ['als atomausstieg auch kernkraftausstieg oder atomverzicht wird die politische entscheidung eines staats den betrieb von kernkraftwerken einzustellen und auf kernenergie zur stromerzeugung zu verzichten bezeichnet einen vollst„ndigen ausstieg aus der erzeugung von atomenergie hat bisher italien durchgef\\x81hrt weitere staaten wie deutschland belgien und die schweiz haben einen atomausstieg angek\\x81ndigt bzw ihn in die wege geleitet ™sterreich nahm sein fertiggestelltes kernkraftwerk zwentendorf bereits number nach einer volksabstimmung nicht in betrieb weitere staaten brachen zum teil weit vorangeschrittene atomprogramme ab'],\n",
       " ['glastonbury ist eine kleinstadt in somerset england im vereinigten k”nigreich die kleinstadt im distrikt mendip hat rund number einwohner sie ist aufgrund der ruinen der glastonbury abbey und der mythen und legenden um den nahegelegenen h\\x81gel glastonbury tor bekannt derentwegen glastonbury den anspruch erhebt das sagenhafte avalon zu sein bedeutend ist auch die eisenzeitliche pfahlbausiedlung die von arthur bulleid number number und harold st george gray number number ausgegraben wurde'],\n",
       " ['als verkehrswende auch mobilit„tswende wird der gesellschaftliche technologische und politische prozess bezeichnet verkehr und mobilit„t auf nachhaltige energietr„ger sanfte mobilit„tsnutzung und eine vernetzung verschiedener formen des individualverkehrs und des ”ffentlichen personennahverkehrs umzustellen inter bzw multimodaler verkehr '],\n",
       " ['nordrhein westfalen n rtra nv st fa l n l„ndercode nw gel„ufige abk\\x81rzung nrw ist eine parlamentarische republik und ein teilsouver„ner gliedstaat der bundesrepublik deutschland mit rund number number millionen einwohnern ist es das bev”lkerungsreichste land deutschlands die landeshauptstadt ist d\\x81sseldorf die einwohnerreichste stadt ist k”ln die bundesstadt bonn ist heute zweitregierungssitz der bundesrepublik deutschland'],\n",
       " ['klimahysterie ist ein politisches schlagwort f\\x81r eine emotionale einstellung zum gegenw„rtigen klimawandel die von demjenigen der das wort gebraucht als \\x81bertrieben empfunden wird es wurde von der deutschen sprachkritischen aktion unwort des jahres zum unwort des jahres number gew„hlt'],\n",
       " ['ende gel„nde ist nach eigenen angaben ein europaweites b\\x81ndnis von menschen aus vielen verschiedenen sozialen bewegungen der anti atom und anti kohlekraft bewegung das seit number j„hrlich eine groáaktion number und number zwei in deutschen braunkohlerevieren organisiert das bundesamt f\\x81r verfassungsschutz bezeichnet das b\\x81ndnis als linksextremistisch beeinflusst '],\n",
       " ['oben und unten sind einander entgegengesetzte relative ortsangaben sie nehmen in der regel bezug auf die richtung der schwerebeschleunigung und die k”rperliche lageorientierung des menschen im erdschwerefeld unten bezeichnet stellen die sich in wirkrichtung der gewichtskraft befinden oben sind orte in richtung entgegen der gewichtskraft das begriffspaar dient zusammen mit links und rechts sowie vorne und hinten als relative positions und richtungsbezeichnung der orientierung im raum'],\n",
       " ['christian wolfgang lindner number januar number in wuppertal ist ein deutscher politiker fdp er ist seit dem number dezember number bundesvorsitzender der fdp und seit dem number dezember number bundesminister der finanzen im kabinett scholz'],\n",
       " ['ein gaskraftwerk ist ein kraftwerk welches als prim„renergiequelle die chemische energie aus der verbrennung eines brenngases nutzt mit abstand am h„ufigsten wird erdgas eingesetzt daneben auch biogas holzgas kohlegas kuppelgase u a brenngas wird die bezeichnung gaskraftwerk ohne n„here angabe verwendet so handelt es sich in der regel um erdgas bei anderen brenngasen wird die art zumeist im namen aufgef\\x81hrt biogaskraftwerk gichtgaskraftwerk etc '],\n",
       " ['ein kohlekraftwerk ist ein dampfkraftwerk in dem kohle verbrannt wird um elektrischen strom zu erzeugen es gibt kraftwerke f\\x81r braunkohle und f\\x81r steinkohle die kraftwerkstypen sind speziell f\\x81r den jeweiligen brennstoff mit seinen verfahrenstechnischen eigenheiten seinem heizwert und seinen ascheanteilen konzipiert'],\n",
       " ['b\\x81ndnis number die gr\\x81nen kurzbezeichnung gr\\x81ne auch als b\\x81ndnisgr\\x81ne b number gr\\x81ne b number die gr\\x81nen oder die gr\\x81nen bezeichnet ist eine politische partei in deutschland ein inhaltlicher schwerpunkt ist die umweltpolitik leitgedanke gr\\x81ner politik ist ”kologische ”konomische und soziale nachhaltigkeit'],\n",
       " ['in westdeutschland und west berlin entstammt die am number number januar number in karlsruhe gegr\\x81ndete partei die gr\\x81nen der anti atomkraft und umweltbewegung den neuen sozialen bewegungen der friedensbewegung und der neuen linken der number er jahre bei der bundestagswahl number gelang den gr\\x81nen der einzug in den bundestag und von number bis number stellten sie in einer rot gr\\x81nen koalition in hessen mit joschka fischer erstmals einen landesminister'],\n",
       " ['die sozialdemokratische partei deutschlands spd ist eine politische partei in deutschland als erste vorl„ufer der partei gelten der number gegr\\x81ndete allgemeine deutsche arbeiterverein und die number gegr\\x81ndete sozialdemokratische arbeiterpartei die sich number zur sozialistischen arbeiterpartei deutschlands zusammenschlossen ihren heutigen namen gab sich die partei number sie gilt als „lteste noch bestehende partei deutschlands'],\n",
       " ['deutsche wohnen co enteignen kurz dwe ist eine b\\x81rgerinitiative in berlin die einen erfolgreichen volksentscheid \\x81ber die enteignung und vergesellschaftung privater wohnungsunternehmen erreicht hat dabei sollen die enteigneten wohnungen in eine anstalt des ”ffentlichen rechts \\x81berf\\x81hrt werden dies betr„fe number number der rund number number millionen mietwohnungen in berlin'],\n",
       " ['die bombendrohung ist das beabsichtigte bedrohen eines meist ”ffentlichen geb„udes mittels einer tats„chlich oder angeblich platzierten bombe'],\n",
       " ['ein spezialeinsatzkommando sek ist eine spezialeinheit der polizei in deutschland die polizei jedes bundeslandes verf\\x81gt \\x81ber mindestens ein sek entsprechungen auf ebene des bundes sind die number gegr\\x81ndete gsg number der bundespolizei sowie die number ins leben gerufene zentrale unterst\\x81tzungsgruppe zoll zuz der zollverwaltung hervorgegangen sind die seks aus den pr„zisionssch\\x81tzenkommandos das sek baden w\\x81rttemberg geh”rt als einziges sek dem atlas verbund europ„ischer polizei spezialeinheiten an'],\n",
       " ['halt die fresse kurz hdf ist ein online fernsehformat das in regelm„áigen abst„nden lieder deutschsprachiger rapper visualisiert die sendung wird \\x81ber aggro tv ausgestrahlt'],\n",
       " ['eine pipeline von englisch pipe rohr r”hre und von line linie leitung verbindung ist eine fernleitung f\\x81r den rohrleitungstransport von fl\\x81ssigkeiten z b wasser oder erd”l oder gasen z b erdgas oder kohlenstoffmonoxid seltener auch schl„mmen z b kohle oder eisenerz mit wasser vermengt '],\n",
       " ['unter terrorismus abgeleitet \\x81ber terror von lateinisch terror furcht schrecken versteht man kriminelle gewaltaktionen gegen menschen oder rechtssachen wie morde entf\\x81hrungen attentate und sprengstoffanschl„ge mit denen politische religi”se oder ideologische ziele erreicht werden sollen terrorismus ist das aus\\x81ben und verbreiten von terror'],\n",
       " ['der begriff demokratie wurde im number jhd entlehnt von lateinisch democratia abstammend von altgriechisch d mokrat¡a volksherrschaft demokratie ist eine form des politischen lebens auf basis der gleichheit und freiheit aller b\\x81rger sie leitet die willensbildung der gemeinschaft vom gesamten volk ab ihren ursprung hat die demokratie in den altgriechischen stadtstaaten wie in athen um number v chr den begriff demokratie nehmen inzwischen sehr unterschiedliche politische systeme f\\x81r sich in anspruch'],\n",
       " ['eine straftat ist ein rechtswidriges verhalten tat oder unterlassen das durch den gesetzgeber mit strafe bedroht ist grunds„tzlich ist nur vors„tzliches verhalten strafbar fahrl„ssiges nur dann wenn dies das einschl„gige gesetz explizit besagt õ number stgb in deutschland wurden straftaten bis number unterteilt in verbrechen vergehen und šbertretung seit number gibt es nur noch eine zweiteilung von straftaten in verbrechen und vergehen die ehemaligen šbertretungen werden seitdem entweder als vergehen oder als ordnungswidrigkeit eingestuft'],\n",
       " ['ideologie steht im weiteren sinne bildungssprachlich f\\x81r weltanschauung im engeren sinne wird damit zum einen auf karl marx zur\\x81ckgehend das falsche bewusstsein einer gesellschaft bezeichnet zum anderen wird in der us amerikanischen wissenssoziologie jedes system von sozialen normen als ideologie bezeichnet das gruppen zur rechtfertigung und bewertung eigener und fremder handlungen verwenden'],\n",
       " ['d„nemark ist ein land im n”rdlichen europa und neben gr”nland und den f„r”ern eines der drei l„nder des k”nigreiches d„nemark das zwischen der skandinavischen halbinsel und mitteleuropa gelegene staatsgebiet umfasst eine fl„che von number number kmý wovon number number kmý auf die halbinsel j\\x81tland und der rest auf inseln entfallen d„nemark ist eines der zw”lf gr\\x81ndungsmitglieder der number gegr\\x81ndeten nato und seit dem number januar number in der europ„ischen union bzw ihrer vorg„ngerin ewg '],\n",
       " ['misogynie von altgriechisch misos hass und gyne frau oder frauenfeindlichkeit ist ein oberbegriff f\\x81r soziokulturelle einstellungsmuster der geringeren relevanz oder wertigkeit von frauen beziehungsweise der h”heren relevanz oder wertigkeit von m„nnern sie wird sowohl von m„nnern als auch von frauen selbst \\x81ber die psychosoziale entwicklung verinnerlicht sozialisation habitualisierung und stellt die erzeugungsgrundlage f\\x81r den hierarchisierenden geschlechtshabitus von m„nnlichkeit und weiblichkeit dar sie ist damit die basis hegemonialer m„nnlichkeit oder patriarchaler beziehungsgef\\x81ge'],\n",
       " ['nazi ist ein kurzwort f\\x81r einen anh„nger des nationalsozialismus žhnliche verk\\x81rzungen finden sich in den begriffen wie nazismus oder entnazifizierung heute wird es umgangssprachlich meist abwertend und teilweise auch zur bezeichnung von fanatikern anderer art gebraucht'],\n",
       " ['der terror lateinisch terror schrecken ist die systematische und oftmals willk\\x81rlich erscheinende verbreitung von angst und schrecken durch ausge\\x81bte oder angedrohte gewalt um menschen gef\\x81gig zu machen laut resolution number des un sicherheitsrates sind terroristische handlungen solche die mit t”tungs oder schwerer k”rperverletzungsabsicht oder zur geiselnahme und mit dem zweck begangen werden einen zustand des schreckens hervorzurufen eine bev”lkerung einzusch\\x81chtern oder etwa eine regierung zu n”tigen und dabei von den relevanten terrorismusabkommen erfasst werden das aus\\x81ben von terror zur erreichung politischer wirtschaftlicher oder religi”ser ziele nennt man terrorismus'],\n",
       " ['hannover ist die hauptstadt des landes niedersachsen der am s\\x81drand des norddeutschen tieflandes an der leine und der ihme gelegene ort wurde number erstmals erw„hnt und erhielt number das stadtrecht hannover war ab number welfische residenzstadt ab number residenz kurhannovers und ab number hauptstadt des k”nigreichs hannover von number bis number bestand die personalunion zwischen groábritannien und hannover wonach hannovers monarchen auch gleichzeitig die k”nige groábritanniens waren'],\n",
       " ['niedersachsen ist ein land im mittleren nordwesten der bundesrepublik deutschland es entstand nach dem zweiten weltkrieg durch die vereinigung des landes hannover mit den freistaaten braunschweig oldenburg und schaumburg lippe das heutige fl„chenland niedersachsen steht mit rund number number quadratkilometern unter den number deutschen l„ndern auf dem zweiten platz hinter bayern und nimmt bei einer einwohnerzahl von rund acht millionen in dieser hinsicht platz vier ein neben der landeshauptstadt hannover gibt es sieben weitere groást„dte braunschweig oldenburg osnabr\\x81ck wolfsburg g”ttingen hildesheim und salzgitter'],\n",
       " ['radikalisierung beschreibt den prozess in dem ein individuum oder eine gruppe radikale oder extreme politische soziale oder religi”se einstellungen und šberzeugungen entwickelt oder \\x81bernimmt und sich gegebenenfalls eine dementsprechende ideologie zu eigen macht'],\n",
       " ['hildesheim niederdeutsch hilmessen hilmssen lateinisch hildesia ist eine groástadt und oberzentrum in niedersachsen rund number km s\\x81d”stlich von hannover sie hat rund number number einwohner der sitz des katholischen bistums hildesheim war bis number kreisfreie stadt number wurde hildesheim mit der gebietsreform in niedersachsen zur groáen selbst„ndigen stadt und zur groástadt und bildet seitdem mit dem gebiet des ehemaligen landkreises hildesheim marienburg seit number erweitert um den ehemaligen landkreis alfeld leine den landkreis hildesheim dessen kreisstadt sie ist'],\n",
       " ['frank walter steinmeier number januar number in detmold ist ein deutscher politiker spd er ist seit number m„rz number der zw”lfte bundespr„sident der bundesrepublik deutschland steinmeier wurde bei der wahl am number februar number wiedergew„hlt von number bis number war steinmeier chef des bundeskanzleramtes unter gerhard schr”der von number bis number kabinett merkel i auáenminister und ab number auch vizekanzler der bundesrepublik seine zweite amtszeit als auáenminister dauerte von number bis number kabinett merkel iii '],\n",
       " ['saybolt universal viscosity veraltete maáeinheit f\\x81r die kinematische viskosit„t von ™l siehe saybolt universal second'],\n",
       " ['wort zum sonntag so die eigenschreibweise ist eine religi”se sendung des schweizer radios und fernsehens die w”chentlich am samstagabend um number number uhr im programm von srf number ausgestrahlt wird die erste sendung mit dem heutigen titel wurde im januar number ausgestrahlt und ist damit eine der „ltesten sendungen des schweizer fernsehens zuvor war sie vom number juni number bis number januar number unter dem titel ®zum heutigen sonntag¯ im programm'],\n",
       " ['tankrabatt ist die umgangssprachliche bezeichnung f\\x81r eine vom number juni bis zum number august number befristete senkung der energiesteuer auf kraftstoffe in deutschland durch die deutsche bundesregierung'],\n",
       " ['der gardasee italienisch lago di garda oder bšnaco einer der oberitalienischen seen ist der gr”áte see italiens benannt nach der gemeinde garda am ostufer sein antiker name lautete von etwa number v chr bis number n chr lacus benacus der name soll von einer alten gottheit namens benacus abstammen der gardasee wurde in der vergangenen eiszeit durch einen seitenast des etschgletschers geformt dessen spuren noch verfolgt werden kann insbesondere durch die endmor„nen um das s\\x81dufer z b bei lonato del garda solferino valeggio sul mincio und custoza'],\n",
       " ['der englischsprachige begriff loss and damage dt verlust und schaden offiziell meist verluste und sch„den auch verlust und zerst”rung ist in der umweltschutz und klimapolitik ein h„ufig verwendetes schlagwort es umschreibt die auswirkungen von klimabedingten stressoren die trotz der bem\\x81hungen auftreten treibhausgas emissionen weltweit generell und zur anpassung an klimaver„nderungen zu reduzieren'],\n",
       " ['das world conference center bonn wccb ist ein kongresszentrum im bundesviertel von bonn in unmittelbarer n„he des rheins es umfasst teile des bundeshauses darunter den neuen plenarsaal des deutschen bundestages und einen number fertiggestellten erweiterungsbau als neues hauptgeb„ude das kongresszentrum wurde number als internationales kongresszentrum bundeshaus bonn ikbb gegr\\x81ndet number erhielt es seinen heutigen namen'],\n",
       " ['sebastian vettel number juli number in heppenheim ist ein deutscher automobilrennfahrer er startet seit number in der formel number und gewann dort in der saison number als zweiter deutscher nach michael schumacher und bislang j\\x81ngster fahrer die weltmeisterschaft mit der erfolgreichen verteidigung des titels number number und number ist er einer von vier fahrern die viermal in folge weltmeister wurden'],\n",
       " ['die formel number oft auch mit fnumber abgek\\x81rzt ist eine vom automobil dachverband f‚d‚ration internationale de l automobile fia autorisierte formelserie die beteiligten rennst„lle konstruieren autos die den in den formel number regeln festgelegten technischen vorgaben entsprechen m\\x81ssen diese rennwagen treten im rahmen der formel number weltmeisterschaft zu grand prix rennen deutsch groáe preise an derzeit weltweit ungef„hr number rennstrecken pro jahr an am ende der saison wird der fahrer mit den meisten punkten fahrerweltmeister und der hersteller mit den meisten punkten wird konstrukteursweltmeister'],\n",
       " ['nigeria bundesrepublik nigeria veraltet nigerien ist ein bundesstaat in westafrika es ist mit \\x81ber number millionen einwohnern number mit abstand das bev”lkerungsreichste land afrikas und weltweit das land mit der siebtgr”áten bev”lkerung im zeitraum von number bis number hat sich die bev”lkerungszahl des landes verdoppelt nigeria grenzt an den atlantik und die l„nder benin niger tschad und kamerun'],\n",
       " ['eine zigarette franz”sisch cigarette diminutiv zu zigarre ist ein rauchbares tabakerzeugnis das aus den fermentierten getrockneten und feingeschnittenen bl„ttern der tabakpflanze hergestellt wird die in papier gestopft gedreht gefaltet oder gerollt werden tabakrauch wird als rauschmittel verwendet und fand vor allem im number '],\n",
       " ['lgbt pride auch gay pride oder einfach nur pride ist ein englischer begriff der aus der amerikanischen lesben und schwulenbewegung stammt und international \\x81bernommen wurde er beschreibt den selbstachtenden und damit stolzen umgang mit der eigenen sexuellen identit„t stolz wird dabei im sinne eines gegen\\x81ber anderen gezeigten selbstwertgef\\x81hls verwendet das heiát so zu sein wie man ist sich nicht vor anderen verstecken oder sich f\\x81r andere verstellen zu wollen und gegebenenfalls f\\x81r seine rechte einzutreten'],\n",
       " ['die schule lateinisch schola von altgriechisch ursprungsbedeutung m\\x81áiggang muáe sp„ter studium vorlesung auch bildungsanstalt oder lehranstalt genannt ist eine institution deren bildungsauftrag im lehren und lernen also in der vermittlung von wissen und k”nnen durch lehrer an sch\\x81ler aber auch in der wertevermittlung und in der erziehung und bildung zu m\\x81ndigen sich verantwortlich in die gesellschaft einbringenden pers”nlichkeiten besteht'],\n",
       " ['die dienstlichen aufgaben der schulleitung schulleiter bzw schulleiterin teilweise auch direktor direktorin bzw rektor rektorin sind in deutschland in den verschiedenen schularten durch die number verschiedenen landesschulgesetze geregelt'],\n",
       " ['der ausdruck medienmanipulation wird in zweierlei weise verwendet meist wird er verwendet um eine tats„chliche oder vermeintliche manipulation der ”ffentlichen meinung durch die medien zu bezeichnen ebenfalls verwendung findet der begriff um eine manipulation der medien mit dem ziel einer bestimmten ver”ffentlichung zu beschreiben abgrenzung sofern dies nicht als manipulation sondern als information transparent und den journalistischen handwerksregeln gem„á erfolgt spricht man von pressearbeit oder medienarbeit'],\n",
       " ['eine demonstration verk\\x81rzt auch demo ist eine in der ™ffentlichkeit stattfindende versammlung mehrerer personen zum zwecke der gemeinsamen meinungs„uáerung gelegentlich werden demonstrationen auch als aufmarsch bezeichnet insbesondere wenn sie im extremistischen kontext stehen in deutschland ist das demonstrationsrecht ein grundrecht das im artikel number des grundgesetzes verankert ist'],\n",
       " ['elektromobilit„t beschreibt die beweglichkeit von personen und g\\x81tern im geographischen raum mithilfe elektrischer antriebe die elektromobilit„t gilt als zentraler baustein eines nachhaltigen und klimaschonenden verkehrssystems auf basis erneuerbarer energien wie es mit der verkehrswende angestrebt wird gem„á weltklimarat ipcc besitzen elektroautos die mit strom aus emissionsarmen quellen angetrieben werden \\x81ber ihren gesamten lebenszyklus das gr”áte klimaschutzpotential aller landgebundenen transporttechnologien'],\n",
       " ['die universit„tsstadt mannheim kurpf„lzisch mannem man m auch monnem ist ein stadtkreis mit number number einwohnern number dezember number im regierungsbezirk karlsruhe in baden w\\x81rttemberg sie ist nach stuttgart und vor karlsruhe die zweitgr”áte stadt des landes die ehemalige residenzstadt number number der kurpfalz mit ihrem stadtpr„genden barockschloss einer der gr”áten schlossanlagen der welt bildet das wirtschaftliche und kulturelle zentrum der metropolregion rhein neckar mit number number millionen einwohnern'],\n",
       " ['d\\x81rre ist ein extremer \\x81ber einen l„ngeren zeitraum vorherrschender zustand in dem weniger wasser oder niederschlag verf\\x81gbar ist als erforderlich d\\x81rre ist nicht nur ein physikalisches ph„nomen sondern auch ein wechselspiel zwischen der verf\\x81gbarkeit und dem wasserbedarf von organismen '],\n",
       " ['der freistaat bayern ba n l„ndercode by kurz bayern ist das fl„chengr”áte der number l„nder der bundesrepublik deutschland und liegt in deren s\\x81dosten mit mehr als number millionen einwohnern ist er das zweitbev”lkerungsreichste bundesland '],\n",
       " ['die stadt paderborn ist mit \\x81ber number number einwohnern eine groástadt im ”stlichen teil des landes nordrhein westfalen sie liegt im gleichnamigen kreis und ist dessen kreisstadt ist universit„tsstadt oberzentrum und mittelpunkt der region hochstift paderborn der name weist auf die quellen der pader im heutigen stadtzentrum hin '],\n",
       " ['das ahrtal ist nach der ahr einem linken nebenfluss des rheins benannt es beginnt mit der ahrquelle bei blankenheim im nordrhein westf„lischen kreis euskirchen und verl„uft generell ostw„rts an seinem s\\x81dlichsten punkt wird der landkreis ahrweiler und damit rheinland pfalz erreicht durch die verbandsgemeinde adenau verlaufend knickt das tal am zusammenfluss mit dem adenauer bach nach nordosten ab und erreicht die verbandsgemeinde altenahr ab deren hauptort sich der typische west ost verlauf wieder einstellt wenn auch von flussschleifen unterbrochen'],\n",
       " ['der umweltschaden ist eine anthropogene sch„digung von b”den gew„ssern luft pflanzen oder tieren'],\n",
       " ['als krieg wird ein organisierter und unter einsatz erheblicher mittel mit waffen und gewalt ausgetragener konflikt bezeichnet an dem planm„áig vorgehende kollektive beteiligt sind ziel der beteiligten kollektive ist es ihre interessen durchzusetzen der konflikt soll durch kampf und erreichen einer šberlegenheit gel”st werden'],\n",
       " ['ein raumfahrer auch weltraumfahrer ist ein teilnehmer an einer bemannten expedition in den weltraum der erste raumfahrer war juri gagarin er umrundete am number april number einmal die erde je nach raumfahrtorganisation werden raumfahrer als kosmonauten sowjetunion ddr roskosmos russland oder astronauten z b nasa esa csa jaxa bezeichnet andere nationen verwenden auch weitere begriffe z b taikonaut in der vr china spationaute in frankreich angkasawan in malaysia und wiomanaut in indien '],\n",
       " ['ein maurer ist ein bauhandwerker dessen namensgebende kernt„tigkeit die erstellung von mauerwerk ist der maurer ist der hauptbauhandwerker des rohbaus daher f\\x81hrt er bei kleineren bauprojekten einfamilienh„user meist auch beton stahlbeton estrich und putz sowie abdichtungs und entw„sserungsarbeiten aus im zuge der fortschreitenden arbeitsteilung im bauwesen haben sich f\\x81r viele bereiche des breiten berufsbilds des maurers zus„tzlich spezialisten mit engerem berufsbild entwickelt die vorwiegend auf gr”áeren baustellen t„tig sind beispielsweise k”nnen maurer sich betrieblich spezialisieren und auch als betoninstandsetzer arbeiten'],\n",
       " ['wattenmeere abgeleitet von watt sind bestimmte k\\x81stenbereiche eines meeres die unter einem starken einfluss der gezeiten stehen weite fl„chen eines wattenmeeres fallen regelm„áig zweimal t„glich w„hrend der niedrigwasserzeit ebbe trocken und sind w„hrend der hochwasserzeit flut \\x81berflutet die bei ebbe trocken fallenden fl„chen bezeichnet man als wattfl„chen der begriff wattenmeer wird allerdings nur auf flachk\\x81sten mit sand oder schlickwatten angewendet die rinnen durch die bei ebbe das wasser bevorzugt aus dem watt abl„uft bzw bei flut bevorzugt in das watt einstr”mt werden priele die gr”áten davon seegatten genannt '],\n",
       " ['schwerin ist die landeshauptstadt von mecklenburg vorpommern die kreisfreie mittelstadt ist die kleinste landeshauptstadt der bundesrepublik deutschland schwerin ist nach rostock die zweitgr”áte stadt und eines der vier oberzentren des bundeslandes ']]"
      ]
     },
     "execution_count": 10,
     "metadata": {},
     "output_type": "execute_result"
    }
   ],
   "source": [
    "cleared_text"
   ]
  },
  {
   "cell_type": "code",
   "execution_count": 11,
   "metadata": {},
   "outputs": [],
   "source": [
    "import networkx as nx\n",
    "import itertools\n",
    "from operator import itemgetter"
   ]
  },
  {
   "cell_type": "code",
   "execution_count": 12,
   "metadata": {},
   "outputs": [],
   "source": [
    "G = nx.read_graphml(\"../Dataset FFF/Graph_data/Real_Network.graphml\")"
   ]
  },
  {
   "cell_type": "code",
   "execution_count": 13,
   "metadata": {},
   "outputs": [],
   "source": [
    "degree_dict = dict(G.degree(G.nodes()))\n",
    "nx.set_node_attributes(G, degree_dict, 'degree')\n",
    "sorted_degree = sorted(degree_dict.items(), key = itemgetter(1), reverse = True)"
   ]
  },
  {
   "cell_type": "code",
   "execution_count": 14,
   "metadata": {},
   "outputs": [
    {
     "name": "stdout",
     "output_type": "stream",
     "text": [
      "511\n"
     ]
    }
   ],
   "source": [
    "sample_nodes_1057 = []\n",
    "for i in sorted_degree:\n",
    "    if i[1] > 30:\n",
    "        sample_nodes_1057.append(i[0])\n",
    "print(len(sample_nodes_1057))"
   ]
  },
  {
   "cell_type": "code",
   "execution_count": 15,
   "metadata": {},
   "outputs": [],
   "source": [
    "def select_sample_meaning(sample, meaning):\n",
    "    sampled_meaning = []\n",
    "    sample_nodes = []\n",
    "    for i in sample:\n",
    "        for j in range(len(tags)):\n",
    "            if tags[j]==i:\n",
    "                sampled_meaning.append(i + \" \" + meaning[j][0])\n",
    "                sample_nodes.append(i)\n",
    "    return sampled_meaning, sample_nodes"
   ]
  },
  {
   "cell_type": "code",
   "execution_count": 16,
   "metadata": {},
   "outputs": [],
   "source": [
    "sampled_meaning_1057, sample_nodes_1057 = select_sample_meaning(sample_nodes_1057, cleared_text)"
   ]
  },
  {
   "cell_type": "code",
   "execution_count": 17,
   "metadata": {},
   "outputs": [
    {
     "data": {
      "text/plain": [
       "'\\nfor i in range(len(sample_nodes_1057)):\\n    if not isNaN(tags[i]):\\n        sampled_meaning_1057[i] = sample_nodes_1057[i] + \" \" + sampled_meaning_1057[i][0]\\n    else:\\n        sampled_meaning_1057[i] = \"nan \" + sampled_meaning_1057[i][0]\\n'"
      ]
     },
     "execution_count": 17,
     "metadata": {},
     "output_type": "execute_result"
    }
   ],
   "source": [
    "\"\"\"\n",
    "for i in range(len(sample_nodes_1057)):\n",
    "    if not isNaN(tags[i]):\n",
    "        sampled_meaning_1057[i] = sample_nodes_1057[i] + \" \" + sampled_meaning_1057[i][0]\n",
    "    else:\n",
    "        sampled_meaning_1057[i] = \"nan \" + sampled_meaning_1057[i][0]\n",
    "\"\"\""
   ]
  },
  {
   "cell_type": "code",
   "execution_count": 18,
   "metadata": {},
   "outputs": [],
   "source": [
    "word_tokens = []\n",
    "for phrase in sampled_meaning_1057:\n",
    "    word_tokens.append(phrase.split())\n",
    "stop_words = stopwords.words('english')\n",
    "no_sw_1057=[]\n",
    "for phrase in word_tokens:\n",
    "    no_sw_tmp=[]\n",
    "    for word in phrase:\n",
    "        if word not in stop_words:\n",
    "            no_sw_tmp.append(word)\n",
    "    no_sw_1057.append(no_sw_tmp)"
   ]
  },
  {
   "cell_type": "code",
   "execution_count": 19,
   "metadata": {},
   "outputs": [],
   "source": [
    "cleared_meaning_1057 = []\n",
    "for i in no_sw_1057:\n",
    "    new_s = \"\"\n",
    "    for j in i:\n",
    "        new_s = new_s + \" \" + j\n",
    "    cleared_meaning_1057.append(new_s)"
   ]
  },
  {
   "cell_type": "code",
   "execution_count": 20,
   "metadata": {},
   "outputs": [],
   "source": [
    "df = pd.DataFrame({\"Tags\": sample_nodes_1057, \"Meaning\" : cleared_meaning_1057})\n",
    "df.to_csv(\"nodes_1057_meaning.csv\", index=False)"
   ]
  },
  {
   "cell_type": "code",
   "execution_count": 21,
   "metadata": {},
   "outputs": [],
   "source": [
    "from gensim.models import Word2Vec"
   ]
  },
  {
   "cell_type": "code",
   "execution_count": 22,
   "metadata": {},
   "outputs": [],
   "source": [
    "def check_isin(word2vec, data):\n",
    "    not_in = []\n",
    "    for i in data:\n",
    "        try:\n",
    "            word2vec.wv[i]\n",
    "        except:\n",
    "            not_in.append(i)\n",
    "    print(len(not_in))"
   ]
  },
  {
   "cell_type": "code",
   "execution_count": 23,
   "metadata": {},
   "outputs": [],
   "source": [
    "word2vec_1057 = Word2Vec(no_sw_1057, min_count=1)"
   ]
  },
  {
   "cell_type": "code",
   "execution_count": 24,
   "metadata": {},
   "outputs": [
    {
     "data": {
      "text/plain": [
       "2810"
      ]
     },
     "execution_count": 24,
     "metadata": {},
     "output_type": "execute_result"
    }
   ],
   "source": [
    "len(word2vec_1057.wv)"
   ]
  },
  {
   "cell_type": "markdown",
   "metadata": {},
   "source": [
    "# 2 - Store word2vec embedding"
   ]
  },
  {
   "cell_type": "code",
   "execution_count": 25,
   "metadata": {},
   "outputs": [],
   "source": [
    "from linkpred.evaluation import Pair\n",
    "import pickle"
   ]
  },
  {
   "cell_type": "code",
   "execution_count": 26,
   "metadata": {},
   "outputs": [],
   "source": [
    "H_1057 = G.subgraph(sample_nodes_1057)"
   ]
  },
  {
   "cell_type": "code",
   "execution_count": 27,
   "metadata": {},
   "outputs": [],
   "source": [
    "first = []\n",
    "second = []\n",
    "for i in H_1057.edges():\n",
    "    first.append(word2vec_1057.wv[i[0]])\n",
    "    second.append(word2vec_1057.wv[i[1]])\n",
    "new_df = pd.DataFrame({\"first\":first, \"second\":second})\n",
    "new_df.reset_index(inplace=True, drop=True)\n",
    "new_df.to_pickle(\"embedding_pickle_1057.csv\")"
   ]
  },
  {
   "cell_type": "code",
   "execution_count": 28,
   "metadata": {},
   "outputs": [],
   "source": [
    "word2vec_1057.save(\"word2vec_1057.model\")"
   ]
  },
  {
   "cell_type": "code",
   "execution_count": 29,
   "metadata": {},
   "outputs": [],
   "source": [
    "nodes = list(H_1057.nodes())\n",
    "universe_1057 = set([Pair(i) for i in itertools.product(nodes, nodes) if i[0]!=i[1]])"
   ]
  },
  {
   "cell_type": "code",
   "execution_count": 30,
   "metadata": {},
   "outputs": [],
   "source": [
    "with open('universe_1057.pickle', 'wb') as f:\n",
    "    pickle.dump(universe_1057, f)"
   ]
  },
  {
   "cell_type": "code",
   "execution_count": 31,
   "metadata": {},
   "outputs": [],
   "source": [
    "first = []\n",
    "second = []\n",
    "for i in H_1057.edges():\n",
    "    first.append(i[0])\n",
    "    second.append(i[1])"
   ]
  },
  {
   "cell_type": "code",
   "execution_count": 32,
   "metadata": {},
   "outputs": [],
   "source": [
    "new_df = pd.DataFrame({\"first\":first, \"second\":second})\n",
    "new_df.reset_index(inplace=True, drop=True)\n",
    "new_df.to_pickle(\"edges_original_1057.csv\")"
   ]
  },
  {
   "cell_type": "code",
   "execution_count": 33,
   "metadata": {},
   "outputs": [],
   "source": [
    "nx.write_graphml(H_1057,\"H_1057.graphml\")"
   ]
  },
  {
   "cell_type": "code",
   "execution_count": null,
   "metadata": {},
   "outputs": [],
   "source": []
  },
  {
   "cell_type": "markdown",
   "metadata": {},
   "source": [
    "-------------------------------------"
   ]
  }
 ],
 "metadata": {
  "kernelspec": {
   "display_name": "Python 3",
   "language": "python",
   "name": "python3"
  },
  "language_info": {
   "codemirror_mode": {
    "name": "ipython",
    "version": 3
   },
   "file_extension": ".py",
   "mimetype": "text/x-python",
   "name": "python",
   "nbconvert_exporter": "python",
   "pygments_lexer": "ipython3",
   "version": "3.8.8"
  }
 },
 "nbformat": 4,
 "nbformat_minor": 4
}
