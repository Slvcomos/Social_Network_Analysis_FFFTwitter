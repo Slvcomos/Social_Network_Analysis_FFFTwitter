{
 "cells": [
  {
   "cell_type": "code",
   "execution_count": 1,
   "id": "849eacf3",
   "metadata": {},
   "outputs": [
    {
     "name": "stdout",
     "output_type": "stream",
     "text": [
      "Note: to be able to use all crisp methods, you need to install some additional packages:  {'wurlitzer', 'leidenalg', 'infomap', 'karateclub', 'graph_tool'}\n",
      "Note: to be able to use all overlapping methods, you need to install some additional packages:  {'ASLPAw', 'karateclub'}\n",
      "Note: to be able to use all bipartite methods, you need to install some additional packages:  {'wurlitzer', 'leidenalg', 'infomap'}\n"
     ]
    }
   ],
   "source": [
    "import networkx as nx\n",
    "import numpy as np\n",
    "import pandas as pd\n",
    "import matplotlib.pyplot as plt\n",
    "from collections import Counter\n",
    "from operator import itemgetter\n",
    "import powerlaw\n",
    "from networkx.drawing.nx_agraph import graphviz_layout\n",
    "import pickle\n",
    "from statistics import mean, stdev\n",
    "import seaborn as sns\n",
    "from cdlib import algorithms\n",
    "import json"
   ]
  },
  {
   "cell_type": "code",
   "execution_count": 2,
   "id": "3b9d7582",
   "metadata": {},
   "outputs": [],
   "source": [
    "path_graph = \"../DataSet SuperUsers/Graph_data/\""
   ]
  },
  {
   "cell_type": "code",
   "execution_count": 3,
   "id": "ffbd13ad",
   "metadata": {},
   "outputs": [],
   "source": [
    "G = nx.read_graphml(path_graph+\"Real_Network.graphml\")"
   ]
  },
  {
   "cell_type": "code",
   "execution_count": 4,
   "id": "01ae14ab",
   "metadata": {},
   "outputs": [],
   "source": [
    "saved_path = \"../DataSet SuperUsers/centrality/centrality_degree_nodes.csv\""
   ]
  },
  {
   "cell_type": "code",
   "execution_count": 5,
   "id": "bee6d201",
   "metadata": {},
   "outputs": [],
   "source": [
    "df = pd.read_csv(saved_path)\n",
    "new_centrality_nodes = list(df[\"Id\"])"
   ]
  },
  {
   "cell_type": "code",
   "execution_count": 6,
   "id": "33c1865a",
   "metadata": {},
   "outputs": [],
   "source": [
    "it_res = {0: {\"connected_components\":[], \"path\":[]},\n",
    "          1: {\"connected_components\":[], \"path\":[]},\n",
    "          2: {\"connected_components\":[], \"path\":[]},\n",
    "          3: {\"connected_components\":[], \"path\":[]},\n",
    "          4: {\"connected_components\":[], \"path\":[]},\n",
    "          5: {\"connected_components\":[], \"path\":[]},\n",
    "          6: {\"connected_components\":[], \"path\":[]},\n",
    "          7: {\"connected_components\":[], \"path\":[]},\n",
    "          8: {\"connected_components\":[], \"path\":[]}}"
   ]
  },
  {
   "cell_type": "code",
   "execution_count": 7,
   "id": "3c115ea5",
   "metadata": {},
   "outputs": [],
   "source": [
    "for i in range(9):\n",
    "    G.remove_nodes_from(new_centrality_nodes[:10*i+10])\n",
    "    n_connected_component = list(nx.connected_components(G))\n",
    "    it_res[i][\"connected_components\"].append(len(n_connected_component))\n",
    "    it_res[i][\"connected_components\"].append(len(n_connected_component[0]))\n",
    "    max_diameter = 0\n",
    "    max_avg_path = 0\n",
    "    for s in n_connected_component:\n",
    "        diam = nx.diameter(G.subgraph(s))\n",
    "        if diam > max_diameter:\n",
    "            max_diameter = diam\n",
    "        avg_sp = nx.average_shortest_path_length(G.subgraph(s))\n",
    "        if avg_sp > max_avg_path:\n",
    "            max_avg_path = avg_sp\n",
    "    it_res[i][\"path\"].append(max_diameter)\n",
    "    it_res[i][\"path\"].append(max_avg_path)\n",
    "    jsonString = json.dumps(it_res)\n",
    "    jsonFile = open(f\"../DataSet SuperUsers/centrality/centrality_result_{i}.json\", \"w\")\n",
    "    jsonFile.write(jsonString)\n",
    "    jsonFile.close()"
   ]
  },
  {
   "cell_type": "code",
   "execution_count": null,
   "id": "b6c90bc5",
   "metadata": {},
   "outputs": [],
   "source": []
  }
 ],
 "metadata": {
  "kernelspec": {
   "display_name": "Python 3",
   "language": "python",
   "name": "python3"
  },
  "language_info": {
   "codemirror_mode": {
    "name": "ipython",
    "version": 3
   },
   "file_extension": ".py",
   "mimetype": "text/x-python",
   "name": "python",
   "nbconvert_exporter": "python",
   "pygments_lexer": "ipython3",
   "version": "3.8.8"
  }
 },
 "nbformat": 4,
 "nbformat_minor": 5
}
