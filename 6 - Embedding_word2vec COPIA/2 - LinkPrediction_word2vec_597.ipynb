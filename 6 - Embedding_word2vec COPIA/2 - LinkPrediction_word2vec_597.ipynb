{
 "cells": [
  {
   "cell_type": "code",
   "execution_count": 1,
   "id": "a931aa6b",
   "metadata": {},
   "outputs": [],
   "source": [
    "import pandas as pd\n",
    "import numpy as np\n",
    "import random\n",
    "import networkx as nx\n",
    "from tqdm import tqdm\n",
    "import re\n",
    "import matplotlib.pyplot as plt\n",
    "import itertools\n",
    "from operator import itemgetter\n",
    "import pickle\n",
    "\n",
    "from sklearn.linear_model import LogisticRegression\n",
    "from sklearn.metrics import classification_report, roc_auc_score\n",
    "from sklearn.model_selection import train_test_split\n",
    "from sklearn.metrics import confusion_matrix\n",
    "from sklearn.metrics import roc_curve\n",
    "from sklearn.metrics import auc"
   ]
  },
  {
   "cell_type": "code",
   "execution_count": 2,
   "id": "b77d27e7",
   "metadata": {},
   "outputs": [],
   "source": [
    "import tensorflow as tf\n",
    "import tensorflow.keras\n",
    "import tensorflow.keras.backend as K\n",
    "from tensorflow.keras.models import Sequential \n",
    "from tensorflow.keras.layers import Dense, Activation\n",
    "from tensorflow.keras.wrappers.scikit_learn import KerasClassifier\n",
    "from tensorflow.keras import optimizers, utils, initializers, regularizers\n",
    "from tensorflow.keras.callbacks import EarlyStopping"
   ]
  },
  {
   "cell_type": "code",
   "execution_count": 3,
   "id": "c8fd9502",
   "metadata": {},
   "outputs": [],
   "source": [
    "import linkpred\n",
    "from linkpred.evaluation import Pair\n",
    "import seaborn as sns"
   ]
  },
  {
   "cell_type": "code",
   "execution_count": 4,
   "id": "25f08af2",
   "metadata": {},
   "outputs": [],
   "source": [
    "import sklearn.metrics as metrics"
   ]
  },
  {
   "cell_type": "code",
   "execution_count": 5,
   "id": "f34e7fd7",
   "metadata": {},
   "outputs": [],
   "source": [
    "from gensim.models import Word2Vec"
   ]
  },
  {
   "cell_type": "code",
   "execution_count": 6,
   "id": "9390ee20",
   "metadata": {},
   "outputs": [],
   "source": [
    "with open('universe_597.pickle', 'rb') as f:\n",
    "    universe_597 = pickle.load(f)"
   ]
  },
  {
   "cell_type": "code",
   "execution_count": 7,
   "id": "cc00d535",
   "metadata": {},
   "outputs": [
    {
     "data": {
      "text/plain": [
       "12246"
      ]
     },
     "execution_count": 7,
     "metadata": {},
     "output_type": "execute_result"
    }
   ],
   "source": [
    "len(universe_597)"
   ]
  },
  {
   "cell_type": "code",
   "execution_count": 8,
   "id": "16899a6c",
   "metadata": {},
   "outputs": [],
   "source": [
    "embedding_pickle_597 = pd.read_pickle('embedding_pickle_597.csv')"
   ]
  },
  {
   "cell_type": "code",
   "execution_count": 9,
   "id": "70bc6761",
   "metadata": {},
   "outputs": [],
   "source": [
    "edges_597 = pd.read_pickle('edges_original_597.csv')"
   ]
  },
  {
   "cell_type": "code",
   "execution_count": 10,
   "id": "28c978b4",
   "metadata": {},
   "outputs": [],
   "source": [
    "H_597 = nx.read_graphml(\"H_597.graphml\")"
   ]
  },
  {
   "cell_type": "code",
   "execution_count": 11,
   "id": "eb20ae6d",
   "metadata": {},
   "outputs": [],
   "source": [
    "all_unconnected_pairs_597 = []"
   ]
  },
  {
   "cell_type": "code",
   "execution_count": 12,
   "id": "2ddf98f9",
   "metadata": {},
   "outputs": [],
   "source": [
    "def check_isequal(x, a, b):\n",
    "    if x[0] == a:\n",
    "        if x[1] == b:\n",
    "            return True\n",
    "    if x[1] == a:\n",
    "        if x[0] == b:\n",
    "            return True\n",
    "    return False"
   ]
  },
  {
   "cell_type": "code",
   "execution_count": 13,
   "id": "1061e2d5",
   "metadata": {},
   "outputs": [],
   "source": [
    "for ui in universe_597:\n",
    "    is_not = False\n",
    "    for i,j in edges_597.values:\n",
    "        if check_isequal(ui, i, j):\n",
    "            is_not = True\n",
    "            break\n",
    "    if not is_not:\n",
    "        all_unconnected_pairs_597.append((ui[0], ui[1]))"
   ]
  },
  {
   "cell_type": "code",
   "execution_count": 14,
   "id": "fd5704a9",
   "metadata": {},
   "outputs": [
    {
     "data": {
      "text/plain": [
       "9385"
      ]
     },
     "execution_count": 14,
     "metadata": {},
     "output_type": "execute_result"
    }
   ],
   "source": [
    "len(all_unconnected_pairs_597)"
   ]
  },
  {
   "cell_type": "code",
   "execution_count": 15,
   "id": "864c37e9",
   "metadata": {},
   "outputs": [],
   "source": [
    "word2vec_597 = Word2Vec.load(\"word2vec_597.model\")"
   ]
  },
  {
   "cell_type": "markdown",
   "id": "618d1ed9",
   "metadata": {},
   "source": [
    "Collegamenti inesistenti => target negativo"
   ]
  },
  {
   "cell_type": "code",
   "execution_count": 16,
   "id": "5af89530",
   "metadata": {},
   "outputs": [],
   "source": [
    "node_1_unlinked = [word2vec_597.wv[i[0]] for i in all_unconnected_pairs_597]\n",
    "node_2_unlinked = [word2vec_597.wv[i[1]] for i in all_unconnected_pairs_597]\n",
    "\n",
    "data_597 = pd.DataFrame({'node_1':node_1_unlinked, \n",
    "                     'node_2':node_2_unlinked})\n",
    "\n",
    "# add target variable 'link'\n",
    "data_597['link'] = 0"
   ]
  },
  {
   "cell_type": "code",
   "execution_count": 17,
   "id": "93f7bf7a",
   "metadata": {},
   "outputs": [
    {
     "data": {
      "text/html": [
       "<div>\n",
       "<style scoped>\n",
       "    .dataframe tbody tr th:only-of-type {\n",
       "        vertical-align: middle;\n",
       "    }\n",
       "\n",
       "    .dataframe tbody tr th {\n",
       "        vertical-align: top;\n",
       "    }\n",
       "\n",
       "    .dataframe thead th {\n",
       "        text-align: right;\n",
       "    }\n",
       "</style>\n",
       "<table border=\"1\" class=\"dataframe\">\n",
       "  <thead>\n",
       "    <tr style=\"text-align: right;\">\n",
       "      <th></th>\n",
       "      <th>node_1</th>\n",
       "      <th>node_2</th>\n",
       "      <th>link</th>\n",
       "    </tr>\n",
       "  </thead>\n",
       "  <tbody>\n",
       "    <tr>\n",
       "      <th>0</th>\n",
       "      <td>[-0.005545829, 0.007981818, -0.0086209085, -0....</td>\n",
       "      <td>[-0.008081911, -0.00036678519, 0.009434214, 0....</td>\n",
       "      <td>0</td>\n",
       "    </tr>\n",
       "    <tr>\n",
       "      <th>1</th>\n",
       "      <td>[-0.0014969412, 0.006443943, 0.0037818635, 0.0...</td>\n",
       "      <td>[0.00020271495, 0.007759748, -0.008351552, -0....</td>\n",
       "      <td>0</td>\n",
       "    </tr>\n",
       "    <tr>\n",
       "      <th>2</th>\n",
       "      <td>[-0.0065005734, -0.0068245167, -0.008823096, 0...</td>\n",
       "      <td>[0.009342156, 0.00782664, -0.008193135, -0.001...</td>\n",
       "      <td>0</td>\n",
       "    </tr>\n",
       "    <tr>\n",
       "      <th>3</th>\n",
       "      <td>[0.0025985339, -0.00046749072, -0.0076278313, ...</td>\n",
       "      <td>[-0.005633003, 0.00070889835, 0.0038969829, 0....</td>\n",
       "      <td>0</td>\n",
       "    </tr>\n",
       "    <tr>\n",
       "      <th>4</th>\n",
       "      <td>[0.009770082, -0.0007778638, -0.00018980475, -...</td>\n",
       "      <td>[-0.0003224446, -0.0035378984, 0.0035743127, -...</td>\n",
       "      <td>0</td>\n",
       "    </tr>\n",
       "    <tr>\n",
       "      <th>...</th>\n",
       "      <td>...</td>\n",
       "      <td>...</td>\n",
       "      <td>...</td>\n",
       "    </tr>\n",
       "    <tr>\n",
       "      <th>9380</th>\n",
       "      <td>[-0.0072059985, 0.0017975175, 0.00543224, 0.00...</td>\n",
       "      <td>[-0.0025835736, 0.007849664, 0.0031582462, 0.0...</td>\n",
       "      <td>0</td>\n",
       "    </tr>\n",
       "    <tr>\n",
       "      <th>9381</th>\n",
       "      <td>[-0.0014299825, -0.0043130163, 0.009674905, 0....</td>\n",
       "      <td>[0.00020271495, 0.007759748, -0.008351552, -0....</td>\n",
       "      <td>0</td>\n",
       "    </tr>\n",
       "    <tr>\n",
       "      <th>9382</th>\n",
       "      <td>[0.0096429335, -0.0038243602, 0.0028701038, -0...</td>\n",
       "      <td>[-0.003419323, 0.007969065, -0.0014578901, 0.0...</td>\n",
       "      <td>0</td>\n",
       "    </tr>\n",
       "    <tr>\n",
       "      <th>9383</th>\n",
       "      <td>[0.0031337172, -0.0038719443, 0.0071092253, -0...</td>\n",
       "      <td>[-0.0025835736, 0.007849664, 0.0031582462, 0.0...</td>\n",
       "      <td>0</td>\n",
       "    </tr>\n",
       "    <tr>\n",
       "      <th>9384</th>\n",
       "      <td>[-0.008996587, 0.005718488, -0.0018742871, -0....</td>\n",
       "      <td>[0.005725658, -0.0071982876, 0.00060892216, 0....</td>\n",
       "      <td>0</td>\n",
       "    </tr>\n",
       "  </tbody>\n",
       "</table>\n",
       "<p>9385 rows × 3 columns</p>\n",
       "</div>"
      ],
      "text/plain": [
       "                                                 node_1  \\\n",
       "0     [-0.005545829, 0.007981818, -0.0086209085, -0....   \n",
       "1     [-0.0014969412, 0.006443943, 0.0037818635, 0.0...   \n",
       "2     [-0.0065005734, -0.0068245167, -0.008823096, 0...   \n",
       "3     [0.0025985339, -0.00046749072, -0.0076278313, ...   \n",
       "4     [0.009770082, -0.0007778638, -0.00018980475, -...   \n",
       "...                                                 ...   \n",
       "9380  [-0.0072059985, 0.0017975175, 0.00543224, 0.00...   \n",
       "9381  [-0.0014299825, -0.0043130163, 0.009674905, 0....   \n",
       "9382  [0.0096429335, -0.0038243602, 0.0028701038, -0...   \n",
       "9383  [0.0031337172, -0.0038719443, 0.0071092253, -0...   \n",
       "9384  [-0.008996587, 0.005718488, -0.0018742871, -0....   \n",
       "\n",
       "                                                 node_2  link  \n",
       "0     [-0.008081911, -0.00036678519, 0.009434214, 0....     0  \n",
       "1     [0.00020271495, 0.007759748, -0.008351552, -0....     0  \n",
       "2     [0.009342156, 0.00782664, -0.008193135, -0.001...     0  \n",
       "3     [-0.005633003, 0.00070889835, 0.0038969829, 0....     0  \n",
       "4     [-0.0003224446, -0.0035378984, 0.0035743127, -...     0  \n",
       "...                                                 ...   ...  \n",
       "9380  [-0.0025835736, 0.007849664, 0.0031582462, 0.0...     0  \n",
       "9381  [0.00020271495, 0.007759748, -0.008351552, -0....     0  \n",
       "9382  [-0.003419323, 0.007969065, -0.0014578901, 0.0...     0  \n",
       "9383  [-0.0025835736, 0.007849664, 0.0031582462, 0.0...     0  \n",
       "9384  [0.005725658, -0.0071982876, 0.00060892216, 0....     0  \n",
       "\n",
       "[9385 rows x 3 columns]"
      ]
     },
     "execution_count": 17,
     "metadata": {},
     "output_type": "execute_result"
    }
   ],
   "source": [
    "data_597"
   ]
  },
  {
   "cell_type": "code",
   "execution_count": 18,
   "id": "b30068ee",
   "metadata": {},
   "outputs": [],
   "source": [
    "def omissibile_links(G, df_edges):\n",
    "    initial_node_count = len(G.nodes)\n",
    "\n",
    "    fb_df_temp = df_edges.copy()\n",
    "\n",
    "    # empty list to store removable links\n",
    "    omissible_links_index = []\n",
    "\n",
    "    for i in tqdm(df_edges.index.values):\n",
    "\n",
    "      # remove a node pair and build a new graph\n",
    "      G_temp = nx.from_pandas_edgelist(fb_df_temp.drop(index = i), \"first\", \"second\", create_using=nx.Graph())\n",
    "\n",
    "      # check there is no spliting of graph and number of nodes is same\n",
    "      if (nx.number_connected_components(G_temp) == 1) and (len(G_temp.nodes) == initial_node_count):\n",
    "        omissible_links_index.append(i)\n",
    "        fb_df_temp = fb_df_temp.drop(index = i)\n",
    "    return omissible_links_index"
   ]
  },
  {
   "cell_type": "code",
   "execution_count": 19,
   "id": "94de34d9",
   "metadata": {},
   "outputs": [
    {
     "name": "stderr",
     "output_type": "stream",
     "text": [
      "100%|█████████████████████████████████████████████████████████████████████████████| 2861/2861 [00:08<00:00, 323.40it/s]\n"
     ]
    }
   ],
   "source": [
    "omissible_links_597 =  omissibile_links(H_597, edges_597)"
   ]
  },
  {
   "cell_type": "code",
   "execution_count": 20,
   "id": "87ab9bea",
   "metadata": {},
   "outputs": [
    {
     "data": {
      "text/plain": [
       "2861"
      ]
     },
     "execution_count": 20,
     "metadata": {},
     "output_type": "execute_result"
    }
   ],
   "source": [
    "len(edges_597)"
   ]
  },
  {
   "cell_type": "code",
   "execution_count": 21,
   "id": "f6be6011",
   "metadata": {},
   "outputs": [
    {
     "data": {
      "text/plain": [
       "2705"
      ]
     },
     "execution_count": 21,
     "metadata": {},
     "output_type": "execute_result"
    }
   ],
   "source": [
    "len(omissible_links_597)"
   ]
  },
  {
   "cell_type": "code",
   "execution_count": 22,
   "id": "9502bbe9",
   "metadata": {},
   "outputs": [
    {
     "data": {
      "text/plain": [
       "12246"
      ]
     },
     "execution_count": 22,
     "metadata": {},
     "output_type": "execute_result"
    }
   ],
   "source": [
    "len(universe_597)"
   ]
  },
  {
   "cell_type": "code",
   "execution_count": 23,
   "id": "ecd51a3c",
   "metadata": {},
   "outputs": [],
   "source": [
    "# create dataframe of removable edges\n",
    "fb_df_ghost_597 = embedding_pickle_597.loc[omissible_links_597]\n",
    "\n",
    "fb_df_ghost_597 = fb_df_ghost_597.rename(columns={\"first\": \"node_1\", \"second\": \"node_2\"})\n",
    "# add the target variable 'link'\n",
    "fb_df_ghost_597['link'] = 1\n",
    "\n",
    "data_597 = data_597.append(fb_df_ghost_597[['node_1', 'node_2', 'link']], ignore_index=True)"
   ]
  },
  {
   "cell_type": "code",
   "execution_count": 24,
   "id": "52701644",
   "metadata": {},
   "outputs": [
    {
     "data": {
      "text/plain": [
       "0    9385\n",
       "1    2705\n",
       "Name: link, dtype: int64"
      ]
     },
     "execution_count": 24,
     "metadata": {},
     "output_type": "execute_result"
    }
   ],
   "source": [
    "data_597['link'].value_counts()"
   ]
  },
  {
   "cell_type": "code",
   "execution_count": 25,
   "id": "cb38d8de",
   "metadata": {},
   "outputs": [],
   "source": [
    "data_597.to_pickle(\"data_597.csv\")"
   ]
  },
  {
   "cell_type": "markdown",
   "id": "1ef47ebb",
   "metadata": {},
   "source": [
    "----------------- Lettura dati -------------------"
   ]
  },
  {
   "cell_type": "code",
   "execution_count": 26,
   "id": "ca559161",
   "metadata": {},
   "outputs": [],
   "source": [
    "data_597 = pd.read_pickle('data_597.csv')"
   ]
  },
  {
   "cell_type": "markdown",
   "id": "02860546",
   "metadata": {},
   "source": [
    "# 2 - Classificatori"
   ]
  },
  {
   "cell_type": "code",
   "execution_count": 27,
   "id": "616eaf92",
   "metadata": {},
   "outputs": [],
   "source": [
    "X_597 = []\n",
    "for i in range(data_597.shape[0]):\n",
    "    first = data_597.iloc[i][0]\n",
    "    second = data_597.iloc[i][1]\n",
    "    mixed = np.concatenate((first, second), 0)\n",
    "    X_597.append(mixed)"
   ]
  },
  {
   "cell_type": "code",
   "execution_count": 28,
   "id": "246dd18c",
   "metadata": {},
   "outputs": [],
   "source": [
    "xtrain_597, xtest_597, ytrain_597, ytest_597 = train_test_split(np.asarray(X_597), data_597['link'], \n",
    "                                                test_size = 0.3, \n",
    "                                                random_state = 35,\n",
    "                                                stratify=data_597['link'])"
   ]
  },
  {
   "cell_type": "markdown",
   "id": "7fe64ff9",
   "metadata": {},
   "source": [
    "### 1 - DecisionTree"
   ]
  },
  {
   "cell_type": "code",
   "execution_count": 29,
   "id": "48f3974a",
   "metadata": {},
   "outputs": [],
   "source": [
    "from sklearn import tree\n",
    "from sklearn.model_selection import ShuffleSplit, StratifiedKFold, GridSearchCV\n",
    "from sklearn.metrics import roc_curve, auc, roc_auc_score"
   ]
  },
  {
   "cell_type": "code",
   "execution_count": 30,
   "id": "c384f1c5",
   "metadata": {},
   "outputs": [],
   "source": [
    "# Set the parameters by cross-validation\n",
    "tuned_parameters = {\n",
    "    'criterion' : ['gini', 'entropy'],\n",
    "    'max_depth': [2, 5, 10, 15, None],\n",
    "    'min_samples_split': [2, 5, 10, 20],\n",
    "    'min_samples_leaf': [1, 5, 10, 20],\n",
    "}\n",
    "scores = ['roc_auc']"
   ]
  },
  {
   "cell_type": "code",
   "execution_count": 31,
   "id": "e1bee94e",
   "metadata": {},
   "outputs": [],
   "source": [
    "def builtGridSearch( X_train, X_test, y_train, y_test, tuned_parameters, scores):\n",
    "    optimals = {}\n",
    "    for score in scores:\n",
    "        print(\"------- Score = \" + str(score) + \" ------- \\n\")\n",
    "        model = tree.DecisionTreeClassifier()\n",
    "        k_fold = StratifiedKFold(n_splits=5)\n",
    "        \n",
    "        print(\"> Fold = \" + str(k_fold) + \"\\n\")\n",
    "        clf = GridSearchCV(model, tuned_parameters, error_score='raise', cv=5, scoring = score, return_train_score=True)\n",
    "\n",
    "        clf.fit(X_train, y_train)\n",
    "\n",
    "        print(\"> Best Parameter set: \\n\")\n",
    "        best = clf.best_params_\n",
    "        print(best)\n",
    "        \n",
    "        print(\"\\n> Grid scores:\\n\")\n",
    "        means = clf.cv_results_['mean_test_score']\n",
    "        stds = clf.cv_results_['std_test_score']\n",
    "        \n",
    "        parameters = {\"criterion\": [], \"max_depth\": [], \"min_samples_leaf\": [], \"min_samples_split\": []}\n",
    "        for mean, std, params in zip(means, stds, clf.cv_results_['params']):\n",
    "            print(\"%0.3f (+/-%0.03f) for %r\"\n",
    "                  % (mean, std * 2, params))\n",
    "            parameters[\"criterion\"].append(params[\"criterion\"])\n",
    "\n",
    "            if(params[\"max_depth\"] == None):\n",
    "                parameters[\"max_depth\"].append(0)\n",
    "            else:\n",
    "                parameters[\"max_depth\"].append(params[\"max_depth\"])\n",
    "\n",
    "            #parameters[\"max_depth\"].append(params[\"max_depth\"])\n",
    "            parameters[\"min_samples_leaf\"].append(params[\"min_samples_leaf\"])\n",
    "            parameters[\"min_samples_split\"].append(params[\"min_samples_split\"])\n",
    "        \n",
    "        print(\"-> Report\\n\") \n",
    "        y_true, y_pred = y_test, clf.predict(X_test)\n",
    "        print(classification_report(y_true, y_pred))\n",
    "        print(\"\\n\")\n",
    "        print(\"**** Matrice di Confusione *****\")\n",
    "        tn, fp, fn, tp = confusion_matrix(y_true, y_pred).ravel()\n",
    "        print(' True negative: %d False negative: %d' % (tn, fn))\n",
    "        print(' True positive: %d False positive: %d' % (tp, fp))\n",
    "\n",
    "        \n",
    "        # Creazione del csv\n",
    "        d = {score: means, 'std_dev': stds*2, 'criterion': parameters[\"criterion\"], \"max_depth\": parameters[\"max_depth\"], \"min_samples_leaf\": parameters[\"min_samples_leaf\"], \"min_samples_split\": parameters[\"min_samples_split\"]}\n",
    "        \n",
    "        dataF = pd.DataFrame(data=d)\n",
    "        \n",
    "        dataF.to_csv(\"result_DT_gridsearch.csv\",index=False, header=True)\n",
    "        \n",
    "\n",
    "        print(\"...........RESULTS FOR TRAINING.........\")\n",
    "        print(\"........................................\")\n",
    "        means = clf.cv_results_['mean_train_score']\n",
    "        stds = clf.cv_results_['std_train_score']\n",
    "        for mean, std, params in zip(means, stds, clf.cv_results_['params']):\n",
    "            print(\"%0.3f (+/-%0.03f) for %r\"\n",
    "                  % (mean, std * 2, params))        \n",
    "        \n",
    "        print(\"____________________________________________\")\n",
    "        \n",
    "        optimals[score] = best\n",
    "    return optimals"
   ]
  },
  {
   "cell_type": "code",
   "execution_count": 32,
   "id": "d889752c",
   "metadata": {},
   "outputs": [
    {
     "name": "stdout",
     "output_type": "stream",
     "text": [
      "------- Score = roc_auc ------- \n",
      "\n",
      "> Fold = StratifiedKFold(n_splits=5, random_state=None, shuffle=False)\n",
      "\n",
      "> Best Parameter set: \n",
      "\n",
      "{'criterion': 'gini', 'max_depth': None, 'min_samples_leaf': 20, 'min_samples_split': 2}\n",
      "\n",
      "> Grid scores:\n",
      "\n",
      "0.605 (+/-0.041) for {'criterion': 'gini', 'max_depth': 2, 'min_samples_leaf': 1, 'min_samples_split': 2}\n",
      "0.605 (+/-0.041) for {'criterion': 'gini', 'max_depth': 2, 'min_samples_leaf': 1, 'min_samples_split': 5}\n",
      "0.605 (+/-0.041) for {'criterion': 'gini', 'max_depth': 2, 'min_samples_leaf': 1, 'min_samples_split': 10}\n",
      "0.605 (+/-0.041) for {'criterion': 'gini', 'max_depth': 2, 'min_samples_leaf': 1, 'min_samples_split': 20}\n",
      "0.605 (+/-0.041) for {'criterion': 'gini', 'max_depth': 2, 'min_samples_leaf': 5, 'min_samples_split': 2}\n",
      "0.605 (+/-0.041) for {'criterion': 'gini', 'max_depth': 2, 'min_samples_leaf': 5, 'min_samples_split': 5}\n",
      "0.605 (+/-0.041) for {'criterion': 'gini', 'max_depth': 2, 'min_samples_leaf': 5, 'min_samples_split': 10}\n",
      "0.605 (+/-0.041) for {'criterion': 'gini', 'max_depth': 2, 'min_samples_leaf': 5, 'min_samples_split': 20}\n",
      "0.605 (+/-0.041) for {'criterion': 'gini', 'max_depth': 2, 'min_samples_leaf': 10, 'min_samples_split': 2}\n",
      "0.605 (+/-0.041) for {'criterion': 'gini', 'max_depth': 2, 'min_samples_leaf': 10, 'min_samples_split': 5}\n",
      "0.605 (+/-0.041) for {'criterion': 'gini', 'max_depth': 2, 'min_samples_leaf': 10, 'min_samples_split': 10}\n",
      "0.605 (+/-0.041) for {'criterion': 'gini', 'max_depth': 2, 'min_samples_leaf': 10, 'min_samples_split': 20}\n",
      "0.605 (+/-0.041) for {'criterion': 'gini', 'max_depth': 2, 'min_samples_leaf': 20, 'min_samples_split': 2}\n",
      "0.605 (+/-0.041) for {'criterion': 'gini', 'max_depth': 2, 'min_samples_leaf': 20, 'min_samples_split': 5}\n",
      "0.605 (+/-0.041) for {'criterion': 'gini', 'max_depth': 2, 'min_samples_leaf': 20, 'min_samples_split': 10}\n",
      "0.605 (+/-0.041) for {'criterion': 'gini', 'max_depth': 2, 'min_samples_leaf': 20, 'min_samples_split': 20}\n",
      "0.675 (+/-0.061) for {'criterion': 'gini', 'max_depth': 5, 'min_samples_leaf': 1, 'min_samples_split': 2}\n",
      "0.675 (+/-0.064) for {'criterion': 'gini', 'max_depth': 5, 'min_samples_leaf': 1, 'min_samples_split': 5}\n",
      "0.676 (+/-0.064) for {'criterion': 'gini', 'max_depth': 5, 'min_samples_leaf': 1, 'min_samples_split': 10}\n",
      "0.677 (+/-0.068) for {'criterion': 'gini', 'max_depth': 5, 'min_samples_leaf': 1, 'min_samples_split': 20}\n",
      "0.677 (+/-0.061) for {'criterion': 'gini', 'max_depth': 5, 'min_samples_leaf': 5, 'min_samples_split': 2}\n",
      "0.676 (+/-0.061) for {'criterion': 'gini', 'max_depth': 5, 'min_samples_leaf': 5, 'min_samples_split': 5}\n",
      "0.676 (+/-0.062) for {'criterion': 'gini', 'max_depth': 5, 'min_samples_leaf': 5, 'min_samples_split': 10}\n",
      "0.677 (+/-0.066) for {'criterion': 'gini', 'max_depth': 5, 'min_samples_leaf': 5, 'min_samples_split': 20}\n",
      "0.679 (+/-0.067) for {'criterion': 'gini', 'max_depth': 5, 'min_samples_leaf': 10, 'min_samples_split': 2}\n",
      "0.680 (+/-0.067) for {'criterion': 'gini', 'max_depth': 5, 'min_samples_leaf': 10, 'min_samples_split': 5}\n",
      "0.680 (+/-0.067) for {'criterion': 'gini', 'max_depth': 5, 'min_samples_leaf': 10, 'min_samples_split': 10}\n",
      "0.680 (+/-0.067) for {'criterion': 'gini', 'max_depth': 5, 'min_samples_leaf': 10, 'min_samples_split': 20}\n",
      "0.678 (+/-0.066) for {'criterion': 'gini', 'max_depth': 5, 'min_samples_leaf': 20, 'min_samples_split': 2}\n",
      "0.678 (+/-0.067) for {'criterion': 'gini', 'max_depth': 5, 'min_samples_leaf': 20, 'min_samples_split': 5}\n",
      "0.678 (+/-0.066) for {'criterion': 'gini', 'max_depth': 5, 'min_samples_leaf': 20, 'min_samples_split': 10}\n",
      "0.678 (+/-0.066) for {'criterion': 'gini', 'max_depth': 5, 'min_samples_leaf': 20, 'min_samples_split': 20}\n",
      "0.712 (+/-0.036) for {'criterion': 'gini', 'max_depth': 10, 'min_samples_leaf': 1, 'min_samples_split': 2}\n",
      "0.719 (+/-0.039) for {'criterion': 'gini', 'max_depth': 10, 'min_samples_leaf': 1, 'min_samples_split': 5}\n",
      "0.731 (+/-0.046) for {'criterion': 'gini', 'max_depth': 10, 'min_samples_leaf': 1, 'min_samples_split': 10}\n",
      "0.743 (+/-0.047) for {'criterion': 'gini', 'max_depth': 10, 'min_samples_leaf': 1, 'min_samples_split': 20}\n",
      "0.745 (+/-0.039) for {'criterion': 'gini', 'max_depth': 10, 'min_samples_leaf': 5, 'min_samples_split': 2}\n",
      "0.744 (+/-0.046) for {'criterion': 'gini', 'max_depth': 10, 'min_samples_leaf': 5, 'min_samples_split': 5}\n",
      "0.749 (+/-0.044) for {'criterion': 'gini', 'max_depth': 10, 'min_samples_leaf': 5, 'min_samples_split': 10}\n",
      "0.756 (+/-0.053) for {'criterion': 'gini', 'max_depth': 10, 'min_samples_leaf': 5, 'min_samples_split': 20}\n",
      "0.756 (+/-0.054) for {'criterion': 'gini', 'max_depth': 10, 'min_samples_leaf': 10, 'min_samples_split': 2}\n",
      "0.757 (+/-0.055) for {'criterion': 'gini', 'max_depth': 10, 'min_samples_leaf': 10, 'min_samples_split': 5}\n",
      "0.756 (+/-0.052) for {'criterion': 'gini', 'max_depth': 10, 'min_samples_leaf': 10, 'min_samples_split': 10}\n",
      "0.756 (+/-0.053) for {'criterion': 'gini', 'max_depth': 10, 'min_samples_leaf': 10, 'min_samples_split': 20}\n",
      "0.763 (+/-0.056) for {'criterion': 'gini', 'max_depth': 10, 'min_samples_leaf': 20, 'min_samples_split': 2}\n",
      "0.763 (+/-0.054) for {'criterion': 'gini', 'max_depth': 10, 'min_samples_leaf': 20, 'min_samples_split': 5}\n",
      "0.763 (+/-0.056) for {'criterion': 'gini', 'max_depth': 10, 'min_samples_leaf': 20, 'min_samples_split': 10}\n",
      "0.763 (+/-0.056) for {'criterion': 'gini', 'max_depth': 10, 'min_samples_leaf': 20, 'min_samples_split': 20}\n",
      "0.727 (+/-0.037) for {'criterion': 'gini', 'max_depth': 15, 'min_samples_leaf': 1, 'min_samples_split': 2}\n",
      "0.741 (+/-0.031) for {'criterion': 'gini', 'max_depth': 15, 'min_samples_leaf': 1, 'min_samples_split': 5}\n",
      "0.757 (+/-0.039) for {'criterion': 'gini', 'max_depth': 15, 'min_samples_leaf': 1, 'min_samples_split': 10}\n",
      "0.782 (+/-0.040) for {'criterion': 'gini', 'max_depth': 15, 'min_samples_leaf': 1, 'min_samples_split': 20}\n",
      "0.780 (+/-0.031) for {'criterion': 'gini', 'max_depth': 15, 'min_samples_leaf': 5, 'min_samples_split': 2}\n",
      "0.782 (+/-0.027) for {'criterion': 'gini', 'max_depth': 15, 'min_samples_leaf': 5, 'min_samples_split': 5}\n",
      "0.777 (+/-0.034) for {'criterion': 'gini', 'max_depth': 15, 'min_samples_leaf': 5, 'min_samples_split': 10}\n",
      "0.799 (+/-0.033) for {'criterion': 'gini', 'max_depth': 15, 'min_samples_leaf': 5, 'min_samples_split': 20}\n",
      "0.801 (+/-0.038) for {'criterion': 'gini', 'max_depth': 15, 'min_samples_leaf': 10, 'min_samples_split': 2}\n",
      "0.801 (+/-0.041) for {'criterion': 'gini', 'max_depth': 15, 'min_samples_leaf': 10, 'min_samples_split': 5}\n",
      "0.800 (+/-0.036) for {'criterion': 'gini', 'max_depth': 15, 'min_samples_leaf': 10, 'min_samples_split': 10}\n",
      "0.800 (+/-0.037) for {'criterion': 'gini', 'max_depth': 15, 'min_samples_leaf': 10, 'min_samples_split': 20}\n",
      "0.820 (+/-0.023) for {'criterion': 'gini', 'max_depth': 15, 'min_samples_leaf': 20, 'min_samples_split': 2}\n",
      "0.820 (+/-0.024) for {'criterion': 'gini', 'max_depth': 15, 'min_samples_leaf': 20, 'min_samples_split': 5}\n",
      "0.820 (+/-0.022) for {'criterion': 'gini', 'max_depth': 15, 'min_samples_leaf': 20, 'min_samples_split': 10}\n",
      "0.820 (+/-0.020) for {'criterion': 'gini', 'max_depth': 15, 'min_samples_leaf': 20, 'min_samples_split': 20}\n",
      "0.736 (+/-0.024) for {'criterion': 'gini', 'max_depth': None, 'min_samples_leaf': 1, 'min_samples_split': 2}\n",
      "0.747 (+/-0.024) for {'criterion': 'gini', 'max_depth': None, 'min_samples_leaf': 1, 'min_samples_split': 5}\n",
      "0.769 (+/-0.030) for {'criterion': 'gini', 'max_depth': None, 'min_samples_leaf': 1, 'min_samples_split': 10}\n",
      "0.792 (+/-0.032) for {'criterion': 'gini', 'max_depth': None, 'min_samples_leaf': 1, 'min_samples_split': 20}\n",
      "0.787 (+/-0.035) for {'criterion': 'gini', 'max_depth': None, 'min_samples_leaf': 5, 'min_samples_split': 2}\n",
      "0.789 (+/-0.028) for {'criterion': 'gini', 'max_depth': None, 'min_samples_leaf': 5, 'min_samples_split': 5}\n",
      "0.788 (+/-0.034) for {'criterion': 'gini', 'max_depth': None, 'min_samples_leaf': 5, 'min_samples_split': 10}\n",
      "0.803 (+/-0.030) for {'criterion': 'gini', 'max_depth': None, 'min_samples_leaf': 5, 'min_samples_split': 20}\n",
      "0.806 (+/-0.034) for {'criterion': 'gini', 'max_depth': None, 'min_samples_leaf': 10, 'min_samples_split': 2}\n",
      "0.805 (+/-0.027) for {'criterion': 'gini', 'max_depth': None, 'min_samples_leaf': 10, 'min_samples_split': 5}\n",
      "0.807 (+/-0.034) for {'criterion': 'gini', 'max_depth': None, 'min_samples_leaf': 10, 'min_samples_split': 10}\n",
      "0.806 (+/-0.030) for {'criterion': 'gini', 'max_depth': None, 'min_samples_leaf': 10, 'min_samples_split': 20}\n",
      "0.831 (+/-0.021) for {'criterion': 'gini', 'max_depth': None, 'min_samples_leaf': 20, 'min_samples_split': 2}\n",
      "0.831 (+/-0.025) for {'criterion': 'gini', 'max_depth': None, 'min_samples_leaf': 20, 'min_samples_split': 5}\n",
      "0.828 (+/-0.026) for {'criterion': 'gini', 'max_depth': None, 'min_samples_leaf': 20, 'min_samples_split': 10}\n",
      "0.831 (+/-0.024) for {'criterion': 'gini', 'max_depth': None, 'min_samples_leaf': 20, 'min_samples_split': 20}\n",
      "0.632 (+/-0.031) for {'criterion': 'entropy', 'max_depth': 2, 'min_samples_leaf': 1, 'min_samples_split': 2}\n",
      "0.632 (+/-0.031) for {'criterion': 'entropy', 'max_depth': 2, 'min_samples_leaf': 1, 'min_samples_split': 5}\n",
      "0.632 (+/-0.031) for {'criterion': 'entropy', 'max_depth': 2, 'min_samples_leaf': 1, 'min_samples_split': 10}\n",
      "0.632 (+/-0.031) for {'criterion': 'entropy', 'max_depth': 2, 'min_samples_leaf': 1, 'min_samples_split': 20}\n",
      "0.632 (+/-0.031) for {'criterion': 'entropy', 'max_depth': 2, 'min_samples_leaf': 5, 'min_samples_split': 2}\n",
      "0.632 (+/-0.031) for {'criterion': 'entropy', 'max_depth': 2, 'min_samples_leaf': 5, 'min_samples_split': 5}\n",
      "0.632 (+/-0.031) for {'criterion': 'entropy', 'max_depth': 2, 'min_samples_leaf': 5, 'min_samples_split': 10}\n",
      "0.632 (+/-0.031) for {'criterion': 'entropy', 'max_depth': 2, 'min_samples_leaf': 5, 'min_samples_split': 20}\n",
      "0.632 (+/-0.031) for {'criterion': 'entropy', 'max_depth': 2, 'min_samples_leaf': 10, 'min_samples_split': 2}\n",
      "0.632 (+/-0.031) for {'criterion': 'entropy', 'max_depth': 2, 'min_samples_leaf': 10, 'min_samples_split': 5}\n",
      "0.632 (+/-0.031) for {'criterion': 'entropy', 'max_depth': 2, 'min_samples_leaf': 10, 'min_samples_split': 10}\n",
      "0.632 (+/-0.031) for {'criterion': 'entropy', 'max_depth': 2, 'min_samples_leaf': 10, 'min_samples_split': 20}\n",
      "0.632 (+/-0.031) for {'criterion': 'entropy', 'max_depth': 2, 'min_samples_leaf': 20, 'min_samples_split': 2}\n",
      "0.632 (+/-0.031) for {'criterion': 'entropy', 'max_depth': 2, 'min_samples_leaf': 20, 'min_samples_split': 5}\n",
      "0.632 (+/-0.031) for {'criterion': 'entropy', 'max_depth': 2, 'min_samples_leaf': 20, 'min_samples_split': 10}\n",
      "0.632 (+/-0.031) for {'criterion': 'entropy', 'max_depth': 2, 'min_samples_leaf': 20, 'min_samples_split': 20}\n",
      "0.740 (+/-0.033) for {'criterion': 'entropy', 'max_depth': 5, 'min_samples_leaf': 1, 'min_samples_split': 2}\n",
      "0.740 (+/-0.033) for {'criterion': 'entropy', 'max_depth': 5, 'min_samples_leaf': 1, 'min_samples_split': 5}\n",
      "0.741 (+/-0.034) for {'criterion': 'entropy', 'max_depth': 5, 'min_samples_leaf': 1, 'min_samples_split': 10}\n",
      "0.740 (+/-0.033) for {'criterion': 'entropy', 'max_depth': 5, 'min_samples_leaf': 1, 'min_samples_split': 20}\n",
      "0.742 (+/-0.033) for {'criterion': 'entropy', 'max_depth': 5, 'min_samples_leaf': 5, 'min_samples_split': 2}\n",
      "0.742 (+/-0.033) for {'criterion': 'entropy', 'max_depth': 5, 'min_samples_leaf': 5, 'min_samples_split': 5}\n",
      "0.742 (+/-0.033) for {'criterion': 'entropy', 'max_depth': 5, 'min_samples_leaf': 5, 'min_samples_split': 10}\n",
      "0.742 (+/-0.033) for {'criterion': 'entropy', 'max_depth': 5, 'min_samples_leaf': 5, 'min_samples_split': 20}\n",
      "0.742 (+/-0.033) for {'criterion': 'entropy', 'max_depth': 5, 'min_samples_leaf': 10, 'min_samples_split': 2}\n",
      "0.742 (+/-0.033) for {'criterion': 'entropy', 'max_depth': 5, 'min_samples_leaf': 10, 'min_samples_split': 5}\n",
      "0.742 (+/-0.032) for {'criterion': 'entropy', 'max_depth': 5, 'min_samples_leaf': 10, 'min_samples_split': 10}\n",
      "0.742 (+/-0.033) for {'criterion': 'entropy', 'max_depth': 5, 'min_samples_leaf': 10, 'min_samples_split': 20}\n",
      "0.742 (+/-0.032) for {'criterion': 'entropy', 'max_depth': 5, 'min_samples_leaf': 20, 'min_samples_split': 2}\n",
      "0.742 (+/-0.032) for {'criterion': 'entropy', 'max_depth': 5, 'min_samples_leaf': 20, 'min_samples_split': 5}\n",
      "0.742 (+/-0.032) for {'criterion': 'entropy', 'max_depth': 5, 'min_samples_leaf': 20, 'min_samples_split': 10}\n",
      "0.742 (+/-0.032) for {'criterion': 'entropy', 'max_depth': 5, 'min_samples_leaf': 20, 'min_samples_split': 20}\n",
      "0.781 (+/-0.045) for {'criterion': 'entropy', 'max_depth': 10, 'min_samples_leaf': 1, 'min_samples_split': 2}\n",
      "0.786 (+/-0.034) for {'criterion': 'entropy', 'max_depth': 10, 'min_samples_leaf': 1, 'min_samples_split': 5}\n",
      "0.796 (+/-0.028) for {'criterion': 'entropy', 'max_depth': 10, 'min_samples_leaf': 1, 'min_samples_split': 10}\n",
      "0.810 (+/-0.019) for {'criterion': 'entropy', 'max_depth': 10, 'min_samples_leaf': 1, 'min_samples_split': 20}\n",
      "0.799 (+/-0.028) for {'criterion': 'entropy', 'max_depth': 10, 'min_samples_leaf': 5, 'min_samples_split': 2}\n",
      "0.799 (+/-0.029) for {'criterion': 'entropy', 'max_depth': 10, 'min_samples_leaf': 5, 'min_samples_split': 5}\n",
      "0.800 (+/-0.025) for {'criterion': 'entropy', 'max_depth': 10, 'min_samples_leaf': 5, 'min_samples_split': 10}\n",
      "0.812 (+/-0.011) for {'criterion': 'entropy', 'max_depth': 10, 'min_samples_leaf': 5, 'min_samples_split': 20}\n",
      "0.816 (+/-0.020) for {'criterion': 'entropy', 'max_depth': 10, 'min_samples_leaf': 10, 'min_samples_split': 2}\n",
      "0.816 (+/-0.022) for {'criterion': 'entropy', 'max_depth': 10, 'min_samples_leaf': 10, 'min_samples_split': 5}\n",
      "0.816 (+/-0.022) for {'criterion': 'entropy', 'max_depth': 10, 'min_samples_leaf': 10, 'min_samples_split': 10}\n",
      "0.816 (+/-0.018) for {'criterion': 'entropy', 'max_depth': 10, 'min_samples_leaf': 10, 'min_samples_split': 20}\n",
      "0.823 (+/-0.022) for {'criterion': 'entropy', 'max_depth': 10, 'min_samples_leaf': 20, 'min_samples_split': 2}\n",
      "0.822 (+/-0.022) for {'criterion': 'entropy', 'max_depth': 10, 'min_samples_leaf': 20, 'min_samples_split': 5}\n",
      "0.822 (+/-0.026) for {'criterion': 'entropy', 'max_depth': 10, 'min_samples_leaf': 20, 'min_samples_split': 10}\n",
      "0.822 (+/-0.024) for {'criterion': 'entropy', 'max_depth': 10, 'min_samples_leaf': 20, 'min_samples_split': 20}\n",
      "0.766 (+/-0.028) for {'criterion': 'entropy', 'max_depth': 15, 'min_samples_leaf': 1, 'min_samples_split': 2}\n",
      "0.772 (+/-0.021) for {'criterion': 'entropy', 'max_depth': 15, 'min_samples_leaf': 1, 'min_samples_split': 5}\n",
      "0.776 (+/-0.029) for {'criterion': 'entropy', 'max_depth': 15, 'min_samples_leaf': 1, 'min_samples_split': 10}\n",
      "0.801 (+/-0.027) for {'criterion': 'entropy', 'max_depth': 15, 'min_samples_leaf': 1, 'min_samples_split': 20}\n",
      "0.791 (+/-0.027) for {'criterion': 'entropy', 'max_depth': 15, 'min_samples_leaf': 5, 'min_samples_split': 2}\n",
      "0.786 (+/-0.029) for {'criterion': 'entropy', 'max_depth': 15, 'min_samples_leaf': 5, 'min_samples_split': 5}\n",
      "0.787 (+/-0.024) for {'criterion': 'entropy', 'max_depth': 15, 'min_samples_leaf': 5, 'min_samples_split': 10}\n",
      "0.806 (+/-0.020) for {'criterion': 'entropy', 'max_depth': 15, 'min_samples_leaf': 5, 'min_samples_split': 20}\n",
      "0.812 (+/-0.020) for {'criterion': 'entropy', 'max_depth': 15, 'min_samples_leaf': 10, 'min_samples_split': 2}\n",
      "0.812 (+/-0.026) for {'criterion': 'entropy', 'max_depth': 15, 'min_samples_leaf': 10, 'min_samples_split': 5}\n",
      "0.811 (+/-0.020) for {'criterion': 'entropy', 'max_depth': 15, 'min_samples_leaf': 10, 'min_samples_split': 10}\n",
      "0.812 (+/-0.019) for {'criterion': 'entropy', 'max_depth': 15, 'min_samples_leaf': 10, 'min_samples_split': 20}\n",
      "0.826 (+/-0.009) for {'criterion': 'entropy', 'max_depth': 15, 'min_samples_leaf': 20, 'min_samples_split': 2}\n",
      "0.826 (+/-0.015) for {'criterion': 'entropy', 'max_depth': 15, 'min_samples_leaf': 20, 'min_samples_split': 5}\n",
      "0.825 (+/-0.010) for {'criterion': 'entropy', 'max_depth': 15, 'min_samples_leaf': 20, 'min_samples_split': 10}\n",
      "0.827 (+/-0.012) for {'criterion': 'entropy', 'max_depth': 15, 'min_samples_leaf': 20, 'min_samples_split': 20}\n",
      "0.747 (+/-0.017) for {'criterion': 'entropy', 'max_depth': None, 'min_samples_leaf': 1, 'min_samples_split': 2}\n",
      "0.760 (+/-0.015) for {'criterion': 'entropy', 'max_depth': None, 'min_samples_leaf': 1, 'min_samples_split': 5}\n",
      "0.774 (+/-0.026) for {'criterion': 'entropy', 'max_depth': None, 'min_samples_leaf': 1, 'min_samples_split': 10}\n",
      "0.800 (+/-0.022) for {'criterion': 'entropy', 'max_depth': None, 'min_samples_leaf': 1, 'min_samples_split': 20}\n",
      "0.786 (+/-0.022) for {'criterion': 'entropy', 'max_depth': None, 'min_samples_leaf': 5, 'min_samples_split': 2}\n",
      "0.787 (+/-0.013) for {'criterion': 'entropy', 'max_depth': None, 'min_samples_leaf': 5, 'min_samples_split': 5}\n",
      "0.786 (+/-0.028) for {'criterion': 'entropy', 'max_depth': None, 'min_samples_leaf': 5, 'min_samples_split': 10}\n",
      "0.802 (+/-0.019) for {'criterion': 'entropy', 'max_depth': None, 'min_samples_leaf': 5, 'min_samples_split': 20}\n",
      "0.812 (+/-0.018) for {'criterion': 'entropy', 'max_depth': None, 'min_samples_leaf': 10, 'min_samples_split': 2}\n",
      "0.813 (+/-0.015) for {'criterion': 'entropy', 'max_depth': None, 'min_samples_leaf': 10, 'min_samples_split': 5}\n",
      "0.812 (+/-0.020) for {'criterion': 'entropy', 'max_depth': None, 'min_samples_leaf': 10, 'min_samples_split': 10}\n",
      "0.812 (+/-0.018) for {'criterion': 'entropy', 'max_depth': None, 'min_samples_leaf': 10, 'min_samples_split': 20}\n",
      "0.825 (+/-0.011) for {'criterion': 'entropy', 'max_depth': None, 'min_samples_leaf': 20, 'min_samples_split': 2}\n",
      "0.824 (+/-0.017) for {'criterion': 'entropy', 'max_depth': None, 'min_samples_leaf': 20, 'min_samples_split': 5}\n",
      "0.824 (+/-0.010) for {'criterion': 'entropy', 'max_depth': None, 'min_samples_leaf': 20, 'min_samples_split': 10}\n",
      "0.827 (+/-0.008) for {'criterion': 'entropy', 'max_depth': None, 'min_samples_leaf': 20, 'min_samples_split': 20}\n",
      "-> Report\n",
      "\n",
      "              precision    recall  f1-score   support\n",
      "\n",
      "           0       0.87      0.92      0.90      2815\n",
      "           1       0.66      0.53      0.59       812\n",
      "\n",
      "    accuracy                           0.83      3627\n",
      "   macro avg       0.77      0.73      0.74      3627\n",
      "weighted avg       0.82      0.83      0.83      3627\n",
      "\n",
      "\n",
      "\n",
      "**** Matrice di Confusione *****\n",
      " True negative: 2596 False negative: 383\n",
      " True positive: 429 False positive: 219\n",
      "...........RESULTS FOR TRAINING.........\n",
      "........................................\n",
      "0.617 (+/-0.045) for {'criterion': 'gini', 'max_depth': 2, 'min_samples_leaf': 1, 'min_samples_split': 2}\n",
      "0.617 (+/-0.045) for {'criterion': 'gini', 'max_depth': 2, 'min_samples_leaf': 1, 'min_samples_split': 5}\n",
      "0.617 (+/-0.045) for {'criterion': 'gini', 'max_depth': 2, 'min_samples_leaf': 1, 'min_samples_split': 10}\n",
      "0.617 (+/-0.045) for {'criterion': 'gini', 'max_depth': 2, 'min_samples_leaf': 1, 'min_samples_split': 20}\n",
      "0.617 (+/-0.045) for {'criterion': 'gini', 'max_depth': 2, 'min_samples_leaf': 5, 'min_samples_split': 2}\n",
      "0.617 (+/-0.045) for {'criterion': 'gini', 'max_depth': 2, 'min_samples_leaf': 5, 'min_samples_split': 5}\n",
      "0.617 (+/-0.045) for {'criterion': 'gini', 'max_depth': 2, 'min_samples_leaf': 5, 'min_samples_split': 10}\n",
      "0.617 (+/-0.045) for {'criterion': 'gini', 'max_depth': 2, 'min_samples_leaf': 5, 'min_samples_split': 20}\n",
      "0.617 (+/-0.045) for {'criterion': 'gini', 'max_depth': 2, 'min_samples_leaf': 10, 'min_samples_split': 2}\n",
      "0.617 (+/-0.045) for {'criterion': 'gini', 'max_depth': 2, 'min_samples_leaf': 10, 'min_samples_split': 5}\n",
      "0.617 (+/-0.045) for {'criterion': 'gini', 'max_depth': 2, 'min_samples_leaf': 10, 'min_samples_split': 10}\n",
      "0.617 (+/-0.045) for {'criterion': 'gini', 'max_depth': 2, 'min_samples_leaf': 10, 'min_samples_split': 20}\n",
      "0.617 (+/-0.045) for {'criterion': 'gini', 'max_depth': 2, 'min_samples_leaf': 20, 'min_samples_split': 2}\n",
      "0.617 (+/-0.045) for {'criterion': 'gini', 'max_depth': 2, 'min_samples_leaf': 20, 'min_samples_split': 5}\n",
      "0.617 (+/-0.045) for {'criterion': 'gini', 'max_depth': 2, 'min_samples_leaf': 20, 'min_samples_split': 10}\n",
      "0.617 (+/-0.045) for {'criterion': 'gini', 'max_depth': 2, 'min_samples_leaf': 20, 'min_samples_split': 20}\n",
      "0.703 (+/-0.056) for {'criterion': 'gini', 'max_depth': 5, 'min_samples_leaf': 1, 'min_samples_split': 2}\n",
      "0.703 (+/-0.056) for {'criterion': 'gini', 'max_depth': 5, 'min_samples_leaf': 1, 'min_samples_split': 5}\n",
      "0.702 (+/-0.057) for {'criterion': 'gini', 'max_depth': 5, 'min_samples_leaf': 1, 'min_samples_split': 10}\n",
      "0.701 (+/-0.056) for {'criterion': 'gini', 'max_depth': 5, 'min_samples_leaf': 1, 'min_samples_split': 20}\n",
      "0.701 (+/-0.057) for {'criterion': 'gini', 'max_depth': 5, 'min_samples_leaf': 5, 'min_samples_split': 2}\n",
      "0.701 (+/-0.057) for {'criterion': 'gini', 'max_depth': 5, 'min_samples_leaf': 5, 'min_samples_split': 5}\n",
      "0.701 (+/-0.057) for {'criterion': 'gini', 'max_depth': 5, 'min_samples_leaf': 5, 'min_samples_split': 10}\n",
      "0.701 (+/-0.057) for {'criterion': 'gini', 'max_depth': 5, 'min_samples_leaf': 5, 'min_samples_split': 20}\n",
      "0.702 (+/-0.059) for {'criterion': 'gini', 'max_depth': 5, 'min_samples_leaf': 10, 'min_samples_split': 2}\n",
      "0.702 (+/-0.059) for {'criterion': 'gini', 'max_depth': 5, 'min_samples_leaf': 10, 'min_samples_split': 5}\n",
      "0.702 (+/-0.059) for {'criterion': 'gini', 'max_depth': 5, 'min_samples_leaf': 10, 'min_samples_split': 10}\n",
      "0.702 (+/-0.059) for {'criterion': 'gini', 'max_depth': 5, 'min_samples_leaf': 10, 'min_samples_split': 20}\n",
      "0.702 (+/-0.057) for {'criterion': 'gini', 'max_depth': 5, 'min_samples_leaf': 20, 'min_samples_split': 2}\n",
      "0.702 (+/-0.057) for {'criterion': 'gini', 'max_depth': 5, 'min_samples_leaf': 20, 'min_samples_split': 5}\n",
      "0.702 (+/-0.057) for {'criterion': 'gini', 'max_depth': 5, 'min_samples_leaf': 20, 'min_samples_split': 10}\n",
      "0.702 (+/-0.057) for {'criterion': 'gini', 'max_depth': 5, 'min_samples_leaf': 20, 'min_samples_split': 20}\n",
      "0.827 (+/-0.056) for {'criterion': 'gini', 'max_depth': 10, 'min_samples_leaf': 1, 'min_samples_split': 2}\n",
      "0.826 (+/-0.054) for {'criterion': 'gini', 'max_depth': 10, 'min_samples_leaf': 1, 'min_samples_split': 5}\n",
      "0.822 (+/-0.054) for {'criterion': 'gini', 'max_depth': 10, 'min_samples_leaf': 1, 'min_samples_split': 10}\n",
      "0.815 (+/-0.054) for {'criterion': 'gini', 'max_depth': 10, 'min_samples_leaf': 1, 'min_samples_split': 20}\n",
      "0.819 (+/-0.057) for {'criterion': 'gini', 'max_depth': 10, 'min_samples_leaf': 5, 'min_samples_split': 2}\n",
      "0.819 (+/-0.057) for {'criterion': 'gini', 'max_depth': 10, 'min_samples_leaf': 5, 'min_samples_split': 5}\n",
      "0.819 (+/-0.058) for {'criterion': 'gini', 'max_depth': 10, 'min_samples_leaf': 5, 'min_samples_split': 10}\n",
      "0.814 (+/-0.057) for {'criterion': 'gini', 'max_depth': 10, 'min_samples_leaf': 5, 'min_samples_split': 20}\n",
      "0.813 (+/-0.056) for {'criterion': 'gini', 'max_depth': 10, 'min_samples_leaf': 10, 'min_samples_split': 2}\n",
      "0.813 (+/-0.056) for {'criterion': 'gini', 'max_depth': 10, 'min_samples_leaf': 10, 'min_samples_split': 5}\n",
      "0.813 (+/-0.056) for {'criterion': 'gini', 'max_depth': 10, 'min_samples_leaf': 10, 'min_samples_split': 10}\n",
      "0.813 (+/-0.056) for {'criterion': 'gini', 'max_depth': 10, 'min_samples_leaf': 10, 'min_samples_split': 20}\n",
      "0.804 (+/-0.056) for {'criterion': 'gini', 'max_depth': 10, 'min_samples_leaf': 20, 'min_samples_split': 2}\n",
      "0.804 (+/-0.056) for {'criterion': 'gini', 'max_depth': 10, 'min_samples_leaf': 20, 'min_samples_split': 5}\n",
      "0.804 (+/-0.056) for {'criterion': 'gini', 'max_depth': 10, 'min_samples_leaf': 20, 'min_samples_split': 10}\n",
      "0.804 (+/-0.056) for {'criterion': 'gini', 'max_depth': 10, 'min_samples_leaf': 20, 'min_samples_split': 20}\n",
      "0.916 (+/-0.047) for {'criterion': 'gini', 'max_depth': 15, 'min_samples_leaf': 1, 'min_samples_split': 2}\n",
      "0.912 (+/-0.047) for {'criterion': 'gini', 'max_depth': 15, 'min_samples_leaf': 1, 'min_samples_split': 5}\n",
      "0.908 (+/-0.046) for {'criterion': 'gini', 'max_depth': 15, 'min_samples_leaf': 1, 'min_samples_split': 10}\n",
      "0.900 (+/-0.042) for {'criterion': 'gini', 'max_depth': 15, 'min_samples_leaf': 1, 'min_samples_split': 20}\n",
      "0.903 (+/-0.046) for {'criterion': 'gini', 'max_depth': 15, 'min_samples_leaf': 5, 'min_samples_split': 2}\n",
      "0.903 (+/-0.046) for {'criterion': 'gini', 'max_depth': 15, 'min_samples_leaf': 5, 'min_samples_split': 5}\n",
      "0.903 (+/-0.046) for {'criterion': 'gini', 'max_depth': 15, 'min_samples_leaf': 5, 'min_samples_split': 10}\n",
      "0.896 (+/-0.043) for {'criterion': 'gini', 'max_depth': 15, 'min_samples_leaf': 5, 'min_samples_split': 20}\n",
      "0.896 (+/-0.038) for {'criterion': 'gini', 'max_depth': 15, 'min_samples_leaf': 10, 'min_samples_split': 2}\n",
      "0.896 (+/-0.038) for {'criterion': 'gini', 'max_depth': 15, 'min_samples_leaf': 10, 'min_samples_split': 5}\n",
      "0.896 (+/-0.038) for {'criterion': 'gini', 'max_depth': 15, 'min_samples_leaf': 10, 'min_samples_split': 10}\n",
      "0.896 (+/-0.038) for {'criterion': 'gini', 'max_depth': 15, 'min_samples_leaf': 10, 'min_samples_split': 20}\n",
      "0.886 (+/-0.032) for {'criterion': 'gini', 'max_depth': 15, 'min_samples_leaf': 20, 'min_samples_split': 2}\n",
      "0.886 (+/-0.032) for {'criterion': 'gini', 'max_depth': 15, 'min_samples_leaf': 20, 'min_samples_split': 5}\n",
      "0.886 (+/-0.032) for {'criterion': 'gini', 'max_depth': 15, 'min_samples_leaf': 20, 'min_samples_split': 10}\n",
      "0.886 (+/-0.032) for {'criterion': 'gini', 'max_depth': 15, 'min_samples_leaf': 20, 'min_samples_split': 20}\n",
      "1.000 (+/-0.000) for {'criterion': 'gini', 'max_depth': None, 'min_samples_leaf': 1, 'min_samples_split': 2}\n",
      "0.997 (+/-0.000) for {'criterion': 'gini', 'max_depth': None, 'min_samples_leaf': 1, 'min_samples_split': 5}\n",
      "0.992 (+/-0.001) for {'criterion': 'gini', 'max_depth': None, 'min_samples_leaf': 1, 'min_samples_split': 10}\n",
      "0.981 (+/-0.002) for {'criterion': 'gini', 'max_depth': None, 'min_samples_leaf': 1, 'min_samples_split': 20}\n",
      "0.985 (+/-0.002) for {'criterion': 'gini', 'max_depth': None, 'min_samples_leaf': 5, 'min_samples_split': 2}\n",
      "0.985 (+/-0.002) for {'criterion': 'gini', 'max_depth': None, 'min_samples_leaf': 5, 'min_samples_split': 5}\n",
      "0.985 (+/-0.002) for {'criterion': 'gini', 'max_depth': None, 'min_samples_leaf': 5, 'min_samples_split': 10}\n",
      "0.974 (+/-0.003) for {'criterion': 'gini', 'max_depth': None, 'min_samples_leaf': 5, 'min_samples_split': 20}\n",
      "0.968 (+/-0.003) for {'criterion': 'gini', 'max_depth': None, 'min_samples_leaf': 10, 'min_samples_split': 2}\n",
      "0.968 (+/-0.003) for {'criterion': 'gini', 'max_depth': None, 'min_samples_leaf': 10, 'min_samples_split': 5}\n",
      "0.968 (+/-0.003) for {'criterion': 'gini', 'max_depth': None, 'min_samples_leaf': 10, 'min_samples_split': 10}\n",
      "0.968 (+/-0.003) for {'criterion': 'gini', 'max_depth': None, 'min_samples_leaf': 10, 'min_samples_split': 20}\n",
      "0.943 (+/-0.004) for {'criterion': 'gini', 'max_depth': None, 'min_samples_leaf': 20, 'min_samples_split': 2}\n",
      "0.944 (+/-0.004) for {'criterion': 'gini', 'max_depth': None, 'min_samples_leaf': 20, 'min_samples_split': 5}\n",
      "0.943 (+/-0.004) for {'criterion': 'gini', 'max_depth': None, 'min_samples_leaf': 20, 'min_samples_split': 10}\n",
      "0.943 (+/-0.004) for {'criterion': 'gini', 'max_depth': None, 'min_samples_leaf': 20, 'min_samples_split': 20}\n",
      "0.644 (+/-0.051) for {'criterion': 'entropy', 'max_depth': 2, 'min_samples_leaf': 1, 'min_samples_split': 2}\n",
      "0.644 (+/-0.051) for {'criterion': 'entropy', 'max_depth': 2, 'min_samples_leaf': 1, 'min_samples_split': 5}\n",
      "0.644 (+/-0.051) for {'criterion': 'entropy', 'max_depth': 2, 'min_samples_leaf': 1, 'min_samples_split': 10}\n",
      "0.644 (+/-0.051) for {'criterion': 'entropy', 'max_depth': 2, 'min_samples_leaf': 1, 'min_samples_split': 20}\n",
      "0.644 (+/-0.051) for {'criterion': 'entropy', 'max_depth': 2, 'min_samples_leaf': 5, 'min_samples_split': 2}\n",
      "0.644 (+/-0.051) for {'criterion': 'entropy', 'max_depth': 2, 'min_samples_leaf': 5, 'min_samples_split': 5}\n",
      "0.644 (+/-0.051) for {'criterion': 'entropy', 'max_depth': 2, 'min_samples_leaf': 5, 'min_samples_split': 10}\n",
      "0.644 (+/-0.051) for {'criterion': 'entropy', 'max_depth': 2, 'min_samples_leaf': 5, 'min_samples_split': 20}\n",
      "0.644 (+/-0.051) for {'criterion': 'entropy', 'max_depth': 2, 'min_samples_leaf': 10, 'min_samples_split': 2}\n",
      "0.644 (+/-0.051) for {'criterion': 'entropy', 'max_depth': 2, 'min_samples_leaf': 10, 'min_samples_split': 5}\n",
      "0.644 (+/-0.051) for {'criterion': 'entropy', 'max_depth': 2, 'min_samples_leaf': 10, 'min_samples_split': 10}\n",
      "0.644 (+/-0.051) for {'criterion': 'entropy', 'max_depth': 2, 'min_samples_leaf': 10, 'min_samples_split': 20}\n",
      "0.644 (+/-0.051) for {'criterion': 'entropy', 'max_depth': 2, 'min_samples_leaf': 20, 'min_samples_split': 2}\n",
      "0.644 (+/-0.051) for {'criterion': 'entropy', 'max_depth': 2, 'min_samples_leaf': 20, 'min_samples_split': 5}\n",
      "0.644 (+/-0.051) for {'criterion': 'entropy', 'max_depth': 2, 'min_samples_leaf': 20, 'min_samples_split': 10}\n",
      "0.644 (+/-0.051) for {'criterion': 'entropy', 'max_depth': 2, 'min_samples_leaf': 20, 'min_samples_split': 20}\n",
      "0.776 (+/-0.036) for {'criterion': 'entropy', 'max_depth': 5, 'min_samples_leaf': 1, 'min_samples_split': 2}\n",
      "0.776 (+/-0.036) for {'criterion': 'entropy', 'max_depth': 5, 'min_samples_leaf': 1, 'min_samples_split': 5}\n",
      "0.776 (+/-0.035) for {'criterion': 'entropy', 'max_depth': 5, 'min_samples_leaf': 1, 'min_samples_split': 10}\n",
      "0.775 (+/-0.036) for {'criterion': 'entropy', 'max_depth': 5, 'min_samples_leaf': 1, 'min_samples_split': 20}\n",
      "0.775 (+/-0.036) for {'criterion': 'entropy', 'max_depth': 5, 'min_samples_leaf': 5, 'min_samples_split': 2}\n",
      "0.775 (+/-0.036) for {'criterion': 'entropy', 'max_depth': 5, 'min_samples_leaf': 5, 'min_samples_split': 5}\n",
      "0.775 (+/-0.036) for {'criterion': 'entropy', 'max_depth': 5, 'min_samples_leaf': 5, 'min_samples_split': 10}\n",
      "0.775 (+/-0.036) for {'criterion': 'entropy', 'max_depth': 5, 'min_samples_leaf': 5, 'min_samples_split': 20}\n",
      "0.775 (+/-0.035) for {'criterion': 'entropy', 'max_depth': 5, 'min_samples_leaf': 10, 'min_samples_split': 2}\n",
      "0.775 (+/-0.035) for {'criterion': 'entropy', 'max_depth': 5, 'min_samples_leaf': 10, 'min_samples_split': 5}\n",
      "0.775 (+/-0.035) for {'criterion': 'entropy', 'max_depth': 5, 'min_samples_leaf': 10, 'min_samples_split': 10}\n",
      "0.775 (+/-0.035) for {'criterion': 'entropy', 'max_depth': 5, 'min_samples_leaf': 10, 'min_samples_split': 20}\n",
      "0.773 (+/-0.036) for {'criterion': 'entropy', 'max_depth': 5, 'min_samples_leaf': 20, 'min_samples_split': 2}\n",
      "0.773 (+/-0.036) for {'criterion': 'entropy', 'max_depth': 5, 'min_samples_leaf': 20, 'min_samples_split': 5}\n",
      "0.773 (+/-0.036) for {'criterion': 'entropy', 'max_depth': 5, 'min_samples_leaf': 20, 'min_samples_split': 10}\n",
      "0.773 (+/-0.036) for {'criterion': 'entropy', 'max_depth': 5, 'min_samples_leaf': 20, 'min_samples_split': 20}\n",
      "0.930 (+/-0.024) for {'criterion': 'entropy', 'max_depth': 10, 'min_samples_leaf': 1, 'min_samples_split': 2}\n",
      "0.929 (+/-0.024) for {'criterion': 'entropy', 'max_depth': 10, 'min_samples_leaf': 1, 'min_samples_split': 5}\n",
      "0.927 (+/-0.023) for {'criterion': 'entropy', 'max_depth': 10, 'min_samples_leaf': 1, 'min_samples_split': 10}\n",
      "0.921 (+/-0.025) for {'criterion': 'entropy', 'max_depth': 10, 'min_samples_leaf': 1, 'min_samples_split': 20}\n",
      "0.925 (+/-0.025) for {'criterion': 'entropy', 'max_depth': 10, 'min_samples_leaf': 5, 'min_samples_split': 2}\n",
      "0.925 (+/-0.024) for {'criterion': 'entropy', 'max_depth': 10, 'min_samples_leaf': 5, 'min_samples_split': 5}\n",
      "0.925 (+/-0.025) for {'criterion': 'entropy', 'max_depth': 10, 'min_samples_leaf': 5, 'min_samples_split': 10}\n",
      "0.920 (+/-0.025) for {'criterion': 'entropy', 'max_depth': 10, 'min_samples_leaf': 5, 'min_samples_split': 20}\n",
      "0.918 (+/-0.024) for {'criterion': 'entropy', 'max_depth': 10, 'min_samples_leaf': 10, 'min_samples_split': 2}\n",
      "0.918 (+/-0.025) for {'criterion': 'entropy', 'max_depth': 10, 'min_samples_leaf': 10, 'min_samples_split': 5}\n",
      "0.918 (+/-0.024) for {'criterion': 'entropy', 'max_depth': 10, 'min_samples_leaf': 10, 'min_samples_split': 10}\n",
      "0.918 (+/-0.024) for {'criterion': 'entropy', 'max_depth': 10, 'min_samples_leaf': 10, 'min_samples_split': 20}\n",
      "0.908 (+/-0.024) for {'criterion': 'entropy', 'max_depth': 10, 'min_samples_leaf': 20, 'min_samples_split': 2}\n",
      "0.908 (+/-0.024) for {'criterion': 'entropy', 'max_depth': 10, 'min_samples_leaf': 20, 'min_samples_split': 5}\n",
      "0.908 (+/-0.024) for {'criterion': 'entropy', 'max_depth': 10, 'min_samples_leaf': 20, 'min_samples_split': 10}\n",
      "0.908 (+/-0.024) for {'criterion': 'entropy', 'max_depth': 10, 'min_samples_leaf': 20, 'min_samples_split': 20}\n",
      "0.989 (+/-0.007) for {'criterion': 'entropy', 'max_depth': 15, 'min_samples_leaf': 1, 'min_samples_split': 2}\n",
      "0.986 (+/-0.008) for {'criterion': 'entropy', 'max_depth': 15, 'min_samples_leaf': 1, 'min_samples_split': 5}\n",
      "0.982 (+/-0.009) for {'criterion': 'entropy', 'max_depth': 15, 'min_samples_leaf': 1, 'min_samples_split': 10}\n",
      "0.973 (+/-0.010) for {'criterion': 'entropy', 'max_depth': 15, 'min_samples_leaf': 1, 'min_samples_split': 20}\n",
      "0.979 (+/-0.009) for {'criterion': 'entropy', 'max_depth': 15, 'min_samples_leaf': 5, 'min_samples_split': 2}\n",
      "0.979 (+/-0.009) for {'criterion': 'entropy', 'max_depth': 15, 'min_samples_leaf': 5, 'min_samples_split': 5}\n",
      "0.980 (+/-0.009) for {'criterion': 'entropy', 'max_depth': 15, 'min_samples_leaf': 5, 'min_samples_split': 10}\n",
      "0.971 (+/-0.009) for {'criterion': 'entropy', 'max_depth': 15, 'min_samples_leaf': 5, 'min_samples_split': 20}\n",
      "0.967 (+/-0.008) for {'criterion': 'entropy', 'max_depth': 15, 'min_samples_leaf': 10, 'min_samples_split': 2}\n",
      "0.967 (+/-0.008) for {'criterion': 'entropy', 'max_depth': 15, 'min_samples_leaf': 10, 'min_samples_split': 5}\n",
      "0.967 (+/-0.008) for {'criterion': 'entropy', 'max_depth': 15, 'min_samples_leaf': 10, 'min_samples_split': 10}\n",
      "0.967 (+/-0.008) for {'criterion': 'entropy', 'max_depth': 15, 'min_samples_leaf': 10, 'min_samples_split': 20}\n",
      "0.945 (+/-0.009) for {'criterion': 'entropy', 'max_depth': 15, 'min_samples_leaf': 20, 'min_samples_split': 2}\n",
      "0.945 (+/-0.008) for {'criterion': 'entropy', 'max_depth': 15, 'min_samples_leaf': 20, 'min_samples_split': 5}\n",
      "0.945 (+/-0.008) for {'criterion': 'entropy', 'max_depth': 15, 'min_samples_leaf': 20, 'min_samples_split': 10}\n",
      "0.945 (+/-0.009) for {'criterion': 'entropy', 'max_depth': 15, 'min_samples_leaf': 20, 'min_samples_split': 20}\n",
      "1.000 (+/-0.000) for {'criterion': 'entropy', 'max_depth': None, 'min_samples_leaf': 1, 'min_samples_split': 2}\n",
      "0.998 (+/-0.000) for {'criterion': 'entropy', 'max_depth': None, 'min_samples_leaf': 1, 'min_samples_split': 5}\n",
      "0.993 (+/-0.001) for {'criterion': 'entropy', 'max_depth': None, 'min_samples_leaf': 1, 'min_samples_split': 10}\n",
      "0.982 (+/-0.002) for {'criterion': 'entropy', 'max_depth': None, 'min_samples_leaf': 1, 'min_samples_split': 20}\n",
      "0.989 (+/-0.001) for {'criterion': 'entropy', 'max_depth': None, 'min_samples_leaf': 5, 'min_samples_split': 2}\n",
      "0.989 (+/-0.001) for {'criterion': 'entropy', 'max_depth': None, 'min_samples_leaf': 5, 'min_samples_split': 5}\n",
      "0.989 (+/-0.001) for {'criterion': 'entropy', 'max_depth': None, 'min_samples_leaf': 5, 'min_samples_split': 10}\n",
      "0.979 (+/-0.002) for {'criterion': 'entropy', 'max_depth': None, 'min_samples_leaf': 5, 'min_samples_split': 20}\n",
      "0.973 (+/-0.002) for {'criterion': 'entropy', 'max_depth': None, 'min_samples_leaf': 10, 'min_samples_split': 2}\n",
      "0.973 (+/-0.002) for {'criterion': 'entropy', 'max_depth': None, 'min_samples_leaf': 10, 'min_samples_split': 5}\n",
      "0.973 (+/-0.001) for {'criterion': 'entropy', 'max_depth': None, 'min_samples_leaf': 10, 'min_samples_split': 10}\n",
      "0.973 (+/-0.001) for {'criterion': 'entropy', 'max_depth': None, 'min_samples_leaf': 10, 'min_samples_split': 20}\n",
      "0.949 (+/-0.004) for {'criterion': 'entropy', 'max_depth': None, 'min_samples_leaf': 20, 'min_samples_split': 2}\n",
      "0.949 (+/-0.004) for {'criterion': 'entropy', 'max_depth': None, 'min_samples_leaf': 20, 'min_samples_split': 5}\n",
      "0.949 (+/-0.004) for {'criterion': 'entropy', 'max_depth': None, 'min_samples_leaf': 20, 'min_samples_split': 10}\n",
      "0.949 (+/-0.004) for {'criterion': 'entropy', 'max_depth': None, 'min_samples_leaf': 20, 'min_samples_split': 20}\n",
      "____________________________________________\n"
     ]
    }
   ],
   "source": [
    "optimals_597 = builtGridSearch(xtrain_597, xtest_597, ytrain_597, ytest_597, tuned_parameters, scores)"
   ]
  },
  {
   "cell_type": "code",
   "execution_count": 33,
   "id": "4bd61bcb",
   "metadata": {},
   "outputs": [
    {
     "data": {
      "text/plain": [
       "{'roc_auc': {'criterion': 'gini',\n",
       "  'max_depth': None,\n",
       "  'min_samples_leaf': 20,\n",
       "  'min_samples_split': 2}}"
      ]
     },
     "execution_count": 33,
     "metadata": {},
     "output_type": "execute_result"
    }
   ],
   "source": [
    "optimals_597"
   ]
  },
  {
   "cell_type": "code",
   "execution_count": 34,
   "id": "fdf2e239",
   "metadata": {},
   "outputs": [],
   "source": [
    "model_597 = tree.DecisionTreeClassifier(criterion = \"entropy\", max_depth = None, min_samples_leaf = 20, min_samples_split = 10)\n",
    "model_597.fit(xtrain_597, ytrain_597)\n",
    "y_pred_597 = model_597.predict(xtest_597)"
   ]
  },
  {
   "cell_type": "code",
   "execution_count": 35,
   "id": "74cb355e",
   "metadata": {},
   "outputs": [],
   "source": [
    "y_score_597 = model_597.predict_proba(xtest_597)\n",
    "fpr0, tpr0, _ = roc_curve(ytest_597, y_score_597[:, 1])\n",
    "roc_auc0_597 = auc(fpr0, tpr0)"
   ]
  },
  {
   "cell_type": "code",
   "execution_count": 36,
   "id": "3f932b59",
   "metadata": {},
   "outputs": [
    {
     "data": {
      "image/png": "[encoded data removed]",
      "text/plain": [
       "<Figure size 432x288 with 1 Axes>"
      ]
     },
     "metadata": {
      "needs_background": "light"
     },
     "output_type": "display_data"
    }
   ],
   "source": [
    "plt.plot(fpr0, tpr0, color='darkorange', lw=3, label='$AUC_0$ = %.3f' % (roc_auc0_597))\n",
    "\n",
    "plt.plot([0, 1], [0, 1], color='navy', lw=2, linestyle='--')\n",
    "plt.xlim([0.0, 1.0])\n",
    "plt.ylim([0.0, 1.05])\n",
    "plt.xlabel('False Positive Rate', fontsize=16)\n",
    "plt.ylabel('True Positive Rate', fontsize=16)\n",
    "plt.title('ROC curve', fontsize=16)\n",
    "plt.legend(loc=\"lower right\", fontsize=14, frameon=False)\n",
    "plt.tick_params(axis='both', which='major', labelsize=16)\n",
    "plt.show()"
   ]
  },
  {
   "cell_type": "markdown",
   "id": "d3e57596",
   "metadata": {},
   "source": [
    "### 1 - DecisionTree_Bilanciato"
   ]
  },
  {
   "cell_type": "code",
   "execution_count": 37,
   "id": "27f5956d",
   "metadata": {},
   "outputs": [
    {
     "data": {
      "text/plain": [
       "6680"
      ]
     },
     "execution_count": 37,
     "metadata": {},
     "output_type": "execute_result"
    }
   ],
   "source": [
    "remove_n = data_597['link'].value_counts()[0] - data_597['link'].value_counts()[1]\n",
    "remove_n"
   ]
  },
  {
   "cell_type": "code",
   "execution_count": 38,
   "id": "7299c6ef",
   "metadata": {},
   "outputs": [
    {
     "name": "stdout",
     "output_type": "stream",
     "text": [
      "0    2705\n",
      "1    2705\n",
      "Name: link, dtype: int64\n"
     ]
    }
   ],
   "source": [
    "df = data_597.copy()\n",
    "drop_indices = np.random.choice(df[df[\"link\"]==0].index, remove_n, replace=False)\n",
    "df_subset = df.drop(drop_indices)\n",
    "print(df_subset['link'].value_counts())\n",
    "\n",
    "X_sbset_597 = []\n",
    "for i in range(df_subset.shape[0]):\n",
    "    first = df_subset.iloc[i][0]\n",
    "    second = df_subset.iloc[i][1]\n",
    "    mixed = np.concatenate((first, second), 0)\n",
    "    X_sbset_597.append(mixed)\n",
    "    \n",
    "    \n",
    "xtrain_sb_597, xtest_sb_597, ytrain_sb_597, ytest_sb_597 = train_test_split(np.asarray(X_sbset_597), df_subset[\"link\"], \n",
    "                                                test_size = 0.3, \n",
    "                                                random_state = 35,\n",
    "                                                stratify=df_subset[\"link\"])"
   ]
  },
  {
   "cell_type": "code",
   "execution_count": 39,
   "id": "c8bf78fe",
   "metadata": {},
   "outputs": [
    {
     "name": "stdout",
     "output_type": "stream",
     "text": [
      "------- Score = roc_auc ------- \n",
      "\n",
      "> Fold = StratifiedKFold(n_splits=5, random_state=None, shuffle=False)\n",
      "\n",
      "> Best Parameter set: \n",
      "\n",
      "{'criterion': 'gini', 'max_depth': 15, 'min_samples_leaf': 20, 'min_samples_split': 10}\n",
      "\n",
      "> Grid scores:\n",
      "\n",
      "0.648 (+/-0.036) for {'criterion': 'gini', 'max_depth': 2, 'min_samples_leaf': 1, 'min_samples_split': 2}\n",
      "0.648 (+/-0.036) for {'criterion': 'gini', 'max_depth': 2, 'min_samples_leaf': 1, 'min_samples_split': 5}\n",
      "0.648 (+/-0.036) for {'criterion': 'gini', 'max_depth': 2, 'min_samples_leaf': 1, 'min_samples_split': 10}\n",
      "0.648 (+/-0.036) for {'criterion': 'gini', 'max_depth': 2, 'min_samples_leaf': 1, 'min_samples_split': 20}\n",
      "0.648 (+/-0.036) for {'criterion': 'gini', 'max_depth': 2, 'min_samples_leaf': 5, 'min_samples_split': 2}\n",
      "0.648 (+/-0.036) for {'criterion': 'gini', 'max_depth': 2, 'min_samples_leaf': 5, 'min_samples_split': 5}\n",
      "0.648 (+/-0.036) for {'criterion': 'gini', 'max_depth': 2, 'min_samples_leaf': 5, 'min_samples_split': 10}\n",
      "0.648 (+/-0.036) for {'criterion': 'gini', 'max_depth': 2, 'min_samples_leaf': 5, 'min_samples_split': 20}\n",
      "0.648 (+/-0.036) for {'criterion': 'gini', 'max_depth': 2, 'min_samples_leaf': 10, 'min_samples_split': 2}\n",
      "0.648 (+/-0.036) for {'criterion': 'gini', 'max_depth': 2, 'min_samples_leaf': 10, 'min_samples_split': 5}\n",
      "0.648 (+/-0.036) for {'criterion': 'gini', 'max_depth': 2, 'min_samples_leaf': 10, 'min_samples_split': 10}\n",
      "0.648 (+/-0.036) for {'criterion': 'gini', 'max_depth': 2, 'min_samples_leaf': 10, 'min_samples_split': 20}\n",
      "0.648 (+/-0.036) for {'criterion': 'gini', 'max_depth': 2, 'min_samples_leaf': 20, 'min_samples_split': 2}\n",
      "0.648 (+/-0.036) for {'criterion': 'gini', 'max_depth': 2, 'min_samples_leaf': 20, 'min_samples_split': 5}\n",
      "0.648 (+/-0.036) for {'criterion': 'gini', 'max_depth': 2, 'min_samples_leaf': 20, 'min_samples_split': 10}\n",
      "0.648 (+/-0.036) for {'criterion': 'gini', 'max_depth': 2, 'min_samples_leaf': 20, 'min_samples_split': 20}\n",
      "0.756 (+/-0.054) for {'criterion': 'gini', 'max_depth': 5, 'min_samples_leaf': 1, 'min_samples_split': 2}\n",
      "0.758 (+/-0.054) for {'criterion': 'gini', 'max_depth': 5, 'min_samples_leaf': 1, 'min_samples_split': 5}\n",
      "0.758 (+/-0.052) for {'criterion': 'gini', 'max_depth': 5, 'min_samples_leaf': 1, 'min_samples_split': 10}\n",
      "0.758 (+/-0.054) for {'criterion': 'gini', 'max_depth': 5, 'min_samples_leaf': 1, 'min_samples_split': 20}\n",
      "0.756 (+/-0.052) for {'criterion': 'gini', 'max_depth': 5, 'min_samples_leaf': 5, 'min_samples_split': 2}\n",
      "0.756 (+/-0.051) for {'criterion': 'gini', 'max_depth': 5, 'min_samples_leaf': 5, 'min_samples_split': 5}\n",
      "0.757 (+/-0.054) for {'criterion': 'gini', 'max_depth': 5, 'min_samples_leaf': 5, 'min_samples_split': 10}\n",
      "0.758 (+/-0.054) for {'criterion': 'gini', 'max_depth': 5, 'min_samples_leaf': 5, 'min_samples_split': 20}\n",
      "0.759 (+/-0.056) for {'criterion': 'gini', 'max_depth': 5, 'min_samples_leaf': 10, 'min_samples_split': 2}\n",
      "0.759 (+/-0.055) for {'criterion': 'gini', 'max_depth': 5, 'min_samples_leaf': 10, 'min_samples_split': 5}\n",
      "0.759 (+/-0.056) for {'criterion': 'gini', 'max_depth': 5, 'min_samples_leaf': 10, 'min_samples_split': 10}\n",
      "0.759 (+/-0.055) for {'criterion': 'gini', 'max_depth': 5, 'min_samples_leaf': 10, 'min_samples_split': 20}\n",
      "0.762 (+/-0.046) for {'criterion': 'gini', 'max_depth': 5, 'min_samples_leaf': 20, 'min_samples_split': 2}\n",
      "0.762 (+/-0.046) for {'criterion': 'gini', 'max_depth': 5, 'min_samples_leaf': 20, 'min_samples_split': 5}\n",
      "0.762 (+/-0.046) for {'criterion': 'gini', 'max_depth': 5, 'min_samples_leaf': 20, 'min_samples_split': 10}\n",
      "0.762 (+/-0.046) for {'criterion': 'gini', 'max_depth': 5, 'min_samples_leaf': 20, 'min_samples_split': 20}\n",
      "0.739 (+/-0.024) for {'criterion': 'gini', 'max_depth': 10, 'min_samples_leaf': 1, 'min_samples_split': 2}\n",
      "0.750 (+/-0.027) for {'criterion': 'gini', 'max_depth': 10, 'min_samples_leaf': 1, 'min_samples_split': 5}\n",
      "0.760 (+/-0.012) for {'criterion': 'gini', 'max_depth': 10, 'min_samples_leaf': 1, 'min_samples_split': 10}\n",
      "0.778 (+/-0.020) for {'criterion': 'gini', 'max_depth': 10, 'min_samples_leaf': 1, 'min_samples_split': 20}\n",
      "0.779 (+/-0.030) for {'criterion': 'gini', 'max_depth': 10, 'min_samples_leaf': 5, 'min_samples_split': 2}\n",
      "0.779 (+/-0.036) for {'criterion': 'gini', 'max_depth': 10, 'min_samples_leaf': 5, 'min_samples_split': 5}\n",
      "0.781 (+/-0.038) for {'criterion': 'gini', 'max_depth': 10, 'min_samples_leaf': 5, 'min_samples_split': 10}\n",
      "0.791 (+/-0.042) for {'criterion': 'gini', 'max_depth': 10, 'min_samples_leaf': 5, 'min_samples_split': 20}\n",
      "0.795 (+/-0.041) for {'criterion': 'gini', 'max_depth': 10, 'min_samples_leaf': 10, 'min_samples_split': 2}\n",
      "0.796 (+/-0.040) for {'criterion': 'gini', 'max_depth': 10, 'min_samples_leaf': 10, 'min_samples_split': 5}\n",
      "0.795 (+/-0.041) for {'criterion': 'gini', 'max_depth': 10, 'min_samples_leaf': 10, 'min_samples_split': 10}\n",
      "0.795 (+/-0.035) for {'criterion': 'gini', 'max_depth': 10, 'min_samples_leaf': 10, 'min_samples_split': 20}\n",
      "0.812 (+/-0.030) for {'criterion': 'gini', 'max_depth': 10, 'min_samples_leaf': 20, 'min_samples_split': 2}\n",
      "0.812 (+/-0.030) for {'criterion': 'gini', 'max_depth': 10, 'min_samples_leaf': 20, 'min_samples_split': 5}\n",
      "0.811 (+/-0.036) for {'criterion': 'gini', 'max_depth': 10, 'min_samples_leaf': 20, 'min_samples_split': 10}\n",
      "0.811 (+/-0.036) for {'criterion': 'gini', 'max_depth': 10, 'min_samples_leaf': 20, 'min_samples_split': 20}\n",
      "0.718 (+/-0.053) for {'criterion': 'gini', 'max_depth': 15, 'min_samples_leaf': 1, 'min_samples_split': 2}\n",
      "0.734 (+/-0.042) for {'criterion': 'gini', 'max_depth': 15, 'min_samples_leaf': 1, 'min_samples_split': 5}\n",
      "0.759 (+/-0.028) for {'criterion': 'gini', 'max_depth': 15, 'min_samples_leaf': 1, 'min_samples_split': 10}\n",
      "0.778 (+/-0.038) for {'criterion': 'gini', 'max_depth': 15, 'min_samples_leaf': 1, 'min_samples_split': 20}\n",
      "0.774 (+/-0.038) for {'criterion': 'gini', 'max_depth': 15, 'min_samples_leaf': 5, 'min_samples_split': 2}\n",
      "0.776 (+/-0.040) for {'criterion': 'gini', 'max_depth': 15, 'min_samples_leaf': 5, 'min_samples_split': 5}\n",
      "0.772 (+/-0.042) for {'criterion': 'gini', 'max_depth': 15, 'min_samples_leaf': 5, 'min_samples_split': 10}\n",
      "0.792 (+/-0.044) for {'criterion': 'gini', 'max_depth': 15, 'min_samples_leaf': 5, 'min_samples_split': 20}\n",
      "0.796 (+/-0.021) for {'criterion': 'gini', 'max_depth': 15, 'min_samples_leaf': 10, 'min_samples_split': 2}\n",
      "0.797 (+/-0.022) for {'criterion': 'gini', 'max_depth': 15, 'min_samples_leaf': 10, 'min_samples_split': 5}\n",
      "0.797 (+/-0.025) for {'criterion': 'gini', 'max_depth': 15, 'min_samples_leaf': 10, 'min_samples_split': 10}\n",
      "0.797 (+/-0.025) for {'criterion': 'gini', 'max_depth': 15, 'min_samples_leaf': 10, 'min_samples_split': 20}\n",
      "0.820 (+/-0.029) for {'criterion': 'gini', 'max_depth': 15, 'min_samples_leaf': 20, 'min_samples_split': 2}\n",
      "0.820 (+/-0.025) for {'criterion': 'gini', 'max_depth': 15, 'min_samples_leaf': 20, 'min_samples_split': 5}\n",
      "0.821 (+/-0.028) for {'criterion': 'gini', 'max_depth': 15, 'min_samples_leaf': 20, 'min_samples_split': 10}\n",
      "0.817 (+/-0.028) for {'criterion': 'gini', 'max_depth': 15, 'min_samples_leaf': 20, 'min_samples_split': 20}\n",
      "0.736 (+/-0.026) for {'criterion': 'gini', 'max_depth': None, 'min_samples_leaf': 1, 'min_samples_split': 2}\n",
      "0.748 (+/-0.034) for {'criterion': 'gini', 'max_depth': None, 'min_samples_leaf': 1, 'min_samples_split': 5}\n",
      "0.764 (+/-0.023) for {'criterion': 'gini', 'max_depth': None, 'min_samples_leaf': 1, 'min_samples_split': 10}\n",
      "0.782 (+/-0.030) for {'criterion': 'gini', 'max_depth': None, 'min_samples_leaf': 1, 'min_samples_split': 20}\n",
      "0.776 (+/-0.035) for {'criterion': 'gini', 'max_depth': None, 'min_samples_leaf': 5, 'min_samples_split': 2}\n",
      "0.779 (+/-0.035) for {'criterion': 'gini', 'max_depth': None, 'min_samples_leaf': 5, 'min_samples_split': 5}\n",
      "0.780 (+/-0.030) for {'criterion': 'gini', 'max_depth': None, 'min_samples_leaf': 5, 'min_samples_split': 10}\n",
      "0.795 (+/-0.038) for {'criterion': 'gini', 'max_depth': None, 'min_samples_leaf': 5, 'min_samples_split': 20}\n",
      "0.800 (+/-0.020) for {'criterion': 'gini', 'max_depth': None, 'min_samples_leaf': 10, 'min_samples_split': 2}\n",
      "0.801 (+/-0.022) for {'criterion': 'gini', 'max_depth': None, 'min_samples_leaf': 10, 'min_samples_split': 5}\n",
      "0.798 (+/-0.023) for {'criterion': 'gini', 'max_depth': None, 'min_samples_leaf': 10, 'min_samples_split': 10}\n",
      "0.799 (+/-0.019) for {'criterion': 'gini', 'max_depth': None, 'min_samples_leaf': 10, 'min_samples_split': 20}\n",
      "0.817 (+/-0.029) for {'criterion': 'gini', 'max_depth': None, 'min_samples_leaf': 20, 'min_samples_split': 2}\n",
      "0.820 (+/-0.030) for {'criterion': 'gini', 'max_depth': None, 'min_samples_leaf': 20, 'min_samples_split': 5}\n",
      "0.821 (+/-0.026) for {'criterion': 'gini', 'max_depth': None, 'min_samples_leaf': 20, 'min_samples_split': 10}\n",
      "0.820 (+/-0.030) for {'criterion': 'gini', 'max_depth': None, 'min_samples_leaf': 20, 'min_samples_split': 20}\n",
      "0.640 (+/-0.045) for {'criterion': 'entropy', 'max_depth': 2, 'min_samples_leaf': 1, 'min_samples_split': 2}\n",
      "0.640 (+/-0.045) for {'criterion': 'entropy', 'max_depth': 2, 'min_samples_leaf': 1, 'min_samples_split': 5}\n",
      "0.640 (+/-0.045) for {'criterion': 'entropy', 'max_depth': 2, 'min_samples_leaf': 1, 'min_samples_split': 10}\n",
      "0.640 (+/-0.045) for {'criterion': 'entropy', 'max_depth': 2, 'min_samples_leaf': 1, 'min_samples_split': 20}\n",
      "0.640 (+/-0.045) for {'criterion': 'entropy', 'max_depth': 2, 'min_samples_leaf': 5, 'min_samples_split': 2}\n",
      "0.640 (+/-0.045) for {'criterion': 'entropy', 'max_depth': 2, 'min_samples_leaf': 5, 'min_samples_split': 5}\n",
      "0.640 (+/-0.045) for {'criterion': 'entropy', 'max_depth': 2, 'min_samples_leaf': 5, 'min_samples_split': 10}\n",
      "0.640 (+/-0.045) for {'criterion': 'entropy', 'max_depth': 2, 'min_samples_leaf': 5, 'min_samples_split': 20}\n",
      "0.640 (+/-0.045) for {'criterion': 'entropy', 'max_depth': 2, 'min_samples_leaf': 10, 'min_samples_split': 2}\n",
      "0.640 (+/-0.045) for {'criterion': 'entropy', 'max_depth': 2, 'min_samples_leaf': 10, 'min_samples_split': 5}\n",
      "0.640 (+/-0.045) for {'criterion': 'entropy', 'max_depth': 2, 'min_samples_leaf': 10, 'min_samples_split': 10}\n",
      "0.640 (+/-0.045) for {'criterion': 'entropy', 'max_depth': 2, 'min_samples_leaf': 10, 'min_samples_split': 20}\n",
      "0.640 (+/-0.045) for {'criterion': 'entropy', 'max_depth': 2, 'min_samples_leaf': 20, 'min_samples_split': 2}\n",
      "0.640 (+/-0.045) for {'criterion': 'entropy', 'max_depth': 2, 'min_samples_leaf': 20, 'min_samples_split': 5}\n",
      "0.640 (+/-0.045) for {'criterion': 'entropy', 'max_depth': 2, 'min_samples_leaf': 20, 'min_samples_split': 10}\n",
      "0.640 (+/-0.045) for {'criterion': 'entropy', 'max_depth': 2, 'min_samples_leaf': 20, 'min_samples_split': 20}\n",
      "0.752 (+/-0.051) for {'criterion': 'entropy', 'max_depth': 5, 'min_samples_leaf': 1, 'min_samples_split': 2}\n",
      "0.751 (+/-0.051) for {'criterion': 'entropy', 'max_depth': 5, 'min_samples_leaf': 1, 'min_samples_split': 5}\n",
      "0.752 (+/-0.051) for {'criterion': 'entropy', 'max_depth': 5, 'min_samples_leaf': 1, 'min_samples_split': 10}\n",
      "0.752 (+/-0.051) for {'criterion': 'entropy', 'max_depth': 5, 'min_samples_leaf': 1, 'min_samples_split': 20}\n",
      "0.753 (+/-0.053) for {'criterion': 'entropy', 'max_depth': 5, 'min_samples_leaf': 5, 'min_samples_split': 2}\n",
      "0.753 (+/-0.054) for {'criterion': 'entropy', 'max_depth': 5, 'min_samples_leaf': 5, 'min_samples_split': 5}\n",
      "0.753 (+/-0.052) for {'criterion': 'entropy', 'max_depth': 5, 'min_samples_leaf': 5, 'min_samples_split': 10}\n",
      "0.754 (+/-0.053) for {'criterion': 'entropy', 'max_depth': 5, 'min_samples_leaf': 5, 'min_samples_split': 20}\n",
      "0.755 (+/-0.049) for {'criterion': 'entropy', 'max_depth': 5, 'min_samples_leaf': 10, 'min_samples_split': 2}\n",
      "0.756 (+/-0.050) for {'criterion': 'entropy', 'max_depth': 5, 'min_samples_leaf': 10, 'min_samples_split': 5}\n",
      "0.756 (+/-0.049) for {'criterion': 'entropy', 'max_depth': 5, 'min_samples_leaf': 10, 'min_samples_split': 10}\n",
      "0.756 (+/-0.050) for {'criterion': 'entropy', 'max_depth': 5, 'min_samples_leaf': 10, 'min_samples_split': 20}\n",
      "0.759 (+/-0.043) for {'criterion': 'entropy', 'max_depth': 5, 'min_samples_leaf': 20, 'min_samples_split': 2}\n",
      "0.760 (+/-0.041) for {'criterion': 'entropy', 'max_depth': 5, 'min_samples_leaf': 20, 'min_samples_split': 5}\n",
      "0.759 (+/-0.043) for {'criterion': 'entropy', 'max_depth': 5, 'min_samples_leaf': 20, 'min_samples_split': 10}\n",
      "0.760 (+/-0.040) for {'criterion': 'entropy', 'max_depth': 5, 'min_samples_leaf': 20, 'min_samples_split': 20}\n",
      "0.780 (+/-0.015) for {'criterion': 'entropy', 'max_depth': 10, 'min_samples_leaf': 1, 'min_samples_split': 2}\n",
      "0.782 (+/-0.011) for {'criterion': 'entropy', 'max_depth': 10, 'min_samples_leaf': 1, 'min_samples_split': 5}\n",
      "0.790 (+/-0.021) for {'criterion': 'entropy', 'max_depth': 10, 'min_samples_leaf': 1, 'min_samples_split': 10}\n",
      "0.804 (+/-0.028) for {'criterion': 'entropy', 'max_depth': 10, 'min_samples_leaf': 1, 'min_samples_split': 20}\n",
      "0.794 (+/-0.024) for {'criterion': 'entropy', 'max_depth': 10, 'min_samples_leaf': 5, 'min_samples_split': 2}\n",
      "0.795 (+/-0.029) for {'criterion': 'entropy', 'max_depth': 10, 'min_samples_leaf': 5, 'min_samples_split': 5}\n",
      "0.796 (+/-0.026) for {'criterion': 'entropy', 'max_depth': 10, 'min_samples_leaf': 5, 'min_samples_split': 10}\n",
      "0.809 (+/-0.032) for {'criterion': 'entropy', 'max_depth': 10, 'min_samples_leaf': 5, 'min_samples_split': 20}\n",
      "0.811 (+/-0.018) for {'criterion': 'entropy', 'max_depth': 10, 'min_samples_leaf': 10, 'min_samples_split': 2}\n",
      "0.811 (+/-0.026) for {'criterion': 'entropy', 'max_depth': 10, 'min_samples_leaf': 10, 'min_samples_split': 5}\n",
      "0.811 (+/-0.023) for {'criterion': 'entropy', 'max_depth': 10, 'min_samples_leaf': 10, 'min_samples_split': 10}\n",
      "0.813 (+/-0.021) for {'criterion': 'entropy', 'max_depth': 10, 'min_samples_leaf': 10, 'min_samples_split': 20}\n",
      "0.813 (+/-0.030) for {'criterion': 'entropy', 'max_depth': 10, 'min_samples_leaf': 20, 'min_samples_split': 2}\n",
      "0.811 (+/-0.032) for {'criterion': 'entropy', 'max_depth': 10, 'min_samples_leaf': 20, 'min_samples_split': 5}\n",
      "0.814 (+/-0.028) for {'criterion': 'entropy', 'max_depth': 10, 'min_samples_leaf': 20, 'min_samples_split': 10}\n",
      "0.813 (+/-0.028) for {'criterion': 'entropy', 'max_depth': 10, 'min_samples_leaf': 20, 'min_samples_split': 20}\n",
      "0.753 (+/-0.022) for {'criterion': 'entropy', 'max_depth': 15, 'min_samples_leaf': 1, 'min_samples_split': 2}\n",
      "0.758 (+/-0.032) for {'criterion': 'entropy', 'max_depth': 15, 'min_samples_leaf': 1, 'min_samples_split': 5}\n",
      "0.778 (+/-0.024) for {'criterion': 'entropy', 'max_depth': 15, 'min_samples_leaf': 1, 'min_samples_split': 10}\n",
      "0.800 (+/-0.023) for {'criterion': 'entropy', 'max_depth': 15, 'min_samples_leaf': 1, 'min_samples_split': 20}\n",
      "0.789 (+/-0.030) for {'criterion': 'entropy', 'max_depth': 15, 'min_samples_leaf': 5, 'min_samples_split': 2}\n",
      "0.788 (+/-0.037) for {'criterion': 'entropy', 'max_depth': 15, 'min_samples_leaf': 5, 'min_samples_split': 5}\n",
      "0.782 (+/-0.031) for {'criterion': 'entropy', 'max_depth': 15, 'min_samples_leaf': 5, 'min_samples_split': 10}\n",
      "0.806 (+/-0.033) for {'criterion': 'entropy', 'max_depth': 15, 'min_samples_leaf': 5, 'min_samples_split': 20}\n",
      "0.816 (+/-0.030) for {'criterion': 'entropy', 'max_depth': 15, 'min_samples_leaf': 10, 'min_samples_split': 2}\n",
      "0.817 (+/-0.022) for {'criterion': 'entropy', 'max_depth': 15, 'min_samples_leaf': 10, 'min_samples_split': 5}\n",
      "0.817 (+/-0.022) for {'criterion': 'entropy', 'max_depth': 15, 'min_samples_leaf': 10, 'min_samples_split': 10}\n",
      "0.815 (+/-0.027) for {'criterion': 'entropy', 'max_depth': 15, 'min_samples_leaf': 10, 'min_samples_split': 20}\n",
      "0.817 (+/-0.029) for {'criterion': 'entropy', 'max_depth': 15, 'min_samples_leaf': 20, 'min_samples_split': 2}\n",
      "0.818 (+/-0.031) for {'criterion': 'entropy', 'max_depth': 15, 'min_samples_leaf': 20, 'min_samples_split': 5}\n",
      "0.816 (+/-0.032) for {'criterion': 'entropy', 'max_depth': 15, 'min_samples_leaf': 20, 'min_samples_split': 10}\n",
      "0.816 (+/-0.030) for {'criterion': 'entropy', 'max_depth': 15, 'min_samples_leaf': 20, 'min_samples_split': 20}\n",
      "0.743 (+/-0.020) for {'criterion': 'entropy', 'max_depth': None, 'min_samples_leaf': 1, 'min_samples_split': 2}\n",
      "0.754 (+/-0.020) for {'criterion': 'entropy', 'max_depth': None, 'min_samples_leaf': 1, 'min_samples_split': 5}\n",
      "0.771 (+/-0.021) for {'criterion': 'entropy', 'max_depth': None, 'min_samples_leaf': 1, 'min_samples_split': 10}\n",
      "0.795 (+/-0.023) for {'criterion': 'entropy', 'max_depth': None, 'min_samples_leaf': 1, 'min_samples_split': 20}\n",
      "0.788 (+/-0.021) for {'criterion': 'entropy', 'max_depth': None, 'min_samples_leaf': 5, 'min_samples_split': 2}\n",
      "0.787 (+/-0.024) for {'criterion': 'entropy', 'max_depth': None, 'min_samples_leaf': 5, 'min_samples_split': 5}\n",
      "0.784 (+/-0.022) for {'criterion': 'entropy', 'max_depth': None, 'min_samples_leaf': 5, 'min_samples_split': 10}\n",
      "0.805 (+/-0.029) for {'criterion': 'entropy', 'max_depth': None, 'min_samples_leaf': 5, 'min_samples_split': 20}\n",
      "0.816 (+/-0.016) for {'criterion': 'entropy', 'max_depth': None, 'min_samples_leaf': 10, 'min_samples_split': 2}\n",
      "0.811 (+/-0.024) for {'criterion': 'entropy', 'max_depth': None, 'min_samples_leaf': 10, 'min_samples_split': 5}\n",
      "0.814 (+/-0.026) for {'criterion': 'entropy', 'max_depth': None, 'min_samples_leaf': 10, 'min_samples_split': 10}\n",
      "0.813 (+/-0.027) for {'criterion': 'entropy', 'max_depth': None, 'min_samples_leaf': 10, 'min_samples_split': 20}\n",
      "0.816 (+/-0.031) for {'criterion': 'entropy', 'max_depth': None, 'min_samples_leaf': 20, 'min_samples_split': 2}\n",
      "0.817 (+/-0.029) for {'criterion': 'entropy', 'max_depth': None, 'min_samples_leaf': 20, 'min_samples_split': 5}\n",
      "0.816 (+/-0.029) for {'criterion': 'entropy', 'max_depth': None, 'min_samples_leaf': 20, 'min_samples_split': 10}\n",
      "0.818 (+/-0.029) for {'criterion': 'entropy', 'max_depth': None, 'min_samples_leaf': 20, 'min_samples_split': 20}\n",
      "-> Report\n",
      "\n",
      "              precision    recall  f1-score   support\n",
      "\n",
      "           0       0.74      0.74      0.74       811\n",
      "           1       0.74      0.74      0.74       812\n",
      "\n",
      "    accuracy                           0.74      1623\n",
      "   macro avg       0.74      0.74      0.74      1623\n",
      "weighted avg       0.74      0.74      0.74      1623\n",
      "\n",
      "\n",
      "\n",
      "**** Matrice di Confusione *****\n",
      " True negative: 601 False negative: 213\n",
      " True positive: 599 False positive: 210\n",
      "...........RESULTS FOR TRAINING.........\n",
      "........................................\n",
      "0.671 (+/-0.025) for {'criterion': 'gini', 'max_depth': 2, 'min_samples_leaf': 1, 'min_samples_split': 2}\n",
      "0.671 (+/-0.025) for {'criterion': 'gini', 'max_depth': 2, 'min_samples_leaf': 1, 'min_samples_split': 5}\n",
      "0.671 (+/-0.025) for {'criterion': 'gini', 'max_depth': 2, 'min_samples_leaf': 1, 'min_samples_split': 10}\n",
      "0.671 (+/-0.025) for {'criterion': 'gini', 'max_depth': 2, 'min_samples_leaf': 1, 'min_samples_split': 20}\n",
      "0.671 (+/-0.025) for {'criterion': 'gini', 'max_depth': 2, 'min_samples_leaf': 5, 'min_samples_split': 2}\n",
      "0.671 (+/-0.025) for {'criterion': 'gini', 'max_depth': 2, 'min_samples_leaf': 5, 'min_samples_split': 5}\n",
      "0.671 (+/-0.025) for {'criterion': 'gini', 'max_depth': 2, 'min_samples_leaf': 5, 'min_samples_split': 10}\n",
      "0.671 (+/-0.025) for {'criterion': 'gini', 'max_depth': 2, 'min_samples_leaf': 5, 'min_samples_split': 20}\n",
      "0.671 (+/-0.025) for {'criterion': 'gini', 'max_depth': 2, 'min_samples_leaf': 10, 'min_samples_split': 2}\n",
      "0.671 (+/-0.025) for {'criterion': 'gini', 'max_depth': 2, 'min_samples_leaf': 10, 'min_samples_split': 5}\n",
      "0.671 (+/-0.025) for {'criterion': 'gini', 'max_depth': 2, 'min_samples_leaf': 10, 'min_samples_split': 10}\n",
      "0.671 (+/-0.025) for {'criterion': 'gini', 'max_depth': 2, 'min_samples_leaf': 10, 'min_samples_split': 20}\n",
      "0.671 (+/-0.025) for {'criterion': 'gini', 'max_depth': 2, 'min_samples_leaf': 20, 'min_samples_split': 2}\n",
      "0.671 (+/-0.025) for {'criterion': 'gini', 'max_depth': 2, 'min_samples_leaf': 20, 'min_samples_split': 5}\n",
      "0.671 (+/-0.025) for {'criterion': 'gini', 'max_depth': 2, 'min_samples_leaf': 20, 'min_samples_split': 10}\n",
      "0.671 (+/-0.025) for {'criterion': 'gini', 'max_depth': 2, 'min_samples_leaf': 20, 'min_samples_split': 20}\n",
      "0.823 (+/-0.033) for {'criterion': 'gini', 'max_depth': 5, 'min_samples_leaf': 1, 'min_samples_split': 2}\n",
      "0.822 (+/-0.034) for {'criterion': 'gini', 'max_depth': 5, 'min_samples_leaf': 1, 'min_samples_split': 5}\n",
      "0.822 (+/-0.034) for {'criterion': 'gini', 'max_depth': 5, 'min_samples_leaf': 1, 'min_samples_split': 10}\n",
      "0.822 (+/-0.034) for {'criterion': 'gini', 'max_depth': 5, 'min_samples_leaf': 1, 'min_samples_split': 20}\n",
      "0.822 (+/-0.035) for {'criterion': 'gini', 'max_depth': 5, 'min_samples_leaf': 5, 'min_samples_split': 2}\n",
      "0.822 (+/-0.035) for {'criterion': 'gini', 'max_depth': 5, 'min_samples_leaf': 5, 'min_samples_split': 5}\n",
      "0.822 (+/-0.035) for {'criterion': 'gini', 'max_depth': 5, 'min_samples_leaf': 5, 'min_samples_split': 10}\n",
      "0.821 (+/-0.034) for {'criterion': 'gini', 'max_depth': 5, 'min_samples_leaf': 5, 'min_samples_split': 20}\n",
      "0.820 (+/-0.036) for {'criterion': 'gini', 'max_depth': 5, 'min_samples_leaf': 10, 'min_samples_split': 2}\n",
      "0.820 (+/-0.036) for {'criterion': 'gini', 'max_depth': 5, 'min_samples_leaf': 10, 'min_samples_split': 5}\n",
      "0.820 (+/-0.036) for {'criterion': 'gini', 'max_depth': 5, 'min_samples_leaf': 10, 'min_samples_split': 10}\n",
      "0.820 (+/-0.036) for {'criterion': 'gini', 'max_depth': 5, 'min_samples_leaf': 10, 'min_samples_split': 20}\n",
      "0.817 (+/-0.034) for {'criterion': 'gini', 'max_depth': 5, 'min_samples_leaf': 20, 'min_samples_split': 2}\n",
      "0.817 (+/-0.034) for {'criterion': 'gini', 'max_depth': 5, 'min_samples_leaf': 20, 'min_samples_split': 5}\n",
      "0.817 (+/-0.034) for {'criterion': 'gini', 'max_depth': 5, 'min_samples_leaf': 20, 'min_samples_split': 10}\n",
      "0.817 (+/-0.034) for {'criterion': 'gini', 'max_depth': 5, 'min_samples_leaf': 20, 'min_samples_split': 20}\n",
      "0.967 (+/-0.022) for {'criterion': 'gini', 'max_depth': 10, 'min_samples_leaf': 1, 'min_samples_split': 2}\n",
      "0.964 (+/-0.023) for {'criterion': 'gini', 'max_depth': 10, 'min_samples_leaf': 1, 'min_samples_split': 5}\n",
      "0.958 (+/-0.024) for {'criterion': 'gini', 'max_depth': 10, 'min_samples_leaf': 1, 'min_samples_split': 10}\n",
      "0.947 (+/-0.023) for {'criterion': 'gini', 'max_depth': 10, 'min_samples_leaf': 1, 'min_samples_split': 20}\n",
      "0.951 (+/-0.024) for {'criterion': 'gini', 'max_depth': 10, 'min_samples_leaf': 5, 'min_samples_split': 2}\n",
      "0.951 (+/-0.024) for {'criterion': 'gini', 'max_depth': 10, 'min_samples_leaf': 5, 'min_samples_split': 5}\n",
      "0.951 (+/-0.024) for {'criterion': 'gini', 'max_depth': 10, 'min_samples_leaf': 5, 'min_samples_split': 10}\n",
      "0.942 (+/-0.022) for {'criterion': 'gini', 'max_depth': 10, 'min_samples_leaf': 5, 'min_samples_split': 20}\n",
      "0.936 (+/-0.025) for {'criterion': 'gini', 'max_depth': 10, 'min_samples_leaf': 10, 'min_samples_split': 2}\n",
      "0.936 (+/-0.024) for {'criterion': 'gini', 'max_depth': 10, 'min_samples_leaf': 10, 'min_samples_split': 5}\n",
      "0.936 (+/-0.025) for {'criterion': 'gini', 'max_depth': 10, 'min_samples_leaf': 10, 'min_samples_split': 10}\n",
      "0.936 (+/-0.025) for {'criterion': 'gini', 'max_depth': 10, 'min_samples_leaf': 10, 'min_samples_split': 20}\n",
      "0.910 (+/-0.021) for {'criterion': 'gini', 'max_depth': 10, 'min_samples_leaf': 20, 'min_samples_split': 2}\n",
      "0.910 (+/-0.020) for {'criterion': 'gini', 'max_depth': 10, 'min_samples_leaf': 20, 'min_samples_split': 5}\n",
      "0.910 (+/-0.021) for {'criterion': 'gini', 'max_depth': 10, 'min_samples_leaf': 20, 'min_samples_split': 10}\n",
      "0.910 (+/-0.020) for {'criterion': 'gini', 'max_depth': 10, 'min_samples_leaf': 20, 'min_samples_split': 20}\n",
      "0.996 (+/-0.008) for {'criterion': 'gini', 'max_depth': 15, 'min_samples_leaf': 1, 'min_samples_split': 2}\n",
      "0.993 (+/-0.009) for {'criterion': 'gini', 'max_depth': 15, 'min_samples_leaf': 1, 'min_samples_split': 5}\n",
      "0.987 (+/-0.008) for {'criterion': 'gini', 'max_depth': 15, 'min_samples_leaf': 1, 'min_samples_split': 10}\n",
      "0.974 (+/-0.007) for {'criterion': 'gini', 'max_depth': 15, 'min_samples_leaf': 1, 'min_samples_split': 20}\n",
      "0.979 (+/-0.009) for {'criterion': 'gini', 'max_depth': 15, 'min_samples_leaf': 5, 'min_samples_split': 2}\n",
      "0.979 (+/-0.009) for {'criterion': 'gini', 'max_depth': 15, 'min_samples_leaf': 5, 'min_samples_split': 5}\n",
      "0.979 (+/-0.009) for {'criterion': 'gini', 'max_depth': 15, 'min_samples_leaf': 5, 'min_samples_split': 10}\n",
      "0.966 (+/-0.007) for {'criterion': 'gini', 'max_depth': 15, 'min_samples_leaf': 5, 'min_samples_split': 20}\n",
      "0.960 (+/-0.005) for {'criterion': 'gini', 'max_depth': 15, 'min_samples_leaf': 10, 'min_samples_split': 2}\n",
      "0.960 (+/-0.005) for {'criterion': 'gini', 'max_depth': 15, 'min_samples_leaf': 10, 'min_samples_split': 5}\n",
      "0.960 (+/-0.005) for {'criterion': 'gini', 'max_depth': 15, 'min_samples_leaf': 10, 'min_samples_split': 10}\n",
      "0.960 (+/-0.005) for {'criterion': 'gini', 'max_depth': 15, 'min_samples_leaf': 10, 'min_samples_split': 20}\n",
      "0.925 (+/-0.012) for {'criterion': 'gini', 'max_depth': 15, 'min_samples_leaf': 20, 'min_samples_split': 2}\n",
      "0.925 (+/-0.012) for {'criterion': 'gini', 'max_depth': 15, 'min_samples_leaf': 20, 'min_samples_split': 5}\n",
      "0.925 (+/-0.012) for {'criterion': 'gini', 'max_depth': 15, 'min_samples_leaf': 20, 'min_samples_split': 10}\n",
      "0.925 (+/-0.012) for {'criterion': 'gini', 'max_depth': 15, 'min_samples_leaf': 20, 'min_samples_split': 20}\n",
      "1.000 (+/-0.000) for {'criterion': 'gini', 'max_depth': None, 'min_samples_leaf': 1, 'min_samples_split': 2}\n",
      "0.998 (+/-0.001) for {'criterion': 'gini', 'max_depth': None, 'min_samples_leaf': 1, 'min_samples_split': 5}\n",
      "0.992 (+/-0.002) for {'criterion': 'gini', 'max_depth': None, 'min_samples_leaf': 1, 'min_samples_split': 10}\n",
      "0.979 (+/-0.005) for {'criterion': 'gini', 'max_depth': None, 'min_samples_leaf': 1, 'min_samples_split': 20}\n",
      "0.983 (+/-0.003) for {'criterion': 'gini', 'max_depth': None, 'min_samples_leaf': 5, 'min_samples_split': 2}\n",
      "0.983 (+/-0.003) for {'criterion': 'gini', 'max_depth': None, 'min_samples_leaf': 5, 'min_samples_split': 5}\n",
      "0.983 (+/-0.003) for {'criterion': 'gini', 'max_depth': None, 'min_samples_leaf': 5, 'min_samples_split': 10}\n",
      "0.970 (+/-0.004) for {'criterion': 'gini', 'max_depth': None, 'min_samples_leaf': 5, 'min_samples_split': 20}\n",
      "0.961 (+/-0.003) for {'criterion': 'gini', 'max_depth': None, 'min_samples_leaf': 10, 'min_samples_split': 2}\n",
      "0.961 (+/-0.003) for {'criterion': 'gini', 'max_depth': None, 'min_samples_leaf': 10, 'min_samples_split': 5}\n",
      "0.961 (+/-0.003) for {'criterion': 'gini', 'max_depth': None, 'min_samples_leaf': 10, 'min_samples_split': 10}\n",
      "0.961 (+/-0.003) for {'criterion': 'gini', 'max_depth': None, 'min_samples_leaf': 10, 'min_samples_split': 20}\n",
      "0.926 (+/-0.010) for {'criterion': 'gini', 'max_depth': None, 'min_samples_leaf': 20, 'min_samples_split': 2}\n",
      "0.926 (+/-0.010) for {'criterion': 'gini', 'max_depth': None, 'min_samples_leaf': 20, 'min_samples_split': 5}\n",
      "0.926 (+/-0.010) for {'criterion': 'gini', 'max_depth': None, 'min_samples_leaf': 20, 'min_samples_split': 10}\n",
      "0.926 (+/-0.010) for {'criterion': 'gini', 'max_depth': None, 'min_samples_leaf': 20, 'min_samples_split': 20}\n",
      "0.662 (+/-0.021) for {'criterion': 'entropy', 'max_depth': 2, 'min_samples_leaf': 1, 'min_samples_split': 2}\n",
      "0.662 (+/-0.021) for {'criterion': 'entropy', 'max_depth': 2, 'min_samples_leaf': 1, 'min_samples_split': 5}\n",
      "0.662 (+/-0.021) for {'criterion': 'entropy', 'max_depth': 2, 'min_samples_leaf': 1, 'min_samples_split': 10}\n",
      "0.662 (+/-0.021) for {'criterion': 'entropy', 'max_depth': 2, 'min_samples_leaf': 1, 'min_samples_split': 20}\n",
      "0.662 (+/-0.021) for {'criterion': 'entropy', 'max_depth': 2, 'min_samples_leaf': 5, 'min_samples_split': 2}\n",
      "0.662 (+/-0.021) for {'criterion': 'entropy', 'max_depth': 2, 'min_samples_leaf': 5, 'min_samples_split': 5}\n",
      "0.662 (+/-0.021) for {'criterion': 'entropy', 'max_depth': 2, 'min_samples_leaf': 5, 'min_samples_split': 10}\n",
      "0.662 (+/-0.021) for {'criterion': 'entropy', 'max_depth': 2, 'min_samples_leaf': 5, 'min_samples_split': 20}\n",
      "0.662 (+/-0.021) for {'criterion': 'entropy', 'max_depth': 2, 'min_samples_leaf': 10, 'min_samples_split': 2}\n",
      "0.662 (+/-0.021) for {'criterion': 'entropy', 'max_depth': 2, 'min_samples_leaf': 10, 'min_samples_split': 5}\n",
      "0.662 (+/-0.021) for {'criterion': 'entropy', 'max_depth': 2, 'min_samples_leaf': 10, 'min_samples_split': 10}\n",
      "0.662 (+/-0.021) for {'criterion': 'entropy', 'max_depth': 2, 'min_samples_leaf': 10, 'min_samples_split': 20}\n",
      "0.662 (+/-0.021) for {'criterion': 'entropy', 'max_depth': 2, 'min_samples_leaf': 20, 'min_samples_split': 2}\n",
      "0.662 (+/-0.021) for {'criterion': 'entropy', 'max_depth': 2, 'min_samples_leaf': 20, 'min_samples_split': 5}\n",
      "0.662 (+/-0.021) for {'criterion': 'entropy', 'max_depth': 2, 'min_samples_leaf': 20, 'min_samples_split': 10}\n",
      "0.662 (+/-0.021) for {'criterion': 'entropy', 'max_depth': 2, 'min_samples_leaf': 20, 'min_samples_split': 20}\n",
      "0.811 (+/-0.040) for {'criterion': 'entropy', 'max_depth': 5, 'min_samples_leaf': 1, 'min_samples_split': 2}\n",
      "0.811 (+/-0.041) for {'criterion': 'entropy', 'max_depth': 5, 'min_samples_leaf': 1, 'min_samples_split': 5}\n",
      "0.811 (+/-0.040) for {'criterion': 'entropy', 'max_depth': 5, 'min_samples_leaf': 1, 'min_samples_split': 10}\n",
      "0.810 (+/-0.041) for {'criterion': 'entropy', 'max_depth': 5, 'min_samples_leaf': 1, 'min_samples_split': 20}\n",
      "0.810 (+/-0.041) for {'criterion': 'entropy', 'max_depth': 5, 'min_samples_leaf': 5, 'min_samples_split': 2}\n",
      "0.810 (+/-0.041) for {'criterion': 'entropy', 'max_depth': 5, 'min_samples_leaf': 5, 'min_samples_split': 5}\n",
      "0.810 (+/-0.041) for {'criterion': 'entropy', 'max_depth': 5, 'min_samples_leaf': 5, 'min_samples_split': 10}\n",
      "0.809 (+/-0.042) for {'criterion': 'entropy', 'max_depth': 5, 'min_samples_leaf': 5, 'min_samples_split': 20}\n",
      "0.808 (+/-0.044) for {'criterion': 'entropy', 'max_depth': 5, 'min_samples_leaf': 10, 'min_samples_split': 2}\n",
      "0.808 (+/-0.044) for {'criterion': 'entropy', 'max_depth': 5, 'min_samples_leaf': 10, 'min_samples_split': 5}\n",
      "0.808 (+/-0.044) for {'criterion': 'entropy', 'max_depth': 5, 'min_samples_leaf': 10, 'min_samples_split': 10}\n",
      "0.808 (+/-0.044) for {'criterion': 'entropy', 'max_depth': 5, 'min_samples_leaf': 10, 'min_samples_split': 20}\n",
      "0.807 (+/-0.044) for {'criterion': 'entropy', 'max_depth': 5, 'min_samples_leaf': 20, 'min_samples_split': 2}\n",
      "0.807 (+/-0.044) for {'criterion': 'entropy', 'max_depth': 5, 'min_samples_leaf': 20, 'min_samples_split': 5}\n",
      "0.807 (+/-0.044) for {'criterion': 'entropy', 'max_depth': 5, 'min_samples_leaf': 20, 'min_samples_split': 10}\n",
      "0.807 (+/-0.044) for {'criterion': 'entropy', 'max_depth': 5, 'min_samples_leaf': 20, 'min_samples_split': 20}\n",
      "0.963 (+/-0.029) for {'criterion': 'entropy', 'max_depth': 10, 'min_samples_leaf': 1, 'min_samples_split': 2}\n",
      "0.960 (+/-0.030) for {'criterion': 'entropy', 'max_depth': 10, 'min_samples_leaf': 1, 'min_samples_split': 5}\n",
      "0.955 (+/-0.031) for {'criterion': 'entropy', 'max_depth': 10, 'min_samples_leaf': 1, 'min_samples_split': 10}\n",
      "0.944 (+/-0.028) for {'criterion': 'entropy', 'max_depth': 10, 'min_samples_leaf': 1, 'min_samples_split': 20}\n",
      "0.951 (+/-0.030) for {'criterion': 'entropy', 'max_depth': 10, 'min_samples_leaf': 5, 'min_samples_split': 2}\n",
      "0.951 (+/-0.030) for {'criterion': 'entropy', 'max_depth': 10, 'min_samples_leaf': 5, 'min_samples_split': 5}\n",
      "0.950 (+/-0.030) for {'criterion': 'entropy', 'max_depth': 10, 'min_samples_leaf': 5, 'min_samples_split': 10}\n",
      "0.941 (+/-0.029) for {'criterion': 'entropy', 'max_depth': 10, 'min_samples_leaf': 5, 'min_samples_split': 20}\n",
      "0.937 (+/-0.029) for {'criterion': 'entropy', 'max_depth': 10, 'min_samples_leaf': 10, 'min_samples_split': 2}\n",
      "0.937 (+/-0.029) for {'criterion': 'entropy', 'max_depth': 10, 'min_samples_leaf': 10, 'min_samples_split': 5}\n",
      "0.937 (+/-0.029) for {'criterion': 'entropy', 'max_depth': 10, 'min_samples_leaf': 10, 'min_samples_split': 10}\n",
      "0.937 (+/-0.029) for {'criterion': 'entropy', 'max_depth': 10, 'min_samples_leaf': 10, 'min_samples_split': 20}\n",
      "0.915 (+/-0.025) for {'criterion': 'entropy', 'max_depth': 10, 'min_samples_leaf': 20, 'min_samples_split': 2}\n",
      "0.915 (+/-0.025) for {'criterion': 'entropy', 'max_depth': 10, 'min_samples_leaf': 20, 'min_samples_split': 5}\n",
      "0.915 (+/-0.026) for {'criterion': 'entropy', 'max_depth': 10, 'min_samples_leaf': 20, 'min_samples_split': 10}\n",
      "0.915 (+/-0.025) for {'criterion': 'entropy', 'max_depth': 10, 'min_samples_leaf': 20, 'min_samples_split': 20}\n",
      "0.996 (+/-0.006) for {'criterion': 'entropy', 'max_depth': 15, 'min_samples_leaf': 1, 'min_samples_split': 2}\n",
      "0.994 (+/-0.008) for {'criterion': 'entropy', 'max_depth': 15, 'min_samples_leaf': 1, 'min_samples_split': 5}\n",
      "0.988 (+/-0.009) for {'criterion': 'entropy', 'max_depth': 15, 'min_samples_leaf': 1, 'min_samples_split': 10}\n",
      "0.975 (+/-0.010) for {'criterion': 'entropy', 'max_depth': 15, 'min_samples_leaf': 1, 'min_samples_split': 20}\n",
      "0.984 (+/-0.010) for {'criterion': 'entropy', 'max_depth': 15, 'min_samples_leaf': 5, 'min_samples_split': 2}\n",
      "0.984 (+/-0.010) for {'criterion': 'entropy', 'max_depth': 15, 'min_samples_leaf': 5, 'min_samples_split': 5}\n",
      "0.984 (+/-0.010) for {'criterion': 'entropy', 'max_depth': 15, 'min_samples_leaf': 5, 'min_samples_split': 10}\n",
      "0.972 (+/-0.011) for {'criterion': 'entropy', 'max_depth': 15, 'min_samples_leaf': 5, 'min_samples_split': 20}\n",
      "0.966 (+/-0.007) for {'criterion': 'entropy', 'max_depth': 15, 'min_samples_leaf': 10, 'min_samples_split': 2}\n",
      "0.966 (+/-0.007) for {'criterion': 'entropy', 'max_depth': 15, 'min_samples_leaf': 10, 'min_samples_split': 5}\n",
      "0.966 (+/-0.007) for {'criterion': 'entropy', 'max_depth': 15, 'min_samples_leaf': 10, 'min_samples_split': 10}\n",
      "0.966 (+/-0.007) for {'criterion': 'entropy', 'max_depth': 15, 'min_samples_leaf': 10, 'min_samples_split': 20}\n",
      "0.935 (+/-0.005) for {'criterion': 'entropy', 'max_depth': 15, 'min_samples_leaf': 20, 'min_samples_split': 2}\n",
      "0.935 (+/-0.005) for {'criterion': 'entropy', 'max_depth': 15, 'min_samples_leaf': 20, 'min_samples_split': 5}\n",
      "0.935 (+/-0.005) for {'criterion': 'entropy', 'max_depth': 15, 'min_samples_leaf': 20, 'min_samples_split': 10}\n",
      "0.935 (+/-0.005) for {'criterion': 'entropy', 'max_depth': 15, 'min_samples_leaf': 20, 'min_samples_split': 20}\n",
      "1.000 (+/-0.000) for {'criterion': 'entropy', 'max_depth': None, 'min_samples_leaf': 1, 'min_samples_split': 2}\n",
      "0.999 (+/-0.000) for {'criterion': 'entropy', 'max_depth': None, 'min_samples_leaf': 1, 'min_samples_split': 5}\n",
      "0.993 (+/-0.001) for {'criterion': 'entropy', 'max_depth': None, 'min_samples_leaf': 1, 'min_samples_split': 10}\n",
      "0.980 (+/-0.002) for {'criterion': 'entropy', 'max_depth': None, 'min_samples_leaf': 1, 'min_samples_split': 20}\n",
      "0.989 (+/-0.001) for {'criterion': 'entropy', 'max_depth': None, 'min_samples_leaf': 5, 'min_samples_split': 2}\n",
      "0.989 (+/-0.001) for {'criterion': 'entropy', 'max_depth': None, 'min_samples_leaf': 5, 'min_samples_split': 5}\n",
      "0.989 (+/-0.001) for {'criterion': 'entropy', 'max_depth': None, 'min_samples_leaf': 5, 'min_samples_split': 10}\n",
      "0.976 (+/-0.003) for {'criterion': 'entropy', 'max_depth': None, 'min_samples_leaf': 5, 'min_samples_split': 20}\n",
      "0.969 (+/-0.002) for {'criterion': 'entropy', 'max_depth': None, 'min_samples_leaf': 10, 'min_samples_split': 2}\n",
      "0.970 (+/-0.002) for {'criterion': 'entropy', 'max_depth': None, 'min_samples_leaf': 10, 'min_samples_split': 5}\n",
      "0.970 (+/-0.002) for {'criterion': 'entropy', 'max_depth': None, 'min_samples_leaf': 10, 'min_samples_split': 10}\n",
      "0.969 (+/-0.002) for {'criterion': 'entropy', 'max_depth': None, 'min_samples_leaf': 10, 'min_samples_split': 20}\n",
      "0.936 (+/-0.003) for {'criterion': 'entropy', 'max_depth': None, 'min_samples_leaf': 20, 'min_samples_split': 2}\n",
      "0.936 (+/-0.003) for {'criterion': 'entropy', 'max_depth': None, 'min_samples_leaf': 20, 'min_samples_split': 5}\n",
      "0.936 (+/-0.003) for {'criterion': 'entropy', 'max_depth': None, 'min_samples_leaf': 20, 'min_samples_split': 10}\n",
      "0.936 (+/-0.003) for {'criterion': 'entropy', 'max_depth': None, 'min_samples_leaf': 20, 'min_samples_split': 20}\n",
      "____________________________________________\n"
     ]
    }
   ],
   "source": [
    "optimals_sb_597 = builtGridSearch(xtrain_sb_597, xtest_sb_597, ytrain_sb_597, ytest_sb_597, tuned_parameters, scores)"
   ]
  },
  {
   "cell_type": "code",
   "execution_count": 40,
   "id": "6b1d7b76",
   "metadata": {},
   "outputs": [
    {
     "data": {
      "text/plain": [
       "DecisionTreeClassifier(min_samples_leaf=20, min_samples_split=10)"
      ]
     },
     "execution_count": 40,
     "metadata": {},
     "output_type": "execute_result"
    }
   ],
   "source": [
    "model_sb_597 = tree.DecisionTreeClassifier(criterion = \"gini\", max_depth = None, min_samples_leaf = 20, min_samples_split = 10)\n",
    "model_sb_597.fit(xtrain_sb_597, ytrain_sb_597)"
   ]
  },
  {
   "cell_type": "code",
   "execution_count": 41,
   "id": "ffb2a18a",
   "metadata": {},
   "outputs": [],
   "source": [
    "y_score_sb_597 = model_sb_597.predict_proba(xtest_sb_597)\n",
    "fpr0, tpr0, _ = roc_curve(ytest_sb_597, y_score_sb_597[:, 1])\n",
    "roc_auc0_dt_597_sb = auc(fpr0, tpr0)"
   ]
  },
  {
   "cell_type": "code",
   "execution_count": 42,
   "id": "5af1ee64",
   "metadata": {
    "scrolled": true
   },
   "outputs": [
    {
     "data": {
      "image/png": "[encoded data removed]",
      "text/plain": [
       "<Figure size 432x288 with 1 Axes>"
      ]
     },
     "metadata": {
      "needs_background": "light"
     },
     "output_type": "display_data"
    }
   ],
   "source": [
    "plt.plot(fpr0, tpr0, color='darkorange', lw=3, label='$AUC_0$ = %.3f' % (roc_auc0_dt_597_sb))\n",
    "plt.plot([0, 1], [0, 1], color='navy', lw=2, linestyle='--')\n",
    "plt.xlim([0.0, 1.0])\n",
    "plt.ylim([0.0, 1.05])\n",
    "plt.xlabel('False Positive Rate', fontsize=16)\n",
    "plt.ylabel('True Positive Rate', fontsize=16)\n",
    "plt.title('ROC curve', fontsize=16)\n",
    "plt.legend(loc=\"lower right\", fontsize=14, frameon=False)\n",
    "plt.tick_params(axis='both', which='major', labelsize=16)\n",
    "plt.show()"
   ]
  },
  {
   "cell_type": "markdown",
   "id": "848bf159",
   "metadata": {},
   "source": [
    "### 2 - Regressione logistica"
   ]
  },
  {
   "cell_type": "code",
   "execution_count": 43,
   "id": "1a11c79c",
   "metadata": {},
   "outputs": [],
   "source": [
    "lr = LogisticRegression()\n",
    "lr.fit(xtrain_597, ytrain_597)\n",
    "predictions = lr.predict_proba(xtest_597)"
   ]
  },
  {
   "cell_type": "code",
   "execution_count": 44,
   "id": "d1eddcf1",
   "metadata": {},
   "outputs": [
    {
     "name": "stdout",
     "output_type": "stream",
     "text": [
      "0.8015473930124509\n"
     ]
    }
   ],
   "source": [
    "y_score = lr.predict_proba(xtest_597)\n",
    "fpr0, tpr0, _ = roc_curve(ytest_597, y_score[:, 1])\n",
    "roc_auc0 = auc(fpr0, tpr0)\n",
    "print(roc_auc0)"
   ]
  },
  {
   "cell_type": "code",
   "execution_count": 45,
   "id": "ae3d5eb0",
   "metadata": {},
   "outputs": [
    {
     "data": {
      "image/png": "[encoded data removed]",
      "text/plain": [
       "<Figure size 432x288 with 1 Axes>"
      ]
     },
     "metadata": {
      "needs_background": "light"
     },
     "output_type": "display_data"
    }
   ],
   "source": [
    "plt.plot(fpr0, tpr0, color='darkorange', lw=3, label='$AUC_0$ = %.3f' % (roc_auc0))\n",
    "\n",
    "plt.plot([0, 1], [0, 1], color='navy', lw=2, linestyle='--')\n",
    "plt.xlim([0.0, 1.0])\n",
    "plt.ylim([0.0, 1.05])\n",
    "plt.xlabel('False Positive Rate', fontsize=16)\n",
    "plt.ylabel('True Positive Rate', fontsize=16)\n",
    "plt.title('ROC curve', fontsize=16)\n",
    "plt.legend(loc=\"lower right\", fontsize=14, frameon=False)\n",
    "plt.tick_params(axis='both', which='major', labelsize=16)\n",
    "plt.show()"
   ]
  },
  {
   "cell_type": "markdown",
   "id": "0da1989a",
   "metadata": {},
   "source": [
    "### 2 - Regressione Logistica_Bilanciata"
   ]
  },
  {
   "cell_type": "code",
   "execution_count": 46,
   "id": "c03d640d",
   "metadata": {},
   "outputs": [
    {
     "data": {
      "text/plain": [
       "LogisticRegression()"
      ]
     },
     "execution_count": 46,
     "metadata": {},
     "output_type": "execute_result"
    }
   ],
   "source": [
    "lr = LogisticRegression()\n",
    "lr.fit(xtrain_sb_597, ytrain_sb_597)"
   ]
  },
  {
   "cell_type": "code",
   "execution_count": 47,
   "id": "e3995aea",
   "metadata": {},
   "outputs": [
    {
     "name": "stdout",
     "output_type": "stream",
     "text": [
      "0.8070344341656897\n"
     ]
    }
   ],
   "source": [
    "y_score = lr.predict_proba(xtest_sb_597)\n",
    "fpr0, tpr0, _ = roc_curve(ytest_sb_597, y_score[:, 1])\n",
    "roc_auc0 = auc(fpr0, tpr0)\n",
    "print(roc_auc0)"
   ]
  },
  {
   "cell_type": "code",
   "execution_count": 48,
   "id": "05db3b05",
   "metadata": {},
   "outputs": [
    {
     "data": {
      "image/png": "[encoded data removed]",
      "text/plain": [
       "<Figure size 432x288 with 1 Axes>"
      ]
     },
     "metadata": {
      "needs_background": "light"
     },
     "output_type": "display_data"
    }
   ],
   "source": [
    "plt.plot(fpr0, tpr0, color='darkorange', lw=3, label='$AUC_0$ = %.3f' % (roc_auc0))\n",
    "\n",
    "plt.plot([0, 1], [0, 1], color='navy', lw=2, linestyle='--')\n",
    "plt.xlim([0.0, 1.0])\n",
    "plt.ylim([0.0, 1.05])\n",
    "plt.xlabel('False Positive Rate', fontsize=16)\n",
    "plt.ylabel('True Positive Rate', fontsize=16)\n",
    "plt.title('ROC curve', fontsize=16)\n",
    "plt.legend(loc=\"lower right\", fontsize=14, frameon=False)\n",
    "plt.tick_params(axis='both', which='major', labelsize=16)\n",
    "plt.show()"
   ]
  },
  {
   "cell_type": "markdown",
   "id": "3dc3f677",
   "metadata": {},
   "source": [
    "### 3 - LGBM"
   ]
  },
  {
   "cell_type": "code",
   "execution_count": 49,
   "id": "c85b9393",
   "metadata": {},
   "outputs": [],
   "source": [
    "new_xtrain_597, xval_597, new_ytrain_597, yval_597 = train_test_split(xtrain_597, ytrain_597, \n",
    "                                                test_size = 0.3, \n",
    "                                                random_state = 35,\n",
    "                                                stratify=ytrain_597)"
   ]
  },
  {
   "cell_type": "code",
   "execution_count": 50,
   "id": "7f7a1ec1",
   "metadata": {},
   "outputs": [],
   "source": [
    "import lightgbm as lgbm"
   ]
  },
  {
   "cell_type": "code",
   "execution_count": 51,
   "id": "e2edbd09",
   "metadata": {},
   "outputs": [
    {
     "name": "stderr",
     "output_type": "stream",
     "text": [
      "C:\\Users\\marco\\anaconda3\\lib\\site-packages\\lightgbm\\engine.py:181: UserWarning: 'early_stopping_rounds' argument is deprecated and will be removed in a future release of LightGBM. Pass 'early_stopping()' callback via 'callbacks' argument instead.\n",
      "  _log_warning(\"'early_stopping_rounds' argument is deprecated and will be removed in a future release of LightGBM. \"\n"
     ]
    },
    {
     "name": "stdout",
     "output_type": "stream",
     "text": [
      "[LightGBM] [Info] Number of positive: 1325, number of negative: 4599\n",
      "[LightGBM] [Warning] Auto-choosing col-wise multi-threading, the overhead of testing was 0.004743 seconds.\n",
      "You can set `force_col_wise=true` to remove the overhead.\n",
      "[LightGBM] [Info] Total Bins 31200\n",
      "[LightGBM] [Info] Number of data points in the train set: 5924, number of used features: 200\n",
      "[LightGBM] [Info] [binary:BoostFromScore]: pavg=0.223666 -> initscore=-1.244426\n",
      "[LightGBM] [Info] Start training from score -1.244426\n",
      "[1]\tvalid_0's auc: 0.772823\n",
      "Training until validation scores don't improve for 20 rounds\n",
      "[2]\tvalid_0's auc: 0.819171\n",
      "[3]\tvalid_0's auc: 0.839048\n",
      "[4]\tvalid_0's auc: 0.84934\n",
      "[5]\tvalid_0's auc: 0.858164\n",
      "[6]\tvalid_0's auc: 0.866531\n",
      "[7]\tvalid_0's auc: 0.872163\n",
      "[8]\tvalid_0's auc: 0.875489\n",
      "[9]\tvalid_0's auc: 0.876492\n",
      "[10]\tvalid_0's auc: 0.878865\n",
      "[11]\tvalid_0's auc: 0.880497\n",
      "[12]\tvalid_0's auc: 0.882738\n",
      "[13]\tvalid_0's auc: 0.884711\n",
      "[14]\tvalid_0's auc: 0.88434\n",
      "[15]\tvalid_0's auc: 0.885485\n",
      "[16]\tvalid_0's auc: 0.885992\n",
      "[17]\tvalid_0's auc: 0.887294\n",
      "[18]\tvalid_0's auc: 0.888302\n",
      "[19]\tvalid_0's auc: 0.889112\n",
      "[20]\tvalid_0's auc: 0.889867\n",
      "[21]\tvalid_0's auc: 0.892305\n",
      "[22]\tvalid_0's auc: 0.893192\n",
      "[23]\tvalid_0's auc: 0.894647\n",
      "[24]\tvalid_0's auc: 0.895953\n",
      "[25]\tvalid_0's auc: 0.896898\n",
      "[26]\tvalid_0's auc: 0.89694\n",
      "[27]\tvalid_0's auc: 0.897236\n",
      "[28]\tvalid_0's auc: 0.897699\n",
      "[29]\tvalid_0's auc: 0.898637\n",
      "[30]\tvalid_0's auc: 0.89896\n",
      "[31]\tvalid_0's auc: 0.899015\n",
      "[32]\tvalid_0's auc: 0.898795\n",
      "[33]\tvalid_0's auc: 0.899477\n",
      "[34]\tvalid_0's auc: 0.900359\n",
      "[35]\tvalid_0's auc: 0.90037\n",
      "[36]\tvalid_0's auc: 0.901173\n",
      "[37]\tvalid_0's auc: 0.901849\n",
      "[38]\tvalid_0's auc: 0.901517\n",
      "[39]\tvalid_0's auc: 0.900981\n",
      "[40]\tvalid_0's auc: 0.901293\n",
      "[41]\tvalid_0's auc: 0.901894\n",
      "[42]\tvalid_0's auc: 0.902096\n",
      "[43]\tvalid_0's auc: 0.903217\n",
      "[44]\tvalid_0's auc: 0.903542\n",
      "[45]\tvalid_0's auc: 0.904288\n",
      "[46]\tvalid_0's auc: 0.904486\n",
      "[47]\tvalid_0's auc: 0.904674\n",
      "[48]\tvalid_0's auc: 0.90451\n",
      "[49]\tvalid_0's auc: 0.90456\n",
      "[50]\tvalid_0's auc: 0.904701\n",
      "[51]\tvalid_0's auc: 0.904778\n",
      "[52]\tvalid_0's auc: 0.904342\n",
      "[53]\tvalid_0's auc: 0.904445\n",
      "[54]\tvalid_0's auc: 0.904448\n",
      "[55]\tvalid_0's auc: 0.904339\n",
      "[56]\tvalid_0's auc: 0.90417\n",
      "[57]\tvalid_0's auc: 0.904202\n",
      "[58]\tvalid_0's auc: 0.904605\n",
      "[59]\tvalid_0's auc: 0.904463\n",
      "[60]\tvalid_0's auc: 0.904816\n",
      "[61]\tvalid_0's auc: 0.904798\n",
      "[62]\tvalid_0's auc: 0.904946\n",
      "[63]\tvalid_0's auc: 0.904892\n",
      "[64]\tvalid_0's auc: 0.905708\n",
      "[65]\tvalid_0's auc: 0.906301\n",
      "[66]\tvalid_0's auc: 0.906386\n",
      "[67]\tvalid_0's auc: 0.906275\n",
      "[68]\tvalid_0's auc: 0.906853\n",
      "[69]\tvalid_0's auc: 0.906871\n",
      "[70]\tvalid_0's auc: 0.906988\n",
      "[71]\tvalid_0's auc: 0.907214\n",
      "[72]\tvalid_0's auc: 0.907582\n",
      "[73]\tvalid_0's auc: 0.907817\n",
      "[74]\tvalid_0's auc: 0.907909\n",
      "[75]\tvalid_0's auc: 0.90835\n",
      "[76]\tvalid_0's auc: 0.908254\n",
      "[77]\tvalid_0's auc: 0.908377\n",
      "[78]\tvalid_0's auc: 0.908364\n",
      "[79]\tvalid_0's auc: 0.908234\n",
      "[80]\tvalid_0's auc: 0.908168\n",
      "[81]\tvalid_0's auc: 0.908669\n",
      "[82]\tvalid_0's auc: 0.90869\n",
      "[83]\tvalid_0's auc: 0.90861\n",
      "[84]\tvalid_0's auc: 0.908798\n",
      "[85]\tvalid_0's auc: 0.90906\n",
      "[86]\tvalid_0's auc: 0.909356\n",
      "[87]\tvalid_0's auc: 0.909532\n",
      "[88]\tvalid_0's auc: 0.909244\n",
      "[89]\tvalid_0's auc: 0.90954\n",
      "[90]\tvalid_0's auc: 0.909752\n",
      "[91]\tvalid_0's auc: 0.910268\n",
      "[92]\tvalid_0's auc: 0.910716\n",
      "[93]\tvalid_0's auc: 0.910581\n",
      "[94]\tvalid_0's auc: 0.91065\n",
      "[95]\tvalid_0's auc: 0.91036\n",
      "[96]\tvalid_0's auc: 0.910843\n",
      "[97]\tvalid_0's auc: 0.910974\n",
      "[98]\tvalid_0's auc: 0.910775\n",
      "[99]\tvalid_0's auc: 0.910538\n",
      "[100]\tvalid_0's auc: 0.910755\n",
      "[101]\tvalid_0's auc: 0.910401\n",
      "[102]\tvalid_0's auc: 0.910546\n",
      "[103]\tvalid_0's auc: 0.910768\n",
      "[104]\tvalid_0's auc: 0.910606\n",
      "[105]\tvalid_0's auc: 0.910293\n",
      "[106]\tvalid_0's auc: 0.910325\n",
      "[107]\tvalid_0's auc: 0.909993\n",
      "[108]\tvalid_0's auc: 0.910071\n",
      "[109]\tvalid_0's auc: 0.910642\n",
      "[110]\tvalid_0's auc: 0.910685\n",
      "[111]\tvalid_0's auc: 0.91108\n",
      "[112]\tvalid_0's auc: 0.910874\n",
      "[113]\tvalid_0's auc: 0.910656\n",
      "[114]\tvalid_0's auc: 0.910484\n",
      "[115]\tvalid_0's auc: 0.91099\n",
      "[116]\tvalid_0's auc: 0.911163\n",
      "[117]\tvalid_0's auc: 0.911497\n",
      "[118]\tvalid_0's auc: 0.911657\n",
      "[119]\tvalid_0's auc: 0.911196\n",
      "[120]\tvalid_0's auc: 0.91122\n",
      "[121]\tvalid_0's auc: 0.911687\n",
      "[122]\tvalid_0's auc: 0.91195\n",
      "[123]\tvalid_0's auc: 0.912172\n",
      "[124]\tvalid_0's auc: 0.912488\n",
      "[125]\tvalid_0's auc: 0.912582\n",
      "[126]\tvalid_0's auc: 0.912781\n",
      "[127]\tvalid_0's auc: 0.912773\n",
      "[128]\tvalid_0's auc: 0.912936\n",
      "[129]\tvalid_0's auc: 0.912972\n",
      "[130]\tvalid_0's auc: 0.912925\n",
      "[131]\tvalid_0's auc: 0.913262\n",
      "[132]\tvalid_0's auc: 0.913638\n",
      "[133]\tvalid_0's auc: 0.913759\n",
      "[134]\tvalid_0's auc: 0.91369\n",
      "[135]\tvalid_0's auc: 0.913763\n",
      "[136]\tvalid_0's auc: 0.913659\n",
      "[137]\tvalid_0's auc: 0.913812\n",
      "[138]\tvalid_0's auc: 0.913816\n",
      "[139]\tvalid_0's auc: 0.913792\n",
      "[140]\tvalid_0's auc: 0.913629\n",
      "[141]\tvalid_0's auc: 0.914355\n",
      "[142]\tvalid_0's auc: 0.914429\n",
      "[143]\tvalid_0's auc: 0.914262\n",
      "[144]\tvalid_0's auc: 0.91429\n",
      "[145]\tvalid_0's auc: 0.914116\n",
      "[146]\tvalid_0's auc: 0.91402\n",
      "[147]\tvalid_0's auc: 0.913853\n",
      "[148]\tvalid_0's auc: 0.913732\n",
      "[149]\tvalid_0's auc: 0.913696\n",
      "[150]\tvalid_0's auc: 0.913698\n",
      "[151]\tvalid_0's auc: 0.913439\n",
      "[152]\tvalid_0's auc: 0.913359\n",
      "[153]\tvalid_0's auc: 0.913013\n",
      "[154]\tvalid_0's auc: 0.912893\n",
      "[155]\tvalid_0's auc: 0.912748\n",
      "[156]\tvalid_0's auc: 0.912234\n",
      "[157]\tvalid_0's auc: 0.911854\n",
      "[158]\tvalid_0's auc: 0.91178\n",
      "[159]\tvalid_0's auc: 0.911784\n",
      "[160]\tvalid_0's auc: 0.912014\n",
      "[161]\tvalid_0's auc: 0.911722\n",
      "[162]\tvalid_0's auc: 0.911951\n",
      "Early stopping, best iteration is:\n",
      "[142]\tvalid_0's auc: 0.914429\n"
     ]
    }
   ],
   "source": [
    "train_data = lgbm.Dataset(new_xtrain_597, new_ytrain_597)\n",
    "test_data = lgbm.Dataset(xval_597, yval_597)\n",
    "\n",
    "# define parameters\n",
    "parameters = {\n",
    "    'objective': 'binary',\n",
    "    'metric': 'auc',\n",
    "    'is_unbalance': 'true',\n",
    "    'feature_fraction': 0.5,\n",
    "    'bagging_fraction': 0.5,\n",
    "    'bagging_freq': 20,\n",
    "    'num_threads' : 2,\n",
    "    'seed' : 76\n",
    "}\n",
    "\n",
    "# train lightGBM model\n",
    "model = lgbm.train(parameters,\n",
    "                   train_data,\n",
    "                   valid_sets=test_data,\n",
    "                   num_boost_round=1000,\n",
    "                   early_stopping_rounds=20)\n",
    "\n",
    "y_pred = model.predict(xtest_597)"
   ]
  },
  {
   "cell_type": "code",
   "execution_count": 52,
   "id": "0555e415",
   "metadata": {},
   "outputs": [
    {
     "data": {
      "text/plain": [
       "array([0.16018159, 0.02498491, 0.40431921, ..., 0.98370673, 0.0547761 ,\n",
       "       0.01388937])"
      ]
     },
     "execution_count": 52,
     "metadata": {},
     "output_type": "execute_result"
    }
   ],
   "source": [
    "y_pred"
   ]
  },
  {
   "cell_type": "code",
   "execution_count": 53,
   "id": "2e899c9a",
   "metadata": {},
   "outputs": [
    {
     "name": "stdout",
     "output_type": "stream",
     "text": [
      "0.9104655741147443\n"
     ]
    }
   ],
   "source": [
    "fpr0, tpr0, _ = roc_curve(ytest_597, y_pred)\n",
    "roc_auc_lgbm = auc(fpr0, tpr0)\n",
    "print(roc_auc_lgbm)"
   ]
  },
  {
   "cell_type": "markdown",
   "id": "321376fe",
   "metadata": {},
   "source": [
    "### 3 - LGBM_Bilanciato"
   ]
  },
  {
   "cell_type": "code",
   "execution_count": 54,
   "id": "437d0f85",
   "metadata": {},
   "outputs": [],
   "source": [
    "new_xtrain_sb_597, xval_sb_597, new_ytrain_sb_597, yval_sb_597 = train_test_split(xtrain_sb_597, ytrain_sb_597, \n",
    "                                                test_size = 0.3, \n",
    "                                                random_state = 35,\n",
    "                                                stratify=ytrain_sb_597)"
   ]
  },
  {
   "cell_type": "code",
   "execution_count": 55,
   "id": "a1db120e",
   "metadata": {},
   "outputs": [
    {
     "name": "stdout",
     "output_type": "stream",
     "text": [
      "[LightGBM] [Info] Number of positive: 1325, number of negative: 1325\n",
      "[LightGBM] [Warning] Auto-choosing col-wise multi-threading, the overhead of testing was 0.002024 seconds.\n",
      "You can set `force_col_wise=true` to remove the overhead.\n",
      "[LightGBM] [Info] Total Bins 30335\n",
      "[LightGBM] [Info] Number of data points in the train set: 2650, number of used features: 200\n",
      "[LightGBM] [Info] [binary:BoostFromScore]: pavg=0.500000 -> initscore=0.000000\n",
      "[1]\tvalid_0's auc: 0.781885\n",
      "Training until validation scores don't improve for 20 rounds\n",
      "[2]\tvalid_0's auc: 0.845703\n",
      "[3]\tvalid_0's auc: 0.871731\n",
      "[4]\tvalid_0's auc: 0.880563\n",
      "[5]\tvalid_0's auc: 0.883866\n",
      "[6]\tvalid_0's auc: 0.88806\n",
      "[7]\tvalid_0's auc: 0.893254\n",
      "[8]\tvalid_0's auc: 0.89675\n",
      "[9]\tvalid_0's auc: 0.895146\n",
      "[10]\tvalid_0's auc: 0.894889\n",
      "[11]\tvalid_0's auc: 0.896517\n",
      "[12]\tvalid_0's auc: 0.898949\n",
      "[13]\tvalid_0's auc: 0.899998\n",
      "[14]\tvalid_0's auc: 0.899239\n",
      "[15]\tvalid_0's auc: 0.8997\n",
      "[16]\tvalid_0's auc: 0.900811\n",
      "[17]\tvalid_0's auc: 0.901275\n",
      "[18]\tvalid_0's auc: 0.901495\n",
      "[19]\tvalid_0's auc: 0.901319\n",
      "[20]\tvalid_0's auc: 0.902321\n",
      "[21]\tvalid_0's auc: 0.904168\n",
      "[22]\tvalid_0's auc: 0.9044\n",
      "[23]\tvalid_0's auc: 0.906248\n"
     ]
    },
    {
     "name": "stderr",
     "output_type": "stream",
     "text": [
      "C:\\Users\\marco\\anaconda3\\lib\\site-packages\\lightgbm\\engine.py:181: UserWarning: 'early_stopping_rounds' argument is deprecated and will be removed in a future release of LightGBM. Pass 'early_stopping()' callback via 'callbacks' argument instead.\n",
      "  _log_warning(\"'early_stopping_rounds' argument is deprecated and will be removed in a future release of LightGBM. \"\n"
     ]
    },
    {
     "name": "stdout",
     "output_type": "stream",
     "text": [
      "[24]\tvalid_0's auc: 0.909264\n",
      "[25]\tvalid_0's auc: 0.909234\n",
      "[26]\tvalid_0's auc: 0.909546\n",
      "[27]\tvalid_0's auc: 0.910589\n",
      "[28]\tvalid_0's auc: 0.911724\n",
      "[29]\tvalid_0's auc: 0.911576\n",
      "[30]\tvalid_0's auc: 0.910753\n",
      "[31]\tvalid_0's auc: 0.910545\n",
      "[32]\tvalid_0's auc: 0.909797\n",
      "[33]\tvalid_0's auc: 0.910381\n",
      "[34]\tvalid_0's auc: 0.909713\n",
      "[35]\tvalid_0's auc: 0.909404\n",
      "[36]\tvalid_0's auc: 0.909716\n",
      "[37]\tvalid_0's auc: 0.909286\n",
      "[38]\tvalid_0's auc: 0.910233\n",
      "[39]\tvalid_0's auc: 0.910771\n",
      "[40]\tvalid_0's auc: 0.910131\n",
      "[41]\tvalid_0's auc: 0.91221\n",
      "[42]\tvalid_0's auc: 0.913633\n",
      "[43]\tvalid_0's auc: 0.913293\n",
      "[44]\tvalid_0's auc: 0.913123\n",
      "[45]\tvalid_0's auc: 0.91338\n",
      "[46]\tvalid_0's auc: 0.912755\n",
      "[47]\tvalid_0's auc: 0.912807\n",
      "[48]\tvalid_0's auc: 0.913244\n",
      "[49]\tvalid_0's auc: 0.912823\n",
      "[50]\tvalid_0's auc: 0.912356\n",
      "[51]\tvalid_0's auc: 0.911805\n",
      "[52]\tvalid_0's auc: 0.911666\n",
      "[53]\tvalid_0's auc: 0.912148\n",
      "[54]\tvalid_0's auc: 0.911161\n",
      "[55]\tvalid_0's auc: 0.911331\n",
      "[56]\tvalid_0's auc: 0.911068\n",
      "[57]\tvalid_0's auc: 0.911406\n",
      "[58]\tvalid_0's auc: 0.910549\n",
      "[59]\tvalid_0's auc: 0.910078\n",
      "[60]\tvalid_0's auc: 0.91006\n",
      "[61]\tvalid_0's auc: 0.910007\n",
      "[62]\tvalid_0's auc: 0.910465\n",
      "Early stopping, best iteration is:\n",
      "[42]\tvalid_0's auc: 0.913633\n"
     ]
    }
   ],
   "source": [
    "train_data = lgbm.Dataset(new_xtrain_sb_597, new_ytrain_sb_597)\n",
    "test_data = lgbm.Dataset(xval_sb_597, yval_sb_597)\n",
    "\n",
    "# define parameters\n",
    "parameters = {\n",
    "    'objective': 'binary',\n",
    "    'metric': 'auc',\n",
    "    'is_unbalance': 'false',\n",
    "    'feature_fraction': 0.5,\n",
    "    'bagging_fraction': 0.5,\n",
    "    'bagging_freq': 20,\n",
    "    'num_threads' : 2,\n",
    "    'seed' : 76\n",
    "}\n",
    "\n",
    "# train lightGBM model\n",
    "model = lgbm.train(parameters,\n",
    "                   train_data,\n",
    "                   valid_sets=test_data,\n",
    "                   num_boost_round=1000,\n",
    "                   early_stopping_rounds=20)\n",
    "y_pred = model.predict(xtest_sb_597)"
   ]
  },
  {
   "cell_type": "code",
   "execution_count": 56,
   "id": "a12df862",
   "metadata": {},
   "outputs": [
    {
     "name": "stdout",
     "output_type": "stream",
     "text": [
      "0.8900296416878755\n"
     ]
    }
   ],
   "source": [
    "fpr0, tpr0, _ = roc_curve(ytest_sb_597, y_pred)\n",
    "roc_auc_lgbm_sb = auc(fpr0, tpr0)\n",
    "print(roc_auc_lgbm_sb)"
   ]
  },
  {
   "cell_type": "markdown",
   "id": "faad1b35",
   "metadata": {},
   "source": [
    "### 3 - LinearSVC"
   ]
  },
  {
   "cell_type": "code",
   "execution_count": 57,
   "id": "ab462cba",
   "metadata": {},
   "outputs": [],
   "source": [
    "from sklearn.svm import LinearSVC\n",
    "from sklearn.svm import SVC\n",
    "from sklearn.calibration import CalibratedClassifierCV"
   ]
  },
  {
   "cell_type": "code",
   "execution_count": 58,
   "id": "302475b9",
   "metadata": {},
   "outputs": [],
   "source": [
    "# Set the parameters by cross-validation\n",
    "tuned_parameters = {\n",
    "    'tol':(1.0, 1e-1, 1e-2, 1e-3, 1e-4, 1e-5, 1e-6),\n",
    "    'C': (0.001, 0.05, 0.01, 0.1, 1.0, 10.0, 50, 100.0)\n",
    "}\n",
    "# Set the parameters by cross-validation\n",
    "k_fold = StratifiedKFold(n_splits=4)\n",
    "\n",
    "scores = ['roc_auc']\n",
    "\n",
    "def gridsearch_linearsvc(X_train, y_train, X_test, y_test, k_fold, tuned_parameters, scores):\n",
    "    optimals = {}\n",
    "    for score in scores:\n",
    "        print(\"# Tuning hyper-parameters for ----> %s\" % score)\n",
    "        print()\n",
    "\n",
    "        svm = LinearSVC()\n",
    "\n",
    "        clf = GridSearchCV(svm, tuned_parameters, error_score='raise', cv=k_fold, scoring=score)\n",
    "\n",
    "        clf.fit(X_train, y_train)\n",
    "\n",
    "        print(\"Best parameters set found on development set:\")\n",
    "        print()\n",
    "        print(clf.best_params_)\n",
    "        print()\n",
    "        print(\"Grid scores on development set:\")\n",
    "        print()\n",
    "        means = clf.cv_results_['mean_test_score']\n",
    "        stds = clf.cv_results_['std_test_score']\n",
    "        for mean, std, params in zip(means, stds, clf.cv_results_['params']):\n",
    "            print(\"%0.3f (+/-%0.03f) for %r\"\n",
    "                  % (mean, std * 2, params))\n",
    "        print()\n",
    "\n",
    "        print(\"Detailed classification report:\")\n",
    "        print()\n",
    "        print(\"The model is trained on the full development set.\")\n",
    "        print(\"The scores are computed on the full evaluation set.\")\n",
    "        print()\n",
    "        y_true, y_pred = y_test, clf.predict(X_test)\n",
    "        print(classification_report(y_true, y_pred))\n",
    "        print()\n",
    "        print(\"**** Matrice di Confusione *****\")\n",
    "        tn, fp, fn, tp = confusion_matrix(y_true, y_pred).ravel()\n",
    "        print(' True negative: %d False negative: %d' % (tn, fn))\n",
    "        print(' True positive: %d False positive: %d' % (tp, fp))\n",
    "        print(\"____________________________________________\")\n",
    "        optimals[score] = clf.best_params_\n",
    "    return optimals"
   ]
  },
  {
   "cell_type": "code",
   "execution_count": 59,
   "id": "818c111d",
   "metadata": {},
   "outputs": [
    {
     "name": "stdout",
     "output_type": "stream",
     "text": [
      "# Tuning hyper-parameters for ----> roc_auc\n",
      "\n"
     ]
    },
    {
     "name": "stderr",
     "output_type": "stream",
     "text": [
      "C:\\Users\\marco\\anaconda3\\lib\\site-packages\\sklearn\\svm\\_base.py:1206: ConvergenceWarning: Liblinear failed to converge, increase the number of iterations.\n",
      "  warnings.warn(\n",
      "C:\\Users\\marco\\anaconda3\\lib\\site-packages\\sklearn\\svm\\_base.py:1206: ConvergenceWarning: Liblinear failed to converge, increase the number of iterations.\n",
      "  warnings.warn(\n",
      "C:\\Users\\marco\\anaconda3\\lib\\site-packages\\sklearn\\svm\\_base.py:1206: ConvergenceWarning: Liblinear failed to converge, increase the number of iterations.\n",
      "  warnings.warn(\n",
      "C:\\Users\\marco\\anaconda3\\lib\\site-packages\\sklearn\\svm\\_base.py:1206: ConvergenceWarning: Liblinear failed to converge, increase the number of iterations.\n",
      "  warnings.warn(\n",
      "C:\\Users\\marco\\anaconda3\\lib\\site-packages\\sklearn\\svm\\_base.py:1206: ConvergenceWarning: Liblinear failed to converge, increase the number of iterations.\n",
      "  warnings.warn(\n",
      "C:\\Users\\marco\\anaconda3\\lib\\site-packages\\sklearn\\svm\\_base.py:1206: ConvergenceWarning: Liblinear failed to converge, increase the number of iterations.\n",
      "  warnings.warn(\n",
      "C:\\Users\\marco\\anaconda3\\lib\\site-packages\\sklearn\\svm\\_base.py:1206: ConvergenceWarning: Liblinear failed to converge, increase the number of iterations.\n",
      "  warnings.warn(\n",
      "C:\\Users\\marco\\anaconda3\\lib\\site-packages\\sklearn\\svm\\_base.py:1206: ConvergenceWarning: Liblinear failed to converge, increase the number of iterations.\n",
      "  warnings.warn(\n",
      "C:\\Users\\marco\\anaconda3\\lib\\site-packages\\sklearn\\svm\\_base.py:1206: ConvergenceWarning: Liblinear failed to converge, increase the number of iterations.\n",
      "  warnings.warn(\n",
      "C:\\Users\\marco\\anaconda3\\lib\\site-packages\\sklearn\\svm\\_base.py:1206: ConvergenceWarning: Liblinear failed to converge, increase the number of iterations.\n",
      "  warnings.warn(\n",
      "C:\\Users\\marco\\anaconda3\\lib\\site-packages\\sklearn\\svm\\_base.py:1206: ConvergenceWarning: Liblinear failed to converge, increase the number of iterations.\n",
      "  warnings.warn(\n",
      "C:\\Users\\marco\\anaconda3\\lib\\site-packages\\sklearn\\svm\\_base.py:1206: ConvergenceWarning: Liblinear failed to converge, increase the number of iterations.\n",
      "  warnings.warn(\n",
      "C:\\Users\\marco\\anaconda3\\lib\\site-packages\\sklearn\\svm\\_base.py:1206: ConvergenceWarning: Liblinear failed to converge, increase the number of iterations.\n",
      "  warnings.warn(\n",
      "C:\\Users\\marco\\anaconda3\\lib\\site-packages\\sklearn\\svm\\_base.py:1206: ConvergenceWarning: Liblinear failed to converge, increase the number of iterations.\n",
      "  warnings.warn(\n",
      "C:\\Users\\marco\\anaconda3\\lib\\site-packages\\sklearn\\svm\\_base.py:1206: ConvergenceWarning: Liblinear failed to converge, increase the number of iterations.\n",
      "  warnings.warn(\n",
      "C:\\Users\\marco\\anaconda3\\lib\\site-packages\\sklearn\\svm\\_base.py:1206: ConvergenceWarning: Liblinear failed to converge, increase the number of iterations.\n",
      "  warnings.warn(\n",
      "C:\\Users\\marco\\anaconda3\\lib\\site-packages\\sklearn\\svm\\_base.py:1206: ConvergenceWarning: Liblinear failed to converge, increase the number of iterations.\n",
      "  warnings.warn(\n",
      "C:\\Users\\marco\\anaconda3\\lib\\site-packages\\sklearn\\svm\\_base.py:1206: ConvergenceWarning: Liblinear failed to converge, increase the number of iterations.\n",
      "  warnings.warn(\n",
      "C:\\Users\\marco\\anaconda3\\lib\\site-packages\\sklearn\\svm\\_base.py:1206: ConvergenceWarning: Liblinear failed to converge, increase the number of iterations.\n",
      "  warnings.warn(\n",
      "C:\\Users\\marco\\anaconda3\\lib\\site-packages\\sklearn\\svm\\_base.py:1206: ConvergenceWarning: Liblinear failed to converge, increase the number of iterations.\n",
      "  warnings.warn(\n",
      "C:\\Users\\marco\\anaconda3\\lib\\site-packages\\sklearn\\svm\\_base.py:1206: ConvergenceWarning: Liblinear failed to converge, increase the number of iterations.\n",
      "  warnings.warn(\n",
      "C:\\Users\\marco\\anaconda3\\lib\\site-packages\\sklearn\\svm\\_base.py:1206: ConvergenceWarning: Liblinear failed to converge, increase the number of iterations.\n",
      "  warnings.warn(\n",
      "C:\\Users\\marco\\anaconda3\\lib\\site-packages\\sklearn\\svm\\_base.py:1206: ConvergenceWarning: Liblinear failed to converge, increase the number of iterations.\n",
      "  warnings.warn(\n",
      "C:\\Users\\marco\\anaconda3\\lib\\site-packages\\sklearn\\svm\\_base.py:1206: ConvergenceWarning: Liblinear failed to converge, increase the number of iterations.\n",
      "  warnings.warn(\n",
      "C:\\Users\\marco\\anaconda3\\lib\\site-packages\\sklearn\\svm\\_base.py:1206: ConvergenceWarning: Liblinear failed to converge, increase the number of iterations.\n",
      "  warnings.warn(\n",
      "C:\\Users\\marco\\anaconda3\\lib\\site-packages\\sklearn\\svm\\_base.py:1206: ConvergenceWarning: Liblinear failed to converge, increase the number of iterations.\n",
      "  warnings.warn(\n",
      "C:\\Users\\marco\\anaconda3\\lib\\site-packages\\sklearn\\svm\\_base.py:1206: ConvergenceWarning: Liblinear failed to converge, increase the number of iterations.\n",
      "  warnings.warn(\n",
      "C:\\Users\\marco\\anaconda3\\lib\\site-packages\\sklearn\\svm\\_base.py:1206: ConvergenceWarning: Liblinear failed to converge, increase the number of iterations.\n",
      "  warnings.warn(\n",
      "C:\\Users\\marco\\anaconda3\\lib\\site-packages\\sklearn\\svm\\_base.py:1206: ConvergenceWarning: Liblinear failed to converge, increase the number of iterations.\n",
      "  warnings.warn(\n",
      "C:\\Users\\marco\\anaconda3\\lib\\site-packages\\sklearn\\svm\\_base.py:1206: ConvergenceWarning: Liblinear failed to converge, increase the number of iterations.\n",
      "  warnings.warn(\n",
      "C:\\Users\\marco\\anaconda3\\lib\\site-packages\\sklearn\\svm\\_base.py:1206: ConvergenceWarning: Liblinear failed to converge, increase the number of iterations.\n",
      "  warnings.warn(\n",
      "C:\\Users\\marco\\anaconda3\\lib\\site-packages\\sklearn\\svm\\_base.py:1206: ConvergenceWarning: Liblinear failed to converge, increase the number of iterations.\n",
      "  warnings.warn(\n",
      "C:\\Users\\marco\\anaconda3\\lib\\site-packages\\sklearn\\svm\\_base.py:1206: ConvergenceWarning: Liblinear failed to converge, increase the number of iterations.\n",
      "  warnings.warn(\n",
      "C:\\Users\\marco\\anaconda3\\lib\\site-packages\\sklearn\\svm\\_base.py:1206: ConvergenceWarning: Liblinear failed to converge, increase the number of iterations.\n",
      "  warnings.warn(\n",
      "C:\\Users\\marco\\anaconda3\\lib\\site-packages\\sklearn\\svm\\_base.py:1206: ConvergenceWarning: Liblinear failed to converge, increase the number of iterations.\n",
      "  warnings.warn(\n"
     ]
    },
    {
     "name": "stdout",
     "output_type": "stream",
     "text": [
      "Best parameters set found on development set:\n",
      "\n",
      "{'C': 100.0, 'tol': 1e-06}\n",
      "\n",
      "Grid scores on development set:\n",
      "\n",
      "0.810 (+/-0.011) for {'C': 0.001, 'tol': 1.0}\n",
      "0.810 (+/-0.011) for {'C': 0.001, 'tol': 0.1}\n",
      "0.810 (+/-0.011) for {'C': 0.001, 'tol': 0.01}\n",
      "0.810 (+/-0.011) for {'C': 0.001, 'tol': 0.001}\n",
      "0.810 (+/-0.011) for {'C': 0.001, 'tol': 0.0001}\n",
      "0.810 (+/-0.011) for {'C': 0.001, 'tol': 1e-05}\n",
      "0.810 (+/-0.011) for {'C': 0.001, 'tol': 1e-06}\n",
      "0.813 (+/-0.012) for {'C': 0.05, 'tol': 1.0}\n",
      "0.813 (+/-0.012) for {'C': 0.05, 'tol': 0.1}\n",
      "0.813 (+/-0.012) for {'C': 0.05, 'tol': 0.01}\n",
      "0.813 (+/-0.012) for {'C': 0.05, 'tol': 0.001}\n",
      "0.813 (+/-0.012) for {'C': 0.05, 'tol': 0.0001}\n",
      "0.813 (+/-0.012) for {'C': 0.05, 'tol': 1e-05}\n",
      "0.813 (+/-0.012) for {'C': 0.05, 'tol': 1e-06}\n",
      "0.811 (+/-0.012) for {'C': 0.01, 'tol': 1.0}\n",
      "0.811 (+/-0.012) for {'C': 0.01, 'tol': 0.1}\n",
      "0.811 (+/-0.012) for {'C': 0.01, 'tol': 0.01}\n",
      "0.811 (+/-0.012) for {'C': 0.01, 'tol': 0.001}\n",
      "0.811 (+/-0.012) for {'C': 0.01, 'tol': 0.0001}\n",
      "0.811 (+/-0.012) for {'C': 0.01, 'tol': 1e-05}\n",
      "0.811 (+/-0.012) for {'C': 0.01, 'tol': 1e-06}\n",
      "0.815 (+/-0.012) for {'C': 0.1, 'tol': 1.0}\n",
      "0.815 (+/-0.012) for {'C': 0.1, 'tol': 0.1}\n",
      "0.815 (+/-0.012) for {'C': 0.1, 'tol': 0.01}\n",
      "0.815 (+/-0.012) for {'C': 0.1, 'tol': 0.001}\n",
      "0.815 (+/-0.012) for {'C': 0.1, 'tol': 0.0001}\n",
      "0.815 (+/-0.012) for {'C': 0.1, 'tol': 1e-05}\n",
      "0.815 (+/-0.012) for {'C': 0.1, 'tol': 1e-06}\n",
      "0.837 (+/-0.017) for {'C': 1.0, 'tol': 1.0}\n",
      "0.838 (+/-0.016) for {'C': 1.0, 'tol': 0.1}\n",
      "0.838 (+/-0.016) for {'C': 1.0, 'tol': 0.01}\n",
      "0.838 (+/-0.016) for {'C': 1.0, 'tol': 0.001}\n",
      "0.838 (+/-0.016) for {'C': 1.0, 'tol': 0.0001}\n",
      "0.838 (+/-0.016) for {'C': 1.0, 'tol': 1e-05}\n",
      "0.838 (+/-0.016) for {'C': 1.0, 'tol': 1e-06}\n",
      "0.871 (+/-0.022) for {'C': 10.0, 'tol': 1.0}\n",
      "0.872 (+/-0.021) for {'C': 10.0, 'tol': 0.1}\n",
      "0.872 (+/-0.021) for {'C': 10.0, 'tol': 0.01}\n",
      "0.872 (+/-0.021) for {'C': 10.0, 'tol': 0.001}\n",
      "0.872 (+/-0.021) for {'C': 10.0, 'tol': 0.0001}\n",
      "0.872 (+/-0.021) for {'C': 10.0, 'tol': 1e-05}\n",
      "0.872 (+/-0.021) for {'C': 10.0, 'tol': 1e-06}\n",
      "0.884 (+/-0.019) for {'C': 50, 'tol': 1.0}\n",
      "0.885 (+/-0.019) for {'C': 50, 'tol': 0.1}\n",
      "0.885 (+/-0.019) for {'C': 50, 'tol': 0.01}\n",
      "0.885 (+/-0.019) for {'C': 50, 'tol': 0.001}\n",
      "0.885 (+/-0.019) for {'C': 50, 'tol': 0.0001}\n",
      "0.885 (+/-0.019) for {'C': 50, 'tol': 1e-05}\n",
      "0.885 (+/-0.019) for {'C': 50, 'tol': 1e-06}\n",
      "0.887 (+/-0.018) for {'C': 100.0, 'tol': 1.0}\n",
      "0.887 (+/-0.017) for {'C': 100.0, 'tol': 0.1}\n",
      "0.887 (+/-0.017) for {'C': 100.0, 'tol': 0.01}\n",
      "0.887 (+/-0.017) for {'C': 100.0, 'tol': 0.001}\n",
      "0.887 (+/-0.017) for {'C': 100.0, 'tol': 0.0001}\n",
      "0.887 (+/-0.017) for {'C': 100.0, 'tol': 1e-05}\n",
      "0.887 (+/-0.017) for {'C': 100.0, 'tol': 1e-06}\n",
      "\n",
      "Detailed classification report:\n",
      "\n",
      "The model is trained on the full development set.\n",
      "The scores are computed on the full evaluation set.\n",
      "\n",
      "              precision    recall  f1-score   support\n",
      "\n",
      "           0       0.88      0.95      0.91      2815\n",
      "           1       0.77      0.53      0.63       812\n",
      "\n",
      "    accuracy                           0.86      3627\n",
      "   macro avg       0.82      0.74      0.77      3627\n",
      "weighted avg       0.85      0.86      0.85      3627\n",
      "\n",
      "\n",
      "**** Matrice di Confusione *****\n",
      " True negative: 2686 False negative: 379\n",
      " True positive: 433 False positive: 129\n",
      "____________________________________________\n"
     ]
    },
    {
     "name": "stderr",
     "output_type": "stream",
     "text": [
      "C:\\Users\\marco\\anaconda3\\lib\\site-packages\\sklearn\\svm\\_base.py:1206: ConvergenceWarning: Liblinear failed to converge, increase the number of iterations.\n",
      "  warnings.warn(\n"
     ]
    }
   ],
   "source": [
    "optimals_597 = gridsearch_linearsvc(xtrain_597, ytrain_597, xtest_597, ytest_597, k_fold, tuned_parameters, scores)"
   ]
  },
  {
   "cell_type": "code",
   "execution_count": 60,
   "id": "fcebdeb3",
   "metadata": {},
   "outputs": [
    {
     "data": {
      "text/plain": [
       "{'roc_auc': {'C': 100.0, 'tol': 1e-06}}"
      ]
     },
     "execution_count": 60,
     "metadata": {},
     "output_type": "execute_result"
    }
   ],
   "source": [
    "optimals_597"
   ]
  },
  {
   "cell_type": "code",
   "execution_count": 61,
   "id": "c9b32395",
   "metadata": {},
   "outputs": [
    {
     "name": "stdout",
     "output_type": "stream",
     "text": [
      "0.8792657211105182\n"
     ]
    },
    {
     "data": {
      "image/png": "[encoded data removed]",
      "text/plain": [
       "<Figure size 432x288 with 1 Axes>"
      ]
     },
     "metadata": {
      "needs_background": "light"
     },
     "output_type": "display_data"
    }
   ],
   "source": [
    "model_597 = LinearSVC(C = 100.0, tol =1.0)\n",
    "model_597.fit(xtrain_597, ytrain_597)\n",
    "\n",
    "\n",
    "y_score_597 = model_597.predict(xtest_597)\n",
    "\n",
    "cclf = CalibratedClassifierCV(base_estimator=model_597, cv=5)\n",
    "cclf.fit(xtrain_597, ytrain_597)\n",
    "y_pred = cclf.predict(xtest_597)\n",
    "y_score_597 = cclf.predict_proba(xtest_597)\n",
    "fpr0, tpr0, _ = roc_curve(ytest_597, y_score_597[:, 1])\n",
    "roc_auc0 = auc(fpr0, tpr0)\n",
    "print(roc_auc0)\n",
    "\n",
    "plt.plot(fpr0, tpr0, color='darkorange', lw=3, label='$AUC_0$ = %.3f' % (roc_auc0))\n",
    "\n",
    "plt.plot([0, 1], [0, 1], color='navy', lw=2, linestyle='--')\n",
    "plt.xlim([0.0, 1.0])\n",
    "plt.ylim([0.0, 1.05])\n",
    "plt.xlabel('False Positive Rate', fontsize=16)\n",
    "plt.ylabel('True Positive Rate', fontsize=16)\n",
    "plt.title('ROC curve', fontsize=16)\n",
    "plt.legend(loc=\"lower right\", fontsize=14, frameon=False)\n",
    "plt.tick_params(axis='both', which='major', labelsize=16)\n",
    "plt.show()"
   ]
  },
  {
   "cell_type": "markdown",
   "id": "7791beb8",
   "metadata": {},
   "source": [
    "### 3 - LinearSVC_Bilanciato"
   ]
  },
  {
   "cell_type": "code",
   "execution_count": 62,
   "id": "5ac9e4f3",
   "metadata": {},
   "outputs": [
    {
     "name": "stdout",
     "output_type": "stream",
     "text": [
      "# Tuning hyper-parameters for ----> roc_auc\n",
      "\n"
     ]
    },
    {
     "name": "stderr",
     "output_type": "stream",
     "text": [
      "C:\\Users\\marco\\anaconda3\\lib\\site-packages\\sklearn\\svm\\_base.py:1206: ConvergenceWarning: Liblinear failed to converge, increase the number of iterations.\n",
      "  warnings.warn(\n",
      "C:\\Users\\marco\\anaconda3\\lib\\site-packages\\sklearn\\svm\\_base.py:1206: ConvergenceWarning: Liblinear failed to converge, increase the number of iterations.\n",
      "  warnings.warn(\n",
      "C:\\Users\\marco\\anaconda3\\lib\\site-packages\\sklearn\\svm\\_base.py:1206: ConvergenceWarning: Liblinear failed to converge, increase the number of iterations.\n",
      "  warnings.warn(\n",
      "C:\\Users\\marco\\anaconda3\\lib\\site-packages\\sklearn\\svm\\_base.py:1206: ConvergenceWarning: Liblinear failed to converge, increase the number of iterations.\n",
      "  warnings.warn(\n",
      "C:\\Users\\marco\\anaconda3\\lib\\site-packages\\sklearn\\svm\\_base.py:1206: ConvergenceWarning: Liblinear failed to converge, increase the number of iterations.\n",
      "  warnings.warn(\n",
      "C:\\Users\\marco\\anaconda3\\lib\\site-packages\\sklearn\\svm\\_base.py:1206: ConvergenceWarning: Liblinear failed to converge, increase the number of iterations.\n",
      "  warnings.warn(\n",
      "C:\\Users\\marco\\anaconda3\\lib\\site-packages\\sklearn\\svm\\_base.py:1206: ConvergenceWarning: Liblinear failed to converge, increase the number of iterations.\n",
      "  warnings.warn(\n",
      "C:\\Users\\marco\\anaconda3\\lib\\site-packages\\sklearn\\svm\\_base.py:1206: ConvergenceWarning: Liblinear failed to converge, increase the number of iterations.\n",
      "  warnings.warn(\n",
      "C:\\Users\\marco\\anaconda3\\lib\\site-packages\\sklearn\\svm\\_base.py:1206: ConvergenceWarning: Liblinear failed to converge, increase the number of iterations.\n",
      "  warnings.warn(\n",
      "C:\\Users\\marco\\anaconda3\\lib\\site-packages\\sklearn\\svm\\_base.py:1206: ConvergenceWarning: Liblinear failed to converge, increase the number of iterations.\n",
      "  warnings.warn(\n",
      "C:\\Users\\marco\\anaconda3\\lib\\site-packages\\sklearn\\svm\\_base.py:1206: ConvergenceWarning: Liblinear failed to converge, increase the number of iterations.\n",
      "  warnings.warn(\n",
      "C:\\Users\\marco\\anaconda3\\lib\\site-packages\\sklearn\\svm\\_base.py:1206: ConvergenceWarning: Liblinear failed to converge, increase the number of iterations.\n",
      "  warnings.warn(\n",
      "C:\\Users\\marco\\anaconda3\\lib\\site-packages\\sklearn\\svm\\_base.py:1206: ConvergenceWarning: Liblinear failed to converge, increase the number of iterations.\n",
      "  warnings.warn(\n",
      "C:\\Users\\marco\\anaconda3\\lib\\site-packages\\sklearn\\svm\\_base.py:1206: ConvergenceWarning: Liblinear failed to converge, increase the number of iterations.\n",
      "  warnings.warn(\n",
      "C:\\Users\\marco\\anaconda3\\lib\\site-packages\\sklearn\\svm\\_base.py:1206: ConvergenceWarning: Liblinear failed to converge, increase the number of iterations.\n",
      "  warnings.warn(\n",
      "C:\\Users\\marco\\anaconda3\\lib\\site-packages\\sklearn\\svm\\_base.py:1206: ConvergenceWarning: Liblinear failed to converge, increase the number of iterations.\n",
      "  warnings.warn(\n",
      "C:\\Users\\marco\\anaconda3\\lib\\site-packages\\sklearn\\svm\\_base.py:1206: ConvergenceWarning: Liblinear failed to converge, increase the number of iterations.\n",
      "  warnings.warn(\n",
      "C:\\Users\\marco\\anaconda3\\lib\\site-packages\\sklearn\\svm\\_base.py:1206: ConvergenceWarning: Liblinear failed to converge, increase the number of iterations.\n",
      "  warnings.warn(\n",
      "C:\\Users\\marco\\anaconda3\\lib\\site-packages\\sklearn\\svm\\_base.py:1206: ConvergenceWarning: Liblinear failed to converge, increase the number of iterations.\n",
      "  warnings.warn(\n",
      "C:\\Users\\marco\\anaconda3\\lib\\site-packages\\sklearn\\svm\\_base.py:1206: ConvergenceWarning: Liblinear failed to converge, increase the number of iterations.\n",
      "  warnings.warn(\n",
      "C:\\Users\\marco\\anaconda3\\lib\\site-packages\\sklearn\\svm\\_base.py:1206: ConvergenceWarning: Liblinear failed to converge, increase the number of iterations.\n",
      "  warnings.warn(\n",
      "C:\\Users\\marco\\anaconda3\\lib\\site-packages\\sklearn\\svm\\_base.py:1206: ConvergenceWarning: Liblinear failed to converge, increase the number of iterations.\n",
      "  warnings.warn(\n",
      "C:\\Users\\marco\\anaconda3\\lib\\site-packages\\sklearn\\svm\\_base.py:1206: ConvergenceWarning: Liblinear failed to converge, increase the number of iterations.\n",
      "  warnings.warn(\n",
      "C:\\Users\\marco\\anaconda3\\lib\\site-packages\\sklearn\\svm\\_base.py:1206: ConvergenceWarning: Liblinear failed to converge, increase the number of iterations.\n",
      "  warnings.warn(\n",
      "C:\\Users\\marco\\anaconda3\\lib\\site-packages\\sklearn\\svm\\_base.py:1206: ConvergenceWarning: Liblinear failed to converge, increase the number of iterations.\n",
      "  warnings.warn(\n",
      "C:\\Users\\marco\\anaconda3\\lib\\site-packages\\sklearn\\svm\\_base.py:1206: ConvergenceWarning: Liblinear failed to converge, increase the number of iterations.\n",
      "  warnings.warn(\n",
      "C:\\Users\\marco\\anaconda3\\lib\\site-packages\\sklearn\\svm\\_base.py:1206: ConvergenceWarning: Liblinear failed to converge, increase the number of iterations.\n",
      "  warnings.warn(\n",
      "C:\\Users\\marco\\anaconda3\\lib\\site-packages\\sklearn\\svm\\_base.py:1206: ConvergenceWarning: Liblinear failed to converge, increase the number of iterations.\n",
      "  warnings.warn(\n",
      "C:\\Users\\marco\\anaconda3\\lib\\site-packages\\sklearn\\svm\\_base.py:1206: ConvergenceWarning: Liblinear failed to converge, increase the number of iterations.\n",
      "  warnings.warn(\n",
      "C:\\Users\\marco\\anaconda3\\lib\\site-packages\\sklearn\\svm\\_base.py:1206: ConvergenceWarning: Liblinear failed to converge, increase the number of iterations.\n",
      "  warnings.warn(\n",
      "C:\\Users\\marco\\anaconda3\\lib\\site-packages\\sklearn\\svm\\_base.py:1206: ConvergenceWarning: Liblinear failed to converge, increase the number of iterations.\n",
      "  warnings.warn(\n",
      "C:\\Users\\marco\\anaconda3\\lib\\site-packages\\sklearn\\svm\\_base.py:1206: ConvergenceWarning: Liblinear failed to converge, increase the number of iterations.\n",
      "  warnings.warn(\n",
      "C:\\Users\\marco\\anaconda3\\lib\\site-packages\\sklearn\\svm\\_base.py:1206: ConvergenceWarning: Liblinear failed to converge, increase the number of iterations.\n",
      "  warnings.warn(\n",
      "C:\\Users\\marco\\anaconda3\\lib\\site-packages\\sklearn\\svm\\_base.py:1206: ConvergenceWarning: Liblinear failed to converge, increase the number of iterations.\n",
      "  warnings.warn(\n",
      "C:\\Users\\marco\\anaconda3\\lib\\site-packages\\sklearn\\svm\\_base.py:1206: ConvergenceWarning: Liblinear failed to converge, increase the number of iterations.\n",
      "  warnings.warn(\n"
     ]
    },
    {
     "name": "stdout",
     "output_type": "stream",
     "text": [
      "Best parameters set found on development set:\n",
      "\n",
      "{'C': 100.0, 'tol': 0.001}\n",
      "\n",
      "Grid scores on development set:\n",
      "\n",
      "0.808 (+/-0.037) for {'C': 0.001, 'tol': 1.0}\n",
      "0.808 (+/-0.037) for {'C': 0.001, 'tol': 0.1}\n",
      "0.808 (+/-0.037) for {'C': 0.001, 'tol': 0.01}\n",
      "0.808 (+/-0.037) for {'C': 0.001, 'tol': 0.001}\n",
      "0.808 (+/-0.037) for {'C': 0.001, 'tol': 0.0001}\n",
      "0.808 (+/-0.037) for {'C': 0.001, 'tol': 1e-05}\n",
      "0.808 (+/-0.037) for {'C': 0.001, 'tol': 1e-06}\n",
      "0.809 (+/-0.036) for {'C': 0.05, 'tol': 1.0}\n",
      "0.809 (+/-0.037) for {'C': 0.05, 'tol': 0.1}\n",
      "0.809 (+/-0.037) for {'C': 0.05, 'tol': 0.01}\n",
      "0.809 (+/-0.037) for {'C': 0.05, 'tol': 0.001}\n",
      "0.809 (+/-0.037) for {'C': 0.05, 'tol': 0.0001}\n",
      "0.809 (+/-0.037) for {'C': 0.05, 'tol': 1e-05}\n",
      "0.809 (+/-0.037) for {'C': 0.05, 'tol': 1e-06}\n",
      "0.808 (+/-0.037) for {'C': 0.01, 'tol': 1.0}\n",
      "0.808 (+/-0.037) for {'C': 0.01, 'tol': 0.1}\n",
      "0.808 (+/-0.037) for {'C': 0.01, 'tol': 0.01}\n",
      "0.808 (+/-0.037) for {'C': 0.01, 'tol': 0.001}\n",
      "0.808 (+/-0.037) for {'C': 0.01, 'tol': 0.0001}\n",
      "0.808 (+/-0.037) for {'C': 0.01, 'tol': 1e-05}\n",
      "0.808 (+/-0.037) for {'C': 0.01, 'tol': 1e-06}\n",
      "0.810 (+/-0.036) for {'C': 0.1, 'tol': 1.0}\n",
      "0.810 (+/-0.036) for {'C': 0.1, 'tol': 0.1}\n",
      "0.810 (+/-0.036) for {'C': 0.1, 'tol': 0.01}\n",
      "0.810 (+/-0.036) for {'C': 0.1, 'tol': 0.001}\n",
      "0.810 (+/-0.036) for {'C': 0.1, 'tol': 0.0001}\n",
      "0.810 (+/-0.036) for {'C': 0.1, 'tol': 1e-05}\n",
      "0.810 (+/-0.036) for {'C': 0.1, 'tol': 1e-06}\n",
      "0.824 (+/-0.031) for {'C': 1.0, 'tol': 1.0}\n",
      "0.825 (+/-0.030) for {'C': 1.0, 'tol': 0.1}\n",
      "0.825 (+/-0.030) for {'C': 1.0, 'tol': 0.01}\n",
      "0.825 (+/-0.030) for {'C': 1.0, 'tol': 0.001}\n",
      "0.825 (+/-0.030) for {'C': 1.0, 'tol': 0.0001}\n",
      "0.825 (+/-0.030) for {'C': 1.0, 'tol': 1e-05}\n",
      "0.825 (+/-0.030) for {'C': 1.0, 'tol': 1e-06}\n",
      "0.858 (+/-0.018) for {'C': 10.0, 'tol': 1.0}\n",
      "0.860 (+/-0.018) for {'C': 10.0, 'tol': 0.1}\n",
      "0.860 (+/-0.018) for {'C': 10.0, 'tol': 0.01}\n",
      "0.860 (+/-0.018) for {'C': 10.0, 'tol': 0.001}\n",
      "0.860 (+/-0.018) for {'C': 10.0, 'tol': 0.0001}\n",
      "0.860 (+/-0.018) for {'C': 10.0, 'tol': 1e-05}\n",
      "0.860 (+/-0.018) for {'C': 10.0, 'tol': 1e-06}\n",
      "0.875 (+/-0.015) for {'C': 50, 'tol': 1.0}\n",
      "0.876 (+/-0.015) for {'C': 50, 'tol': 0.1}\n",
      "0.876 (+/-0.015) for {'C': 50, 'tol': 0.01}\n",
      "0.876 (+/-0.015) for {'C': 50, 'tol': 0.001}\n",
      "0.876 (+/-0.015) for {'C': 50, 'tol': 0.0001}\n",
      "0.876 (+/-0.015) for {'C': 50, 'tol': 1e-05}\n",
      "0.876 (+/-0.015) for {'C': 50, 'tol': 1e-06}\n",
      "0.879 (+/-0.014) for {'C': 100.0, 'tol': 1.0}\n",
      "0.879 (+/-0.014) for {'C': 100.0, 'tol': 0.1}\n",
      "0.879 (+/-0.014) for {'C': 100.0, 'tol': 0.01}\n",
      "0.879 (+/-0.014) for {'C': 100.0, 'tol': 0.001}\n",
      "0.879 (+/-0.014) for {'C': 100.0, 'tol': 0.0001}\n",
      "0.879 (+/-0.014) for {'C': 100.0, 'tol': 1e-05}\n",
      "0.879 (+/-0.014) for {'C': 100.0, 'tol': 1e-06}\n",
      "\n",
      "Detailed classification report:\n",
      "\n",
      "The model is trained on the full development set.\n",
      "The scores are computed on the full evaluation set.\n",
      "\n",
      "              precision    recall  f1-score   support\n",
      "\n",
      "           0       0.80      0.78      0.79       811\n",
      "           1       0.78      0.81      0.80       812\n",
      "\n",
      "    accuracy                           0.79      1623\n",
      "   macro avg       0.79      0.79      0.79      1623\n",
      "weighted avg       0.79      0.79      0.79      1623\n",
      "\n",
      "\n",
      "**** Matrice di Confusione *****\n",
      " True negative: 631 False negative: 157\n",
      " True positive: 655 False positive: 180\n",
      "____________________________________________\n"
     ]
    },
    {
     "name": "stderr",
     "output_type": "stream",
     "text": [
      "C:\\Users\\marco\\anaconda3\\lib\\site-packages\\sklearn\\svm\\_base.py:1206: ConvergenceWarning: Liblinear failed to converge, increase the number of iterations.\n",
      "  warnings.warn(\n"
     ]
    }
   ],
   "source": [
    "optimals_sb_597 = gridsearch_linearsvc(xtrain_sb_597, ytrain_sb_597, xtest_sb_597, ytest_sb_597, k_fold, tuned_parameters, scores)"
   ]
  },
  {
   "cell_type": "code",
   "execution_count": 63,
   "id": "7cd03af0",
   "metadata": {},
   "outputs": [
    {
     "data": {
      "text/plain": [
       "{'roc_auc': {'C': 100.0, 'tol': 0.001}}"
      ]
     },
     "execution_count": 63,
     "metadata": {},
     "output_type": "execute_result"
    }
   ],
   "source": [
    "optimals_sb_597"
   ]
  },
  {
   "cell_type": "code",
   "execution_count": 64,
   "id": "bc2a3121",
   "metadata": {},
   "outputs": [
    {
     "name": "stdout",
     "output_type": "stream",
     "text": [
      "0.8615678509168878\n"
     ]
    },
    {
     "data": {
      "image/png": "[encoded data removed]",
      "text/plain": [
       "<Figure size 432x288 with 1 Axes>"
      ]
     },
     "metadata": {
      "needs_background": "light"
     },
     "output_type": "display_data"
    }
   ],
   "source": [
    "model_sb_597 = LinearSVC(C = 10.0, tol =0.1)\n",
    "model_sb_597.fit(xtrain_sb_597, ytrain_sb_597)\n",
    "\n",
    "\n",
    "y_score_sb_597 = model_sb_597.predict(xtest_sb_597)\n",
    "\n",
    "cclf = CalibratedClassifierCV(base_estimator=model_sb_597, cv=5)\n",
    "cclf.fit(xtrain_sb_597, ytrain_sb_597)\n",
    "y_pred = cclf.predict(xtest_sb_597)\n",
    "y_score_sb_597 = cclf.predict_proba(xtest_sb_597)\n",
    "fpr0, tpr0, _ = roc_curve(ytest_sb_597, y_score_sb_597[:, 1])\n",
    "roc_auc0 = auc(fpr0, tpr0)\n",
    "print(roc_auc0)\n",
    "\n",
    "plt.plot(fpr0, tpr0, color='darkorange', lw=3, label='$AUC_0$ = %.3f' % (roc_auc0))\n",
    "\n",
    "plt.plot([0, 1], [0, 1], color='navy', lw=2, linestyle='--')\n",
    "plt.xlim([0.0, 1.0])\n",
    "plt.ylim([0.0, 1.05])\n",
    "plt.xlabel('False Positive Rate', fontsize=16)\n",
    "plt.ylabel('True Positive Rate', fontsize=16)\n",
    "plt.title('ROC curve', fontsize=16)\n",
    "plt.legend(loc=\"lower right\", fontsize=14, frameon=False)\n",
    "plt.tick_params(axis='both', which='major', labelsize=16)\n",
    "plt.show()"
   ]
  },
  {
   "cell_type": "markdown",
   "id": "0df1e242",
   "metadata": {},
   "source": [
    "# 4 - NN"
   ]
  },
  {
   "cell_type": "code",
   "execution_count": 65,
   "id": "f568fe5b",
   "metadata": {},
   "outputs": [],
   "source": [
    "def build_model_1( X_train):\n",
    "    optimizer='adagrad'\n",
    "    #optimizer='adam'\n",
    "    n_feature = X_train.shape[1]\n",
    "    model = Sequential()\n",
    "    model.add(Dense(32, input_dim=n_feature, activation='tanh'))\n",
    "    model.add(Dense(32, activation='tanh'))\n",
    "    model.add(Dense(32, activation='tanh'))\n",
    "    model.add(Dense(32, activation='tanh'))\n",
    "    model.add(Dense(32, activation='tanh'))\n",
    "    model.add(Dense(32, activation='tanh'))\n",
    "    model.add(Dense(32, activation='tanh'))\n",
    "    model.add(Dense(32, activation='tanh'))\n",
    "    # Linear\n",
    "    model.add(Dense(1, activation='sigmoid'))\n",
    "    model.compile(loss='binary_crossentropy', optimizer=optimizer, metrics=[\"AUC\"])\n",
    "    return model"
   ]
  },
  {
   "cell_type": "code",
   "execution_count": 66,
   "id": "ec95d766",
   "metadata": {},
   "outputs": [],
   "source": [
    "def build_model_2(X_train):\n",
    "    n_feature = X_train.shape[1]\n",
    "    model = Sequential()\n",
    "    model.add(Dense(128, input_dim=n_feature, activation='relu'))\n",
    "    model.add(Dense(32, activation='relu'))\n",
    "    model.add(Dense(32, activation='relu'))\n",
    "    model.add(Dense(32, activation='relu'))\n",
    "    model.add(Dense(32, activation='relu'))\n",
    "    # Linear\n",
    "    model.add(Dense(1, activation='sigmoid', kernel_regularizer=regularizers.l2(0.01)))\n",
    "    sgd = optimizers.SGD(learning_rate=0.1, momentum=0.9, nesterov=True)\n",
    "    model.compile(loss='binary_crossentropy', optimizer=sgd, metrics=[\"AUC\"])\n",
    "    return model"
   ]
  },
  {
   "cell_type": "code",
   "execution_count": 67,
   "id": "c2620100",
   "metadata": {},
   "outputs": [
    {
     "name": "stdout",
     "output_type": "stream",
     "text": [
      "Epoch 1/30\n",
      "847/847 [==============================] - 2s 2ms/step - loss: 0.5506 - auc: 0.4906 - val_loss: 0.5317 - val_auc: 0.5195\n",
      "Epoch 2/30\n",
      "847/847 [==============================] - 1s 2ms/step - loss: 0.5315 - auc: 0.5068 - val_loss: 0.5315 - val_auc: 0.5207\n",
      "Epoch 3/30\n",
      "847/847 [==============================] - 1s 2ms/step - loss: 0.5314 - auc: 0.5176 - val_loss: 0.5314 - val_auc: 0.5200\n",
      "Epoch 4/30\n",
      "847/847 [==============================] - 1s 2ms/step - loss: 0.5313 - auc: 0.5183 - val_loss: 0.5314 - val_auc: 0.5336\n",
      "Epoch 5/30\n",
      "847/847 [==============================] - 1s 2ms/step - loss: 0.5312 - auc: 0.5231 - val_loss: 0.5313 - val_auc: 0.5322\n",
      "Epoch 6/30\n",
      "847/847 [==============================] - 1s 2ms/step - loss: 0.5312 - auc: 0.5302 - val_loss: 0.5313 - val_auc: 0.5365\n",
      "Epoch 7/30\n",
      "847/847 [==============================] - 1s 2ms/step - loss: 0.5310 - auc: 0.5362 - val_loss: 0.5313 - val_auc: 0.5495\n",
      "Epoch 8/30\n",
      "847/847 [==============================] - 1s 2ms/step - loss: 0.5310 - auc: 0.5276 - val_loss: 0.5312 - val_auc: 0.5490\n",
      "Epoch 9/30\n",
      "847/847 [==============================] - 2s 2ms/step - loss: 0.5309 - auc: 0.5455 - val_loss: 0.5311 - val_auc: 0.5467\n",
      "Epoch 10/30\n",
      "847/847 [==============================] - 1s 1ms/step - loss: 0.5309 - auc: 0.5421 - val_loss: 0.5311 - val_auc: 0.5600\n",
      "Epoch 11/30\n",
      "847/847 [==============================] - 1s 1ms/step - loss: 0.5308 - auc: 0.5511 - val_loss: 0.5310 - val_auc: 0.5567\n",
      "Epoch 12/30\n",
      "847/847 [==============================] - 1s 1ms/step - loss: 0.5308 - auc: 0.5629 - val_loss: 0.5310 - val_auc: 0.5595\n",
      "Epoch 13/30\n",
      "847/847 [==============================] - 1s 1ms/step - loss: 0.5307 - auc: 0.5575 - val_loss: 0.5309 - val_auc: 0.5652\n",
      "Epoch 14/30\n",
      "847/847 [==============================] - 1s 2ms/step - loss: 0.5307 - auc: 0.5675 - val_loss: 0.5309 - val_auc: 0.5710\n",
      "Epoch 15/30\n",
      "847/847 [==============================] - 1s 1ms/step - loss: 0.5306 - auc: 0.5693 - val_loss: 0.5308 - val_auc: 0.5751\n",
      "Epoch 16/30\n",
      "847/847 [==============================] - 1s 1ms/step - loss: 0.5305 - auc: 0.5685 - val_loss: 0.5308 - val_auc: 0.5760\n",
      "Epoch 17/30\n",
      "847/847 [==============================] - 1s 1ms/step - loss: 0.5305 - auc: 0.5778 - val_loss: 0.5307 - val_auc: 0.5895\n",
      "Epoch 18/30\n",
      "847/847 [==============================] - 1s 1ms/step - loss: 0.5303 - auc: 0.5750 - val_loss: 0.5306 - val_auc: 0.5789\n",
      "Epoch 19/30\n",
      "847/847 [==============================] - 1s 1ms/step - loss: 0.5303 - auc: 0.5894 - val_loss: 0.5306 - val_auc: 0.5940\n",
      "Epoch 20/30\n",
      "847/847 [==============================] - 1s 1ms/step - loss: 0.5302 - auc: 0.5954 - val_loss: 0.5305 - val_auc: 0.5938\n",
      "Epoch 21/30\n",
      "847/847 [==============================] - 1s 1ms/step - loss: 0.5301 - auc: 0.5928 - val_loss: 0.5304 - val_auc: 0.5965\n",
      "Epoch 22/30\n",
      "847/847 [==============================] - 1s 1ms/step - loss: 0.5301 - auc: 0.6011 - val_loss: 0.5303 - val_auc: 0.5945\n",
      "Epoch 23/30\n",
      "847/847 [==============================] - 1s 2ms/step - loss: 0.5300 - auc: 0.6022 - val_loss: 0.5303 - val_auc: 0.6103\n",
      "Epoch 24/30\n",
      "847/847 [==============================] - 1s 2ms/step - loss: 0.5299 - auc: 0.6113 - val_loss: 0.5302 - val_auc: 0.6064\n",
      "Epoch 25/30\n",
      "847/847 [==============================] - 1s 2ms/step - loss: 0.5298 - auc: 0.6181 - val_loss: 0.5301 - val_auc: 0.6135\n",
      "Epoch 26/30\n",
      "847/847 [==============================] - 1s 2ms/step - loss: 0.5297 - auc: 0.6215 - val_loss: 0.5300 - val_auc: 0.6192\n",
      "Epoch 27/30\n",
      "847/847 [==============================] - 1s 1ms/step - loss: 0.5296 - auc: 0.6284 - val_loss: 0.5299 - val_auc: 0.6257\n",
      "Epoch 28/30\n",
      "847/847 [==============================] - 1s 1ms/step - loss: 0.5295 - auc: 0.6251 - val_loss: 0.5298 - val_auc: 0.6241\n",
      "Epoch 29/30\n",
      "847/847 [==============================] - 1s 1ms/step - loss: 0.5294 - auc: 0.6356 - val_loss: 0.5297 - val_auc: 0.6314\n",
      "Epoch 30/30\n",
      "847/847 [==============================] - 1s 1ms/step - loss: 0.5292 - auc: 0.6409 - val_loss: 0.5296 - val_auc: 0.6345\n",
      "Epoch 1/30\n",
      "170/170 [==============================] - 1s 3ms/step - loss: 0.5399 - auc: 0.4977 - val_loss: 0.5319 - val_auc: 0.5000\n",
      "Epoch 2/30\n",
      "170/170 [==============================] - 0s 2ms/step - loss: 0.5330 - auc: 0.4971 - val_loss: 0.5321 - val_auc: 0.5000\n",
      "Epoch 3/30\n",
      "170/170 [==============================] - 0s 2ms/step - loss: 0.5321 - auc: 0.4924 - val_loss: 0.5324 - val_auc: 0.5000\n",
      "Epoch 4/30\n",
      "170/170 [==============================] - 0s 2ms/step - loss: 0.5322 - auc: 0.4988 - val_loss: 0.5318 - val_auc: 0.5000\n",
      "Epoch 5/30\n",
      "170/170 [==============================] - 0s 2ms/step - loss: 0.5325 - auc: 0.4998 - val_loss: 0.5323 - val_auc: 0.5000\n",
      "Epoch 6/30\n",
      "170/170 [==============================] - 0s 2ms/step - loss: 0.5323 - auc: 0.4958 - val_loss: 0.5318 - val_auc: 0.5000\n",
      "Epoch 7/30\n",
      "170/170 [==============================] - 0s 2ms/step - loss: 0.5320 - auc: 0.4984 - val_loss: 0.5323 - val_auc: 0.5000\n",
      "Epoch 8/30\n",
      "170/170 [==============================] - 0s 2ms/step - loss: 0.5320 - auc: 0.4995 - val_loss: 0.5318 - val_auc: 0.5000\n",
      "Epoch 9/30\n",
      "170/170 [==============================] - 0s 2ms/step - loss: 0.5327 - auc: 0.4836 - val_loss: 0.5322 - val_auc: 0.5000\n",
      "Epoch 10/30\n",
      "170/170 [==============================] - 0s 2ms/step - loss: 0.5325 - auc: 0.4861 - val_loss: 0.5318 - val_auc: 0.5000\n",
      "Epoch 11/30\n",
      "170/170 [==============================] - 0s 2ms/step - loss: 0.5324 - auc: 0.4973 - val_loss: 0.5318 - val_auc: 0.5000\n",
      "Epoch 12/30\n",
      "170/170 [==============================] - 0s 2ms/step - loss: 0.5321 - auc: 0.4967 - val_loss: 0.5358 - val_auc: 0.5000\n",
      "Epoch 13/30\n",
      "170/170 [==============================] - 0s 2ms/step - loss: 0.5322 - auc: 0.4988 - val_loss: 0.5327 - val_auc: 0.5000\n",
      "Epoch 14/30\n",
      "170/170 [==============================] - 0s 2ms/step - loss: 0.5323 - auc: 0.5016 - val_loss: 0.5339 - val_auc: 0.5000\n",
      "Epoch 15/30\n",
      "170/170 [==============================] - 0s 2ms/step - loss: 0.5324 - auc: 0.5003 - val_loss: 0.5320 - val_auc: 0.5000\n",
      "Epoch 16/30\n",
      "170/170 [==============================] - 0s 2ms/step - loss: 0.5321 - auc: 0.4968 - val_loss: 0.5319 - val_auc: 0.5149\n",
      "Epoch 17/30\n",
      "170/170 [==============================] - 0s 2ms/step - loss: 0.5323 - auc: 0.4965 - val_loss: 0.5329 - val_auc: 0.5000\n",
      "Epoch 18/30\n",
      "170/170 [==============================] - 0s 2ms/step - loss: 0.5328 - auc: 0.4953 - val_loss: 0.5327 - val_auc: 0.6345\n",
      "Epoch 19/30\n",
      "170/170 [==============================] - 0s 2ms/step - loss: 0.5327 - auc: 0.4884 - val_loss: 0.5318 - val_auc: 0.5046\n",
      "Epoch 20/30\n",
      "170/170 [==============================] - 0s 2ms/step - loss: 0.5318 - auc: 0.5123 - val_loss: 0.5319 - val_auc: 0.5000\n",
      "Epoch 21/30\n",
      "170/170 [==============================] - 0s 2ms/step - loss: 0.5324 - auc: 0.4976 - val_loss: 0.5318 - val_auc: 0.5000\n",
      "Epoch 22/30\n",
      "170/170 [==============================] - 0s 2ms/step - loss: 0.5324 - auc: 0.4944 - val_loss: 0.5323 - val_auc: 0.5000\n",
      "Epoch 23/30\n",
      "170/170 [==============================] - 0s 2ms/step - loss: 0.5327 - auc: 0.4908 - val_loss: 0.5331 - val_auc: 0.5000\n",
      "Epoch 24/30\n",
      "170/170 [==============================] - 0s 2ms/step - loss: 0.5321 - auc: 0.5046 - val_loss: 0.5378 - val_auc: 0.5090\n",
      "Epoch 25/30\n",
      "170/170 [==============================] - 0s 2ms/step - loss: 0.5330 - auc: 0.4841 - val_loss: 0.5327 - val_auc: 0.5000\n",
      "Epoch 26/30\n",
      "170/170 [==============================] - 0s 2ms/step - loss: 0.5322 - auc: 0.4958 - val_loss: 0.5325 - val_auc: 0.5000\n",
      "Epoch 27/30\n",
      "170/170 [==============================] - 0s 2ms/step - loss: 0.5322 - auc: 0.5004 - val_loss: 0.5317 - val_auc: 0.5000\n",
      "Epoch 28/30\n",
      "170/170 [==============================] - 0s 2ms/step - loss: 0.5321 - auc: 0.4963 - val_loss: 0.5322 - val_auc: 0.5000\n",
      "Epoch 29/30\n",
      "170/170 [==============================] - 0s 2ms/step - loss: 0.5323 - auc: 0.4939 - val_loss: 0.5316 - val_auc: 0.5235\n",
      "Epoch 30/30\n",
      "170/170 [==============================] - 0s 2ms/step - loss: 0.5323 - auc: 0.4978 - val_loss: 0.5341 - val_auc: 0.5360\n"
     ]
    }
   ],
   "source": [
    "model1_597 = build_model_1(xtrain_597)\n",
    "history1_597 = model1_597.fit(xtrain_597, ytrain_597, validation_data=(xtest_597, ytest_597), epochs=30, batch_size=10).history\n",
    "\n",
    "model2_597 = build_model_2(xtrain_597)\n",
    "history2_597 = model2_597.fit(xtrain_597, ytrain_597, validation_data=(xtest_597, ytest_597), epochs=30, batch_size=50).history"
   ]
  },
  {
   "cell_type": "code",
   "execution_count": 68,
   "id": "70975dbc",
   "metadata": {},
   "outputs": [
    {
     "data": {
      "image/png": "[encoded data removed]",
      "text/plain": [
       "<Figure size 432x288 with 1 Axes>"
      ]
     },
     "metadata": {
      "needs_background": "light"
     },
     "output_type": "display_data"
    }
   ],
   "source": [
    "plt.plot(history1_597['loss'], label='Loss 10 (batch_size)')\n",
    "plt.plot(history2_597['loss'], label='Loss 50 (batch_size)')\n",
    "plt.xlabel('Epochs')\n",
    "plt.ylabel('Cross-Entropy')\n",
    "plt.legend()\n",
    "plt.show()"
   ]
  },
  {
   "cell_type": "code",
   "execution_count": 69,
   "id": "dd7cc970",
   "metadata": {},
   "outputs": [
    {
     "data": {
      "image/png": "[encoded data removed]",
      "text/plain": [
       "<Figure size 432x288 with 1 Axes>"
      ]
     },
     "metadata": {
      "needs_background": "light"
     },
     "output_type": "display_data"
    }
   ],
   "source": [
    "plt.plot(history1_597['loss'], label='Train')\n",
    "plt.plot(history1_597['val_loss'], label='Val')\n",
    "plt.xlabel('Epochs')\n",
    "plt.ylabel('Cross-Entropy')\n",
    "plt.legend()\n",
    "plt.show()"
   ]
  },
  {
   "cell_type": "code",
   "execution_count": 70,
   "id": "f0af4802",
   "metadata": {},
   "outputs": [
    {
     "data": {
      "image/png": "[encoded data removed]",
      "text/plain": [
       "<Figure size 432x288 with 1 Axes>"
      ]
     },
     "metadata": {
      "needs_background": "light"
     },
     "output_type": "display_data"
    }
   ],
   "source": [
    "plt.plot(history2_597['loss'], label='Train')\n",
    "plt.plot(history2_597['val_loss'], label='Val')\n",
    "plt.xlabel('Epochs')\n",
    "plt.ylabel('Cross-Entropy')\n",
    "plt.legend()\n",
    "plt.show()"
   ]
  },
  {
   "cell_type": "code",
   "execution_count": 71,
   "id": "50720034",
   "metadata": {},
   "outputs": [
    {
     "name": "stdout",
     "output_type": "stream",
     "text": [
      "114/114 [==============================] - 0s 929us/step - loss: 0.5296 - auc: 0.6345\n",
      "114/114 [==============================] - 0s 965us/step - loss: 0.5341 - auc: 0.5360\n",
      "Loss 0.529631, AUC 0.634543\n",
      "Loss 0.534090, AUC 0.536046\n"
     ]
    }
   ],
   "source": [
    "test_loss_1_597, test_auc_1_597 = model1_597.evaluate(xtest_597, ytest_597)\n",
    "test_loss_2_597, test_auc_2_597 = model2_597.evaluate(xtest_597, ytest_597)\n",
    "\n",
    "print('Loss %f, AUC %f' % (test_loss_1_597, test_auc_1_597))\n",
    "print('Loss %f, AUC %f' % (test_loss_2_597, test_auc_2_597))"
   ]
  },
  {
   "cell_type": "code",
   "execution_count": 72,
   "id": "3655f927",
   "metadata": {},
   "outputs": [],
   "source": [
    "def create_model(X_train, learning_rate=0.1, momentum = 0.9, nesterov = True,\n",
    "                 activation = 'sigmoid', regularizer = 0.01, units=3, hidden_layers=1):\n",
    "    # create model\n",
    "    model = Sequential()\n",
    "    #initializer = initializers.RandomUniform(minval=0, maxval=0.5, seed=None)\n",
    "    model.add(Dense(units, input_dim=X_train.shape[1], activation = activation, \n",
    "                         kernel_regularizer=regularizers.l2(regularizer)))  \n",
    "    for i in range(1,hidden_layers):\n",
    "          model.add(Dense(units, activation = activation, \n",
    "                         kernel_regularizer=regularizers.l2(regularizer)))  \n",
    "    model.add(Dense(1, activation = 'sigmoid',  kernel_regularizer=regularizers.l2(regularizer)))\n",
    "    sgd = optimizers.SGD(learning_rate=learning_rate, momentum=momentum, nesterov=nesterov)\n",
    "    model.compile(optimizer=sgd, loss='binary_crossentropy', metrics=['AUC'])\n",
    "    return model"
   ]
  },
  {
   "cell_type": "code",
   "execution_count": 73,
   "id": "22fcc2c2",
   "metadata": {},
   "outputs": [],
   "source": [
    "param_list = {'batch_size': [128],\n",
    "              'epochs': [100],\n",
    "             'learning_rate': [0.261],\n",
    "             'momentum':[0.9],\n",
    "             'nesterov':[False],\n",
    "             'activation':['tanh'],\n",
    "              'regularizer':[0.0001],\n",
    "              'units': [10],\n",
    "             'hidden_layers': [1]}"
   ]
  },
  {
   "cell_type": "code",
   "execution_count": 74,
   "id": "cefe3d33",
   "metadata": {},
   "outputs": [],
   "source": [
    "class Model:\n",
    "    def __init__(self, loss = 0, accuracy = 0, batch_size = 0, epochs = 0, learning_rate=0, momentum=0,nesterov=False,\n",
    "                activation='sigmoid', regularizer=0, units=0):\n",
    "        self.accuracy_CV_list = []\n",
    "        self.accuracy = accuracy\n",
    "        self.loss_CV_list = []\n",
    "        self.loss = loss\n",
    "        self.mee_list = []\n",
    "        self.mee = 0\n",
    "        self.std = 0\n",
    "        self.batch_size = batch_size\n",
    "        self.epochs = epochs\n",
    "        self.learning_rate = learning_rate\n",
    "        self.momentum = momentum\n",
    "        self.nesterov = nesterov\n",
    "        self.activation = activation\n",
    "        self.regularizer = regularizer\n",
    "        self.units = units\n",
    "        self.noise = 0\n",
    "    def toString(self):\n",
    "        print(\"\"\"{MEE: %f (+/- %0.2f), Number of Units: %d, Batch Size: %d, Epochs: %d, Learning Rate: %f, Momentum: %f,\n",
    "              \"Nesterov: %s, Activation: %s, Regularization: %f, Noise: %f}\"\"\" % \n",
    "              (self.mee, self.std, self.units, self.batch_size, self.epochs, self.learning_rate, self.momentum,\n",
    "              self.nesterov, self.activation, self.regularizer, self.noise))"
   ]
  },
  {
   "cell_type": "code",
   "execution_count": 75,
   "id": "cab6441e",
   "metadata": {},
   "outputs": [],
   "source": [
    "def GridSearchNN(X_train, Y_train, parameters, cv = 3, rand=False):\n",
    "    models = []\n",
    "    allNames = list(parameters)\n",
    "    combinations = itertools.product(*(parameters[Name] for Name in allNames))\n",
    "    searchList = []\n",
    "    if rand:\n",
    "        searchList = random.sample(list(combinations), k=100)\n",
    "    else:\n",
    "        searchList = list(combinations)\n",
    "    for i in searchList:\n",
    "        print(searchList.index(i), i)\n",
    "        batch_size = i[0]\n",
    "        epochs=i[1]\n",
    "        learning_rate=i[2]\n",
    "        momentum=i[3]\n",
    "        nesterov=i[4]\n",
    "        activation=i[5]\n",
    "        regularizer=i[6]\n",
    "        units = i[7]\n",
    "        temp = Model(batch_size=batch_size, epochs=epochs, learning_rate=learning_rate,\n",
    "                     momentum=momentum, nesterov=nesterov, activation=activation, regularizer=regularizer, units=units)\n",
    "        model = None # Clearing the NN.\n",
    "        model = create_model(X_train, learning_rate=learning_rate, momentum=momentum, nesterov=nesterov, \n",
    "                                 activation=activation, regularizer=regularizer, units=units)\n",
    "        r = model.fit(X_train, Y_train,validation_split = float(1.0/cv),\n",
    "                      batch_size =batch_size, epochs=epochs, verbose=1)\n",
    "        loss = r.history['val_loss'][-1]\n",
    "        #accuracy = r.history['val_acc'][-1]\n",
    "        temp.loss = loss\n",
    "        #temp.accuracy = accuracy\n",
    "        models.append(temp) \n",
    "          \n",
    "    result = sorted(models, key=lambda x: x.loss, reverse=False)\n",
    "    return result, r, model"
   ]
  },
  {
   "cell_type": "code",
   "execution_count": 76,
   "id": "f7910cd7",
   "metadata": {
    "scrolled": true
   },
   "outputs": [
    {
     "name": "stdout",
     "output_type": "stream",
     "text": [
      "0 (128, 100, 0.261, 0.9, False, 'tanh', 0.0001, 10, 1)\n",
      "Epoch 1/100\n",
      "45/45 [==============================] - 1s 6ms/step - loss: 0.5459 - auc: 0.5012 - val_loss: 0.5377 - val_auc: 0.5021\n",
      "Epoch 2/100\n",
      "45/45 [==============================] - 0s 2ms/step - loss: 0.5329 - auc: 0.5042 - val_loss: 0.5387 - val_auc: 0.5659\n",
      "Epoch 3/100\n",
      "45/45 [==============================] - 0s 2ms/step - loss: 0.5331 - auc: 0.4959 - val_loss: 0.5408 - val_auc: 0.6156\n",
      "Epoch 4/100\n",
      "45/45 [==============================] - 0s 2ms/step - loss: 0.5326 - auc: 0.5014 - val_loss: 0.5518 - val_auc: 0.6387\n",
      "Epoch 5/100\n",
      "45/45 [==============================] - 0s 2ms/step - loss: 0.5360 - auc: 0.5083 - val_loss: 0.5388 - val_auc: 0.5047\n",
      "Epoch 6/100\n",
      "45/45 [==============================] - 0s 2ms/step - loss: 0.5323 - auc: 0.5001 - val_loss: 0.5355 - val_auc: 0.5191\n",
      "Epoch 7/100\n",
      "45/45 [==============================] - 0s 2ms/step - loss: 0.5316 - auc: 0.5140 - val_loss: 0.5363 - val_auc: 0.6479\n",
      "Epoch 8/100\n",
      "45/45 [==============================] - 0s 2ms/step - loss: 0.5328 - auc: 0.4968 - val_loss: 0.5353 - val_auc: 0.5825\n",
      "Epoch 9/100\n",
      "45/45 [==============================] - 0s 2ms/step - loss: 0.5311 - auc: 0.5251 - val_loss: 0.5470 - val_auc: 0.6990\n",
      "Epoch 10/100\n",
      "45/45 [==============================] - 0s 2ms/step - loss: 0.5354 - auc: 0.5102 - val_loss: 0.5350 - val_auc: 0.7041\n",
      "Epoch 11/100\n",
      "45/45 [==============================] - 0s 2ms/step - loss: 0.5306 - auc: 0.5256 - val_loss: 0.5365 - val_auc: 0.6781\n",
      "Epoch 12/100\n",
      "45/45 [==============================] - 0s 2ms/step - loss: 0.5335 - auc: 0.4986 - val_loss: 0.5345 - val_auc: 0.6356\n",
      "Epoch 13/100\n",
      "45/45 [==============================] - 0s 2ms/step - loss: 0.5313 - auc: 0.5297 - val_loss: 0.5349 - val_auc: 0.6551\n",
      "Epoch 14/100\n",
      "45/45 [==============================] - 0s 2ms/step - loss: 0.5294 - auc: 0.5605 - val_loss: 0.5355 - val_auc: 0.6984\n",
      "Epoch 15/100\n",
      "45/45 [==============================] - 0s 2ms/step - loss: 0.5329 - auc: 0.5124 - val_loss: 0.5365 - val_auc: 0.6921\n",
      "Epoch 16/100\n",
      "45/45 [==============================] - 0s 2ms/step - loss: 0.5287 - auc: 0.5543 - val_loss: 0.5334 - val_auc: 0.7688\n",
      "Epoch 17/100\n",
      "45/45 [==============================] - 0s 2ms/step - loss: 0.5297 - auc: 0.5467 - val_loss: 0.5355 - val_auc: 0.7743\n",
      "Epoch 18/100\n",
      "45/45 [==============================] - 0s 2ms/step - loss: 0.5283 - auc: 0.5555 - val_loss: 0.5300 - val_auc: 0.7905\n",
      "Epoch 19/100\n",
      "45/45 [==============================] - 0s 2ms/step - loss: 0.5259 - auc: 0.5881 - val_loss: 0.5281 - val_auc: 0.8003\n",
      "Epoch 20/100\n",
      "45/45 [==============================] - 0s 2ms/step - loss: 0.5322 - auc: 0.5546 - val_loss: 0.5293 - val_auc: 0.8065\n",
      "Epoch 21/100\n",
      "45/45 [==============================] - 0s 2ms/step - loss: 0.5237 - auc: 0.6284 - val_loss: 0.5260 - val_auc: 0.8049\n",
      "Epoch 22/100\n",
      "45/45 [==============================] - 0s 2ms/step - loss: 0.5221 - auc: 0.6070 - val_loss: 0.5229 - val_auc: 0.8114\n",
      "Epoch 23/100\n",
      "45/45 [==============================] - 0s 2ms/step - loss: 0.5177 - auc: 0.6634 - val_loss: 0.5188 - val_auc: 0.8136\n",
      "Epoch 24/100\n",
      "45/45 [==============================] - 0s 2ms/step - loss: 0.5241 - auc: 0.5886 - val_loss: 0.5303 - val_auc: 0.8158\n",
      "Epoch 25/100\n",
      "45/45 [==============================] - 0s 2ms/step - loss: 0.5273 - auc: 0.5813 - val_loss: 0.5166 - val_auc: 0.8150\n",
      "Epoch 26/100\n",
      "45/45 [==============================] - 0s 2ms/step - loss: 0.5172 - auc: 0.6225 - val_loss: 0.5244 - val_auc: 0.8161\n",
      "Epoch 27/100\n",
      "45/45 [==============================] - 0s 2ms/step - loss: 0.5299 - auc: 0.5826 - val_loss: 0.5465 - val_auc: 0.8148\n",
      "Epoch 28/100\n",
      "45/45 [==============================] - 0s 2ms/step - loss: 0.5382 - auc: 0.5544 - val_loss: 0.5226 - val_auc: 0.8146\n",
      "Epoch 29/100\n",
      "45/45 [==============================] - 0s 2ms/step - loss: 0.5211 - auc: 0.6150 - val_loss: 0.5218 - val_auc: 0.8169\n",
      "Epoch 30/100\n",
      "45/45 [==============================] - 0s 2ms/step - loss: 0.5227 - auc: 0.6090 - val_loss: 0.5234 - val_auc: 0.8162\n",
      "Epoch 31/100\n",
      "45/45 [==============================] - 0s 2ms/step - loss: 0.5138 - auc: 0.6463 - val_loss: 0.5545 - val_auc: 0.8166\n",
      "Epoch 32/100\n",
      "45/45 [==============================] - 0s 2ms/step - loss: 0.5363 - auc: 0.5836 - val_loss: 0.6122 - val_auc: 0.8172\n",
      "Epoch 33/100\n",
      "45/45 [==============================] - 0s 2ms/step - loss: 0.5330 - auc: 0.5777 - val_loss: 0.5206 - val_auc: 0.8180\n",
      "Epoch 34/100\n",
      "45/45 [==============================] - 0s 2ms/step - loss: 0.5108 - auc: 0.6848 - val_loss: 0.5149 - val_auc: 0.8181\n",
      "Epoch 35/100\n",
      "45/45 [==============================] - 0s 2ms/step - loss: 0.5148 - auc: 0.6382 - val_loss: 0.5064 - val_auc: 0.8194\n",
      "Epoch 36/100\n",
      "45/45 [==============================] - 0s 2ms/step - loss: 0.5093 - auc: 0.6529 - val_loss: 0.5339 - val_auc: 0.8188\n",
      "Epoch 37/100\n",
      "45/45 [==============================] - 0s 2ms/step - loss: 0.5231 - auc: 0.6179 - val_loss: 0.5199 - val_auc: 0.8199\n",
      "Epoch 38/100\n",
      "45/45 [==============================] - 0s 2ms/step - loss: 0.5011 - auc: 0.6901 - val_loss: 0.6211 - val_auc: 0.8186\n",
      "Epoch 39/100\n",
      "45/45 [==============================] - 0s 2ms/step - loss: 0.5029 - auc: 0.6839 - val_loss: 0.6543 - val_auc: 0.8216\n",
      "Epoch 40/100\n",
      "45/45 [==============================] - 0s 2ms/step - loss: 0.5046 - auc: 0.6819 - val_loss: 0.5306 - val_auc: 0.8218\n",
      "Epoch 41/100\n",
      "45/45 [==============================] - 0s 2ms/step - loss: 0.5387 - auc: 0.6269 - val_loss: 0.5454 - val_auc: 0.8221\n",
      "Epoch 42/100\n",
      "45/45 [==============================] - 0s 2ms/step - loss: 0.5065 - auc: 0.6744 - val_loss: 0.4948 - val_auc: 0.8224\n",
      "Epoch 43/100\n",
      "45/45 [==============================] - 0s 2ms/step - loss: 0.4931 - auc: 0.7198 - val_loss: 0.6509 - val_auc: 0.8217\n",
      "Epoch 44/100\n",
      "45/45 [==============================] - 0s 2ms/step - loss: 0.5214 - auc: 0.6468 - val_loss: 0.4904 - val_auc: 0.8233\n",
      "Epoch 45/100\n",
      "45/45 [==============================] - 0s 2ms/step - loss: 0.4978 - auc: 0.6983 - val_loss: 0.4797 - val_auc: 0.8242\n",
      "Epoch 46/100\n",
      "45/45 [==============================] - 0s 2ms/step - loss: 0.4953 - auc: 0.7035 - val_loss: 0.4781 - val_auc: 0.8246\n",
      "Epoch 47/100\n",
      "45/45 [==============================] - 0s 2ms/step - loss: 0.4795 - auc: 0.7498 - val_loss: 0.5654 - val_auc: 0.8259\n",
      "Epoch 48/100\n",
      "45/45 [==============================] - 0s 2ms/step - loss: 0.4862 - auc: 0.7226 - val_loss: 0.5508 - val_auc: 0.8266\n",
      "Epoch 49/100\n",
      "45/45 [==============================] - 0s 2ms/step - loss: 0.4660 - auc: 0.7710 - val_loss: 0.7400 - val_auc: 0.8248\n",
      "Epoch 50/100\n",
      "45/45 [==============================] - 0s 2ms/step - loss: 0.5429 - auc: 0.6551 - val_loss: 0.5901 - val_auc: 0.8283\n",
      "Epoch 51/100\n",
      "45/45 [==============================] - 0s 2ms/step - loss: 0.5051 - auc: 0.6917 - val_loss: 0.5383 - val_auc: 0.8293\n",
      "Epoch 52/100\n",
      "45/45 [==============================] - 0s 2ms/step - loss: 0.4889 - auc: 0.7295 - val_loss: 0.7678 - val_auc: 0.8261\n",
      "Epoch 53/100\n",
      "45/45 [==============================] - 0s 2ms/step - loss: 0.5184 - auc: 0.6725 - val_loss: 0.4872 - val_auc: 0.8299\n",
      "Epoch 54/100\n",
      "45/45 [==============================] - 0s 2ms/step - loss: 0.5172 - auc: 0.6734 - val_loss: 0.5423 - val_auc: 0.8297\n",
      "Epoch 55/100\n",
      "45/45 [==============================] - 0s 2ms/step - loss: 0.4878 - auc: 0.7409 - val_loss: 0.5309 - val_auc: 0.8300\n",
      "Epoch 56/100\n",
      "45/45 [==============================] - 0s 2ms/step - loss: 0.5173 - auc: 0.6746 - val_loss: 0.5807 - val_auc: 0.8315\n",
      "Epoch 57/100\n",
      "45/45 [==============================] - 0s 2ms/step - loss: 0.4808 - auc: 0.7543 - val_loss: 0.4648 - val_auc: 0.8314\n",
      "Epoch 58/100\n",
      "45/45 [==============================] - 0s 2ms/step - loss: 0.4730 - auc: 0.7620 - val_loss: 0.5962 - val_auc: 0.8319\n",
      "Epoch 59/100\n",
      "45/45 [==============================] - 0s 2ms/step - loss: 0.4818 - auc: 0.7430 - val_loss: 0.8076 - val_auc: 0.8270\n",
      "Epoch 60/100\n",
      "45/45 [==============================] - 0s 2ms/step - loss: 0.5240 - auc: 0.6910 - val_loss: 0.4691 - val_auc: 0.8333\n",
      "Epoch 61/100\n",
      "45/45 [==============================] - 0s 2ms/step - loss: 0.4746 - auc: 0.7629 - val_loss: 0.8537 - val_auc: 0.8336\n",
      "Epoch 62/100\n",
      "45/45 [==============================] - 0s 2ms/step - loss: 0.5470 - auc: 0.6687 - val_loss: 0.4775 - val_auc: 0.8338\n"
     ]
    },
    {
     "name": "stdout",
     "output_type": "stream",
     "text": [
      "Epoch 63/100\n",
      "45/45 [==============================] - 0s 2ms/step - loss: 0.4827 - auc: 0.7468 - val_loss: 0.6289 - val_auc: 0.8341\n",
      "Epoch 64/100\n",
      "45/45 [==============================] - 0s 2ms/step - loss: 0.5184 - auc: 0.6860 - val_loss: 0.4758 - val_auc: 0.8351\n",
      "Epoch 65/100\n",
      "45/45 [==============================] - 0s 2ms/step - loss: 0.4800 - auc: 0.7600 - val_loss: 0.4618 - val_auc: 0.8358\n",
      "Epoch 66/100\n",
      "45/45 [==============================] - 0s 2ms/step - loss: 0.4864 - auc: 0.7420 - val_loss: 0.4956 - val_auc: 0.8356\n",
      "Epoch 67/100\n",
      "45/45 [==============================] - 0s 2ms/step - loss: 0.4754 - auc: 0.7612 - val_loss: 0.4589 - val_auc: 0.8365\n",
      "Epoch 68/100\n",
      "45/45 [==============================] - 0s 2ms/step - loss: 0.4592 - auc: 0.7904 - val_loss: 0.4457 - val_auc: 0.8373\n",
      "Epoch 69/100\n",
      "45/45 [==============================] - 0s 2ms/step - loss: 0.4766 - auc: 0.7608 - val_loss: 0.6729 - val_auc: 0.8388\n",
      "Epoch 70/100\n",
      "45/45 [==============================] - 0s 2ms/step - loss: 0.4980 - auc: 0.7318 - val_loss: 0.4508 - val_auc: 0.8386\n",
      "Epoch 71/100\n",
      "45/45 [==============================] - 0s 2ms/step - loss: 0.4686 - auc: 0.7799 - val_loss: 0.8752 - val_auc: 0.8331\n",
      "Epoch 72/100\n",
      "45/45 [==============================] - 0s 2ms/step - loss: 0.6320 - auc: 0.5832 - val_loss: 0.5301 - val_auc: 0.8383\n",
      "Epoch 73/100\n",
      "45/45 [==============================] - 0s 2ms/step - loss: 0.5095 - auc: 0.7525 - val_loss: 0.4854 - val_auc: 0.8387\n",
      "Epoch 74/100\n",
      "45/45 [==============================] - 0s 2ms/step - loss: 0.4684 - auc: 0.8083 - val_loss: 0.4778 - val_auc: 0.8389\n",
      "Epoch 75/100\n",
      "45/45 [==============================] - 0s 2ms/step - loss: 0.4664 - auc: 0.7820 - val_loss: 0.5912 - val_auc: 0.8393\n",
      "Epoch 76/100\n",
      "45/45 [==============================] - 0s 2ms/step - loss: 0.4634 - auc: 0.7842 - val_loss: 0.4957 - val_auc: 0.8399\n",
      "Epoch 77/100\n",
      "45/45 [==============================] - 0s 2ms/step - loss: 0.4789 - auc: 0.7622 - val_loss: 0.4440 - val_auc: 0.8407\n",
      "Epoch 78/100\n",
      "45/45 [==============================] - 0s 2ms/step - loss: 0.4516 - auc: 0.8039 - val_loss: 1.0125 - val_auc: 0.8419\n",
      "Epoch 79/100\n",
      "45/45 [==============================] - 0s 2ms/step - loss: 0.4985 - auc: 0.7441 - val_loss: 0.6505 - val_auc: 0.8428\n",
      "Epoch 80/100\n",
      "45/45 [==============================] - 0s 2ms/step - loss: 0.4825 - auc: 0.7570 - val_loss: 0.6013 - val_auc: 0.8428\n",
      "Epoch 81/100\n",
      "45/45 [==============================] - 0s 2ms/step - loss: 0.4854 - auc: 0.7529 - val_loss: 0.6407 - val_auc: 0.8434\n",
      "Epoch 82/100\n",
      "45/45 [==============================] - 0s 2ms/step - loss: 0.5158 - auc: 0.7143 - val_loss: 0.4615 - val_auc: 0.8436\n",
      "Epoch 83/100\n",
      "45/45 [==============================] - 0s 2ms/step - loss: 0.4583 - auc: 0.8045 - val_loss: 0.4754 - val_auc: 0.8438\n",
      "Epoch 84/100\n",
      "45/45 [==============================] - 0s 2ms/step - loss: 0.4819 - auc: 0.7604 - val_loss: 0.4879 - val_auc: 0.8442\n",
      "Epoch 85/100\n",
      "45/45 [==============================] - 0s 2ms/step - loss: 0.4865 - auc: 0.7544 - val_loss: 0.5356 - val_auc: 0.8440\n",
      "Epoch 86/100\n",
      "45/45 [==============================] - 0s 2ms/step - loss: 0.4463 - auc: 0.8258 - val_loss: 0.5544 - val_auc: 0.8439\n",
      "Epoch 87/100\n",
      "45/45 [==============================] - 0s 2ms/step - loss: 0.4981 - auc: 0.7431 - val_loss: 0.6712 - val_auc: 0.8443\n",
      "Epoch 88/100\n",
      "45/45 [==============================] - 0s 2ms/step - loss: 0.4756 - auc: 0.7717 - val_loss: 0.5131 - val_auc: 0.8459\n",
      "Epoch 89/100\n",
      "45/45 [==============================] - 0s 2ms/step - loss: 0.4538 - auc: 0.8082 - val_loss: 0.8154 - val_auc: 0.8412\n",
      "Epoch 90/100\n",
      "45/45 [==============================] - 0s 2ms/step - loss: 0.5106 - auc: 0.7297 - val_loss: 0.5624 - val_auc: 0.8453\n",
      "Epoch 91/100\n",
      "45/45 [==============================] - 0s 2ms/step - loss: 0.4858 - auc: 0.7620 - val_loss: 0.5410 - val_auc: 0.8459\n",
      "Epoch 92/100\n",
      "45/45 [==============================] - 0s 2ms/step - loss: 0.4837 - auc: 0.7571 - val_loss: 0.4783 - val_auc: 0.8467\n",
      "Epoch 93/100\n",
      "45/45 [==============================] - 0s 2ms/step - loss: 0.4716 - auc: 0.7776 - val_loss: 0.4629 - val_auc: 0.8471\n",
      "Epoch 94/100\n",
      "45/45 [==============================] - 0s 2ms/step - loss: 0.4532 - auc: 0.8054 - val_loss: 0.4407 - val_auc: 0.8478\n",
      "Epoch 95/100\n",
      "45/45 [==============================] - 0s 2ms/step - loss: 0.4531 - auc: 0.8093 - val_loss: 0.4614 - val_auc: 0.8482\n",
      "Epoch 96/100\n",
      "45/45 [==============================] - 0s 2ms/step - loss: 0.4618 - auc: 0.7932 - val_loss: 0.4510 - val_auc: 0.8485\n",
      "Epoch 97/100\n",
      "45/45 [==============================] - 0s 2ms/step - loss: 0.4685 - auc: 0.7890 - val_loss: 1.6758 - val_auc: 0.8488\n",
      "Epoch 98/100\n",
      "45/45 [==============================] - 0s 2ms/step - loss: 0.5276 - auc: 0.7450 - val_loss: 0.4662 - val_auc: 0.8492\n",
      "Epoch 99/100\n",
      "45/45 [==============================] - 0s 2ms/step - loss: 0.4921 - auc: 0.7520 - val_loss: 0.5004 - val_auc: 0.8488\n",
      "Epoch 100/100\n",
      "45/45 [==============================] - 0s 2ms/step - loss: 0.4701 - auc: 0.7834 - val_loss: 0.8152 - val_auc: 0.8492\n"
     ]
    }
   ],
   "source": [
    "allModels_597, r_597, model_597 = GridSearchNN(xtrain_597, ytrain_597, param_list, cv=3, rand=False)"
   ]
  },
  {
   "cell_type": "code",
   "execution_count": 77,
   "id": "84ecc5ff",
   "metadata": {},
   "outputs": [
    {
     "ename": "AttributeError",
     "evalue": "'Sequential' object has no attribute 'predict_classes'",
     "output_type": "error",
     "traceback": [
      "\u001b[1;31m---------------------------------------------------------------------------\u001b[0m",
      "\u001b[1;31mAttributeError\u001b[0m                            Traceback (most recent call last)",
      "\u001b[1;32m<ipython-input-77-c3d12cfdea5c>\u001b[0m in \u001b[0;36m<module>\u001b[1;34m\u001b[0m\n\u001b[1;32m----> 1\u001b[1;33m \u001b[0mpred_597\u001b[0m \u001b[1;33m=\u001b[0m \u001b[0mmodel_597\u001b[0m\u001b[1;33m.\u001b[0m\u001b[0mpredict_classes\u001b[0m\u001b[1;33m(\u001b[0m\u001b[0mxtest_597\u001b[0m\u001b[1;33m)\u001b[0m\u001b[1;33m\u001b[0m\u001b[1;33m\u001b[0m\u001b[0m\n\u001b[0m",
      "\u001b[1;31mAttributeError\u001b[0m: 'Sequential' object has no attribute 'predict_classes'"
     ]
    }
   ],
   "source": [
    "pred_597 = model_597.predict_classes(xtest_597)"
   ]
  },
  {
   "cell_type": "code",
   "execution_count": 78,
   "id": "13c2b7ed",
   "metadata": {},
   "outputs": [],
   "source": [
    "y_pred_keras_597 = model_597.predict(xtest_597).ravel()\n",
    "fpr_keras, tpr_keras, thresholds_keras = roc_curve(ytest_597, y_pred_keras_597)\n",
    "auc_keras_597 = auc(fpr_keras, tpr_keras)"
   ]
  },
  {
   "cell_type": "code",
   "execution_count": 79,
   "id": "d2f40549",
   "metadata": {},
   "outputs": [
    {
     "data": {
      "image/png": "[encoded data removed]",
      "text/plain": [
       "<Figure size 432x288 with 1 Axes>"
      ]
     },
     "metadata": {
      "needs_background": "light"
     },
     "output_type": "display_data"
    }
   ],
   "source": [
    "plt.figure(1)\n",
    "plt.plot([0, 1], [0, 1], 'k--')\n",
    "plt.plot(fpr_keras, tpr_keras, label='Keras 597 (area = {:.3f})'.format(auc_keras_597))\n",
    "\n",
    "plt.xlabel('False positive rate')\n",
    "plt.ylabel('True positive rate')\n",
    "plt.title('ROC curve')\n",
    "plt.legend(loc='best')\n",
    "plt.show()"
   ]
  },
  {
   "cell_type": "markdown",
   "id": "43603030",
   "metadata": {},
   "source": [
    "# 4 - NN_Bilanciato"
   ]
  },
  {
   "cell_type": "code",
   "execution_count": 80,
   "id": "b490fbce",
   "metadata": {},
   "outputs": [
    {
     "name": "stdout",
     "output_type": "stream",
     "text": [
      "Epoch 1/30\n",
      "379/379 [==============================] - 1s 2ms/step - loss: 0.6933 - auc: 0.4954 - val_loss: 0.6930 - val_auc: 0.5030\n",
      "Epoch 2/30\n",
      "379/379 [==============================] - 1s 2ms/step - loss: 0.6930 - auc: 0.5106 - val_loss: 0.6929 - val_auc: 0.5194\n",
      "Epoch 3/30\n",
      "379/379 [==============================] - 1s 2ms/step - loss: 0.6927 - auc: 0.5264 - val_loss: 0.6927 - val_auc: 0.5343\n",
      "Epoch 4/30\n",
      "379/379 [==============================] - 1s 2ms/step - loss: 0.6925 - auc: 0.5303 - val_loss: 0.6925 - val_auc: 0.5454\n",
      "Epoch 5/30\n",
      "379/379 [==============================] - 1s 2ms/step - loss: 0.6924 - auc: 0.5523 - val_loss: 0.6924 - val_auc: 0.5551\n",
      "Epoch 6/30\n",
      "379/379 [==============================] - 1s 2ms/step - loss: 0.6922 - auc: 0.5562 - val_loss: 0.6922 - val_auc: 0.5618\n",
      "Epoch 7/30\n",
      "379/379 [==============================] - 1s 2ms/step - loss: 0.6920 - auc: 0.5649 - val_loss: 0.6920 - val_auc: 0.5659\n",
      "Epoch 8/30\n",
      "379/379 [==============================] - 1s 2ms/step - loss: 0.6918 - auc: 0.5774 - val_loss: 0.6918 - val_auc: 0.5771\n",
      "Epoch 9/30\n",
      "379/379 [==============================] - 1s 2ms/step - loss: 0.6916 - auc: 0.5916 - val_loss: 0.6916 - val_auc: 0.5879\n",
      "Epoch 10/30\n",
      "379/379 [==============================] - 1s 2ms/step - loss: 0.6913 - auc: 0.5958 - val_loss: 0.6914 - val_auc: 0.5980\n",
      "Epoch 11/30\n",
      "379/379 [==============================] - 1s 2ms/step - loss: 0.6911 - auc: 0.6027 - val_loss: 0.6912 - val_auc: 0.6014\n",
      "Epoch 12/30\n",
      "379/379 [==============================] - 1s 2ms/step - loss: 0.6908 - auc: 0.6116 - val_loss: 0.6909 - val_auc: 0.6085\n",
      "Epoch 13/30\n",
      "379/379 [==============================] - 1s 2ms/step - loss: 0.6906 - auc: 0.6245 - val_loss: 0.6907 - val_auc: 0.6164\n",
      "Epoch 14/30\n",
      "379/379 [==============================] - 1s 2ms/step - loss: 0.6903 - auc: 0.6294 - val_loss: 0.6904 - val_auc: 0.6220\n",
      "Epoch 15/30\n",
      "379/379 [==============================] - 1s 2ms/step - loss: 0.6899 - auc: 0.6341 - val_loss: 0.6901 - val_auc: 0.6298\n",
      "Epoch 16/30\n",
      "379/379 [==============================] - 1s 2ms/step - loss: 0.6895 - auc: 0.6357 - val_loss: 0.6898 - val_auc: 0.6304\n",
      "Epoch 17/30\n",
      "379/379 [==============================] - 1s 2ms/step - loss: 0.6892 - auc: 0.6498 - val_loss: 0.6894 - val_auc: 0.6433\n",
      "Epoch 18/30\n",
      "379/379 [==============================] - 1s 2ms/step - loss: 0.6887 - auc: 0.6477 - val_loss: 0.6889 - val_auc: 0.6412\n",
      "Epoch 19/30\n",
      "379/379 [==============================] - 1s 2ms/step - loss: 0.6883 - auc: 0.6590 - val_loss: 0.6885 - val_auc: 0.6534\n",
      "Epoch 20/30\n",
      "379/379 [==============================] - 1s 2ms/step - loss: 0.6877 - auc: 0.6616 - val_loss: 0.6879 - val_auc: 0.6532\n",
      "Epoch 21/30\n",
      "379/379 [==============================] - 1s 2ms/step - loss: 0.6871 - auc: 0.6663 - val_loss: 0.6873 - val_auc: 0.6615\n",
      "Epoch 22/30\n",
      "379/379 [==============================] - 1s 2ms/step - loss: 0.6863 - auc: 0.6698 - val_loss: 0.6866 - val_auc: 0.6635\n",
      "Epoch 23/30\n",
      "379/379 [==============================] - 1s 2ms/step - loss: 0.6855 - auc: 0.6777 - val_loss: 0.6858 - val_auc: 0.6721\n",
      "Epoch 24/30\n",
      "379/379 [==============================] - 1s 2ms/step - loss: 0.6845 - auc: 0.6813 - val_loss: 0.6848 - val_auc: 0.6732\n",
      "Epoch 25/30\n",
      "379/379 [==============================] - 1s 2ms/step - loss: 0.6834 - auc: 0.6858 - val_loss: 0.6837 - val_auc: 0.6759\n",
      "Epoch 26/30\n",
      "379/379 [==============================] - 1s 2ms/step - loss: 0.6820 - auc: 0.6926 - val_loss: 0.6823 - val_auc: 0.6835\n",
      "Epoch 27/30\n",
      "379/379 [==============================] - 1s 2ms/step - loss: 0.6804 - auc: 0.6976 - val_loss: 0.6807 - val_auc: 0.6874\n",
      "Epoch 28/30\n",
      "379/379 [==============================] - 1s 2ms/step - loss: 0.6784 - auc: 0.7040 - val_loss: 0.6787 - val_auc: 0.6934\n",
      "Epoch 29/30\n",
      "379/379 [==============================] - 1s 2ms/step - loss: 0.6760 - auc: 0.7073 - val_loss: 0.6763 - val_auc: 0.6973\n",
      "Epoch 30/30\n",
      "379/379 [==============================] - 1s 2ms/step - loss: 0.6730 - auc: 0.7146 - val_loss: 0.6732 - val_auc: 0.7035\n",
      "Epoch 1/30\n",
      "76/76 [==============================] - 1s 4ms/step - loss: 0.7022 - auc: 0.4960 - val_loss: 0.6939 - val_auc: 0.5000\n",
      "Epoch 2/30\n",
      "76/76 [==============================] - 0s 2ms/step - loss: 0.6949 - auc: 0.4968 - val_loss: 0.6957 - val_auc: 0.5000\n",
      "Epoch 3/30\n",
      "76/76 [==============================] - 0s 2ms/step - loss: 0.6957 - auc: 0.4955 - val_loss: 0.6932 - val_auc: 0.5000\n",
      "Epoch 4/30\n",
      "76/76 [==============================] - 0s 2ms/step - loss: 0.6942 - auc: 0.5028 - val_loss: 0.6932 - val_auc: 0.5000\n",
      "Epoch 5/30\n",
      "76/76 [==============================] - 0s 2ms/step - loss: 0.6944 - auc: 0.4867 - val_loss: 0.6932 - val_auc: 0.5000\n",
      "Epoch 6/30\n",
      "76/76 [==============================] - 0s 2ms/step - loss: 0.6943 - auc: 0.4862 - val_loss: 0.6933 - val_auc: 0.5000\n",
      "Epoch 7/30\n",
      "76/76 [==============================] - 0s 2ms/step - loss: 0.6937 - auc: 0.4971 - val_loss: 0.6944 - val_auc: 0.5000\n",
      "Epoch 8/30\n",
      "76/76 [==============================] - 0s 2ms/step - loss: 0.6945 - auc: 0.5014 - val_loss: 0.6934 - val_auc: 0.5000\n",
      "Epoch 9/30\n",
      "76/76 [==============================] - 0s 2ms/step - loss: 0.6946 - auc: 0.4839 - val_loss: 0.6931 - val_auc: 0.5000\n",
      "Epoch 10/30\n",
      "76/76 [==============================] - 0s 2ms/step - loss: 0.6937 - auc: 0.5002 - val_loss: 0.6931 - val_auc: 0.5000\n",
      "Epoch 11/30\n",
      "76/76 [==============================] - 0s 2ms/step - loss: 0.6938 - auc: 0.4905 - val_loss: 0.6932 - val_auc: 0.6335\n",
      "Epoch 12/30\n",
      "76/76 [==============================] - 0s 2ms/step - loss: 0.6941 - auc: 0.4851 - val_loss: 0.6973 - val_auc: 0.5000\n",
      "Epoch 13/30\n",
      "76/76 [==============================] - 0s 2ms/step - loss: 0.6951 - auc: 0.4814 - val_loss: 0.6931 - val_auc: 0.5000\n",
      "Epoch 14/30\n",
      "76/76 [==============================] - 0s 2ms/step - loss: 0.6940 - auc: 0.5029 - val_loss: 0.6937 - val_auc: 0.5031\n",
      "Epoch 15/30\n",
      "76/76 [==============================] - 0s 2ms/step - loss: 0.6940 - auc: 0.4918 - val_loss: 0.6939 - val_auc: 0.5000\n",
      "Epoch 16/30\n",
      "76/76 [==============================] - 0s 2ms/step - loss: 0.6944 - auc: 0.4946 - val_loss: 0.6943 - val_auc: 0.5000\n",
      "Epoch 17/30\n",
      "76/76 [==============================] - 0s 2ms/step - loss: 0.6948 - auc: 0.4855 - val_loss: 0.6931 - val_auc: 0.5000\n",
      "Epoch 18/30\n",
      "76/76 [==============================] - 0s 2ms/step - loss: 0.6938 - auc: 0.4968 - val_loss: 0.6941 - val_auc: 0.5000\n",
      "Epoch 19/30\n",
      "76/76 [==============================] - 0s 2ms/step - loss: 0.6945 - auc: 0.4985 - val_loss: 0.6937 - val_auc: 0.5000\n",
      "Epoch 20/30\n",
      "76/76 [==============================] - 0s 2ms/step - loss: 0.6940 - auc: 0.5020 - val_loss: 0.6973 - val_auc: 0.5031\n",
      "Epoch 21/30\n",
      "76/76 [==============================] - 0s 2ms/step - loss: 0.6941 - auc: 0.5036 - val_loss: 0.6962 - val_auc: 0.5000\n",
      "Epoch 22/30\n",
      "76/76 [==============================] - 0s 2ms/step - loss: 0.6942 - auc: 0.4874 - val_loss: 0.6940 - val_auc: 0.5351\n",
      "Epoch 23/30\n",
      "76/76 [==============================] - 0s 2ms/step - loss: 0.6942 - auc: 0.5014 - val_loss: 0.6936 - val_auc: 0.5000\n",
      "Epoch 24/30\n",
      "76/76 [==============================] - 0s 2ms/step - loss: 0.6936 - auc: 0.5014 - val_loss: 0.6936 - val_auc: 0.5000\n",
      "Epoch 25/30\n",
      "76/76 [==============================] - 0s 2ms/step - loss: 0.6947 - auc: 0.4819 - val_loss: 0.6933 - val_auc: 0.5000\n",
      "Epoch 26/30\n",
      "76/76 [==============================] - 0s 2ms/step - loss: 0.6946 - auc: 0.4920 - val_loss: 0.6950 - val_auc: 0.5000\n",
      "Epoch 27/30\n",
      "76/76 [==============================] - 0s 2ms/step - loss: 0.6940 - auc: 0.4812 - val_loss: 0.6937 - val_auc: 0.5000\n",
      "Epoch 28/30\n",
      "76/76 [==============================] - 0s 2ms/step - loss: 0.6945 - auc: 0.4993 - val_loss: 0.6960 - val_auc: 0.5000\n",
      "Epoch 29/30\n",
      "76/76 [==============================] - 0s 2ms/step - loss: 0.6938 - auc: 0.5044 - val_loss: 0.6937 - val_auc: 0.5000\n",
      "Epoch 30/30\n",
      "76/76 [==============================] - 0s 2ms/step - loss: 0.6951 - auc: 0.4758 - val_loss: 0.6938 - val_auc: 0.5000\n"
     ]
    }
   ],
   "source": [
    "model1_sb_597 = build_model_1(xtrain_sb_597)\n",
    "history1_sb_597 = model1_sb_597.fit(xtrain_sb_597, ytrain_sb_597, validation_data=(xtest_sb_597, ytest_sb_597), epochs=30, batch_size=10).history\n",
    "\n",
    "model2_sb_597 = build_model_2(xtrain_sb_597)\n",
    "history2_sb_597 = model2_sb_597.fit(xtrain_sb_597, ytrain_sb_597, validation_data=(xtest_sb_597, ytest_sb_597), epochs=30, batch_size=50).history"
   ]
  },
  {
   "cell_type": "code",
   "execution_count": 81,
   "id": "fb3fbd48",
   "metadata": {},
   "outputs": [
    {
     "name": "stdout",
     "output_type": "stream",
     "text": [
      "51/51 [==============================] - 0s 1ms/step - loss: 0.6732 - auc: 0.7035\n",
      "51/51 [==============================] - 0s 1ms/step - loss: 0.6938 - auc: 0.5000\n",
      "Loss 0.673229, AUC 0.703547\n",
      "Loss 0.693832, AUC 0.500000\n"
     ]
    }
   ],
   "source": [
    "test_loss_1_sb_597, test_auc_1_sb_597 = model1_sb_597.evaluate(xtest_sb_597, ytest_sb_597)\n",
    "test_loss_2_sb_597, test_auc_2_sb_597 = model2_sb_597.evaluate(xtest_sb_597, ytest_sb_597)\n",
    "\n",
    "print('Loss %f, AUC %f' % (test_loss_1_sb_597, test_auc_1_sb_597))\n",
    "print('Loss %f, AUC %f' % (test_loss_2_sb_597, test_auc_2_sb_597))"
   ]
  },
  {
   "cell_type": "code",
   "execution_count": 82,
   "id": "bb88871c",
   "metadata": {},
   "outputs": [
    {
     "name": "stdout",
     "output_type": "stream",
     "text": [
      "0 (128, 100, 0.261, 0.9, False, 'tanh', 0.0001, 10, 1)\n",
      "Epoch 1/100\n",
      "20/20 [==============================] - 1s 19ms/step - loss: 0.6965 - auc: 0.5121 - val_loss: 0.6948 - val_auc: 0.5340\n",
      "Epoch 2/100\n",
      "20/20 [==============================] - 0s 3ms/step - loss: 0.6955 - auc: 0.5051 - val_loss: 0.6982 - val_auc: 0.5675\n",
      "Epoch 3/100\n",
      "20/20 [==============================] - 0s 3ms/step - loss: 0.6977 - auc: 0.5055 - val_loss: 0.7136 - val_auc: 0.5977\n",
      "Epoch 4/100\n",
      "20/20 [==============================] - 0s 3ms/step - loss: 0.7022 - auc: 0.4942 - val_loss: 0.7020 - val_auc: 0.6103\n",
      "Epoch 5/100\n",
      "20/20 [==============================] - 0s 3ms/step - loss: 0.6966 - auc: 0.5207 - val_loss: 0.6936 - val_auc: 0.6149\n",
      "Epoch 6/100\n",
      "20/20 [==============================] - 0s 2ms/step - loss: 0.6940 - auc: 0.5377 - val_loss: 0.6933 - val_auc: 0.6616\n",
      "Epoch 7/100\n",
      "20/20 [==============================] - 0s 2ms/step - loss: 0.6950 - auc: 0.5083 - val_loss: 0.6933 - val_auc: 0.6570\n",
      "Epoch 8/100\n",
      "20/20 [==============================] - 0s 3ms/step - loss: 0.6940 - auc: 0.5277 - val_loss: 0.6935 - val_auc: 0.6880\n",
      "Epoch 9/100\n",
      "20/20 [==============================] - 0s 3ms/step - loss: 0.6931 - auc: 0.5469 - val_loss: 0.6954 - val_auc: 0.7038\n",
      "Epoch 10/100\n",
      "20/20 [==============================] - 0s 3ms/step - loss: 0.6943 - auc: 0.5229 - val_loss: 0.6929 - val_auc: 0.7164\n",
      "Epoch 11/100\n",
      "20/20 [==============================] - 0s 3ms/step - loss: 0.6947 - auc: 0.5343 - val_loss: 0.6914 - val_auc: 0.7410\n",
      "Epoch 12/100\n",
      "20/20 [==============================] - 0s 3ms/step - loss: 0.6923 - auc: 0.5429 - val_loss: 0.6906 - val_auc: 0.7446\n",
      "Epoch 13/100\n",
      "20/20 [==============================] - 0s 4ms/step - loss: 0.6910 - auc: 0.5589 - val_loss: 0.6929 - val_auc: 0.7602\n",
      "Epoch 14/100\n",
      "20/20 [==============================] - 0s 2ms/step - loss: 0.6900 - auc: 0.5971 - val_loss: 0.6885 - val_auc: 0.7759\n",
      "Epoch 15/100\n",
      "20/20 [==============================] - 0s 2ms/step - loss: 0.6904 - auc: 0.5827 - val_loss: 0.6967 - val_auc: 0.7825\n",
      "Epoch 16/100\n",
      "20/20 [==============================] - 0s 3ms/step - loss: 0.6915 - auc: 0.5634 - val_loss: 0.7051 - val_auc: 0.7906\n",
      "Epoch 17/100\n",
      "20/20 [==============================] - 0s 3ms/step - loss: 0.6879 - auc: 0.5922 - val_loss: 0.6858 - val_auc: 0.7937\n",
      "Epoch 18/100\n",
      "20/20 [==============================] - 0s 2ms/step - loss: 0.6849 - auc: 0.6638 - val_loss: 0.6835 - val_auc: 0.7982\n",
      "Epoch 19/100\n",
      "20/20 [==============================] - 0s 2ms/step - loss: 0.6833 - auc: 0.6261 - val_loss: 0.6927 - val_auc: 0.8005\n",
      "Epoch 20/100\n",
      "20/20 [==============================] - 0s 3ms/step - loss: 0.6859 - auc: 0.5854 - val_loss: 0.6795 - val_auc: 0.8028\n",
      "Epoch 21/100\n",
      "20/20 [==============================] - 0s 2ms/step - loss: 0.6863 - auc: 0.5832 - val_loss: 0.6787 - val_auc: 0.8076\n",
      "Epoch 22/100\n",
      "20/20 [==============================] - 0s 3ms/step - loss: 0.6773 - auc: 0.6659 - val_loss: 0.6749 - val_auc: 0.8072\n",
      "Epoch 23/100\n",
      "20/20 [==============================] - 0s 3ms/step - loss: 0.6798 - auc: 0.6033 - val_loss: 0.6760 - val_auc: 0.8106\n",
      "Epoch 24/100\n",
      "20/20 [==============================] - 0s 3ms/step - loss: 0.6758 - auc: 0.6240 - val_loss: 0.6765 - val_auc: 0.8110\n",
      "Epoch 25/100\n",
      "20/20 [==============================] - 0s 3ms/step - loss: 0.6688 - auc: 0.6753 - val_loss: 0.6626 - val_auc: 0.8122\n",
      "Epoch 26/100\n",
      "20/20 [==============================] - 0s 3ms/step - loss: 0.6887 - auc: 0.5962 - val_loss: 0.6599 - val_auc: 0.8134\n",
      "Epoch 27/100\n",
      "20/20 [==============================] - 0s 2ms/step - loss: 0.6814 - auc: 0.6023 - val_loss: 0.6614 - val_auc: 0.8130\n",
      "Epoch 28/100\n",
      "20/20 [==============================] - 0s 3ms/step - loss: 0.6824 - auc: 0.6041 - val_loss: 0.6613 - val_auc: 0.8130\n",
      "Epoch 29/100\n",
      "20/20 [==============================] - 0s 2ms/step - loss: 0.6613 - auc: 0.6784 - val_loss: 0.6595 - val_auc: 0.8139\n",
      "Epoch 30/100\n",
      "20/20 [==============================] - 0s 3ms/step - loss: 0.6562 - auc: 0.6906 - val_loss: 0.7097 - val_auc: 0.8161\n",
      "Epoch 31/100\n",
      "20/20 [==============================] - 0s 3ms/step - loss: 0.6495 - auc: 0.7230 - val_loss: 0.6436 - val_auc: 0.8160\n",
      "Epoch 32/100\n",
      "20/20 [==============================] - 0s 2ms/step - loss: 0.6754 - auc: 0.6281 - val_loss: 0.6498 - val_auc: 0.8172\n",
      "Epoch 33/100\n",
      "20/20 [==============================] - 0s 3ms/step - loss: 0.6705 - auc: 0.6384 - val_loss: 0.6569 - val_auc: 0.8174\n",
      "Epoch 34/100\n",
      "20/20 [==============================] - 0s 3ms/step - loss: 0.6598 - auc: 0.6553 - val_loss: 0.7050 - val_auc: 0.8180\n",
      "Epoch 35/100\n",
      "20/20 [==============================] - 0s 3ms/step - loss: 0.6658 - auc: 0.6448 - val_loss: 0.7337 - val_auc: 0.8188\n",
      "Epoch 36/100\n",
      "20/20 [==============================] - 0s 3ms/step - loss: 0.6891 - auc: 0.6214 - val_loss: 0.6680 - val_auc: 0.8186\n",
      "Epoch 37/100\n",
      "20/20 [==============================] - 0s 3ms/step - loss: 0.6709 - auc: 0.6349 - val_loss: 0.6401 - val_auc: 0.8185\n",
      "Epoch 38/100\n",
      "20/20 [==============================] - 0s 3ms/step - loss: 0.6400 - auc: 0.7554 - val_loss: 0.6396 - val_auc: 0.8193\n",
      "Epoch 39/100\n",
      "20/20 [==============================] - 0s 3ms/step - loss: 0.6317 - auc: 0.7526 - val_loss: 0.6460 - val_auc: 0.8198\n",
      "Epoch 40/100\n",
      "20/20 [==============================] - 0s 3ms/step - loss: 0.6396 - auc: 0.7024 - val_loss: 0.6158 - val_auc: 0.8200\n",
      "Epoch 41/100\n",
      "20/20 [==============================] - 0s 3ms/step - loss: 0.6349 - auc: 0.7089 - val_loss: 0.6905 - val_auc: 0.8212\n",
      "Epoch 42/100\n",
      "20/20 [==============================] - 0s 3ms/step - loss: 0.6421 - auc: 0.6940 - val_loss: 0.6086 - val_auc: 0.8217\n",
      "Epoch 43/100\n",
      "20/20 [==============================] - 0s 3ms/step - loss: 0.6430 - auc: 0.6972 - val_loss: 0.6073 - val_auc: 0.8220\n",
      "Epoch 44/100\n",
      "20/20 [==============================] - 0s 3ms/step - loss: 0.6190 - auc: 0.7431 - val_loss: 0.6753 - val_auc: 0.8225\n",
      "Epoch 45/100\n",
      "20/20 [==============================] - 0s 3ms/step - loss: 0.6319 - auc: 0.7133 - val_loss: 0.6174 - val_auc: 0.8233\n",
      "Epoch 46/100\n",
      "20/20 [==============================] - 0s 3ms/step - loss: 0.6117 - auc: 0.7591 - val_loss: 0.5953 - val_auc: 0.8238\n",
      "Epoch 47/100\n",
      "20/20 [==============================] - 0s 3ms/step - loss: 0.6181 - auc: 0.7347 - val_loss: 0.5894 - val_auc: 0.8246\n",
      "Epoch 48/100\n",
      "20/20 [==============================] - 0s 3ms/step - loss: 0.5906 - auc: 0.7880 - val_loss: 0.6181 - val_auc: 0.8254\n",
      "Epoch 49/100\n",
      "20/20 [==============================] - 0s 3ms/step - loss: 0.6072 - auc: 0.7559 - val_loss: 0.6548 - val_auc: 0.8262\n",
      "Epoch 50/100\n",
      "20/20 [==============================] - 0s 3ms/step - loss: 0.7828 - auc: 0.6340 - val_loss: 0.7044 - val_auc: 0.8268\n",
      "Epoch 51/100\n",
      "20/20 [==============================] - 0s 3ms/step - loss: 0.7108 - auc: 0.6388 - val_loss: 0.6669 - val_auc: 0.8272\n",
      "Epoch 52/100\n",
      "20/20 [==============================] - 0s 3ms/step - loss: 0.6314 - auc: 0.7545 - val_loss: 0.6255 - val_auc: 0.8268\n",
      "Epoch 53/100\n",
      "20/20 [==============================] - 0s 7ms/step - loss: 0.6118 - auc: 0.7880 - val_loss: 0.6316 - val_auc: 0.8272\n",
      "Epoch 54/100\n",
      "20/20 [==============================] - 0s 3ms/step - loss: 0.5921 - auc: 0.8173 - val_loss: 0.6051 - val_auc: 0.8271\n",
      "Epoch 55/100\n",
      "20/20 [==============================] - 0s 3ms/step - loss: 0.5973 - auc: 0.7760 - val_loss: 0.5959 - val_auc: 0.8281\n",
      "Epoch 56/100\n",
      "20/20 [==============================] - 0s 2ms/step - loss: 0.6411 - auc: 0.7171 - val_loss: 0.6845 - val_auc: 0.8285\n",
      "Epoch 57/100\n",
      "20/20 [==============================] - 0s 3ms/step - loss: 0.6051 - auc: 0.7569 - val_loss: 0.6095 - val_auc: 0.8288\n",
      "Epoch 58/100\n",
      "20/20 [==============================] - 0s 3ms/step - loss: 0.5828 - auc: 0.8000 - val_loss: 0.5836 - val_auc: 0.8295\n",
      "Epoch 59/100\n",
      "20/20 [==============================] - 0s 3ms/step - loss: 0.6006 - auc: 0.7660 - val_loss: 0.6983 - val_auc: 0.8304\n",
      "Epoch 60/100\n",
      "20/20 [==============================] - 0s 3ms/step - loss: 0.7364 - auc: 0.6634 - val_loss: 0.7826 - val_auc: 0.8306\n",
      "Epoch 61/100\n",
      "20/20 [==============================] - 0s 2ms/step - loss: 0.6515 - auc: 0.7091 - val_loss: 0.5977 - val_auc: 0.8308\n",
      "Epoch 62/100\n",
      "20/20 [==============================] - 0s 2ms/step - loss: 0.6277 - auc: 0.7363 - val_loss: 0.6295 - val_auc: 0.8313\n"
     ]
    },
    {
     "name": "stdout",
     "output_type": "stream",
     "text": [
      "Epoch 63/100\n",
      "20/20 [==============================] - 0s 2ms/step - loss: 0.6283 - auc: 0.7328 - val_loss: 0.5973 - val_auc: 0.8313\n",
      "Epoch 64/100\n",
      "20/20 [==============================] - 0s 2ms/step - loss: 0.6088 - auc: 0.7674 - val_loss: 0.5865 - val_auc: 0.8314\n",
      "Epoch 65/100\n",
      "20/20 [==============================] - 0s 2ms/step - loss: 0.6359 - auc: 0.7248 - val_loss: 0.6574 - val_auc: 0.8317\n",
      "Epoch 66/100\n",
      "20/20 [==============================] - 0s 2ms/step - loss: 0.6130 - auc: 0.7566 - val_loss: 0.6741 - val_auc: 0.8320\n",
      "Epoch 67/100\n",
      "20/20 [==============================] - 0s 2ms/step - loss: 0.6131 - auc: 0.7527 - val_loss: 0.5818 - val_auc: 0.8323\n",
      "Epoch 68/100\n",
      "20/20 [==============================] - 0s 2ms/step - loss: 0.5849 - auc: 0.7963 - val_loss: 0.6415 - val_auc: 0.8327\n",
      "Epoch 69/100\n",
      "20/20 [==============================] - 0s 2ms/step - loss: 0.5982 - auc: 0.7792 - val_loss: 0.6670 - val_auc: 0.8329\n",
      "Epoch 70/100\n",
      "20/20 [==============================] - 0s 2ms/step - loss: 0.6854 - auc: 0.6975 - val_loss: 0.5784 - val_auc: 0.8334\n",
      "Epoch 71/100\n",
      "20/20 [==============================] - 0s 2ms/step - loss: 0.6079 - auc: 0.7668 - val_loss: 0.6354 - val_auc: 0.8334\n",
      "Epoch 72/100\n",
      "20/20 [==============================] - 0s 2ms/step - loss: 0.6174 - auc: 0.7557 - val_loss: 0.7684 - val_auc: 0.8342\n",
      "Epoch 73/100\n",
      "20/20 [==============================] - 0s 2ms/step - loss: 0.7233 - auc: 0.6677 - val_loss: 0.7293 - val_auc: 0.8347\n",
      "Epoch 74/100\n",
      "20/20 [==============================] - 0s 2ms/step - loss: 0.6247 - auc: 0.7510 - val_loss: 0.6087 - val_auc: 0.8340\n",
      "Epoch 75/100\n",
      "20/20 [==============================] - 0s 2ms/step - loss: 0.5904 - auc: 0.8270 - val_loss: 0.6092 - val_auc: 0.8342\n",
      "Epoch 76/100\n",
      "20/20 [==============================] - 0s 3ms/step - loss: 0.6109 - auc: 0.7638 - val_loss: 0.5921 - val_auc: 0.8345\n",
      "Epoch 77/100\n",
      "20/20 [==============================] - 0s 3ms/step - loss: 0.5893 - auc: 0.7938 - val_loss: 0.5830 - val_auc: 0.8347\n",
      "Epoch 78/100\n",
      "20/20 [==============================] - 0s 2ms/step - loss: 0.5855 - auc: 0.7974 - val_loss: 0.6057 - val_auc: 0.8350\n",
      "Epoch 79/100\n",
      "20/20 [==============================] - 0s 2ms/step - loss: 0.5631 - auc: 0.8287 - val_loss: 0.6214 - val_auc: 0.8355\n",
      "Epoch 80/100\n",
      "20/20 [==============================] - 0s 2ms/step - loss: 0.5751 - auc: 0.8042 - val_loss: 0.5614 - val_auc: 0.8359\n",
      "Epoch 81/100\n",
      "20/20 [==============================] - 0s 2ms/step - loss: 0.5766 - auc: 0.8045 - val_loss: 0.5558 - val_auc: 0.8368\n",
      "Epoch 82/100\n",
      "20/20 [==============================] - 0s 2ms/step - loss: 0.6521 - auc: 0.7387 - val_loss: 1.0168 - val_auc: 0.8373\n",
      "Epoch 83/100\n",
      "20/20 [==============================] - 0s 2ms/step - loss: 0.7120 - auc: 0.7027 - val_loss: 0.6080 - val_auc: 0.8376\n",
      "Epoch 84/100\n",
      "20/20 [==============================] - 0s 2ms/step - loss: 0.6022 - auc: 0.7796 - val_loss: 0.6199 - val_auc: 0.8379\n",
      "Epoch 85/100\n",
      "20/20 [==============================] - 0s 2ms/step - loss: 0.6105 - auc: 0.7668 - val_loss: 0.5728 - val_auc: 0.8381\n",
      "Epoch 86/100\n",
      "20/20 [==============================] - 0s 2ms/step - loss: 0.6303 - auc: 0.7455 - val_loss: 0.7660 - val_auc: 0.8382\n",
      "Epoch 87/100\n",
      "20/20 [==============================] - 0s 2ms/step - loss: 0.6186 - auc: 0.7599 - val_loss: 0.6219 - val_auc: 0.8386\n",
      "Epoch 88/100\n",
      "20/20 [==============================] - 0s 2ms/step - loss: 0.5896 - auc: 0.7990 - val_loss: 0.7022 - val_auc: 0.8387\n",
      "Epoch 89/100\n",
      "20/20 [==============================] - 0s 2ms/step - loss: 0.6100 - auc: 0.7708 - val_loss: 0.8470 - val_auc: 0.8389\n",
      "Epoch 90/100\n",
      "20/20 [==============================] - 0s 2ms/step - loss: 0.6412 - auc: 0.7378 - val_loss: 0.7147 - val_auc: 0.8392\n",
      "Epoch 91/100\n",
      "20/20 [==============================] - 0s 2ms/step - loss: 0.5882 - auc: 0.8046 - val_loss: 0.5943 - val_auc: 0.8395\n",
      "Epoch 92/100\n",
      "20/20 [==============================] - 0s 2ms/step - loss: 0.6179 - auc: 0.7599 - val_loss: 0.6045 - val_auc: 0.8396\n",
      "Epoch 93/100\n",
      "20/20 [==============================] - 0s 2ms/step - loss: 0.5796 - auc: 0.8118 - val_loss: 0.5862 - val_auc: 0.8393\n",
      "Epoch 94/100\n",
      "20/20 [==============================] - 0s 2ms/step - loss: 0.5601 - auc: 0.8356 - val_loss: 0.5616 - val_auc: 0.8399\n",
      "Epoch 95/100\n",
      "20/20 [==============================] - 0s 2ms/step - loss: 0.6273 - auc: 0.7600 - val_loss: 0.6299 - val_auc: 0.8403\n",
      "Epoch 96/100\n",
      "20/20 [==============================] - 0s 2ms/step - loss: 0.6148 - auc: 0.7682 - val_loss: 0.5953 - val_auc: 0.8408\n",
      "Epoch 97/100\n",
      "20/20 [==============================] - 0s 2ms/step - loss: 0.5677 - auc: 0.8244 - val_loss: 0.5621 - val_auc: 0.8410\n",
      "Epoch 98/100\n",
      "20/20 [==============================] - 0s 3ms/step - loss: 0.5814 - auc: 0.8050 - val_loss: 0.6671 - val_auc: 0.8413\n",
      "Epoch 99/100\n",
      "20/20 [==============================] - 0s 2ms/step - loss: 0.8066 - auc: 0.6810 - val_loss: 1.0238 - val_auc: 0.8413\n",
      "Epoch 100/100\n",
      "20/20 [==============================] - 0s 2ms/step - loss: 0.7435 - auc: 0.6631 - val_loss: 0.6904 - val_auc: 0.8415\n"
     ]
    }
   ],
   "source": [
    "allModels_sb_597, r_sb_597, model_sb_597 = GridSearchNN(xtrain_sb_597, ytrain_sb_597, param_list, cv=3, rand=False)"
   ]
  },
  {
   "cell_type": "code",
   "execution_count": null,
   "id": "03f561d0",
   "metadata": {},
   "outputs": [],
   "source": [
    "pred_sb_597 = model_sb_597.predict_classes(xtest_sb_597)"
   ]
  },
  {
   "cell_type": "code",
   "execution_count": 83,
   "id": "643b507a",
   "metadata": {},
   "outputs": [],
   "source": [
    "y_pred_keras_sb_597 = model_sb_597.predict(xtest_sb_597).ravel()\n",
    "fpr_keras, tpr_keras, thresholds_keras = roc_curve(ytest_sb_597, y_pred_keras_sb_597)\n",
    "auc_keras_sb_597 = auc(fpr_keras, tpr_keras)"
   ]
  },
  {
   "cell_type": "code",
   "execution_count": 84,
   "id": "b9756f7e",
   "metadata": {},
   "outputs": [
    {
     "data": {
      "image/png": "[encoded data removed]",
      "text/plain": [
       "<Figure size 432x288 with 1 Axes>"
      ]
     },
     "metadata": {
      "needs_background": "light"
     },
     "output_type": "display_data"
    }
   ],
   "source": [
    "plt.figure(1)\n",
    "plt.plot([0, 1], [0, 1], 'k--')\n",
    "plt.plot(fpr_keras, tpr_keras, label='Keras bilancato 597 (area = {:.3f})'.format(auc_keras_sb_597))\n",
    "\n",
    "plt.xlabel('False positive rate')\n",
    "plt.ylabel('True positive rate')\n",
    "plt.title('ROC curve')\n",
    "plt.legend(loc='best')\n",
    "plt.show()"
   ]
  },
  {
   "cell_type": "code",
   "execution_count": null,
   "id": "d3a35d8d",
   "metadata": {},
   "outputs": [],
   "source": []
  },
  {
   "cell_type": "markdown",
   "id": "ed76ad63",
   "metadata": {},
   "source": [
    "# ----- Curve d'apprendimento"
   ]
  },
  {
   "cell_type": "code",
   "execution_count": 85,
   "id": "2d6031fe",
   "metadata": {},
   "outputs": [],
   "source": [
    "from sklearn.model_selection import learning_curve\n",
    "def plot_learning_curve(estimator, title, X, y, axes=None, ylim=None, cv=None,\n",
    "                        n_jobs=None, train_sizes=np.linspace(.1, 1.0, 5)):\n",
    "    if axes is None:\n",
    "        _, axes = plt.subplots(1, 3, figsize=(20, 5))\n",
    "\n",
    "    axes.set_title(title)\n",
    "    if ylim is not None:\n",
    "        axes.set_ylim(*ylim)\n",
    "    axes.set_xlabel(\"Examples\")\n",
    "    axes.set_ylabel(\"Score\")\n",
    "\n",
    "    train_sizes, train_scores, test_scores, fit_times, _ = \\\n",
    "        learning_curve(estimator, X, y, cv=cv, n_jobs=n_jobs,\n",
    "                       train_sizes=train_sizes,\n",
    "                       return_times=True)\n",
    "    train_scores_mean = np.mean(train_scores, axis=1)\n",
    "    train_scores_std = np.std(train_scores, axis=1)\n",
    "    test_scores_mean = np.mean(test_scores, axis=1)\n",
    "    test_scores_std = np.std(test_scores, axis=1)\n",
    "    fit_times_mean = np.mean(fit_times, axis=1)\n",
    "    fit_times_std = np.std(fit_times, axis=1)\n",
    "\n",
    "    # Plot learning curve\n",
    "    axes.grid()\n",
    "    axes.fill_between(train_sizes, train_scores_mean - train_scores_std,\n",
    "                         train_scores_mean + train_scores_std, alpha=0.1,\n",
    "                         color=\"r\")\n",
    "    axes.fill_between(train_sizes, test_scores_mean - test_scores_std,\n",
    "                         test_scores_mean + test_scores_std, alpha=0.1,\n",
    "                         color=\"g\")\n",
    "    axes.plot(train_sizes, train_scores_mean, 'o-', color=\"r\",\n",
    "                 label=\"Training score\")\n",
    "    axes.plot(train_sizes, test_scores_mean, 'o-', color=\"g\",\n",
    "                 label=\"Cross-validation score\")\n",
    "    axes.legend(loc=\"best\")\n",
    "    return plt"
   ]
  },
  {
   "cell_type": "code",
   "execution_count": 86,
   "id": "1708a3f1",
   "metadata": {},
   "outputs": [],
   "source": [
    "def plot_learning_dt(X1, y1, X2, y2):\n",
    "    \n",
    "    fig, axes = plt.subplots(1, 2, figsize=(16, 5))\n",
    "\n",
    "    cv = ShuffleSplit(n_splits=10, test_size=0.3, random_state=0)\n",
    "    estimator = tree.DecisionTreeClassifier(criterion = \"entropy\", max_depth = None, min_samples_leaf = 20, min_samples_split = 10)\n",
    "    title = \"Decision Tree G1\"\n",
    "    plot_learning_curve(estimator, title, X1, y1, axes=axes[0], ylim=(0.3, 1.01),\n",
    "                        cv=cv, n_jobs=10)\n",
    "    print(\"done\")\n",
    "    cv = ShuffleSplit(n_splits=10, test_size=0.3, random_state=0)\n",
    "    estimator = tree.DecisionTreeClassifier(criterion = \"gini\", max_depth = None, min_samples_leaf = 20, min_samples_split = 10)\n",
    "    title = \"Decision Tree G1 Bilanciato\"\n",
    "    plot_learning_curve(estimator, title, X2, y2, axes=axes[1], ylim=(0.3, 1.01),\n",
    "                        cv=cv, n_jobs=10)\n",
    "    plt.show()"
   ]
  },
  {
   "cell_type": "code",
   "execution_count": 87,
   "id": "77dc3333",
   "metadata": {},
   "outputs": [
    {
     "name": "stdout",
     "output_type": "stream",
     "text": [
      "done\n"
     ]
    },
    {
     "data": {
      "image/png": "[encoded data removed]",
      "text/plain": [
       "<Figure size 1152x360 with 2 Axes>"
      ]
     },
     "metadata": {
      "needs_background": "light"
     },
     "output_type": "display_data"
    }
   ],
   "source": [
    "plot_learning_dt(xtrain_597, ytrain_597, xtrain_sb_597, ytrain_sb_597)"
   ]
  },
  {
   "cell_type": "code",
   "execution_count": 88,
   "id": "088c6b2e",
   "metadata": {},
   "outputs": [],
   "source": [
    "def plot_learning_regr(X1, y1, X2, y2):\n",
    "    \n",
    "    fig, axes = plt.subplots(1, 2, figsize=(16, 5))\n",
    "\n",
    "    cv = ShuffleSplit(n_splits=10, test_size=0.3, random_state=0)\n",
    "    estimator = LogisticRegression()\n",
    "    title = \"Logistic Regression 597\"\n",
    "    plot_learning_curve(estimator, title, X1, y1, axes=axes[0], ylim=(0.3, 1.01),\n",
    "                        cv=cv, n_jobs=10)\n",
    "\n",
    "    cv = ShuffleSplit(n_splits=10, test_size=0.3, random_state=0)\n",
    "    estimator = LogisticRegression()\n",
    "    title = \"Logistic Regression 597 Bilanciato\"\n",
    "    plot_learning_curve(estimator, title, X2, y2, axes=axes[1], ylim=(0.3, 1.01),\n",
    "                        cv=cv, n_jobs=10)\n",
    "    plt.show()"
   ]
  },
  {
   "cell_type": "code",
   "execution_count": 89,
   "id": "eb77f351",
   "metadata": {},
   "outputs": [
    {
     "data": {
      "image/png": "[encoded data removed]",
      "text/plain": [
       "<Figure size 1152x360 with 2 Axes>"
      ]
     },
     "metadata": {
      "needs_background": "light"
     },
     "output_type": "display_data"
    }
   ],
   "source": [
    "plot_learning_regr(xtrain_597, ytrain_597, xtrain_sb_597, ytrain_sb_597)"
   ]
  },
  {
   "cell_type": "code",
   "execution_count": null,
   "id": "6bf18f7a",
   "metadata": {},
   "outputs": [],
   "source": []
  }
 ],
 "metadata": {
  "kernelspec": {
   "display_name": "Python 3",
   "language": "python",
   "name": "python3"
  },
  "language_info": {
   "codemirror_mode": {
    "name": "ipython",
    "version": 3
   },
   "file_extension": ".py",
   "mimetype": "text/x-python",
   "name": "python",
   "nbconvert_exporter": "python",
   "pygments_lexer": "ipython3",
   "version": "3.8.8"
  }
 },
 "nbformat": 4,
 "nbformat_minor": 5
}
