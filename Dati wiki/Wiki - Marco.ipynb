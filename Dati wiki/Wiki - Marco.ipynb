{
 "cells": [
  {
   "cell_type": "code",
   "execution_count": 1,
   "id": "976b90eb",
   "metadata": {},
   "outputs": [
    {
     "name": "stdout",
     "output_type": "stream",
     "text": [
      "Collecting Wikipedia-API\n",
      "  Downloading Wikipedia-API-0.5.4.tar.gz (18 kB)\n",
      "Requirement already satisfied: requests in c:\\users\\marco\\anaconda3\\lib\\site-packages (from Wikipedia-API) (2.25.1)\n",
      "Requirement already satisfied: chardet<5,>=3.0.2 in c:\\users\\marco\\anaconda3\\lib\\site-packages (from requests->Wikipedia-API) (4.0.0)\n",
      "Requirement already satisfied: certifi>=2017.4.17 in c:\\users\\marco\\anaconda3\\lib\\site-packages (from requests->Wikipedia-API) (2020.12.5)\n",
      "Requirement already satisfied: idna<3,>=2.5 in c:\\users\\marco\\anaconda3\\lib\\site-packages (from requests->Wikipedia-API) (2.10)\n",
      "Requirement already satisfied: urllib3<1.27,>=1.21.1 in c:\\users\\marco\\anaconda3\\lib\\site-packages (from requests->Wikipedia-API) (1.26.4)\n",
      "Building wheels for collected packages: Wikipedia-API\n",
      "  Building wheel for Wikipedia-API (setup.py): started\n",
      "  Building wheel for Wikipedia-API (setup.py): finished with status 'done'\n",
      "  Created wheel for Wikipedia-API: filename=Wikipedia_API-0.5.4-py3-none-any.whl size=13462 sha256=1fbcdb2a2cb244b79484a70ac309e687c927159f92c24b38daca5a0ad99e0776\n",
      "  Stored in directory: c:\\users\\marco\\appdata\\local\\pip\\cache\\wheels\\ed\\88\\e3\\da3d4d73cb91d659488cfa25913b84bbc26febec99d257bce9\n",
      "Successfully built Wikipedia-API\n",
      "Installing collected packages: Wikipedia-API\n",
      "Successfully installed Wikipedia-API-0.5.4\n",
      "Note: you may need to restart the kernel to use updated packages.\n"
     ]
    }
   ],
   "source": [
    "pip install Wikipedia-API"
   ]
  },
  {
   "cell_type": "code",
   "execution_count": 2,
   "id": "562fc621",
   "metadata": {},
   "outputs": [],
   "source": [
    "import wikipediaapi"
   ]
  },
  {
   "cell_type": "code",
   "execution_count": 3,
   "id": "6afaae87",
   "metadata": {},
   "outputs": [],
   "source": [
    "#Inserimento lingua di interesse\n",
    "wiki_wiki = wikipediaapi.Wikipedia('en')"
   ]
  },
  {
   "cell_type": "code",
   "execution_count": 6,
   "id": "88346bf2",
   "metadata": {},
   "outputs": [
    {
     "name": "stdout",
     "output_type": "stream",
     "text": [
      "Page - Exists: False\n"
     ]
    }
   ],
   "source": [
    "#Ricerca pagina su wiki\n",
    "page_py = wiki_wiki.page('savesoil') #slogan\n",
    "print(\"Page - Exists: %s\" % page_py.exists())"
   ]
  },
  {
   "cell_type": "code",
   "execution_count": 7,
   "id": "ba0c5c1b",
   "metadata": {},
   "outputs": [
    {
     "name": "stdout",
     "output_type": "stream",
     "text": [
      "Page - Summary: \n"
     ]
    }
   ],
   "source": [
    "#estrazione significato\n",
    "print(\"Page - Summary: %s\" % page_py.summary[0:800])"
   ]
  },
  {
   "cell_type": "code",
   "execution_count": null,
   "id": "7b4eead5",
   "metadata": {},
   "outputs": [],
   "source": []
  },
  {
   "cell_type": "code",
   "execution_count": 8,
   "id": "8650cc42",
   "metadata": {},
   "outputs": [
    {
     "name": "stdout",
     "output_type": "stream",
     "text": [
      "Page - Exists: True\n"
     ]
    }
   ],
   "source": [
    "page_py = wiki_wiki.page('water')\n",
    "print(\"Page - Exists: %s\" % page_py.exists())"
   ]
  },
  {
   "cell_type": "code",
   "execution_count": 9,
   "id": "73688125",
   "metadata": {},
   "outputs": [
    {
     "name": "stdout",
     "output_type": "stream",
     "text": [
      "Page - Summary: Water (chemical formula H2O) is an inorganic, transparent, tasteless, odorless, and nearly colorless chemical substance, which is the main constituent of Earth's hydrosphere and the fluids of all known living organisms (in which it acts as a solvent). It is vital for all known forms of life, even though it provides neither food, energy, nor organic micronutrients. Its chemical formula, H2O, indicates that each of its molecules contains one oxygen and two hydrogen atoms, connected by covalent bonds. The hydrogen atoms are attached to the oxygen atom at an angle of 104.45°. \"Water\" is also the name of the liquid state of H2O at standard temperature and pressure. \n",
      "A number of natural states of water exist. It forms precipitation in the form of rain and aerosols in the form of fog. Clouds cons\n"
     ]
    }
   ],
   "source": [
    "print(\"Page - Summary: %s\" % page_py.summary[0:800])"
   ]
  },
  {
   "cell_type": "code",
   "execution_count": null,
   "id": "2faa13db",
   "metadata": {},
   "outputs": [],
   "source": []
  },
  {
   "cell_type": "code",
   "execution_count": 12,
   "id": "64da3d8a",
   "metadata": {},
   "outputs": [
    {
     "name": "stdout",
     "output_type": "stream",
     "text": [
      "Page - Exists: True\n"
     ]
    }
   ],
   "source": [
    "page_py = wiki_wiki.page('paris agreement')\n",
    "print(\"Page - Exists: %s\" % page_py.exists())"
   ]
  },
  {
   "cell_type": "code",
   "execution_count": 13,
   "id": "9718ce09",
   "metadata": {},
   "outputs": [
    {
     "name": "stdout",
     "output_type": "stream",
     "text": [
      "Page - Summary: The Paris Agreement (French: Accord de Paris), often referred to as the Paris Accords or the Paris Climate Accords, is an international treaty on climate change, adopted in 2015. It covers climate change mitigation, adaptation, and finance. The Agreement was negotiated by 196 parties at the 2015 United Nations Climate Change Conference near Paris, France.\n",
      "The Paris Agreement was opened for signature on 22 April 2016 (Earth Day) at a ceremony in New York. After the European Union ratified the agreement, sufficient countries had ratified the Agreement responsible for enough of the world's greenhouse gases for the Agreement to enter into force on 4 November 2016. As of November 2021, 193 members of the United Nations Framework Convention on Climate Change (UNFCCC) are parties to the agreement\n"
     ]
    }
   ],
   "source": [
    "print(\"Page - Summary: %s\" % page_py.summary[0:800])"
   ]
  },
  {
   "cell_type": "code",
   "execution_count": null,
   "id": "9d8e4781",
   "metadata": {},
   "outputs": [],
   "source": []
  },
  {
   "cell_type": "code",
   "execution_count": null,
   "id": "0fec65ce",
   "metadata": {},
   "outputs": [],
   "source": [
    "page_py = wiki_wiki.page('')\n",
    "print(\"Page - Exists: %s\" % page_py.exists())"
   ]
  },
  {
   "cell_type": "code",
   "execution_count": null,
   "id": "02a3c77c",
   "metadata": {},
   "outputs": [],
   "source": [
    "print(\"Page - Summary: %s\" % page_py.summary[0:800])"
   ]
  },
  {
   "cell_type": "code",
   "execution_count": null,
   "id": "de8fb79e",
   "metadata": {},
   "outputs": [],
   "source": []
  },
  {
   "cell_type": "code",
   "execution_count": 14,
   "id": "5fb966fc",
   "metadata": {},
   "outputs": [
    {
     "name": "stdout",
     "output_type": "stream",
     "text": [
      "Page - Exists: True\n"
     ]
    }
   ],
   "source": [
    "page_py = wiki_wiki.page('milano')\n",
    "print(\"Page - Exists: %s\" % page_py.exists())"
   ]
  },
  {
   "cell_type": "code",
   "execution_count": 15,
   "id": "f6ee27f0",
   "metadata": {},
   "outputs": [
    {
     "name": "stdout",
     "output_type": "stream",
     "text": [
      "Page - Summary: Milan (, US also , Lombard: [miˈlãː ] (listen); Italian: Milano [miˈlaːno ] (listen)) is a city in northern Italy, capital of Lombardy and the second-most populous city proper in Italy after Rome. The city proper has a population of about 1.4 million, while its metropolitan city has 3.26 million inhabitants. Its continuously built-up urban area (whose outer suburbs extend well beyond the boundaries of the administrative metropolitan city and even stretch into the nearby country of Switzerland) is the fourth largest in the EU with 5.27 million inhabitants. According to national sources, the population within the wider Milan metropolitan area (also known as Greater Milan), is estimated between 8.2 million and 12.5 million making it by far the largest metropolitan area in Italy and one of the\n"
     ]
    }
   ],
   "source": [
    "print(\"Page - Summary: %s\" % page_py.summary[0:800])"
   ]
  },
  {
   "cell_type": "code",
   "execution_count": null,
   "id": "ecfd1b6b",
   "metadata": {},
   "outputs": [],
   "source": []
  },
  {
   "cell_type": "code",
   "execution_count": 16,
   "id": "003da298",
   "metadata": {},
   "outputs": [
    {
     "name": "stdout",
     "output_type": "stream",
     "text": [
      "Page - Exists: True\n"
     ]
    }
   ],
   "source": [
    "page_py = wiki_wiki.page('global crisis')\n",
    "print(\"Page - Exists: %s\" % page_py.exists())"
   ]
  },
  {
   "cell_type": "code",
   "execution_count": 17,
   "id": "2ff73cc6",
   "metadata": {},
   "outputs": [
    {
     "name": "stdout",
     "output_type": "stream",
     "text": [
      "Page - Summary: A global catastrophic risk or a doomsday scenario is a hypothetical future event that could damage human well-being on a global scale, even endangering or destroying modern civilization. An event that could cause human extinction or permanently and drastically curtail humanity's potential is known as an \"existential risk.\"Over the last two decades, a number of academic and non-profit organizations have been established to research global catastrophic and existential risks, formulate potential mitigation measures and either advocate for or implement these measures.\n"
     ]
    }
   ],
   "source": [
    "print(\"Page - Summary: %s\" % page_py.summary[0:800])"
   ]
  },
  {
   "cell_type": "code",
   "execution_count": null,
   "id": "c153f25b",
   "metadata": {},
   "outputs": [],
   "source": []
  },
  {
   "cell_type": "code",
   "execution_count": 18,
   "id": "2152e478",
   "metadata": {},
   "outputs": [
    {
     "name": "stdout",
     "output_type": "stream",
     "text": [
      "Page - Exists: True\n"
     ]
    }
   ],
   "source": [
    "page_py = wiki_wiki.page('israel')\n",
    "print(\"Page - Exists: %s\" % page_py.exists())"
   ]
  },
  {
   "cell_type": "code",
   "execution_count": 19,
   "id": "0db18761",
   "metadata": {},
   "outputs": [
    {
     "name": "stdout",
     "output_type": "stream",
     "text": [
      "Page - Summary: Israel (; Hebrew: יִשְׂרָאֵל, romanized: Yīsrāʾēl; Arabic: إِسْرَائِيل, romanized: ʾIsrāʾīl), officially the State of Israel (מְדִינַת יִשְׂרָאֵל, Medīnat Yīsrāʾēl; دَوْلَة إِسْرَائِيل, Dawlat ʾIsrāʾīl), is a country in Western Asia. It is situated on the southeastern shore of the Mediterranean Sea and the northern shore of the Red Sea, and shares borders with Lebanon to the north, Syria to the northeast, Jordan to the east, and Egypt to the southwest; it is also bordered by the Palestinian territories of the West Bank and the Gaza Strip to the east and west, respectively. Tel Aviv is the economic and technological center of the country, while its seat of government is in its proclaimed capital of Jerusalem, although Israeli sovereignty over East Jerusalem is unrecognized internationally.I\n"
     ]
    }
   ],
   "source": [
    "print(\"Page - Summary: %s\" % page_py.summary[0:800])"
   ]
  },
  {
   "cell_type": "code",
   "execution_count": null,
   "id": "f2999519",
   "metadata": {},
   "outputs": [],
   "source": []
  },
  {
   "cell_type": "code",
   "execution_count": null,
   "id": "69d6a3d8",
   "metadata": {},
   "outputs": [],
   "source": [
    "page_py = wiki_wiki.page('')\n",
    "print(\"Page - Exists: %s\" % page_py.exists())"
   ]
  },
  {
   "cell_type": "code",
   "execution_count": null,
   "id": "045bd012",
   "metadata": {},
   "outputs": [],
   "source": [
    "print(\"Page - Summary: %s\" % page_py.summary[0:800])"
   ]
  },
  {
   "cell_type": "code",
   "execution_count": null,
   "id": "afb3d825",
   "metadata": {},
   "outputs": [],
   "source": []
  },
  {
   "cell_type": "code",
   "execution_count": 22,
   "id": "a9804cbc",
   "metadata": {},
   "outputs": [
    {
     "name": "stdout",
     "output_type": "stream",
     "text": [
      "Page - Exists: False\n"
     ]
    }
   ],
   "source": [
    "page_py = wiki_wiki.page('keep it in the ground') #slogan\n",
    "print(\"Page - Exists: %s\" % page_py.exists())"
   ]
  },
  {
   "cell_type": "code",
   "execution_count": 21,
   "id": "bd27be75",
   "metadata": {},
   "outputs": [
    {
     "name": "stdout",
     "output_type": "stream",
     "text": [
      "Page - Summary: \n"
     ]
    }
   ],
   "source": [
    "print(\"Page - Summary: %s\" % page_py.summary[0:800])"
   ]
  },
  {
   "cell_type": "code",
   "execution_count": null,
   "id": "a221d764",
   "metadata": {},
   "outputs": [],
   "source": []
  },
  {
   "cell_type": "code",
   "execution_count": 25,
   "id": "b8265c2b",
   "metadata": {},
   "outputs": [
    {
     "name": "stdout",
     "output_type": "stream",
     "text": [
      "Page - Exists: True\n"
     ]
    }
   ],
   "source": [
    "page_py = wiki_wiki.page('roma')  \n",
    "print(\"Page - Exists: %s\" % page_py.exists())"
   ]
  },
  {
   "cell_type": "code",
   "execution_count": 183,
   "id": "4ee8b407",
   "metadata": {},
   "outputs": [
    {
     "name": "stdout",
     "output_type": "stream",
     "text": [
      "Rome (Italian and Latin: Roma [ˈroːma] (listen)) is the capital city of Italy. It is also the capital of the Lazio region, the centre of the Metropolitan City of Rome, and a special comune named Comune di Roma Capitale. With 2,860,009 residents in 1,285 km2 (496.1 sq mi),[1] Rome is the countrys most populated comune and the third most populous city in the European Union by population within city limits.\n"
     ]
    }
   ],
   "source": [
    "print('Rome (Italian and Latin: Roma [ˈroːma] (listen)) is the capital city of Italy. It is also the capital of the Lazio region, the centre of the Metropolitan City of Rome, and a special comune named Comune di Roma Capitale. With 2,860,009 residents in 1,285 km2 (496.1 sq mi),[1] Rome is the countrys most populated comune and the third most populous city in the European Union by population within city limits.')"
   ]
  },
  {
   "cell_type": "code",
   "execution_count": null,
   "id": "da40dbc9",
   "metadata": {},
   "outputs": [],
   "source": []
  },
  {
   "cell_type": "code",
   "execution_count": 27,
   "id": "9747c877",
   "metadata": {},
   "outputs": [
    {
     "name": "stdout",
     "output_type": "stream",
     "text": [
      "Page - Exists: True\n"
     ]
    }
   ],
   "source": [
    "page_py = wiki_wiki.page('diesel')\n",
    "print(\"Page - Exists: %s\" % page_py.exists())"
   ]
  },
  {
   "cell_type": "code",
   "execution_count": 181,
   "id": "bacb0fa4",
   "metadata": {},
   "outputs": [
    {
     "name": "stdout",
     "output_type": "stream",
     "text": [
      "The diesel engine, named after Rudolf Diesel, is an internal combustion engine in which ignition of the fuel is caused by the elevated temperature of the air in the cylinder due to mechanical compression; thus, the diesel engine is a so-called compression-ignition engine (CI engine). This contrasts with engines using spark plug-ignition of the air-fuel mixture, such as a petrol engine (gasoline engine) or a gas engine (using a gaseous fuel like natural gas or liquefied petroleum gas).\n"
     ]
    }
   ],
   "source": [
    "print('The diesel engine, named after Rudolf Diesel, is an internal combustion engine in which ignition of the fuel is caused by the elevated temperature of the air in the cylinder due to mechanical compression; thus, the diesel engine is a so-called compression-ignition engine (CI engine). This contrasts with engines using spark plug-ignition of the air-fuel mixture, such as a petrol engine (gasoline engine) or a gas engine (using a gaseous fuel like natural gas or liquefied petroleum gas).')"
   ]
  },
  {
   "cell_type": "code",
   "execution_count": null,
   "id": "247717a3",
   "metadata": {},
   "outputs": [],
   "source": []
  },
  {
   "cell_type": "code",
   "execution_count": 29,
   "id": "495f852e",
   "metadata": {},
   "outputs": [
    {
     "name": "stdout",
     "output_type": "stream",
     "text": [
      "Page - Exists: True\n"
     ]
    }
   ],
   "source": [
    "page_py = wiki_wiki.page('siemens')\n",
    "print(\"Page - Exists: %s\" % page_py.exists())"
   ]
  },
  {
   "cell_type": "code",
   "execution_count": 30,
   "id": "957df72f",
   "metadata": {},
   "outputs": [
    {
     "name": "stdout",
     "output_type": "stream",
     "text": [
      "Page - Summary: Siemens AG (German pronunciation: [ˈziːməns] (listen) or [-mɛns]) is a German multinational conglomerate corporation and the largest industrial manufacturing company in Europe headquartered in Munich with branch offices abroad.\n",
      "The principal divisions of the corporation are Industry, Energy, Healthcare (Siemens Healthineers), and Infrastructure & Cities, which represent the main activities of the corporation. The corporation is a prominent maker of medical diagnostics equipment and its medical health-care division, which generates about 12 percent of the corporation's total sales, is its second-most profitable unit, after the industrial automation division. The corporation is a component of the Euro Stoxx 50 stock market index. Siemens and its subsidiaries employ approximately 303,000 peop\n"
     ]
    }
   ],
   "source": [
    "print(\"Page - Summary: %s\" % page_py.summary[0:800])"
   ]
  },
  {
   "cell_type": "code",
   "execution_count": null,
   "id": "32a8d234",
   "metadata": {},
   "outputs": [],
   "source": []
  },
  {
   "cell_type": "code",
   "execution_count": 32,
   "id": "eb338c47",
   "metadata": {},
   "outputs": [
    {
     "name": "stdout",
     "output_type": "stream",
     "text": [
      "Page - Exists: False\n"
     ]
    }
   ],
   "source": [
    "page_py = wiki_wiki.page('weekend vibes')\n",
    "print(\"Page - Exists: %s\" % page_py.exists())"
   ]
  },
  {
   "cell_type": "code",
   "execution_count": 33,
   "id": "eed3477c",
   "metadata": {},
   "outputs": [
    {
     "name": "stdout",
     "output_type": "stream",
     "text": [
      "Page - Summary: \n"
     ]
    }
   ],
   "source": [
    "print(\"Page - Summary: %s\" % page_py.summary[0:800])"
   ]
  },
  {
   "cell_type": "code",
   "execution_count": null,
   "id": "ca41f6f3",
   "metadata": {},
   "outputs": [],
   "source": []
  },
  {
   "cell_type": "code",
   "execution_count": 36,
   "id": "175631d6",
   "metadata": {},
   "outputs": [
    {
     "name": "stdout",
     "output_type": "stream",
     "text": [
      "Page - Exists: True\n"
     ]
    }
   ],
   "source": [
    "page_py = wiki_wiki.page('ff')\n",
    "print(\"Page - Exists: %s\" % page_py.exists())"
   ]
  },
  {
   "cell_type": "code",
   "execution_count": 37,
   "id": "1e9aa602",
   "metadata": {},
   "outputs": [
    {
     "name": "stdout",
     "output_type": "stream",
     "text": [
      "Page - Summary: FF, Ff, fF or ff may refer to:\n"
     ]
    }
   ],
   "source": [
    "print(\"Page - Summary: %s\" % page_py.summary[0:800])"
   ]
  },
  {
   "cell_type": "code",
   "execution_count": null,
   "id": "8baa9052",
   "metadata": {},
   "outputs": [],
   "source": []
  },
  {
   "cell_type": "code",
   "execution_count": 44,
   "id": "07487354",
   "metadata": {},
   "outputs": [
    {
     "name": "stdout",
     "output_type": "stream",
     "text": [
      "Page - Exists: True\n"
     ]
    }
   ],
   "source": [
    "page_py = wiki_wiki.page('youth for climate')\n",
    "print(\"Page - Exists: %s\" % page_py.exists())"
   ]
  },
  {
   "cell_type": "code",
   "execution_count": 45,
   "id": "3c2fa156",
   "metadata": {},
   "outputs": [
    {
     "name": "stdout",
     "output_type": "stream",
     "text": [
      "Page - Summary: School Strike for Climate (Swedish: Skolstrejk för klimatet), also known variously as Fridays for Future (FFF), Youth for Climate, Climate Strike or Youth Strike for Climate, is an international movement of school students who skip Friday classes to participate in demonstrations to demand action from political leaders to prevent climate change and for the fossil fuel industry to transition to renewable energy.\n",
      "Publicity and widespread organising began after Swedish pupil Greta Thunberg staged a protest in August 2018 outside of the Swedish Riksdag (parliament), holding a sign that read \"Skolstrejk för klimatet\" (\"School strike for climate\").A global strike on 15 March 2019 gathered more than one million strikers in 2,200 strikes organised in 125 countries. On 24 May 2019, in the second glo\n"
     ]
    }
   ],
   "source": [
    "print(\"Page - Summary: %s\" % page_py.summary[0:800])"
   ]
  },
  {
   "cell_type": "code",
   "execution_count": null,
   "id": "0391d30a",
   "metadata": {},
   "outputs": [],
   "source": []
  },
  {
   "cell_type": "code",
   "execution_count": 42,
   "id": "595bec45",
   "metadata": {},
   "outputs": [
    {
     "name": "stdout",
     "output_type": "stream",
     "text": [
      "Page - Exists: True\n"
     ]
    }
   ],
   "source": [
    "page_py = wiki_wiki.page('plastic pollution')\n",
    "print(\"Page - Exists: %s\" % page_py.exists())"
   ]
  },
  {
   "cell_type": "code",
   "execution_count": 43,
   "id": "79cf1bc7",
   "metadata": {},
   "outputs": [
    {
     "name": "stdout",
     "output_type": "stream",
     "text": [
      "Page - Summary: Plastic pollution is the accumulation of plastic objects and particles (e.g. plastic bottles, bags and microbeads) in the Earth's environment that adversely affects humans, wildlife and their habitat. Plastics that act as pollutants are categorized by size into micro-, meso-, or macro debris. Plastics are inexpensive and durable making them very adaptable for different uses; as a result manufacturers choose to use plastic over other materials. However, the chemical structure of most plastics renders them resistant to many natural processes of degradation and as a result they are slow to degrade. Together, these two factors allow large volumes of plastic to enter the environment as mismanaged waste and for it to persist in the ecosystem.\n",
      "Plastic pollution can afflict land, waterways and oce\n"
     ]
    }
   ],
   "source": [
    "print(\"Page - Summary: %s\" % page_py.summary[0:800])"
   ]
  },
  {
   "cell_type": "code",
   "execution_count": null,
   "id": "28e585ee",
   "metadata": {},
   "outputs": [],
   "source": []
  },
  {
   "cell_type": "code",
   "execution_count": 47,
   "id": "212d1498",
   "metadata": {},
   "outputs": [
    {
     "name": "stdout",
     "output_type": "stream",
     "text": [
      "Page - Exists: False\n"
     ]
    }
   ],
   "source": [
    "page_py = wiki_wiki.page('global climate justice')\n",
    "print(\"Page - Exists: %s\" % page_py.exists())"
   ]
  },
  {
   "cell_type": "code",
   "execution_count": null,
   "id": "d1c3876f",
   "metadata": {},
   "outputs": [],
   "source": [
    "print(\"Page - Summary: %s\" % page_py.summary[0:800])"
   ]
  },
  {
   "cell_type": "code",
   "execution_count": null,
   "id": "7a7a3540",
   "metadata": {},
   "outputs": [],
   "source": []
  },
  {
   "cell_type": "code",
   "execution_count": 49,
   "id": "e9ab88ea",
   "metadata": {},
   "outputs": [
    {
     "name": "stdout",
     "output_type": "stream",
     "text": [
      "Page - Exists: True\n"
     ]
    }
   ],
   "source": [
    "page_py = wiki_wiki.page('stay at home')\n",
    "print(\"Page - Exists: %s\" % page_py.exists())"
   ]
  },
  {
   "cell_type": "code",
   "execution_count": 50,
   "id": "c62fc525",
   "metadata": {},
   "outputs": [
    {
     "name": "stdout",
     "output_type": "stream",
     "text": [
      "Page - Summary: Stay-at-home may refer to:\n",
      "\n",
      "Stay-at-home dad, a male parent who is the main caregiver of the children and the home\n",
      "Stay-at-home daughter, a woman who lives at home until she is married\n",
      "Stay-at-home defenceman, a hockey defenceman who plays a very defensive minded game\n",
      "Stay-at-home mom, a female parent who is the main caregiver of the children and the home\n",
      "Stay-at-home order, a quarantine measure to control spreading of a disease\n"
     ]
    }
   ],
   "source": [
    "print(\"Page - Summary: %s\" % page_py.summary[0:800])"
   ]
  },
  {
   "cell_type": "code",
   "execution_count": null,
   "id": "edfac3c4",
   "metadata": {},
   "outputs": [],
   "source": []
  },
  {
   "cell_type": "code",
   "execution_count": 51,
   "id": "b5d27feb",
   "metadata": {},
   "outputs": [
    {
     "name": "stdout",
     "output_type": "stream",
     "text": [
      "Page - Exists: True\n"
     ]
    }
   ],
   "source": [
    "page_py = wiki_wiki.page('davos')\n",
    "print(\"Page - Exists: %s\" % page_py.exists())"
   ]
  },
  {
   "cell_type": "code",
   "execution_count": 52,
   "id": "063e9310",
   "metadata": {},
   "outputs": [
    {
     "name": "stdout",
     "output_type": "stream",
     "text": [
      "Page - Summary: Davos (UK: , US: ; German: [daˈfoːs] or [daˈvoːs] (listen); Romansh: Tavau; archaic Italian: Tavate) is an Alpine resort town and a municipality in the Prättigau/Davos Region in the canton of Graubünden, Switzerland. It has a permanent population of 10,832 (2020). Davos is located on the river Landwasser, in the Rhaetian Alps, between the Plessur and Albula Ranges.\n",
      "The municipality covers nearly the entire valley of the Landwasser, and the centre of population, economic activity, and administration is two adjacent villages: Davos Dorf (German: Davos Village) and Davos Platz (Davos Place), at 1,560 m (5,120 ft) above sea level.\n",
      "Gaining prominence in the 19th century as a mountain health resort, Davos is perhaps best known today for hosting the World Economic Forum—often referred to simply a\n"
     ]
    }
   ],
   "source": [
    "print(\"Page - Summary: %s\" % page_py.summary[0:800])"
   ]
  },
  {
   "cell_type": "code",
   "execution_count": null,
   "id": "70fb0003",
   "metadata": {},
   "outputs": [],
   "source": []
  },
  {
   "cell_type": "code",
   "execution_count": 63,
   "id": "5c38bb7d",
   "metadata": {},
   "outputs": [
    {
     "name": "stdout",
     "output_type": "stream",
     "text": [
      "Page - Exists: False\n"
     ]
    }
   ],
   "source": [
    "page_py = wiki_wiki.page('sos amazonia')\n",
    "print(\"Page - Exists: %s\" % page_py.exists())"
   ]
  },
  {
   "cell_type": "code",
   "execution_count": 56,
   "id": "a1c41791",
   "metadata": {},
   "outputs": [
    {
     "name": "stdout",
     "output_type": "stream",
     "text": [
      "Page - Summary: \n"
     ]
    }
   ],
   "source": [
    "print(\"Page - Summary: %s\" % page_py.summary[0:800])"
   ]
  },
  {
   "cell_type": "code",
   "execution_count": null,
   "id": "057476e3",
   "metadata": {},
   "outputs": [],
   "source": []
  },
  {
   "cell_type": "code",
   "execution_count": 57,
   "id": "9948574c",
   "metadata": {},
   "outputs": [
    {
     "name": "stdout",
     "output_type": "stream",
     "text": [
      "Page - Exists: True\n"
     ]
    }
   ],
   "source": [
    "page_py = wiki_wiki.page('suv')\n",
    "print(\"Page - Exists: %s\" % page_py.exists())"
   ]
  },
  {
   "cell_type": "code",
   "execution_count": 58,
   "id": "c82fdbc0",
   "metadata": {},
   "outputs": [
    {
     "name": "stdout",
     "output_type": "stream",
     "text": [
      "Page - Summary: A sport utility vehicle or SUV is a car classification that combines elements of road-going passenger cars with features from off-road vehicles, such as raised ground clearance and four-wheel drive.\n",
      "There is no commonly agreed-upon definition of an SUV and usage of the term varies between countries. Thus, it is \"a loose term that traditionally covers a broad range of vehicles with four-wheel drive.\" Some definitions claim that an SUV must be built on a light truck chassis; however, broader definitions consider any vehicle with off-road design features to be an SUV. A crossover SUV is often defined as an SUV built with a unibody construction (as with passenger cars), however, in many cases, crossovers are simply referred to as SUVs.\n",
      "The predecessors to SUVs date back to military and low-vol\n"
     ]
    }
   ],
   "source": [
    "print(\"Page - Summary: %s\" % page_py.summary[0:800])"
   ]
  },
  {
   "cell_type": "code",
   "execution_count": null,
   "id": "3c54f87d",
   "metadata": {},
   "outputs": [],
   "source": []
  },
  {
   "cell_type": "code",
   "execution_count": 61,
   "id": "b346dd76",
   "metadata": {},
   "outputs": [
    {
     "name": "stdout",
     "output_type": "stream",
     "text": [
      "Page - Exists: True\n"
     ]
    }
   ],
   "source": [
    "page_py = wiki_wiki.page('legalize it') #sbaglia signif\n",
    "print(\"Page - Exists: %s\" % page_py.exists())"
   ]
  },
  {
   "cell_type": "code",
   "execution_count": 64,
   "id": "2f22e7e7",
   "metadata": {},
   "outputs": [
    {
     "name": "stdout",
     "output_type": "stream",
     "text": [
      "Page - Summary: \n"
     ]
    }
   ],
   "source": [
    "print(\"Page - Summary: %s\" % page_py.summary[0:800])"
   ]
  },
  {
   "cell_type": "code",
   "execution_count": null,
   "id": "5ead5a1f",
   "metadata": {},
   "outputs": [],
   "source": []
  },
  {
   "cell_type": "code",
   "execution_count": 65,
   "id": "2078e8d7",
   "metadata": {},
   "outputs": [
    {
     "name": "stdout",
     "output_type": "stream",
     "text": [
      "Page - Exists: True\n"
     ]
    }
   ],
   "source": [
    "page_py = wiki_wiki.page('atomkraft')\n",
    "print(\"Page - Exists: %s\" % page_py.exists())"
   ]
  },
  {
   "cell_type": "code",
   "execution_count": 66,
   "id": "3f0e7639",
   "metadata": {},
   "outputs": [
    {
     "name": "stdout",
     "output_type": "stream",
     "text": [
      "Page - Summary: Atomkraft are  an English speed metal band from Newcastle, who were part of the new wave of British heavy metal movement. They formed in 1979, disbanded 1988 and reformed in 2005. Their \"Total Metal\" approach is somewhere between fellow NWOBHM bands such as Motörhead and Venom, punk rock bands such as The Dickies, and early Exodus or Slayer. Lead vocalist/bassist Tony Dolan also fronted Venom for a number of years in the late 1980s and 90s.\n"
     ]
    }
   ],
   "source": [
    "print(\"Page - Summary: %s\" % page_py.summary[0:800])"
   ]
  },
  {
   "cell_type": "code",
   "execution_count": null,
   "id": "88fab95f",
   "metadata": {},
   "outputs": [],
   "source": []
  },
  {
   "cell_type": "code",
   "execution_count": 67,
   "id": "45d93b6f",
   "metadata": {},
   "outputs": [
    {
     "name": "stdout",
     "output_type": "stream",
     "text": [
      "Page - Exists: True\n"
     ]
    }
   ],
   "source": [
    "page_py = wiki_wiki.page('ilmastolakko')\n",
    "print(\"Page - Exists: %s\" % page_py.exists())"
   ]
  },
  {
   "cell_type": "code",
   "execution_count": 68,
   "id": "3e47fe5d",
   "metadata": {},
   "outputs": [
    {
     "name": "stdout",
     "output_type": "stream",
     "text": [
      "Page - Summary: School Strike for Climate (Swedish: Skolstrejk för klimatet), also known variously as Fridays for Future (FFF), Youth for Climate, Climate Strike or Youth Strike for Climate, is an international movement of school students who skip Friday classes to participate in demonstrations to demand action from political leaders to prevent climate change and for the fossil fuel industry to transition to renewable energy.\n",
      "Publicity and widespread organising began after Swedish pupil Greta Thunberg staged a protest in August 2018 outside of the Swedish Riksdag (parliament), holding a sign that read \"Skolstrejk för klimatet\" (\"School strike for climate\").A global strike on 15 March 2019 gathered more than one million strikers in 2,200 strikes organised in 125 countries. On 24 May 2019, in the second glo\n"
     ]
    }
   ],
   "source": [
    "print(\"Page - Summary: %s\" % page_py.summary[0:800])"
   ]
  },
  {
   "cell_type": "code",
   "execution_count": null,
   "id": "76d323bd",
   "metadata": {},
   "outputs": [],
   "source": []
  },
  {
   "cell_type": "code",
   "execution_count": 69,
   "id": "9178a740",
   "metadata": {},
   "outputs": [
    {
     "name": "stdout",
     "output_type": "stream",
     "text": [
      "Page - Exists: True\n"
     ]
    }
   ],
   "source": [
    "page_py = wiki_wiki.page('uk')\n",
    "print(\"Page - Exists: %s\" % page_py.exists())"
   ]
  },
  {
   "cell_type": "code",
   "execution_count": 70,
   "id": "82613340",
   "metadata": {},
   "outputs": [
    {
     "name": "stdout",
     "output_type": "stream",
     "text": [
      "Page - Summary: The United Kingdom of Great Britain and Northern Ireland, commonly known as the United Kingdom (UK) or Britain, is a sovereign country in Europe, off the north-western coast of the continental mainland. It comprises England, Wales, Scotland, and Northern Ireland. The United Kingdom includes the island of Great Britain, the north-eastern part of the island of Ireland, and many smaller islands within the British Isles. Northern Ireland shares a land border with the Republic of Ireland; otherwise, the United Kingdom is surrounded by the Atlantic Ocean, the North Sea, the English Channel, the Celtic Sea and the Irish Sea. The total area of the United Kingdom is 242,495 square kilometres (93,628 sq mi), with an estimated 2020 population of more than 67 million people.The United Kingdom is a uni\n"
     ]
    }
   ],
   "source": [
    "print(\"Page - Summary: %s\" % page_py.summary[0:800])"
   ]
  },
  {
   "cell_type": "code",
   "execution_count": null,
   "id": "0322ce59",
   "metadata": {},
   "outputs": [],
   "source": []
  },
  {
   "cell_type": "code",
   "execution_count": 72,
   "id": "50442ae6",
   "metadata": {},
   "outputs": [
    {
     "name": "stdout",
     "output_type": "stream",
     "text": [
      "Page - Exists: True\n"
     ]
    }
   ],
   "source": [
    "page_py = wiki_wiki.page('Greenhouse Gases') #ghg\n",
    "print(\"Page - Exists: %s\" % page_py.exists())"
   ]
  },
  {
   "cell_type": "code",
   "execution_count": 73,
   "id": "9704ed38",
   "metadata": {},
   "outputs": [
    {
     "name": "stdout",
     "output_type": "stream",
     "text": [
      "Page - Summary: A greenhouse gas (GHG or GhG) is a gas that absorbs and emits radiant energy within the thermal infrared range, causing the greenhouse effect. The primary greenhouse gases in Earth's atmosphere are water vapor (H2O), carbon dioxide (CO2), methane (CH4), nitrous oxide (N2O), and ozone (O3). Without greenhouse gases, the average temperature of Earth's surface would be about −18 °C (0 °F), rather than the present average of 15 °C (59 °F). The atmospheres of Venus, Mars and Titan also contain greenhouse gases.\n",
      "Human activities since the beginning of the Industrial Revolution (around 1750) have increased the atmospheric concentration of carbon dioxide by almost 50%, from 280 ppm in 1750 to 419 ppm in 2021. The last time the atmospheric concentration of carbon dioxide was this high was over 3 mi\n"
     ]
    }
   ],
   "source": [
    "print(\"Page - Summary: %s\" % page_py.summary[0:800])"
   ]
  },
  {
   "cell_type": "code",
   "execution_count": null,
   "id": "8e4f4687",
   "metadata": {},
   "outputs": [],
   "source": []
  },
  {
   "cell_type": "code",
   "execution_count": 79,
   "id": "1cb6fdd2",
   "metadata": {},
   "outputs": [
    {
     "name": "stdout",
     "output_type": "stream",
     "text": [
      "Page - Exists: True\n"
     ]
    }
   ],
   "source": [
    "page_py = wiki_wiki.page('basilicata')\n",
    "print(\"Page - Exists: %s\" % page_py.exists())"
   ]
  },
  {
   "cell_type": "code",
   "execution_count": 80,
   "id": "1501a759",
   "metadata": {},
   "outputs": [
    {
     "name": "stdout",
     "output_type": "stream",
     "text": [
      "Page - Summary: Basilicata (UK: , US: , Italian: [baziliˈkaːta]), also known by its ancient name Lucania (, also US: , Italian: [luˈkaːnja]), is an administrative region in Southern Italy, bordering on Campania to the west, Apulia to the north and east, and Calabria to the south. It has two coastlines: a 30-km stretch on the Tyrrhenian Sea between Campania and Calabria, and a longer coastline along the Gulf of Taranto between Calabria and Apulia. The region can be thought of as the \"instep\" of Italy, with Calabria functioning as the \"toe\" and Apulia the \"heel\".\n",
      "The region covers about 10,000 km2 (3,900 sq mi). In 2010 the population was slightly under 600,000. The regional capital is Potenza. The region is divided into two provinces: Potenza and Matera.Its inhabitants are generally known as Lucanians (Ita\n"
     ]
    }
   ],
   "source": [
    "print(\"Page - Summary: %s\" % page_py.summary[0:800])"
   ]
  },
  {
   "cell_type": "code",
   "execution_count": null,
   "id": "32ecaab6",
   "metadata": {},
   "outputs": [],
   "source": []
  },
  {
   "cell_type": "code",
   "execution_count": 81,
   "id": "244ecb66",
   "metadata": {},
   "outputs": [
    {
     "name": "stdout",
     "output_type": "stream",
     "text": [
      "Page - Exists: True\n"
     ]
    }
   ],
   "source": [
    "page_py = wiki_wiki.page('london')\n",
    "print(\"Page - Exists: %s\" % page_py.exists())"
   ]
  },
  {
   "cell_type": "code",
   "execution_count": 82,
   "id": "278e7ea1",
   "metadata": {},
   "outputs": [
    {
     "name": "stdout",
     "output_type": "stream",
     "text": [
      "Page - Summary: London is the capital and largest city of England and the United Kingdom, with a population of just over 9 million. It stands on the River Thames in south-east England at the head of a 50-mile (80 km) estuary down to the North Sea, and has been a major settlement for two millennia. The City of London, its ancient core and financial centre, was founded by the Romans as Londinium and retains boundaries close to its medieval ones. Since the 19th century, the name \"London\" has also referred to the metropolis around this core, historically split between the counties of Middlesex, Essex, Surrey, Kent, and Hertfordshire, which largely comprises Greater London, governed by the Greater London Authority. The City of Westminster, to the west of the City of London, has for centuries held the national \n"
     ]
    }
   ],
   "source": [
    "print(\"Page - Summary: %s\" % page_py.summary[0:800])"
   ]
  },
  {
   "cell_type": "code",
   "execution_count": null,
   "id": "b0976f1b",
   "metadata": {},
   "outputs": [],
   "source": []
  },
  {
   "cell_type": "code",
   "execution_count": 83,
   "id": "0075d742",
   "metadata": {},
   "outputs": [
    {
     "name": "stdout",
     "output_type": "stream",
     "text": [
      "Page - Exists: True\n"
     ]
    }
   ],
   "source": [
    "page_py = wiki_wiki.page('wildlife')\n",
    "print(\"Page - Exists: %s\" % page_py.exists())"
   ]
  },
  {
   "cell_type": "code",
   "execution_count": 84,
   "id": "ee1efdba",
   "metadata": {},
   "outputs": [
    {
     "name": "stdout",
     "output_type": "stream",
     "text": [
      "Page - Summary: Wildlife refers to undomesticated animal species, but has come to include all organisms that grow or live wild in an area without being introduced by humans. Wildlife was also synonymous to game: those birds and mammals that were hunted for sport. Wildlife can be found in all ecosystems. Deserts, plains, grasslands, woodlands, forests, and other areas, including the most developed urban areas, all have distinct forms of wildlife. While the term in popular culture usually refers to animals that are untouched by human factors, most scientists agree that much wildlife is affected by human activities. Some wildlife threaten human safety, health, property, and quality of life. However, many wild animals, even the dangerous ones, have value to human beings. This value might be economic, educatio\n"
     ]
    }
   ],
   "source": [
    "print(\"Page - Summary: %s\" % page_py.summary[0:800])"
   ]
  },
  {
   "cell_type": "code",
   "execution_count": null,
   "id": "788ae4bb",
   "metadata": {},
   "outputs": [],
   "source": []
  },
  {
   "cell_type": "code",
   "execution_count": 87,
   "id": "eee641b1",
   "metadata": {},
   "outputs": [
    {
     "name": "stdout",
     "output_type": "stream",
     "text": [
      "Page - Exists: False\n"
     ]
    }
   ],
   "source": [
    "page_py = wiki_wiki.page('by 2020 we rise up') #slogan\n",
    "print(\"Page - Exists: %s\" % page_py.exists())"
   ]
  },
  {
   "cell_type": "code",
   "execution_count": 86,
   "id": "e3e377f7",
   "metadata": {},
   "outputs": [
    {
     "name": "stdout",
     "output_type": "stream",
     "text": [
      "Page - Summary: \n"
     ]
    }
   ],
   "source": [
    "print(\"Page - Summary: %s\" % page_py.summary[0:800])"
   ]
  },
  {
   "cell_type": "code",
   "execution_count": null,
   "id": "dbf6ad5d",
   "metadata": {},
   "outputs": [],
   "source": []
  },
  {
   "cell_type": "code",
   "execution_count": 91,
   "id": "7e7ec79e",
   "metadata": {},
   "outputs": [
    {
     "name": "stdout",
     "output_type": "stream",
     "text": [
      "Page - Exists: True\n"
     ]
    }
   ],
   "source": [
    "page_py = wiki_wiki.page('just transition')\n",
    "print(\"Page - Exists: %s\" % page_py.exists())"
   ]
  },
  {
   "cell_type": "code",
   "execution_count": 92,
   "id": "3a23a3b9",
   "metadata": {},
   "outputs": [
    {
     "name": "stdout",
     "output_type": "stream",
     "text": [
      "Page - Summary: Just transition is a framework developed by the trade union movement to encompass a range of social interventions needed to secure workers' rights and livelihoods when economies are shifting to sustainable production, primarily combating climate change and protecting biodiversity. In Europe, advocates for a just transition want to unite social and climate justice, for example, for coal workers in coal-dependent developing regions who lack employment opportunities beyond coal.\n"
     ]
    }
   ],
   "source": [
    "print(\"Page - Summary: %s\" % page_py.summary[0:800])"
   ]
  },
  {
   "cell_type": "code",
   "execution_count": null,
   "id": "8982c394",
   "metadata": {},
   "outputs": [],
   "source": []
  },
  {
   "cell_type": "code",
   "execution_count": 94,
   "id": "5242b3ac",
   "metadata": {},
   "outputs": [
    {
     "name": "stdout",
     "output_type": "stream",
     "text": [
      "Page - Exists: True\n"
     ]
    }
   ],
   "source": [
    "page_py = wiki_wiki.page('North Rhine-Westphalia')\n",
    "print(\"Page - Exists: %s\" % page_py.exists())"
   ]
  },
  {
   "cell_type": "code",
   "execution_count": 95,
   "id": "ae7a1fb9",
   "metadata": {},
   "outputs": [
    {
     "name": "stdout",
     "output_type": "stream",
     "text": [
      "Page - Summary: North Rhine-Westphalia (German: Nordrhein-Westfalen, pronounced [ˌnɔʁtʁaɪn vɛstˈfaːlən] (listen); Limburgish: Noordrien-Wesfale [ˈnoːʀtʀiːn βæsˈfaːlə]; Low German: Noordrhien-Westfalen; Kölsch: Noodrhing-Wäßßfaale), commonly shortened to NRW (German: [ɛnʔɛʁˈveː] (listen)), is a state (Land) in Western Germany. With more than 17.9 million inhabitants, it is the most populous state of Germany. Apart from the city-states, it is also the most densely populated state in Germany. Covering an area of 34,084 square kilometres (13,160 sq mi), it is the fourth-largest German state by size.\n",
      "North Rhine-Westphalia features 30 of the 81 German municipalities with over 100,000 inhabitants, including Cologne (over 1 million), the state capital Düsseldorf, Dortmund and Essen (all about 600,000 inhabitants\n"
     ]
    }
   ],
   "source": [
    "print(\"Page - Summary: %s\" % page_py.summary[0:800])"
   ]
  },
  {
   "cell_type": "code",
   "execution_count": null,
   "id": "64cd33fd",
   "metadata": {},
   "outputs": [],
   "source": []
  },
  {
   "cell_type": "code",
   "execution_count": 98,
   "id": "fd9ee95e",
   "metadata": {},
   "outputs": [
    {
     "name": "stdout",
     "output_type": "stream",
     "text": [
      "Page - Exists: True\n"
     ]
    }
   ],
   "source": [
    "page_py = wiki_wiki.page('floods')\n",
    "print(\"Page - Exists: %s\" % page_py.exists())"
   ]
  },
  {
   "cell_type": "code",
   "execution_count": 99,
   "id": "9aaa0878",
   "metadata": {},
   "outputs": [
    {
     "name": "stdout",
     "output_type": "stream",
     "text": [
      "Page - Summary: A flood is an overflow of water (or rarely other fluids) that submerges land that is usually dry. In the sense of \"flowing water\", the word may also be applied to the inflow of the tide. Floods are an area of study of the discipline hydrology and are of significant concern in agriculture, civil engineering and public health.   Human changes to the environment often increase the intensity and frequency of flooding, for example land use changes such as deforestation and removal of wetlands, changes in waterway course or flood controls such as with levees, and larger environmental issues such as climate change and sea level rise. In particular climate change's increased rainfall and extreme weather events increases the severity of other causes for flooding, resulting in more intense floods an\n"
     ]
    }
   ],
   "source": [
    "print(\"Page - Summary: %s\" % page_py.summary[0:800])"
   ]
  },
  {
   "cell_type": "code",
   "execution_count": null,
   "id": "995eae50",
   "metadata": {},
   "outputs": [],
   "source": []
  },
  {
   "cell_type": "code",
   "execution_count": 100,
   "id": "a02edb0d",
   "metadata": {},
   "outputs": [
    {
     "name": "stdout",
     "output_type": "stream",
     "text": [
      "Page - Exists: True\n"
     ]
    }
   ],
   "source": [
    "page_py = wiki_wiki.page('nyc')\n",
    "print(\"Page - Exists: %s\" % page_py.exists())"
   ]
  },
  {
   "cell_type": "code",
   "execution_count": 101,
   "id": "747c488b",
   "metadata": {},
   "outputs": [
    {
     "name": "stdout",
     "output_type": "stream",
     "text": [
      "Page - Summary: New York, often called New York City (NYC) to distinguish it from the State of New York, is the most populous city in the United States. With a 2020 population of 8,804,190 distributed over 300.46 square miles (778.2 km2), New York City is also the most densely populated major city in the United States. Located at the southern tip of the state of New York, the city is the center of the New York metropolitan area, the largest metropolitan area in the world by urban area. With over 20.1 million people in its metropolitan statistical area and 23.5 million in its combined statistical area as of 2020, New York is one of the world's most populous megacities. New York City is a global cultural, financial, and media center with a significant influence on commerce, entertainment, research, technolo\n"
     ]
    }
   ],
   "source": [
    "print(\"Page - Summary: %s\" % page_py.summary[0:800])"
   ]
  },
  {
   "cell_type": "code",
   "execution_count": null,
   "id": "814af4b1",
   "metadata": {},
   "outputs": [],
   "source": []
  },
  {
   "cell_type": "code",
   "execution_count": 105,
   "id": "4796886e",
   "metadata": {},
   "outputs": [
    {
     "name": "stdout",
     "output_type": "stream",
     "text": [
      "Page - Exists: True\n"
     ]
    }
   ],
   "source": [
    "page_py = wiki_wiki.page('stopshell') #stop shell\n",
    "print(\"Page - Exists: %s\" % page_py.exists())"
   ]
  },
  {
   "cell_type": "code",
   "execution_count": 180,
   "id": "52ec68f8",
   "metadata": {},
   "outputs": [
    {
     "name": "stdout",
     "output_type": "stream",
     "text": [
      "Shell plc is a British multinational oil and gas company headquartered in London, England.[3] Shell is a public limited company with a primary listing on the London Stock Exchange (LSE) and secondary listings on Euronext Amsterdam and the New York Stock Exchange. It is one of the oil and gas \"supermajors\" and by revenue and profits is one of the largest companies in the world, ranking within the top 10 of the Fortune global 500 since 2000.\n"
     ]
    }
   ],
   "source": [
    "print('Shell plc is a British multinational oil and gas company headquartered in London, England.[3] Shell is a public limited company with a primary listing on the London Stock Exchange (LSE) and secondary listings on Euronext Amsterdam and the New York Stock Exchange. It is one of the oil and gas \"supermajors\" and by revenue and profits is one of the largest companies in the world, ranking within the top 10 of the Fortune global 500 since 2000.')"
   ]
  },
  {
   "cell_type": "code",
   "execution_count": null,
   "id": "507435c6",
   "metadata": {},
   "outputs": [],
   "source": []
  },
  {
   "cell_type": "code",
   "execution_count": 107,
   "id": "b7609fa0",
   "metadata": {},
   "outputs": [
    {
     "name": "stdout",
     "output_type": "stream",
     "text": [
      "Page - Exists: False\n"
     ]
    }
   ],
   "source": [
    "page_py = wiki_wiki.page('polluters out')\n",
    "print(\"Page - Exists: %s\" % page_py.exists())"
   ]
  },
  {
   "cell_type": "code",
   "execution_count": 108,
   "id": "05ae0e5d",
   "metadata": {},
   "outputs": [
    {
     "name": "stdout",
     "output_type": "stream",
     "text": [
      "Page - Summary: \n"
     ]
    }
   ],
   "source": [
    "print(\"Page - Summary: %s\" % page_py.summary[0:800])"
   ]
  },
  {
   "cell_type": "code",
   "execution_count": null,
   "id": "93b9161f",
   "metadata": {},
   "outputs": [],
   "source": []
  },
  {
   "cell_type": "code",
   "execution_count": 111,
   "id": "45846c36",
   "metadata": {},
   "outputs": [
    {
     "name": "stdout",
     "output_type": "stream",
     "text": [
      "Page - Exists: False\n"
     ]
    }
   ],
   "source": [
    "page_py = wiki_wiki.page('tempo limit')\n",
    "print(\"Page - Exists: %s\" % page_py.exists())"
   ]
  },
  {
   "cell_type": "code",
   "execution_count": 112,
   "id": "34a56e0a",
   "metadata": {},
   "outputs": [
    {
     "name": "stdout",
     "output_type": "stream",
     "text": [
      "Page - Summary: \n"
     ]
    }
   ],
   "source": [
    "print(\"Page - Summary: %s\" % page_py.summary[0:800])"
   ]
  },
  {
   "cell_type": "code",
   "execution_count": null,
   "id": "aa1386a1",
   "metadata": {},
   "outputs": [],
   "source": []
  },
  {
   "cell_type": "code",
   "execution_count": 115,
   "id": "97b922a3",
   "metadata": {},
   "outputs": [
    {
     "name": "stdout",
     "output_type": "stream",
     "text": [
      "Page - Exists: True\n"
     ]
    }
   ],
   "source": [
    "page_py = wiki_wiki.page('air pollution')\n",
    "print(\"Page - Exists: %s\" % page_py.exists())"
   ]
  },
  {
   "cell_type": "code",
   "execution_count": 116,
   "id": "e069aa4e",
   "metadata": {},
   "outputs": [
    {
     "name": "stdout",
     "output_type": "stream",
     "text": [
      "Page - Summary: Air pollution is the contamination of air due to the presence of substances in the atmosphere that are harmful to the health of humans and other living beings, or cause damage to the climate or to materials. There are many different types of air pollutants, such as gases (including ammonia, carbon monoxide, sulfur dioxide, nitrous oxides, methane, carbon dioxide and chlorofluorocarbons), particulates (both organic and inorganic), and biological molecules. Air pollution can cause diseases, allergies, and even death to humans; it can also cause harm to other living organisms such as animals and food crops, and may damage the natural environment (for example, climate change, ozone depletion or habitat degradation) or built environment (for example, acid rain). Air pollution can be caused by b\n"
     ]
    }
   ],
   "source": [
    "print(\"Page - Summary: %s\" % page_py.summary[0:800])"
   ]
  },
  {
   "cell_type": "code",
   "execution_count": null,
   "id": "e5c29f38",
   "metadata": {},
   "outputs": [],
   "source": []
  },
  {
   "cell_type": "code",
   "execution_count": null,
   "id": "55a9f456",
   "metadata": {},
   "outputs": [],
   "source": [
    "page_py = wiki_wiki.page('')\n",
    "print(\"Page - Exists: %s\" % page_py.exists())"
   ]
  },
  {
   "cell_type": "code",
   "execution_count": null,
   "id": "a89e512b",
   "metadata": {},
   "outputs": [],
   "source": [
    "print(\"Page - Summary: %s\" % page_py.summary[0:800])"
   ]
  },
  {
   "cell_type": "code",
   "execution_count": null,
   "id": "67a84734",
   "metadata": {},
   "outputs": [],
   "source": []
  },
  {
   "cell_type": "code",
   "execution_count": 119,
   "id": "d3ea4bbb",
   "metadata": {},
   "outputs": [
    {
     "name": "stdout",
     "output_type": "stream",
     "text": [
      "Page - Exists: False\n"
     ]
    }
   ],
   "source": [
    "page_py = wiki_wiki.page('climate march')\n",
    "print(\"Page - Exists: %s\" % page_py.exists())"
   ]
  },
  {
   "cell_type": "code",
   "execution_count": 120,
   "id": "22a59c56",
   "metadata": {},
   "outputs": [
    {
     "name": "stdout",
     "output_type": "stream",
     "text": [
      "Page - Summary: \n"
     ]
    }
   ],
   "source": [
    "print(\"Page - Summary: %s\" % page_py.summary[0:800])"
   ]
  },
  {
   "cell_type": "code",
   "execution_count": null,
   "id": "8156ca23",
   "metadata": {},
   "outputs": [],
   "source": []
  },
  {
   "cell_type": "code",
   "execution_count": 123,
   "id": "70872231",
   "metadata": {},
   "outputs": [
    {
     "name": "stdout",
     "output_type": "stream",
     "text": [
      "Page - Exists: True\n"
     ]
    }
   ],
   "source": [
    "page_py = wiki_wiki.page('tell the truth')\n",
    "print(\"Page - Exists: %s\" % page_py.exists())"
   ]
  },
  {
   "cell_type": "code",
   "execution_count": 124,
   "id": "6e90d384",
   "metadata": {},
   "outputs": [
    {
     "name": "stdout",
     "output_type": "stream",
     "text": [
      "Page - Summary: Tell the Truth may refer to:\n"
     ]
    }
   ],
   "source": [
    "print(\"Page - Summary: %s\" % page_py.summary[0:800])"
   ]
  },
  {
   "cell_type": "code",
   "execution_count": null,
   "id": "5e9aa62a",
   "metadata": {},
   "outputs": [],
   "source": []
  },
  {
   "cell_type": "code",
   "execution_count": 126,
   "id": "5e623d17",
   "metadata": {},
   "outputs": [
    {
     "name": "stdout",
     "output_type": "stream",
     "text": [
      "Page - Exists: True\n"
     ]
    }
   ],
   "source": [
    "page_py = wiki_wiki.page('social justice')\n",
    "print(\"Page - Exists: %s\" % page_py.exists())"
   ]
  },
  {
   "cell_type": "code",
   "execution_count": 127,
   "id": "9dc88d28",
   "metadata": {},
   "outputs": [
    {
     "name": "stdout",
     "output_type": "stream",
     "text": [
      "Page - Summary: Social justice is justice in terms of the distribution of wealth, opportunities, and privileges within a society. In Western and Asian cultures, the concept of social justice has often referred to the process of ensuring that individuals fulfill their societal roles and receive what was their due from society. In the current movements for social justice, the emphasis has been on the breaking of barriers for social mobility, the creation of safety nets, and economic justice. Social justice assigns rights and duties in the institutions of society, which enables people to receive the basic benefits and burdens of cooperation. The relevant institutions often include taxation, social insurance, public health, public school, public services, labor law and regulation of markets, to ensure distrib\n"
     ]
    }
   ],
   "source": [
    "print(\"Page - Summary: %s\" % page_py.summary[0:800])"
   ]
  },
  {
   "cell_type": "code",
   "execution_count": null,
   "id": "a97fc0b4",
   "metadata": {},
   "outputs": [],
   "source": []
  },
  {
   "cell_type": "code",
   "execution_count": 128,
   "id": "52d3d23b",
   "metadata": {},
   "outputs": [
    {
     "name": "stdout",
     "output_type": "stream",
     "text": [
      "Page - Exists: True\n"
     ]
    }
   ],
   "source": [
    "page_py = wiki_wiki.page('transportation')\n",
    "print(\"Page - Exists: %s\" % page_py.exists())"
   ]
  },
  {
   "cell_type": "code",
   "execution_count": 129,
   "id": "244893a6",
   "metadata": {},
   "outputs": [
    {
     "name": "stdout",
     "output_type": "stream",
     "text": [
      "Page - Summary: Transport (in British English), or transportation (in American English), is the movement of humans, animals, and goods from one location to another. In other words, the action of transport is defined as a particular movement of an organism or thing from a point A (a place in space) to a point B.  \n",
      "Modes of transport include air, land (rail and road), water, cable, pipeline, and space. The field can be divided into infrastructure, vehicles, and operations. Transport enables trade between people, which is essential for the development of civilizations.\n",
      "Transport infrastructure consists of the fixed installations, including roads, railways, airways, waterways, canals, and pipelines and terminals such as airports, railway stations, bus stations, warehouses, trucking terminals, refueling depots\n"
     ]
    }
   ],
   "source": [
    "print(\"Page - Summary: %s\" % page_py.summary[0:800])"
   ]
  },
  {
   "cell_type": "code",
   "execution_count": null,
   "id": "9ec01534",
   "metadata": {},
   "outputs": [],
   "source": []
  },
  {
   "cell_type": "code",
   "execution_count": 131,
   "id": "2874b7e7",
   "metadata": {},
   "outputs": [
    {
     "name": "stdout",
     "output_type": "stream",
     "text": [
      "Page - Exists: False\n"
     ]
    }
   ],
   "source": [
    "page_py = wiki_wiki.page('world environment day')\n",
    "print(\"Page - Exists: %s\" % page_py.exists())"
   ]
  },
  {
   "cell_type": "code",
   "execution_count": 132,
   "id": "0d5dc114",
   "metadata": {},
   "outputs": [
    {
     "name": "stdout",
     "output_type": "stream",
     "text": [
      "Page - Summary: \n"
     ]
    }
   ],
   "source": [
    "print(\"Page - Summary: %s\" % page_py.summary[0:800])"
   ]
  },
  {
   "cell_type": "code",
   "execution_count": null,
   "id": "d2284033",
   "metadata": {},
   "outputs": [],
   "source": []
  },
  {
   "cell_type": "code",
   "execution_count": 133,
   "id": "aebe1cd8",
   "metadata": {},
   "outputs": [
    {
     "name": "stdout",
     "output_type": "stream",
     "text": [
      "Page - Exists: True\n"
     ]
    }
   ],
   "source": [
    "page_py = wiki_wiki.page('world')\n",
    "print(\"Page - Exists: %s\" % page_py.exists())"
   ]
  },
  {
   "cell_type": "code",
   "execution_count": 134,
   "id": "6dfe73c8",
   "metadata": {},
   "outputs": [
    {
     "name": "stdout",
     "output_type": "stream",
     "text": [
      "Page - Summary: In its most general sense, the term \"world\" refers to the totality of entities, to the whole of reality or to everything that is. The nature of the world has been conceptualized differently in different fields. Some conceptions see the world as unique while others talk of a \"plurality of worlds\". Some treat the world as one simple object while others analyze the world as a complex made up of many parts. In scientific cosmology the world or universe is commonly defined as \"[t]he totality of all space and time; all that is, has been, and will be\". Theories of modality, on the other hand, talk of possible worlds as complete and consistent ways how things could have been. Phenomenology, starting from the horizon of co-given objects present in the periphery of every experience, defines the worl\n"
     ]
    }
   ],
   "source": [
    "print(\"Page - Summary: %s\" % page_py.summary[0:800])"
   ]
  },
  {
   "cell_type": "code",
   "execution_count": null,
   "id": "7bed53a1",
   "metadata": {},
   "outputs": [],
   "source": []
  },
  {
   "cell_type": "code",
   "execution_count": 135,
   "id": "378c4f40",
   "metadata": {},
   "outputs": [
    {
     "name": "stdout",
     "output_type": "stream",
     "text": [
      "Page - Exists: True\n"
     ]
    }
   ],
   "source": [
    "page_py = wiki_wiki.page('trees')\n",
    "print(\"Page - Exists: %s\" % page_py.exists())"
   ]
  },
  {
   "cell_type": "code",
   "execution_count": 136,
   "id": "6292223c",
   "metadata": {},
   "outputs": [
    {
     "name": "stdout",
     "output_type": "stream",
     "text": [
      "Page - Summary: In botany, a tree is a perennial plant with an elongated stem, or trunk, usually supporting branches and leaves. In some usages, the definition of a tree may be narrower, including only woody plants with secondary growth, plants that are usable as lumber or plants above a specified height. In wider definitions, the taller palms, tree ferns, bananas, and bamboos are also trees. Trees are not a taxonomic group but include a variety of plant species that have independently evolved a trunk and branches as a way to tower above other plants to compete for sunlight. The majority of tree species are angiosperms or hardwoods; of the rest, many are gymnosperms or softwoods. Trees tend to be long-lived, some reaching several thousand years old. Trees have been in existence for 370 million years. It i\n"
     ]
    }
   ],
   "source": [
    "print(\"Page - Summary: %s\" % page_py.summary[0:800])"
   ]
  },
  {
   "cell_type": "code",
   "execution_count": null,
   "id": "6040e4c1",
   "metadata": {},
   "outputs": [],
   "source": []
  },
  {
   "cell_type": "code",
   "execution_count": 137,
   "id": "a2c6e8f0",
   "metadata": {},
   "outputs": [
    {
     "name": "stdout",
     "output_type": "stream",
     "text": [
      "Page - Exists: True\n"
     ]
    }
   ],
   "source": [
    "page_py = wiki_wiki.page('circular economy')\n",
    "print(\"Page - Exists: %s\" % page_py.exists())"
   ]
  },
  {
   "cell_type": "code",
   "execution_count": 138,
   "id": "3d41cf50",
   "metadata": {},
   "outputs": [
    {
     "name": "stdout",
     "output_type": "stream",
     "text": [
      "Page - Summary: A circular economy (also referred to as circularity and CE) is a model of production and consumption, which involves sharing, leasing, reusing, repairing, refurbishing and recycling existing materials and products as long as possible. CE aims to tackle global challenges as climate change, biodiversity loss, waste, and pollution by emphasizing the design-based implementation of the three base principles of the model. The three principles required for the transformation to a circular economy are: eliminating waste and pollution, circulating products and materials, and the regeneration of nature. CE is defined in contradistinction to the traditional linear economy. The idea and concepts of circular economy (CE) have been studied extensively in academia, business, and government over the past \n"
     ]
    }
   ],
   "source": [
    "print(\"Page - Summary: %s\" % page_py.summary[0:800])"
   ]
  },
  {
   "cell_type": "code",
   "execution_count": null,
   "id": "ba40686d",
   "metadata": {},
   "outputs": [],
   "source": []
  },
  {
   "cell_type": "code",
   "execution_count": null,
   "id": "f6d43e1a",
   "metadata": {},
   "outputs": [],
   "source": [
    "page_py = wiki_wiki.page('')\n",
    "print(\"Page - Exists: %s\" % page_py.exists())"
   ]
  },
  {
   "cell_type": "code",
   "execution_count": null,
   "id": "d62a3b38",
   "metadata": {},
   "outputs": [],
   "source": [
    "print(\"Page - Summary: %s\" % page_py.summary[0:800])"
   ]
  },
  {
   "cell_type": "code",
   "execution_count": null,
   "id": "5f0111ed",
   "metadata": {},
   "outputs": [],
   "source": []
  },
  {
   "cell_type": "code",
   "execution_count": 141,
   "id": "1530b26a",
   "metadata": {},
   "outputs": [
    {
     "name": "stdout",
     "output_type": "stream",
     "text": [
      "Page - Exists: False\n"
     ]
    }
   ],
   "source": [
    "page_py = wiki_wiki.page('cop 25 madrid')\n",
    "print(\"Page - Exists: %s\" % page_py.exists())"
   ]
  },
  {
   "cell_type": "code",
   "execution_count": 142,
   "id": "13e9b20a",
   "metadata": {},
   "outputs": [
    {
     "name": "stdout",
     "output_type": "stream",
     "text": [
      "The 2019 United Nations Climate Change Conference, also known as COP25, was the 25th United Nations Climate Change conference. It was held in Madrid, Spain, from 2 to 13 December 2019 under the presidency of the Chilean government. The conference incorporated the 25th Conference of the Parties to the United Nations Framework Convention on Climate Change (UNFCCC), the 15th meeting of the parties to the Kyoto Protocol (CMP15), and the second meeting of the parties to the Paris Agreement (CMA2).\n"
     ]
    }
   ],
   "source": [
    "print('The 2019 United Nations Climate Change Conference, also known as COP25, was the 25th United Nations Climate Change conference. It was held in Madrid, Spain, from 2 to 13 December 2019 under the presidency of the Chilean government. The conference incorporated the 25th Conference of the Parties to the United Nations Framework Convention on Climate Change (UNFCCC), the 15th meeting of the parties to the Kyoto Protocol (CMP15), and the second meeting of the parties to the Paris Agreement (CMA2).')\n"
   ]
  },
  {
   "cell_type": "code",
   "execution_count": null,
   "id": "9ce829b1",
   "metadata": {},
   "outputs": [],
   "source": []
  },
  {
   "cell_type": "code",
   "execution_count": 144,
   "id": "a737850f",
   "metadata": {},
   "outputs": [
    {
     "name": "stdout",
     "output_type": "stream",
     "text": [
      "Page - Exists: False\n"
     ]
    }
   ],
   "source": [
    "page_py = wiki_wiki.page('stand with ukraine')\n",
    "print(\"Page - Exists: %s\" % page_py.exists())"
   ]
  },
  {
   "cell_type": "code",
   "execution_count": null,
   "id": "328a797f",
   "metadata": {},
   "outputs": [],
   "source": [
    "print(\"Page - Summary: %s\" % page_py.summary[0:800])"
   ]
  },
  {
   "cell_type": "code",
   "execution_count": null,
   "id": "104d7498",
   "metadata": {},
   "outputs": [],
   "source": []
  },
  {
   "cell_type": "code",
   "execution_count": 145,
   "id": "dc9a6697",
   "metadata": {},
   "outputs": [
    {
     "name": "stdout",
     "output_type": "stream",
     "text": [
      "Page - Exists: True\n"
     ]
    }
   ],
   "source": [
    "page_py = wiki_wiki.page('hongkong')\n",
    "print(\"Page - Exists: %s\" % page_py.exists())"
   ]
  },
  {
   "cell_type": "code",
   "execution_count": 146,
   "id": "bcb759a1",
   "metadata": {},
   "outputs": [
    {
     "name": "stdout",
     "output_type": "stream",
     "text": [
      "Page - Summary: Hong Kong (; Chinese: 香港, Cantonese: [hœ́ːŋ.kɔ̌ːŋ] (listen)), officially the Hong Kong Special Administrative Region of the People's Republic of China (abbr. Hong Kong SAR or HKSAR), is a city and special administrative region of China on the eastern Pearl River Delta in South China. With 7.5 million residents of various nationalities in a 1,104-square-kilometre (426 sq mi) territory, Hong Kong is one of the most densely populated places in the world. Hong Kong is also a major global financial centre and one of the most developed cities in the world.\n",
      "Hong Kong was established as a colony of the British Empire after the Qing Empire ceded Hong Kong Island from Xin'an County at the end of the First Opium War in 1841 then again in 1842. The colony expanded to the Kowloon Peninsula in 1860 afte\n"
     ]
    }
   ],
   "source": [
    "print(\"Page - Summary: %s\" % page_py.summary[0:800])"
   ]
  },
  {
   "cell_type": "code",
   "execution_count": null,
   "id": "0fcedc50",
   "metadata": {},
   "outputs": [],
   "source": []
  },
  {
   "cell_type": "code",
   "execution_count": 151,
   "id": "15bbea85",
   "metadata": {},
   "outputs": [
    {
     "name": "stdout",
     "output_type": "stream",
     "text": [
      "Page - Exists: True\n"
     ]
    }
   ],
   "source": [
    "page_py = wiki_wiki.page('total')\n",
    "print(\"Page - Exists: %s\" % page_py.exists())"
   ]
  },
  {
   "cell_type": "code",
   "execution_count": 154,
   "id": "6f25badc",
   "metadata": {},
   "outputs": [
    {
     "name": "stdout",
     "output_type": "stream",
     "text": [
      "TotalEnergies SE is a French multinational integrated energy and petroleum company founded in 1924 and one of the seven supermajor oil companies. Its businesses cover the entire oil and gas chain, from crude oil and natural gas exploration and production to power generation, transportation, refining, petroleum product marketing, and international crude oil and product trading.\n"
     ]
    }
   ],
   "source": [
    "print(\"TotalEnergies SE is a French multinational integrated energy and petroleum company founded in 1924 and one of the seven supermajor oil companies. Its businesses cover the entire oil and gas chain, from crude oil and natural gas exploration and production to power generation, transportation, refining, petroleum product marketing, and international crude oil and product trading.\")"
   ]
  },
  {
   "cell_type": "code",
   "execution_count": null,
   "id": "4595a151",
   "metadata": {},
   "outputs": [],
   "source": []
  },
  {
   "cell_type": "code",
   "execution_count": null,
   "id": "48e8e4cf",
   "metadata": {},
   "outputs": [],
   "source": [
    "page_py = wiki_wiki.page('cop26glasgow')\n",
    "print(\"Page - Exists: %s\" % page_py.exists())"
   ]
  },
  {
   "cell_type": "code",
   "execution_count": 155,
   "id": "91c8faab",
   "metadata": {},
   "outputs": [
    {
     "name": "stdout",
     "output_type": "stream",
     "text": [
      "The 2021 United Nations Climate Change Conference, more commonly referred to as COP26, was the 26th United Nations Climate Change conference, held at the SEC Centre in Glasgow, Scotland, United Kingdom, from 31 October to 13 November 2021. The president of the conference was UK cabinet minister Alok Sharma.[1][2] Delayed for a year due to the COVID-19 pandemic,[3] it was the 26th Conference of the Parties (COP) to the United Nations Framework Convention on Climate Change (UNFCCC), the third meeting of the parties to the 2015 Paris Agreement (designated CMA1, CMA2, CMA3), and the 16th meeting of the parties to the Kyoto Protocol (CMP16).\n"
     ]
    }
   ],
   "source": [
    "print('The 2021 United Nations Climate Change Conference, more commonly referred to as COP26, was the 26th United Nations Climate Change conference, held at the SEC Centre in Glasgow, Scotland, United Kingdom, from 31 October to 13 November 2021. The president of the conference was UK cabinet minister Alok Sharma.[1][2] Delayed for a year due to the COVID-19 pandemic,[3] it was the 26th Conference of the Parties (COP) to the United Nations Framework Convention on Climate Change (UNFCCC), the third meeting of the parties to the 2015 Paris Agreement (designated CMA1, CMA2, CMA3), and the 16th meeting of the parties to the Kyoto Protocol (CMP16).')"
   ]
  },
  {
   "cell_type": "code",
   "execution_count": null,
   "id": "f58efeae",
   "metadata": {},
   "outputs": [],
   "source": []
  },
  {
   "cell_type": "code",
   "execution_count": 157,
   "id": "32a82b5d",
   "metadata": {},
   "outputs": [
    {
     "name": "stdout",
     "output_type": "stream",
     "text": [
      "Page - Exists: True\n"
     ]
    }
   ],
   "source": [
    "page_py = wiki_wiki.page('zero waste')\n",
    "print(\"Page - Exists: %s\" % page_py.exists())"
   ]
  },
  {
   "cell_type": "code",
   "execution_count": 158,
   "id": "5274a1be",
   "metadata": {},
   "outputs": [
    {
     "name": "stdout",
     "output_type": "stream",
     "text": [
      "Page - Summary: Zero waste is a set of principles focused on waste prevention that encourages the redesign of resource life cycles so that all products are reused. The goal is for no trash to be sent to landfills, incinerators or the ocean. Currently, only 9% of plastic is recycled. In a zero waste system, material will be reused until the optimum level of consumption is reached. The definition adopted by the Zero Waste International Alliance (ZWIA) is:\n",
      "\n",
      "Zero Waste: The conservation of all resources by means of responsible production, consumption, reuse and recovery of all products, packaging, and materials, without burning them, and without discharges to land, water or air that threaten the environment or human health.\n",
      "\n",
      "Zero waste refers to waste prevention as opposed to end-of-pipe waste management.  It\n"
     ]
    }
   ],
   "source": [
    "print(\"Page - Summary: %s\" % page_py.summary[0:800])"
   ]
  },
  {
   "cell_type": "code",
   "execution_count": null,
   "id": "b8c76175",
   "metadata": {},
   "outputs": [],
   "source": []
  },
  {
   "cell_type": "code",
   "execution_count": null,
   "id": "b44788cb",
   "metadata": {},
   "outputs": [],
   "source": [
    "page_py = wiki_wiki.page('')\n",
    "print(\"Page - Exists: %s\" % page_py.exists())"
   ]
  },
  {
   "cell_type": "code",
   "execution_count": null,
   "id": "7aa02ab2",
   "metadata": {},
   "outputs": [],
   "source": [
    "print(\"Page - Summary: %s\" % page_py.summary[0:800])"
   ]
  },
  {
   "cell_type": "code",
   "execution_count": null,
   "id": "8f8b075e",
   "metadata": {},
   "outputs": [],
   "source": []
  },
  {
   "cell_type": "code",
   "execution_count": 160,
   "id": "637b28b2",
   "metadata": {},
   "outputs": [
    {
     "name": "stdout",
     "output_type": "stream",
     "text": [
      "Page - Exists: True\n"
     ]
    }
   ],
   "source": [
    "page_py = wiki_wiki.page('lucknow')\n",
    "print(\"Page - Exists: %s\" % page_py.exists())"
   ]
  },
  {
   "cell_type": "code",
   "execution_count": 161,
   "id": "a231ec97",
   "metadata": {},
   "outputs": [
    {
     "name": "stdout",
     "output_type": "stream",
     "text": [
      "Page - Summary: Lucknow (, Hindustani: [ˈləkʰnəuː] (listen) Lakhnaū) is the capital and the largest city of the Indian state of Uttar Pradesh and it is also the second largest urban agglomeration in Uttar Pradesh. Lucknow is the administrative headquarters of the eponymous district and division. Having a population of 2.8 million as per 2011 census, it is the eleventh most populous city and the twelfth-most populous urban agglomeration of India. Lucknow has always been a multicultural city that flourished as a North Indian cultural and artistic hub, and the seat of power of Nawabs in the 18th and 19th centuries. It continues to be an important centre of governance, administration, education, commerce, aerospace, finance, pharmaceuticals, technology, design, culture, tourism, music and poetry.The city stan\n"
     ]
    }
   ],
   "source": [
    "print(\"Page - Summary: %s\" % page_py.summary[0:800])"
   ]
  },
  {
   "cell_type": "code",
   "execution_count": null,
   "id": "736b5770",
   "metadata": {},
   "outputs": [],
   "source": []
  },
  {
   "cell_type": "code",
   "execution_count": 164,
   "id": "5d7efb7d",
   "metadata": {},
   "outputs": [
    {
     "name": "stdout",
     "output_type": "stream",
     "text": [
      "Page - Exists: True\n"
     ]
    }
   ],
   "source": [
    "page_py = wiki_wiki.page('europa')\n",
    "print(\"Page - Exists: %s\" % page_py.exists())"
   ]
  },
  {
   "cell_type": "code",
   "execution_count": 168,
   "id": "70481839",
   "metadata": {},
   "outputs": [
    {
     "name": "stdout",
     "output_type": "stream",
     "text": [
      "Europe is a continent, also recognised as a part of Eurasia, located entirely in the Northern Hemisphere and mostly in the Eastern Hemisphere. Comprising the westernmost peninsulas of Eurasia,[10] it shares the continental landmass of Afro-Eurasia with both Asia and Africa. It is bordered by the Arctic Ocean to the north, the Atlantic Ocean to the west, the Mediterranean Sea to the south and Asia to the east. \n"
     ]
    }
   ],
   "source": [
    "print('Europe is a continent, also recognised as a part of Eurasia, located entirely in the Northern Hemisphere and mostly in the Eastern Hemisphere. Comprising the westernmost peninsulas of Eurasia,[10] it shares the continental landmass of Afro-Eurasia with both Asia and Africa. It is bordered by the Arctic Ocean to the north, the Atlantic Ocean to the west, the Mediterranean Sea to the south and Asia to the east. ')"
   ]
  },
  {
   "cell_type": "code",
   "execution_count": null,
   "id": "a322ad35",
   "metadata": {},
   "outputs": [],
   "source": []
  },
  {
   "cell_type": "code",
   "execution_count": 166,
   "id": "d74ff19b",
   "metadata": {},
   "outputs": [
    {
     "name": "stdout",
     "output_type": "stream",
     "text": [
      "Page - Exists: True\n"
     ]
    }
   ],
   "source": [
    "page_py = wiki_wiki.page('animals')\n",
    "print(\"Page - Exists: %s\" % page_py.exists())"
   ]
  },
  {
   "cell_type": "code",
   "execution_count": 167,
   "id": "ccdb7b0a",
   "metadata": {},
   "outputs": [
    {
     "name": "stdout",
     "output_type": "stream",
     "text": [
      "Page - Summary: Animals are multicellular, eukaryotic organisms in the biological kingdom Animalia. With few exceptions, animals consume organic material, breathe oxygen, are able to move, can reproduce sexually, and go through an ontogenetic stage in which their body consists of a hollow sphere of cells, the blastula, during embryonic development. Over 1.5 million living animal species have been described—of which around 1 million are insects—but it has been estimated there are over 7 million animal species in total. Animals range in length from 8.5 micrometres (0.00033 in) to 33.6 metres (110 ft). They have complex interactions with each other and their environments, forming intricate food webs. The scientific study of animals is known as zoology.\n",
      "Most living animal species are in Bilateria, a clade who\n"
     ]
    }
   ],
   "source": [
    "print(\"Page - Summary: %s\" % page_py.summary[0:800])"
   ]
  },
  {
   "cell_type": "code",
   "execution_count": null,
   "id": "9c3a783a",
   "metadata": {},
   "outputs": [],
   "source": []
  },
  {
   "cell_type": "code",
   "execution_count": 170,
   "id": "cf6ca702",
   "metadata": {},
   "outputs": [
    {
     "name": "stdout",
     "output_type": "stream",
     "text": [
      "Page - Exists: True\n"
     ]
    }
   ],
   "source": [
    "page_py = wiki_wiki.page('governo')\n",
    "print(\"Page - Exists: %s\" % page_py.exists())"
   ]
  },
  {
   "cell_type": "code",
   "execution_count": 171,
   "id": "14610b7d",
   "metadata": {},
   "outputs": [
    {
     "name": "stdout",
     "output_type": "stream",
     "text": [
      "Page - Summary: Governo is a winemaking technique reportedly invented in Tuscany in the 14th century to help complete fermentation and stabilize the wine. The technique involves saving a batch of harvested grapes and allowing them to partially dry. If fermentation of the main batch starts to slow or appears to be nearing stuck fermentation, the half dried grapes are added to the must which then gives the yeast cells a new source of sugar to enliven the batch. From there, the must can be fermented dry or stopped with the wine having a higher level of residual sugar. The process was widely used in the Chianti zones until the advent of temperature controlled fermentation tanks. From Tuscany the technique spread to Marche and Umbria where it is sometimes used today. In the Marche the technique is most often u\n"
     ]
    }
   ],
   "source": [
    "print(\"Page - Summary: %s\" % page_py.summary[0:800])"
   ]
  },
  {
   "cell_type": "code",
   "execution_count": null,
   "id": "23b5c7cc",
   "metadata": {},
   "outputs": [],
   "source": []
  },
  {
   "cell_type": "code",
   "execution_count": 172,
   "id": "bd514cf9",
   "metadata": {},
   "outputs": [
    {
     "name": "stdout",
     "output_type": "stream",
     "text": [
      "Page - Exists: True\n"
     ]
    }
   ],
   "source": [
    "page_py = wiki_wiki.page('emobility')\n",
    "print(\"Page - Exists: %s\" % page_py.exists())"
   ]
  },
  {
   "cell_type": "code",
   "execution_count": 173,
   "id": "8b157096",
   "metadata": {},
   "outputs": [
    {
     "name": "stdout",
     "output_type": "stream",
     "text": [
      "Page - Summary: An electric vehicle (EV) is a vehicle that uses one or more electric motors for propulsion. It can be powered by a collector system, with electricity from extravehicular sources, or it can be powered autonomously by a battery (sometimes charged by solar panels, or by converting fuel to electricity using fuel cells or a generator). EVs include, but are not limited to, road and rail vehicles, surface and underwater vessels, electric aircraft and electric spacecraft.\n",
      "EVs first came into existence in the mid-19th century, when electricity was among the preferred methods for motor vehicle propulsion, providing a level of comfort and ease of operation that could not be achieved by the gasoline cars of the time. Internal combustion engines were the dominant propulsion method for cars and trucks f\n"
     ]
    }
   ],
   "source": [
    "print(\"Page - Summary: %s\" % page_py.summary[0:800])"
   ]
  },
  {
   "cell_type": "code",
   "execution_count": null,
   "id": "74baad93",
   "metadata": {},
   "outputs": [],
   "source": []
  },
  {
   "cell_type": "code",
   "execution_count": 174,
   "id": "e3d15413",
   "metadata": {},
   "outputs": [
    {
     "name": "stdout",
     "output_type": "stream",
     "text": [
      "Page - Exists: True\n"
     ]
    }
   ],
   "source": [
    "page_py = wiki_wiki.page('chile')\n",
    "print(\"Page - Exists: %s\" % page_py.exists())"
   ]
  },
  {
   "cell_type": "code",
   "execution_count": 175,
   "id": "2967cd8f",
   "metadata": {},
   "outputs": [
    {
     "name": "stdout",
     "output_type": "stream",
     "text": [
      "Page - Summary: Chile, officially the Republic of Chile, is a country in the western part of South America. It is the southernmost country in the world, and the closest to Antarctica; occupying a long and narrow strip of land between the Andes to the east and the Pacific Ocean to the west. Chile covers an area of 756,096 square kilometers (291,930 sq mi), with a population of 17.5 million as of 2017. It shares land borders with Peru to the north, Bolivia to the north-east, Argentina to the east, and the Drake Passage in the far south. Chile also controls the Pacific islands of Juan Fernández, Isla Salas y Gómez, Desventuradas, and Easter Island in Oceania. It also claims about 1,250,000 square kilometers (480,000 sq mi) of Antarctica under the Chilean Antarctic Territory. The country's capital and largest\n"
     ]
    }
   ],
   "source": [
    "print(\"Page - Summary: %s\" % page_py.summary[0:800])"
   ]
  },
  {
   "cell_type": "code",
   "execution_count": null,
   "id": "1136a365",
   "metadata": {},
   "outputs": [],
   "source": []
  },
  {
   "cell_type": "code",
   "execution_count": 176,
   "id": "7791b456",
   "metadata": {},
   "outputs": [
    {
     "name": "stdout",
     "output_type": "stream",
     "text": [
      "Page - Exists: False\n"
     ]
    }
   ],
   "source": [
    "page_py = wiki_wiki.page('peoplearedying')\n",
    "print(\"Page - Exists: %s\" % page_py.exists())"
   ]
  },
  {
   "cell_type": "code",
   "execution_count": 177,
   "id": "545ccdf1",
   "metadata": {},
   "outputs": [
    {
     "name": "stdout",
     "output_type": "stream",
     "text": [
      "Page - Summary: \n"
     ]
    }
   ],
   "source": [
    "print(\"Page - Summary: %s\" % page_py.summary[0:800])"
   ]
  },
  {
   "cell_type": "code",
   "execution_count": null,
   "id": "da596682",
   "metadata": {},
   "outputs": [],
   "source": []
  },
  {
   "cell_type": "code",
   "execution_count": 178,
   "id": "25c87e67",
   "metadata": {},
   "outputs": [
    {
     "name": "stdout",
     "output_type": "stream",
     "text": [
      "Page - Exists: True\n"
     ]
    }
   ],
   "source": [
    "page_py = wiki_wiki.page('onu')\n",
    "print(\"Page - Exists: %s\" % page_py.exists())"
   ]
  },
  {
   "cell_type": "code",
   "execution_count": 179,
   "id": "d4522493",
   "metadata": {},
   "outputs": [
    {
     "name": "stdout",
     "output_type": "stream",
     "text": [
      "Page - Summary: ONU may refer to:\n",
      "\n",
      "United Nations in other languages, e.g. French Organisation des Nations Unies and Arabic: منظمة الأمم المتحدة\n",
      "Olivet Nazarene University\n",
      "Ohio Northern University\n",
      "Optical Network Unit, the IEEE term for what is called an Optical Network Terminal in ITU-T terminology\n",
      "Order of Nunavut\n",
      "Organizacion de Narcotraficantes Unidos, a Puerto Rican criminal organization\n"
     ]
    }
   ],
   "source": [
    "print(\"Page - Summary: %s\" % page_py.summary[0:800])"
   ]
  },
  {
   "cell_type": "code",
   "execution_count": null,
   "id": "8de0b356",
   "metadata": {},
   "outputs": [],
   "source": []
  },
  {
   "cell_type": "code",
   "execution_count": null,
   "id": "ac0b6da0",
   "metadata": {},
   "outputs": [],
   "source": [
    "page_py = wiki_wiki.page('')\n",
    "print(\"Page - Exists: %s\" % page_py.exists())"
   ]
  },
  {
   "cell_type": "code",
   "execution_count": null,
   "id": "e3951c32",
   "metadata": {},
   "outputs": [],
   "source": [
    "print(\"Page - Summary: %s\" % page_py.summary[0:800])"
   ]
  },
  {
   "cell_type": "code",
   "execution_count": null,
   "id": "359123f8",
   "metadata": {},
   "outputs": [],
   "source": []
  },
  {
   "cell_type": "code",
   "execution_count": null,
   "id": "5d9448ef",
   "metadata": {},
   "outputs": [],
   "source": [
    "page_py = wiki_wiki.page('')\n",
    "print(\"Page - Exists: %s\" % page_py.exists())"
   ]
  },
  {
   "cell_type": "code",
   "execution_count": null,
   "id": "8f102cfd",
   "metadata": {},
   "outputs": [],
   "source": [
    "print(\"Page - Summary: %s\" % page_py.summary[0:800])"
   ]
  },
  {
   "cell_type": "code",
   "execution_count": null,
   "id": "a7e6e569",
   "metadata": {},
   "outputs": [],
   "source": []
  },
  {
   "cell_type": "code",
   "execution_count": null,
   "id": "60033ec9",
   "metadata": {},
   "outputs": [],
   "source": [
    "page_py = wiki_wiki.page('')\n",
    "print(\"Page - Exists: %s\" % page_py.exists())"
   ]
  },
  {
   "cell_type": "code",
   "execution_count": null,
   "id": "53d30af3",
   "metadata": {},
   "outputs": [],
   "source": [
    "print(\"Page - Summary: %s\" % page_py.summary[0:800])"
   ]
  },
  {
   "cell_type": "code",
   "execution_count": null,
   "id": "057a893c",
   "metadata": {},
   "outputs": [],
   "source": []
  },
  {
   "cell_type": "code",
   "execution_count": null,
   "id": "f770ce1a",
   "metadata": {},
   "outputs": [],
   "source": [
    "page_py = wiki_wiki.page('')\n",
    "print(\"Page - Exists: %s\" % page_py.exists())"
   ]
  },
  {
   "cell_type": "code",
   "execution_count": null,
   "id": "ff53264d",
   "metadata": {},
   "outputs": [],
   "source": [
    "print(\"Page - Summary: %s\" % page_py.summary[0:800])"
   ]
  }
 ],
 "metadata": {
  "kernelspec": {
   "display_name": "Python 3",
   "language": "python",
   "name": "python3"
  },
  "language_info": {
   "codemirror_mode": {
    "name": "ipython",
    "version": 3
   },
   "file_extension": ".py",
   "mimetype": "text/x-python",
   "name": "python",
   "nbconvert_exporter": "python",
   "pygments_lexer": "ipython3",
   "version": "3.8.8"
  }
 },
 "nbformat": 4,
 "nbformat_minor": 5
}
