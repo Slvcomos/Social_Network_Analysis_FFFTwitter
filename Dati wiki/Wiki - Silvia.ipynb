{
 "cells": [
  {
   "cell_type": "code",
   "execution_count": 1,
   "id": "976b90eb",
   "metadata": {},
   "outputs": [
    {
     "name": "stdout",
     "output_type": "stream",
     "text": [
      "Collecting Wikipedia-API\n",
      "  Downloading Wikipedia-API-0.5.4.tar.gz (18 kB)\n",
      "Requirement already satisfied: requests in c:\\users\\mir-9\\anaconda3\\lib\\site-packages (from Wikipedia-API) (2.28.0)\n",
      "Requirement already satisfied: idna<4,>=2.5 in c:\\users\\mir-9\\anaconda3\\lib\\site-packages (from requests->Wikipedia-API) (3.2)\n",
      "Requirement already satisfied: charset-normalizer~=2.0.0 in c:\\users\\mir-9\\anaconda3\\lib\\site-packages (from requests->Wikipedia-API) (2.0.4)\n",
      "Requirement already satisfied: urllib3<1.27,>=1.21.1 in c:\\users\\mir-9\\anaconda3\\lib\\site-packages (from requests->Wikipedia-API) (1.26.7)\n",
      "Requirement already satisfied: certifi>=2017.4.17 in c:\\users\\mir-9\\anaconda3\\lib\\site-packages (from requests->Wikipedia-API) (2022.6.15)\n",
      "Building wheels for collected packages: Wikipedia-API\n",
      "  Building wheel for Wikipedia-API (setup.py): started\n",
      "  Building wheel for Wikipedia-API (setup.py): finished with status 'done'\n",
      "  Created wheel for Wikipedia-API: filename=Wikipedia_API-0.5.4-py3-none-any.whl size=13475 sha256=340293f7674c6b36bd588b96cd3e4ba70d587e9f4a4603744f43ab1794829af3\n",
      "  Stored in directory: c:\\users\\mir-9\\appdata\\local\\pip\\cache\\wheels\\c7\\cf\\1a\\c300428dd51654cdadc921abdff75acaa7cc80b7151a2f0695\n",
      "Successfully built Wikipedia-API\n",
      "Installing collected packages: Wikipedia-API\n",
      "Successfully installed Wikipedia-API-0.5.4\n",
      "Note: you may need to restart the kernel to use updated packages.\n"
     ]
    }
   ],
   "source": [
    "pip install Wikipedia-API"
   ]
  },
  {
   "cell_type": "code",
   "execution_count": 1,
   "id": "562fc621",
   "metadata": {},
   "outputs": [],
   "source": [
    "import wikipediaapi"
   ]
  },
  {
   "cell_type": "code",
   "execution_count": 2,
   "id": "6afaae87",
   "metadata": {},
   "outputs": [],
   "source": [
    "#Inserimento lingua di interesse\n",
    "wiki_wiki = wikipediaapi.Wikipedia('de')"
   ]
  },
  {
   "cell_type": "code",
   "execution_count": 3,
   "id": "88346bf2",
   "metadata": {},
   "outputs": [
    {
     "name": "stdout",
     "output_type": "stream",
     "text": [
      "Page - Exists: True\n"
     ]
    }
   ],
   "source": [
<<<<<<< Updated upstream
    "#Ricerca pagina su wiki  bisogna inserire la parola dentro ' '\n",
    "page_py = wiki_wiki.page('')\n",
=======
    "#Ricerca pagina su wiki\n",
    "page_py = wiki_wiki.page('hitzewelle')\n",
>>>>>>> Stashed changes
    "print(\"Page - Exists: %s\" % page_py.exists())"
   ]
  },
  {
   "cell_type": "code",
   "execution_count": 7,
   "id": "ba0c5c1b",
   "metadata": {},
   "outputs": [
    {
     "name": "stdout",
     "output_type": "stream",
     "text": [
      "Page - Summary: Eine Hitzewelle ist in Meteorologie und Klimatologie eine ungewöhnlich lange Phase aufeinander folgender ungewöhnlich heißer Tage. Etwas abgeschwächt spricht man auch von Wärmewelle für Phasen abnorm hoher Temperaturen. Hitzewellen sind Extremwetterereignisse, die die menschliche Gesundheit, die Ökosysteme und die Infrastruktur schädigen können.\n"
     ]
    }
   ],
   "source": [
    "#estrazione significato\n",
    "print(\"Page - Summary: %s\" % page_py.summary[0:800])"
   ]
  },
  {
   "cell_type": "code",
   "execution_count": null,
   "id": "7b4eead5",
   "metadata": {},
   "outputs": [],
   "source": []
  },
  {
   "cell_type": "code",
   "execution_count": 8,
   "id": "8650cc42",
   "metadata": {},
   "outputs": [
    {
     "name": "stdout",
     "output_type": "stream",
     "text": [
      "Page - Exists: True\n"
     ]
    }
   ],
   "source": [
    "page_py = wiki_wiki.page('laufzeitverlängerung')\n",
    "print(\"Page - Exists: %s\" % page_py.exists())"
   ]
  },
  {
   "cell_type": "code",
   "execution_count": 9,
   "id": "73688125",
   "metadata": {},
   "outputs": [
    {
     "name": "stdout",
     "output_type": "stream",
     "text": [
      "Page - Summary: Eine Laufzeitverlängerung deutscher Kernkraftwerke wurde gefordert nachdem im Jahr 2000 erstmals ein „Atomausstieg“ vereinbart worden war. Im Herbst 2010 wurden die Reststrommenge verlängert, aber angesichts der Nuklearkatastrophe von Fukushima wurden im Sommer einige ältere Kernkraftwerke stillgelegt, die Abschaltung der modernen Reaktoren wurde bis Ende 2022 festgeschrieben. \n",
      "Der Ausstieg aus der Kernenergie wurde erstmals im Jahr 2000 in dem Atomkonsens genannten Vertrag der Bundesrepublik mit den Betreibergesellschaften der KKW geregelt. Auf Grundlage des Vertrags wurde das Atomgesetz 2002 mit den Stimmen der damaligen rot-grünen Bundestagsmehrheit novelliert.Der Bundestag beschloss am 28. Oktober 2010 eine weitere Novelle des Atomgesetzes (Bundestagsmehrheit durch CDU/CSU und FDP) für\n"
     ]
    }
   ],
   "source": [
    "print(\"Page - Summary: %s\" % page_py.summary[0:800])"
   ]
  },
  {
   "cell_type": "code",
   "execution_count": null,
   "id": "2faa13db",
   "metadata": {},
   "outputs": [],
   "source": []
  },
  {
   "cell_type": "code",
   "execution_count": 7,
   "id": "64da3d8a",
   "metadata": {},
   "outputs": [
    {
     "name": "stdout",
     "output_type": "stream",
     "text": [
      "Page - Exists: True\n"
     ]
    }
   ],
   "source": [
    "page_py = wiki_wiki.page('Atomkraftwerk') #tag akw\n",
    "print(\"Page - Exists: %s\" % page_py.exists())"
   ]
  },
  {
   "cell_type": "code",
   "execution_count": 8,
   "id": "9718ce09",
   "metadata": {},
   "outputs": [
    {
     "name": "stdout",
     "output_type": "stream",
     "text": [
      "Page - Summary: Ein Kernkraftwerk (KKW), auch Atomkraftwerk (AKW), ist ein Wärmekraftwerk zur Gewinnung elektrischer Energie aus Kernenergie durch kontrollierte Kernspaltung (Fission).\n",
      "Physikalische Grundlage von Kernkraftwerken ist die Energiefreisetzung bei der Spaltung von schweren Atomkernen. Die Bindungsenergie pro Nukleon ist in den Spaltprodukten größer als vorher im spaltbaren Kern. Diese Energiedifferenz wird bei der Kernspaltung – hauptsächlich als Bewegungsenergie der Spaltprodukte – freigesetzt. Mittels Abbremsung der Spaltprodukte durch das umgebende Material entsteht Wärme, mit der Wasserdampf erzeugt wird.\n",
      "Größere Kernkraftwerke bestehen aus mehreren Blöcken, die unabhängig voneinander elektrischen Strom erzeugen. Jeder Block enthält einen Kernreaktor.\n",
      "Im April 2020 waren weltweit 442 Kernr\n"
     ]
    }
   ],
   "source": [
    "print(\"Page - Summary: %s\" % page_py.summary[0:800])"
   ]
  },
  {
   "cell_type": "code",
   "execution_count": null,
   "id": "9d8e4781",
   "metadata": {},
   "outputs": [],
   "source": []
  },
  {
   "cell_type": "code",
   "execution_count": 9,
   "id": "0fec65ce",
   "metadata": {},
   "outputs": [
    {
     "name": "stdout",
     "output_type": "stream",
     "text": [
      "Page - Exists: True\n"
     ]
    }
   ],
   "source": [
    "page_py = wiki_wiki.page('lützerath') #lützerathbleibt\n",
    "print(\"Page - Exists: %s\" % page_py.exists())"
   ]
  },
  {
   "cell_type": "code",
   "execution_count": 10,
   "id": "02a3c77c",
   "metadata": {},
   "outputs": [
    {
     "name": "stdout",
     "output_type": "stream",
     "text": [
      "Page - Summary: Lützerath ist ein Weiler der Stadt Erkelenz in Nordrhein-Westfalen. Der Energieversorgungskonzern RWE plant, Lützerath vollständig abzureißen, um den Tagebau Garzweiler auszudehnen, wie schon den unmittelbar südöstlich gelegenen Nachbarort Immerath. Die Umsiedlung des Ortes begann 2006 und hätte nach vorherigen Plänen des Unternehmens im September 2021 abgeschlossen sein sollen, wogegen sich bis heute Widerstand regt. In Anlehnung an das Wort Hambi, das sich im Hinblick auf die Protestaktionen im Hambacher Forst gebildet hatte, entstand unter dort agierenden Aktivisten für den Ort der Name „Lützi“. Seit 2021 wird in der Bundes- und Landespolitik vermehrt über den Erhalt des Dorfes diskutiert.\n",
      "Der Umsiedlungszielort ist, wie für Immerath, das weiter westlich gelegene neue Dorf Immerath (neu\n"
     ]
    }
   ],
   "source": [
    "print(\"Page - Summary: %s\" % page_py.summary[0:800])"
   ]
  },
  {
   "cell_type": "code",
   "execution_count": null,
   "id": "de8fb79e",
   "metadata": {},
   "outputs": [],
   "source": []
  },
  {
   "cell_type": "code",
   "execution_count": 11,
   "id": "5fb966fc",
   "metadata": {},
   "outputs": [
    {
     "name": "stdout",
     "output_type": "stream",
     "text": [
      "Page - Exists: True\n"
     ]
    }
   ],
   "source": [
    "page_py = wiki_wiki.page('AfD')  #noafd\n",
    "print(\"Page - Exists: %s\" % page_py.exists())"
   ]
  },
  {
   "cell_type": "code",
   "execution_count": 12,
   "id": "f6ee27f0",
   "metadata": {},
   "outputs": [
    {
     "name": "stdout",
     "output_type": "stream",
     "text": [
      "Page - Summary: Die Alternative für Deutschland (Kurzbezeichnung AfD) ist eine rechtspopulistische und rechtsextreme politische Partei in Deutschland.\n",
      "Sie wurde 2013 als EU-skeptische und rechtsliberale Partei gegründet. Im Juli 2015 spaltete sich unter Bernd Lucke ein wirtschaftsliberaler Flügel ab und formierte sich als Partei Allianz für Fortschritt und Aufbruch (ALFA), während sich der überwiegende Rest der Partei unter Frauke Petry und Jörg Meuthen deutlich nach rechts entwickelte. Unmittelbar nach der Bundestagswahl 2017 trat auch die damals amtierende Parteivorsitzende Frauke Petry aus der AfD aus und schloss sich der von ihr initiierten Blauen Partei an. Im Januar 2022 verließ auch Jörg Meuthen die AfD und legte seinen Parteivorsitz mit sofortiger Wirkung nieder, da die Partei sich sehr weit nach \n"
     ]
    }
   ],
   "source": [
    "print(\"Page - Summary: %s\" % page_py.summary[0:800])"
   ]
  },
  {
   "cell_type": "code",
   "execution_count": null,
   "id": "ecfd1b6b",
   "metadata": {},
   "outputs": [],
   "source": []
  },
  {
   "cell_type": "code",
   "execution_count": 13,
   "id": "003da298",
   "metadata": {},
   "outputs": [
    {
     "name": "stdout",
     "output_type": "stream",
     "text": [
      "Page - Exists: True\n"
     ]
    }
   ],
   "source": [
    "page_py = wiki_wiki.page('Entkriminalisierung') #entkriminalisierungsofort\n",
    "print(\"Page - Exists: %s\" % page_py.exists())"
   ]
  },
  {
   "cell_type": "code",
   "execution_count": 14,
   "id": "2ff73cc6",
   "metadata": {},
   "outputs": [
    {
     "name": "stdout",
     "output_type": "stream",
     "text": [
      "Page - Summary: Entkriminalisierung ist ein in der rechtspolitischen Diskussion und der Strafrechtsreform gebrauchter Begriff.\n",
      "Entkriminalisierung setzt logischerweise voraus, dass eine Verhaltensweise kriminalisiert ist. Der Vorgang der Kriminalisierung stellt das Gegenstück zur Entkriminalisierung dar. Die Forderung nach Entkriminalisierung geht dahin, bestimmte Verhaltensweisen nicht mehr mit Strafe (und der damit verbundenen besonderen Missbilligung durch die Rechtsgemeinschaft) zu belegen. Ein Beispiel für Entkriminalisierung in der Bundesrepublik Deutschland ist die Herausnahme der Übertretungen aus dem Strafgesetzbuch 1974 und die zuvor erfolgte Schaffung des Gesetzes über Ordnungswidrigkeiten 1968; einige Straftatbestände wurden zu solchen, manche Straftatbestände wurden komplett gestrichen.\n",
      "Weite\n"
     ]
    }
   ],
   "source": [
    "print(\"Page - Summary: %s\" % page_py.summary[0:800])"
   ]
  },
  {
   "cell_type": "code",
   "execution_count": null,
   "id": "c153f25b",
   "metadata": {},
   "outputs": [],
   "source": []
  },
  {
   "cell_type": "code",
   "execution_count": 15,
   "id": "2152e478",
   "metadata": {},
   "outputs": [
    {
     "name": "stdout",
     "output_type": "stream",
     "text": [
      "Page - Exists: True\n"
     ]
    }
   ],
   "source": [
    "page_py = wiki_wiki.page('Karlsruhe')\n",
    "print(\"Page - Exists: %s\" % page_py.exists())"
   ]
  },
  {
   "cell_type": "code",
   "execution_count": 16,
   "id": "0db18761",
   "metadata": {},
   "outputs": [
    {
     "name": "stdout",
     "output_type": "stream",
     "text": [
      "Page - Summary: Karlsruhe (Aussprache [ˈkaɐ̯lsˌʁuːə], , lokal südfränkisch Kallsruh) ist mit 308.436 Einwohnern (31. Dezember 2020) nach der Landeshauptstadt Stuttgart und Mannheim die drittgrößte Stadt des Landes Baden-Württemberg. Sie ist Verwaltungssitz des Regierungsbezirks Karlsruhe und des Landkreises Karlsruhe und bildet selbst einen Stadtkreis (kreisfreie Stadt). Die Stadt ist Oberzentrum für die Region Mittlerer Oberrhein und länderübergreifend für Teile der Südpfalz.\n",
      "Das 1715 vom heutigen Stadtteil Durlach aus als barocke Planstadt gegründete Karlsruhe war Haupt- und Residenzstadt des ehemaligen Landes Baden. Charakteristisch für den ursprünglichen Stadtplan sind die 32 ringsum vom Schloss in die Parkanlagen und den Hardtwald der Oberrheinebene ausstrahlenden Straßen. Nur das südliche Viertel wu\n"
     ]
    }
   ],
   "source": [
    "print(\"Page - Summary: %s\" % page_py.summary[0:800])"
   ]
  },
  {
   "cell_type": "code",
   "execution_count": null,
   "id": "f2999519",
   "metadata": {},
   "outputs": [],
   "source": []
  },
  {
   "cell_type": "code",
   "execution_count": 17,
   "id": "69d6a3d8",
   "metadata": {},
   "outputs": [
    {
     "name": "stdout",
     "output_type": "stream",
     "text": [
      "Page - Exists: True\n"
     ]
    }
   ],
   "source": [
    "page_py = wiki_wiki.page('Olaf Scholz')\n",
    "print(\"Page - Exists: %s\" % page_py.exists())"
   ]
  },
  {
   "cell_type": "code",
   "execution_count": 18,
   "id": "045bd012",
   "metadata": {},
   "outputs": [
    {
     "name": "stdout",
     "output_type": "stream",
     "text": [
      "Page - Summary: Olaf Scholz (* 14. Juni 1958 in Osnabrück) ist ein deutscher Politiker (SPD). Er ist seit dem 8. Dezember 2021 der neunte Bundeskanzler der Bundesrepublik Deutschland.\n",
      "Zuvor war er von Mai bis Oktober 2001 Innensenator von Hamburg, von November 2007 bis Oktober 2009 Bundesminister für Arbeit und Soziales der Bundesrepublik Deutschland, von März 2011 bis März 2018 Erster Bürgermeister von Hamburg sowie im Anschluss bis zu seiner Wahl zum Bundeskanzler am 8. Dezember 2021 Bundesminister der Finanzen und Vizekanzler der Bundesrepublik Deutschland.\n",
      "Von April 2000 bis Juni 2004 sowie von November 2009 bis März 2018 hatte er den Vorsitz der SPD Hamburg inne, von Oktober 2002 bis März 2004 war er Generalsekretär der SPD sowie von November 2009 bis Dezember 2019 einer ihrer stellvertretenden Bunde\n"
     ]
    }
   ],
   "source": [
    "print(\"Page - Summary: %s\" % page_py.summary[0:800])"
   ]
  },
  {
   "cell_type": "code",
   "execution_count": null,
   "id": "afb3d825",
   "metadata": {},
   "outputs": [],
   "source": []
  },
  {
   "cell_type": "code",
   "execution_count": 19,
   "id": "a9804cbc",
   "metadata": {},
   "outputs": [
    {
     "name": "stdout",
     "output_type": "stream",
     "text": [
      "Page - Exists: True\n"
     ]
    }
   ],
   "source": [
    "page_py = wiki_wiki.page('Bundeskanzler')\n",
    "print(\"Page - Exists: %s\" % page_py.exists())"
   ]
  },
  {
   "cell_type": "code",
   "execution_count": 20,
   "id": "bd27be75",
   "metadata": {},
   "outputs": [
    {
     "name": "stdout",
     "output_type": "stream",
     "text": [
      "Page - Summary: Bundeskanzler steht für:\n",
      "\n",
      "Bundeskanzler (Deutschland), deutscher Regierungschef\n",
      "Bundeskanzler (Österreich), österreichischer Regierungschef\n",
      "Bundeskanzler (Schweiz), Leiter der Schweizer Bundeskanzlei\n",
      "Bundeskanzler (Norddeutscher Bund), Exekutive des Norddeutschen BundesSiehe auch:\n",
      "\n",
      "Bundeskanzlerin (D-A-CH-Länder)\n",
      "Altbundeskanzler (ehemalig)\n",
      "Reichskanzler (1871 bis 1945)\n",
      "Staatskanzler (Begriffsklärung)\n",
      "Bundespräsident (Begriffsklärung)\n"
     ]
    }
   ],
   "source": [
    "print(\"Page - Summary: %s\" % page_py.summary[0:800])"
   ]
  },
  {
   "cell_type": "code",
   "execution_count": null,
   "id": "a221d764",
   "metadata": {},
   "outputs": [],
   "source": []
  },
  {
   "cell_type": "code",
   "execution_count": 21,
   "id": "b8265c2b",
   "metadata": {},
   "outputs": [
    {
     "name": "stdout",
     "output_type": "stream",
     "text": [
      "Page - Exists: True\n"
     ]
    }
   ],
   "source": [
    "page_py = wiki_wiki.page('hitze')\n",
    "print(\"Page - Exists: %s\" % page_py.exists())"
   ]
  },
  {
   "cell_type": "code",
   "execution_count": 22,
   "id": "4ee8b407",
   "metadata": {},
   "outputs": [
    {
     "name": "stdout",
     "output_type": "stream",
     "text": [
      "Page - Summary: Den Begriff Hitze verwendet man für eine als ungewöhnlich hoch empfundene Temperatur.\n"
     ]
    }
   ],
   "source": [
    "print(\"Page - Summary: %s\" % page_py.summary[0:800])"
   ]
  },
  {
   "cell_type": "code",
   "execution_count": null,
   "id": "da40dbc9",
   "metadata": {},
   "outputs": [],
   "source": []
  },
  {
   "cell_type": "code",
   "execution_count": 23,
   "id": "9747c877",
   "metadata": {},
   "outputs": [
    {
     "name": "stdout",
     "output_type": "stream",
     "text": [
      "Page - Exists: True\n"
     ]
    }
   ],
   "source": [
    "page_py = wiki_wiki.page('klimaschutz')\n",
    "print(\"Page - Exists: %s\" % page_py.exists())"
   ]
  },
  {
   "cell_type": "code",
   "execution_count": 24,
   "id": "bacb0fa4",
   "metadata": {},
   "outputs": [
    {
     "name": "stdout",
     "output_type": "stream",
     "text": [
      "Page - Summary: Klimaschutz ist der Sammelbegriff für Maßnahmen, die der durch den Menschen verursachten globalen Erwärmung entgegenwirken und mögliche Folgen der globalen Erwärmung abmildern (Mitigation) oder verhindern sollen. Als wichtige Grenze gilt die Zwei-Grad-Schwelle, die nicht überschritten werden sollte, wenn katastrophale Auswirkungen der globalen Erwärmung verhindert werden sollen. Einen gefährlichen Klimawandel zu verhindern gilt als eine der größten Herausforderungen der menschlichen Zivilisation. Da Kohlenstoffdioxid als wichtigster Treiber der gegenwärtigen Erderwärmung sehr lange in der Atmosphäre bleibt und manche Folgen des Klimawandels langfristig und irreversibel sind, werden die politischen Weichenstellungen der Gegenwart und unmittelbaren Zukunft tiefgreifende Auswirkungen für Taus\n"
     ]
    }
   ],
   "source": [
    "print(\"Page - Summary: %s\" % page_py.summary[0:800])"
   ]
  },
  {
   "cell_type": "code",
   "execution_count": null,
   "id": "247717a3",
   "metadata": {},
   "outputs": [],
   "source": []
  },
  {
   "cell_type": "code",
   "execution_count": 25,
   "id": "495f852e",
   "metadata": {},
   "outputs": [
    {
     "name": "stdout",
     "output_type": "stream",
     "text": [
      "Page - Exists: True\n"
     ]
    }
   ],
   "source": [
    "page_py = wiki_wiki.page('passivhaus')\n",
    "print(\"Page - Exists: %s\" % page_py.exists())"
   ]
  },
  {
   "cell_type": "code",
   "execution_count": 26,
   "id": "957df72f",
   "metadata": {},
   "outputs": [
    {
     "name": "stdout",
     "output_type": "stream",
     "text": [
      "Page - Summary: Unter einem Passivhaus wird ein Gebäude verstanden, das aufgrund seiner hohen Wärmedämmung und dem Funktionsprinzip, mittels Wärmetauscher Lüftungswärmeverluste signifikant zu reduzieren, in der Regel keine klassische, wassergeführte Gebäudeheizung benötigt.\n"
     ]
    }
   ],
   "source": [
    "print(\"Page - Summary: %s\" % page_py.summary[0:800])"
   ]
  },
  {
   "cell_type": "code",
   "execution_count": null,
   "id": "32a8d234",
   "metadata": {},
   "outputs": [],
   "source": []
  },
  {
   "cell_type": "code",
   "execution_count": 27,
   "id": "eb338c47",
   "metadata": {},
   "outputs": [
    {
     "name": "stdout",
     "output_type": "stream",
     "text": [
      "Page - Exists: True\n"
     ]
    }
   ],
   "source": [
    "page_py = wiki_wiki.page('kernkraft')\n",
    "print(\"Page - Exists: %s\" % page_py.exists())"
   ]
  },
  {
   "cell_type": "code",
   "execution_count": 28,
   "id": "eed3477c",
   "metadata": {},
   "outputs": [
    {
     "name": "stdout",
     "output_type": "stream",
     "text": [
      "Page - Summary: Kernkraft als physikalischer Begriff bezeichnet:\n",
      "\n",
      "die elektrische Energieerzeugung durch Kernreaktionen, siehe Kernenergie\n",
      "die Restwechselwirkung der starken Wechselwirkung\n",
      "als schwache Kernkraft die schwache WechselwirkungSiehe auch:\n",
      "\n",
      "Kernkraft 400, Lied des deutschen Electronic-Projekts Zombie Nation (1999)\n"
     ]
    }
   ],
   "source": [
    "print(\"Page - Summary: %s\" % page_py.summary[0:800])"
   ]
  },
  {
   "cell_type": "code",
   "execution_count": null,
   "id": "ca41f6f3",
   "metadata": {},
   "outputs": [],
   "source": []
  },
  {
   "cell_type": "code",
   "execution_count": 29,
   "id": "175631d6",
   "metadata": {},
   "outputs": [
    {
     "name": "stdout",
     "output_type": "stream",
     "text": [
      "Page - Exists: True\n"
     ]
    }
   ],
   "source": [
    "page_py = wiki_wiki.page('Öffentlicher Personennahverkehr') #öpnv\n",
    "print(\"Page - Exists: %s\" % page_py.exists()) "
   ]
  },
  {
   "cell_type": "code",
   "execution_count": 30,
   "id": "1e9aa602",
   "metadata": {},
   "outputs": [
    {
     "name": "stdout",
     "output_type": "stream",
     "text": [
      "Page - Summary: Als öffentlicher Personennahverkehr (ÖPNV) wird der Personenverkehr als Teil des öffentlichen Verkehrs (ÖV) im Rahmen der Grundversorgung auf Straße, Schiene, Wasser und mittels Luftseilbahn bezeichnet. Trotz des Begriffs „öffentlicher Personennahverkehr“ ist dieser nicht nur im Nahverkehr, sondern teils auch im Regionalverkehr anzutreffen. Der Begriff grenzt sich jeweils ab vom Individualverkehr (nicht öffentlich), Güterverkehr (nicht Personen) und Fernverkehr (nicht Nahverkehr).\n"
     ]
    }
   ],
   "source": [
    "print(\"Page - Summary: %s\" % page_py.summary[0:800])"
   ]
  },
  {
   "cell_type": "code",
   "execution_count": null,
   "id": "8baa9052",
   "metadata": {},
   "outputs": [],
   "source": []
  },
  {
   "cell_type": "code",
   "execution_count": 31,
   "id": "07487354",
   "metadata": {},
   "outputs": [
    {
     "name": "stdout",
     "output_type": "stream",
     "text": [
      "Page - Exists: True\n"
     ]
    }
   ],
   "source": [
    "page_py = wiki_wiki.page('magdeburg')\n",
    "print(\"Page - Exists: %s\" % page_py.exists())"
   ]
  },
  {
   "cell_type": "code",
   "execution_count": 32,
   "id": "3c2fa156",
   "metadata": {},
   "outputs": [
    {
     "name": "stdout",
     "output_type": "stream",
     "text": [
      "Page - Summary: Magdeburg ([ˈmakdəˌbʊʁk] , regiolektal auch [ˈmaxdəbʊɐ̯ç], niederdeutsch Meideborg [ˈmaɪdebɔɐ̯x]) ist die Hauptstadt des Landes Sachsen-Anhalt. Die Stadt liegt an der Elbe und ist eines der drei Oberzentren des Landes. Mit 236.235 Einwohnern ist sie laut Statistischem Landesamt (Stand 31. Dezember 2020) nach Halle (Saale) die zweitgrößte Stadt Sachsen-Anhalts und die fünftgrößte Stadt der neuen Bundesländer. Magdeburg stand 2019 auf der Liste der Großstädte in Deutschland auf Platz 32.\n",
      "Die heutige Großstadt wurde im Jahr 805 erstmals urkundlich erwähnt. Sie war im Spätmittelalter eine der größten deutschen Städte und Zentrum der Reformation. Der erste Kaiser des Heiligen Römischen Reiches Otto I. ist zusammen mit Otto von Guericke Namenspatron der heutigen „Ottostadt Magdeburg“.\n",
      "Im Jahr 18\n"
     ]
    }
   ],
   "source": [
    "print(\"Page - Summary: %s\" % page_py.summary[0:800])"
   ]
  },
  {
   "cell_type": "code",
   "execution_count": null,
   "id": "0391d30a",
   "metadata": {},
   "outputs": [],
   "source": []
  },
  {
   "cell_type": "code",
   "execution_count": 33,
   "id": "595bec45",
   "metadata": {},
   "outputs": [
    {
     "name": "stdout",
     "output_type": "stream",
     "text": [
      "Page - Exists: True\n"
     ]
    }
   ],
   "source": [
    "page_py = wiki_wiki.page('Robert Habeck') #habeck\n",
    "print(\"Page - Exists: %s\" % page_py.exists())"
   ]
  },
  {
   "cell_type": "code",
   "execution_count": 34,
   "id": "79cf1bc7",
   "metadata": {},
   "outputs": [
    {
     "name": "stdout",
     "output_type": "stream",
     "text": [
      "Page - Summary: Robert Habeck (* 2. September 1969 in Lübeck) ist ein deutscher Politiker (Bündnis 90/Die Grünen) und Schriftsteller. Er ist seit dem 8. Dezember 2021 der Stellvertreter des Bundeskanzlers sowie Bundesminister für Wirtschaft und Klimaschutz im Kabinett Scholz.\n",
      "Vom 27. Januar 2018 bis zum 14. Februar 2022 war er gemeinsam mit Annalena Baerbock Bundesvorsitzender der Partei Bündnis 90/Die Grünen. Für die Bundestagswahl 2021 waren Baerbock und er das Spitzenduo der Grünen, wobei Baerbock Kanzlerkandidatin war.\n",
      "2009 zog Habeck über die Landesliste der Grünen erstmals in den Schleswig-Holsteinischen Landtag ein und wurde dort Fraktionsvorsitzender. Bei der vorgezogenen Neuwahl 2012 sowie bei der Landtagswahl 2017 trat er als Spitzenkandidat seiner Partei an. Von 2012 bis 2018 amtierte er als st\n"
     ]
    }
   ],
   "source": [
    "print(\"Page - Summary: %s\" % page_py.summary[0:800])"
   ]
  },
  {
   "cell_type": "code",
   "execution_count": null,
   "id": "28e585ee",
   "metadata": {},
   "outputs": [],
   "source": []
  },
  {
   "cell_type": "code",
   "execution_count": 35,
   "id": "212d1498",
   "metadata": {},
   "outputs": [
    {
     "name": "stdout",
     "output_type": "stream",
     "text": [
      "Page - Exists: True\n"
     ]
    }
   ],
   "source": [
    "page_py = wiki_wiki.page('Verordnung (EU) 2020/852 Taxonomie-Verordnung') #votethistaxonomydown #taxonomie #eutaxonomie #taxonomy #notmytaxononomy #eutaxonomy\n",
    "print(\"Page - Exists: %s\" % page_py.exists())"
   ]
  },
  {
   "cell_type": "code",
   "execution_count": 36,
   "id": "d1c3876f",
   "metadata": {},
   "outputs": [
    {
     "name": "stdout",
     "output_type": "stream",
     "text": [
      "Page - Summary: Die Verordnung (EU) 2020/852 Taxonomie-Verordnung, Langname Verordnung (EU) 2020/852 des Europäischen Parlaments und des Rates vom Juni 2020 über die Einrichtung eines Rahmens zur Erleichterung nachhaltiger Investitionen und zur Änderung der Verordnung (EU) 2019/2088, ist eine EU-Verordnung, die zum einen Vorgaben für nachhaltige Investitionen definiert und zum anderen die Offenlegungsverordnung ändert.\n",
      "Die Verordnung enthält die Kriterien zur Bestimmung, ob eine Wirtschaftstätigkeit als ökologisch nachhaltig einzustufen ist (Taxonomie), um damit den Grad der ökologischen Nachhaltigkeit einer Investition ermitteln zu können. Sie ist ein zentraler Rechtsakt, der durch Förderung privater Investitionen in grüne und nachhaltige Projekte einen Beitrag zum Europäischen Grünen Deal leisten soll.M\n"
     ]
    }
   ],
   "source": [
    "print(\"Page - Summary: %s\" % page_py.summary[0:800])"
   ]
  },
  {
   "cell_type": "code",
   "execution_count": null,
   "id": "7a7a3540",
   "metadata": {},
   "outputs": [],
   "source": []
  },
  {
   "cell_type": "code",
   "execution_count": 37,
   "id": "e9ab88ea",
   "metadata": {},
   "outputs": [
    {
     "name": "stdout",
     "output_type": "stream",
     "text": [
      "Page - Exists: True\n"
     ]
    }
   ],
   "source": [
    "page_py = wiki_wiki.page('Beruflicher Wiedereinstieg') #wiedereinstieg\n",
    "print(\"Page - Exists: %s\" % page_py.exists())"
   ]
  },
  {
   "cell_type": "code",
   "execution_count": 38,
   "id": "c62fc525",
   "metadata": {},
   "outputs": [
    {
     "name": "stdout",
     "output_type": "stream",
     "text": [
      "Page - Summary: Ein beruflicher Wiedereinstieg ist eine Wiederaufnahme einer Erwerbstätigkeit nach einer beruflichen Auszeit. Der Anlass für die Auszeit kann dabei etwa eine Krankheit, eine Erziehungsphase oder Elternzeit, eine Phase von Arbeitslosigkeit oder ein Sabbaticals gewesen sein. Entsprechend kann es sein, dass während der Dauer der beruflichen Auszeit Krankengeld, Elterngeld oder Arbeitslosengeld bezogen wurde.\n",
      "Im Gegensatz dazu ist der Begriff Berufsrückkehrer, der eine besonders förderungswürdige Personengruppe bezeichnet, restriktiver, da er eine familiär bedingte Erwerbsunterbrechung voraussetzt, während der ein aufsichtsbedürftiges Kind (unter 15 Jahren) oder ein pflegebedürftiger Angehöriger betreut wurde, wobei spätestens ein Jahr nach der Unterbrechung eine Wiederaufnahme der Erwerbstäti\n"
     ]
    }
   ],
   "source": [
    "print(\"Page - Summary: %s\" % page_py.summary[0:800])"
   ]
  },
  {
   "cell_type": "code",
   "execution_count": null,
   "id": "edfac3c4",
   "metadata": {},
   "outputs": [],
   "source": []
  },
  {
   "cell_type": "code",
   "execution_count": 39,
   "id": "b5d27feb",
   "metadata": {},
   "outputs": [
    {
     "name": "stdout",
     "output_type": "stream",
     "text": [
      "Page - Exists: True\n"
     ]
    }
   ],
   "source": [
    "page_py = wiki_wiki.page('handwerk')\n",
    "print(\"Page - Exists: %s\" % page_py.exists())"
   ]
  },
  {
   "cell_type": "code",
   "execution_count": 40,
   "id": "063e9310",
   "metadata": {},
   "outputs": [
    {
     "name": "stdout",
     "output_type": "stream",
     "text": [
      "Page - Summary: Als Handwerk (von mittelhochdeutsch hant-werc, eine Lehnübersetzung zu lateinisch opus manuum und altgriechisch χειρουργία cheirurgía „Handarbeit“) werden zahlreiche gewerbliche Tätigkeiten bezeichnet, die Produkte meist auf Bestellung fertigen oder Dienstleistungen auf Nachfrage erbringen. Der Begriff bezeichnet auch den gesamten Berufsstand. Die handwerkliche Tätigkeit steht der industriellen Massenproduktion gegenüber. Das handwerkliche Gewerbe wird in Deutschland verbindlich durch die Handwerksordnung geregelt.\n"
     ]
    }
   ],
   "source": [
    "print(\"Page - Summary: %s\" % page_py.summary[0:800])"
   ]
  },
  {
   "cell_type": "code",
   "execution_count": null,
   "id": "70fb0003",
   "metadata": {},
   "outputs": [],
   "source": []
  },
  {
   "cell_type": "code",
   "execution_count": 41,
   "id": "5c38bb7d",
   "metadata": {},
   "outputs": [
    {
     "name": "stdout",
     "output_type": "stream",
     "text": [
      "Page - Exists: True\n"
     ]
    }
   ],
   "source": [
    "page_py = wiki_wiki.page('klimakatastrophe')\n",
    "print(\"Page - Exists: %s\" % page_py.exists())"
   ]
  },
  {
   "cell_type": "code",
   "execution_count": 42,
   "id": "a1c41791",
   "metadata": {},
   "outputs": [
    {
     "name": "stdout",
     "output_type": "stream",
     "text": [
      "Page - Summary: Klimakatastrophe ist der Begriff für einen Klimawandel mit weltweiten katastrophalen Wirkungen. Dazu gehört auch eine unkontrollierte Globale Erwärmung, etwa als Treibhaus-Erde-Szenario. Besonders in den Massenmedien verwendet man den Begriff oft als Deutungsrahmen für befürchtete Folgen des menschengemachten Klimawandels. Mitunter bezeichnet man auch in der Klimafolgenforschung drastische Konsequenzen als Klimakatastrophe. Klimakatastrophen dienen als Motive in Literatur und Film. Die derzeitige politische, gesellschaftliche und technologische Klimakrise würde, falls sie nicht gelöst wird, in eine Klimakatastrophe münden.\n"
     ]
    }
   ],
   "source": [
    "print(\"Page - Summary: %s\" % page_py.summary[0:800])"
   ]
  },
  {
   "cell_type": "code",
   "execution_count": null,
   "id": "057476e3",
   "metadata": {},
   "outputs": [],
   "source": []
  },
  {
   "cell_type": "code",
   "execution_count": 43,
   "id": "9948574c",
   "metadata": {},
   "outputs": [
    {
     "name": "stdout",
     "output_type": "stream",
     "text": [
      "Page - Exists: True\n"
     ]
    }
   ],
   "source": [
    "page_py = wiki_wiki.page('klimawandel')\n",
    "print(\"Page - Exists: %s\" % page_py.exists())"
   ]
  },
  {
   "cell_type": "code",
   "execution_count": 44,
   "id": "c82fdbc0",
   "metadata": {},
   "outputs": [
    {
     "name": "stdout",
     "output_type": "stream",
     "text": [
      "Page - Summary: Klimawandel, auch Klimaveränderung, Klimaänderung oder Klimawechsel, ist eine weltweit auftretende Veränderung des Klimas auf der Erde oder erdähnlichen Planeten oder Monden, die eine Atmosphäre besitzen. Die mit einem Klimawandel verbundene Abkühlung oder Erwärmung kann über unterschiedlich lange Zeiträume erfolgen. Ein wichtiges Unterscheidungsmerkmal besteht dabei zwischen jenen Witterungsverläufen, die im Rahmen eines Klimazustands beziehungsweise einer Klimazone erfolgen, und dem Klimawandel selbst, der die Wahrscheinlichkeit für das Auftreten bestimmter Wetterlagen erhöht oder vermindert.\n",
      "\n",
      "Die gegenwärtige, vor allem durch den Menschen verursachte (anthropogene) globale Erwärmung (siehe dort) ist ein Beispiel für einen sehr rasch verlaufenden, aber noch nicht abgeschlossenen Klimawan\n"
     ]
    }
   ],
   "source": [
    "print(\"Page - Summary: %s\" % page_py.summary[0:800])"
   ]
  },
  {
   "cell_type": "code",
   "execution_count": null,
   "id": "3c54f87d",
   "metadata": {},
   "outputs": [],
   "source": []
  },
  {
   "cell_type": "code",
   "execution_count": 45,
   "id": "b346dd76",
   "metadata": {},
   "outputs": [
    {
     "name": "stdout",
     "output_type": "stream",
     "text": [
      "Page - Exists: True\n"
     ]
    }
   ],
   "source": [
    "page_py = wiki_wiki.page('klimarat')\n",
    "print(\"Page - Exists: %s\" % page_py.exists())"
   ]
  },
  {
   "cell_type": "code",
   "execution_count": 46,
   "id": "2f22e7e7",
   "metadata": {},
   "outputs": [
    {
     "name": "stdout",
     "output_type": "stream",
     "text": [
      "Page - Summary: Klimarat steht für:\n",
      "\n",
      "Expertenrat für Klimafragen, ein Gremium der deutschen Bundesregierung\n",
      "Committee on Climate Change in Großbritannien (Vereinigtes Königreich)\n",
      "Hoher Rat für das Klima, ein französisches Gremium\n",
      "Intergovernmental Panel on Climate Change (IPCC), im Deutschen oft als Weltklimarat bezeichnet\n",
      "Europäische Umweltagentur#Wissenschaftlicher Beirat für Klimawandel, ein im Rahmen des Europäischen Klimagesetzes eingerichteter Beirat an der EUA\n",
      "Klimarat der Bürgerinnen und Bürger in Österreich, ein von der Regierung eingesetztes Bürgerforum\n",
      "Bürgerrat Klima – eine Bürgerversammlung zur deutschen Klimapolitik\n"
     ]
    }
   ],
   "source": [
    "print(\"Page - Summary: %s\" % page_py.summary[0:800])"
   ]
  },
  {
   "cell_type": "code",
   "execution_count": null,
   "id": "5ead5a1f",
   "metadata": {},
   "outputs": [],
   "source": []
  },
  {
   "cell_type": "code",
   "execution_count": 47,
   "id": "2078e8d7",
   "metadata": {},
   "outputs": [
    {
     "name": "stdout",
     "output_type": "stream",
     "text": [
      "Page - Exists: True\n"
     ]
    }
   ],
   "source": [
    "page_py = wiki_wiki.page('klima')\n",
    "print(\"Page - Exists: %s\" % page_py.exists())"
   ]
  },
  {
   "cell_type": "code",
   "execution_count": 48,
   "id": "3f0e7639",
   "metadata": {},
   "outputs": [
    {
     "name": "stdout",
     "output_type": "stream",
     "text": [
      "Page - Summary: Das Klima ist der mit meteorologischen Methoden ermittelte Durchschnitt der dynamischen Prozesse in der Erdatmosphäre: als Zusammenfassung der Wettererscheinungen kleinräumiger Örtlichkeiten (Meso- beziehungsweise Regionalklima) oder bezogen auf kontinentale Dimensionen (Makroklima), einschließlich aller Schwankungen im Jahresverlauf und basierend auf einer Vielzahl von Klimaelementen. Die klimatischen Bedingungen werden nicht nur von der Sonneneinstrahlung sowie den physikalischen und chemischen Abläufen innerhalb der Atmosphäre gesteuert, sondern zusätzlich von den Einflüssen und Wechselwirkungen der anderen vier Erdsphären (Hydrosphäre, Kryosphäre, Biosphäre und Lithosphäre). Um neben allen anderen Witterungsvorgängen auch den Temperaturverlauf in einem statistisch relevanten Zeitrahmen\n"
     ]
    }
   ],
   "source": [
    "print(\"Page - Summary: %s\" % page_py.summary[0:800])"
   ]
  },
  {
   "cell_type": "code",
   "execution_count": null,
   "id": "88fab95f",
   "metadata": {},
   "outputs": [],
   "source": []
  },
  {
   "cell_type": "code",
   "execution_count": 49,
   "id": "45d93b6f",
   "metadata": {},
   "outputs": [
    {
     "name": "stdout",
     "output_type": "stream",
     "text": [
      "Page - Exists: True\n"
     ]
    }
   ],
   "source": [
    "page_py = wiki_wiki.page('rassismus')\n",
    "print(\"Page - Exists: %s\" % page_py.exists())"
   ]
  },
  {
   "cell_type": "code",
   "execution_count": 50,
   "id": "3e47fe5d",
   "metadata": {},
   "outputs": [
    {
     "name": "stdout",
     "output_type": "stream",
     "text": [
      "Page - Summary: Rassismus ist eine Ideologie, nach der Menschen aufgrund äußerlicher Merkmale oder negativer Fremdzuschreibungen, die übertrieben, naturalisiert oder stereotypisiert werden, als „Rasse“, „Volk“ oder „Ethnie“ kategorisiert und ausgegrenzt werden. Bis ins 20. Jahrhundert wurden dazu vor allem aufgrund biologischer Merkmale (Hautfarbe, Formen von Gesicht und Körper usw.) angebliche „Menschenrassen“ in heute obsoleten Rassentheorien konstruiert, um damit etwa Sklaverei, Assimilationspolitik, Ethno- oder Genozid zu rechtfertigen.\n",
      "\n",
      "Rassisten betrachten Menschen, die ihren eigenen Merkmalen möglichst ähnlich sind, meist als höherwertig, während alle anderen (oftmals abgestuft) als geringerwertig betrachtet werden (Chauvinismus). Oft möchten sie einen normalen Verkehr der Gruppen untereinander ers\n"
     ]
    }
   ],
   "source": [
    "print(\"Page - Summary: %s\" % page_py.summary[0:800])"
   ]
  },
  {
   "cell_type": "code",
   "execution_count": null,
   "id": "76d323bd",
   "metadata": {},
   "outputs": [],
   "source": []
  },
  {
   "cell_type": "code",
   "execution_count": 51,
   "id": "9178a740",
   "metadata": {},
   "outputs": [
    {
     "name": "stdout",
     "output_type": "stream",
     "text": [
      "Page - Exists: True\n"
     ]
    }
   ],
   "source": [
    "page_py = wiki_wiki.page('kriegsverbrecher')\n",
    "print(\"Page - Exists: %s\" % page_py.exists())"
   ]
  },
  {
   "cell_type": "code",
   "execution_count": 52,
   "id": "82613340",
   "metadata": {},
   "outputs": [
    {
     "name": "stdout",
     "output_type": "stream",
     "text": [
      "Page - Summary: Kriegsverbrechen sind schwere Verstöße von Angehörigen eines kriegführenden Staates gegen die Regeln des in internationalen oder nichtinternationalen bewaffneten Konflikten anwendbaren Völkerrechts, deren Strafbarkeit sich unmittelbar aus dem Völkerrecht ergibt. Kriegsverbrechen zählen zu den Kernverbrechen des Völkerstrafrechts und unterfallen dem Weltrechtsprinzip.\n"
     ]
    }
   ],
   "source": [
    "print(\"Page - Summary: %s\" % page_py.summary[0:800])"
   ]
  },
  {
   "cell_type": "code",
   "execution_count": null,
   "id": "0322ce59",
   "metadata": {},
   "outputs": [],
   "source": []
  },
  {
   "cell_type": "code",
   "execution_count": 53,
   "id": "50442ae6",
   "metadata": {},
   "outputs": [
    {
     "name": "stdout",
     "output_type": "stream",
     "text": [
      "Page - Exists: True\n"
     ]
    }
   ],
   "source": [
    "page_py = wiki_wiki.page('putin')\n",
    "print(\"Page - Exists: %s\" % page_py.exists())"
   ]
  },
  {
   "cell_type": "code",
   "execution_count": 54,
   "id": "9704ed38",
   "metadata": {},
   "outputs": [
    {
     "name": "stdout",
     "output_type": "stream",
     "text": [
      "Page - Summary: Wladimir Wladimirowitsch Putin (russisch  Vladimir Vladimirovič Putin [vɫɐˈdʲimʲɪr vɫɐˈdʲimʲɪrəvʲɪtɕ ˈputʲɪn]; * 7. Oktober 1952 in Leningrad, Russische SFSR, Sowjetunion) ist ein russischer Politiker. Er ist seit dem 7. Mai 2000 (mit Unterbrechung von 2008 bis 2012) Präsident der Russischen Föderation. Von August 1999 bis Mai 2000 sowie von Mai 2008 bis zu seiner Wiederwahl als Staatspräsident 2012 war Putin Ministerpräsident Russlands. Von Dezember 1999 bis zu seiner Wahl im Mai 2000 war er als kommissarischer Staatspräsident im Amt. In den Jahren 1975 bis 1990 war er Mitarbeiter des KGB.\n",
      "Nach vorherrschender Einschätzung in der Fachliteratur entwickelte sich Russland während seiner Präsidentschaft in eine freiheitsfeindliche und pseudodemokratische Richtung, Putin selbst schreibt eine „\n"
     ]
    }
   ],
   "source": [
    "print(\"Page - Summary: %s\" % page_py.summary[0:800])"
   ]
  },
  {
   "cell_type": "code",
   "execution_count": null,
   "id": "8e4f4687",
   "metadata": {},
   "outputs": [],
   "source": []
  },
  {
   "cell_type": "code",
   "execution_count": 55,
   "id": "1cb6fdd2",
   "metadata": {},
   "outputs": [
    {
     "name": "stdout",
     "output_type": "stream",
     "text": [
      "Page - Exists: True\n"
     ]
    }
   ],
   "source": [
    "page_py = wiki_wiki.page('polizei')\n",
    "print(\"Page - Exists: %s\" % page_py.exists())"
   ]
  },
  {
   "cell_type": "code",
   "execution_count": 56,
   "id": "1501a759",
   "metadata": {},
   "outputs": [
    {
     "name": "stdout",
     "output_type": "stream",
     "text": [
      "Page - Summary: Die Polizei (von griech. πολιτεία (Politeía) ‚Staatsverwaltung‘, wie griech. πολιτική (Politik) ,die staatl. Angelegenheiten betreffendes‘) ist ein Exekutivorgan eines Staates. Die Polizeibehörden, die Polizeibeamten, die Polizeigewalt und im übertragenen Sinn auch ein Polizeigebäude werden als „Polizei“ bezeichnet.\n"
     ]
    }
   ],
   "source": [
    "print(\"Page - Summary: %s\" % page_py.summary[0:800])"
   ]
  },
  {
   "cell_type": "code",
   "execution_count": null,
   "id": "32ecaab6",
   "metadata": {},
   "outputs": [],
   "source": []
  },
  {
   "cell_type": "code",
   "execution_count": 58,
   "id": "0075d742",
   "metadata": {},
   "outputs": [
    {
     "name": "stdout",
     "output_type": "stream",
     "text": [
      "Page - Exists: True\n"
     ]
    }
   ],
   "source": [
    "page_py = wiki_wiki.page('Ziviler Ungehorsam')\n",
    "print(\"Page - Exists: %s\" % page_py.exists())"
   ]
  },
  {
   "cell_type": "code",
   "execution_count": 59,
   "id": "ee1efdba",
   "metadata": {},
   "outputs": [
    {
     "name": "stdout",
     "output_type": "stream",
     "text": [
      "Page - Summary: Ziviler Ungehorsam (aus lateinisch civilis ‚bürgerlich‘; deshalb auch bürgerlicher Ungehorsam) ist eine Form politischer Partizipation, deren Wurzeln bis in die Antike zurückreichen. Durch einen symbolischen, aus Gewissensgründen vollzogenen und damit bewussten Verstoß gegen rechtliche Normen zielt der handelnde Staatsbürger mit einem Akt zivilen Ungehorsams auf die Beseitigung einer Unrechtssituation und betont damit sein moralisches Recht auf Partizipation. Die Normen können sich durch Gesetze, Pflichten oder auch Befehle eines Staates oder einer Einheit in einem staatlichen Gefüge manifestieren. Durch den symbolischen Verstoß soll zur Beseitigung des Unrechts Einfluss auf die öffentliche Meinungsbildung genommen werden. Der Ungehorsame nimmt dabei bewusst in Kauf, auf Basis der geltende\n"
     ]
    }
   ],
   "source": [
    "print(\"Page - Summary: %s\" % page_py.summary[0:800])"
   ]
  },
  {
   "cell_type": "code",
   "execution_count": null,
   "id": "788ae4bb",
   "metadata": {},
   "outputs": [],
   "source": []
  },
  {
   "cell_type": "code",
   "execution_count": 60,
   "id": "eee641b1",
   "metadata": {},
   "outputs": [
    {
     "name": "stdout",
     "output_type": "stream",
     "text": [
      "Page - Exists: True\n"
     ]
    }
   ],
   "source": [
    "page_py = wiki_wiki.page('Letzte Generation (Aktionsgruppe)') #letztegeneration\n",
    "print(\"Page - Exists: %s\" % page_py.exists())"
   ]
  },
  {
   "cell_type": "code",
   "execution_count": 61,
   "id": "e3e377f7",
   "metadata": {},
   "outputs": [
    {
     "name": "stdout",
     "output_type": "stream",
     "text": [
      "Page - Summary: Letzte Generation ist ein Bündnis von Aktivisten aus der Umweltschutzbewegung mit dem erklärten Ziel, durch Mittel des zivilen Ungehorsams Maßnahmen der deutschen und der österreichischen Bundesregierung gegen die Klimakrise zu erzwingen.\n",
      "Es bildete sich 2021 aus Teilnehmern des „Hungerstreiks der letzten Generation“. Ihre Anfang 2022 einsetzenden Aktionen bezeichnen die Aktivisten des Bündnisses als Aufstand der Letzten Generation. Der Begriff wurde von ihnen gewählt, weil die Überschreitung von Kippelementen im Erdklimasystem drohe und sie der letzten Generation angehören würden, die verhindern könne, dass die Erde unbewohnbar wird.\n"
     ]
    }
   ],
   "source": [
    "print(\"Page - Summary: %s\" % page_py.summary[0:800])"
   ]
  },
  {
   "cell_type": "code",
   "execution_count": null,
   "id": "dbf6ad5d",
   "metadata": {},
   "outputs": [],
   "source": []
  },
  {
   "cell_type": "code",
   "execution_count": 62,
   "id": "7e7ec79e",
   "metadata": {},
   "outputs": [
    {
     "name": "stdout",
     "output_type": "stream",
     "text": [
      "Page - Exists: True\n"
     ]
    }
   ],
   "source": [
    "page_py = wiki_wiki.page('klimacamp')\n",
    "print(\"Page - Exists: %s\" % page_py.exists())"
   ]
  },
  {
   "cell_type": "code",
   "execution_count": 63,
   "id": "3a23a3b9",
   "metadata": {},
   "outputs": [
    {
     "name": "stdout",
     "output_type": "stream",
     "text": [
      "Page - Summary: Klimacamps sind Zeltlager, deren Teilnehmer sich gegen den menschengemachten Klimawandel einsetzen. Sie finden oft an zentralen Orten größer Städte oder an Orten der Verbrennung fossiler Brennstoffe (z. B. Kraftwerken, Flughäfen) statt.\n"
     ]
    }
   ],
   "source": [
    "print(\"Page - Summary: %s\" % page_py.summary[0:800])"
   ]
  },
  {
   "cell_type": "code",
   "execution_count": null,
   "id": "8982c394",
   "metadata": {},
   "outputs": [],
   "source": []
  },
  {
   "cell_type": "code",
   "execution_count": 64,
   "id": "5242b3ac",
   "metadata": {},
   "outputs": [
    {
     "name": "stdout",
     "output_type": "stream",
     "text": [
      "Page - Exists: True\n"
     ]
    }
   ],
   "source": [
    "page_py = wiki_wiki.page('Extinction Rebellion')\n",
    "print(\"Page - Exists: %s\" % page_py.exists())"
   ]
  },
  {
   "cell_type": "code",
   "execution_count": 65,
   "id": "ae7a1fb9",
   "metadata": {},
   "outputs": [
    {
     "name": "stdout",
     "output_type": "stream",
     "text": [
      "Page - Summary: Die Extinction Rebellion (XR; deutsch ‚Rebellion gegen das Aussterben‘) ist eine Umweltschutzbewegung mit dem erklärten Ziel, durch Mittel des zivilen Ungehorsams Maßnahmen von Regierungen gegen das Massenaussterben von Tieren, Pflanzen und Lebensräumen sowie das mögliche Aussterben der Menschheit als Folge der Klimakrise zu erzwingen. Sie ging im Jahr 2018 im Vereinigten Königreich aus verschiedenen Vorläufergruppen hervor. Im März 2020 war sie laut Eigenaussage in 67 Ländern auf sechs Kontinenten mit 1141 Ortsgruppen vertreten, in Deutschland waren im März 2020 über 130 aktive und in Gründung befindliche Ortsgruppen ausgewiesen, in der Schweiz 16, in Österreich 11.Aufgrund von Gesetzesverstößen bei vielen Protestaktionen und Blockaden wird die Bewegung kritisiert, auch kam es bei Blockad\n"
     ]
    }
   ],
   "source": [
    "print(\"Page - Summary: %s\" % page_py.summary[0:800])"
   ]
  },
  {
   "cell_type": "code",
   "execution_count": null,
   "id": "64cd33fd",
   "metadata": {},
   "outputs": [],
   "source": []
  },
  {
   "cell_type": "code",
   "execution_count": 66,
   "id": "fd9ee95e",
   "metadata": {},
   "outputs": [
    {
     "name": "stdout",
     "output_type": "stream",
     "text": [
      "Page - Exists: True\n"
     ]
    }
   ],
   "source": [
    "page_py = wiki_wiki.page('münchen')\n",
    "print(\"Page - Exists: %s\" % page_py.exists())"
   ]
  },
  {
   "cell_type": "code",
   "execution_count": 67,
   "id": "9aaa0878",
   "metadata": {},
   "outputs": [
    {
     "name": "stdout",
     "output_type": "stream",
     "text": [
      "Page - Summary: München (hochdeutsch [ˈmʏnçn̩]  oder [ˈmʏnçən]; bairisch  [ˈmɪŋ(ː)ɐ]) ist die Landeshauptstadt des Freistaates Bayern. Sie ist mit 1.488.202 Einwohnern (31. Dezember 2020) die bevölkerungsreichste Stadt Bayerns, die drittgrößte Gemeinde Deutschlands und mit 4790 Einwohnern pro Quadratkilometer die am dichtesten bevölkerte Gemeinde Deutschlands. Die Stadt bildet das Zentrum der Metropolregion München (rund 6,12 Millionen Einwohner) und der Planungsregion München (2,93 Millionen Einwohner).München wird zu den Weltstädten gezählt und gilt als ein Zentrum der Kultur, Politik, Wissenschaften und Medien. Es ist Sitz zahlreicher Konzerne, darunter sechs DAX-Unternehmen (Allianz, BMW, Münchener Rück, Siemens, MTU und Siemens Energy). Hier befindet sich die einzige Börse Bayerns. In der Städteplatz\n"
     ]
    }
   ],
   "source": [
    "print(\"Page - Summary: %s\" % page_py.summary[0:800])"
   ]
  },
  {
   "cell_type": "code",
   "execution_count": null,
   "id": "995eae50",
   "metadata": {},
   "outputs": [],
   "source": []
  },
  {
   "cell_type": "code",
   "execution_count": 68,
   "id": "a02edb0d",
   "metadata": {},
   "outputs": [
    {
     "name": "stdout",
     "output_type": "stream",
     "text": [
      "Page - Exists: True\n"
     ]
    }
   ],
   "source": [
    "page_py = wiki_wiki.page('Freie Demokratische Partei') #fdp\n",
    "print(\"Page - Exists: %s\" % page_py.exists())"
   ]
  },
  {
   "cell_type": "code",
   "execution_count": 69,
   "id": "747c488b",
   "metadata": {},
   "outputs": [
    {
     "name": "stdout",
     "output_type": "stream",
     "text": [
      "Page - Summary: Die Freie Demokratische Partei (Kurzbezeichnung: FDP, von 1968 bis 2001 F.D.P.; Eigenbezeichnung: Freie Demokraten, bis 2015 Die Liberalen) ist eine liberale Partei in Deutschland, die im politischen Spektrum im Bereich Mitte bis Mitte-rechts eingeordnet wird.Die FDP war 1949 bis 1956, 1961 bis 1966, 1969 bis 1998, 2009 bis 2013 und ist seit 2021 als jeweils kleinerer Koalitionspartner an der Bundesregierung beteiligt (siehe Liste der deutschen Bundesregierungen). Von 1949 bis 2013 war die Partei durchgehend im Deutschen Bundestag vertreten, 2017 zog sie wieder als Fraktion der Freien Demokraten in den Bundestag ein. Sie ist in dreizehn deutschen Landesparlamenten vertreten und an zwei Landesregierungen beteiligt. Zudem stellt sie eine Reihe von Oberbürgermeistern (darunter in Dresden und \n"
     ]
    }
   ],
   "source": [
    "print(\"Page - Summary: %s\" % page_py.summary[0:800])"
   ]
  },
  {
   "cell_type": "code",
   "execution_count": null,
   "id": "814af4b1",
   "metadata": {},
   "outputs": [],
   "source": []
  },
  {
   "cell_type": "code",
   "execution_count": 70,
   "id": "4796886e",
   "metadata": {},
   "outputs": [
    {
     "name": "stdout",
     "output_type": "stream",
     "text": [
      "Page - Exists: True\n"
     ]
    }
   ],
   "source": [
    "page_py = wiki_wiki.page('polizeigewalt')\n",
    "print(\"Page - Exists: %s\" % page_py.exists())"
   ]
  },
  {
   "cell_type": "code",
   "execution_count": 71,
   "id": "52ec68f8",
   "metadata": {},
   "outputs": [
    {
     "name": "stdout",
     "output_type": "stream",
     "text": [
      "Page - Summary: Der Begriff Polizeigewalt wird in der Kriminologie und den Medien verwendet, um körperliche und psychische Gewalt zu beschreiben, die von Polizisten ausgeübt wird. Die Anwendung von Gewalt ist vom Gesetz nur unter bestimmten Voraussetzungen erlaubt und dann nur in einem verhältnismäßigen Ausmaß. Sind die Voraussetzungen gegeben und das richtige Ausmaß gewahrt, ist sie rechtmäßig, andernfalls rechtswidrig. Fälle von unrechtmäßiger Polizeigewalt werden auch Polizeiübergriffe genannt. Teilweise wird bei unrechtmäßiger Dienstausübung von Polizeibeamten auch der Begriff Polizeiwillkür verwendet. Betroffen sind oft Drogenabhängige, Obdachlose, Prostituierte, Angehörige ethnischer Minderheiten sowie Demonstranten und Journalisten. Nur wenige Strafanzeigen gegen Polizisten in Deutschland führen le\n"
     ]
    }
   ],
   "source": [
    "print(\"Page - Summary: %s\" % page_py.summary[0:800])"
   ]
  },
  {
   "cell_type": "code",
   "execution_count": null,
   "id": "507435c6",
   "metadata": {},
   "outputs": [],
   "source": []
  },
  {
   "cell_type": "code",
   "execution_count": 72,
   "id": "b7609fa0",
   "metadata": {},
   "outputs": [
    {
     "name": "stdout",
     "output_type": "stream",
     "text": [
      "Page - Exists: True\n"
     ]
    }
   ],
   "source": [
    "page_py = wiki_wiki.page('Paul-Spiegel-Preis für Zivilcourage') #paulspiegelpreis\n",
    "print(\"Page - Exists: %s\" % page_py.exists())"
   ]
  },
  {
   "cell_type": "code",
   "execution_count": 73,
   "id": "05ae0e5d",
   "metadata": {},
   "outputs": [
    {
     "name": "stdout",
     "output_type": "stream",
     "text": [
      "Page - Summary: Der Paul-Spiegel-Preis für Zivilcourage ist ein vom Zentralrat der Juden in Deutschland gestifteter Preis, der seit 2009 verliehen wird und mit 5000 Euro dotiert ist.\n",
      "Benannt ist die ehrende Auszeichnung nach Paul Spiegel, der von 2000 bis zu seinem Tod im Jahr 2006 Präsident des Zentralrats gewesen ist. Es soll damit an eine „starke Bürgergesellschaft, ohne die eine stabile und lebendige Demokratie nicht denkbar wäre“, appelliert und Menschen geehrt werden, „die sich im Sinne einer Bürgergesellschaft engagieren und Zivilcourage zeige.“\n"
     ]
    }
   ],
   "source": [
    "print(\"Page - Summary: %s\" % page_py.summary[0:800])"
   ]
  },
  {
   "cell_type": "code",
   "execution_count": null,
   "id": "93b9161f",
   "metadata": {},
   "outputs": [],
   "source": []
  },
  {
   "cell_type": "code",
   "execution_count": 74,
   "id": "45846c36",
   "metadata": {},
   "outputs": [
    {
     "name": "stdout",
     "output_type": "stream",
     "text": [
      "Page - Exists: True\n"
     ]
    }
   ],
   "source": [
    "page_py = wiki_wiki.page('notstromaggregat') #notstromaggregaten #notstromaggregate #notstromaggregat\n",
    "print(\"Page - Exists: %s\" % page_py.exists())"
   ]
  },
  {
   "cell_type": "code",
   "execution_count": 75,
   "id": "34a56e0a",
   "metadata": {},
   "outputs": [
    {
     "name": "stdout",
     "output_type": "stream",
     "text": [
      "Page - Summary: Ein Stromerzeugungsaggregat (Stromerzeuger, Stromaggregat, Stromgenerator, Notstromaggregat, Netzersatzanlage oder landläufig Moppel) ist eine Einrichtung, die mittels vorhandener Ressourcen elektrische Energie bereitstellt, um insbesondere von Stromnetzen unabhängig zu sein. Ein Antriebsaggregat, meistens eine Verbrennungskraftmaschine (z. B. Diesel- oder Benzinmotor), und ein Generator, der mechanische Energie des Antriebs in elektrische Energie wandelt, bilden hierbei eine Einheit.\n",
      "Solche mobilen oder stationären Geräte können überall dort Anwendung finden, wo ein öffentliches Stromnetz fehlt oder der Ausfall des Stromnetzes (englisch blackout) gravierende Folgen nach sich ziehen würde – wie z. B. in Krankenhäusern, chemischen Anlagen, Serverräumen und nicht zuletzt in Kernkraftwerken, \n"
     ]
    }
   ],
   "source": [
    "print(\"Page - Summary: %s\" % page_py.summary[0:800])"
   ]
  },
  {
   "cell_type": "code",
   "execution_count": null,
   "id": "aa1386a1",
   "metadata": {},
   "outputs": [],
   "source": []
  },
  {
   "cell_type": "code",
   "execution_count": 76,
   "id": "97b922a3",
   "metadata": {},
   "outputs": [
    {
     "name": "stdout",
     "output_type": "stream",
     "text": [
      "Page - Exists: True\n"
     ]
    }
   ],
   "source": [
    "page_py = wiki_wiki.page('gas')\n",
    "print(\"Page - Exists: %s\" % page_py.exists())"
   ]
  },
  {
   "cell_type": "code",
   "execution_count": 77,
   "id": "e069aa4e",
   "metadata": {},
   "outputs": [
    {
     "name": "stdout",
     "output_type": "stream",
     "text": [
      "Page - Summary: Neben fest und flüssig ist gasförmig einer der drei klassischen Aggregatzustände. Eine Substanz ist dann ein Gas, wenn sich ihre Teilchen in großem Abstand voneinander frei bewegen und den verfügbaren Raum kontinuierlich ausfüllen. Unter Normalbedingungen nimmt ein Gas im Vergleich zu einem Festkörper oder einer Flüssigkeit gleicher Masse den rund tausend- bis zweitausendfachen Raum ein.\n",
      "Zusammen mit den Flüssigkeiten zählen Gase zu den Fluiden.\n"
     ]
    }
   ],
   "source": [
    "print(\"Page - Summary: %s\" % page_py.summary[0:800])"
   ]
  },
  {
   "cell_type": "code",
   "execution_count": null,
   "id": "e5c29f38",
   "metadata": {},
   "outputs": [],
   "source": []
  },
  {
   "cell_type": "code",
   "execution_count": 78,
   "id": "55a9f456",
   "metadata": {},
   "outputs": [
    {
     "name": "stdout",
     "output_type": "stream",
     "text": [
      "Page - Exists: True\n"
     ]
    }
   ],
   "source": [
    "page_py = wiki_wiki.page('Luisa Neubauer') #luisaneubauer #neubauer\n",
    "print(\"Page - Exists: %s\" % page_py.exists())"
   ]
  },
  {
   "cell_type": "code",
   "execution_count": 79,
   "id": "a89e512b",
   "metadata": {},
   "outputs": [
    {
     "name": "stdout",
     "output_type": "stream",
     "text": [
      "Page - Summary: Luisa-Marie Neubauer (* 21. April 1996 in Hamburg) ist eine deutsche Klimaschutzaktivistin. In Deutschland ist sie eine der Hauptorganisatorinnen des von Greta Thunberg inspirierten Schulstreiks Fridays for Future („Klimastreik“). Sie tritt für eine Klimapolitik ein, die mit dem Übereinkommen von Paris vereinbar ist, und wirbt für einen Kohleausstieg Deutschlands bis 2030. Neubauer ist Mitglied von Bündnis 90/Die Grünen und Grüner Jugend und engagiert sich in verschiedenen Nichtregierungsorganisationen.\n"
     ]
    }
   ],
   "source": [
    "print(\"Page - Summary: %s\" % page_py.summary[0:800])"
   ]
  },
  {
   "cell_type": "code",
   "execution_count": null,
   "id": "67a84734",
   "metadata": {},
   "outputs": [],
   "source": []
  },
  {
   "cell_type": "code",
   "execution_count": 80,
   "id": "d3ea4bbb",
   "metadata": {},
   "outputs": [
    {
     "name": "stdout",
     "output_type": "stream",
     "text": [
      "Page - Exists: True\n"
     ]
    }
   ],
   "source": [
    "page_py = wiki_wiki.page('gruene')\n",
    "print(\"Page - Exists: %s\" % page_py.exists())"
   ]
  },
  {
   "cell_type": "code",
   "execution_count": 81,
   "id": "22a59c56",
   "metadata": {},
   "outputs": [
    {
     "name": "stdout",
     "output_type": "stream",
     "text": [
      "Page - Summary: Gruene ist ein zum Historic District ernannter Ortsteil von New Braunfels im US-Bundesstaat Texas. Gegründet wurde das Dorf von den Söhnen der deutschen Siedler Ernst und Antoinette Gruene. Schon im 19. Jahrhundert gab es in Gruene eine Bank, eine Post, eine Schule, eine Tanzhalle für die örtlichen Arbeitskräfte, eine Schrotmühle sowie eine Baumwoll-Entkörnungsmaschine. Zwei Schienenstränge erleichterten das Verladen der Baumwolle.\n",
      "Die 1878 durch Heinrich D. Gruene erbaute Tanzhalle Gruene Hall ist nach Angaben der Besitzer bis zum heutigen Tag durchgehend in Betrieb und man bezeichnet sie als die „älteste noch genutzte Tanzhalle in Texas“. Auftritte von Willie Nelson, George Strait, Townes Van Zandt, Jerry Jeff Walker, Lyle Lovett, Hal Ketchum, Greg Allman, Tom Gillam  und vieler anderer \n"
     ]
    }
   ],
   "source": [
    "print(\"Page - Summary: %s\" % page_py.summary[0:800])"
   ]
  },
  {
   "cell_type": "code",
   "execution_count": null,
   "id": "8156ca23",
   "metadata": {},
   "outputs": [],
   "source": []
  },
  {
   "cell_type": "code",
   "execution_count": 82,
   "id": "70872231",
   "metadata": {},
   "outputs": [
    {
     "name": "stdout",
     "output_type": "stream",
     "text": [
      "Page - Exists: True\n"
     ]
    }
   ],
   "source": [
    "page_py = wiki_wiki.page('öko')\n",
    "print(\"Page - Exists: %s\" % page_py.exists())"
   ]
  },
  {
   "cell_type": "code",
   "execution_count": 83,
   "id": "6e90d384",
   "metadata": {},
   "outputs": [
    {
     "name": "stdout",
     "output_type": "stream",
     "text": [
      "Page - Summary: Öko steht für:\n",
      "\n",
      "Kurzform von Ökologie (biologische Wechselbeziehungen), siehe Ökologie (Begriffsklärung)\n",
      "eine gesetzlich geschützte Vorsilbe für Produkte aus ökologischer Landwirtschaft\n",
      "umgangssprachliche Bezeichnung für Anhänger der UmweltbewegungSiehe auch:\n",
      "\n",
      "oikos (Haus- und Wirtschaftsgemeinschaft im antiken Griechenland)\n",
      "Ökonomie (Begriffsklärung)\n",
      "Ökonomik (Begriffsklärung)\n",
      "Bio (Begriffsklärung)Liste aller Wikipedia-Artikel, deren Titel mit Öko beginnt\n",
      "Liste aller Wikipedia-Artikel, deren Titel Öko enthält\n"
     ]
    }
   ],
   "source": [
    "print(\"Page - Summary: %s\" % page_py.summary[0:800])"
   ]
  },
  {
   "cell_type": "code",
   "execution_count": null,
   "id": "5e9aa62a",
   "metadata": {},
   "outputs": [],
   "source": []
  },
  {
   "cell_type": "code",
   "execution_count": 84,
   "id": "5e623d17",
   "metadata": {},
   "outputs": [
    {
     "name": "stdout",
     "output_type": "stream",
     "text": [
      "Page - Exists: True\n"
     ]
    }
   ],
   "source": [
    "page_py = wiki_wiki.page('energiewende')\n",
    "print(\"Page - Exists: %s\" % page_py.exists())"
   ]
  },
  {
   "cell_type": "code",
   "execution_count": 85,
   "id": "9dc88d28",
   "metadata": {},
   "outputs": [
    {
     "name": "stdout",
     "output_type": "stream",
     "text": [
      "Page - Summary: Energiewende ist der deutschsprachige Begriff für den Übergang von der nicht-nachhaltigen Nutzung von fossilen Energieträgern sowie der Kernenergie zu einer nachhaltigen Energieversorgung mittels erneuerbarer Energien. Der Begriff wurde nach dem 1980 erschienenen Buch Energiewende – Wachstum und Wohlstand ohne Erdöl und Uran des Öko-Instituts kulturell rezipiert und wurde bereits als Lehnwort in andere Sprachen übernommen (beispielsweise \"The German Energiewende\" oder \"A Energiewende alemã\").\n",
      "Ziel der Energiewende ist es, die von der konventionellen Energiewirtschaft verursachten ökologischen, gesellschaftlichen und gesundheitlichen Probleme zu minimieren und die dabei anfallenden, bisher im Energiemarkt kaum eingepreisten, externen Kosten vollständig zu internalisieren. Angesichts der maß\n"
     ]
    }
   ],
   "source": [
    "print(\"Page - Summary: %s\" % page_py.summary[0:800])"
   ]
  },
  {
   "cell_type": "code",
   "execution_count": null,
   "id": "a97fc0b4",
   "metadata": {},
   "outputs": [],
   "source": []
  },
  {
   "cell_type": "code",
   "execution_count": 86,
   "id": "52d3d23b",
   "metadata": {},
   "outputs": [
    {
     "name": "stdout",
     "output_type": "stream",
     "text": [
      "Page - Exists: True\n"
     ]
    }
   ],
   "source": [
    "page_py = wiki_wiki.page('Kohlekraftwerk') #Kohlekraftwerken\n",
    "print(\"Page - Exists: %s\" % page_py.exists())"
   ]
  },
  {
   "cell_type": "code",
   "execution_count": 87,
   "id": "244893a6",
   "metadata": {},
   "outputs": [
    {
     "name": "stdout",
     "output_type": "stream",
     "text": [
      "Page - Summary: Ein Kohlekraftwerk ist ein Dampfkraftwerk, in dem Kohle verbrannt wird, um elektrischen Strom zu erzeugen. Es gibt Kraftwerke für Braunkohle und für Steinkohle. Die Kraftwerkstypen sind speziell für den jeweiligen Brennstoff mit seinen verfahrenstechnischen Eigenheiten, seinem Heizwert und seinen Ascheanteilen konzipiert.\n",
      "In Deutschland wird mit braunkohlegefeuerten Kohlekraftwerken Strom für die Grundlast und mit Steinkohle hauptsächlich für die Mittellast erzeugt.\n",
      "In Deutschland wurden 2016 aus Braunkohle 23 % (149,5 TWh) und aus Steinkohle 17,2 % (112,2 TWh) des Stroms\n",
      "erzeugt. 2019 waren es nur noch 113,9 TWh (minus 24 %) aus Braunkohle und 57,3 TWh (minus 49 %) aus Steinkohle. Weltweit hatte der Kohlestrom 2015 einen Anteil von 40,7 Prozent bei der Stromerzeugung. Ein einzelner Kraftw\n"
     ]
    }
   ],
   "source": [
    "print(\"Page - Summary: %s\" % page_py.summary[0:800])"
   ]
  },
  {
   "cell_type": "code",
   "execution_count": null,
   "id": "9ec01534",
   "metadata": {},
   "outputs": [],
   "source": []
  },
  {
   "cell_type": "code",
   "execution_count": 88,
   "id": "2874b7e7",
   "metadata": {},
   "outputs": [
    {
     "name": "stdout",
     "output_type": "stream",
     "text": [
      "Page - Exists: True\n"
     ]
    }
   ],
   "source": [
    "page_py = wiki_wiki.page('kernkraftausstieg')\n",
    "print(\"Page - Exists: %s\" % page_py.exists())"
   ]
  },
  {
   "cell_type": "code",
   "execution_count": 89,
   "id": "0d5dc114",
   "metadata": {},
   "outputs": [
    {
     "name": "stdout",
     "output_type": "stream",
     "text": [
      "Page - Summary: Als Atomausstieg, auch Kernkraftausstieg oder Atomverzicht, wird die politische Entscheidung eines Staats, den Betrieb von Kernkraftwerken einzustellen und auf Kernenergie zur Stromerzeugung zu verzichten, bezeichnet. Einen vollständigen Ausstieg aus der Erzeugung von Atomenergie hat bisher Italien durchgeführt, weitere Staaten wie Deutschland, Belgien und die Schweiz haben einen Atomausstieg angekündigt bzw. ihn in die Wege geleitet. Österreich nahm sein fertiggestelltes Kernkraftwerk Zwentendorf bereits 1978 nach einer Volksabstimmung nicht in Betrieb, weitere Staaten brachen zum Teil weit vorangeschrittene Atomprogramme ab.\n",
      "Der Atomausstieg ist ein wichtiger Teilaspekt der Energiewende; diese ist jedoch deutlich weiter gefasst und sieht langfristig die vollständige Umstellung auf erneue\n"
     ]
    }
   ],
   "source": [
    "print(\"Page - Summary: %s\" % page_py.summary[0:800])"
   ]
  },
  {
   "cell_type": "code",
   "execution_count": null,
   "id": "d2284033",
   "metadata": {},
   "outputs": [],
   "source": []
  },
  {
   "cell_type": "code",
   "execution_count": 94,
   "id": "378c4f40",
   "metadata": {},
   "outputs": [
    {
     "name": "stdout",
     "output_type": "stream",
     "text": [
      "Page - Exists: True\n"
     ]
    }
   ],
   "source": [
    "page_py = wiki_wiki.page('glastonbury')\n",
    "print(\"Page - Exists: %s\" % page_py.exists())"
   ]
  },
  {
   "cell_type": "code",
   "execution_count": 95,
   "id": "6292223c",
   "metadata": {},
   "outputs": [
    {
     "name": "stdout",
     "output_type": "stream",
     "text": [
      "Page - Summary: Glastonbury ist eine Kleinstadt in Somerset (England) im Vereinigten Königreich. Die Kleinstadt im Distrikt Mendip hat rund 8800 Einwohner. Sie ist aufgrund der Ruinen der Glastonbury Abbey und der Mythen und Legenden um den nahegelegenen Hügel Glastonbury Tor bekannt, derentwegen Glastonbury den Anspruch erhebt, das sagenhafte Avalon zu sein. Bedeutend ist auch die eisenzeitliche Pfahlbausiedlung, die von Arthur Bulleid  (1862–1951) und Harold St George Gray (1872–1963) ausgegraben wurde.\n"
     ]
    }
   ],
   "source": [
    "print(\"Page - Summary: %s\" % page_py.summary[0:800])"
   ]
  },
  {
   "cell_type": "code",
   "execution_count": null,
   "id": "6040e4c1",
   "metadata": {},
   "outputs": [],
   "source": []
  },
  {
   "cell_type": "code",
   "execution_count": 96,
   "id": "a2c6e8f0",
   "metadata": {},
   "outputs": [
    {
     "name": "stdout",
     "output_type": "stream",
     "text": [
      "Page - Exists: True\n"
     ]
    }
   ],
   "source": [
    "page_py = wiki_wiki.page('verkehrswende')\n",
    "print(\"Page - Exists: %s\" % page_py.exists())"
   ]
  },
  {
   "cell_type": "code",
   "execution_count": 97,
   "id": "3d41cf50",
   "metadata": {},
   "outputs": [
    {
     "name": "stdout",
     "output_type": "stream",
     "text": [
      "Page - Summary: Als Verkehrswende, auch Mobilitätswende, wird der gesellschaftliche, technologische und politische Prozess bezeichnet, Verkehr und Mobilität auf nachhaltige Energieträger, sanfte Mobilitätsnutzung und eine Vernetzung verschiedener Formen des Individualverkehrs und des öffentlichen Personennahverkehrs umzustellen (-> \"Inter-\" bzw. \"Multimodaler Verkehr\"). Sie beinhaltet einen kulturellen Wandel, eine Umverteilung des öffentlichen Raums sowie die Umleitung von Geldströmen und bezieht sich auch auf den Güterverkehr (-> \"Logistik\").\n"
     ]
    }
   ],
   "source": [
    "print(\"Page - Summary: %s\" % page_py.summary[0:800])"
   ]
  },
  {
   "cell_type": "code",
   "execution_count": null,
   "id": "ba40686d",
   "metadata": {},
   "outputs": [],
   "source": []
  },
  {
   "cell_type": "code",
   "execution_count": 98,
   "id": "f6d43e1a",
   "metadata": {},
   "outputs": [
    {
     "name": "stdout",
     "output_type": "stream",
     "text": [
      "Page - Exists: True\n"
     ]
    }
   ],
   "source": [
    "page_py = wiki_wiki.page('Nordrhein-Westfalen') #nrw\n",
    "print(\"Page - Exists: %s\" % page_py.exists())"
   ]
  },
  {
   "cell_type": "code",
   "execution_count": 99,
   "id": "d62a3b38",
   "metadata": {},
   "outputs": [
    {
     "name": "stdout",
     "output_type": "stream",
     "text": [
      "Page - Summary: Nordrhein-Westfalen ([ˌnɔrtraɪ̯nvɛstˈfaːlən] , Ländercode NW, geläufige Abkürzung NRW) ist eine parlamentarische Republik und ein teilsouveräner Gliedstaat der Bundesrepublik Deutschland. Mit rund 17,9 Millionen Einwohnern ist es das bevölkerungsreichste Land Deutschlands. Die Landeshauptstadt ist Düsseldorf, die einwohnerreichste Stadt ist Köln. Die Bundesstadt Bonn ist heute Zweitregierungssitz der Bundesrepublik Deutschland.\n",
      "Nordrhein-Westfalen grenzt im Norden und Nordosten an Niedersachsen, im Südosten an Hessen, im Süden an Rheinland-Pfalz sowie im Westen an die belgische Provinz Lüttich sowie an die niederländischen Provinzen Limburg, Gelderland und Overijssel. Mit einer Fläche von rund 34.100 Quadratkilometern ist Nordrhein-Westfalen das viertgrößte deutsche Land. 30 der 81 deutsch\n"
     ]
    }
   ],
   "source": [
    "print(\"Page - Summary: %s\" % page_py.summary[0:800])"
   ]
  },
  {
   "cell_type": "code",
   "execution_count": null,
   "id": "5f0111ed",
   "metadata": {},
   "outputs": [],
   "source": []
  },
  {
   "cell_type": "code",
   "execution_count": 100,
   "id": "1530b26a",
   "metadata": {},
   "outputs": [
    {
     "name": "stdout",
     "output_type": "stream",
     "text": [
      "Page - Exists: True\n"
     ]
    }
   ],
   "source": [
    "page_py = wiki_wiki.page('klimahysterie')\n",
    "print(\"Page - Exists: %s\" % page_py.exists())"
   ]
  },
  {
   "cell_type": "code",
   "execution_count": 101,
   "id": "13e9b20a",
   "metadata": {},
   "outputs": [
    {
     "name": "stdout",
     "output_type": "stream",
     "text": [
      "Page - Summary: Klimahysterie ist ein politisches Schlagwort für eine emotionale Einstellung zum gegenwärtigen Klimawandel, die von demjenigen, der das Wort gebraucht, als übertrieben empfunden wird. Es wurde von der deutschen sprachkritischen Aktion „Unwort des Jahres“ zum „Unwort des Jahres 2019“ gewählt.\n"
     ]
    }
   ],
   "source": [
    "print(\"Page - Summary: %s\" % page_py.summary[0:800])"
   ]
  },
  {
   "cell_type": "code",
   "execution_count": null,
   "id": "9ce829b1",
   "metadata": {},
   "outputs": [],
   "source": []
  },
  {
   "cell_type": "code",
   "execution_count": 102,
   "id": "a737850f",
   "metadata": {},
   "outputs": [
    {
     "name": "stdout",
     "output_type": "stream",
     "text": [
      "Page - Exists: True\n"
     ]
    }
   ],
   "source": [
    "page_py = wiki_wiki.page('Ende Gelände') #endegelaende\n",
    "print(\"Page - Exists: %s\" % page_py.exists())"
   ]
  },
  {
   "cell_type": "code",
   "execution_count": 103,
   "id": "328a797f",
   "metadata": {},
   "outputs": [
    {
     "name": "stdout",
     "output_type": "stream",
     "text": [
      "Page - Summary: Ende Gelände ist nach eigenen Angaben „ein europaweites Bündnis von Menschen aus vielen verschiedenen sozialen Bewegungen“ der Anti-Atom- und Anti-Kohlekraft-Bewegung, das seit 2015 jährlich eine Großaktion (2017 und 2019 zwei) in deutschen Braunkohlerevieren organisiert. Das Bundesamt für Verfassungsschutz bezeichnet das Bündnis als „linksextremistisch beeinflusst“.\n"
     ]
    }
   ],
   "source": [
    "print(\"Page - Summary: %s\" % page_py.summary[0:800])"
   ]
  },
  {
   "cell_type": "code",
   "execution_count": null,
   "id": "104d7498",
   "metadata": {},
   "outputs": [],
   "source": []
  },
  {
   "cell_type": "code",
   "execution_count": 104,
   "id": "dc9a6697",
   "metadata": {},
   "outputs": [
    {
     "name": "stdout",
     "output_type": "stream",
     "text": [
      "Page - Exists: True\n"
     ]
    }
   ],
   "source": [
    "page_py = wiki_wiki.page('unten')\n",
    "print(\"Page - Exists: %s\" % page_py.exists())"
   ]
  },
  {
   "cell_type": "code",
   "execution_count": 105,
   "id": "bcb759a1",
   "metadata": {},
   "outputs": [
    {
     "name": "stdout",
     "output_type": "stream",
     "text": [
      "Page - Summary: Oben und unten sind einander entgegengesetzte relative Ortsangaben. Sie nehmen in der Regel Bezug auf die Richtung der Schwerebeschleunigung und die körperliche Lageorientierung des Menschen im Erdschwerefeld. Unten bezeichnet Stellen, die sich in Wirkrichtung der Gewichtskraft befinden; oben sind Orte in Richtung entgegen der Gewichtskraft. Das Begriffspaar dient zusammen mit links und rechts sowie vorne und hinten als relative Positions- und Richtungsbezeichnung der Orientierung im Raum.\n",
      "Als Richtungen aufgefasst, entspricht oben und unten der durch einen gegebenen Ort verlaufenden Lotrichtung (Vertikalen). Aufgrund der Kugelgestalt der Erde verlaufen die Lotlinien des Schwerefelds nicht parallel zueinander; daher besitzt jeder Ort seine eigene Vertikale. Für Menschen auf der gegenüberli\n"
     ]
    }
   ],
   "source": [
    "print(\"Page - Summary: %s\" % page_py.summary[0:800])"
   ]
  },
  {
   "cell_type": "code",
   "execution_count": null,
   "id": "0fcedc50",
   "metadata": {},
   "outputs": [],
   "source": []
  },
  {
   "cell_type": "code",
   "execution_count": 106,
   "id": "15bbea85",
   "metadata": {},
   "outputs": [
    {
     "name": "stdout",
     "output_type": "stream",
     "text": [
      "Page - Exists: True\n"
     ]
    }
   ],
   "source": [
    "page_py = wiki_wiki.page('Christian Lindner') #lindnee\n",
    "print(\"Page - Exists: %s\" % page_py.exists())"
   ]
  },
  {
   "cell_type": "code",
   "execution_count": 107,
   "id": "6f25badc",
   "metadata": {},
   "outputs": [
    {
     "name": "stdout",
     "output_type": "stream",
     "text": [
      "Page - Summary: Christian Wolfgang Lindner (* 7. Januar 1979 in Wuppertal) ist ein deutscher Politiker (FDP). Er ist seit dem 7. Dezember 2013 Bundesvorsitzender der FDP und seit dem 8. Dezember 2021 Bundesminister der Finanzen im Kabinett Scholz.\n",
      "Von 2000 bis 2009 und erneut von Mai 2012 bis Oktober 2017 gehörte er dem Landtag in Nordrhein-Westfalen an. Von Oktober 2009 bis Juli 2012 war Lindner Mitglied des Deutschen Bundestages, von Dezember 2009 bis Dezember 2011 auch Generalsekretär der FDP. Lindner zog als Spitzenkandidat seiner Partei bei der Bundestagswahl 2017 erneut in den Deutschen Bundestag ein und war dort bis Dezember 2021 Vorsitzender der FDP-Fraktion.\n"
     ]
    }
   ],
   "source": [
    "print(\"Page - Summary: %s\" % page_py.summary[0:800])"
   ]
  },
  {
   "cell_type": "code",
   "execution_count": null,
   "id": "4595a151",
   "metadata": {},
   "outputs": [],
   "source": []
  },
  {
   "cell_type": "code",
   "execution_count": 108,
   "id": "48e8e4cf",
   "metadata": {},
   "outputs": [
    {
     "name": "stdout",
     "output_type": "stream",
     "text": [
      "Page - Exists: True\n"
     ]
    }
   ],
   "source": [
    "page_py = wiki_wiki.page('gaskraftwerk') #gaskraftwerke\n",
    "print(\"Page - Exists: %s\" % page_py.exists())"
   ]
  },
  {
   "cell_type": "code",
   "execution_count": 109,
   "id": "91c8faab",
   "metadata": {},
   "outputs": [
    {
     "name": "stdout",
     "output_type": "stream",
     "text": [
      "Page - Summary: Ein Gaskraftwerk ist ein Kraftwerk, welches als Primärenergiequelle die chemische Energie aus der Verbrennung eines Brenngases nutzt. Mit Abstand am häufigsten wird Erdgas eingesetzt, daneben auch Biogas, Holzgas, Kohlegas, Kuppelgase u. a. Brenngas. Wird die Bezeichnung Gaskraftwerk ohne nähere Angabe verwendet, so handelt es sich in der Regel um Erdgas. Bei anderen Brenngasen wird die Art zumeist im Namen aufgeführt (Biogaskraftwerk, Gichtgaskraftwerk etc.).\n",
      "Die Stromerzeugung mittels Gaskraftwerken wird als Gasverstromung bezeichnet. Diese Verstromung des Brenngases kann mit verschiedenen Arten von Wärmekraftwerken erfolgen: Neben klassischen Dampfkraftwerken oder Wärmekraftmaschinen (Gasturbinen oder Gasmotoren) mit Erdgasfeuerung sind heute vor allem Gas-und-Dampf-Kombikraftwerke gebr\n"
     ]
    }
   ],
   "source": [
    "print(\"Page - Summary: %s\" % page_py.summary[0:800])"
   ]
  },
  {
   "cell_type": "code",
   "execution_count": null,
   "id": "f58efeae",
   "metadata": {},
   "outputs": [],
   "source": []
  },
  {
   "cell_type": "code",
   "execution_count": 110,
   "id": "32a82b5d",
   "metadata": {},
   "outputs": [
    {
     "name": "stdout",
     "output_type": "stream",
     "text": [
      "Page - Exists: True\n"
     ]
    }
   ],
   "source": [
    "page_py = wiki_wiki.page('kohlekraftwerk') #kohlekraftwerke\n",
    "print(\"Page - Exists: %s\" % page_py.exists())"
   ]
  },
  {
   "cell_type": "code",
   "execution_count": 111,
   "id": "5274a1be",
   "metadata": {},
   "outputs": [
    {
     "name": "stdout",
     "output_type": "stream",
     "text": [
      "Page - Summary: Ein Kohlekraftwerk ist ein Dampfkraftwerk, in dem Kohle verbrannt wird, um elektrischen Strom zu erzeugen. Es gibt Kraftwerke für Braunkohle und für Steinkohle. Die Kraftwerkstypen sind speziell für den jeweiligen Brennstoff mit seinen verfahrenstechnischen Eigenheiten, seinem Heizwert und seinen Ascheanteilen konzipiert.\n",
      "In Deutschland wird mit braunkohlegefeuerten Kohlekraftwerken Strom für die Grundlast und mit Steinkohle hauptsächlich für die Mittellast erzeugt.\n",
      "In Deutschland wurden 2016 aus Braunkohle 23 % (149,5 TWh) und aus Steinkohle 17,2 % (112,2 TWh) des Stroms\n",
      "erzeugt. 2019 waren es nur noch 113,9 TWh (minus 24 %) aus Braunkohle und 57,3 TWh (minus 49 %) aus Steinkohle. Weltweit hatte der Kohlestrom 2015 einen Anteil von 40,7 Prozent bei der Stromerzeugung. Ein einzelner Kraftw\n"
     ]
    }
   ],
   "source": [
    "print(\"Page - Summary: %s\" % page_py.summary[0:800])"
   ]
  },
  {
   "cell_type": "code",
   "execution_count": null,
   "id": "b8c76175",
   "metadata": {},
   "outputs": [],
   "source": []
  },
  {
   "cell_type": "code",
   "execution_count": 112,
   "id": "b44788cb",
   "metadata": {},
   "outputs": [
    {
     "name": "stdout",
     "output_type": "stream",
     "text": [
      "Page - Exists: True\n"
     ]
    }
   ],
   "source": [
    "page_py = wiki_wiki.page('Bündnis 90/Die Grünen') #grüne\n",
    "print(\"Page - Exists: %s\" % page_py.exists())"
   ]
  },
  {
   "cell_type": "code",
   "execution_count": 113,
   "id": "7aa02ab2",
   "metadata": {},
   "outputs": [
    {
     "name": "stdout",
     "output_type": "stream",
     "text": [
      "Page - Summary: Bündnis 90/Die Grünen (Kurzbezeichnung: Grüne; auch als Bündnisgrüne, B’90/Grüne, B’90/Die Grünen oder Die Grünen bezeichnet) ist eine politische Partei in Deutschland. Ein inhaltlicher Schwerpunkt ist die Umweltpolitik. Leitgedanke „grüner Politik“ ist ökologische, ökonomische und soziale Nachhaltigkeit.\n",
      "In Westdeutschland und West-Berlin entstammt die am 12./13. Januar 1980 in Karlsruhe gegründete Partei Die Grünen der Anti-Atomkraft- und Umweltbewegung, den Neuen Sozialen Bewegungen, der Friedensbewegung und der Neuen Linken der 1970er-Jahre. Bei der Bundestagswahl 1983 gelang den Grünen der Einzug in den Bundestag und von 1985 bis 1987 stellten sie in einer rot-grünen Koalition in Hessen mit Joschka Fischer erstmals einen Landesminister. Nach der Wiedervereinigung scheiterten die westd\n"
     ]
    }
   ],
   "source": [
    "print(\"Page - Summary: %s\" % page_py.summary[0:800])"
   ]
  },
  {
   "cell_type": "code",
   "execution_count": null,
   "id": "8f8b075e",
   "metadata": {},
   "outputs": [],
   "source": []
  },
  {
   "cell_type": "code",
   "execution_count": 114,
   "id": "637b28b2",
   "metadata": {},
   "outputs": [
    {
     "name": "stdout",
     "output_type": "stream",
     "text": [
      "Page - Exists: True\n"
     ]
    }
   ],
   "source": [
    "page_py = wiki_wiki.page('Sozialdemokratische Partei Deutschlands') #spd\n",
    "print(\"Page - Exists: %s\" % page_py.exists())"
   ]
  },
  {
   "cell_type": "code",
   "execution_count": 115,
   "id": "a231ec97",
   "metadata": {},
   "outputs": [
    {
     "name": "stdout",
     "output_type": "stream",
     "text": [
      "Page - Summary: Die Sozialdemokratische Partei Deutschlands (SPD) ist eine politische Partei in Deutschland.\n",
      "Als erste Vorläufer der Partei gelten der 1863 gegründete Allgemeine Deutsche Arbeiterverein und die 1869 gegründete Sozialdemokratische Arbeiterpartei, die sich 1875 zur Sozialistischen Arbeiterpartei Deutschlands zusammenschlossen. Ihren heutigen Namen gab sich die Partei 1890. Sie gilt als älteste noch bestehende Partei Deutschlands. Von 1890 bis 1930 wurde sie bei allen Reichstagswahlen die stimmstärkste Partei und stellte in der Weimarer Republik mit Friedrich Ebert das erste demokratisch gewählte Staatsoberhaupt der deutschen Geschichte und stellte neben Ebert auch mit Philipp Scheidemann, Gustav Bauer und Hermann Müller vier Regierungschefs. Sie war Gründungsmitglied der Zweiten Internationa\n"
     ]
    }
   ],
   "source": [
    "print(\"Page - Summary: %s\" % page_py.summary[0:800])"
   ]
  },
  {
   "cell_type": "code",
   "execution_count": null,
   "id": "736b5770",
   "metadata": {},
   "outputs": [],
   "source": []
  },
  {
   "cell_type": "code",
   "execution_count": 116,
   "id": "5d7efb7d",
   "metadata": {},
   "outputs": [
    {
     "name": "stdout",
     "output_type": "stream",
     "text": [
      "Page - Exists: True\n"
     ]
    }
   ],
   "source": [
    "page_py = wiki_wiki.page('Deutsche Wohnen & Co. enteignen') #dwenteignen\n",
    "print(\"Page - Exists: %s\" % page_py.exists())"
   ]
  },
  {
   "cell_type": "code",
   "execution_count": 117,
   "id": "70481839",
   "metadata": {
    "scrolled": true
   },
   "outputs": [
    {
     "name": "stdout",
     "output_type": "stream",
     "text": [
      "Page - Summary: Deutsche Wohnen & Co. enteignen (kurz DWE) ist eine Bürgerinitiative in Berlin, die einen erfolgreichen Volksentscheid über die Enteignung und Vergesellschaftung privater Wohnungsunternehmen erreicht hat. Dabei sollen die enteigneten Wohnungen in eine Anstalt des öffentlichen Rechts überführt werden. Dies beträfe 243.000 der rund 1,5 Millionen Mietwohnungen in Berlin. Als Gründe werden steigende Mieten auf dem Berliner Wohnungsmarkt und zum Teil unterlassene Instandhaltungen durch große Immobilienfirmen angeführt. Primäres Ziel, und daher auch Name der Initiative, ist die Wohnungsgesellschaft Deutsche Wohnen, die mit ca. 110.000 Wohnungen die größte Vermieterin in Berlin ist und gemäß der Initiative eine Politik der permanenten Mietzinsmaximierung verfolge.Beim Volksentscheid am 26. Septem\n"
     ]
    }
   ],
   "source": [
    "print(\"Page - Summary: %s\" % page_py.summary[0:800])"
   ]
  },
  {
   "cell_type": "code",
   "execution_count": null,
   "id": "a322ad35",
   "metadata": {},
   "outputs": [],
   "source": []
  },
  {
   "cell_type": "code",
   "execution_count": 118,
   "id": "d74ff19b",
   "metadata": {},
   "outputs": [
    {
     "name": "stdout",
     "output_type": "stream",
     "text": [
      "Page - Exists: True\n"
     ]
    }
   ],
   "source": [
    "page_py = wiki_wiki.page('bombendrohung') #bombendrohungen\n",
    "print(\"Page - Exists: %s\" % page_py.exists())"
   ]
  },
  {
   "cell_type": "code",
   "execution_count": 119,
   "id": "ccdb7b0a",
   "metadata": {},
   "outputs": [
    {
     "name": "stdout",
     "output_type": "stream",
     "text": [
      "Page - Summary: Die Bombendrohung ist das beabsichtigte Bedrohen eines (meist öffentlichen) Gebäudes mittels einer tatsächlich oder angeblich platzierten Bombe.\n"
     ]
    }
   ],
   "source": [
    "print(\"Page - Summary: %s\" % page_py.summary[0:800])"
   ]
  },
  {
   "cell_type": "code",
   "execution_count": null,
   "id": "9c3a783a",
   "metadata": {},
   "outputs": [],
   "source": []
  },
  {
   "cell_type": "code",
   "execution_count": 120,
   "id": "cf6ca702",
   "metadata": {},
   "outputs": [
    {
     "name": "stdout",
     "output_type": "stream",
     "text": [
      "Page - Exists: True\n"
     ]
    }
   ],
   "source": [
    "page_py = wiki_wiki.page('Spezialeinsatzkommando') #sek\n",
    "print(\"Page - Exists: %s\" % page_py.exists())"
   ]
  },
  {
   "cell_type": "code",
   "execution_count": 121,
   "id": "14610b7d",
   "metadata": {},
   "outputs": [
    {
     "name": "stdout",
     "output_type": "stream",
     "text": [
      "Page - Summary: Ein Spezialeinsatzkommando (SEK) ist eine Spezialeinheit der Polizei in Deutschland. Die Polizei jedes Bundeslandes verfügt über mindestens ein SEK. Entsprechungen auf Ebene des Bundes sind die 1972 gegründete GSG 9 der Bundespolizei sowie die 1994 ins Leben gerufene Zentrale Unterstützungsgruppe Zoll (ZUZ) der Zollverwaltung. Hervorgegangen sind die SEKs aus den Präzisionsschützenkommandos. Das SEK Baden-Württemberg gehört als einziges SEK dem Atlas-Verbund europäischer Polizei-Spezialeinheiten an.\n",
      "Während früher auch im amtlichen Sprachgebrauch Sondereinsatzkommando verwendet wurde, wird es heute nur noch umgangssprachlich verwendet, da der Begriff wegen des Sondereinsatzkommandos Eichmann der SS belastet ist.\n"
     ]
    }
   ],
   "source": [
    "print(\"Page - Summary: %s\" % page_py.summary[0:800])"
   ]
  },
  {
   "cell_type": "code",
   "execution_count": null,
   "id": "23b5c7cc",
   "metadata": {},
   "outputs": [],
   "source": []
  },
  {
   "cell_type": "code",
   "execution_count": 122,
   "id": "bd514cf9",
   "metadata": {},
   "outputs": [
    {
     "name": "stdout",
     "output_type": "stream",
     "text": [
      "Page - Exists: True\n"
     ]
    }
   ],
   "source": [
    "page_py = wiki_wiki.page('Halt die Fresse') #haltdiefressebild\n",
    "print(\"Page - Exists: %s\" % page_py.exists())"
   ]
  },
  {
   "cell_type": "code",
   "execution_count": 123,
   "id": "8b157096",
   "metadata": {},
   "outputs": [
    {
     "name": "stdout",
     "output_type": "stream",
     "text": [
      "Page - Summary: Halt die Fresse (kurz HDF) ist ein Online-Fernsehformat, das in regelmäßigen Abständen Lieder deutschsprachiger Rapper visualisiert. Die Sendung wird über Aggro TV ausgestrahlt.\n"
     ]
    }
   ],
   "source": [
    "print(\"Page - Summary: %s\" % page_py.summary[0:800])"
   ]
  },
  {
   "cell_type": "code",
   "execution_count": null,
   "id": "74baad93",
   "metadata": {},
   "outputs": [],
   "source": []
  },
  {
   "cell_type": "code",
   "execution_count": 124,
   "id": "e3d15413",
   "metadata": {},
   "outputs": [
    {
     "name": "stdout",
     "output_type": "stream",
     "text": [
      "Page - Exists: True\n"
     ]
    }
   ],
   "source": [
    "page_py = wiki_wiki.page('pipeline')\n",
    "print(\"Page - Exists: %s\" % page_py.exists())"
   ]
  },
  {
   "cell_type": "code",
   "execution_count": 125,
   "id": "2967cd8f",
   "metadata": {},
   "outputs": [
    {
     "name": "stdout",
     "output_type": "stream",
     "text": [
      "Page - Summary: Eine Pipeline (von englisch pipe = Rohr, Röhre, und von line = Linie, Leitung, Verbindung) ist eine Fernleitung für den Rohrleitungstransport von Flüssigkeiten (z. B. Wasser oder Erdöl) oder Gasen (z. B. Erdgas oder Kohlenstoffmonoxid), seltener auch Schlämmen (z. B. Kohle oder Eisenerz mit Wasser vermengt).\n",
      "Beim Öl- und Gastransport werden Pipelines über weite Entfernungen eingesetzt. Hier sind sie trotz hoher Baukosten wirtschaftlicher als der Transport mit Tankwagen oder der Eisenbahn. Einige Leitungen sind mehrere tausend Kilometer lang, z. B. das Druschba-Öl-Pipeline-System von Sibirien nach Mitteleuropa oder die \"Keystone\"-Öl-Pipeline von Alaska in die Mitte der USA.\n"
     ]
    }
   ],
   "source": [
    "print(\"Page - Summary: %s\" % page_py.summary[0:800])"
   ]
  },
  {
   "cell_type": "code",
   "execution_count": null,
   "id": "1136a365",
   "metadata": {},
   "outputs": [],
   "source": []
  },
  {
   "cell_type": "code",
   "execution_count": 126,
   "id": "7791b456",
   "metadata": {},
   "outputs": [
    {
     "name": "stdout",
     "output_type": "stream",
     "text": [
      "Page - Exists: True\n"
     ]
    }
   ],
   "source": [
    "page_py = wiki_wiki.page('terrorismus')\n",
    "print(\"Page - Exists: %s\" % page_py.exists())"
   ]
  },
  {
   "cell_type": "code",
   "execution_count": 127,
   "id": "545ccdf1",
   "metadata": {},
   "outputs": [
    {
     "name": "stdout",
     "output_type": "stream",
     "text": [
      "Page - Summary: Unter Terrorismus (abgeleitet über „Terror“ von lateinisch terror ‚Furcht‘, ‚Schrecken‘) versteht man kriminelle Gewaltaktionen gegen Menschen oder Rechtssachen (wie Morde, Entführungen, Attentate und Sprengstoffanschläge), mit denen politische, religiöse oder ideologische Ziele erreicht werden sollen. Terrorismus ist das Ausüben und Verbreiten von Terror. Er dient als Druckmittel und soll vor allem Unsicherheit und Schrecken verbreiten oder Sympathie und Unterstützungsbereitschaft erzeugen bzw. erzwingen. Es gibt keine allgemein akzeptierte wissenschaftliche Definition von Terrorismus. Die verschiedenen juristischen Definitionen des Begriffs, ob im nationalen Strafrecht oder im internationalen Recht, sind häufig aus ähnlichen Gründen umstritten.\n",
      "Terroristen greifen nicht militärisch nach \n"
     ]
    }
   ],
   "source": [
    "print(\"Page - Summary: %s\" % page_py.summary[0:800])"
   ]
  },
  {
   "cell_type": "code",
   "execution_count": null,
   "id": "da596682",
   "metadata": {},
   "outputs": [],
   "source": []
  },
  {
   "cell_type": "code",
   "execution_count": 128,
   "id": "25c87e67",
   "metadata": {},
   "outputs": [
    {
     "name": "stdout",
     "output_type": "stream",
     "text": [
      "Page - Exists: True\n"
     ]
    }
   ],
   "source": [
    "page_py = wiki_wiki.page('demokratie')\n",
    "print(\"Page - Exists: %s\" % page_py.exists())"
   ]
  },
  {
   "cell_type": "code",
   "execution_count": 129,
   "id": "d4522493",
   "metadata": {},
   "outputs": [
    {
     "name": "stdout",
     "output_type": "stream",
     "text": [
      "Page - Summary: Der Begriff Demokratie wurde im 16. Jhd. entlehnt von lateinisch democratia, abstammend von altgriechisch δημοκρατία dēmokratía ‚Volksherrschaft‘. Demokratie ist eine Form des politischen Lebens auf Basis der Gleichheit und Freiheit aller Bürger. Sie leitet die Willensbildung der Gemeinschaft vom gesamten Volk ab. Ihren Ursprung hat die Demokratie in den altgriechischen Stadtstaaten, wie in Athen um 500 v. Chr. Den Begriff Demokratie nehmen inzwischen sehr unterschiedliche politische Systeme für sich in Anspruch. Träger der Staatsgewalt ist danach stets das Staatsvolk (Herrschaft des Volkes). Das Volk wird unmittelbar (direkte Demokratie) und/oder durch Auswahl entscheidungstragender Repräsentanten (Demarchie oder repräsentative Demokratie) an allen Entscheidungen, die die Allgemeinheit ve\n"
     ]
    }
   ],
   "source": [
    "print(\"Page - Summary: %s\" % page_py.summary[0:800])"
   ]
  },
  {
   "cell_type": "code",
   "execution_count": null,
   "id": "8de0b356",
   "metadata": {},
   "outputs": [],
   "source": []
  },
  {
   "cell_type": "code",
   "execution_count": 130,
   "id": "ac0b6da0",
   "metadata": {},
   "outputs": [
    {
     "name": "stdout",
     "output_type": "stream",
     "text": [
      "Page - Exists: True\n"
     ]
    }
   ],
   "source": [
    "page_py = wiki_wiki.page('Straftat (Deutschland)') #straftaten\n",
    "print(\"Page - Exists: %s\" % page_py.exists())"
   ]
  },
  {
   "cell_type": "code",
   "execution_count": 131,
   "id": "e3951c32",
   "metadata": {},
   "outputs": [
    {
     "name": "stdout",
     "output_type": "stream",
     "text": [
      "Page - Summary: Eine Straftat ist ein rechtswidriges Verhalten (Tat oder Unterlassen), das durch den Gesetzgeber mit Strafe bedroht ist. Grundsätzlich ist nur vorsätzliches Verhalten strafbar; fahrlässiges nur dann, wenn dies das einschlägige Gesetz explizit besagt (§ 15 StGB). In Deutschland wurden Straftaten bis 1974 unterteilt in Verbrechen, Vergehen und Übertretung. Seit 1975 gibt es nur noch eine Zweiteilung von Straftaten in Verbrechen und Vergehen. Die ehemaligen Übertretungen werden seitdem entweder als Vergehen oder als Ordnungswidrigkeit eingestuft.\n",
      "Verbrechen und Vergehen sind in Deutschland gemäß § 12 StGB wie folgt definiert:\n",
      "Verbrechen: Straftaten, die im Mindestmaß mit einer Freiheitsstrafe von einem Jahr oder höher bedroht sind.\n",
      "Vergehen: Alle anderen Straftaten; das heißt Straftaten, die \n"
     ]
    }
   ],
   "source": [
    "print(\"Page - Summary: %s\" % page_py.summary[0:800])"
   ]
  },
  {
   "cell_type": "code",
   "execution_count": null,
   "id": "359123f8",
   "metadata": {},
   "outputs": [],
   "source": []
  },
  {
   "cell_type": "code",
   "execution_count": 132,
   "id": "5d9448ef",
   "metadata": {},
   "outputs": [
    {
     "name": "stdout",
     "output_type": "stream",
     "text": [
      "Page - Exists: True\n"
     ]
    }
   ],
   "source": [
    "page_py = wiki_wiki.page('ideologie')\n",
    "print(\"Page - Exists: %s\" % page_py.exists())"
   ]
  },
  {
   "cell_type": "code",
   "execution_count": 133,
   "id": "8f102cfd",
   "metadata": {},
   "outputs": [
    {
     "name": "stdout",
     "output_type": "stream",
     "text": [
      "Page - Summary: Ideologie (von französisch idéologie; zu altgriechisch ἰδέα idéa, hier „Idee“, und λόγος lógos „Lehre, Wissenschaft“ – eigentlich „Ideenlehre“) steht im weiteren Sinne bildungssprachlich für Weltanschauung. Im engeren Sinne wird damit zum einen auf Karl Marx zurückgehend das „falsche Bewusstsein“ einer Gesellschaft bezeichnet, zum anderen wird in der US-amerikanischen Wissenssoziologie jedes System von sozialen Normen als Ideologie bezeichnet, das Gruppen zur Rechtfertigung und Bewertung eigener und fremder Handlungen verwenden. Seit Marx und Engels bezieht sich der Ideologiebegriff auf „Ideen und Weltbilder, die sich nicht an Evidenz und guten Argumenten orientieren, sondern die darauf abzielen, Machtverhältnisse zu stabilisieren oder zu ändern“.Der Ideologiebegriff  der marxistischen Phi\n"
     ]
    }
   ],
   "source": [
    "print(\"Page - Summary: %s\" % page_py.summary[0:800])"
   ]
  },
  {
   "cell_type": "code",
   "execution_count": null,
   "id": "a7e6e569",
   "metadata": {},
   "outputs": [],
   "source": []
  },
  {
   "cell_type": "code",
   "execution_count": 134,
   "id": "60033ec9",
   "metadata": {},
   "outputs": [
    {
     "name": "stdout",
     "output_type": "stream",
     "text": [
      "Page - Exists: True\n"
     ]
    }
   ],
   "source": [
    "page_py = wiki_wiki.page('dänemark')\n",
    "print(\"Page - Exists: %s\" % page_py.exists())"
   ]
  },
  {
   "cell_type": "code",
   "execution_count": 135,
   "id": "53d30af3",
   "metadata": {},
   "outputs": [
    {
     "name": "stdout",
     "output_type": "stream",
     "text": [
      "Page - Summary: Dänemark (dänisch Danmark [ˈdænmɑk]) ist ein Land im nördlichen Europa und neben Grönland und den Färöern eines der drei Länder des Königreiches Dänemark. Das zwischen der Skandinavischen Halbinsel und Mitteleuropa gelegene Staatsgebiet umfasst eine Fläche von 43.094 km², wovon 23.872 km² auf die Halbinsel Jütland und der Rest auf Inseln entfallen.\n",
      "Dänemark ist eines der zwölf Gründungsmitglieder der 1949 gegründeten NATO und seit dem 1. Januar 1973 in der Europäischen Union (bzw. ihrer Vorgängerin EWG).\n",
      "Die einzige Landgrenze hat Dänemark zu Deutschland. Im dortigen, ehemals dänischen Südschleswig lebt eine dänische Minderheit. Im 1866 bis 1920 zu Preußen gehörenden Nordschleswig gibt es eine deutsche Minderheit. Dort ist Deutsch anerkannte regionale Minderheitensprache gemäß der Europäis\n"
     ]
    }
   ],
   "source": [
    "print(\"Page - Summary: %s\" % page_py.summary[0:800])"
   ]
  },
  {
   "cell_type": "code",
   "execution_count": null,
   "id": "057a893c",
   "metadata": {},
   "outputs": [],
   "source": []
  },
  {
   "cell_type": "code",
   "execution_count": 136,
   "id": "f770ce1a",
   "metadata": {},
   "outputs": [
    {
     "name": "stdout",
     "output_type": "stream",
     "text": [
      "Page - Exists: True\n"
     ]
    }
   ],
   "source": [
    "page_py = wiki_wiki.page('Misogynie') #frauenhasser\n",
    "print(\"Page - Exists: %s\" % page_py.exists())"
   ]
  },
  {
   "cell_type": "code",
   "execution_count": 137,
   "id": "ff53264d",
   "metadata": {},
   "outputs": [
    {
     "name": "stdout",
     "output_type": "stream",
     "text": [
      "Page - Summary: Misogynie (von altgriechisch misos „Hass“, und gyne „Frau“) oder Frauenfeindlichkeit ist ein Oberbegriff für soziokulturelle Einstellungsmuster der geringeren Relevanz oder Wertigkeit von Frauen beziehungsweise der höheren Relevanz oder Wertigkeit von Männern. Sie wird sowohl von Männern als auch von Frauen selbst über die psychosoziale Entwicklung verinnerlicht (Sozialisation, Habitualisierung) und stellt die Erzeugungsgrundlage für den hierarchisierenden Geschlechtshabitus von Männlichkeit und Weiblichkeit dar. Sie ist damit die Basis hegemonialer Männlichkeit oder patriarchaler Beziehungsgefüge.\n",
      "Misogynie ist tief in menschlichen Kulturen verankert. Da sie sozialen Normen oder Idealen jedoch widerspricht, gilt sie gesellschaftlich als „krankhaftes“, „abnormes Gefühl“. Aufgrund dieser fu\n"
     ]
    }
   ],
   "source": [
    "print(\"Page - Summary: %s\" % page_py.summary[0:800])"
   ]
  },
  {
   "cell_type": "code",
   "execution_count": null,
<<<<<<< Updated upstream
   "id": "3b668f2c",
=======
   "id": "5d684a5d",
>>>>>>> Stashed changes
   "metadata": {},
   "outputs": [],
   "source": []
  },
  {
   "cell_type": "code",
   "execution_count": null,
<<<<<<< Updated upstream
   "id": "75c9d456",
   "metadata": {},
   "outputs": [],
   "source": [
    "page_py = wiki_wiki.page('')\n",
    "print(\"Page - Exists: %s\" % page_py.exists())"
   ]
  },
  {
   "cell_type": "code",
   "execution_count": null,
   "id": "6de34800",
   "metadata": {},
   "outputs": [],
   "source": [
    "print(\"Page - Summary: %s\" % page_py.summary[0:800])"
   ]
  },
  {
   "cell_type": "code",
   "execution_count": null,
   "id": "d7019c5f",
   "metadata": {},
   "outputs": [],
   "source": []
  },
  {
   "cell_type": "code",
   "execution_count": null,
   "id": "94e1556a",
   "metadata": {},
   "outputs": [],
   "source": [
    "page_py = wiki_wiki.page('')\n",
    "print(\"Page - Exists: %s\" % page_py.exists())"
   ]
  },
  {
   "cell_type": "code",
   "execution_count": null,
   "id": "b6f1f07e",
   "metadata": {},
   "outputs": [],
   "source": [
    "print(\"Page - Summary: %s\" % page_py.summary[0:800])"
   ]
  },
  {
   "cell_type": "code",
   "execution_count": null,
   "id": "c3d98204",
   "metadata": {},
   "outputs": [],
   "source": []
  },
  {
   "cell_type": "code",
   "execution_count": null,
   "id": "8aa948c7",
   "metadata": {},
   "outputs": [],
   "source": [
    "page_py = wiki_wiki.page('')\n",
    "print(\"Page - Exists: %s\" % page_py.exists())"
   ]
  },
  {
   "cell_type": "code",
   "execution_count": null,
   "id": "ccd17d99",
   "metadata": {},
   "outputs": [],
   "source": [
    "print(\"Page - Summary: %s\" % page_py.summary[0:800])"
   ]
  },
  {
   "cell_type": "code",
   "execution_count": null,
   "id": "5f9a7cfa",
   "metadata": {},
   "outputs": [],
   "source": []
  },
  {
   "cell_type": "code",
   "execution_count": null,
   "id": "1f8e808e",
   "metadata": {},
   "outputs": [],
   "source": [
    "page_py = wiki_wiki.page('')\n",
    "print(\"Page - Exists: %s\" % page_py.exists())"
   ]
  },
  {
   "cell_type": "code",
   "execution_count": null,
   "id": "00c70fc1",
   "metadata": {},
   "outputs": [],
   "source": [
    "print(\"Page - Summary: %s\" % page_py.summary[0:800])"
   ]
  },
  {
   "cell_type": "code",
   "execution_count": null,
   "id": "539ecb2a",
   "metadata": {},
   "outputs": [],
   "source": []
  },
  {
   "cell_type": "code",
   "execution_count": null,
   "id": "7361a96e",
   "metadata": {},
   "outputs": [],
   "source": [
    "page_py = wiki_wiki.page('')\n",
    "print(\"Page - Exists: %s\" % page_py.exists())"
   ]
  },
  {
   "cell_type": "code",
   "execution_count": null,
   "id": "d136126e",
   "metadata": {},
   "outputs": [],
   "source": [
    "print(\"Page - Summary: %s\" % page_py.summary[0:800])"
   ]
  },
  {
   "cell_type": "code",
   "execution_count": null,
   "id": "4819c2c3",
   "metadata": {},
   "outputs": [],
   "source": []
  },
  {
   "cell_type": "code",
   "execution_count": null,
   "id": "b448a3d9",
   "metadata": {},
   "outputs": [],
   "source": [
    "page_py = wiki_wiki.page('')\n",
    "print(\"Page - Exists: %s\" % page_py.exists())"
   ]
  },
  {
   "cell_type": "code",
   "execution_count": null,
   "id": "1c5de566",
   "metadata": {},
   "outputs": [],
   "source": [
    "print(\"Page - Summary: %s\" % page_py.summary[0:800])"
   ]
  },
  {
   "cell_type": "code",
   "execution_count": null,
   "id": "a731bb1b",
=======
   "id": "ae255a7a",
>>>>>>> Stashed changes
   "metadata": {},
   "outputs": [],
   "source": []
  },
  {
   "cell_type": "code",
   "execution_count": null,
<<<<<<< Updated upstream
   "id": "473d33e5",
   "metadata": {},
   "outputs": [],
   "source": [
    "page_py = wiki_wiki.page('')\n",
    "print(\"Page - Exists: %s\" % page_py.exists())"
   ]
  },
  {
   "cell_type": "code",
   "execution_count": null,
   "id": "c6dc33d2",
   "metadata": {},
   "outputs": [],
   "source": [
    "print(\"Page - Summary: %s\" % page_py.summary[0:800])"
   ]
  },
  {
   "cell_type": "code",
   "execution_count": null,
   "id": "8e5f518e",
=======
   "id": "9d35a2ec",
>>>>>>> Stashed changes
   "metadata": {},
   "outputs": [],
   "source": []
  },
  {
   "cell_type": "code",
   "execution_count": null,
<<<<<<< Updated upstream
   "id": "86bd8cb4",
   "metadata": {},
   "outputs": [],
   "source": [
    "page_py = wiki_wiki.page('')\n",
    "print(\"Page - Exists: %s\" % page_py.exists())"
   ]
  },
  {
   "cell_type": "code",
   "execution_count": null,
   "id": "ab926b69",
   "metadata": {},
   "outputs": [],
   "source": [
    "print(\"Page - Summary: %s\" % page_py.summary[0:800])"
   ]
  },
  {
   "cell_type": "code",
   "execution_count": null,
   "id": "30f9c089",
=======
   "id": "c6ec71be",
>>>>>>> Stashed changes
   "metadata": {},
   "outputs": [],
   "source": []
  },
  {
   "cell_type": "code",
   "execution_count": null,
<<<<<<< Updated upstream
   "id": "d8199d09",
   "metadata": {},
   "outputs": [],
   "source": [
    "page_py = wiki_wiki.page('')\n",
    "print(\"Page - Exists: %s\" % page_py.exists())"
   ]
  },
  {
   "cell_type": "code",
   "execution_count": null,
   "id": "e6fc4967",
   "metadata": {},
   "outputs": [],
   "source": [
    "print(\"Page - Summary: %s\" % page_py.summary[0:800])"
   ]
  },
  {
   "cell_type": "code",
   "execution_count": null,
   "id": "17b590da",
   "metadata": {},
   "outputs": [],
   "source": []
  },
  {
   "cell_type": "code",
   "execution_count": null,
   "id": "67105c8d",
   "metadata": {},
   "outputs": [],
   "source": [
    "page_py = wiki_wiki.page('')\n",
    "print(\"Page - Exists: %s\" % page_py.exists())"
   ]
  },
  {
   "cell_type": "code",
   "execution_count": null,
   "id": "53b98f8b",
   "metadata": {},
   "outputs": [],
   "source": [
    "print(\"Page - Summary: %s\" % page_py.summary[0:800])"
   ]
  },
  {
   "cell_type": "code",
   "execution_count": null,
   "id": "d25c2b3b",
   "metadata": {},
   "outputs": [],
   "source": []
  },
  {
   "cell_type": "code",
   "execution_count": null,
   "id": "aaf6c3cb",
   "metadata": {},
   "outputs": [],
   "source": [
    "page_py = wiki_wiki.page('')\n",
    "print(\"Page - Exists: %s\" % page_py.exists())"
   ]
  },
  {
   "cell_type": "code",
   "execution_count": null,
   "id": "586d408c",
   "metadata": {},
   "outputs": [],
   "source": [
    "print(\"Page - Summary: %s\" % page_py.summary[0:800])"
   ]
  },
  {
   "cell_type": "code",
   "execution_count": null,
   "id": "c3dbdd0c",
   "metadata": {},
   "outputs": [],
   "source": []
  },
  {
   "cell_type": "code",
   "execution_count": null,
   "id": "e28b2e74",
   "metadata": {},
   "outputs": [],
   "source": [
    "page_py = wiki_wiki.page('')\n",
    "print(\"Page - Exists: %s\" % page_py.exists())"
   ]
  },
  {
   "cell_type": "code",
   "execution_count": null,
   "id": "61e54923",
   "metadata": {},
   "outputs": [],
   "source": [
    "print(\"Page - Summary: %s\" % page_py.summary[0:800])"
   ]
  },
  {
   "cell_type": "code",
   "execution_count": null,
   "id": "bf5ca5ea",
   "metadata": {},
   "outputs": [],
   "source": []
  },
  {
   "cell_type": "code",
   "execution_count": null,
   "id": "8e06c03e",
   "metadata": {},
   "outputs": [],
   "source": [
    "page_py = wiki_wiki.page('')\n",
    "print(\"Page - Exists: %s\" % page_py.exists())"
   ]
  },
  {
   "cell_type": "code",
   "execution_count": null,
   "id": "c2601315",
   "metadata": {},
   "outputs": [],
   "source": [
    "print(\"Page - Summary: %s\" % page_py.summary[0:800])"
   ]
  },
  {
   "cell_type": "code",
   "execution_count": null,
   "id": "b2c3c4a9",
   "metadata": {},
   "outputs": [],
   "source": []
  },
  {
   "cell_type": "code",
   "execution_count": null,
   "id": "bc9a8b2f",
   "metadata": {},
   "outputs": [],
   "source": [
    "page_py = wiki_wiki.page('')\n",
    "print(\"Page - Exists: %s\" % page_py.exists())"
   ]
  },
  {
   "cell_type": "code",
   "execution_count": null,
   "id": "fbc93af4",
   "metadata": {},
   "outputs": [],
   "source": [
    "print(\"Page - Summary: %s\" % page_py.summary[0:800])"
   ]
  },
  {
   "cell_type": "code",
   "execution_count": null,
   "id": "8c502ece",
   "metadata": {},
   "outputs": [],
   "source": []
  },
  {
   "cell_type": "code",
   "execution_count": null,
   "id": "263cd2a1",
   "metadata": {},
   "outputs": [],
   "source": [
    "page_py = wiki_wiki.page('')\n",
    "print(\"Page - Exists: %s\" % page_py.exists())"
   ]
  },
  {
   "cell_type": "code",
   "execution_count": null,
   "id": "58a938e0",
   "metadata": {},
   "outputs": [],
   "source": [
    "print(\"Page - Summary: %s\" % page_py.summary[0:800])"
   ]
  },
  {
   "cell_type": "code",
   "execution_count": null,
   "id": "69104ebb",
   "metadata": {},
   "outputs": [],
   "source": []
  },
  {
   "cell_type": "code",
   "execution_count": null,
   "id": "935dba7a",
   "metadata": {},
   "outputs": [],
   "source": [
    "page_py = wiki_wiki.page('')\n",
    "print(\"Page - Exists: %s\" % page_py.exists())"
   ]
  },
  {
   "cell_type": "code",
   "execution_count": null,
   "id": "2588f3d7",
   "metadata": {},
   "outputs": [],
   "source": [
    "print(\"Page - Summary: %s\" % page_py.summary[0:800])"
   ]
  },
  {
   "cell_type": "code",
   "execution_count": null,
   "id": "978f537e",
   "metadata": {},
   "outputs": [],
   "source": []
  },
  {
   "cell_type": "code",
   "execution_count": null,
   "id": "0835366b",
   "metadata": {},
   "outputs": [],
   "source": [
    "page_py = wiki_wiki.page('')\n",
    "print(\"Page - Exists: %s\" % page_py.exists())"
   ]
  },
  {
   "cell_type": "code",
   "execution_count": null,
   "id": "fc937890",
   "metadata": {},
   "outputs": [],
   "source": [
    "print(\"Page - Summary: %s\" % page_py.summary[0:800])"
   ]
  },
  {
   "cell_type": "code",
   "execution_count": null,
   "id": "9afeee11",
   "metadata": {},
   "outputs": [],
   "source": []
  },
  {
   "cell_type": "code",
   "execution_count": null,
   "id": "82af0a1b",
   "metadata": {},
   "outputs": [],
   "source": [
    "page_py = wiki_wiki.page('')\n",
    "print(\"Page - Exists: %s\" % page_py.exists())"
   ]
  },
  {
   "cell_type": "code",
   "execution_count": null,
   "id": "1fed9888",
   "metadata": {},
   "outputs": [],
   "source": [
    "print(\"Page - Summary: %s\" % page_py.summary[0:800])"
   ]
  },
  {
   "cell_type": "code",
   "execution_count": null,
   "id": "06200d96",
   "metadata": {},
   "outputs": [],
   "source": []
  },
  {
   "cell_type": "code",
   "execution_count": null,
   "id": "34471431",
   "metadata": {},
   "outputs": [],
   "source": [
    "page_py = wiki_wiki.page('')\n",
    "print(\"Page - Exists: %s\" % page_py.exists())"
   ]
  },
  {
   "cell_type": "code",
   "execution_count": null,
   "id": "47158552",
   "metadata": {},
   "outputs": [],
   "source": [
    "print(\"Page - Summary: %s\" % page_py.summary[0:800])"
   ]
  },
  {
   "cell_type": "code",
   "execution_count": null,
   "id": "4790fc9b",
   "metadata": {},
   "outputs": [],
   "source": []
  },
  {
   "cell_type": "code",
   "execution_count": null,
   "id": "4107ffe4",
   "metadata": {},
   "outputs": [],
   "source": [
    "page_py = wiki_wiki.page('')\n",
    "print(\"Page - Exists: %s\" % page_py.exists())"
   ]
  },
  {
   "cell_type": "code",
   "execution_count": null,
   "id": "40d9c686",
   "metadata": {},
   "outputs": [],
   "source": [
    "print(\"Page - Summary: %s\" % page_py.summary[0:800])"
   ]
  },
  {
   "cell_type": "code",
   "execution_count": null,
   "id": "5970710c",
   "metadata": {},
   "outputs": [],
   "source": []
  },
  {
   "cell_type": "code",
   "execution_count": null,
   "id": "6d79d6ac",
   "metadata": {},
   "outputs": [],
   "source": [
    "page_py = wiki_wiki.page('')\n",
    "print(\"Page - Exists: %s\" % page_py.exists())"
   ]
  },
  {
   "cell_type": "code",
   "execution_count": null,
   "id": "8d13f343",
   "metadata": {},
   "outputs": [],
   "source": [
    "print(\"Page - Summary: %s\" % page_py.summary[0:800])"
   ]
  },
  {
   "cell_type": "code",
   "execution_count": null,
   "id": "8fbbaf37",
=======
   "id": "0d25b4c1",
>>>>>>> Stashed changes
   "metadata": {},
   "outputs": [],
   "source": []
  },
  {
   "cell_type": "code",
   "execution_count": null,
<<<<<<< Updated upstream
   "id": "da89eff5",
=======
   "id": "e2947aad",
>>>>>>> Stashed changes
   "metadata": {},
   "outputs": [],
   "source": []
  }
 ],
 "metadata": {
  "kernelspec": {
   "display_name": "Python 3 (ipykernel)",
   "language": "python",
   "name": "python3"
  },
  "language_info": {
   "codemirror_mode": {
    "name": "ipython",
    "version": 3
   },
   "file_extension": ".py",
   "mimetype": "text/x-python",
   "name": "python",
   "nbconvert_exporter": "python",
   "pygments_lexer": "ipython3",
   "version": "3.9.7"
  }
 },
 "nbformat": 4,
 "nbformat_minor": 5
}
