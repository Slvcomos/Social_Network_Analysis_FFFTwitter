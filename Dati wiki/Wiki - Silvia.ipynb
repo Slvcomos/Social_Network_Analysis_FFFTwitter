{
 "cells": [
  {
   "cell_type": "code",
   "execution_count": null,
   "id": "976b90eb",
   "metadata": {},
   "outputs": [],
   "source": [
    "pip install Wikipedia-API"
   ]
  },
  {
   "cell_type": "code",
   "execution_count": 4,
   "id": "562fc621",
   "metadata": {},
   "outputs": [],
   "source": [
    "import wikipediaapi"
   ]
  },
  {
   "cell_type": "code",
   "execution_count": 5,
   "id": "6afaae87",
   "metadata": {},
   "outputs": [],
   "source": [
    "#Inserimento lingua di interesse\n",
    "wiki_wiki = wikipediaapi.Wikipedia('en')"
   ]
  },
  {
   "cell_type": "code",
   "execution_count": 12,
   "id": "88346bf2",
   "metadata": {},
   "outputs": [],
   "source": [
    "#Ricerca pagina su wiki  bisogna inserire la parola dentro ' '\n",
    "page_py = wiki_wiki.page('')\n",
    "print(\"Page - Exists: %s\" % page_py.exists())"
   ]
  },
  {
   "cell_type": "code",
   "execution_count": 13,
   "id": "ba0c5c1b",
   "metadata": {},
   "outputs": [],
   "source": [
    "#estrazione significato\n",
    "print(\"Page - Summary: %s\" % page_py.summary[0:800])"
   ]
  },
  {
   "cell_type": "code",
   "execution_count": null,
   "id": "7b4eead5",
   "metadata": {},
   "outputs": [],
   "source": []
  },
  {
   "cell_type": "code",
   "execution_count": null,
   "id": "8650cc42",
   "metadata": {},
   "outputs": [],
   "source": [
    "page_py = wiki_wiki.page('')\n",
    "print(\"Page - Exists: %s\" % page_py.exists())"
   ]
  },
  {
   "cell_type": "code",
   "execution_count": null,
   "id": "73688125",
   "metadata": {},
   "outputs": [],
   "source": [
    "print(\"Page - Summary: %s\" % page_py.summary[0:800])"
   ]
  },
  {
   "cell_type": "code",
   "execution_count": null,
   "id": "2faa13db",
   "metadata": {},
   "outputs": [],
   "source": []
  },
  {
   "cell_type": "code",
   "execution_count": null,
   "id": "64da3d8a",
   "metadata": {},
   "outputs": [],
   "source": [
    "page_py = wiki_wiki.page('')\n",
    "print(\"Page - Exists: %s\" % page_py.exists())"
   ]
  },
  {
   "cell_type": "code",
   "execution_count": null,
   "id": "9718ce09",
   "metadata": {},
   "outputs": [],
   "source": [
    "print(\"Page - Summary: %s\" % page_py.summary[0:800])"
   ]
  },
  {
   "cell_type": "code",
   "execution_count": null,
   "id": "9d8e4781",
   "metadata": {},
   "outputs": [],
   "source": []
  },
  {
   "cell_type": "code",
   "execution_count": null,
   "id": "0fec65ce",
   "metadata": {},
   "outputs": [],
   "source": [
    "page_py = wiki_wiki.page('')\n",
    "print(\"Page - Exists: %s\" % page_py.exists())"
   ]
  },
  {
   "cell_type": "code",
   "execution_count": null,
   "id": "02a3c77c",
   "metadata": {},
   "outputs": [],
   "source": [
    "print(\"Page - Summary: %s\" % page_py.summary[0:800])"
   ]
  },
  {
   "cell_type": "code",
   "execution_count": null,
   "id": "de8fb79e",
   "metadata": {},
   "outputs": [],
   "source": []
  },
  {
   "cell_type": "code",
   "execution_count": null,
   "id": "5fb966fc",
   "metadata": {},
   "outputs": [],
   "source": [
    "page_py = wiki_wiki.page('')\n",
    "print(\"Page - Exists: %s\" % page_py.exists())"
   ]
  },
  {
   "cell_type": "code",
   "execution_count": null,
   "id": "f6ee27f0",
   "metadata": {},
   "outputs": [],
   "source": [
    "print(\"Page - Summary: %s\" % page_py.summary[0:800])"
   ]
  },
  {
   "cell_type": "code",
   "execution_count": null,
   "id": "ecfd1b6b",
   "metadata": {},
   "outputs": [],
   "source": []
  },
  {
   "cell_type": "code",
   "execution_count": null,
   "id": "003da298",
   "metadata": {},
   "outputs": [],
   "source": [
    "page_py = wiki_wiki.page('')\n",
    "print(\"Page - Exists: %s\" % page_py.exists())"
   ]
  },
  {
   "cell_type": "code",
   "execution_count": null,
   "id": "2ff73cc6",
   "metadata": {},
   "outputs": [],
   "source": [
    "print(\"Page - Summary: %s\" % page_py.summary[0:800])"
   ]
  },
  {
   "cell_type": "code",
   "execution_count": null,
   "id": "c153f25b",
   "metadata": {},
   "outputs": [],
   "source": []
  },
  {
   "cell_type": "code",
   "execution_count": null,
   "id": "2152e478",
   "metadata": {},
   "outputs": [],
   "source": [
    "page_py = wiki_wiki.page('')\n",
    "print(\"Page - Exists: %s\" % page_py.exists())"
   ]
  },
  {
   "cell_type": "code",
   "execution_count": null,
   "id": "0db18761",
   "metadata": {},
   "outputs": [],
   "source": [
    "print(\"Page - Summary: %s\" % page_py.summary[0:800])"
   ]
  },
  {
   "cell_type": "code",
   "execution_count": null,
   "id": "f2999519",
   "metadata": {},
   "outputs": [],
   "source": []
  },
  {
   "cell_type": "code",
   "execution_count": null,
   "id": "69d6a3d8",
   "metadata": {},
   "outputs": [],
   "source": [
    "page_py = wiki_wiki.page('')\n",
    "print(\"Page - Exists: %s\" % page_py.exists())"
   ]
  },
  {
   "cell_type": "code",
   "execution_count": null,
   "id": "045bd012",
   "metadata": {},
   "outputs": [],
   "source": [
    "print(\"Page - Summary: %s\" % page_py.summary[0:800])"
   ]
  },
  {
   "cell_type": "code",
   "execution_count": null,
   "id": "afb3d825",
   "metadata": {},
   "outputs": [],
   "source": []
  },
  {
   "cell_type": "code",
   "execution_count": null,
   "id": "a9804cbc",
   "metadata": {},
   "outputs": [],
   "source": [
    "page_py = wiki_wiki.page('')\n",
    "print(\"Page - Exists: %s\" % page_py.exists())"
   ]
  },
  {
   "cell_type": "code",
   "execution_count": null,
   "id": "bd27be75",
   "metadata": {},
   "outputs": [],
   "source": [
    "print(\"Page - Summary: %s\" % page_py.summary[0:800])"
   ]
  },
  {
   "cell_type": "code",
   "execution_count": null,
   "id": "a221d764",
   "metadata": {},
   "outputs": [],
   "source": []
  },
  {
   "cell_type": "code",
   "execution_count": null,
   "id": "b8265c2b",
   "metadata": {},
   "outputs": [],
   "source": [
    "page_py = wiki_wiki.page('')\n",
    "print(\"Page - Exists: %s\" % page_py.exists())"
   ]
  },
  {
   "cell_type": "code",
   "execution_count": null,
   "id": "4ee8b407",
   "metadata": {},
   "outputs": [],
   "source": [
    "print(\"Page - Summary: %s\" % page_py.summary[0:800])"
   ]
  },
  {
   "cell_type": "code",
   "execution_count": null,
   "id": "da40dbc9",
   "metadata": {},
   "outputs": [],
   "source": []
  },
  {
   "cell_type": "code",
   "execution_count": null,
   "id": "9747c877",
   "metadata": {},
   "outputs": [],
   "source": [
    "page_py = wiki_wiki.page('')\n",
    "print(\"Page - Exists: %s\" % page_py.exists())"
   ]
  },
  {
   "cell_type": "code",
   "execution_count": null,
   "id": "bacb0fa4",
   "metadata": {},
   "outputs": [],
   "source": [
    "print(\"Page - Summary: %s\" % page_py.summary[0:800])"
   ]
  },
  {
   "cell_type": "code",
   "execution_count": null,
   "id": "247717a3",
   "metadata": {},
   "outputs": [],
   "source": []
  },
  {
   "cell_type": "code",
   "execution_count": null,
   "id": "495f852e",
   "metadata": {},
   "outputs": [],
   "source": [
    "page_py = wiki_wiki.page('')\n",
    "print(\"Page - Exists: %s\" % page_py.exists())"
   ]
  },
  {
   "cell_type": "code",
   "execution_count": null,
   "id": "957df72f",
   "metadata": {},
   "outputs": [],
   "source": [
    "print(\"Page - Summary: %s\" % page_py.summary[0:800])"
   ]
  },
  {
   "cell_type": "code",
   "execution_count": null,
   "id": "32a8d234",
   "metadata": {},
   "outputs": [],
   "source": []
  },
  {
   "cell_type": "code",
   "execution_count": null,
   "id": "eb338c47",
   "metadata": {},
   "outputs": [],
   "source": [
    "page_py = wiki_wiki.page('')\n",
    "print(\"Page - Exists: %s\" % page_py.exists())"
   ]
  },
  {
   "cell_type": "code",
   "execution_count": null,
   "id": "eed3477c",
   "metadata": {},
   "outputs": [],
   "source": [
    "print(\"Page - Summary: %s\" % page_py.summary[0:800])"
   ]
  },
  {
   "cell_type": "code",
   "execution_count": null,
   "id": "ca41f6f3",
   "metadata": {},
   "outputs": [],
   "source": []
  },
  {
   "cell_type": "code",
   "execution_count": null,
   "id": "175631d6",
   "metadata": {},
   "outputs": [],
   "source": [
    "page_py = wiki_wiki.page('')\n",
    "print(\"Page - Exists: %s\" % page_py.exists())"
   ]
  },
  {
   "cell_type": "code",
   "execution_count": null,
   "id": "1e9aa602",
   "metadata": {},
   "outputs": [],
   "source": [
    "print(\"Page - Summary: %s\" % page_py.summary[0:800])"
   ]
  },
  {
   "cell_type": "code",
   "execution_count": null,
   "id": "8baa9052",
   "metadata": {},
   "outputs": [],
   "source": []
  },
  {
   "cell_type": "code",
   "execution_count": null,
   "id": "07487354",
   "metadata": {},
   "outputs": [],
   "source": [
    "page_py = wiki_wiki.page('')\n",
    "print(\"Page - Exists: %s\" % page_py.exists())"
   ]
  },
  {
   "cell_type": "code",
   "execution_count": null,
   "id": "3c2fa156",
   "metadata": {},
   "outputs": [],
   "source": [
    "print(\"Page - Summary: %s\" % page_py.summary[0:800])"
   ]
  },
  {
   "cell_type": "code",
   "execution_count": null,
   "id": "0391d30a",
   "metadata": {},
   "outputs": [],
   "source": []
  },
  {
   "cell_type": "code",
   "execution_count": null,
   "id": "595bec45",
   "metadata": {},
   "outputs": [],
   "source": [
    "page_py = wiki_wiki.page('')\n",
    "print(\"Page - Exists: %s\" % page_py.exists())"
   ]
  },
  {
   "cell_type": "code",
   "execution_count": null,
   "id": "79cf1bc7",
   "metadata": {},
   "outputs": [],
   "source": [
    "print(\"Page - Summary: %s\" % page_py.summary[0:800])"
   ]
  },
  {
   "cell_type": "code",
   "execution_count": null,
   "id": "28e585ee",
   "metadata": {},
   "outputs": [],
   "source": []
  },
  {
   "cell_type": "code",
   "execution_count": null,
   "id": "212d1498",
   "metadata": {},
   "outputs": [],
   "source": [
    "page_py = wiki_wiki.page('')\n",
    "print(\"Page - Exists: %s\" % page_py.exists())"
   ]
  },
  {
   "cell_type": "code",
   "execution_count": null,
   "id": "d1c3876f",
   "metadata": {},
   "outputs": [],
   "source": [
    "print(\"Page - Summary: %s\" % page_py.summary[0:800])"
   ]
  },
  {
   "cell_type": "code",
   "execution_count": null,
   "id": "7a7a3540",
   "metadata": {},
   "outputs": [],
   "source": []
  },
  {
   "cell_type": "code",
   "execution_count": null,
   "id": "e9ab88ea",
   "metadata": {},
   "outputs": [],
   "source": [
    "page_py = wiki_wiki.page('')\n",
    "print(\"Page - Exists: %s\" % page_py.exists())"
   ]
  },
  {
   "cell_type": "code",
   "execution_count": null,
   "id": "c62fc525",
   "metadata": {},
   "outputs": [],
   "source": [
    "print(\"Page - Summary: %s\" % page_py.summary[0:800])"
   ]
  },
  {
   "cell_type": "code",
   "execution_count": null,
   "id": "edfac3c4",
   "metadata": {},
   "outputs": [],
   "source": []
  },
  {
   "cell_type": "code",
   "execution_count": null,
   "id": "b5d27feb",
   "metadata": {},
   "outputs": [],
   "source": [
    "page_py = wiki_wiki.page('')\n",
    "print(\"Page - Exists: %s\" % page_py.exists())"
   ]
  },
  {
   "cell_type": "code",
   "execution_count": null,
   "id": "063e9310",
   "metadata": {},
   "outputs": [],
   "source": [
    "print(\"Page - Summary: %s\" % page_py.summary[0:800])"
   ]
  },
  {
   "cell_type": "code",
   "execution_count": null,
   "id": "70fb0003",
   "metadata": {},
   "outputs": [],
   "source": []
  },
  {
   "cell_type": "code",
   "execution_count": null,
   "id": "5c38bb7d",
   "metadata": {},
   "outputs": [],
   "source": [
    "page_py = wiki_wiki.page('')\n",
    "print(\"Page - Exists: %s\" % page_py.exists())"
   ]
  },
  {
   "cell_type": "code",
   "execution_count": null,
   "id": "a1c41791",
   "metadata": {},
   "outputs": [],
   "source": [
    "print(\"Page - Summary: %s\" % page_py.summary[0:800])"
   ]
  },
  {
   "cell_type": "code",
   "execution_count": null,
   "id": "057476e3",
   "metadata": {},
   "outputs": [],
   "source": []
  },
  {
   "cell_type": "code",
   "execution_count": null,
   "id": "9948574c",
   "metadata": {},
   "outputs": [],
   "source": [
    "page_py = wiki_wiki.page('')\n",
    "print(\"Page - Exists: %s\" % page_py.exists())"
   ]
  },
  {
   "cell_type": "code",
   "execution_count": null,
   "id": "c82fdbc0",
   "metadata": {},
   "outputs": [],
   "source": [
    "print(\"Page - Summary: %s\" % page_py.summary[0:800])"
   ]
  },
  {
   "cell_type": "code",
   "execution_count": null,
   "id": "3c54f87d",
   "metadata": {},
   "outputs": [],
   "source": []
  },
  {
   "cell_type": "code",
   "execution_count": null,
   "id": "b346dd76",
   "metadata": {},
   "outputs": [],
   "source": [
    "page_py = wiki_wiki.page('')\n",
    "print(\"Page - Exists: %s\" % page_py.exists())"
   ]
  },
  {
   "cell_type": "code",
   "execution_count": null,
   "id": "2f22e7e7",
   "metadata": {},
   "outputs": [],
   "source": [
    "print(\"Page - Summary: %s\" % page_py.summary[0:800])"
   ]
  },
  {
   "cell_type": "code",
   "execution_count": null,
   "id": "5ead5a1f",
   "metadata": {},
   "outputs": [],
   "source": []
  },
  {
   "cell_type": "code",
   "execution_count": null,
   "id": "2078e8d7",
   "metadata": {},
   "outputs": [],
   "source": [
    "page_py = wiki_wiki.page('')\n",
    "print(\"Page - Exists: %s\" % page_py.exists())"
   ]
  },
  {
   "cell_type": "code",
   "execution_count": null,
   "id": "3f0e7639",
   "metadata": {},
   "outputs": [],
   "source": [
    "print(\"Page - Summary: %s\" % page_py.summary[0:800])"
   ]
  },
  {
   "cell_type": "code",
   "execution_count": null,
   "id": "88fab95f",
   "metadata": {},
   "outputs": [],
   "source": []
  },
  {
   "cell_type": "code",
   "execution_count": null,
   "id": "45d93b6f",
   "metadata": {},
   "outputs": [],
   "source": [
    "page_py = wiki_wiki.page('')\n",
    "print(\"Page - Exists: %s\" % page_py.exists())"
   ]
  },
  {
   "cell_type": "code",
   "execution_count": null,
   "id": "3e47fe5d",
   "metadata": {},
   "outputs": [],
   "source": [
    "print(\"Page - Summary: %s\" % page_py.summary[0:800])"
   ]
  },
  {
   "cell_type": "code",
   "execution_count": null,
   "id": "76d323bd",
   "metadata": {},
   "outputs": [],
   "source": []
  },
  {
   "cell_type": "code",
   "execution_count": null,
   "id": "9178a740",
   "metadata": {},
   "outputs": [],
   "source": [
    "page_py = wiki_wiki.page('')\n",
    "print(\"Page - Exists: %s\" % page_py.exists())"
   ]
  },
  {
   "cell_type": "code",
   "execution_count": null,
   "id": "82613340",
   "metadata": {},
   "outputs": [],
   "source": [
    "print(\"Page - Summary: %s\" % page_py.summary[0:800])"
   ]
  },
  {
   "cell_type": "code",
   "execution_count": null,
   "id": "0322ce59",
   "metadata": {},
   "outputs": [],
   "source": []
  },
  {
   "cell_type": "code",
   "execution_count": null,
   "id": "50442ae6",
   "metadata": {},
   "outputs": [],
   "source": [
    "page_py = wiki_wiki.page('')\n",
    "print(\"Page - Exists: %s\" % page_py.exists())"
   ]
  },
  {
   "cell_type": "code",
   "execution_count": null,
   "id": "9704ed38",
   "metadata": {},
   "outputs": [],
   "source": [
    "print(\"Page - Summary: %s\" % page_py.summary[0:800])"
   ]
  },
  {
   "cell_type": "code",
   "execution_count": null,
   "id": "8e4f4687",
   "metadata": {},
   "outputs": [],
   "source": []
  },
  {
   "cell_type": "code",
   "execution_count": null,
   "id": "1cb6fdd2",
   "metadata": {},
   "outputs": [],
   "source": [
    "page_py = wiki_wiki.page('')\n",
    "print(\"Page - Exists: %s\" % page_py.exists())"
   ]
  },
  {
   "cell_type": "code",
   "execution_count": null,
   "id": "1501a759",
   "metadata": {},
   "outputs": [],
   "source": [
    "print(\"Page - Summary: %s\" % page_py.summary[0:800])"
   ]
  },
  {
   "cell_type": "code",
   "execution_count": null,
   "id": "32ecaab6",
   "metadata": {},
   "outputs": [],
   "source": []
  },
  {
   "cell_type": "code",
   "execution_count": null,
   "id": "244ecb66",
   "metadata": {},
   "outputs": [],
   "source": [
    "page_py = wiki_wiki.page('')\n",
    "print(\"Page - Exists: %s\" % page_py.exists())"
   ]
  },
  {
   "cell_type": "code",
   "execution_count": null,
   "id": "278e7ea1",
   "metadata": {},
   "outputs": [],
   "source": [
    "print(\"Page - Summary: %s\" % page_py.summary[0:800])"
   ]
  },
  {
   "cell_type": "code",
   "execution_count": null,
   "id": "b0976f1b",
   "metadata": {},
   "outputs": [],
   "source": []
  },
  {
   "cell_type": "code",
   "execution_count": null,
   "id": "0075d742",
   "metadata": {},
   "outputs": [],
   "source": [
    "page_py = wiki_wiki.page('')\n",
    "print(\"Page - Exists: %s\" % page_py.exists())"
   ]
  },
  {
   "cell_type": "code",
   "execution_count": null,
   "id": "ee1efdba",
   "metadata": {},
   "outputs": [],
   "source": [
    "print(\"Page - Summary: %s\" % page_py.summary[0:800])"
   ]
  },
  {
   "cell_type": "code",
   "execution_count": null,
   "id": "788ae4bb",
   "metadata": {},
   "outputs": [],
   "source": []
  },
  {
   "cell_type": "code",
   "execution_count": null,
   "id": "eee641b1",
   "metadata": {},
   "outputs": [],
   "source": [
    "page_py = wiki_wiki.page('')\n",
    "print(\"Page - Exists: %s\" % page_py.exists())"
   ]
  },
  {
   "cell_type": "code",
   "execution_count": null,
   "id": "e3e377f7",
   "metadata": {},
   "outputs": [],
   "source": [
    "print(\"Page - Summary: %s\" % page_py.summary[0:800])"
   ]
  },
  {
   "cell_type": "code",
   "execution_count": null,
   "id": "dbf6ad5d",
   "metadata": {},
   "outputs": [],
   "source": []
  },
  {
   "cell_type": "code",
   "execution_count": null,
   "id": "7e7ec79e",
   "metadata": {},
   "outputs": [],
   "source": [
    "page_py = wiki_wiki.page('')\n",
    "print(\"Page - Exists: %s\" % page_py.exists())"
   ]
  },
  {
   "cell_type": "code",
   "execution_count": null,
   "id": "3a23a3b9",
   "metadata": {},
   "outputs": [],
   "source": [
    "print(\"Page - Summary: %s\" % page_py.summary[0:800])"
   ]
  },
  {
   "cell_type": "code",
   "execution_count": null,
   "id": "8982c394",
   "metadata": {},
   "outputs": [],
   "source": []
  },
  {
   "cell_type": "code",
   "execution_count": null,
   "id": "5242b3ac",
   "metadata": {},
   "outputs": [],
   "source": [
    "page_py = wiki_wiki.page('')\n",
    "print(\"Page - Exists: %s\" % page_py.exists())"
   ]
  },
  {
   "cell_type": "code",
   "execution_count": null,
   "id": "ae7a1fb9",
   "metadata": {},
   "outputs": [],
   "source": [
    "print(\"Page - Summary: %s\" % page_py.summary[0:800])"
   ]
  },
  {
   "cell_type": "code",
   "execution_count": null,
   "id": "64cd33fd",
   "metadata": {},
   "outputs": [],
   "source": []
  },
  {
   "cell_type": "code",
   "execution_count": null,
   "id": "fd9ee95e",
   "metadata": {},
   "outputs": [],
   "source": [
    "page_py = wiki_wiki.page('')\n",
    "print(\"Page - Exists: %s\" % page_py.exists())"
   ]
  },
  {
   "cell_type": "code",
   "execution_count": null,
   "id": "9aaa0878",
   "metadata": {},
   "outputs": [],
   "source": [
    "print(\"Page - Summary: %s\" % page_py.summary[0:800])"
   ]
  },
  {
   "cell_type": "code",
   "execution_count": null,
   "id": "995eae50",
   "metadata": {},
   "outputs": [],
   "source": []
  },
  {
   "cell_type": "code",
   "execution_count": null,
   "id": "a02edb0d",
   "metadata": {},
   "outputs": [],
   "source": [
    "page_py = wiki_wiki.page('')\n",
    "print(\"Page - Exists: %s\" % page_py.exists())"
   ]
  },
  {
   "cell_type": "code",
   "execution_count": null,
   "id": "747c488b",
   "metadata": {},
   "outputs": [],
   "source": [
    "print(\"Page - Summary: %s\" % page_py.summary[0:800])"
   ]
  },
  {
   "cell_type": "code",
   "execution_count": null,
   "id": "814af4b1",
   "metadata": {},
   "outputs": [],
   "source": []
  },
  {
   "cell_type": "code",
   "execution_count": null,
   "id": "4796886e",
   "metadata": {},
   "outputs": [],
   "source": [
    "page_py = wiki_wiki.page('')\n",
    "print(\"Page - Exists: %s\" % page_py.exists())"
   ]
  },
  {
   "cell_type": "code",
   "execution_count": null,
   "id": "52ec68f8",
   "metadata": {},
   "outputs": [],
   "source": [
    "print(\"Page - Summary: %s\" % page_py.summary[0:800])"
   ]
  },
  {
   "cell_type": "code",
   "execution_count": null,
   "id": "507435c6",
   "metadata": {},
   "outputs": [],
   "source": []
  },
  {
   "cell_type": "code",
   "execution_count": null,
   "id": "b7609fa0",
   "metadata": {},
   "outputs": [],
   "source": [
    "page_py = wiki_wiki.page('')\n",
    "print(\"Page - Exists: %s\" % page_py.exists())"
   ]
  },
  {
   "cell_type": "code",
   "execution_count": null,
   "id": "05ae0e5d",
   "metadata": {},
   "outputs": [],
   "source": [
    "print(\"Page - Summary: %s\" % page_py.summary[0:800])"
   ]
  },
  {
   "cell_type": "code",
   "execution_count": null,
   "id": "93b9161f",
   "metadata": {},
   "outputs": [],
   "source": []
  },
  {
   "cell_type": "code",
   "execution_count": null,
   "id": "45846c36",
   "metadata": {},
   "outputs": [],
   "source": [
    "page_py = wiki_wiki.page('')\n",
    "print(\"Page - Exists: %s\" % page_py.exists())"
   ]
  },
  {
   "cell_type": "code",
   "execution_count": null,
   "id": "34a56e0a",
   "metadata": {},
   "outputs": [],
   "source": [
    "print(\"Page - Summary: %s\" % page_py.summary[0:800])"
   ]
  },
  {
   "cell_type": "code",
   "execution_count": null,
   "id": "aa1386a1",
   "metadata": {},
   "outputs": [],
   "source": []
  },
  {
   "cell_type": "code",
   "execution_count": null,
   "id": "97b922a3",
   "metadata": {},
   "outputs": [],
   "source": [
    "page_py = wiki_wiki.page('')\n",
    "print(\"Page - Exists: %s\" % page_py.exists())"
   ]
  },
  {
   "cell_type": "code",
   "execution_count": null,
   "id": "e069aa4e",
   "metadata": {},
   "outputs": [],
   "source": [
    "print(\"Page - Summary: %s\" % page_py.summary[0:800])"
   ]
  },
  {
   "cell_type": "code",
   "execution_count": null,
   "id": "e5c29f38",
   "metadata": {},
   "outputs": [],
   "source": []
  },
  {
   "cell_type": "code",
   "execution_count": null,
   "id": "55a9f456",
   "metadata": {},
   "outputs": [],
   "source": [
    "page_py = wiki_wiki.page('')\n",
    "print(\"Page - Exists: %s\" % page_py.exists())"
   ]
  },
  {
   "cell_type": "code",
   "execution_count": null,
   "id": "a89e512b",
   "metadata": {},
   "outputs": [],
   "source": [
    "print(\"Page - Summary: %s\" % page_py.summary[0:800])"
   ]
  },
  {
   "cell_type": "code",
   "execution_count": null,
   "id": "67a84734",
   "metadata": {},
   "outputs": [],
   "source": []
  },
  {
   "cell_type": "code",
   "execution_count": null,
   "id": "d3ea4bbb",
   "metadata": {},
   "outputs": [],
   "source": [
    "page_py = wiki_wiki.page('')\n",
    "print(\"Page - Exists: %s\" % page_py.exists())"
   ]
  },
  {
   "cell_type": "code",
   "execution_count": null,
   "id": "22a59c56",
   "metadata": {},
   "outputs": [],
   "source": [
    "print(\"Page - Summary: %s\" % page_py.summary[0:800])"
   ]
  },
  {
   "cell_type": "code",
   "execution_count": null,
   "id": "8156ca23",
   "metadata": {},
   "outputs": [],
   "source": []
  },
  {
   "cell_type": "code",
   "execution_count": null,
   "id": "70872231",
   "metadata": {},
   "outputs": [],
   "source": [
    "page_py = wiki_wiki.page('')\n",
    "print(\"Page - Exists: %s\" % page_py.exists())"
   ]
  },
  {
   "cell_type": "code",
   "execution_count": null,
   "id": "6e90d384",
   "metadata": {},
   "outputs": [],
   "source": [
    "print(\"Page - Summary: %s\" % page_py.summary[0:800])"
   ]
  },
  {
   "cell_type": "code",
   "execution_count": null,
   "id": "5e9aa62a",
   "metadata": {},
   "outputs": [],
   "source": []
  },
  {
   "cell_type": "code",
   "execution_count": null,
   "id": "5e623d17",
   "metadata": {},
   "outputs": [],
   "source": [
    "page_py = wiki_wiki.page('')\n",
    "print(\"Page - Exists: %s\" % page_py.exists())"
   ]
  },
  {
   "cell_type": "code",
   "execution_count": null,
   "id": "9dc88d28",
   "metadata": {},
   "outputs": [],
   "source": [
    "print(\"Page - Summary: %s\" % page_py.summary[0:800])"
   ]
  },
  {
   "cell_type": "code",
   "execution_count": null,
   "id": "a97fc0b4",
   "metadata": {},
   "outputs": [],
   "source": []
  },
  {
   "cell_type": "code",
   "execution_count": null,
   "id": "52d3d23b",
   "metadata": {},
   "outputs": [],
   "source": [
    "page_py = wiki_wiki.page('')\n",
    "print(\"Page - Exists: %s\" % page_py.exists())"
   ]
  },
  {
   "cell_type": "code",
   "execution_count": null,
   "id": "244893a6",
   "metadata": {},
   "outputs": [],
   "source": [
    "print(\"Page - Summary: %s\" % page_py.summary[0:800])"
   ]
  },
  {
   "cell_type": "code",
   "execution_count": null,
   "id": "9ec01534",
   "metadata": {},
   "outputs": [],
   "source": []
  },
  {
   "cell_type": "code",
   "execution_count": null,
   "id": "2874b7e7",
   "metadata": {},
   "outputs": [],
   "source": [
    "page_py = wiki_wiki.page('')\n",
    "print(\"Page - Exists: %s\" % page_py.exists())"
   ]
  },
  {
   "cell_type": "code",
   "execution_count": null,
   "id": "0d5dc114",
   "metadata": {},
   "outputs": [],
   "source": [
    "print(\"Page - Summary: %s\" % page_py.summary[0:800])"
   ]
  },
  {
   "cell_type": "code",
   "execution_count": null,
   "id": "d2284033",
   "metadata": {},
   "outputs": [],
   "source": []
  },
  {
   "cell_type": "code",
   "execution_count": null,
   "id": "aebe1cd8",
   "metadata": {},
   "outputs": [],
   "source": [
    "page_py = wiki_wiki.page('')\n",
    "print(\"Page - Exists: %s\" % page_py.exists())"
   ]
  },
  {
   "cell_type": "code",
   "execution_count": null,
   "id": "6dfe73c8",
   "metadata": {},
   "outputs": [],
   "source": [
    "print(\"Page - Summary: %s\" % page_py.summary[0:800])"
   ]
  },
  {
   "cell_type": "code",
   "execution_count": null,
   "id": "7bed53a1",
   "metadata": {},
   "outputs": [],
   "source": []
  },
  {
   "cell_type": "code",
   "execution_count": null,
   "id": "378c4f40",
   "metadata": {},
   "outputs": [],
   "source": [
    "page_py = wiki_wiki.page('')\n",
    "print(\"Page - Exists: %s\" % page_py.exists())"
   ]
  },
  {
   "cell_type": "code",
   "execution_count": null,
   "id": "6292223c",
   "metadata": {},
   "outputs": [],
   "source": [
    "print(\"Page - Summary: %s\" % page_py.summary[0:800])"
   ]
  },
  {
   "cell_type": "code",
   "execution_count": null,
   "id": "6040e4c1",
   "metadata": {},
   "outputs": [],
   "source": []
  },
  {
   "cell_type": "code",
   "execution_count": null,
   "id": "a2c6e8f0",
   "metadata": {},
   "outputs": [],
   "source": [
    "page_py = wiki_wiki.page('')\n",
    "print(\"Page - Exists: %s\" % page_py.exists())"
   ]
  },
  {
   "cell_type": "code",
   "execution_count": null,
   "id": "3d41cf50",
   "metadata": {},
   "outputs": [],
   "source": [
    "print(\"Page - Summary: %s\" % page_py.summary[0:800])"
   ]
  },
  {
   "cell_type": "code",
   "execution_count": null,
   "id": "ba40686d",
   "metadata": {},
   "outputs": [],
   "source": []
  },
  {
   "cell_type": "code",
   "execution_count": null,
   "id": "f6d43e1a",
   "metadata": {},
   "outputs": [],
   "source": [
    "page_py = wiki_wiki.page('')\n",
    "print(\"Page - Exists: %s\" % page_py.exists())"
   ]
  },
  {
   "cell_type": "code",
   "execution_count": null,
   "id": "d62a3b38",
   "metadata": {},
   "outputs": [],
   "source": [
    "print(\"Page - Summary: %s\" % page_py.summary[0:800])"
   ]
  },
  {
   "cell_type": "code",
   "execution_count": null,
   "id": "5f0111ed",
   "metadata": {},
   "outputs": [],
   "source": []
  },
  {
   "cell_type": "code",
   "execution_count": null,
   "id": "1530b26a",
   "metadata": {},
   "outputs": [],
   "source": [
    "page_py = wiki_wiki.page('')\n",
    "print(\"Page - Exists: %s\" % page_py.exists())"
   ]
  },
  {
   "cell_type": "code",
   "execution_count": null,
   "id": "13e9b20a",
   "metadata": {},
   "outputs": [],
   "source": [
    "print(\"Page - Summary: %s\" % page_py.summary[0:800])"
   ]
  },
  {
   "cell_type": "code",
   "execution_count": null,
   "id": "9ce829b1",
   "metadata": {},
   "outputs": [],
   "source": []
  },
  {
   "cell_type": "code",
   "execution_count": null,
   "id": "a737850f",
   "metadata": {},
   "outputs": [],
   "source": [
    "page_py = wiki_wiki.page('')\n",
    "print(\"Page - Exists: %s\" % page_py.exists())"
   ]
  },
  {
   "cell_type": "code",
   "execution_count": null,
   "id": "328a797f",
   "metadata": {},
   "outputs": [],
   "source": [
    "print(\"Page - Summary: %s\" % page_py.summary[0:800])"
   ]
  },
  {
   "cell_type": "code",
   "execution_count": null,
   "id": "104d7498",
   "metadata": {},
   "outputs": [],
   "source": []
  },
  {
   "cell_type": "code",
   "execution_count": null,
   "id": "dc9a6697",
   "metadata": {},
   "outputs": [],
   "source": [
    "page_py = wiki_wiki.page('')\n",
    "print(\"Page - Exists: %s\" % page_py.exists())"
   ]
  },
  {
   "cell_type": "code",
   "execution_count": null,
   "id": "bcb759a1",
   "metadata": {},
   "outputs": [],
   "source": [
    "print(\"Page - Summary: %s\" % page_py.summary[0:800])"
   ]
  },
  {
   "cell_type": "code",
   "execution_count": null,
   "id": "0fcedc50",
   "metadata": {},
   "outputs": [],
   "source": []
  },
  {
   "cell_type": "code",
   "execution_count": null,
   "id": "15bbea85",
   "metadata": {},
   "outputs": [],
   "source": [
    "page_py = wiki_wiki.page('')\n",
    "print(\"Page - Exists: %s\" % page_py.exists())"
   ]
  },
  {
   "cell_type": "code",
   "execution_count": null,
   "id": "6f25badc",
   "metadata": {},
   "outputs": [],
   "source": [
    "print(\"Page - Summary: %s\" % page_py.summary[0:800])"
   ]
  },
  {
   "cell_type": "code",
   "execution_count": null,
   "id": "4595a151",
   "metadata": {},
   "outputs": [],
   "source": []
  },
  {
   "cell_type": "code",
   "execution_count": null,
   "id": "48e8e4cf",
   "metadata": {},
   "outputs": [],
   "source": [
    "page_py = wiki_wiki.page('')\n",
    "print(\"Page - Exists: %s\" % page_py.exists())"
   ]
  },
  {
   "cell_type": "code",
   "execution_count": null,
   "id": "91c8faab",
   "metadata": {},
   "outputs": [],
   "source": [
    "print(\"Page - Summary: %s\" % page_py.summary[0:800])"
   ]
  },
  {
   "cell_type": "code",
   "execution_count": null,
   "id": "f58efeae",
   "metadata": {},
   "outputs": [],
   "source": []
  },
  {
   "cell_type": "code",
   "execution_count": null,
   "id": "32a82b5d",
   "metadata": {},
   "outputs": [],
   "source": [
    "page_py = wiki_wiki.page('')\n",
    "print(\"Page - Exists: %s\" % page_py.exists())"
   ]
  },
  {
   "cell_type": "code",
   "execution_count": null,
   "id": "5274a1be",
   "metadata": {},
   "outputs": [],
   "source": [
    "print(\"Page - Summary: %s\" % page_py.summary[0:800])"
   ]
  },
  {
   "cell_type": "code",
   "execution_count": null,
   "id": "b8c76175",
   "metadata": {},
   "outputs": [],
   "source": []
  },
  {
   "cell_type": "code",
   "execution_count": null,
   "id": "b44788cb",
   "metadata": {},
   "outputs": [],
   "source": [
    "page_py = wiki_wiki.page('')\n",
    "print(\"Page - Exists: %s\" % page_py.exists())"
   ]
  },
  {
   "cell_type": "code",
   "execution_count": null,
   "id": "7aa02ab2",
   "metadata": {},
   "outputs": [],
   "source": [
    "print(\"Page - Summary: %s\" % page_py.summary[0:800])"
   ]
  },
  {
   "cell_type": "code",
   "execution_count": null,
   "id": "8f8b075e",
   "metadata": {},
   "outputs": [],
   "source": []
  },
  {
   "cell_type": "code",
   "execution_count": null,
   "id": "637b28b2",
   "metadata": {},
   "outputs": [],
   "source": [
    "page_py = wiki_wiki.page('')\n",
    "print(\"Page - Exists: %s\" % page_py.exists())"
   ]
  },
  {
   "cell_type": "code",
   "execution_count": null,
   "id": "a231ec97",
   "metadata": {},
   "outputs": [],
   "source": [
    "print(\"Page - Summary: %s\" % page_py.summary[0:800])"
   ]
  },
  {
   "cell_type": "code",
   "execution_count": null,
   "id": "736b5770",
   "metadata": {},
   "outputs": [],
   "source": []
  },
  {
   "cell_type": "code",
   "execution_count": null,
   "id": "5d7efb7d",
   "metadata": {},
   "outputs": [],
   "source": [
    "page_py = wiki_wiki.page('')\n",
    "print(\"Page - Exists: %s\" % page_py.exists())"
   ]
  },
  {
   "cell_type": "code",
   "execution_count": null,
   "id": "70481839",
   "metadata": {},
   "outputs": [],
   "source": [
    "print(\"Page - Summary: %s\" % page_py.summary[0:800])"
   ]
  },
  {
   "cell_type": "code",
   "execution_count": null,
   "id": "a322ad35",
   "metadata": {},
   "outputs": [],
   "source": []
  },
  {
   "cell_type": "code",
   "execution_count": null,
   "id": "d74ff19b",
   "metadata": {},
   "outputs": [],
   "source": [
    "page_py = wiki_wiki.page('')\n",
    "print(\"Page - Exists: %s\" % page_py.exists())"
   ]
  },
  {
   "cell_type": "code",
   "execution_count": null,
   "id": "ccdb7b0a",
   "metadata": {},
   "outputs": [],
   "source": [
    "print(\"Page - Summary: %s\" % page_py.summary[0:800])"
   ]
  },
  {
   "cell_type": "code",
   "execution_count": null,
   "id": "9c3a783a",
   "metadata": {},
   "outputs": [],
   "source": []
  },
  {
   "cell_type": "code",
   "execution_count": null,
   "id": "cf6ca702",
   "metadata": {},
   "outputs": [],
   "source": [
    "page_py = wiki_wiki.page('')\n",
    "print(\"Page - Exists: %s\" % page_py.exists())"
   ]
  },
  {
   "cell_type": "code",
   "execution_count": null,
   "id": "14610b7d",
   "metadata": {},
   "outputs": [],
   "source": [
    "print(\"Page - Summary: %s\" % page_py.summary[0:800])"
   ]
  },
  {
   "cell_type": "code",
   "execution_count": null,
   "id": "23b5c7cc",
   "metadata": {},
   "outputs": [],
   "source": []
  },
  {
   "cell_type": "code",
   "execution_count": null,
   "id": "bd514cf9",
   "metadata": {},
   "outputs": [],
   "source": [
    "page_py = wiki_wiki.page('')\n",
    "print(\"Page - Exists: %s\" % page_py.exists())"
   ]
  },
  {
   "cell_type": "code",
   "execution_count": null,
   "id": "8b157096",
   "metadata": {},
   "outputs": [],
   "source": [
    "print(\"Page - Summary: %s\" % page_py.summary[0:800])"
   ]
  },
  {
   "cell_type": "code",
   "execution_count": null,
   "id": "74baad93",
   "metadata": {},
   "outputs": [],
   "source": []
  },
  {
   "cell_type": "code",
   "execution_count": null,
   "id": "e3d15413",
   "metadata": {},
   "outputs": [],
   "source": [
    "page_py = wiki_wiki.page('')\n",
    "print(\"Page - Exists: %s\" % page_py.exists())"
   ]
  },
  {
   "cell_type": "code",
   "execution_count": null,
   "id": "2967cd8f",
   "metadata": {},
   "outputs": [],
   "source": [
    "print(\"Page - Summary: %s\" % page_py.summary[0:800])"
   ]
  },
  {
   "cell_type": "code",
   "execution_count": null,
   "id": "1136a365",
   "metadata": {},
   "outputs": [],
   "source": []
  },
  {
   "cell_type": "code",
   "execution_count": null,
   "id": "7791b456",
   "metadata": {},
   "outputs": [],
   "source": [
    "page_py = wiki_wiki.page('')\n",
    "print(\"Page - Exists: %s\" % page_py.exists())"
   ]
  },
  {
   "cell_type": "code",
   "execution_count": null,
   "id": "545ccdf1",
   "metadata": {},
   "outputs": [],
   "source": [
    "print(\"Page - Summary: %s\" % page_py.summary[0:800])"
   ]
  },
  {
   "cell_type": "code",
   "execution_count": null,
   "id": "da596682",
   "metadata": {},
   "outputs": [],
   "source": []
  },
  {
   "cell_type": "code",
   "execution_count": null,
   "id": "25c87e67",
   "metadata": {},
   "outputs": [],
   "source": [
    "page_py = wiki_wiki.page('')\n",
    "print(\"Page - Exists: %s\" % page_py.exists())"
   ]
  },
  {
   "cell_type": "code",
   "execution_count": null,
   "id": "d4522493",
   "metadata": {},
   "outputs": [],
   "source": [
    "print(\"Page - Summary: %s\" % page_py.summary[0:800])"
   ]
  },
  {
   "cell_type": "code",
   "execution_count": null,
   "id": "8de0b356",
   "metadata": {},
   "outputs": [],
   "source": []
  },
  {
   "cell_type": "code",
   "execution_count": null,
   "id": "ac0b6da0",
   "metadata": {},
   "outputs": [],
   "source": [
    "page_py = wiki_wiki.page('')\n",
    "print(\"Page - Exists: %s\" % page_py.exists())"
   ]
  },
  {
   "cell_type": "code",
   "execution_count": null,
   "id": "e3951c32",
   "metadata": {},
   "outputs": [],
   "source": [
    "print(\"Page - Summary: %s\" % page_py.summary[0:800])"
   ]
  },
  {
   "cell_type": "code",
   "execution_count": null,
   "id": "359123f8",
   "metadata": {},
   "outputs": [],
   "source": []
  },
  {
   "cell_type": "code",
   "execution_count": null,
   "id": "5d9448ef",
   "metadata": {},
   "outputs": [],
   "source": [
    "page_py = wiki_wiki.page('')\n",
    "print(\"Page - Exists: %s\" % page_py.exists())"
   ]
  },
  {
   "cell_type": "code",
   "execution_count": null,
   "id": "8f102cfd",
   "metadata": {},
   "outputs": [],
   "source": [
    "print(\"Page - Summary: %s\" % page_py.summary[0:800])"
   ]
  },
  {
   "cell_type": "code",
   "execution_count": null,
   "id": "a7e6e569",
   "metadata": {},
   "outputs": [],
   "source": []
  },
  {
   "cell_type": "code",
   "execution_count": null,
   "id": "60033ec9",
   "metadata": {},
   "outputs": [],
   "source": [
    "page_py = wiki_wiki.page('')\n",
    "print(\"Page - Exists: %s\" % page_py.exists())"
   ]
  },
  {
   "cell_type": "code",
   "execution_count": null,
   "id": "53d30af3",
   "metadata": {},
   "outputs": [],
   "source": [
    "print(\"Page - Summary: %s\" % page_py.summary[0:800])"
   ]
  },
  {
   "cell_type": "code",
   "execution_count": null,
   "id": "057a893c",
   "metadata": {},
   "outputs": [],
   "source": []
  },
  {
   "cell_type": "code",
   "execution_count": null,
   "id": "f770ce1a",
   "metadata": {},
   "outputs": [],
   "source": [
    "page_py = wiki_wiki.page('')\n",
    "print(\"Page - Exists: %s\" % page_py.exists())"
   ]
  },
  {
   "cell_type": "code",
   "execution_count": null,
   "id": "ff53264d",
   "metadata": {},
   "outputs": [],
   "source": [
    "print(\"Page - Summary: %s\" % page_py.summary[0:800])"
   ]
  },
  {
   "cell_type": "code",
   "execution_count": null,
   "id": "fa28ada8",
   "metadata": {},
   "outputs": [],
   "source": []
  },
  {
   "cell_type": "code",
   "execution_count": null,
   "id": "b423b219",
   "metadata": {},
   "outputs": [],
   "source": [
    "page_py = wiki_wiki.page('')\n",
    "print(\"Page - Exists: %s\" % page_py.exists())"
   ]
  },
  {
   "cell_type": "code",
   "execution_count": null,
   "id": "e5722cfe",
   "metadata": {},
   "outputs": [],
   "source": [
    "print(\"Page - Summary: %s\" % page_py.summary[0:800])"
   ]
  },
  {
   "cell_type": "code",
   "execution_count": null,
   "id": "263a944d",
   "metadata": {},
   "outputs": [],
   "source": []
  },
  {
   "cell_type": "code",
   "execution_count": null,
   "id": "a80efa03",
   "metadata": {},
   "outputs": [],
   "source": [
    "page_py = wiki_wiki.page('')\n",
    "print(\"Page - Exists: %s\" % page_py.exists())"
   ]
  },
  {
   "cell_type": "code",
   "execution_count": null,
   "id": "d7615c1a",
   "metadata": {},
   "outputs": [],
   "source": [
    "print(\"Page - Summary: %s\" % page_py.summary[0:800])"
   ]
  },
  {
   "cell_type": "code",
   "execution_count": null,
   "id": "8aa2fe97",
   "metadata": {},
   "outputs": [],
   "source": []
  },
  {
   "cell_type": "code",
   "execution_count": null,
   "id": "d20c16fa",
   "metadata": {},
   "outputs": [],
   "source": [
    "page_py = wiki_wiki.page('')\n",
    "print(\"Page - Exists: %s\" % page_py.exists())"
   ]
  },
  {
   "cell_type": "code",
   "execution_count": null,
   "id": "cb20a324",
   "metadata": {},
   "outputs": [],
   "source": [
    "print(\"Page - Summary: %s\" % page_py.summary[0:800])"
   ]
  },
  {
   "cell_type": "code",
   "execution_count": null,
   "id": "5adec75e",
   "metadata": {},
   "outputs": [],
   "source": []
  },
  {
   "cell_type": "code",
   "execution_count": null,
   "id": "808ee9eb",
   "metadata": {},
   "outputs": [],
   "source": [
    "page_py = wiki_wiki.page('')\n",
    "print(\"Page - Exists: %s\" % page_py.exists())"
   ]
  },
  {
   "cell_type": "code",
   "execution_count": null,
   "id": "9ddf3220",
   "metadata": {},
   "outputs": [],
   "source": [
    "print(\"Page - Summary: %s\" % page_py.summary[0:800])"
   ]
  },
  {
   "cell_type": "code",
   "execution_count": null,
   "id": "20a4bc1d",
   "metadata": {},
   "outputs": [],
   "source": []
  },
  {
   "cell_type": "code",
   "execution_count": null,
   "id": "8630af9d",
   "metadata": {},
   "outputs": [],
   "source": [
    "page_py = wiki_wiki.page('')\n",
    "print(\"Page - Exists: %s\" % page_py.exists())"
   ]
  },
  {
   "cell_type": "code",
   "execution_count": null,
   "id": "b6dd6cff",
   "metadata": {},
   "outputs": [],
   "source": [
    "print(\"Page - Summary: %s\" % page_py.summary[0:800])"
   ]
  },
  {
   "cell_type": "code",
   "execution_count": null,
   "id": "4f18433f",
   "metadata": {},
   "outputs": [],
   "source": []
  },
  {
   "cell_type": "code",
   "execution_count": null,
   "id": "282cff1a",
   "metadata": {},
   "outputs": [],
   "source": [
    "page_py = wiki_wiki.page('')\n",
    "print(\"Page - Exists: %s\" % page_py.exists())"
   ]
  },
  {
   "cell_type": "code",
   "execution_count": null,
   "id": "fe9e0a59",
   "metadata": {},
   "outputs": [],
   "source": [
    "print(\"Page - Summary: %s\" % page_py.summary[0:800])"
   ]
  },
  {
   "cell_type": "code",
   "execution_count": null,
   "id": "2883b288",
   "metadata": {},
   "outputs": [],
   "source": []
  },
  {
   "cell_type": "code",
   "execution_count": null,
   "id": "6ac12531",
   "metadata": {},
   "outputs": [],
   "source": [
    "page_py = wiki_wiki.page('')\n",
    "print(\"Page - Exists: %s\" % page_py.exists())"
   ]
  },
  {
   "cell_type": "code",
   "execution_count": null,
   "id": "994e69a0",
   "metadata": {},
   "outputs": [],
   "source": [
    "print(\"Page - Summary: %s\" % page_py.summary[0:800])"
   ]
  },
  {
   "cell_type": "code",
   "execution_count": null,
   "id": "95a63cf1",
   "metadata": {},
   "outputs": [],
   "source": []
  },
  {
   "cell_type": "code",
   "execution_count": null,
   "id": "a8ddf2d5",
   "metadata": {},
   "outputs": [],
   "source": [
    "page_py = wiki_wiki.page('')\n",
    "print(\"Page - Exists: %s\" % page_py.exists())"
   ]
  },
  {
   "cell_type": "code",
   "execution_count": null,
   "id": "75211821",
   "metadata": {},
   "outputs": [],
   "source": [
    "print(\"Page - Summary: %s\" % page_py.summary[0:800])"
   ]
  },
  {
   "cell_type": "code",
   "execution_count": null,
   "id": "9f8b79a2",
   "metadata": {},
   "outputs": [],
   "source": []
  },
  {
   "cell_type": "code",
   "execution_count": null,
   "id": "f7ccfc02",
   "metadata": {},
   "outputs": [],
   "source": [
    "page_py = wiki_wiki.page('')\n",
    "print(\"Page - Exists: %s\" % page_py.exists())"
   ]
  },
  {
   "cell_type": "code",
   "execution_count": null,
   "id": "093ecd9c",
   "metadata": {},
   "outputs": [],
   "source": [
    "print(\"Page - Summary: %s\" % page_py.summary[0:800])"
   ]
  },
  {
   "cell_type": "code",
   "execution_count": null,
   "id": "10c1a209",
   "metadata": {},
   "outputs": [],
   "source": []
  },
  {
   "cell_type": "code",
   "execution_count": null,
   "id": "e9ce1ce1",
   "metadata": {},
   "outputs": [],
   "source": [
    "page_py = wiki_wiki.page('')\n",
    "print(\"Page - Exists: %s\" % page_py.exists())"
   ]
  },
  {
   "cell_type": "code",
   "execution_count": null,
   "id": "297b6d00",
   "metadata": {},
   "outputs": [],
   "source": [
    "print(\"Page - Summary: %s\" % page_py.summary[0:800])"
   ]
  },
  {
   "cell_type": "code",
   "execution_count": null,
   "id": "c15e6c10",
   "metadata": {},
   "outputs": [],
   "source": []
  },
  {
   "cell_type": "code",
   "execution_count": null,
   "id": "97cf6df1",
   "metadata": {},
   "outputs": [],
   "source": [
    "page_py = wiki_wiki.page('')\n",
    "print(\"Page - Exists: %s\" % page_py.exists())"
   ]
  },
  {
   "cell_type": "code",
   "execution_count": null,
   "id": "1eb06ee5",
   "metadata": {},
   "outputs": [],
   "source": [
    "print(\"Page - Summary: %s\" % page_py.summary[0:800])"
   ]
  },
  {
   "cell_type": "code",
   "execution_count": null,
   "id": "0cddb068",
   "metadata": {},
   "outputs": [],
   "source": []
  },
  {
   "cell_type": "code",
   "execution_count": null,
   "id": "8a5f7d68",
   "metadata": {},
   "outputs": [],
   "source": [
    "page_py = wiki_wiki.page('')\n",
    "print(\"Page - Exists: %s\" % page_py.exists())"
   ]
  },
  {
   "cell_type": "code",
   "execution_count": null,
   "id": "d4d8090d",
   "metadata": {},
   "outputs": [],
   "source": [
    "print(\"Page - Summary: %s\" % page_py.summary[0:800])"
   ]
  },
  {
   "cell_type": "code",
   "execution_count": null,
   "id": "30a93694",
   "metadata": {},
   "outputs": [],
   "source": []
  },
  {
   "cell_type": "code",
   "execution_count": null,
   "id": "31489f87",
   "metadata": {},
   "outputs": [],
   "source": [
    "page_py = wiki_wiki.page('')\n",
    "print(\"Page - Exists: %s\" % page_py.exists())"
   ]
  },
  {
   "cell_type": "code",
   "execution_count": null,
   "id": "582775b2",
   "metadata": {},
   "outputs": [],
   "source": [
    "print(\"Page - Summary: %s\" % page_py.summary[0:800])"
   ]
  },
  {
   "cell_type": "code",
   "execution_count": null,
   "id": "ed990639",
   "metadata": {},
   "outputs": [],
   "source": []
  },
  {
   "cell_type": "code",
   "execution_count": null,
   "id": "056cafcb",
   "metadata": {},
   "outputs": [],
   "source": [
    "page_py = wiki_wiki.page('')\n",
    "print(\"Page - Exists: %s\" % page_py.exists())"
   ]
  },
  {
   "cell_type": "code",
   "execution_count": null,
   "id": "8cb19299",
   "metadata": {},
   "outputs": [],
   "source": [
    "print(\"Page - Summary: %s\" % page_py.summary[0:800])"
   ]
  },
  {
   "cell_type": "code",
   "execution_count": null,
   "id": "61309492",
   "metadata": {},
   "outputs": [],
   "source": []
  },
  {
   "cell_type": "code",
   "execution_count": null,
   "id": "e2982888",
   "metadata": {},
   "outputs": [],
   "source": [
    "page_py = wiki_wiki.page('')\n",
    "print(\"Page - Exists: %s\" % page_py.exists())"
   ]
  },
  {
   "cell_type": "code",
   "execution_count": null,
   "id": "0b65c18a",
   "metadata": {},
   "outputs": [],
   "source": [
    "print(\"Page - Summary: %s\" % page_py.summary[0:800])"
   ]
  },
  {
   "cell_type": "code",
   "execution_count": null,
   "id": "4d738c18",
   "metadata": {},
   "outputs": [],
   "source": []
  },
  {
   "cell_type": "code",
   "execution_count": null,
   "id": "ba8ce0f1",
   "metadata": {},
   "outputs": [],
   "source": [
    "page_py = wiki_wiki.page('')\n",
    "print(\"Page - Exists: %s\" % page_py.exists())"
   ]
  },
  {
   "cell_type": "code",
   "execution_count": null,
   "id": "5c48a0a6",
   "metadata": {},
   "outputs": [],
   "source": [
    "print(\"Page - Summary: %s\" % page_py.summary[0:800])"
   ]
  },
  {
   "cell_type": "code",
   "execution_count": null,
   "id": "84ae6c68",
   "metadata": {},
   "outputs": [],
   "source": []
  },
  {
   "cell_type": "code",
   "execution_count": null,
   "id": "04d74d04",
   "metadata": {},
   "outputs": [],
   "source": [
    "page_py = wiki_wiki.page('')\n",
    "print(\"Page - Exists: %s\" % page_py.exists())"
   ]
  },
  {
   "cell_type": "code",
   "execution_count": null,
   "id": "5bc50119",
   "metadata": {},
   "outputs": [],
   "source": [
    "print(\"Page - Summary: %s\" % page_py.summary[0:800])"
   ]
  },
  {
   "cell_type": "code",
   "execution_count": null,
   "id": "b177a11a",
   "metadata": {},
   "outputs": [],
   "source": []
  },
  {
   "cell_type": "code",
   "execution_count": null,
   "id": "847d59bc",
   "metadata": {},
   "outputs": [],
   "source": [
    "page_py = wiki_wiki.page('')\n",
    "print(\"Page - Exists: %s\" % page_py.exists())"
   ]
  },
  {
   "cell_type": "code",
   "execution_count": null,
   "id": "fb5f224a",
   "metadata": {},
   "outputs": [],
   "source": [
    "print(\"Page - Summary: %s\" % page_py.summary[0:800])"
   ]
  },
  {
   "cell_type": "code",
   "execution_count": null,
   "id": "984976ea",
   "metadata": {},
   "outputs": [],
   "source": []
  }
 ],
 "metadata": {
  "kernelspec": {
   "display_name": "Python 3",
   "language": "python",
   "name": "python3"
  },
  "language_info": {
   "codemirror_mode": {
    "name": "ipython",
    "version": 3
   },
   "file_extension": ".py",
   "mimetype": "text/x-python",
   "name": "python",
   "nbconvert_exporter": "python",
   "pygments_lexer": "ipython3",
   "version": "3.8.8"
  }
 },
 "nbformat": 4,
 "nbformat_minor": 5
}
