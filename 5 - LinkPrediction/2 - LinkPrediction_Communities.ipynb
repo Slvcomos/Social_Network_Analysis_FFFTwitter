{
 "cells": [
  {
   "cell_type": "code",
   "execution_count": 1,
   "id": "513754a1",
   "metadata": {},
   "outputs": [],
   "source": [
    "import linkpred\n",
    "from linkpred.evaluation import Pair\n",
    "import networkx as nx\n",
    "import random\n",
    "import itertools\n",
    "from operator import itemgetter\n",
    "import pickle\n",
    "import matplotlib.pyplot as plt\n",
    "from sklearn.metrics import auc"
   ]
  },
  {
   "cell_type": "code",
   "execution_count": 2,
   "id": "3d7f63b4",
   "metadata": {},
   "outputs": [
    {
     "name": "stdout",
     "output_type": "stream",
     "text": [
      "Note: to be able to use all crisp methods, you need to install some additional packages:  {'wurlitzer', 'graph_tool'}\n",
      "Note: to be able to use all bipartite methods, you need to install some additional packages:  {'wurlitzer'}\n"
     ]
    }
   ],
   "source": [
    "import networkx as nx\n",
    "import pandas as pd\n",
    "import numpy as np\n",
    "import json\n",
    "import cdlib\n",
    "from cdlib import evaluation\n",
    "from cdlib import algorithms\n",
    "from cdlib import viz\n",
    "from cdlib import ensemble\n",
    "from cdlib import readwrite\n",
    "import pickle\n",
    "import pquality\n",
    "import matplotlib.pyplot as plt\n",
    "%matplotlib inline\n",
    "from nf1 import NF1\n",
    "import networkx as nx\n",
    "import numpy as np\n",
    "import pandas as pd\n",
    "import matplotlib.pyplot as plt\n",
    "from collections import Counter\n",
    "from operator import itemgetter\n",
    "import powerlaw\n",
    "from networkx.drawing.nx_agraph import graphviz_layout\n",
    "import pickle\n",
    "from statistics import mean, stdev\n",
    "import seaborn as sns\n",
    "import json\n",
    "import random"
   ]
  },
  {
   "cell_type": "code",
   "execution_count": 3,
   "id": "bae39a49",
   "metadata": {},
   "outputs": [],
   "source": [
    "path = \"../DataSet FFF/\""
   ]
  },
  {
   "cell_type": "code",
   "execution_count": 4,
   "id": "4cd99c08",
   "metadata": {},
   "outputs": [],
   "source": [
    "path_graph = \"../DataSet FFF/Graph_data/\""
   ]
  },
  {
   "cell_type": "code",
   "execution_count": 5,
   "id": "e73aa783",
   "metadata": {},
   "outputs": [],
   "source": [
    "saved_path = \"../DataSet FFF/LinkPrediction_task/communities/\""
   ]
  },
  {
   "cell_type": "code",
   "execution_count": 6,
   "id": "481633b2",
   "metadata": {},
   "outputs": [],
   "source": [
    "G = nx.read_graphml(path_graph+\"Real_Network.graphml\")"
   ]
  },
  {
   "cell_type": "code",
   "execution_count": 7,
   "id": "cd334578",
   "metadata": {},
   "outputs": [
    {
     "data": {
      "text/plain": [
       "'Name: \\nType: Graph\\nNumber of nodes: 10361\\nNumber of edges: 63960\\nAverage degree:  12.3463'"
      ]
     },
     "execution_count": 7,
     "metadata": {},
     "output_type": "execute_result"
    }
   ],
   "source": [
    "nx.info(G)"
   ]
  },
  {
   "cell_type": "code",
   "execution_count": 8,
   "id": "6f11e5ec",
   "metadata": {},
   "outputs": [],
   "source": [
    "community_path = \"../DataSet FFF/Community_task/\""
   ]
  },
  {
   "cell_type": "code",
   "execution_count": 9,
   "id": "1d0068d4",
   "metadata": {},
   "outputs": [],
   "source": [
    "with open(community_path+'louvain.pickle', 'rb') as f:\n",
    "    louvain_coms = pickle.load(f)"
   ]
  },
  {
   "cell_type": "code",
   "execution_count": 10,
   "id": "0c74c043",
   "metadata": {},
   "outputs": [
    {
     "name": "stdout",
     "output_type": "stream",
     "text": [
      "5572\n",
      "4577\n",
      "1433\n",
      "1103\n",
      "617\n",
      "390\n",
      "359\n",
      "112\n",
      "108\n"
     ]
    }
   ],
   "source": [
    "for i in louvain_coms.communities[:9]:\n",
    "    print(len(i))"
   ]
  },
  {
   "cell_type": "code",
   "execution_count": 11,
   "id": "f4ca2276",
   "metadata": {},
   "outputs": [],
   "source": [
    "def prepare_data(G, idx):\n",
    "    training_edge_len = len(G.edges()) - int(len(G.edges())/100 * 20)\n",
    "    test_edge_len = len(G.edges()) - training_edge_len\n",
    "    \n",
    "    training_edges = random.sample(G.edges, training_edge_len)\n",
    "    \n",
    "    training = G.edge_subgraph(training_edges)\n",
    "    \n",
    "    test = G.copy()\n",
    "    test.remove_edges_from(training.edges())\n",
    "    \n",
    "    nodes = list(G.nodes())\n",
    "    nodes.extend(list(test.nodes()))\n",
    "    \n",
    "    test = [Pair(i) for i in test.edges()]\n",
    "    universe = set([Pair(i) for i in itertools.product(nodes, nodes) if i[0]!=i[1]])\n",
    "    print(f\" -- Storing for community {idx}\")\n",
    "    with open(saved_path+f'universe_{idx}.pickle', 'wb') as f:\n",
    "        pickle.dump(universe, f)\n",
    "    with open(saved_path+f'test_{idx}.pickle', 'wb') as f:\n",
    "        pickle.dump(test, f) \n",
    "    nx.write_graphml(training, saved_path+f\"training_{idx}.graphml\")"
   ]
  },
  {
   "cell_type": "code",
   "execution_count": 12,
   "id": "5d50738a",
   "metadata": {},
   "outputs": [
    {
     "name": "stdout",
     "output_type": "stream",
     "text": [
      " -- Storing for community 0\n",
      " -- Storing for community 1\n",
      " -- Storing for community 2\n"
     ]
    },
    {
     "ename": "ValueError",
     "evalue": "Sample larger than population or is negative",
     "output_type": "error",
     "traceback": [
      "\u001b[1;31m---------------------------------------------------------------------------\u001b[0m",
      "\u001b[1;31mValueError\u001b[0m                                Traceback (most recent call last)",
      "\u001b[1;32m<ipython-input-12-a79226492e35>\u001b[0m in \u001b[0;36m<module>\u001b[1;34m\u001b[0m\n\u001b[0;32m      1\u001b[0m \u001b[1;32mfor\u001b[0m \u001b[0midx\u001b[0m\u001b[1;33m,\u001b[0m \u001b[0mcom\u001b[0m \u001b[1;32min\u001b[0m \u001b[0menumerate\u001b[0m\u001b[1;33m(\u001b[0m\u001b[0mlouvain_coms\u001b[0m\u001b[1;33m.\u001b[0m\u001b[0mcommunities\u001b[0m\u001b[1;33m[\u001b[0m\u001b[1;33m:\u001b[0m\u001b[1;36m9\u001b[0m\u001b[1;33m]\u001b[0m\u001b[1;33m)\u001b[0m\u001b[1;33m:\u001b[0m\u001b[1;33m\u001b[0m\u001b[1;33m\u001b[0m\u001b[0m\n\u001b[1;32m----> 2\u001b[1;33m     \u001b[0msampled_nodes\u001b[0m \u001b[1;33m=\u001b[0m \u001b[0mrandom\u001b[0m\u001b[1;33m.\u001b[0m\u001b[0msample\u001b[0m\u001b[1;33m(\u001b[0m\u001b[0mG\u001b[0m\u001b[1;33m.\u001b[0m\u001b[0msubgraph\u001b[0m\u001b[1;33m(\u001b[0m\u001b[0mcom\u001b[0m\u001b[1;33m)\u001b[0m\u001b[1;33m.\u001b[0m\u001b[0mnodes\u001b[0m\u001b[1;33m,\u001b[0m \u001b[1;36m500\u001b[0m\u001b[1;33m)\u001b[0m\u001b[1;33m\u001b[0m\u001b[1;33m\u001b[0m\u001b[0m\n\u001b[0m\u001b[0;32m      3\u001b[0m     \u001b[0mprepare_data\u001b[0m\u001b[1;33m(\u001b[0m\u001b[0mG\u001b[0m\u001b[1;33m.\u001b[0m\u001b[0msubgraph\u001b[0m\u001b[1;33m(\u001b[0m\u001b[0msampled_nodes\u001b[0m\u001b[1;33m)\u001b[0m\u001b[1;33m,\u001b[0m \u001b[0midx\u001b[0m\u001b[1;33m)\u001b[0m\u001b[1;33m\u001b[0m\u001b[1;33m\u001b[0m\u001b[0m\n",
      "\u001b[1;32m~\\anaconda3\\lib\\random.py\u001b[0m in \u001b[0;36msample\u001b[1;34m(self, population, k)\u001b[0m\n\u001b[0;32m    361\u001b[0m         \u001b[0mn\u001b[0m \u001b[1;33m=\u001b[0m \u001b[0mlen\u001b[0m\u001b[1;33m(\u001b[0m\u001b[0mpopulation\u001b[0m\u001b[1;33m)\u001b[0m\u001b[1;33m\u001b[0m\u001b[1;33m\u001b[0m\u001b[0m\n\u001b[0;32m    362\u001b[0m         \u001b[1;32mif\u001b[0m \u001b[1;32mnot\u001b[0m \u001b[1;36m0\u001b[0m \u001b[1;33m<=\u001b[0m \u001b[0mk\u001b[0m \u001b[1;33m<=\u001b[0m \u001b[0mn\u001b[0m\u001b[1;33m:\u001b[0m\u001b[1;33m\u001b[0m\u001b[1;33m\u001b[0m\u001b[0m\n\u001b[1;32m--> 363\u001b[1;33m             \u001b[1;32mraise\u001b[0m \u001b[0mValueError\u001b[0m\u001b[1;33m(\u001b[0m\u001b[1;34m\"Sample larger than population or is negative\"\u001b[0m\u001b[1;33m)\u001b[0m\u001b[1;33m\u001b[0m\u001b[1;33m\u001b[0m\u001b[0m\n\u001b[0m\u001b[0;32m    364\u001b[0m         \u001b[0mresult\u001b[0m \u001b[1;33m=\u001b[0m \u001b[1;33m[\u001b[0m\u001b[1;32mNone\u001b[0m\u001b[1;33m]\u001b[0m \u001b[1;33m*\u001b[0m \u001b[0mk\u001b[0m\u001b[1;33m\u001b[0m\u001b[1;33m\u001b[0m\u001b[0m\n\u001b[0;32m    365\u001b[0m         \u001b[0msetsize\u001b[0m \u001b[1;33m=\u001b[0m \u001b[1;36m21\u001b[0m        \u001b[1;31m# size of a small set minus size of an empty list\u001b[0m\u001b[1;33m\u001b[0m\u001b[1;33m\u001b[0m\u001b[0m\n",
      "\u001b[1;31mValueError\u001b[0m: Sample larger than population or is negative"
     ]
    }
   ],
   "source": [
    "for idx, com in enumerate(louvain_coms.communities[:9]):\n",
    "    sampled_nodes = random.sample(G.subgraph(com).nodes, 500)\n",
    "    prepare_data(G.subgraph(sampled_nodes), idx)"
   ]
  },
  {
   "cell_type": "code",
   "execution_count": 13,
   "id": "9bd2308e",
   "metadata": {},
   "outputs": [],
   "source": [
    "def predict(idx):\n",
    "    with open(saved_path+f'universe_{idx}.pickle', 'rb') as f:\n",
    "        universe = pickle.load(f)\n",
    "    with open(saved_path+f'test_{idx}.pickle', 'rb') as f:\n",
    "        test = pickle.load(f)\n",
    "    training = nx.read_graphml(saved_path+f\"training_{idx}.graphml\")\n",
    "    \n",
    "    print(f\"-- For {idx} predict CommonNeighbours\")\n",
    "    \n",
    "    cn = linkpred.predictors.CommonNeighbours(training, excluded=training.edges())\n",
    "    cn_results = cn.predict()\n",
    "    \n",
    "    res = []\n",
    "    for i, j in zip(cn_results, cn_results.values()):\n",
    "        res.append([Pair(i), j])\n",
    "   \n",
    "    with open(saved_path+f'cn_results_{idx}.pickle', 'wb') as f:\n",
    "        pickle.dump(res, f)\n",
    "        \n",
    "        \n",
    "    print(f\"-- For {idx} predict AdamicAdar\")\n",
    "    aa = linkpred.predictors.AdamicAdar(training, excluded=training.edges())\n",
    "    aa_results = aa.predict()\n",
    "    \n",
    "    \n",
    "    res = []\n",
    "    for i, j in zip(aa_results, aa_results.values()):\n",
    "        res.append([Pair(i), j])\n",
    "   \n",
    "    with open(saved_path+f'aa_results_{idx}.pickle', 'wb') as f:\n",
    "        pickle.dump(res, f)\n",
    "        \n",
    "    print(f\"-- For {idx} predict Jaccard\")\n",
    "    \n",
    "    jc = linkpred.predictors.Jaccard(training, excluded=training.edges())\n",
    "    jc_results = jc.predict()\n",
    "    \n",
    "    \n",
    "    res = []\n",
    "    for i, j in zip(jc_results, jc_results.values()):\n",
    "        res.append([Pair(i), j])\n",
    "\n",
    "    with open(saved_path+f'jc_results_{idx}.pickle', 'wb') as f:\n",
    "        pickle.dump(res, f)\n",
    "    \n",
    "    print(f\"-- For {idx} evaluate CommonNeighbour\")\n",
    "        \n",
    "    cn_evaluation = linkpred.evaluation.EvaluationSheet(cn_results, test, universe)\n",
    "\n",
    "    with open(saved_path+f'cn_evaluation_{idx}.pickle', 'wb') as f:\n",
    "        pickle.dump(cn_evaluation, f) \n",
    "\n",
    "    print(f\"-- For {idx} evaluate AdamicAdar\")\n",
    "        \n",
    "    aa_evaluation = linkpred.evaluation.EvaluationSheet(aa_results, test, universe)\n",
    "\n",
    "    with open(saved_path+f'aa_evaluation_{idx}.pickle', 'wb') as f:\n",
    "        pickle.dump(aa_evaluation, f) \n",
    "        \n",
    "        \n",
    "    print(f\"-- For {idx} evaluate Jaccard\")\n",
    "        \n",
    "    jc_evaluation = linkpred.evaluation.EvaluationSheet(jc_results, test, universe)\n",
    "\n",
    "    with open(saved_path+f'jc_evaluation_{idx}.pickle', 'wb') as f:\n",
    "        pickle.dump(jc_evaluation, f) "
   ]
  },
  {
   "cell_type": "code",
   "execution_count": 14,
   "id": "d05e3882",
   "metadata": {},
   "outputs": [],
   "source": [
    "def evaluate(idx):\n",
    "    \n",
    "    with open(saved_path+f'cn_evaluation_{idx}.pickle', 'rb') as f:\n",
    "        cn_evaluation = pickle.load(f)\n",
    "    with open(saved_path+f'aa_evaluation_{idx}.pickle', 'rb') as f:\n",
    "        aa_evaluation = pickle.load(f)\n",
    "    with open(saved_path+f'jc_evaluation_{idx}.pickle', 'rb') as f:\n",
    "        jc_evaluation = pickle.load(f)\n",
    "\n",
    "    \n",
    "    print(\"Area Under Roc Curve (AUROC)\")\n",
    "    print(f\"CommonNeighbour: \\t {auc(cn_evaluation.fallout(), cn_evaluation.recall())}\")\n",
    "    print(f\"AdamicAdar: \\t {auc(aa_evaluation.fallout(), aa_evaluation.recall())}\")\n",
    "    print(f\"Jaccard: \\t {auc(jc_evaluation.fallout(), jc_evaluation.recall())}\")\n",
    "    \n",
    "    \n",
    "    #plt.plot(jc_evaluation.fallout(), jc_evaluation.recall(), label=\"Jaccard\")\n",
    "\n",
    "    #plt.xlabel(\"FPR\")\n",
    "    #plt.ylabel(\"TPR\")\n",
    "    #plt.legend()\n",
    "    #plt.show()\n",
    "    "
   ]
  },
  {
   "cell_type": "code",
   "execution_count": null,
   "id": "c3fb6931",
   "metadata": {},
   "outputs": [
    {
     "name": "stdout",
     "output_type": "stream",
     "text": [
      "-- For 0 predict CommonNeighbours\n",
      "-- For 0 predict AdamicAdar\n",
      "-- For 0 predict Jaccard\n",
      "-- For 0 evaluate CommonNeighbour\n"
     ]
    }
   ],
   "source": [
    "predict(0)"
   ]
  },
  {
   "cell_type": "code",
   "execution_count": null,
   "id": "8bd4e398",
   "metadata": {},
   "outputs": [],
   "source": [
    "evaluate(0)"
   ]
  },
  {
   "cell_type": "code",
   "execution_count": null,
   "id": "c81f6407",
   "metadata": {},
   "outputs": [],
   "source": []
  },
  {
   "cell_type": "code",
   "execution_count": null,
   "id": "55a1c56f",
   "metadata": {},
   "outputs": [],
   "source": [
    "predict(1)"
   ]
  },
  {
   "cell_type": "code",
   "execution_count": null,
   "id": "e02d985f",
   "metadata": {},
   "outputs": [],
   "source": [
    "evaluate(1)"
   ]
  },
  {
   "cell_type": "code",
   "execution_count": null,
   "id": "7b0f88f6",
   "metadata": {},
   "outputs": [],
   "source": []
  },
  {
   "cell_type": "code",
   "execution_count": null,
   "id": "1c4c71a3",
   "metadata": {},
   "outputs": [],
   "source": [
    "predict(2)"
   ]
  },
  {
   "cell_type": "code",
   "execution_count": null,
   "id": "f629588e",
   "metadata": {},
   "outputs": [],
   "source": [
    "evaluate(2)"
   ]
  },
  {
   "cell_type": "code",
   "execution_count": null,
   "id": "d348dfd5",
   "metadata": {},
   "outputs": [],
   "source": []
  },
  {
   "cell_type": "code",
   "execution_count": null,
   "id": "a04edcab",
   "metadata": {},
   "outputs": [],
   "source": [
    "predict(3)"
   ]
  },
  {
   "cell_type": "code",
   "execution_count": null,
   "id": "381e9f1c",
   "metadata": {},
   "outputs": [],
   "source": [
    "evaluate(3)"
   ]
  },
  {
   "cell_type": "code",
   "execution_count": null,
   "id": "62ba03da",
   "metadata": {},
   "outputs": [],
   "source": []
  },
  {
   "cell_type": "code",
   "execution_count": null,
   "id": "d38788cb",
   "metadata": {},
   "outputs": [],
   "source": [
    "predict(4)"
   ]
  },
  {
   "cell_type": "code",
   "execution_count": null,
   "id": "6a62490b",
   "metadata": {},
   "outputs": [],
   "source": [
    "evaluate(4)"
   ]
  },
  {
   "cell_type": "code",
   "execution_count": null,
   "id": "6bc5ebd7",
   "metadata": {},
   "outputs": [],
   "source": []
  },
  {
   "cell_type": "code",
   "execution_count": null,
   "id": "56eb6787",
   "metadata": {},
   "outputs": [],
   "source": [
    "predict(5)"
   ]
  },
  {
   "cell_type": "code",
   "execution_count": null,
   "id": "679c11ea",
   "metadata": {},
   "outputs": [],
   "source": [
    "evaluate(5)"
   ]
  },
  {
   "cell_type": "code",
   "execution_count": null,
   "id": "e6649970",
   "metadata": {},
   "outputs": [],
   "source": []
  },
  {
   "cell_type": "code",
   "execution_count": null,
   "id": "dc3b1d4f",
   "metadata": {},
   "outputs": [],
   "source": [
    "predict(6)"
   ]
  },
  {
   "cell_type": "code",
   "execution_count": null,
   "id": "d95829f2",
   "metadata": {},
   "outputs": [],
   "source": [
    "evaluate(6)"
   ]
  },
  {
   "cell_type": "code",
   "execution_count": null,
   "id": "c968f8ea",
   "metadata": {},
   "outputs": [],
   "source": []
  },
  {
   "cell_type": "code",
   "execution_count": null,
   "id": "7e730bd9",
   "metadata": {},
   "outputs": [],
   "source": [
    "predict(7)"
   ]
  },
  {
   "cell_type": "code",
   "execution_count": null,
   "id": "ffcc293a",
   "metadata": {},
   "outputs": [],
   "source": [
    "evaluate(7)"
   ]
  },
  {
   "cell_type": "code",
   "execution_count": null,
   "id": "a983bce8",
   "metadata": {},
   "outputs": [],
   "source": []
  },
  {
   "cell_type": "code",
   "execution_count": null,
   "id": "0d8a48b9",
   "metadata": {},
   "outputs": [],
   "source": [
    "predict(8)"
   ]
  },
  {
   "cell_type": "code",
   "execution_count": null,
   "id": "f841beef",
   "metadata": {},
   "outputs": [],
   "source": [
    "evaluate(8)"
   ]
  },
  {
   "cell_type": "code",
   "execution_count": null,
   "id": "c8267082",
   "metadata": {},
   "outputs": [],
   "source": []
  },
  {
   "cell_type": "code",
   "execution_count": null,
   "id": "9cca8eda",
   "metadata": {},
   "outputs": [],
   "source": []
  },
  {
   "cell_type": "code",
   "execution_count": null,
   "id": "36f63b65",
   "metadata": {},
   "outputs": [],
   "source": [
    "def predict2(idx):\n",
    "    with open(saved_path+f'universe_{idx}.pickle', 'rb') as f:\n",
    "        universe = pickle.load(f)\n",
    "    with open(saved_path+f'test_{idx}.pickle', 'rb') as f:\n",
    "        test = pickle.load(f)\n",
    "    training = nx.read_graphml(saved_path+f\"training_{idx}.graphml\")\n",
    "    \n",
    "    print(f\"-- For {idx} predict Katz\")\n",
    "    \n",
    "    kz = linkpred.predictors.Katz(training, excluded=training.edges())\n",
    "    kz_results = kz.predict()\n",
    "    \n",
    "    res = []\n",
    "    for i, j in zip(kz_results, kz_results.values()):\n",
    "        res.append([Pair(i), j])\n",
    "   \n",
    "    with open(saved_path+f'kz_results_{idx}.pickle', 'wb') as f:\n",
    "        pickle.dump(res, f)\n",
    "        \n",
    "        \n",
    "    print(f\"-- For {idx} predict SimRank\")\n",
    "    simrank = linkpred.predictors.SimRank(training, excluded=training.edges())\n",
    "    simrank_results = simrank.predict()\n",
    "    \n",
    "    \n",
    "    res = []\n",
    "    for i, j in zip(simrank_results, simrank_results.values()):\n",
    "        res.append([Pair(i), j])\n",
    "   \n",
    "    with open(saved_path+f'simrank_results_{idx}.pickle', 'wb') as f:\n",
    "        pickle.dump(res, f)\n",
    "        \n",
    "\n",
    "    print(f\"-- For {idx} evaluate Katz\")\n",
    "        \n",
    "    kz_evaluation = linkpred.evaluation.EvaluationSheet(kz_results, test, universe)\n",
    "\n",
    "    with open(saved_path+f'kz_evaluation_{idx}.pickle', 'wb') as f:\n",
    "        pickle.dump(kz_evaluation, f) \n",
    "\n",
    "    print(f\"-- For {idx} evaluate SimRank\")\n",
    "        \n",
    "    simrank_evaluation = linkpred.evaluation.EvaluationSheet(simrank_results, test, universe)\n",
    "\n",
    "    with open(saved_path+f'simrank_evaluation_{idx}.pickle', 'wb') as f:\n",
    "        pickle.dump(simrank_evaluation, f) "
   ]
  },
  {
   "cell_type": "code",
   "execution_count": null,
   "id": "f1f5718d",
   "metadata": {},
   "outputs": [],
   "source": [
    "def evaluate2(idx):\n",
    "    \n",
    "    with open(saved_path+f'kz_evaluation_{idx}.pickle', 'rb') as f:\n",
    "        kz_evaluation = pickle.load(f)\n",
    "    with open(saved_path+f'simrank_evaluation_{idx}.pickle', 'rb') as f:\n",
    "        sm_evaluation = pickle.load(f)\n",
    "\n",
    "    \n",
    "    print(\"Area Under Roc Curve (AUROC)\")\n",
    "    print(f\"Katz: \\t {auc(kz_evaluation.fallout(), kz_evaluation.recall())}\")\n",
    "    print(f\"SimRank: \\t {auc(sm_evaluation.fallout(), sm_evaluation.recall())}\")"
   ]
  },
  {
   "cell_type": "code",
   "execution_count": null,
   "id": "2a27872a",
   "metadata": {},
   "outputs": [],
   "source": [
    "predict2(0)"
   ]
  },
  {
   "cell_type": "code",
   "execution_count": null,
   "id": "e79ceb0f",
   "metadata": {},
   "outputs": [],
   "source": [
    "evaluate2(0)"
   ]
  },
  {
   "cell_type": "code",
   "execution_count": null,
   "id": "54e906c0",
   "metadata": {},
   "outputs": [],
   "source": [
    "predict2(1)\n",
    "evaluate2(1)"
   ]
  },
  {
   "cell_type": "code",
   "execution_count": null,
   "id": "d3a41233",
   "metadata": {},
   "outputs": [],
   "source": [
    "predict2(2)\n",
    "evaluate2(2)"
   ]
  },
  {
   "cell_type": "code",
   "execution_count": null,
   "id": "96545a6d",
   "metadata": {},
   "outputs": [],
   "source": [
    "predict2(3)\n",
    "evaluate2(3)"
   ]
  },
  {
   "cell_type": "code",
   "execution_count": null,
   "id": "42b5a10c",
   "metadata": {},
   "outputs": [],
   "source": [
    "predict2(4)\n",
    "evaluate2(4)"
   ]
  },
  {
   "cell_type": "code",
   "execution_count": null,
   "id": "43741f65",
   "metadata": {},
   "outputs": [],
   "source": [
    "predict2(5)\n",
    "evaluate2(5)"
   ]
  },
  {
   "cell_type": "code",
   "execution_count": null,
   "id": "25987b07",
   "metadata": {},
   "outputs": [],
   "source": [
    "predict2(6)\n",
    "evaluate2(6)"
   ]
  },
  {
   "cell_type": "code",
   "execution_count": null,
   "id": "da8d0436",
   "metadata": {},
   "outputs": [],
   "source": [
    "predict2(7)\n",
    "evaluate2(7)"
   ]
  },
  {
   "cell_type": "code",
   "execution_count": null,
   "id": "cdeca38f",
   "metadata": {},
   "outputs": [],
   "source": [
    "predict2(8)\n",
    "evaluate2(8)"
   ]
  },
  {
   "cell_type": "code",
   "execution_count": null,
   "id": "9260cbe4",
   "metadata": {},
   "outputs": [],
   "source": []
  }
 ],
 "metadata": {
  "kernelspec": {
   "display_name": "Python 3",
   "language": "python",
   "name": "python3"
  },
  "language_info": {
   "codemirror_mode": {
    "name": "ipython",
    "version": 3
   },
   "file_extension": ".py",
   "mimetype": "text/x-python",
   "name": "python",
   "nbconvert_exporter": "python",
   "pygments_lexer": "ipython3",
   "version": "3.8.8"
  }
 },
 "nbformat": 4,
 "nbformat_minor": 5
}
