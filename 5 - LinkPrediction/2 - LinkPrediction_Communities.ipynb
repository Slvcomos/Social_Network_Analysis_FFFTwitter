{
 "cells": [
  {
   "cell_type": "code",
   "execution_count": 1,
   "id": "513754a1",
   "metadata": {},
   "outputs": [],
   "source": [
    "import linkpred\n",
    "from linkpred.evaluation import Pair\n",
    "import networkx as nx\n",
    "import random\n",
    "import itertools\n",
    "from operator import itemgetter\n",
    "import pickle\n",
    "import matplotlib.pyplot as plt\n",
    "from sklearn.metrics import auc"
   ]
  },
  {
   "cell_type": "code",
   "execution_count": 2,
   "id": "3d7f63b4",
   "metadata": {},
   "outputs": [
    {
     "name": "stdout",
     "output_type": "stream",
     "text": [
      "Note: to be able to use all crisp methods, you need to install some additional packages:  {'graph_tool', 'wurlitzer'}\n"
     ]
    },
    {
     "data": {
      "text/html": [
       "\n",
       "\t\t\t<script type=\"text/javascript\">\n",
       "\t\t\t<!--\n",
       "\t\t\t\t\n",
       "\t\t\t{\n",
       "\t\t\t\tvar element = document.getElementById('NetworKit_script');\n",
       "\t\t\t\tif (element) {\n",
       "\t\t\t\t\telement.parentNode.removeChild(element);\n",
       "\t\t\t\t}\n",
       "\t\t\t\telement = document.createElement('script');\n",
       "\t\t\t\telement.type = 'text/javascript';\n",
       "\t\t\t\telement.innerHTML = 'function NetworKit_pageEmbed(id) { var i, j; var elements; elements = document.getElementById(id).getElementsByClassName(\"Plot\"); for (i=0; i<elements.length; i++) { elements[i].id = id + \"_Plot_\" + i; var data = elements[i].getAttribute(\"data-image\").split(\"|\"); elements[i].removeAttribute(\"data-image\"); var content = \"<div class=\\\\\"Image\\\\\" id=\\\\\"\" + elements[i].id + \"_Image\\\\\" />\"; elements[i].innerHTML = content; elements[i].setAttribute(\"data-image-index\", 0); elements[i].setAttribute(\"data-image-length\", data.length); for (j=0; j<data.length; j++) { elements[i].setAttribute(\"data-image-\" + j, data[j]); } NetworKit_plotUpdate(elements[i]); elements[i].onclick = function (e) { NetworKit_overlayShow((e.target) ? e.target : e.srcElement); } } elements = document.getElementById(id).getElementsByClassName(\"HeatCell\"); for (i=0; i<elements.length; i++) { var data = parseFloat(elements[i].getAttribute(\"data-heat\")); var color = \"#00FF00\"; if (data <= 1 && data > 0) { color = \"hsla(0, 100%, 75%, \" + (data) + \")\"; } else if (data <= 0 && data >= -1) { color = \"hsla(240, 100%, 75%, \" + (-data) + \")\"; } elements[i].style.backgroundColor = color; } elements = document.getElementById(id).getElementsByClassName(\"Details\"); for (i=0; i<elements.length; i++) { elements[i].setAttribute(\"data-title\", \"-\"); NetworKit_toggleDetails(elements[i]); elements[i].onclick = function (e) { NetworKit_toggleDetails((e.target) ? e.target : e.srcElement); } } elements = document.getElementById(id).getElementsByClassName(\"MathValue\"); for (i=elements.length-1; i>=0; i--) { value = elements[i].innerHTML.trim(); if (value === \"nan\") { elements[i].parentNode.innerHTML = \"\" } } elements = document.getElementById(id).getElementsByClassName(\"SubCategory\"); for (i=elements.length-1; i>=0; i--) { value = elements[i].innerHTML.trim(); if (value === \"\") { elements[i].parentNode.removeChild(elements[i]) } } elements = document.getElementById(id).getElementsByClassName(\"Category\"); for (i=elements.length-1; i>=0; i--) { value = elements[i].innerHTML.trim(); if (value === \"\") { elements[i].parentNode.removeChild(elements[i]) } } var isFirefox = false; try { isFirefox = typeof InstallTrigger !== \"undefined\"; } catch (e) {} if (!isFirefox) { alert(\"Currently the function\\'s output is only fully supported by Firefox.\"); } } function NetworKit_plotUpdate(source) { var index = source.getAttribute(\"data-image-index\"); var data = source.getAttribute(\"data-image-\" + index); var image = document.getElementById(source.id + \"_Image\"); image.style.backgroundImage = \"url(\" + data + \")\"; } function NetworKit_showElement(id, show) { var element = document.getElementById(id); element.style.display = (show) ? \"block\" : \"none\"; } function NetworKit_overlayShow(source) { NetworKit_overlayUpdate(source); NetworKit_showElement(\"NetworKit_Overlay\", true); } function NetworKit_overlayUpdate(source) { document.getElementById(\"NetworKit_Overlay_Title\").innerHTML = source.title; var index = source.getAttribute(\"data-image-index\"); var data = source.getAttribute(\"data-image-\" + index); var image = document.getElementById(\"NetworKit_Overlay_Image\"); image.setAttribute(\"data-id\", source.id); image.style.backgroundImage = \"url(\" + data + \")\"; var link = document.getElementById(\"NetworKit_Overlay_Toolbar_Bottom_Save\"); link.href = data; link.download = source.title + \".svg\"; } function NetworKit_overlayImageShift(delta) { var image = document.getElementById(\"NetworKit_Overlay_Image\"); var source = document.getElementById(image.getAttribute(\"data-id\")); var index = parseInt(source.getAttribute(\"data-image-index\")); var length = parseInt(source.getAttribute(\"data-image-length\")); var index = (index+delta) % length; if (index < 0) { index = length + index; } source.setAttribute(\"data-image-index\", index); NetworKit_overlayUpdate(source); } function NetworKit_toggleDetails(source) { var childs = source.children; var show = false; if (source.getAttribute(\"data-title\") == \"-\") { source.setAttribute(\"data-title\", \"+\"); show = false; } else { source.setAttribute(\"data-title\", \"-\"); show = true; } for (i=0; i<childs.length; i++) { if (show) { childs[i].style.display = \"block\"; } else { childs[i].style.display = \"none\"; } } }';\n",
       "\t\t\t\telement.setAttribute('id', 'NetworKit_script');\n",
       "\t\t\t\tdocument.head.appendChild(element);\n",
       "\t\t\t}\n",
       "\t\t\n",
       "\t\t\t\t\n",
       "\t\t\t{\n",
       "\t\t\t\tvar element = document.getElementById('NetworKit_style');\n",
       "\t\t\t\tif (element) {\n",
       "\t\t\t\t\telement.parentNode.removeChild(element);\n",
       "\t\t\t\t}\n",
       "\t\t\t\telement = document.createElement('style');\n",
       "\t\t\t\telement.type = 'text/css';\n",
       "\t\t\t\telement.innerHTML = '.NetworKit_Page { font-family: Arial, Helvetica, sans-serif; font-size: 14px; } .NetworKit_Page .Value:before { font-family: Arial, Helvetica, sans-serif; font-size: 1.05em; content: attr(data-title) \":\"; margin-left: -2.5em; padding-right: 0.5em; } .NetworKit_Page .Details .Value:before { display: block; } .NetworKit_Page .Value { font-family: monospace; white-space: pre; padding-left: 2.5em; white-space: -moz-pre-wrap !important; white-space: -pre-wrap; white-space: -o-pre-wrap; white-space: pre-wrap; word-wrap: break-word; tab-size: 4; -moz-tab-size: 4; } .NetworKit_Page .Category { clear: both; padding-left: 1em; margin-bottom: 1.5em; } .NetworKit_Page .Category:before { content: attr(data-title); font-size: 1.75em; display: block; margin-left: -0.8em; margin-bottom: 0.5em; } .NetworKit_Page .SubCategory { margin-bottom: 1.5em; padding-left: 1em; } .NetworKit_Page .SubCategory:before { font-size: 1.6em; display: block; margin-left: -0.8em; margin-bottom: 0.5em; } .NetworKit_Page .SubCategory[data-title]:before { content: attr(data-title); } .NetworKit_Page .Block { display: block; } .NetworKit_Page .Block:after { content: \".\"; visibility: hidden; display: block; height: 0; clear: both; } .NetworKit_Page .Block .Thumbnail_Overview, .NetworKit_Page .Block .Thumbnail_ScatterPlot { width: 260px; float: left; } .NetworKit_Page .Block .Thumbnail_Overview img, .NetworKit_Page .Block .Thumbnail_ScatterPlot img { width: 260px; } .NetworKit_Page .Block .Thumbnail_Overview:before, .NetworKit_Page .Block .Thumbnail_ScatterPlot:before { display: block; text-align: center; font-weight: bold; } .NetworKit_Page .Block .Thumbnail_Overview:before { content: attr(data-title); } .NetworKit_Page .HeatCell { font-family: \"Courier New\", Courier, monospace; cursor: pointer; } .NetworKit_Page .HeatCell, .NetworKit_Page .HeatCellName { display: inline; padding: 0.1em; margin-right: 2px; background-color: #FFFFFF } .NetworKit_Page .HeatCellName { margin-left: 0.25em; } .NetworKit_Page .HeatCell:before { content: attr(data-heat); display: inline-block; color: #000000; width: 4em; text-align: center; } .NetworKit_Page .Measure { clear: both; } .NetworKit_Page .Measure .Details { cursor: pointer; } .NetworKit_Page .Measure .Details:before { content: \"[\" attr(data-title) \"]\"; display: block; } .NetworKit_Page .Measure .Details .Value { border-left: 1px dotted black; margin-left: 0.4em; padding-left: 3.5em; pointer-events: none; } .NetworKit_Page .Measure .Details .Spacer:before { content: \".\"; opacity: 0.0; pointer-events: none; } .NetworKit_Page .Measure .Plot { width: 440px; height: 440px; cursor: pointer; float: left; margin-left: -0.9em; margin-right: 20px; } .NetworKit_Page .Measure .Plot .Image { background-repeat: no-repeat; background-position: center center; background-size: contain; height: 100%; pointer-events: none; } .NetworKit_Page .Measure .Stat { width: 500px; float: left; } .NetworKit_Page .Measure .Stat .Group { padding-left: 1.25em; margin-bottom: 0.75em; } .NetworKit_Page .Measure .Stat .Group .Title { font-size: 1.1em; display: block; margin-bottom: 0.3em; margin-left: -0.75em; border-right-style: dotted; border-right-width: 1px; border-bottom-style: dotted; border-bottom-width: 1px; background-color: #D0D0D0; padding-left: 0.2em; } .NetworKit_Page .Measure .Stat .Group .List { -webkit-column-count: 3; -moz-column-count: 3; column-count: 3; } .NetworKit_Page .Measure .Stat .Group .List .Entry { position: relative; line-height: 1.75em; } .NetworKit_Page .Measure .Stat .Group .List .Entry[data-tooltip]:before { position: absolute; left: 0; top: -40px; background-color: #808080; color: #ffffff; height: 30px; line-height: 30px; border-radius: 5px; padding: 0 15px; content: attr(data-tooltip); white-space: nowrap; display: none; } .NetworKit_Page .Measure .Stat .Group .List .Entry[data-tooltip]:after { position: absolute; left: 15px; top: -10px; border-top: 7px solid #808080; border-left: 7px solid transparent; border-right: 7px solid transparent; content: \"\"; display: none; } .NetworKit_Page .Measure .Stat .Group .List .Entry[data-tooltip]:hover:after, .NetworKit_Page .Measure .Stat .Group .List .Entry[data-tooltip]:hover:before { display: block; } .NetworKit_Page .Measure .Stat .Group .List .Entry .MathValue { font-family: \"Courier New\", Courier, monospace; } .NetworKit_Page .Measure:after { content: \".\"; visibility: hidden; display: block; height: 0; clear: both; } .NetworKit_Page .PartitionPie { clear: both; } .NetworKit_Page .PartitionPie img { width: 600px; } #NetworKit_Overlay { left: 0px; top: 0px; display: none; position: absolute; width: 100%; height: 100%; background-color: rgba(0,0,0,0.6); z-index: 1000; } #NetworKit_Overlay_Title { position: absolute; color: white; transform: rotate(-90deg); width: 32em; height: 32em; padding-right: 0.5em; padding-top: 0.5em; text-align: right; font-size: 40px; } #NetworKit_Overlay .button { background: white; cursor: pointer; } #NetworKit_Overlay .button:before { size: 13px; display: inline-block; text-align: center; margin-top: 0.5em; margin-bottom: 0.5em; width: 1.5em; height: 1.5em; } #NetworKit_Overlay .icon-close:before { content: \"X\"; } #NetworKit_Overlay .icon-previous:before { content: \"P\"; } #NetworKit_Overlay .icon-next:before { content: \"N\"; } #NetworKit_Overlay .icon-save:before { content: \"S\"; } #NetworKit_Overlay_Toolbar_Top, #NetworKit_Overlay_Toolbar_Bottom { position: absolute; width: 40px; right: 13px; text-align: right; z-index: 1100; } #NetworKit_Overlay_Toolbar_Top { top: 0.5em; } #NetworKit_Overlay_Toolbar_Bottom { Bottom: 0.5em; } #NetworKit_Overlay_ImageContainer { position: absolute; top: 5%; left: 5%; height: 90%; width: 90%; background-repeat: no-repeat; background-position: center center; background-size: contain; } #NetworKit_Overlay_Image { height: 100%; width: 100%; background-repeat: no-repeat; background-position: center center; background-size: contain; }';\n",
       "\t\t\t\telement.setAttribute('id', 'NetworKit_style');\n",
       "\t\t\t\tdocument.head.appendChild(element);\n",
       "\t\t\t}\n",
       "\t\t\n",
       "\t\t\t\t\n",
       "\t\t\t{\n",
       "\t\t\t\tvar element = document.getElementById('NetworKit_Overlay');\n",
       "\t\t\t\tif (element) {\n",
       "\t\t\t\t\telement.parentNode.removeChild(element);\n",
       "\t\t\t\t}\n",
       "\t\t\t\telement = document.createElement('div');\n",
       "\t\t\t\telement.innerHTML = '<div id=\"NetworKit_Overlay_Toolbar_Top\"><div class=\"button icon-close\" id=\"NetworKit_Overlay_Close\" /></div><div id=\"NetworKit_Overlay_Title\" /> <div id=\"NetworKit_Overlay_ImageContainer\"> <div id=\"NetworKit_Overlay_Image\" /> </div> <div id=\"NetworKit_Overlay_Toolbar_Bottom\"> <div class=\"button icon-previous\" onclick=\"NetworKit_overlayImageShift(-1)\" /> <div class=\"button icon-next\" onclick=\"NetworKit_overlayImageShift(1)\" /> <a id=\"NetworKit_Overlay_Toolbar_Bottom_Save\"><div class=\"button icon-save\" /></a> </div>';\n",
       "\t\t\t\telement.setAttribute('id', 'NetworKit_Overlay');\n",
       "\t\t\t\tdocument.body.appendChild(element);\n",
       "\t\t\t\tdocument.getElementById('NetworKit_Overlay_Close').onclick = function (e) {\n",
       "\t\t\t\t\tdocument.getElementById('NetworKit_Overlay').style.display = 'none';\n",
       "\t\t\t\t}\n",
       "\t\t\t}\n",
       "\t\t\n",
       "\t\t\t-->\n",
       "\t\t\t</script>\n",
       "\t\t"
      ]
     },
     "metadata": {},
     "output_type": "display_data"
    },
    {
     "name": "stdout",
     "output_type": "stream",
     "text": [
      "Note: to be able to use all bipartite methods, you need to install some additional packages:  {'wurlitzer'}\n"
     ]
    }
   ],
   "source": [
    "import networkx as nx\n",
    "import pandas as pd\n",
    "import numpy as np\n",
    "import json\n",
    "import cdlib\n",
    "from cdlib import evaluation\n",
    "from cdlib import algorithms\n",
    "from cdlib import viz\n",
    "from cdlib import ensemble\n",
    "from cdlib import readwrite\n",
    "import pickle\n",
    "import pquality\n",
    "import matplotlib.pyplot as plt\n",
    "%matplotlib inline\n",
    "from nf1 import NF1\n",
    "import networkx as nx\n",
    "import numpy as np\n",
    "import pandas as pd\n",
    "import matplotlib.pyplot as plt\n",
    "from collections import Counter\n",
    "from operator import itemgetter\n",
    "import powerlaw\n",
    "from networkx.drawing.nx_agraph import graphviz_layout\n",
    "import pickle\n",
    "from statistics import mean, stdev\n",
    "import seaborn as sns\n",
    "import json\n",
    "import random"
   ]
  },
  {
   "cell_type": "code",
   "execution_count": 3,
   "id": "bae39a49",
   "metadata": {},
   "outputs": [],
   "source": [
    "path = \"../DataSet FFF/\""
   ]
  },
  {
   "cell_type": "code",
   "execution_count": 4,
   "id": "4cd99c08",
   "metadata": {},
   "outputs": [],
   "source": [
    "path_graph = \"../DataSet FFF/Graph_data/\""
   ]
  },
  {
   "cell_type": "code",
   "execution_count": 5,
   "id": "e73aa783",
   "metadata": {},
   "outputs": [],
   "source": [
    "saved_path = \"../DataSet FFF/LinkPrediction_task/communities/\""
   ]
  },
  {
   "cell_type": "code",
   "execution_count": 6,
   "id": "481633b2",
   "metadata": {},
   "outputs": [],
   "source": [
    "G = nx.read_graphml(path_graph+\"Real_Network.graphml\")"
   ]
  },
  {
   "cell_type": "code",
   "execution_count": 7,
   "id": "cd334578",
   "metadata": {},
   "outputs": [
    {
     "data": {
      "text/plain": [
       "'Name: \\nType: Graph\\nNumber of nodes: 10361\\nNumber of edges: 63960\\nAverage degree:  12.3463'"
      ]
     },
     "execution_count": 7,
     "metadata": {},
     "output_type": "execute_result"
    }
   ],
   "source": [
    "nx.info(G)"
   ]
  },
  {
   "cell_type": "code",
   "execution_count": 8,
   "id": "6f11e5ec",
   "metadata": {},
   "outputs": [],
   "source": [
    "community_path = \"../DataSet FFF/Community_task/\""
   ]
  },
  {
   "cell_type": "code",
   "execution_count": 9,
   "id": "1d0068d4",
   "metadata": {},
   "outputs": [],
   "source": [
    "with open(community_path+'louvain.pickle', 'rb') as f:\n",
    "    louvain_coms = pickle.load(f)"
   ]
  },
  {
   "cell_type": "code",
   "execution_count": 10,
   "id": "0c74c043",
   "metadata": {},
   "outputs": [
    {
     "name": "stdout",
     "output_type": "stream",
     "text": [
      "4815\n",
      "1069\n",
      "954\n",
      "676\n",
      "462\n",
      "416\n",
      "206\n",
      "174\n",
      "112\n"
     ]
    }
   ],
   "source": [
    "for i in louvain_coms.communities[:9]:\n",
    "    print(len(i))"
   ]
  },
  {
   "cell_type": "code",
   "execution_count": 11,
   "id": "f4ca2276",
   "metadata": {},
   "outputs": [],
   "source": [
    "def prepare_data(G, idx):\n",
    "    training_edge_len = len(G.edges()) - int(len(G.edges())/100 * 20)\n",
    "    test_edge_len = len(G.edges()) - training_edge_len\n",
    "    \n",
    "    training_edges = random.sample(G.edges, training_edge_len)\n",
    "    \n",
    "    training = G.edge_subgraph(training_edges)\n",
    "    \n",
    "    test = G.copy()\n",
    "    test.remove_edges_from(training.edges())\n",
    "    \n",
    "    nodes = list(G.nodes())\n",
    "    nodes.extend(list(test.nodes()))\n",
    "    \n",
    "    test = [Pair(i) for i in test.edges()]\n",
    "    universe = set([Pair(i) for i in itertools.product(nodes, nodes) if i[0]!=i[1]])\n",
    "    print(f\" -- Storing for community {idx}\")\n",
    "    with open(saved_path+f'universe_{idx}.pickle', 'wb') as f:\n",
    "        pickle.dump(universe, f)\n",
    "    with open(saved_path+f'test_{idx}.pickle', 'wb') as f:\n",
    "        pickle.dump(test, f) \n",
    "    nx.write_graphml(training, saved_path+f\"training_{idx}.graphml\")"
   ]
  },
  {
   "cell_type": "code",
   "execution_count": 12,
   "id": "5d50738a",
   "metadata": {},
   "outputs": [
    {
     "name": "stdout",
     "output_type": "stream",
     "text": [
      " -- Storing for community 0\n",
      " -- Storing for community 1\n",
      " -- Storing for community 2\n",
      " -- Storing for community 3\n"
     ]
    },
    {
     "ename": "ValueError",
     "evalue": "Sample larger than population or is negative",
     "output_type": "error",
     "traceback": [
      "\u001b[1;31m---------------------------------------------------------------------------\u001b[0m",
      "\u001b[1;31mValueError\u001b[0m                                Traceback (most recent call last)",
      "\u001b[1;32m<ipython-input-12-a79226492e35>\u001b[0m in \u001b[0;36m<module>\u001b[1;34m\u001b[0m\n\u001b[0;32m      1\u001b[0m \u001b[1;32mfor\u001b[0m \u001b[0midx\u001b[0m\u001b[1;33m,\u001b[0m \u001b[0mcom\u001b[0m \u001b[1;32min\u001b[0m \u001b[0menumerate\u001b[0m\u001b[1;33m(\u001b[0m\u001b[0mlouvain_coms\u001b[0m\u001b[1;33m.\u001b[0m\u001b[0mcommunities\u001b[0m\u001b[1;33m[\u001b[0m\u001b[1;33m:\u001b[0m\u001b[1;36m9\u001b[0m\u001b[1;33m]\u001b[0m\u001b[1;33m)\u001b[0m\u001b[1;33m:\u001b[0m\u001b[1;33m\u001b[0m\u001b[1;33m\u001b[0m\u001b[0m\n\u001b[1;32m----> 2\u001b[1;33m     \u001b[0msampled_nodes\u001b[0m \u001b[1;33m=\u001b[0m \u001b[0mrandom\u001b[0m\u001b[1;33m.\u001b[0m\u001b[0msample\u001b[0m\u001b[1;33m(\u001b[0m\u001b[0mG\u001b[0m\u001b[1;33m.\u001b[0m\u001b[0msubgraph\u001b[0m\u001b[1;33m(\u001b[0m\u001b[0mcom\u001b[0m\u001b[1;33m)\u001b[0m\u001b[1;33m.\u001b[0m\u001b[0mnodes\u001b[0m\u001b[1;33m,\u001b[0m \u001b[1;36m500\u001b[0m\u001b[1;33m)\u001b[0m\u001b[1;33m\u001b[0m\u001b[1;33m\u001b[0m\u001b[0m\n\u001b[0m\u001b[0;32m      3\u001b[0m     \u001b[0mprepare_data\u001b[0m\u001b[1;33m(\u001b[0m\u001b[0mG\u001b[0m\u001b[1;33m.\u001b[0m\u001b[0msubgraph\u001b[0m\u001b[1;33m(\u001b[0m\u001b[0msampled_nodes\u001b[0m\u001b[1;33m)\u001b[0m\u001b[1;33m,\u001b[0m \u001b[0midx\u001b[0m\u001b[1;33m)\u001b[0m\u001b[1;33m\u001b[0m\u001b[1;33m\u001b[0m\u001b[0m\n",
      "\u001b[1;32m~\\anaconda3\\lib\\random.py\u001b[0m in \u001b[0;36msample\u001b[1;34m(self, population, k)\u001b[0m\n\u001b[0;32m    361\u001b[0m         \u001b[0mn\u001b[0m \u001b[1;33m=\u001b[0m \u001b[0mlen\u001b[0m\u001b[1;33m(\u001b[0m\u001b[0mpopulation\u001b[0m\u001b[1;33m)\u001b[0m\u001b[1;33m\u001b[0m\u001b[1;33m\u001b[0m\u001b[0m\n\u001b[0;32m    362\u001b[0m         \u001b[1;32mif\u001b[0m \u001b[1;32mnot\u001b[0m \u001b[1;36m0\u001b[0m \u001b[1;33m<=\u001b[0m \u001b[0mk\u001b[0m \u001b[1;33m<=\u001b[0m \u001b[0mn\u001b[0m\u001b[1;33m:\u001b[0m\u001b[1;33m\u001b[0m\u001b[1;33m\u001b[0m\u001b[0m\n\u001b[1;32m--> 363\u001b[1;33m             \u001b[1;32mraise\u001b[0m \u001b[0mValueError\u001b[0m\u001b[1;33m(\u001b[0m\u001b[1;34m\"Sample larger than population or is negative\"\u001b[0m\u001b[1;33m)\u001b[0m\u001b[1;33m\u001b[0m\u001b[1;33m\u001b[0m\u001b[0m\n\u001b[0m\u001b[0;32m    364\u001b[0m         \u001b[0mresult\u001b[0m \u001b[1;33m=\u001b[0m \u001b[1;33m[\u001b[0m\u001b[1;32mNone\u001b[0m\u001b[1;33m]\u001b[0m \u001b[1;33m*\u001b[0m \u001b[0mk\u001b[0m\u001b[1;33m\u001b[0m\u001b[1;33m\u001b[0m\u001b[0m\n\u001b[0;32m    365\u001b[0m         \u001b[0msetsize\u001b[0m \u001b[1;33m=\u001b[0m \u001b[1;36m21\u001b[0m        \u001b[1;31m# size of a small set minus size of an empty list\u001b[0m\u001b[1;33m\u001b[0m\u001b[1;33m\u001b[0m\u001b[0m\n",
      "\u001b[1;31mValueError\u001b[0m: Sample larger than population or is negative"
     ]
    }
   ],
   "source": [
    "for idx, com in enumerate(louvain_coms.communities[:9]):\n",
    "    sampled_nodes = random.sample(G.subgraph(com).nodes, 500)\n",
    "    prepare_data(G.subgraph(sampled_nodes), idx)"
   ]
  },
  {
   "cell_type": "code",
   "execution_count": 13,
   "id": "9bd2308e",
   "metadata": {},
   "outputs": [],
   "source": [
    "def predict(idx):\n",
    "    with open(saved_path+f'universe_{idx}.pickle', 'rb') as f:\n",
    "        universe = pickle.load(f)\n",
    "    with open(saved_path+f'test_{idx}.pickle', 'rb') as f:\n",
    "        test = pickle.load(f)\n",
    "    training = nx.read_graphml(saved_path+f\"training_{idx}.graphml\")\n",
    "    \n",
    "    print(f\"-- For {idx} predict CommonNeighbours\")\n",
    "    \n",
    "    cn = linkpred.predictors.CommonNeighbours(training, excluded=training.edges())\n",
    "    cn_results = cn.predict()\n",
    "    \n",
    "    res = []\n",
    "    for i, j in zip(cn_results, cn_results.values()):\n",
    "        res.append([Pair(i), j])\n",
    "   \n",
    "    with open(saved_path+f'cn_results_{idx}.pickle', 'wb') as f:\n",
    "        pickle.dump(res, f)\n",
    "        \n",
    "        \n",
    "    print(f\"-- For {idx} predict AdamicAdar\")\n",
    "    aa = linkpred.predictors.AdamicAdar(training, excluded=training.edges())\n",
    "    aa_results = aa.predict()\n",
    "    \n",
    "    \n",
    "    res = []\n",
    "    for i, j in zip(aa_results, aa_results.values()):\n",
    "        res.append([Pair(i), j])\n",
    "   \n",
    "    with open(saved_path+f'aa_results_{idx}.pickle', 'wb') as f:\n",
    "        pickle.dump(res, f)\n",
    "        \n",
    "    print(f\"-- For {idx} predict Jaccard\")\n",
    "    \n",
    "    jc = linkpred.predictors.Jaccard(training, excluded=training.edges())\n",
    "    jc_results = jc.predict()\n",
    "    \n",
    "    \n",
    "    res = []\n",
    "    for i, j in zip(jc_results, jc_results.values()):\n",
    "        res.append([Pair(i), j])\n",
    "\n",
    "    with open(saved_path+f'jc_results_{idx}.pickle', 'wb') as f:\n",
    "        pickle.dump(res, f)\n",
    "    \n",
    "    print(f\"-- For {idx} evaluate CommonNeighbour\")\n",
    "        \n",
    "    cn_evaluation = linkpred.evaluation.EvaluationSheet(cn_results, test, universe)\n",
    "\n",
    "    with open(saved_path+f'cn_evaluation_{idx}.pickle', 'wb') as f:\n",
    "        pickle.dump(cn_evaluation, f) \n",
    "\n",
    "    print(f\"-- For {idx} evaluate AdamicAdar\")\n",
    "        \n",
    "    aa_evaluation = linkpred.evaluation.EvaluationSheet(aa_results, test, universe)\n",
    "\n",
    "    with open(saved_path+f'aa_evaluation_{idx}.pickle', 'wb') as f:\n",
    "        pickle.dump(aa_evaluation, f) \n",
    "        \n",
    "        \n",
    "    print(f\"-- For {idx} evaluate Jaccard\")\n",
    "        \n",
    "    jc_evaluation = linkpred.evaluation.EvaluationSheet(jc_results, test, universe)\n",
    "\n",
    "    with open(saved_path+f'jc_evaluation_{idx}.pickle', 'wb') as f:\n",
    "        pickle.dump(jc_evaluation, f) "
   ]
  },
  {
   "cell_type": "code",
   "execution_count": 14,
   "id": "d05e3882",
   "metadata": {},
   "outputs": [],
   "source": [
    "def evaluate(idx):\n",
    "    \n",
    "    with open(saved_path+f'cn_evaluation_{idx}.pickle', 'rb') as f:\n",
    "        cn_evaluation = pickle.load(f)\n",
    "    with open(saved_path+f'aa_evaluation_{idx}.pickle', 'rb') as f:\n",
    "        aa_evaluation = pickle.load(f)\n",
    "    with open(saved_path+f'jc_evaluation_{idx}.pickle', 'rb') as f:\n",
    "        jc_evaluation = pickle.load(f)\n",
    "\n",
    "    \n",
    "    print(\"Area Under Roc Curve (AUROC)\")\n",
    "    print(f\"CommonNeighbour: \\t {auc(cn_evaluation.fallout(), cn_evaluation.recall())}\")\n",
    "    print(f\"AdamicAdar: \\t {auc(aa_evaluation.fallout(), aa_evaluation.recall())}\")\n",
    "    print(f\"Jaccard: \\t {auc(jc_evaluation.fallout(), jc_evaluation.recall())}\")\n",
    "    \n",
    "    \n",
    "    #plt.plot(jc_evaluation.fallout(), jc_evaluation.recall(), label=\"Jaccard\")\n",
    "\n",
    "    #plt.xlabel(\"FPR\")\n",
    "    #plt.ylabel(\"TPR\")\n",
    "    #plt.legend()\n",
    "    #plt.show()\n",
    "    "
   ]
  },
  {
   "cell_type": "code",
   "execution_count": 15,
   "id": "c3fb6931",
   "metadata": {},
   "outputs": [
    {
     "name": "stdout",
     "output_type": "stream",
     "text": [
      "-- For 0 predict CommonNeighbours\n",
      "-- For 0 predict AdamicAdar\n",
      "-- For 0 predict Jaccard\n",
      "-- For 0 evaluate CommonNeighbour\n",
      "-- For 0 evaluate AdamicAdar\n",
      "-- For 0 evaluate Jaccard\n"
     ]
    }
   ],
   "source": [
    "predict(0)"
   ]
  },
  {
   "cell_type": "code",
   "execution_count": 16,
   "id": "8bd4e398",
   "metadata": {},
   "outputs": [
    {
     "name": "stdout",
     "output_type": "stream",
     "text": [
      "Area Under Roc Curve (AUROC)\n",
      "CommonNeighbour: \t 0.00869204328972047\n",
      "AdamicAdar: \t 0.012950649163713426\n",
      "Jaccard: \t 0.005185549051248945\n"
     ]
    }
   ],
   "source": [
    "evaluate(0)"
   ]
  },
  {
   "cell_type": "code",
   "execution_count": null,
   "id": "c81f6407",
   "metadata": {},
   "outputs": [],
   "source": []
  },
  {
   "cell_type": "code",
   "execution_count": 17,
   "id": "55a1c56f",
   "metadata": {},
   "outputs": [
    {
     "name": "stdout",
     "output_type": "stream",
     "text": [
      "-- For 1 predict CommonNeighbours\n",
      "-- For 1 predict AdamicAdar\n",
      "-- For 1 predict Jaccard\n",
      "-- For 1 evaluate CommonNeighbour\n",
      "-- For 1 evaluate AdamicAdar\n",
      "-- For 1 evaluate Jaccard\n"
     ]
    }
   ],
   "source": [
    "predict(1)"
   ]
  },
  {
   "cell_type": "code",
   "execution_count": 18,
   "id": "e02d985f",
   "metadata": {},
   "outputs": [
    {
     "name": "stdout",
     "output_type": "stream",
     "text": [
      "Area Under Roc Curve (AUROC)\n",
      "CommonNeighbour: \t 0.006804183158254424\n",
      "AdamicAdar: \t 0.010881566588580284\n",
      "Jaccard: \t 0.004583483508320041\n"
     ]
    }
   ],
   "source": [
    "evaluate(1)"
   ]
  },
  {
   "cell_type": "code",
   "execution_count": null,
   "id": "7b0f88f6",
   "metadata": {},
   "outputs": [],
   "source": []
  },
  {
   "cell_type": "code",
   "execution_count": 19,
   "id": "1c4c71a3",
   "metadata": {},
   "outputs": [
    {
     "name": "stdout",
     "output_type": "stream",
     "text": [
      "-- For 2 predict CommonNeighbours\n",
      "-- For 2 predict AdamicAdar\n",
      "-- For 2 predict Jaccard\n",
      "-- For 2 evaluate CommonNeighbour\n",
      "-- For 2 evaluate AdamicAdar\n",
      "-- For 2 evaluate Jaccard\n"
     ]
    }
   ],
   "source": [
    "predict(2)"
   ]
  },
  {
   "cell_type": "code",
   "execution_count": 20,
   "id": "f629588e",
   "metadata": {},
   "outputs": [
    {
     "name": "stdout",
     "output_type": "stream",
     "text": [
      "Area Under Roc Curve (AUROC)\n",
      "CommonNeighbour: \t 0.19142282823583057\n",
      "AdamicAdar: \t 0.20034573594660243\n",
      "Jaccard: \t 0.1453431575001799\n"
     ]
    }
   ],
   "source": [
    "evaluate(2)"
   ]
  },
  {
   "cell_type": "code",
   "execution_count": null,
   "id": "d348dfd5",
   "metadata": {},
   "outputs": [],
   "source": []
  },
  {
   "cell_type": "code",
   "execution_count": null,
   "id": "a04edcab",
   "metadata": {},
   "outputs": [],
   "source": [
    "predict(3)"
   ]
  },
  {
   "cell_type": "code",
   "execution_count": null,
   "id": "381e9f1c",
   "metadata": {},
   "outputs": [],
   "source": [
    "evaluate(3)"
   ]
  },
  {
   "cell_type": "code",
   "execution_count": null,
   "id": "62ba03da",
   "metadata": {},
   "outputs": [],
   "source": []
  },
  {
   "cell_type": "code",
   "execution_count": null,
   "id": "d38788cb",
   "metadata": {},
   "outputs": [],
   "source": [
    "predict(4)"
   ]
  },
  {
   "cell_type": "code",
   "execution_count": null,
   "id": "6a62490b",
   "metadata": {},
   "outputs": [],
   "source": [
    "evaluate(4)"
   ]
  },
  {
   "cell_type": "code",
   "execution_count": null,
   "id": "6bc5ebd7",
   "metadata": {},
   "outputs": [],
   "source": []
  },
  {
   "cell_type": "code",
   "execution_count": null,
   "id": "56eb6787",
   "metadata": {},
   "outputs": [],
   "source": [
    "predict(5)"
   ]
  },
  {
   "cell_type": "code",
   "execution_count": null,
   "id": "679c11ea",
   "metadata": {},
   "outputs": [],
   "source": [
    "evaluate(5)"
   ]
  },
  {
   "cell_type": "code",
   "execution_count": null,
   "id": "e6649970",
   "metadata": {},
   "outputs": [],
   "source": []
  },
  {
   "cell_type": "code",
   "execution_count": null,
   "id": "dc3b1d4f",
   "metadata": {},
   "outputs": [],
   "source": [
    "predict(6)"
   ]
  },
  {
   "cell_type": "code",
   "execution_count": null,
   "id": "d95829f2",
   "metadata": {},
   "outputs": [],
   "source": [
    "evaluate(6)"
   ]
  },
  {
   "cell_type": "code",
   "execution_count": null,
   "id": "c968f8ea",
   "metadata": {},
   "outputs": [],
   "source": []
  },
  {
   "cell_type": "code",
   "execution_count": null,
   "id": "7e730bd9",
   "metadata": {},
   "outputs": [],
   "source": [
    "predict(7)"
   ]
  },
  {
   "cell_type": "code",
   "execution_count": null,
   "id": "ffcc293a",
   "metadata": {},
   "outputs": [],
   "source": [
    "evaluate(7)"
   ]
  },
  {
   "cell_type": "code",
   "execution_count": null,
   "id": "a983bce8",
   "metadata": {},
   "outputs": [],
   "source": []
  },
  {
   "cell_type": "code",
   "execution_count": null,
   "id": "0d8a48b9",
   "metadata": {},
   "outputs": [],
   "source": [
    "predict(8)"
   ]
  },
  {
   "cell_type": "code",
   "execution_count": null,
   "id": "f841beef",
   "metadata": {},
   "outputs": [],
   "source": [
    "evaluate(8)"
   ]
  },
  {
   "cell_type": "code",
   "execution_count": null,
   "id": "c8267082",
   "metadata": {},
   "outputs": [],
   "source": []
  },
  {
   "cell_type": "code",
   "execution_count": null,
   "id": "9cca8eda",
   "metadata": {},
   "outputs": [],
   "source": []
  },
  {
   "cell_type": "code",
   "execution_count": 21,
   "id": "36f63b65",
   "metadata": {},
   "outputs": [],
   "source": [
    "def predict2(idx):\n",
    "    with open(saved_path+f'universe_{idx}.pickle', 'rb') as f:\n",
    "        universe = pickle.load(f)\n",
    "    with open(saved_path+f'test_{idx}.pickle', 'rb') as f:\n",
    "        test = pickle.load(f)\n",
    "    training = nx.read_graphml(saved_path+f\"training_{idx}.graphml\")\n",
    "    \n",
    "    print(f\"-- For {idx} predict Katz\")\n",
    "    \n",
    "    kz = linkpred.predictors.Katz(training, excluded=training.edges())\n",
    "    kz_results = kz.predict()\n",
    "    \n",
    "    res = []\n",
    "    for i, j in zip(kz_results, kz_results.values()):\n",
    "        res.append([Pair(i), j])\n",
    "   \n",
    "    with open(saved_path+f'kz_results_{idx}.pickle', 'wb') as f:\n",
    "        pickle.dump(res, f)\n",
    "        \n",
    "        \n",
    "    print(f\"-- For {idx} predict SimRank\")\n",
    "    simrank = linkpred.predictors.SimRank(training, excluded=training.edges())\n",
    "    simrank_results = simrank.predict()\n",
    "    \n",
    "    \n",
    "    res = []\n",
    "    for i, j in zip(simrank_results, simrank_results.values()):\n",
    "        res.append([Pair(i), j])\n",
    "   \n",
    "    with open(saved_path+f'simrank_results_{idx}.pickle', 'wb') as f:\n",
    "        pickle.dump(res, f)\n",
    "        \n",
    "\n",
    "    print(f\"-- For {idx} evaluate Katz\")\n",
    "        \n",
    "    kz_evaluation = linkpred.evaluation.EvaluationSheet(kz_results, test, universe)\n",
    "\n",
    "    with open(saved_path+f'kz_evaluation_{idx}.pickle', 'wb') as f:\n",
    "        pickle.dump(kz_evaluation, f) \n",
    "\n",
    "    print(f\"-- For {idx} evaluate SimRank\")\n",
    "        \n",
    "    simrank_evaluation = linkpred.evaluation.EvaluationSheet(simrank_results, test, universe)\n",
    "\n",
    "    with open(saved_path+f'simrank_evaluation_{idx}.pickle', 'wb') as f:\n",
    "        pickle.dump(simrank_evaluation, f) "
   ]
  },
  {
   "cell_type": "code",
   "execution_count": 22,
   "id": "f1f5718d",
   "metadata": {},
   "outputs": [],
   "source": [
    "def evaluate2(idx):\n",
    "    \n",
    "    with open(saved_path+f'kz_evaluation_{idx}.pickle', 'rb') as f:\n",
    "        kz_evaluation = pickle.load(f)\n",
    "    with open(saved_path+f'simrank_evaluation_{idx}.pickle', 'rb') as f:\n",
    "        sm_evaluation = pickle.load(f)\n",
    "\n",
    "    \n",
    "    print(\"Area Under Roc Curve (AUROC)\")\n",
    "    print(f\"Katz: \\t {auc(kz_evaluation.fallout(), kz_evaluation.recall())}\")\n",
    "    print(f\"SimRank: \\t {auc(sm_evaluation.fallout(), sm_evaluation.recall())}\")"
   ]
  },
  {
   "cell_type": "code",
   "execution_count": 23,
   "id": "2a27872a",
   "metadata": {},
   "outputs": [
    {
     "name": "stdout",
     "output_type": "stream",
     "text": [
      "-- For 0 predict Katz\n",
      "Computing matrix powers: [############################################################] 5/5\n",
      "-- For 0 predict SimRank\n",
      "-- For 0 evaluate Katz\n",
      "-- For 0 evaluate SimRank\n"
     ]
    }
   ],
   "source": [
    "predict2(0)"
   ]
  },
  {
   "cell_type": "code",
   "execution_count": 24,
   "id": "e79ceb0f",
   "metadata": {},
   "outputs": [
    {
     "name": "stdout",
     "output_type": "stream",
     "text": [
      "Area Under Roc Curve (AUROC)\n",
      "Katz: \t 0.053230839200071454\n",
      "SimRank: \t 0.047963998359423304\n"
     ]
    }
   ],
   "source": [
    "evaluate2(0)"
   ]
  },
  {
   "cell_type": "code",
   "execution_count": 25,
   "id": "54e906c0",
   "metadata": {},
   "outputs": [
    {
     "name": "stdout",
     "output_type": "stream",
     "text": [
      "-- For 1 predict Katz\n",
      "Computing matrix powers: [############################################################] 5/5\n",
      "-- For 1 predict SimRank\n",
      "-- For 1 evaluate Katz\n",
      "-- For 1 evaluate SimRank\n",
      "Area Under Roc Curve (AUROC)\n",
      "Katz: \t 0.09997657131903473\n",
      "SimRank: \t 0.10028655646427366\n"
     ]
    }
   ],
   "source": [
    "predict2(1)\n",
    "evaluate2(1)"
   ]
  },
  {
   "cell_type": "code",
   "execution_count": 26,
   "id": "d3a41233",
   "metadata": {},
   "outputs": [
    {
     "name": "stdout",
     "output_type": "stream",
     "text": [
      "-- For 2 predict Katz\n",
      "Computing matrix powers: [############################################################] 5/5\n",
      "-- For 2 predict SimRank\n",
      "-- For 2 evaluate Katz\n",
      "-- For 2 evaluate SimRank\n"
     ]
    },
    {
     "ename": "KeyboardInterrupt",
     "evalue": "",
     "output_type": "error",
     "traceback": [
      "\u001b[1;31m---------------------------------------------------------------------------\u001b[0m",
      "\u001b[1;31mKeyboardInterrupt\u001b[0m                         Traceback (most recent call last)",
      "\u001b[1;32m<ipython-input-26-c2ceff1176a3>\u001b[0m in \u001b[0;36m<module>\u001b[1;34m\u001b[0m\n\u001b[1;32m----> 1\u001b[1;33m \u001b[0mpredict2\u001b[0m\u001b[1;33m(\u001b[0m\u001b[1;36m2\u001b[0m\u001b[1;33m)\u001b[0m\u001b[1;33m\u001b[0m\u001b[1;33m\u001b[0m\u001b[0m\n\u001b[0m\u001b[0;32m      2\u001b[0m \u001b[0mevaluate2\u001b[0m\u001b[1;33m(\u001b[0m\u001b[1;36m2\u001b[0m\u001b[1;33m)\u001b[0m\u001b[1;33m\u001b[0m\u001b[1;33m\u001b[0m\u001b[0m\n",
      "\u001b[1;32m<ipython-input-21-5eee609d1ed0>\u001b[0m in \u001b[0;36mpredict2\u001b[1;34m(idx)\u001b[0m\n\u001b[0;32m     41\u001b[0m     \u001b[0mprint\u001b[0m\u001b[1;33m(\u001b[0m\u001b[1;34mf\"-- For {idx} evaluate SimRank\"\u001b[0m\u001b[1;33m)\u001b[0m\u001b[1;33m\u001b[0m\u001b[1;33m\u001b[0m\u001b[0m\n\u001b[0;32m     42\u001b[0m \u001b[1;33m\u001b[0m\u001b[0m\n\u001b[1;32m---> 43\u001b[1;33m     \u001b[0msimrank_evaluation\u001b[0m \u001b[1;33m=\u001b[0m \u001b[0mlinkpred\u001b[0m\u001b[1;33m.\u001b[0m\u001b[0mevaluation\u001b[0m\u001b[1;33m.\u001b[0m\u001b[0mEvaluationSheet\u001b[0m\u001b[1;33m(\u001b[0m\u001b[0msimrank_results\u001b[0m\u001b[1;33m,\u001b[0m \u001b[0mtest\u001b[0m\u001b[1;33m,\u001b[0m \u001b[0muniverse\u001b[0m\u001b[1;33m)\u001b[0m\u001b[1;33m\u001b[0m\u001b[1;33m\u001b[0m\u001b[0m\n\u001b[0m\u001b[0;32m     44\u001b[0m \u001b[1;33m\u001b[0m\u001b[0m\n\u001b[0;32m     45\u001b[0m     \u001b[1;32mwith\u001b[0m \u001b[0mopen\u001b[0m\u001b[1;33m(\u001b[0m\u001b[0msaved_path\u001b[0m\u001b[1;33m+\u001b[0m\u001b[1;34mf'simrank_evaluation_{idx}.pickle'\u001b[0m\u001b[1;33m,\u001b[0m \u001b[1;34m'wb'\u001b[0m\u001b[1;33m)\u001b[0m \u001b[1;32mas\u001b[0m \u001b[0mf\u001b[0m\u001b[1;33m:\u001b[0m\u001b[1;33m\u001b[0m\u001b[1;33m\u001b[0m\u001b[0m\n",
      "\u001b[1;32m~\\anaconda3\\lib\\site-packages\\linkpred\\evaluation\\static.py\u001b[0m in \u001b[0;36m__init__\u001b[1;34m(self, data, relevant, universe)\u001b[0m\n\u001b[0;32m    148\u001b[0m             \u001b[0mself\u001b[0m\u001b[1;33m.\u001b[0m\u001b[0mdata\u001b[0m \u001b[1;33m=\u001b[0m \u001b[0mnp\u001b[0m\u001b[1;33m.\u001b[0m\u001b[0mempty\u001b[0m\u001b[1;33m(\u001b[0m\u001b[1;33m(\u001b[0m\u001b[0mlen\u001b[0m\u001b[1;33m(\u001b[0m\u001b[0mdata\u001b[0m\u001b[1;33m)\u001b[0m\u001b[1;33m,\u001b[0m \u001b[1;36m4\u001b[0m\u001b[1;33m)\u001b[0m\u001b[1;33m)\u001b[0m\u001b[1;33m\u001b[0m\u001b[1;33m\u001b[0m\u001b[0m\n\u001b[0;32m    149\u001b[0m             \u001b[1;32mfor\u001b[0m \u001b[0mi\u001b[0m\u001b[1;33m,\u001b[0m \u001b[1;33m(\u001b[0m\u001b[0mprediction\u001b[0m\u001b[1;33m,\u001b[0m \u001b[0m_\u001b[0m\u001b[1;33m)\u001b[0m \u001b[1;32min\u001b[0m \u001b[0menumerate\u001b[0m\u001b[1;33m(\u001b[0m\u001b[0mdata\u001b[0m\u001b[1;33m.\u001b[0m\u001b[0mranked_items\u001b[0m\u001b[1;33m(\u001b[0m\u001b[1;33m)\u001b[0m\u001b[1;33m)\u001b[0m\u001b[1;33m:\u001b[0m\u001b[1;33m\u001b[0m\u001b[1;33m\u001b[0m\u001b[0m\n\u001b[1;32m--> 150\u001b[1;33m                 \u001b[0mstatic\u001b[0m\u001b[1;33m.\u001b[0m\u001b[0madd_retrieved_item\u001b[0m\u001b[1;33m(\u001b[0m\u001b[0mprediction\u001b[0m\u001b[1;33m)\u001b[0m\u001b[1;33m\u001b[0m\u001b[1;33m\u001b[0m\u001b[0m\n\u001b[0m\u001b[0;32m    151\u001b[0m                 self.data[i] = (\n\u001b[0;32m    152\u001b[0m                     \u001b[0mstatic\u001b[0m\u001b[1;33m.\u001b[0m\u001b[0mnum_tp\u001b[0m\u001b[1;33m,\u001b[0m\u001b[1;33m\u001b[0m\u001b[1;33m\u001b[0m\u001b[0m\n",
      "\u001b[1;32m~\\anaconda3\\lib\\site-packages\\linkpred\\evaluation\\static.py\u001b[0m in \u001b[0;36madd_retrieved_item\u001b[1;34m(self, item)\u001b[0m\n\u001b[0;32m     87\u001b[0m \u001b[1;33m\u001b[0m\u001b[0m\n\u001b[0;32m     88\u001b[0m     \u001b[1;32mdef\u001b[0m \u001b[0madd_retrieved_item\u001b[0m\u001b[1;33m(\u001b[0m\u001b[0mself\u001b[0m\u001b[1;33m,\u001b[0m \u001b[0mitem\u001b[0m\u001b[1;33m)\u001b[0m\u001b[1;33m:\u001b[0m\u001b[1;33m\u001b[0m\u001b[1;33m\u001b[0m\u001b[0m\n\u001b[1;32m---> 89\u001b[1;33m         \u001b[0mself\u001b[0m\u001b[1;33m.\u001b[0m\u001b[0mupdate_retrieved\u001b[0m\u001b[1;33m(\u001b[0m\u001b[1;33m{\u001b[0m\u001b[0mitem\u001b[0m\u001b[1;33m}\u001b[0m\u001b[1;33m)\u001b[0m\u001b[1;33m\u001b[0m\u001b[1;33m\u001b[0m\u001b[0m\n\u001b[0m\u001b[0;32m     90\u001b[0m \u001b[1;33m\u001b[0m\u001b[0m\n\u001b[0;32m     91\u001b[0m     \u001b[1;32mdef\u001b[0m \u001b[0mupdate_retrieved\u001b[0m\u001b[1;33m(\u001b[0m\u001b[0mself\u001b[0m\u001b[1;33m,\u001b[0m \u001b[0mnew\u001b[0m\u001b[1;33m)\u001b[0m\u001b[1;33m:\u001b[0m\u001b[1;33m\u001b[0m\u001b[1;33m\u001b[0m\u001b[0m\n",
      "\u001b[1;32m~\\anaconda3\\lib\\site-packages\\linkpred\\evaluation\\static.py\u001b[0m in \u001b[0;36mupdate_retrieved\u001b[1;34m(self, new)\u001b[0m\n\u001b[0;32m    103\u001b[0m         \u001b[0mself\u001b[0m\u001b[1;33m.\u001b[0m\u001b[0mfp\u001b[0m \u001b[1;33m|=\u001b[0m \u001b[0mnonrelevant_new\u001b[0m\u001b[1;33m\u001b[0m\u001b[1;33m\u001b[0m\u001b[0m\n\u001b[0;32m    104\u001b[0m         \u001b[1;32mif\u001b[0m \u001b[0mself\u001b[0m\u001b[1;33m.\u001b[0m\u001b[0mtn\u001b[0m\u001b[1;33m:\u001b[0m\u001b[1;33m\u001b[0m\u001b[1;33m\u001b[0m\u001b[0m\n\u001b[1;32m--> 105\u001b[1;33m             \u001b[1;32mif\u001b[0m \u001b[1;32mnot\u001b[0m \u001b[0mnew\u001b[0m \u001b[1;33m<=\u001b[0m \u001b[0mself\u001b[0m\u001b[1;33m.\u001b[0m\u001b[0mfn\u001b[0m \u001b[1;33m|\u001b[0m \u001b[0mself\u001b[0m\u001b[1;33m.\u001b[0m\u001b[0mtn\u001b[0m\u001b[1;33m:\u001b[0m\u001b[1;33m\u001b[0m\u001b[1;33m\u001b[0m\u001b[0m\n\u001b[0m\u001b[0;32m    106\u001b[0m                 raise ValueError(\n\u001b[0;32m    107\u001b[0m                     \u001b[1;34m\"Newly retrieved items should be a subset \"\u001b[0m\u001b[1;33m\u001b[0m\u001b[1;33m\u001b[0m\u001b[0m\n",
      "\u001b[1;32m~\\anaconda3\\lib\\site-packages\\linkpred\\evaluation\\scoresheet.py\u001b[0m in \u001b[0;36m__eq__\u001b[1;34m(self, other)\u001b[0m\n\u001b[0;32m    139\u001b[0m \u001b[1;33m\u001b[0m\u001b[0m\n\u001b[0;32m    140\u001b[0m     \u001b[1;32mdef\u001b[0m \u001b[0m__eq__\u001b[0m\u001b[1;33m(\u001b[0m\u001b[0mself\u001b[0m\u001b[1;33m,\u001b[0m \u001b[0mother\u001b[0m\u001b[1;33m)\u001b[0m\u001b[1;33m:\u001b[0m\u001b[1;33m\u001b[0m\u001b[1;33m\u001b[0m\u001b[0m\n\u001b[1;32m--> 141\u001b[1;33m         \u001b[1;32mtry\u001b[0m\u001b[1;33m:\u001b[0m\u001b[1;33m\u001b[0m\u001b[1;33m\u001b[0m\u001b[0m\n\u001b[0m\u001b[0;32m    142\u001b[0m             \u001b[1;32mreturn\u001b[0m \u001b[0mself\u001b[0m\u001b[1;33m.\u001b[0m\u001b[0melements\u001b[0m \u001b[1;33m==\u001b[0m \u001b[0mother\u001b[0m\u001b[1;33m.\u001b[0m\u001b[0melements\u001b[0m\u001b[1;33m\u001b[0m\u001b[1;33m\u001b[0m\u001b[0m\n\u001b[0;32m    143\u001b[0m         \u001b[1;32mexcept\u001b[0m \u001b[0mAttributeError\u001b[0m\u001b[1;33m:\u001b[0m\u001b[1;33m\u001b[0m\u001b[1;33m\u001b[0m\u001b[0m\n",
      "\u001b[1;31mKeyboardInterrupt\u001b[0m: "
     ]
    }
   ],
   "source": [
    "predict2(2)\n",
    "evaluate2(2)"
   ]
  },
  {
   "cell_type": "code",
   "execution_count": null,
   "id": "96545a6d",
   "metadata": {},
   "outputs": [],
   "source": [
    "predict2(3)\n",
    "evaluate2(3)"
   ]
  },
  {
   "cell_type": "code",
   "execution_count": null,
   "id": "42b5a10c",
   "metadata": {},
   "outputs": [],
   "source": [
    "predict2(4)\n",
    "evaluate2(4)"
   ]
  },
  {
   "cell_type": "code",
   "execution_count": null,
   "id": "43741f65",
   "metadata": {},
   "outputs": [],
   "source": [
    "predict2(5)\n",
    "evaluate2(5)"
   ]
  },
  {
   "cell_type": "code",
   "execution_count": null,
   "id": "25987b07",
   "metadata": {},
   "outputs": [],
   "source": [
    "predict2(6)\n",
    "evaluate2(6)"
   ]
  },
  {
   "cell_type": "code",
   "execution_count": null,
   "id": "da8d0436",
   "metadata": {},
   "outputs": [],
   "source": [
    "predict2(7)\n",
    "evaluate2(7)"
   ]
  },
  {
   "cell_type": "code",
   "execution_count": null,
   "id": "cdeca38f",
   "metadata": {},
   "outputs": [],
   "source": [
    "predict2(8)\n",
    "evaluate2(8)"
   ]
  },
  {
   "cell_type": "code",
   "execution_count": null,
   "id": "9260cbe4",
   "metadata": {},
   "outputs": [],
   "source": []
  }
 ],
 "metadata": {
  "kernelspec": {
   "display_name": "Python 3",
   "language": "python",
   "name": "python3"
  },
  "language_info": {
   "codemirror_mode": {
    "name": "ipython",
    "version": 3
   },
   "file_extension": ".py",
   "mimetype": "text/x-python",
   "name": "python",
   "nbconvert_exporter": "python",
   "pygments_lexer": "ipython3",
   "version": "3.8.8"
  }
 },
 "nbformat": 4,
 "nbformat_minor": 5
}
