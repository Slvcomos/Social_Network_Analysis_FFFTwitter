{
 "cells": [
  {
   "cell_type": "code",
   "execution_count": 1,
   "id": "8715af52",
   "metadata": {},
   "outputs": [],
   "source": [
    "%matplotlib inline \n",
    "\n",
    "import numpy as np\n",
    "import pandas as pd\n",
    "import seaborn as sns\n",
    "import matplotlib.pyplot as plt"
   ]
  },
  {
   "cell_type": "code",
   "execution_count": 2,
   "id": "c5df2064",
   "metadata": {},
   "outputs": [],
   "source": [
    "df = pd.read_csv('df_travel.csv')"
   ]
  },
  {
   "cell_type": "code",
   "execution_count": 3,
   "id": "20f6304d",
   "metadata": {},
   "outputs": [
    {
     "data": {
      "text/html": [
       "<div>\n",
       "<style scoped>\n",
       "    .dataframe tbody tr th:only-of-type {\n",
       "        vertical-align: middle;\n",
       "    }\n",
       "\n",
       "    .dataframe tbody tr th {\n",
       "        vertical-align: top;\n",
       "    }\n",
       "\n",
       "    .dataframe thead th {\n",
       "        text-align: right;\n",
       "    }\n",
       "</style>\n",
       "<table border=\"1\" class=\"dataframe\">\n",
       "  <thead>\n",
       "    <tr style=\"text-align: right;\">\n",
       "      <th></th>\n",
       "      <th>Unnamed: 0</th>\n",
       "      <th>backoff</th>\n",
       "      <th>has_more</th>\n",
       "      <th>page</th>\n",
       "      <th>quota_max</th>\n",
       "      <th>quota_remaining</th>\n",
       "      <th>total</th>\n",
       "      <th>Has_synonyms</th>\n",
       "      <th>Is_moderator_only</th>\n",
       "      <th>Is_required</th>\n",
       "      <th>Count</th>\n",
       "      <th>Name</th>\n",
       "    </tr>\n",
       "  </thead>\n",
       "  <tbody>\n",
       "    <tr>\n",
       "      <th>0</th>\n",
       "      <td>0</td>\n",
       "      <td>0</td>\n",
       "      <td>False</td>\n",
       "      <td>1</td>\n",
       "      <td>10000</td>\n",
       "      <td>9999</td>\n",
       "      <td>0</td>\n",
       "      <td>False</td>\n",
       "      <td>False</td>\n",
       "      <td>False</td>\n",
       "      <td>1.0</td>\n",
       "      <td>hebrew</td>\n",
       "    </tr>\n",
       "    <tr>\n",
       "      <th>1</th>\n",
       "      <td>1</td>\n",
       "      <td>0</td>\n",
       "      <td>False</td>\n",
       "      <td>1</td>\n",
       "      <td>10000</td>\n",
       "      <td>9999</td>\n",
       "      <td>0</td>\n",
       "      <td>False</td>\n",
       "      <td>False</td>\n",
       "      <td>False</td>\n",
       "      <td>5.0</td>\n",
       "      <td>expired</td>\n",
       "    </tr>\n",
       "    <tr>\n",
       "      <th>2</th>\n",
       "      <td>2</td>\n",
       "      <td>0</td>\n",
       "      <td>False</td>\n",
       "      <td>1</td>\n",
       "      <td>10000</td>\n",
       "      <td>9999</td>\n",
       "      <td>0</td>\n",
       "      <td>False</td>\n",
       "      <td>False</td>\n",
       "      <td>False</td>\n",
       "      <td>1.0</td>\n",
       "      <td>concurrent-h1b</td>\n",
       "    </tr>\n",
       "    <tr>\n",
       "      <th>3</th>\n",
       "      <td>3</td>\n",
       "      <td>0</td>\n",
       "      <td>False</td>\n",
       "      <td>1</td>\n",
       "      <td>10000</td>\n",
       "      <td>9999</td>\n",
       "      <td>0</td>\n",
       "      <td>False</td>\n",
       "      <td>False</td>\n",
       "      <td>False</td>\n",
       "      <td>1.0</td>\n",
       "      <td>housekeeping</td>\n",
       "    </tr>\n",
       "    <tr>\n",
       "      <th>4</th>\n",
       "      <td>4</td>\n",
       "      <td>0</td>\n",
       "      <td>False</td>\n",
       "      <td>1</td>\n",
       "      <td>10000</td>\n",
       "      <td>9999</td>\n",
       "      <td>0</td>\n",
       "      <td>False</td>\n",
       "      <td>False</td>\n",
       "      <td>False</td>\n",
       "      <td>5.0</td>\n",
       "      <td>canadian-permanent-residents</td>\n",
       "    </tr>\n",
       "  </tbody>\n",
       "</table>\n",
       "</div>"
      ],
      "text/plain": [
       "   Unnamed: 0  backoff  has_more  page  quota_max  quota_remaining  total  \\\n",
       "0           0        0     False     1      10000             9999      0   \n",
       "1           1        0     False     1      10000             9999      0   \n",
       "2           2        0     False     1      10000             9999      0   \n",
       "3           3        0     False     1      10000             9999      0   \n",
       "4           4        0     False     1      10000             9999      0   \n",
       "\n",
       "  Has_synonyms Is_moderator_only Is_required  Count  \\\n",
       "0        False             False       False    1.0   \n",
       "1        False             False       False    5.0   \n",
       "2        False             False       False    1.0   \n",
       "3        False             False       False    1.0   \n",
       "4        False             False       False    5.0   \n",
       "\n",
       "                             Name  \n",
       "0                          hebrew  \n",
       "1                         expired  \n",
       "2                  concurrent-h1b  \n",
       "3                    housekeeping  \n",
       "4    canadian-permanent-residents  "
      ]
     },
     "execution_count": 3,
     "metadata": {},
     "output_type": "execute_result"
    }
   ],
   "source": [
    "df.head()"
   ]
  },
  {
   "cell_type": "code",
   "execution_count": 9,
   "id": "62ead9bd",
   "metadata": {},
   "outputs": [
    {
     "data": {
      "text/plain": [
       "Index(['Unnamed: 0', 'backoff', 'has_more', 'page', 'quota_max',\n",
       "       'quota_remaining', 'total', 'Has_synonyms', 'Is_moderator_only',\n",
       "       'Is_required', 'Count', 'Name'],\n",
       "      dtype='object')"
      ]
     },
     "execution_count": 9,
     "metadata": {},
     "output_type": "execute_result"
    }
   ],
   "source": [
    "df.columns"
   ]
  },
  {
   "cell_type": "code",
   "execution_count": 10,
   "id": "bbe996a9",
   "metadata": {},
   "outputs": [],
   "source": [
    "df=df.drop(columns='Unnamed: 0')"
   ]
  },
  {
   "cell_type": "code",
   "execution_count": 20,
   "id": "1f5dd6e6",
   "metadata": {},
   "outputs": [
    {
     "data": {
      "text/html": [
       "<div>\n",
       "<style scoped>\n",
       "    .dataframe tbody tr th:only-of-type {\n",
       "        vertical-align: middle;\n",
       "    }\n",
       "\n",
       "    .dataframe tbody tr th {\n",
       "        vertical-align: top;\n",
       "    }\n",
       "\n",
       "    .dataframe thead th {\n",
       "        text-align: right;\n",
       "    }\n",
       "</style>\n",
       "<table border=\"1\" class=\"dataframe\">\n",
       "  <thead>\n",
       "    <tr style=\"text-align: right;\">\n",
       "      <th></th>\n",
       "      <th>backoff</th>\n",
       "      <th>has_more</th>\n",
       "      <th>page</th>\n",
       "      <th>quota_max</th>\n",
       "      <th>quota_remaining</th>\n",
       "      <th>total</th>\n",
       "      <th>Has_synonyms</th>\n",
       "      <th>Is_moderator_only</th>\n",
       "      <th>Is_required</th>\n",
       "      <th>Count</th>\n",
       "      <th>Name</th>\n",
       "    </tr>\n",
       "  </thead>\n",
       "  <tbody>\n",
       "    <tr>\n",
       "      <th>26</th>\n",
       "      <td>0</td>\n",
       "      <td>False</td>\n",
       "      <td>1</td>\n",
       "      <td>10000</td>\n",
       "      <td>9999</td>\n",
       "      <td>0</td>\n",
       "      <td>False</td>\n",
       "      <td>False</td>\n",
       "      <td>False</td>\n",
       "      <td>5.0</td>\n",
       "      <td>el-salvador</td>\n",
       "    </tr>\n",
       "    <tr>\n",
       "      <th>27</th>\n",
       "      <td>0</td>\n",
       "      <td>False</td>\n",
       "      <td>1</td>\n",
       "      <td>10000</td>\n",
       "      <td>9999</td>\n",
       "      <td>0</td>\n",
       "      <td>False</td>\n",
       "      <td>False</td>\n",
       "      <td>False</td>\n",
       "      <td>1.0</td>\n",
       "      <td>trans-mongolian</td>\n",
       "    </tr>\n",
       "    <tr>\n",
       "      <th>28</th>\n",
       "      <td>0</td>\n",
       "      <td>False</td>\n",
       "      <td>1</td>\n",
       "      <td>10000</td>\n",
       "      <td>9999</td>\n",
       "      <td>0</td>\n",
       "      <td>False</td>\n",
       "      <td>False</td>\n",
       "      <td>False</td>\n",
       "      <td>2.0</td>\n",
       "      <td>sao-tome-and-principe</td>\n",
       "    </tr>\n",
       "    <tr>\n",
       "      <th>29</th>\n",
       "      <td>0</td>\n",
       "      <td>False</td>\n",
       "      <td>1</td>\n",
       "      <td>10000</td>\n",
       "      <td>9999</td>\n",
       "      <td>0</td>\n",
       "      <td>False</td>\n",
       "      <td>False</td>\n",
       "      <td>False</td>\n",
       "      <td>2.0</td>\n",
       "      <td>advance-passenger-information</td>\n",
       "    </tr>\n",
       "    <tr>\n",
       "      <th>30</th>\n",
       "      <td>0</td>\n",
       "      <td>False</td>\n",
       "      <td>1</td>\n",
       "      <td>10000</td>\n",
       "      <td>9999</td>\n",
       "      <td>0</td>\n",
       "      <td>False</td>\n",
       "      <td>False</td>\n",
       "      <td>False</td>\n",
       "      <td>2.0</td>\n",
       "      <td>micro-states</td>\n",
       "    </tr>\n",
       "  </tbody>\n",
       "</table>\n",
       "</div>"
      ],
      "text/plain": [
       "    backoff  has_more  page  quota_max  quota_remaining  total Has_synonyms  \\\n",
       "26        0     False     1      10000             9999      0        False   \n",
       "27        0     False     1      10000             9999      0        False   \n",
       "28        0     False     1      10000             9999      0        False   \n",
       "29        0     False     1      10000             9999      0        False   \n",
       "30        0     False     1      10000             9999      0        False   \n",
       "\n",
       "   Is_moderator_only Is_required  Count                             Name  \n",
       "26             False       False    5.0                      el-salvador  \n",
       "27             False       False    1.0                  trans-mongolian  \n",
       "28             False       False    2.0            sao-tome-and-principe  \n",
       "29             False       False    2.0    advance-passenger-information  \n",
       "30             False       False    2.0                     micro-states  "
      ]
     },
     "execution_count": 20,
     "metadata": {},
     "output_type": "execute_result"
    }
   ],
   "source": [
    "df.tail(5)"
   ]
  },
  {
   "cell_type": "code",
   "execution_count": 13,
   "id": "4955b9c5",
   "metadata": {},
   "outputs": [
    {
     "data": {
      "text/plain": [
       "backoff                int64\n",
       "has_more                bool\n",
       "page                   int64\n",
       "quota_max              int64\n",
       "quota_remaining        int64\n",
       "total                  int64\n",
       "Has_synonyms          object\n",
       "Is_moderator_only     object\n",
       "Is_required           object\n",
       "Count                float64\n",
       "Name                  object\n",
       "dtype: object"
      ]
     },
     "execution_count": 13,
     "metadata": {},
     "output_type": "execute_result"
    }
   ],
   "source": [
    "df.dtypes"
   ]
  },
  {
   "cell_type": "code",
   "execution_count": 18,
   "id": "b27426b8",
   "metadata": {},
   "outputs": [
    {
     "data": {
      "text/plain": [
       "341"
      ]
     },
     "execution_count": 18,
     "metadata": {},
     "output_type": "execute_result"
    }
   ],
   "source": [
    "df.size"
   ]
  },
  {
   "cell_type": "code",
   "execution_count": 19,
   "id": "5c49806e",
   "metadata": {},
   "outputs": [
    {
     "data": {
      "text/plain": [
       "(31, 11)"
      ]
     },
     "execution_count": 19,
     "metadata": {},
     "output_type": "execute_result"
    }
   ],
   "source": [
    "df.shape"
   ]
  },
  {
   "cell_type": "code",
   "execution_count": 24,
   "id": "31999b8a",
   "metadata": {},
   "outputs": [
    {
     "data": {
      "text/plain": [
       "backoff              False\n",
       "has_more             False\n",
       "page                 False\n",
       "quota_max            False\n",
       "quota_remaining      False\n",
       "total                False\n",
       "Has_synonyms         False\n",
       "Is_moderator_only    False\n",
       "Is_required          False\n",
       "Count                False\n",
       "Name                 False\n",
       "dtype: bool"
      ]
     },
     "execution_count": 24,
     "metadata": {},
     "output_type": "execute_result"
    }
   ],
   "source": [
    "df.isna().any()"
   ]
  },
  {
   "cell_type": "code",
   "execution_count": null,
   "id": "1c884645",
   "metadata": {},
   "outputs": [],
   "source": []
  }
 ],
 "metadata": {
  "kernelspec": {
   "display_name": "Python 3 (ipykernel)",
   "language": "python",
   "name": "python3"
  },
  "language_info": {
   "codemirror_mode": {
    "name": "ipython",
    "version": 3
   },
   "file_extension": ".py",
   "mimetype": "text/x-python",
   "name": "python",
   "nbconvert_exporter": "python",
   "pygments_lexer": "ipython3",
   "version": "3.9.7"
  }
 },
 "nbformat": 4,
 "nbformat_minor": 5
}
