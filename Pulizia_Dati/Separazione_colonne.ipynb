{
 "cells": [
  {
   "cell_type": "code",
   "execution_count": 63,
   "id": "efca3d1f",
   "metadata": {},
   "outputs": [],
   "source": [
    "import pandas as pd\n",
    "import numpy as np"
   ]
  },
  {
   "cell_type": "code",
   "execution_count": 64,
   "id": "f417e986",
   "metadata": {},
   "outputs": [],
   "source": [
    "df=pd.read_csv('datafile_new_travel.csv')"
   ]
  },
  {
   "cell_type": "code",
   "execution_count": 66,
   "id": "3a34370b",
   "metadata": {},
   "outputs": [
    {
     "data": {
      "text/html": [
       "<div>\n",
       "<style scoped>\n",
       "    .dataframe tbody tr th:only-of-type {\n",
       "        vertical-align: middle;\n",
       "    }\n",
       "\n",
       "    .dataframe tbody tr th {\n",
       "        vertical-align: top;\n",
       "    }\n",
       "\n",
       "    .dataframe thead th {\n",
       "        text-align: right;\n",
       "    }\n",
       "</style>\n",
       "<table border=\"1\" class=\"dataframe\">\n",
       "  <thead>\n",
       "    <tr style=\"text-align: right;\">\n",
       "      <th></th>\n",
       "      <th>backoff</th>\n",
       "      <th>has_more</th>\n",
       "      <th>page</th>\n",
       "      <th>quota_max</th>\n",
       "      <th>quota_remaining</th>\n",
       "      <th>total</th>\n",
       "      <th>items</th>\n",
       "    </tr>\n",
       "  </thead>\n",
       "  <tbody>\n",
       "    <tr>\n",
       "      <th>26</th>\n",
       "      <td>0</td>\n",
       "      <td>False</td>\n",
       "      <td>1</td>\n",
       "      <td>10000</td>\n",
       "      <td>9999</td>\n",
       "      <td>0</td>\n",
       "      <td>{'has_synonyms': False, 'is_moderator_only': F...</td>\n",
       "    </tr>\n",
       "    <tr>\n",
       "      <th>27</th>\n",
       "      <td>0</td>\n",
       "      <td>False</td>\n",
       "      <td>1</td>\n",
       "      <td>10000</td>\n",
       "      <td>9999</td>\n",
       "      <td>0</td>\n",
       "      <td>{'has_synonyms': False, 'is_moderator_only': F...</td>\n",
       "    </tr>\n",
       "    <tr>\n",
       "      <th>28</th>\n",
       "      <td>0</td>\n",
       "      <td>False</td>\n",
       "      <td>1</td>\n",
       "      <td>10000</td>\n",
       "      <td>9999</td>\n",
       "      <td>0</td>\n",
       "      <td>{'has_synonyms': False, 'is_moderator_only': F...</td>\n",
       "    </tr>\n",
       "    <tr>\n",
       "      <th>29</th>\n",
       "      <td>0</td>\n",
       "      <td>False</td>\n",
       "      <td>1</td>\n",
       "      <td>10000</td>\n",
       "      <td>9999</td>\n",
       "      <td>0</td>\n",
       "      <td>{'has_synonyms': False, 'is_moderator_only': F...</td>\n",
       "    </tr>\n",
       "    <tr>\n",
       "      <th>30</th>\n",
       "      <td>0</td>\n",
       "      <td>False</td>\n",
       "      <td>1</td>\n",
       "      <td>10000</td>\n",
       "      <td>9999</td>\n",
       "      <td>0</td>\n",
       "      <td>{'has_synonyms': False, 'is_moderator_only': F...</td>\n",
       "    </tr>\n",
       "  </tbody>\n",
       "</table>\n",
       "</div>"
      ],
      "text/plain": [
       "    backoff  has_more  page  quota_max  quota_remaining  total  \\\n",
       "26        0     False     1      10000             9999      0   \n",
       "27        0     False     1      10000             9999      0   \n",
       "28        0     False     1      10000             9999      0   \n",
       "29        0     False     1      10000             9999      0   \n",
       "30        0     False     1      10000             9999      0   \n",
       "\n",
       "                                                items  \n",
       "26  {'has_synonyms': False, 'is_moderator_only': F...  \n",
       "27  {'has_synonyms': False, 'is_moderator_only': F...  \n",
       "28  {'has_synonyms': False, 'is_moderator_only': F...  \n",
       "29  {'has_synonyms': False, 'is_moderator_only': F...  \n",
       "30  {'has_synonyms': False, 'is_moderator_only': F...  "
      ]
     },
     "execution_count": 66,
     "metadata": {},
     "output_type": "execute_result"
    }
   ],
   "source": [
    "df.tail(5)"
   ]
  },
  {
   "cell_type": "code",
   "execution_count": 4,
   "id": "3554d755",
   "metadata": {},
   "outputs": [
    {
     "name": "stdout",
     "output_type": "stream",
     "text": [
      "<class 'pandas.core.frame.DataFrame'>\n",
      "RangeIndex: 31 entries, 0 to 30\n",
      "Data columns (total 7 columns):\n",
      " #   Column           Non-Null Count  Dtype \n",
      "---  ------           --------------  ----- \n",
      " 0   backoff          31 non-null     int64 \n",
      " 1   has_more         31 non-null     bool  \n",
      " 2   page             31 non-null     int64 \n",
      " 3   quota_max        31 non-null     int64 \n",
      " 4   quota_remaining  31 non-null     int64 \n",
      " 5   total            31 non-null     int64 \n",
      " 6   items            31 non-null     object\n",
      "dtypes: bool(1), int64(5), object(1)\n",
      "memory usage: 1.6+ KB\n"
     ]
    }
   ],
   "source": [
    "df.info()"
   ]
  },
  {
   "cell_type": "code",
   "execution_count": 5,
   "id": "066f78b9",
   "metadata": {},
   "outputs": [
    {
     "data": {
      "text/plain": [
       "pandas.core.frame.DataFrame"
      ]
     },
     "execution_count": 5,
     "metadata": {},
     "output_type": "execute_result"
    }
   ],
   "source": [
    "type(df)"
   ]
  },
  {
   "cell_type": "code",
   "execution_count": 6,
   "id": "1c893970",
   "metadata": {},
   "outputs": [
    {
     "data": {
      "text/plain": [
       "dtype('int64')"
      ]
     },
     "execution_count": 6,
     "metadata": {},
     "output_type": "execute_result"
    }
   ],
   "source": [
    "df['backoff'].dtypes"
   ]
  },
  {
   "cell_type": "code",
   "execution_count": 7,
   "id": "6197f49b",
   "metadata": {},
   "outputs": [
    {
     "data": {
      "text/plain": [
       "pandas.core.series.Series"
      ]
     },
     "execution_count": 7,
     "metadata": {},
     "output_type": "execute_result"
    }
   ],
   "source": [
    "type(df['items'])"
   ]
  },
  {
   "cell_type": "code",
   "execution_count": 8,
   "id": "169b04e9",
   "metadata": {},
   "outputs": [],
   "source": [
    "#Splitti la colonna items\n",
    "split_cols = df['items'].str.split(',',expand=True)"
   ]
  },
  {
   "cell_type": "code",
   "execution_count": 9,
   "id": "29d6f550",
   "metadata": {},
   "outputs": [
    {
     "data": {
      "text/html": [
       "<div>\n",
       "<style scoped>\n",
       "    .dataframe tbody tr th:only-of-type {\n",
       "        vertical-align: middle;\n",
       "    }\n",
       "\n",
       "    .dataframe tbody tr th {\n",
       "        vertical-align: top;\n",
       "    }\n",
       "\n",
       "    .dataframe thead th {\n",
       "        text-align: right;\n",
       "    }\n",
       "</style>\n",
       "<table border=\"1\" class=\"dataframe\">\n",
       "  <thead>\n",
       "    <tr style=\"text-align: right;\">\n",
       "      <th></th>\n",
       "      <th>0</th>\n",
       "      <th>1</th>\n",
       "      <th>2</th>\n",
       "      <th>3</th>\n",
       "      <th>4</th>\n",
       "    </tr>\n",
       "  </thead>\n",
       "  <tbody>\n",
       "    <tr>\n",
       "      <th>0</th>\n",
       "      <td>{'has_synonyms': False</td>\n",
       "      <td>'is_moderator_only': False</td>\n",
       "      <td>'is_required': False</td>\n",
       "      <td>'count': 1</td>\n",
       "      <td>'name': 'hebrew'}</td>\n",
       "    </tr>\n",
       "    <tr>\n",
       "      <th>1</th>\n",
       "      <td>{'has_synonyms': False</td>\n",
       "      <td>'is_moderator_only': False</td>\n",
       "      <td>'is_required': False</td>\n",
       "      <td>'count': 5</td>\n",
       "      <td>'name': 'expired'}</td>\n",
       "    </tr>\n",
       "    <tr>\n",
       "      <th>2</th>\n",
       "      <td>{'has_synonyms': False</td>\n",
       "      <td>'is_moderator_only': False</td>\n",
       "      <td>'is_required': False</td>\n",
       "      <td>'count': 1</td>\n",
       "      <td>'name': 'concurrent-h1b'}</td>\n",
       "    </tr>\n",
       "  </tbody>\n",
       "</table>\n",
       "</div>"
      ],
      "text/plain": [
       "                        0                            1                      2  \\\n",
       "0  {'has_synonyms': False   'is_moderator_only': False   'is_required': False   \n",
       "1  {'has_synonyms': False   'is_moderator_only': False   'is_required': False   \n",
       "2  {'has_synonyms': False   'is_moderator_only': False   'is_required': False   \n",
       "\n",
       "             3                           4  \n",
       "0   'count': 1           'name': 'hebrew'}  \n",
       "1   'count': 5          'name': 'expired'}  \n",
       "2   'count': 1   'name': 'concurrent-h1b'}  "
      ]
     },
     "execution_count": 9,
     "metadata": {},
     "output_type": "execute_result"
    }
   ],
   "source": [
    "split_cols.head(3)"
   ]
  },
  {
   "cell_type": "code",
   "execution_count": 10,
   "id": "e0c170d2",
   "metadata": {},
   "outputs": [],
   "source": [
    "items = df['items']"
   ]
  },
  {
   "cell_type": "code",
   "execution_count": 11,
   "id": "99cfb6f5",
   "metadata": {},
   "outputs": [],
   "source": [
    "name=['Has_synonyms','Is_moderator_only','Is_required','Count','Name']"
   ]
  },
  {
   "cell_type": "code",
   "execution_count": 12,
   "id": "66fba3c8",
   "metadata": {},
   "outputs": [
    {
     "data": {
      "text/plain": [
       "<function list.index(value, start=0, stop=9223372036854775807, /)>"
      ]
     },
     "execution_count": 12,
     "metadata": {},
     "output_type": "execute_result"
    }
   ],
   "source": [
    "name.index"
   ]
  },
  {
   "cell_type": "code",
   "execution_count": 13,
   "id": "7e2d9ad1",
   "metadata": {},
   "outputs": [],
   "source": [
    "#Cambi nome alle colonne\n",
    "split_cols.columns = [f'{i}' for i in name]"
   ]
  },
  {
   "cell_type": "code",
   "execution_count": 14,
   "id": "dc41e377",
   "metadata": {},
   "outputs": [
    {
     "data": {
      "text/html": [
       "<div>\n",
       "<style scoped>\n",
       "    .dataframe tbody tr th:only-of-type {\n",
       "        vertical-align: middle;\n",
       "    }\n",
       "\n",
       "    .dataframe tbody tr th {\n",
       "        vertical-align: top;\n",
       "    }\n",
       "\n",
       "    .dataframe thead th {\n",
       "        text-align: right;\n",
       "    }\n",
       "</style>\n",
       "<table border=\"1\" class=\"dataframe\">\n",
       "  <thead>\n",
       "    <tr style=\"text-align: right;\">\n",
       "      <th></th>\n",
       "      <th>Has_synonyms</th>\n",
       "      <th>Is_moderator_only</th>\n",
       "      <th>Is_required</th>\n",
       "      <th>Count</th>\n",
       "      <th>Name</th>\n",
       "    </tr>\n",
       "  </thead>\n",
       "  <tbody>\n",
       "    <tr>\n",
       "      <th>0</th>\n",
       "      <td>{'has_synonyms': False</td>\n",
       "      <td>'is_moderator_only': False</td>\n",
       "      <td>'is_required': False</td>\n",
       "      <td>'count': 1</td>\n",
       "      <td>'name': 'hebrew'}</td>\n",
       "    </tr>\n",
       "    <tr>\n",
       "      <th>1</th>\n",
       "      <td>{'has_synonyms': False</td>\n",
       "      <td>'is_moderator_only': False</td>\n",
       "      <td>'is_required': False</td>\n",
       "      <td>'count': 5</td>\n",
       "      <td>'name': 'expired'}</td>\n",
       "    </tr>\n",
       "    <tr>\n",
       "      <th>2</th>\n",
       "      <td>{'has_synonyms': False</td>\n",
       "      <td>'is_moderator_only': False</td>\n",
       "      <td>'is_required': False</td>\n",
       "      <td>'count': 1</td>\n",
       "      <td>'name': 'concurrent-h1b'}</td>\n",
       "    </tr>\n",
       "  </tbody>\n",
       "</table>\n",
       "</div>"
      ],
      "text/plain": [
       "             Has_synonyms            Is_moderator_only            Is_required  \\\n",
       "0  {'has_synonyms': False   'is_moderator_only': False   'is_required': False   \n",
       "1  {'has_synonyms': False   'is_moderator_only': False   'is_required': False   \n",
       "2  {'has_synonyms': False   'is_moderator_only': False   'is_required': False   \n",
       "\n",
       "         Count                        Name  \n",
       "0   'count': 1           'name': 'hebrew'}  \n",
       "1   'count': 5          'name': 'expired'}  \n",
       "2   'count': 1   'name': 'concurrent-h1b'}  "
      ]
     },
     "execution_count": 14,
     "metadata": {},
     "output_type": "execute_result"
    }
   ],
   "source": [
    "split_cols.head(3)"
   ]
  },
  {
   "cell_type": "code",
   "execution_count": 15,
   "id": "b85ec5b7",
   "metadata": {},
   "outputs": [],
   "source": [
    "cols = split_cols.columns"
   ]
  },
  {
   "cell_type": "code",
   "execution_count": 16,
   "id": "0f006f9a",
   "metadata": {},
   "outputs": [],
   "source": [
    "split_cols[cols] = split_cols[cols].replace(\n",
    "    {'has_synonyms':'','is_moderator_only':'','is_required':'','count':'','name':'','{':'','}':'',':':'','\\'':''}, regex=True)"
   ]
  },
  {
   "cell_type": "code",
   "execution_count": 17,
   "id": "2b9525a9",
   "metadata": {},
   "outputs": [
    {
     "data": {
      "text/html": [
       "<div>\n",
       "<style scoped>\n",
       "    .dataframe tbody tr th:only-of-type {\n",
       "        vertical-align: middle;\n",
       "    }\n",
       "\n",
       "    .dataframe tbody tr th {\n",
       "        vertical-align: top;\n",
       "    }\n",
       "\n",
       "    .dataframe thead th {\n",
       "        text-align: right;\n",
       "    }\n",
       "</style>\n",
       "<table border=\"1\" class=\"dataframe\">\n",
       "  <thead>\n",
       "    <tr style=\"text-align: right;\">\n",
       "      <th></th>\n",
       "      <th>Has_synonyms</th>\n",
       "      <th>Is_moderator_only</th>\n",
       "      <th>Is_required</th>\n",
       "      <th>Count</th>\n",
       "      <th>Name</th>\n",
       "    </tr>\n",
       "  </thead>\n",
       "  <tbody>\n",
       "    <tr>\n",
       "      <th>0</th>\n",
       "      <td>False</td>\n",
       "      <td>False</td>\n",
       "      <td>False</td>\n",
       "      <td>1</td>\n",
       "      <td>hebrew</td>\n",
       "    </tr>\n",
       "    <tr>\n",
       "      <th>1</th>\n",
       "      <td>False</td>\n",
       "      <td>False</td>\n",
       "      <td>False</td>\n",
       "      <td>5</td>\n",
       "      <td>expired</td>\n",
       "    </tr>\n",
       "  </tbody>\n",
       "</table>\n",
       "</div>"
      ],
      "text/plain": [
       "  Has_synonyms Is_moderator_only Is_required Count       Name\n",
       "0        False             False       False     1     hebrew\n",
       "1        False             False       False     5    expired"
      ]
     },
     "execution_count": 17,
     "metadata": {},
     "output_type": "execute_result"
    }
   ],
   "source": [
    "split_cols.head(2)"
   ]
  },
  {
   "cell_type": "code",
   "execution_count": 18,
   "id": "77400de1",
   "metadata": {},
   "outputs": [
    {
     "data": {
      "text/plain": [
       "dtype('O')"
      ]
     },
     "execution_count": 18,
     "metadata": {},
     "output_type": "execute_result"
    }
   ],
   "source": [
    "split_cols['Count'].dtypes"
   ]
  },
  {
   "cell_type": "code",
   "execution_count": 37,
   "id": "03600970",
   "metadata": {},
   "outputs": [],
   "source": [
    "#Trasformo la colonna Count in interi creando una nuova variabile\n",
    "Count=split_cols['Count'].astype(str).astype(float)"
   ]
  },
  {
   "cell_type": "code",
   "execution_count": 38,
   "id": "b4ee3ee7",
   "metadata": {},
   "outputs": [
    {
     "data": {
      "text/plain": [
       "0    1.0\n",
       "1    5.0\n",
       "2    1.0\n",
       "3    1.0\n",
       "4    5.0\n",
       "Name: Count, dtype: float64"
      ]
     },
     "execution_count": 38,
     "metadata": {},
     "output_type": "execute_result"
    }
   ],
   "source": [
    "Count.head()"
   ]
  },
  {
   "cell_type": "code",
   "execution_count": 41,
   "id": "a7b14e6a",
   "metadata": {},
   "outputs": [],
   "source": [
    "#Sostituisco la colonna \"count\" vecchia con la nuova con valori float\n",
    "split_cols = split_cols.assign(Count=Count)"
   ]
  },
  {
   "cell_type": "code",
   "execution_count": 42,
   "id": "2fbfe57f",
   "metadata": {},
   "outputs": [
    {
     "data": {
      "text/html": [
       "<div>\n",
       "<style scoped>\n",
       "    .dataframe tbody tr th:only-of-type {\n",
       "        vertical-align: middle;\n",
       "    }\n",
       "\n",
       "    .dataframe tbody tr th {\n",
       "        vertical-align: top;\n",
       "    }\n",
       "\n",
       "    .dataframe thead th {\n",
       "        text-align: right;\n",
       "    }\n",
       "</style>\n",
       "<table border=\"1\" class=\"dataframe\">\n",
       "  <thead>\n",
       "    <tr style=\"text-align: right;\">\n",
       "      <th></th>\n",
       "      <th>Has_synonyms</th>\n",
       "      <th>Is_moderator_only</th>\n",
       "      <th>Is_required</th>\n",
       "      <th>Count</th>\n",
       "      <th>Name</th>\n",
       "    </tr>\n",
       "  </thead>\n",
       "  <tbody>\n",
       "    <tr>\n",
       "      <th>0</th>\n",
       "      <td>False</td>\n",
       "      <td>False</td>\n",
       "      <td>False</td>\n",
       "      <td>1.0</td>\n",
       "      <td>hebrew</td>\n",
       "    </tr>\n",
       "    <tr>\n",
       "      <th>1</th>\n",
       "      <td>False</td>\n",
       "      <td>False</td>\n",
       "      <td>False</td>\n",
       "      <td>5.0</td>\n",
       "      <td>expired</td>\n",
       "    </tr>\n",
       "  </tbody>\n",
       "</table>\n",
       "</div>"
      ],
      "text/plain": [
       "  Has_synonyms Is_moderator_only Is_required  Count       Name\n",
       "0        False             False       False    1.0     hebrew\n",
       "1        False             False       False    5.0    expired"
      ]
     },
     "execution_count": 42,
     "metadata": {},
     "output_type": "execute_result"
    }
   ],
   "source": [
    "split_cols.head(2)"
   ]
  },
  {
   "cell_type": "code",
   "execution_count": 53,
   "id": "82b6cb96",
   "metadata": {},
   "outputs": [],
   "source": [
    "df=df.drop(['items'], axis=1)"
   ]
  },
  {
   "cell_type": "code",
   "execution_count": 58,
   "id": "588a5a19",
   "metadata": {},
   "outputs": [],
   "source": [
    "df_travel = df.join(split_cols)"
   ]
  },
  {
   "cell_type": "code",
   "execution_count": 59,
   "id": "7eab4dc6",
   "metadata": {},
   "outputs": [
    {
     "data": {
      "text/html": [
       "<div>\n",
       "<style scoped>\n",
       "    .dataframe tbody tr th:only-of-type {\n",
       "        vertical-align: middle;\n",
       "    }\n",
       "\n",
       "    .dataframe tbody tr th {\n",
       "        vertical-align: top;\n",
       "    }\n",
       "\n",
       "    .dataframe thead th {\n",
       "        text-align: right;\n",
       "    }\n",
       "</style>\n",
       "<table border=\"1\" class=\"dataframe\">\n",
       "  <thead>\n",
       "    <tr style=\"text-align: right;\">\n",
       "      <th></th>\n",
       "      <th>backoff</th>\n",
       "      <th>has_more</th>\n",
       "      <th>page</th>\n",
       "      <th>quota_max</th>\n",
       "      <th>quota_remaining</th>\n",
       "      <th>total</th>\n",
       "      <th>Has_synonyms</th>\n",
       "      <th>Is_moderator_only</th>\n",
       "      <th>Is_required</th>\n",
       "      <th>Count</th>\n",
       "      <th>Name</th>\n",
       "    </tr>\n",
       "  </thead>\n",
       "  <tbody>\n",
       "    <tr>\n",
       "      <th>0</th>\n",
       "      <td>0</td>\n",
       "      <td>False</td>\n",
       "      <td>1</td>\n",
       "      <td>10000</td>\n",
       "      <td>9999</td>\n",
       "      <td>0</td>\n",
       "      <td>False</td>\n",
       "      <td>False</td>\n",
       "      <td>False</td>\n",
       "      <td>1.0</td>\n",
       "      <td>hebrew</td>\n",
       "    </tr>\n",
       "    <tr>\n",
       "      <th>1</th>\n",
       "      <td>0</td>\n",
       "      <td>False</td>\n",
       "      <td>1</td>\n",
       "      <td>10000</td>\n",
       "      <td>9999</td>\n",
       "      <td>0</td>\n",
       "      <td>False</td>\n",
       "      <td>False</td>\n",
       "      <td>False</td>\n",
       "      <td>5.0</td>\n",
       "      <td>expired</td>\n",
       "    </tr>\n",
       "    <tr>\n",
       "      <th>2</th>\n",
       "      <td>0</td>\n",
       "      <td>False</td>\n",
       "      <td>1</td>\n",
       "      <td>10000</td>\n",
       "      <td>9999</td>\n",
       "      <td>0</td>\n",
       "      <td>False</td>\n",
       "      <td>False</td>\n",
       "      <td>False</td>\n",
       "      <td>1.0</td>\n",
       "      <td>concurrent-h1b</td>\n",
       "    </tr>\n",
       "    <tr>\n",
       "      <th>3</th>\n",
       "      <td>0</td>\n",
       "      <td>False</td>\n",
       "      <td>1</td>\n",
       "      <td>10000</td>\n",
       "      <td>9999</td>\n",
       "      <td>0</td>\n",
       "      <td>False</td>\n",
       "      <td>False</td>\n",
       "      <td>False</td>\n",
       "      <td>1.0</td>\n",
       "      <td>housekeeping</td>\n",
       "    </tr>\n",
       "    <tr>\n",
       "      <th>4</th>\n",
       "      <td>0</td>\n",
       "      <td>False</td>\n",
       "      <td>1</td>\n",
       "      <td>10000</td>\n",
       "      <td>9999</td>\n",
       "      <td>0</td>\n",
       "      <td>False</td>\n",
       "      <td>False</td>\n",
       "      <td>False</td>\n",
       "      <td>5.0</td>\n",
       "      <td>canadian-permanent-residents</td>\n",
       "    </tr>\n",
       "  </tbody>\n",
       "</table>\n",
       "</div>"
      ],
      "text/plain": [
       "   backoff  has_more  page  quota_max  quota_remaining  total Has_synonyms  \\\n",
       "0        0     False     1      10000             9999      0        False   \n",
       "1        0     False     1      10000             9999      0        False   \n",
       "2        0     False     1      10000             9999      0        False   \n",
       "3        0     False     1      10000             9999      0        False   \n",
       "4        0     False     1      10000             9999      0        False   \n",
       "\n",
       "  Is_moderator_only Is_required  Count                            Name  \n",
       "0             False       False    1.0                          hebrew  \n",
       "1             False       False    5.0                         expired  \n",
       "2             False       False    1.0                  concurrent-h1b  \n",
       "3             False       False    1.0                    housekeeping  \n",
       "4             False       False    5.0    canadian-permanent-residents  "
      ]
     },
     "execution_count": 59,
     "metadata": {},
     "output_type": "execute_result"
    }
   ],
   "source": [
    "df_travel.head(5)"
   ]
  },
  {
   "cell_type": "code",
   "execution_count": 61,
   "id": "3ad181e4",
   "metadata": {},
   "outputs": [
    {
     "data": {
      "text/plain": [
       "Index(['backoff', 'has_more', 'page', 'quota_max', 'quota_remaining', 'total',\n",
       "       'Has_synonyms', 'Is_moderator_only', 'Is_required', 'Count', 'Name'],\n",
       "      dtype='object')"
      ]
     },
     "execution_count": 61,
     "metadata": {},
     "output_type": "execute_result"
    }
   ],
   "source": [
    "df_travel.columns"
   ]
  },
  {
   "cell_type": "code",
   "execution_count": 62,
   "id": "df499b38",
   "metadata": {},
   "outputs": [],
   "source": [
    "df_travel.to_csv('df_travel.csv')"
   ]
  },
  {
   "cell_type": "code",
   "execution_count": null,
   "id": "33ff1383",
   "metadata": {},
   "outputs": [],
   "source": []
  }
 ],
 "metadata": {
  "kernelspec": {
   "display_name": "Python 3 (ipykernel)",
   "language": "python",
   "name": "python3"
  },
  "language_info": {
   "codemirror_mode": {
    "name": "ipython",
    "version": 3
   },
   "file_extension": ".py",
   "mimetype": "text/x-python",
   "name": "python",
   "nbconvert_exporter": "python",
   "pygments_lexer": "ipython3",
   "version": "3.9.7"
  }
 },
 "nbformat": 4,
 "nbformat_minor": 5
}
