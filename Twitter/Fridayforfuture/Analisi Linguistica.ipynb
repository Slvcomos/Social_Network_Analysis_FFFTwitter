{
 "cells": [
  {
   "cell_type": "markdown",
   "id": "e75b8555",
   "metadata": {},
   "source": [
    "# Indice\n",
    "#### 1. Word Cloud\n",
    "###### 1.1 Word cloud su tweet\n",
    "#### 2. Bigrammi e Trigrammi\n",
    "#### 3. Sentiment Analysis"
   ]
  },
  {
   "cell_type": "code",
   "execution_count": 187,
   "id": "b9f0e5cf",
   "metadata": {},
   "outputs": [],
   "source": [
    "import twint\n",
    "import pandas as pd\n",
    "\n",
    "\n",
    "import networkx as nx\n",
    "import warnings\n",
    "import pandas as pd\n",
    "import numpy as np\n",
    "import matplotlib.pyplot as plt\n",
    "import powerlaw\n",
    "warnings.filterwarnings('ignore')\n",
    "\n",
    "\n",
    "%matplotlib inline "
   ]
  },
  {
   "cell_type": "code",
   "execution_count": 188,
   "id": "6ce3b2e9",
   "metadata": {},
   "outputs": [],
   "source": [
    "from wordcloud import WordCloud\n",
    "import math\n",
    "from operator import itemgetter\n",
    "from PIL import Image \n",
    "import PIL "
   ]
  },
  {
   "cell_type": "code",
   "execution_count": 189,
   "id": "68f8895b",
   "metadata": {},
   "outputs": [
    {
     "name": "stderr",
     "output_type": "stream",
     "text": [
      "[nltk_data] Downloading package stopwords to\n",
      "[nltk_data]     C:\\Users\\mir-9\\AppData\\Roaming\\nltk_data...\n",
      "[nltk_data]   Package stopwords is already up-to-date!\n"
     ]
    }
   ],
   "source": [
    "import re\n",
    "import nltk\n",
    "from nltk.corpus import stopwords\n",
    "nltk.download('stopwords')\n",
    "from nltk.tokenize import word_tokenize"
   ]
  },
  {
   "cell_type": "code",
   "execution_count": 190,
   "id": "44a670c1",
   "metadata": {},
   "outputs": [],
   "source": [
    "path = \"../Fridayforfuture/edges.csv\"\n",
    "path_all = \"../Fridayforfuture/fff.csv\"\n",
    "path_nodes = \"../Fridayforfuture/nodes.csv\""
   ]
  },
  {
   "cell_type": "code",
   "execution_count": 191,
   "id": "80d4a6b8",
   "metadata": {},
   "outputs": [
    {
     "data": {
      "text/html": [
       "<div>\n",
       "<style scoped>\n",
       "    .dataframe tbody tr th:only-of-type {\n",
       "        vertical-align: middle;\n",
       "    }\n",
       "\n",
       "    .dataframe tbody tr th {\n",
       "        vertical-align: top;\n",
       "    }\n",
       "\n",
       "    .dataframe thead th {\n",
       "        text-align: right;\n",
       "    }\n",
       "</style>\n",
       "<table border=\"1\" class=\"dataframe\">\n",
       "  <thead>\n",
       "    <tr style=\"text-align: right;\">\n",
       "      <th></th>\n",
       "      <th>clean_tags</th>\n",
       "      <th>hashtags</th>\n",
       "      <th>date</th>\n",
       "      <th>user_id</th>\n",
       "      <th>username</th>\n",
       "      <th>name</th>\n",
       "      <th>tweet</th>\n",
       "      <th>language</th>\n",
       "      <th>mentions</th>\n",
       "      <th>urls</th>\n",
       "      <th>replies_count</th>\n",
       "      <th>retweets_count</th>\n",
       "      <th>likes_count</th>\n",
       "      <th>link</th>\n",
       "      <th>retweet</th>\n",
       "      <th>reply_to</th>\n",
       "    </tr>\n",
       "  </thead>\n",
       "  <tbody>\n",
       "    <tr>\n",
       "      <th>0</th>\n",
       "      <td>fossilfuels, wind, solar, green, hydrogen, ene...</td>\n",
       "      <td>['fossilfuels', 'wind', 'solar', 'green', 'hyd...</td>\n",
       "      <td>2022-07-10</td>\n",
       "      <td>59386332</td>\n",
       "      <td>arikring</td>\n",
       "      <td>Arik Ring - Energy Engineering Expert</td>\n",
       "      <td>@ProfStrachan @ECOWARRIORSS @ChristineMilne @m...</td>\n",
       "      <td>en</td>\n",
       "      <td>[{'screen_name': 'guytaur', 'name': 'scott. tr...</td>\n",
       "      <td>['https://reneweconomy.com.au/integrated-wind-...</td>\n",
       "      <td>2</td>\n",
       "      <td>54</td>\n",
       "      <td>59</td>\n",
       "      <td>https://twitter.com/arikring/status/1546251358...</td>\n",
       "      <td>False</td>\n",
       "      <td>[{'screen_name': 'ProfStrachan', 'name': 'Prof...</td>\n",
       "    </tr>\n",
       "    <tr>\n",
       "      <th>1</th>\n",
       "      <td>fridaysforfuture</td>\n",
       "      <td>['fridaysforfuture']</td>\n",
       "      <td>2022-07-10</td>\n",
       "      <td>1096766566279073792</td>\n",
       "      <td>parents4future</td>\n",
       "      <td>Parents For Future #EndFossilFuels</td>\n",
       "      <td>Eltern wissen, wer hier dumm ist. #FridaysForF...</td>\n",
       "      <td>de</td>\n",
       "      <td>[]</td>\n",
       "      <td>[]</td>\n",
       "      <td>21</td>\n",
       "      <td>54</td>\n",
       "      <td>595</td>\n",
       "      <td>https://twitter.com/parents4future/status/1546...</td>\n",
       "      <td>False</td>\n",
       "      <td>[]</td>\n",
       "    </tr>\n",
       "  </tbody>\n",
       "</table>\n",
       "</div>"
      ],
      "text/plain": [
       "                                          clean_tags  \\\n",
       "0  fossilfuels, wind, solar, green, hydrogen, ene...   \n",
       "1                                   fridaysforfuture   \n",
       "\n",
       "                                            hashtags        date  \\\n",
       "0  ['fossilfuels', 'wind', 'solar', 'green', 'hyd...  2022-07-10   \n",
       "1                               ['fridaysforfuture']  2022-07-10   \n",
       "\n",
       "               user_id        username                                   name  \\\n",
       "0             59386332        arikring  Arik Ring - Energy Engineering Expert   \n",
       "1  1096766566279073792  parents4future     Parents For Future #EndFossilFuels   \n",
       "\n",
       "                                               tweet language  \\\n",
       "0  @ProfStrachan @ECOWARRIORSS @ChristineMilne @m...       en   \n",
       "1  Eltern wissen, wer hier dumm ist. #FridaysForF...       de   \n",
       "\n",
       "                                            mentions  \\\n",
       "0  [{'screen_name': 'guytaur', 'name': 'scott. tr...   \n",
       "1                                                 []   \n",
       "\n",
       "                                                urls  replies_count  \\\n",
       "0  ['https://reneweconomy.com.au/integrated-wind-...              2   \n",
       "1                                                 []             21   \n",
       "\n",
       "   retweets_count  likes_count  \\\n",
       "0              54           59   \n",
       "1              54          595   \n",
       "\n",
       "                                                link  retweet  \\\n",
       "0  https://twitter.com/arikring/status/1546251358...    False   \n",
       "1  https://twitter.com/parents4future/status/1546...    False   \n",
       "\n",
       "                                            reply_to  \n",
       "0  [{'screen_name': 'ProfStrachan', 'name': 'Prof...  \n",
       "1                                                 []  "
      ]
     },
     "execution_count": 191,
     "metadata": {},
     "output_type": "execute_result"
    }
   ],
   "source": [
    "df= pd.read_csv(path_all)\n",
    "df.head(2)"
   ]
  },
  {
   "cell_type": "markdown",
   "id": "b26a871a",
   "metadata": {},
   "source": [
    "# Word Cloud"
   ]
  },
  {
   "cell_type": "markdown",
   "id": "d610e892",
   "metadata": {},
   "source": [
    "#### Word Cloud su tweet\n",
    "\n",
    "Per fare la word cloud, seleziono un sub-df con tweet solo in inglese, perchè utlizzo un database per l'analisi in inglese"
   ]
  },
  {
   "cell_type": "code",
   "execution_count": 192,
   "id": "bfd6ee24",
   "metadata": {},
   "outputs": [],
   "source": [
    "df_en=df[df['language']=='en']"
   ]
  },
  {
   "cell_type": "code",
   "execution_count": 193,
   "id": "2ffc1d49",
   "metadata": {},
   "outputs": [],
   "source": [
    "def remove_content(text):\n",
    "    text = re.sub(r\"http\\S+\", \"\", text) #remove urls\n",
    "    text=re.sub(r'\\S+\\.com\\S+','',text) #remove urls\n",
    "    text=re.sub(r'\\@\\w+','',text) #remove mentions\n",
    "    text =re.sub(r'\\#\\w+','',text) #remove hashtags\n",
    "    return text"
   ]
  },
  {
   "cell_type": "code",
   "execution_count": 194,
   "id": "536cb64e",
   "metadata": {},
   "outputs": [],
   "source": [
    "stopwords = stopwords.words('english')\n",
    "def process_text(text, stem=False): #clean text\n",
    "    text=remove_content(text)\n",
    "    text = re.sub('[^A-Za-z]', ' ', text.lower()) #remove non-alphabets\n",
    "    tokenized_text = word_tokenize(text) #tokenize\n",
    "    clean_text = [\n",
    "         word for word in tokenized_text\n",
    "         if not word in stopwords\n",
    "    ] #creo una lista con le parole piene\n",
    "\n",
    "    if stem:\n",
    "        clean_text=[stemmer.stem(word) for word in clean_text]\n",
    "    return ' '.join(clean_text)"
   ]
  },
  {
   "cell_type": "code",
   "execution_count": 195,
   "id": "76032789",
   "metadata": {},
   "outputs": [],
   "source": [
    "df_en['cleaned_tweet']=df_en['tweet'].apply(lambda x: process_text(x))\n",
    "df_en['tweet']=df_en['tweet'].apply(lambda x: remove_content(x))"
   ]
  },
  {
   "cell_type": "code",
   "execution_count": 185,
   "id": "694492e8",
   "metadata": {},
   "outputs": [],
   "source": [
    "temp=' '.join(df_en['cleaned_tweet'].tolist())\n",
    "wordcloud = WordCloud(width = 800, height = 500, \n",
    "                background_color ='white', \n",
    "                min_font_size = 10).generate(temp)"
   ]
  },
  {
   "cell_type": "code",
   "execution_count": 186,
   "id": "eef14763",
   "metadata": {},
   "outputs": [
    {
     "data": {
      "image/png": "[encoded data removed]",
      "text/plain": [
       "<Figure size 576x576 with 1 Axes>"
      ]
     },
     "metadata": {
      "needs_background": "light"
     },
     "output_type": "display_data"
    }
   ],
   "source": [
    "plt.figure(figsize = (8, 8), facecolor = None)\n",
    "plt.imshow(wordcloud)\n",
    "plt.axis(\"off\")\n",
    "plt.tight_layout(pad = 0) \n",
    "plt.show()"
   ]
  },
  {
   "cell_type": "markdown",
   "id": "27159516",
   "metadata": {},
   "source": [
    "##### Bigrammi e trigrammi"
   ]
  },
  {
   "cell_type": "code",
   "execution_count": 85,
   "id": "06a8831f",
   "metadata": {},
   "outputs": [],
   "source": [
    "from sklearn.feature_extraction.text import CountVectorizer\n",
    "import plotly.express as px\n",
    "import matplotlib\n",
    "import matplotlib.pyplot as plt\n",
    "import seaborn as sns"
   ]
  },
  {
   "cell_type": "code",
   "execution_count": 86,
   "id": "f04d01d1",
   "metadata": {},
   "outputs": [],
   "source": [
    "tweet_list=df_en['cleaned_tweet']"
   ]
  },
  {
   "cell_type": "code",
   "execution_count": 87,
   "id": "6660e9e7",
   "metadata": {},
   "outputs": [],
   "source": [
    "#Si considerano i primi 20 ngrammi\n",
    "def plot_topn(sentences, ngram_range=(1,3), top=20,firstword=''):\n",
    "    c=CountVectorizer(ngram_range=ngram_range)\n",
    "    X=c.fit_transform(sentences)\n",
    "    words=pd.DataFrame(X.sum(axis=0),columns=c.get_feature_names()).T.sort_values(0,ascending=False).reset_index()\n",
    "    res=words[words['index'].apply(lambda x: firstword in x)].head(top)\n",
    "    pl=px.bar(res, x='index',y=0)\n",
    "    pl.update_layout(yaxis_title='count',xaxis_title='Phrases')\n",
    "    pl.show()"
   ]
  },
  {
   "cell_type": "code",
   "execution_count": 88,
   "id": "db4fca65",
   "metadata": {},
   "outputs": [
    {
     "data": {
      "application/vnd.plotly.v1+json": {
       "config": {
        "plotlyServerURL": "https://plot.ly"
       },
       "data": [
        {
         "alignmentgroup": "True",
         "hovertemplate": "index=%{x}<br>0=%{y}<extra></extra>",
         "legendgroup": "",
         "marker": {
          "color": "#636efa",
          "pattern": {
           "shape": ""
          }
         },
         "name": "",
         "offsetgroup": "",
         "orientation": "v",
         "showlegend": false,
         "textposition": "auto",
         "type": "bar",
         "x": [
          "climate",
          "week",
          "strike",
          "amp",
          "today",
          "people",
          "action",
          "future",
          "world",
          "us",
          "change",
          "need",
          "day",
          "school",
          "planet",
          "global",
          "time",
          "crisis",
          "join",
          "th"
         ],
         "xaxis": "x",
         "y": [
          5068,
          3773,
          2447,
          1774,
          1548,
          1357,
          1202,
          1184,
          1167,
          1158,
          1135,
          941,
          898,
          890,
          852,
          814,
          784,
          742,
          697,
          691
         ],
         "yaxis": "y"
        }
       ],
       "layout": {
        "barmode": "relative",
        "legend": {
         "tracegroupgap": 0
        },
        "margin": {
         "t": 60
        },
        "template": {
         "data": {
          "bar": [
           {
            "error_x": {
             "color": "#2a3f5f"
            },
            "error_y": {
             "color": "#2a3f5f"
            },
            "marker": {
             "line": {
              "color": "#E5ECF6",
              "width": 0.5
             },
             "pattern": {
              "fillmode": "overlay",
              "size": 10,
              "solidity": 0.2
             }
            },
            "type": "bar"
           }
          ],
          "barpolar": [
           {
            "marker": {
             "line": {
              "color": "#E5ECF6",
              "width": 0.5
             },
             "pattern": {
              "fillmode": "overlay",
              "size": 10,
              "solidity": 0.2
             }
            },
            "type": "barpolar"
           }
          ],
          "carpet": [
           {
            "aaxis": {
             "endlinecolor": "#2a3f5f",
             "gridcolor": "white",
             "linecolor": "white",
             "minorgridcolor": "white",
             "startlinecolor": "#2a3f5f"
            },
            "baxis": {
             "endlinecolor": "#2a3f5f",
             "gridcolor": "white",
             "linecolor": "white",
             "minorgridcolor": "white",
             "startlinecolor": "#2a3f5f"
            },
            "type": "carpet"
           }
          ],
          "choropleth": [
           {
            "colorbar": {
             "outlinewidth": 0,
             "ticks": ""
            },
            "type": "choropleth"
           }
          ],
          "contour": [
           {
            "colorbar": {
             "outlinewidth": 0,
             "ticks": ""
            },
            "colorscale": [
             [
              0,
              "#0d0887"
             ],
             [
              0.1111111111111111,
              "#46039f"
             ],
             [
              0.2222222222222222,
              "#7201a8"
             ],
             [
              0.3333333333333333,
              "#9c179e"
             ],
             [
              0.4444444444444444,
              "#bd3786"
             ],
             [
              0.5555555555555556,
              "#d8576b"
             ],
             [
              0.6666666666666666,
              "#ed7953"
             ],
             [
              0.7777777777777778,
              "#fb9f3a"
             ],
             [
              0.8888888888888888,
              "#fdca26"
             ],
             [
              1,
              "#f0f921"
             ]
            ],
            "type": "contour"
           }
          ],
          "contourcarpet": [
           {
            "colorbar": {
             "outlinewidth": 0,
             "ticks": ""
            },
            "type": "contourcarpet"
           }
          ],
          "heatmap": [
           {
            "colorbar": {
             "outlinewidth": 0,
             "ticks": ""
            },
            "colorscale": [
             [
              0,
              "#0d0887"
             ],
             [
              0.1111111111111111,
              "#46039f"
             ],
             [
              0.2222222222222222,
              "#7201a8"
             ],
             [
              0.3333333333333333,
              "#9c179e"
             ],
             [
              0.4444444444444444,
              "#bd3786"
             ],
             [
              0.5555555555555556,
              "#d8576b"
             ],
             [
              0.6666666666666666,
              "#ed7953"
             ],
             [
              0.7777777777777778,
              "#fb9f3a"
             ],
             [
              0.8888888888888888,
              "#fdca26"
             ],
             [
              1,
              "#f0f921"
             ]
            ],
            "type": "heatmap"
           }
          ],
          "heatmapgl": [
           {
            "colorbar": {
             "outlinewidth": 0,
             "ticks": ""
            },
            "colorscale": [
             [
              0,
              "#0d0887"
             ],
             [
              0.1111111111111111,
              "#46039f"
             ],
             [
              0.2222222222222222,
              "#7201a8"
             ],
             [
              0.3333333333333333,
              "#9c179e"
             ],
             [
              0.4444444444444444,
              "#bd3786"
             ],
             [
              0.5555555555555556,
              "#d8576b"
             ],
             [
              0.6666666666666666,
              "#ed7953"
             ],
             [
              0.7777777777777778,
              "#fb9f3a"
             ],
             [
              0.8888888888888888,
              "#fdca26"
             ],
             [
              1,
              "#f0f921"
             ]
            ],
            "type": "heatmapgl"
           }
          ],
          "histogram": [
           {
            "marker": {
             "pattern": {
              "fillmode": "overlay",
              "size": 10,
              "solidity": 0.2
             }
            },
            "type": "histogram"
           }
          ],
          "histogram2d": [
           {
            "colorbar": {
             "outlinewidth": 0,
             "ticks": ""
            },
            "colorscale": [
             [
              0,
              "#0d0887"
             ],
             [
              0.1111111111111111,
              "#46039f"
             ],
             [
              0.2222222222222222,
              "#7201a8"
             ],
             [
              0.3333333333333333,
              "#9c179e"
             ],
             [
              0.4444444444444444,
              "#bd3786"
             ],
             [
              0.5555555555555556,
              "#d8576b"
             ],
             [
              0.6666666666666666,
              "#ed7953"
             ],
             [
              0.7777777777777778,
              "#fb9f3a"
             ],
             [
              0.8888888888888888,
              "#fdca26"
             ],
             [
              1,
              "#f0f921"
             ]
            ],
            "type": "histogram2d"
           }
          ],
          "histogram2dcontour": [
           {
            "colorbar": {
             "outlinewidth": 0,
             "ticks": ""
            },
            "colorscale": [
             [
              0,
              "#0d0887"
             ],
             [
              0.1111111111111111,
              "#46039f"
             ],
             [
              0.2222222222222222,
              "#7201a8"
             ],
             [
              0.3333333333333333,
              "#9c179e"
             ],
             [
              0.4444444444444444,
              "#bd3786"
             ],
             [
              0.5555555555555556,
              "#d8576b"
             ],
             [
              0.6666666666666666,
              "#ed7953"
             ],
             [
              0.7777777777777778,
              "#fb9f3a"
             ],
             [
              0.8888888888888888,
              "#fdca26"
             ],
             [
              1,
              "#f0f921"
             ]
            ],
            "type": "histogram2dcontour"
           }
          ],
          "mesh3d": [
           {
            "colorbar": {
             "outlinewidth": 0,
             "ticks": ""
            },
            "type": "mesh3d"
           }
          ],
          "parcoords": [
           {
            "line": {
             "colorbar": {
              "outlinewidth": 0,
              "ticks": ""
             }
            },
            "type": "parcoords"
           }
          ],
          "pie": [
           {
            "automargin": true,
            "type": "pie"
           }
          ],
          "scatter": [
           {
            "marker": {
             "colorbar": {
              "outlinewidth": 0,
              "ticks": ""
             }
            },
            "type": "scatter"
           }
          ],
          "scatter3d": [
           {
            "line": {
             "colorbar": {
              "outlinewidth": 0,
              "ticks": ""
             }
            },
            "marker": {
             "colorbar": {
              "outlinewidth": 0,
              "ticks": ""
             }
            },
            "type": "scatter3d"
           }
          ],
          "scattercarpet": [
           {
            "marker": {
             "colorbar": {
              "outlinewidth": 0,
              "ticks": ""
             }
            },
            "type": "scattercarpet"
           }
          ],
          "scattergeo": [
           {
            "marker": {
             "colorbar": {
              "outlinewidth": 0,
              "ticks": ""
             }
            },
            "type": "scattergeo"
           }
          ],
          "scattergl": [
           {
            "marker": {
             "colorbar": {
              "outlinewidth": 0,
              "ticks": ""
             }
            },
            "type": "scattergl"
           }
          ],
          "scattermapbox": [
           {
            "marker": {
             "colorbar": {
              "outlinewidth": 0,
              "ticks": ""
             }
            },
            "type": "scattermapbox"
           }
          ],
          "scatterpolar": [
           {
            "marker": {
             "colorbar": {
              "outlinewidth": 0,
              "ticks": ""
             }
            },
            "type": "scatterpolar"
           }
          ],
          "scatterpolargl": [
           {
            "marker": {
             "colorbar": {
              "outlinewidth": 0,
              "ticks": ""
             }
            },
            "type": "scatterpolargl"
           }
          ],
          "scatterternary": [
           {
            "marker": {
             "colorbar": {
              "outlinewidth": 0,
              "ticks": ""
             }
            },
            "type": "scatterternary"
           }
          ],
          "surface": [
           {
            "colorbar": {
             "outlinewidth": 0,
             "ticks": ""
            },
            "colorscale": [
             [
              0,
              "#0d0887"
             ],
             [
              0.1111111111111111,
              "#46039f"
             ],
             [
              0.2222222222222222,
              "#7201a8"
             ],
             [
              0.3333333333333333,
              "#9c179e"
             ],
             [
              0.4444444444444444,
              "#bd3786"
             ],
             [
              0.5555555555555556,
              "#d8576b"
             ],
             [
              0.6666666666666666,
              "#ed7953"
             ],
             [
              0.7777777777777778,
              "#fb9f3a"
             ],
             [
              0.8888888888888888,
              "#fdca26"
             ],
             [
              1,
              "#f0f921"
             ]
            ],
            "type": "surface"
           }
          ],
          "table": [
           {
            "cells": {
             "fill": {
              "color": "#EBF0F8"
             },
             "line": {
              "color": "white"
             }
            },
            "header": {
             "fill": {
              "color": "#C8D4E3"
             },
             "line": {
              "color": "white"
             }
            },
            "type": "table"
           }
          ]
         },
         "layout": {
          "annotationdefaults": {
           "arrowcolor": "#2a3f5f",
           "arrowhead": 0,
           "arrowwidth": 1
          },
          "autotypenumbers": "strict",
          "coloraxis": {
           "colorbar": {
            "outlinewidth": 0,
            "ticks": ""
           }
          },
          "colorscale": {
           "diverging": [
            [
             0,
             "#8e0152"
            ],
            [
             0.1,
             "#c51b7d"
            ],
            [
             0.2,
             "#de77ae"
            ],
            [
             0.3,
             "#f1b6da"
            ],
            [
             0.4,
             "#fde0ef"
            ],
            [
             0.5,
             "#f7f7f7"
            ],
            [
             0.6,
             "#e6f5d0"
            ],
            [
             0.7,
             "#b8e186"
            ],
            [
             0.8,
             "#7fbc41"
            ],
            [
             0.9,
             "#4d9221"
            ],
            [
             1,
             "#276419"
            ]
           ],
           "sequential": [
            [
             0,
             "#0d0887"
            ],
            [
             0.1111111111111111,
             "#46039f"
            ],
            [
             0.2222222222222222,
             "#7201a8"
            ],
            [
             0.3333333333333333,
             "#9c179e"
            ],
            [
             0.4444444444444444,
             "#bd3786"
            ],
            [
             0.5555555555555556,
             "#d8576b"
            ],
            [
             0.6666666666666666,
             "#ed7953"
            ],
            [
             0.7777777777777778,
             "#fb9f3a"
            ],
            [
             0.8888888888888888,
             "#fdca26"
            ],
            [
             1,
             "#f0f921"
            ]
           ],
           "sequentialminus": [
            [
             0,
             "#0d0887"
            ],
            [
             0.1111111111111111,
             "#46039f"
            ],
            [
             0.2222222222222222,
             "#7201a8"
            ],
            [
             0.3333333333333333,
             "#9c179e"
            ],
            [
             0.4444444444444444,
             "#bd3786"
            ],
            [
             0.5555555555555556,
             "#d8576b"
            ],
            [
             0.6666666666666666,
             "#ed7953"
            ],
            [
             0.7777777777777778,
             "#fb9f3a"
            ],
            [
             0.8888888888888888,
             "#fdca26"
            ],
            [
             1,
             "#f0f921"
            ]
           ]
          },
          "colorway": [
           "#636efa",
           "#EF553B",
           "#00cc96",
           "#ab63fa",
           "#FFA15A",
           "#19d3f3",
           "#FF6692",
           "#B6E880",
           "#FF97FF",
           "#FECB52"
          ],
          "font": {
           "color": "#2a3f5f"
          },
          "geo": {
           "bgcolor": "white",
           "lakecolor": "white",
           "landcolor": "#E5ECF6",
           "showlakes": true,
           "showland": true,
           "subunitcolor": "white"
          },
          "hoverlabel": {
           "align": "left"
          },
          "hovermode": "closest",
          "mapbox": {
           "style": "light"
          },
          "paper_bgcolor": "white",
          "plot_bgcolor": "#E5ECF6",
          "polar": {
           "angularaxis": {
            "gridcolor": "white",
            "linecolor": "white",
            "ticks": ""
           },
           "bgcolor": "#E5ECF6",
           "radialaxis": {
            "gridcolor": "white",
            "linecolor": "white",
            "ticks": ""
           }
          },
          "scene": {
           "xaxis": {
            "backgroundcolor": "#E5ECF6",
            "gridcolor": "white",
            "gridwidth": 2,
            "linecolor": "white",
            "showbackground": true,
            "ticks": "",
            "zerolinecolor": "white"
           },
           "yaxis": {
            "backgroundcolor": "#E5ECF6",
            "gridcolor": "white",
            "gridwidth": 2,
            "linecolor": "white",
            "showbackground": true,
            "ticks": "",
            "zerolinecolor": "white"
           },
           "zaxis": {
            "backgroundcolor": "#E5ECF6",
            "gridcolor": "white",
            "gridwidth": 2,
            "linecolor": "white",
            "showbackground": true,
            "ticks": "",
            "zerolinecolor": "white"
           }
          },
          "shapedefaults": {
           "line": {
            "color": "#2a3f5f"
           }
          },
          "ternary": {
           "aaxis": {
            "gridcolor": "white",
            "linecolor": "white",
            "ticks": ""
           },
           "baxis": {
            "gridcolor": "white",
            "linecolor": "white",
            "ticks": ""
           },
           "bgcolor": "#E5ECF6",
           "caxis": {
            "gridcolor": "white",
            "linecolor": "white",
            "ticks": ""
           }
          },
          "title": {
           "x": 0.05
          },
          "xaxis": {
           "automargin": true,
           "gridcolor": "white",
           "linecolor": "white",
           "ticks": "",
           "title": {
            "standoff": 15
           },
           "zerolinecolor": "white",
           "zerolinewidth": 2
          },
          "yaxis": {
           "automargin": true,
           "gridcolor": "white",
           "linecolor": "white",
           "ticks": "",
           "title": {
            "standoff": 15
           },
           "zerolinecolor": "white",
           "zerolinewidth": 2
          }
         }
        },
        "xaxis": {
         "anchor": "y",
         "domain": [
          0,
          1
         ],
         "title": {
          "text": "Phrases"
         }
        },
        "yaxis": {
         "anchor": "x",
         "domain": [
          0,
          1
         ],
         "title": {
          "text": "count"
         }
        }
       }
      },
      "text/html": [
       "<div>                            <div id=\"d091df35-5df1-4092-9281-9acf8062f094\" class=\"plotly-graph-div\" style=\"height:525px; width:100%;\"></div>            <script type=\"text/javascript\">                require([\"plotly\"], function(Plotly) {                    window.PLOTLYENV=window.PLOTLYENV || {};                                    if (document.getElementById(\"d091df35-5df1-4092-9281-9acf8062f094\")) {                    Plotly.newPlot(                        \"d091df35-5df1-4092-9281-9acf8062f094\",                        [{\"alignmentgroup\":\"True\",\"hovertemplate\":\"index=%{x}<br>0=%{y}<extra></extra>\",\"legendgroup\":\"\",\"marker\":{\"color\":\"#636efa\",\"pattern\":{\"shape\":\"\"}},\"name\":\"\",\"offsetgroup\":\"\",\"orientation\":\"v\",\"showlegend\":false,\"textposition\":\"auto\",\"x\":[\"climate\",\"week\",\"strike\",\"amp\",\"today\",\"people\",\"action\",\"future\",\"world\",\"us\",\"change\",\"need\",\"day\",\"school\",\"planet\",\"global\",\"time\",\"crisis\",\"join\",\"th\"],\"xaxis\":\"x\",\"y\":[5068,3773,2447,1774,1548,1357,1202,1184,1167,1158,1135,941,898,890,852,814,784,742,697,691],\"yaxis\":\"y\",\"type\":\"bar\"}],                        {\"template\":{\"data\":{\"bar\":[{\"error_x\":{\"color\":\"#2a3f5f\"},\"error_y\":{\"color\":\"#2a3f5f\"},\"marker\":{\"line\":{\"color\":\"#E5ECF6\",\"width\":0.5},\"pattern\":{\"fillmode\":\"overlay\",\"size\":10,\"solidity\":0.2}},\"type\":\"bar\"}],\"barpolar\":[{\"marker\":{\"line\":{\"color\":\"#E5ECF6\",\"width\":0.5},\"pattern\":{\"fillmode\":\"overlay\",\"size\":10,\"solidity\":0.2}},\"type\":\"barpolar\"}],\"carpet\":[{\"aaxis\":{\"endlinecolor\":\"#2a3f5f\",\"gridcolor\":\"white\",\"linecolor\":\"white\",\"minorgridcolor\":\"white\",\"startlinecolor\":\"#2a3f5f\"},\"baxis\":{\"endlinecolor\":\"#2a3f5f\",\"gridcolor\":\"white\",\"linecolor\":\"white\",\"minorgridcolor\":\"white\",\"startlinecolor\":\"#2a3f5f\"},\"type\":\"carpet\"}],\"choropleth\":[{\"colorbar\":{\"outlinewidth\":0,\"ticks\":\"\"},\"type\":\"choropleth\"}],\"contour\":[{\"colorbar\":{\"outlinewidth\":0,\"ticks\":\"\"},\"colorscale\":[[0.0,\"#0d0887\"],[0.1111111111111111,\"#46039f\"],[0.2222222222222222,\"#7201a8\"],[0.3333333333333333,\"#9c179e\"],[0.4444444444444444,\"#bd3786\"],[0.5555555555555556,\"#d8576b\"],[0.6666666666666666,\"#ed7953\"],[0.7777777777777778,\"#fb9f3a\"],[0.8888888888888888,\"#fdca26\"],[1.0,\"#f0f921\"]],\"type\":\"contour\"}],\"contourcarpet\":[{\"colorbar\":{\"outlinewidth\":0,\"ticks\":\"\"},\"type\":\"contourcarpet\"}],\"heatmap\":[{\"colorbar\":{\"outlinewidth\":0,\"ticks\":\"\"},\"colorscale\":[[0.0,\"#0d0887\"],[0.1111111111111111,\"#46039f\"],[0.2222222222222222,\"#7201a8\"],[0.3333333333333333,\"#9c179e\"],[0.4444444444444444,\"#bd3786\"],[0.5555555555555556,\"#d8576b\"],[0.6666666666666666,\"#ed7953\"],[0.7777777777777778,\"#fb9f3a\"],[0.8888888888888888,\"#fdca26\"],[1.0,\"#f0f921\"]],\"type\":\"heatmap\"}],\"heatmapgl\":[{\"colorbar\":{\"outlinewidth\":0,\"ticks\":\"\"},\"colorscale\":[[0.0,\"#0d0887\"],[0.1111111111111111,\"#46039f\"],[0.2222222222222222,\"#7201a8\"],[0.3333333333333333,\"#9c179e\"],[0.4444444444444444,\"#bd3786\"],[0.5555555555555556,\"#d8576b\"],[0.6666666666666666,\"#ed7953\"],[0.7777777777777778,\"#fb9f3a\"],[0.8888888888888888,\"#fdca26\"],[1.0,\"#f0f921\"]],\"type\":\"heatmapgl\"}],\"histogram\":[{\"marker\":{\"pattern\":{\"fillmode\":\"overlay\",\"size\":10,\"solidity\":0.2}},\"type\":\"histogram\"}],\"histogram2d\":[{\"colorbar\":{\"outlinewidth\":0,\"ticks\":\"\"},\"colorscale\":[[0.0,\"#0d0887\"],[0.1111111111111111,\"#46039f\"],[0.2222222222222222,\"#7201a8\"],[0.3333333333333333,\"#9c179e\"],[0.4444444444444444,\"#bd3786\"],[0.5555555555555556,\"#d8576b\"],[0.6666666666666666,\"#ed7953\"],[0.7777777777777778,\"#fb9f3a\"],[0.8888888888888888,\"#fdca26\"],[1.0,\"#f0f921\"]],\"type\":\"histogram2d\"}],\"histogram2dcontour\":[{\"colorbar\":{\"outlinewidth\":0,\"ticks\":\"\"},\"colorscale\":[[0.0,\"#0d0887\"],[0.1111111111111111,\"#46039f\"],[0.2222222222222222,\"#7201a8\"],[0.3333333333333333,\"#9c179e\"],[0.4444444444444444,\"#bd3786\"],[0.5555555555555556,\"#d8576b\"],[0.6666666666666666,\"#ed7953\"],[0.7777777777777778,\"#fb9f3a\"],[0.8888888888888888,\"#fdca26\"],[1.0,\"#f0f921\"]],\"type\":\"histogram2dcontour\"}],\"mesh3d\":[{\"colorbar\":{\"outlinewidth\":0,\"ticks\":\"\"},\"type\":\"mesh3d\"}],\"parcoords\":[{\"line\":{\"colorbar\":{\"outlinewidth\":0,\"ticks\":\"\"}},\"type\":\"parcoords\"}],\"pie\":[{\"automargin\":true,\"type\":\"pie\"}],\"scatter\":[{\"marker\":{\"colorbar\":{\"outlinewidth\":0,\"ticks\":\"\"}},\"type\":\"scatter\"}],\"scatter3d\":[{\"line\":{\"colorbar\":{\"outlinewidth\":0,\"ticks\":\"\"}},\"marker\":{\"colorbar\":{\"outlinewidth\":0,\"ticks\":\"\"}},\"type\":\"scatter3d\"}],\"scattercarpet\":[{\"marker\":{\"colorbar\":{\"outlinewidth\":0,\"ticks\":\"\"}},\"type\":\"scattercarpet\"}],\"scattergeo\":[{\"marker\":{\"colorbar\":{\"outlinewidth\":0,\"ticks\":\"\"}},\"type\":\"scattergeo\"}],\"scattergl\":[{\"marker\":{\"colorbar\":{\"outlinewidth\":0,\"ticks\":\"\"}},\"type\":\"scattergl\"}],\"scattermapbox\":[{\"marker\":{\"colorbar\":{\"outlinewidth\":0,\"ticks\":\"\"}},\"type\":\"scattermapbox\"}],\"scatterpolar\":[{\"marker\":{\"colorbar\":{\"outlinewidth\":0,\"ticks\":\"\"}},\"type\":\"scatterpolar\"}],\"scatterpolargl\":[{\"marker\":{\"colorbar\":{\"outlinewidth\":0,\"ticks\":\"\"}},\"type\":\"scatterpolargl\"}],\"scatterternary\":[{\"marker\":{\"colorbar\":{\"outlinewidth\":0,\"ticks\":\"\"}},\"type\":\"scatterternary\"}],\"surface\":[{\"colorbar\":{\"outlinewidth\":0,\"ticks\":\"\"},\"colorscale\":[[0.0,\"#0d0887\"],[0.1111111111111111,\"#46039f\"],[0.2222222222222222,\"#7201a8\"],[0.3333333333333333,\"#9c179e\"],[0.4444444444444444,\"#bd3786\"],[0.5555555555555556,\"#d8576b\"],[0.6666666666666666,\"#ed7953\"],[0.7777777777777778,\"#fb9f3a\"],[0.8888888888888888,\"#fdca26\"],[1.0,\"#f0f921\"]],\"type\":\"surface\"}],\"table\":[{\"cells\":{\"fill\":{\"color\":\"#EBF0F8\"},\"line\":{\"color\":\"white\"}},\"header\":{\"fill\":{\"color\":\"#C8D4E3\"},\"line\":{\"color\":\"white\"}},\"type\":\"table\"}]},\"layout\":{\"annotationdefaults\":{\"arrowcolor\":\"#2a3f5f\",\"arrowhead\":0,\"arrowwidth\":1},\"autotypenumbers\":\"strict\",\"coloraxis\":{\"colorbar\":{\"outlinewidth\":0,\"ticks\":\"\"}},\"colorscale\":{\"diverging\":[[0,\"#8e0152\"],[0.1,\"#c51b7d\"],[0.2,\"#de77ae\"],[0.3,\"#f1b6da\"],[0.4,\"#fde0ef\"],[0.5,\"#f7f7f7\"],[0.6,\"#e6f5d0\"],[0.7,\"#b8e186\"],[0.8,\"#7fbc41\"],[0.9,\"#4d9221\"],[1,\"#276419\"]],\"sequential\":[[0.0,\"#0d0887\"],[0.1111111111111111,\"#46039f\"],[0.2222222222222222,\"#7201a8\"],[0.3333333333333333,\"#9c179e\"],[0.4444444444444444,\"#bd3786\"],[0.5555555555555556,\"#d8576b\"],[0.6666666666666666,\"#ed7953\"],[0.7777777777777778,\"#fb9f3a\"],[0.8888888888888888,\"#fdca26\"],[1.0,\"#f0f921\"]],\"sequentialminus\":[[0.0,\"#0d0887\"],[0.1111111111111111,\"#46039f\"],[0.2222222222222222,\"#7201a8\"],[0.3333333333333333,\"#9c179e\"],[0.4444444444444444,\"#bd3786\"],[0.5555555555555556,\"#d8576b\"],[0.6666666666666666,\"#ed7953\"],[0.7777777777777778,\"#fb9f3a\"],[0.8888888888888888,\"#fdca26\"],[1.0,\"#f0f921\"]]},\"colorway\":[\"#636efa\",\"#EF553B\",\"#00cc96\",\"#ab63fa\",\"#FFA15A\",\"#19d3f3\",\"#FF6692\",\"#B6E880\",\"#FF97FF\",\"#FECB52\"],\"font\":{\"color\":\"#2a3f5f\"},\"geo\":{\"bgcolor\":\"white\",\"lakecolor\":\"white\",\"landcolor\":\"#E5ECF6\",\"showlakes\":true,\"showland\":true,\"subunitcolor\":\"white\"},\"hoverlabel\":{\"align\":\"left\"},\"hovermode\":\"closest\",\"mapbox\":{\"style\":\"light\"},\"paper_bgcolor\":\"white\",\"plot_bgcolor\":\"#E5ECF6\",\"polar\":{\"angularaxis\":{\"gridcolor\":\"white\",\"linecolor\":\"white\",\"ticks\":\"\"},\"bgcolor\":\"#E5ECF6\",\"radialaxis\":{\"gridcolor\":\"white\",\"linecolor\":\"white\",\"ticks\":\"\"}},\"scene\":{\"xaxis\":{\"backgroundcolor\":\"#E5ECF6\",\"gridcolor\":\"white\",\"gridwidth\":2,\"linecolor\":\"white\",\"showbackground\":true,\"ticks\":\"\",\"zerolinecolor\":\"white\"},\"yaxis\":{\"backgroundcolor\":\"#E5ECF6\",\"gridcolor\":\"white\",\"gridwidth\":2,\"linecolor\":\"white\",\"showbackground\":true,\"ticks\":\"\",\"zerolinecolor\":\"white\"},\"zaxis\":{\"backgroundcolor\":\"#E5ECF6\",\"gridcolor\":\"white\",\"gridwidth\":2,\"linecolor\":\"white\",\"showbackground\":true,\"ticks\":\"\",\"zerolinecolor\":\"white\"}},\"shapedefaults\":{\"line\":{\"color\":\"#2a3f5f\"}},\"ternary\":{\"aaxis\":{\"gridcolor\":\"white\",\"linecolor\":\"white\",\"ticks\":\"\"},\"baxis\":{\"gridcolor\":\"white\",\"linecolor\":\"white\",\"ticks\":\"\"},\"bgcolor\":\"#E5ECF6\",\"caxis\":{\"gridcolor\":\"white\",\"linecolor\":\"white\",\"ticks\":\"\"}},\"title\":{\"x\":0.05},\"xaxis\":{\"automargin\":true,\"gridcolor\":\"white\",\"linecolor\":\"white\",\"ticks\":\"\",\"title\":{\"standoff\":15},\"zerolinecolor\":\"white\",\"zerolinewidth\":2},\"yaxis\":{\"automargin\":true,\"gridcolor\":\"white\",\"linecolor\":\"white\",\"ticks\":\"\",\"title\":{\"standoff\":15},\"zerolinecolor\":\"white\",\"zerolinewidth\":2}}},\"xaxis\":{\"anchor\":\"y\",\"domain\":[0.0,1.0],\"title\":{\"text\":\"Phrases\"}},\"yaxis\":{\"anchor\":\"x\",\"domain\":[0.0,1.0],\"title\":{\"text\":\"count\"}},\"legend\":{\"tracegroupgap\":0},\"margin\":{\"t\":60},\"barmode\":\"relative\"},                        {\"responsive\": true}                    ).then(function(){\n",
       "                            \n",
       "var gd = document.getElementById('d091df35-5df1-4092-9281-9acf8062f094');\n",
       "var x = new MutationObserver(function (mutations, observer) {{\n",
       "        var display = window.getComputedStyle(gd).display;\n",
       "        if (!display || display === 'none') {{\n",
       "            console.log([gd, 'removed!']);\n",
       "            Plotly.purge(gd);\n",
       "            observer.disconnect();\n",
       "        }}\n",
       "}});\n",
       "\n",
       "// Listen for the removal of the full notebook cells\n",
       "var notebookContainer = gd.closest('#notebook-container');\n",
       "if (notebookContainer) {{\n",
       "    x.observe(notebookContainer, {childList: true});\n",
       "}}\n",
       "\n",
       "// Listen for the clearing of the current output cell\n",
       "var outputEl = gd.closest('.output');\n",
       "if (outputEl) {{\n",
       "    x.observe(outputEl, {childList: true});\n",
       "}}\n",
       "\n",
       "                        })                };                });            </script>        </div>"
      ]
     },
     "metadata": {},
     "output_type": "display_data"
    }
   ],
   "source": [
    "#unigrammi\n",
    "plot_topn(tweet_list, ngram_range=(1,1))"
   ]
  },
  {
   "cell_type": "code",
   "execution_count": 89,
   "id": "78af4246",
   "metadata": {},
   "outputs": [
    {
     "data": {
      "application/vnd.plotly.v1+json": {
       "config": {
        "plotlyServerURL": "https://plot.ly"
       },
       "data": [
        {
         "alignmentgroup": "True",
         "hovertemplate": "index=%{x}<br>0=%{y}<extra></extra>",
         "legendgroup": "",
         "marker": {
          "color": "#636efa",
          "pattern": {
           "shape": ""
          }
         },
         "name": "",
         "offsetgroup": "",
         "orientation": "v",
         "showlegend": false,
         "textposition": "auto",
         "type": "bar",
         "x": [
          "climate strike",
          "climate change",
          "school strike",
          "strike week",
          "climate crisis",
          "climate action",
          "climate justice",
          "strike climate",
          "young people",
          "join us",
          "global climate",
          "around world",
          "week th",
          "world leaders",
          "fossil fuels",
          "climate activists",
          "week climate",
          "climate emergency",
          "climate week",
          "fridays future"
         ],
         "xaxis": "x",
         "y": [
          923,
          719,
          595,
          564,
          475,
          460,
          458,
          394,
          326,
          278,
          223,
          208,
          199,
          183,
          164,
          153,
          150,
          145,
          142,
          136
         ],
         "yaxis": "y"
        }
       ],
       "layout": {
        "barmode": "relative",
        "legend": {
         "tracegroupgap": 0
        },
        "margin": {
         "t": 60
        },
        "template": {
         "data": {
          "bar": [
           {
            "error_x": {
             "color": "#2a3f5f"
            },
            "error_y": {
             "color": "#2a3f5f"
            },
            "marker": {
             "line": {
              "color": "#E5ECF6",
              "width": 0.5
             },
             "pattern": {
              "fillmode": "overlay",
              "size": 10,
              "solidity": 0.2
             }
            },
            "type": "bar"
           }
          ],
          "barpolar": [
           {
            "marker": {
             "line": {
              "color": "#E5ECF6",
              "width": 0.5
             },
             "pattern": {
              "fillmode": "overlay",
              "size": 10,
              "solidity": 0.2
             }
            },
            "type": "barpolar"
           }
          ],
          "carpet": [
           {
            "aaxis": {
             "endlinecolor": "#2a3f5f",
             "gridcolor": "white",
             "linecolor": "white",
             "minorgridcolor": "white",
             "startlinecolor": "#2a3f5f"
            },
            "baxis": {
             "endlinecolor": "#2a3f5f",
             "gridcolor": "white",
             "linecolor": "white",
             "minorgridcolor": "white",
             "startlinecolor": "#2a3f5f"
            },
            "type": "carpet"
           }
          ],
          "choropleth": [
           {
            "colorbar": {
             "outlinewidth": 0,
             "ticks": ""
            },
            "type": "choropleth"
           }
          ],
          "contour": [
           {
            "colorbar": {
             "outlinewidth": 0,
             "ticks": ""
            },
            "colorscale": [
             [
              0,
              "#0d0887"
             ],
             [
              0.1111111111111111,
              "#46039f"
             ],
             [
              0.2222222222222222,
              "#7201a8"
             ],
             [
              0.3333333333333333,
              "#9c179e"
             ],
             [
              0.4444444444444444,
              "#bd3786"
             ],
             [
              0.5555555555555556,
              "#d8576b"
             ],
             [
              0.6666666666666666,
              "#ed7953"
             ],
             [
              0.7777777777777778,
              "#fb9f3a"
             ],
             [
              0.8888888888888888,
              "#fdca26"
             ],
             [
              1,
              "#f0f921"
             ]
            ],
            "type": "contour"
           }
          ],
          "contourcarpet": [
           {
            "colorbar": {
             "outlinewidth": 0,
             "ticks": ""
            },
            "type": "contourcarpet"
           }
          ],
          "heatmap": [
           {
            "colorbar": {
             "outlinewidth": 0,
             "ticks": ""
            },
            "colorscale": [
             [
              0,
              "#0d0887"
             ],
             [
              0.1111111111111111,
              "#46039f"
             ],
             [
              0.2222222222222222,
              "#7201a8"
             ],
             [
              0.3333333333333333,
              "#9c179e"
             ],
             [
              0.4444444444444444,
              "#bd3786"
             ],
             [
              0.5555555555555556,
              "#d8576b"
             ],
             [
              0.6666666666666666,
              "#ed7953"
             ],
             [
              0.7777777777777778,
              "#fb9f3a"
             ],
             [
              0.8888888888888888,
              "#fdca26"
             ],
             [
              1,
              "#f0f921"
             ]
            ],
            "type": "heatmap"
           }
          ],
          "heatmapgl": [
           {
            "colorbar": {
             "outlinewidth": 0,
             "ticks": ""
            },
            "colorscale": [
             [
              0,
              "#0d0887"
             ],
             [
              0.1111111111111111,
              "#46039f"
             ],
             [
              0.2222222222222222,
              "#7201a8"
             ],
             [
              0.3333333333333333,
              "#9c179e"
             ],
             [
              0.4444444444444444,
              "#bd3786"
             ],
             [
              0.5555555555555556,
              "#d8576b"
             ],
             [
              0.6666666666666666,
              "#ed7953"
             ],
             [
              0.7777777777777778,
              "#fb9f3a"
             ],
             [
              0.8888888888888888,
              "#fdca26"
             ],
             [
              1,
              "#f0f921"
             ]
            ],
            "type": "heatmapgl"
           }
          ],
          "histogram": [
           {
            "marker": {
             "pattern": {
              "fillmode": "overlay",
              "size": 10,
              "solidity": 0.2
             }
            },
            "type": "histogram"
           }
          ],
          "histogram2d": [
           {
            "colorbar": {
             "outlinewidth": 0,
             "ticks": ""
            },
            "colorscale": [
             [
              0,
              "#0d0887"
             ],
             [
              0.1111111111111111,
              "#46039f"
             ],
             [
              0.2222222222222222,
              "#7201a8"
             ],
             [
              0.3333333333333333,
              "#9c179e"
             ],
             [
              0.4444444444444444,
              "#bd3786"
             ],
             [
              0.5555555555555556,
              "#d8576b"
             ],
             [
              0.6666666666666666,
              "#ed7953"
             ],
             [
              0.7777777777777778,
              "#fb9f3a"
             ],
             [
              0.8888888888888888,
              "#fdca26"
             ],
             [
              1,
              "#f0f921"
             ]
            ],
            "type": "histogram2d"
           }
          ],
          "histogram2dcontour": [
           {
            "colorbar": {
             "outlinewidth": 0,
             "ticks": ""
            },
            "colorscale": [
             [
              0,
              "#0d0887"
             ],
             [
              0.1111111111111111,
              "#46039f"
             ],
             [
              0.2222222222222222,
              "#7201a8"
             ],
             [
              0.3333333333333333,
              "#9c179e"
             ],
             [
              0.4444444444444444,
              "#bd3786"
             ],
             [
              0.5555555555555556,
              "#d8576b"
             ],
             [
              0.6666666666666666,
              "#ed7953"
             ],
             [
              0.7777777777777778,
              "#fb9f3a"
             ],
             [
              0.8888888888888888,
              "#fdca26"
             ],
             [
              1,
              "#f0f921"
             ]
            ],
            "type": "histogram2dcontour"
           }
          ],
          "mesh3d": [
           {
            "colorbar": {
             "outlinewidth": 0,
             "ticks": ""
            },
            "type": "mesh3d"
           }
          ],
          "parcoords": [
           {
            "line": {
             "colorbar": {
              "outlinewidth": 0,
              "ticks": ""
             }
            },
            "type": "parcoords"
           }
          ],
          "pie": [
           {
            "automargin": true,
            "type": "pie"
           }
          ],
          "scatter": [
           {
            "marker": {
             "colorbar": {
              "outlinewidth": 0,
              "ticks": ""
             }
            },
            "type": "scatter"
           }
          ],
          "scatter3d": [
           {
            "line": {
             "colorbar": {
              "outlinewidth": 0,
              "ticks": ""
             }
            },
            "marker": {
             "colorbar": {
              "outlinewidth": 0,
              "ticks": ""
             }
            },
            "type": "scatter3d"
           }
          ],
          "scattercarpet": [
           {
            "marker": {
             "colorbar": {
              "outlinewidth": 0,
              "ticks": ""
             }
            },
            "type": "scattercarpet"
           }
          ],
          "scattergeo": [
           {
            "marker": {
             "colorbar": {
              "outlinewidth": 0,
              "ticks": ""
             }
            },
            "type": "scattergeo"
           }
          ],
          "scattergl": [
           {
            "marker": {
             "colorbar": {
              "outlinewidth": 0,
              "ticks": ""
             }
            },
            "type": "scattergl"
           }
          ],
          "scattermapbox": [
           {
            "marker": {
             "colorbar": {
              "outlinewidth": 0,
              "ticks": ""
             }
            },
            "type": "scattermapbox"
           }
          ],
          "scatterpolar": [
           {
            "marker": {
             "colorbar": {
              "outlinewidth": 0,
              "ticks": ""
             }
            },
            "type": "scatterpolar"
           }
          ],
          "scatterpolargl": [
           {
            "marker": {
             "colorbar": {
              "outlinewidth": 0,
              "ticks": ""
             }
            },
            "type": "scatterpolargl"
           }
          ],
          "scatterternary": [
           {
            "marker": {
             "colorbar": {
              "outlinewidth": 0,
              "ticks": ""
             }
            },
            "type": "scatterternary"
           }
          ],
          "surface": [
           {
            "colorbar": {
             "outlinewidth": 0,
             "ticks": ""
            },
            "colorscale": [
             [
              0,
              "#0d0887"
             ],
             [
              0.1111111111111111,
              "#46039f"
             ],
             [
              0.2222222222222222,
              "#7201a8"
             ],
             [
              0.3333333333333333,
              "#9c179e"
             ],
             [
              0.4444444444444444,
              "#bd3786"
             ],
             [
              0.5555555555555556,
              "#d8576b"
             ],
             [
              0.6666666666666666,
              "#ed7953"
             ],
             [
              0.7777777777777778,
              "#fb9f3a"
             ],
             [
              0.8888888888888888,
              "#fdca26"
             ],
             [
              1,
              "#f0f921"
             ]
            ],
            "type": "surface"
           }
          ],
          "table": [
           {
            "cells": {
             "fill": {
              "color": "#EBF0F8"
             },
             "line": {
              "color": "white"
             }
            },
            "header": {
             "fill": {
              "color": "#C8D4E3"
             },
             "line": {
              "color": "white"
             }
            },
            "type": "table"
           }
          ]
         },
         "layout": {
          "annotationdefaults": {
           "arrowcolor": "#2a3f5f",
           "arrowhead": 0,
           "arrowwidth": 1
          },
          "autotypenumbers": "strict",
          "coloraxis": {
           "colorbar": {
            "outlinewidth": 0,
            "ticks": ""
           }
          },
          "colorscale": {
           "diverging": [
            [
             0,
             "#8e0152"
            ],
            [
             0.1,
             "#c51b7d"
            ],
            [
             0.2,
             "#de77ae"
            ],
            [
             0.3,
             "#f1b6da"
            ],
            [
             0.4,
             "#fde0ef"
            ],
            [
             0.5,
             "#f7f7f7"
            ],
            [
             0.6,
             "#e6f5d0"
            ],
            [
             0.7,
             "#b8e186"
            ],
            [
             0.8,
             "#7fbc41"
            ],
            [
             0.9,
             "#4d9221"
            ],
            [
             1,
             "#276419"
            ]
           ],
           "sequential": [
            [
             0,
             "#0d0887"
            ],
            [
             0.1111111111111111,
             "#46039f"
            ],
            [
             0.2222222222222222,
             "#7201a8"
            ],
            [
             0.3333333333333333,
             "#9c179e"
            ],
            [
             0.4444444444444444,
             "#bd3786"
            ],
            [
             0.5555555555555556,
             "#d8576b"
            ],
            [
             0.6666666666666666,
             "#ed7953"
            ],
            [
             0.7777777777777778,
             "#fb9f3a"
            ],
            [
             0.8888888888888888,
             "#fdca26"
            ],
            [
             1,
             "#f0f921"
            ]
           ],
           "sequentialminus": [
            [
             0,
             "#0d0887"
            ],
            [
             0.1111111111111111,
             "#46039f"
            ],
            [
             0.2222222222222222,
             "#7201a8"
            ],
            [
             0.3333333333333333,
             "#9c179e"
            ],
            [
             0.4444444444444444,
             "#bd3786"
            ],
            [
             0.5555555555555556,
             "#d8576b"
            ],
            [
             0.6666666666666666,
             "#ed7953"
            ],
            [
             0.7777777777777778,
             "#fb9f3a"
            ],
            [
             0.8888888888888888,
             "#fdca26"
            ],
            [
             1,
             "#f0f921"
            ]
           ]
          },
          "colorway": [
           "#636efa",
           "#EF553B",
           "#00cc96",
           "#ab63fa",
           "#FFA15A",
           "#19d3f3",
           "#FF6692",
           "#B6E880",
           "#FF97FF",
           "#FECB52"
          ],
          "font": {
           "color": "#2a3f5f"
          },
          "geo": {
           "bgcolor": "white",
           "lakecolor": "white",
           "landcolor": "#E5ECF6",
           "showlakes": true,
           "showland": true,
           "subunitcolor": "white"
          },
          "hoverlabel": {
           "align": "left"
          },
          "hovermode": "closest",
          "mapbox": {
           "style": "light"
          },
          "paper_bgcolor": "white",
          "plot_bgcolor": "#E5ECF6",
          "polar": {
           "angularaxis": {
            "gridcolor": "white",
            "linecolor": "white",
            "ticks": ""
           },
           "bgcolor": "#E5ECF6",
           "radialaxis": {
            "gridcolor": "white",
            "linecolor": "white",
            "ticks": ""
           }
          },
          "scene": {
           "xaxis": {
            "backgroundcolor": "#E5ECF6",
            "gridcolor": "white",
            "gridwidth": 2,
            "linecolor": "white",
            "showbackground": true,
            "ticks": "",
            "zerolinecolor": "white"
           },
           "yaxis": {
            "backgroundcolor": "#E5ECF6",
            "gridcolor": "white",
            "gridwidth": 2,
            "linecolor": "white",
            "showbackground": true,
            "ticks": "",
            "zerolinecolor": "white"
           },
           "zaxis": {
            "backgroundcolor": "#E5ECF6",
            "gridcolor": "white",
            "gridwidth": 2,
            "linecolor": "white",
            "showbackground": true,
            "ticks": "",
            "zerolinecolor": "white"
           }
          },
          "shapedefaults": {
           "line": {
            "color": "#2a3f5f"
           }
          },
          "ternary": {
           "aaxis": {
            "gridcolor": "white",
            "linecolor": "white",
            "ticks": ""
           },
           "baxis": {
            "gridcolor": "white",
            "linecolor": "white",
            "ticks": ""
           },
           "bgcolor": "#E5ECF6",
           "caxis": {
            "gridcolor": "white",
            "linecolor": "white",
            "ticks": ""
           }
          },
          "title": {
           "x": 0.05
          },
          "xaxis": {
           "automargin": true,
           "gridcolor": "white",
           "linecolor": "white",
           "ticks": "",
           "title": {
            "standoff": 15
           },
           "zerolinecolor": "white",
           "zerolinewidth": 2
          },
          "yaxis": {
           "automargin": true,
           "gridcolor": "white",
           "linecolor": "white",
           "ticks": "",
           "title": {
            "standoff": 15
           },
           "zerolinecolor": "white",
           "zerolinewidth": 2
          }
         }
        },
        "xaxis": {
         "anchor": "y",
         "domain": [
          0,
          1
         ],
         "title": {
          "text": "Phrases"
         }
        },
        "yaxis": {
         "anchor": "x",
         "domain": [
          0,
          1
         ],
         "title": {
          "text": "count"
         }
        }
       }
      },
      "text/html": [
       "<div>                            <div id=\"212f4aff-a783-4cd6-ab83-4d0984f1e98d\" class=\"plotly-graph-div\" style=\"height:525px; width:100%;\"></div>            <script type=\"text/javascript\">                require([\"plotly\"], function(Plotly) {                    window.PLOTLYENV=window.PLOTLYENV || {};                                    if (document.getElementById(\"212f4aff-a783-4cd6-ab83-4d0984f1e98d\")) {                    Plotly.newPlot(                        \"212f4aff-a783-4cd6-ab83-4d0984f1e98d\",                        [{\"alignmentgroup\":\"True\",\"hovertemplate\":\"index=%{x}<br>0=%{y}<extra></extra>\",\"legendgroup\":\"\",\"marker\":{\"color\":\"#636efa\",\"pattern\":{\"shape\":\"\"}},\"name\":\"\",\"offsetgroup\":\"\",\"orientation\":\"v\",\"showlegend\":false,\"textposition\":\"auto\",\"x\":[\"climate strike\",\"climate change\",\"school strike\",\"strike week\",\"climate crisis\",\"climate action\",\"climate justice\",\"strike climate\",\"young people\",\"join us\",\"global climate\",\"around world\",\"week th\",\"world leaders\",\"fossil fuels\",\"climate activists\",\"week climate\",\"climate emergency\",\"climate week\",\"fridays future\"],\"xaxis\":\"x\",\"y\":[923,719,595,564,475,460,458,394,326,278,223,208,199,183,164,153,150,145,142,136],\"yaxis\":\"y\",\"type\":\"bar\"}],                        {\"template\":{\"data\":{\"bar\":[{\"error_x\":{\"color\":\"#2a3f5f\"},\"error_y\":{\"color\":\"#2a3f5f\"},\"marker\":{\"line\":{\"color\":\"#E5ECF6\",\"width\":0.5},\"pattern\":{\"fillmode\":\"overlay\",\"size\":10,\"solidity\":0.2}},\"type\":\"bar\"}],\"barpolar\":[{\"marker\":{\"line\":{\"color\":\"#E5ECF6\",\"width\":0.5},\"pattern\":{\"fillmode\":\"overlay\",\"size\":10,\"solidity\":0.2}},\"type\":\"barpolar\"}],\"carpet\":[{\"aaxis\":{\"endlinecolor\":\"#2a3f5f\",\"gridcolor\":\"white\",\"linecolor\":\"white\",\"minorgridcolor\":\"white\",\"startlinecolor\":\"#2a3f5f\"},\"baxis\":{\"endlinecolor\":\"#2a3f5f\",\"gridcolor\":\"white\",\"linecolor\":\"white\",\"minorgridcolor\":\"white\",\"startlinecolor\":\"#2a3f5f\"},\"type\":\"carpet\"}],\"choropleth\":[{\"colorbar\":{\"outlinewidth\":0,\"ticks\":\"\"},\"type\":\"choropleth\"}],\"contour\":[{\"colorbar\":{\"outlinewidth\":0,\"ticks\":\"\"},\"colorscale\":[[0.0,\"#0d0887\"],[0.1111111111111111,\"#46039f\"],[0.2222222222222222,\"#7201a8\"],[0.3333333333333333,\"#9c179e\"],[0.4444444444444444,\"#bd3786\"],[0.5555555555555556,\"#d8576b\"],[0.6666666666666666,\"#ed7953\"],[0.7777777777777778,\"#fb9f3a\"],[0.8888888888888888,\"#fdca26\"],[1.0,\"#f0f921\"]],\"type\":\"contour\"}],\"contourcarpet\":[{\"colorbar\":{\"outlinewidth\":0,\"ticks\":\"\"},\"type\":\"contourcarpet\"}],\"heatmap\":[{\"colorbar\":{\"outlinewidth\":0,\"ticks\":\"\"},\"colorscale\":[[0.0,\"#0d0887\"],[0.1111111111111111,\"#46039f\"],[0.2222222222222222,\"#7201a8\"],[0.3333333333333333,\"#9c179e\"],[0.4444444444444444,\"#bd3786\"],[0.5555555555555556,\"#d8576b\"],[0.6666666666666666,\"#ed7953\"],[0.7777777777777778,\"#fb9f3a\"],[0.8888888888888888,\"#fdca26\"],[1.0,\"#f0f921\"]],\"type\":\"heatmap\"}],\"heatmapgl\":[{\"colorbar\":{\"outlinewidth\":0,\"ticks\":\"\"},\"colorscale\":[[0.0,\"#0d0887\"],[0.1111111111111111,\"#46039f\"],[0.2222222222222222,\"#7201a8\"],[0.3333333333333333,\"#9c179e\"],[0.4444444444444444,\"#bd3786\"],[0.5555555555555556,\"#d8576b\"],[0.6666666666666666,\"#ed7953\"],[0.7777777777777778,\"#fb9f3a\"],[0.8888888888888888,\"#fdca26\"],[1.0,\"#f0f921\"]],\"type\":\"heatmapgl\"}],\"histogram\":[{\"marker\":{\"pattern\":{\"fillmode\":\"overlay\",\"size\":10,\"solidity\":0.2}},\"type\":\"histogram\"}],\"histogram2d\":[{\"colorbar\":{\"outlinewidth\":0,\"ticks\":\"\"},\"colorscale\":[[0.0,\"#0d0887\"],[0.1111111111111111,\"#46039f\"],[0.2222222222222222,\"#7201a8\"],[0.3333333333333333,\"#9c179e\"],[0.4444444444444444,\"#bd3786\"],[0.5555555555555556,\"#d8576b\"],[0.6666666666666666,\"#ed7953\"],[0.7777777777777778,\"#fb9f3a\"],[0.8888888888888888,\"#fdca26\"],[1.0,\"#f0f921\"]],\"type\":\"histogram2d\"}],\"histogram2dcontour\":[{\"colorbar\":{\"outlinewidth\":0,\"ticks\":\"\"},\"colorscale\":[[0.0,\"#0d0887\"],[0.1111111111111111,\"#46039f\"],[0.2222222222222222,\"#7201a8\"],[0.3333333333333333,\"#9c179e\"],[0.4444444444444444,\"#bd3786\"],[0.5555555555555556,\"#d8576b\"],[0.6666666666666666,\"#ed7953\"],[0.7777777777777778,\"#fb9f3a\"],[0.8888888888888888,\"#fdca26\"],[1.0,\"#f0f921\"]],\"type\":\"histogram2dcontour\"}],\"mesh3d\":[{\"colorbar\":{\"outlinewidth\":0,\"ticks\":\"\"},\"type\":\"mesh3d\"}],\"parcoords\":[{\"line\":{\"colorbar\":{\"outlinewidth\":0,\"ticks\":\"\"}},\"type\":\"parcoords\"}],\"pie\":[{\"automargin\":true,\"type\":\"pie\"}],\"scatter\":[{\"marker\":{\"colorbar\":{\"outlinewidth\":0,\"ticks\":\"\"}},\"type\":\"scatter\"}],\"scatter3d\":[{\"line\":{\"colorbar\":{\"outlinewidth\":0,\"ticks\":\"\"}},\"marker\":{\"colorbar\":{\"outlinewidth\":0,\"ticks\":\"\"}},\"type\":\"scatter3d\"}],\"scattercarpet\":[{\"marker\":{\"colorbar\":{\"outlinewidth\":0,\"ticks\":\"\"}},\"type\":\"scattercarpet\"}],\"scattergeo\":[{\"marker\":{\"colorbar\":{\"outlinewidth\":0,\"ticks\":\"\"}},\"type\":\"scattergeo\"}],\"scattergl\":[{\"marker\":{\"colorbar\":{\"outlinewidth\":0,\"ticks\":\"\"}},\"type\":\"scattergl\"}],\"scattermapbox\":[{\"marker\":{\"colorbar\":{\"outlinewidth\":0,\"ticks\":\"\"}},\"type\":\"scattermapbox\"}],\"scatterpolar\":[{\"marker\":{\"colorbar\":{\"outlinewidth\":0,\"ticks\":\"\"}},\"type\":\"scatterpolar\"}],\"scatterpolargl\":[{\"marker\":{\"colorbar\":{\"outlinewidth\":0,\"ticks\":\"\"}},\"type\":\"scatterpolargl\"}],\"scatterternary\":[{\"marker\":{\"colorbar\":{\"outlinewidth\":0,\"ticks\":\"\"}},\"type\":\"scatterternary\"}],\"surface\":[{\"colorbar\":{\"outlinewidth\":0,\"ticks\":\"\"},\"colorscale\":[[0.0,\"#0d0887\"],[0.1111111111111111,\"#46039f\"],[0.2222222222222222,\"#7201a8\"],[0.3333333333333333,\"#9c179e\"],[0.4444444444444444,\"#bd3786\"],[0.5555555555555556,\"#d8576b\"],[0.6666666666666666,\"#ed7953\"],[0.7777777777777778,\"#fb9f3a\"],[0.8888888888888888,\"#fdca26\"],[1.0,\"#f0f921\"]],\"type\":\"surface\"}],\"table\":[{\"cells\":{\"fill\":{\"color\":\"#EBF0F8\"},\"line\":{\"color\":\"white\"}},\"header\":{\"fill\":{\"color\":\"#C8D4E3\"},\"line\":{\"color\":\"white\"}},\"type\":\"table\"}]},\"layout\":{\"annotationdefaults\":{\"arrowcolor\":\"#2a3f5f\",\"arrowhead\":0,\"arrowwidth\":1},\"autotypenumbers\":\"strict\",\"coloraxis\":{\"colorbar\":{\"outlinewidth\":0,\"ticks\":\"\"}},\"colorscale\":{\"diverging\":[[0,\"#8e0152\"],[0.1,\"#c51b7d\"],[0.2,\"#de77ae\"],[0.3,\"#f1b6da\"],[0.4,\"#fde0ef\"],[0.5,\"#f7f7f7\"],[0.6,\"#e6f5d0\"],[0.7,\"#b8e186\"],[0.8,\"#7fbc41\"],[0.9,\"#4d9221\"],[1,\"#276419\"]],\"sequential\":[[0.0,\"#0d0887\"],[0.1111111111111111,\"#46039f\"],[0.2222222222222222,\"#7201a8\"],[0.3333333333333333,\"#9c179e\"],[0.4444444444444444,\"#bd3786\"],[0.5555555555555556,\"#d8576b\"],[0.6666666666666666,\"#ed7953\"],[0.7777777777777778,\"#fb9f3a\"],[0.8888888888888888,\"#fdca26\"],[1.0,\"#f0f921\"]],\"sequentialminus\":[[0.0,\"#0d0887\"],[0.1111111111111111,\"#46039f\"],[0.2222222222222222,\"#7201a8\"],[0.3333333333333333,\"#9c179e\"],[0.4444444444444444,\"#bd3786\"],[0.5555555555555556,\"#d8576b\"],[0.6666666666666666,\"#ed7953\"],[0.7777777777777778,\"#fb9f3a\"],[0.8888888888888888,\"#fdca26\"],[1.0,\"#f0f921\"]]},\"colorway\":[\"#636efa\",\"#EF553B\",\"#00cc96\",\"#ab63fa\",\"#FFA15A\",\"#19d3f3\",\"#FF6692\",\"#B6E880\",\"#FF97FF\",\"#FECB52\"],\"font\":{\"color\":\"#2a3f5f\"},\"geo\":{\"bgcolor\":\"white\",\"lakecolor\":\"white\",\"landcolor\":\"#E5ECF6\",\"showlakes\":true,\"showland\":true,\"subunitcolor\":\"white\"},\"hoverlabel\":{\"align\":\"left\"},\"hovermode\":\"closest\",\"mapbox\":{\"style\":\"light\"},\"paper_bgcolor\":\"white\",\"plot_bgcolor\":\"#E5ECF6\",\"polar\":{\"angularaxis\":{\"gridcolor\":\"white\",\"linecolor\":\"white\",\"ticks\":\"\"},\"bgcolor\":\"#E5ECF6\",\"radialaxis\":{\"gridcolor\":\"white\",\"linecolor\":\"white\",\"ticks\":\"\"}},\"scene\":{\"xaxis\":{\"backgroundcolor\":\"#E5ECF6\",\"gridcolor\":\"white\",\"gridwidth\":2,\"linecolor\":\"white\",\"showbackground\":true,\"ticks\":\"\",\"zerolinecolor\":\"white\"},\"yaxis\":{\"backgroundcolor\":\"#E5ECF6\",\"gridcolor\":\"white\",\"gridwidth\":2,\"linecolor\":\"white\",\"showbackground\":true,\"ticks\":\"\",\"zerolinecolor\":\"white\"},\"zaxis\":{\"backgroundcolor\":\"#E5ECF6\",\"gridcolor\":\"white\",\"gridwidth\":2,\"linecolor\":\"white\",\"showbackground\":true,\"ticks\":\"\",\"zerolinecolor\":\"white\"}},\"shapedefaults\":{\"line\":{\"color\":\"#2a3f5f\"}},\"ternary\":{\"aaxis\":{\"gridcolor\":\"white\",\"linecolor\":\"white\",\"ticks\":\"\"},\"baxis\":{\"gridcolor\":\"white\",\"linecolor\":\"white\",\"ticks\":\"\"},\"bgcolor\":\"#E5ECF6\",\"caxis\":{\"gridcolor\":\"white\",\"linecolor\":\"white\",\"ticks\":\"\"}},\"title\":{\"x\":0.05},\"xaxis\":{\"automargin\":true,\"gridcolor\":\"white\",\"linecolor\":\"white\",\"ticks\":\"\",\"title\":{\"standoff\":15},\"zerolinecolor\":\"white\",\"zerolinewidth\":2},\"yaxis\":{\"automargin\":true,\"gridcolor\":\"white\",\"linecolor\":\"white\",\"ticks\":\"\",\"title\":{\"standoff\":15},\"zerolinecolor\":\"white\",\"zerolinewidth\":2}}},\"xaxis\":{\"anchor\":\"y\",\"domain\":[0.0,1.0],\"title\":{\"text\":\"Phrases\"}},\"yaxis\":{\"anchor\":\"x\",\"domain\":[0.0,1.0],\"title\":{\"text\":\"count\"}},\"legend\":{\"tracegroupgap\":0},\"margin\":{\"t\":60},\"barmode\":\"relative\"},                        {\"responsive\": true}                    ).then(function(){\n",
       "                            \n",
       "var gd = document.getElementById('212f4aff-a783-4cd6-ab83-4d0984f1e98d');\n",
       "var x = new MutationObserver(function (mutations, observer) {{\n",
       "        var display = window.getComputedStyle(gd).display;\n",
       "        if (!display || display === 'none') {{\n",
       "            console.log([gd, 'removed!']);\n",
       "            Plotly.purge(gd);\n",
       "            observer.disconnect();\n",
       "        }}\n",
       "}});\n",
       "\n",
       "// Listen for the removal of the full notebook cells\n",
       "var notebookContainer = gd.closest('#notebook-container');\n",
       "if (notebookContainer) {{\n",
       "    x.observe(notebookContainer, {childList: true});\n",
       "}}\n",
       "\n",
       "// Listen for the clearing of the current output cell\n",
       "var outputEl = gd.closest('.output');\n",
       "if (outputEl) {{\n",
       "    x.observe(outputEl, {childList: true});\n",
       "}}\n",
       "\n",
       "                        })                };                });            </script>        </div>"
      ]
     },
     "metadata": {},
     "output_type": "display_data"
    }
   ],
   "source": [
    "plot_topn(tweet_list, ngram_range=(2,2))"
   ]
  },
  {
   "cell_type": "code",
   "execution_count": 90,
   "id": "1f7a523e",
   "metadata": {},
   "outputs": [
    {
     "data": {
      "application/vnd.plotly.v1+json": {
       "config": {
        "plotlyServerURL": "https://plot.ly"
       },
       "data": [
        {
         "alignmentgroup": "True",
         "hovertemplate": "index=%{x}<br>0=%{y}<extra></extra>",
         "legendgroup": "",
         "marker": {
          "color": "#636efa",
          "pattern": {
           "shape": ""
          }
         },
         "name": "",
         "offsetgroup": "",
         "orientation": "v",
         "showlegend": false,
         "textposition": "auto",
         "type": "bar",
         "x": [
          "school strike week",
          "school strike climate",
          "climate strike week",
          "global climate strike",
          "strike climate week",
          "nd largest rainforest",
          "world nd largest",
          "lives mortal peril",
          "societies amp lives",
          "amp lives mortal",
          "climate strike sydney",
          "day climate action",
          "sydney australia week",
          "tonnes toxic waste",
          "strike sydney australia",
          "global day climate",
          "strike climate action",
          "university strike week",
          "strike climate change",
          "people around world"
         ],
         "xaxis": "x",
         "y": [
          286,
          277,
          208,
          178,
          132,
          59,
          59,
          54,
          51,
          51,
          50,
          49,
          49,
          49,
          48,
          46,
          43,
          38,
          38,
          36
         ],
         "yaxis": "y"
        }
       ],
       "layout": {
        "barmode": "relative",
        "legend": {
         "tracegroupgap": 0
        },
        "margin": {
         "t": 60
        },
        "template": {
         "data": {
          "bar": [
           {
            "error_x": {
             "color": "#2a3f5f"
            },
            "error_y": {
             "color": "#2a3f5f"
            },
            "marker": {
             "line": {
              "color": "#E5ECF6",
              "width": 0.5
             },
             "pattern": {
              "fillmode": "overlay",
              "size": 10,
              "solidity": 0.2
             }
            },
            "type": "bar"
           }
          ],
          "barpolar": [
           {
            "marker": {
             "line": {
              "color": "#E5ECF6",
              "width": 0.5
             },
             "pattern": {
              "fillmode": "overlay",
              "size": 10,
              "solidity": 0.2
             }
            },
            "type": "barpolar"
           }
          ],
          "carpet": [
           {
            "aaxis": {
             "endlinecolor": "#2a3f5f",
             "gridcolor": "white",
             "linecolor": "white",
             "minorgridcolor": "white",
             "startlinecolor": "#2a3f5f"
            },
            "baxis": {
             "endlinecolor": "#2a3f5f",
             "gridcolor": "white",
             "linecolor": "white",
             "minorgridcolor": "white",
             "startlinecolor": "#2a3f5f"
            },
            "type": "carpet"
           }
          ],
          "choropleth": [
           {
            "colorbar": {
             "outlinewidth": 0,
             "ticks": ""
            },
            "type": "choropleth"
           }
          ],
          "contour": [
           {
            "colorbar": {
             "outlinewidth": 0,
             "ticks": ""
            },
            "colorscale": [
             [
              0,
              "#0d0887"
             ],
             [
              0.1111111111111111,
              "#46039f"
             ],
             [
              0.2222222222222222,
              "#7201a8"
             ],
             [
              0.3333333333333333,
              "#9c179e"
             ],
             [
              0.4444444444444444,
              "#bd3786"
             ],
             [
              0.5555555555555556,
              "#d8576b"
             ],
             [
              0.6666666666666666,
              "#ed7953"
             ],
             [
              0.7777777777777778,
              "#fb9f3a"
             ],
             [
              0.8888888888888888,
              "#fdca26"
             ],
             [
              1,
              "#f0f921"
             ]
            ],
            "type": "contour"
           }
          ],
          "contourcarpet": [
           {
            "colorbar": {
             "outlinewidth": 0,
             "ticks": ""
            },
            "type": "contourcarpet"
           }
          ],
          "heatmap": [
           {
            "colorbar": {
             "outlinewidth": 0,
             "ticks": ""
            },
            "colorscale": [
             [
              0,
              "#0d0887"
             ],
             [
              0.1111111111111111,
              "#46039f"
             ],
             [
              0.2222222222222222,
              "#7201a8"
             ],
             [
              0.3333333333333333,
              "#9c179e"
             ],
             [
              0.4444444444444444,
              "#bd3786"
             ],
             [
              0.5555555555555556,
              "#d8576b"
             ],
             [
              0.6666666666666666,
              "#ed7953"
             ],
             [
              0.7777777777777778,
              "#fb9f3a"
             ],
             [
              0.8888888888888888,
              "#fdca26"
             ],
             [
              1,
              "#f0f921"
             ]
            ],
            "type": "heatmap"
           }
          ],
          "heatmapgl": [
           {
            "colorbar": {
             "outlinewidth": 0,
             "ticks": ""
            },
            "colorscale": [
             [
              0,
              "#0d0887"
             ],
             [
              0.1111111111111111,
              "#46039f"
             ],
             [
              0.2222222222222222,
              "#7201a8"
             ],
             [
              0.3333333333333333,
              "#9c179e"
             ],
             [
              0.4444444444444444,
              "#bd3786"
             ],
             [
              0.5555555555555556,
              "#d8576b"
             ],
             [
              0.6666666666666666,
              "#ed7953"
             ],
             [
              0.7777777777777778,
              "#fb9f3a"
             ],
             [
              0.8888888888888888,
              "#fdca26"
             ],
             [
              1,
              "#f0f921"
             ]
            ],
            "type": "heatmapgl"
           }
          ],
          "histogram": [
           {
            "marker": {
             "pattern": {
              "fillmode": "overlay",
              "size": 10,
              "solidity": 0.2
             }
            },
            "type": "histogram"
           }
          ],
          "histogram2d": [
           {
            "colorbar": {
             "outlinewidth": 0,
             "ticks": ""
            },
            "colorscale": [
             [
              0,
              "#0d0887"
             ],
             [
              0.1111111111111111,
              "#46039f"
             ],
             [
              0.2222222222222222,
              "#7201a8"
             ],
             [
              0.3333333333333333,
              "#9c179e"
             ],
             [
              0.4444444444444444,
              "#bd3786"
             ],
             [
              0.5555555555555556,
              "#d8576b"
             ],
             [
              0.6666666666666666,
              "#ed7953"
             ],
             [
              0.7777777777777778,
              "#fb9f3a"
             ],
             [
              0.8888888888888888,
              "#fdca26"
             ],
             [
              1,
              "#f0f921"
             ]
            ],
            "type": "histogram2d"
           }
          ],
          "histogram2dcontour": [
           {
            "colorbar": {
             "outlinewidth": 0,
             "ticks": ""
            },
            "colorscale": [
             [
              0,
              "#0d0887"
             ],
             [
              0.1111111111111111,
              "#46039f"
             ],
             [
              0.2222222222222222,
              "#7201a8"
             ],
             [
              0.3333333333333333,
              "#9c179e"
             ],
             [
              0.4444444444444444,
              "#bd3786"
             ],
             [
              0.5555555555555556,
              "#d8576b"
             ],
             [
              0.6666666666666666,
              "#ed7953"
             ],
             [
              0.7777777777777778,
              "#fb9f3a"
             ],
             [
              0.8888888888888888,
              "#fdca26"
             ],
             [
              1,
              "#f0f921"
             ]
            ],
            "type": "histogram2dcontour"
           }
          ],
          "mesh3d": [
           {
            "colorbar": {
             "outlinewidth": 0,
             "ticks": ""
            },
            "type": "mesh3d"
           }
          ],
          "parcoords": [
           {
            "line": {
             "colorbar": {
              "outlinewidth": 0,
              "ticks": ""
             }
            },
            "type": "parcoords"
           }
          ],
          "pie": [
           {
            "automargin": true,
            "type": "pie"
           }
          ],
          "scatter": [
           {
            "marker": {
             "colorbar": {
              "outlinewidth": 0,
              "ticks": ""
             }
            },
            "type": "scatter"
           }
          ],
          "scatter3d": [
           {
            "line": {
             "colorbar": {
              "outlinewidth": 0,
              "ticks": ""
             }
            },
            "marker": {
             "colorbar": {
              "outlinewidth": 0,
              "ticks": ""
             }
            },
            "type": "scatter3d"
           }
          ],
          "scattercarpet": [
           {
            "marker": {
             "colorbar": {
              "outlinewidth": 0,
              "ticks": ""
             }
            },
            "type": "scattercarpet"
           }
          ],
          "scattergeo": [
           {
            "marker": {
             "colorbar": {
              "outlinewidth": 0,
              "ticks": ""
             }
            },
            "type": "scattergeo"
           }
          ],
          "scattergl": [
           {
            "marker": {
             "colorbar": {
              "outlinewidth": 0,
              "ticks": ""
             }
            },
            "type": "scattergl"
           }
          ],
          "scattermapbox": [
           {
            "marker": {
             "colorbar": {
              "outlinewidth": 0,
              "ticks": ""
             }
            },
            "type": "scattermapbox"
           }
          ],
          "scatterpolar": [
           {
            "marker": {
             "colorbar": {
              "outlinewidth": 0,
              "ticks": ""
             }
            },
            "type": "scatterpolar"
           }
          ],
          "scatterpolargl": [
           {
            "marker": {
             "colorbar": {
              "outlinewidth": 0,
              "ticks": ""
             }
            },
            "type": "scatterpolargl"
           }
          ],
          "scatterternary": [
           {
            "marker": {
             "colorbar": {
              "outlinewidth": 0,
              "ticks": ""
             }
            },
            "type": "scatterternary"
           }
          ],
          "surface": [
           {
            "colorbar": {
             "outlinewidth": 0,
             "ticks": ""
            },
            "colorscale": [
             [
              0,
              "#0d0887"
             ],
             [
              0.1111111111111111,
              "#46039f"
             ],
             [
              0.2222222222222222,
              "#7201a8"
             ],
             [
              0.3333333333333333,
              "#9c179e"
             ],
             [
              0.4444444444444444,
              "#bd3786"
             ],
             [
              0.5555555555555556,
              "#d8576b"
             ],
             [
              0.6666666666666666,
              "#ed7953"
             ],
             [
              0.7777777777777778,
              "#fb9f3a"
             ],
             [
              0.8888888888888888,
              "#fdca26"
             ],
             [
              1,
              "#f0f921"
             ]
            ],
            "type": "surface"
           }
          ],
          "table": [
           {
            "cells": {
             "fill": {
              "color": "#EBF0F8"
             },
             "line": {
              "color": "white"
             }
            },
            "header": {
             "fill": {
              "color": "#C8D4E3"
             },
             "line": {
              "color": "white"
             }
            },
            "type": "table"
           }
          ]
         },
         "layout": {
          "annotationdefaults": {
           "arrowcolor": "#2a3f5f",
           "arrowhead": 0,
           "arrowwidth": 1
          },
          "autotypenumbers": "strict",
          "coloraxis": {
           "colorbar": {
            "outlinewidth": 0,
            "ticks": ""
           }
          },
          "colorscale": {
           "diverging": [
            [
             0,
             "#8e0152"
            ],
            [
             0.1,
             "#c51b7d"
            ],
            [
             0.2,
             "#de77ae"
            ],
            [
             0.3,
             "#f1b6da"
            ],
            [
             0.4,
             "#fde0ef"
            ],
            [
             0.5,
             "#f7f7f7"
            ],
            [
             0.6,
             "#e6f5d0"
            ],
            [
             0.7,
             "#b8e186"
            ],
            [
             0.8,
             "#7fbc41"
            ],
            [
             0.9,
             "#4d9221"
            ],
            [
             1,
             "#276419"
            ]
           ],
           "sequential": [
            [
             0,
             "#0d0887"
            ],
            [
             0.1111111111111111,
             "#46039f"
            ],
            [
             0.2222222222222222,
             "#7201a8"
            ],
            [
             0.3333333333333333,
             "#9c179e"
            ],
            [
             0.4444444444444444,
             "#bd3786"
            ],
            [
             0.5555555555555556,
             "#d8576b"
            ],
            [
             0.6666666666666666,
             "#ed7953"
            ],
            [
             0.7777777777777778,
             "#fb9f3a"
            ],
            [
             0.8888888888888888,
             "#fdca26"
            ],
            [
             1,
             "#f0f921"
            ]
           ],
           "sequentialminus": [
            [
             0,
             "#0d0887"
            ],
            [
             0.1111111111111111,
             "#46039f"
            ],
            [
             0.2222222222222222,
             "#7201a8"
            ],
            [
             0.3333333333333333,
             "#9c179e"
            ],
            [
             0.4444444444444444,
             "#bd3786"
            ],
            [
             0.5555555555555556,
             "#d8576b"
            ],
            [
             0.6666666666666666,
             "#ed7953"
            ],
            [
             0.7777777777777778,
             "#fb9f3a"
            ],
            [
             0.8888888888888888,
             "#fdca26"
            ],
            [
             1,
             "#f0f921"
            ]
           ]
          },
          "colorway": [
           "#636efa",
           "#EF553B",
           "#00cc96",
           "#ab63fa",
           "#FFA15A",
           "#19d3f3",
           "#FF6692",
           "#B6E880",
           "#FF97FF",
           "#FECB52"
          ],
          "font": {
           "color": "#2a3f5f"
          },
          "geo": {
           "bgcolor": "white",
           "lakecolor": "white",
           "landcolor": "#E5ECF6",
           "showlakes": true,
           "showland": true,
           "subunitcolor": "white"
          },
          "hoverlabel": {
           "align": "left"
          },
          "hovermode": "closest",
          "mapbox": {
           "style": "light"
          },
          "paper_bgcolor": "white",
          "plot_bgcolor": "#E5ECF6",
          "polar": {
           "angularaxis": {
            "gridcolor": "white",
            "linecolor": "white",
            "ticks": ""
           },
           "bgcolor": "#E5ECF6",
           "radialaxis": {
            "gridcolor": "white",
            "linecolor": "white",
            "ticks": ""
           }
          },
          "scene": {
           "xaxis": {
            "backgroundcolor": "#E5ECF6",
            "gridcolor": "white",
            "gridwidth": 2,
            "linecolor": "white",
            "showbackground": true,
            "ticks": "",
            "zerolinecolor": "white"
           },
           "yaxis": {
            "backgroundcolor": "#E5ECF6",
            "gridcolor": "white",
            "gridwidth": 2,
            "linecolor": "white",
            "showbackground": true,
            "ticks": "",
            "zerolinecolor": "white"
           },
           "zaxis": {
            "backgroundcolor": "#E5ECF6",
            "gridcolor": "white",
            "gridwidth": 2,
            "linecolor": "white",
            "showbackground": true,
            "ticks": "",
            "zerolinecolor": "white"
           }
          },
          "shapedefaults": {
           "line": {
            "color": "#2a3f5f"
           }
          },
          "ternary": {
           "aaxis": {
            "gridcolor": "white",
            "linecolor": "white",
            "ticks": ""
           },
           "baxis": {
            "gridcolor": "white",
            "linecolor": "white",
            "ticks": ""
           },
           "bgcolor": "#E5ECF6",
           "caxis": {
            "gridcolor": "white",
            "linecolor": "white",
            "ticks": ""
           }
          },
          "title": {
           "x": 0.05
          },
          "xaxis": {
           "automargin": true,
           "gridcolor": "white",
           "linecolor": "white",
           "ticks": "",
           "title": {
            "standoff": 15
           },
           "zerolinecolor": "white",
           "zerolinewidth": 2
          },
          "yaxis": {
           "automargin": true,
           "gridcolor": "white",
           "linecolor": "white",
           "ticks": "",
           "title": {
            "standoff": 15
           },
           "zerolinecolor": "white",
           "zerolinewidth": 2
          }
         }
        },
        "xaxis": {
         "anchor": "y",
         "domain": [
          0,
          1
         ],
         "title": {
          "text": "Phrases"
         }
        },
        "yaxis": {
         "anchor": "x",
         "domain": [
          0,
          1
         ],
         "title": {
          "text": "count"
         }
        }
       }
      },
      "text/html": [
       "<div>                            <div id=\"02676fbb-e643-4da2-a422-b146be0ddca9\" class=\"plotly-graph-div\" style=\"height:525px; width:100%;\"></div>            <script type=\"text/javascript\">                require([\"plotly\"], function(Plotly) {                    window.PLOTLYENV=window.PLOTLYENV || {};                                    if (document.getElementById(\"02676fbb-e643-4da2-a422-b146be0ddca9\")) {                    Plotly.newPlot(                        \"02676fbb-e643-4da2-a422-b146be0ddca9\",                        [{\"alignmentgroup\":\"True\",\"hovertemplate\":\"index=%{x}<br>0=%{y}<extra></extra>\",\"legendgroup\":\"\",\"marker\":{\"color\":\"#636efa\",\"pattern\":{\"shape\":\"\"}},\"name\":\"\",\"offsetgroup\":\"\",\"orientation\":\"v\",\"showlegend\":false,\"textposition\":\"auto\",\"x\":[\"school strike week\",\"school strike climate\",\"climate strike week\",\"global climate strike\",\"strike climate week\",\"nd largest rainforest\",\"world nd largest\",\"lives mortal peril\",\"societies amp lives\",\"amp lives mortal\",\"climate strike sydney\",\"day climate action\",\"sydney australia week\",\"tonnes toxic waste\",\"strike sydney australia\",\"global day climate\",\"strike climate action\",\"university strike week\",\"strike climate change\",\"people around world\"],\"xaxis\":\"x\",\"y\":[286,277,208,178,132,59,59,54,51,51,50,49,49,49,48,46,43,38,38,36],\"yaxis\":\"y\",\"type\":\"bar\"}],                        {\"template\":{\"data\":{\"bar\":[{\"error_x\":{\"color\":\"#2a3f5f\"},\"error_y\":{\"color\":\"#2a3f5f\"},\"marker\":{\"line\":{\"color\":\"#E5ECF6\",\"width\":0.5},\"pattern\":{\"fillmode\":\"overlay\",\"size\":10,\"solidity\":0.2}},\"type\":\"bar\"}],\"barpolar\":[{\"marker\":{\"line\":{\"color\":\"#E5ECF6\",\"width\":0.5},\"pattern\":{\"fillmode\":\"overlay\",\"size\":10,\"solidity\":0.2}},\"type\":\"barpolar\"}],\"carpet\":[{\"aaxis\":{\"endlinecolor\":\"#2a3f5f\",\"gridcolor\":\"white\",\"linecolor\":\"white\",\"minorgridcolor\":\"white\",\"startlinecolor\":\"#2a3f5f\"},\"baxis\":{\"endlinecolor\":\"#2a3f5f\",\"gridcolor\":\"white\",\"linecolor\":\"white\",\"minorgridcolor\":\"white\",\"startlinecolor\":\"#2a3f5f\"},\"type\":\"carpet\"}],\"choropleth\":[{\"colorbar\":{\"outlinewidth\":0,\"ticks\":\"\"},\"type\":\"choropleth\"}],\"contour\":[{\"colorbar\":{\"outlinewidth\":0,\"ticks\":\"\"},\"colorscale\":[[0.0,\"#0d0887\"],[0.1111111111111111,\"#46039f\"],[0.2222222222222222,\"#7201a8\"],[0.3333333333333333,\"#9c179e\"],[0.4444444444444444,\"#bd3786\"],[0.5555555555555556,\"#d8576b\"],[0.6666666666666666,\"#ed7953\"],[0.7777777777777778,\"#fb9f3a\"],[0.8888888888888888,\"#fdca26\"],[1.0,\"#f0f921\"]],\"type\":\"contour\"}],\"contourcarpet\":[{\"colorbar\":{\"outlinewidth\":0,\"ticks\":\"\"},\"type\":\"contourcarpet\"}],\"heatmap\":[{\"colorbar\":{\"outlinewidth\":0,\"ticks\":\"\"},\"colorscale\":[[0.0,\"#0d0887\"],[0.1111111111111111,\"#46039f\"],[0.2222222222222222,\"#7201a8\"],[0.3333333333333333,\"#9c179e\"],[0.4444444444444444,\"#bd3786\"],[0.5555555555555556,\"#d8576b\"],[0.6666666666666666,\"#ed7953\"],[0.7777777777777778,\"#fb9f3a\"],[0.8888888888888888,\"#fdca26\"],[1.0,\"#f0f921\"]],\"type\":\"heatmap\"}],\"heatmapgl\":[{\"colorbar\":{\"outlinewidth\":0,\"ticks\":\"\"},\"colorscale\":[[0.0,\"#0d0887\"],[0.1111111111111111,\"#46039f\"],[0.2222222222222222,\"#7201a8\"],[0.3333333333333333,\"#9c179e\"],[0.4444444444444444,\"#bd3786\"],[0.5555555555555556,\"#d8576b\"],[0.6666666666666666,\"#ed7953\"],[0.7777777777777778,\"#fb9f3a\"],[0.8888888888888888,\"#fdca26\"],[1.0,\"#f0f921\"]],\"type\":\"heatmapgl\"}],\"histogram\":[{\"marker\":{\"pattern\":{\"fillmode\":\"overlay\",\"size\":10,\"solidity\":0.2}},\"type\":\"histogram\"}],\"histogram2d\":[{\"colorbar\":{\"outlinewidth\":0,\"ticks\":\"\"},\"colorscale\":[[0.0,\"#0d0887\"],[0.1111111111111111,\"#46039f\"],[0.2222222222222222,\"#7201a8\"],[0.3333333333333333,\"#9c179e\"],[0.4444444444444444,\"#bd3786\"],[0.5555555555555556,\"#d8576b\"],[0.6666666666666666,\"#ed7953\"],[0.7777777777777778,\"#fb9f3a\"],[0.8888888888888888,\"#fdca26\"],[1.0,\"#f0f921\"]],\"type\":\"histogram2d\"}],\"histogram2dcontour\":[{\"colorbar\":{\"outlinewidth\":0,\"ticks\":\"\"},\"colorscale\":[[0.0,\"#0d0887\"],[0.1111111111111111,\"#46039f\"],[0.2222222222222222,\"#7201a8\"],[0.3333333333333333,\"#9c179e\"],[0.4444444444444444,\"#bd3786\"],[0.5555555555555556,\"#d8576b\"],[0.6666666666666666,\"#ed7953\"],[0.7777777777777778,\"#fb9f3a\"],[0.8888888888888888,\"#fdca26\"],[1.0,\"#f0f921\"]],\"type\":\"histogram2dcontour\"}],\"mesh3d\":[{\"colorbar\":{\"outlinewidth\":0,\"ticks\":\"\"},\"type\":\"mesh3d\"}],\"parcoords\":[{\"line\":{\"colorbar\":{\"outlinewidth\":0,\"ticks\":\"\"}},\"type\":\"parcoords\"}],\"pie\":[{\"automargin\":true,\"type\":\"pie\"}],\"scatter\":[{\"marker\":{\"colorbar\":{\"outlinewidth\":0,\"ticks\":\"\"}},\"type\":\"scatter\"}],\"scatter3d\":[{\"line\":{\"colorbar\":{\"outlinewidth\":0,\"ticks\":\"\"}},\"marker\":{\"colorbar\":{\"outlinewidth\":0,\"ticks\":\"\"}},\"type\":\"scatter3d\"}],\"scattercarpet\":[{\"marker\":{\"colorbar\":{\"outlinewidth\":0,\"ticks\":\"\"}},\"type\":\"scattercarpet\"}],\"scattergeo\":[{\"marker\":{\"colorbar\":{\"outlinewidth\":0,\"ticks\":\"\"}},\"type\":\"scattergeo\"}],\"scattergl\":[{\"marker\":{\"colorbar\":{\"outlinewidth\":0,\"ticks\":\"\"}},\"type\":\"scattergl\"}],\"scattermapbox\":[{\"marker\":{\"colorbar\":{\"outlinewidth\":0,\"ticks\":\"\"}},\"type\":\"scattermapbox\"}],\"scatterpolar\":[{\"marker\":{\"colorbar\":{\"outlinewidth\":0,\"ticks\":\"\"}},\"type\":\"scatterpolar\"}],\"scatterpolargl\":[{\"marker\":{\"colorbar\":{\"outlinewidth\":0,\"ticks\":\"\"}},\"type\":\"scatterpolargl\"}],\"scatterternary\":[{\"marker\":{\"colorbar\":{\"outlinewidth\":0,\"ticks\":\"\"}},\"type\":\"scatterternary\"}],\"surface\":[{\"colorbar\":{\"outlinewidth\":0,\"ticks\":\"\"},\"colorscale\":[[0.0,\"#0d0887\"],[0.1111111111111111,\"#46039f\"],[0.2222222222222222,\"#7201a8\"],[0.3333333333333333,\"#9c179e\"],[0.4444444444444444,\"#bd3786\"],[0.5555555555555556,\"#d8576b\"],[0.6666666666666666,\"#ed7953\"],[0.7777777777777778,\"#fb9f3a\"],[0.8888888888888888,\"#fdca26\"],[1.0,\"#f0f921\"]],\"type\":\"surface\"}],\"table\":[{\"cells\":{\"fill\":{\"color\":\"#EBF0F8\"},\"line\":{\"color\":\"white\"}},\"header\":{\"fill\":{\"color\":\"#C8D4E3\"},\"line\":{\"color\":\"white\"}},\"type\":\"table\"}]},\"layout\":{\"annotationdefaults\":{\"arrowcolor\":\"#2a3f5f\",\"arrowhead\":0,\"arrowwidth\":1},\"autotypenumbers\":\"strict\",\"coloraxis\":{\"colorbar\":{\"outlinewidth\":0,\"ticks\":\"\"}},\"colorscale\":{\"diverging\":[[0,\"#8e0152\"],[0.1,\"#c51b7d\"],[0.2,\"#de77ae\"],[0.3,\"#f1b6da\"],[0.4,\"#fde0ef\"],[0.5,\"#f7f7f7\"],[0.6,\"#e6f5d0\"],[0.7,\"#b8e186\"],[0.8,\"#7fbc41\"],[0.9,\"#4d9221\"],[1,\"#276419\"]],\"sequential\":[[0.0,\"#0d0887\"],[0.1111111111111111,\"#46039f\"],[0.2222222222222222,\"#7201a8\"],[0.3333333333333333,\"#9c179e\"],[0.4444444444444444,\"#bd3786\"],[0.5555555555555556,\"#d8576b\"],[0.6666666666666666,\"#ed7953\"],[0.7777777777777778,\"#fb9f3a\"],[0.8888888888888888,\"#fdca26\"],[1.0,\"#f0f921\"]],\"sequentialminus\":[[0.0,\"#0d0887\"],[0.1111111111111111,\"#46039f\"],[0.2222222222222222,\"#7201a8\"],[0.3333333333333333,\"#9c179e\"],[0.4444444444444444,\"#bd3786\"],[0.5555555555555556,\"#d8576b\"],[0.6666666666666666,\"#ed7953\"],[0.7777777777777778,\"#fb9f3a\"],[0.8888888888888888,\"#fdca26\"],[1.0,\"#f0f921\"]]},\"colorway\":[\"#636efa\",\"#EF553B\",\"#00cc96\",\"#ab63fa\",\"#FFA15A\",\"#19d3f3\",\"#FF6692\",\"#B6E880\",\"#FF97FF\",\"#FECB52\"],\"font\":{\"color\":\"#2a3f5f\"},\"geo\":{\"bgcolor\":\"white\",\"lakecolor\":\"white\",\"landcolor\":\"#E5ECF6\",\"showlakes\":true,\"showland\":true,\"subunitcolor\":\"white\"},\"hoverlabel\":{\"align\":\"left\"},\"hovermode\":\"closest\",\"mapbox\":{\"style\":\"light\"},\"paper_bgcolor\":\"white\",\"plot_bgcolor\":\"#E5ECF6\",\"polar\":{\"angularaxis\":{\"gridcolor\":\"white\",\"linecolor\":\"white\",\"ticks\":\"\"},\"bgcolor\":\"#E5ECF6\",\"radialaxis\":{\"gridcolor\":\"white\",\"linecolor\":\"white\",\"ticks\":\"\"}},\"scene\":{\"xaxis\":{\"backgroundcolor\":\"#E5ECF6\",\"gridcolor\":\"white\",\"gridwidth\":2,\"linecolor\":\"white\",\"showbackground\":true,\"ticks\":\"\",\"zerolinecolor\":\"white\"},\"yaxis\":{\"backgroundcolor\":\"#E5ECF6\",\"gridcolor\":\"white\",\"gridwidth\":2,\"linecolor\":\"white\",\"showbackground\":true,\"ticks\":\"\",\"zerolinecolor\":\"white\"},\"zaxis\":{\"backgroundcolor\":\"#E5ECF6\",\"gridcolor\":\"white\",\"gridwidth\":2,\"linecolor\":\"white\",\"showbackground\":true,\"ticks\":\"\",\"zerolinecolor\":\"white\"}},\"shapedefaults\":{\"line\":{\"color\":\"#2a3f5f\"}},\"ternary\":{\"aaxis\":{\"gridcolor\":\"white\",\"linecolor\":\"white\",\"ticks\":\"\"},\"baxis\":{\"gridcolor\":\"white\",\"linecolor\":\"white\",\"ticks\":\"\"},\"bgcolor\":\"#E5ECF6\",\"caxis\":{\"gridcolor\":\"white\",\"linecolor\":\"white\",\"ticks\":\"\"}},\"title\":{\"x\":0.05},\"xaxis\":{\"automargin\":true,\"gridcolor\":\"white\",\"linecolor\":\"white\",\"ticks\":\"\",\"title\":{\"standoff\":15},\"zerolinecolor\":\"white\",\"zerolinewidth\":2},\"yaxis\":{\"automargin\":true,\"gridcolor\":\"white\",\"linecolor\":\"white\",\"ticks\":\"\",\"title\":{\"standoff\":15},\"zerolinecolor\":\"white\",\"zerolinewidth\":2}}},\"xaxis\":{\"anchor\":\"y\",\"domain\":[0.0,1.0],\"title\":{\"text\":\"Phrases\"}},\"yaxis\":{\"anchor\":\"x\",\"domain\":[0.0,1.0],\"title\":{\"text\":\"count\"}},\"legend\":{\"tracegroupgap\":0},\"margin\":{\"t\":60},\"barmode\":\"relative\"},                        {\"responsive\": true}                    ).then(function(){\n",
       "                            \n",
       "var gd = document.getElementById('02676fbb-e643-4da2-a422-b146be0ddca9');\n",
       "var x = new MutationObserver(function (mutations, observer) {{\n",
       "        var display = window.getComputedStyle(gd).display;\n",
       "        if (!display || display === 'none') {{\n",
       "            console.log([gd, 'removed!']);\n",
       "            Plotly.purge(gd);\n",
       "            observer.disconnect();\n",
       "        }}\n",
       "}});\n",
       "\n",
       "// Listen for the removal of the full notebook cells\n",
       "var notebookContainer = gd.closest('#notebook-container');\n",
       "if (notebookContainer) {{\n",
       "    x.observe(notebookContainer, {childList: true});\n",
       "}}\n",
       "\n",
       "// Listen for the clearing of the current output cell\n",
       "var outputEl = gd.closest('.output');\n",
       "if (outputEl) {{\n",
       "    x.observe(outputEl, {childList: true});\n",
       "}}\n",
       "\n",
       "                        })                };                });            </script>        </div>"
      ]
     },
     "metadata": {},
     "output_type": "display_data"
    }
   ],
   "source": [
    "plot_topn(tweet_list, ngram_range=(3,3))"
   ]
  },
  {
   "cell_type": "markdown",
   "id": "9e32745f",
   "metadata": {},
   "source": [
    "### Sentiment Analysis"
   ]
  },
  {
   "cell_type": "markdown",
   "id": "a45f0477",
   "metadata": {},
   "source": [
    "Ho installato il pacchetto textblob per la sentiment Analysis"
   ]
  },
  {
   "cell_type": "code",
   "execution_count": 92,
   "id": "d625c225",
   "metadata": {},
   "outputs": [],
   "source": [
    "#pip install textblob"
   ]
  },
  {
   "cell_type": "code",
   "execution_count": 93,
   "id": "27f10d01",
   "metadata": {},
   "outputs": [],
   "source": [
    "from textblob import TextBlob"
   ]
  },
  {
   "cell_type": "code",
   "execution_count": 196,
   "id": "cba8f21b",
   "metadata": {},
   "outputs": [],
   "source": [
    "df_en['sentiment']=df_en['cleaned_tweet'].apply(lambda x:TextBlob(x).sentiment[0])\n",
    "df_en['subject']=df_en['cleaned_tweet'].apply(lambda x: TextBlob(x).sentiment[1])\n",
    "df_en['polarity']=df_en['sentiment'].apply(lambda x: 'pos' if x>=0 else 'neg')"
   ]
  },
  {
   "cell_type": "code",
   "execution_count": 197,
   "id": "ba793197",
   "metadata": {},
   "outputs": [
    {
     "data": {
      "application/vnd.plotly.v1+json": {
       "config": {
        "plotlyServerURL": "https://plot.ly"
       },
       "data": [
        {
         "alignmentgroup": "True",
         "bingroup": "x",
         "hovertemplate": "polarity=%{x}<br>count=%{y}<extra></extra>",
         "legendgroup": "pos",
         "marker": {
          "color": "#636efa",
          "pattern": {
           "shape": ""
          }
         },
         "name": "pos",
         "offsetgroup": "pos",
         "orientation": "v",
         "showlegend": true,
         "type": "histogram",
         "x": [
          "pos",
          "pos",
          "pos",
          "pos",
          "pos",
          "pos",
          "pos",
          "pos",
          "pos",
          "pos",
          "pos",
          "pos",
          "pos",
          "pos",
          "pos",
          "pos",
          "pos",
          "pos",
          "pos",
          "pos",
          "pos",
          "pos",
          "pos",
          "pos",
          "pos",
          "pos",
          "pos",
          "pos",
          "pos",
          "pos",
          "pos",
          "pos",
          "pos",
          "pos",
          "pos",
          "pos",
          "pos",
          "pos",
          "pos",
          "pos",
          "pos",
          "pos",
          "pos",
          "pos",
          "pos",
          "pos",
          "pos",
          "pos",
          "pos",
          "pos",
          "pos",
          "pos",
          "pos",
          "pos",
          "pos",
          "pos",
          "pos",
          "pos",
          "pos",
          "pos",
          "pos",
          "pos",
          "pos",
          "pos",
          "pos",
          "pos",
          "pos",
          "pos",
          "pos",
          "pos",
          "pos",
          "pos",
          "pos",
          "pos",
          "pos",
          "pos",
          "pos",
          "pos",
          "pos",
          "pos",
          "pos",
          "pos",
          "pos",
          "pos",
          "pos",
          "pos",
          "pos",
          "pos",
          "pos",
          "pos",
          "pos",
          "pos",
          "pos",
          "pos",
          "pos",
          "pos",
          "pos",
          "pos",
          "pos",
          "pos",
          "pos",
          "pos",
          "pos",
          "pos",
          "pos",
          "pos",
          "pos",
          "pos",
          "pos",
          "pos",
          "pos",
          "pos",
          "pos",
          "pos",
          "pos",
          "pos",
          "pos",
          "pos",
          "pos",
          "pos",
          "pos",
          "pos",
          "pos",
          "pos",
          "pos",
          "pos",
          "pos",
          "pos",
          "pos",
          "pos",
          "pos",
          "pos",
          "pos",
          "pos",
          "pos",
          "pos",
          "pos",
          "pos",
          "pos",
          "pos",
          "pos",
          "pos",
          "pos",
          "pos",
          "pos",
          "pos",
          "pos",
          "pos",
          "pos",
          "pos",
          "pos",
          "pos",
          "pos",
          "pos",
          "pos",
          "pos",
          "pos",
          "pos",
          "pos",
          "pos",
          "pos",
          "pos",
          "pos",
          "pos",
          "pos",
          "pos",
          "pos",
          "pos",
          "pos",
          "pos",
          "pos",
          "pos",
          "pos",
          "pos",
          "pos",
          "pos",
          "pos",
          "pos",
          "pos",
          "pos",
          "pos",
          "pos",
          "pos",
          "pos",
          "pos",
          "pos",
          "pos",
          "pos",
          "pos",
          "pos",
          "pos",
          "pos",
          "pos",
          "pos",
          "pos",
          "pos",
          "pos",
          "pos",
          "pos",
          "pos",
          "pos",
          "pos",
          "pos",
          "pos",
          "pos",
          "pos",
          "pos",
          "pos",
          "pos",
          "pos",
          "pos",
          "pos",
          "pos",
          "pos",
          "pos",
          "pos",
          "pos",
          "pos",
          "pos",
          "pos",
          "pos",
          "pos",
          "pos",
          "pos",
          "pos",
          "pos",
          "pos",
          "pos",
          "pos",
          "pos",
          "pos",
          "pos",
          "pos",
          "pos",
          "pos",
          "pos",
          "pos",
          "pos",
          "pos",
          "pos",
          "pos",
          "pos",
          "pos",
          "pos",
          "pos",
          "pos",
          "pos",
          "pos",
          "pos",
          "pos",
          "pos",
          "pos",
          "pos",
          "pos",
          "pos",
          "pos",
          "pos",
          "pos",
          "pos",
          "pos",
          "pos",
          "pos",
          "pos",
          "pos",
          "pos",
          "pos",
          "pos",
          "pos",
          "pos",
          "pos",
          "pos",
          "pos",
          "pos",
          "pos",
          "pos",
          "pos",
          "pos",
          "pos",
          "pos",
          "pos",
          "pos",
          "pos",
          "pos",
          "pos",
          "pos",
          "pos",
          "pos",
          "pos",
          "pos",
          "pos",
          "pos",
          "pos",
          "pos",
          "pos",
          "pos",
          "pos",
          "pos",
          "pos",
          "pos",
          "pos",
          "pos",
          "pos",
          "pos",
          "pos",
          "pos",
          "pos",
          "pos",
          "pos",
          "pos",
          "pos",
          "pos",
          "pos",
          "pos",
          "pos",
          "pos",
          "pos",
          "pos",
          "pos",
          "pos",
          "pos",
          "pos",
          "pos",
          "pos",
          "pos",
          "pos",
          "pos",
          "pos",
          "pos",
          "pos",
          "pos",
          "pos",
          "pos",
          "pos",
          "pos",
          "pos",
          "pos",
          "pos",
          "pos",
          "pos",
          "pos",
          "pos",
          "pos",
          "pos",
          "pos",
          "pos",
          "pos",
          "pos",
          "pos",
          "pos",
          "pos",
          "pos",
          "pos",
          "pos",
          "pos",
          "pos",
          "pos",
          "pos",
          "pos",
          "pos",
          "pos",
          "pos",
          "pos",
          "pos",
          "pos",
          "pos",
          "pos",
          "pos",
          "pos",
          "pos",
          "pos",
          "pos",
          "pos",
          "pos",
          "pos",
          "pos",
          "pos",
          "pos",
          "pos",
          "pos",
          "pos",
          "pos",
          "pos",
          "pos",
          "pos",
          "pos",
          "pos",
          "pos",
          "pos",
          "pos",
          "pos",
          "pos",
          "pos",
          "pos",
          "pos",
          "pos",
          "pos",
          "pos",
          "pos",
          "pos",
          "pos",
          "pos",
          "pos",
          "pos",
          "pos",
          "pos",
          "pos",
          "pos",
          "pos",
          "pos",
          "pos",
          "pos",
          "pos",
          "pos",
          "pos",
          "pos",
          "pos",
          "pos",
          "pos",
          "pos",
          "pos",
          "pos",
          "pos",
          "pos",
          "pos",
          "pos",
          "pos",
          "pos",
          "pos",
          "pos",
          "pos",
          "pos",
          "pos",
          "pos",
          "pos",
          "pos",
          "pos",
          "pos",
          "pos",
          "pos",
          "pos",
          "pos",
          "pos",
          "pos",
          "pos",
          "pos",
          "pos",
          "pos",
          "pos",
          "pos",
          "pos",
          "pos",
          "pos",
          "pos",
          "pos",
          "pos",
          "pos",
          "pos",
          "pos",
          "pos",
          "pos",
          "pos",
          "pos",
          "pos",
          "pos",
          "pos",
          "pos",
          "pos",
          "pos",
          "pos",
          "pos",
          "pos",
          "pos",
          "pos",
          "pos",
          "pos",
          "pos",
          "pos",
          "pos",
          "pos",
          "pos",
          "pos",
          "pos",
          "pos",
          "pos",
          "pos",
          "pos",
          "pos",
          "pos",
          "pos",
          "pos",
          "pos",
          "pos",
          "pos",
          "pos",
          "pos",
          "pos",
          "pos",
          "pos",
          "pos",
          "pos",
          "pos",
          "pos",
          "pos",
          "pos",
          "pos",
          "pos",
          "pos",
          "pos",
          "pos",
          "pos",
          "pos",
          "pos",
          "pos",
          "pos",
          "pos",
          "pos",
          "pos",
          "pos",
          "pos",
          "pos",
          "pos",
          "pos",
          "pos",
          "pos",
          "pos",
          "pos",
          "pos",
          "pos",
          "pos",
          "pos",
          "pos",
          "pos",
          "pos",
          "pos",
          "pos",
          "pos",
          "pos",
          "pos",
          "pos",
          "pos",
          "pos",
          "pos",
          "pos",
          "pos",
          "pos",
          "pos",
          "pos",
          "pos",
          "pos",
          "pos",
          "pos",
          "pos",
          "pos",
          "pos",
          "pos",
          "pos",
          "pos",
          "pos",
          "pos",
          "pos",
          "pos",
          "pos",
          "pos",
          "pos",
          "pos",
          "pos",
          "pos",
          "pos",
          "pos",
          "pos",
          "pos",
          "pos",
          "pos",
          "pos",
          "pos",
          "pos",
          "pos",
          "pos",
          "pos",
          "pos",
          "pos",
          "pos",
          "pos",
          "pos",
          "pos",
          "pos",
          "pos",
          "pos",
          "pos",
          "pos",
          "pos",
          "pos",
          "pos",
          "pos",
          "pos",
          "pos",
          "pos",
          "pos",
          "pos",
          "pos",
          "pos",
          "pos",
          "pos",
          "pos",
          "pos",
          "pos",
          "pos",
          "pos",
          "pos",
          "pos",
          "pos",
          "pos",
          "pos",
          "pos",
          "pos",
          "pos",
          "pos",
          "pos",
          "pos",
          "pos",
          "pos",
          "pos",
          "pos",
          "pos",
          "pos",
          "pos",
          "pos",
          "pos",
          "pos",
          "pos",
          "pos",
          "pos",
          "pos",
          "pos",
          "pos",
          "pos",
          "pos",
          "pos",
          "pos",
          "pos",
          "pos",
          "pos",
          "pos",
          "pos",
          "pos",
          "pos",
          "pos",
          "pos",
          "pos",
          "pos",
          "pos",
          "pos",
          "pos",
          "pos",
          "pos",
          "pos",
          "pos",
          "pos",
          "pos",
          "pos",
          "pos",
          "pos",
          "pos",
          "pos",
          "pos",
          "pos",
          "pos",
          "pos",
          "pos",
          "pos",
          "pos",
          "pos",
          "pos",
          "pos",
          "pos",
          "pos",
          "pos",
          "pos",
          "pos",
          "pos",
          "pos",
          "pos",
          "pos",
          "pos",
          "pos",
          "pos",
          "pos",
          "pos",
          "pos",
          "pos",
          "pos",
          "pos",
          "pos",
          "pos",
          "pos",
          "pos",
          "pos",
          "pos",
          "pos",
          "pos",
          "pos",
          "pos",
          "pos",
          "pos",
          "pos",
          "pos",
          "pos",
          "pos",
          "pos",
          "pos",
          "pos",
          "pos",
          "pos",
          "pos",
          "pos",
          "pos",
          "pos",
          "pos",
          "pos",
          "pos",
          "pos",
          "pos",
          "pos",
          "pos",
          "pos",
          "pos",
          "pos",
          "pos",
          "pos",
          "pos",
          "pos",
          "pos",
          "pos",
          "pos",
          "pos",
          "pos",
          "pos",
          "pos",
          "pos",
          "pos",
          "pos",
          "pos",
          "pos",
          "pos",
          "pos",
          "pos",
          "pos",
          "pos",
          "pos",
          "pos",
          "pos",
          "pos",
          "pos",
          "pos",
          "pos",
          "pos",
          "pos",
          "pos",
          "pos",
          "pos",
          "pos",
          "pos",
          "pos",
          "pos",
          "pos",
          "pos",
          "pos",
          "pos",
          "pos",
          "pos",
          "pos",
          "pos",
          "pos",
          "pos",
          "pos",
          "pos",
          "pos",
          "pos",
          "pos",
          "pos",
          "pos",
          "pos",
          "pos",
          "pos",
          "pos",
          "pos",
          "pos",
          "pos",
          "pos",
          "pos",
          "pos",
          "pos",
          "pos",
          "pos",
          "pos",
          "pos",
          "pos",
          "pos",
          "pos",
          "pos",
          "pos",
          "pos",
          "pos",
          "pos",
          "pos",
          "pos",
          "pos",
          "pos",
          "pos",
          "pos",
          "pos",
          "pos",
          "pos",
          "pos",
          "pos",
          "pos",
          "pos",
          "pos",
          "pos",
          "pos",
          "pos",
          "pos",
          "pos",
          "pos",
          "pos",
          "pos",
          "pos",
          "pos",
          "pos",
          "pos",
          "pos",
          "pos",
          "pos",
          "pos",
          "pos",
          "pos",
          "pos",
          "pos",
          "pos",
          "pos",
          "pos",
          "pos",
          "pos",
          "pos",
          "pos",
          "pos",
          "pos",
          "pos",
          "pos",
          "pos",
          "pos",
          "pos",
          "pos",
          "pos",
          "pos",
          "pos",
          "pos",
          "pos",
          "pos",
          "pos",
          "pos",
          "pos",
          "pos",
          "pos",
          "pos",
          "pos",
          "pos",
          "pos",
          "pos",
          "pos",
          "pos",
          "pos",
          "pos",
          "pos",
          "pos",
          "pos",
          "pos",
          "pos",
          "pos",
          "pos",
          "pos",
          "pos",
          "pos",
          "pos",
          "pos",
          "pos",
          "pos",
          "pos",
          "pos",
          "pos",
          "pos",
          "pos",
          "pos",
          "pos",
          "pos",
          "pos",
          "pos",
          "pos",
          "pos",
          "pos",
          "pos",
          "pos",
          "pos",
          "pos",
          "pos",
          "pos",
          "pos",
          "pos",
          "pos",
          "pos",
          "pos",
          "pos",
          "pos",
          "pos",
          "pos",
          "pos",
          "pos",
          "pos",
          "pos",
          "pos",
          "pos",
          "pos",
          "pos",
          "pos",
          "pos",
          "pos",
          "pos",
          "pos",
          "pos",
          "pos",
          "pos",
          "pos",
          "pos",
          "pos",
          "pos",
          "pos",
          "pos",
          "pos",
          "pos",
          "pos",
          "pos",
          "pos",
          "pos",
          "pos",
          "pos",
          "pos",
          "pos",
          "pos",
          "pos",
          "pos",
          "pos",
          "pos",
          "pos",
          "pos",
          "pos",
          "pos",
          "pos",
          "pos",
          "pos",
          "pos",
          "pos",
          "pos",
          "pos",
          "pos",
          "pos",
          "pos",
          "pos",
          "pos",
          "pos",
          "pos",
          "pos",
          "pos",
          "pos",
          "pos",
          "pos",
          "pos",
          "pos",
          "pos",
          "pos",
          "pos",
          "pos",
          "pos",
          "pos",
          "pos",
          "pos",
          "pos",
          "pos",
          "pos",
          "pos",
          "pos",
          "pos",
          "pos",
          "pos",
          "pos",
          "pos",
          "pos",
          "pos",
          "pos",
          "pos",
          "pos",
          "pos",
          "pos",
          "pos",
          "pos",
          "pos",
          "pos",
          "pos",
          "pos",
          "pos",
          "pos",
          "pos",
          "pos",
          "pos",
          "pos",
          "pos",
          "pos",
          "pos",
          "pos",
          "pos",
          "pos",
          "pos",
          "pos",
          "pos",
          "pos",
          "pos",
          "pos",
          "pos",
          "pos",
          "pos",
          "pos",
          "pos",
          "pos",
          "pos",
          "pos",
          "pos",
          "pos",
          "pos",
          "pos",
          "pos",
          "pos",
          "pos",
          "pos",
          "pos",
          "pos",
          "pos",
          "pos",
          "pos",
          "pos",
          "pos",
          "pos",
          "pos",
          "pos",
          "pos",
          "pos",
          "pos",
          "pos",
          "pos",
          "pos",
          "pos",
          "pos",
          "pos",
          "pos",
          "pos",
          "pos",
          "pos",
          "pos",
          "pos",
          "pos",
          "pos",
          "pos",
          "pos",
          "pos",
          "pos",
          "pos",
          "pos",
          "pos",
          "pos",
          "pos",
          "pos",
          "pos",
          "pos",
          "pos",
          "pos",
          "pos",
          "pos",
          "pos",
          "pos",
          "pos",
          "pos",
          "pos",
          "pos",
          "pos",
          "pos",
          "pos",
          "pos",
          "pos",
          "pos",
          "pos",
          "pos",
          "pos",
          "pos",
          "pos",
          "pos",
          "pos",
          "pos",
          "pos",
          "pos",
          "pos",
          "pos",
          "pos",
          "pos",
          "pos",
          "pos",
          "pos",
          "pos",
          "pos",
          "pos",
          "pos",
          "pos",
          "pos",
          "pos",
          "pos",
          "pos",
          "pos",
          "pos",
          "pos",
          "pos",
          "pos",
          "pos",
          "pos",
          "pos",
          "pos",
          "pos",
          "pos",
          "pos",
          "pos",
          "pos",
          "pos",
          "pos",
          "pos",
          "pos",
          "pos",
          "pos",
          "pos",
          "pos",
          "pos",
          "pos",
          "pos",
          "pos",
          "pos",
          "pos",
          "pos",
          "pos",
          "pos",
          "pos",
          "pos",
          "pos",
          "pos",
          "pos",
          "pos",
          "pos",
          "pos",
          "pos",
          "pos",
          "pos",
          "pos",
          "pos",
          "pos",
          "pos",
          "pos",
          "pos",
          "pos",
          "pos",
          "pos",
          "pos",
          "pos",
          "pos",
          "pos",
          "pos",
          "pos",
          "pos",
          "pos",
          "pos",
          "pos",
          "pos",
          "pos",
          "pos",
          "pos",
          "pos",
          "pos",
          "pos",
          "pos",
          "pos",
          "pos",
          "pos",
          "pos",
          "pos",
          "pos",
          "pos",
          "pos",
          "pos",
          "pos",
          "pos",
          "pos",
          "pos",
          "pos",
          "pos",
          "pos",
          "pos",
          "pos",
          "pos",
          "pos",
          "pos",
          "pos",
          "pos",
          "pos",
          "pos",
          "pos",
          "pos",
          "pos",
          "pos",
          "pos",
          "pos",
          "pos",
          "pos",
          "pos",
          "pos",
          "pos",
          "pos",
          "pos",
          "pos",
          "pos",
          "pos",
          "pos",
          "pos",
          "pos",
          "pos",
          "pos",
          "pos",
          "pos",
          "pos",
          "pos",
          "pos",
          "pos",
          "pos",
          "pos",
          "pos",
          "pos",
          "pos",
          "pos",
          "pos",
          "pos",
          "pos",
          "pos",
          "pos",
          "pos",
          "pos",
          "pos",
          "pos",
          "pos",
          "pos",
          "pos",
          "pos",
          "pos",
          "pos",
          "pos",
          "pos",
          "pos",
          "pos",
          "pos",
          "pos",
          "pos",
          "pos",
          "pos",
          "pos",
          "pos",
          "pos",
          "pos",
          "pos",
          "pos",
          "pos",
          "pos",
          "pos",
          "pos",
          "pos",
          "pos",
          "pos",
          "pos",
          "pos",
          "pos",
          "pos",
          "pos",
          "pos",
          "pos",
          "pos",
          "pos",
          "pos",
          "pos",
          "pos",
          "pos",
          "pos",
          "pos",
          "pos",
          "pos",
          "pos",
          "pos",
          "pos",
          "pos",
          "pos",
          "pos",
          "pos",
          "pos",
          "pos",
          "pos",
          "pos",
          "pos",
          "pos",
          "pos",
          "pos",
          "pos",
          "pos",
          "pos",
          "pos",
          "pos",
          "pos",
          "pos",
          "pos",
          "pos",
          "pos",
          "pos",
          "pos",
          "pos",
          "pos",
          "pos",
          "pos",
          "pos",
          "pos",
          "pos",
          "pos",
          "pos",
          "pos",
          "pos",
          "pos",
          "pos",
          "pos",
          "pos",
          "pos",
          "pos",
          "pos",
          "pos",
          "pos",
          "pos",
          "pos",
          "pos",
          "pos",
          "pos",
          "pos",
          "pos",
          "pos",
          "pos",
          "pos",
          "pos",
          "pos",
          "pos",
          "pos",
          "pos",
          "pos",
          "pos",
          "pos",
          "pos",
          "pos",
          "pos",
          "pos",
          "pos",
          "pos",
          "pos",
          "pos",
          "pos",
          "pos",
          "pos",
          "pos",
          "pos",
          "pos",
          "pos",
          "pos",
          "pos",
          "pos",
          "pos",
          "pos",
          "pos",
          "pos",
          "pos",
          "pos",
          "pos",
          "pos",
          "pos",
          "pos",
          "pos",
          "pos",
          "pos",
          "pos",
          "pos",
          "pos",
          "pos",
          "pos",
          "pos",
          "pos",
          "pos",
          "pos",
          "pos",
          "pos",
          "pos",
          "pos",
          "pos",
          "pos",
          "pos",
          "pos",
          "pos",
          "pos",
          "pos",
          "pos",
          "pos",
          "pos",
          "pos",
          "pos",
          "pos",
          "pos",
          "pos",
          "pos",
          "pos",
          "pos",
          "pos",
          "pos",
          "pos",
          "pos",
          "pos",
          "pos",
          "pos",
          "pos",
          "pos",
          "pos",
          "pos",
          "pos",
          "pos",
          "pos",
          "pos",
          "pos",
          "pos",
          "pos",
          "pos",
          "pos",
          "pos",
          "pos",
          "pos",
          "pos",
          "pos",
          "pos",
          "pos",
          "pos",
          "pos",
          "pos",
          "pos",
          "pos",
          "pos",
          "pos",
          "pos",
          "pos",
          "pos",
          "pos",
          "pos",
          "pos",
          "pos",
          "pos",
          "pos",
          "pos",
          "pos",
          "pos",
          "pos",
          "pos",
          "pos",
          "pos",
          "pos",
          "pos",
          "pos",
          "pos",
          "pos",
          "pos",
          "pos",
          "pos",
          "pos",
          "pos",
          "pos",
          "pos",
          "pos",
          "pos",
          "pos",
          "pos",
          "pos",
          "pos",
          "pos",
          "pos",
          "pos",
          "pos",
          "pos",
          "pos",
          "pos",
          "pos",
          "pos",
          "pos",
          "pos",
          "pos",
          "pos",
          "pos",
          "pos",
          "pos",
          "pos",
          "pos",
          "pos",
          "pos",
          "pos",
          "pos",
          "pos",
          "pos",
          "pos",
          "pos",
          "pos",
          "pos",
          "pos",
          "pos",
          "pos",
          "pos",
          "pos",
          "pos",
          "pos",
          "pos",
          "pos",
          "pos",
          "pos",
          "pos",
          "pos",
          "pos",
          "pos",
          "pos",
          "pos",
          "pos",
          "pos",
          "pos",
          "pos",
          "pos",
          "pos",
          "pos",
          "pos",
          "pos",
          "pos",
          "pos",
          "pos",
          "pos",
          "pos",
          "pos",
          "pos",
          "pos",
          "pos",
          "pos",
          "pos",
          "pos",
          "pos",
          "pos",
          "pos",
          "pos",
          "pos",
          "pos",
          "pos",
          "pos",
          "pos",
          "pos",
          "pos",
          "pos",
          "pos",
          "pos",
          "pos",
          "pos",
          "pos",
          "pos",
          "pos",
          "pos",
          "pos",
          "pos",
          "pos",
          "pos",
          "pos",
          "pos",
          "pos",
          "pos",
          "pos",
          "pos",
          "pos",
          "pos",
          "pos",
          "pos",
          "pos",
          "pos",
          "pos",
          "pos",
          "pos",
          "pos",
          "pos",
          "pos",
          "pos",
          "pos",
          "pos",
          "pos",
          "pos",
          "pos",
          "pos",
          "pos",
          "pos",
          "pos",
          "pos",
          "pos",
          "pos",
          "pos",
          "pos",
          "pos",
          "pos",
          "pos",
          "pos",
          "pos",
          "pos",
          "pos",
          "pos",
          "pos",
          "pos",
          "pos",
          "pos",
          "pos",
          "pos",
          "pos",
          "pos",
          "pos",
          "pos",
          "pos",
          "pos",
          "pos",
          "pos",
          "pos",
          "pos",
          "pos",
          "pos",
          "pos",
          "pos",
          "pos",
          "pos",
          "pos",
          "pos",
          "pos",
          "pos",
          "pos",
          "pos",
          "pos",
          "pos",
          "pos",
          "pos",
          "pos",
          "pos",
          "pos",
          "pos",
          "pos",
          "pos",
          "pos",
          "pos",
          "pos",
          "pos",
          "pos",
          "pos",
          "pos",
          "pos",
          "pos",
          "pos",
          "pos",
          "pos",
          "pos",
          "pos",
          "pos",
          "pos",
          "pos",
          "pos",
          "pos",
          "pos",
          "pos",
          "pos",
          "pos",
          "pos",
          "pos",
          "pos",
          "pos",
          "pos",
          "pos",
          "pos",
          "pos",
          "pos",
          "pos",
          "pos",
          "pos",
          "pos",
          "pos",
          "pos",
          "pos",
          "pos",
          "pos",
          "pos",
          "pos",
          "pos",
          "pos",
          "pos",
          "pos",
          "pos",
          "pos",
          "pos",
          "pos",
          "pos",
          "pos",
          "pos",
          "pos",
          "pos",
          "pos",
          "pos",
          "pos",
          "pos",
          "pos",
          "pos",
          "pos",
          "pos",
          "pos",
          "pos",
          "pos",
          "pos",
          "pos",
          "pos",
          "pos",
          "pos",
          "pos",
          "pos",
          "pos",
          "pos",
          "pos",
          "pos",
          "pos",
          "pos",
          "pos",
          "pos",
          "pos",
          "pos",
          "pos",
          "pos",
          "pos",
          "pos",
          "pos",
          "pos",
          "pos",
          "pos",
          "pos",
          "pos",
          "pos",
          "pos",
          "pos",
          "pos",
          "pos",
          "pos",
          "pos",
          "pos",
          "pos",
          "pos",
          "pos",
          "pos",
          "pos",
          "pos",
          "pos",
          "pos",
          "pos",
          "pos",
          "pos",
          "pos",
          "pos",
          "pos",
          "pos",
          "pos",
          "pos",
          "pos",
          "pos",
          "pos",
          "pos",
          "pos",
          "pos",
          "pos",
          "pos",
          "pos",
          "pos",
          "pos",
          "pos",
          "pos",
          "pos",
          "pos",
          "pos",
          "pos",
          "pos",
          "pos",
          "pos",
          "pos",
          "pos",
          "pos",
          "pos",
          "pos",
          "pos",
          "pos",
          "pos",
          "pos",
          "pos",
          "pos",
          "pos",
          "pos",
          "pos",
          "pos",
          "pos",
          "pos",
          "pos",
          "pos",
          "pos",
          "pos",
          "pos",
          "pos",
          "pos",
          "pos",
          "pos",
          "pos",
          "pos",
          "pos",
          "pos",
          "pos",
          "pos",
          "pos",
          "pos",
          "pos",
          "pos",
          "pos",
          "pos",
          "pos",
          "pos",
          "pos",
          "pos",
          "pos",
          "pos",
          "pos",
          "pos",
          "pos",
          "pos",
          "pos",
          "pos",
          "pos",
          "pos",
          "pos",
          "pos",
          "pos",
          "pos",
          "pos",
          "pos",
          "pos",
          "pos",
          "pos",
          "pos",
          "pos",
          "pos",
          "pos",
          "pos",
          "pos",
          "pos",
          "pos",
          "pos",
          "pos",
          "pos",
          "pos",
          "pos",
          "pos",
          "pos",
          "pos",
          "pos",
          "pos",
          "pos",
          "pos",
          "pos",
          "pos",
          "pos",
          "pos",
          "pos",
          "pos",
          "pos",
          "pos",
          "pos",
          "pos",
          "pos",
          "pos",
          "pos",
          "pos",
          "pos",
          "pos",
          "pos",
          "pos",
          "pos",
          "pos",
          "pos",
          "pos",
          "pos",
          "pos",
          "pos",
          "pos",
          "pos",
          "pos",
          "pos",
          "pos",
          "pos",
          "pos",
          "pos",
          "pos",
          "pos",
          "pos",
          "pos",
          "pos",
          "pos",
          "pos",
          "pos",
          "pos",
          "pos",
          "pos",
          "pos",
          "pos",
          "pos",
          "pos",
          "pos",
          "pos",
          "pos",
          "pos",
          "pos",
          "pos",
          "pos",
          "pos",
          "pos",
          "pos",
          "pos",
          "pos",
          "pos",
          "pos",
          "pos",
          "pos",
          "pos",
          "pos",
          "pos",
          "pos",
          "pos",
          "pos",
          "pos",
          "pos",
          "pos",
          "pos",
          "pos",
          "pos",
          "pos",
          "pos",
          "pos",
          "pos",
          "pos",
          "pos",
          "pos",
          "pos",
          "pos",
          "pos",
          "pos",
          "pos",
          "pos",
          "pos",
          "pos",
          "pos",
          "pos",
          "pos",
          "pos",
          "pos",
          "pos",
          "pos",
          "pos",
          "pos",
          "pos",
          "pos",
          "pos",
          "pos",
          "pos",
          "pos",
          "pos",
          "pos",
          "pos",
          "pos",
          "pos",
          "pos",
          "pos",
          "pos",
          "pos",
          "pos",
          "pos",
          "pos",
          "pos",
          "pos",
          "pos",
          "pos",
          "pos",
          "pos",
          "pos",
          "pos",
          "pos",
          "pos",
          "pos",
          "pos",
          "pos",
          "pos",
          "pos",
          "pos",
          "pos",
          "pos",
          "pos",
          "pos",
          "pos",
          "pos",
          "pos",
          "pos",
          "pos",
          "pos",
          "pos",
          "pos",
          "pos",
          "pos",
          "pos",
          "pos",
          "pos",
          "pos",
          "pos",
          "pos",
          "pos",
          "pos",
          "pos",
          "pos",
          "pos",
          "pos",
          "pos",
          "pos",
          "pos",
          "pos",
          "pos",
          "pos",
          "pos",
          "pos",
          "pos",
          "pos",
          "pos",
          "pos",
          "pos",
          "pos",
          "pos",
          "pos",
          "pos",
          "pos",
          "pos",
          "pos",
          "pos",
          "pos",
          "pos",
          "pos",
          "pos",
          "pos",
          "pos",
          "pos",
          "pos",
          "pos",
          "pos",
          "pos",
          "pos",
          "pos",
          "pos",
          "pos",
          "pos",
          "pos",
          "pos",
          "pos",
          "pos",
          "pos",
          "pos",
          "pos",
          "pos",
          "pos",
          "pos",
          "pos",
          "pos",
          "pos",
          "pos",
          "pos",
          "pos",
          "pos",
          "pos",
          "pos",
          "pos",
          "pos",
          "pos",
          "pos",
          "pos",
          "pos",
          "pos",
          "pos",
          "pos",
          "pos",
          "pos",
          "pos",
          "pos",
          "pos",
          "pos",
          "pos",
          "pos",
          "pos",
          "pos",
          "pos",
          "pos",
          "pos",
          "pos",
          "pos",
          "pos",
          "pos",
          "pos",
          "pos",
          "pos",
          "pos",
          "pos",
          "pos",
          "pos",
          "pos",
          "pos",
          "pos",
          "pos",
          "pos",
          "pos",
          "pos",
          "pos",
          "pos",
          "pos",
          "pos",
          "pos",
          "pos",
          "pos",
          "pos",
          "pos",
          "pos",
          "pos",
          "pos",
          "pos",
          "pos",
          "pos",
          "pos",
          "pos",
          "pos",
          "pos",
          "pos",
          "pos",
          "pos",
          "pos",
          "pos",
          "pos",
          "pos",
          "pos",
          "pos",
          "pos",
          "pos",
          "pos",
          "pos",
          "pos",
          "pos",
          "pos",
          "pos",
          "pos",
          "pos",
          "pos",
          "pos",
          "pos",
          "pos",
          "pos",
          "pos",
          "pos",
          "pos",
          "pos",
          "pos",
          "pos",
          "pos",
          "pos",
          "pos",
          "pos",
          "pos",
          "pos",
          "pos",
          "pos",
          "pos",
          "pos",
          "pos",
          "pos",
          "pos",
          "pos",
          "pos",
          "pos",
          "pos",
          "pos",
          "pos",
          "pos",
          "pos",
          "pos",
          "pos",
          "pos",
          "pos",
          "pos",
          "pos",
          "pos",
          "pos",
          "pos",
          "pos",
          "pos",
          "pos",
          "pos",
          "pos",
          "pos",
          "pos",
          "pos",
          "pos",
          "pos",
          "pos",
          "pos",
          "pos",
          "pos",
          "pos",
          "pos",
          "pos",
          "pos",
          "pos",
          "pos",
          "pos",
          "pos",
          "pos",
          "pos",
          "pos",
          "pos",
          "pos",
          "pos",
          "pos",
          "pos",
          "pos",
          "pos",
          "pos",
          "pos",
          "pos",
          "pos",
          "pos",
          "pos",
          "pos",
          "pos",
          "pos",
          "pos",
          "pos",
          "pos",
          "pos",
          "pos",
          "pos",
          "pos",
          "pos",
          "pos",
          "pos",
          "pos",
          "pos",
          "pos",
          "pos",
          "pos",
          "pos",
          "pos",
          "pos",
          "pos",
          "pos",
          "pos",
          "pos",
          "pos",
          "pos",
          "pos",
          "pos",
          "pos",
          "pos",
          "pos",
          "pos",
          "pos",
          "pos",
          "pos",
          "pos",
          "pos",
          "pos",
          "pos",
          "pos",
          "pos",
          "pos",
          "pos",
          "pos",
          "pos",
          "pos",
          "pos",
          "pos",
          "pos",
          "pos",
          "pos",
          "pos",
          "pos",
          "pos",
          "pos",
          "pos",
          "pos",
          "pos",
          "pos",
          "pos",
          "pos",
          "pos",
          "pos",
          "pos",
          "pos",
          "pos",
          "pos",
          "pos",
          "pos",
          "pos",
          "pos",
          "pos",
          "pos",
          "pos",
          "pos",
          "pos",
          "pos",
          "pos",
          "pos",
          "pos",
          "pos",
          "pos",
          "pos",
          "pos",
          "pos",
          "pos",
          "pos",
          "pos",
          "pos",
          "pos",
          "pos",
          "pos",
          "pos",
          "pos",
          "pos",
          "pos",
          "pos",
          "pos",
          "pos",
          "pos",
          "pos",
          "pos",
          "pos",
          "pos",
          "pos",
          "pos",
          "pos",
          "pos",
          "pos",
          "pos",
          "pos",
          "pos",
          "pos",
          "pos",
          "pos",
          "pos",
          "pos",
          "pos",
          "pos",
          "pos",
          "pos",
          "pos",
          "pos",
          "pos",
          "pos",
          "pos",
          "pos",
          "pos",
          "pos",
          "pos",
          "pos",
          "pos",
          "pos",
          "pos",
          "pos",
          "pos",
          "pos",
          "pos",
          "pos",
          "pos",
          "pos",
          "pos",
          "pos",
          "pos",
          "pos",
          "pos",
          "pos",
          "pos",
          "pos",
          "pos",
          "pos",
          "pos",
          "pos",
          "pos",
          "pos",
          "pos",
          "pos",
          "pos",
          "pos",
          "pos",
          "pos",
          "pos",
          "pos",
          "pos",
          "pos",
          "pos",
          "pos",
          "pos",
          "pos",
          "pos",
          "pos",
          "pos",
          "pos",
          "pos",
          "pos",
          "pos",
          "pos",
          "pos",
          "pos",
          "pos",
          "pos",
          "pos",
          "pos",
          "pos",
          "pos",
          "pos",
          "pos",
          "pos",
          "pos",
          "pos",
          "pos",
          "pos",
          "pos",
          "pos",
          "pos",
          "pos",
          "pos",
          "pos",
          "pos",
          "pos",
          "pos",
          "pos",
          "pos",
          "pos",
          "pos",
          "pos",
          "pos",
          "pos",
          "pos",
          "pos",
          "pos",
          "pos",
          "pos",
          "pos",
          "pos",
          "pos",
          "pos",
          "pos",
          "pos",
          "pos",
          "pos",
          "pos",
          "pos",
          "pos",
          "pos",
          "pos",
          "pos",
          "pos",
          "pos",
          "pos",
          "pos",
          "pos",
          "pos",
          "pos",
          "pos",
          "pos",
          "pos",
          "pos",
          "pos",
          "pos",
          "pos",
          "pos",
          "pos",
          "pos",
          "pos",
          "pos",
          "pos",
          "pos",
          "pos",
          "pos",
          "pos",
          "pos",
          "pos",
          "pos",
          "pos",
          "pos",
          "pos",
          "pos",
          "pos",
          "pos",
          "pos",
          "pos",
          "pos",
          "pos",
          "pos",
          "pos",
          "pos",
          "pos",
          "pos",
          "pos",
          "pos",
          "pos",
          "pos",
          "pos",
          "pos",
          "pos",
          "pos",
          "pos",
          "pos",
          "pos",
          "pos",
          "pos",
          "pos",
          "pos",
          "pos",
          "pos",
          "pos",
          "pos",
          "pos",
          "pos",
          "pos",
          "pos",
          "pos",
          "pos",
          "pos",
          "pos",
          "pos",
          "pos",
          "pos",
          "pos",
          "pos",
          "pos",
          "pos",
          "pos",
          "pos",
          "pos",
          "pos",
          "pos",
          "pos",
          "pos",
          "pos",
          "pos",
          "pos",
          "pos",
          "pos",
          "pos",
          "pos",
          "pos",
          "pos",
          "pos",
          "pos",
          "pos",
          "pos",
          "pos",
          "pos",
          "pos"
         ],
         "xaxis": "x",
         "yaxis": "y"
        },
        {
         "alignmentgroup": "True",
         "bingroup": "x",
         "hovertemplate": "polarity=%{x}<br>count=%{y}<extra></extra>",
         "legendgroup": "neg",
         "marker": {
          "color": "#EF553B",
          "pattern": {
           "shape": ""
          }
         },
         "name": "neg",
         "offsetgroup": "neg",
         "orientation": "v",
         "showlegend": true,
         "type": "histogram",
         "x": [
          "neg",
          "neg",
          "neg",
          "neg",
          "neg",
          "neg",
          "neg",
          "neg",
          "neg",
          "neg",
          "neg",
          "neg",
          "neg",
          "neg",
          "neg",
          "neg",
          "neg",
          "neg",
          "neg",
          "neg",
          "neg",
          "neg",
          "neg",
          "neg",
          "neg",
          "neg",
          "neg",
          "neg",
          "neg",
          "neg",
          "neg",
          "neg",
          "neg",
          "neg",
          "neg",
          "neg",
          "neg",
          "neg",
          "neg",
          "neg",
          "neg",
          "neg",
          "neg",
          "neg",
          "neg",
          "neg",
          "neg",
          "neg",
          "neg",
          "neg",
          "neg",
          "neg",
          "neg",
          "neg",
          "neg",
          "neg",
          "neg",
          "neg",
          "neg",
          "neg",
          "neg",
          "neg",
          "neg",
          "neg",
          "neg",
          "neg",
          "neg",
          "neg",
          "neg",
          "neg",
          "neg",
          "neg",
          "neg",
          "neg",
          "neg",
          "neg",
          "neg",
          "neg",
          "neg",
          "neg",
          "neg",
          "neg",
          "neg",
          "neg",
          "neg",
          "neg",
          "neg",
          "neg",
          "neg",
          "neg",
          "neg",
          "neg",
          "neg",
          "neg",
          "neg",
          "neg",
          "neg",
          "neg",
          "neg",
          "neg",
          "neg",
          "neg",
          "neg",
          "neg",
          "neg",
          "neg",
          "neg",
          "neg",
          "neg",
          "neg",
          "neg",
          "neg",
          "neg",
          "neg",
          "neg",
          "neg",
          "neg",
          "neg",
          "neg",
          "neg",
          "neg",
          "neg",
          "neg",
          "neg",
          "neg",
          "neg",
          "neg",
          "neg",
          "neg",
          "neg",
          "neg",
          "neg",
          "neg",
          "neg",
          "neg",
          "neg",
          "neg",
          "neg",
          "neg",
          "neg",
          "neg",
          "neg",
          "neg",
          "neg",
          "neg",
          "neg",
          "neg",
          "neg",
          "neg",
          "neg",
          "neg",
          "neg",
          "neg",
          "neg",
          "neg",
          "neg",
          "neg",
          "neg",
          "neg",
          "neg",
          "neg",
          "neg",
          "neg",
          "neg",
          "neg",
          "neg",
          "neg",
          "neg",
          "neg",
          "neg",
          "neg",
          "neg",
          "neg",
          "neg",
          "neg",
          "neg",
          "neg",
          "neg",
          "neg",
          "neg",
          "neg",
          "neg",
          "neg",
          "neg",
          "neg",
          "neg",
          "neg",
          "neg",
          "neg",
          "neg",
          "neg",
          "neg",
          "neg",
          "neg",
          "neg",
          "neg",
          "neg",
          "neg",
          "neg",
          "neg",
          "neg",
          "neg",
          "neg",
          "neg",
          "neg",
          "neg",
          "neg",
          "neg",
          "neg",
          "neg",
          "neg",
          "neg",
          "neg",
          "neg",
          "neg",
          "neg",
          "neg",
          "neg",
          "neg",
          "neg",
          "neg",
          "neg",
          "neg",
          "neg",
          "neg",
          "neg",
          "neg",
          "neg",
          "neg",
          "neg",
          "neg",
          "neg",
          "neg",
          "neg",
          "neg",
          "neg",
          "neg",
          "neg",
          "neg",
          "neg",
          "neg",
          "neg",
          "neg",
          "neg",
          "neg",
          "neg",
          "neg",
          "neg",
          "neg",
          "neg",
          "neg",
          "neg",
          "neg",
          "neg",
          "neg",
          "neg",
          "neg",
          "neg",
          "neg",
          "neg",
          "neg",
          "neg",
          "neg",
          "neg",
          "neg",
          "neg",
          "neg",
          "neg",
          "neg",
          "neg",
          "neg",
          "neg",
          "neg",
          "neg",
          "neg",
          "neg",
          "neg",
          "neg",
          "neg",
          "neg",
          "neg",
          "neg",
          "neg",
          "neg",
          "neg",
          "neg",
          "neg",
          "neg",
          "neg",
          "neg",
          "neg",
          "neg",
          "neg",
          "neg",
          "neg",
          "neg",
          "neg",
          "neg",
          "neg",
          "neg",
          "neg",
          "neg",
          "neg",
          "neg",
          "neg",
          "neg",
          "neg",
          "neg",
          "neg",
          "neg",
          "neg",
          "neg",
          "neg",
          "neg",
          "neg",
          "neg",
          "neg",
          "neg",
          "neg",
          "neg",
          "neg",
          "neg",
          "neg",
          "neg",
          "neg",
          "neg",
          "neg",
          "neg",
          "neg",
          "neg",
          "neg",
          "neg",
          "neg",
          "neg",
          "neg",
          "neg",
          "neg",
          "neg",
          "neg",
          "neg",
          "neg",
          "neg",
          "neg",
          "neg",
          "neg",
          "neg",
          "neg",
          "neg",
          "neg",
          "neg",
          "neg",
          "neg",
          "neg",
          "neg",
          "neg",
          "neg",
          "neg",
          "neg",
          "neg",
          "neg",
          "neg",
          "neg",
          "neg",
          "neg",
          "neg",
          "neg",
          "neg",
          "neg",
          "neg",
          "neg",
          "neg",
          "neg",
          "neg",
          "neg",
          "neg",
          "neg",
          "neg",
          "neg",
          "neg",
          "neg",
          "neg",
          "neg",
          "neg",
          "neg",
          "neg",
          "neg",
          "neg",
          "neg",
          "neg",
          "neg",
          "neg",
          "neg",
          "neg",
          "neg",
          "neg",
          "neg",
          "neg",
          "neg",
          "neg",
          "neg",
          "neg",
          "neg",
          "neg",
          "neg",
          "neg",
          "neg",
          "neg",
          "neg",
          "neg",
          "neg",
          "neg",
          "neg",
          "neg",
          "neg",
          "neg",
          "neg",
          "neg",
          "neg",
          "neg",
          "neg",
          "neg",
          "neg",
          "neg",
          "neg",
          "neg",
          "neg",
          "neg",
          "neg",
          "neg",
          "neg",
          "neg",
          "neg",
          "neg",
          "neg",
          "neg",
          "neg",
          "neg",
          "neg",
          "neg",
          "neg",
          "neg",
          "neg",
          "neg",
          "neg",
          "neg",
          "neg",
          "neg",
          "neg",
          "neg",
          "neg",
          "neg",
          "neg",
          "neg",
          "neg",
          "neg",
          "neg",
          "neg",
          "neg",
          "neg",
          "neg",
          "neg",
          "neg",
          "neg",
          "neg",
          "neg",
          "neg",
          "neg",
          "neg",
          "neg",
          "neg",
          "neg",
          "neg",
          "neg",
          "neg",
          "neg",
          "neg",
          "neg",
          "neg",
          "neg",
          "neg",
          "neg",
          "neg",
          "neg",
          "neg",
          "neg",
          "neg",
          "neg",
          "neg",
          "neg",
          "neg",
          "neg",
          "neg",
          "neg",
          "neg",
          "neg",
          "neg",
          "neg",
          "neg",
          "neg",
          "neg",
          "neg",
          "neg",
          "neg",
          "neg",
          "neg",
          "neg",
          "neg",
          "neg",
          "neg",
          "neg",
          "neg",
          "neg",
          "neg",
          "neg",
          "neg",
          "neg",
          "neg",
          "neg",
          "neg",
          "neg",
          "neg",
          "neg",
          "neg",
          "neg",
          "neg",
          "neg",
          "neg",
          "neg",
          "neg",
          "neg",
          "neg",
          "neg",
          "neg",
          "neg",
          "neg",
          "neg",
          "neg",
          "neg",
          "neg",
          "neg",
          "neg",
          "neg",
          "neg",
          "neg",
          "neg",
          "neg",
          "neg",
          "neg",
          "neg",
          "neg",
          "neg",
          "neg",
          "neg",
          "neg",
          "neg",
          "neg",
          "neg",
          "neg",
          "neg",
          "neg",
          "neg",
          "neg",
          "neg",
          "neg",
          "neg",
          "neg",
          "neg",
          "neg",
          "neg",
          "neg",
          "neg",
          "neg",
          "neg",
          "neg",
          "neg",
          "neg",
          "neg",
          "neg",
          "neg",
          "neg",
          "neg",
          "neg",
          "neg",
          "neg",
          "neg",
          "neg",
          "neg",
          "neg",
          "neg",
          "neg",
          "neg",
          "neg",
          "neg",
          "neg",
          "neg",
          "neg",
          "neg",
          "neg",
          "neg",
          "neg",
          "neg",
          "neg",
          "neg",
          "neg",
          "neg",
          "neg",
          "neg",
          "neg",
          "neg",
          "neg",
          "neg",
          "neg",
          "neg",
          "neg",
          "neg",
          "neg",
          "neg",
          "neg",
          "neg",
          "neg",
          "neg",
          "neg",
          "neg",
          "neg",
          "neg",
          "neg",
          "neg",
          "neg",
          "neg",
          "neg",
          "neg",
          "neg",
          "neg",
          "neg",
          "neg",
          "neg",
          "neg",
          "neg",
          "neg",
          "neg",
          "neg",
          "neg",
          "neg",
          "neg",
          "neg",
          "neg",
          "neg",
          "neg",
          "neg",
          "neg",
          "neg",
          "neg",
          "neg",
          "neg",
          "neg",
          "neg",
          "neg",
          "neg"
         ],
         "xaxis": "x",
         "yaxis": "y"
        }
       ],
       "layout": {
        "barmode": "relative",
        "legend": {
         "title": {
          "text": "polarity"
         },
         "tracegroupgap": 0
        },
        "margin": {
         "t": 60
        },
        "template": {
         "data": {
          "bar": [
           {
            "error_x": {
             "color": "#2a3f5f"
            },
            "error_y": {
             "color": "#2a3f5f"
            },
            "marker": {
             "line": {
              "color": "#E5ECF6",
              "width": 0.5
             },
             "pattern": {
              "fillmode": "overlay",
              "size": 10,
              "solidity": 0.2
             }
            },
            "type": "bar"
           }
          ],
          "barpolar": [
           {
            "marker": {
             "line": {
              "color": "#E5ECF6",
              "width": 0.5
             },
             "pattern": {
              "fillmode": "overlay",
              "size": 10,
              "solidity": 0.2
             }
            },
            "type": "barpolar"
           }
          ],
          "carpet": [
           {
            "aaxis": {
             "endlinecolor": "#2a3f5f",
             "gridcolor": "white",
             "linecolor": "white",
             "minorgridcolor": "white",
             "startlinecolor": "#2a3f5f"
            },
            "baxis": {
             "endlinecolor": "#2a3f5f",
             "gridcolor": "white",
             "linecolor": "white",
             "minorgridcolor": "white",
             "startlinecolor": "#2a3f5f"
            },
            "type": "carpet"
           }
          ],
          "choropleth": [
           {
            "colorbar": {
             "outlinewidth": 0,
             "ticks": ""
            },
            "type": "choropleth"
           }
          ],
          "contour": [
           {
            "colorbar": {
             "outlinewidth": 0,
             "ticks": ""
            },
            "colorscale": [
             [
              0,
              "#0d0887"
             ],
             [
              0.1111111111111111,
              "#46039f"
             ],
             [
              0.2222222222222222,
              "#7201a8"
             ],
             [
              0.3333333333333333,
              "#9c179e"
             ],
             [
              0.4444444444444444,
              "#bd3786"
             ],
             [
              0.5555555555555556,
              "#d8576b"
             ],
             [
              0.6666666666666666,
              "#ed7953"
             ],
             [
              0.7777777777777778,
              "#fb9f3a"
             ],
             [
              0.8888888888888888,
              "#fdca26"
             ],
             [
              1,
              "#f0f921"
             ]
            ],
            "type": "contour"
           }
          ],
          "contourcarpet": [
           {
            "colorbar": {
             "outlinewidth": 0,
             "ticks": ""
            },
            "type": "contourcarpet"
           }
          ],
          "heatmap": [
           {
            "colorbar": {
             "outlinewidth": 0,
             "ticks": ""
            },
            "colorscale": [
             [
              0,
              "#0d0887"
             ],
             [
              0.1111111111111111,
              "#46039f"
             ],
             [
              0.2222222222222222,
              "#7201a8"
             ],
             [
              0.3333333333333333,
              "#9c179e"
             ],
             [
              0.4444444444444444,
              "#bd3786"
             ],
             [
              0.5555555555555556,
              "#d8576b"
             ],
             [
              0.6666666666666666,
              "#ed7953"
             ],
             [
              0.7777777777777778,
              "#fb9f3a"
             ],
             [
              0.8888888888888888,
              "#fdca26"
             ],
             [
              1,
              "#f0f921"
             ]
            ],
            "type": "heatmap"
           }
          ],
          "heatmapgl": [
           {
            "colorbar": {
             "outlinewidth": 0,
             "ticks": ""
            },
            "colorscale": [
             [
              0,
              "#0d0887"
             ],
             [
              0.1111111111111111,
              "#46039f"
             ],
             [
              0.2222222222222222,
              "#7201a8"
             ],
             [
              0.3333333333333333,
              "#9c179e"
             ],
             [
              0.4444444444444444,
              "#bd3786"
             ],
             [
              0.5555555555555556,
              "#d8576b"
             ],
             [
              0.6666666666666666,
              "#ed7953"
             ],
             [
              0.7777777777777778,
              "#fb9f3a"
             ],
             [
              0.8888888888888888,
              "#fdca26"
             ],
             [
              1,
              "#f0f921"
             ]
            ],
            "type": "heatmapgl"
           }
          ],
          "histogram": [
           {
            "marker": {
             "pattern": {
              "fillmode": "overlay",
              "size": 10,
              "solidity": 0.2
             }
            },
            "type": "histogram"
           }
          ],
          "histogram2d": [
           {
            "colorbar": {
             "outlinewidth": 0,
             "ticks": ""
            },
            "colorscale": [
             [
              0,
              "#0d0887"
             ],
             [
              0.1111111111111111,
              "#46039f"
             ],
             [
              0.2222222222222222,
              "#7201a8"
             ],
             [
              0.3333333333333333,
              "#9c179e"
             ],
             [
              0.4444444444444444,
              "#bd3786"
             ],
             [
              0.5555555555555556,
              "#d8576b"
             ],
             [
              0.6666666666666666,
              "#ed7953"
             ],
             [
              0.7777777777777778,
              "#fb9f3a"
             ],
             [
              0.8888888888888888,
              "#fdca26"
             ],
             [
              1,
              "#f0f921"
             ]
            ],
            "type": "histogram2d"
           }
          ],
          "histogram2dcontour": [
           {
            "colorbar": {
             "outlinewidth": 0,
             "ticks": ""
            },
            "colorscale": [
             [
              0,
              "#0d0887"
             ],
             [
              0.1111111111111111,
              "#46039f"
             ],
             [
              0.2222222222222222,
              "#7201a8"
             ],
             [
              0.3333333333333333,
              "#9c179e"
             ],
             [
              0.4444444444444444,
              "#bd3786"
             ],
             [
              0.5555555555555556,
              "#d8576b"
             ],
             [
              0.6666666666666666,
              "#ed7953"
             ],
             [
              0.7777777777777778,
              "#fb9f3a"
             ],
             [
              0.8888888888888888,
              "#fdca26"
             ],
             [
              1,
              "#f0f921"
             ]
            ],
            "type": "histogram2dcontour"
           }
          ],
          "mesh3d": [
           {
            "colorbar": {
             "outlinewidth": 0,
             "ticks": ""
            },
            "type": "mesh3d"
           }
          ],
          "parcoords": [
           {
            "line": {
             "colorbar": {
              "outlinewidth": 0,
              "ticks": ""
             }
            },
            "type": "parcoords"
           }
          ],
          "pie": [
           {
            "automargin": true,
            "type": "pie"
           }
          ],
          "scatter": [
           {
            "marker": {
             "colorbar": {
              "outlinewidth": 0,
              "ticks": ""
             }
            },
            "type": "scatter"
           }
          ],
          "scatter3d": [
           {
            "line": {
             "colorbar": {
              "outlinewidth": 0,
              "ticks": ""
             }
            },
            "marker": {
             "colorbar": {
              "outlinewidth": 0,
              "ticks": ""
             }
            },
            "type": "scatter3d"
           }
          ],
          "scattercarpet": [
           {
            "marker": {
             "colorbar": {
              "outlinewidth": 0,
              "ticks": ""
             }
            },
            "type": "scattercarpet"
           }
          ],
          "scattergeo": [
           {
            "marker": {
             "colorbar": {
              "outlinewidth": 0,
              "ticks": ""
             }
            },
            "type": "scattergeo"
           }
          ],
          "scattergl": [
           {
            "marker": {
             "colorbar": {
              "outlinewidth": 0,
              "ticks": ""
             }
            },
            "type": "scattergl"
           }
          ],
          "scattermapbox": [
           {
            "marker": {
             "colorbar": {
              "outlinewidth": 0,
              "ticks": ""
             }
            },
            "type": "scattermapbox"
           }
          ],
          "scatterpolar": [
           {
            "marker": {
             "colorbar": {
              "outlinewidth": 0,
              "ticks": ""
             }
            },
            "type": "scatterpolar"
           }
          ],
          "scatterpolargl": [
           {
            "marker": {
             "colorbar": {
              "outlinewidth": 0,
              "ticks": ""
             }
            },
            "type": "scatterpolargl"
           }
          ],
          "scatterternary": [
           {
            "marker": {
             "colorbar": {
              "outlinewidth": 0,
              "ticks": ""
             }
            },
            "type": "scatterternary"
           }
          ],
          "surface": [
           {
            "colorbar": {
             "outlinewidth": 0,
             "ticks": ""
            },
            "colorscale": [
             [
              0,
              "#0d0887"
             ],
             [
              0.1111111111111111,
              "#46039f"
             ],
             [
              0.2222222222222222,
              "#7201a8"
             ],
             [
              0.3333333333333333,
              "#9c179e"
             ],
             [
              0.4444444444444444,
              "#bd3786"
             ],
             [
              0.5555555555555556,
              "#d8576b"
             ],
             [
              0.6666666666666666,
              "#ed7953"
             ],
             [
              0.7777777777777778,
              "#fb9f3a"
             ],
             [
              0.8888888888888888,
              "#fdca26"
             ],
             [
              1,
              "#f0f921"
             ]
            ],
            "type": "surface"
           }
          ],
          "table": [
           {
            "cells": {
             "fill": {
              "color": "#EBF0F8"
             },
             "line": {
              "color": "white"
             }
            },
            "header": {
             "fill": {
              "color": "#C8D4E3"
             },
             "line": {
              "color": "white"
             }
            },
            "type": "table"
           }
          ]
         },
         "layout": {
          "annotationdefaults": {
           "arrowcolor": "#2a3f5f",
           "arrowhead": 0,
           "arrowwidth": 1
          },
          "autotypenumbers": "strict",
          "coloraxis": {
           "colorbar": {
            "outlinewidth": 0,
            "ticks": ""
           }
          },
          "colorscale": {
           "diverging": [
            [
             0,
             "#8e0152"
            ],
            [
             0.1,
             "#c51b7d"
            ],
            [
             0.2,
             "#de77ae"
            ],
            [
             0.3,
             "#f1b6da"
            ],
            [
             0.4,
             "#fde0ef"
            ],
            [
             0.5,
             "#f7f7f7"
            ],
            [
             0.6,
             "#e6f5d0"
            ],
            [
             0.7,
             "#b8e186"
            ],
            [
             0.8,
             "#7fbc41"
            ],
            [
             0.9,
             "#4d9221"
            ],
            [
             1,
             "#276419"
            ]
           ],
           "sequential": [
            [
             0,
             "#0d0887"
            ],
            [
             0.1111111111111111,
             "#46039f"
            ],
            [
             0.2222222222222222,
             "#7201a8"
            ],
            [
             0.3333333333333333,
             "#9c179e"
            ],
            [
             0.4444444444444444,
             "#bd3786"
            ],
            [
             0.5555555555555556,
             "#d8576b"
            ],
            [
             0.6666666666666666,
             "#ed7953"
            ],
            [
             0.7777777777777778,
             "#fb9f3a"
            ],
            [
             0.8888888888888888,
             "#fdca26"
            ],
            [
             1,
             "#f0f921"
            ]
           ],
           "sequentialminus": [
            [
             0,
             "#0d0887"
            ],
            [
             0.1111111111111111,
             "#46039f"
            ],
            [
             0.2222222222222222,
             "#7201a8"
            ],
            [
             0.3333333333333333,
             "#9c179e"
            ],
            [
             0.4444444444444444,
             "#bd3786"
            ],
            [
             0.5555555555555556,
             "#d8576b"
            ],
            [
             0.6666666666666666,
             "#ed7953"
            ],
            [
             0.7777777777777778,
             "#fb9f3a"
            ],
            [
             0.8888888888888888,
             "#fdca26"
            ],
            [
             1,
             "#f0f921"
            ]
           ]
          },
          "colorway": [
           "#636efa",
           "#EF553B",
           "#00cc96",
           "#ab63fa",
           "#FFA15A",
           "#19d3f3",
           "#FF6692",
           "#B6E880",
           "#FF97FF",
           "#FECB52"
          ],
          "font": {
           "color": "#2a3f5f"
          },
          "geo": {
           "bgcolor": "white",
           "lakecolor": "white",
           "landcolor": "#E5ECF6",
           "showlakes": true,
           "showland": true,
           "subunitcolor": "white"
          },
          "hoverlabel": {
           "align": "left"
          },
          "hovermode": "closest",
          "mapbox": {
           "style": "light"
          },
          "paper_bgcolor": "white",
          "plot_bgcolor": "#E5ECF6",
          "polar": {
           "angularaxis": {
            "gridcolor": "white",
            "linecolor": "white",
            "ticks": ""
           },
           "bgcolor": "#E5ECF6",
           "radialaxis": {
            "gridcolor": "white",
            "linecolor": "white",
            "ticks": ""
           }
          },
          "scene": {
           "xaxis": {
            "backgroundcolor": "#E5ECF6",
            "gridcolor": "white",
            "gridwidth": 2,
            "linecolor": "white",
            "showbackground": true,
            "ticks": "",
            "zerolinecolor": "white"
           },
           "yaxis": {
            "backgroundcolor": "#E5ECF6",
            "gridcolor": "white",
            "gridwidth": 2,
            "linecolor": "white",
            "showbackground": true,
            "ticks": "",
            "zerolinecolor": "white"
           },
           "zaxis": {
            "backgroundcolor": "#E5ECF6",
            "gridcolor": "white",
            "gridwidth": 2,
            "linecolor": "white",
            "showbackground": true,
            "ticks": "",
            "zerolinecolor": "white"
           }
          },
          "shapedefaults": {
           "line": {
            "color": "#2a3f5f"
           }
          },
          "ternary": {
           "aaxis": {
            "gridcolor": "white",
            "linecolor": "white",
            "ticks": ""
           },
           "baxis": {
            "gridcolor": "white",
            "linecolor": "white",
            "ticks": ""
           },
           "bgcolor": "#E5ECF6",
           "caxis": {
            "gridcolor": "white",
            "linecolor": "white",
            "ticks": ""
           }
          },
          "title": {
           "x": 0.05
          },
          "xaxis": {
           "automargin": true,
           "gridcolor": "white",
           "linecolor": "white",
           "ticks": "",
           "title": {
            "standoff": 15
           },
           "zerolinecolor": "white",
           "zerolinewidth": 2
          },
          "yaxis": {
           "automargin": true,
           "gridcolor": "white",
           "linecolor": "white",
           "ticks": "",
           "title": {
            "standoff": 15
           },
           "zerolinecolor": "white",
           "zerolinewidth": 2
          }
         }
        },
        "xaxis": {
         "anchor": "y",
         "categoryarray": [
          "pos",
          "neg"
         ],
         "categoryorder": "array",
         "domain": [
          0,
          1
         ],
         "title": {
          "text": "polarity"
         }
        },
        "yaxis": {
         "anchor": "x",
         "domain": [
          0,
          1
         ],
         "title": {
          "text": "count"
         }
        }
       }
      },
      "text/html": [
       "<div>                            <div id=\"d34a6e3e-e22e-4a31-b7b3-42d8f5a5879e\" class=\"plotly-graph-div\" style=\"height:525px; width:100%;\"></div>            <script type=\"text/javascript\">                require([\"plotly\"], function(Plotly) {                    window.PLOTLYENV=window.PLOTLYENV || {};                                    if (document.getElementById(\"d34a6e3e-e22e-4a31-b7b3-42d8f5a5879e\")) {                    Plotly.newPlot(                        \"d34a6e3e-e22e-4a31-b7b3-42d8f5a5879e\",                        [{\"alignmentgroup\":\"True\",\"bingroup\":\"x\",\"hovertemplate\":\"polarity=%{x}<br>count=%{y}<extra></extra>\",\"legendgroup\":\"pos\",\"marker\":{\"color\":\"#636efa\",\"pattern\":{\"shape\":\"\"}},\"name\":\"pos\",\"offsetgroup\":\"pos\",\"orientation\":\"v\",\"showlegend\":true,\"x\":[\"pos\",\"pos\",\"pos\",\"pos\",\"pos\",\"pos\",\"pos\",\"pos\",\"pos\",\"pos\",\"pos\",\"pos\",\"pos\",\"pos\",\"pos\",\"pos\",\"pos\",\"pos\",\"pos\",\"pos\",\"pos\",\"pos\",\"pos\",\"pos\",\"pos\",\"pos\",\"pos\",\"pos\",\"pos\",\"pos\",\"pos\",\"pos\",\"pos\",\"pos\",\"pos\",\"pos\",\"pos\",\"pos\",\"pos\",\"pos\",\"pos\",\"pos\",\"pos\",\"pos\",\"pos\",\"pos\",\"pos\",\"pos\",\"pos\",\"pos\",\"pos\",\"pos\",\"pos\",\"pos\",\"pos\",\"pos\",\"pos\",\"pos\",\"pos\",\"pos\",\"pos\",\"pos\",\"pos\",\"pos\",\"pos\",\"pos\",\"pos\",\"pos\",\"pos\",\"pos\",\"pos\",\"pos\",\"pos\",\"pos\",\"pos\",\"pos\",\"pos\",\"pos\",\"pos\",\"pos\",\"pos\",\"pos\",\"pos\",\"pos\",\"pos\",\"pos\",\"pos\",\"pos\",\"pos\",\"pos\",\"pos\",\"pos\",\"pos\",\"pos\",\"pos\",\"pos\",\"pos\",\"pos\",\"pos\",\"pos\",\"pos\",\"pos\",\"pos\",\"pos\",\"pos\",\"pos\",\"pos\",\"pos\",\"pos\",\"pos\",\"pos\",\"pos\",\"pos\",\"pos\",\"pos\",\"pos\",\"pos\",\"pos\",\"pos\",\"pos\",\"pos\",\"pos\",\"pos\",\"pos\",\"pos\",\"pos\",\"pos\",\"pos\",\"pos\",\"pos\",\"pos\",\"pos\",\"pos\",\"pos\",\"pos\",\"pos\",\"pos\",\"pos\",\"pos\",\"pos\",\"pos\",\"pos\",\"pos\",\"pos\",\"pos\",\"pos\",\"pos\",\"pos\",\"pos\",\"pos\",\"pos\",\"pos\",\"pos\",\"pos\",\"pos\",\"pos\",\"pos\",\"pos\",\"pos\",\"pos\",\"pos\",\"pos\",\"pos\",\"pos\",\"pos\",\"pos\",\"pos\",\"pos\",\"pos\",\"pos\",\"pos\",\"pos\",\"pos\",\"pos\",\"pos\",\"pos\",\"pos\",\"pos\",\"pos\",\"pos\",\"pos\",\"pos\",\"pos\",\"pos\",\"pos\",\"pos\",\"pos\",\"pos\",\"pos\",\"pos\",\"pos\",\"pos\",\"pos\",\"pos\",\"pos\",\"pos\",\"pos\",\"pos\",\"pos\",\"pos\",\"pos\",\"pos\",\"pos\",\"pos\",\"pos\",\"pos\",\"pos\",\"pos\",\"pos\",\"pos\",\"pos\",\"pos\",\"pos\",\"pos\",\"pos\",\"pos\",\"pos\",\"pos\",\"pos\",\"pos\",\"pos\",\"pos\",\"pos\",\"pos\",\"pos\",\"pos\",\"pos\",\"pos\",\"pos\",\"pos\",\"pos\",\"pos\",\"pos\",\"pos\",\"pos\",\"pos\",\"pos\",\"pos\",\"pos\",\"pos\",\"pos\",\"pos\",\"pos\",\"pos\",\"pos\",\"pos\",\"pos\",\"pos\",\"pos\",\"pos\",\"pos\",\"pos\",\"pos\",\"pos\",\"pos\",\"pos\",\"pos\",\"pos\",\"pos\",\"pos\",\"pos\",\"pos\",\"pos\",\"pos\",\"pos\",\"pos\",\"pos\",\"pos\",\"pos\",\"pos\",\"pos\",\"pos\",\"pos\",\"pos\",\"pos\",\"pos\",\"pos\",\"pos\",\"pos\",\"pos\",\"pos\",\"pos\",\"pos\",\"pos\",\"pos\",\"pos\",\"pos\",\"pos\",\"pos\",\"pos\",\"pos\",\"pos\",\"pos\",\"pos\",\"pos\",\"pos\",\"pos\",\"pos\",\"pos\",\"pos\",\"pos\",\"pos\",\"pos\",\"pos\",\"pos\",\"pos\",\"pos\",\"pos\",\"pos\",\"pos\",\"pos\",\"pos\",\"pos\",\"pos\",\"pos\",\"pos\",\"pos\",\"pos\",\"pos\",\"pos\",\"pos\",\"pos\",\"pos\",\"pos\",\"pos\",\"pos\",\"pos\",\"pos\",\"pos\",\"pos\",\"pos\",\"pos\",\"pos\",\"pos\",\"pos\",\"pos\",\"pos\",\"pos\",\"pos\",\"pos\",\"pos\",\"pos\",\"pos\",\"pos\",\"pos\",\"pos\",\"pos\",\"pos\",\"pos\",\"pos\",\"pos\",\"pos\",\"pos\",\"pos\",\"pos\",\"pos\",\"pos\",\"pos\",\"pos\",\"pos\",\"pos\",\"pos\",\"pos\",\"pos\",\"pos\",\"pos\",\"pos\",\"pos\",\"pos\",\"pos\",\"pos\",\"pos\",\"pos\",\"pos\",\"pos\",\"pos\",\"pos\",\"pos\",\"pos\",\"pos\",\"pos\",\"pos\",\"pos\",\"pos\",\"pos\",\"pos\",\"pos\",\"pos\",\"pos\",\"pos\",\"pos\",\"pos\",\"pos\",\"pos\",\"pos\",\"pos\",\"pos\",\"pos\",\"pos\",\"pos\",\"pos\",\"pos\",\"pos\",\"pos\",\"pos\",\"pos\",\"pos\",\"pos\",\"pos\",\"pos\",\"pos\",\"pos\",\"pos\",\"pos\",\"pos\",\"pos\",\"pos\",\"pos\",\"pos\",\"pos\",\"pos\",\"pos\",\"pos\",\"pos\",\"pos\",\"pos\",\"pos\",\"pos\",\"pos\",\"pos\",\"pos\",\"pos\",\"pos\",\"pos\",\"pos\",\"pos\",\"pos\",\"pos\",\"pos\",\"pos\",\"pos\",\"pos\",\"pos\",\"pos\",\"pos\",\"pos\",\"pos\",\"pos\",\"pos\",\"pos\",\"pos\",\"pos\",\"pos\",\"pos\",\"pos\",\"pos\",\"pos\",\"pos\",\"pos\",\"pos\",\"pos\",\"pos\",\"pos\",\"pos\",\"pos\",\"pos\",\"pos\",\"pos\",\"pos\",\"pos\",\"pos\",\"pos\",\"pos\",\"pos\",\"pos\",\"pos\",\"pos\",\"pos\",\"pos\",\"pos\",\"pos\",\"pos\",\"pos\",\"pos\",\"pos\",\"pos\",\"pos\",\"pos\",\"pos\",\"pos\",\"pos\",\"pos\",\"pos\",\"pos\",\"pos\",\"pos\",\"pos\",\"pos\",\"pos\",\"pos\",\"pos\",\"pos\",\"pos\",\"pos\",\"pos\",\"pos\",\"pos\",\"pos\",\"pos\",\"pos\",\"pos\",\"pos\",\"pos\",\"pos\",\"pos\",\"pos\",\"pos\",\"pos\",\"pos\",\"pos\",\"pos\",\"pos\",\"pos\",\"pos\",\"pos\",\"pos\",\"pos\",\"pos\",\"pos\",\"pos\",\"pos\",\"pos\",\"pos\",\"pos\",\"pos\",\"pos\",\"pos\",\"pos\",\"pos\",\"pos\",\"pos\",\"pos\",\"pos\",\"pos\",\"pos\",\"pos\",\"pos\",\"pos\",\"pos\",\"pos\",\"pos\",\"pos\",\"pos\",\"pos\",\"pos\",\"pos\",\"pos\",\"pos\",\"pos\",\"pos\",\"pos\",\"pos\",\"pos\",\"pos\",\"pos\",\"pos\",\"pos\",\"pos\",\"pos\",\"pos\",\"pos\",\"pos\",\"pos\",\"pos\",\"pos\",\"pos\",\"pos\",\"pos\",\"pos\",\"pos\",\"pos\",\"pos\",\"pos\",\"pos\",\"pos\",\"pos\",\"pos\",\"pos\",\"pos\",\"pos\",\"pos\",\"pos\",\"pos\",\"pos\",\"pos\",\"pos\",\"pos\",\"pos\",\"pos\",\"pos\",\"pos\",\"pos\",\"pos\",\"pos\",\"pos\",\"pos\",\"pos\",\"pos\",\"pos\",\"pos\",\"pos\",\"pos\",\"pos\",\"pos\",\"pos\",\"pos\",\"pos\",\"pos\",\"pos\",\"pos\",\"pos\",\"pos\",\"pos\",\"pos\",\"pos\",\"pos\",\"pos\",\"pos\",\"pos\",\"pos\",\"pos\",\"pos\",\"pos\",\"pos\",\"pos\",\"pos\",\"pos\",\"pos\",\"pos\",\"pos\",\"pos\",\"pos\",\"pos\",\"pos\",\"pos\",\"pos\",\"pos\",\"pos\",\"pos\",\"pos\",\"pos\",\"pos\",\"pos\",\"pos\",\"pos\",\"pos\",\"pos\",\"pos\",\"pos\",\"pos\",\"pos\",\"pos\",\"pos\",\"pos\",\"pos\",\"pos\",\"pos\",\"pos\",\"pos\",\"pos\",\"pos\",\"pos\",\"pos\",\"pos\",\"pos\",\"pos\",\"pos\",\"pos\",\"pos\",\"pos\",\"pos\",\"pos\",\"pos\",\"pos\",\"pos\",\"pos\",\"pos\",\"pos\",\"pos\",\"pos\",\"pos\",\"pos\",\"pos\",\"pos\",\"pos\",\"pos\",\"pos\",\"pos\",\"pos\",\"pos\",\"pos\",\"pos\",\"pos\",\"pos\",\"pos\",\"pos\",\"pos\",\"pos\",\"pos\",\"pos\",\"pos\",\"pos\",\"pos\",\"pos\",\"pos\",\"pos\",\"pos\",\"pos\",\"pos\",\"pos\",\"pos\",\"pos\",\"pos\",\"pos\",\"pos\",\"pos\",\"pos\",\"pos\",\"pos\",\"pos\",\"pos\",\"pos\",\"pos\",\"pos\",\"pos\",\"pos\",\"pos\",\"pos\",\"pos\",\"pos\",\"pos\",\"pos\",\"pos\",\"pos\",\"pos\",\"pos\",\"pos\",\"pos\",\"pos\",\"pos\",\"pos\",\"pos\",\"pos\",\"pos\",\"pos\",\"pos\",\"pos\",\"pos\",\"pos\",\"pos\",\"pos\",\"pos\",\"pos\",\"pos\",\"pos\",\"pos\",\"pos\",\"pos\",\"pos\",\"pos\",\"pos\",\"pos\",\"pos\",\"pos\",\"pos\",\"pos\",\"pos\",\"pos\",\"pos\",\"pos\",\"pos\",\"pos\",\"pos\",\"pos\",\"pos\",\"pos\",\"pos\",\"pos\",\"pos\",\"pos\",\"pos\",\"pos\",\"pos\",\"pos\",\"pos\",\"pos\",\"pos\",\"pos\",\"pos\",\"pos\",\"pos\",\"pos\",\"pos\",\"pos\",\"pos\",\"pos\",\"pos\",\"pos\",\"pos\",\"pos\",\"pos\",\"pos\",\"pos\",\"pos\",\"pos\",\"pos\",\"pos\",\"pos\",\"pos\",\"pos\",\"pos\",\"pos\",\"pos\",\"pos\",\"pos\",\"pos\",\"pos\",\"pos\",\"pos\",\"pos\",\"pos\",\"pos\",\"pos\",\"pos\",\"pos\",\"pos\",\"pos\",\"pos\",\"pos\",\"pos\",\"pos\",\"pos\",\"pos\",\"pos\",\"pos\",\"pos\",\"pos\",\"pos\",\"pos\",\"pos\",\"pos\",\"pos\",\"pos\",\"pos\",\"pos\",\"pos\",\"pos\",\"pos\",\"pos\",\"pos\",\"pos\",\"pos\",\"pos\",\"pos\",\"pos\",\"pos\",\"pos\",\"pos\",\"pos\",\"pos\",\"pos\",\"pos\",\"pos\",\"pos\",\"pos\",\"pos\",\"pos\",\"pos\",\"pos\",\"pos\",\"pos\",\"pos\",\"pos\",\"pos\",\"pos\",\"pos\",\"pos\",\"pos\",\"pos\",\"pos\",\"pos\",\"pos\",\"pos\",\"pos\",\"pos\",\"pos\",\"pos\",\"pos\",\"pos\",\"pos\",\"pos\",\"pos\",\"pos\",\"pos\",\"pos\",\"pos\",\"pos\",\"pos\",\"pos\",\"pos\",\"pos\",\"pos\",\"pos\",\"pos\",\"pos\",\"pos\",\"pos\",\"pos\",\"pos\",\"pos\",\"pos\",\"pos\",\"pos\",\"pos\",\"pos\",\"pos\",\"pos\",\"pos\",\"pos\",\"pos\",\"pos\",\"pos\",\"pos\",\"pos\",\"pos\",\"pos\",\"pos\",\"pos\",\"pos\",\"pos\",\"pos\",\"pos\",\"pos\",\"pos\",\"pos\",\"pos\",\"pos\",\"pos\",\"pos\",\"pos\",\"pos\",\"pos\",\"pos\",\"pos\",\"pos\",\"pos\",\"pos\",\"pos\",\"pos\",\"pos\",\"pos\",\"pos\",\"pos\",\"pos\",\"pos\",\"pos\",\"pos\",\"pos\",\"pos\",\"pos\",\"pos\",\"pos\",\"pos\",\"pos\",\"pos\",\"pos\",\"pos\",\"pos\",\"pos\",\"pos\",\"pos\",\"pos\",\"pos\",\"pos\",\"pos\",\"pos\",\"pos\",\"pos\",\"pos\",\"pos\",\"pos\",\"pos\",\"pos\",\"pos\",\"pos\",\"pos\",\"pos\",\"pos\",\"pos\",\"pos\",\"pos\",\"pos\",\"pos\",\"pos\",\"pos\",\"pos\",\"pos\",\"pos\",\"pos\",\"pos\",\"pos\",\"pos\",\"pos\",\"pos\",\"pos\",\"pos\",\"pos\",\"pos\",\"pos\",\"pos\",\"pos\",\"pos\",\"pos\",\"pos\",\"pos\",\"pos\",\"pos\",\"pos\",\"pos\",\"pos\",\"pos\",\"pos\",\"pos\",\"pos\",\"pos\",\"pos\",\"pos\",\"pos\",\"pos\",\"pos\",\"pos\",\"pos\",\"pos\",\"pos\",\"pos\",\"pos\",\"pos\",\"pos\",\"pos\",\"pos\",\"pos\",\"pos\",\"pos\",\"pos\",\"pos\",\"pos\",\"pos\",\"pos\",\"pos\",\"pos\",\"pos\",\"pos\",\"pos\",\"pos\",\"pos\",\"pos\",\"pos\",\"pos\",\"pos\",\"pos\",\"pos\",\"pos\",\"pos\",\"pos\",\"pos\",\"pos\",\"pos\",\"pos\",\"pos\",\"pos\",\"pos\",\"pos\",\"pos\",\"pos\",\"pos\",\"pos\",\"pos\",\"pos\",\"pos\",\"pos\",\"pos\",\"pos\",\"pos\",\"pos\",\"pos\",\"pos\",\"pos\",\"pos\",\"pos\",\"pos\",\"pos\",\"pos\",\"pos\",\"pos\",\"pos\",\"pos\",\"pos\",\"pos\",\"pos\",\"pos\",\"pos\",\"pos\",\"pos\",\"pos\",\"pos\",\"pos\",\"pos\",\"pos\",\"pos\",\"pos\",\"pos\",\"pos\",\"pos\",\"pos\",\"pos\",\"pos\",\"pos\",\"pos\",\"pos\",\"pos\",\"pos\",\"pos\",\"pos\",\"pos\",\"pos\",\"pos\",\"pos\",\"pos\",\"pos\",\"pos\",\"pos\",\"pos\",\"pos\",\"pos\",\"pos\",\"pos\",\"pos\",\"pos\",\"pos\",\"pos\",\"pos\",\"pos\",\"pos\",\"pos\",\"pos\",\"pos\",\"pos\",\"pos\",\"pos\",\"pos\",\"pos\",\"pos\",\"pos\",\"pos\",\"pos\",\"pos\",\"pos\",\"pos\",\"pos\",\"pos\",\"pos\",\"pos\",\"pos\",\"pos\",\"pos\",\"pos\",\"pos\",\"pos\",\"pos\",\"pos\",\"pos\",\"pos\",\"pos\",\"pos\",\"pos\",\"pos\",\"pos\",\"pos\",\"pos\",\"pos\",\"pos\",\"pos\",\"pos\",\"pos\",\"pos\",\"pos\",\"pos\",\"pos\",\"pos\",\"pos\",\"pos\",\"pos\",\"pos\",\"pos\",\"pos\",\"pos\",\"pos\",\"pos\",\"pos\",\"pos\",\"pos\",\"pos\",\"pos\",\"pos\",\"pos\",\"pos\",\"pos\",\"pos\",\"pos\",\"pos\",\"pos\",\"pos\",\"pos\",\"pos\",\"pos\",\"pos\",\"pos\",\"pos\",\"pos\",\"pos\",\"pos\",\"pos\",\"pos\",\"pos\",\"pos\",\"pos\",\"pos\",\"pos\",\"pos\",\"pos\",\"pos\",\"pos\",\"pos\",\"pos\",\"pos\",\"pos\",\"pos\",\"pos\",\"pos\",\"pos\",\"pos\",\"pos\",\"pos\",\"pos\",\"pos\",\"pos\",\"pos\",\"pos\",\"pos\",\"pos\",\"pos\",\"pos\",\"pos\",\"pos\",\"pos\",\"pos\",\"pos\",\"pos\",\"pos\",\"pos\",\"pos\",\"pos\",\"pos\",\"pos\",\"pos\",\"pos\",\"pos\",\"pos\",\"pos\",\"pos\",\"pos\",\"pos\",\"pos\",\"pos\",\"pos\",\"pos\",\"pos\",\"pos\",\"pos\",\"pos\",\"pos\",\"pos\",\"pos\",\"pos\",\"pos\",\"pos\",\"pos\",\"pos\",\"pos\",\"pos\",\"pos\",\"pos\",\"pos\",\"pos\",\"pos\",\"pos\",\"pos\",\"pos\",\"pos\",\"pos\",\"pos\",\"pos\",\"pos\",\"pos\",\"pos\",\"pos\",\"pos\",\"pos\",\"pos\",\"pos\",\"pos\",\"pos\",\"pos\",\"pos\",\"pos\",\"pos\",\"pos\",\"pos\",\"pos\",\"pos\",\"pos\",\"pos\",\"pos\",\"pos\",\"pos\",\"pos\",\"pos\",\"pos\",\"pos\",\"pos\",\"pos\",\"pos\",\"pos\",\"pos\",\"pos\",\"pos\",\"pos\",\"pos\",\"pos\",\"pos\",\"pos\",\"pos\",\"pos\",\"pos\",\"pos\",\"pos\",\"pos\",\"pos\",\"pos\",\"pos\",\"pos\",\"pos\",\"pos\",\"pos\",\"pos\",\"pos\",\"pos\",\"pos\",\"pos\",\"pos\",\"pos\",\"pos\",\"pos\",\"pos\",\"pos\",\"pos\",\"pos\",\"pos\",\"pos\",\"pos\",\"pos\",\"pos\",\"pos\",\"pos\",\"pos\",\"pos\",\"pos\",\"pos\",\"pos\",\"pos\",\"pos\",\"pos\",\"pos\",\"pos\",\"pos\",\"pos\",\"pos\",\"pos\",\"pos\",\"pos\",\"pos\",\"pos\",\"pos\",\"pos\",\"pos\",\"pos\",\"pos\",\"pos\",\"pos\",\"pos\",\"pos\",\"pos\",\"pos\",\"pos\",\"pos\",\"pos\",\"pos\",\"pos\",\"pos\",\"pos\",\"pos\",\"pos\",\"pos\",\"pos\",\"pos\",\"pos\",\"pos\",\"pos\",\"pos\",\"pos\",\"pos\",\"pos\",\"pos\",\"pos\",\"pos\",\"pos\",\"pos\",\"pos\",\"pos\",\"pos\",\"pos\",\"pos\",\"pos\",\"pos\",\"pos\",\"pos\",\"pos\",\"pos\",\"pos\",\"pos\",\"pos\",\"pos\",\"pos\",\"pos\",\"pos\",\"pos\",\"pos\",\"pos\",\"pos\",\"pos\",\"pos\",\"pos\",\"pos\",\"pos\",\"pos\",\"pos\",\"pos\",\"pos\",\"pos\",\"pos\",\"pos\",\"pos\",\"pos\",\"pos\",\"pos\",\"pos\",\"pos\",\"pos\",\"pos\",\"pos\",\"pos\",\"pos\",\"pos\",\"pos\",\"pos\",\"pos\",\"pos\",\"pos\",\"pos\",\"pos\",\"pos\",\"pos\",\"pos\",\"pos\",\"pos\",\"pos\",\"pos\",\"pos\",\"pos\",\"pos\",\"pos\",\"pos\",\"pos\",\"pos\",\"pos\",\"pos\",\"pos\",\"pos\",\"pos\",\"pos\",\"pos\",\"pos\",\"pos\",\"pos\",\"pos\",\"pos\",\"pos\",\"pos\",\"pos\",\"pos\",\"pos\",\"pos\",\"pos\",\"pos\",\"pos\",\"pos\",\"pos\",\"pos\",\"pos\",\"pos\",\"pos\",\"pos\",\"pos\",\"pos\",\"pos\",\"pos\",\"pos\",\"pos\",\"pos\",\"pos\",\"pos\",\"pos\",\"pos\",\"pos\",\"pos\",\"pos\",\"pos\",\"pos\",\"pos\",\"pos\",\"pos\",\"pos\",\"pos\",\"pos\",\"pos\",\"pos\",\"pos\",\"pos\",\"pos\",\"pos\",\"pos\",\"pos\",\"pos\",\"pos\",\"pos\",\"pos\",\"pos\",\"pos\",\"pos\",\"pos\",\"pos\",\"pos\",\"pos\",\"pos\",\"pos\",\"pos\",\"pos\",\"pos\",\"pos\",\"pos\",\"pos\",\"pos\",\"pos\",\"pos\",\"pos\",\"pos\",\"pos\",\"pos\",\"pos\",\"pos\",\"pos\",\"pos\",\"pos\",\"pos\",\"pos\",\"pos\",\"pos\",\"pos\",\"pos\",\"pos\",\"pos\",\"pos\",\"pos\",\"pos\",\"pos\",\"pos\",\"pos\",\"pos\",\"pos\",\"pos\",\"pos\",\"pos\",\"pos\",\"pos\",\"pos\",\"pos\",\"pos\",\"pos\",\"pos\",\"pos\",\"pos\",\"pos\",\"pos\",\"pos\",\"pos\",\"pos\",\"pos\",\"pos\",\"pos\",\"pos\",\"pos\",\"pos\",\"pos\",\"pos\",\"pos\",\"pos\",\"pos\",\"pos\",\"pos\",\"pos\",\"pos\",\"pos\",\"pos\",\"pos\",\"pos\",\"pos\",\"pos\",\"pos\",\"pos\",\"pos\",\"pos\",\"pos\",\"pos\",\"pos\",\"pos\",\"pos\",\"pos\",\"pos\",\"pos\",\"pos\",\"pos\",\"pos\",\"pos\",\"pos\",\"pos\",\"pos\",\"pos\",\"pos\",\"pos\",\"pos\",\"pos\",\"pos\",\"pos\",\"pos\",\"pos\",\"pos\",\"pos\",\"pos\",\"pos\",\"pos\",\"pos\",\"pos\",\"pos\",\"pos\",\"pos\",\"pos\",\"pos\",\"pos\",\"pos\",\"pos\",\"pos\",\"pos\",\"pos\",\"pos\",\"pos\",\"pos\",\"pos\",\"pos\",\"pos\",\"pos\",\"pos\",\"pos\",\"pos\",\"pos\",\"pos\",\"pos\",\"pos\",\"pos\",\"pos\",\"pos\",\"pos\",\"pos\",\"pos\",\"pos\",\"pos\",\"pos\",\"pos\",\"pos\",\"pos\",\"pos\",\"pos\",\"pos\",\"pos\",\"pos\",\"pos\",\"pos\",\"pos\",\"pos\",\"pos\",\"pos\",\"pos\",\"pos\",\"pos\",\"pos\",\"pos\",\"pos\",\"pos\",\"pos\",\"pos\",\"pos\",\"pos\",\"pos\",\"pos\",\"pos\",\"pos\",\"pos\",\"pos\",\"pos\",\"pos\",\"pos\",\"pos\",\"pos\",\"pos\",\"pos\",\"pos\",\"pos\",\"pos\",\"pos\",\"pos\",\"pos\",\"pos\",\"pos\",\"pos\",\"pos\",\"pos\",\"pos\",\"pos\",\"pos\",\"pos\",\"pos\",\"pos\",\"pos\",\"pos\",\"pos\",\"pos\",\"pos\",\"pos\",\"pos\",\"pos\",\"pos\",\"pos\",\"pos\",\"pos\",\"pos\",\"pos\",\"pos\",\"pos\",\"pos\",\"pos\",\"pos\",\"pos\",\"pos\",\"pos\",\"pos\",\"pos\",\"pos\",\"pos\",\"pos\",\"pos\",\"pos\",\"pos\",\"pos\",\"pos\",\"pos\",\"pos\",\"pos\",\"pos\",\"pos\",\"pos\",\"pos\",\"pos\",\"pos\",\"pos\",\"pos\",\"pos\",\"pos\",\"pos\",\"pos\",\"pos\",\"pos\",\"pos\",\"pos\",\"pos\",\"pos\",\"pos\",\"pos\",\"pos\",\"pos\",\"pos\",\"pos\",\"pos\",\"pos\",\"pos\",\"pos\",\"pos\",\"pos\",\"pos\",\"pos\",\"pos\",\"pos\",\"pos\",\"pos\",\"pos\",\"pos\",\"pos\",\"pos\",\"pos\",\"pos\",\"pos\",\"pos\",\"pos\",\"pos\",\"pos\",\"pos\",\"pos\",\"pos\",\"pos\",\"pos\",\"pos\",\"pos\",\"pos\",\"pos\",\"pos\",\"pos\",\"pos\",\"pos\",\"pos\",\"pos\",\"pos\",\"pos\",\"pos\",\"pos\",\"pos\",\"pos\",\"pos\",\"pos\",\"pos\",\"pos\",\"pos\",\"pos\",\"pos\",\"pos\",\"pos\",\"pos\",\"pos\",\"pos\",\"pos\",\"pos\",\"pos\",\"pos\",\"pos\",\"pos\",\"pos\",\"pos\",\"pos\",\"pos\",\"pos\",\"pos\",\"pos\",\"pos\",\"pos\",\"pos\",\"pos\",\"pos\",\"pos\",\"pos\",\"pos\",\"pos\",\"pos\",\"pos\",\"pos\",\"pos\",\"pos\",\"pos\",\"pos\",\"pos\",\"pos\",\"pos\",\"pos\",\"pos\",\"pos\",\"pos\",\"pos\",\"pos\",\"pos\",\"pos\",\"pos\",\"pos\",\"pos\",\"pos\",\"pos\",\"pos\",\"pos\",\"pos\",\"pos\",\"pos\",\"pos\",\"pos\",\"pos\",\"pos\",\"pos\",\"pos\",\"pos\",\"pos\",\"pos\",\"pos\",\"pos\",\"pos\",\"pos\",\"pos\",\"pos\",\"pos\",\"pos\",\"pos\",\"pos\",\"pos\",\"pos\",\"pos\",\"pos\",\"pos\",\"pos\",\"pos\",\"pos\",\"pos\",\"pos\",\"pos\",\"pos\",\"pos\",\"pos\",\"pos\",\"pos\",\"pos\",\"pos\",\"pos\",\"pos\",\"pos\",\"pos\",\"pos\",\"pos\",\"pos\",\"pos\",\"pos\",\"pos\",\"pos\",\"pos\",\"pos\",\"pos\",\"pos\",\"pos\",\"pos\",\"pos\",\"pos\",\"pos\",\"pos\",\"pos\",\"pos\",\"pos\",\"pos\",\"pos\",\"pos\",\"pos\",\"pos\",\"pos\",\"pos\",\"pos\",\"pos\",\"pos\",\"pos\",\"pos\",\"pos\",\"pos\",\"pos\",\"pos\",\"pos\",\"pos\",\"pos\",\"pos\",\"pos\",\"pos\",\"pos\",\"pos\",\"pos\",\"pos\",\"pos\",\"pos\",\"pos\",\"pos\",\"pos\",\"pos\",\"pos\",\"pos\",\"pos\",\"pos\",\"pos\",\"pos\",\"pos\",\"pos\",\"pos\",\"pos\",\"pos\",\"pos\",\"pos\",\"pos\",\"pos\",\"pos\",\"pos\",\"pos\",\"pos\",\"pos\",\"pos\",\"pos\",\"pos\",\"pos\",\"pos\",\"pos\",\"pos\",\"pos\",\"pos\",\"pos\",\"pos\",\"pos\",\"pos\",\"pos\",\"pos\",\"pos\",\"pos\",\"pos\",\"pos\",\"pos\",\"pos\",\"pos\",\"pos\",\"pos\",\"pos\",\"pos\",\"pos\",\"pos\",\"pos\",\"pos\",\"pos\",\"pos\",\"pos\",\"pos\",\"pos\",\"pos\",\"pos\",\"pos\",\"pos\",\"pos\",\"pos\",\"pos\",\"pos\",\"pos\",\"pos\",\"pos\",\"pos\",\"pos\",\"pos\",\"pos\",\"pos\",\"pos\",\"pos\",\"pos\",\"pos\",\"pos\",\"pos\",\"pos\",\"pos\",\"pos\",\"pos\",\"pos\",\"pos\",\"pos\",\"pos\",\"pos\",\"pos\",\"pos\",\"pos\",\"pos\",\"pos\",\"pos\",\"pos\",\"pos\",\"pos\",\"pos\",\"pos\",\"pos\",\"pos\",\"pos\",\"pos\",\"pos\",\"pos\",\"pos\",\"pos\",\"pos\",\"pos\",\"pos\",\"pos\",\"pos\",\"pos\",\"pos\",\"pos\",\"pos\",\"pos\",\"pos\",\"pos\",\"pos\",\"pos\",\"pos\",\"pos\",\"pos\",\"pos\",\"pos\",\"pos\",\"pos\",\"pos\",\"pos\",\"pos\",\"pos\",\"pos\",\"pos\",\"pos\",\"pos\",\"pos\",\"pos\",\"pos\",\"pos\",\"pos\",\"pos\",\"pos\",\"pos\",\"pos\",\"pos\",\"pos\",\"pos\",\"pos\",\"pos\",\"pos\",\"pos\",\"pos\",\"pos\",\"pos\",\"pos\",\"pos\",\"pos\",\"pos\",\"pos\",\"pos\",\"pos\",\"pos\",\"pos\",\"pos\",\"pos\",\"pos\",\"pos\",\"pos\",\"pos\",\"pos\",\"pos\",\"pos\",\"pos\",\"pos\",\"pos\",\"pos\",\"pos\",\"pos\",\"pos\",\"pos\",\"pos\",\"pos\",\"pos\",\"pos\",\"pos\",\"pos\",\"pos\",\"pos\",\"pos\",\"pos\",\"pos\",\"pos\",\"pos\",\"pos\",\"pos\",\"pos\",\"pos\",\"pos\",\"pos\",\"pos\",\"pos\",\"pos\",\"pos\",\"pos\",\"pos\",\"pos\",\"pos\",\"pos\",\"pos\",\"pos\",\"pos\",\"pos\",\"pos\",\"pos\",\"pos\",\"pos\",\"pos\",\"pos\",\"pos\",\"pos\",\"pos\",\"pos\",\"pos\",\"pos\",\"pos\",\"pos\",\"pos\",\"pos\",\"pos\",\"pos\",\"pos\",\"pos\",\"pos\",\"pos\",\"pos\",\"pos\",\"pos\",\"pos\",\"pos\",\"pos\",\"pos\",\"pos\",\"pos\",\"pos\",\"pos\",\"pos\",\"pos\",\"pos\",\"pos\",\"pos\",\"pos\",\"pos\",\"pos\",\"pos\",\"pos\",\"pos\",\"pos\",\"pos\",\"pos\",\"pos\",\"pos\",\"pos\",\"pos\",\"pos\",\"pos\",\"pos\",\"pos\",\"pos\",\"pos\",\"pos\",\"pos\",\"pos\",\"pos\",\"pos\",\"pos\",\"pos\",\"pos\",\"pos\",\"pos\",\"pos\",\"pos\",\"pos\",\"pos\",\"pos\",\"pos\",\"pos\",\"pos\",\"pos\",\"pos\",\"pos\",\"pos\",\"pos\",\"pos\",\"pos\",\"pos\",\"pos\",\"pos\",\"pos\",\"pos\",\"pos\",\"pos\",\"pos\",\"pos\",\"pos\",\"pos\",\"pos\",\"pos\",\"pos\",\"pos\",\"pos\",\"pos\",\"pos\",\"pos\",\"pos\",\"pos\",\"pos\",\"pos\",\"pos\",\"pos\",\"pos\",\"pos\",\"pos\",\"pos\",\"pos\",\"pos\",\"pos\",\"pos\",\"pos\",\"pos\",\"pos\",\"pos\",\"pos\",\"pos\",\"pos\",\"pos\",\"pos\",\"pos\",\"pos\",\"pos\",\"pos\",\"pos\",\"pos\",\"pos\",\"pos\",\"pos\",\"pos\",\"pos\",\"pos\",\"pos\",\"pos\",\"pos\",\"pos\",\"pos\",\"pos\",\"pos\",\"pos\",\"pos\",\"pos\",\"pos\",\"pos\",\"pos\",\"pos\",\"pos\",\"pos\",\"pos\",\"pos\",\"pos\",\"pos\",\"pos\",\"pos\",\"pos\",\"pos\",\"pos\",\"pos\",\"pos\",\"pos\",\"pos\",\"pos\",\"pos\",\"pos\",\"pos\",\"pos\",\"pos\",\"pos\",\"pos\",\"pos\",\"pos\",\"pos\",\"pos\",\"pos\",\"pos\",\"pos\",\"pos\",\"pos\",\"pos\",\"pos\",\"pos\",\"pos\",\"pos\",\"pos\",\"pos\",\"pos\",\"pos\",\"pos\",\"pos\",\"pos\",\"pos\",\"pos\",\"pos\",\"pos\",\"pos\",\"pos\",\"pos\",\"pos\",\"pos\",\"pos\",\"pos\",\"pos\",\"pos\",\"pos\",\"pos\",\"pos\",\"pos\",\"pos\",\"pos\",\"pos\",\"pos\",\"pos\",\"pos\",\"pos\",\"pos\",\"pos\",\"pos\",\"pos\",\"pos\",\"pos\",\"pos\",\"pos\",\"pos\",\"pos\",\"pos\",\"pos\",\"pos\",\"pos\",\"pos\",\"pos\",\"pos\",\"pos\",\"pos\",\"pos\",\"pos\",\"pos\",\"pos\",\"pos\",\"pos\",\"pos\",\"pos\",\"pos\",\"pos\",\"pos\",\"pos\",\"pos\",\"pos\",\"pos\",\"pos\",\"pos\",\"pos\",\"pos\",\"pos\",\"pos\",\"pos\",\"pos\",\"pos\",\"pos\",\"pos\",\"pos\",\"pos\",\"pos\",\"pos\",\"pos\",\"pos\",\"pos\",\"pos\",\"pos\",\"pos\",\"pos\",\"pos\",\"pos\",\"pos\",\"pos\",\"pos\",\"pos\",\"pos\",\"pos\",\"pos\",\"pos\",\"pos\",\"pos\",\"pos\",\"pos\",\"pos\",\"pos\",\"pos\",\"pos\",\"pos\",\"pos\",\"pos\",\"pos\",\"pos\",\"pos\",\"pos\",\"pos\",\"pos\",\"pos\",\"pos\",\"pos\",\"pos\",\"pos\",\"pos\",\"pos\",\"pos\",\"pos\",\"pos\",\"pos\",\"pos\",\"pos\",\"pos\",\"pos\",\"pos\",\"pos\",\"pos\",\"pos\",\"pos\",\"pos\",\"pos\",\"pos\",\"pos\",\"pos\",\"pos\",\"pos\",\"pos\",\"pos\",\"pos\",\"pos\",\"pos\",\"pos\",\"pos\",\"pos\",\"pos\",\"pos\",\"pos\",\"pos\",\"pos\",\"pos\",\"pos\",\"pos\",\"pos\",\"pos\",\"pos\",\"pos\"],\"xaxis\":\"x\",\"yaxis\":\"y\",\"type\":\"histogram\"},{\"alignmentgroup\":\"True\",\"bingroup\":\"x\",\"hovertemplate\":\"polarity=%{x}<br>count=%{y}<extra></extra>\",\"legendgroup\":\"neg\",\"marker\":{\"color\":\"#EF553B\",\"pattern\":{\"shape\":\"\"}},\"name\":\"neg\",\"offsetgroup\":\"neg\",\"orientation\":\"v\",\"showlegend\":true,\"x\":[\"neg\",\"neg\",\"neg\",\"neg\",\"neg\",\"neg\",\"neg\",\"neg\",\"neg\",\"neg\",\"neg\",\"neg\",\"neg\",\"neg\",\"neg\",\"neg\",\"neg\",\"neg\",\"neg\",\"neg\",\"neg\",\"neg\",\"neg\",\"neg\",\"neg\",\"neg\",\"neg\",\"neg\",\"neg\",\"neg\",\"neg\",\"neg\",\"neg\",\"neg\",\"neg\",\"neg\",\"neg\",\"neg\",\"neg\",\"neg\",\"neg\",\"neg\",\"neg\",\"neg\",\"neg\",\"neg\",\"neg\",\"neg\",\"neg\",\"neg\",\"neg\",\"neg\",\"neg\",\"neg\",\"neg\",\"neg\",\"neg\",\"neg\",\"neg\",\"neg\",\"neg\",\"neg\",\"neg\",\"neg\",\"neg\",\"neg\",\"neg\",\"neg\",\"neg\",\"neg\",\"neg\",\"neg\",\"neg\",\"neg\",\"neg\",\"neg\",\"neg\",\"neg\",\"neg\",\"neg\",\"neg\",\"neg\",\"neg\",\"neg\",\"neg\",\"neg\",\"neg\",\"neg\",\"neg\",\"neg\",\"neg\",\"neg\",\"neg\",\"neg\",\"neg\",\"neg\",\"neg\",\"neg\",\"neg\",\"neg\",\"neg\",\"neg\",\"neg\",\"neg\",\"neg\",\"neg\",\"neg\",\"neg\",\"neg\",\"neg\",\"neg\",\"neg\",\"neg\",\"neg\",\"neg\",\"neg\",\"neg\",\"neg\",\"neg\",\"neg\",\"neg\",\"neg\",\"neg\",\"neg\",\"neg\",\"neg\",\"neg\",\"neg\",\"neg\",\"neg\",\"neg\",\"neg\",\"neg\",\"neg\",\"neg\",\"neg\",\"neg\",\"neg\",\"neg\",\"neg\",\"neg\",\"neg\",\"neg\",\"neg\",\"neg\",\"neg\",\"neg\",\"neg\",\"neg\",\"neg\",\"neg\",\"neg\",\"neg\",\"neg\",\"neg\",\"neg\",\"neg\",\"neg\",\"neg\",\"neg\",\"neg\",\"neg\",\"neg\",\"neg\",\"neg\",\"neg\",\"neg\",\"neg\",\"neg\",\"neg\",\"neg\",\"neg\",\"neg\",\"neg\",\"neg\",\"neg\",\"neg\",\"neg\",\"neg\",\"neg\",\"neg\",\"neg\",\"neg\",\"neg\",\"neg\",\"neg\",\"neg\",\"neg\",\"neg\",\"neg\",\"neg\",\"neg\",\"neg\",\"neg\",\"neg\",\"neg\",\"neg\",\"neg\",\"neg\",\"neg\",\"neg\",\"neg\",\"neg\",\"neg\",\"neg\",\"neg\",\"neg\",\"neg\",\"neg\",\"neg\",\"neg\",\"neg\",\"neg\",\"neg\",\"neg\",\"neg\",\"neg\",\"neg\",\"neg\",\"neg\",\"neg\",\"neg\",\"neg\",\"neg\",\"neg\",\"neg\",\"neg\",\"neg\",\"neg\",\"neg\",\"neg\",\"neg\",\"neg\",\"neg\",\"neg\",\"neg\",\"neg\",\"neg\",\"neg\",\"neg\",\"neg\",\"neg\",\"neg\",\"neg\",\"neg\",\"neg\",\"neg\",\"neg\",\"neg\",\"neg\",\"neg\",\"neg\",\"neg\",\"neg\",\"neg\",\"neg\",\"neg\",\"neg\",\"neg\",\"neg\",\"neg\",\"neg\",\"neg\",\"neg\",\"neg\",\"neg\",\"neg\",\"neg\",\"neg\",\"neg\",\"neg\",\"neg\",\"neg\",\"neg\",\"neg\",\"neg\",\"neg\",\"neg\",\"neg\",\"neg\",\"neg\",\"neg\",\"neg\",\"neg\",\"neg\",\"neg\",\"neg\",\"neg\",\"neg\",\"neg\",\"neg\",\"neg\",\"neg\",\"neg\",\"neg\",\"neg\",\"neg\",\"neg\",\"neg\",\"neg\",\"neg\",\"neg\",\"neg\",\"neg\",\"neg\",\"neg\",\"neg\",\"neg\",\"neg\",\"neg\",\"neg\",\"neg\",\"neg\",\"neg\",\"neg\",\"neg\",\"neg\",\"neg\",\"neg\",\"neg\",\"neg\",\"neg\",\"neg\",\"neg\",\"neg\",\"neg\",\"neg\",\"neg\",\"neg\",\"neg\",\"neg\",\"neg\",\"neg\",\"neg\",\"neg\",\"neg\",\"neg\",\"neg\",\"neg\",\"neg\",\"neg\",\"neg\",\"neg\",\"neg\",\"neg\",\"neg\",\"neg\",\"neg\",\"neg\",\"neg\",\"neg\",\"neg\",\"neg\",\"neg\",\"neg\",\"neg\",\"neg\",\"neg\",\"neg\",\"neg\",\"neg\",\"neg\",\"neg\",\"neg\",\"neg\",\"neg\",\"neg\",\"neg\",\"neg\",\"neg\",\"neg\",\"neg\",\"neg\",\"neg\",\"neg\",\"neg\",\"neg\",\"neg\",\"neg\",\"neg\",\"neg\",\"neg\",\"neg\",\"neg\",\"neg\",\"neg\",\"neg\",\"neg\",\"neg\",\"neg\",\"neg\",\"neg\",\"neg\",\"neg\",\"neg\",\"neg\",\"neg\",\"neg\",\"neg\",\"neg\",\"neg\",\"neg\",\"neg\",\"neg\",\"neg\",\"neg\",\"neg\",\"neg\",\"neg\",\"neg\",\"neg\",\"neg\",\"neg\",\"neg\",\"neg\",\"neg\",\"neg\",\"neg\",\"neg\",\"neg\",\"neg\",\"neg\",\"neg\",\"neg\",\"neg\",\"neg\",\"neg\",\"neg\",\"neg\",\"neg\",\"neg\",\"neg\",\"neg\",\"neg\",\"neg\",\"neg\",\"neg\",\"neg\",\"neg\",\"neg\",\"neg\",\"neg\",\"neg\",\"neg\",\"neg\",\"neg\",\"neg\",\"neg\",\"neg\",\"neg\",\"neg\",\"neg\",\"neg\",\"neg\",\"neg\",\"neg\",\"neg\",\"neg\",\"neg\",\"neg\",\"neg\",\"neg\",\"neg\",\"neg\",\"neg\",\"neg\",\"neg\",\"neg\",\"neg\",\"neg\",\"neg\",\"neg\",\"neg\",\"neg\",\"neg\",\"neg\",\"neg\",\"neg\",\"neg\",\"neg\",\"neg\",\"neg\",\"neg\",\"neg\",\"neg\",\"neg\",\"neg\",\"neg\",\"neg\",\"neg\",\"neg\",\"neg\",\"neg\",\"neg\",\"neg\",\"neg\",\"neg\",\"neg\",\"neg\",\"neg\",\"neg\",\"neg\",\"neg\",\"neg\",\"neg\",\"neg\",\"neg\",\"neg\",\"neg\",\"neg\",\"neg\",\"neg\",\"neg\",\"neg\",\"neg\",\"neg\",\"neg\",\"neg\",\"neg\",\"neg\",\"neg\",\"neg\",\"neg\",\"neg\",\"neg\",\"neg\",\"neg\",\"neg\",\"neg\",\"neg\",\"neg\",\"neg\",\"neg\",\"neg\",\"neg\",\"neg\",\"neg\",\"neg\",\"neg\",\"neg\",\"neg\",\"neg\",\"neg\",\"neg\",\"neg\",\"neg\",\"neg\",\"neg\",\"neg\",\"neg\",\"neg\",\"neg\",\"neg\",\"neg\",\"neg\",\"neg\",\"neg\",\"neg\",\"neg\",\"neg\",\"neg\",\"neg\",\"neg\",\"neg\",\"neg\",\"neg\",\"neg\",\"neg\",\"neg\",\"neg\",\"neg\",\"neg\",\"neg\",\"neg\",\"neg\",\"neg\",\"neg\",\"neg\",\"neg\",\"neg\",\"neg\",\"neg\",\"neg\",\"neg\",\"neg\",\"neg\",\"neg\",\"neg\",\"neg\",\"neg\",\"neg\",\"neg\",\"neg\",\"neg\",\"neg\",\"neg\",\"neg\",\"neg\",\"neg\",\"neg\",\"neg\",\"neg\",\"neg\",\"neg\",\"neg\",\"neg\",\"neg\",\"neg\",\"neg\",\"neg\",\"neg\",\"neg\",\"neg\",\"neg\",\"neg\",\"neg\",\"neg\",\"neg\",\"neg\",\"neg\",\"neg\",\"neg\",\"neg\",\"neg\",\"neg\",\"neg\",\"neg\",\"neg\",\"neg\",\"neg\",\"neg\",\"neg\",\"neg\",\"neg\",\"neg\",\"neg\",\"neg\",\"neg\",\"neg\",\"neg\",\"neg\",\"neg\",\"neg\",\"neg\",\"neg\",\"neg\",\"neg\",\"neg\",\"neg\",\"neg\",\"neg\",\"neg\",\"neg\",\"neg\",\"neg\",\"neg\",\"neg\",\"neg\"],\"xaxis\":\"x\",\"yaxis\":\"y\",\"type\":\"histogram\"}],                        {\"template\":{\"data\":{\"bar\":[{\"error_x\":{\"color\":\"#2a3f5f\"},\"error_y\":{\"color\":\"#2a3f5f\"},\"marker\":{\"line\":{\"color\":\"#E5ECF6\",\"width\":0.5},\"pattern\":{\"fillmode\":\"overlay\",\"size\":10,\"solidity\":0.2}},\"type\":\"bar\"}],\"barpolar\":[{\"marker\":{\"line\":{\"color\":\"#E5ECF6\",\"width\":0.5},\"pattern\":{\"fillmode\":\"overlay\",\"size\":10,\"solidity\":0.2}},\"type\":\"barpolar\"}],\"carpet\":[{\"aaxis\":{\"endlinecolor\":\"#2a3f5f\",\"gridcolor\":\"white\",\"linecolor\":\"white\",\"minorgridcolor\":\"white\",\"startlinecolor\":\"#2a3f5f\"},\"baxis\":{\"endlinecolor\":\"#2a3f5f\",\"gridcolor\":\"white\",\"linecolor\":\"white\",\"minorgridcolor\":\"white\",\"startlinecolor\":\"#2a3f5f\"},\"type\":\"carpet\"}],\"choropleth\":[{\"colorbar\":{\"outlinewidth\":0,\"ticks\":\"\"},\"type\":\"choropleth\"}],\"contour\":[{\"colorbar\":{\"outlinewidth\":0,\"ticks\":\"\"},\"colorscale\":[[0.0,\"#0d0887\"],[0.1111111111111111,\"#46039f\"],[0.2222222222222222,\"#7201a8\"],[0.3333333333333333,\"#9c179e\"],[0.4444444444444444,\"#bd3786\"],[0.5555555555555556,\"#d8576b\"],[0.6666666666666666,\"#ed7953\"],[0.7777777777777778,\"#fb9f3a\"],[0.8888888888888888,\"#fdca26\"],[1.0,\"#f0f921\"]],\"type\":\"contour\"}],\"contourcarpet\":[{\"colorbar\":{\"outlinewidth\":0,\"ticks\":\"\"},\"type\":\"contourcarpet\"}],\"heatmap\":[{\"colorbar\":{\"outlinewidth\":0,\"ticks\":\"\"},\"colorscale\":[[0.0,\"#0d0887\"],[0.1111111111111111,\"#46039f\"],[0.2222222222222222,\"#7201a8\"],[0.3333333333333333,\"#9c179e\"],[0.4444444444444444,\"#bd3786\"],[0.5555555555555556,\"#d8576b\"],[0.6666666666666666,\"#ed7953\"],[0.7777777777777778,\"#fb9f3a\"],[0.8888888888888888,\"#fdca26\"],[1.0,\"#f0f921\"]],\"type\":\"heatmap\"}],\"heatmapgl\":[{\"colorbar\":{\"outlinewidth\":0,\"ticks\":\"\"},\"colorscale\":[[0.0,\"#0d0887\"],[0.1111111111111111,\"#46039f\"],[0.2222222222222222,\"#7201a8\"],[0.3333333333333333,\"#9c179e\"],[0.4444444444444444,\"#bd3786\"],[0.5555555555555556,\"#d8576b\"],[0.6666666666666666,\"#ed7953\"],[0.7777777777777778,\"#fb9f3a\"],[0.8888888888888888,\"#fdca26\"],[1.0,\"#f0f921\"]],\"type\":\"heatmapgl\"}],\"histogram\":[{\"marker\":{\"pattern\":{\"fillmode\":\"overlay\",\"size\":10,\"solidity\":0.2}},\"type\":\"histogram\"}],\"histogram2d\":[{\"colorbar\":{\"outlinewidth\":0,\"ticks\":\"\"},\"colorscale\":[[0.0,\"#0d0887\"],[0.1111111111111111,\"#46039f\"],[0.2222222222222222,\"#7201a8\"],[0.3333333333333333,\"#9c179e\"],[0.4444444444444444,\"#bd3786\"],[0.5555555555555556,\"#d8576b\"],[0.6666666666666666,\"#ed7953\"],[0.7777777777777778,\"#fb9f3a\"],[0.8888888888888888,\"#fdca26\"],[1.0,\"#f0f921\"]],\"type\":\"histogram2d\"}],\"histogram2dcontour\":[{\"colorbar\":{\"outlinewidth\":0,\"ticks\":\"\"},\"colorscale\":[[0.0,\"#0d0887\"],[0.1111111111111111,\"#46039f\"],[0.2222222222222222,\"#7201a8\"],[0.3333333333333333,\"#9c179e\"],[0.4444444444444444,\"#bd3786\"],[0.5555555555555556,\"#d8576b\"],[0.6666666666666666,\"#ed7953\"],[0.7777777777777778,\"#fb9f3a\"],[0.8888888888888888,\"#fdca26\"],[1.0,\"#f0f921\"]],\"type\":\"histogram2dcontour\"}],\"mesh3d\":[{\"colorbar\":{\"outlinewidth\":0,\"ticks\":\"\"},\"type\":\"mesh3d\"}],\"parcoords\":[{\"line\":{\"colorbar\":{\"outlinewidth\":0,\"ticks\":\"\"}},\"type\":\"parcoords\"}],\"pie\":[{\"automargin\":true,\"type\":\"pie\"}],\"scatter\":[{\"marker\":{\"colorbar\":{\"outlinewidth\":0,\"ticks\":\"\"}},\"type\":\"scatter\"}],\"scatter3d\":[{\"line\":{\"colorbar\":{\"outlinewidth\":0,\"ticks\":\"\"}},\"marker\":{\"colorbar\":{\"outlinewidth\":0,\"ticks\":\"\"}},\"type\":\"scatter3d\"}],\"scattercarpet\":[{\"marker\":{\"colorbar\":{\"outlinewidth\":0,\"ticks\":\"\"}},\"type\":\"scattercarpet\"}],\"scattergeo\":[{\"marker\":{\"colorbar\":{\"outlinewidth\":0,\"ticks\":\"\"}},\"type\":\"scattergeo\"}],\"scattergl\":[{\"marker\":{\"colorbar\":{\"outlinewidth\":0,\"ticks\":\"\"}},\"type\":\"scattergl\"}],\"scattermapbox\":[{\"marker\":{\"colorbar\":{\"outlinewidth\":0,\"ticks\":\"\"}},\"type\":\"scattermapbox\"}],\"scatterpolar\":[{\"marker\":{\"colorbar\":{\"outlinewidth\":0,\"ticks\":\"\"}},\"type\":\"scatterpolar\"}],\"scatterpolargl\":[{\"marker\":{\"colorbar\":{\"outlinewidth\":0,\"ticks\":\"\"}},\"type\":\"scatterpolargl\"}],\"scatterternary\":[{\"marker\":{\"colorbar\":{\"outlinewidth\":0,\"ticks\":\"\"}},\"type\":\"scatterternary\"}],\"surface\":[{\"colorbar\":{\"outlinewidth\":0,\"ticks\":\"\"},\"colorscale\":[[0.0,\"#0d0887\"],[0.1111111111111111,\"#46039f\"],[0.2222222222222222,\"#7201a8\"],[0.3333333333333333,\"#9c179e\"],[0.4444444444444444,\"#bd3786\"],[0.5555555555555556,\"#d8576b\"],[0.6666666666666666,\"#ed7953\"],[0.7777777777777778,\"#fb9f3a\"],[0.8888888888888888,\"#fdca26\"],[1.0,\"#f0f921\"]],\"type\":\"surface\"}],\"table\":[{\"cells\":{\"fill\":{\"color\":\"#EBF0F8\"},\"line\":{\"color\":\"white\"}},\"header\":{\"fill\":{\"color\":\"#C8D4E3\"},\"line\":{\"color\":\"white\"}},\"type\":\"table\"}]},\"layout\":{\"annotationdefaults\":{\"arrowcolor\":\"#2a3f5f\",\"arrowhead\":0,\"arrowwidth\":1},\"autotypenumbers\":\"strict\",\"coloraxis\":{\"colorbar\":{\"outlinewidth\":0,\"ticks\":\"\"}},\"colorscale\":{\"diverging\":[[0,\"#8e0152\"],[0.1,\"#c51b7d\"],[0.2,\"#de77ae\"],[0.3,\"#f1b6da\"],[0.4,\"#fde0ef\"],[0.5,\"#f7f7f7\"],[0.6,\"#e6f5d0\"],[0.7,\"#b8e186\"],[0.8,\"#7fbc41\"],[0.9,\"#4d9221\"],[1,\"#276419\"]],\"sequential\":[[0.0,\"#0d0887\"],[0.1111111111111111,\"#46039f\"],[0.2222222222222222,\"#7201a8\"],[0.3333333333333333,\"#9c179e\"],[0.4444444444444444,\"#bd3786\"],[0.5555555555555556,\"#d8576b\"],[0.6666666666666666,\"#ed7953\"],[0.7777777777777778,\"#fb9f3a\"],[0.8888888888888888,\"#fdca26\"],[1.0,\"#f0f921\"]],\"sequentialminus\":[[0.0,\"#0d0887\"],[0.1111111111111111,\"#46039f\"],[0.2222222222222222,\"#7201a8\"],[0.3333333333333333,\"#9c179e\"],[0.4444444444444444,\"#bd3786\"],[0.5555555555555556,\"#d8576b\"],[0.6666666666666666,\"#ed7953\"],[0.7777777777777778,\"#fb9f3a\"],[0.8888888888888888,\"#fdca26\"],[1.0,\"#f0f921\"]]},\"colorway\":[\"#636efa\",\"#EF553B\",\"#00cc96\",\"#ab63fa\",\"#FFA15A\",\"#19d3f3\",\"#FF6692\",\"#B6E880\",\"#FF97FF\",\"#FECB52\"],\"font\":{\"color\":\"#2a3f5f\"},\"geo\":{\"bgcolor\":\"white\",\"lakecolor\":\"white\",\"landcolor\":\"#E5ECF6\",\"showlakes\":true,\"showland\":true,\"subunitcolor\":\"white\"},\"hoverlabel\":{\"align\":\"left\"},\"hovermode\":\"closest\",\"mapbox\":{\"style\":\"light\"},\"paper_bgcolor\":\"white\",\"plot_bgcolor\":\"#E5ECF6\",\"polar\":{\"angularaxis\":{\"gridcolor\":\"white\",\"linecolor\":\"white\",\"ticks\":\"\"},\"bgcolor\":\"#E5ECF6\",\"radialaxis\":{\"gridcolor\":\"white\",\"linecolor\":\"white\",\"ticks\":\"\"}},\"scene\":{\"xaxis\":{\"backgroundcolor\":\"#E5ECF6\",\"gridcolor\":\"white\",\"gridwidth\":2,\"linecolor\":\"white\",\"showbackground\":true,\"ticks\":\"\",\"zerolinecolor\":\"white\"},\"yaxis\":{\"backgroundcolor\":\"#E5ECF6\",\"gridcolor\":\"white\",\"gridwidth\":2,\"linecolor\":\"white\",\"showbackground\":true,\"ticks\":\"\",\"zerolinecolor\":\"white\"},\"zaxis\":{\"backgroundcolor\":\"#E5ECF6\",\"gridcolor\":\"white\",\"gridwidth\":2,\"linecolor\":\"white\",\"showbackground\":true,\"ticks\":\"\",\"zerolinecolor\":\"white\"}},\"shapedefaults\":{\"line\":{\"color\":\"#2a3f5f\"}},\"ternary\":{\"aaxis\":{\"gridcolor\":\"white\",\"linecolor\":\"white\",\"ticks\":\"\"},\"baxis\":{\"gridcolor\":\"white\",\"linecolor\":\"white\",\"ticks\":\"\"},\"bgcolor\":\"#E5ECF6\",\"caxis\":{\"gridcolor\":\"white\",\"linecolor\":\"white\",\"ticks\":\"\"}},\"title\":{\"x\":0.05},\"xaxis\":{\"automargin\":true,\"gridcolor\":\"white\",\"linecolor\":\"white\",\"ticks\":\"\",\"title\":{\"standoff\":15},\"zerolinecolor\":\"white\",\"zerolinewidth\":2},\"yaxis\":{\"automargin\":true,\"gridcolor\":\"white\",\"linecolor\":\"white\",\"ticks\":\"\",\"title\":{\"standoff\":15},\"zerolinecolor\":\"white\",\"zerolinewidth\":2}}},\"xaxis\":{\"anchor\":\"y\",\"domain\":[0.0,1.0],\"title\":{\"text\":\"polarity\"},\"categoryorder\":\"array\",\"categoryarray\":[\"pos\",\"neg\"]},\"yaxis\":{\"anchor\":\"x\",\"domain\":[0.0,1.0],\"title\":{\"text\":\"count\"}},\"legend\":{\"title\":{\"text\":\"polarity\"},\"tracegroupgap\":0},\"margin\":{\"t\":60},\"barmode\":\"relative\"},                        {\"responsive\": true}                    ).then(function(){\n",
       "                            \n",
       "var gd = document.getElementById('d34a6e3e-e22e-4a31-b7b3-42d8f5a5879e');\n",
       "var x = new MutationObserver(function (mutations, observer) {{\n",
       "        var display = window.getComputedStyle(gd).display;\n",
       "        if (!display || display === 'none') {{\n",
       "            console.log([gd, 'removed!']);\n",
       "            Plotly.purge(gd);\n",
       "            observer.disconnect();\n",
       "        }}\n",
       "}});\n",
       "\n",
       "// Listen for the removal of the full notebook cells\n",
       "var notebookContainer = gd.closest('#notebook-container');\n",
       "if (notebookContainer) {{\n",
       "    x.observe(notebookContainer, {childList: true});\n",
       "}}\n",
       "\n",
       "// Listen for the clearing of the current output cell\n",
       "var outputEl = gd.closest('.output');\n",
       "if (outputEl) {{\n",
       "    x.observe(outputEl, {childList: true});\n",
       "}}\n",
       "\n",
       "                        })                };                });            </script>        </div>"
      ]
     },
     "metadata": {},
     "output_type": "display_data"
    }
   ],
   "source": [
    "fig=px.histogram(df_en[df_en['subject']>0.5], x='polarity', color='polarity')\n",
    "fig.show()"
   ]
  },
  {
   "cell_type": "markdown",
   "id": "200aacd6",
   "metadata": {},
   "source": [
    "#### Top modeling\n",
    "Topic modeling is a machine learning technique that automatically analyzes text data to determine cluster words for a set of documents. "
   ]
  },
  {
   "cell_type": "code",
   "execution_count": null,
   "id": "08b5605e",
   "metadata": {},
   "outputs": [],
   "source": []
  }
 ],
 "metadata": {
  "kernelspec": {
   "display_name": "Python 3 (ipykernel)",
   "language": "python",
   "name": "python3"
  },
  "language_info": {
   "codemirror_mode": {
    "name": "ipython",
    "version": 3
   },
   "file_extension": ".py",
   "mimetype": "text/x-python",
   "name": "python",
   "nbconvert_exporter": "python",
   "pygments_lexer": "ipython3",
   "version": "3.9.7"
  }
 },
 "nbformat": 4,
 "nbformat_minor": 5
}
