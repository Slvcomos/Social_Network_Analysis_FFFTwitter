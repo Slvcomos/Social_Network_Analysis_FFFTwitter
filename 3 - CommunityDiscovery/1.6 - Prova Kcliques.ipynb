{
 "cells": [
  {
   "cell_type": "code",
   "execution_count": 1,
   "metadata": {
    "id": "pfGT1IJn3ZJ6"
   },
   "outputs": [
    {
     "name": "stdout",
     "output_type": "stream",
     "text": [
      "Note: to be able to use all crisp methods, you need to install some additional packages:  {'wurlitzer', 'graph_tool'}\n",
      "Note: to be able to use all bipartite methods, you need to install some additional packages:  {'wurlitzer'}\n"
     ]
    }
   ],
   "source": [
    "import networkx as nx\n",
    "import pandas as pd\n",
    "import numpy as np\n",
    "import json\n",
    "import cdlib                 # pip install cdlib #\n",
    "from cdlib import evaluation\n",
    "from cdlib import algorithms\n",
    "from cdlib import viz\n",
    "from cdlib import ensemble\n",
    "from cdlib import readwrite\n",
    "import pickle\n",
    "import pquality             # pip install pquality #\n",
    "import matplotlib.pyplot as plt\n",
    "%matplotlib inline\n",
    "from nf1 import NF1"
   ]
  },
  {
   "cell_type": "markdown",
   "metadata": {
    "id": "-rHp7m_E3ZnP"
   },
   "source": [
    "#### Codici utili per tutti gli algortimi "
   ]
  },
  {
   "cell_type": "code",
   "execution_count": 2,
   "metadata": {
    "id": "XL-KOuNYuOCo"
   },
   "outputs": [],
   "source": [
    "#Per plottare le communities per dimensione\n",
    "def plot_communities_dimentions(coms):\n",
    "    myd = {}\n",
    "    for t in coms:\n",
    "        lunghezza = len(t)\n",
    "\n",
    "        if str(lunghezza) in myd:\n",
    "            myd[str(lunghezza)] = myd[str(lunghezza)] + 1\n",
    "        else:\n",
    "            myd[str(lunghezza)] = 1\n",
    "\n",
    "    print(myd)\n",
    "    plt.figure(figsize=(20,5))\n",
    "    plt.bar(myd.keys(), myd.values(), color='b')"
   ]
  },
  {
   "cell_type": "code",
   "execution_count": 3,
   "metadata": {
    "id": "viWlO7dXnwR9"
   },
   "outputs": [],
   "source": [
    "def print_bold_str(s):\n",
    "    return \"\\033[1m\" + s + \"\\033[0m\""
   ]
  },
  {
   "cell_type": "code",
   "execution_count": 4,
   "metadata": {
    "id": "_sAT6Ggq3qQv"
   },
   "outputs": [],
   "source": [
    "#Da utilizzare per i confronti\n",
    "def scatter_plot(sizes, title):\n",
    "    fig = plt.figure(figsize=(16,8), dpi= 150)\n",
    "    ax = fig.add_subplot(111)\n",
    "\n",
    "   \n",
    "    labels = []\n",
    "    for i in sizes:\n",
    "        plt.scatter(i[0], i[1], alpha=0.5)\n",
    "        labels.append(i[2])\n",
    "    \n",
    "    \n",
    "    \n",
    "    fontsize = 15\n",
    "    \n",
    "    #plt.yticks(ticks=y_list, labels=y_list, fontsize=fontsize, alpha=.7)\n",
    "    plt.yticks(fontsize=fontsize, alpha=1)\n",
    "    plt.xticks(fontsize=fontsize, alpha=1)\n",
    "    plt.xlabel(\"Size\", fontsize=fontsize)\n",
    "    plt.ylabel(\"Internal Edge Density\", fontsize=fontsize)\n",
    "    plt.title(title + \" Scatter Plot\", fontsize=fontsize)\n",
    "    plt.legend(labels,fontsize=fontsize)\n",
    "    plt.grid(axis='both', alpha=.3)\n",
    "    plt.xscale(\"log\")\n",
    "    plt.yscale(\"linear\")\n",
    "    \n",
    "    #for i, v in enumerate(df[feature_2].values.tolist()):\n",
    "        #ax.text(i-0.4, v+6, str(v))\n",
    "    \n",
    "    #ax.yaxis.set_major_formatter(FormatStrFormatter('%.6f'))\n",
    "    \n",
    "    # Remove borders\n",
    "    plt.gca().spines[\"top\"].set_alpha(0.0)    \n",
    "    plt.gca().spines[\"bottom\"].set_alpha(0.3)\n",
    "    plt.gca().spines[\"right\"].set_alpha(0.0)    \n",
    "    plt.gca().spines[\"left\"].set_alpha(0.3)   \n",
    "    plt.show()"
   ]
  },
  {
   "cell_type": "markdown",
   "metadata": {
    "id": "4ZNfUn8L7eCM"
   },
   "source": [
    "Importazione dati"
   ]
  },
  {
   "cell_type": "code",
   "execution_count": 5,
   "metadata": {
    "id": "NBlFRnZN7nbt"
   },
   "outputs": [],
   "source": [
    "community_path = \"../Dataset FFF/Community_task/\""
   ]
  },
  {
   "cell_type": "code",
   "execution_count": 6,
   "metadata": {
    "id": "2oh-QTk_GYCd"
   },
   "outputs": [],
   "source": [
    "path = \"../Dataset FFF/\""
   ]
  },
  {
   "cell_type": "code",
   "execution_count": 7,
   "metadata": {},
   "outputs": [],
   "source": [
    "path_graph = '../Dataset FFF/Graph_data/'"
   ]
  },
  {
   "cell_type": "code",
   "execution_count": 8,
   "metadata": {
    "id": "ifhcVjWrlEBh"
   },
   "outputs": [],
   "source": [
    "G = nx.read_graphml(path_graph+'Real_Network.graphml')"
   ]
  },
  {
   "cell_type": "markdown",
   "metadata": {
    "id": "eDH67q6-NRe4"
   },
   "source": [
    "## 6 -  Kcliques"
   ]
  },
  {
   "cell_type": "code",
   "execution_count": 9,
   "metadata": {
    "id": "UqcjCSRZNSZn"
   },
   "outputs": [],
   "source": [
    "import random\n",
    "k = 9000\n",
    "sampled_nodes = random.sample(G.nodes, k)\n",
    "sampled_graph = G.subgraph(sampled_nodes)\n",
    "k_num = ensemble.Parameter(name=\"k\", start=2, end=8, step=1)\n",
    "\n",
    "k_coms, scoring = ensemble.random_search(graph=sampled_graph, method=algorithms.kclique,\n",
    "                                                       parameters=[k_num],\n",
    "                                                       quality_score=evaluation.newman_girvan_modularity,\n",
    "                                                       instances=3, aggregate=max)"
   ]
  },
  {
   "cell_type": "code",
   "execution_count": 10,
   "metadata": {
    "id": "yoD-g35Y_r00"
   },
   "outputs": [],
   "source": [
    "with open('k.pickle', 'wb') as f:\n",
    "    pickle.dump(k_coms, f)"
   ]
  },
  {
   "cell_type": "code",
   "execution_count": 11,
   "metadata": {
    "id": "hxacziHj_r-i"
   },
   "outputs": [],
   "source": [
    "with open('k.pickle', 'rb') as f:\n",
    "    k_coms = pickle.load(f)"
   ]
  },
  {
   "cell_type": "code",
   "execution_count": 12,
   "metadata": {
    "colab": {
     "base_uri": "https://localhost:8080/"
    },
    "id": "LiYYXkV9_sFd",
    "outputId": "92306755-3a35-43c3-d78d-88a5ff22a221"
   },
   "outputs": [
    {
     "name": "stdout",
     "output_type": "stream",
     "text": [
      "\u001b[1mAverage Internal Degree:\u001b[0m FitnessResult(min=4.0, max=17.832857142857144, score=4.908787251395947, std=1.5673438170677974)\n",
      "\u001b[1mInternal Edge Density:\u001b[0m FitnessResult(min=0.004246929541047188, max=1.0, score=0.9924045345493846, std=0.05332754237762838)\n",
      "\u001b[1mConductance:\u001b[0m FitnessResult(min=0.11600788414554983, max=0.998104445076296, score=0.9814553340144405, std=0.08170287053426331)\n",
      "\u001b[1mErdos Renyi Modularity:\u001b[0m FitnessResult(min=None, max=None, score=0.6797130302196109, std=None)\n",
      "\u001b[1mNewman Girvan Modularity:\u001b[0m FitnessResult(min=None, max=None, score=0.06670152882113399, std=None)\n",
      "\u001b[1mModularity Density:\u001b[0m FitnessResult(min=None, max=None, score=-666510.7831607286, std=None)\n",
      "\u001b[1mZ Modularity:\u001b[0m FitnessResult(min=None, max=None, score=nan, std=None)\n"
     ]
    }
   ],
   "source": [
    "print(print_bold_str(\"Average Internal Degree:\"), k_coms.average_internal_degree())\n",
    "print(print_bold_str(\"Internal Edge Density:\"), k_coms.internal_edge_density())\n",
    "print(print_bold_str(\"Conductance:\"), k_coms.conductance())\n",
    "print(print_bold_str(\"Erdos Renyi Modularity:\"), k_coms.erdos_renyi_modularity())\n",
    "print(print_bold_str(\"Newman Girvan Modularity:\"), k_coms.newman_girvan_modularity())\n",
    "print(print_bold_str(\"Modularity Density:\"), k_coms.modularity_density())\n",
    "print(print_bold_str(\"Z Modularity:\"), k_coms.z_modularity())"
   ]
  },
  {
   "cell_type": "code",
   "execution_count": 13,
   "metadata": {
    "colab": {
     "base_uri": "https://localhost:8080/"
    },
    "id": "Eh7kznGo_sIM",
    "outputId": "f873db33-291c-4cba-8a45-8cb7cf0eaf46"
   },
   "outputs": [
    {
     "name": "stdout",
     "output_type": "stream",
     "text": [
      "\u001b[1mN_Community:\u001b[0m 506\n",
      "\u001b[1mMax_Dim_Community:\u001b[0m 4200\n"
     ]
    }
   ],
   "source": [
    "print(print_bold_str(\"N_Community:\"), len(k_coms.communities))\n",
    "\n",
    "max_com_len = 0\n",
    "for com in k_coms.communities:\n",
    "    if len(com) > max_com_len:\n",
    "        max_com_len = len(com)\n",
    "print(print_bold_str(\"Max_Dim_Community:\"), max_com_len)  "
   ]
  },
  {
   "cell_type": "code",
   "execution_count": 14,
   "metadata": {
    "id": "JnpPyfBMAFjo"
   },
   "outputs": [],
   "source": [
    "k_tuple = [tuple(x) for x in k_coms.communities]"
   ]
  },
  {
   "cell_type": "code",
   "execution_count": 17,
   "metadata": {
    "colab": {
     "base_uri": "https://localhost:8080/",
     "height": 326
    },
    "id": "bzk02kyEAFnH",
    "outputId": "15015065-eaa9-490e-efc5-55a28b4c8499"
   },
   "outputs": [
    {
     "name": "stdout",
     "output_type": "stream",
     "text": [
      "{'4200': 1, '21': 1, '14': 2, '13': 3, '12': 3, '11': 4, '10': 7, '9': 9, '8': 28, '7': 60, '6': 95, '5': 293}\n"
     ]
    },
    {
     "data": {
      "image/png": "[encoded data removed]",
      "text/plain": [
       "<Figure size 1440x360 with 1 Axes>"
      ]
     },
     "metadata": {
      "needs_background": "light"
     },
     "output_type": "display_data"
    }
   ],
   "source": [
    "plot_communities_dimentions(k_tuple)"
   ]
  },
  {
   "cell_type": "code",
   "execution_count": 18,
   "metadata": {},
   "outputs": [],
   "source": [
    "def covg_overlap(G, community, name):\n",
    "    print(f'{name} coverage:', community.node_coverage)\n",
    "    print(f'{name} overlap:', community.overlap) \n",
    "    print(f'{name} avg degree:', evaluation.average_internal_degree(G, community))\n",
    "    print(\"*******\")"
   ]
  },
  {
   "cell_type": "code",
   "execution_count": 19,
   "metadata": {
    "colab": {
     "base_uri": "https://localhost:8080/"
    },
    "id": "trF8XqU5AFqb",
    "outputId": "1458fdd6-4d86-41e8-a39e-758acfa0405c"
   },
   "outputs": [
    {
     "name": "stdout",
     "output_type": "stream",
     "text": [
      "K-Cliques coverage: 0.6373333333333333\n",
      "K-Cliques overlap: True\n",
      "K-Cliques avg degree: FitnessResult(min=4.0, max=17.832857142857144, score=4.908787251395947, std=1.5673438170677974)\n",
      "*******\n"
     ]
    }
   ],
   "source": [
    "covg_overlap(sampled_graph, k_coms, \"K-Cliques\")"
   ]
  },
  {
   "cell_type": "code",
   "execution_count": null,
   "metadata": {},
   "outputs": [],
   "source": []
  }
 ],
 "metadata": {
  "colab": {
   "collapsed_sections": [],
   "name": "1 - CommunityDiscovery.ipynb",
   "provenance": []
  },
  "kernelspec": {
   "display_name": "Python 3",
   "language": "python",
   "name": "python3"
  },
  "language_info": {
   "codemirror_mode": {
    "name": "ipython",
    "version": 3
   },
   "file_extension": ".py",
   "mimetype": "text/x-python",
   "name": "python",
   "nbconvert_exporter": "python",
   "pygments_lexer": "ipython3",
   "version": "3.8.8"
  }
 },
 "nbformat": 4,
 "nbformat_minor": 1
}
