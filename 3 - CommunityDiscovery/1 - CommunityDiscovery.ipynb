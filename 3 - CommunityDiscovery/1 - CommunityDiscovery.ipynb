{
 "cells": [
  {
   "cell_type": "markdown",
   "id": "ff841779",
   "metadata": {},
   "source": [
    "Installare le due librerie indicate sotto"
   ]
  },
  {
   "cell_type": "code",
   "execution_count": 77,
   "id": "bd6e8437",
   "metadata": {},
   "outputs": [],
   "source": [
    "import networkx as nx\n",
    "import pandas as pd\n",
    "import numpy as np\n",
    "import json\n",
    "import cdlib                 # pip install cdlib #\n",
    "from cdlib import evaluation\n",
    "from cdlib import algorithms\n",
    "from cdlib import viz\n",
    "from cdlib import ensemble\n",
    "from cdlib import readwrite\n",
    "import pickle\n",
    "import pquality             # pip install pquality #\n",
    "import matplotlib.pyplot as plt\n",
    "%matplotlib inline\n",
    "from nf1 import NF1"
   ]
  },
  {
   "cell_type": "code",
   "execution_count": null,
   "id": "d308067b",
   "metadata": {},
   "outputs": [],
   "source": []
  },
  {
   "cell_type": "code",
   "execution_count": 2,
   "id": "b4092ed2",
   "metadata": {},
   "outputs": [],
   "source": [
    "path = \"../Dataset FFF/\""
   ]
  },
  {
   "cell_type": "code",
   "execution_count": 9,
   "id": "20b6c0d8",
   "metadata": {},
   "outputs": [],
   "source": [
    "path_graph = 'Dataset FFF/Graph_data/'"
   ]
  },
  {
   "cell_type": "code",
   "execution_count": null,
   "id": "66e88b9c",
   "metadata": {},
   "outputs": [],
   "source": []
  },
  {
   "cell_type": "code",
   "execution_count": null,
   "id": "d8345b06",
   "metadata": {},
   "outputs": [],
   "source": [
    "G = nx.read_graphml(path_graph+\"Real_Network.graphml\")"
   ]
  },
  {
   "cell_type": "code",
   "execution_count": null,
   "id": "a4dcbf4c",
   "metadata": {},
   "outputs": [],
   "source": []
  },
  {
   "cell_type": "code",
   "execution_count": 10,
   "id": "9f9e834a",
   "metadata": {},
   "outputs": [],
   "source": [
    "###QUESTO CODICE FUNZIONA\n",
    "\n",
    "G = nx.path_graph(path_graph)\n",
    "nx.write_graphml_lxml(G, \"Real_Network.graphml\")"
   ]
  },
  {
   "cell_type": "code",
   "execution_count": 16,
   "id": "11178b53",
   "metadata": {},
   "outputs": [],
   "source": [
    "community_path = \"../Dataset FFF/Community_task/\""
   ]
  },
  {
   "cell_type": "code",
   "execution_count": 88,
   "id": "059a9a03",
   "metadata": {},
   "outputs": [
    {
     "data": {
      "image/png": "[encoded data removed]",
      "text/plain": [
       "<Figure size 432x288 with 1 Axes>"
      ]
     },
     "metadata": {
      "needs_background": "light"
     },
     "output_type": "display_data"
    }
   ],
   "source": [
    "def scatter_plot(sizes, title):\n",
    "    fig = plt.figure(figsize=(16,8), dpi= 150)\n",
    "    ax = fig.add_subplot(111)\n",
    "    labels = []\n",
    "    for i in sizes:\n",
    "        plt.scatter(i[0], i[1], alpha=0.5)\n",
    "        labels.append(i[2])\n",
    "        fontsize = 15\n",
    "        \n",
    "    #plt.yticks(ticks=y_list, labels=y_list, fontsize=fontsize, alpha=.7)\n",
    "plt.yticks(fontsize=fontsize, alpha=1)\n",
    "plt.xticks(fontsize=fontsize, alpha=1)\n",
    "plt.xlabel(\"Size\", fontsize=fontsize)\n",
    "plt.ylabel(\"Internal Edge Density\", fontsize=fontsize)\n",
    "plt.title(\" Scatter Plot\", fontsize=fontsize)\n",
    "plt.legend(labels, fontsize=fontsize)\n",
    "plt.grid(axis='both', alpha=.3)\n",
    "plt.xscale(\"log\")\n",
    "plt.yscale(\"linear\")\n",
    "    \n",
    "    #for i, v in enumerate(df[feature_2].values.tolist()):\n",
    "        #ax.text(i-0.4, v+6, str(v))\n",
    "    \n",
    "    #ax.yaxis.set_major_formatter(FormatStrFormatter('%.6f'))\n",
    "    \n",
    "    # Remove borders\n",
    "plt.gca().spines[\"top\"].set_alpha(0.0)    \n",
    "plt.gca().spines[\"bottom\"].set_alpha(0.3)\n",
    "plt.gca().spines[\"right\"].set_alpha(0.0)    \n",
    "plt.gca().spines[\"left\"].set_alpha(0.3)   \n",
    "plt.show()"
   ]
  },
  {
   "cell_type": "code",
   "execution_count": 89,
   "id": "69730136",
   "metadata": {},
   "outputs": [],
   "source": [
    "#Per plottare le communities per dimensione\n",
    "def plot_communities_dimentions(coms):\n",
    "    myd = {}\n",
    "    for t in coms:\n",
    "        lunghezza = len(t)\n",
    "\n",
    "        if str(lunghezza) in myd:\n",
    "            myd[str(lunghezza)] = myd[str(lunghezza)] + 1\n",
    "        else:\n",
    "            myd[str(lunghezza)] = 1\n",
    "\n",
    "    print(myd)\n",
    "    plt.figure(figsize=(20,5))\n",
    "    plt.bar(myd.keys(), myd.values(), color='b')"
   ]
  },
  {
   "cell_type": "code",
   "execution_count": 90,
   "id": "514d474b",
   "metadata": {},
   "outputs": [],
   "source": [
    "def print_bold_str(s):\n",
    "    return \"\\033[1m\" + s + \"\\033[0m\""
   ]
  },
  {
   "cell_type": "code",
   "execution_count": null,
   "id": "17fd32c7",
   "metadata": {},
   "outputs": [],
   "source": []
  },
  {
   "cell_type": "markdown",
   "id": "f14e1d41",
   "metadata": {},
   "source": [
    "# 1 - Louvain"
   ]
  },
  {
   "cell_type": "markdown",
   "id": "5a83d872",
   "metadata": {},
   "source": [
    "Parametri ottimizzati con grid_search"
   ]
  },
  {
   "cell_type": "code",
   "execution_count": 66,
   "id": "55df10f0",
   "metadata": {},
   "outputs": [],
   "source": [
    "res_df = {\"randomize\": [], \"resolution\":[], \"AID\": [], \"IED\": [], \"Conductance\":[], \"Modularity\": [], \"N_Community\": [], \"Max_Dim_Community\": []}\n"
   ]
  },
  {
   "cell_type": "code",
   "execution_count": 67,
   "id": "84a6fd40",
   "metadata": {},
   "outputs": [
    {
     "name": "stdout",
     "output_type": "stream",
     "text": [
      "> Louvain opt for resolution = 0.0 and randomize = True\n",
      "************ ------------------ *******\n",
      "> Louvain opt for resolution = 0.1 and randomize = True\n",
      "************ ------------------ *******\n",
      "> Louvain opt for resolution = 0.2 and randomize = True\n",
      "************ ------------------ *******\n",
      "> Louvain opt for resolution = 0.3 and randomize = True\n",
      "************ ------------------ *******\n",
      "> Louvain opt for resolution = 0.4 and randomize = True\n",
      "************ ------------------ *******\n",
      "> Louvain opt for resolution = 0.5 and randomize = True\n",
      "************ ------------------ *******\n",
      "> Louvain opt for resolution = 0.6 and randomize = True\n",
      "************ ------------------ *******\n",
      "> Louvain opt for resolution = 0.7 and randomize = True\n",
      "************ ------------------ *******\n",
      "> Louvain opt for resolution = 0.8 and randomize = True\n",
      "************ ------------------ *******\n",
      "> Louvain opt for resolution = 0.9 and randomize = True\n",
      "************ ------------------ *******\n",
      "> Louvain opt for resolution = 0.0 and randomize = False\n",
      "************ ------------------ *******\n",
      "> Louvain opt for resolution = 0.1 and randomize = False\n",
      "************ ------------------ *******\n",
      "> Louvain opt for resolution = 0.2 and randomize = False\n",
      "************ ------------------ *******\n",
      "> Louvain opt for resolution = 0.3 and randomize = False\n",
      "************ ------------------ *******\n",
      "> Louvain opt for resolution = 0.4 and randomize = False\n",
      "************ ------------------ *******\n",
      "> Louvain opt for resolution = 0.5 and randomize = False\n",
      "************ ------------------ *******\n",
      "> Louvain opt for resolution = 0.6 and randomize = False\n",
      "************ ------------------ *******\n",
      "> Louvain opt for resolution = 0.7 and randomize = False\n",
      "************ ------------------ *******\n",
      "> Louvain opt for resolution = 0.8 and randomize = False\n",
      "************ ------------------ *******\n",
      "> Louvain opt for resolution = 0.9 and randomize = False\n",
      "************ ------------------ *******\n"
     ]
    }
   ],
   "source": [
    "for j in [True, False]:\n",
    "    for i in [x/10 for x in range(0, 10)]:   \n",
    "        print(f\"> Louvain opt for resolution = {i} and randomize = {j}\")\n",
    "        \n",
    "        res_df[\"randomize\"].append(j)\n",
    "        res_df[\"resolution\"].append(i)\n",
    "        \n",
    "        louvain_coms = cdlib.algorithms.louvain(G, weight = \"Count\", resolution=i, randomize=j)\n",
    "        res_df[\"AID\"].append(louvain_coms.average_internal_degree().score)\n",
    "        res_df[\"IED\"].append(louvain_coms.internal_edge_density().score)\n",
    "        res_df[\"Conductance\"].append(louvain_coms.conductance().score)\n",
    "        res_df[\"Modularity\"].append(louvain_coms.newman_girvan_modularity().score)\n",
    "        res_df[\"N_Community\"].append(len(louvain_coms.communities))\n",
    "        max_com_len = 0\n",
    "        for com in louvain_coms.communities:\n",
    "            if len(com) > max_com_len:\n",
    "                max_com_len = len(com)\n",
    "        res_df[\"Max_Dim_Community\"].append(max_com_len)\n",
    "        \n",
    "        print(\"************ ------------------ *******\")\n",
    "final_df = pd.DataFrame(res_df)\n",
    "final_df.to_csv(community_path+\"louvain_grid_result.csv\", index=False)"
   ]
  },
  {
   "cell_type": "code",
   "execution_count": 18,
   "id": "eb8d77a0",
   "metadata": {},
   "outputs": [],
   "source": [
    "final_df = pd.read_csv(community_path+\"louvain_grid_result.csv\")"
   ]
  },
  {
   "cell_type": "code",
   "execution_count": 19,
   "id": "469559b3",
   "metadata": {},
   "outputs": [
    {
     "data": {
      "text/html": [
       "<div>\n",
       "<style scoped>\n",
       "    .dataframe tbody tr th:only-of-type {\n",
       "        vertical-align: middle;\n",
       "    }\n",
       "\n",
       "    .dataframe tbody tr th {\n",
       "        vertical-align: top;\n",
       "    }\n",
       "\n",
       "    .dataframe thead th {\n",
       "        text-align: right;\n",
       "    }\n",
       "</style>\n",
       "<table border=\"1\" class=\"dataframe\">\n",
       "  <thead>\n",
       "    <tr style=\"text-align: right;\">\n",
       "      <th></th>\n",
       "      <th>randomize</th>\n",
       "      <th>resolution</th>\n",
       "      <th>AID</th>\n",
       "      <th>IED</th>\n",
       "      <th>Conductance</th>\n",
       "      <th>Modularity</th>\n",
       "      <th>N_Community</th>\n",
       "      <th>Max_Dim_Community</th>\n",
       "    </tr>\n",
       "  </thead>\n",
       "  <tbody>\n",
       "    <tr>\n",
       "      <th>1</th>\n",
       "      <td>True</td>\n",
       "      <td>0.1</td>\n",
       "      <td>1.222222</td>\n",
       "      <td>0.944444</td>\n",
       "      <td>0.501984</td>\n",
       "      <td>0.313272</td>\n",
       "      <td>6</td>\n",
       "      <td>3</td>\n",
       "    </tr>\n",
       "    <tr>\n",
       "      <th>2</th>\n",
       "      <td>True</td>\n",
       "      <td>0.2</td>\n",
       "      <td>1.400000</td>\n",
       "      <td>1.080000</td>\n",
       "      <td>0.455714</td>\n",
       "      <td>0.331790</td>\n",
       "      <td>5</td>\n",
       "      <td>6</td>\n",
       "    </tr>\n",
       "    <tr>\n",
       "      <th>3</th>\n",
       "      <td>True</td>\n",
       "      <td>0.3</td>\n",
       "      <td>1.400000</td>\n",
       "      <td>0.900000</td>\n",
       "      <td>0.433333</td>\n",
       "      <td>0.337963</td>\n",
       "      <td>5</td>\n",
       "      <td>5</td>\n",
       "    </tr>\n",
       "    <tr>\n",
       "      <th>4</th>\n",
       "      <td>True</td>\n",
       "      <td>0.4</td>\n",
       "      <td>1.625000</td>\n",
       "      <td>0.750000</td>\n",
       "      <td>0.354167</td>\n",
       "      <td>0.368827</td>\n",
       "      <td>4</td>\n",
       "      <td>5</td>\n",
       "    </tr>\n",
       "    <tr>\n",
       "      <th>5</th>\n",
       "      <td>True</td>\n",
       "      <td>0.5</td>\n",
       "      <td>1.222222</td>\n",
       "      <td>0.888889</td>\n",
       "      <td>0.531746</td>\n",
       "      <td>0.313272</td>\n",
       "      <td>6</td>\n",
       "      <td>4</td>\n",
       "    </tr>\n",
       "    <tr>\n",
       "      <th>6</th>\n",
       "      <td>True</td>\n",
       "      <td>0.6</td>\n",
       "      <td>1.466667</td>\n",
       "      <td>1.033333</td>\n",
       "      <td>0.419048</td>\n",
       "      <td>0.347222</td>\n",
       "      <td>5</td>\n",
       "      <td>5</td>\n",
       "    </tr>\n",
       "    <tr>\n",
       "      <th>7</th>\n",
       "      <td>True</td>\n",
       "      <td>0.7</td>\n",
       "      <td>1.666667</td>\n",
       "      <td>0.933333</td>\n",
       "      <td>0.360119</td>\n",
       "      <td>0.365741</td>\n",
       "      <td>4</td>\n",
       "      <td>6</td>\n",
       "    </tr>\n",
       "    <tr>\n",
       "      <th>8</th>\n",
       "      <td>True</td>\n",
       "      <td>0.8</td>\n",
       "      <td>1.833333</td>\n",
       "      <td>0.522222</td>\n",
       "      <td>0.285354</td>\n",
       "      <td>0.368827</td>\n",
       "      <td>3</td>\n",
       "      <td>6</td>\n",
       "    </tr>\n",
       "    <tr>\n",
       "      <th>9</th>\n",
       "      <td>True</td>\n",
       "      <td>0.9</td>\n",
       "      <td>1.708333</td>\n",
       "      <td>0.916667</td>\n",
       "      <td>0.336310</td>\n",
       "      <td>0.378086</td>\n",
       "      <td>4</td>\n",
       "      <td>5</td>\n",
       "    </tr>\n",
       "  </tbody>\n",
       "</table>\n",
       "</div>"
      ],
      "text/plain": [
       "   randomize  resolution       AID       IED  Conductance  Modularity  \\\n",
       "1       True         0.1  1.222222  0.944444     0.501984    0.313272   \n",
       "2       True         0.2  1.400000  1.080000     0.455714    0.331790   \n",
       "3       True         0.3  1.400000  0.900000     0.433333    0.337963   \n",
       "4       True         0.4  1.625000  0.750000     0.354167    0.368827   \n",
       "5       True         0.5  1.222222  0.888889     0.531746    0.313272   \n",
       "6       True         0.6  1.466667  1.033333     0.419048    0.347222   \n",
       "7       True         0.7  1.666667  0.933333     0.360119    0.365741   \n",
       "8       True         0.8  1.833333  0.522222     0.285354    0.368827   \n",
       "9       True         0.9  1.708333  0.916667     0.336310    0.378086   \n",
       "\n",
       "   N_Community  Max_Dim_Community  \n",
       "1            6                  3  \n",
       "2            5                  6  \n",
       "3            5                  5  \n",
       "4            4                  5  \n",
       "5            6                  4  \n",
       "6            5                  5  \n",
       "7            4                  6  \n",
       "8            3                  6  \n",
       "9            4                  5  "
      ]
     },
     "execution_count": 19,
     "metadata": {},
     "output_type": "execute_result"
    }
   ],
   "source": [
    "final_df.loc[[1, 2, 3, 4, 5, 6, 7, 8, 9]]"
   ]
  },
  {
   "cell_type": "markdown",
   "id": "cbc0e0f2",
   "metadata": {},
   "source": [
    "Ottimizzazione con randomsearch"
   ]
  },
  {
   "cell_type": "code",
   "execution_count": 20,
   "id": "70fc03d0",
   "metadata": {},
   "outputs": [],
   "source": [
    "resolution = ensemble.Parameter(name=\"resolution\", start=0.1, end=1, step=0.1)\n",
    "parameters = [resolution]"
   ]
  },
  {
   "cell_type": "code",
   "execution_count": 71,
   "id": "a79c49ce",
   "metadata": {},
   "outputs": [],
   "source": [
    "louvain_coms, scoring = ensemble.grid_search(graph=G, method=algorithms.louvain,\n",
    "                                                       parameters=parameters,\n",
    "                                                       quality_score=evaluation.newman_girvan_modularity, aggregate=max)"
   ]
  },
  {
   "cell_type": "code",
   "execution_count": 70,
   "id": "da3991b9",
   "metadata": {},
   "outputs": [
    {
     "name": "stdout",
     "output_type": "stream",
     "text": [
      "Communities:\n",
      " [['D', 'a', '/', 'G', 'r'], ['p', 'h', '_', 'd'], ['t', 's', 'e'], [' ', 'F']] \n",
      "Configuration: {'weight': 'Count', 'resolution': 0.9, 'randomize': False} \n",
      "Scoring: FitnessResult(min=None, max=None, score=0.0, std=None)\n"
     ]
    }
   ],
   "source": [
    "print(\"Communities:\\n %s \\nConfiguration: %s \\nScoring: %s\" %(louvain_coms.communities, louvain_coms.method_parameters, scoring))"
   ]
  },
  {
   "cell_type": "code",
   "execution_count": 23,
   "id": "f3f18596",
   "metadata": {},
   "outputs": [],
   "source": [
    "louvain_coms = cdlib.algorithms.louvain(G, weight = \"Count\", resolution=0.9)"
   ]
  },
  {
   "cell_type": "code",
   "execution_count": 24,
   "id": "caf4ff59",
   "metadata": {},
   "outputs": [],
   "source": [
    "with open(community_path+'louvain.pickle', 'wb') as f:\n",
    "    pickle.dump(louvain_coms, f)"
   ]
  },
  {
   "cell_type": "code",
   "execution_count": 25,
   "id": "354ee5e9",
   "metadata": {},
   "outputs": [
    {
     "name": "stdout",
     "output_type": "stream",
     "text": [
      "\u001b[1mAverage Internal Degree:\u001b[0m FitnessResult(min=1.3333333333333333, max=2.0, score=1.7083333333333333, std=0.2975595178559521)\n",
      "\u001b[1mInternal Edge Density:\u001b[0m FitnessResult(min=0.5, max=2.0, score=0.9166666666666666, std=0.6291528696058959)\n",
      "\u001b[1mConductance:\u001b[0m FitnessResult(min=0.25, max=0.42857142857142855, score=0.3363095238095238, std=0.06320464458808124)\n",
      "\u001b[1mErdos Renyi Modularity:\u001b[0m FitnessResult(min=None, max=None, score=0.44688644688644685, std=None)\n",
      "\u001b[1mNewman Girvan Modularity:\u001b[0m FitnessResult(min=None, max=None, score=0.3780864197530864, std=None)\n",
      "\u001b[1mModularity Density:\u001b[0m FitnessResult(min=None, max=None, score=3.3333333333333335, std=None)\n",
      "\u001b[1mZ Modularity:\u001b[0m FitnessResult(min=None, max=None, score=0.834439431266885, std=None)\n",
      "\u001b[1mTriangle Partecipation Ratio:\u001b[0m FitnessResult(min=0.0, max=0.0, score=0.0, std=0.0)\n",
      "\u001b[1mN_Community:\u001b[0m 4\n",
      "\u001b[1mMax_Dim_Community:\u001b[0m 5\n"
     ]
    }
   ],
   "source": [
    "print(print_bold_str(\"Average Internal Degree:\"), louvain_coms.average_internal_degree())\n",
    "print(print_bold_str(\"Internal Edge Density:\"), louvain_coms.internal_edge_density())\n",
    "print(print_bold_str(\"Conductance:\"), louvain_coms.conductance())\n",
    "print(print_bold_str(\"Erdos Renyi Modularity:\"), louvain_coms.erdos_renyi_modularity())\n",
    "print(print_bold_str(\"Newman Girvan Modularity:\"), louvain_coms.newman_girvan_modularity())\n",
    "print(print_bold_str(\"Modularity Density:\"), louvain_coms.modularity_density())\n",
    "print(print_bold_str(\"Z Modularity:\"), louvain_coms.z_modularity())\n",
    "print(print_bold_str(\"Triangle Partecipation Ratio:\"), louvain_coms.triangle_participation_ratio())\n",
    "\n",
    "print(print_bold_str(\"N_Community:\"), len(louvain_coms.communities))\n",
    "\n",
    "max_com_len = 0\n",
    "for com in louvain_coms.communities:\n",
    "    if len(com) > max_com_len:\n",
    "        max_com_len = len(com)\n",
    "print(print_bold_str(\"Max_Dim_Community:\"), max_com_len)   "
   ]
  },
  {
   "cell_type": "code",
   "execution_count": 26,
   "id": "be5301fd",
   "metadata": {},
   "outputs": [],
   "source": [
    "louvain_tuple = [tuple(x) for x in louvain_coms.communities]\n"
   ]
  },
  {
   "cell_type": "code",
   "execution_count": 27,
   "id": "ce49fea5",
   "metadata": {},
   "outputs": [
    {
     "name": "stdout",
     "output_type": "stream",
     "text": [
      "{'5': 1, '4': 1, '3': 1, '2': 1}\n"
     ]
    },
    {
     "data": {
      "image/png": "[encoded data removed]",
      "text/plain": [
       "<Figure size 1440x360 with 1 Axes>"
      ]
     },
     "metadata": {
      "needs_background": "light"
     },
     "output_type": "display_data"
    }
   ],
   "source": [
    "# Analizziamo la cardinalità delle communities\n",
    "plot_communities_dimentions(louvain_tuple)"
   ]
  },
  {
   "cell_type": "code",
   "execution_count": 28,
   "id": "37263c95",
   "metadata": {},
   "outputs": [
    {
     "data": {
      "text/html": [
       "<div>\n",
       "<style scoped>\n",
       "    .dataframe tbody tr th:only-of-type {\n",
       "        vertical-align: middle;\n",
       "    }\n",
       "\n",
       "    .dataframe tbody tr th {\n",
       "        vertical-align: top;\n",
       "    }\n",
       "\n",
       "    .dataframe thead th {\n",
       "        text-align: right;\n",
       "    }\n",
       "</style>\n",
       "<table border=\"1\" class=\"dataframe\">\n",
       "  <thead>\n",
       "    <tr style=\"text-align: right;\">\n",
       "      <th></th>\n",
       "      <th>min</th>\n",
       "      <th>max</th>\n",
       "      <th>avg</th>\n",
       "      <th>std</th>\n",
       "    </tr>\n",
       "    <tr>\n",
       "      <th>Index</th>\n",
       "      <th></th>\n",
       "      <th></th>\n",
       "      <th></th>\n",
       "      <th></th>\n",
       "    </tr>\n",
       "  </thead>\n",
       "  <tbody>\n",
       "    <tr>\n",
       "      <th>Internal Density</th>\n",
       "      <td>0.500000</td>\n",
       "      <td>2.000000</td>\n",
       "      <td>0.916667</td>\n",
       "      <td>0.629153</td>\n",
       "    </tr>\n",
       "    <tr>\n",
       "      <th>Edges inside</th>\n",
       "      <td>2.000000</td>\n",
       "      <td>5.000000</td>\n",
       "      <td>3.000000</td>\n",
       "      <td>1.224745</td>\n",
       "    </tr>\n",
       "    <tr>\n",
       "      <th>Average Degree</th>\n",
       "      <td>1.333333</td>\n",
       "      <td>2.000000</td>\n",
       "      <td>1.708333</td>\n",
       "      <td>0.297560</td>\n",
       "    </tr>\n",
       "    <tr>\n",
       "      <th>FOMD</th>\n",
       "      <td>0.200000</td>\n",
       "      <td>0.500000</td>\n",
       "      <td>0.383333</td>\n",
       "      <td>0.125831</td>\n",
       "    </tr>\n",
       "    <tr>\n",
       "      <th>TPR</th>\n",
       "      <td>0.000000</td>\n",
       "      <td>0.000000</td>\n",
       "      <td>0.000000</td>\n",
       "      <td>0.000000</td>\n",
       "    </tr>\n",
       "    <tr>\n",
       "      <th>Expansion</th>\n",
       "      <td>0.500000</td>\n",
       "      <td>1.000000</td>\n",
       "      <td>0.875000</td>\n",
       "      <td>0.216506</td>\n",
       "    </tr>\n",
       "    <tr>\n",
       "      <th>Cut Ratio</th>\n",
       "      <td>0.050000</td>\n",
       "      <td>0.111111</td>\n",
       "      <td>0.083838</td>\n",
       "      <td>0.022018</td>\n",
       "    </tr>\n",
       "    <tr>\n",
       "      <th>Conductance</th>\n",
       "      <td>0.250000</td>\n",
       "      <td>0.428571</td>\n",
       "      <td>0.336310</td>\n",
       "      <td>0.063205</td>\n",
       "    </tr>\n",
       "    <tr>\n",
       "      <th>Normalized Cut</th>\n",
       "      <td>0.312500</td>\n",
       "      <td>0.514286</td>\n",
       "      <td>0.428392</td>\n",
       "      <td>0.081407</td>\n",
       "    </tr>\n",
       "    <tr>\n",
       "      <th>Maximum-ODF</th>\n",
       "      <td>1.000000</td>\n",
       "      <td>4.000000</td>\n",
       "      <td>2.000000</td>\n",
       "      <td>1.224745</td>\n",
       "    </tr>\n",
       "    <tr>\n",
       "      <th>Average-ODF</th>\n",
       "      <td>0.500000</td>\n",
       "      <td>1.000000</td>\n",
       "      <td>0.875000</td>\n",
       "      <td>0.216506</td>\n",
       "    </tr>\n",
       "    <tr>\n",
       "      <th>Flake-ODF</th>\n",
       "      <td>0.000000</td>\n",
       "      <td>0.333333</td>\n",
       "      <td>0.133333</td>\n",
       "      <td>0.141421</td>\n",
       "    </tr>\n",
       "  </tbody>\n",
       "</table>\n",
       "</div>"
      ],
      "text/plain": [
       "                       min       max       avg       std\n",
       "Index                                                   \n",
       "Internal Density  0.500000  2.000000  0.916667  0.629153\n",
       "Edges inside      2.000000  5.000000  3.000000  1.224745\n",
       "Average Degree    1.333333  2.000000  1.708333  0.297560\n",
       "FOMD              0.200000  0.500000  0.383333  0.125831\n",
       "TPR               0.000000  0.000000  0.000000  0.000000\n",
       "Expansion         0.500000  1.000000  0.875000  0.216506\n",
       "Cut Ratio         0.050000  0.111111  0.083838  0.022018\n",
       "Conductance       0.250000  0.428571  0.336310  0.063205\n",
       "Normalized Cut    0.312500  0.514286  0.428392  0.081407\n",
       "Maximum-ODF       1.000000  4.000000  2.000000  1.224745\n",
       "Average-ODF       0.500000  1.000000  0.875000  0.216506\n",
       "Flake-ODF         0.000000  0.333333  0.133333  0.141421"
      ]
     },
     "execution_count": 28,
     "metadata": {},
     "output_type": "execute_result"
    }
   ],
   "source": [
    "results = pquality.pquality_summary(G, louvain_tuple)\n",
    "results['Indexes']"
   ]
  },
  {
   "cell_type": "code",
   "execution_count": 29,
   "id": "a318ed24",
   "metadata": {},
   "outputs": [
    {
     "data": {
      "text/html": [
       "<div>\n",
       "<style scoped>\n",
       "    .dataframe tbody tr th:only-of-type {\n",
       "        vertical-align: middle;\n",
       "    }\n",
       "\n",
       "    .dataframe tbody tr th {\n",
       "        vertical-align: top;\n",
       "    }\n",
       "\n",
       "    .dataframe thead th {\n",
       "        text-align: right;\n",
       "    }\n",
       "</style>\n",
       "<table border=\"1\" class=\"dataframe\">\n",
       "  <thead>\n",
       "    <tr style=\"text-align: right;\">\n",
       "      <th></th>\n",
       "      <th>value</th>\n",
       "    </tr>\n",
       "    <tr>\n",
       "      <th>Index</th>\n",
       "      <th></th>\n",
       "    </tr>\n",
       "  </thead>\n",
       "  <tbody>\n",
       "    <tr>\n",
       "      <th>Modularity (no overlap)</th>\n",
       "      <td>0.378086</td>\n",
       "    </tr>\n",
       "  </tbody>\n",
       "</table>\n",
       "</div>"
      ],
      "text/plain": [
       "                            value\n",
       "Index                            \n",
       "Modularity (no overlap)  0.378086"
      ]
     },
     "execution_count": 29,
     "metadata": {},
     "output_type": "execute_result"
    }
   ],
   "source": [
    "results['Modularity']"
   ]
  },
  {
   "cell_type": "markdown",
   "id": "7e092cc6",
   "metadata": {},
   "source": [
    "# 2 - Label Propagation"
   ]
  },
  {
   "cell_type": "code",
   "execution_count": 30,
   "id": "cc8eacb4",
   "metadata": {},
   "outputs": [],
   "source": [
    "labelprop_coms = algorithms.label_propagation(G)"
   ]
  },
  {
   "cell_type": "code",
   "execution_count": 31,
   "id": "4de82b89",
   "metadata": {},
   "outputs": [
    {
     "name": "stdout",
     "output_type": "stream",
     "text": [
      "\u001b[1mAverage Internal Degree:\u001b[0m FitnessResult(min=1.0, max=2.25, score=1.3125, std=0.5412658773652742)\n",
      "\u001b[1mInternal Edge Density:\u001b[0m FitnessResult(min=0.32142857142857145, max=1.0, score=0.8303571428571428, std=0.29383004771257737)\n",
      "\u001b[1mConductance:\u001b[0m FitnessResult(min=0.25, max=0.5, score=0.4375, std=0.10825317547305482)\n",
      "\u001b[1mErdos Renyi Modularity:\u001b[0m FitnessResult(min=None, max=None, score=0.32600732600732596, std=None)\n",
      "\u001b[1mNewman Girvan Modularity:\u001b[0m FitnessResult(min=None, max=None, score=0.1851851851851852, std=None)\n",
      "\u001b[1mModularity Density:\u001b[0m FitnessResult(min=None, max=None, score=1.5, std=None)\n",
      "\u001b[1mZ Modularity:\u001b[0m FitnessResult(min=None, max=None, score=0.37062465833055075, std=None)\n",
      "\u001b[1mTriangle Partecipation Ratio:\u001b[0m FitnessResult(min=0.0, max=0.0, score=0.0, std=0.0)\n",
      "\u001b[1mN_Community:\u001b[0m 4\n",
      "\u001b[1mMax_Dim_Community:\u001b[0m 8\n"
     ]
    }
   ],
   "source": [
    "print(print_bold_str(\"Average Internal Degree:\"), labelprop_coms.average_internal_degree())\n",
    "print(print_bold_str(\"Internal Edge Density:\"), labelprop_coms.internal_edge_density())\n",
    "print(print_bold_str(\"Conductance:\"), labelprop_coms.conductance())\n",
    "print(print_bold_str(\"Erdos Renyi Modularity:\"), labelprop_coms.erdos_renyi_modularity())\n",
    "print(print_bold_str(\"Newman Girvan Modularity:\"), labelprop_coms.newman_girvan_modularity())\n",
    "print(print_bold_str(\"Modularity Density:\"), labelprop_coms.modularity_density())\n",
    "print(print_bold_str(\"Z Modularity:\"), labelprop_coms.z_modularity())\n",
    "print(print_bold_str(\"Triangle Partecipation Ratio:\"), labelprop_coms.triangle_participation_ratio())\n",
    "\n",
    "print(print_bold_str(\"N_Community:\"), len(labelprop_coms.communities))\n",
    "\n",
    "max_com_len = 0\n",
    "for com in labelprop_coms.communities:\n",
    "    if len(com) > max_com_len:\n",
    "        max_com_len = len(com)\n",
    "print(print_bold_str(\"Max_Dim_Community:\"), max_com_len) "
   ]
  },
  {
   "cell_type": "code",
   "execution_count": 32,
   "id": "b1219360",
   "metadata": {},
   "outputs": [],
   "source": [
    "with open(community_path+'labelprop.pickle', 'wb') as f:\n",
    "    pickle.dump(labelprop_coms, f)"
   ]
  },
  {
   "cell_type": "code",
   "execution_count": 33,
   "id": "85f44ec4",
   "metadata": {},
   "outputs": [],
   "source": [
    "labelprop_tuple = [tuple(x) for x in labelprop_coms.communities]"
   ]
  },
  {
   "cell_type": "code",
   "execution_count": 34,
   "id": "d9d201be",
   "metadata": {},
   "outputs": [
    {
     "name": "stdout",
     "output_type": "stream",
     "text": [
      "{'8': 1, '2': 3}\n"
     ]
    },
    {
     "data": {
      "image/png": "[encoded data removed]",
      "text/plain": [
       "<Figure size 1440x360 with 1 Axes>"
      ]
     },
     "metadata": {
      "needs_background": "light"
     },
     "output_type": "display_data"
    }
   ],
   "source": [
    "plot_communities_dimentions(labelprop_tuple)"
   ]
  },
  {
   "cell_type": "code",
   "execution_count": 35,
   "id": "a9881beb",
   "metadata": {},
   "outputs": [
    {
     "data": {
      "text/html": [
       "<div>\n",
       "<style scoped>\n",
       "    .dataframe tbody tr th:only-of-type {\n",
       "        vertical-align: middle;\n",
       "    }\n",
       "\n",
       "    .dataframe tbody tr th {\n",
       "        vertical-align: top;\n",
       "    }\n",
       "\n",
       "    .dataframe thead th {\n",
       "        text-align: right;\n",
       "    }\n",
       "</style>\n",
       "<table border=\"1\" class=\"dataframe\">\n",
       "  <thead>\n",
       "    <tr style=\"text-align: right;\">\n",
       "      <th></th>\n",
       "      <th>min</th>\n",
       "      <th>max</th>\n",
       "      <th>avg</th>\n",
       "      <th>std</th>\n",
       "    </tr>\n",
       "    <tr>\n",
       "      <th>Index</th>\n",
       "      <th></th>\n",
       "      <th></th>\n",
       "      <th></th>\n",
       "      <th></th>\n",
       "    </tr>\n",
       "  </thead>\n",
       "  <tbody>\n",
       "    <tr>\n",
       "      <th>Internal Density</th>\n",
       "      <td>0.321429</td>\n",
       "      <td>1.000000</td>\n",
       "      <td>0.830357</td>\n",
       "      <td>0.293830</td>\n",
       "    </tr>\n",
       "    <tr>\n",
       "      <th>Edges inside</th>\n",
       "      <td>1.000000</td>\n",
       "      <td>9.000000</td>\n",
       "      <td>3.000000</td>\n",
       "      <td>3.464102</td>\n",
       "    </tr>\n",
       "    <tr>\n",
       "      <th>Average Degree</th>\n",
       "      <td>1.000000</td>\n",
       "      <td>2.250000</td>\n",
       "      <td>1.312500</td>\n",
       "      <td>0.541266</td>\n",
       "    </tr>\n",
       "    <tr>\n",
       "      <th>FOMD</th>\n",
       "      <td>0.000000</td>\n",
       "      <td>0.250000</td>\n",
       "      <td>0.062500</td>\n",
       "      <td>0.108253</td>\n",
       "    </tr>\n",
       "    <tr>\n",
       "      <th>TPR</th>\n",
       "      <td>0.000000</td>\n",
       "      <td>0.000000</td>\n",
       "      <td>0.000000</td>\n",
       "      <td>0.000000</td>\n",
       "    </tr>\n",
       "    <tr>\n",
       "      <th>Expansion</th>\n",
       "      <td>0.750000</td>\n",
       "      <td>1.000000</td>\n",
       "      <td>0.937500</td>\n",
       "      <td>0.108253</td>\n",
       "    </tr>\n",
       "    <tr>\n",
       "      <th>Cut Ratio</th>\n",
       "      <td>0.083333</td>\n",
       "      <td>0.125000</td>\n",
       "      <td>0.093750</td>\n",
       "      <td>0.018042</td>\n",
       "    </tr>\n",
       "    <tr>\n",
       "      <th>Conductance</th>\n",
       "      <td>0.250000</td>\n",
       "      <td>0.500000</td>\n",
       "      <td>0.437500</td>\n",
       "      <td>0.108253</td>\n",
       "    </tr>\n",
       "    <tr>\n",
       "      <th>Normalized Cut</th>\n",
       "      <td>0.500000</td>\n",
       "      <td>0.555556</td>\n",
       "      <td>0.541667</td>\n",
       "      <td>0.024056</td>\n",
       "    </tr>\n",
       "    <tr>\n",
       "      <th>Maximum-ODF</th>\n",
       "      <td>1.000000</td>\n",
       "      <td>2.000000</td>\n",
       "      <td>1.250000</td>\n",
       "      <td>0.433013</td>\n",
       "    </tr>\n",
       "    <tr>\n",
       "      <th>Average-ODF</th>\n",
       "      <td>0.750000</td>\n",
       "      <td>1.000000</td>\n",
       "      <td>0.937500</td>\n",
       "      <td>0.108253</td>\n",
       "    </tr>\n",
       "    <tr>\n",
       "      <th>Flake-ODF</th>\n",
       "      <td>0.000000</td>\n",
       "      <td>0.000000</td>\n",
       "      <td>0.000000</td>\n",
       "      <td>0.000000</td>\n",
       "    </tr>\n",
       "  </tbody>\n",
       "</table>\n",
       "</div>"
      ],
      "text/plain": [
       "                       min       max       avg       std\n",
       "Index                                                   \n",
       "Internal Density  0.321429  1.000000  0.830357  0.293830\n",
       "Edges inside      1.000000  9.000000  3.000000  3.464102\n",
       "Average Degree    1.000000  2.250000  1.312500  0.541266\n",
       "FOMD              0.000000  0.250000  0.062500  0.108253\n",
       "TPR               0.000000  0.000000  0.000000  0.000000\n",
       "Expansion         0.750000  1.000000  0.937500  0.108253\n",
       "Cut Ratio         0.083333  0.125000  0.093750  0.018042\n",
       "Conductance       0.250000  0.500000  0.437500  0.108253\n",
       "Normalized Cut    0.500000  0.555556  0.541667  0.024056\n",
       "Maximum-ODF       1.000000  2.000000  1.250000  0.433013\n",
       "Average-ODF       0.750000  1.000000  0.937500  0.108253\n",
       "Flake-ODF         0.000000  0.000000  0.000000  0.000000"
      ]
     },
     "execution_count": 35,
     "metadata": {},
     "output_type": "execute_result"
    }
   ],
   "source": [
    "results = pquality.pquality_summary(G, labelprop_tuple)\n",
    "results['Indexes']"
   ]
  },
  {
   "cell_type": "code",
   "execution_count": 36,
   "id": "702573b8",
   "metadata": {},
   "outputs": [
    {
     "data": {
      "text/html": [
       "<div>\n",
       "<style scoped>\n",
       "    .dataframe tbody tr th:only-of-type {\n",
       "        vertical-align: middle;\n",
       "    }\n",
       "\n",
       "    .dataframe tbody tr th {\n",
       "        vertical-align: top;\n",
       "    }\n",
       "\n",
       "    .dataframe thead th {\n",
       "        text-align: right;\n",
       "    }\n",
       "</style>\n",
       "<table border=\"1\" class=\"dataframe\">\n",
       "  <thead>\n",
       "    <tr style=\"text-align: right;\">\n",
       "      <th></th>\n",
       "      <th>value</th>\n",
       "    </tr>\n",
       "    <tr>\n",
       "      <th>Index</th>\n",
       "      <th></th>\n",
       "    </tr>\n",
       "  </thead>\n",
       "  <tbody>\n",
       "    <tr>\n",
       "      <th>Modularity (no overlap)</th>\n",
       "      <td>0.185185</td>\n",
       "    </tr>\n",
       "  </tbody>\n",
       "</table>\n",
       "</div>"
      ],
      "text/plain": [
       "                            value\n",
       "Index                            \n",
       "Modularity (no overlap)  0.185185"
      ]
     },
     "execution_count": 36,
     "metadata": {},
     "output_type": "execute_result"
    }
   ],
   "source": [
    "results['Modularity']"
   ]
  },
  {
   "cell_type": "code",
   "execution_count": 37,
   "id": "9354b7a6",
   "metadata": {},
   "outputs": [],
   "source": [
    "eps = ensemble.Parameter(name=\"epsilon\", start=0.1, end=0.6, step=0.1)\n",
    "size = ensemble.Parameter(name=\"min_com_size\", start=3, end=5,step=1)"
   ]
  },
  {
   "cell_type": "code",
   "execution_count": 38,
   "id": "8a1bf3a6",
   "metadata": {},
   "outputs": [
    {
     "name": "stdout",
     "output_type": "stream",
     "text": [
      "Communities:\n",
      " [] \n",
      "Configuration: {'epsilon': 0.30000000000000004, 'min_com_size': 3} \n",
      "Scoring: FitnessResult(min=None, max=None, score=0.0, std=None)\n"
     ]
    }
   ],
   "source": [
    "coms_demon, scoring = ensemble.random_search(graph=G, method=algorithms.demon,\n",
    "                                                       parameters=[eps, size],\n",
    "                                                       quality_score=evaluation.newman_girvan_modularity,\n",
    "                                                        aggregate=max)\n",
    "\n",
    "print(\"Communities:\\n %s \\nConfiguration: %s \\nScoring: %s\" %(coms_demon.communities, coms_demon.method_parameters, scoring))"
   ]
  },
  {
   "cell_type": "code",
   "execution_count": 91,
   "id": "8781edc4",
   "metadata": {},
   "outputs": [
    {
     "ename": "ValueError",
     "evalue": "min() arg is an empty sequence",
     "output_type": "error",
     "traceback": [
      "\u001b[1;31m---------------------------------------------------------------------------\u001b[0m",
      "\u001b[1;31mValueError\u001b[0m                                Traceback (most recent call last)",
      "\u001b[1;32m<ipython-input-91-250ec24556b1>\u001b[0m in \u001b[0;36m<module>\u001b[1;34m\u001b[0m\n\u001b[1;32m----> 1\u001b[1;33m \u001b[0mprint\u001b[0m\u001b[1;33m(\u001b[0m\u001b[0mprint_bold_str\u001b[0m\u001b[1;33m(\u001b[0m\u001b[1;34m\"Average Internal Degree:\"\u001b[0m\u001b[1;33m)\u001b[0m\u001b[1;33m,\u001b[0m \u001b[0mcoms_demon\u001b[0m\u001b[1;33m.\u001b[0m\u001b[0maverage_internal_degree\u001b[0m\u001b[1;33m(\u001b[0m\u001b[1;33m)\u001b[0m\u001b[1;33m)\u001b[0m\u001b[1;33m\u001b[0m\u001b[1;33m\u001b[0m\u001b[0m\n\u001b[0m\u001b[0;32m      2\u001b[0m \u001b[0mprint\u001b[0m\u001b[1;33m(\u001b[0m\u001b[0mprint_bold_str\u001b[0m\u001b[1;33m(\u001b[0m\u001b[1;34m\"Internal Edge Density:\"\u001b[0m\u001b[1;33m)\u001b[0m\u001b[1;33m,\u001b[0m \u001b[0mcoms_demon\u001b[0m\u001b[1;33m.\u001b[0m\u001b[0minternal_edge_density\u001b[0m\u001b[1;33m(\u001b[0m\u001b[1;33m)\u001b[0m\u001b[1;33m)\u001b[0m\u001b[1;33m\u001b[0m\u001b[1;33m\u001b[0m\u001b[0m\n\u001b[0;32m      3\u001b[0m \u001b[0mprint\u001b[0m\u001b[1;33m(\u001b[0m\u001b[0mprint_bold_str\u001b[0m\u001b[1;33m(\u001b[0m\u001b[1;34m\"Conductance:\"\u001b[0m\u001b[1;33m)\u001b[0m\u001b[1;33m,\u001b[0m \u001b[0mcoms_demon\u001b[0m\u001b[1;33m.\u001b[0m\u001b[0mconductance\u001b[0m\u001b[1;33m(\u001b[0m\u001b[1;33m)\u001b[0m\u001b[1;33m)\u001b[0m\u001b[1;33m\u001b[0m\u001b[1;33m\u001b[0m\u001b[0m\n\u001b[0;32m      4\u001b[0m \u001b[0mprint\u001b[0m\u001b[1;33m(\u001b[0m\u001b[0mprint_bold_str\u001b[0m\u001b[1;33m(\u001b[0m\u001b[1;34m\"Erdos Renyi Modularity:\"\u001b[0m\u001b[1;33m)\u001b[0m\u001b[1;33m,\u001b[0m \u001b[0mcoms_demon\u001b[0m\u001b[1;33m.\u001b[0m\u001b[0merdos_renyi_modularity\u001b[0m\u001b[1;33m(\u001b[0m\u001b[1;33m)\u001b[0m\u001b[1;33m)\u001b[0m\u001b[1;33m\u001b[0m\u001b[1;33m\u001b[0m\u001b[0m\n\u001b[0;32m      5\u001b[0m \u001b[0mprint\u001b[0m\u001b[1;33m(\u001b[0m\u001b[0mprint_bold_str\u001b[0m\u001b[1;33m(\u001b[0m\u001b[1;34m\"Newman Girvan Modularity:\"\u001b[0m\u001b[1;33m)\u001b[0m\u001b[1;33m,\u001b[0m \u001b[0mcoms_demon\u001b[0m\u001b[1;33m.\u001b[0m\u001b[0mnewman_girvan_modularity\u001b[0m\u001b[1;33m(\u001b[0m\u001b[1;33m)\u001b[0m\u001b[1;33m)\u001b[0m\u001b[1;33m\u001b[0m\u001b[1;33m\u001b[0m\u001b[0m\n",
      "\u001b[1;32m~\\anaconda3\\lib\\site-packages\\cdlib\\classes\\node_clustering.py\u001b[0m in \u001b[0;36maverage_internal_degree\u001b[1;34m(self, **kwargs)\u001b[0m\n\u001b[0;32m    148\u001b[0m         \"\"\"\n\u001b[0;32m    149\u001b[0m         \u001b[1;32mif\u001b[0m \u001b[0mself\u001b[0m\u001b[1;33m.\u001b[0m\u001b[0m__check_graph\u001b[0m\u001b[1;33m(\u001b[0m\u001b[1;33m)\u001b[0m\u001b[1;33m:\u001b[0m\u001b[1;33m\u001b[0m\u001b[1;33m\u001b[0m\u001b[0m\n\u001b[1;32m--> 150\u001b[1;33m             \u001b[1;32mreturn\u001b[0m \u001b[0mevaluation\u001b[0m\u001b[1;33m.\u001b[0m\u001b[0maverage_internal_degree\u001b[0m\u001b[1;33m(\u001b[0m\u001b[0mself\u001b[0m\u001b[1;33m.\u001b[0m\u001b[0mgraph\u001b[0m\u001b[1;33m,\u001b[0m \u001b[0mself\u001b[0m\u001b[1;33m,\u001b[0m \u001b[1;33m**\u001b[0m\u001b[0mkwargs\u001b[0m\u001b[1;33m)\u001b[0m\u001b[1;33m\u001b[0m\u001b[1;33m\u001b[0m\u001b[0m\n\u001b[0m\u001b[0;32m    151\u001b[0m         \u001b[1;32melse\u001b[0m\u001b[1;33m:\u001b[0m\u001b[1;33m\u001b[0m\u001b[1;33m\u001b[0m\u001b[0m\n\u001b[0;32m    152\u001b[0m             \u001b[1;32mraise\u001b[0m \u001b[0mValueError\u001b[0m\u001b[1;33m(\u001b[0m\u001b[1;34m\"Graph instance not specified\"\u001b[0m\u001b[1;33m)\u001b[0m\u001b[1;33m\u001b[0m\u001b[1;33m\u001b[0m\u001b[0m\n",
      "\u001b[1;32m~\\anaconda3\\lib\\site-packages\\cdlib\\evaluation\\fitness.py\u001b[0m in \u001b[0;36maverage_internal_degree\u001b[1;34m(graph, community, summary)\u001b[0m\n\u001b[0;32m    406\u001b[0m     \u001b[1;32mif\u001b[0m \u001b[0msummary\u001b[0m\u001b[1;33m:\u001b[0m\u001b[1;33m\u001b[0m\u001b[1;33m\u001b[0m\u001b[0m\n\u001b[0;32m    407\u001b[0m         return FitnessResult(\n\u001b[1;32m--> 408\u001b[1;33m             \u001b[0mmin\u001b[0m\u001b[1;33m=\u001b[0m\u001b[0mmin\u001b[0m\u001b[1;33m(\u001b[0m\u001b[0mvalues\u001b[0m\u001b[1;33m)\u001b[0m\u001b[1;33m,\u001b[0m \u001b[0mmax\u001b[0m\u001b[1;33m=\u001b[0m\u001b[0mmax\u001b[0m\u001b[1;33m(\u001b[0m\u001b[0mvalues\u001b[0m\u001b[1;33m)\u001b[0m\u001b[1;33m,\u001b[0m \u001b[0mscore\u001b[0m\u001b[1;33m=\u001b[0m\u001b[0mnp\u001b[0m\u001b[1;33m.\u001b[0m\u001b[0mmean\u001b[0m\u001b[1;33m(\u001b[0m\u001b[0mvalues\u001b[0m\u001b[1;33m)\u001b[0m\u001b[1;33m,\u001b[0m \u001b[0mstd\u001b[0m\u001b[1;33m=\u001b[0m\u001b[0mnp\u001b[0m\u001b[1;33m.\u001b[0m\u001b[0mstd\u001b[0m\u001b[1;33m(\u001b[0m\u001b[0mvalues\u001b[0m\u001b[1;33m)\u001b[0m\u001b[1;33m\u001b[0m\u001b[1;33m\u001b[0m\u001b[0m\n\u001b[0m\u001b[0;32m    409\u001b[0m         )\n\u001b[0;32m    410\u001b[0m     \u001b[1;32mreturn\u001b[0m \u001b[0mvalues\u001b[0m\u001b[1;33m\u001b[0m\u001b[1;33m\u001b[0m\u001b[0m\n",
      "\u001b[1;31mValueError\u001b[0m: min() arg is an empty sequence"
     ]
    }
   ],
   "source": [
    "print(print_bold_str(\"Average Internal Degree:\"), coms_demon.average_internal_degree())\n",
    "print(print_bold_str(\"Internal Edge Density:\"), coms_demon.internal_edge_density())\n",
    "print(print_bold_str(\"Conductance:\"), coms_demon.conductance())\n",
    "print(print_bold_str(\"Erdos Renyi Modularity:\"), coms_demon.erdos_renyi_modularity())\n",
    "print(print_bold_str(\"Newman Girvan Modularity:\"), coms_demon.newman_girvan_modularity())\n",
    "print(print_bold_str(\"Modularity Density:\"), coms_demon.modularity_density())\n",
    "print(print_bold_str(\"Z Modularity:\"), coms_demon.z_modularity())"
   ]
  },
  {
   "cell_type": "code",
   "execution_count": 42,
   "id": "860c6dd6",
   "metadata": {},
   "outputs": [
    {
     "name": "stdout",
     "output_type": "stream",
     "text": [
      "\u001b[1mN_Community:\u001b[0m 0\n",
      "\u001b[1mMax_Dim_Community:\u001b[0m 0\n"
     ]
    }
   ],
   "source": [
    "print(print_bold_str(\"N_Community:\"), len(coms_demon.communities))\n",
    "\n",
    "max_com_len = 0\n",
    "for com in coms_demon.communities:\n",
    "    if len(com) > max_com_len:\n",
    "        max_com_len = len(com)\n",
    "print(print_bold_str(\"Max_Dim_Community:\"), max_com_len)  "
   ]
  },
  {
   "cell_type": "code",
   "execution_count": 43,
   "id": "bb7f3e2f",
   "metadata": {},
   "outputs": [],
   "source": [
    "with open(community_path+'demon.pickle', 'wb') as f:\n",
    "    pickle.dump(coms_demon, f)"
   ]
  },
  {
   "cell_type": "code",
   "execution_count": 44,
   "id": "d4a141d9",
   "metadata": {},
   "outputs": [],
   "source": [
    "demon_tuple = [tuple(x) for x in coms_demon.communities]"
   ]
  },
  {
   "cell_type": "code",
   "execution_count": 45,
   "id": "4bd3e4c8",
   "metadata": {},
   "outputs": [
    {
     "name": "stdout",
     "output_type": "stream",
     "text": [
      "Numero di communities:  0\n"
     ]
    }
   ],
   "source": [
    "print(\"Numero di communities: \", len(demon_tuple))"
   ]
  },
  {
   "cell_type": "code",
   "execution_count": 92,
   "id": "05c4e99a",
   "metadata": {},
   "outputs": [
    {
     "name": "stdout",
     "output_type": "stream",
     "text": [
      "{}\n"
     ]
    },
    {
     "data": {
      "image/png": "[encoded data removed]",
      "text/plain": [
       "<Figure size 1440x360 with 1 Axes>"
      ]
     },
     "metadata": {
      "needs_background": "light"
     },
     "output_type": "display_data"
    }
   ],
   "source": [
    "plot_communities_dimentions(demon_tuple)"
   ]
  },
  {
   "cell_type": "code",
   "execution_count": 47,
   "id": "54aea109",
   "metadata": {},
   "outputs": [
    {
     "ename": "ValueError",
     "evalue": "min() arg is an empty sequence",
     "output_type": "error",
     "traceback": [
      "\u001b[1;31m---------------------------------------------------------------------------\u001b[0m",
      "\u001b[1;31mValueError\u001b[0m                                Traceback (most recent call last)",
      "\u001b[1;32m<ipython-input-47-ea69e6d96832>\u001b[0m in \u001b[0;36m<module>\u001b[1;34m\u001b[0m\n\u001b[1;32m----> 1\u001b[1;33m \u001b[0mresults\u001b[0m \u001b[1;33m=\u001b[0m \u001b[0mpquality\u001b[0m\u001b[1;33m.\u001b[0m\u001b[0mpquality_summary\u001b[0m\u001b[1;33m(\u001b[0m\u001b[0mG\u001b[0m\u001b[1;33m,\u001b[0m \u001b[0mdemon_tuple\u001b[0m\u001b[1;33m)\u001b[0m\u001b[1;33m\u001b[0m\u001b[1;33m\u001b[0m\u001b[0m\n\u001b[0m\u001b[0;32m      2\u001b[0m \u001b[0mresults\u001b[0m\u001b[1;33m[\u001b[0m\u001b[1;34m'Indexes'\u001b[0m\u001b[1;33m]\u001b[0m\u001b[1;33m\u001b[0m\u001b[1;33m\u001b[0m\u001b[0m\n",
      "\u001b[1;32m~\\anaconda3\\lib\\site-packages\\pquality\\PartitionQuality.py\u001b[0m in \u001b[0;36mpquality_summary\u001b[1;34m(graph, partition)\u001b[0m\n\u001b[0;32m    203\u001b[0m \u001b[1;33m\u001b[0m\u001b[0m\n\u001b[0;32m    204\u001b[0m     m1 = [\n\u001b[1;32m--> 205\u001b[1;33m         \u001b[1;33m[\u001b[0m\u001b[1;34m\"Internal Density\"\u001b[0m\u001b[1;33m,\u001b[0m \u001b[0mmin\u001b[0m\u001b[1;33m(\u001b[0m\u001b[0mied\u001b[0m\u001b[1;33m)\u001b[0m\u001b[1;33m,\u001b[0m \u001b[0mmax\u001b[0m\u001b[1;33m(\u001b[0m\u001b[0mied\u001b[0m\u001b[1;33m)\u001b[0m\u001b[1;33m,\u001b[0m \u001b[0mnp\u001b[0m\u001b[1;33m.\u001b[0m\u001b[0mmean\u001b[0m\u001b[1;33m(\u001b[0m\u001b[0mied\u001b[0m\u001b[1;33m)\u001b[0m\u001b[1;33m,\u001b[0m \u001b[0mnp\u001b[0m\u001b[1;33m.\u001b[0m\u001b[0mstd\u001b[0m\u001b[1;33m(\u001b[0m\u001b[0mied\u001b[0m\u001b[1;33m)\u001b[0m\u001b[1;33m]\u001b[0m\u001b[1;33m,\u001b[0m\u001b[1;33m\u001b[0m\u001b[1;33m\u001b[0m\u001b[0m\n\u001b[0m\u001b[0;32m    206\u001b[0m         \u001b[1;33m[\u001b[0m\u001b[1;34m\"Edges inside\"\u001b[0m\u001b[1;33m,\u001b[0m \u001b[0mmin\u001b[0m\u001b[1;33m(\u001b[0m\u001b[0mnedges\u001b[0m\u001b[1;33m)\u001b[0m\u001b[1;33m,\u001b[0m \u001b[0mmax\u001b[0m\u001b[1;33m(\u001b[0m\u001b[0mnedges\u001b[0m\u001b[1;33m)\u001b[0m\u001b[1;33m,\u001b[0m \u001b[0mnp\u001b[0m\u001b[1;33m.\u001b[0m\u001b[0mmean\u001b[0m\u001b[1;33m(\u001b[0m\u001b[0mnedges\u001b[0m\u001b[1;33m)\u001b[0m\u001b[1;33m,\u001b[0m \u001b[0mnp\u001b[0m\u001b[1;33m.\u001b[0m\u001b[0mstd\u001b[0m\u001b[1;33m(\u001b[0m\u001b[0mnedges\u001b[0m\u001b[1;33m)\u001b[0m\u001b[1;33m]\u001b[0m\u001b[1;33m,\u001b[0m\u001b[1;33m\u001b[0m\u001b[1;33m\u001b[0m\u001b[0m\n\u001b[0;32m    207\u001b[0m         \u001b[1;33m[\u001b[0m\u001b[1;34m\"Average Degree\"\u001b[0m\u001b[1;33m,\u001b[0m \u001b[0mmin\u001b[0m\u001b[1;33m(\u001b[0m\u001b[0maid\u001b[0m\u001b[1;33m)\u001b[0m\u001b[1;33m,\u001b[0m \u001b[0mmax\u001b[0m\u001b[1;33m(\u001b[0m\u001b[0maid\u001b[0m\u001b[1;33m)\u001b[0m\u001b[1;33m,\u001b[0m \u001b[0mnp\u001b[0m\u001b[1;33m.\u001b[0m\u001b[0mmean\u001b[0m\u001b[1;33m(\u001b[0m\u001b[0maid\u001b[0m\u001b[1;33m)\u001b[0m\u001b[1;33m,\u001b[0m \u001b[0mnp\u001b[0m\u001b[1;33m.\u001b[0m\u001b[0mstd\u001b[0m\u001b[1;33m(\u001b[0m\u001b[0maid\u001b[0m\u001b[1;33m)\u001b[0m\u001b[1;33m]\u001b[0m\u001b[1;33m,\u001b[0m\u001b[1;33m\u001b[0m\u001b[1;33m\u001b[0m\u001b[0m\n",
      "\u001b[1;31mValueError\u001b[0m: min() arg is an empty sequence"
     ]
    }
   ],
   "source": [
    "results = pquality.pquality_summary(G, demon_tuple)\n",
    "results['Indexes']"
   ]
  },
  {
   "cell_type": "code",
   "execution_count": null,
   "id": "f39b1159",
   "metadata": {},
   "outputs": [],
   "source": [
    "results['Modularity']"
   ]
  },
  {
   "cell_type": "markdown",
   "id": "9e24ba36",
   "metadata": {},
   "source": [
    "# 4 - GM"
   ]
  },
  {
   "cell_type": "code",
   "execution_count": null,
   "id": "7007a823",
   "metadata": {},
   "outputs": [],
   "source": [
    "GM_coms = algorithms.greedy_modularity(G, weight = \"Count\") "
   ]
  },
  {
   "cell_type": "code",
   "execution_count": null,
   "id": "5f989c9c",
   "metadata": {},
   "outputs": [],
   "source": [
    "print(print_bold_str(\"Average Internal Degree:\"), GM_coms.average_internal_degree())\n",
    "print(print_bold_str(\"Internal Edge Density:\"), GM_coms.internal_edge_density())\n",
    "print(print_bold_str(\"Conductance:\"), GM_coms.conductance())\n",
    "print(print_bold_str(\"Erdos Renyi Modularity:\"), GM_coms.erdos_renyi_modularity())\n",
    "print(print_bold_str(\"Newman Girvan Modularity:\"), GM_coms.newman_girvan_modularity())\n",
    "print(print_bold_str(\"Modularity Density:\"), GM_coms.modularity_density())\n",
    "print(print_bold_str(\"Z Modularity:\"), GM_coms.z_modularity())"
   ]
  },
  {
   "cell_type": "code",
   "execution_count": null,
   "id": "7ffbeb84",
   "metadata": {},
   "outputs": [],
   "source": [
    "print(print_bold_str(\"N_Community:\"), len(GM_coms.communities))\n",
    "\n",
    "max_com_len = 0\n",
    "for com in GM_coms.communities:\n",
    "    if len(com) > max_com_len:\n",
    "        max_com_len = len(com)\n",
    "print(print_bold_str(\"Max_Dim_Community:\"), max_com_len)  "
   ]
  },
  {
   "cell_type": "code",
   "execution_count": null,
   "id": "388a628f",
   "metadata": {},
   "outputs": [],
   "source": [
    "with open(community_path+'GM.pickle', 'wb') as f:\n",
    "    pickle.dump(GM_coms, f)"
   ]
  },
  {
   "cell_type": "code",
   "execution_count": null,
   "id": "21683053",
   "metadata": {},
   "outputs": [],
   "source": [
    "GM_tuple = [tuple(x) for x in GM_coms.communities]"
   ]
  },
  {
   "cell_type": "code",
   "execution_count": null,
   "id": "6c951f8d",
   "metadata": {},
   "outputs": [],
   "source": [
    "plot_communities_dimentions(GM_tuple)"
   ]
  },
  {
   "cell_type": "code",
   "execution_count": null,
   "id": "8045e7b2",
   "metadata": {},
   "outputs": [],
   "source": [
    "results = pquality.pquality_summary(G, GM_tuple)\n",
    "results['Indexes']"
   ]
  },
  {
   "cell_type": "code",
   "execution_count": null,
   "id": "c13b6de7",
   "metadata": {},
   "outputs": [],
   "source": [
    "results['Modularity']"
   ]
  },
  {
   "cell_type": "code",
   "execution_count": null,
   "id": "e727dbf9",
   "metadata": {},
   "outputs": [],
   "source": []
  },
  {
   "cell_type": "markdown",
   "id": "2a985e11",
   "metadata": {},
   "source": [
    "# 5 - CONFRONTI"
   ]
  },
  {
   "cell_type": "markdown",
   "id": "07c14e65",
   "metadata": {},
   "source": [
    "1) Lettura"
   ]
  },
  {
   "cell_type": "code",
   "execution_count": 72,
   "id": "5de36fdb",
   "metadata": {},
   "outputs": [
    {
     "ename": "FileNotFoundError",
     "evalue": "[Errno 2] No such file or directory: '../Dataset FFF/Community_task/GM.pickle'",
     "output_type": "error",
     "traceback": [
      "\u001b[1;31m---------------------------------------------------------------------------\u001b[0m",
      "\u001b[1;31mFileNotFoundError\u001b[0m                         Traceback (most recent call last)",
      "\u001b[1;32m<ipython-input-72-c47bf236c2b3>\u001b[0m in \u001b[0;36m<module>\u001b[1;34m\u001b[0m\n\u001b[0;32m      5\u001b[0m \u001b[1;32mwith\u001b[0m \u001b[0mopen\u001b[0m\u001b[1;33m(\u001b[0m\u001b[0mcommunity_path\u001b[0m\u001b[1;33m+\u001b[0m\u001b[1;34m'demon.pickle'\u001b[0m\u001b[1;33m,\u001b[0m \u001b[1;34m'rb'\u001b[0m\u001b[1;33m)\u001b[0m \u001b[1;32mas\u001b[0m \u001b[0mf\u001b[0m\u001b[1;33m:\u001b[0m\u001b[1;33m\u001b[0m\u001b[1;33m\u001b[0m\u001b[0m\n\u001b[0;32m      6\u001b[0m     \u001b[0mdemon_coms\u001b[0m \u001b[1;33m=\u001b[0m \u001b[0mpickle\u001b[0m\u001b[1;33m.\u001b[0m\u001b[0mload\u001b[0m\u001b[1;33m(\u001b[0m\u001b[0mf\u001b[0m\u001b[1;33m)\u001b[0m\u001b[1;33m\u001b[0m\u001b[1;33m\u001b[0m\u001b[0m\n\u001b[1;32m----> 7\u001b[1;33m \u001b[1;32mwith\u001b[0m \u001b[0mopen\u001b[0m\u001b[1;33m(\u001b[0m\u001b[0mcommunity_path\u001b[0m\u001b[1;33m+\u001b[0m\u001b[1;34m'GM.pickle'\u001b[0m\u001b[1;33m,\u001b[0m \u001b[1;34m'rb'\u001b[0m\u001b[1;33m)\u001b[0m \u001b[1;32mas\u001b[0m \u001b[0mf\u001b[0m\u001b[1;33m:\u001b[0m\u001b[1;33m\u001b[0m\u001b[1;33m\u001b[0m\u001b[0m\n\u001b[0m\u001b[0;32m      8\u001b[0m     \u001b[0mGM_coms\u001b[0m \u001b[1;33m=\u001b[0m \u001b[0mpickle\u001b[0m\u001b[1;33m.\u001b[0m\u001b[0mload\u001b[0m\u001b[1;33m(\u001b[0m\u001b[0mf\u001b[0m\u001b[1;33m)\u001b[0m\u001b[1;33m\u001b[0m\u001b[1;33m\u001b[0m\u001b[0m\n",
      "\u001b[1;31mFileNotFoundError\u001b[0m: [Errno 2] No such file or directory: '../Dataset FFF/Community_task/GM.pickle'"
     ]
    }
   ],
   "source": [
    "with open(community_path+'louvain.pickle', 'rb') as f:\n",
    "    louvain_coms = pickle.load(f)\n",
    "with open(community_path+'labelprop.pickle', 'rb') as f:\n",
    "    labelprop_coms = pickle.load(f)\n",
    "with open(community_path+'demon.pickle', 'rb') as f:\n",
    "    demon_coms = pickle.load(f)\n",
    "with open(community_path+'GM.pickle', 'rb') as f:\n",
    "    GM_coms = pickle.load(f)"
   ]
  },
  {
   "cell_type": "code",
   "execution_count": null,
   "id": "b4a5a35f",
   "metadata": {},
   "outputs": [],
   "source": [
    "def covg_overlap(G, community, name):\n",
    "    print(f'{name} coverage:', community.node_coverage)\n",
    "    print(f'{name} overlap:', community.overlap) \n",
    "    print(f'{name} avg degree:', evaluation.average_internal_degree(G, community))\n",
    "    print(\"*******\")"
   ]
  },
  {
   "cell_type": "code",
   "execution_count": null,
   "id": "471d5bbd",
   "metadata": {},
   "outputs": [],
   "source": [
    "covg_overlap(G, louvain_coms, \"Louvain\")\n",
    "covg_overlap(G, labelprop_coms, \"LabelPropagation\")\n",
    "covg_overlap(G, demon_coms, \"Demon\")\n",
    "covg_overlap(G, GM_coms, \"GM\")"
   ]
  },
  {
   "cell_type": "markdown",
   "id": "cccfb3bc",
   "metadata": {},
   "source": [
    "2) Confronti"
   ]
  },
  {
   "cell_type": "markdown",
   "id": "c16891f0",
   "metadata": {},
   "source": [
    "2.1) Size BoxPlot"
   ]
  },
  {
   "cell_type": "code",
   "execution_count": null,
   "id": "9cbf70f0",
   "metadata": {},
   "outputs": [],
   "source": [
    "plot_list = [ np.array(evaluation.size(G,louvain_coms, summary=False)), \n",
    "             np.array(evaluation.size(G,labelprop_coms, summary=False)),\n",
    "             np.array(evaluation.size(G,demon_coms, summary=False)),\n",
    "             np.array(evaluation.size(G,GM_coms, summary=False))]\n",
    "labels = [\"Louvain\", \"Label Propagation\", \"Demon\", \"GM\"]\n",
    "\n",
    "fig = plt.figure(figsize=(16,8), dpi= 300)\n",
    "ax = fig.add_subplot(111)\n",
    "plt.boxplot(plot_list,labels=labels)\n",
    "#plt.boxplot(x)\n",
    "\n",
    "fontsize = 15\n",
    "\n",
    "#plt.yticks(ticks=y_list, labels=y_list, fontsize=fontsize, alpha=.7)\n",
    "plt.yticks(fontsize=fontsize, alpha=1)\n",
    "plt.xticks(fontsize=fontsize, alpha=1)\n",
    "plt.xlabel('Algorithms', fontsize=fontsize)\n",
    "plt.ylabel(\"Size\", fontsize=fontsize)\n",
    "plt.title(\" Size Box Plot\", fontsize=fontsize)\n",
    "#plt.title(name + \" in 24 hours\", fontsize=fontsize)\n",
    "plt.grid(axis='both', alpha=.3)\n",
    "plt.yscale(\"log\")\n",
    "\n",
    "\n",
    "\n",
    "# Remove borders\n",
    "plt.gca().spines[\"top\"].set_alpha(0.0)    \n",
    "plt.gca().spines[\"bottom\"].set_alpha(0.3)\n",
    "plt.gca().spines[\"right\"].set_alpha(0.0)    \n",
    "plt.gca().spines[\"left\"].set_alpha(0.3)   \n",
    "plt.show()"
   ]
  },
  {
   "cell_type": "code",
   "execution_count": null,
   "id": "ee7453b4",
   "metadata": {},
   "outputs": [],
   "source": [
    "edge_density_ = [(np.array(evaluation.size(G,labelprop_coms, summary=False)), \n",
    "                               np.array(evaluation.edges_inside(G,labelprop_coms, summary=False)),\n",
    "                               \"Label Propagation\"),\n",
    "                               (np.array(evaluation.size(G,demon_coms, summary=False)), \n",
    "                                np.array(evaluation.edges_inside(G,demon_coms, summary=False)),\n",
    "                                \"Demon\")]\n",
    "scatter_plot(edge_density_, \"Internal Edge Density vs Size\")"
   ]
  },
  {
   "cell_type": "code",
   "execution_count": null,
   "id": "f5dcb153",
   "metadata": {},
   "outputs": [],
   "source": [
    "edge_density_= [(np.array(evaluation.size(G,louvain_coms, summary=False)), \n",
    "                               np.array(evaluation.edges_inside(G,louvain_coms, summary=False)),\n",
    "                               \"Louvain\"),\n",
    "                               (np.array(evaluation.size(G,demon_coms, summary=False)), \n",
    "                                np.array(evaluation.edges_inside(G,demon_coms, summary=False)),\n",
    "                                \"Demon\")]\n",
    "scatter_plot(edge_density_, \"Internal Edge Density vs Size\")"
   ]
  },
  {
   "cell_type": "code",
   "execution_count": null,
   "id": "be8d2e3a",
   "metadata": {},
   "outputs": [],
   "source": [
    "edge_density_= [(np.array(evaluation.size(G,louvain_coms, summary=False)), \n",
    "                               np.array(evaluation.edges_inside(G,louvain_coms, summary=False)),\n",
    "                               \"Louvain\"),\n",
    "                               (np.array(evaluation.size(G,GM_coms, summary=False)), \n",
    "                                np.array(evaluation.edges_inside(G,GM_coms, summary=False)),\n",
    "                                \"GM\")]\n",
    "scatter_plot(edge_density_, \"Internal Edge Density vs Size\")"
   ]
  },
  {
   "cell_type": "code",
   "execution_count": null,
   "id": "013a0316",
   "metadata": {},
   "outputs": [],
   "source": [
    "edge_density_= [(np.array(evaluation.size(G,demon_coms, summary=False)), \n",
    "                               np.array(evaluation.edges_inside(G,demon_coms, summary=False)),\n",
    "                               \"Demon\"),\n",
    "                               (np.array(evaluation.size(G,GM_coms, summary=False)), \n",
    "                                np.array(evaluation.edges_inside(G,GM_coms, summary=False)),\n",
    "                                \"GM\")]\n",
    "scatter_plot(edge_density_, \"Internal Edge Density vs Size\")"
   ]
  },
  {
   "cell_type": "code",
   "execution_count": null,
   "id": "d2016666",
   "metadata": {},
   "outputs": [],
   "source": [
    "edge_density_= [(np.array(evaluation.size(G,demon_coms, summary=False)), \n",
    "                               np.array(evaluation.edges_inside(G,demon_coms, summary=False)),\n",
    "                               \"Demon\"),\n",
    "                               (np.array(evaluation.size(G,GM_coms, summary=False)), \n",
    "                                np.array(evaluation.edges_inside(G,GM_coms, summary=False)),\n",
    "                                \"GM\")]\n",
    "scatter_plot(edge_density_, \"Internal Edge Density vs Size\")"
   ]
  },
  {
   "cell_type": "code",
   "execution_count": null,
   "id": "1b2a7e79",
   "metadata": {},
   "outputs": [],
   "source": [
    "edge_density_ = [(np.array(evaluation.size(G,labelprop_coms, summary=False)), \n",
    "                               np.array(evaluation.edges_inside(G,labelprop_coms, summary=False)),\n",
    "                               \"Label Propagation\"),\n",
    "                               (np.array(evaluation.size(G,louvain_coms, summary=False)), \n",
    "                                np.array(evaluation.edges_inside(G,louvain_coms, summary=False)),\n",
    "                                \"Louvain\")]\n",
    "scatter_plot(edge_density_, \"Internal Edge Density vs Size\")"
   ]
  },
  {
   "cell_type": "code",
   "execution_count": null,
   "id": "e97cb309",
   "metadata": {},
   "outputs": [],
   "source": [
    "plot_list = [ np.array(evaluation.size(G,louvain_coms, summary=False)), \n",
    "             np.array(evaluation.size(G,labelprop_coms, summary=False)),\n",
    "             np.array(evaluation.size(G,demon_coms, summary=False)),\n",
    "             np.array(evaluation.size(G,GM_coms, summary=False))]"
   ]
  },
  {
   "cell_type": "code",
   "execution_count": null,
   "id": "7bf633a8",
   "metadata": {},
   "outputs": [],
   "source": [
    "(np.array(evaluation.size(G,labelprop_coms, summary=False)), \n",
    "                               np.array(evaluation.edges_inside(G,labelprop_coms, summary=False)),"
   ]
  },
  {
   "cell_type": "code",
   "execution_count": null,
   "id": "c9708842",
   "metadata": {},
   "outputs": [],
   "source": [
    "edge_density_all= [(np.array(evaluation.size(G,labelprop_coms, summary=False)), np.array(evaluation.edges_inside(G,labelprop_coms, summary=False)), \"Label Propagation\"),\n",
    "                       (np.array(evaluation.size(G,louvain_coms, summary=False)), np.array(evaluation.edges_inside(G,louvain_coms, summary=False)), \"Louvain\"),\n",
    "                      (np.array(evaluation.size(G,demon_coms, summary=False)), np.array(evaluation.edges_inside(G,demon_coms, summary=False)), \"Demon\"),\n",
    "                       (np.array(evaluation.size(G,GM_coms, summary=False)), np.array(evaluation.edges_inside(G,GM_coms, summary=False)), \"GM\"),]"
   ]
  },
  {
   "cell_type": "code",
   "execution_count": null,
   "id": "3b171ad0",
   "metadata": {},
   "outputs": [],
   "source": [
    "scatter_plot(edge_density_all, \"Internal Edge Density vs Size\")"
   ]
  },
  {
   "cell_type": "code",
   "execution_count": null,
   "id": "7a6a3b37",
   "metadata": {},
   "outputs": [],
   "source": [
    "avg_deg_all= [(np.array(evaluation.size(G,labelprop_coms, summary=False)), np.array(evaluation.average_internal_degree(G,labelprop_coms, summary=False)), \"Label Propagation\"),\n",
    "                       (np.array(evaluation.size(G,louvain_coms, summary=False)), np.array(evaluation.average_internal_degree(G,louvain_coms, summary=False)), \"Louvain\"),\n",
    "                      (np.array(evaluation.size(G,demon_coms, summary=False)), np.array(evaluation.average_internal_degree(G,demon_coms, summary=False)), \"Demon\"),\n",
    "                       (np.array(evaluation.size(G,GM_coms, summary=False)), np.array(evaluation.average_internal_degree(G,GM_coms, summary=False)), \"GM\"),]\n",
    "scatter_plot(avg_deg_all, \"Average Internal Degree vs Size\")"
   ]
  },
  {
   "cell_type": "markdown",
   "id": "5d909635",
   "metadata": {},
   "source": [
    "3) Comparison NMI, NF1"
   ]
  },
  {
   "cell_type": "code",
   "execution_count": null,
   "id": "8668d682",
   "metadata": {},
   "outputs": [],
   "source": [
    "#Non di Demon (e in caso di Kclique se si riesce a fare) perchè non copre tutto il dataset ed è overlapping\n",
    "def comparison_NMI(coms1, coms2, name):\n",
    "    print(f\"{name}: \",evaluation.normalized_mutual_information(coms1, coms2))  \n",
    "    print(\"********\")"
   ]
  },
  {
   "cell_type": "code",
   "execution_count": null,
   "id": "07acecf7",
   "metadata": {},
   "outputs": [],
   "source": [
    "def comparison_NF1(coms1, coms2, name):\n",
    "    print(f\"{name}: \",evaluation.nf1(coms1, coms2))\n",
    "    coms1_tuple = [tuple(x) for x in coms1.communities]\n",
    "    coms2_tuple = [tuple(x) for x in coms2.communities]\n",
    "    nf = NF1(coms1_tuple,coms2_tuple)\n",
    "    results = nf.summary()\n",
    "    print(results['scores'])\n",
    "    print(results['details'])\n",
    "    nf.plot(title=f'{name}')\n",
    "    print(\"*********\")"
   ]
  },
  {
   "cell_type": "markdown",
   "id": "d74b6fd8",
   "metadata": {},
   "source": [
    "NMI"
   ]
  },
  {
   "cell_type": "code",
   "execution_count": null,
   "id": "d2eedca7",
   "metadata": {},
   "outputs": [],
   "source": [
    "comparison_NMI(louvain_coms, labelprop_coms, \"Louvain vs Label\")\n",
    "comparison_NMI(GM_coms, labelprop_coms, \"GM vs Label\")\n",
    "comparison_NMI(louvain_coms, GM_coms, \"Louvain vs GM\")"
   ]
  },
  {
   "cell_type": "code",
   "execution_count": null,
   "id": "5c537198",
   "metadata": {},
   "outputs": [],
   "source": [
    "NF1"
   ]
  },
  {
   "cell_type": "code",
   "execution_count": null,
   "id": "9d242078",
   "metadata": {},
   "outputs": [],
   "source": [
    "comparison_NF1(louvain_coms, labelprop_coms, \"Louvain vs Label Propagation\")\n",
    "comparison_NF1(GM_coms, labelprop_coms, \"GM vs Label\")\n",
    "comparison_NF1(louvain_coms, GM_coms, \"Louvain vs GM\")\n",
    "\n",
    "comparison_NF1(louvain_coms, demon_coms, \"Louvain vs Demon\")\n",
    "comparison_NF1(GM_coms, demon_coms, \"GM vs Demon\")\n",
    "comparison_NF1(labelprop_coms, demon_coms, \"Label Propagation vs Demon\")"
   ]
  },
  {
   "cell_type": "code",
   "execution_count": null,
   "id": "872e808e",
   "metadata": {},
   "outputs": [],
   "source": [
    "viz.plot_com_stat([demon_coms, louvain_coms], evaluation.internal_edge_density)"
   ]
  },
  {
   "cell_type": "code",
   "execution_count": null,
   "id": "66f18f9e",
   "metadata": {},
   "outputs": [],
   "source": [
    "viz.plot_com_stat([labelprop_coms, louvain_coms], evaluation.internal_edge_density)"
   ]
  },
  {
   "cell_type": "code",
   "execution_count": null,
   "id": "2b97758d",
   "metadata": {},
   "outputs": [],
   "source": [
    "viz.plot_com_stat([labelprop_coms, demon_coms], evaluation.internal_edge_density)"
   ]
  },
  {
   "cell_type": "code",
   "execution_count": null,
   "id": "74cb528a",
   "metadata": {},
   "outputs": [],
   "source": [
    "viz.plot_com_stat([GM_coms, demon_coms], evaluation.internal_edge_density)"
   ]
  },
  {
   "cell_type": "code",
   "execution_count": null,
   "id": "b4381eb0",
   "metadata": {},
   "outputs": [],
   "source": [
    "viz.plot_com_stat([labelprop_coms, GM_coms], evaluation.internal_edge_density)"
   ]
  },
  {
   "cell_type": "code",
   "execution_count": null,
   "id": "94be1900",
   "metadata": {},
   "outputs": [],
   "source": [
    "viz.plot_com_stat([GM_coms, louvain_coms], evaluation.internal_edge_density)"
   ]
  },
  {
   "cell_type": "markdown",
   "id": "465a81b9",
   "metadata": {},
   "source": [
    "# 6 - Prova Kcliques"
   ]
  },
  {
   "cell_type": "code",
   "execution_count": 63,
   "id": "d686ff98",
   "metadata": {},
   "outputs": [
    {
     "ename": "ValueError",
     "evalue": "Sample larger than population or is negative",
     "output_type": "error",
     "traceback": [
      "\u001b[1;31m---------------------------------------------------------------------------\u001b[0m",
      "\u001b[1;31mValueError\u001b[0m                                Traceback (most recent call last)",
      "\u001b[1;32m<ipython-input-63-4e1dd784f5fa>\u001b[0m in \u001b[0;36m<module>\u001b[1;34m\u001b[0m\n\u001b[0;32m      1\u001b[0m \u001b[1;32mimport\u001b[0m \u001b[0mrandom\u001b[0m\u001b[1;33m\u001b[0m\u001b[1;33m\u001b[0m\u001b[0m\n\u001b[0;32m      2\u001b[0m \u001b[0mk\u001b[0m \u001b[1;33m=\u001b[0m \u001b[1;36m8500\u001b[0m\u001b[1;33m\u001b[0m\u001b[1;33m\u001b[0m\u001b[0m\n\u001b[1;32m----> 3\u001b[1;33m \u001b[0msampled_nodes\u001b[0m \u001b[1;33m=\u001b[0m \u001b[0mrandom\u001b[0m\u001b[1;33m.\u001b[0m\u001b[0msample\u001b[0m\u001b[1;33m(\u001b[0m\u001b[0mG\u001b[0m\u001b[1;33m.\u001b[0m\u001b[0mnodes\u001b[0m\u001b[1;33m,\u001b[0m \u001b[0mk\u001b[0m\u001b[1;33m)\u001b[0m\u001b[1;33m\u001b[0m\u001b[1;33m\u001b[0m\u001b[0m\n\u001b[0m\u001b[0;32m      4\u001b[0m \u001b[0msampled_graph\u001b[0m \u001b[1;33m=\u001b[0m \u001b[0mG\u001b[0m\u001b[1;33m.\u001b[0m\u001b[0msubgraph\u001b[0m\u001b[1;33m(\u001b[0m\u001b[0msampled_nodes\u001b[0m\u001b[1;33m)\u001b[0m\u001b[1;33m\u001b[0m\u001b[1;33m\u001b[0m\u001b[0m\n\u001b[0;32m      5\u001b[0m \u001b[0mk_num\u001b[0m \u001b[1;33m=\u001b[0m \u001b[0mensemble\u001b[0m\u001b[1;33m.\u001b[0m\u001b[0mParameter\u001b[0m\u001b[1;33m(\u001b[0m\u001b[0mname\u001b[0m\u001b[1;33m=\u001b[0m\u001b[1;34m\"k\"\u001b[0m\u001b[1;33m,\u001b[0m \u001b[0mstart\u001b[0m\u001b[1;33m=\u001b[0m\u001b[1;36m2\u001b[0m\u001b[1;33m,\u001b[0m \u001b[0mend\u001b[0m\u001b[1;33m=\u001b[0m\u001b[1;36m8\u001b[0m\u001b[1;33m,\u001b[0m \u001b[0mstep\u001b[0m\u001b[1;33m=\u001b[0m\u001b[1;36m1\u001b[0m\u001b[1;33m)\u001b[0m\u001b[1;33m\u001b[0m\u001b[1;33m\u001b[0m\u001b[0m\n",
      "\u001b[1;32m~\\anaconda3\\lib\\random.py\u001b[0m in \u001b[0;36msample\u001b[1;34m(self, population, k)\u001b[0m\n\u001b[0;32m    361\u001b[0m         \u001b[0mn\u001b[0m \u001b[1;33m=\u001b[0m \u001b[0mlen\u001b[0m\u001b[1;33m(\u001b[0m\u001b[0mpopulation\u001b[0m\u001b[1;33m)\u001b[0m\u001b[1;33m\u001b[0m\u001b[1;33m\u001b[0m\u001b[0m\n\u001b[0;32m    362\u001b[0m         \u001b[1;32mif\u001b[0m \u001b[1;32mnot\u001b[0m \u001b[1;36m0\u001b[0m \u001b[1;33m<=\u001b[0m \u001b[0mk\u001b[0m \u001b[1;33m<=\u001b[0m \u001b[0mn\u001b[0m\u001b[1;33m:\u001b[0m\u001b[1;33m\u001b[0m\u001b[1;33m\u001b[0m\u001b[0m\n\u001b[1;32m--> 363\u001b[1;33m             \u001b[1;32mraise\u001b[0m \u001b[0mValueError\u001b[0m\u001b[1;33m(\u001b[0m\u001b[1;34m\"Sample larger than population or is negative\"\u001b[0m\u001b[1;33m)\u001b[0m\u001b[1;33m\u001b[0m\u001b[1;33m\u001b[0m\u001b[0m\n\u001b[0m\u001b[0;32m    364\u001b[0m         \u001b[0mresult\u001b[0m \u001b[1;33m=\u001b[0m \u001b[1;33m[\u001b[0m\u001b[1;32mNone\u001b[0m\u001b[1;33m]\u001b[0m \u001b[1;33m*\u001b[0m \u001b[0mk\u001b[0m\u001b[1;33m\u001b[0m\u001b[1;33m\u001b[0m\u001b[0m\n\u001b[0;32m    365\u001b[0m         \u001b[0msetsize\u001b[0m \u001b[1;33m=\u001b[0m \u001b[1;36m21\u001b[0m        \u001b[1;31m# size of a small set minus size of an empty list\u001b[0m\u001b[1;33m\u001b[0m\u001b[1;33m\u001b[0m\u001b[0m\n",
      "\u001b[1;31mValueError\u001b[0m: Sample larger than population or is negative"
     ]
    }
   ],
   "source": [
    "import random\n",
    "k = 8500\n",
    "sampled_nodes = random.sample(G.nodes, k)\n",
    "sampled_graph = G.subgraph(sampled_nodes)\n",
    "k_num = ensemble.Parameter(name=\"k\", start=2, end=8, step=1)\n",
    "\n",
    "k_coms, scoring = ensemble.random_search(graph=sampled_graph, method=algorithms.kclique,\n",
    "                                                       parameters=[k_num],\n",
    "                                                       quality_score=evaluation.newman_girvan_modularity,\n",
    "                                                       instances=3, aggregate=max)"
   ]
  },
  {
   "cell_type": "code",
   "execution_count": null,
   "id": "f6b5eca6",
   "metadata": {},
   "outputs": [],
   "source": [
    "with open(community_path+'k.pickle', 'wb') as f:\n",
    "    pickle.dump(k_coms, f)"
   ]
  },
  {
   "cell_type": "code",
   "execution_count": null,
   "id": "5ee8f9e9",
   "metadata": {},
   "outputs": [],
   "source": [
    "with open(community_path+'k.pickle', 'rb') as f:\n",
    "    k_coms = pickle.load(f)"
   ]
  },
  {
   "cell_type": "code",
   "execution_count": null,
   "id": "eef8fb7c",
   "metadata": {},
   "outputs": [],
   "source": [
    "print(print_bold_str(\"Average Internal Degree:\"), k_coms.average_internal_degree())\n",
    "print(print_bold_str(\"Internal Edge Density:\"), k_coms.internal_edge_density())\n",
    "print(print_bold_str(\"Conductance:\"), k_coms.conductance())\n",
    "print(print_bold_str(\"Erdos Renyi Modularity:\"), k_coms.erdos_renyi_modularity())\n",
    "print(print_bold_str(\"Newman Girvan Modularity:\"), k_coms.newman_girvan_modularity())\n",
    "print(print_bold_str(\"Modularity Density:\"), k_coms.modularity_density())\n",
    "print(print_bold_str(\"Z Modularity:\"), k_coms.z_modularity())"
   ]
  },
  {
   "cell_type": "code",
   "execution_count": null,
   "id": "0e965bba",
   "metadata": {},
   "outputs": [],
   "source": [
    "print(print_bold_str(\"N_Community:\"), len(k_coms.communities))\n",
    "\n",
    "max_com_len = 0\n",
    "for com in k_coms.communities:\n",
    "    if len(com) > max_com_len:\n",
    "        max_com_len = len(com)\n",
    "print(print_bold_str(\"Max_Dim_Community:\"), max_com_len)  "
   ]
  },
  {
   "cell_type": "code",
   "execution_count": null,
   "id": "01e63ecc",
   "metadata": {},
   "outputs": [],
   "source": [
    "k_tuple = [tuple(x) for x in k_coms.communities]"
   ]
  },
  {
   "cell_type": "code",
   "execution_count": null,
   "id": "8e06bd55",
   "metadata": {},
   "outputs": [],
   "source": [
    "plot_communities_dimentions(k_tuple)"
   ]
  },
  {
   "cell_type": "code",
   "execution_count": null,
   "id": "3a82a40c",
   "metadata": {},
   "outputs": [],
   "source": [
    "covg_overlap(sampled_graph, k_coms, \"K-Cliques\")"
   ]
  },
  {
   "cell_type": "markdown",
   "id": "2d590beb",
   "metadata": {},
   "source": [
    "# 7 - Analisi delle communities di Louvain"
   ]
  },
  {
   "cell_type": "markdown",
   "id": "8b9a6b1f",
   "metadata": {},
   "source": [
    "1) Prova edit distance con supervisione tag"
   ]
  },
  {
   "cell_type": "code",
   "execution_count": 48,
   "id": "727310c3",
   "metadata": {},
   "outputs": [],
   "source": [
    "from collections import Counter\n",
    "from wordcloud import WordCloud"
   ]
  },
  {
   "cell_type": "code",
   "execution_count": 49,
   "id": "e9bdbbd9",
   "metadata": {},
   "outputs": [],
   "source": [
    "saved_path2 = \"../Dataset FFF/nodes_tagged.csv\""
   ]
  },
  {
   "cell_type": "code",
   "execution_count": 50,
   "id": "55d2be07",
   "metadata": {},
   "outputs": [],
   "source": [
    "tagged_dg = pd.read_csv(saved_path2)"
   ]
  },
  {
   "cell_type": "code",
   "execution_count": 51,
   "id": "3dd24a70",
   "metadata": {},
   "outputs": [
    {
     "data": {
      "text/html": [
       "<div>\n",
       "<style scoped>\n",
       "    .dataframe tbody tr th:only-of-type {\n",
       "        vertical-align: middle;\n",
       "    }\n",
       "\n",
       "    .dataframe tbody tr th {\n",
       "        vertical-align: top;\n",
       "    }\n",
       "\n",
       "    .dataframe thead th {\n",
       "        text-align: right;\n",
       "    }\n",
       "</style>\n",
       "<table border=\"1\" class=\"dataframe\">\n",
       "  <thead>\n",
       "    <tr style=\"text-align: right;\">\n",
       "      <th></th>\n",
       "      <th>Id</th>\n",
       "      <th>Named</th>\n",
       "    </tr>\n",
       "  </thead>\n",
       "  <tbody>\n",
       "    <tr>\n",
       "      <th>0</th>\n",
       "      <td>fridaysforfuture</td>\n",
       "      <td>#FridayForFuture</td>\n",
       "    </tr>\n",
       "    <tr>\n",
       "      <th>1</th>\n",
       "      <td>climatestrike</td>\n",
       "      <td>Action</td>\n",
       "    </tr>\n",
       "    <tr>\n",
       "      <th>2</th>\n",
       "      <td>climateaction</td>\n",
       "      <td>Action</td>\n",
       "    </tr>\n",
       "    <tr>\n",
       "      <th>3</th>\n",
       "      <td>climatecrisis</td>\n",
       "      <td>#FridayForFuture</td>\n",
       "    </tr>\n",
       "    <tr>\n",
       "      <th>4</th>\n",
       "      <td>climateemergency</td>\n",
       "      <td>#FridayForFuture</td>\n",
       "    </tr>\n",
       "    <tr>\n",
       "      <th>...</th>\n",
       "      <td>...</td>\n",
       "      <td>...</td>\n",
       "    </tr>\n",
       "    <tr>\n",
       "      <th>18842</th>\n",
       "      <td>orwell</td>\n",
       "      <td>German politics</td>\n",
       "    </tr>\n",
       "    <tr>\n",
       "      <th>18847</th>\n",
       "      <td>strajkdlaklimatu</td>\n",
       "      <td>FFF DE</td>\n",
       "    </tr>\n",
       "    <tr>\n",
       "      <th>18858</th>\n",
       "      <td>fridaysforfuturemexico</td>\n",
       "      <td>#FridayForFuture</td>\n",
       "    </tr>\n",
       "    <tr>\n",
       "      <th>18868</th>\n",
       "      <td>globalclimatestrikeindia</td>\n",
       "      <td>Action</td>\n",
       "    </tr>\n",
       "    <tr>\n",
       "      <th>18872</th>\n",
       "      <td>strikeforclimatechange</td>\n",
       "      <td>#FridayForFuture</td>\n",
       "    </tr>\n",
       "  </tbody>\n",
       "</table>\n",
       "<p>2338 rows × 2 columns</p>\n",
       "</div>"
      ],
      "text/plain": [
       "                             Id             Named\n",
       "0              fridaysforfuture  #FridayForFuture\n",
       "1                 climatestrike            Action\n",
       "2                 climateaction            Action\n",
       "3                 climatecrisis  #FridayForFuture\n",
       "4              climateemergency  #FridayForFuture\n",
       "...                         ...               ...\n",
       "18842                    orwell   German politics\n",
       "18847          strajkdlaklimatu            FFF DE\n",
       "18858    fridaysforfuturemexico  #FridayForFuture\n",
       "18868  globalclimatestrikeindia            Action\n",
       "18872    strikeforclimatechange  #FridayForFuture\n",
       "\n",
       "[2338 rows x 2 columns]"
      ]
     },
     "execution_count": 51,
     "metadata": {},
     "output_type": "execute_result"
    }
   ],
   "source": [
    "s_tag = tagged_dg[tagged_dg[\"Named\"]!=\"unamed\"][[\"Id\", \"Named\"]]\n",
    "s_tag"
   ]
  },
  {
   "cell_type": "code",
   "execution_count": 52,
   "id": "9860ca40",
   "metadata": {},
   "outputs": [],
   "source": [
    "def edit_distance(s1, s2):\n",
    "    m=len(s1)+1\n",
    "    n=len(s2)+1\n",
    "\n",
    "    tbl = {}\n",
    "    for i in range(m): tbl[i,0]=i\n",
    "    for j in range(n): tbl[0,j]=j\n",
    "    for i in range(1, m):\n",
    "        for j in range(1, n):\n",
    "            cost = 0 if s1[i-1] == s2[j-1] else 1\n",
    "            tbl[i,j] = min(tbl[i, j-1]+1, tbl[i-1, j]+1, tbl[i-1, j-1]+cost)\n",
    "\n",
    "    return tbl[i,j]"
   ]
  },
  {
   "cell_type": "code",
   "execution_count": 53,
   "id": "4b572700",
   "metadata": {},
   "outputs": [],
   "source": [
    "dd = {}"
   ]
  },
  {
   "cell_type": "code",
   "execution_count": 54,
   "id": "2293e59c",
   "metadata": {},
   "outputs": [],
   "source": [
    "categories_list = []\n",
    "for s in louvain_coms.communities[1]:\n",
    "    category = \"\"\n",
    "    maxmax_ = 30\n",
    "    for n in set(s_tag[\"Named\"]):\n",
    "        to_check = list(s_tag[s_tag[\"Named\"]==n][\"Id\"])\n",
    "        max_ = 30\n",
    "        for ss in to_check:\n",
    "            edit = edit_distance(s, ss)\n",
    "            if  edit < max_:\n",
    "                max_ = edit\n",
    "        if max_ < maxmax_:\n",
    "            maxmax_ = max_\n",
    "            category = n\n",
    "    categories_list.append(category)"
   ]
  },
  {
   "cell_type": "code",
   "execution_count": 55,
   "id": "1ae1bfed",
   "metadata": {},
   "outputs": [],
   "source": [
    "new_new_df = pd.DataFrame({\"Com_1\": categories_list})\n",
    "new_new_df.to_csv(community_path + \"Com_1.csv\", index=False)"
   ]
  },
  {
   "cell_type": "code",
   "execution_count": 56,
   "id": "82633fd4",
   "metadata": {},
   "outputs": [],
   "source": [
    "dd[1]=categories_list"
   ]
  },
  {
   "cell_type": "code",
   "execution_count": 57,
   "id": "be9e5c66",
   "metadata": {},
   "outputs": [
    {
     "data": {
      "text/plain": [
       "['German politics', 'Material', 'Material', 'German politics']"
      ]
     },
     "execution_count": 57,
     "metadata": {},
     "output_type": "execute_result"
    }
   ],
   "source": [
    "dd[1]"
   ]
  },
  {
   "cell_type": "code",
   "execution_count": 60,
   "id": "45c92359",
   "metadata": {},
   "outputs": [
    {
     "ename": "KeyError",
     "evalue": "0",
     "output_type": "error",
     "traceback": [
      "\u001b[1;31m---------------------------------------------------------------------------\u001b[0m",
      "\u001b[1;31mKeyError\u001b[0m                                  Traceback (most recent call last)",
      "\u001b[1;32m<ipython-input-60-0f0ff90cc03f>\u001b[0m in \u001b[0;36m<module>\u001b[1;34m\u001b[0m\n\u001b[0;32m      3\u001b[0m \u001b[1;32mfor\u001b[0m \u001b[0mi\u001b[0m \u001b[1;32min\u001b[0m \u001b[0mrange\u001b[0m\u001b[1;33m(\u001b[0m\u001b[1;36m2\u001b[0m\u001b[1;33m)\u001b[0m\u001b[1;33m:\u001b[0m\u001b[1;33m\u001b[0m\u001b[1;33m\u001b[0m\u001b[0m\n\u001b[0;32m      4\u001b[0m     \u001b[0mall_string\u001b[0m \u001b[1;33m=\u001b[0m \u001b[1;34m\"\"\u001b[0m\u001b[1;33m\u001b[0m\u001b[1;33m\u001b[0m\u001b[0m\n\u001b[1;32m----> 5\u001b[1;33m     \u001b[1;32mfor\u001b[0m \u001b[0ms\u001b[0m \u001b[1;32min\u001b[0m \u001b[0mdd\u001b[0m\u001b[1;33m[\u001b[0m\u001b[0mi\u001b[0m\u001b[1;33m]\u001b[0m\u001b[1;33m:\u001b[0m\u001b[1;33m\u001b[0m\u001b[1;33m\u001b[0m\u001b[0m\n\u001b[0m\u001b[0;32m      6\u001b[0m         \u001b[0mall_string\u001b[0m \u001b[1;33m=\u001b[0m \u001b[0mall_string\u001b[0m \u001b[1;33m+\u001b[0m \u001b[0ms\u001b[0m \u001b[1;33m+\u001b[0m \u001b[1;34m\"_\"\u001b[0m\u001b[1;33m\u001b[0m\u001b[1;33m\u001b[0m\u001b[0m\n\u001b[0;32m      7\u001b[0m     \u001b[0mword_could_dict\u001b[0m\u001b[1;33m=\u001b[0m\u001b[0mCounter\u001b[0m\u001b[1;33m(\u001b[0m\u001b[0mall_string\u001b[0m\u001b[1;33m.\u001b[0m\u001b[0msplit\u001b[0m\u001b[1;33m(\u001b[0m\u001b[1;34m\"_\"\u001b[0m\u001b[1;33m)\u001b[0m\u001b[1;33m)\u001b[0m\u001b[1;33m\u001b[0m\u001b[1;33m\u001b[0m\u001b[0m\n",
      "\u001b[1;31mKeyError\u001b[0m: 0"
     ]
    }
   ],
   "source": [
    "import matplotlib.pyplot as pyplot\n",
    "\n",
    "for i in range(2):\n",
    "    all_string = \"\"\n",
    "    for s in dd[i]:\n",
    "        all_string = all_string + s + \"_\"\n",
    "    word_could_dict=Counter(all_string.split(\"_\"))\n",
    "    pyplot.pie([float(v) for v in word_could_dict.values()], labels=[k for k in word_could_dict],\n",
    "           autopct=None)\n",
    "    pyplot.show()"
   ]
  },
  {
   "cell_type": "markdown",
   "id": "97fb2d3d",
   "metadata": {},
   "source": [
    "2) Prova word cloud"
   ]
  },
  {
   "cell_type": "code",
   "execution_count": 61,
   "id": "b307ba32",
   "metadata": {},
   "outputs": [
    {
     "data": {
      "image/png": "[encoded data removed]",
      "text/plain": [
       "<Figure size 1080x576 with 1 Axes>"
      ]
     },
     "metadata": {
      "needs_background": "light"
     },
     "output_type": "display_data"
    },
    {
     "data": {
      "image/png": "[encoded data removed]",
      "text/plain": [
       "<Figure size 1080x576 with 1 Axes>"
      ]
     },
     "metadata": {
      "needs_background": "light"
     },
     "output_type": "display_data"
    },
    {
     "data": {
      "image/png": "[encoded data removed]",
      "text/plain": [
       "<Figure size 1080x576 with 1 Axes>"
      ]
     },
     "metadata": {
      "needs_background": "light"
     },
     "output_type": "display_data"
    },
    {
     "data": {
      "image/png": "[encoded data removed]",
      "text/plain": [
       "<Figure size 1080x576 with 1 Axes>"
      ]
     },
     "metadata": {
      "needs_background": "light"
     },
     "output_type": "display_data"
    }
   ],
   "source": [
    "for i in louvain_coms.communities[:16]:\n",
    "    all_string = \"\"\n",
    "    for s in i:\n",
    "        all_string = all_string + s + \" \"\n",
    "    word_could_dict=Counter(all_string.split())\n",
    "    wordcloud = WordCloud(width = 1000, height = 500 , colormap=\"Blues\").generate_from_frequencies(word_could_dict)\n",
    "\n",
    "    plt.figure(figsize=(15,8))\n",
    "    plt.imshow(wordcloud)\n",
    "    plt.axis(\"off\")\n",
    "    plt.show()\n",
    "    plt.close()"
   ]
  },
  {
   "cell_type": "code",
   "execution_count": null,
   "id": "565417fb",
   "metadata": {},
   "outputs": [],
   "source": [
    "#0: react, node, frontend\n",
    "#1: python, julia, learning\n",
    "#2: C development\n",
    "#3: version control\n",
    "#4: deployment"
   ]
  },
  {
   "cell_type": "markdown",
   "id": "e5972035",
   "metadata": {},
   "source": [
    "# Analisi delle community Demon"
   ]
  },
  {
   "cell_type": "code",
   "execution_count": 62,
   "id": "2cf00a93",
   "metadata": {},
   "outputs": [
    {
     "ename": "NameError",
     "evalue": "name 'demon_coms' is not defined",
     "output_type": "error",
     "traceback": [
      "\u001b[1;31m---------------------------------------------------------------------------\u001b[0m",
      "\u001b[1;31mNameError\u001b[0m                                 Traceback (most recent call last)",
      "\u001b[1;32m<ipython-input-62-8b8e9cf4ca81>\u001b[0m in \u001b[0;36m<module>\u001b[1;34m\u001b[0m\n\u001b[1;32m----> 1\u001b[1;33m \u001b[1;32mfor\u001b[0m \u001b[0mi\u001b[0m \u001b[1;32min\u001b[0m \u001b[0mdemon_coms\u001b[0m\u001b[1;33m.\u001b[0m\u001b[0mcommunities\u001b[0m\u001b[1;33m[\u001b[0m\u001b[1;33m:\u001b[0m\u001b[1;36m6\u001b[0m\u001b[1;33m]\u001b[0m\u001b[1;33m:\u001b[0m\u001b[1;33m\u001b[0m\u001b[1;33m\u001b[0m\u001b[0m\n\u001b[0m\u001b[0;32m      2\u001b[0m     \u001b[0mall_string\u001b[0m \u001b[1;33m=\u001b[0m \u001b[1;34m\"\"\u001b[0m\u001b[1;33m\u001b[0m\u001b[1;33m\u001b[0m\u001b[0m\n\u001b[0;32m      3\u001b[0m     \u001b[1;32mfor\u001b[0m \u001b[0ms\u001b[0m \u001b[1;32min\u001b[0m \u001b[0mi\u001b[0m\u001b[1;33m:\u001b[0m\u001b[1;33m\u001b[0m\u001b[1;33m\u001b[0m\u001b[0m\n\u001b[0;32m      4\u001b[0m         \u001b[0mall_string\u001b[0m \u001b[1;33m=\u001b[0m \u001b[0mall_string\u001b[0m \u001b[1;33m+\u001b[0m \u001b[0ms\u001b[0m \u001b[1;33m+\u001b[0m \u001b[1;34m\" \"\u001b[0m\u001b[1;33m\u001b[0m\u001b[1;33m\u001b[0m\u001b[0m\n\u001b[0;32m      5\u001b[0m \u001b[1;33m\u001b[0m\u001b[0m\n",
      "\u001b[1;31mNameError\u001b[0m: name 'demon_coms' is not defined"
     ]
    }
   ],
   "source": [
    "for i in demon_coms.communities[:6]:\n",
    "    all_string = \"\"\n",
    "    for s in i:\n",
    "        all_string = all_string + s + \" \"\n",
    "    \n",
    "    word_could_dict=Counter(all_string.split())\n",
    "    \"\"\"\n",
    "    wordcloud = WordCloud(width = 1000, height = 500 , colormap=\"Blues\").generate_from_frequencies(word_could_dict)\n",
    "\n",
    "    plt.figure(figsize=(15,8))\n",
    "    plt.imshow(wordcloud)\n",
    "    plt.axis(\"off\")\n",
    "    plt.show()\n",
    "    plt.close()\n",
    "    \"\"\"\n",
    "    \n",
    "    # makes the circle using numpy\n",
    "    x, y = np.ogrid[:300, :300]\n",
    "    mask = (x - 150) ** 2 + (y - 150) ** 2 > 130 ** 2\n",
    "    mask = 255 * mask.astype(int)\n",
    "\n",
    "    # Generate a word cloud of document\n",
    "    wordcloud = WordCloud(mask=mask, contour_width=0.1, colormap=\"Blues\").generate_from_frequencies(word_could_dict)\n",
    "\n",
    "    plt.figure(figsize=(15,8))\n",
    "    #Display the generated image:\n",
    "    plt.imshow(wordcloud, interpolation='bilinear')\n",
    "    plt.axis('off')\n",
    "    plt.show()"
   ]
  },
  {
   "cell_type": "code",
   "execution_count": null,
   "id": "531b90b6",
   "metadata": {},
   "outputs": [],
   "source": []
  },
  {
   "cell_type": "code",
   "execution_count": null,
   "id": "3e81a532",
   "metadata": {},
   "outputs": [],
   "source": []
  },
  {
   "cell_type": "code",
   "execution_count": null,
   "id": "48220cc4",
   "metadata": {},
   "outputs": [],
   "source": []
  }
 ],
 "metadata": {
  "kernelspec": {
   "display_name": "Python 3 (ipykernel)",
   "language": "python",
   "name": "python3"
  },
  "language_info": {
   "codemirror_mode": {
    "name": "ipython",
    "version": 3
   },
   "file_extension": ".py",
   "mimetype": "text/x-python",
   "name": "python",
   "nbconvert_exporter": "python",
   "pygments_lexer": "ipython3",
   "version": "3.9.7"
  }
 },
 "nbformat": 4,
 "nbformat_minor": 5
}
