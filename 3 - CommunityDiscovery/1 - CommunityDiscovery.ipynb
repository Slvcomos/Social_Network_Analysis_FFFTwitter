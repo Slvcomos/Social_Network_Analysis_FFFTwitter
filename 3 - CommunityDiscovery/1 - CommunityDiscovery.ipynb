{
 "cells": [
  {
   "cell_type": "markdown",
   "id": "ff841779",
   "metadata": {},
   "source": [
    "Installare le due librerie indicate sotto"
   ]
  },
  {
   "cell_type": "code",
   "execution_count": 1,
   "id": "bd6e8437",
   "metadata": {},
   "outputs": [
    {
     "name": "stdout",
     "output_type": "stream",
     "text": [
      "Note: to be able to use all crisp methods, you need to install some additional packages:  {'graph_tool', 'wurlitzer'}\n",
      "Note: to be able to use all bipartite methods, you need to install some additional packages:  {'wurlitzer'}\n"
     ]
    }
   ],
   "source": [
    "import networkx as nx\n",
    "import pandas as pd\n",
    "import numpy as np\n",
    "import json\n",
    "import cdlib                 # pip install cdlib #\n",
    "from cdlib import evaluation\n",
    "from cdlib import algorithms\n",
    "from cdlib import viz\n",
    "from cdlib import ensemble\n",
    "from cdlib import readwrite\n",
    "import pickle\n",
    "import pquality             # pip install pquality #\n",
    "import matplotlib.pyplot as plt\n",
    "%matplotlib inline\n",
    "from nf1 import NF1"
   ]
  },
  {
   "cell_type": "code",
   "execution_count": null,
   "id": "d308067b",
   "metadata": {},
   "outputs": [],
   "source": []
  },
  {
   "cell_type": "code",
   "execution_count": 2,
   "id": "b4092ed2",
   "metadata": {},
   "outputs": [],
   "source": [
    "path = \"../Dataset FFF/\""
   ]
  },
  {
   "cell_type": "code",
   "execution_count": 3,
   "id": "20b6c0d8",
   "metadata": {},
   "outputs": [],
   "source": [
    "path_graph = '../Dataset FFF/Graph_data/'"
   ]
  },
  {
   "cell_type": "code",
   "execution_count": null,
   "id": "66e88b9c",
   "metadata": {},
   "outputs": [],
   "source": []
  },
  {
   "cell_type": "code",
   "execution_count": 4,
   "id": "d8345b06",
   "metadata": {},
   "outputs": [],
   "source": [
    "#codice matt che non va\n",
    "G = nx.read_graphml(path_graph+\"Real_Network.graphml\")"
   ]
  },
  {
   "cell_type": "code",
   "execution_count": null,
   "id": "a4dcbf4c",
   "metadata": {},
   "outputs": [],
   "source": []
  },
  {
   "cell_type": "code",
   "execution_count": 16,
   "id": "9f9e834a",
   "metadata": {},
   "outputs": [],
   "source": [
    "###QUESTO CODICE FUNZIONA\n",
    "\n",
    "G = nx.path_graph('Dataset FFF/Graph_data/')\n",
    "nx.write_graphml_lxml(G, \"Real_Network.graphml\")\n"
   ]
  },
  {
   "cell_type": "code",
   "execution_count": 5,
   "id": "11178b53",
   "metadata": {},
   "outputs": [],
   "source": [
    "community_path = \"../Dataset FFF/Community_task/\""
   ]
  },
  {
   "cell_type": "code",
   "execution_count": 21,
   "id": "059a9a03",
   "metadata": {},
   "outputs": [
    {
     "ename": "NameError",
     "evalue": "name 'fontsize' is not defined",
     "output_type": "error",
     "traceback": [
      "\u001b[1;31m---------------------------------------------------------------------------\u001b[0m",
      "\u001b[1;31mNameError\u001b[0m                                 Traceback (most recent call last)",
      "\u001b[1;32m<ipython-input-21-389a3294326d>\u001b[0m in \u001b[0;36m<module>\u001b[1;34m\u001b[0m\n\u001b[0;32m      9\u001b[0m \u001b[1;33m\u001b[0m\u001b[0m\n\u001b[0;32m     10\u001b[0m     \u001b[1;31m#plt.yticks(ticks=y_list, labels=y_list, fontsize=fontsize, alpha=.7)\u001b[0m\u001b[1;33m\u001b[0m\u001b[1;33m\u001b[0m\u001b[1;33m\u001b[0m\u001b[0m\n\u001b[1;32m---> 11\u001b[1;33m \u001b[0mplt\u001b[0m\u001b[1;33m.\u001b[0m\u001b[0myticks\u001b[0m\u001b[1;33m(\u001b[0m\u001b[0mfontsize\u001b[0m\u001b[1;33m=\u001b[0m\u001b[0mfontsize\u001b[0m\u001b[1;33m,\u001b[0m \u001b[0malpha\u001b[0m\u001b[1;33m=\u001b[0m\u001b[1;36m1\u001b[0m\u001b[1;33m)\u001b[0m\u001b[1;33m\u001b[0m\u001b[1;33m\u001b[0m\u001b[0m\n\u001b[0m\u001b[0;32m     12\u001b[0m \u001b[0mplt\u001b[0m\u001b[1;33m.\u001b[0m\u001b[0mxticks\u001b[0m\u001b[1;33m(\u001b[0m\u001b[0mfontsize\u001b[0m\u001b[1;33m=\u001b[0m\u001b[0mfontsize\u001b[0m\u001b[1;33m,\u001b[0m \u001b[0malpha\u001b[0m\u001b[1;33m=\u001b[0m\u001b[1;36m1\u001b[0m\u001b[1;33m)\u001b[0m\u001b[1;33m\u001b[0m\u001b[1;33m\u001b[0m\u001b[0m\n\u001b[0;32m     13\u001b[0m \u001b[0mplt\u001b[0m\u001b[1;33m.\u001b[0m\u001b[0mxlabel\u001b[0m\u001b[1;33m(\u001b[0m\u001b[1;34m\"Size\"\u001b[0m\u001b[1;33m,\u001b[0m \u001b[0mfontsize\u001b[0m\u001b[1;33m=\u001b[0m\u001b[0mfontsize\u001b[0m\u001b[1;33m)\u001b[0m\u001b[1;33m\u001b[0m\u001b[1;33m\u001b[0m\u001b[0m\n",
      "\u001b[1;31mNameError\u001b[0m: name 'fontsize' is not defined"
     ]
    }
   ],
   "source": [
    "def scatter_plot(sizes, title):\n",
    "    fig = plt.figure(figsize=(16,8), dpi= 150)\n",
    "    ax = fig.add_subplot(111)\n",
    "    labels = []\n",
    "    for i in sizes:\n",
    "        plt.scatter(i[0], i[1], alpha=0.5)\n",
    "        labels.append(i[2])\n",
    "        fontsize = 15\n",
    "        \n",
    "    #plt.yticks(ticks=y_list, labels=y_list, fontsize=fontsize, alpha=.7)\n",
    "plt.yticks(fontsize=fontsize, alpha=1)\n",
    "plt.xticks(fontsize=fontsize, alpha=1)\n",
    "plt.xlabel(\"Size\", fontsize=fontsize)\n",
    "plt.ylabel(\"Internal Edge Density\", fontsize=fontsize)\n",
    "plt.title(\" Scatter Plot\", fontsize=fontsize)\n",
    "plt.legend(labels, fontsize=fontsize)\n",
    "plt.grid(axis='both', alpha=.3)\n",
    "plt.xscale(\"log\")\n",
    "plt.yscale(\"linear\")\n",
    "    \n",
    "    #for i, v in enumerate(df[feature_2].values.tolist()):\n",
    "        #ax.text(i-0.4, v+6, str(v))\n",
    "    \n",
    "    #ax.yaxis.set_major_formatter(FormatStrFormatter('%.6f'))\n",
    "    \n",
    "    # Remove borders\n",
    "plt.gca().spines[\"top\"].set_alpha(0.0)    \n",
    "plt.gca().spines[\"bottom\"].set_alpha(0.3)\n",
    "plt.gca().spines[\"right\"].set_alpha(0.0)    \n",
    "plt.gca().spines[\"left\"].set_alpha(0.3)   \n",
    "plt.show()"
   ]
  },
  {
   "cell_type": "code",
   "execution_count": 22,
   "id": "69730136",
   "metadata": {},
   "outputs": [],
   "source": [
    "#Per plottare le communities per dimensione\n",
    "def plot_communities_dimentions(coms):\n",
    "    myd = {}\n",
    "    for t in coms:\n",
    "        lunghezza = len(t)\n",
    "\n",
    "        if str(lunghezza) in myd:\n",
    "            myd[str(lunghezza)] = myd[str(lunghezza)] + 1\n",
    "        else:\n",
    "            myd[str(lunghezza)] = 1\n",
    "\n",
    "    print(myd)\n",
    "    plt.figure(figsize=(20,5))\n",
    "    plt.bar(myd.keys(), myd.values(), color='b')"
   ]
  },
  {
   "cell_type": "code",
   "execution_count": 16,
   "id": "514d474b",
   "metadata": {},
   "outputs": [],
   "source": [
    "def print_bold_str(s):\n",
    "    return \"\\033[1m\" + s + \"\\033[0m\""
   ]
  },
  {
   "cell_type": "code",
   "execution_count": null,
   "id": "17fd32c7",
   "metadata": {},
   "outputs": [],
   "source": []
  },
  {
   "cell_type": "markdown",
   "id": "f14e1d41",
   "metadata": {},
   "source": [
    "# 1 - Louvain"
   ]
  },
  {
   "cell_type": "markdown",
   "id": "5a83d872",
   "metadata": {},
   "source": [
    "Parametri ottimizzati con grid_search"
   ]
  },
  {
   "cell_type": "code",
   "execution_count": 6,
   "id": "55df10f0",
   "metadata": {},
   "outputs": [],
   "source": [
    "res_df = {\"randomize\": [], \"resolution\":[], \"AID\": [], \"IED\": [], \"Conductance\":[], \"Modularity\": [], \"N_Community\": [], \"Max_Dim_Community\": []}\n"
   ]
  },
  {
   "cell_type": "code",
   "execution_count": 7,
   "id": "84a6fd40",
   "metadata": {},
   "outputs": [
    {
     "name": "stdout",
     "output_type": "stream",
     "text": [
      "> Louvain opt for resolution = 0.0 and randomize = True\n",
      "************ ------------------ *******\n",
      "> Louvain opt for resolution = 0.1 and randomize = True\n",
      "************ ------------------ *******\n",
      "> Louvain opt for resolution = 0.2 and randomize = True\n",
      "************ ------------------ *******\n",
      "> Louvain opt for resolution = 0.3 and randomize = True\n",
      "************ ------------------ *******\n",
      "> Louvain opt for resolution = 0.4 and randomize = True\n",
      "************ ------------------ *******\n",
      "> Louvain opt for resolution = 0.5 and randomize = True\n",
      "************ ------------------ *******\n",
      "> Louvain opt for resolution = 0.6 and randomize = True\n",
      "************ ------------------ *******\n",
      "> Louvain opt for resolution = 0.7 and randomize = True\n",
      "************ ------------------ *******\n",
      "> Louvain opt for resolution = 0.8 and randomize = True\n",
      "************ ------------------ *******\n",
      "> Louvain opt for resolution = 0.9 and randomize = True\n",
      "************ ------------------ *******\n",
      "> Louvain opt for resolution = 0.0 and randomize = False\n",
      "************ ------------------ *******\n",
      "> Louvain opt for resolution = 0.1 and randomize = False\n",
      "************ ------------------ *******\n",
      "> Louvain opt for resolution = 0.2 and randomize = False\n",
      "************ ------------------ *******\n",
      "> Louvain opt for resolution = 0.3 and randomize = False\n",
      "************ ------------------ *******\n",
      "> Louvain opt for resolution = 0.4 and randomize = False\n",
      "************ ------------------ *******\n",
      "> Louvain opt for resolution = 0.5 and randomize = False\n",
      "************ ------------------ *******\n",
      "> Louvain opt for resolution = 0.6 and randomize = False\n",
      "************ ------------------ *******\n",
      "> Louvain opt for resolution = 0.7 and randomize = False\n",
      "************ ------------------ *******\n",
      "> Louvain opt for resolution = 0.8 and randomize = False\n",
      "************ ------------------ *******\n",
      "> Louvain opt for resolution = 0.9 and randomize = False\n",
      "************ ------------------ *******\n"
     ]
    }
   ],
   "source": [
    "for j in [True, False]:\n",
    "    for i in [x/10 for x in range(0, 10)]:   \n",
    "        print(f\"> Louvain opt for resolution = {i} and randomize = {j}\")\n",
    "        \n",
    "        res_df[\"randomize\"].append(j)\n",
    "        res_df[\"resolution\"].append(i)\n",
    "        \n",
    "        louvain_coms = cdlib.algorithms.louvain(G, weight = \"Count\", resolution=i, randomize=j)\n",
    "        res_df[\"AID\"].append(louvain_coms.average_internal_degree().score)\n",
    "        res_df[\"IED\"].append(louvain_coms.internal_edge_density().score)\n",
    "        res_df[\"Conductance\"].append(louvain_coms.conductance().score)\n",
    "        res_df[\"Modularity\"].append(louvain_coms.newman_girvan_modularity().score)\n",
    "        res_df[\"N_Community\"].append(len(louvain_coms.communities))\n",
    "        max_com_len = 0\n",
    "        for com in louvain_coms.communities:\n",
    "            if len(com) > max_com_len:\n",
    "                max_com_len = len(com)\n",
    "        res_df[\"Max_Dim_Community\"].append(max_com_len)\n",
    "        \n",
    "        print(\"************ ------------------ *******\")\n",
    "final_df = pd.DataFrame(res_df)\n",
    "final_df.to_csv(community_path+\"louvain_grid_result.csv\", index=False)"
   ]
  },
  {
   "cell_type": "code",
   "execution_count": 8,
   "id": "eb8d77a0",
   "metadata": {},
   "outputs": [],
   "source": [
    "final_df = pd.read_csv(community_path+\"louvain_grid_result.csv\")"
   ]
  },
  {
   "cell_type": "code",
   "execution_count": 9,
   "id": "469559b3",
   "metadata": {},
   "outputs": [
    {
     "data": {
      "text/html": [
       "<div>\n",
       "<style scoped>\n",
       "    .dataframe tbody tr th:only-of-type {\n",
       "        vertical-align: middle;\n",
       "    }\n",
       "\n",
       "    .dataframe tbody tr th {\n",
       "        vertical-align: top;\n",
       "    }\n",
       "\n",
       "    .dataframe thead th {\n",
       "        text-align: right;\n",
       "    }\n",
       "</style>\n",
       "<table border=\"1\" class=\"dataframe\">\n",
       "  <thead>\n",
       "    <tr style=\"text-align: right;\">\n",
       "      <th></th>\n",
       "      <th>randomize</th>\n",
       "      <th>resolution</th>\n",
       "      <th>AID</th>\n",
       "      <th>IED</th>\n",
       "      <th>Conductance</th>\n",
       "      <th>Modularity</th>\n",
       "      <th>N_Community</th>\n",
       "      <th>Max_Dim_Community</th>\n",
       "    </tr>\n",
       "  </thead>\n",
       "  <tbody>\n",
       "    <tr>\n",
       "      <th>1</th>\n",
       "      <td>True</td>\n",
       "      <td>0.1</td>\n",
       "      <td>0.504575</td>\n",
       "      <td>0.355300</td>\n",
       "      <td>0.870952</td>\n",
       "      <td>0.062426</td>\n",
       "      <td>2894</td>\n",
       "      <td>10164</td>\n",
       "    </tr>\n",
       "    <tr>\n",
       "      <th>2</th>\n",
       "      <td>True</td>\n",
       "      <td>0.2</td>\n",
       "      <td>0.678217</td>\n",
       "      <td>0.392910</td>\n",
       "      <td>0.865276</td>\n",
       "      <td>0.226933</td>\n",
       "      <td>3264</td>\n",
       "      <td>7843</td>\n",
       "    </tr>\n",
       "    <tr>\n",
       "      <th>3</th>\n",
       "      <td>True</td>\n",
       "      <td>0.3</td>\n",
       "      <td>0.675309</td>\n",
       "      <td>0.390248</td>\n",
       "      <td>0.864662</td>\n",
       "      <td>0.188061</td>\n",
       "      <td>3131</td>\n",
       "      <td>8681</td>\n",
       "    </tr>\n",
       "    <tr>\n",
       "      <th>4</th>\n",
       "      <td>True</td>\n",
       "      <td>0.4</td>\n",
       "      <td>0.763231</td>\n",
       "      <td>0.431756</td>\n",
       "      <td>0.859154</td>\n",
       "      <td>0.288756</td>\n",
       "      <td>3346</td>\n",
       "      <td>6701</td>\n",
       "    </tr>\n",
       "    <tr>\n",
       "      <th>5</th>\n",
       "      <td>True</td>\n",
       "      <td>0.5</td>\n",
       "      <td>2.112048</td>\n",
       "      <td>0.840788</td>\n",
       "      <td>0.541745</td>\n",
       "      <td>0.449458</td>\n",
       "      <td>704</td>\n",
       "      <td>6219</td>\n",
       "    </tr>\n",
       "    <tr>\n",
       "      <th>6</th>\n",
       "      <td>True</td>\n",
       "      <td>0.6</td>\n",
       "      <td>2.490662</td>\n",
       "      <td>0.872518</td>\n",
       "      <td>0.505231</td>\n",
       "      <td>0.471157</td>\n",
       "      <td>698</td>\n",
       "      <td>5028</td>\n",
       "    </tr>\n",
       "    <tr>\n",
       "      <th>7</th>\n",
       "      <td>True</td>\n",
       "      <td>0.7</td>\n",
       "      <td>2.328465</td>\n",
       "      <td>0.881916</td>\n",
       "      <td>0.536807</td>\n",
       "      <td>0.461171</td>\n",
       "      <td>790</td>\n",
       "      <td>4082</td>\n",
       "    </tr>\n",
       "    <tr>\n",
       "      <th>8</th>\n",
       "      <td>True</td>\n",
       "      <td>0.8</td>\n",
       "      <td>2.471085</td>\n",
       "      <td>0.860479</td>\n",
       "      <td>0.552324</td>\n",
       "      <td>0.450601</td>\n",
       "      <td>864</td>\n",
       "      <td>4739</td>\n",
       "    </tr>\n",
       "    <tr>\n",
       "      <th>9</th>\n",
       "      <td>True</td>\n",
       "      <td>0.9</td>\n",
       "      <td>4.115537</td>\n",
       "      <td>0.630107</td>\n",
       "      <td>0.111787</td>\n",
       "      <td>0.486845</td>\n",
       "      <td>133</td>\n",
       "      <td>5052</td>\n",
       "    </tr>\n",
       "  </tbody>\n",
       "</table>\n",
       "</div>"
      ],
      "text/plain": [
       "   randomize  resolution       AID       IED  Conductance  Modularity  \\\n",
       "1       True         0.1  0.504575  0.355300     0.870952    0.062426   \n",
       "2       True         0.2  0.678217  0.392910     0.865276    0.226933   \n",
       "3       True         0.3  0.675309  0.390248     0.864662    0.188061   \n",
       "4       True         0.4  0.763231  0.431756     0.859154    0.288756   \n",
       "5       True         0.5  2.112048  0.840788     0.541745    0.449458   \n",
       "6       True         0.6  2.490662  0.872518     0.505231    0.471157   \n",
       "7       True         0.7  2.328465  0.881916     0.536807    0.461171   \n",
       "8       True         0.8  2.471085  0.860479     0.552324    0.450601   \n",
       "9       True         0.9  4.115537  0.630107     0.111787    0.486845   \n",
       "\n",
       "   N_Community  Max_Dim_Community  \n",
       "1         2894              10164  \n",
       "2         3264               7843  \n",
       "3         3131               8681  \n",
       "4         3346               6701  \n",
       "5          704               6219  \n",
       "6          698               5028  \n",
       "7          790               4082  \n",
       "8          864               4739  \n",
       "9          133               5052  "
      ]
     },
     "execution_count": 9,
     "metadata": {},
     "output_type": "execute_result"
    }
   ],
   "source": [
    "final_df.loc[[1, 2, 3, 4, 5, 6, 7, 8, 9]]"
   ]
  },
  {
   "cell_type": "markdown",
   "id": "cbc0e0f2",
   "metadata": {},
   "source": [
    "Ottimizzazione con randomsearch"
   ]
  },
  {
   "cell_type": "code",
   "execution_count": 10,
   "id": "70fc03d0",
   "metadata": {},
   "outputs": [],
   "source": [
    "resolution = ensemble.Parameter(name=\"resolution\", start=0.1, end=1, step=0.1)\n",
    "parameters = [resolution]"
   ]
  },
  {
   "cell_type": "code",
   "execution_count": 11,
   "id": "a79c49ce",
   "metadata": {},
   "outputs": [],
   "source": [
    "louvain_coms, scoring = ensemble.grid_search(graph=G, method=algorithms.louvain,\n",
    "                                                       parameters=parameters,\n",
    "                                                       quality_score=evaluation.newman_girvan_modularity, aggregate=max)"
   ]
  },
  {
   "cell_type": "code",
   "execution_count": 12,
   "id": "da3991b9",
   "metadata": {},
   "outputs": [
    {
     "name": "stdout",
     "output_type": "stream",
     "text": [
      "Communities:\n",
      " [['fridaysforfuture', 'climatecrisis', ' climateactionnow', ' uprootthesystem', ' mindthegap', ' globalwarming', ' climatejustice', ' peoplenotprofit', 'climatestrike', ' humanity', ' endfossilfuels', ' digitalstrike', ' climatebreakdown', 'climatejustice', ' systemchange', 'climateaction', ' savesoil', 'climatechange', ' ilmastolakko', ' nytonpakko', 'climateactionnow', 'fridayforfuture', ' ireland', ' standwithukraine️', ' conservation', 'peoplenotprofit', 'stopeacop', ' twiff', '1point5', ' netzero', 'climateemergency', ' g7', ' noemptypromises', ' stopfundingfossilfuel', ' thereisnoplanetb', ' belgium', ' stopeacop', 'restoreourearth', ' consciousplanet', ' helsinki', ' climatefinance', ' heatwaves', ' ecocide', 'savecongorainforest', ' stockholm50', ' arctic', ' ilmastokriisi', ' plasticfree', 'globalclimatestrike', ' biodiversityday', 'schoolstrike', 'uprootthesystem', ' makeparisreal', ' socialjustice', ' climatecriminals', ' auspol', ' ausvotes', ' environmentaljustice', 'earthday', ' earthday', ' investinourplanet', 'parisagreement', ' nomoreemptypromises', ' earthkeepersunite', 'nomoreemptypromises', ' globalstrike', ' fffke', ' gender', 'cop26', ' covid_19', ' happynewyear2022', ' calamity', ' policymakers', ' cop26glasgow', ' famine', ' humankind', 'facetheclimateemergency', ' famines', ' draughts', 'climagechange', ' rains', ' naturalcalamities', ' enviroenment', 'parents', ' cllimatechange', ' coronavirus', 'ecanu', ' greenrecovery', ' togetherathome', ' treateverycrisis', 'aotearoa', ' klimaschutz', ' climataction', ' fridays4future', 'giornatamondialedellambiente', ' consigli', ' viaggio', ' viaggiare', ' ambiente', ' wwf', ' repost', ' gaskrise', ' government', ' stoptmx', ' bcpoli', ' vancouver', ' cdnpoli', 'bcpoli', ' abpoli', ' climatstreik', ' climatestrikecanada', ' climatestrikevancouver', 'climatestrikevancouver', ' indigenous', ' govegan', ' riseupmovement', ' istayontheground', ' savesoilbengaluru', ' grünen', 'peoplepower', ' mapa', 'climatestrikeonline', 'fasting', ' fridays', ' striking', ' climatejusticenow', ' globalwarmingisreal', ' plastic', ' recycled', ' plasticwaste', ' notmytaxonomy', 'digitalstrike', ' coalcompanies', ' oilcompanies', ' gascompanies', ' earthdayis365days', ' climatecatastrophe', ' coalminers', ' activistabd', ' motherearth', ' lifesbetterwithtrees', ' dublin', ' spanishpoint', ' laudatosi', ' careforourcommonhome', ' willieclancy', 'schoolstrike4climate', 'savesoilsavelife', ' fffmapa', 'strikeforfriday', ' nomoreemptypromise', ' uproot', ' globle', ' savesoilsavelife', ' climateschool', ' f4fyouthstriker', ' youthforclimatechange', 'العدالة_المناخية', ' youth4tpnw', ' itshappening', ' plasticban', ' schoolstrikeforclimate', ' plogrun', ' schoolstrike', ' noafd', '拡散希望', ' plantbased', ' plantbasedfood', ' vegan', ' scholz', ' climasv', ' frankfurt', ' sadhguru', 'wearehey', ' standwithukraine', ' lossanddamage', ' fridayforfutureyouthstrikers', ' greenhousegas', 'movement', ' agra', ' stopglobalwarming', ' g7showusthemoney', 'climatejusticenow', ' climaterightsnow', ' climatepeace', ' followbackfriday', ' globalgoals', 'cop27', ' gaia', ' savenature', ' ff', 'savehasdeo_savetribal', ' savebuxbaha', ' riseupmovment', ' klimaat', 'thenameofthismachineistree', ' planttree', ' nuclearbanweek', ' cleanup', ' ukraine', 'actnow', ' justiceclimatique', ' climateactivist', ' worldclimateactivist', ' africanclimatealliance', ' naturelovers', ' 気候危機見て見ぬふりはもうできない', ' finland', ' ilmasto', 'stopfinancingfossilfuels', ' educategirlsforclimatejustice', ' noweymouthcompressor', ' don', ' honey', ' stopjackdaw', ' stopcambo', 'schoolstrikeforclimate', ' letafghangirlslearn', ' animalrights', ' environmentalracism', ' climatecantwait', ' pipeline', 'educategirlsforclimatejustice', ' onlyoneearth', ' fffportlandmetro', ' freemint', ' community', ' reduce', ' reuse', ' fridaysforfuturehamburg', ' endplasticpollution', 'stopfunding', ' ban', ' phasingout', ' fridaysforfuturejhansi', 'riseuptogetherfromdrought', ' ddday', 'climatefinance', 'justtransition', ' chafrica', 'worldenvironmentday', ' cimatejustice', ' wien', ' listentothescience', ' sudan', ' peoplenotprofits', 'nannas', ' lyne', 'healthyplanetsklm50', ' stopfossilfuel', ' smrjs', ' swapnafoundation', ' worldbicycleday', ' cycling', ' codered', ' stopfuellingwar', ' onpoli', ' voteclimate', ' f4fystrikers', ' climate_strike', 'climateactionclub', ' punjab', ' mothernature', ' riseup', ' justice', ' scientistrebellion', 'statecapture', ' blackfriday', ' gazprom', ' pace', ' nationalbikeweek', ' worldbeeday2022', ' savethenature', 'canyouhearusyet', ' endfossilfinance', ' lossanddamagefinance', 'blacklivesmatter', ' bepartofthesolution_notthepollution', ' greatgambia', ' webinar', ' marinescience', ' spreadawareness', ' marineeducation', ' fastingfridaysforfuture', ' generationrestoration', ' globalclimatestrike', ' 気候変動', ' climatereparations', ' savefuturebangladesh', 'lifesbetterwithtrees', ' wirsindantifa', ' boomersforclimatejustice', ' embargoforpeace', 'climatechangeisreal', ' keepitintheground', ' planetnotprofit', 'lossanddamage', 'schoolstrikeforclimatestrike', ' noplanetb', ' weatherupdate', 'followbackfriday', ' carbondioxide', 'standwithukraine', ' rewilding', ' bankingonabetterfuture', ' nocgl', 'midcoastnannas', ' fridays4forest', ' dutyofcare', 'earthday2022', ' forpeopleforplanet', 'keepitintheground', ' biodiversitycrisis', ' earthday2022', ' climatemarch', ' climatedisaster', ' earthday22', ' earthdayeveryday', ' アースデイ2022', ' treestreestrees', 'earthdayriseupmovement', ' standforplanet', 'lettheearthbreath', ' saveearth', ' letearthbreathe', ' lettheearthbreath', ' freivonöl', ' energiesparen', 'savetheplanet', ' savethetrees', ' waterpollution', ' togetherforourplanet', ' fbf', ' fbfriday', ' juststopoil', ' sdg13', 'asap', ' actintime', ' peopleoverprofit', ' foodsecurity', ' hunger', ' goodfriday', 'isrealiapartheidweek', ' freepalaestine', ' edinburghclimatestrike', ' climatereparationsnow', 'week', ' greenwashing', ' cop27', ' politicians', 'universitystrikeforclimate', 'climatereport', ' climatehopeful', ' fffsolidaritywithsudan', 'sealevels', ' ourplanetourhealth', 'noplanetb', ' nft', ' cleannfts', ' crisisclimática', 'rinnovabili', ' 2aprile', ' clima', ' fridaysagainstfuture', ' sfb', ' web3', ' universitystrikeforclimate', 'earthhour', ' journeyforsoil', ' batman', ' photo', ' cute', ' france', ' europe', ' europeanunion', ' forest', 'peoplenotprofits', ' hongkong', ' netzero2030', ' guwahati', ' planetoverprofit', ' globalstrikeforclimate', ' toronto', ' gta', ' topoli', ' brighters', ' bsb', ' fridaysforfuturebangladesh', ' actionaidbangladesh', ' nowar', ' guerra', 'globalstrikeforclimate', ' dontfuelwar', 'matarbari', ' reparations', ' proplenotprofit', ' climatebarbage', ' lucknow', ' up', 'reparations', ' antarctica', ' nannahelen', ' endcoalnow', ' fossilfoolfree', ' ss4c', 'nooilinvirunga', ' youthforclimate', ' sciopero', ' elokapina', ' climatestrikenow', ' globalrecyclingday', 'happyholi2022', ' savewater', ' fridaysforforests', ' votethemout', ' freepalestine', ' clmateactionnow', ' bigoil', ' blacklivesmatter', ' nomorewars', ' stopsumitomo', 'newclimatewar', 'standforukraine', ' stopthewar', ' climatereport', 'stopsumitomo', ' save_tree', ' action4impact', ' peace', ' siochain', ' shanti', ' seriousness', ' urgency', 'peace', ' ucraine', ' crisisoninfiniteearths', ' blackhistorymonth', ' climatelive2022', ' savegreen', ' fff_bangladesh', ' climateeducation', ' stormeunice', ' stormdudley', ' stormfff', ' taxtherich', 'africaisnotadumpster', ' unea5', ' plasticstreaty', 'forpeople', ' forclimate', ' naturalproducts', ' recycle', 'youth4climate', ' ottawaoccupied', ' freedomconvoy2022', ' savethedate', ' 11febbraio', ' youthstrike4climate', 'edinburghclimatestrike', ' edinburgh', ' humanitarian', 'school', 'stopglobalwarming', 'lucknow', ' recruitment', ' actsoneducation', 'vancouver', ' stopcgl', ' vanpoli', ' greenhousegases', ' emptypromises', ' stopfakerenewables', 'savethedate', ' nyc', 'justlookup', 'savetrees', 'planetoverprofit', 'wetlands', ' theworldiswatching', ' webelieveactions', ' accionclimatica', ' fridaysforfutureindia', 'mumbai', ' kids', ' wedonthavetime', ' ecosocialism', 'dublin', ' protectmangroves', ' environmentalprotection', ' fornature', ' pancec', ' greenspaces', ' travel', 'mindthegap', 'ecofriendly', ' christmas', ' climatestrikes', ' saveyourplanet', 'fightfor1point5', ' odetteph', ' thwaites', ' gearceimaeraide', 'canyouhereusyet', ' biripi', ' wetsuweten', 'biripi', ' nannassay', ' fundourfuturenotgas', ' mpa', ' digitalclimatestrike', 'stopblaming', ' climateactnow', 'stopcambo', ' ourcommonhome', ' switch', ' industrialists', ' midcoastnannas', 'tomorrowistoolate', 'страйкзаклімат', ' strikeforclimate', ' saveplanetearth', 'farmersprotest', ' votethiscapdown', ' withdrawthiscap', ' somalia', ' copon', 'kretslopp', ' knittingnannas', 'cop26glasgow', ' torino', ' climatepoli', 'stopfailingus', ' cop26bbc', 'climatechangestrike', ' childrenoftherevolution', ' satkhira', ' retweeetplease', 'gilgitbaltistan', ' justtransition', 'savebugomaforest', ' environmentartist', ' ecology', ' cop26glasow', ' sustainablegoodlife', ' ndcs', ' learningsociety', ' eternals', ' scottishindependence', ' fightclimateinjustice', ' glasgowcop26', ' savehasdeoforest', ' actionforclimate', ' climatefighters', ' climatecompensation', ' movement', 'influencers', ' neet2021', ' faiths4cop26', ' faith4climate', ' riseandrebel', ' g20', 'scottishindependence13', ' climatejusticeaction', 'climatestriking', ' wecandothis', ' whatthecop', ' copon4net', ' cleanupstandardchartered', ' smr', ' go100re', ' extinctionrebelion', ' cop26plastics', ' cl', ' climatelive2021', ' dhaka', ' theyoutharerising', 'lakedistrict', ' windermere', ' river', ' lake', ' timesrunningout', ' envirocoresubject', ' cop15', ' peoplevsfossilfuels', ' buildbackfossilfree', ' unitebehindthescience', 'peoplevsfossilfuels', ' activism', 'defundclimatechaos', ' scottmorrison', ' gdp', ' solidarity', ' alternativeenergy', ' heatpumps', ' savehasdeo', ' हसदेव_बचेगा_देश_बचेगा', ' climatechnage', ' austria', 'goodnighttwitterworld', 'mega', 'worimi', ' coderedclimate', ' crisiclimatica', 'fromparistocop26', ' laschetruecktritt', ' timetoact', 'wenaturalists', ' worldpeopleofnatureday', ' sustainabiity', 'tiredearth', ' 24s', 'justiciaporelclima', ' 24septiembre', 'cambioclimatico', 'hashtags', ' allforclimate', ' climatestrike2021', ' pupsfortheplanet', ' respectyourmother', 'globalclimatechangestrike', ' uprootsystem', 'buonaserata', ' buonanotte', ' fffsep24', ' sistemiköktendeğiştir', ' i̇klimgrevi2021', 'ipccreport', ' climateweek', 'allefürdiezukunft', ' vienna', ' germanelection2021', ' greenparty', ' marte', '世界気候アクション0924', ' 住友商事の森林破壊を許さない', ' climateinjustice', ' tourism', ' sttaconsulting', ' lacroisade', ' ecologicalbreakdown', 'standforplanet', ' anotherworldisnecessary', 'insulatebritain', ' elxn44', ' nomoreemptysummits', ' treatacrisislikeacrisis', ' restoreourearth', ' endclimatesilence', ' ipccreport2021', ' animalagriculture', ' methane', ' globalclimatejustice', ' marchepourleclimat', 'electricvehicle', ' tiredearth', ' actionforbiodiversity', 'vote4climateaction', ' voteforclimateaction', ' climateactionplan', ' polluters', ' stopdeforestation', ' worldwaterweek', 'savebuxwaha', ' farmersprotest', ' canada', ' stopbeingfossilfools', 'nswlockdown', ' africaisnotadumpster', 'bushfiresurvivorsvsepa', ' climatesolution', 'pride', ' gulfstreamcollapse', ' savebugomaforest', ' turkeyisburning', ' climatecrisisishere', ' stopclearcuts', ' notblownwithcyclone', 'covidsafe', ' nswstategov', ' protectourforests', ' saveourkoalas', ' fridaysforforest', ' cliamtestrike', ' socialjusticeisclimatejustice', 'savebuxwahaforest', 'notblownwithcyclone', ' edo', ' rapidreduction2030', ' climatenow', ' bushfire', ' factoryfarming', ' strike4climate', ' takeabreathwecansolvethis', ' earthovershotday', ' flattenthecurve', ' earthovershootday', ' borneo', ' saveborneorainforest', ' savebuxwahasavelife', ' fairycreek', ' bc', ' climat', ' intermittentfasting', ' nogenerationscanexistonadeadplanet', ' savebuxwahaforest', 'withdrawthecap', 'klimatkris', ' rehabilitatekhori', ' nomorelies', ' heatwave2021', ' onlineclimatestrike', ' savewildlife', ' safewater4all', ' genderequality', ' pollutersout', ' africaisnotàdumpster', ' netzstreikfuesklima', ' nosustainabilityonadeadplanet', ' girlpower', ' iammadagascar', ' fixated', ' alarmed', ' nannasstrike4climate', ' wetlands', 'protect', ' preserve', ' climatecrisisbangladesh', ' bangladeshalreadysuffering', 'transpride', ' 11thhourforclimate', ' digitalprotest', 'environmentaljustice', ' fridaystrikeforclimate', ' withdrawthecapnow', ' facetheclimateemergengy', 'पेड़_लगाओ_पृथ्वी_बचाओ', ' planttreesaveearth', ' evironmentalism', ' 17sdgs', ' goodhealth', ' qualityeducation', ' cleanwater', ' lifeonland', ' youngpeopleshopeinmotion', ' desertificationanddroughtday', 'saveaareyforest', ' digitalstrikepune', ' plantalife', ' choices', ' michaelmann', ' vocalmedia', ' mondaymotivation', ' mondaythoughts', 'nomoreemptysummits', 'g7summit2021', ' nokxl', ' kxlisdead', ' nopipelines', 'marcodecanaveses', ' ilmastovaalit', 'savebuxwahasavelife', ' cancelbunderminingproject', ' wedemandimmediateaction', ' stopreconafrica', ' savetheokavangodelta', ' ilmastohätätila', ' youth2030', ' caminodesantiago', ' forabolsonaro', ' pge', ' canviclimàtic', 'proverbe', ' yositecreomartayolga', ' cataluñaisspain', ' vivaespaña', ' giro', ' maaneskin', ' yoveosalvame', ' telecincomanipuladores', ' fabricadelateleacosadores', ' carlotapradojusticiaya', ' hundimosmediaset', ' rocio2021', 'fornature', ' raiseyourstandards', ' climatetwitter', ' schoolstrikeforclimateaction', ' बकस्वाहा_जंगल_बचाओ_अभियान', ' nodexl', ' soscolombia', ' nannas', ' worimi', ' forster', ' nsw', ' climatestrikeforster', 'ss4c', 'strike4climate', ' cycloneamphan', 'euyouthweek', ' resilience', ' erasmusplus', ' eusolidaritycorps', ' savetheoceans', 'wetlaland', ' powerofwetlands', ' fffmay14', ' canpoli', ' climateactionbill', 'thenewclimatewar', 'forabetterworld', ' forabettertomorrow', ' ocsbsep', 'soscolombiaddhh', ' digitalstrikeforclimate', ' kanvango', 'welovescience', ' welovetheearth', ' rebelforlife', ' strongertogether', ' standwithworkers', ' mindthecap', ' nomowmay', ' klimaurteil', ' fridaysforfuturepakistan', ' pakistan', ' 温室効果ガス削減目標の大幅引き上げを求めます', ' i̇kizderetaşocağıolmasın', ' localelections', ' vacunaparalacrisisclimatica', ' mayday', ' peat', ' justrecovery', ' ocsb', ' localelections2021', ' leadersclimatesummit', 'savetheoceans', ' banplastic', ' plasticfreeocean', ' childrenareourfuture', 'noweymouthcompressor', ' elfonsite', ' mapoli', ' receipts', ' stopline3', ' haltmarinernow', ' nodapl', ' notyoursacrificezone', ' nosacrificezones', ' earthweek', ' endplastic', ' climatepledge', 'cleanupstandardchartered', ' peaceuponyemen', ' yemencantwait', ' fossilfreerevolution', ' vraieloiclimat', ' iamgreta', 'intergenerational', 'ndc', ' lawsuit', ' climatecrises', 'fukushima', ' tepco', ' japan', ' tritium', 'savenatureforfuture', ' 420ppm', 'ocsbsep', ' kanalistanbul', ' yakanalyaistanbul', 'climatesrikeonline', ' climatealliance', ' climaterisk', 'gbr', ' gbr', ' ratifyparis', ' koala', ' tigerquoll', ' sootyowl', '気候危機止めるために学校休みます', ' cilimatestrike', ' tuncurry', ' saveourforests', ' climatebill', ' takeaction', ' mentalhealth', ' プラスチック', ' suezcanal', 'nomoreemptypromise', ' cleanair', ' beyondrecovery', ' toxicplastics', 'outaouais', ' makeirelandgreenagain', ' fffengland', ' 私たちの未来を手放さない', ' bosvaatleri̇stemiyoruz', ' i̇klimiçinhareketegeç', 'mumbsi', 'raceformars', ' nowayout', 'ontario', ' sustainabilityinallthings', ' climatecriminalwatch', 'womensday', ' nomoreemptywords', ' followfriday', ' climatestriking', ' internationalwomensday', ' genderjustice', 'endplasticpollution', ' stopwetlanddegradation', ' dumpsters', 'cdnpoli', 'endingplasticpollution', ' powerfulowl', ' greaterglider', 'schoolclimatestrike', ' biomass', ' listentothescientists', ' cumbriacoalmine', ' worldiswatching', 'climatepromise', ' iklimkrizi', ' freenavalny', ' justiceformyanamar', ' justiceformyanmar', ' stopceta', ' istandwithfarmers', ' askgerald', ' nonewcoal', ' 気候危機に特効薬なし', ' 気候も危機', ' 気候正義', ' plastichearts', 'theworldiswatching', ' climateneutraleu', 'climatectrike', ' 世界が見ている', ' transiciónjusta', ' uniontent', ' parisclimateagreement', ' oceanandclimateemergency', ' digitalstrikesapporo', ' bidenadministration', 'mlkday', 'land4life', 'fffportlandmetro', ' mentalhealthforfuture', ' strikeformentalhealth', ' laniña', ' protectallrainforests', 'mountainsnotmines', ' saveourselves', ' savehumanity', 'yre', ' bekind', ' nocoalforourfuture', 'wrongcalloncoal', ' stayhome', 'protectthearctic', ' climatejusticeisracialjustice', ' defendthesacredak', ' climatenews', '2021year', ' happynewyear2021', ' 2021year', ' bye2020', ' climatechallenge2021', 'mapoli', ' getbackmass', ' beyondcoal', 'strikeonline', ' letrussiastrikeforclimate', 'gambia', ' banplasticug', 'hoax', 'strongertogether', ' 世界気候アクション0925', ' riseforclimate', ' internationalhumanrightsday', ' climateonlinestrike', ' fff_egypt', ' parisionayla', ' hedef1bucuk', ' coastalroad', 'hedef1bucuk', ' euco', ' mumbaikars', 'rewilding', ' covidー19', 'cute', ' papua', ' skolstrejkförklimatet', 'asiaclimaterally', ' davenportto', ' fundfarmersnotcoal', ' stopplasticpollution', ' savekoala', ' repairdontthrow', ' repairdontgiveup', ' 地球温暖化', ' saveourcoast', ' noforestnofuture', ' mumbai', '読書の秋', ' 東北大学', ' 大学生協', 'fightclimateinjustice', ' indigenousrights', 'week27', ' onebilliontreesforafrica', ' coastalday2020', ' stopreclamation', 'chattogram', 'createforclimatejustice', ' artistontwitter', ' 女川原発の再稼働に反対します', 'coastalday', ' barishal', 'priorities', ' pisa', ' coralreef', ' turtle', ' share', ' illustration', ' draw', ' savethereef', ' wearestillhere', ' 2ndlockdown', ' 気候非常事態宣言', ' earthquake', ' filthyrich', 'notyoursacrificezone', ' digitalstrikeonline', 'reforestation', ' boycottpollutants', ' 金曜日アクション', ' climatestrickonline', ' savethanoforest', ' lnpcrimefamily', ' nemarevokeesiacertificate', 'fridaysforfuturehamburg', ' futureofcap', ' fffdigital', 'fundourfuturenotgas', ' gastransitiontoextinction', ' stopsantospillagingthepilliga', 'savewesternghats', 'davidattenborough', ' alifeonourplanet', 'ecoschool', 'cleavageforclimate', ' ilmastotwitter', ' transittorenewables', ' countdowntothefuture', ' vivalanannalution', ' fridaysforfutureclimatecriminalwatch', ' kiddies', ' 仙台', 'worldanimalday', '世界気候アクション0925', ' シューズアクション', ' climatestrikers', ' climateshoesaction', 'faceforclimate', 'windowstrike', 'day3', ' covid19de', 'gerceğibilmeki̇yidir', ' calarsaat', 'signfortheplanet', ' signfortheplanet', 'andrapradesh', ' abc730', 'globslclimatestrike', ' withdraweia2020', ' fightinclimatejustice', 'youthstrike4climate', ' globaldayofclimateaction', 'laudatosi', ' globalclimateaction2020', ' shoes4climateavtion', 'globaldayofaction', ' carboninequality', 'i̇klimadaletisosyaladalettir', ' letterstotheearth', ' mundnasenklimaschutz', ' fridaysforfuturemumbai', ' stayathomechallenge', 'シューズアクション', ' 私たちは気候危機を止められる最後の世代', ' 私たちの未来を奪わないで', 'globalclimateaction2020', ' adiwiyata', ' redflags', ' carbonfootprint', ' climateweeknyc', ' esgmark', 'fffsenegal', ' africamatters', ' 1day', 'letterstotheearth', ' letterstopower', ' readingismagicfest', 'bdclimatejusticeweek', ' fridaysforfuturejapan', ' stoppapreem', ' fridaysforfutureireland', ' faceforclimate', 'tag', ' tag', 'internationaldayofdemocracy', 'climaterefugees', ' actonthescience', ' californiafires', ' digitalaction', ' bugomaforestlifematters', ' wildfires2020', ' climatered', ' hatayyanıyor', ' symces', ' californiaheatwave', 'discobedience', ' danceforclimate', ' nvda', ' stayingalive', ' actonscience', ' fridaysforfuturedublin', ' climatecrisishere', ' iklimkriziburada', 'week21', ' savecongoforest_flora_fauna', ' hurricanelaura', ' savetheamazon', ' postponejeeneet_today', ' youngpeopleforclimateaction', ' 拡散希望', ' indigenouslivesmatter', ' climatecriminal', ' jee2020', ' postponejee_neet', ' justiceforstudent', ' jee_neetcanwait', 'climate_changeبالعربي', ' flattenthecuve', ' stayhomesavelives', 'satyagrahaagainsteia2020', ' scrapeiadraft2020', ' noeiadilution', ' saveeia', ' indianotforsale', ' greenrecoveryni', 'three', ' climate_changeبالعربي', 'south_vally_university', ' モーリシャス重油流出事故', ' mauritiusoilspill', 'week18', 'one', ' climatechangeegypt', 'notoplasticpollution', ' escazuahora', ' climateprotestonline', ' recognizesovereignty', ' indigenousday', ' worldindigenouspeoplesday', ' crokepatrick', ' lovemayo', ' week17', ' colombia', ' fffindia', ' карпати', ' лісовіпожежі', ' вирубкалісу', ' кліматичнийстрайк', ' клімат', ' кліматичнізміни', ' антикапіталізм', 'fridaysforfuturedublin', ' mentalhealthmatters', 'wecanchange', ' climatedefenders', ' skostrejk', ' stophs2', ' veganabolitionist', ' schoolsstrikeforclimate', ' defendthedefender', ' savennp', ' thereisnovaccinefortheclimatecrisis', 'roskalakko', ' earthcleanup', ' fridaysforfuturesuomi', ' fffsuomi', ' schoolsstrike4climate', ' defendthedenders', ' newgreendeal', ' portugal', '私たちの声が変えていること', ' メンバー募集中', ' internetfreedom', ' just', ' leadonclimate', ' savethesahel', ' nevpcc', ' nãohávacinaparaacriseclimatica', ' eu2020decarbonise', 'internet', 'redalert', 'nãohávacinaparaacriseclimatica', ' noexistevacunaparalacrisisclimatica', ' climatewatch', ' sex', ' hiv', ' savetheearth', ' savecongoflora_fauna', 'savennp', 'week82', 'ggi', ' thefuturewewant', 'kenya', 'internationalplasticbagfreeday', 'everytreeisawin', 'noexistevacunaparalacrisisclimatica', ' changeclimate', 'climatecriminal', ' climatestrikecr', ' fff_ukraine', ' veganukraine', 'somaliaat60', 'liitulakko', 'stayhome', ' newgovernment', ' emergenciaclimatica', 'ituc', ' cepow', ' sossaturdays', ' senegal', ' stayhomestaysafe', ' fridays4theforest', ' noplasticosdeunsolouso', ' dejandoelplasticoatras', ' legislenparalavida', 'noplasticosdeunsolouso', ' week80', ' everytreeisawin', ' kenyaforunsc', ' kenyareadytoserve', ' americaunida', 'noweci', 'desertificationanddroughtday', ' foodfeedfibre', ' strikewithus', 'clmatestrike', 'diamundialdelosoceanos', ' worldoceansday', ' coronavirusupdate', ' worldenvironmentday2020', ' pridemonth', ' happyenvironmentday2020', ' biodiversity2020', 'worldenvironmentday2020', ' timefornature', 'bindu', 'saveourforest', ' digitalstrikeindia', ' locustsattack', ' north', ' savewesternghats', ' savunucularısavun', ' notoracism', ' ırkcılığahayır', ' yerlihakları', ' savecongorainforest_floraandfauna', 'klimacoronadeal', ' africaday2020', ' africaday', ' cycloneapmhan', 'crisis', ' staysafestayhome', ' keepmamaafricagreen', 'week64', ' savedibangvalley', ' savediehangpatkai', 'week1', 'africaday', ' keepthecoalinthehole', ' keeptheoilinthesoil', ' campforfuture', 'digitalstriking', ' keepoilinsoil', 'forestforfuture', ' climatemw', ' bandeforestation', ' protectwildlife', 'austrianairlines', ' oesterreich', ' stayathomesavelives', ' washyourhands', ' unccdlandheroes', ' noforestsnofuture', ' shoolstrikeweekonline', 'stayathomesavelives', ' fightallcrisis', ' eugreenrecovery', ' ckimatechange', 'week61', ' kuzeyormanlarınıkoru', ' kazdağlarınıkoru', 'stayathome', ' publichealth', ' physicaldistancing', ' climateactivism', 'strikingfriday', ' 1maydan', ' labourdaymay2020', ' labourday', ' youthtopower', ' laborday', ' labourday2020', 'standwith', ' zeroemissions', ' kenyaeconomicupdate', ' begegnungszonen', 'covid19ke', ' maskchallenge', ' mission1point5', 'digitalstrikeonline', 'earthday2020', ' youngactivists', ' generationhope', 'thegreenambassadors', ' euclimatedeal', ' all4earth', ' 5g', ' agenda2030', ' fffdigitalstrike', ' stailcdigiteach', ' stailcaeráide', ' coronavirusoutbreak', 'actonscience', ' saveanimals', ' stopclimatechange', ' stoneofreflection', ' makeadifference', ' itshotoutside', ' coronavid19', ' biliminarkasındabirleş', ' iklimacil', ' evdekal', 'peopleoftheplanet', ' schoolstrike4cliamte', ' protectouroceans', ' climatecricis', ' climateneutrality', ' klimaatverandering', ' dijitali̇klimgrevi', ' earthhour2020', 'earthhour2020', ' pollutersoutnow', 'pollutersout', 'buevdei̇klimgrevivar', 'feministfriday', ' wikigap', 'banplastic', 'sdg13', 'strikefromhome', 'savecongoforest_flora_fauna', 'covoid19', 'mission1point5', ' climatestriker', ' savecongobasin', 'silentstrike', 'climatestrikr', ' internationalwomansday', ' womansrights', ' dkpol', ' forestfriday', ' ticktock', ' everyday4future', ' school', ' solidarityeuropeanclimatestrike', 'buongiornoatutti', ' timmermans', ' greenfriday', ' coronarvirusitalia', 'globalclimatejustice', ' savetheworld', ' publiclands', ' carbonneutral', ' seedballs', ' citicbs', ' clinate', ' bullettrain', ' birthdaytrees', ' valentinesday', 'wetsuwetenstrong', 'valentinesday2020', ' beatairpollution', ' ecoanxiety', ' protecttheyintah', ' ge2020', 'climatevote2020', ' manitoba', ' generalelection2020', 'granada', ' contaminación', ' salud', 'goinggreen', 'fridaysforfurture', ' fridayshoppingstrike', 'thisisclimatechange', 'african', ' africanunion', 'plasticwaste', ' inspiring', ' ableg', ' spaces', ' globalclimatecrisis', ' pis', 'australiafires', ' globalclimateemergency', ' savecongoforest_fauna_flora', ' australiabushfires', 'fossilfriday', ' fossilfreefriday', ' australiaisonfire', ' tokyo', ' no石炭', ' no石油', ' australiaburns', ' nocoaljapan', 'week44', ' vlimateaction', 'regierung', ' regierungsprogramm', 'climatstrike', ' climatefires', ' roaring20s', 'keepitwild', 'week43', ' crclimatestrikers', ' indigenousrightsarehumanrights', ' congorainforestemergency', 'congoforest', ' savecongofauna_flora', 'strikewithus', ' actontheplanet', ' actonthefuture', ' congoforest', '18dicembre', 'globalassessment', 'crclimatestrikers', 'week41', ' odisha', ' talibara', ' savetalabira', ' indigenoushumanrights', ' timepoy', 'beachclean', ' ecobriques', 'cop25madrid2019', ' copforfuture', ' genderday', ' actonthegap', ' childrensrights', 'socialsummit', ' climatestrikewa', ' fossilfreebham', ' brookline', ' urgenza', ' resiliencelab', ' climateelection', 'treeplanting', ' unfccc', ' 6decembre', ' 6dnow', 'resisters', 'cop25strike', 'i̇klimi̇cinkentler', 'powertothechildren', ' brandon', ' regina', ' saskatchewan', ' blackfridaysales', ' 29november', 'ridhimapandey', ' makemyfriday', ' fossilfuelshavegottogo', 'dark', ' granada', ' motril', ' tunisia', ' sustainabledevelopment', ' generalelection19', ' globalyouthjustice', ' euronews', ' gelecekicincumalar', ' ug4ph', ' climatesafety', 'letsdomore', ' climateactionng', ' wordoftheyear', ' delhipollution', ' delhiairemergency', ' delhi', 'scienceweek', ' saskatoon', ' icclimatestrike', 'goals', 'climatememes', ' greencircle', 'teachersforfuturespain', 'youthclimatestrike', ' mydayinla', ' diadetodoslossantos', ' todoslossantos', ' halloween2019', ' maynooth', 'fattaallvaret', ' fffmumbai', ' diwali', ' firecrackers', ' fridayworkstrike', ' eugreendeal', 'biomass', ' pcilist', ' resistanceunited', ' fresh', ' everydayforfuture', ' leuven', 'wsdf2020', ' youthquake', ' webelieveinaction', 'kliimastreik', ' linköping', ' klimatstrejk', ' klimat', ' klimatkris', ' byebyebojo', 'saveenvironment', 'rainy', 'fathersday2022', ' beingadad', 'ambientemw', ' environmentmw', ' museumweek', ' museum4climate', ' museiperilclima', ' communityawareness', 'museumweek2022', ' ambientemw', ' siccità', ' weather', 'flashflood', 'dayoftheafricanchild', 'onlyoneearth', 'chafrica', 'plantyourage', ' savesoildelhi', ' futureforfridays', ' globawarming', 'worldoceansday', ' savesoilbharat', ' naturalgas', 'worldoceansday2022', ' savesoilsaveenvironment', 'madarakaday', ' climateactionclub', 'proveuswrong', ' delaymeansdeath', 'mapa', ' globalwarmingmatters', 'generationrestoration', 'mothersday', 'followthemoneyke', 'our_smallest_striker', ' our_greta', ' fightforourfutures', ' greenwash', 'itsworseningletstakeaction', ' spicewarriorske', ' thegreenwar', 'recycling', ' leaders', 'onlineclimatestrike', 'census', ' timecapsule', ' athirivercommunitynetwork', ' fossilfuelssuck', ' pessoasnãolucro', ' freeukraine', 'eo', ' romania', 'peacenotwar', ' lovenothate', 'stormeunice', ' keepone1point5alive', ' stopdeforestion', ' upcycle', ' opportunities', ' litteraction', 'fusionenergy', ' vulnerabilities', ' visualimpairments', ' bhumitrainitiative', ' grandparentsforfuture', 'greenwash', 'turnthetide', ' action', ' ourswapna', ' okainkitui', ' vegansforfuture', ' remarqabl', ' nomusiconadeadplanet', ' musicdeclares', ' earthpercent', ' tsakraklides', 'shame', ' leavenotrace', ' 100daysofwalking', ' togetherwecan', 'listentothescience', ' werewatchingyou', ' kliimastreik', ' pcscbill', 'nomore', ' talkforfuture', ' climatejusticeissocialjustice', ' realzero', 'climatemarch', ' globaldayofaction', ' defundclimatechaos', ' fossilfreefuture', ' 5300climate', ' nomoreemptyconferences', ' nofutureinfossilfuels', ' ilmastoisovanhemmat', ' climatetargets', ' nomorefossilfuels', ' momoreemptyconferences', ' letchinastrikeforclimate', ' 气候危机没有疫苗', ' 否认气候危机的人是人类公敌', ' 曹长青吃煤炭', ' fairshare', 'riseupmovement', ' bristol', 'fossilfuelssuck', 'climate_change', 'ilmastolakko', 'freehidme', ' climatestikeonline', ' futures', ' cutedog', ' dogstrike', ' change', 'newprofilepic', ' thereisnoplaneb', ' stopthesame', ' mixedmedia', ' festivals', ' bluedotfestival', ' justtransitionmossmorran', ' 煤炭不能吃石油不能喝', ' pollutersoutpeoplein', ' justtransitionnow', ' climatejusticeisnow', ' stopmagrovedegradation', ' actionnotwords', ' gurgaon', ' haryana', ' fossilfules', ' lgbtq', 'iklimkrizi', ' injustice', ' cambo', ' actionnotjokes', ' mossmorranactionweekend', ' fife', ' polluter', ' mossmorran', 'countdowntocop', ' countdowntocop', ' climatelaw', ' seattleheatwave', ' activist', 'climatereporting', ' climatejournalism', ' gurugram', ' savebuxwaha', ' exxon', ' braefoot', ' generationonfire', ' dunfermline', ' fightfor1point', ' buddha', ' thebuxwahaforest', ' g7actnow', 'ullapool', ' forthroadbridge', ' queensferrycrossing', ' stopthegreenwash', ' savelakshadweep', ' totalagm', ' grevepeloclima', ' reich', ' 環境問題', ' iklimgrevi', ' sp2021', 'arborday', 'thelittleprince', ' baobabs', 'climatelive2021', ' 気候危機止めるために学校休みます', ' earthday2021', 'countdown', ' apr21', ' managersdivest', ' divestment', ' fossilfueltreaty', ' sustainablefinance', ' sustainableleadership', ' awareness', '気候正義', 'justrecovery', ' chegadepromessasvazias', 'protecttheoceans', 'poland', 'tgif', ' indonesia', 'wearewatchingyou', 'irtiturpeesta', 'एकपेड़शहीदोंकेनाम', ' onetreeformartyrs', 'nolng', 'linköping', ' prayforphilippines', 'vote', ' sentinel5', ' withdawthecap', ' votecapdown', ' istandwithgreata', ' kilimanjaro', ' protecttheoceans', 'jedauntukiklim', ' krisisiklim', 'bursa', ' iklimiçinokulgrevi', ' iklimadaleti', ' вместезаклимат', ' reviveourworld', 'technologien', ' naturecrisis', ' peoplecrisis', ' thisiszerohour', ' solvingtheclimatecrisis', ' ourfuture', ' savetherainforest', ' sosamazon', ' climteemergency', 'climatechaos', ' justiceforstudents', ' speakupforstudentssafety', ' plantfortheplanet', ' escazuya', 'alessandria', ' frackoffpse', ' myfuture', ' fridaysforfutureiwate', ' fridaysforfuturesapporo', ' savenorilsk', ' wearadamnmask', ' chapelhill', ' junkterrorlawnow', 'biodiversity2020', ' savecongoforestflora_fauna', ' junkterrorbill', ' seattle', 'cycloneapmhan', ' covidcrisis', ' th3_end_is_nye', ' climatehoax', ' istandwithworkers', ' digitalstrikescotland', ' dunfermlineclimatestrike', 'talksforfuture', ' womenshistorymonth', ' covid19seattle', ' ecologicalemergency', ' yyj', 'educationnotextinction', ' lgbtqpower', ' worldpeace', 'wednesdaywisdom', ' earthrise', ' savioursvspolluters', ' healthcrisis', ' fridaysforfuturehealth', 'southafrica', ' valentinesday2020', ' silentstrike', ' iklimiçimokulgrevi', ' 3nisan', ' australianbushfires', 'zerowaste', ' gretathunbergnobelprize', 'iklimiçinokulgrevi', 'climateassemblyuk', ' headsortails', ' 2050toolate', 'waleg', ' youthled', ' climatepolis', ' epstein', ' stopthemoneypipeline', ' flightshame', ' theearthisonfire', ' australianfires', ' perjantaitgretankanssa', ' strikeforaustralia', ' australianbushfiresdisaster', 'strikeforaustralia', ' australiafire', 'congorainforest', 'whywestrike', 'happynewyear2020', ' mallacoota', 'rivoli', 'bsbots', ' savecongo_flora_fauna', ' klimastrejk', 'merrychristmas', ' holidayseason', 'earthrise', ' mondaymorning', 'firedrillfrifay', 'wearewatching', ' 11dicembre', ' climatehealthemergency', 'studentstrike', '6dmarchaporelclima', 'peoplevsoil', ' rinkeby', ' artivism', ' wearewatching', ' artforchange', 'threedemandsbill', ' globalstrikefornature', ' alessandria', ' blackfridaysale', 'africamatters', ' portsmouth', 'onedayilltellmykids', '29n', ' deepstrike', 'savethecongorainforest', 'activismworks', ' actonlakechad', 'architectsdeclare', ' architectsadvocate', 'bath', ' bonnconference', ' 1komma5grad', ' netzhetze', 'fridays4future', ' pianeta', ' savetrees', ' saverivers', ' saveus', 'movementearthkind', 'physiotherapistsforfuture', ' peopleforfuture', ' ucc', 'fffmapa', 'uniclimatestrike', 'fecherbleibt', ' keinea66', ' supportyourlocalwaldbesetzung', ' riccardo', ' zivilerungehorsam', ' lastgeneration', ' schoolstrikesforclimate', ' niedersachsen', '電力不足', ' uniclimatestrike', 'stopfakerenewables', ' cambioclimatico', ' glasgowschoolstrike', ' oldgrowth', ' sudbury', 'letafghangirlslearn', 'educategirlsforclimate', ' f1', ' röstförrättvisa', 'girls', 'röstförrättvisa', 'healthyplanetstklm50', ' gesellschaft', ' ontario', ' narrowwindow', 'strikeforclimate', 'tavverona', ' notav', ' ourhouseisonfire', 'oldenburg', ' sweden', ' novelentites', ' lismorefloods', ' fossilfools', ' cliamteemergency', ' nrwwahl2022', ' kokumsforclimate', 'stopjackdaw', 'youthnet', ' ynetartcontest2022', ' artchallenge', ' felizfinde', 'internationalearthday', ' extincion', 'toronto', 'virtualstrike', 'faithintrees', ' webofpen', ' stopwar', ' stoprussia', 'fffsolidaritywithsudan', ' disziplin', 'climatesteikeonline', ' bremen', ' cambiamentoclimatico', 'edinburgh', ' weilburg', 'seattle', ' orlando', ' brescia', ' savewolflake', 'polarstern', ' rastalocken', ' freiburg', ' cgil', 'bremen', ' aladinelmafaalani', ' wissenschafftklimaschutz', 'lismorefloods', ' potsdam', ' polarstern', ' carolarackete', ' klimasekte', ' cancelwhitedreadlocks', 'week13', ' padredalloglio', ' ahmedsamirsantawy', ' patrickzaki', ' veritapergiulioregeni', ' mariopaciolla', ' freeassange', ' 18marzo', ' ambientalismo', ' sostenibilità', 'thereisnoplanetb', 'nowar', ' hal0503', 'notowar', 'saynotowar', 'womensmonth', 'internationalwomensday2022', ' solidaritywithukraine', ' fff_nyc_', ' biciinprotesta', ' happyvalentinesday', ' nomineingállok', ' durchseuchung', ' wetlandsday', ' wetlandsnature4people', ' wetlandwonders', ' sciebtists4future', ' 25marzo', 'stopthesoot', ' saveportharcourt', ' gendern', ' cancelculture', ' gruvfrittjokkmokk', ' stopthesoot', ' sootkills', ' praesenzpflichtaussetzen', ' stopthebalcksoot', ' saveourlives', 'fossilgas', ' 2021end', 'marshallfire', ' omikron', 'leadonclimate', ' sinkourco2', ' climateanxiety', ' winteriscoming', ' starvethebeast', 'fighttheclimatecrisis', 'lobautunnel', ' asile', 'helmholtzklima', ' glasgow', ' gaiclimate', ' uprootthecop', ' coatofhopes', ' gaidhlig', ' 5novembre', 'slowtravel', ' noadominga', ' justiciaclimáticaya', ' razetozero', ' 1o5c', ' ffm', ' teufelsbruchbleibt', ' svpol', ' racetozero', ' akk', ' gretino', ' vanessanakate', ' fridaysforfuturemilano', ' precop', ' talkimhangar7', 'klimat', ' gehtwaehlen', ' gam', ' greatersudbury', 'rebelforlife', ' yvr', ' lehrerpräsident', 'stoptmx', 'unga', ' toleranznaklar', ' utpol', ' tmx', ' ganzmannheimhasstdieafd', ' klimastreikma', ' esahora', ' fridaysforfutureberlin', ' forrest', 'trier', ' feminismo', ' fridaysforfuturedetmold', ' scioperoglobaleperilclima', ' salo', ' dkgreen', ' nomoreexcuses', 'corsocomo', ' frühstart', ' standwithsapmi', 'climatestike', ' electricvehicle', ' belem', ' fridaysforfuturemauritius', 'codered', ' guinée', ' riverbankprotection', 'amtischmit', 'backnang', 'swgreen', ' fossiltreaty', ' 20agosto', ' fachaustausch', ' friday_for_fullnodes', ' emsdetten', ' sıcaklamücadeleet', ' i̇klimacil', ' i̇klimi̇çinokulgrevi', 'ffm1308', ' kapitalismusrausausdenköpfen', ' pride', 'stockholmpride', ' türkiyeyanıyor', ' azione', ' urgenceclimatique', 'notce', ' hochwassergebieten', ' rosenheim', ' straykids', ' i̇klimgrevi', 'erftstadt', 'euforeststrategy', ' wahlprogramm', 'evimizyanıyor', ' hedef1buçuk', ' childhonouring', ' ps126', ' endecocide', ' saveourplanet', 'stayhomestaysafe', 'bega', ' bolsonaromentiroso', 'schoolstrikeweek', 'elokapina', ' wordsforthefuturemw', ' falmouth', 'nation', ' land', 'klimanapola', ' pnrr', ' giustiziaclimatica', ' colombiasos', ' paronacionalcolombia', ' peaceforpalestineandisrael', ' globalstrikeonline', ' gibrassismuskeinechance', ' 10maggio', 'holocaust', ' fridaysforfutureottawa', ' actonyourpromises', ' ritornoalfuturo', 'enerjidönüşümü', ' fffbangladesh', 'recoveryplan', 'voteforclimate', 'savetheokavangodelta', '23nisan', 'votescottishgreens', ' newclimatewar', 'actonyourpromises', ' c12', ' alianza', ' zittau', 'oneworld', ' onehumanity', ' worldwaterday', ' nevergiveup', 'buchholzindernordheide', ' jrc', ' taketheknee', ' grevemondiale', 'youthforclimate', ' activismisnotacrime', ' disharavi', ' standwithdisharavi', ' 星期五氣侯行動', ' 週五併未來', ' fffhk', ' climateactioninyourarea', ' wetteraukreis', 'blacklifematters', ' planetaryboundaries', ' facetheclimateemmergency', ' undemokratisch', ' nzpol', 'time100', ' toolkitexposed', ' farmersprotesthijacked', 'dieselaggregat', ' nextgen', 'greenspaces', 'worldiswatching', ' africansrising', 'parisclimateagreement', 'happynewyear2021', 'seaturtle', 'esperanza', ' waterislife', 'voicesofyouth', ' data', ' querdenken211', 'digitalstrikeforclimate', ' notoredtagging', ' junkterrorlaw', 'neve', ' nonfossilizziamoci', ' boycottamazon', ' blockfriday', ' noblackfriday', ' boycottblackfriday', 'teamplanet', ' koalas', ' bcgreens', ' bcelection2020', ' bcelxn2020', ' votegreen2020', ' youngreens', ' youthvote', ' buildbackbetterscot', 'камчаткачс', ' oceanissick', ' тихийживи', 'clomatestrike', ' recoveryplan', 'climatedelay', ' canlab', 'bosbach', ' antikohlekiz', '25strabajoyclima', ' smallstreamercommunity', ' climatestrikestjohns', 'buildbackbetterscot', ' fighttheclimateemergency', ' climateactiongh', ' redalertonclimate', 'giustiziaclimatica', ' riseupforchange', '緑の党', ' katrineholm', ' escolacompromesa', 'staysafe', ' podcastsforfuture', ' greencourse', 'korona', 'greenecovery', ' fridaysfortheplanet', ' planttreessavetheearth', ' town_hall', ' postponeneetjee_today', 'amazzonia', ' savana', ' stopuemercosur', ' bugoma', ' ngb', ' saving', ' dielinkeep', ' youthday', ' youth4globalaction', 'stopthewensumlink', ' stern', ' hitzewelle', ' bundesblockierliga', ' forfuture', ' shutthesites', ' nhsnoths2', ' censorship', ' hs2rebellion', 'savezoka', 'greenrecovery', ' stopcovid', ' shuttheshites', 'skostrejk', 'занацпарки', ' rebeltrail', 'digitalstrikeforclimat', ' занацпарки', 'newdealfornature', ' sosamazônia', ' blocktddz', ' worldenviornmentday', ' renewableresources', ' grundgesetz', 'treateverycrisis', 'biodiversityday', ' whatthefork', ' economyforfuture', ' digitalstrikeoxford', ' saveourforest', ' villagers', ' internationalworkersday', 'earthdaylive', ' climateart', ' thereisnoclimatecrisis', ' fridaysforfuturedigital', 'hometreegarden', ' climatedecade', ' climatemobilization', ' letsactnow', 'serveearth', ' earthaction', ' acciónglobalporelclima24a', 'novosibirsk', 'youthstrikeforclimate', 'остановиогонь', ' digitalstrikeph', ' fridaysforfutureusa', 'peopleoverprofit', ' creativeclimatestrike', 'digitalstrikeph', ' klimaatstaking', ' onemillionofus', ' earthdaylive', 'climateonlinestrike', ' 立憲フェス2020', ' schoolstrike4nature', ' coronapartys', ' ipreg', ' sealevelrise', ' savelakevictoria', '13mars', ' lönnemo', ' seattlecovid19', ' futuresfriday', ' unternehmen', 'internationalwomensday', ' picktherightbattle', 'internationalwomensday2020', ' extinctionr', ' 1point5degreeslive', ' ilmastomeemi', 'climatelaw', ' vanessa', 'civildisobedience', ' bristolys4c', ' stormjorge', ' machökowiederlogisch', 'salo', ' sprintvermoegen', ' wasserstoff', 'kenyan', 'climateawarenessaction', ' nairobi', ' kenyanclimateactivists', ' towardstenpercenttreecover', ' wetsuwetensolidarity', 'красноярсдыши', ' stopttip', ' strikeeverywhere', ' neudenken', ' oxford', ' teach', ' environmentalawareness', ' wetsueten', ' coastalgaslink', ' fridaysforfutureseattle', 'rapport', ' youthstrike', 'happyvalentinesday2020', ' museumsforfuture', ' backasápmi', 'ambientalismo', 'winnipeg', ' limerick', ' oneplanet', ' onefuture', ' stormciara', 'oceanweek2020', ' waterford', 'sopitasxairelibre', ' cop', ' santcugat', ' listenlearnact', ' waleg', ' wpgpoli', ' mbpoli', 'skolstrejkförklimatet', 'schoolsforfuture', 'dollypartonchallenge', ' changeclimatechange', 'funfact', 'onemillionofus', ' climatechangeeducationact', ' schoolsforfuture', 'everybodynow', 'justathought', ' kapitalmarkt', 'ecology', 'グローバル気候マーチ', ' emergenciaclimáticaya', 'brd2020', ' unitebehindscience', ' awis4future', ' gehtdoch', 'houseoflords', 'rogerwakeupnow', ' breaking', ' prayersforaustralia', 'listenlearnact', ' democracy', ' gretathurnberg', ' savethecongorainforest', 'makeitcount', ' solidaitywitharshak', ' amwriting', ' nswfires', ' demcastfl', 'takeittothestreets', ' whywestrike', ' journalisten', ' moeritz', ' facc1amorete', 'article6', ' fixarticle', ' traditional', ' bolivia', ' stuttgart21', ' pornuestroplaneta', ' tiempodeactuar', ' sextaextinción', 'yearsproject', 'communityadvent', ' climatedeedsnotwords', ' protectpubliclands', 'copforfuture', ' ge2019', ' carolsforclimate', ' generalelection', ' racist', ' islamaphobic', ' sexist', ' homophobic', ' makepolluterspay', 'frackboris', ' toriesout', ' notmypm', 'mairakellers', ' jänschwalde', ' nopalm', ' sheffield', 'zeilblockieren', '069forclimate', ' bergenz', 'antarctic', ' globalactionday', ' uebermedien', 'graz', ' justiciasocial', 'globalclimateactionday', 'cleanbc', ' zerohour', 'twotreesaweek', ' sustainablehealthcare', ' actlikeit', ' nomorecoalui', ' 15novembre', ' bolloré', ' studiom', ' kleineaktivistin', ' sinjusticianohaycop', ' glamourwoty', 'cupcakesagainstcapitalism', ' climatestrikela', ' petebuttigieg', ' sunrisemovement', 'peoplevsarcticoil', ' otromundoesposible', 'verzicht', ' nomoreuicoal', ' anotherway2019', 'appreciationpost', ' donuteconomy', ' conviviality', ' caringeconomy', ' partnerism', ' planetboundaries', ' betterwithforests', ' resisters', ' angola', ' polizeigewalt', ' problempolizei', 'digitalclimatestrike', 'inyourmemory', 'environmentmw', ' planetearth', ' museumsarenotneutral', ' museums4climate', ' wettribe', ' day18', ' ldc', ' day2', 'vettel', ' formel1', 'climatestrikeforpeace', ' sustainme', ' pariserabkommeneinhalten', 'friedensbewegung', 'eusummit', ' eusummit', 'bracebridge', ' votegreen', ' ontariogreens', ' afrikavuka', ' dwenteignen', ' fffnigeria', 'rp22', ' moreofus', ' olivin', ' kenosha', 'riseupmovt', 'leipzigfürsklima', 'lettheearthbreathe', ' schoolsandclimateaction', 'report', ' vanessa_vash', ' tod', ' guterres', ' time4truth', ' glasgowclimatepact', ' transiciónenergética', ' betd22', ' marchforclimateleadership', ' riseupmovt', ' thinkglobalactlocal', ' bruxelles', 'live', 'earthhourday', 'actionaid_bangladesh', ' climate_justice', 'tibetclimatecrisis', ' burncarsnotgas', ' feuerdemkapitalismus', ' b2503', 'bruxelles', ' dd2503', ' witten', ' ffm2503', 'rassisten', ' haloac3', 'neumayer', 'unige', ' unigenova', ' bremerhaven', ' arktis', 'deadlocks', 'haare', 'tacoma', ' frackedgas', ' toxins', ' faithintrees', 'lgbtqia', ' wokeismus', ' politicalcorrectness', ' veganismus', ' amessagetoputin', ' keep1', 'schools', ' teachersmatter', ' studentvoice', 'motherearth', 'reichsbürger', ' groundhogday2022', ' groundhogday', ' quitfossilfuels', ' divestfromfossilfuels', ' lnpfail', ' actonclimatevic', 'lobau', 'gretatilidie', ' mangroves', ' mangrovecleanupmumbai', 'speciesrichness', ' specialprotectionarea', 'fridaymotivations', ' banopenpitmining', ' soscuneneangola', 'clmateaction', ' philippines', 'wettervoracht', ' week', ' savegambos', ' paarsevrijdag', ' schoolstrike2021', 'togetherforourplanet', 'जयभीम_जयजौहार_जयकिसान', ' femanism', ' bcstorm', ' bcflood', ' heatdome', ' inspiringgenerations', 'klimaatmars', 'sheffield', 'undantheun', 'bbc', ' mothstoaflame', ' moth', ' puppet', ' onestepgreener', ' franciscovera', ' nationinwaiting', ' yesscots', 'nuclearpower', ' exitcoalnow', ' netzeroneedsnuclear', 'nucléaire', 'fffnov5', ' dinnaedawdle', 'riverdefenders', 'tremendas', 'amazonrainforest', ' indigenouspeoples', ' demarcacaoja', ' youngpeopleforchange', ' sustainabletransport', ' eastayrshire', ' milan', 'treemendous', ' treesarmy', ' phoenix', ' urbanforests', 'gogreta', 'foodjusticefriday', ' bundjugend', 'mpkongress', 'superman', ' medievalmanuscripts', 'physik', 'bellaciao', 'media', 'l25', 'youthstrike', ' angst', '世界気候アクション', ' ミュンヘンは１万２千人', ' あと４年', 'danke', ' laclasequevaacambiarelmundo', ' allesfürsklima', 'manifencours', ' 24sept', 'bautzen', 'grevepourleclimat', ' climateincome', ' pricepollution', ' artistofthesummer', ' leeds', 'desenraizaelsistema', ' itsnow', ' trees4peace', ' noaltpp11', ' macul', ' laflorida', ' lagranja', ' peñalolen', ' twlz', ' luebeck', ' climatechanges', 'dkpol', 'laclasequevaacambiarelmundo', ' warriormoms', 'healthcarejustice', ' connected', ' showup', ' peoplepower', ' sunrisemovementla', ' hcala', ' youthclimatestrike', 'coatofhopes', 'greifswald', ' herbert', 'horrornights', 'presidentielles2022', ' jeunes', ' jeunesse', ' égalité', ' feminisme', ' avenir', ' jadot2022', ' sicherebildung', ' einfachmachen', ' booktwitter', 'impactosocioambiental', ' hidrelétricas', ' fridaysforfuturepunjab', ' umsganze', 'actintime', 'laschomat', 'changementclimatique', ' medias', 'lmv21', ' bologna', 'yenilenebilir', ' i̇klimkrizi', 'firstnations', ' lostchildren', ' residentialschools', ' firstnations', 'cleanwater', ' i̇klimi̇çinhareketegeç', ' savekolkatatrams', 'forests', ' abstractexpressionism', ' waadotworld', ' dinosaureconomy', ' managersforfuture', ' astonmartinf1', ' saveforest', ' chipkophirse', 'cap', 'climatestrike4future', ' fridaysforfutureitaly', ' fridaysforfutureitalia', ' libri', 'rewritingextinction', 'youthtakeover', 'veckobrevforfuture', ' sealevelrising', 'climastrikeonline', 'valència', 'globalbanonfracking', 'climateexp0', ' ecohomes', ' mildura', ' geschichtsrevisionismus', ' savetheforests', ' naturerecovery', 'watercrisis', 'parisionayla', ' 23nisan', 'aðgerðirstrax', ' loftslagsverkfall', ' ukgovt', 'everest', ' nepalese', ' noméspromesesbuides', ' landtagswahlen', ' rostock', ' xrcork', ' italianclimatenetwork', ' giornatamondialeclima', 'werder', 'nomáspromesasvacías', 'nurmalso', ' sengal', ' frauenkampftag', 'fridaysforfuturebangladesh', 'fightforfuture', ' changethesystemnottheclimate', 'sdg17', ' toolkitcase', ' delhipolice', ' vertical', 'toolkit', 'iklimgrevi', ' fastfashion', ' kar', ' humedalessos', 're4c', 'handcramps', ' sahel', ' greatgreenwall', 'satkhira', ' leibnizmuseen', ' venezuela', ' オンライン気候ストライキ', ' acab', ' wearamask', 'zeroemission', ' emissionfree', ' sailingcargo', ' sustainableshipping', ' ancienttechnology', ' sailfreight', 'pune', ' ގިރިޓީތިމާވެށި', 'accionclimatica', 'coalfreenigeria', ' turnitaround', '5g', 'defendenvidefenders', ' kamayparasaklima', ' taranto', 'accionporelclima', 'wethepeople', '30daysforecosocialjustice', ' day9', ' september25', 'youthtakelead', ' yesghana', 'bharatbandh', ' आज_भारत_बंद_है', ' istandwithindianfarmers', ' isupportfarmers', ' 25सितम्बर_भारतबंद', 'klimatagājiens', ' erfurt', ' versammlung', 'dontnuketheclimate', 'marschfürdasleben', 'moriaevakuieren', 'week11', ' savecalifornia', ' forestsofhope', ' oneearthonemovement', ' neverforget', ' savemyplanet', 'unserezukunftdeinewahl', ' muensterklimawahl2020', 'standingourground', ' evictadani', ' wanganandjagalingou', ' klimacampost', 'ilmastonälkälakko', ' amazoniasinfuego', 'díainternacionaldelajuventud', ' climatestrineonline', ' escazúahora', 'whyrealpeoplehateborisjohnson', ' torycorruption', 'ac3107', 'newyorkstate', ' animalpolitics', 'savecoringa', 'hna', 'trashchallenge', 'fridaysforfutureafghanistan', 'internetcensorship', 'gogretago', ' rustbelt', ' justhanks', 'plasticbagfreeday', ' мывместе', ' mbe', 'ceipausiàsmarchalboraia', 'occupy', 'ichildforchild', ' salakyagyear2', ' justandgreenrecovery', ' wearenature', ' rightsofnatureph', ' desmatamento', 'digital', ' iklimkrizini', ' droughtmonitor', 'uttarakhandforestfire', ' prayforuttarakhand', ' savethehimalayas', ' hro2505', 'pandemia', 'co2ffee', ' fridaysforyou', ' phmnoplanetb', 'buildabetterfuture', ' childmovement', 'anarosaquintana', ' yoapoyoalgobierno', ' uniontrabajoyproduccion', ' anarosacorrupta', 'spelthahn', ' solarpark', ' hambach', ' meyerburger', ' heterojunction', ' digitalstrejk', ' nwo', ' 17daystolearn', ' fffbd', ' norainforestinmytank', 'matura', 'dirittiincomune', 'rojava', ' ecomuslim', 'confinement', ' covi19', ' digitalskolestreik', ' transition', ' recover', ' 未来は変えられる', '24aprile', ' unitingfromhome', 'stopdukeenergy', 'solvingit', ' greenweek', ' kursaufklimafakten', ' klimafakten', ' earthday50', 'climatesolutions', 'thuiswerken', ' thuismoederen', ' crises', ' klimaatnoodtoestand', ' burgerberaad', ' coronatruth', 'wearethechange', ' stayinghome', ' 3april', ' teachersforclimate', 'ulverston', ' cumbria', 'koronavirüs', ' coronaviruschallenge', ' swimhour', ' stayhomebelgium', ' savemountida', ' שביתהדיגיטלית', 'march4women', ' iwd2020', ' feminismus', ' droitshumains', 'week5', ' fffparivartan', ' bruselas', ' unprecedentedchangenow', ' coops', ' jerez', 'iwd2020', ' patriarchy', 'greenfridays', ' eco', ' エコ', ' march4women', ' togo', ' climateheroines', 'turncollegegreengreenagain', 'bristolys4c', 'phoenixtreesinschools', 'myworldmyhome', ' collegegreen', 'bristolyouthstrike', 'bristol', ' techforgood', ' rosenmontag', ' bced', 'climateaction_kenya', 'orignial', ' diezeitistjetzt', 'coastalgaslink', 'loveletterstomotherearth', ' xrfamilies', ' chester', 'timetogrowup', ' lovetheplanet', ' strike4youth', 'proudparents', ' westsussex', ' southbourne', ' chichester', ' tonbridge', ' letusbeheard', 'objectsoflove', ' smkopen', ' glamsforfuture', 'indigenouslaw', 'fffdelhi', 'xessantcugat', 'koala', ' australiawildfires', ' victoriabc', ' yyjtraffic', 'dontbesilenced', ' facemask', 'radtke', '14feb', ' liverpool', ' tradeunions', 'standwithaustralia', 'europeatwork', ' talaklarspråk', ' indigenousyouthforwetsuweten', 'palmsteadslw', ' talklandscape', 'worldeconomicforum2020', 'glaciers', ' youhaventseenanythingyet', 'antarcticlog', ' scicomm', ' sciart', 'eyesongreed', ' eyesongreed', ' greveduclimat', 'greveduclimat', ' lausanne', 'finestresu', ' casalettori', ' fightinequality', 'fragflasbarth', 'zerocarbon', ' thirdindustrialrevolution', 'crisisclimática', ' artistsforfuture', 'generationenkonflikt', 'onpassealaction', 'r4today', ' livwol', 'colombia', 'bilan2019', ' networkofnow', 'scomomustgo', ' maintaintherage', 'gstanzlfreitag', ' umweltbewusstsein', '68er', ' changementclimatique', ' amazonie', 'trudeau', ' carbonbudget', 'tàrrega', 'allertameteo', ' yourvoteourfuture', 'rnbreakfast', 'firedrillfridays', 'ccm', ' fightforourfuture', 'huelgaemt', ' emtonstrike', ' laemtenlucha', 'takeastand', ' gengnd', ' cumbresocialclima', '6dporelclima', ' marchaclimática', 'ultimatumcop25', ' ultimatumcop25', 'youthvote', 'directo', ' tarsands', ' spain', ' thisisica', ' exinctionrebellion', 'offenburg', ' syria', ' rojava', ' greenrojava', 'viernesporelfuturo', 'bffuneralearthwake', ' xrvan', 'victoriabc', ' yyjpoli', ' lnginbc', ' zeilblockieren', ' 2911ffm', ' 069forclimate', ' chestertweets', 'strajkklimatyczny', ' worldwide', ' primark', 'dpareporter', 'voteearth', ' supersathorn', ' howdusitdoesit', 'exeter', ' werder', ' trento', 'nhs', ' klimaplan', ' freising', ' gooutside', ' neilyoung', 'globalearthstrike', '30novembre', ' museichehannostoffa', ' museumforfuture', 'hszfuersklima', 'consumitis', ' publicidadengañosa', ' comerciojusto', ' trabajoinfantil', ' huellaecológica', 'divestnow', ' wearethechange', ' enoughisenough', ' timeisup', 'itsourtime', 'bcyouth', ' youth16', ' acquaaltavenezia', 'enoughisenough', ' grevepourleclimat', ' pourlefutur', 'childrenrising', ' childrensday', 'umweltmedienpreis', ' bovallstrand', 'outnow', ' new', ' single', ' katebush', ' beegees', ' newmusicmonday', ' clt', 'guwahati', ' futurelifesmatter', 'cayouthvsbigoil', 'togetherwefindtheway', ' neverwalkalone', ' sundaymotivation', ' sundaythoughts', ' protectearth', ' loveearth', ' vänsterpartiet', 'losangeles', ' teach4climate', ' losangeles', 'getoutthevote', 'cop35', 'profis', ' criticalmass', 'transmountain', 'gretainvancouver', 'silverlinings', 'update', 'yvr', ' live', 'fünfhundert', ' bangor', 'heathyplanetstklm50', ' earthdayriseupmovement', ' climateadaptation', ' pfg', 'greenoriginals', 'galway', ' hotair', 'ucustrike', ' oneofusallofus', 'medioambiente', 'resistg7', 'kidlit4climate', 'oxygentomanaus', 'buildourfuture', ' nipaluna', 'viergames', ' medioambiente', ' wargames', ' juegosdemesa', ' rol', ' fromantarcticawithlove', ' feministswantsystemchange', 'oceanheroes', 'santamonica', 'weiterso', 'brisbane', 'savesoilbengaluru', 'stopinthenameoflove', ' valentinstag', ' kuschelnstattkohle', 'london', 'tankerban', ' london', ' overnight', ' refusetofly', 'begrijpendlezen', 'maldives', ' cop97', 'istanbulsözleşmesiyaşatır', ' istanbulcontract', ' womensupportingwomen', 'manidelucesysombras', ' volvamosconjusticiaclimatica', ' buevdei̇klimgrevivar', 'striking', 'newcastle', ' pittsburgh', ' klimalaman', ' todaynottomorrow', 'rastede', 'roadshow', ' srukalahasthi', ' dontcuttrees', ' needtosavewaterresources', 'globalwarmingisreal', ' klimastrejke', ' dkklima', 'kathradayouth', 'stratfordon', ' notgoingback', ' landback', ' defundtmx', ' pretoria', ' southafrica', ' bundsh', ' uprootthesyestem', ' climateactni', ' navalnyj', ' uccan', ' evictomv', ' brighton', ' mayo', 'plastic', 'recycled', ' fridaysforco2', 'climateclock', ' patrioxy', ' kebetu', 'fff24', 'shutdown', 'earthdayis365days', ' młodzieżowystrajkklimatyczny', ' strajkklimatyczny', ' koronawirus', 'svtnyheter', ' glastonbury2022', ' workerjustice', ' steindesanstosses', 'activistabd', 'donuteconomy', 'conviviality', 'caringeconomy', 'partnerism', 'planetboundaries', 'spanishpoint', 'careforourcommonhome', 'willieclancy', 'climateschool2022', 'luciodalla', ' buenos', ' nonfossiliziamoci', ' capitalismkills', '60seconds', 'coscienza', ' ksg', ' climatefriendly', ' missioninnovation', ' ethicalandinformedcitizens', ' scienceweek', 'ocean', 'byebyebojo', ' grandchildren', 'uproot', 'globle', 'angola', ' russie', ' ndc', ' bne', ' manifestation', ' animalheroes', ' ecosistema', 'africanvoices4climate', ' fightclimatecrisis', 'wef20', 'netzstasi', ' mararo', ' cancún', ' maltempo', 'climateschool', 'f4fyouthstriker', 'youthforclimatechange', 'youth4tpnw', 'itshappening', 'plantbasedfood', 'climasv', 'keinea66', 'supportyourlocalwaldbesetzung', 'sadhguru', ' halalan2022', ' kulayrosasangbukas', ' eccunion', 'greenhousegas', 'conferênciaethos', 'newportbeach', ' malambiente', 'oceanalert', ' extinctionthefacts', 'climaterightsnow', 'climatepeace', 'globalgoals', 'gaia', 'savenature', 'savebuxbaha', 'riseupmovment', 'planttree', 'nuclearbanweek', 'consciousplanet', 'justiceclimatique', 'worldclimateactivist', 'africanclimatealliance', 'beingadad', 'museumsarenotneutral', 'museumweek', 'museum4climate', 'museiperilclima', 'glasgowschoolstrike', 'communityawareness', 'climatecantwait', 'freemint', 'reduce', 'reuse', 'consigli', 'viaggio', 'viaggiare', 'savesoildelhi', 'futureforfridays', 'f1', 'ban', 'phasingout', 'ddday', 'savesoilbharat', 'savesoilsaveenvironment', 'cimatejustice', 'weltfahrradtag', 'lyne', 'stopfossilfuel', 'votegreen', 'f4fystrikers', 'afrikavuka', ' citiesarelistening', 'punjab', 'scientistrebellion', 'nationalbikeweek', 'worldbeeday2022', 'endfossilfinance', 'lossanddamagefinance', 'bepartofthesolution_notthepollution', 'greatgambia', 'marinescience', 'spreadawareness', 'marineeducation', 'everydayforfuture', 'leuven', 'fastingfridaysforfuture', 'overshootday', 'srukalahasthi', 'mallorca', ' justiciaclimatica', ' 25sclimaytrabajo', 'monkstownvillage', 'dontcuttrees', 'climatereparations', 'savefuturebangladesh', 'boomersforclimatejustice', 'planetnotprofit', 'fossilfools', 'our_greta', 'cliamteemergency', 'earthovershootday', ' erdüberlastungstag', 'weatherupdate', ' dptv', 'dptv', 'bankingonabetterfuture', 'nocgl', 'fridays4forest', 'dutyofcare', 'fightforourfutures', 'forpeopleforplanet', 'biodiversitycrisis', 'tujepamoja', 'investinourplanet', 'earthday22', 'earthdayeveryday', 'アースデイ2022', 'ynetartcontest2022', 'artchallenge', ' 1point5', 'resistanceunited', 'saveearth', 'letearthbreathe', 'savethetrees', 'fbf', 'spicewarriorske', 'gjrg', 'unsdgs', 'foodsecurity', 'hunger', 'goodfriday', 'freepalaestine', 'vanessa_vash', 'climatereparationsnow', 'leaders', 'politicians', 'stopwar', 'stoprussia', 'dogs', 'earthkeepersunite', 'climatehopeful', 'ourplanetourhealth', 'nft', 'time4truth', 'glasgowclimatepact', 'icymi', 'savekirkstallvalleynr', 'diainternacionaldelajuventud', 'transiciónenergética', 'human', '2aprile', 'fridaysagainstfuture', 'sfb', 'marchforclimateleadership', 'web3', ' lahoradelplaneta', 'journeyforsoil', 'batman', 'netzero2030', 'pessoasnãolucro', 'volvamosconjusticiaclimatica', ' manidelucesysombras', ' accionglobalporelclima24a', 'gta', 'brighters', 'bsb', 'actionaidbangladesh', 'burncarsnotgas', 'dontfuelwar', 'fffke', 'halalan2022', 'proplenotprofit', 'climatebarbage', 'haloac3', 'nannahelen', 'endcoalnow', 'fossilfoolfree', 'extremismi', 'frackedgas', 'climatestrikenow', 'globalrecyclingday', 'fridaysforforests', 'votethemout', 'padredalloglio', 'ahmedsamirsantawy', 'patrickzaki', 'veritapergiulioregeni', 'mariopaciolla', 'freepalestine', 'freeassange', 'clmateactionnow', 'gender', 'wokeismus', '17luglio', 'politicalcorrectness', ' oneplanetonechance', 'nomorewars', 'stopthewar', 'save_tree', 'action4impact', 'womenintech', 'siochain', 'shanti', 'seriousness', 'urgency', 'lovenothate', 'crisisoninfiniteearths', 'fff_nyc_', 'climatelive2022', 'savegreen', 'stormdudley', 'stormfff', 'keepone1point5alive', 'stopdeforestion', 'taxtherich', 'unea5', 'plasticstreaty', 'naturalproducts', 'upcycle', 'recycle', 'ottawaoccupied', 'freedomconvoy2022', 'northtynesideclimatestrike', 'humanitarian', 'recruitment', 'stopcgl', 'vanpoli', 'greenhousegases', ' sco', ' copcollab26', ' 21for21', 'groundhogday2022', 'groundhogday', 'quitfossilfuels', 'bhumitrainitiative', 'gállok', 'lnpfail', 'wetlandsday', 'wetlandsnature4people', 'action', ' infrastructure', 'remarqabl', 'nomusiconadeadplanet', 'musicdeclares', 'earthpercent', 'ecosocialism', 'protectmangroves', 'saveportharcourt', 'environmentalprotection', 'gruvfrittjokkmokk', 'leavenotrace', 'banopenpitmining', 'stopthebalcksoot', 'soscuneneangola', 'saveyourplanet', 'werewatchingyou', 'odetteph', 'thwaites', 'gearceimaeraide', 'nannassay', 'mpa', 'paarsevrijdag', 'pcscbill', 'calamity', 'ourcommonhome', 'switch', 'industrialists', 'withdrawthiscap', 'schoolstrike2021', 'copon', 'knittingnannas', 'bcstorm', 'bcflood', 'climatepoli', 'cop26bbc', 'like', 'talkforfuture', 'climatejusticeissocialjustice', 'realzero', 'environmentartist', 'cop26glasow', 'sustainablegoodlife', 'ndcs', 'mothstoaflame', 'moth', 'puppet', 'nationinwaiting', 'yesscots', 'scottishindependence', 'exitcoalnow', 'netzeroneedsnuclear', 'uprootthecop', 'jagrutyatra', ' goyantkollsonaka', 'amchemollem', 'indigenouspeoples', 'savehasdeoforest', 'actionforclimate', 'climatefighters', 'climatecompensation', 'overnight', 'faiths4cop26', 'faith4climate', 'riseandrebel', 'fossilfreefuture', 'wecandothis', 'whatthecop', 'copon4net', 'treesarmy', 'phoenix', 'smr', 'go100re', 'cl', '1o5c', 'uprootthesystemi', 'dhaka', 'theyoutharerising', 'ffm', 'windermere', 'river', 'timesrunningout', 'envirocoresubject', 'nomoreemptyconferences', 'nofutureinfossilfuels', 'cop15', 'scottmorrison', 'climatetargets', 'nomorefossilfuels', 'momoreemptyconferences', 'alternativeenergy', 'savehasdeo', 'हसदेव_बचेगा_देश_बचेगा', 'fairshare', 'fridaysforfuturemilano', 'coderedclimate', 'ミュンヘンは１万２千人', 'worldpeopleofnatureday', 'schoolstrikes', 'gam', '24septiembre', ' juicioporelclima24s', 'climatestrike2021', 'pupsfortheplanet', 'ganzmannheimhasstdieafd', 'climateincome', 'pricepollution', 'buonanotte', 'buenos', 'itsnow', 'esahora', 'trees4peace', 'noaltpp11', 'macul', 'laflorida', 'lagranja', 'wortwechsel', ' eudk', 'klimastrejke', 'dkgreen', 'germanelection2021', 'nomoreexcuses', 'greenparty', 'klimalaman', 'climatestikeonline', 'tourism', 'futures', 'cutedog', 'dogstrike', 'connected', 'showup', 'sunrisemovementla', 'hcala', 'treatacrisislikeacrisis', 'famines', 'endclimatesilence', 'ipccreport2021', 'jeunes', 'jeunesse', 'égalité', 'avenir', 'thereisnoplaneb', 'mixedmedia', 'festivals', 'justtransitionmossmorran', 'voteforclimateaction', 'polluters', 'pollutersoutpeoplein', 'justtransitionnow', 'climatejusticeisnow', 'actionnotwords', 'gurgaon', 'haryana', 'worldwaterweek', 'fossilfules', 'stopbeingfossilfools', 'sıcaklamücadeleet', 'i̇klimacil', 'i̇klimi̇çinokulgrevi', 'injustice', 'cambo', 'climatesolution', 'gulfstreamcollapse', 'kipppunkt', 'actionnotjokes', 'stopclearcuts', 'nswstategov', 'protectourforests', 'saveourkoalas', 'fridaysforforest', 'draughts', 'cliamtestrike', 'edo', 'rapidreduction2030', 'climatenow', 'türkiyeyanıyor', 'mossmorranactionweekend', 'fife', 'polluter', 'mossmorran', 'takeabreathwecansolvethis', 'borneo', 'bc', 'urgenceclimatique', 'medias', 'intermittentfasting', 'nogenerationscanexistonadeadplanet', 'rains', 'flooding', 'i̇klimkrizi', 'i̇klimgrevi', 'lostchildren', 'residentialschools', 'rehabilitatekhori', 'naturalcalamities', 'nomorelies', 'heatwave2021', 'hedef1buçuk', 'seattleheatwave', 'activist', 'climatejournalism', 'i̇klimi̇çinhareketegeç', 'gurugram', 'safewater4all', 'genderequality', 'africaisnotàdumpster', 'netzstreikfuesklima', 'exxon', 'braefoot', 'nosustainabilityonadeadplanet', 'iammadagascar', 'fixated', 'alarmed', 'nannasstrike4climate', 'preserve', 'enviroenment', 'climatecrisisbangladesh', 'bangladeshalreadysuffering', 'digitalprotest', 'saveforest', 'dunfermline', 'fightfor1point', 'ps126', 'withdrawthecapnow', 'facetheclimateemergengy', 'fridaysforfutureitaly', 'evironmentalism', '17sdgs', 'goodhealth', 'qualityeducation', 'lifeonland', 'youngpeopleshopeinmotion', 'g7actnow', 'saverivers', 'saveus', 'digitalstrikepune', 'michaelmann', 'vocalmedia', 'forthroadbridge', 'queensferrycrossing', 'stopthegreenwash', 'ilmastovaalit', 'wedemandimmediateaction', 'stopreconafrica', 'ilmastohätätila', 'youth2030', 'totalagm', 'pge', 'yositecreomartayolga', 'cataluñaisspain', 'vivaespaña', 'giro', 'maaneskin', 'yoveosalvame', 'telecincomanipuladores', 'fabricadelateleacosadores', 'carlotapradojusticiaya', 'hundimosmediaset', 'schoolstrikeforclimateaction', 'forster', 'nsw', 'climatestrikeforster', 'cycloneamphan', 'resilience', 'erasmusplus', 'fffmay14', 'canpoli', 'climateactionbill', 'pnrr', 'colombiasos', 'paronacionalcolombia', 'kanvango', '10maggio', 'savetheforests', 'fridaysforfutureottawa', 'ritornoalfuturo', 'mindthecap', 'sp2021', 'fffbangladesh', 'nomowmay', 'fridaysforfuturepakistan', 'pakistan', '温室効果ガス削減目標の大幅引き上げを求めます', 'localelections', 'vacunaparalacrisisclimatica', 'peat', 'ocsb', 'localelections2021', 'plasticfreeocean', 'childrenareourfuture', 'elfonsite', 'receipts', 'stopline3', 'haltmarinernow', 'nodapl', 'nosacrificezones', 'endplastic', 'climatepledge', 'yemencantwait', 'fossilfreerevolution', 'bastafalsepromesse', 'nogreenwashing', 'apr21', 'managersdivest', 'fossilfueltreaty', 'sustainablefinance', 'nepalese', 'climatecrises', 'tepco', '420ppm', 'climatealliance', 'alianza', 'zittau', 'tigerquoll', 'sootyowl', 'cilimatestrike', 'tuncurry', 'climatebill', 'プラスチック', 'beyondrecovery', 'toxicplastics', 'onehumanity', 'worldwaterday', 'makeirelandgreenagain', 'fffengland', '私たちの未来を手放さない', 'italianclimatenetwork', 'bosvaatleri̇stemiyoruz', 'i̇klimiçinhareketegeç', 'grevemondiale', 'toolkitcase', 'climatecriminalwatch', 'standwithdisharavi', '星期五氣侯行動', 'stopwetlanddegradation', 'planetaryboundaries', 'facetheclimateemmergency', 'powerfulowl', 'greaterglider', 'nzpol', 'toolkitexposed', 'listentothescientists', 'cumbriacoalmine', 'fastfashion', 'nextgen', 'freenavalny', 'justiceformyanamar', 'justiceformyanmar', 'stopceta', 'istandwithfarmers', '気候危機に特効薬なし', 'plastichearts', '世界が見ている', 'transiciónjusta', 'uniontent', 'africavote', 'oceanandclimateemergency', 'digitalstrikesapporo', 'bidenadministration', 'strikeformentalhealth', 'laniña', 'protectallrainforests', 'feedbackloop', 'saveourselves', 'nocoalforourfuture', 'climatejusticeisracialjustice', 'defendthesacredak', 'bye2020', 'beyondcoal', 'banplasticug', 'riseforclimate', 'internationalhumanrightsday', 'fff_egypt', 'coastalroad', 'euco', 'mumbaikars', 'notoredtagging', 'junkterrorlaw', 'nonfossilizziamoci', 'papua', 'davenportto', 'savemollem', 'fundfarmersnotcoal', 'boycottamazon', 'noblackfriday', 'repairdontthrow', 'repairdontgiveup', 'saveourcoast', '東北大学', '大学生協', 'indigenousrights', 'prayforphilippines', 'greatgreenwall', 'onebilliontreesforafrica', 'coastalday2020', 'stopreclamation', 'delhiairquality', 'artistontwitter', '女川原発の再稼働に反対します', 'barishal', 'coralreef', 'turtle', 'share', 'illustration', 'wearestillhere', '2ndlockdown', 'earthquake', 'filthyrich', 'myalllakes', 'withdawthecap', 'boycottpollutants', 'climatestrickonline', 'lnpcrimefamily', 'nemarevokeesiacertificate', 'fffdigital', 'gastransitiontoextinction', 'stopsantospillagingthepilliga', 'votecapdown', 'bcgreens', 'bcelection2020', 'bcelxn2020', 'votegreen2020', 'youngreens', 'alifeonourplanet', 'transittorenewables', 'kilimanjaro', 'acab', 'oceanissick', 'тихийживи', 'emissionfree', 'sailingcargo', 'sustainableshipping', 'ancienttechnology', 'vivalanannalution', 'fridaysforfutureclimatecriminalwatch', 'kiddies', ' globaldayofclimateaction0925', 'climateshoesaction', 'goyantkollsonaka', 'calarsaat', 'withdraweia2020', 'fightinclimatejustice', 'emergenciaclimatica', 'shoes4climateavtion', 'justiciaclimatica', 'climateactiongh', 'mundnasenklimaschutz', '私たちは気候危機を止められる最後の世代', 'pretoria', 'day9', 'आज_भारत_बंद_है', 'istandwithindianfarmers', 'isupportfarmers', '1day', 'letterstopower', 'fridaysforfuturejapan', 'stoppapreem', 'katrineholm', 'fridaysforfutureireland', 'naturecrisis', 'greencourse', 'savecalifornia', 'forestsofhope', 'actonthescience', 'californiafires', 'digitalaction', 'bugomaforestlifematters', 'wildfires2020', 'climatered', 'hatayyanıyor', 'symces', 'nvda', 'fridaysfortheplanet', 'town_hall', 'climatecrisishere', 'iklimkriziburada', 'ourfuture', 'savana', 'stopuemercosur', 'savetheamazon', 'postponejeeneet_today', 'savetherainforest', 'climteemergency', 'youngpeopleforclimateaction', 'bugoma', 'justiceforstudents', 'speakupforstudentssafety', 'evictadani', 'indigenouslivesmatter', 'ngb', 'jee2020', 'postponejee_neet', 'justiceforstudent', 'jee_neetcanwait', 'flattenthecuve', 'scrapeiadraft2020', 'noeiadilution', 'saveeia', 'indianotforsale', 'youthday', 'amazoniasinfuego', 'escazuahora', 'climateprotestonline', 'recognizesovereignty', 'indigenousday', 'worldindigenouspeoplesday', 'escazuya', 'crokepatrick', 'lovemayo', 'week17', 'climatestrineonline', 'istanbulcontract', 'womensupportingwomen', 'fffindia', 'frackoffpse', 'карпати', 'лісовіпожежі', 'вирубкалісу', 'кліматичнийстрайк', 'клімат', 'кліматичнізміни', 'антикапіталізм', 'myfuture', 'climatedefenders', 'pfg', 'shutthesites', 'nhsnoths2', 'veganabolitionist', 'schoolsstrikeforclimate', 'defendthedefender', 'thereisnovaccinefortheclimatecrisis', 'earthcleanup', 'fridaysforfuturesuomi', 'schoolsstrike4climate', 'defendthedenders', 'newgreendeal', 'fridaysforfutureiwate', 'censorship', 'internetfreedom', 'savenorilsk', 'hs2rebellion', 'just', 'junkterrorlawnow', 'nevpcc', 'rustbelt', 'sex', 'savetheearth', 'savecongoflora_fauna', 'shuttheshites', 'thefuturewewant', 'savecongoforestflora_fauna', 'junkterrorbill', 'changeclimate', 'rebeltrail', 'climatestrikecr', 'fff_ukraine', 'veganukraine', 'newgovernment', 'tve', 'sossaturdays', 'senegal', 'dejandoelplasticoatras', 'legislenparalavida', 'week80', 'kenyaforunsc', 'kenyareadytoserve', 'americaunida', 'foodfeedfibre', 'coronavirusupdate', 'pridemonth', 'happyenvironmentday2020', 'timefornature', 'salakyagyear2', 'justandgreenrecovery', 'wearenature', 'patrioxy', 'locustsattack', 'north', 'savunucularısavun', 'notoracism', 'ırkcılığahayır', 'yerlihakları', 'savecongorainforest_floraandfauna', 'africaday2020', 'renewableresources', 'keepmamaafricagreen', 'savedibangvalley', 'savediehangpatkai', 'whatthefork', 'keepthecoalinthehole', 'keeptheoilinthesoil', 'digitalstrikeoxford', 'bandeforestation', 'protectwildlife', 'washyourhands', 'unccdlandheroes', 'noforestsnofuture', 'shoolstrikeweekonline', 'yoapoyoalgobierno', 'uniontrabajoyproduccion', 'fightallcrisis', 'eugreenrecovery', 'ckimatechange', 'hambach', 'meyerburger', 'kuzeyormanlarınıkoru', 'kazdağlarınıkoru', 'publichealth', 'climateactivism', '1maydan', 'labourdaymay2020', 'labourday', 'youthtopower', 'laborday', 'istandwithworkers', 'internationalworkersday', 'kenyaeconomicupdate', 'begegnungszonen', 'maskchallenge', 'transition', 'fridaysforfuturedigital', 'togetherathome', 'youngactivists', 'kursaufklimafakten', 'euclimatedeal', 'all4earth', 'agenda2030', 'fffdigitalstrike', 'coronavirusoutbreak', 'saveanimals', 'makeadifference', 'itshotoutside', 'coronavid19', 'biliminarkasındabirleş', 'iklimacil', 'evdekal', 'digitalstrikescotland', 'dunfermlineclimatestrike', 'protectouroceans', 'crises', 'klimaatnoodtoestand', 'burgerberaad', 'creativeclimatestrike', 'climatecricis', 'dijitali̇klimgrevi', 'pollutersoutnow', '立憲フェス2020', 'schoolstrike4nature', 'coronaviruschallenge', 'sealevelrise', 'climatestriker', 'savecongobasin', 'ecologicalemergency', 'lönnemo', 'seattlecovid19', 'młodzieżowystrajkklimatyczny', 'yyj', 'internationalwomansday', 'womansrights', 'forestfriday', 'ticktock', 'fffparivartan', 'everyday4future', 'jerez', 'patriarchy', '1point5degreeslive', 'solidarityeuropeanclimatestrike', 'eco', 'timmermans', 'stormjorge', 'healthcrisis', 'seedballs', 'bced', 'clinate', 'bullettrain', 'towardstenpercenttreecover', 'wetsuwetensolidarity', 'strikeeverywhere', 'birthdaytrees', 'xrfamilies', 'chester', 'valentines2020', 'oxford', 'teach', 'wetsueten', 'fridaysforfutureseattle', 'lovetheplanet', 'westsussex', 'southbourne', 'tonbridge', 'letusbeheard', 'smkopen', 'iklimiçimokulgrevi', 'protecttheyintah', 'yyjtraffic', 'oneplanet', 'onefuture', 'stormciara', 'cop', 'wargames', 'juegosdemesa', 'wpgpoli', 'manitoba', 'contaminación', 'salud', 'liverpool', 'headsortails', 'climatechangeeducationact', 'youthled', 'fridayshoppingstrike', 'climatepolis', 'indigenousyouthforwetsuweten', 'abpoli', 'africanunion', 'climatstreik', 'globalclimatecrisis', 'globalclimateemergency', 'savecongoforest_fauna_flora', 'unitebehindscience', 'awis4future', 'tokyo', 'no石炭', 'no石油', 'australiaburns', ' klimajahr', 'australiafire', 'vlimateaction', 'regierungsprogramm', 'roaring20s', 'mallacoota', 'livwol', 'indigenousrightsarehumanrights', 'savecongo_flora_fauna', 'klimastrejk', 'networkofnow', 'savecongofauna_flora', 'solidaitywitharshak', 'actontheplanet', 'actonthefuture', 'cop97', 'odisha', 'talibara', 'fixarticle', 'genderday', 'climatedeedsnotwords', 'climatestrikewa', 'emtonstrike', 'cumbresocialclima', 'marchaclimática', 'tarsands', 'spain', 'generalelection', 'climateelection', 'racist', 'islamaphobic', 'sexist', 'homophobic', '6decembre', 'artivism', 'toriesout', 'xrvan', 'yyjpoli', 'climatestrikecanada', '2911ffm', 'globalstrikefornature', '29november', 'supersathorn', 'blackfridaysale', 'gooutside', 'museichehannostoffa', 'portsmouth', 'publicidadengañosa', 'trabajoinfantil', 'motril', 'sustainabledevelopment', 'euronews', 'deepstrike', 'new', 'single', 'katebush', 'beegees', 'delhipollution', 'delhiairemergency', 'neverwalkalone', 'sundaymotivation', 'sundaythoughts', 'climatestrikela', 'diadetodoslossantos', 'todoslossantos', 'fffmumbai'], ['gretathunberg', 'extinctionrebellion', 'eu', 'gas', 'co2', ' klima', ' energiewende', ' thunberg', 'elektromobilität', ' elektroautos', 'klimaschutz', 'erneuerbare', ' kohle', 'leerflüge', 'greta', 'autoindustrie', 'ausgleichseffekt', ' akkus', ' disruption', ' ee', ' eeg2021', 'klimaneutralität', ' tagesthemen', 'mehrwertsteuer', ' konjunkturpaketes', ' elektromobilität', 'solarstrom', ' klimawandel', ' klimakrise', ' atom', ' klimastreik', ' corona', 'deutschland', ' kernenergie', ' solarenergie', ' klimapaket', 'energiestrategie', ' solarwirtschaft', ' speicher', ' es2050', ' 10vor10', ' wärme', ' co2gesetz', ' nfp70', ' srfarena', ' schweiz', 'solarwirtschaft', ' waermeinitiative', ' srfclub', 'transformation', ' storytelling', ' klimakatastropheistjetzt', 'greenpeace', ' klimakatastrophe', ' blackout', 'energiewende', ' gasversorgung', ' laufzeitverlängerung', ' atomkraft', ' nuclear', ' habeck', ' habeckruecktritt', ' uranium', 'klimawandel', ' neubauer', 'klimastreik', 'ukrainekrieg', 'neubauer', ' laschet', ' klimabewegung', ' bundestag', ' selenskyj', ' lotharwieler', ' rki', ' allefuersklima', ' btw21', ' degrowth', ' globalisierung', ' wef20', 'klimakrise', ' grüne', ' spd', 'klimakatastrophe', 'klima', ' putin', 'berlin', 'mönchsberggarage', ' verkehrswende', ' neinzumloch', ' cdu', ' endegelaende', 'antifa', ' hamburg', ' parentsforfuture', 'kohle', ' eu', 'fff', ' greenpeace', 'tempolimit', ' klimawahl', 'autowahnsinn', 'städtefürmenschen', ' tempolimit', ' hambacherforst', 'klimawahl', 'klimapolitik', ' lützerathbleibt', ' lützerath', 'freivonöl', ' tempolimitjetzt', ' mobilitaetswende', 'a100', ' berlin', 'bawü', 'atomkraft', ' atomkraftneindanke', ' atomausstieg', ' csu', 'windkraftbremse', ' zukunftsrisikocsu', 'spritpreise', 'btw21', 'autokorrektur', 'cdu', ' aachen', ' studentsforfuture', ' klimagerechtigkeit', ' peaceandjustice', ' alledörferbleiben', ' allefürsklima', ' verkehr', 'klimaziele', 'meintwitterjubiläum', ' salzburg', ' konzert', ' scientists4future', ' stopputinswar', ' windkraft', 'stadtpanzerraus', ' youth4climate', 'pressefreiheit', ' hambibleibt', ' osterholzbleibt', ' kapitalismus', 'corona', ' autokorrektur', ' gronau', ' lingen', 'verkehrswende', ' pariserklimaabkommen', 'autofrei', ' städtefürmenschen', ' klimaschutzgesetz', ' kohleausstieg', ' koalitionsverhandlungen', 'herrenwald', ' greta', ' bund', ' agrarwende', ' umweltsau', 'kohleausstieg', ' thismachinefightsclimatechange', 'lanz', ' autoausstieg', ' köln', 'bundestagswahl', ' alledoerferbleiben', ' fcknzs', ' fckafd', 'laschetverhindern', 'umweltschutz', 'parentsforfuture', ' kirche', ' allefür1komma5', 'laschet', 'konstanz', ' ngo', ' beidestimmengrün', ' laschetrücktritt', ' laschetverhindern', ' klimaliste', 'windkraft', ' datteln4', ' neustartklima', ' netzstreikfuersklima', 'perscheid', 'brunsbuettel', 'earthovershotday', ' hochwasser', ' klimanotstand', ' endegelände', ' keingradweiter', ' wdr', ' a49', 'klimawende', 'mahnwache', 'benzinpreis', ' kurzstreckenflüge', 'ravensburg', ' klimakonsens', ' merkel', ' fighteverycrisis', 'maaßen', ' keinea49', 'dieanstalt', ' amthor', ' pfeiffer', 'fcknzs', ' xr', ' allefuer1komma5', ' altmaier', ' anotherworldispossible', 'petition', ' klimaprämie', 'klimaprämie', ' coronakrise', 'subventionen', 'mercosur', ' dannibleibt', ' nonazis', ' waldstattasphalt', 'djimavic2zoom', ' dannenröderwald', ' solidaritaet', ' ravensburg', 'baumhausdorf', ' fckrwe', 'fridaysforfuturekassel', ' a44', ' actnowforfuture', ' bauwendejetzt', 'baumbesetzung', 'baumhaus', ' klimaziel', 'weihnachten', ' parisgoesrathaus', 'waldstattasphalt', ' tempo30', ' visionzero', ' autofrei', ' konstanz', ' groko', ' herrenlosbleibt', ' bahnoffensive', ' streik', 'coronakrise', ' kretschmann', ' garzweiler', 'datteln4', ' stopdatteln4', 'youtube', ' blogger', 'csu', 'köln', ' porz', ' haltestelle', 'essen', ' datteln', ' hambacherwald', 'pressekonferenz', ' datteln4stoppen', ' 4dattelnessen', ' rwestoppen', 'wirundjetzt', ' schildermeerfürsklima', ' netzstreikfürsklima', 'trump', ' windenergie', 'klimahandeln', ' climatesolutions', ' covid2019', ' solaranlagen', ' radfahrprämie', ' mehrgeldfürsrad', ' hamburgwähltklima', 'hamburgwaehltklima', ' hamburgwahl', ' hhwahl', ' pilgerunterwegs', ' hamburgklimawahl', ' adani', ' eike', 'manheim', ' waldspaziergang', ' davos', 'wef', 'wecker', ' australiafires', ' koeln0401', ' k0401', ' omagate', ' umweltsauoma', 'feierabend', 'nazi', ' presseausweiss', ' bundespolizei', ' twitter', ' ecologicalcollapse', ' rweenteignen', ' stoprwe', ' stopcoalmining', ' queenelizabeth', ' suvs', ' scheuerruecktritt', 'billigflüge', ' flynice', ' mimikana', ' zeitzuhandeln', ' climatedebate', ' pendlerpauschale', ' wenigerautos', ' film', 'campino', ' ichsagendeglände', ' rebel4live', ' weiterso', ' niederlande', 'containern', ' baumoffensive', 'hexafluorid', ' hauptbahnhof', ' sofamünster', ' nicht_mein_endlager', ' atommüll', ' atomkraftwerk', ' kernschmelze', 'fossilfree', 'otd', 'notmytaxonomy', ' deutschland', 'merkel', ' dresden', 'bonn', ' niemehrcducsu', 'ampel', ' antifa', ' klimakonferenz', 'klimakriseistjetzt', ' wahlalter', ' kanzler', 'allefuersklima', ' schüler', ' solidarität', 'klimanotstand', 'fitfor55', ' wirhabenplatz', ' klimaklage', ' unteilbar', 'eeg', ' kinder', 'endegelaende', ' erneuerbarenenergien', ' kommunalwahlen', 'kohlekraftwerk', 'coronavirusde', ' coronacrisis', ' luft', ' left', ' immigration', ' greens', ' siemens', 'davos', ' davos2020', ' unfitforoffice', ' uspolitics', ' nomorecoal', 'klimaneutral', ' lausitz', 'venedig', ' filmforfuture', 'karlsruhe', 'union', ' fdp', ' afd', ' ampel', 'öpnv', 'akw', 'letztegeneration', 'klimacamp', 'fdp', ' rassismus', ' luisaneubauer', 'russland', ' autobahn', 'klimadebatte', ' klimahysterie', 'habeck', ' krieg', 'scholz', ' klimaneutral', 'klimahysterie', ' gaskraftwerke', ' kohlekraftwerke', 'dwenteignen', 'taxonomie', 'klimaaktivisten', ' demokratie', ' nazi', ' hatespeech', 'hannover', ' langstreckenluisa', 'wortzumsonntag', ' sozialekipppunkte', 'münchen', ' gruene', ' klimaziele', ' leipzig', ' scientistsforfuture', 'dürre', ' australien', ' gasstop', ' tankrabatt', 'antarktis', 'nrw', 'verfassungsschutz', ' nrw', ' 9euroticket', 'spd', ' dielinke', ' nordstream2', ' öpnv', ' luetzerathbleibt', ' niemehrcdu', ' elektroauto', 'afd', ' erneuerbareenergien', ' rwe', ' hauptversammlung', ' fortheanimals', ' merz', ' satire', ' hysterie', ' sekte', 'fightdreadlockracism', ' omas_gegen_dreadlocks', ' parents_for_undercut', ' keinvergessen', ' entlastungspaket', ' nato', 'grünen', ' illner', ' russland', 'luetzerath', 'ard', 'kapitalismus', ' verfassungsschutz', 'kiel', ' mitweltschutz', ' klimagerechtwerden', ' öl', 'globalerklimastreik', ' taxonomie', 'scientists4future', ' diskriminierung', ' antarktis', 'klimasteik', 'fckafd', ' demo', 'rassismus', ' gigafucktory', 'bundestag', ' lindner', ' lessionsforpeace', ' photovoltaik', ' f4f', 'hamburg', 'photovoltaik', ' wissenschaft', 'klimaschützer', ' umwelt', ' pandemie', ' atomenergie', ' dannilebt', ' osterholz', ' ernährungswende', 'kohlekraftwerke', 'temperaturrekord', ' kodiak', ' alaska', ' klimapolitik', ' coronapandemie', ' containern', 'schule', ' rezo', 'demokratie', 'k53', ' grübe', 'koalitionsvertrag', ' braunkohle', ' copout26', 'copout26', 'thunberg', 'nuhr', ' landwirtschaft', 'reemtsma', ' klimagipfel', ' klimawandelleugner', 'klimabewegung', ' terror', ' terroristen', 'faktenfinder', ' klimaneutralität', ' ihrlasstunskeinewahl', ' klimakoalition', 'windenergie', ' klimaproteste', 'klimakoalition', ' nichtverhandelbar', ' flugverbot', 'fffordert', ' klimastreiks', ' klimaregierung', 'merz', ' sondierungspapier', 'naturkrise', ' sondierungsgespraeche', 'sondierungsgespräche', 'altmaier', 'linke', ' antisemitismus', ' transformation', ' mobilitätswende', ' ökozial', ' bundestagswahl', ' linke', ' allesfuersklima', 'thread', ' thüringen', 'cducsu', 'allesfuersklima', ' diesmalgruen', 'allesfürsklima', ' churchesforfuture', 'klimaaktivistin', ' zusammenveraendern', ' laschetdarfnichtkanzlerwerden', ' ichwaehlelinks', ' klimaschutzpolitik', ' demonstranten', 'wahlkampf', ' grillfest', 'weidel', ' btw', ' fffleaks', ' zusammenverändern', ' klimagebet', ' bouffier', ' erderwärmung', ' zukunftwählen', 'weltkindertag', 'diesmalgruen', 'enkelkinderbriefe', 'igmetall', ' energiecharta', ' noect', 'triell', ' btwahl2021', ' wählbar2021', ' duesseldorf', ' gruenen', 'briefwahl', ' griechenland', ' streikmituns', 'bankenblockieren', ' blockupy', ' dürre', ' waldbrände', ' kalifornien', 'wald', ' hass', ' hetze', ' klimaschmutzlobby', ' flutkatastrophe', 'seehofer', ' laschetlacht', 'zdf', 'wählbar2021', 'umwelt', 'wissenschaft', ' fitfor55', ' starkregen', ' fahrrad', ' zukunft', ' klimaschutzmaßnahmen', ' saarbrücken', ' nextglobalclimatestrike', 'kanada', ' zivilgesellschaft', ' treibhausgasneutralität', ' cduwahlprogramm', 'linkebpt', ' sozialklimagerecht', ' linkebpt', 'insm', 'alledoerferbleiben', ' müll', 'pendler', ' heimarbeit', ' homeoffice', 'verkehrswendejetzt', ' dortmund', 'a20', ' nazis', ' luissa', 'oberhausen', 'sterkraderwald', 'fridays', ' vergangenheitsbewältigung', ' haustür', ' sciencematters', ' angelamerkel', ' klimaarschlöcher', 'lieferkettengesetz', ' nachhaltigkeit', ' klimapledge', 'klimaschutzgesetz', 'klimaunion', 'podcast', 'heidelbergcement', ' gutearbeit', 'welt', ' bverfg', ' bundesregierung', 'energiepolitik', ' verbrenner', ' e', 'bundesverfassungsgericht', ' freiheit', 'emissionsbudget', ' bundesverfassungsgericht', ' tazlab2021', 'latif', ' tschernobyl', 'plurv', 'omv', ' euclimatelaw', ' co2restbudget', 'drosten', 'grüner', ' saarland', ' tierschutz', ' hambi', ' klimacampsaar', ' doppelmoral', ' co2steuer', 'klimaklagen', ' grundrechte', ' wegenmorgen', 'allefuer1komma5', ' darmstadt', ' objektperspektiven', ' experimentierfeld', 'superwahljahr', ' kli', ' erneuerbare', ' ökolandbau', 'dannilebt', ' höffner', 'klimaschmutzlobby', ' niemehrcsu', 'klimaprotest', 'schulterschluss', ' shootingstar', 'nordstream2', ' l277', 'braunkohle', ' luetzerath', ' arminlasses', 'cdupt21', 'klimastiftung', ' pipelineindiekrise', 'fleisch', ' fliegold', 'dannenröderwald', 'start2021', 'klimaabkommen', ' taskforceklimakrise', ' bundeswehr', ' natur', 'neoliberalismus', 'eurecovery', ' eutaxonomie', ' eubudget', ' moorburg', 'amazon', 'dbdk20', ' bürgerenergie', ' dbdk2020', 'ökostromlücke', 'byedon', ' bidenharis2020', 'wilhelmshaven', ' lng', ' brunsbüttel', 'uswahlen2020', ' electionday', ' votehimout', 'methan', ' poland', ' evp', 'klimaapokalypse', ' tvn2020', ' ökofaschistisches', ' ökofaschismus', ' ökodiktatur', ' erderhitzung', ' keineartweniger', 'gewalt', ' liebig34', ' friedrichshain', ' linksextremisten', ' eigentümer', 'generationklima', 'autobahnindieklimakrise', ' emissionsbudget', ' klimagesetz', ' autogesellschaft', ' warnstreik', ' oepnvbrauchtzukunft', ' keepcoalintheground', ' nrwe', 'mobilitätswende', ' wirfahrenzusammen', 'gorleben', 'hygieneregeln', ' erkrath', 'klimastreiks', ' meetings', ' technikfeinden', ' akws', ' atomausstiegstoppen', ' rheinland', ' gesellschaftsvertrag', ' agrar', ' lexgarzweiler', ' biodiversität', 'garzweiler', 'schellnhuber', ' heldinnen', ' böhmermann', ' artenkrise', 'nahverkehr', 'kalifornien', ' interessengruppe', ' wald', ' amazonas', ' sibirien', ' eeg', ' kreuzfahrtschiffe', ' klimabewusstsein', 'nettonull', ' kanzlerin', 'klimastrategie', ' generationklima', 'lübeck', ' kliamschutz', ' erneuerbar', ' regenwald', ' permafrost', ' methanleck', 'türkei', ' sexismus', ' nohate', ' klimawahl2021', ' fossilfree', 'hambibleit', 'großbritannien', ' dampfmaschine', ' coronazis', 'klimamontag', ' germanzero', ' klimaneustart', 'eautos', 'hitzesommer', 'klimaschutzpaket', 'berlin4future', ' alexanderplatz', 'macron', 'recovery', ' psychologistsforfuture', 'veganer', ' fleischindustrie', ' fleischkonsum', 'svenplöger', 'klimaschutzabkommen', ' agrovoltaik', 'climatemovement', ' linksextrem', 'zwangsticket', 'wasserstoffstrategie', ' klimaschutzziele', 'tasmanien', ' erneuerbareeneegien', 'abwrackpraemie', 'hitzerekord', ' klimazielstattlobbydeal', ' klimaschutzabkommen', ' kapitalismustötet', ' hungerstreik', ' bildung', ' flughafen', ' queer', 'chomsky', ' kohlekraftwerk', 'datteln4stoppen', ' solardeckel', ' sars_cov2', 'solarpark', 'solarenergie', ' großkonzerne', ' religion', 'autoprämie', ' bailoutthepeople', 'klimaschutzpläne', ' co2020', 'natur', ' masken', 'balkonkraftwerk', ' earthday2020', ' schulboykottnrw', 'schulstreik', 'bürgerwindpark', ' spargel', ' ernte', ' grenzschließungen', ' erntehelfer', 'produktivearbeit', 'spargelernte', ' trinkwasser', 'covid2019de', ' weidel', 'naidoo', 'klimaoffensive', ' klimaretten', ' wirtschaftsministerium', 'klimakonferenz', 'kanzler', 'heathrow', ' windräder', ' eautofabriken', ' datteln4stoppenwir', ' windkraftanlagen', ' moin2102', 'demo', ' dattelniv', 'nolympia', ' photovoltaikanlagen', ' derpvdeckelmussweg', 'waldbrände', ' meeresspiegel', 'kohlekompromiss', ' kohlausstieg', ' fakten', ' verkehrstote', ' decoalonize', ' energiekonzerne', ' klartextklima', 'weltretter', ' siemensfuelsfires', 'heartlandlobby', ' klimaleugner', ' exitcoal', ' kaeser', 'duh', 'datten4', 'bonusmalussystem', ' vonderleyen', 'klimachallenge', 'diesel', ' lärm', 'schätzing', ' meinungsfreiheit', 'horstseehufer', 'naivität', ' unverschämtheit', 'okboomer', ' weltwirtschaftsforum', 'klimabewegungen', ' uno', ' asylgrund', 'defätismus', 'olympiastadion', ' interview', ' radfahren', ' radunfälle', ' fahrräder', 'klimawandels', ' klimaschutzplan', ' unwortdesjahres', ' whendowewantit', 'nachtzug', ' flugverkehr', ' unwort', ' klimaschützer', 'unwortdesjahres', 'klimaforscher', ' ozeane', 'australien', 'australiens', ' buschfeuer', ' buschbrände', 'erdöl', ' konflikten', ' keinewortemehr', 'brandstiftungen', 'fluechtlinge', ' islamistischen', ' sicherheit', ' heimatschutz', ' hitzewellen', ' todesfälle', ' massenaussterben', ' hambacherforsts', 'energieforscher', ' forschungsprojekte', 'bahn', ' kohlemienen', 'umweltsau', ' goko', 'oesterrreich', ' energiepolitik', ' fakenews', 'oesterreich', ' klimaschutzes', ' umweltsaugate', ' nazisau', ' staatsfunk', ' restle', ' funk', 'wdrkinderlieder', ' seenotrettung', ' kinderchor', ' oma', ' weihnachtenundklimakrise', ' unterirdischen', ' niveau', ' auseinandersetzung', 'northstream2', ' klimazölle', ' fridaysforfurture', 'klimafolgekosten', ' urgenda', ' flugscham', 'letzteraustandderfossilenlobby', 'flugverkehr', ' treibhauseffekt', ' victoria', ' zugstreik', ' brasilien', ' sitzplatz', 'dänemark', 'demoradio', ' propagandatop', ' lithium', 'elektroauto', 'kinderbepöbler', 'klimaschutzziele', ' machtfrage', ' spdbpt18', ' bezahlt', ' machtergreifung', ' blackfriday2019', ' linksfraktion', ' konsens', 'reclaimthehouse', 'hitzetote', ' hitzetote', ' peterwohlleben', ' olympiastadion', ' quaschning2go', ' verbote', ' hitler', ' stalin', ' wewillrise', ' extremwetterereignisse', ' klimaabkommen', ' perversesubventionen', 'bdk19', 'wasserstoff', 'klimaleugner', 'eib', 'sydney', ' dasgeheimelebenderbäume', 'mauerfall', 'bundespräsident', ' katastrophe', ' bmw', ' klimapakets', ' neoliberalismus', 'winning', 'netflix', ' wirsinddiewelle', 'quaschning2go', 'kohlestrom', ' onestruggle', ' chemnitz', ' moskau', 'laufzeitverlängerung', ' akw', 'kernkraft', ' klimakriseistjetzt', 'taxonomy', ' scotus', ' annewill', ' supremecourt', ' urteil', ' würgegriff', ' feinde', 'notstromaggregaten', ' notstromaggregate', ' notstromaggregat', ' gaslieferungen', ' gasnotstand', ' totalausfall', 'fürth', ' öko', 'piraten', ' demonstration', ' göttingen', 'glastonbury', 'gruenen', ' ldk22nrw', ' pflegestreik', ' klimawahn', 'luisaneubauer', 'grüne', ' union', 'bombendrohungen', ' sek', 'boomer', ' frauenhasser', ' pipelineindieluft', ' radikalisierung', 'terrorismus', ' anschlag', 'steinmeier', ' boomer', 'bge', 'noafd', 'wagenknecht', 'kirchentag', 'bohn', 'schulen', 'demonstration', ' a20', ' video', ' a20stoppen', ' polizei', 'rotgrüne', ' menschen', ' umweltzerstörung', ' astronaut', ' maurer', ' ltwnrw22', ' diegrünen', 'schwerin', 'gruene', 'kriegstreiber', ' baerbock', 'baerbock', ' grünermist', ' kriegstreiber', 'followerpower', ' ukraine️', 'atomkraftwerk', ' isar2', ' eon', 'stromhandel', ' exportüberschuss', 'ukraine', 'freiheit', 'lng', 'svazek', 'maybritillner', ' inflation', 'klimaktivisen', 'gelsenkirchen', ' zdf', ' maaßen', ' cloppenburg', ' dreadlocks', ' ronjamaltzahn', ' aktivisten', ' münster', 'dreadlock', 'extremismus', ' systemwechsel', ' kommunismus', ' düsseldorf', 'langstreckenluisa', ' dreadlock', ' dreads', ' kiel', ' strom', ' sprit', ' subventionen', ' münchen', ' gerechtigkeit', ' ac2503', 'aachen', ' milano', 'dreadlocks', ' brandenburg', ' kulturrevolution', ' kulturelleaneignung', 'ronjamaltzahn', ' identitätspolitik', 'blockwart', ' fffhannover', ' maltzahn', ' hannover', ' maltzan', ' priebshow', ' piraten', ' fremdenfeindlichkeit', ' carlareemtsma', ' gashahnzu', ' russischesgas', 'faschisten', ' globalerklimastreik', ' spritpreise', ' volt', ' futschi', 'biogas', 'therapeuten', 'gashahnzu', ' getreidepreise', ' erdgas', ' künstdünger', ' hungersnot', 'tagesschau', ' ukrainekrieg', ' standingwithukraine', ' hh0303', ' ukrainewar', ' industrie', 'ber', ' essenretten', ' essenrettenlebenretten', 'essenretten', ' ampelkoalition', ' wirwerdenlaut', ' umweltschutz', ' klimaaktivisten', ' a100', ' prien', ' durchseuchungstoppen', 'nomineingállok', ' standwithsápmi', 'wirwerdenlaut', ' vollgasindiekrise', ' verschwörungstheoretiker', 'atomausstieg', 'sicherheitseinspeisesystem', ' atomausfall', ' maischberger', ' klimacamp', 'ricardalang', 'dbdk22', ' klimarevolution', 'standwithsápmi', 'stopfakegreen', 'blackout', 'xfürlützi', ' luetzibleibt', ' covidioten', ' querlullies', ' aufdemrechtenaugeblind', 'neujahr', ' gruenermist', ' diegruenen', 'ludwig', 'omasgegenrechts', ' adventskalender', 'mayfield', ' gruendepp', 'dnp14', ' dnt', ' migration', ' untergang', 'db', 'evg', 'klimamaßnahmen', ' sozialewandel', 'refugeeswelcome', 'privatjet', ' klimaheuchler', 'campact', ' oxfam', ' duh', 'kurzstreckenuschi', ' privatjet', ' övp', ' volkspartei', ' boyanslat', 'schaeuble', ' abo', ' b2210', ' bildlive', ' dierichtigenfragen', 'linksextremismus', ' bge', 'stuttgart', ' klimaprotest', ' querdenken', ' grün', ' koalitionsgespraeche', 'ampelkoalition', ' ericsson', ' spahn', ' karlsruhe', 'hub27', 'viertelnachacht', 'antisemitismus', 'precop26', ' bundestagswahl21', ' jamaika', ' göpel', 'lapalma', 'rezo', ' btw2021', ' hungerstreik21', 'klimasekte', 'strunz', ' schlussrunde', ' ard', ' bildungabersicher', ' afdverbotjetzt', ' mlpd', ' bonn', 'bellut', ' muenster', 'arktis', 'dresden', 'bild', ' protestzug', ' bayern', ' allesistdrin', ' halle', ' klimastreikhh', ' flutkatastophe', ' bewusstsein', ' stuttgart', ' bundestagswahl2021', ' sachsen', 'klimademo', ' triell', ' bild', ' hvv', ' braunerlaschet', 'rostock', 'lawyersforfuture', ' diellnke', ' stromausfall', ' niewiedercdu', 'fakenews', ' ardwahlarena', ' wahlkandidat', ' wahl', ' enkelbriefen', 'rackete', ' sofortprogramm', 'noiaa', ' laschetverliert', ' amnestyinternational', ' vielfalt', ' respekt', 'zentralstreik', ' cduunwaehlbar', ' huether', ' gasausstieg', ' deutschlandausstieg', ' grueneverhindern', ' hanau', 'schuldumkehr', 'lawyers4future', ' demonstrationen', 'grr', 'weltklimarat', ' ökolobby', 'querdenken', 'laschetverliert', 'sardinien', 'telegram', 'spree', ' robinwood', ' telegram', ' wahlkampfmanipulation', ' hochwasserkatastrophe', ' hupdolen', ' ökomarxisten', ' linksgrünesubintelligenz', 'hochwasser', 'scientistsforfuture', 'stern', 'flutkatastrophe', ' glacischaussee', ' reeperbahn', 'luisahilftnicht', 'szsummit', 'stockolores', ' umweltkatastrophe', ' gruenejugend', 'hallein', ' zib2', 'klimaerwärmung', ' laschetwusstees', ' ueberbevoelkerung', 'jungefrau', 'eifel', 'flut', ' unwetter', ' eifel', 'lebenretten', ' nowater', 'baerbockjetzterstrecht', ' cancellej', ' reemtsma', ' europa', ' polizeiproblem', ' baerbockjetzterstrecht', ' baerbockwählen', ' mindestabstand', ' wea', ' europawahl', ' fairfashion', ' sachsenanhalt', 'streiken', ' widerstand', 'laschetkneift', ' tilojung', 'freiburg', 'a49', ' klimajugend', ' emcke', 'lobbyismus', ' initiativeneuesozialemarktwirtschaft', 'mobilitätswendejetzt', 'brasilien', 'klimaheuchler', 'zwickau', 'bachmann', ' erde', 'agrarhilfen', 'digitalisierung', ' gretl', ' virus', ' klimadiktatur', ' bds', ' settlercolonialism', 'bioregionalismus', 'eiszeit', ' reemtsa', ' investitionen', 'reconafrica', ' hamas', ' israelunderfire', 'luissa', ' sozialismus', ' parents4future', 'phoenixrunde', 'enteignung', 'waldsterben', 'verfassungsgericht', 'diegrünen', 'zdfheutelive', ' systemfrage', ' ddr', 'april', ' linksliberalismus', ' gendergaga', ' quoten', 'bundesnotbremse', 'testpflicht', ' gruendeppen', ' niewiedersozialismus', 'music4climate', ' niederösterreich', 'mindestlohn', ' fracking', ' oekoterror', 'gruendeppen', ' music4climate', ' cannabis', ' lanz', ' örr', 'polizei', ' oberbaumbrücke', 'wahlprogramm', ' ceta', ' ect', ' klimakiller', 'eurodrohne', ' fcas', ' vw', 'drk', ' fukushima10', ' scholpp', ' bawü', ' frauentag', 'taskforce', 'indonesien', ' autoindustrie', 'bayern', ' klimareport', 'plastikmüll', ' buergerenergie', ' rackete', 'weilburg', 'ee', ' amk', ' klimahüpfer', ' mainstreammedien', 'co2steuer', 'tagesthemen', ' augsburg', 'seehoferrauswurf', ' abfallverordnung', ' seehofer', 'klimahüpfer', ' bahnhofsklatscher', 'hambibleibt', ' stadt', 'wegenmorgen', ' cduvorsitz', ' spende', 'merzverhindern', 'frackinggas', ' rentner', ' minijobber', ' harz4', 'silvester', 'fracking', ' erklärung', ' sonnenfinsternis', ' südamerika', ' lockdownjetzt', 'abrüsten', ' atombomberneindanke', ' luisa', 'dannenrod', ' wirtschaft', 'europa', 'bildung', ' schulen', 'atomenergie', ' koalition', ' b1811', ' medien', ' ardmediathek', 'klimapodcast', ' spotify', ' rente', ' obwahlstuttgart', ' sogeht1komma5', ' a3', ' a5', 'liebig34', ' agrarreform', 'manfredgrund', 'talwazir', ' hessen', 'filme', ' followerpower', ' energie', 'glaubensgemeinschaft', ' seebrücke', ' glaubensgemeinschaft', ' hausbesetzter', ' migrantifa', ' klimadebatte', ' thyssenkrupp', 'wählenab16', ' wahlalter16', ' waehlenab16', ' mehrdemokratiewagen', ' klimaprio1', ' populismus', ' eauto', 'lindner', ' dd2509', ' klimareligion', ' fridaysforfielflieger', ' aufwachen', ' schuetztunseremeere', 'b2908', ' co2idioten', 'verkehrssektor', ' mns', ' siegen', 'klimagipfel', 'kujau', ' klimaschutztag', ' sffhannover', ' klimawandelstoppen', ' unihannover', 'ferrero', 'luisa', ' kraftwerk', 'wdr4', ' framing', ' kommunalwahl', ' nürnberg', ' rücktritt', 'coronademo', ' kusbass', ' billgates', ' demonstrationsverbot', ' nocruiseday', ' heuchler', 'sachsen', 'angelamerkel', ' moma', 'precht', ' linksradikale', 'kommunalwahl', 'dunjahayali', ' kontraste', ' meinung', ' eltville', ' uniper', 'klimahysterikern', ' sommer2020', ' schierenbeck', ' wpvnrw', ' hambiart', ' weimar', ' easyjet', 'euratspraesidentschaft', ' bamberg', ' teammerz', ' pietsch', ' anarchy', 'banken', 'dietafel', ' dieanstalt', 'buchkritik', 'dürresommer', 'windräder', 'netzdg', ' bewegung', 'steinkohlekraftwerk', 'soros', ' geld', ' ngos', ' mineapolis', ' antifaterrorists', 'erlangen', ' verschwoerungstheorien', ' wahlrecht', 'werzahltschafftan', 'klimareligion', 'mlpd', ' neueswirtschaftswunder', ' deutscheumwelthilfe', ' seawatch', ' covidiots', ' politik', ' deutschen', 'journalisten', 'mundschutz', ' autoprämie', ' mobilitätsprämie', 'palmer', '1mai2020', 'coronaeltern', ' waldsterben', ' allesgesagt', ' netzstreik', ' islamismus', 'waldbrand', 'lockerungen', ' linksjugend', ' fahrverbote', ' sündefall2009', ' industrieprivilegien', ' abstandsregel', ' strompreisalarmismus', ' mimimieinekugeleis', ' bußgeldbescheide', ' schulschwänzer', ' kitas', ' pressekonferenz', ' markus', 'diewelle', ' milgram', ' lebon', 'erntehelfer', ' weber', 'huber', ' coronaparties', ' landwirt', ' unbegleitete', ' mädchen', ' germoney', ' hitzetod', ' atomkraftwerke', 'coronahysterie', ' nolympia', ' ökorassismus', 'gründeppen', 'xaviernaidoo', ' coronavirusat', ' covid2019italia', ' covidー19uk', ' naidoo', 'bevölkerung', ' lesch', ' schellnhuber', 'domian', 'heiligenschein', ' domian', 'relotius', 'naturefirst', 'widerlich', ' corono', ' hhbue2020', ' ab16jahre', 'gängeviertel', ' hh2102', ' flensburg', 'dattelniv', ' kempten', ' mai', ' granniesforfuture', ' nordend', ' grünelunge', ' jeffbezos', ' cumex', ' innenminister', 'fffkleidertausch', 'grundeinkommen', 'meuthen', ' gemeine', ' bahnhof', ' beata', 'wtf', 'rotorblätter', ' recycelbar', ' zehntausende', ' regenerativeenergien', ' publikationen', 'radtkeleaks', ' tomradtke', ' climatjustice', ' decoalonizeeurope', 'radinger', ' ökostalinisten', ' magna', ' fridaysforhubraum', ' twitch', 'atomrenaissance', ' euratom', ' klimahölle', 'wirsindmehr', ' hro', 'chefket', ' eliten', ' maybritillner', ' rostocker', ' daimler', 'weltwirtschaftsforum', ' brennstoffe', ' schweden', 'kobe', ' umweltverbände', 'schweden', ' braungart', 'lush', ' lush', ' nolympiaf4f', 'nzz', ' dd1801', ' kohleabbau', 'phoenixpersönlich', 'treckerdemo', ' bauernproteste', 'zusammenhalt', 'wohlstandsbarbie', ' treckerdemo', ' bauersuchtfrau', ' agrarextremisten', 'januar', ' klimagate', 'verbotspolitik', ' wort', ' teilhabe', ' jetzt', ' stoppadani', 'hetze', ' federer', 'spiegelgates', ' terrapower', ' spiegel', ' meatloaf', 'klimaschutzjetzt', 'climateprotection', 'omaumweltsau', ' omaumweltsau', ' k0301', ' treibhausgase', 'bonpflicht', ' werteunion', ' neujahr', 'framing', ' jahresrückblick', 'flugscham', ' flugreisen', ' feuerwerk', 'wdr2', ' nuhr', ' linken', 'großeltern', 'staatsfunk', 'klimasozialismus', ' sendinglovefrompatagonia', 'böller', 'wagner', 'queenelizabeth', 'strompreise', ' weihnachten', 'album', ' notredame', ' okboomer', ' großeltern', 'krippe', ' linksfaschismus', ' altersdiskriminierung', 'menschenverachtung', 'kommunismus', 'gretagate', ' klimarettung', ' sozialerausgleich', ' vermittlungsausschuss', 'pickelhaube', ' soldaten', ' luegenpresse', 'shopping', ' ernten', 'madrid', ' laueslüftchen', ' lcpbref', ' extintionrebellion', 'zeitzuhandeln', ' filterblasenmelange', ' support', ' politikern', 'humanismus', ' olympia12062020', ' eautos', 'spdbpt2019', 'hahne', 'br', ' ryanair', ' basis', ' nürnberger', ' eka', 'pisa', ' lesen', ' humanisten', ' faktenstattfakenews', ' ingeniería', ' autolobbyismus', 'tropentrump', ' umweltpolitik', ' dicaprio', '600meter', 'kindsmissbrauch', ' klimaprotesten', 'braunschweig', ' bs2911', ' königsplatz', ' duohnec', ' unbezahltereklame', ' fffhh', ' spree', 'potsdam', 'europaparlament', 'kipppunkte', ' eskabolation', 'bauernprotest', 'heidelberg', ' olympia', 'storl', 'bürgerinnenversammlung', 'billige', ' saubere', ' standortfaktor', 'passau', ' hallam', ' aktionen', ' workshops', ' actow', 'fluggesellschaften', ' venedig', ' sogklimapaket', ' hüpfdeutsche', 'blinddarm', ' bildzeitung', 'umweltministerkonferenz', 'umweltsünde', ' insektensterben', 'atlantik', ' elektro_kraxn', ' rossmann', ' mondayforfuture', ' schulschwänzen', 'neuegedanken', ' klimaschule', ' shanghai', 'sevenworldsoneplanet', 'dicaprio', ' titanic', 'schulschwänzer', ' xtinctionrebellion', 'öko', 'sozialismus', ' indoktrination', ' klimarat', 'kriegsverbrecher', 'notstromaggregate', ' hildesheim', ' profit', 'klimaschutzaktivisten', ' letztegeneration', ' haltdiefressebild', ' pflichtdienst', 'klimaproteste', ' paderborn', 'tornado', 'bmwk', 'gruenermist', ' schwerin', ' energieembargo', 'xevyoyo', ' mobility', ' farben', ' battery', ' abs', ' airbag', ' 150km', ' s4f', ' julis', ' arroganz', ' klimaluege', ' stadtfürmenschen', 'pflanzenbasierte', ' fleisch', ' faschismus', 'ideologie', ' ingersleben', 'kulturelleaneignung', 'gutenmorgen', ' freitag', ' kaffee', ' tee', ' wochenende', ' happyfriday', ' savethefuture', ' fridayforfuturehamburg', ' postmodernismus', 'wehrpflicht', ' straßenkleber', 'streik', ' arbeit', 'niemehrcducsu', ' intoleranz', ' erneuerbaren', 'farmtofork', 'minipv', ' grundbedarf', ' guerillapv', ' balkonpv', 'standingwithukraine', 'aktivisten', ' sabotage', ' infrastrukur', 'edeka', ' querdenker', ' ölkatastrophe', ' schifffahrt', 'querdenker', ' gewalt', 'extremistisch', ' totalitär', 'novelentities', 'happybirthdaygreta', 'klimamahnwache', ' danni', ' grandpa', 'ökoterrorismus', ' bz', ' extremismus', ' klimaschutzvertrages', ' gerechtigkeitjetzt', ' energiearmut', 'followthescience', ' essen', ' bielefeld', ' e2210', ' e2310', ' ms2310', ' afdverbot', ' wirgegenhass', ' ltlsa', 'doch', 'anuna', ' wodarg', ' bhakdi', ' ungeimpfte', ' geimpfte', ' impfung', 'jamaika', ' precop26', 'wahl2021', ' gehtwählen', ' freiewähler', 'b2409', ' wirecard', ' gemeinsamsindwirstark', ' deutschlandabernormal', ' hofgarten', 'geongineering', ' b2409', ' abgeordnetenhaus', ' berlinomat', ' wohnungsnot', ' dilemma', 'awipev', ' nyalesund', 'wahl', ' keinbockaufnazis', 'ödp', 'greenwatch', ' softwaredeveloper', ' grönemeyer', ' diesmalgrün', 'enkelbriefe', ' falschinfirmationen', ' servicetweet', ' rotgrün', ' sondergenehmigung', 'pandemie', ' ffm1308', ' systemwandel', ' hitze', ' flut', ' weltklimarat', 'pyrozän', ' cduverhindern', 'unwetter', ' hochwasserkatasprophe', ' powersätzeamfreitag', 'kesselbambule', ' welt', ' wetzel', ' bojanowski', ' kemfert', ' quaschning', 'tierschutz', ' wiesenhof', ' tierrecht', ' tierbefreiung', 'rheinstraße', 'wiesbaden', ' gegendiea49', ' nordhessen', ' mittelhessen', ' rechterterror', ' monibleibt', ' nokkk', ' koeln', 'traiskirchen', ' sanktpölten', ' radl', ' menschlichkeit', ' stopdeportations', ' holtdieleuteraus', 'zukunft', 'gutso', 'fahrräder', ' aufbruchfahrrad', ' radwege', ' rs1', ' artenschutz', ' sterki', 'marskeinealternative', ' workshop', ' kohlecommerzbank', 'commerzbank', ' protestaktionen', ' ka1405', ' kohleindustrie', ' in15jahrenaufnull', ' göre', ' istandwithisrael', 'lachet', 'klimaliste', ' klimalistehe', ' versammlungsgesetz', 'pcsu', ' rechtaufzukunft', 'spaltemalte', ' nsafd', ' frauenstreik', 'tierfabriken', ' massentierhaltung', ' tiere', ' gigafactory', 'teamneubauer', ' greifswald', ' fegebank', ' kerstan', ' tjarks', ' wildsau', ' ka1903', ' ödp', ' allefür1komma5grad', ' köln1903', ' nomireemptypromises', ' landwirtschaftkannklimaschutz', ' lawyers4future', 'oedpforfuture', ' liberty', 'klartextklima5', 'scholpp', 'linksextremisten', 'waldbesetzer', ' baumhaus', ' mercosur', ' oberursel', ' taunus', 'antifamagazin', ' kilmagerechtigkeit', 'schnee', 'gunnarkaiser', ' technokratie', ' technokratin', ' kündigung', ' lebenwiedieamish', 'spendenaufruf', ' abgebrannt', ' supportergegennazis', 'deutschunterricht', ' aktivist', ' marktführer', ' autoindustry', 'klimafakten', ' wortzumsonntag', 'childrenslivesmatter', ' werte', 'steuern', 'twitter', 'biosiegel', ' ökologie', ' dasistsowasvon2019', 'attilahildmann', ' covididioten', 'bildungabersicher', ' annenmaykantereit', 'postillonamsonntag', ' pams', ' wetter', ' googlehilft', ' afdiststaatszersetzend', ' neinzurafd', ' rtl', 'keingradmehr', 'piratesforfuture', 'regierungsviertel', ' bn2509', 'nürnberg', 'notmypresident', ' sucksen', ' piratesforfuture', ' balkon', ' hhbue', 'deinestimmefürdenradentscheid', ' kommunalwahl2020', ' kommunalwahlnrw', ' stopptdiezerstörung', ' jointherebellion', 'vermögenssteuern', ' erbschaftssteuern', ' parteispenden', ' dobrindt', ' freihandel', ' neindanke', ' newsde', 'rlp', ' klimakanzlerin', ' mittelstand', ' nahfairkehr', 'aufstandderjugend', ' artikel13', ' uploadfilter', ' schwiizbrandaktuell', 'raf', ' welle', ' optinfoil', 'zahldestages', ' sogehtsächsisch', 'schulden', 'lindenberg', ' erlangen', 'vegetarier', ' veganer', ' blacklivesmattters', ' dijon', ' toennis', 'tuifly', ' arbeitslosen', ' linksextremistisch', ' lsa', ' regen', ' hitzesommer', ' hitzerekorden', ' weltuntergang', ' tazeins', ' steuergelder', ' chaos', ' massenwahn', ' icantbreathe', ' georgeflyod', ' linksextremismus', ' weltumwelttag', 'nogroko', ' tagebau', ' fossileenergie', ' hygienedemo', 'ceta', 'kaufpraemie', 'vw', ' diess', ' absatzhilfen', ' benziner', ' quandt', ' piëch', 'allesgesagt', ' jugendantifa', 'spargel', ' flüchtlinge', ' refugees', ' fachkräftemangel', ' bauern', 'machtsendlich', ' ungleichheit', ' kolonialismus', ' sterbehilfe', ' macron', ' biden', ' sanders', ' assange', ' whistleblower', ' abrüstung', ' nopegida', ' noh8', 'soforthilfe', 'kölleforfuture', 'landschafftverbindung', ' lsv', ' panik', ' precht', ' seuche', ' nonazissh', ' agh', ' omagegenrechts', 'wirtschaftskrise', ' deindustrialisierung', ' zerstörung', ' hamburgwählt', 'hhwahl', ' hanaushooting', ' hanauattack', ' hanaustehtzusammen', ' afdgehoertnichtzudeutschland', ' klimawahlhelfer', ' infotweet', ' milch', ' siko', ' sicherheitskonferenz', ' kanews', ' bedingungslosesgrundeinkommen', ' basicincome', 'kemmerichruecktritt', 'kaeser', ' klimafanatiker', ' zensur', ' alteeichebleibt', ' aktionunterholz', 'tomradtke', ' jfb', ' invasiondayprotest', ' katebernadette', ' amnesiaday', ' dayofmourning', ' sovereigntyday', ' abolishaustraliaday', ' noprideingenocide', ' resist250', ' 250yearsofresistance', 'pädophile', ' generationenfrage', ' cdunje20', ' grueneralsgruen', ' oedp', ' orangeistdasneuegrün', ' davos20', ' davostoday', ' worldeconomicforum', 'jfb', 'freshair', ' frischeluft', 'ozeane', 'siemensenergy', ' gez', 'bushfireaustralia', ' affenhaus', ' zookrefeld', 'jahr2020', ' co2ausstoß', ' neoliberal', 'missbrauch', ' wdr2', 'werteunion', 'boellerverbot', ' silvester2019', ' brotstattboeller', ' pegidawütet', ' ausgelutzt', 'kindersoldaten', 'kaffee', ' nutella', ' mett', ' smilewithtaehyung', 'georgrestle', ' lindemann', 'strom', ' merkelmussweg', 'remigration', 'witze', 'drogenpolitik', ' scientistsfordrugpolicyreform', ' krieggegendrogen', ' drugpolicyreform', ' harmreduction', 'forgreta', ' co2preis', ' gretagate', ' wohlstand', ' bahn', ' dokumente', ' klimaathysterie', 'planetaryemergency', 'familien', ' finnland', ' teachersforfuture', 'bds', ' zfps', ' wearegolden2019', ' mibrag', 'zivilgesellschaft', 'neustart', 'goettingen', ' klimabilanz', ' konsumwende', 'piratenpartei', ' bpt192', ' falscherort', ' gentechnik', ' cartoondestages', ' cartoon', ' johannmayr', 'wetter', ' buch', 'ökodiktatur', ' lmu', ' umweltreferat', ' kölleforfuture', ' klimaskeptiker', 'hambi', 'mensch', ' fiktion', ' realität', ' anhaltbitterfeld', ' reformationsfeier', 'klimavorbehalt', ' hilse', ' unkultiviert', 'dampfschwaden', ' wasserdampf', ' wasser', ' brian', ' python', ' therealgreta', 'plakate', 'aldi', ' koalitionsvertrag', ' frontal21', ' ttip', 'holz', ' brennholz', 'heartland', 'heartlandinstitute', 'gaskrise', 'sondierungspapier', ' wolfratshausen', 'herne', ' duhastdiewahl', 'peaceandjustice', 'schäuble', ' mittel', ' ziele', ' stopfakegreen', 'knk19', ' museumspark', 'peter', 'zug', ' flugzeug', ' fliegen', 'milliarden', ' klimaproblem', 'neugebauer', ' klimabetrug', ' wortwechsel', 'gardasee', ' klimabildung', ' erneuerbareenergie', 'frisurpolizei', ' leinemaschbleibt', 'rtl', ' klimajournalismus', 'btw2021', ' gewerkschaft', ' ökozid', ' lobbyland', ' laschetvernichtetarbeitsplaetze', ' coronakonform', ' ju', 'thyssenkrupp', 'niemalsfdp', 'ghostbuster', 'warnstreiks', ' muenchen', ' busstreik', 'sommerloch', ' abindieschule', ' klatschenfürdielobby', ' arbeitsplätze', 'anpackenstattdauerbashing', ' danke', 'studentsforfuture', 'melaniconsejo', ' draghi', ' db', 'gymnasium', 'blockempfehlung', ' afdgehörtnichtzudeutschland', ' politikohnenazis', 'interview', 'dashandwerk', ' zeitzumumdenken', ' energieunabhängigkeit', 'krieg', ' hartaberfair', 'emobiltiy', 'ozean', ' meeresforschung', ' klimaschutzistjetzt', 'univie', ' semesterfrage', 'landtagswahl2021', 'rheinlandpfalz', ' klimawahlcheck', ' ltwrlp21', ' klassik', ' musikwelt', ' blickwinkel', ' abrüstenstattaufrüsten', ' emissionshandel', 'einstein', ' zukunftskommissionlandwirtschaft', ' farmersforfuture', 'ökolandbau', ' solawi', ' zukunftskommission', 'stolzekuh', 'bamberg', ' klimaneustart2020', 'efuels', ' erneuerbarer', ' windforfuture', 'publicclimateschool2020', ' pcs', 'amazonas', ' autos', 'windforfuture', 'kommunalwahl2020', ' alldaysforfuture', ' menschundnaturzuerst', ' runtervomgas', 'urwald', 'medien', ' senckenberg', 'pauschalabständen', ' 17punkteplan', ' vernunftkraft', ' nuclearpride', 'wdr', 'wahrnehmungsstörungen', ' attac', ' adfc', 'normal', ' tornado', ' ahrtal', 'rentensystem', ' erbschaftssteuer', ' bildungschancen', ' fu', 'gauland', ' gipfel', ' vmk', 'tvn2020', 'eutaxonomy', 'markushaintz', ' knavorort', ' almanlevel9000', 'müll', ' bio', ' sturmtiefs', ' sturm', ' munduruku', ' bolsonarofascista', ' menschheit', ' aktionstag', ' athensfire', 'klimaschmutzbericht', ' annalenabaerbock', ' justiz', ' naturschutz', 'putin', 'fffschilda', ' fossilerenergie', 'enkelkampagne', 'disoursesofdelay', ' zuhause', 'jeffbezos', ' washingtonpost', ' makeamazopay', ' vulkanausbrüche', 'tomradtkede', 'lastgeneration', ' polizeibeamte', ' frau', ' kanzleramt', ' bürgerrat', 'scotus', 'supremecourt', 'urteil', 'würgegriff', 'feinde', 'notstromaggregat', 'ccs', 'brokdorf', ' grohnde', ' gundremmingen', ' atomanlagen', ' nofracking', 'gaslieferungen', 'gasnotstand', 'totalausfall', 'antifas', ' gruenewoche', 'deeskalationjetzt', ' nowarwithiran', ' privatjetuschi', 'kampfdrohnen', 'mint', ' forschung', ' ichbinhanna', ' bdi', 'energien', ' vernunft', 'niedersachsen', 'hildesheim', 'autobahn', ' solaropposites', ' balkonenergie', 'osterholz11', 'antiakw', 'kernenergie', 'nürnbergerland', ' zhengzhou', ' goere', ' niemalsafdp', ' mietwucher', ' lobbyismus', ' korruption', ' oekozid', ' wissenschaftsleugnung', ' co2nservatismkills', ' sozialversicherung', 'mobilitaetswende', 'autowahn', ' kidicalmass', 'neinzumloch', ' kriege', 'bearbock', ' fairness', ' transparenz', 'veranstaltungstipp', ' makingparispossible', ' geschichtemachtzukunft', ' covid2019de', ' australienfires', ' lidl', ' klimazielen', 'ldk22nrw', 'lobbyhuren', 'pflegestreik', 'klimaidioten', 'klimawahn', 'putins', 'montagsblockaden', 'gaskraftwerke', 'updateklimaenergie', 'petition110043', 'sek', 'haltdiefressebild', 'wahlprogramme', ' hassistkeinemeinung', 'frauenhasser', 'radikalisierung', 'anschlag', 'pflichtdienst', 'sozialekipppunkte', ' masks', ' distance', 'formel1', 'wetzlar', 'gesellschaft', ' parteimitglieder', ' schulleitung', ' meinungsmache', ' beeinflussung', ' kindern', 'parteimitglieder', 'schulleitung', 'meinungsmache', 'beeinflussung', 'infraschall', ' klimafinanzierung', 'klimazielen', 'elektroautos', ' flutopfer', ' luftblock', ' polonia', 'unter1000', 'storytelling', 'klimakatastropheistjetzt', 'graffiti', 'paderborn', 'menschen', 'umweltzerstörung', 'astronaut', 'maurer', 'gasstop', ' 100aufderautobahn', ' atcm', 'atom', ' verkohlt', 'allegegenluecker', ' wasel', 'hambacherwald', ' pension', ' besteuert', ' generation', ' klimawahlnrw', ' rheinspange', ' weltklimagipfel', ' tietjentalkt', 'klimabildung', ' wärmesektor', ' gebäude', 'dielinke', 'blöd_on_tour_presse', ' hartzundherzlich', ' memes', ' neustadt', ' oneactivists', 'buergerrat', ' solarpflicht', ' wärmegesetz', ' klimakapitulation', 'lubmin', 'grundrecht', 'grünermist', 'tempolimitjetzt', 'ukraine️', 'energieembargo', 'gesundheit', ' krankenhaus', ' weilshilft', 'mobility', 'farben', 'battery', 'abs', 'airbag', 'energiesparen', ' kohlekraft', 'atomkraftneindanke', 'erneuerbareenergien', 'julis', 'zukunftsrisikocsu', 'hauptversammlung', 'hartzundherzlich', 'satire', 'isar2', 'eon', 'hysterie', 'zeitzumumdenken', 'exportüberschuss', 'omas_gegen_dreadlocks', 'parents_for_undercut', 'tod', 'guterres', 'fightforonepointfive', 'arroganz', 'klimaluege', 'nato', 'inflation', 'inklusion', ' allensbach', 'fossilerenergie', 'cloppenburg', 'neustrelitz', ' weltklimatag', 'hauptbahnhof', 'münster', 'systemwechsel', 'dreads', 'mitweltschutz', 'ingersleben', 'klimagerechtwerden', 'b2503', 'rastalocken', 'sprit', ' reichsbürger', 'öl', 'gerechtigkeit', 'brandenburg', 'freitag', 'tee', 'verkehr', 'savethefuture', 'kulturrevolution', 'identitätspolitik', 'fffhannover', 'bremerhaven', 'nichtsnutze', 'maltzan', 'priebshow', ' eineunion', ' plastik', 'carlareemtsma', 'russischesgas', ' niedriglöhne', 'gigafucktory', 'salzburg', 'konzert', 'selenskyj', 'lotharwieler', 'rki', ' merkeljugend', 'sostenibilità', 'porsche', 'futschi', 'solidarischnichtalleine', 'getreidepreise', 'erdgas', 'künstdünger', 'grundbedarf', 'guerillapv', 'balkonpv', 'stopputinswar', 'f4f', 'hh0303', 'ukrainewar', 'sabotage', 'industrie', 'essenrettenlebenretten', 'seltensovielschwachsinngehört', 'opportunities', 'aussi', ' morrison', ' bergbauindustrie', ' wirtschaftssabotage', ' anarchisten', 'ölkatastrophe', 'schifffahrt', 'prien', 'durchseuchungstoppen', 'verschwörungstheorie', 'leinemaschbleibt', ' freiebürgerkassel', 'ottowa', 'verschwörungstheoretiker', 'atomausfall', 'maischberger', 'polizeibeamte', 'frau', 'osterholz', ' citizenscience', 'totalitär', 'hamas', 'luetzibleibt', 'kodiak', 'alaska', 'covidioten', 'querlullies', 'aufdemrechtenaugeblind', 'gundremmingen', 'atomanlagen', 'gronau', 'lingen', 'schwurbel', 'diegruenen', 'pariserklimaabkommen', 'gruendepp', 'buergerratklima', 'dnt', 'grübe', 'saveplanetearth', 'migration', 'untergang', 'sozialewandel', ' notjustacommercialdeal', ' listentogreta', ' stopnordstream2', 'oxfam', 'bund', 'generationenbashing', 'privatjetuschi', 'ulm', 'övp', 'volkspartei', 'boyanslat', 'thismachinefightsclimatechange', 'klimawandelleugner', 'abo', 'mittel', 'bz', 'razetozero', 'terror', 'terroristen', 'b2210', 'abolishthepolice', 'bildlive', 'dierichtigenfragen', 'bdi', ' koalitionspakt', ' klimacheck', ' autobahnprojekte', ' nervosität', 'grün', 'nichtverhandelbar', 'autoausstieg', 'koalitionsgespraeche', 'teufelsbruchbleibt', 'afdverbot', 'wirgegenhass', 'flugverbot', 'spahn', 'wahlalter', 'akk', 'volksabstimmung', '100tage100songs', 'wodarg', 'bhakdi', 'ungeimpfte', 'geimpfte', 'impfung', 'pinneberg', ' kreispinneberg', ' antifacafé', 'bundestagswahl21', 'stadtplanung', 'göpel', 'ökozial', 'laschetluegt', 'gehtwählen', 'hungerstreik21', ' seibt', 'wirecard', 'gemeinsamsindwirstark', 'deutschlandabernormal', 'longcovid', 'afdverbotjetzt', ' dd2409', 'abgeordnetenhaus', 'protestzug', 'allesistdrin', 'zusammenveraendern', 'kirche', 'wohnungsnot', 'dilemma', 'flutkatastophe', 'ichwaehlelinks', 'bewusstsein', 'gesundheitbrauchtklimaschutz', 'klimaschutzpolitik', 'demonstranten', 'grillfest', 'btw', 'hvv', 'fffleaks', ' orangeaktiv', 'zusammenverändern', 'braunerlaschet', 'klimagebet', 'grönemeyer', 'diesmalgrün', 'diellnke', 'ngo', 'stromausfall', 'niewiedercdu', 'beidestimmengrün', 'ardwahlarena', 'wahlkandidat', 'enkelbriefen', 'energiecharta', 'laschetrücktritt', 'amnestyinternational', 'vielfalt', 'respekt', ' stop10h', ' ausgruenden', 'btwahl2021', 'falschinfirmationen', 'rotgrün', 'sondergenehmigung', 'duesseldorf', 'huether', 'gasausstieg', 'deutschlandausstieg', 'demonstrationen', 'blockupy', 'ökolobby', ' pseudoklimaschützer', 'hass', 'wahlkampfmanipulation', 'hupdolen', 'ökomarxisten', 'linksgrünesubintelligenz', 'hochwasserkatasprophe', 'powersätzeamfreitag', 'glacischaussee', 'reeperbahn', 'umweltkatastrophe', 'gruenejugend', 'wetzel', 'zib2', 'laschetwusstees', 'laschetlacht', ' biologischekohlenstoffspeicher', ' co2speicher', 'kemfert', 'ueberbevoelkerung', 'wiesenhof', 'tierrecht', 'tierbefreiung', 'nowater', 'starkregen', 'koalitionspakt', 'klimacheck', 'autobahnprojekte', 'krankenhaus', 'weilshilft', 'baerbockwählen', 'ökozid', 'lobbyland', 'klimaschutzmaßnahmen', 'mindestabstand', 'nextglobalclimatestrike', 'gegendiea49', 'nordhessen', 'mittelhessen', 'treibhausgasneutralität', 'bürgerrat', 'rechterterror', 'monibleibt', 'sanktpölten', 'radl', 'menschlichkeit', 'stopdeportations', 'holtdieleuteraus', 'sozialklimagerecht', 'forschung', 'umweltzerstörer', 'tilojung', 'klimajugend', 'initiativeneuesozialemarktwirtschaft', 'scientistforfuture', 'heimarbeit', 'aufbruchfahrrad', 'radwege', 'rs1', 'frontal21', 'semesterfrage', 'erde', 'artenschutz', 'gretl', 'virus', 'kurzstreckenflüge', 'uno', ' apartheidisrael', ' for', 'vergangenheitsbewältigung', 'haustür', 'klimakonsens', 'sciencematters', 'reemtsa', ' climateassembly', ' sortition', ' conventioncitoyennepourleclimat', 'reich', 'protestaktionen', 'ka1405', 'investitionen', ' einewelt', 'ltw21', 'nachhaltigkeit', 'klimapledge', 'israelunderfire', 'istandwithisrael', 'klimalistehe', ' waldaufdiestrasse', 'amthor', 'pfeiffer', 'verbrenner', 'e', 'rechtaufzukunft', 'tazlab2021', 'tschernobyl', 'niemalsafdp', 'mietwucher', 'korruption', 'oekozid', 'wissenschaftsleugnung', 'unrechtsstaat', 'co2restbudget', 'linksliberalismus', 'gendergaga', 'niewiedersozialismus', 'niederösterreich', 'massentierhaltung', 'tiere', 'doppelmoral', 'anotherworldispossible', 'hanfstattplastik', 'grundrechte', 'örr', 'akkus', 'disruption', 'fegebank', 'kerstan', 'oberbaumbrücke', 'wildsau', 'allefür1komma5grad', 'köln1903', 'objektperspektiven', 'kli', 'ect', 'klimakiller', 'fcas', 'fukushima10', 'uemercosur', 'klimareport', 'oberursel', 'ju', 'höffner', 'klimawahlcheck', 'solidaritaet', 'shootingstar', 'mainstreammedien', 'technokratie', ' nordstream', 'notjustacommercialdeal', 'listentogreta', 'fckrwe', 'a44', 'abfallverordnung', 'stadt', 'klassik', 'musikwelt', 'pipelineindiekrise', 'cduvorsitz', 'abgebrannt', 'spende', 'actnowforfuture', 'bauwendejetzt', 'rentner', 'minijobber', 'plauen', 'erklärung', 'sonnenfinsternis', 'südamerika', 'lockdownjetzt', 'bundeswehr', 'wirtschaft', 'eubudget', 'parisgoesrathaus', 'bürgerenergie', 'dbdk2020', 'tempo30', 'visionzero', 'koalition', 'werte', 'b1811', 'bidenharis2020', 'brunsbüttel', 'zukunftskommissionlandwirtschaft', 'farmersforfuture', 'pension', 'besteuert', 'obwahlstuttgart', 'solawi', 'zukunftskommission', 'electionday', 'votehimout', 'a3', 'evp', 'gipfel', 'ökofaschistisches', 'ökofaschismus', 'erneuerbarer', 'energie', 'seebrücke', 'friedrichshain', 'eigentümer', 'ökologie', 'klimagesetz', 'herrenlosbleibt', 'bahnoffensive', ' leftnoonebehind', 'wirfahrenzusammen', 'wahlalter16', 'waehlenab16', 'mehrdemokratiewagen', 'klimaprio1', 'populismus', 'googlehilft', 'afdiststaatszersetzend', 'neinzurafd', 'dd2509', 'masks', 'demokratenfürsklima', 'meetings', 'technikfeinden', 'akws', 'atomausstiegstoppen', 'co2idioten', 'erneuerbarenenergien', 'rheinland', 'gesellschaftsvertrag', 'agrar', 'solarpflicht', 'erfurt', 'heldinnen', 'böhmermann', 'hhbue', 'sffhannover', 'klimawandelstoppen', 'unihannover', 'sibirien', 'ttip', 'stopptdiezerstörung', 'jointherebellion', 'erbschaftssteuern', 'parteispenden', 'dobrindt', 'rücktritt', 'kusbass', 'billgates', 'kreuzfahrtschiffe', 'nocruiseday', ' plauen', 'kanzlerin', 'neindanke', 'kliamschutz', 'erneuerbar', 'klimakanzlerin', 'nahfairkehr', 'permafrost', 'eworld2020', 'nohate', 'artikel13', 'klimawahl2021', 'kontraste', 'dampfmaschine', 'meinung', 'germanzero', 'klimaneustart', 'welle', 'kempten', 'sommer2020', 'hambiart', 'alexanderplatz', 'weimar', 'porz', 'haltestelle', 'easyjet', 'datteln', 'teammerz', 'climateassembly', 'sortition', '4dattelnessen', 'rwestoppen', 'blacklivesmattters', 'dijon', 'linksextremistisch', 'fleischindustrie', 'fleischkonsum', 'agrovoltaik', 'regen', 'hitzerekorden', 'linksextrem', 'erneuerbareeneegien', 'paritätischerwohlfahrtsverband', 'chaos', 'massenwahn', 'icantbreathe', 'georgeflyod', 'weltumwelttag', 'konjunkturpaketes', 'geld', 'ngos', 'mineapolis', 'antifaterrorists', 'solaropposites', 'kapitalismustötet', 'attac', 'hungerstreik', 'flughafen', 'wohlstandfüralle', ' weltrettung', 'zuhause', 'glaubnichtalles', 'sars_cov2', 'erbschaftssteuer', 'deutscheumwelthilfe', 'seawatch', 'covidiots', 'politik', 'deutschen', 'großkonzerne', 'cats', 'co2020', 'diess', 'absatzhilfen', 'benziner', 'quandt', 'netzstreik', 'masken', 'luft', 'linksjugend', 'fahrverbote', 'coronazeit', 'covid2019', 'speicher', 'es2050', '10vor10', 'wärme', 'co2gesetz', 'nfp70', 'srfarena', 'sündefall2009', 'industrieprivilegien', 'abstandsregel', 'strompreisalarmismus', 'mimimieinekugeleis', 'flüchtlinge', 'refugees', 'fachkräftemangel', 'brennholz', 'bußgeldbescheide', 'kitas', 'markus', 'ernte', 'grenzschließungen', 'milgram', 'globalisierung', 'ungleichheit', 'kolonialismus', 'sterbehilfe', 'biden', 'sanders', 'assange', 'whistleblower', 'weber', 'nopegida', 'noh8', 'trinkwasser', 'landwirt', 'solaranlagen', 'unbegleitete', 'mädchen', 'germoney', 'hitzetod', 'atomkraftwerke', 'ökorassismus', 'coronavirusat', 'covid2019italia', 'covidー19uk', 'panik', 'lesch', 'kreispinneberg', 'radfahrprämie', 'mehrgeldfürsrad', 'klimaretten', 'wirtschaftsministerium', 'sturmtiefs', 'corono', 'eautofabriken', 'omagegenrechts', 'washingtonpost', 'datteln4stoppenwir', 'windkraftanlagen', 'pilgerunterwegs', 'hamburgklimawahl', 'hhbue2020', 'hanaushooting', 'hanauattack', 'hanaustehtzusammen', 'ab16jahre', 'hh2102', 'mai', 'granniesforfuture', 'nordend', 'grünelunge', 'photovoltaikanlagen', 'cumex', 'flugzeug', 'fliegen', 'schweiz', 'derpvdeckelmussweg', 'siko', 'meeresspiegel', 'bedingungslosesgrundeinkommen', 'kohlausstieg', 'gemeine', 'bahnhof', 'left', 'immigration', 'ecoanxiety', 'fakten', 'verkehrstote', 'beata', 'alldaysforfuture', 'menschundnaturzuerst', 'decoalonize', 'energiekonzerne', 'klartextklima', 'recycelbar', 'zehntausende', 'regenerativeenergien', 'eike', 'exitcoal', 'klimafanatiker', 'waldspaziergang', 'climatjustice', 'decoalonizeeurope', 'ökostalinisten', 'magna', 'fridaysforhubraum', 'alteeichebleibt', 'euratom', 'invasiondayprotest', 'katebernadette', 'amnesiaday', 'dayofmourning', 'sovereigntyday', 'abolishaustraliaday', 'noprideingenocide', 'resist250', 'waermeinitiative', 'lärm', 'meinungsfreiheit', 'morrison', 'bergbauindustrie', 'wirtschaftssabotage', 'hro', 'generationenfrage', 'cdunje20', 'eliten', 'epstein', 'unfitforoffice', 'grueneralsgruen', 'oedp', 'rostocker', 'daimler', 'davostoday', 'worldeconomicforum', 'asylgrund', 'brennstoffe', 'nolympiaf4f', 'radfahren', 'radunfälle', 'kohleabbau', 'bauernproteste', 'klimaschutzplan', 'klimagate', 'whendowewantit', 'unwort', 'wort', 'teilhabe', 'nomorecoal', 'buschfeuer', 'buschbrände', 'konflikten', 'keinewortemehr', 'islamistischen', 'sicherheit', 'heimatschutz', 'hitzewellen', 'todesfälle', 'federer', 'biologischekohlenstoffspeicher', 'forschungsprojekte', 'terrapower', 'affenhaus', 'kohlemienen', 'meatloaf', 'koeln0401', 'k0401', 'omagate', 'umweltsauoma', 'presseausweiss', 'bundespolizei', 'goko', 'treibhausgase', 'co2ausstoß', 'klimaschutzes', 'umweltsaugate', 'jahresrückblick', 'nazisau', 'flugreisen', 'silvester2019', 'brotstattboeller', 'feuerwerk', 'pegidawütet', 'restle', 'funk', 'nutella', 'mett', 'smilewithtaehyung', 'seenotrettung', 'kinderchor', 'oma', 'rweenteignen', 'stoprwe', 'stopcoalmining', 'sendinglovefrompatagonia', 'merkelmussweg', 'unterirdischen', 'niveau', 'klimazölle', 'notredame', 'linksfaschismus', 'scientistsfordrugpolicyreform', 'krieggegendrogen', 'drugpolicyreform', 'urgenda', 'klimarettung', 'suvs', 'scheuerruecktritt', 'sozialerausgleich', 'vermittlungsausschuss', 'soldaten', 'flynice', 'mimikana', 'treibhauseffekt', 'victoria', 'zugstreik', 'sitzplatz', 'ernten', 'laueslüftchen', ' parlamente', 'stuttgart21', 'propagandatop', 'lithium', 'machtfrage', 'spdbpt18', 'pendlerpauschale', 'wenigerautos', 'bezahlt', 'ryanair', 'basis', 'nürnberger', 'eka', 'humanisten', 'autolobbyismus', 'machtergreifung', 'umweltpolitik', 'film', 'klimaprotesten', 'bs2911', 'linksfraktion', 'munduruku', 'menschheit', 'konsens', 'ichsagendeglände', 'rebel4live', 'verbote', 'hitler', 'gentechnik', 'saubere', 'wewillrise', 'aktionen', 'perversesubventionen', 'cartoondestages', 'sogklimapaket', 'elektro_kraxn', 'afdgehörtnichtzudeutschland', 'klimapakets', 'mondayforfuture', 'lmu', 'klimaschule', 'fiktion', 'wirsinddiewelle', 'hilse', 'sofamünster', 'nicht_mein_endlager', 'atommüll', 'wasserdampf', 'brian', 'python'], ['fossilfuels', ' wind', ' solar', ' green', ' hydrogen', ' energy', ' climateaction', ' renewableenergy', ' carbon', ' demvoice1', ' sdgs', ' climatecrisis', ' fridaysforfuture', ' climatestrike', ' climate', ' actnow', ' climateemergency', ' electricity', ' sustainability', ' renewables', ' health', ' planet', 'science', ' earth', ' environnement', ' co2', ' climatestrikeonline', ' fossilfuel', 'environment', ' fridayforfuture', ' fff', ' biodiversity', ' science', ' water', ' oceans', ' fightfor1point5', ' climatebrawl', 'renewableenergy', ' fossilfuels', ' energytransition', ' future', 'cleatech', ' innovation', ' africa', ' sustainable', ' gas', 'carbon', ' denmark', ' floods', ' bangladesh', ' schoolstrike4climate', ' facetheclimateemergency', ' emissions', ' climatechange', ' climatechangeisreal', 'solarenergy', 'planet', 'cleanpower2035', ' coal', ' environment', ' world', ' gretathunberg', ' life', 'g7showusthemoney', ' heatwave', 'climatebrawl', ' actonclimate', 'heat', ' economy', ' jobs', 'globalwarming', ' pollution', 'europe', ' ghg', 'eacop', ' india', ' parisagreement', ' foodsystems', ' humanrights', ' fridayfeeling', ' fridaymotivation', 'australia', ' savecongorainforest', ' extinction', 'finland', 'climate', ' happyheroesday', 'energy', ' storage', ' cleanenergy', ' climatetech', ' extinctionrebellion', ' katemarvel', 'green', 'stockholm50', ' airpollution', 'noise', 'floods', ' brazil', ' ev', ' basra', ' iraq', ' russian', ' oil', ' greennewdeal', ' greendeal', ' climatepromise', 'japan', ' saveourburningforests', 'renewables', ' showusthemoneynow', ' financenotpromises', ' ecosystems', 'energyefficiency', ' racialjustice', 'energytransition', 'conservation', ' droughts', ' wildfires', 'future', ' electric', ' car', ' suv', ' van', ' bus', ' truck', ' boat', ' transportation', ' sustainabilty', ' tech', 'climateemergecy', ' enegytransition', ' climattech', 'ecosystems', 'earth', ' markcarney', ' amawithsadhguru', ' savesoilmovement', 'fossil', ' heat', 'savesoil', 'microplastics', ' newzealand', ' eacop', ' youth', 'heritage', ' endcoal', 'germany', ' conversation', 'mobile', ' zero', ' ipccreport', 'solar', ' war', ' covid', ' cop26', 'actonclimate', ' plasticpollution', ' uganda', ' germany', 'ev', ' usa', ' wtpearth', 'oil', ' covid19', ' ship', 'pollution', 'drought', ' fossil', 'polluting', ' diesel', ' trucks', ' batteries', ' tesla', 'children', ' decarbonization', ' wws', ' disasters', ' stoptotal', 'coventry', ' uk', ' nigeria', 'scottish', ' cleantech', 'ecudaor', ' environmental', 'arctic', ' greencolonialism', ' electrify', ' meat', ' technology', ' air', ' israel', 'oceans', ' fish', ' climatemarchkarachi', 'wind', 'youth', ' crisis', 'borisjohnson', ' economic', ' china', ' dontchooseextinction', 'glasgowcop26', ' drought', 'antónioguterres', ' us', 'europeanrecord', ' nobelpeaceprize', 'climatedisasters', 'sustainability', 'climateactivists', ' nutrition', ' greenhouse', ' mankind', ' ubuntu', 'climatecrisisis', 'electricity', ' sdgs7', ' foodsystems4sdgs', ' agriculture', ' victim', ' solution', 'farmers', ' foodsystemshas', ' hurricane', 'singapore', 'biodiversity', ' fires', 'destruction', ' carbo', ' ng', ' rt', ' planetb', ' energyefficiency', ' power', ' california', 'ice', ' iyd2021', 'emergency', ' bp', ' sea', 'coal', ' sun', 'exxonknew', ' globalheating', ' job', ' renewbleenergy', 'lockdown', ' gnd', 'cleanenergy', ' firedrillfriday', 'cimateaction', 'netzero', ' kabila4sdgs', ' norway', 'decarbonization', ' trains', 'atlantic', 'electric', ' buses', ' costs', ' emobility', 'coronavirus', 'china', 'sdgs', 'ghg', 'vehicles', 'emobility', ' cars', ' engineering', ' cop25', ' latinamerica', ' house', ' pv', ' solarenergy', 'sustainable', 'city', ' renewable', ' buildings', ' islands', 'endcoal', ' polluting', 'jobs', ' solarpower', ' clmatecrisis', 'coronacrisis', 'california', 'methane', 'mauritius', ' home', ' aloksharma', 'bp', ' australiaonfire', ' geothermal', 'video', ' madrid', ' renewableenegy', ' rejectinginaction', ' worldindanger', ' elecctric', ' global', 'climatescience', ' innovations', ' sanfrancisco', ' industry', 'environmentally', ' californians', 'oilandgas', ' fridaymorning', ' fridayvibes', ' trees', ' divest', 'act', ' energystorage', 'innovation', 'energietransition', ' charge2020', 'ar', ' healthtech', ' mountains', 'tweetwithme', ' eastafrica', ' burundi', ' rwanda', ' kenya', ' mwc2020', ' microgrid', ' galapagos', ' euw19', ' siemensinfluencer', ' savetheplanet', ' nature', ' gogreen', ' zerowaste', ' ocean', ' ecofriendly', 'hydrogen', 'goodnews', ' learning', ' windpower', ' costofliving', ' food', 'humans', ' variation', ' edutwitter', ' stem', ' homeschooling', ' plants', ' animals', ' soil', ' farming', ' wildlife', ' recycling', ' circulareconomy', ' scotland', ' education', ' litter', ' parents', ' fashion', ' waste', ' lockdown', ' climatchange', ' iota', 'quiz', ' biodiveristy', ' tuesdaythoughts', 'bangladesh', 'water', ' trump', ' ghgemissions', ' greed', 'heatwave', 'thinkgreenactgreen', ' kippraconference2022', ' climateenergysummit', 'nigeria', ' ipcc', ' birthday', ' letloverule', ' lennykravitz', ' endgunviolence', ' topgun', ' anxiety', ' texas', ' survivor', ' parkland', ' memorialday', ' emergency', 'climateuni', 'happy', ' worldbeeday', ' bee', ' bees', ' agave', ' dates', ' maple', ' syrup', ' beeday', ' sugardaddys', ' savethebees', ' cowspiracy', ' pollinators', ' queen', ' cher', ' animal', ' liberation', ' freedom', ' sentient', ' beings', ' allstars7', ' nationalrescuedogday', ' nationalendangeredspeciesday', ' greenenergy', ' globalcrisis', ' tippingpoints', ' globalextinction', 'india', ' stopputin', ' getvaxxed', ' act', ' happyeaster', 'nationaldolphinday', ' dolphinday', ' captivity', ' kills', ' stopthegrind', ' thursdayvibes', ' opwhales', ' opseaworld', ' defendthewild', ' seaspiracy', ' tree', ' children', 'technology', 'strong', ' roots', ' indunited', ' indunitedngo', ' sdg', ' earthhour', ' solvingit', 'worldleaders', 'onpoli', 'ireland', 'comics', ' comicsforclimate', ' thankyou', ' missedyou', ' imbackbaby', ' comic', 'beatplasticpollution', ' coderedforhumanity', ' climatescience', ' deforestation', ' halloween', 'inktober', ' inktober2021', ' drawing', ' connect', ' leak', 'plasticpollution', ' worldleaders', ' fuzzy', ' endangeredspecies', ' ecosystem', ' quail', ' fungus', ' forests', ' endangered', ' sour', ' draught', ' watch', ' raven', ' knot', ' crystal', ' lakes', ' streams', ' endpollution', ' oil_gas', ' death', ' costumeshopping', ' happyspookyseason', ' peoplearedying', ' animalsaredying', ' thefutureneedsus', ' trickortreat', ' onetwoclimatescomingforyou', ' scary', ' globalclimateaction', ' boomers', ' cutthebullshit', ' wehavethedata', ' wehavethetechnology', ' humanchangenotclimatechange', ' species', ' collapse', ' losinglife', ' comics', ' corporationsarekillingus', ' bethechange', ' vote', ' oildrilling', ' oilbusiness', 'bikelanes', ' bicycles', ' cargobikes', ' ebikes', ' fitness', ' fossilfueled', ' rumors', ' alltherumorsaretrue', ' listentoscience', ' protest', ' yourvoiceispowerful', ' congress', ' demandchange', ' extinctionisforever', ' extremeweatherchanges', ' carbonemissions', ' globalchange', ' overshoot', ' basketball', ' notevengonnatry', ' lazygovernment', ' olifieldworker', ' americanpolitics', ' politicsarekillingpeople', ' globalcitizen', ' worsethanthanos', ' humansaretheproblem', ' wecandobetter', ' tiktok', ' tiktokdance', ' iliketomoveitmoveit', ' strikeapose', ' vogue', ' planethumor', ' reducereuserecycle', ' wecanbetter', ' itsgettinghotinhere', ' coolestsummeryoulleverhave', ' marvel', ' marvelaudition', ' carbonsinks', ' rainforests', ' cornwall', ' worldenvironmentday', ' worldenvironmentday2021', ' wed2021', ' wed2020', ' mostpollutingbrands', ' holdthemaccountable', ' plasticiskillingus', 'greennewdeal', ' unitedstates', ' australia', ' whereyouatamerica', ' protecttheplanet', ' conservatives', ' globaltemperaturerise', ' itstheendoftheworldasweknowit', ' keepoilintheground', ' fossilfuelsarekillingus', 'drawing', ' climateactivists', ' keelingcurve', ' climatesummit', ' treeloss', ' parkinglot', 'climateactivist', 'ieifw', ' climatesteikeonline', ' pickupyourtrash', ' litterbug', ' mommasaidcleanitup', ' sorrynotsorry', ' surprise', ' wrongpayroll', ' police', ' dontgiveup', ' parisclimateaccord', 'adifferenceofopinion', ' killingourselves', ' money', ' peoplelovemoneymore', 'bicyclelane', ' bicycleschangelives', ' railstotrails', ' feedbackloop', ' wethepeople', 'firedrillfriday', 'capitalism', 'world', 'airpollution', 'halloween', ' inktober2020', ' music', ' sleep', ' fancy', ' wilderness', ' rodent', ' economics', 'norway', ' ice', ' exitoil', ' stopaeroportomontijo', ' veganfortheplanet', ' aacc', ' environmentday', ' axedraxnottrees', ' biofuels', 'africa', 'covid', ' choosevegan', ' covid19memes', 'economy', ' exploitation', ' teamtrees', ' dumpfossilfuels', ' nocoal', ' stopanimalabuse', 'environnement', 'bethechange', ' compassionateliving', ' maketheconnection', ' crueltyfree', ' stopanimalcruelty', 'extinction', ' exxonknew', 'bicycles', 'solarpanels', ' technologyupdates', ' technews', 'solarpower', ' oksolar', 'seatwirl', ' offshorewind', ' floatingwind', ' pratapengar', ' finanstwitter', ' fintwit', ' fintwitter', ' masdelomismo', ' habitat', 'demvoice1', 'tree', 'climatesign', ' gardening', ' natureconnection', ' fruits', 'earthweek', ' postcardsfromhome', 'climatefires', ' oneworld', ' peopleandplanet', ' saynotosingleuseplastics', ' growtrees', ' kidsfortigers', ' foreverwild', ' swachhbharat', 'fossilfuel', 'govegan', ' blood', 'spark', ' javirroyo', ' ilustracion', 'plasticfree', ' plasticfreejuly', 'uganda', ' illustrator', 'listentoscience', 'nobelpeaceprize', ' youtube', 'australiaonfire', ' tuesdaymotivation', ' greenjobs', 'beforeifallasleep', ' cupofuji', ' zerohunger', 'tmx', ' keystone', ' alberta', ' rainforest', 'tesla', 'suv', 'funnyvegacademy', ' attivismo', 'animals', 'tavola', ' animali', ' veganrecipes', ' xmas', ' xmas21', ' natale2021', ' menu', ' ricette', ' cucina', ' meatlesseveryday', ' endspeciescism', 'nationalwildlifeday', 'globalclimateaction', 'protest', ' petrolio', ' carbone', 'stoptotal', 'wildlife', 'rt', 'israel', ' cina', 'nofracking', 'food', ' nonunadimeno', ' envi', ' thinktank', ' kantonsrat', 'reducereuserecycle', 'emissions', ' wildliferescue', 'australianbushfires', ' thisisclimatechange', ' bushfirecrisisaustralia', ' windkrafträder', 'timepoy', 'uk', ' glastonbury', ' business', ' tidetotheocean', ' sichererhafen', ' worldenvironmentday2022', ' tamilnadu', ' tamil', 'wettribe', ' bluecarbon', ' arborday', 'life', ' climatestudents', ' climateactionsyoucantake', 'nationalzooloversday', ' bezoomantic', ' visituganda', ' educationcentre', 'globalcrisis', 'oscarstembridge', 'military', ' military', ' iamprosnow', ' alohafriday', ' csd', ' buxwahaforest', ' buxwaha', ' milieudefensie', ' palästina', ' hemp', ' disharaviarrested', ' modi', 'stopecocide', ' dummwiestulle', ' technologie', ' iot', 'studentsstrike4climate', ' mexico', ' apocalypse2020', ' maga2020', ' fortum', ' digital4action', ' nomoreplastic', ' itstodaynottomorrow', 'tuesdaythoughts', ' lapland', 'saudi_arabia', ' tragedy', ' accentureatdavos', ' animalrescue', 'trees', ' cgl', 'defundclimatechange', 'congress', ' danishkaneria', 'lcvdinner', ' flatearth', ' truth', 'huh', ' solarbeam', ' pokemongotoronto', ' saveeverything', ' bulbasaur', ' pokélife', ' dougford', ' climatstrike', 'usa', ' tibetclimatecrisis', ' shutdowndc', 'tiktok', 'climateweek', 'massachusetts', ' weymouthma', ' fuelcells', 'learning', ' cities', 'windpower', 'costofliving', 'health', ' malmö', 'coalcompanies', 'oilcompanies', 'gascompanies', 'climatecatastrophe', 'coalminers', ' girlsinstem', ' ai', ' designthinking', ' peking', 'variation', 'edutwitter', 'stem', 'homeschooling', 'plants', 'soil', 'farming', ' timepersonoftheyear2019', 'denmark', 'ghgemissions', 'attivismo', 'fridayforfutureyouthstrikers', 'bhavreenkandhari', ' climatecardinals', 'agra', 'eiadraft2020', 'greed', ' climatechangeaction', 'honey', 'tidetotheocean', 'foodsystems', 'kippraconference2022', 'happyheroesday', 'storage', 'vlog', ' youthatcop26', 'climatetech', 'katemarvel', 'sustainme', 'worldenvironmentday2022', 'tamilnadu', 'wttcdata', 'cycling', 'brazil', 'basra', 'iraq', 'russian', 'birthday', 'letloverule', 'lennykravitz', 'endgunviolence', 'topgun', 'anxiety', 'texas', 'survivor', 'parkland', 'memorialday', 'happyearthday', 'saveourburningforests', 'worldbeeday', 'bee', 'bees', 'agave', 'dates', 'maple', 'syrup', 'beeday', 'sugardaddys', 'savethebees', 'cowspiracy', 'pollinators', 'queen', 'cher', 'animal', 'liberation', 'freedom', 'sentient', 'beings', 'allstars7', 'nationalrescuedogday', 'nationalendangeredspeciesday', 'car', 'van', 'bus', 'truck', 'boat', 'transportation', 'sustainabilty', 'tech', 'greenenergy', 'enegytransition', 'climattech', 'markcarney', 'tippingpoints', 'amawithsadhguru', 'savesoilmovement', 'newzealand', 'bluecarbon', ' healthyrecovery', 'gogreen', 'climatedisaster', 'zero', 'fbfriday', 'schoolsandclimateaction', 'climatestudents', 'stopputin', 'getvaxxed', 'happyeaster', 'dolphinday', 'captivity', 'kills', 'stopthegrind', 'opwhales', 'opseaworld', 'defendthewild', 'natureconnection', 'bezoomantic', 'visituganda', 'fruits', 'government', 'athirivercommunitynetwork', 'roots', 'indunited', 'indunitedngo', 'sdg', 'wtpearth', 'bigoil', 'ship', 'petrolio', 'forclimate', 'trucks', 'batteries', 'wws', 'vulnerabilities', 'visualimpairments', 'comicsforclimate', 'thankyou', 'missedyou', 'imbackbaby', 'comic', 'cleantech', 'environmental', 'greencolonialism', 'electrify', 'meat', 'blockchain', 'air', 'fish', 'iamprosnow', 'animali', 'veganrecipes', 'xmas', 'xmas21', 'natale2021', 'menu', 'ricette', 'coderedforhumanity', 'climatemarchkarachi', 'economic', 'masdelomismo', 'deforestation', 'dontchooseextinction', 'demarcacaoja', 'divest', 'inktober2021', 'connect', 'leak', 'fuzzy', 'endangeredspecies', 'ecosystem', 'us', 'quail', 'fungus', 'buildbackfossilfree', 'endangered', 'sour', 'draught', 'watch', 'raven', 'knot', 'crystal', 'lakes', 'streams', 'endpollution', 'oil_gas', 'death', 'costumeshopping', 'happyspookyseason', 'peoplearedying', 'animalsaredying', 'thefutureneedsus', 'trickortreat', 'onetwoclimatescomingforyou', 'scary', 'timetoact', 'allforclimate', 'boomers', 'javirroyo', 'ilustracion', 'nutrition', 'cutthebullshit', 'wehavethedata', 'wehavethetechnology', 'humanchangenotclimatechange', 'species', 'collapse', 'losinglife', 'corporationsarekillingus', 'greenhouse', 'mankind', 'ubuntu', 'sdgs7', 'foodsystems4sdgs', 'victim', 'solution', 'foodsystemshas', 'hurricane', 'fires', 'stopcaccia', 'carbo', 'oildrilling', 'oilbusiness', 'ng', 'cargobikes', 'ebikes', 'fitness', 'fossilfueled', 'rumors', 'alltherumorsaretrue', '20agosto', 'planetb', 'power', 'yourvoiceispowerful', 'demandchange', 'extinctionisforever', 'extremeweatherchanges', 'carbonemissions', 'iyd2021', 'globalchange', 'sea', 'overshoot', 'basketball', 'notevengonnatry', 'lazygovernment', 'olifieldworker', 'americanpolitics', 'politicsarekillingpeople', 'globalcitizen', 'worsethanthanos', 'humansaretheproblem', 'wecandobetter', 'tiktokdance', 'iliketomoveitmoveit', 'strikeapose', 'vogue', 'planethumor', 'wecanbetter', 'meatlesseveryday', 'sun', 'itsgettinghotinhere', 'coolestsummeryoulleverhave', 'marvel', 'marvelaudition', 'carbonsinks', 'globalheating', 'rainforests', 'job', 'renewbleenergy', 'worldenvironmentday2021', 'wed2021', 'wed2020', 'mostpollutingbrands', 'holdthemaccountable', 'plasticiskillingus', 'gnd', 'unitedstates', 'whereyouatamerica', 'protecttheplanet', 'litter', 'conservatives', 'forabettertomorrow', 'globaltemperaturerise', 'itstheendoftheworldasweknowit', 'keepoilintheground', 'fossilfuelsarekillingus', 'offshorewind', 'floatingwind', 'pratapengar', 'finanstwitter', 'fintwit', 'keelingcurve', 'blacklifesmatter', 'climatesummit', 'treeloss', 'parkinglot', 'pickupyourtrash', 'litterbug', 'mommasaidcleanitup', 'sorrynotsorry', 'wrongpayroll', 'police', 'kabila4sdgs', 'parisclimateaccord', 'cleanair', 'trains', 'cina', 'disharaviarrested', 'buses', 'costs', 'killingourselves', 'money', 'bicycleschangelives', 'railstotrails', 'cars', 'engineering', 'latinamerica', 'house', 'pv', 'sleep', 'energystorage', 'climatchange', 'fancy', 'wilderness', 'rodent', 'charge2020', 'healthtech', 'mountains', 'apocalypse2020', 'renewable', 'veganfortheplanet', 'aacc', 'buildings', 'islands', 'environmentday', 'axedraxnottrees', 'biofuels', 'windenergy', 'clmatecrisis', 'choosevegan', 'covid19memes', 'letsactnow', 'digital4action', 'nomoreplastic', 'stailcdigiteach', 'stailcaeráide', 'teamtrees', 'dumpfossilfuels', 'envi', 'biodiveristy', 'pigs', 'stopanimalabuse', 'citicbs', 'compassionateliving', 'maketheconnection', 'crueltyfree', 'home', 'aloksharma', 'eastafrica', 'burundi', 'rwanda', 'tragedy', 'accentureatdavos', 'geothermal', 'australiaisburning', 'girlsinstem', 'ai', 'debateinvestidura', 'renewableenegy', 'peopleandplanet', 'rejectinginaction', 'worldindanger', 'saynotosingleuseplastics', 'growtrees', 'kidsfortigers', 'foreverwild', 'globe', 'flatearth', 'solarbeam', 'pokemongotoronto', 'saveeverything', 'bulbasaur', 'pokélife', 'elecctric', 'global', 'innovations', 'ug4ph', 'tuesdaymotivation', 'greenjobs', 'cupofuji', 'industry', 'zerohunger', 'microgrid', 'galapagos', 'euw19', 'keystone', 'alberta', 'technologyupdates', 'californians'], ['mondaymotivation', 'klimagerechtigkeit', 'tankrabatt', 'alledörferbleiben', 'lützerath', 'ipcc', ' systemchangenotclimatechange', 'glasgow', 'g20', 'defendthedefenders', 'groko', 'allefürsklima', 'nichtwienrw', ' klimafrage', 'endegelände', 'globalstrike', 'fighteverycrisis', 'keinekohlefürdiekohle', 'in15jahrenaufnull', 'klimalockdown', 'howdareyou', 'wien', 'allefür1komma5', 'raiseyourstandards', 'keingradweiter', 'dannibleibt', 'menschenrechte', 'l277', 'eu2020de', 'polizeiproblem', 'futureofcap', ' autogipfel', ' berlindirekt', ' leavenoonebehind', ' stopadani', 'criticalmass', 'kohleeinstiegsgesetz', ' kohleausstiegsgesetz', ' howdareyou', ' kohlegesetz', 'siemens', ' allegegenrwe', 'abfckpraemie', 'abfckprämie', ' abwrackprämie', 'wirbildenzukunft', ' afrika', ' wirbildenzukunft', 'siemensfuelsfires', ' australiaburning', 'cop25', 'weihnachtenundklimakrise', 'cop25madrid', ' cop25madrid', 'ourocean', ' endoverfishing', ' oceanaction', ' agrifish', ' cfpreality', 'neustartklima', ' publicclimateschool', 'klimastreikwoche', ' 5jahreskandal', ' wef2020', 'degrowth', 'muenchen', 'jederbaumzählt', 'wettendass', 'ihrlasstunskeinewahl', 'bverfg', 'keinea49', 'lehrer', 'unteilbar', ' lasstunshandeln', ' garkeinplan', 'sprüchevor8', ' klimavor8', 'kohlecommerzbank', 'stopeumercosur', 'bundesregierung', 'sogeht1komma5', 'niemehrcdu', ' verdi', ' endcolonialism', 'globaldayofclimateaction', 'systemchangenotclimatechange', 'bne', ' endpatriarchy', 'nrwähltklima', 'klimavor8', ' bureg', 'kommunalwahlen', ' berlin4future', ' kohleeinstiegsgesetz', 'kohleausstiegsgesetz', ' fightforclimatejustice', ' grossekohlekoalition', 'flattenthecurve', 'kohlegesetz', 'grossekohlekoalition', ' generationenrettungsschirm', 'konjunkturpaket', ' generationengerechtigkeit', ' sogehtsolidarisch', 'klimazielstattlobbydeal', ' konjunkturmitzukunft', ' konjunkturpaket', ' abwrackpraemie', 'kretschmann', 'stopdatteln4', 'netzstreikfürsklima', 'klimapaket', ' bailouttheplanet', ' klimarettungsschirm', 'stopadani', ' sabine', 'thueringen', ' olympiahalle', ' menschenrechte', ' kaeserfuelsfires', ' smashcapitalism', 'australianbushfire', ' australianbushfire', 'australiaburning', '2020werdenwir', '1jahrnurblockiert', ' notmyklimapaket', ' versammlungsfreiheit', 'stellungnahme', ' 1jahrnurblockiert', ' marburg', 'wahrheit', 'tagdermenschenrechte', 'hungersnot', ' spdbpt19', ' spdbt19', ' verantwortung', ' nichtmeinklimapaket', 'schenktunszukunft', ' eltern', ' lehrer', ' twitterlehrerzimmer', ' streikenstattfeiern', ' wirstreikenbisihrhandelt', ' wennnichtjetztwanndann', ' jetztodernie', ' schule', ' bringafriendfriday', ' einvenedigreicht', ' autofreieinnenstadt', ' würzburg', ' weshutdown', 'chile', ' un', ' streiken', ' landtag4climate', ' ltwth19', 'hitze', 'xtausend', 'g7', 'payup4lossanddamage', 'lützerathbleibt', 'crappybirthday', 'sylt', 'keinea20', 'a20stoppen', 'halle', 'idahobit2022', 'yestoqueer', 'nrwandel', ' nrwgenugverwüstet', 'publicclimateschool', 'polizeigewalt', 'servicetweet', 'osterpaket', 'bielefeld', 'frieden', 'entlastungspaket', 'klimaaktionstag', 'livestream', 'saytheirnames', ' hanau1902', 'reichthaltnicht', 'naturstattautobahnstruktur', 'sterkibleibt', 'osterholzbleibt', 'vollgasindiekrise', ' magdeburg', 'nichteuerernst', 'impfen', 'leag', 'hartaberfair', 'strukturwandel', 'g20gipfel', ' efficiencyfirst', 'koalitionsverhandlungen', 'schluchsee', 'nobelprize', 'facebookdown', 'schlussrunde', 'annewill', 'hambacherforst', 'blockiaa', 'streikmituns', 'hochwasserkatastrophe', 'sterki', 'kohleausstieg2030', 'cduwahlprogramm', ' artclimatetaskforce', ' dannenröderforst', 'garkeinplan', 'worldrefugeeday', 'p7spezial', 'eg2021', 'v2g', ' bpt', ' carsharing', ' miv', 'spdbpt21', 'greendeal', '1mai', 'petersbergerklimadialog', 'klimaklage', 'climatelawsuit', 'rwehv', ' kohlestopp', 'söder', 'euclimatelaw', 'neinzurlobbygap', 'dd0004', 'weltgesundheitstag', 'transrightsarehumanrights', 'suezblocked', 'autogipfel', 'whatsappdown', 'magdeburg', ' mainz', 'agrarwende', 'klimabilanz', 'landwirtschaft', 'breonnataylor', 'wirmüssenreden', 'hanau', ' saytheirnames', 'hanauistkeineinzefall', ' hanauistüberall', 'moria', ' unterdrückung', 'bureg', 'rwe', ' waldrodung', 'arminlasses', 'profibildgenerator', ' profilepic', 'oneplanetsummit', 'lesezeichen', 'fleischatlas', 'klimaundcorona', 'heiligabend', 'klimaziel', 'alleyesoneu', ' wieleben', 'ardthemenwoche', 'danni', 'lockdownlight', 'rollyph', 'agrarreform', 'weltstatistiktag', 'gapgate', 'erderwärmung', 'echtkuhl', 'sonstkommich', 'warnstreik', ' horst', 'umweltminister', ' wahltaktik', 'gütersloh', 'musikvideo', 'riseupforchange', 'wevsclimatecrisis', 'zukunftskomission', ' nrwähltklima', 'moorburg', ' dortmundwähltklima', ' faschisten', 'keineminuteafd', 'sacko', 'tagderjugend', ' strukturwandel', 'hitzewelle', 'b0108', ' mehrplatzfürsrad', 'saarland', 'klimagerechtekrisenpolitik', 'großekohlekoalition', 'chinafloods', 'uniper', ' klöckner', 'thüringen', ' leag', ' covid__19', 'lufthansa', 'ratspräsidentschaft', 'spontandemo', 'covid_19', 'niewieder', 'stillburning', 'scheuer', 'solardeckel', 'bmw', 'pflegenotstand', 'netzstreikfuersklima', 'pcd11', ' wirbleibenzuhause', 'covidー19', 'griechenland', 'schulboykottnrw', 'leopoldina', 'wirbleibenzuhause', 'kommunalwahlbayern', 'hamburgwahl', ' hamburgwaehltklima', 'hamburgwähltklima', 'bürgerschaftswahl', 'wetsuweten', 'valentinstag', 'ministerpräsident', 'nichtmituns', 'fffgegenrechts', ' streiktmituns', 'jokkmokk', ' nofdp', ' joekaeser', 'dammbruch', ' fffgegenrechts', ' nocdu', 'klöckner', ' keinkonsens', 'keinkonsens', ' kohlekommission', 'saarlandforfuture', 'illner', 'speech', ' 2019in5words', 'dorfkinder', ' nazisraus', ' md1701', 'wirhabenessatt', ' hassimnetz', 'dieuhrtickt', ' dieuhrtickt', 'lausanne', 'großdemo', 'hambacherforsts', 'demospruch', ' 2020werdenwir', ' connewitz', ' silvester', ' le3112', ' le0101', ' ffffordert', ' ac2106', ' sokofuture', '36c3', '12monatenixpassiert', 'dieerdebrennt', ' dieerdebrennt', 'regenwald', 'worthalten', ' klimapäckchen', 'un', ' klimaausstiegsgesetz', 'ourlungsareburning', 'notmyklimapaket', 'spdbpt19', ' de', 'jetzterstrecht', 'feminists', 'spdvorsitz', 'lausitz', 'allegegenkohle', ' lausitzerrevier', ' allegegenkohle', ' klimanotfall', 'eltern', ' saarlandforfuture', ' erwachsene', 'klimaaktionswoche', ' students4future', ' unserespd', ' klimatram', 'unitednations', ' massextinction', ' esreicht', 'keinfussbreit', ' bäume', 'unserespd', 'mdv', ' steinmeier', ' enercon', ' bi0911', ' nonazisbi', ' nonazisdo', 'diesejungenleute', ' do0211', 'ladenschlussdo', 'backlash', '5jahreskandal', 'bürgerinitiative', ' prowaldgersweiler', ' gersweiler', ' waldabholzung', 'munichforfuture', 'debtforclimate', 'voteclimate', 'mannheim', 'nrwgenugverwüstet', ' allefürlützi', ' porsche', 'luetzerathbleibt', 'leipzig', 'gerechtigkeitjetzt', '100tage', 'kohlestopp', 'laschetruecktritt', ' glsstandpunkt', ' resistg7', ' keinekohlefürdiekohle', 'palmerrassist', 'klimacampsaar', 'uweconradt', ' agrarindustrie', ' ac1903', ' templin', ' mahnwache', 'klimawähltgerechtigkeit', 'dannenröderforst', ' morschenich', ' dannenroederforst', 'politischeplätzchen', ' fahrraddemo', 'coronapandemie', ' vekehrswende', 'verdi', ' nomorepillepalle', ' kohlelobby', 'ttt', 'giffey', ' jena', ' mettmann', 'hal2509', 'saarbrücken', 'erkrath', ' stoprampal', 'stopfichtner', ' savethesundarbans', 'klimacampost', 'scamdemic', ' plandemic', ' racewar', ' newworldorder', ' fridaysforfreedom', ' byobb', 'fahrraddemo', 'klimawochenende', ' fck2038', ' steinkohle', 'toennies', ' tönniesraus', ' kohlegesetzfällen', ' kohleverlängerunsgesetz', 'keepcoalintheground', 'weitersowargestern', 'klimaschutzplakativ', 'leavenoonebehind', ' blacklivesmattergermany', 'blacklivesmattergermany', ' antirassismus', ' abfckpraemie', ' konjunkturmaßnahmen', 'weilfffdichliebt', 'fahrrad', 'bundespressekonferenz', ' le0206', ' 1001guteideen', 'systemrelevant', 'fortum', 'popupbikelanes', 'nobailoutwithoutchange', 'appforfuture', ' in2020weriseup', ' fffhalle', ' unitedbehindthescience', 'systemwandel', ' friedenfürsklima', ' aktivtrotzcorona', ' climatestrike2404', ' schulboykottde', 'livestreamforfuture', 'demobilderchallenge', 'covid19deutschland', ' coronaviruscanada', ' policestate', ' policebrutality', ' martiallaw', ' agenda21', ' contacttracing', ' coronazeit', 'wirhabenplatz', ' coronavirusde', ' systemrelevant', 'kohleverstromung', 'hallesaale', 'powertothepeople', 'fffhalle', ' antifaschismus', '8m', 'klimakapitulation', 'frauenstreik', ' bürgerschaftswahl', 'moin2102', ' hhwahl2020', ' wirsinddiezukunft', 'keinherzfüraltmaier', 'blockierenistschön', ' cdublockiert', 'makelovenotco2', 'timetochange', ' braunschweig', 'zeugnistag', ' 2020wefighton', ' actoday', 'gretastyle', 'liveticker', 'wirschreibengeschichte', ' bundespressekonferenz', 'davos2020', ' sixthextinction', 'bmwi', ' rlp', 'siemensboykott', 'wirsindfriedlichwasseidihr', ' siemensboykott', 'kaeserfuelsfires', ' enteignung', 'muenchener', ' boycottsiemens', 'hubraumforfuture', 'australiabushfires', 'noko', ' livestreammomente', 'klimamomente2019', ' boellerverbot', 'grünesneues', ' neuesjahr', ' haan', ' houseonfire', 'houseonfire', 'globalerregenwaldtag', 'throwbackthursday', ' nichtspassiert', 'actualidad', ' cop25madrid2019', 'kohlekommission', ' kletterkinder', 'greenpeacemachtbildung', 'klimafakt', ' wedare', ' hallesaale', 'weareunstoppable', ' omas4future', ' värmland', ' tvhalle', ' adelaide', ' ac2911', 'neuerwe', ' actnow2019', ' lebensmittel', ' retten', ' keinenmillimeternachrechts', ' spdvorsitz', 'fossilfreeeib', ' fossilfreeeib', 'wirsindlaut', ' spderneuern', 'naturenovember', 'friedrichshafen', ' massensterben', 'campusforfuture', 'jetzthandeln', 'afrika', ' maskenrunter', ' nichtsnutze', ' luetzerathlebt', 'nino_pandari', 'dortmund', ' nobelpreis', 'mehrplatzfürsrad', ' zadrheinland', 'lehrermangel', ' wirhabeneinewahl', 'nonazis', 'göre', 'fridaysforfreedom', ' klimaschutzjetzt', 'fhosterholz', ' fff_osterholz', ' aktionschlagloch', ' jederbaumzahelt', ' robin_wood', 'mainz', ' jederbaumzaehlt', 'rwekündigen', ' rweabschalten', ' narrative', ' mahnwachelützerath', ' manheim', ' keyenberg', ' pödelwitzbleibt', ' dannenroderforst', ' morgen', ' drüben', 'heimat', ' ende_gelaende', ' woanders', ' nirgenwo', ' oben', ' unterwex', ' machwaswirklichzählt', ' adbusting', ' wälderbesetzen', 'seehoferruecktritt', ' moriacamp', ' keyenbergbleibt', 'wissing', ' b2509', ' dörfer', ' fridaysforfuturehagen', 'savethesundarbans', ' stopfichtner', ' nrwaehltklima', ' nino737', 'keyenberg', ' keinenmeter', 'taz', ' klimaverbrecher', 'solidarität', ' fridaysforfuturesiegen', ' fridaysforfuturestuttgart', 'kanusgegenkohle', ' mayday2025', 'arbeit', ' pflege', ' frauen', ' streikbornheim', ' lgbti', ' wellfarenotwarfare', 'versammlungsfreiheit', ' attilahildmann', ' glaubnichtalles', 'widerstandwächst', ' ackerbleibt', ' ackerbesetzung', 'abwrackprämie', 'ballhausplatz', 'klimafrage', ' ambodenbleiben', ' fichtner', ' earthstrike', ' acciónxods', ' füreinelebenswertezukunft', 'insekten', ' artensterben', ' postcodeeffekt', ' rettetdasklima', 'plakataktion', ' deinplakatfürberlin', ' landshut', ' maskeauf', 'erneuerbaren', ' lichtaus', 'twitterlehrerzimmer', 'cornona', 'artistsforfuture', 'dreckwegtag', ' zerstörungdermarktwirtschaft', ' rebellion', 'afdp', ' kemmerich', ' b0802', 'diw', ' siemenshv2020', 'emergenzaclima', ' siemenslügt', ' boykottsiemens', ' siemensfuelsfire', 'boycottsiemens', 'me0301', 'lüneburg', ' postwachstum', ' monheim', ' heiligenhaus', ' velbert', ' hilden', ' ratingen', ' langenfeld', 'moeritz', ' zwickau', 'schüler', ' zaragoza', ' justiçaclimática', ' cop25strike', ' enteignungsparty', ' ånge', 'homeoffice', 'klimafaktenkalender', ' haushalt', ' abschalten', 'under2coalition', ' münsterkannmehr', 'globalclimateday', ' vaude', ' auchdeinezukunft', ' forourclimate', 'kraftwerk', ' moabit', ' gutenmorgen', ' klimastreikwoche', ' klimagipfels', 'münsterkannmehr', ' riseup4rojava', 'deutschebank', ' staatskapitalismus', ' saudiarabia', ' saudiaramco', 'obwahl', ' gesundheitbrauchtklimaschutz', 'audiostrike', 'verantwortung', 'mobilitätfüralle', ' öpnvgipfel', 'zambia', ' windenergy', ' fffapr24', ' freiberg', ' asperger', 'nazisraus', 'bundestagswahl2021', 'mieter', 'oneminuteanswer', ' 1ma', 'tübingen', ' mieterschutz', 'mondaysforfuture', ' coronahelden', ' mondaysforfuture', ' generationequality', ' coronadeutschland', ' energieeffizienz', ' mühlrose', 'week4climate', ' ferrero', ' dannibkeibt', ' schwarzgrün', ' climatefailure', 'hatespeech', ' h2905', 'bonnconference', 'mayday2025', 'cambiaeninonilclima', 'ourhouseisonfire', 'webinar', 'hungerstrike', ' endegeleande', ' antikriegstag', ' ekbo', '9euroticket', ' fürgutesklimainderstadt', 'allefürlützi', 'pressekonzept', 'earthstrike', 'nazis', 'ac2503', 'diskriminierung', 'lessionsforpeace', 'hal0503', 'hanau1902', 'gendern', 'savegambos', 'diy', ' calendar', 'adventskalender', ' wirsindsystemwandel', 'grandpa', ' youthclimatemarch', 'luetzerathlebt', ' unomattina', 'extinctionrebelion', 'efficiencyfirst', 'bundjugend', 'klimaregierung', ' snobs', 'sondierungsgespraeche', ' maskendealer', 'makelovenotcement', 'churchesforfuture', 'klimastreikhh', 'kassel', 'zukunftwählen', 'klimaschutzistjetzt', 'klimabubble', 'einfachmachen', 'marburg', 'robinwood', 'artclimatetaskforce', 'wirhabeneinewahl', 'lasstunshandeln', 'fairfashion', 'sachsenanhalt', 'widerstand', 'emcke', 'ltwlsa21', 'bpt', 'carsharing', 'miv', ' eudatathon', 'hlt', ' danni1211', ' weil', ' autokonferenz', 'fairness', 'transparenz', 'ac1903', 'osnabrück', 'frauenkampftag', 'frauentag', 'fff_osterholz', 'aktionschlagloch', 'jederbaumzahelt', 'robin_wood', ' klimaentscheid', 'buergerenergie', 'hanauistüberall', 'niemehrcsu', 'unterdrückung', 'jederbaumzaehlt', 'amk', 'kündigung', 'rweabschalten', 'waldrodung', 'mahnwachelützerath', 'morschenich', 'dannenroederforst', 'profilepic', 'dannenroderforst', 'morgen', 'drüben', 'atombomberneindanke', 'ecología', 'justiçaclimática', 't13tarde', 'vekehrswende', 'kinder', 'ardmediathek', 'wieleben', 'eeg2021', 'ende_gelaende', 'woanders', 'nirgenwo', 'oben', 'machwaswirklichzählt', 'adbusting', 'nomorepillepalle', 'erderhitzung', 'keineartweniger', 'autogesellschaft', ' nahverkehr', 'dannenröderwalde', 'annenmaykantereit', 'endcolonialism', 'mettmann', 'horst', 'aufwachen', 'schuetztunseremeere', 'biodiversität', 'dörfer', 'artenkrise', 'endpatriarchy', 'stoprampal', 'nrwaehltklima', 'dortmundwähltklima', 'exitoil', 'plandemic', 'racewar', 'newworldorder', 'byobb', 'agm', 'demonstrationsverbot', 'heuchler', 'sexismus', 'ypj', 'torycorruption', 'coronazis', 'mustread', 'fightforclimatejustice', ' kommunalwahlbayern', 'wasel', 'chapelhill', '1ma', 'fck2038', 'climatewatch', 'schierenbeck', 'wpvnrw', 'steinkohle', 'generationenrettungsschirm', 'tönniesraus', 'kohlegesetzfällen', 'allegegenrwe', 'generationengerechtigkeit', 'kohleverlängerunsgesetz', 'covid__19', 'sogehtsolidarisch', 'mietenwahnsinn', ' patriarchat', 'konjunkturmitzukunft', 'konjunkturmaßnahmen', 'klimaneutralisieren', 'staysafestayhome', 'pflege', 'frauen', 'streikbornheim', 'lgbti', 'fossileenergie', 'ackerbleibt', 'ackerbesetzung', 'labourday2020', ' barrierefrei', 'unitedbehindthescience', 'weil', 'aktivtrotzcorona', 'generationequality', 'bailouttheplanet', 'klimarettungsschirm', 'deinplakatfürberlin', 'coronaviruscanada', 'policestate', 'policebrutality', 'martiallaw', 'agenda21', 'lichtaus', 'wikigap', 'feminismus', 'antifaschismus', 'zerstörungdermarktwirtschaft', 'nairobi', 'kenyanclimateactivists', 'feministsforfuture', 'equality', 'wirsinddiezukunft', 'cdublockiert', 'streiktmituns', 'backasápmi', 'b0802', 'sabine', 'nofdp', 'joekaeser', 'nocdu', 'olympiahalle', '2020wefighton', 'actoday', 'changeclimatechange', 'klimahölle', ' schätzing', 'sixthextinction', 'md1701', 'hassimnetz', 'siemenslügt', 'boykottsiemens', 'smashcapitalism', ' personoftheyear', ' copforthefuture', ' cimeraclima', ' uconntalksclimate', 'connewitz', 'le3112', 'le0101', 'ffffordert', 'ac2106', 'sokofuture', 'neuesjahr', 'congorainforestemergency', 'haan', 'monheim', 'heiligenhaus', 'velbert', 'hilden', 'ratingen', 'klimapäckchen', 'lcpbref', 'klimaausstiegsgesetz', 'spdbt19', 'nichtmeinklimapaket', 'endoverfishing', 'oceanaction', 'agrifish', 'enteignungsparty', 'haushalt', 'wedare', 'abschalten', 'lausitzerrevier', 'streikenstattfeiern', 'freising', 'klimanotfall', 'fff_fu', 'vaude', 'auchdeinezukunft', 'erwachsene', 'students4future', 'ac2911', 'moabit', 'fu', 'eskabolation', 'wirstreikenbisihrhandelt', 'wennnichtjetztwanndann', 'jetztodernie', 'peterwohlleben', 'klimatram', 'massextinction', 'esreicht', 'bringafriendfriday', 'einvenedigreicht', 'bäume', 'würzburg', 'enercon', 'bi0911', 'nonazisbi', 'nonazisdo', 'staatskapitalismus', 'saudiarabia', 'weshutdown', 'do0211', 'prowaldgersweiler', 'gersweiler', 'landtag4climate'], ['nature', 'fridaythoughts', 'friday', ' goodmorning', ' goodmorningtwitterworld', ' goodmorningeveryone', ' fridaythoughts', ' beautiful', 'goodmorningtwitterworld', 'success', ' size', ' brain', ' dependent', ' thoughts', ' atmosphere', ' perfect', ' weird', 'beauty', ' morning', ' freshness', ' emotions', ' ideas', 'smile', ' condition', ' intention', ' reason', ' care', ' exception', ' beauty', ' relation', ' goodmorningworld', ' weekendvibes', ' believe', ' right', ' wakeup', ' good', ' yourself', ' shootmode', ' failure', ' enthusiasm', ' try', ' something', ' positive', ' productive', ' peaceful', ' wonderful', ' fridaylove', ' weekend', ' photography', ' heroes', 'techforgood', 'fridayfeeling', 'fridaymorning', ' friday', ' love', ' naturephotography', ' fridayfitness', ' fridayfun', 'ff', ' sunshine', 'beautiful', ' healthy', ' blog', ' art', ' italy', 'plant', ' bicycle', 'katyayan', ' katyayan', 'climateart', ' fridayfunny', ' fridaymood', 'koalas', 'art', ' now', ' alexnote', 'alexnote', ' parenting', 'valentinesday', ' timetogrowup', 'wef2020', ' wef', ' thanksgiving', 'artstrike', ' quote', 'fridaymotivation', ' work', 'ffs', 'skills', ' futureofwork', ' training', ' techtrends', 'flyingcars', ' aviation', ' avgeek', ' aerospace', ' avgeeks', ' airlines', ' aviationdaily', 'plantatree', 'foodie', 'himalaya', 'autumn', 'change', 'fridayvibes', ' success', ' goldenheart', ' quotes', ' fridaythe13th', ' writingcommunity', ' fridayvibe', ' team', ' inspirationalquote', ' motivationalquotes', ' quotesoftheday', ' quotesdaily', ' quotesaboutlife', ' friendswithbenefits', ' animaloftheday', ' like', ' blogging', ' myalllakes', ' foodie', ' thefuturewechoose', ' foodblog', ' yummy', ' friday13th', ' dinner', ' foodies', ' foodbanks', 'fridaythe13th', ' tasty', 'lasagne', ' quarantena', ' iorestoacasa', ' iosuonodacasa', ' iomangiodacasa', ' venerdi13', ' 13marzo', ' funfactfriday', 'cheesecake', ' sweet', ' artforourplanet', 'godmorningfriday', ' yyc', 'motivation', ' photos', ' crypto', ' anchor', ' lifestyle', ' cleaning', ' photographylovers', 'nftcommunity', ' nfts', ' fridayquotes', 'ligue_des_optimistes', ' photographer', 'cuomocommunity', ' twitterfriends', ' haveagoodday', 'i̇mamzamana', ' جمعه_مباركه', ' whoismahdi', 'followfriday', ' fridayfeels', ' cardanowomen', ' cardano', ' womenintech', ' womeninnfts', 'flowersonfriday', ' 365dayswild', ' macro', ' macrophotography', ' gardeningtwitter', ' gardenersworld', ' flowerpower', ' flowerlover', ' flowerreport', ' thephotohour', ' naturalbeauty', ' naturephoto', 'happyweekend', ' positivevibes', 'birdlovers', ' owl', ' photograph', ' womensart', ' newhampshire', ' fridaynightfunkin', ' birdphotography', ' birding', 'photography', ' marketingtips', ' learn', ' elephants', ' saveallelephants', ' naturenews', ' jumatberkah', ' jummamubarak', ' jummahmubarak', ' cumalar', ' cumamızmubarekolsun', ' makkah', 'weather', ' november', ' autumn', ' windy', ' rain', ' wet', ' cloudy', ' weatherforecast', ' motivational', ' westvirginia', ' news', 'thecorporatelady', ' ethnic', ' worklifebalance', ' indiedev', 'writerslift', 'stockedge', ' elearnmarkets', ' motivation', ' stockmarketindia', 'fridayfitness', 'contentmarketing', ' marketingstrategy', ' digitalmarketing', ' marketing', ' sociamedia', ' growthhacking', ' author', ' links', ' tacotuesday', 'saladdays', ' breakfast', ' breakfastclub', ' twittertrends', ' beans', ' pasta', ' europeday', ' fridayfunday', 'happyfriday', ' twitterworld', ' iqrtg', ' livelife', ' makeyouhappy', ' enjoyingeverydaylife', ' fikafuntimes', ' joinin', 'happynewyear', 'fuckit', 'panna', ' eat', ' goodmorningamerica', ' fridaylivestream', 'florence', ' flood', ' november1st', ' florence', ' quoteoftheday', ' godmorningfriday', 'worldfoodday', ' nayisoch', 'treesforthefuture', ' worldsmileday', ' believeinyourself', ' uplifting', ' prayer', 'hitanshisharma', 'mrfaisu', 'running', 'contestindia', ' contestalertindia', ' contesttime', ' contestalartindia', ' contestquestion', ' contestindia', ' quiztime', ' quiz', ' quizzed', ' quiznight', ' quizbuzz', ' tgif', 'litterpicking', ' volunteer', ' lovewhereyoulive', ' wales', ' horror', ' movies', ' savetheenvironment', ' greenliving', ' plantatree', ' treeplanting', 'garden', ' gardenshour', ' flowers', ' roses_are_rosie', ' photooftheday', ' italiy', ' colors', ' photographyisart', ' natura', 'blog', 'secretwalks', ' secret', ' place', ' reflection', ' stayconnectedtogether', ' wellbeing', ' connections', ' swansea', 'cat', ' cats', ' kitten', ' catsontwitter', ' catsofinstagram', ' cats_of_world', ' dadijanki', ' omshanti', ' rajayoga', ' meditation', ' spirituality', ' thetimeisnow', 'dream', 'love', ' goodvibes', ' thinkpositive', ' imagine', 'ddquiz', ' contestofchampions', ' quarantineandchill', ' lockdownextension', ' lockdown2', ' movie', ' guessthemovie', ' answersnews', ' progress', ' focus', ' youngpeople', ' connect2earth', ' earthhourwales', ' earthhouruk', ' behappy', ' healthiswealth', ' karma', ' 2020vision', 'dennisthemenace', ' workout', 'happybirthdayceo', ' ceoquotes', ' ceo', ' ees20', 'sootysfuckitfriday', ' coachella', ' foodbloggers', ' recipe', ' cooking', ' easyrecipes', ' dessert', ' desserts', 'digitalmarketing', ' seo', ' b2bmarketing', ' socialmediamarketing', 'povertycrowdfund', ' povertywishlists', ' emergencycrowdfund', ' emergencywishlists', ' joinin247', ' joininfeelgood', ' fridaynight', 'nikon', ' nikonphotography', ' nikonnofilter', ' landscape', ' costabrava', ' wise', ' motivacion', ' happiness', ' happy', ' ambition', ' friyay', ' nojudgement', ' joy', ' loveis', 'wildchallenge', ' outdoorlearning', ' bigschoolsbirdwatch', ' fridaylituations', ' friends', 'seo', 'felizviernes', ' themorningflava', ' twitchde', ' thankyousafer', ' saferlift', ' follome', ' ffxiv', ' writerslift', ' writingcommmunity', ' writerlift', ' tweetme', ' ff14', ' fridayheadlines', ' saturday', ' bird', 'boxingday2019', ' artist', ' treesforthefuture', 'thoughtoftheday', ' thoughtfortheday', ' decemberwish', ' december13th', ' december', ' patriarcat', ' sexisme', ' livres', ' philosophie', ' politique', 'planetearth', ' globe', 'artadventcalendar', ' artshare', 'page48', ' generalelection2019', 'blackfriday2019', ' thanksgivingwithblackfamilies', ' thanksgivingdinner', ' blackfridayfights', ' leftovers', ' leftovertunes', ' adoptdontshop', ' morningmotivation', 'population', 'teachers', ' dog', ' dogsoftwittter', ' enjoynature', 'atmosphere', ' brekfast', ' fridaykiss', 'millefoglie', 'mozzarella', 'bitcoin', ' cybersecurity', ' fintech', 'gratitude', ' innerpower', 'sewaactivitiesbyashram', ' संत', ' आशाराम', ' बापूजी', ' गाजियाबाद', ' forestgardens', 'talkfriday', ' thenationnews', ' getwellsoon', ' happyweekend', ' saturdaymotivation', ' worldveganday', ' veganday', 'janshakti4jalshakti', ' waterfall', 'yyc', ' abstorm', ' caturday', ' saturdaymorning', 'happiness', ' kindness', ' joytrain', ' successtrain', ' bath', 'photographer', 'rajajitigerreserve', ' rishikesh', ' indiaves', ' twitternaturecommunity', ' earthcapture', ' bbcwildlifepotd', ' earthpix', ' blockchain', 'fridaynightfunkin', ' flowerphotography', 'getoutside', ' 100actions4nature', 'goodmorning', ' fortnite', 'affirmation', ' affirmations', ' outerhebrides', 'education', 'business', 'naturelovers', 'happyearthday2022', ' smallworldafterall', ' ebook', ' itunes', 'weekendvibes', 'gifgame', ' dotin', ' iamin', ' contestalert', ' gifgame', ' playtime', ' digitalindia', 'blooddonation', ' beablooddonor', 'iloveza', ' valentines', ' valentinesweek', 'joytrain', ' selflove', ' mindfulness', ' goldenhearts', ' chooselove', ' iam', ' familytrain', ' kjoys', 'lifemantrabypriya', ' morningquotes', 'community', 'egld', 'weekend', 'photos', 'b117', 'crypto', 'goldenheart', 'quotes', ' kinderschutzes', 'lifestyle', 'cleaning', 'photographylovers', 'naturephotography', 'writingcommunity', 'goodmorningeveryone', 'morningquotes', 'thursdayvibes', 'gardening', 'photo', 'twitterfriends', 'savewater', 'جمعه_مباركه', 'fridayfun', 'fridayfeels', 'cardanowomen', 'cardano', 'parliament', 'buffaloeshustles', 'dld', 'fridayvibe', 'happyvalentinesday', '365dayswild', 'macro', 'macrophotography', 'gardeningtwitter', 'gardenersworld', 'flowerpower', 'flowerlover', 'flowerreport', 'thephotohour', 'naturalbeauty', 'naturephoto', 'nyc', 'owl', 'photograph', 'womensart', 'newhampshire', 'birdphotography', 'marketingtips', 'learn', 'elephants', 'jumatberkah', 'jummamubarak', 'jummahmubarak', 'cumalar', 'cumamızmubarekolsun', 'november', 'windy', 'rain', 'wet', 'cloudy', 'motivationalquotes', 'quote', 'quotesoftheday', 'quotesdaily', 'quotesaboutlife', 'friendswithbenefits', 'animaloftheday', 'ethnic', 'worklifebalance', 'size', 'brain', 'dependent', 'thoughts', 'thursdaythoughts', 'agriculture', 'feminisme', 'healthy', 'elearnmarkets', 'marketingstrategy', 'marketing', 'blogging', 'sociamedia', 'growthhacking', 'author', 'links', 'work', 'cornwall', 'breakfast', 'breakfastclub', 'twittertrends', 'beans', 'perfect', 'weird', ' armeniastrong', 'morning', 'freshness', 'emotions', 'ideas', 'europeday', 'fridayfunday', 'mayday', 'heroes', 'surprise', 'dontgiveup', 'takeaction', 'condition', 'intention', 'reason', 'care', 'exception', 'relation', 'goodmorningworld', 'believe', 'right', 'wakeup', 'good', 'yourself', 'shootmode', 'fridayfunny', 'twitterworld', 'iqrtg', 'livelife', 'makeyouhappy', 'enjoyingeverydaylife', 'fridaymood', 'contest', 'rishikesh', 'indiaves', 'twitternaturecommunity', 'earthcapture', 'bbcwildlifepotd', 'joinin', 'eat', 'goodmorningamerica', 'fridaylivestream', 'flood', 'november1st', 'quoteoftheday', 'failure', 'enthusiasm', 'worldsmileday', 'believeinyourself', 'crestefamily', 'prayer', 'try', 'something', 'positive', 'productive', 'peaceful', 'wonderful', 'contestalertindia', 'contesttime', 'contestalartindia', 'contestquestion', 'quiztime', 'quizzed', 'quiznight', 'quizbuzz', 'dotin', 'iamin', 'playtime', 'lovewhereyoulive', 'wales', 'horror', 'movies', 'savetheenvironment', 'greenliving', 'gardenshour', 'flowers', 'photooftheday', 'italiy', 'colors', 'photographyisart', 'futureofwork', 'training', 'secret', 'place', 'reflection', 'stayconnectedtogether', 'wellbeing', 'connections', 'swansea', 'kitten', 'catsontwitter', 'catsofinstagram', 'dadijanki', 'omshanti', 'rajayoga', 'meditation', 'spirituality', 'thetimeisnow', 'thefuturewechoose', 'foodblog', 'yummy', 'goodvibes', 'thinkpositive', 'contestofchampions', 'quarantineandchill', 'lockdownextension', 'lockdown2', 'movie', 'guessthemovie', 'progress', 'focus', 'youngpeople', 'connect2earth', 'earthhourwales', 'now', 'behappy', 'healthiswealth', 'karma', '2020vision', 'friday13th', 'dinner', 'foodies', 'foodbanks', 'tasty', 'quarantena', 'iorestoacasa', 'iosuonodacasa', 'iomangiodacasa', 'venerdi13', '13marzo', 'funfactfriday', 'workout', 'ceoquotes', 'ceo', 'foodbloggers', 'recipe', 'cooking', 'easyrecipes', 'dessert', 'artforourplanet', 'b2bmarketing', 'socialmediamarketing', 'parenting', 'povertywishlists', 'emergencycrowdfund', 'emergencywishlists', 'joinin247', 'joininfeelgood', 'nikonphotography', 'nikonnofilter', 'landscape', 'wise', 'motivacion', 'valentines', 'friyay', 'joy', 'selflove', 'mindfulness', 'goldenhearts', 'chooselove', 'iam', 'familytrain', 'loveis', 'techtrends', 'outdoorlearning', 'bigschoolsbirdwatch', 'thankyousafer', 'saferlift', 'follome', 'ffxiv', 'writingcommmunity', 'writerlift', 'tweetme', 'saturday', 'bird', 'thoughtfortheday', 'decemberwish', 'december13th', 'patriarcat', 'sexisme', 'livres', 'philosophie', 'artshare', 'thanksgivingwithblackfamilies', 'thanksgivingdinner', 'leftovers', 'adoptdontshop', 'dog', 'dogsoftwittter', 'brekfast', 'fridaykiss', 'cybersecurity', 'संत', 'आशाराम', 'बापूजी', 'getwellsoon', 'protectearth', 'loveearth', 'worldveganday', 'abstorm', 'caturday', 'aviation', 'avgeek', 'aerospace', 'avgeeks', 'airlines', 'kindness'], ['twiff', ' treetreasure', 'climatecriminals', ' forestbiomass', 'climatestrikes', 'antarctica', ' march25', 'putinswar', ' swedish', ' oligarchs', ' peace4climate', 'climate_strike', ' takeactionnow', ' stopfossil', ' stopdestroyingourhome', ' afghanistan', ' gdgs', ' dontlookup', 'gasisnotgreen', ' gasleadrecoverymyarse', 'climatebreakdown', 'gustavsberg', ' stockholm', ' amazon', ' shell', ' poverty', ' inequality', ' blahblahblah', 'stockholm', 'salutethetrees', ' manmade', 'ecocide', '11thhourforclimate', ' paris', 'climatedenial', 'fffmapcount', 'nomoreblahblahblah', ' blm', ' tellthetruth', ' swedishlaw123', ' stopshell', 'climateemergeny', ' amazonia', ' withdrawthecap', ' stopisds', ' globalstrikeforfuture', ' brussels', ' litigation4mitigation', ' makeyourvoiceheard', 'shoestrike', ' salgado', ' protectourfuturefromfossilfuel', ' bobigny', 'covid19', 'climateeducation', ' fffmapcount', '11thhourforclimat', ' snösätra', ' switzerland', ' strikeforfuture', 'fridays4futureonline', ' eidulfitr', ' humanright', 'france', 'fridaysforfutureonline', ' sciencedenial', ' socialdenial', ' defendthedefenders', 'peaceuponyemen', ' yemen', ' fridays4futureonline', 'shoeprotest', ' stophell', ' shoeprotest', ' stayathome', ' shoestrike', ' northsearevolution', ' 11thhfc', ' levelup', ' savethano', ' actonsahel', ' fff_digital', ' живебеларусь', 'solidarity', ' sosamazonia', 'deepclimatestrike', ' sovereignty', ' endfossilfuelsubsidies', 'justsimplemath', 'gladmidsommer', ' tellingthetruth', ' preemdisaster', 'mynttorget', ' houseinonfire', ' speaktruthtopower', ' gävle', 'dontlookup', 'blahblahblah', 'endfossilfuels', 'standwithukraine️', 'omasforfuture', 'catalunya', 'shellclimatecase', 'allefuer1punkt5', 'whateverittakes', ' northsea', 'karfreitag', 'stopshell', 'savethano', 'sciencedenial', ' westayathome', 'hongkong', ' australiaisburning', 'standwithsapmi', ' nomineingallok', 'march25', ' makeamazonpay', 'klimatstrejk', 'strengthenc12', ' regenerate21', ' belarus', 'noemptypromises', 'april3', ' norrtälje', 'norrtälje', ' stopkillingcyclists', 'uppsala', ' unitedbehindthesceince', ' fixarticle6', ' wearemad', ' getrid', ' gabriola', ' 1point5c', 'cimateemergency', 'brussels', ' gullmarsplan', ' klimatnödläge', ' uprootthesystemi', 'blm', ' swedishconstitution', 'tellthetruth', ' noliestal', 'humanrights', ' nocarsundays', 'nocarsundays', 'belarus', 'swedishconstitution', ' safeholiday', 'safeholiday', ' toxictories', ' thano', '11thhfc', 'stopthano', ' fossilförbud', ' metoo', 'auspol', ' recoveryfunds', 'peoplenotpolluters', ' rightlivelihoodaward', 'energieeffizienzjetzt', 'flüssiggas', 'actonsahel', 'stopfundingfossilfuel', 'belgium', ' nachhaltige', 'narrowwindow', 'socialjustice', 'ausvotes', 'treetreasure', 'sweden', 'forestbiomass', 'war', 'swedish', 'oligarchs', 'peace4climate', 'takeactionnow', 'stopfossil', 'stopdestroyingourhome', 'afghanistan', 'gdgs', 'ucraine', 'fff_bangladesh', 'gasleadrecoverymyarse', 'jse', 'climateanxiety', 'poverty', 'inequality', 'makeamazonpay', 'manmade', 'milan', 'paris', 'tgv', 'equalrights', 'gullmarsplan', 'swedishlaw123', 'klimatnödläge', 'amazonia', '住友商事の森林破壊を許さない', 'guinée', 'stopisds', 'globalstrikeforfuture', 'litigation4mitigation', 'makeyourvoiceheard', 'salgado', 'protectourfuturefromfossilfuel', 'bobigny', 'snösätra', 'switzerland', 'eidulfitr', '1komma5gradistdaslimit', 'socialdenial', 'northsea', 'yemen', 'c12', 'stophell', 'northsearevolution', 'levelup', 'toxictories', 'draw', 'savethereef', 'thano', 'fff_digital', 'живебеларусь', 'sovereignty', 'endfossilfuelsubsidies', 'tellingthetruth', 'preemdisaster', 'houseinonfire', 'speaktruthtopower', 'stopkillingcyclists', 'australianbushfiresdisaster', 'unitedbehindthesceince', 'fixarticle6', 'wearemad', 'getrid', 'gabriola', '1point5c'], ['futuro', 'blockfriday', 'leader', 'cambiamentoclimatico', ' napoli', ' total', ' agricoltura', 'sardine', ' santori', ' sardine', ' italia', 'ambiente', 'renzi', ' italiaviva', ' trivelle', ' tantacazz', 'eni', ' basilicata', ' nimby', ' rie', ' nomisma', ' prodi', ' pd', 'total', ' cambiamenticlimatici', ' decretoclima', 'bellanova', ' salute', ' prodottitipici', ' eni', ' cessodestra', ' autostrade', ' concessioni', 'prescrizione', ' futuro', 'plastica', 'italiaviva', ' gioventùbruciata', ' vecchiaia', ' via', ' gela', ' salvini', ' sardinefritte', ' salvinimerda', ' notriv', ' venezia', 'basilicata', ' concessione', ' black', 'armi', ' arabiasaudita', ' egitto', ' squali', ' leader', 'movimento', ' m5s', 'italiashock', ' matera', ' renzeni', ' zaia', 'italiavivadi', ' forzamafia', ' berlusconi', ' dellutri', ' renzi', ' carfagna', 'cretino', ' treccani', ' plastica', ' inceneritori', ' immunità', ' ilva', ' mondialidisci', ' lega', ' cemento', ' ndrangheta', 'pd', 'marattin', 'sciopero', 'fckatomausstieg', 'taranto', ' speranza', ' alimentazione', 'recoveryfund', 'pianeta', 'manovra2020', 'ilva', ' usb', ' liberiepensanti', ' educazionecivica', 'gretagonuclear', 'venezia', ' migranti', ' fckatomausstieg', ' atoms4future', 'neckarwestheim', 'acquaaltaavenezia', ' feltri', ' libero', ' veneto', ' 14novembre', ' acquaalta', ' acquagranda', ' altamarea', 'studio24', ' recoveryfund', 'globawarming', 'notav', 'shell', 'atoms4future', 'agricoltura', 'santori', 'colosseo', 'italia', 'trivelle', 'tantacazz', 'uragano', ' eniecocida', 'nimby', 'rie', 'nomisma', 'prodi', 'cambiamenticlimatici', 'decretoclima', 'salute', 'prodottitipici', 'cessodestra', 'autostrade', 'concessioni', 'gioventùbruciata', 'vecchiaia', 'via', 'gela', 'salvini', 'sardinefritte', 'salvinimerda', 'notriv', 'concessione', 'black', 'usb', 'liberiepensanti', 'arabiasaudita', 'egitto', 'squali', 'm5s', 'matera', 'renzeni', 'feltri', 'libero', 'zaia', 'veneto', '14novembre', 'acquaalta', 'acquagranda', 'forzamafia', 'berlusconi', 'dellutri', 'carfagna', 'treccani', 'inceneritori', 'immunità', 'mondialidisci', 'lega', 'cemento', 'ndrangheta'], ['vegan', ' endspeciesism', ' animalliberation', 'switchtoplantbased', ' エシカル消費', ' 買い物は投票', ' プラントベース', ' おうちごはん', ' アースデー', ' アースデイ', ' 気候危機', '大戸屋', ' 動物性不使用', 'キッコーマン', ' 気候危機対策に菜食を', '気候危機対策に菜食を', ' 大豆ミート', ' 代替肉', 'ヴィーガン', ' 日テレnews24', ' 日テレ', ' ntv', ' 気候変動に具体的な対策を', ' 再生可能エネルギー', ' 未来のための金曜日', '未来のための金曜日', ' 未来のためにお肉を減らそう', ' ヴィーガン', ' スイーツ', ' おうち時間', ' 伊勢丹', ' 牛肉', ' ソミート', ' 牛丼', 'クリスマスディナー', ' メリークリスマス', 'ナウシカ', 'すき焼き', ' 仙台麩', ' 油麩', ' twitter家庭料理部', '大豆ミート', 'ココイチ', '気候も危機', 'worldmeatfreeweek', ' おうちtftプロジェクト', ' vegetablefortwo', ' うちベジkitchen', ' 温暖化', ' 異常気象', ' 石炭火力', ' 脱炭素', ' 三菱ufj', ' みずほ', '昼ごはん', ' グリーンバーガー', 'ファミマ', '未来のために肉食減らそう', ' someat', ' 高野豆腐', ' おうちごはんを楽しもう', '小泉大臣聞こえますか', ' 唐揚げ', ' おからこんにゃく', 'バレンタイン', 'おうちランチ', ' ベジタリアン', '福山和人氏', ' 未来に投票', ' 京都市長選', ' fridaysforfuturekyoto', 'エコシア', ' ecosia', ' 化石賞', ' 小泉大臣聞こえますか', ' ベジタブルスープカレー', ' グローバル気候マーチ', ' 沖縄', 'いいにくいことを言う日', ' いい肉の日', 'animalrights', ' dogs', ' recipes', ' vegans', 'vegans', ' veganism', ' veganmessage', ' veganadvocacy', ' vegancommunity', ' veganlife', ' veganlifestyle', ' noanimaluse', ' speciesism', ' respectanimals', '気候危機', '気候変動', ' la', ' fridaysforfuturetokyo', 'plantbased', ' bangestationcrates', '気候危機見て見ぬふりはもうできない', 'veganism', 'veganmessage', 'veganadvocacy', 'vegancommunity', 'veganlife', 'veganlifestyle', 'noanimaluse', 'speciesism', 'エシカル消費', '買い物は投票', 'プラントベース', 'おうちごはん', 'アースデー', 'アースデイ', 'ニュースレター', ' ビリー・アイリッシュ', '動物性不使用', '代替肉', '日テレnews24', '日テレ', 'ntv', '気候変動に具体的な対策を', '再生可能エネルギー', '未来のためにお肉を減らそう', 'スイーツ', 'おうち時間', '伊勢丹', '牛肉', 'ソミート', '牛丼', 'メリークリスマス', '仙台麩', '油麩', 'twitter家庭料理部', '地球温暖化', '金曜日アクション', 'モーリシャス重油流出事故', 'mauritiusoilspill', 'おうちtftプロジェクト', 'vegetablefortwo', 'うちベジkitchen', '温暖化', '異常気象', '石炭火力', '脱炭素', '三菱ufj', 'みずほ', 'グリーンバーガー', 'someat', '高野豆腐', 'おうちごはんを楽しもう', '唐揚げ', 'おからこんにゃく', 'ベジタリアン', '未来に投票', '京都市長選', 'fridaysforfuturekyoto', 'ecosia', '化石賞', 'ベジタブルスープカレー', '沖縄'], [' makeecocideacrime', ' stopeumercosur', ' saveamazonia', ' endcapitalism', ' endfactoryfarming', ' strongtogether', ' christmas2020', ' wewanttolive', ' actonamazon', ' defundbolsonaro', ' protejapantanal', 'wewanttolive', ' actonfaso', ' savehwangenationalpark', ' escazúya', ' sosflorestadocamboatá', 'sosamazonia', ' amazonrainforest', ' wearewatchingyou', ' amazonfires', ' savenationalnairobipark', ' saveeboforest', ' protectthedeep', ' socialdistancing', 'factoryfarming', ' dontfrackthent', 'savethesahel', ' letchinaclimatestrike', ' standwiththelumad', ' lastdayofschool', ' georgefloyd', ' uniteforph', ' coronaviruslockdown', ' mentalhealthawarenessweek', ' catsoftwitter', ' workersday', ' 1may', ' adilgeçiş', ' 1mayisemekvedayanismagunu', ' climatestrikehelper', ' balcony4climate', ' solobutnotalone', 'coronaviruslockdown', ' jmun', ' wetsuwetenstrong', ' bushfirerebellion', 'tbtjuly2019', ' behindthescenes', ' catsforfuture', ' cats4climate', ' catswillsavetheworld', ' tbttemmuz2019', ' kameraarkası', 'bushfirerebellion', ' saveaustralia', 'letrussiastrikeforclimate', ' letrussiastrike', ' solidaritywitharshak', 'theguideistanbul', ' i̇stanbul', ' shouldfollow', ' freearshak', 'humanright', ' cleanairisaright', 'climatecrisisishere', 'workersday', 'votethiscapdown', 'forabolsonaro', 'saveourforests', 'sistemiköktendeğiştir', 'noforestnofuture', ' mitierranosevende', 'socialdistancing', 'climatestrikehelper', 'catsoffacebook', 'solidaritywitharshak', ' merrychristmas', 'carbondioxide', 'endspeciesism', 'animalliberation', 'eternals', 'i̇klimgrevi2021', 'lacroisade', 'anotherworldisnecessary', 'animalagriculture', 'stopdeforestation', 'turkeyisburning', 'savewildlife', 'nokxl', 'kxlisdead', 'nopipelines', 'soscolombia', 'standwithworkers', 'i̇kizderetaşocağıolmasın', 'makeecocideacrime', 'leadersclimatesummit', 'kanalistanbul', 'yakanalyaistanbul', 'ratifyparis', 'genderjustice', 'saveamazonia', 'endcapitalism', 'endfactoryfarming', 'mentalhealthforfuture', 'strongtogether', 'christmas2020', 'actonamazon', 'defundbolsonaro', 'protejapantanal', 'actonfaso', 'savehwangenationalpark', 'escazúya', 'sosflorestadocamboatá', 'amazonfires', 'savenationalnairobipark', 'saveeboforest', 'dontfrackthent', 'letchinaclimatestrike', 'standwiththelumad', 'lastdayofschool', 'georgefloyd', 'uniteforph', 'mentalhealthawarenessweek', 'catsoftwitter', '1may', 'adilgeçiş', '1mayisemekvedayanismagunu', 'balcony4climate', 'solobutnotalone', 'jmun', 'behindthescenes', 'catsforfuture', 'cats4climate', 'catswillsavetheworld', 'tbttemmuz2019', 'kameraarkası', 'saveaustralia', 'letrussiastrike', 'australiaisonfire', 'i̇stanbul', 'shouldfollow', 'freearshak'], ['worldbicycleday', ' endallfossilfuels', ' dochooserenewables', 'eusolidaritycorps', ' renewableeuropeby2040', ' solidaarisuuttasuomessa', ' extremeweather', ' ilmastotekoja', ' togetherfor100re', ' togethefor100re', ' justsolarandwind', 'wildfires', ' eusew2021', 'volunteer', 'extremeweather', ' forestfires', ' algae', ' ilmastoteko', 'climatedecade', ' irtiturpeesta', 'billieeilish', ' chokedup', 'activists', 'refuting', ' disinformation', ' msm', ' socialmedia', 'systemchange', 'happyholidays', ' santa', ' deniers', 'blackfriday', ' buynothingday', 'denial', ' doubt', ' division', ' dismissive', ' trolltactics', ' denialmachine', ' buildbackbetter', ' sustainablesolutions', ' peopleb4profit', 'starwars', 'denialmachine', ' misinformation', ' electricvehicles', ' beaware', 'voltaire', ' perfection', ' decarbonizing', ' activists', ' flooding', ' extreme', ' thinkglobal', ' actlocal', ' evergiven', ' evergreen', ' leadership', 'listentoexperts', ' climatebrainy', 'istandwithgreta', ' pandemic', ' staysafe', 'watchlive', ' buyingstuff', ' lessismore', 'climatestrikers', ' decarbonize', ' betterfuture', 'pandemic', ' istandwithgreta', 'sustainablesolutions', 'climatetwitter', ' confused', 'nytonpakko', 'santa', 'humanity', ' nb6thgrade', 'buynothingday', 'mbpoli', ' climateactionmb', ' fridayfollow', 'helsinki', 'heatwaves', 'pipeline', 'chokedup', 'racialjustice', 'droughts', 'endallfossilfuels', 'disinformation', 'msm', 'socialmedia', ' rc3', 'informationscience', 'dochooserenewables', 'disasters', 'renewableeuropeby2040', 'solidaarisuuttasuomessa', 'deniers', 'christmas', 'ilmastotekoja', 'togetherfor100re', 'togethefor100re', 'justsolarandwind', ' boycott4future', 'doubt', 'division', 'dismissive', 'trolltactics', 'peopleb4profit', 'eusew2021', 'misinformation', 'electricvehicles', 'beaware', 'perfection', 'decarbonizing', 'algae', 'extreme', 'thinkglobal', 'actlocal', 'evergiven', 'evergreen', 'leadership', 'climatebrainy', 'ilmastoteko', 'buyingstuff', 'lessismore', 'istandwithgreata', 'decarbonize', 'betterfuture', 'holidayseason'], ['maizittiebuoni', 'insorgiamo', 'clima', 'roma', 'torino', 'thetimeforgamesisover', 'milano', ' climateactionow', ' ecologia', ' uproothesystem', '24settembre', ' scioperoperilclima', ' momentostorico', ' 24settembre', ' mercalli', 'fiamme', 'bari', ' emergenzaclimatica', ' weareunstoppable', 'sinistra', ' giustiziasociale', 'no', ' eumercosur', ' saynoeumercosur', ' faceclimateemergeny', '9ottobre', ' 9ottobre', '25settembre', ' politica', 'overshootday2020', 'terra', ' 5giugno', '5giugno', 'breaking', ' digitalizzato', ' casa', 'wallstreet', ' fossile', ' cnbc', ' turin', 'personoftheyear', 'persone', ' cambiamento', 'marchforclimate', ' cumbredelclima', 'napoli', ' conferenza', ' politiche', 'november30th', ' climatica', '29novembre', ' 29novembre', 'scioperoglobale', 'crisi', ' collinsdictionaries', 'italy', ' lettertotheminister', 'uproothesystem', 'unitebehindthescience', ' teamgeist', 'incendi', 'scioperoperilclima', 'antartide', ' mare', 'emergenzaclimatica', 'pianoariaclima', ' bastafalsepromesse', 'ritapavone', ' 13dicembre', ' 13dic', ' rome', ' treviso', ' nograndinavi', ' mose', ' salviamovenezia', 'pace', 'ricerca', 'biani', ' migrantiambientali', 'guerra', 'biciinprotesta', ' colosseo', 'crisiclimatica', 'climateactionow', 'ecologia', 'momentostorico', 'mercalli', 'azione', 'fridaysforfutureitalia', 'mare', 'eumercosur', 'saynoeumercosur', 'faceclimateemergeny', 'carboninequality', 'politica', ' giornatamondialedellambiente', 'digitalizzato', 'casa', 'fossile', 'cnbc', 'turin', 'cambiamento', 'cumbredelclima', 'conferenza', 'politiche', 'europaverde', 'climatica', 'treviso', 'nograndinavi', 'mose', 'collinsdictionaries'], ['buildbackbetter', 'wedonthavetime', 'canada', ' november29', 'greatersudbury', 'week155', 'week146', ' lyttonbc', ' actc12', ' lyttonbcfire', ' g7cornwall', ' fossilfuelnonproliferationtreaty', ' billc12', ' fundlu', 'sudbury', ' earthdayweek', 'fundlunow', 'flowerstrikemyanmar', ' whatshappeninginmyanmar', ' internetshutdown', 'march19', ' march19', ' deedsnotwords', ' planb', ' march', ' welcomebackusa', 'protectourwinters', ' lanternwalkofhope', 'hope', ' lanternwalk', ' unblockfffindia', ' climateaccountability', 'lanternwalk', 'rebellion', ' thenatureofthings', ' eyesopencanada', 'notgoingback', 'eyesopencanada', ' covidsafe', 'justrecoveryforall', ' istandwithblm', 'isupportblacklivesmatter', ' juneteenth2020', ' earthcomesfirst', 'earthcomesfirst', ' parachutesfortheplanet', ' ytvofficial', ' unep', ' parachutefortheplanet', 'washington', 'genclimateaction', ' springrendezvous', ' digitalstriking', ' catsofthequarantine', ' unionstation', ' capitolhill', 'danceforclimate', ' dec202019', ' lancetcoutdown', ' nobleeconomists', ' nov15th2019', ' nov15', ' safewolflake', 'doctorsforclimate', ' doctorsforfuture', ' citizenkid', 'springrendezvous', ' batti', 'justice', 'strikeforfuture', 'savewolflake', 'oseloucafe', 'elxn44', 'fossiltreaty', 'lyttonbc', 'actc12', 'lyttonbcfire', 'g7cornwall', 'fossilfuelnonproliferationtreaty', 'billc12', 'fundlu', 'whatshappeninginmyanmar', 'internetshutdown', 'deedsnotwords', 'planb', 'march', 'welcomebackusa', 'lanternwalkofhope', 'unblockfffindia', 'climateaccountability', 'thenatureofthings', 'istandwithblm', 'juneteenth2020', 'parachutesfortheplanet', 'ytvofficial', 'unep', 'parachutefortheplanet', 'catsofthequarantine', 'unionstation', 'capitolhill', 'dec202019', 'lancetcoutdown', 'nobleeconomists', 'november29', 'nov15th2019', 'nov15', 'safewolflake'], ['blasel', 'vonderleyen', 'düsseldorf', 'vanessanakate', 'xr', ' duisburg', ' 1komma5', 'migrantifa', ' unfried', 'augsburg', 'wahlrecht', ' nextlevel4future', ' wuppertal', ' rotelinie', ' klimazerstörung', ' kohlekonzerne', ' dorfspaziergang', ' halleschestor', ' blockiererblockieren', ' wahlrechtsreform', ' mönchengladbach', ' krefeld', 'rebellionwave', ' solaroffensive', 'migrantifaforfuture', ' whiteprivilege', ' ffm2404', ' wo0606', 'dat3005', ' klimanetzdatteln', ' fortumirtifossiilisista', ' nowiwu', ' industriestaaten', 'neueswirtschaftswunder', ' greeneconomy', 'klassenklimakampf', ' 1mai', ' indymedia', ' gretaultras', ' 1mai2020', ' tagderarbeit', ' r1mb', 'herauszumerstenmai', ' klassenklimakampf', ' fffbleibtaktiv', ' mainkai', ' alteoper', ' hauptwache', ' weactnow', ' alankurdî', 'fffbleibtaktiv', 'frankfurt', '1komma5', ' oknb', 'krefeld', 'dorfspaziergang', ' nichtwienrw', ' a40', ' klimagerechtigkeitsbewegung', ' developers4future', ' klimawette', 'heute', ' ressourcen', ' hegaualb', 'tjarks', 'mainkai', 'berlindirekt', 'duisburg', 'eauto', 'wahltaktik', 'unfried', 'nextlevel4future', 'wuppertal', 'rotelinie', 'klimazerstörung', 'kohlekonzerne', 'halleschestor', 'blockiererblockieren', 'wahlrechtsreform', 'mönchengladbach', 'solaroffensive', 'whiteprivilege', 'ffm2404', 'wo0606', 'klimanetzdatteln', 'fortumirtifossiilisista', 'nowiwu', 'industriestaaten', 'greeneconomy', 'indymedia', 'gretaultras', 'tagderarbeit', 'r1mb', 'alteoper', 'hauptwache', 'weactnow', 'alankurdî'], ['equity', 'feuerdenwissing', ' lützibleibt', 'gebauer', ' reichthaltnicht', 'wirsindantifa', 'eutaxonomie', 'makeparisreal', 'eiffelturmtag', ' eiffelturmtag', ' climatejusticewithoutborders', 'ampelaufkrise', ' nomoreblahblahblah', ' lützerathlebt', ' laschetlügt', 'laschetdarfnichtkanzlerwerden', 'zivilerungehorsam', 'aufbruchsklima', ' roteklimakarte', 'klimaerhitzung', ' aufbruchsklima', 'greatawakening', ' g7summit', 'beuys', ' notbremsejetzt', ' rodungsstoppjetzt', 'danni2211', 'verbrennerminister', 'fckmlpd', ' großekohlekoalition', ' weitersowargestern', ' abfckprämie', ' nolng', ' by2020weriseup', 'klatschenfürdielobby', ' kaufprämie', 'profilbild', ' abgasautos', ' appforfuture', ' youthstrikeforclimate', 'geisterzug', 'stopfracking', 'by2020weriseup', 'klimainterviews', 'visionsforclimate', 'financenotpromises', ' ltwlsa21', 'denkpause', ' eiffelturm', ' timetorebel', 'kaufprämie', 'showusthemoneynow', 'embargoforpeace', 'lützibleibt', ' inklusion', 'climatejusticewithoutborders', 'lützerathlebt', 'scotland', 'laschetlügt', 'roteklimakarte', 'g7summit', 'notbremsejetzt', 'rodungsstoppjetzt', 'erdgasbrueckeinsnichts', 'abgasautos'], ['gdp', 'policymakers', 'week87', 'week86', 'week85', 'somalia', ' hurricanes', ' siberia', ' greece', ' algeria', ' fire', ' unitedkingdom', 'strike', ' indiagate', ' newdelhi', ' nomoreemptypomises', ' yamunariver', ' year2021', ' bushfires', ' standwithfarmers', ' farmersprotestdelhi2020', ' farmbills2020', ' savemollem', ' save_farmer_save_country', ' antifarmerbills', ' endgame', ' myright2breathe', ' delhiairquality', ' savearavali', 'forestfires', ' greeceisburning', ' fridayfire', 'climateinjustice', 'mothernature', 'emptypromises', 'famine', 'humankind', 'hurricanes', 'siberia', 'greece', 'algeria', 'fire', 'unitedkingdom', 'oxygen', 'indianeedsoxygen', 'indiagate', 'newdelhi', 'nomoreemptypomises', 'yamunariver', 'year2021', 'bushfires', 'standwithfarmers', 'farmersprotestdelhi2020', 'farmbills2020', 'stopplasticpollution', 'save_farmer_save_country', 'antifarmerbills', 'endgame', 'myright2breathe', ' supportsmallerstreamers', 'thanksgiving'], [' climateprotest', 'northernireland', 'stormellen', 'greenrecoveryni', ' mask', ' democracyday', ' climatefriday', ' coronaviruspandemic', ' climateresiliency', ' belfast', 'climateactnow', ' help', ' deadlineday', ' antarctica2020', ' climateemegency', 'truenorth', 'climateprotest', ' australianbushfiredisaster', ' belfastclimatecommission', 'climateemegency', ' prayforaustralia', '2020newyear', ' happynewyear2020', ' ecologicalcrisis', ' actforchange', ' climatestike', 'stayhomesavelives', 'climatefriday', 'copenhagen', 'travel', 'retweeetplease', 'iamgreta', 'dokumentarfilm', 'mentalhealth', 'bekind', 'hurricanelaura', 'blogger', 'mentalhealthmatters', 'stophs2', 'mask', 'democracyday', 'prayforuttarakhand', 'savethehimalayas', 'nocoal', 'coronaviruspandemic', 'climateresiliency', 'belfast', 'help', 'deadlineday', 'antarctica2020', 'australianbushfiredisaster', 'belfastclimatecommission', 'prayforaustralia', 'ecologicalcrisis', 'actforchange', 'maintaintherage'], [' ilmastonmuutos', ' winter', 'ilmastokriisi', ' snow', 'ilmasto', 'sähköauto', ' emobile', ' auto', ' sähköauto', ' vihreäsiirtymä', 'vihreäsiirtymä', ' luontokato', ' luonto', ' tuulivoima', ' ympäristö', ' tiede', 'tuulivoiman', ' korruptio', ' politiikka', 'sää', ' arktinen', ' kestäväkehitys', ' pohjoinenulottuvuus', ' arktinenstrategia', 'helle', ' kesä', 'kesä', ' helle', 'huhtikuu', ' toukokuun', ' lumi', ' talvi', 'liha', 'pakkanen', ' vinter', 'auto', ' koronavirus', 'jokuraja', 'emobile', 'stopfuellingwar', 'ilmastonmuutos', 'luontokato', 'luonto', 'tuulivoima', 'ympäristö', 'tiede', 'korruptio', 'politiikka', 'arktinen', 'kestäväkehitys', 'pohjoinenulottuvuus', 'arktinenstrategia', 'toukokuun', 'lumi', 'talvi', 'marktführer'], ['activism', 'greenwashing', ' ecthr', ' fightforyourhumanright', 'throwback', ' chocolate', 'snow', ' teamcows', ' newyear', 'newyear', ' 2020ends', ' happynewyear', ' internationalmigrantsday', ' moria', ' blackfridayamazon', ' worldchildrensday', ' online', ' election2020', ' euparliament', ' hope', ' bolsonaro', ' salzburgerfestspiele', ' omv', ' audi', ' nestle', 'salzburgerfestspiele', 'austria', ' matura2020', 'campforfuture', ' kurz', ' klimacoronadeal', ' africavote', ' april12th', 'gazprom', 'winter', 'girlpower', 'klimaurteil', 'lawsuit', 'ecthr', 'fightforyourhumanright', 'askgerald', 'chocolate', 'teamcows', '2020ends', 'internationalmigrantsday', 'blackfridayamazon', 'worldchildrensday', 'online', 'election2020', 'euparliament', 'bolsonaro', 'audi', 'nestle', 'matura2020', 'kurz'], [' wirsindmehr', 'ichbinarmutsbetroffen', ' ohnemeinenphysiotherapeuten', ' therapeutenamlimit', ' einesorgeweniger', ' heimatstern', ' legalizeit', ' entkriminalisierungsofort', ' gesundheitkämpft', ' unten', ' legalisierung', 'ohnemeinenphysiotherapeuten', ' stopputinnow', ' armut', ' legalisierungjetzt', ' stopwarinukraine', ' münchenbleibtbunt', ' richtermüller', 'legalisierenjetzt', ' rheinlandtrump', ' laschetluegt', ' cdurausausderregierung', ' cducsu', ' sorgeweniger', ' patientenamlimit', ' aufstehen', 'pflegebonus', ' renten', ' grundrente', ' hartz4', 'therapeutenamlimit', 'einesorgeweniger', 'heimatstern', 'legalizeit', 'entkriminalisierungsofort', 'gesundheitkämpft', 'unten', 'legalisierung', 'stopputinnow', 'putinskrieg', 'armut', 'legalisierungjetzt', 'stopwarinukraine', 'münchenbleibtbunt', 'richtermüller', 'rheinlandtrump', 'cdurausausderregierung', 'sorgeweniger', 'patientenamlimit', 'aufstehen', 'renten', 'grundrente'], ['शुभ_शुक्रवार', ' positivemindset', ' बोधिसत्व', ' vocal4local', ' स्वदेशी', ' वैक्सीन_पेटैंट', ' atmanirbharbharat', 'शुक्र_श्रीशक्ति', ' swadeshi', ' प्रबुद्ध_मनन', ' देशभक्त', ' किसान_पुकार_सुने_सरकार', 'शुभ_शुक्र', ' देश_को_जवाब_दो', ' किसान_भगत_सिंह_बनेगा', 'sundayshoutout', ' positivity', ' bepositive', ' सकारात्मक_संदेश', 'saturdayvibes', 'sundayfeels', ' हिंदी', ' लखनऊ_विश्वविद्यालय', ' pmblessinglu', 'saturdaymotivation', 'positivevibes', 'positivemindset', 'buddha', 'बोधिसत्व', 'vocal4local', 'स्वदेशी', 'वैक्सीन_पेटैंट', 'atmanirbharbharat', 'swadeshi', 'प्रबुद्ध_मनन', 'देशभक्त', 'किसान_पुकार_सुने_सरकार', 'देश_को_जवाब_दो', 'किसान_भगत_सिंह_बनेगा', 'positivity', 'bepositive', 'सकारात्मक_संदेश', 'हिंदी', 'लखनऊ_विश्वविद्यालय', 'pmblessinglu'], ['díadelatierra', ' riberasacra', ' ríosil', ' cambioclimático', ' justiciaclimática', 'cambioclimático', 'marchaporelclima', ' acciónclimática', ' 25s', ' trabajoyclima', '25s', ' revoluciónsostenible', 'justiciaclimática', 'emergenciaclimática', 'díadeandalucía', 'ue', ' lospueblosporelclima', ' marchaporelclima', ' zambia', 'psoe', ' transiciónecológica', ' pandemia', ' ecobotellas', ' sostenibilidad', ' emergenciaclimática', 'ecofeminiso', ' psoe', 'felizfinde', 'riberasacra', 'ríosil', 'diadelaconstitucion', ' ponteenverde', ' tiempodeactuarya', 'trabajoyclima', 'revoluciónsostenible', 'ecosistema', 'sostenibilidad', 'bruselas', 'lospueblosporelclima', 'unidasporelclima'], ['气候危机', '绿色新政', '星期五为未来', ' arrêtonscambo', 'fairycreek', ' fairycreekblockade', 'peace4yemen', ' facetheclimatecrisis', 'june4th', ' letchinastrikeforcljmate', 'wechat', 'landback', ' 为未来的星期五', '为未来的星期五', ' 气候危机', ' 原住民', ' 气候危机行动计划', ' vanclimateemergency', 'latinamericaonfire', ' amériquelatinrenfeu', ' 否认气候危机者是人类公敌', 'letchinastrikeforclimate', '气候危机没有疫苗', '否认气候危机的人是人类公敌', '曹长青吃煤炭', '煤炭不能吃石油不能喝', 'arrêtonscambo', 'fairycreekblockade', '週五併未來', 'fffhk', 'facetheclimatecrisis', 'letchinastrikeforcljmate', '原住民', '气候危机行动计划', 'vanclimateemergency', 'amériquelatinrenfeu'], ['58th', '57th', '52nd', '51th', '50th', '49th', '48th', '46th', '45th', '44th', '43th', '42th', '41th', '40th', '39th', '38th', '35th', '34th', '33rd', '32nd', '31st', ' oxygen', ' indianeedsoxygen', 'mydiwaliresolution', 'enactclimatelawinindia', ' fightforclimateinjustice', 'cleanup', 'plasticban', 'plogrun', 'fridaysforfuturejhansi', 'smrjs', 'swapnafoundation', 'up', 'webelieveactions', 'fridaysforfutureindia'], [' thursdaythoughts', 'gamedev', ' indiegame', ' indiegamedev', ' indie', ' indiegames', ' gamer', ' games', ' gaming', ' game', ' programmer', ' unity', ' saturdayvibes', 'videogames', ' gamedev', ' pixelart', 'indiedev', 'screenshotsaturday', ' screenshotsunday', ' harbourcleaner', ' indiedevworldorder', 'indiegame', 'indiegamedev', 'indie', 'indiegames', 'gamer', 'games', 'gaming', 'game', 'programmer', 'unity', 'screenshotsunday', 'harbourcleaner'], ['circulareconomy', ' roma', 'bologna', 'music', ' verona', ' mantova', ' design', ' sport', ' streatweare', ' calcio', ' fashionweek', ' governo', ' valpolicella', 'stories', ' imaginative', ' relevant', 'fashion', 'alimentazione', 'stopttip', 'verona', 'mantova', 'design', 'sport', 'streatweare', 'calcio', 'fashionweek', 'governo', 'valpolicella', 'imaginative'], ['einigung', ' nationalstaaten', 'forscher', ' förderung', ' präsidenten', ' pariser', ' jülicher', ' forscher', ' treibhausgasausstoß', ' volkswirtschaftlich', 'preisverleihungen', ' ehrungen', ' alibi', ' umweltpreis', 'überwärmung', ' klimawandels', 'kohleindustrie', 'wohlstand', 'dokumente', 'nationalstaaten', 'förderung', 'präsidenten', 'pariser', 'jülicher', 'treibhausgasausstoß', 'volkswirtschaftlich', 'ehrungen', 'alibi', 'umweltpreis'], ['hudsonbay', 'frenchpress', ' noplasticwaste', ' noplastic', ' esg', ' wastefree', 'sanfrancisco', ' follow', ' sf', ' styrofoam', ' composting', ' circulareconony', 'mikebloomberg', ' inspire', 'noplasticwaste', 'climateweeknyc', 'sunshine', 'redflags', 'carbonfootprint', 'esgmark', 'noplastic', 'esg', 'wastefree', 'follow', 'sf', 'styrofoam', 'composting', 'circulareconony'], [' timeforaction', 'adani', 'portugal', 'eia2020', 'pff', ' drawdown', ' nonewfossilfuels', ' ourkidsfutures', ' australiaday', ' rubbish', 'oceansarerising', 'carbonnegative', ' goodnews', ' microsoft', ' breakupwithfossilfuels', ' netzeroemissions', 'noect', 'waste', 'nonewcoal', 'stopaeroportomontijo', 'drawdown', 'nonewfossilfuels', 'ourkidsfutures', 'australiaday', 'rubbish', 'microsoft', 'breakupwithfossilfuels', 'netzeroemissions'], ['changeiscoming', 'schweinemast', 'kuh', ' faktencheck', ' animalrebellion', 'eilmeldung', ' pflanzenmilch', ' changeiscoming', ' gesundheitskrise', ' ernähren', 'earthday2021', ' aktion', 'artensterben', ' wälder', 'abstimmung', ' bangladesch', ' emissionen', ' sorgearbeit', 'ernährungswende', 'vegansforfuture', 'faktencheck', 'animalrebellion', 'pflanzenmilch', 'gesundheitskrise', 'ernähren', 'aktion', 'wälder', 'bangladesch'], ['klimawahlhelfer', ' staytuned', 'weehawken', ' selday', ' fuelingfutures', 'writing', ' nevertooearly', ' preparation', ' hydroponics', ' tomato', ' weehawken', ' weegrow', ' spring2020', ' getexcited', ' startsmall', 'selday', 'fuelingfutures', 'nevertooearly', 'preparation', 'staytuned', 'hydroponics', 'tomato', 'weegrow', 'spring2020', 'getexcited'], ['week33', ' educationforgirls', 'week32', ' day17', 'people', ' freedomstruggle', 'week31', ' day16', 'week30', ' day15', 'week29', ' day14', ' day13', 'day1', 'day18', 'ldc', 'day2', 'educationforgirls', 'day17', 'sudan', 'freedomstruggle', 'day16', 'day15', 'day14', 'day13'], [' heute', ' ulm', 'donaucleanup', 'ulmklimaneutral2035', 'radio', ' freefm', ' talksforfuture', 'keinvergebenkeinvergessen', ' rassismusbekaempfen', ' nsukomplexaufklären', ' jugendgegenrassismus731', ' fckracism', ' muensterplatz', ' solidarititsimdi', 'forderungen', ' regierung', ' 100tage', 'freefm', 'rassismusbekaempfen', 'nsukomplexaufklären', 'jugendgegenrassismus731', 'fckracism', 'muensterplatz', 'solidarititsimdi'], ['day65', ' challenge2020', ' 80milliontrees', ' drcongo', ' carbonsink', 'day45', ' groningen', ' valentines2020', ' climateparliament', ' nederland', 'lovely', ' naturelover', 'klimaatverandering', 'klimaat', 'forest', 'kids', 'wwf', 'challenge2020', '80milliontrees', 'drcongo', 'carbonsink', 'groningen', 'climateparliament', 'nederland'], [' keinekohlefuerdiekohle', ' bank', ' sitzstreik', 'göttingen', ' dienstag', ' gänseliesel', ' klimagerechte', ' konjunktur', ' maßnahmen', ' neonazi', ' clique', 'keinekohlefuerdiekohle', ' fridaysforfuturelemgo', 'team', 'bank', 'philippemueller', 'sitzstreik', 'dienstag', 'gänseliesel', 'klimagerechte', 'konjunktur', 'maßnahmen', 'neonazi'], [' scientistforfuture', 'negativeemissionen', ' cdr', 'geoengineering', ' enhancedweathering', 'wissenschafftklimaschutz', 'pillepalle', ' angrypenguin', 'wissenschaftskommunikation', ' scienceslam', 'scienceslam', ' wisskomm', ' keepcalmandcutemissions', ' globalwarmingsucks', ' palice', 'olivin', 'cdr', 'enhancedweathering', 'angrypenguin', 'wisskomm', 'keepcalmandcutemissions', 'globalwarmingsucks'], ['gocarfree', ' flightfree', ' eatonlyplants', ' shopstop', 'leaveoilintheground', ' gocarfree', ' bikedontdrive', 'banallcars', ' banprivatecars', ' leaveoilintheground', ' stopecocide', ' microplastics', ' myrighttobreathe', ' fightforonepointfive', 'istayontheground', 'flightfree', 'eatonlyplants', 'shopstop', 'bikedontdrive', 'banprivatecars', 'myrighttobreathe'], ['news', 'hungerstrikeforclimate', ' nonhumanrights', ' palmoil', ' consumers', 'palmoil', 'anipals', ' gainesville', ' florida', ' nonprofit', ' teens', ' northernireland', 'endanimalag', ' actonclimategovegan', 'westvirginia', 'nonhumanrights', 'consumers', 'gainesville', 'florida', 'nonprofit', 'teens'], [' municipales2020', 'bagneux', ' ecologie', ' parc', ' hautsdeseine', ' municipales', ' bagneux2020', ' bagneux', ' grandparis', ' biodiversité', ' eelv', 'climat', 'grenoble', 'municipales2020', 'ecologie', 'parc', 'hautsdeseine', 'municipales', 'bagneux2020', 'grandparis', 'biodiversité'], ['buildbettertogether', 'rebuildbetter', 'cleanercars', 'cleanfuture', 'makeamericagretaagain', 'stateoftheunion', ' sotu', ' showyourstripes', '2019in5words', 'sciencenotsilence', 'climatevoters', ' sundevils', ' climatehope', ' polcan', 'thisiszerohour', 'solvingtheclimatecrisis', 'womenshistorymonth', 'sotu', 'showyourstripes', 'timeforaction', 'sundevils'], ['funnyvines', ' byte', ' vine', ' funny', ' fail', ' howiwonblackfriday', ' kohlsblackfriday', ' target', ' walmartblackfriday', ' anime', 'twitch', 'blackfridayfights', 'macysblackfriday', 'byte', 'vine', 'funny', 'fail', 'howiwonblackfriday', 'kohlsblackfriday', 'target', 'walmartblackfriday'], ['eugreendeal', 'pulseofeurope', ' denkeuropamit', ' denkklimamit', ' europasalon', ' pulseofeurope', ' europeanhomeparliaments', ' hausparlamente', ' homeparliaments', ' poewatcheseu', ' eutheblueforce', 'dialogobywatelski', 'edd20', 'denkeuropamit', 'denkklimamit', 'europasalon', 'europeanhomeparliaments', 'hausparlamente', 'homeparliaments', 'poewatcheseu'], ['maltzahn', 'storck', ' storckerweiterung', ' changeforfuture', 'mausgerutscht', 'wirtschaftsrat', ' menschenrecht', 'klimagerechtigkeitsbewegung', ' storck', 'nordhalbkugel', '2020weriseup', ' kohlekompromiss', ' onestruggleonefight', ' actnow2020', 'herz', 'problempolizei', 'faschismus', 'menschenrecht', 'onestruggleonefight', 'actnow2020'], [' criminelsécologistes', ' esclavagistes', ' lrem', ' modem', ' lr', ' huiledepalme', ' 1for25', ' 1pour25', ' carbonrationtickets', '15novembre', 'bolloré', 'criminelsécologistes', 'esclavagistes', 'lrem', 'modem', 'lr', 'huiledepalme', '1for25', '1pour25'], ['shutitalldown', ' shutitalldownnamibia', ' sgbv', ' bohomonk', ' namibia', 'brazilsaysnotodeforestation', ' pokemonneedhome', ' sportsagainstecocides', 'sportsagainstecocides', ' savecamboata', ' camboata', 'sahel', 'inktober2020', 'shutitalldownnamibia', 'sgbv', 'bohomonk', 'namibia', 'pokemonneedhome', 'savecamboata'], [' human', 'blackouts', ' russia', 'uranium', ' nuclear4future', 'german', ' america', ' roberthabeck', ' olafscholz', ' energiekrise', 'nuclear', 'russia', 'gasversorgung', 'habeckruecktritt', 'nuclear4future', 'america', 'roberthabeck', 'olafscholz'], ['systemversagen', 'wirstreiken', 'kimastreik', ' demobank', ' bochum', 'sharedichdrum', ' klimaschrei', ' e4f', ' nichtmeinerbe', ' sharedichdrum', 'dnp12', 'e4f', ' zolar', 'bochum', 'glsstandpunkt', 'demobank', 'klimaschrei', 'nichtmeinerbe'], ['covid19de', 'alle', ' cannabisliebhaber', ' cannabiskonsumenten', ' legalisierungsbefürworter', ' jugend', ' senioren', ' cannabisverbot', ' erwerbsminderungsrente', 'europawahl', 'cannabis', 'rente', 'cannabisliebhaber', 'cannabiskonsumenten', 'legalisierungsbefürworter', 'jugend', 'senioren', 'cannabisverbot'], [' bi2310', ' k3010', ' fightantisemitism', ' gegen1000kreuze', ' noversgnrw', ' versgnrwstoppen', 'werne', ' antifaforfuture', 'witten', 'e2210', 'e2310', 'ms2310', 'bi2310', 'k3010', 'fightantisemitism', 'gegen1000kreuze', 'noversgnrw', 'versgnrwstoppen'], [' mietenwahnsinn', 'nachhaltig', ' bauen', ' leerstand', ' torstr225_227', ' verdrängung', ' 200häuser', ' wirbleibenalle', ' jetzterstrecht', 'profit', 'bauen', 'leerstand', 'torstr225_227', 'verdrängung', '200häuser', 'wirbleibenalle'], ['germanmediart', ' retweetplease', 'wochenende', ' germantwitchrt', ' stream', ' streamer', ' streamacademyrt', ' germanmediart', ' primenightrt', ' twitchtv', 'twitchde', 'germantwitchrt', 'stream', 'streamer', 'streamacademyrt', 'primenightrt'], ['psychologistsforfuture', 'vorstellbar', 'autokaufpraemie', ' resilienz', ' togetherforfuture', 'nodenial', 'klimaangst', ' dammbruch', 'angst', ' klimainterviews', ' veränderung', 'sciebtists4future', 'wirfürvielfalt', 'resilienz', 'togetherforfuture'], ['peopleforfuture', 'teachersforfuture', ' researchersforfuture', ' stockholmuniversity', ' fightforeverycrisis', ' april24', 'globalstrikeonline', 'notjustalunch', ' vegoforfuture', ' lunchforfuture', 'researchersforfuture', 'stockholmuniversity', 'fightforeverycrisis', 'april24', 'vegoforfuture'], ['nsafd', 'jeckopfuture', ' karneval', 'ggultras', ' wunderblokk', 'wunderblokk', ' ggultras', ' su2911', ' siegburg', ' bonnerjugendbewegung', 'friedenfürsklima', 'climatestrike2404', 'karneval', 'su2911', 'siegburg'], ['東日本大震災から9年', ' パワーシフト', '気候非常事態宣言', '気候ストライキ', 'hanshinawaji', ' werefusecoalmine', ' werefusecoalplant', ' 神戸大学', ' プラごみ', ' 気候ストライキ', 'パワーシフト', 'werefusecoalmine', 'werefusecoalplant', '神戸大学', 'プラごみ'], ['19marzo', 'dissestoidrogeologico', ' geologica', ' ong', 'speranza', ' verde', ' europaverde', ' 1ºmaggiotaranto', 'greenfriday', 'ecoshopping', 'prayersforaustralia', 'geologica', 'ong', 'verde'], ['nohayplanetab', 'lagranbellotadanambroqueña', ' nohayplanetab', ' lagranbellotadanambroqueña', 'nambroca', ' lagranbellotadaibérica', ' naturaleza', ' biodiversidad', ' toledo', ' españa', 'lagranbellotadaibérica', 'naturaleza', 'biodiversidad', 'toledo'], [' contest', 'contestalert', ' funfriday', ' funday', ' fundayfriday', ' medibuddy', ' aapkahealthbuddy', ' funactivity', 'funfriday', 'funday', 'fundayfriday', 'medibuddy', 'aapkahealthbuddy', 'funactivity'], ['lindnerruecktritt', ' höckeisteinfaschist', ' linder', ' lindnerrücktritt', ' ramelow', ' niewieder', ' mohring', ' thueringen', 'kemmerich', 'höckeisteinfaschist', 'linder', 'lindnerrücktritt', 'ramelow', 'mohring'], ['tibet', ' himalayas', ' tibet', 'gretathurnberg', ' thirdpole', ' dalailama', ' epicfail', 'awareness', 'worldpeace', 'himalayas', 'thirdpole', 'dalailama'], ['descolonizeosistema', ' 29m', 'fazpeloclima', ' fazpeloclima', 'florestasemcortes', ' arte', ' salvaroclima', 'confinaeu', 'belem', '29m', 'montijo', 'arte'], ['chemnitz', 'golfstrom', 'klimawandeln', ' klimawandeln', 'coronavirusdeutschland', ' faktenstatteinlullen', ' pff', ' p4f', 's4f', 'cduunwaehlbar', 'cduverhindern', 'faktenstatteinlullen'], ['musk', ' gagafactory', ' elektroschrott', ' goßkapitalist', ' monopolist', 'co2paranoia', 'gutfaschisten', 'gigafactory', 'gagafactory', 'elektroschrott', 'goßkapitalist', 'monopolist'], ['bansingleuseplastic', ' saveenvironment', ' singleuseplasticfreeindia', 'swacchbharat', ' opendefecationfreeindia', ' newindiarises', ' saafniyatsahivikas', ' modihaitomumkinhai', 'singleuseplasticfreeindia', 'opendefecationfreeindia', 'newindiarises', 'saafniyatsahivikas'], ['marcheclimat', ' 16avril', ' nantes', 'conventioncitoyenne', ' beourguest', ' graslin', 'marchepourleclimat', ' lightsout', 'vraieloiclimat', '16avril', 'nantes'], ['managersforfuture', ' befuture', ' untilwearedone', ' iwantyoutopanic', ' stopfundingfossils', 'dinosaureconomy', 'divestment', 'sustainableleadership', 'befuture', 'untilwearedone', 'iwantyoutopanic'], [' climategrandma', ' aktivistimummot', ' sittingwithgreta', ' skolstrejk', 'ilmastoisovanhemmat', 'grandparentsforfuture', 'ilmastotwitter', 'perjantaitgretankanssa', 'climategrandma', 'aktivistimummot', 'sittingwithgreta'], ['thinkgreenitsfriday', 'noeasy_iscoming', ' 스트레이키즈', 'ourenergy2030', ' thinkgreenitsfriday', 'kamayparasaklima', ' asiaforclimate', 'asiaforclimate', ' sciencenotsilence', 'straykids', '스트레이키즈'], [' libera1m2', ' wastewatchenaccion', ' hèroeslibera', ' 1m2xpersona', ' catalunya', ' proyectolibera', 'foodforfuture', 'libera1m2', 'wastewatchenaccion', 'hèroeslibera', '1m2xpersona'], ['ddr', 'capitalismheals', ' rüdersdorf', ' marktwirtschaft', ' palmer', ' weizsäcker', ' sinn', 'museumspark', 'rüdersdorf', 'marktwirtschaft', 'weizsäcker'], ['cleanbeachtour', ' legambiente', 'picnicallinferno', ' tour2019', ' ragazzacci', ' stiamorock', ' pieropelùtour', 'legambiente', 'tour2019', 'ragazzacci', 'stiamorock'], ['विश्वविख्यातकवयित्रीडॉकविताकिरण', ' mrsindiarajasthan2019', ' ब्रांडएम्बेसडर', ' brandambassador', ' againstpollution', ' indiaagainstpollution', 'narendramodi', 'mrsindiarajasthan2019', 'ब्रांडएम्बेसडर', 'brandambassador', 'againstpollution'], ['3k', 'atomausstiegs', ' luisaschweigt', 'stopp', 'grohnde', 'theweleit', 'kernkraftwerke', ' reinhardswald', ' keingradmehr', 'luisaschweigt', 'reinhardswald'], ['feminism', ' rebellionextension', ' antifaterrorist', ' politcalcorrectness', 'monopol', 'cancelculture', 'lgbtq', 'rebellionextension', 'antifaterrorist', 'politcalcorrectness'], ['bankenrettung', ' hartziv', ' aufrüstung', ' frieden', ' pflegenotstand', ' sozialstaat', ' rentnerinnen', 'hartziv', 'aufrüstung', 'sozialstaat'], ['mühlrose', ' kuckum', ' oberwestrich', ' unterwestrich', 'wirbleiben', 'pödelwitzbleibt', 'fichtner', 'kuckum', 'oberwestrich', 'unterwestrich'], ['kwawesome', ' winterbiketoworkday', ' cyclewr', ' bikewr', ' bikekitchener', 'winterbiketoworkday', ' watreg', 'cyclewr', 'bikewr', 'bikekitchener'], ['немавоздухнемамир', ' сакамевоздух', ' неседише', ' маршзачиствоздух', ' зачиствоздух', 'ќерками', 'зеленареволуција', 'сакамевоздух', 'неседише', 'маршзачиствоздух'], [' lucke', ' turkey', ' impeachment', ' chileprotests', ' brexit', 'syria', 'lucke', 'turkey', 'impeachment', 'chileprotests'], ['ekoradio', ' radioonlinecolombia', ' xrbogota', ' periodicoarteria', ' equidaddegenero', ' hefroshe', 'radioonlinecolombia', 'xrbogota', 'periodicoarteria', 'equidaddegenero'], ['listentothem', ' aravalli', ' withdrawplpaamendment', ' aravallibachao', ' aravallisindanger', 'australianfires', 'camels', 'aravalli', 'withdrawplpaamendment', 'aravallibachao'], ['climatechangeart', ' artlovers', ' legend', ' exhibition', ' show', 'mondaythoughts', 'artlovers', 'legend', 'exhibition'], [' huelgaglobalporelclima', ' eleccionesalemania', 'huelgamundialporelclima', ' bastadefalsassoluciones', 'ahora', ' huelgamundialporelclima', '24s', 'huelgaglobalporelclima', 'bastadefalsassoluciones'], [' sofreschandsoclean', ' greatatoasia', ' plasticpolution', ' thesolution', 'mangroves', 'mangrovecleanupmumbai', 'sofreschandsoclean', 'greatatoasia', 'plasticpolution'], ['vivaldi', ' violin', ' violinist', ' classicalmusic', ' electronicmusic', 'artistofthesummer', 'violin', 'violinist', 'classicalmusic'], ['bcnada20', ' wmcp20', 'mnrada20', ' ra', ' steam', ' bookface', 'wmcp20', 'ra', 'steam'], ['treibhausgas', ' gottfriedkirchengast', ' klimavolksbegehren', ' klimaschutzlähmung', ' nekp', 'klimaplan', 'gottfriedkirchengast', 'klimavolksbegehren', 'klimaschutzlähmung'], ['maßen', 'bildungsstattpraesenzpflicht', ' teamsicherebildung', ' teamdrosten', ' lauterbach', ' elternstehenauf', 'teamsicherebildung', 'teamdrosten', 'lauterbach'], [' antiatom', 'nuketheclimate', ' saveger6', ' nuklearia', ' fota4climate', 'pseudoklimaschützer', 'antiatom', 'saveger6', 'nuklearia'], ['earthday50', 'belugagrads', ' raffiwantsyou', 'replacegdp', ' doughnuteconomics', 'childhonouring', 'climatemobilization', 'raffiwantsyou'], ['superrichforfuture', ' allforfuture', 'therichmustcontribute', ' billionairesforfuture', 'parents4future', 'nrwwahl2022', 'steindesanstosses', 'allforfuture'], [' 6dporelclima', 'acciónclimática', ' derechos', 'viernes', ' suecia', ' times', 'suecia', 'times'], ['antifafamily', ' jusos', 'lügenpresse', ' schweiger', ' dsds', ' dsds2020', 'jugendantifa', 'jusos'], [' finanzsektor', 'gutesklimagesetz', 'parteien', 'teamwork4climate', ' gemeinsam', '1komma5grad', 'finanzsektor'], ['neubauerregel', ' minderheiten', ' mehrheit', ' neubauerregel', ' rechtstaat', 'minderheiten', 'mehrheit'], [' sosamazonía', 'fideicomisos', 'recuperaciónverde', 'transiciónenergeticajusta', ' reyesmagos', 'energíasrenovables', 'justiciaclimáticaya'], ['hottestyearever', 'thereisnoclimatecrisis', 'climategate', 'groupthink', 'climatecult', 'climatereality', ' ecofascism'], ['sauna', ' räumung', ' lobaubleibt', ' lobaucamp', ' jugendrat', 'räumung', 'lobaucamp'], ['law', ' hs2', ' legal', ' law', 'naturenews', 'hs2', 'legal'], ['commissionspeciale', ' loiclimat', 'tedeum', ' requiem', ' enterrementpremiereclasse', 'loiclimat', 'requiem'], ['sooraraipottru', ' sudhakongara', ' gvprakash', ' suriya', 'fridayquotes', 'sudhakongara', 'gvprakash'], [' noshoppingwithnoplanet', ' macysblackfriday', ' climateprotests', ' 6000sardine', 'climatedebate', 'noshoppingwithnoplanet', 'climateprotests'], ['ge2020', 'greendecadeofchange', 'cblive', ' politicsforfuture', ' wantgreenvotegreen', 'politicsforfuture'], ['museumsforfuture', 'artstrike4climate', ' lastjudgement', ' lucasvanleyden', 'carbonneutral', 'lastjudgement'], ['öpnvgipfel', 'arbeitsbedingungen', ' arbeitsbedingungen', ' behle', 'gutearbeit', 'oepnvbrauchtzukunft'], ['riscaldamentoglobale', 'cdp', 'posillipo', ' vento', ' uragano', 'vento'], ['klimaatactie', ' abpfossielvrij', '2doc', ' 410ppm', 'abpfossielvrij', ' delaatstewaarschuwing'], ['berniememes', ' berniesandersmittens', ' feministsforfuture', ' equality', 'ltwnrw22', 'berniesandersmittens'], ['klimafaschos', 'rassistin', ' grünejugend', ' deutschlandaberohneklimawahn', 'energiearmut', 'grünejugend'], ['hempcrete', 'kisstheground', ' soilhealth', ' worldsoilday', 'soilhealth', 'hemp'], ['justíciaclimàtica', 'palma', ' justíciaclimàtica', ' mallorca', ' túquéhaces25s', '25sclimaytrabajo'], ['aragua', ' inundaciones', 'valencia', ' petróleo', 'venezuela', 'inundaciones'], ['microabenteuer', ' wiwableibt', ' völlibleibt', ' pappelheimer', 'wiwableibt', 'völlibleibt'], ['antifacafé', ' nonazishh', ' pinneberg', 'kilmagerechtigkeit', 'nonazissh', 'nonazishh'], ['helau', 'rosenmontagsumzug', ' helau', 'davos20', ' mainz1701', 'rosenmontag'], ['グラミー賞', ' グレタ・トゥーンベリ', 'ビリー・アイリッシュさん', ' グラミー賞', 'ビリー・アイリッシュ', 'グレタ・トゥーンベリ'], [' kino', ' trailer', 'oknb', 'kino', 'trailer'], [' veganfridaysforfuture', 'одинштормразныелодки', 'savebaikal', 'вместезаклимат', ' digitlstrike'], ['kiruna', ' kiruna', ' ukraina', ' klimatet', 'ukraina'], [' elaguanosevende', 'huelgaporelclima', ' renunciapiñera', 'noadominga', 'elaguanosevende'], ['grevepeloclima', 'forasalles', ' grevedigital', ' acriseclimáticamata', 'grevedigital'], ['internationalyouthday2021', ' healthyriparian', ' publicspaces', 'riverbankprotection', 'healthyriparian'], ['literaturacatalana', ' literaturainfantil', ' divendrespelfutur', 'canviclimàtic', 'literaturainfantil'], ['fffstrike', ' listentotheexperts', ' buildingbackbetter', 'earthdayweek', 'listentotheexperts'], ['klimaaktivismus', ' antirassistisch', ' againstracism', 'muenster', 'antirassistisch'], ['elmshorn', ' elmshornsuoernormal', ' elmshorn', ' elmshorncity', 'elmshornsuoernormal'], ['politprofis', ' dividenden', ' umverteilung', 'steuergelder', 'dividenden'], ['diamundialdelreciclaje', ' debateinvestidura', 'educaciónambiental', 'educacionambientalesrevolución', 'reyesmagos'], ['climamw', ' vistasdesdemiventana', ' laculturaentucasa', 'climatemw', 'vistasdesdemiventana'], ['onted', ' ett', ' migrantjustice', 'waterislife', 'ett'], ['15mclimático', ' yomequedoencasa', 'huesca', ' calentamientoglobal', 'yomequedoencasa'], [' donaukurier', 'natura2000', ' donegal', ' stopørsted', 'donegal'], ['patriarchat', 'antifaklima', 'schweiger', 'dsds', 'dsds2020'], ['bardem', ' almeida', 'últimahora', ' endirecto', 'almeida'], ['provinzposse', ' schwäbischgmünd', ' tunneldemo', 'schwäbischgmünd', 'tunneldemo'], ['klimagerechter', 'co2budget', ' rohstoffverbrauch', ' bevölkerungswachstum', 'rohstoffverbrauch'], ['mothersday2022', ' climateconscious', ' giveaway', ' climatepositive', 'climateconscious'], [' wärmewende', ' bauwende', 'wärmesektor', 'gebäude', 'wärmewende'], ['konzernstrategie', ' rwetoterplanet', 'nichtmitmeinemgeld', ' weltspartag', 'rwetoterplanet'], ['patienten', 'humor', ' letstalkchange', ' podcast', 'letstalkchange'], ['kempen', 'niederlande', ' nedger', ' wirkönnenmehr', 'nedger'], ['economyforfuture', ' profitunabhängig', 'profitideologie', ' mensch', 'profitunabhängig'], ['childrensday2019', ' day869', ' saveaareyforest', ' savearavallis', 'day869'], ['hintergründe', ' infographiken', ' industry40', 'infographiken'], [' kinderdurchseuchung', ' kinderrechte', 'sicherebildung', 'kinderrechte'], ['poll', ' elections', 'greens', 'democracy'], ['klimaatstaking', 'handsoffourfuture', ' wijstakenmee', '3april'], ['disharavi', 'gotojailwithdisharavi', ' gotoosama', ' freedisharavi'], [' propaganda', 'geoingeniería', ' miraalcielo', 'nwo'], [' media', ' journalistik', 'climatehoax', 'propaganda'], [' utopie', ' schönensonntag', 'zerstörung', 'wachstum'], ['13dicembre', ' facciamorete', 'aritmodelcuore', ' christmasiscoming'], ['stopthemeltdown', ' 6d', 'tiempodeactuar', ' mobilitat'], ['nikolaus', ' neuerwe', 'tanzdemo', 'koeln'], ['caccia', ' incendi', ' stopcaccia', 'siccità'], ['turkeyisonfire', ' jungefrau', ' kipppunkt', 'athensfire'], ['nodecidim', ' vialaietana', ' bicibcn', 'vialaietana'], ['genz', ' niemehrspd', ' earthmonth'], ['bikelife', ' walking', 'bicycle'], ['youthvcan', 'regina', 'saskatchewan'], [' restorearth', 'restorearth', 'ucc'], ['svpol', 'sommar', ' sommarip1'], ['conserve4christmas', 'adventadvocacy', ' conserve4christmas'], [' schnee', 'freiwilligefeuerwehren', 'winteriscoming'], ['greveglobalpeloclima', 'criseclimática', ' nenhumagotamais'], [' crisisclimatica', 'eleccionesalemania', 'crisisclimatica'], ['a100stoppen', 'hohenschönhausen', ' lichtenberg'], ['klimawahl2020', 'muenchen2035', 'rausaufdiestrasse'], ['olympia', ' climatestrikeolympia', 'fridaysforfutureusa'], [' nitratsau', 'bauersuchtfrau', 'agrarextremisten'], ['timepersonoftheyear2019', ' torquaygirlsgrammarschool', ' nithyananda'], ['naziwatchgoe', 'lebensmittel', 'retten'], ['straftaten', ' ideologie', ' dänemark'], ['extitionrebellion', 'volvamoscondignidad', ' volvamosconjusticiaclimática'], ['volt', ' dithmarschen', ' soros'], [' nftfamily', 'nfts', ' dropyournft'], ['healthcareworkers', ' kmk', ' prienruecktritt'], ['transizioneecologica', ' cingolani', ' fffmar19'], ['huelgaclimática', ' zapatistas', 'berlín'], [' noiaa', ' iaa', 'umsganze'], [' youths', 'buxwahaforest', 'buxwaha'], [' singulart', 'abstractexpressionism', 'waadotworld'], ['kanudemo', ' aufswasserfür1komma5', 'luebeck'], [' regionalwert', 'nomireemptypromises', 'landwirtschaftkannklimaschutz'], [' newsmo', 'delhipolice', 'vertical'], ['hirschhausen', ' cosmokontrollverlust', 'cosmokontrollverlust'], ['impfstart', 'kippentrulla', ' unionlässtertrinken'], ['klimabürgerrat', ' wenotme', 'klimarat'], ['ea26', ' educaciónambiental', ' educacionambientalesrevolución'], [' balkonsolar', ' gegenlicht', 'balkon'], [' schwarzwald', 'balkonsolar', 'gegenlicht'], ['ypg', ' ypj', 'palästina'], ['nojusticenopeace', ' precarizacion', 'feminismo'], ['durham', ' ukclimate', 'strike4youth'], [' jokkmokk', ' norrbottencounty', 'lapland'], ['archaeologists', ' museums', ' archaeology'], [' sciencecomics', 'sciart', 'scicomm'], ['rubiesallies', 'rubiesbank', ' digitalbanking'], [' narendramodi', ' rahulgandhi', 'danishkaneria'], [' onelove', 'fridaylituations', ' friday_live'], ['alsfeld', 'twlz', ' deutschunterricht'], [' childrensbook', 'ebook', 'itunes'], [' johnsonlies', 'boristheliar', ' snp'], ['vya', ' vya', ' vaylatoken'], ['riseup', 'klimastreikfueralle', ' augustriseup'], ['maskeauf', ' abstandhalten', ' sexworkersforfuture'], ['bobmarley75', 'earthmonth', ' bobmarley75'], ['greensofa', ' jointhedialogue', 'betd22'], ['lobaubleibt', ' stadtstraße', ' nobau'], ['rc3', 'bitsundbäume', ' fediverse'], ['verkehrsministerkonferenz', ' dannenröderwalde', 'vmk'], ['euusominhavozpeloclima', ' greveglobalpeloclima', ' criseclimática'], ['plastik', 'hanf', ' hanfstattplastik'], ['herrenloswald', ' danni0611', 'danni1211'], ['azeriwarcrimes', 'haram', 'recogniseartsakh'], [' furzedown', 'tooting', 'ffftooting'], ['bunkerboy', ' shepersisted', ' theresistance'], ['comerciojusto', 'thechocolatecase', ' tradefairlivefair'], ['onev1', ' ov1environment'], ['enviro', ' sportecology'], [' sdgactionday2020', 'sportecology'], ['bethechangeyouwanttosee', ' bethechange4earth'], [' overshootday', 'forumrts'], ['speeddating', ' klimawandelspeeddating'], ['ecojogging', ' tgtwittos'], ['cumbresblancas', ' glaciers'], [' eutaxonomy', 'vernunftkraft'], [' agorarai', 'riccardo'], [' streetart', 'innsbruckstreetart'], [' ancientforest', 'oldgrowth'], ['responsibletourism', ' wttcdata'], ['womensclimatestrike', ' democracyonthestreets'], [' dots', 'democracyonthestreets'], [' hahn', 'extincion'], [' schulpflicht', 'disziplin'], [' maskenpflicht', 'schulpflicht'], [' foodforfuture', 'dylanobrien'], [' whitedreadlocks', 'cancelwhitedreadlocks'], [' gállok', 'nomineingallok'], [' kinderdurchseuchungstoppen', 'praesenzpflichtaussetzen'], [' montagsspaziergang', 'omikron'], [' solidarité', 'asile'], ['act4ourkids', ' ourkidsclimate'], [' blabla', '5novembre'], ['gkn', ' alitalia'], [' giocattoli', 'gretino'], [' sicherebildungjetzt', 'teamkinderschutz'], [' diemeuterer', 'toleranznaklar'], ['silvertowntunnel', ' keepbritiantidy'], ['cambiaresistema', 'alitalia'], [' womensclimatestrike', 'dots'], ['climatevandals', ' antinuclearism'], [' steinibleibt', 'storckerweiterung'], [' fffaltkreishalle', 'steinibleibt'], [' bolsonarocorrupto', 'bolsonaromentiroso'], [' bolsonaronacadeia', 'bolsonarocorrupto'], [' klimademo', 'maskenpflicht'], [' stopmisinformation', 'settlercolonialism'], [' ltw21', 'einewelt'], [' 山口県', '環境問題'], [' unrechtsstaat', 'systemfrage'], [' actionsforfuture', 'regenerate21'], [' genz', 'notaprilfools'], [' klimawähltgerechtigkeit', 'wetteraukreis'], [' zukunftneudenken', 'sicherebildungjetzt'], ['internationalsnowleopardday', ' snowleopardday'], ['altmaierknick', ' sigmarsenke'], [' altmaierabbruch', 'sigmarsenke'], [' intensament', 'escolacompromesa'], [' ravaleducacio', 'intensament'], [' onlinepetitionen', 'niemehrspd'], [' digichat', 'onlinepetitionen'], [' dielinkesachsen', 'dielinkeep'], [' besserezukunft', 'forfuture'], [' unterricht', 'besserezukunft'], [' coronaschule', 'unterricht'], ['begrenzungsinitiative', ' bgija'], [' sozialdemos', 'antirassismus'], [' paritätischerwohlfahrtsverband', 'sozialdemos'], [' klimaschutzheißtantifa', 'blocktddz'], [' ispeakupfortheplanet', 'worldenviornmentday'], [' freerangers', 'villagers'], ['santcugat', 'emergènciaclimàtica'], [' noipreg', 'ipreg'], ['thereisnoalternative', ' fröhlicherevolution'], [' fridaysforfuturevienna', 'fröhlicherevolution'], [' handelsregister', 'unternehmen'], ['vendredilecture', ' leadership540'], [' krzh', 'kantonsrat'], ['mattscheibe', ' markuslanz'], [' dailycommuter', 'sprintvermoegen'], [' hhbue20', 'neudenken'], ['virusleugner', ' klimaleugnern'], [' energytwitter', 'antinuclearism'], [' poll', 'energytwitter'], [' fresse2019', 'markuslanz'], [' tarot', 'fridayfire'], [' witchcraft', 'tarot'], [' зеленареволуција', 'respect'], [' lgbt', 'islam'], [' nibras', 'lgbt'], [' gerusalemme', 'nibras'], ['segre', ' piazzasangiovanni'], [' weltklimakonferenz', 'finanztransaktionssteuer'], [' pumaseléctricos', 'bolivia'], ['trittbrettfahrer', ' verschwörungstheorien'], [' plasticfreeschools', 'torquaygirlsgrammarschool'], ['lavagabonde', 'weltklimakonferenz'], [' kurden', 'studiom'], [' syrien', 'kurden'], [' andrewyang', 'petebuttigieg'], [' middleschool', 'nb6thgrade'], [' dhanteras', 'diwali'], [' religions', 'dhanteras'], ['directorhbr', ' ahadrazamir'], ['écologie', ' giec'], ['crazymistersketch', ' innsbruckstreetart'], ['btc', ' entrepreneurship'], [' airdrops', 'entrepreneurship'], ['apritegliocchi', ' piazzapulitala7'], ['fridaythought', ' samagam2022'], [' nftfam', 'nftfamily'], [' goodvibesonly', 'nftfam'], ['waahmuz', ' mithileshbaria'], [' urdu', 'mithileshbaria'], [' urdupoetry', 'urdu'], [' shair', 'urdupoetry'], [' rishta', 'shair'], [' thursdaymorning', 'rishta'], [' voiceover', 'thursdaymorning'], ['ippc', ' kernkraft'], [' dertestmussweg', 'maskenrunter'], [' muenchenstehtauf', 'dertestmussweg'], [' muc0204', 'muenchenstehtauf'], [' muenchen3003', 'muc0204'], [' muc3003', 'muenchen3003'], [' muenchenaufgehts', 'muc3003'], [' schwereschuld', 'prienruecktritt'], [' twankenhaus4change', 'schwereschuld'], [' patienten', 'twankenhaus4change'], ['kleinaberfein', ' muskelkraftstattfossileenergie'], [' keincentfürputinskrieg', 'muskelkraftstattfossileenergie'], [' zeitgemäß', 'keincentfürputinskrieg'], ['senckenberg', 'ffm2503'], ['achgut', ' donalphonso'], ['solidaritaetsverweigerer', ' putinlover'], [' impfgegner', 'putinlover'], [' pandemieleugner', 'impfgegner'], ['sturm', ' zufall'], [' klimaquerdenken', 'zufall'], [' ylenia', 'klimaquerdenken'], [' zeynep', 'ylenia'], [' orkan', 'zeynep'], [' seltensovielschwachsinngehört', 'orkan'], ['bundesrat', ' traurig'], ['roman', ' neuerscheinung'], [' sciencefiction', 'neuerscheinung'], [' futurefiction', 'sciencefiction'], ['venom', ' venomlettherebecarnage'], [' 5thofnovember', 'venomlettherebecarnage'], [' venomart', '5thofnovember'], ['gotoglasgow', ' savetheclimate'], ['bicibús', ' garrotxa'], [' boscosperlasalut', 'garrotxa'], [' medievaltwitter', 'medievalmanuscripts'], ['virtualreality', ' augmentedreality'], [' realestate', 'augmentedreality'], [' realestatemarket', 'realestate'], [' 360vrtour', 'realestatemarket'], [' virtualtours', '360vrtour'], [' 3dtours', 'virtualtours'], [' vrtour', '3dtours'], [' vr', 'vrtour'], [' realtor', 'vr'], [' marketingdigital', 'realtor'], ['happyday', ' goodnewstoday'], ['ecologistas', ' alemania'], [' elecciones', 'alemania'], [' berlín', 'elecciones'], ['volimproklima', ' stavkazaklima'], [' devsforfuture', 'developers4future'], [' programminghumor', 'devsforfuture'], [' javascript', 'programminghumor'], ['vortrag', ' stadtstrasse'], [' lobauautobahn', 'stadtstrasse'], [' nolobau', 'lobauautobahn'], ['cingolani', ' radicalchic'], ['cryptocurrency', ' cryptotrading'], [' sandimgetriebe', 'iaa'], [' carpitalism', 'sandimgetriebe'], [' communismforfuture', 'carpitalism'], ['cingoleni', ' g20italy'], ['dpolghh', ' ella'], ['greenghanaproject', ' greenghanaproject'], ['urbanismetactic', ' revoltaescolar'], [' camíescolar', 'revoltaescolar'], [' caminoescolar', 'camíescolar'], ['futuremobilitysummit', ' superwahljahr'], [' teamlaura', 'april12th'], [' votelaura', 'teamlaura'], [' aberdeen', 'votelaura'], [' sp21', 'aberdeen'], [' se21', 'sp21'], [' bruce', 'se21'], ['dayoftheforest', ' billiontreetsumami'], ['mobilität', ' rad'], [' öffentlicherraum', 'rad'], ['globalmobilityservice', ' ドローイング'], [' 朝ジャズ', 'ドローイング'], [' ニューヨーク', '朝ジャズ'], [' 牛乳石鹸', 'ニューヨーク'], [' 朝クラシック', '牛乳石鹸'], [' z世代', '朝クラシック'], [' jwave', 'z世代'], [' humanrightsviolations', 'freedisharavi'], ['derechosdelclima', ' derechosanimales'], [' aktivismus', 'narrative'], ['foodfriday', ' recipeoftheday'], ['cleancarsmn', ' ourmnclimate'], ['pozilei', ' fahrradbubblekiel'], ['venro', ' 25jahrevenro'], ['karabakh', ' sanctionarmenia'], ['quartcinturó', ' ods2030'], [' museum', 'leibnizmuseen'], ['umdenken', ' ourjobtobedone'], [' ojtbd', 'ourjobtobedone'], [' socialresponsibilty', 'ojtbd'], ['nobel', ' piazzadelpopolo'], ['tededirnekoleji', ' tedliolmakayrıcalıktır'], [' protestaactiva', 'ecobotellas'], [' planetaoplástico', 'protestaactiva'], ['walkamileforclimate', ' tooting'], ['crestedaily', ' crestemedia'], [' letsgrowtogether', 'crestemedia'], [' crestefamily', 'letsgrowtogether'], [' gretasgamlingar', 'fossilförbud'], ['fabulousfinn', ' finnslawpart2'], [' thinbluepaw', 'finnslawpart2'], ['jwave', ' sky813'], ['kfz', 'csd'], ['eyeforhk', ' freeagnes'], [' freeappledaily', 'freeagnes'], ['buchtipp', ' megamaschine'], [' greatreset', 'megamaschine'], [' conspiracy', 'greatreset'], ['femqualities', ' relationship'], ['letindiabreathe', ' thereisnoearthb'], [' environmentimpactassessment2020', 'thereisnoearthb'], ['bts', ' btsarmy'], ['leibnizmagazin', 'museum'], ['tukslaw', ' rescuedog'], [' sign', 'rescuedog'], [' petition', 'sign'], ['austrianairline', ' zugstrecken'], ['i_am_dehing_patkai', ' stop_coal_mining'], ['accioglobalpelclima24a', ' emergènciaclimàtica'], [' flattentheco2curve', 'recoveryfunds'], ['citizenscience', ' bürgeruniversität'], [' grünegörlitz', 'rettetdasklima'], ['lebanon', ' circular'], ['sossaturaday', ' saveourseas'], [' sosdigital', 'saveourseas'], ['ecotourism', ' cbto'], ['derechosdeniñosyniñas', ' saludparatodos'], ['utopie', ' wachstum'], [' denkmaldrübernach', 'retweetplease'], [' andieeigenenasefassen', 'denkmaldrübernach'], [' isso', 'andieeigenenasefassen'], [' nichtakleubereinenkammscheren', 'isso'], [' gamigreenglobe', 'norrbottencounty'], [' lka', 'gamigreenglobe'], [' swe', 'lka'], [' nor', 'swe'], [' fin', 'nor'], [' can', 'fin'], ['thuehringen', ' cduthueringen'], ['दिव्य_शिशु_संस्कार', ' asha'], [' chitradurga', 'asha'], [' saintforhumanity', 'chitradurga'], [' bapuji', 'saintforhumanity'], ['sina', ' radtkeleaks'], [' bushfiresaustralia', 'facemask'], [' artists', 'bushfiresaustralia'], [' openairmuseum', 'archaeology'], [' iltempodioshø', 'piazzadelpopolo'], [' osho', 'iltempodioshø'], ['klimaatoptimist', 'milieudefensie'], ['forsa', ' ingolstadt'], [' brücke', 'ingolstadt'], [' tunnel', 'brücke'], [' straße', 'tunnel'], [' auwald', 'straße'], [' ffh', 'auwald'], [' spa', 'ffh'], [' natura2000', 'spa'], [' jungwählern', 'donaukurier'], ['moinmoin', ' daswirddeintag'], ['fridaysforfuturesydney', ' sydney'], ['lomejorde2019', ' campeonesdelatierra'], [' राष्ट्रवादिराठौर', 'rahulgandhi'], ['sciencerising', ' agu2019'], ['newday', ' loveourearth'], [' courage', 'artist'], [' fridayreads', 'courage'], [' reggae', 'onelove'], [' reggaemusic', 'reggae'], [' rastafari', 'reggaemusic'], [' reggaevibes', 'rastafari'], [' rootsreggae', 'reggaevibes'], [' rasta', 'rootsreggae'], [' jahlove', 'rasta'], [' jahbless', 'jahlove'], [' positivevibrations', 'jahbless'], ['kielahoi', ' ksvosn'], ['homöopathen', ' globukalypse'], ['maltempo', ' maltemporoma'], ['donalphonso', ' spdmitgliederentscheid'], [' djvielfalt', 'spdmitgliederentscheid'], ['fridaysforfuturethunderbay', ' healthyplanet'], ['enqueteki', ' ki'], ['dd2911', 'dd2503'], ['burningpollutionnosolution', ' wastetoenergy'], ['museums', ' museumsforfutureaustria'], ['sijoitanuoriin', ' äläostamitään'], [' whitemonday', 'äläostamitään'], ['besetzung', ' hszfuersklima'], ['nelsonhenderson', ' bauleni'], [' keepbaulenigreen', 'bauleni'], [' germanyinzambia', 'keepbaulenigreen'], ['elmeb', ' phheidelberg'], ['phheidelberg', ' bildungbitte'], [' ieselparador', 'climatehope'], [' almería', 'ieselparador'], [' rteonclimate', 'hotair'], ['changementsclimatiques', ' grèveclimat'], ['conejovalley', ' maskup'], [' thousandoaks', 'maskup'], ['delhi', ' airquality'], ['youtholympics', ' lausanne2020'], ['casepopolari', ' aler'], [' 29n', 'aler'], ['theoffice', 'la'], ['germanarmy', ' niger'], [' mali', 'niger'], [' germanarmy', 'mali'], ['militärausgaben', ' militär'], [' ecocidelaw', 'endecocide'], ['facciamorete', 'saveourplanet'], ['özdemir', 'ep'], ['plastictap', ' plasticintoxication'], [' plasticpollute', 'plasticintoxication'], [' skostrejkförklimatet', 'malmö'], ['sarajevo', ' polution'], [' lecktmich', 'fridaysforco2'], [' gambia', 'batti'], ['klimathandlingsplanen', ' klimatnedbrytning'], ['papafrancesco', ' fratellitutti'], ['infotweet', ' covidleugner'], [' schwurbel', 'covidleugner'], ['draghi', ' lamorgese'], ['siaboliamolacaccia', ' referendumeutanasialegale'], [' referendumcontrolacaccia', 'referendumeutanasialegale'], [' referendumnogreenpass', 'referendumcontrolacaccia'], [' ilfordphoto', 'flowerphotography'], [' ilfordfp5', 'ilfordphoto'], [' 35mm', 'ilfordfp5'], ['azzolinabocciata', ' gretini'], ['changeforfuture', ' ecocep'], [' islam', 'migranti'], ['ecologismo', ' veganismo'], ['londonbridge', ' terrorismo'], [' attentato', 'terrorismo'], [' londra', 'attentato'], [' conte', 'londra'], [' mes', 'conte'], [' dimaio', 'mes'], [' ikea', 'dimaio'], [' newmusicfriday', 'fridayfollow'], [' bike', 'climatefriendly'], [' walk', 'bike'], ['linksgrüneintelligenz', 'linkelebensluegen'], ['journalismus', ' aktionismus'], ['nachhaltige', ' konjunkturprogramme'], ['ingenieureinrente', 'erneuerbareenergie'], [' futuregeneration', 'grandchildren'], ['corgi', ' corgicrew'], [' winterdays', 'outerhebrides'], [' renwableenergy', 'winterdays'], [' nithyananditha', 'nithyananda'], [' endthecageage', 'bangestationcrates'], [' pigs', 'endthecageage'], ['bäumeforfuture', 'dürrejahr'], ['klimaringvorlesung', ' climatecolonialism'], ['klimarungvorlesung', 'climatecolonialism'], ['21febbraio', ' api'], ['15feb2020', ' awarenesstalk'], [' lahorepressclub', 'awarenesstalk'], [' 4pmto5pm', 'lahorepressclub'], [' saanslenedo', '4pmto5pm'], [' lahoresmog', 'saanslenedo'], ['suffragette', ' protests'], ['wearamasktosavelives', ' sos'], [' takeclimateaction', 'sos'], ['avellino', ' uds'], ['tatort', ' fossileimagination'], ['neutralität', ' lebensgrundlage'], ['qcr', ' rainews24'], ['climatevalentine', ' kincadefire'], ['石炭火力発電を増やすって本当ですか', ' 世界気候アクション'], ['branchandbound', ' mathematik'], [' lecturesforfuture', 'mathematik'], [' optimierung', 'lecturesforfuture'], [' optimization', 'optimierung'], ['brexitshambles', ' brexitreality'], [' brexit50p', 'brexitreality'], [' borisbrexit', 'brexit50p'], [' notmybrexit', 'borisbrexit'], [' boristheliar', 'notmybrexit'], ['ismisebrigid', ' kildareabu'], ['jenifa', ' jenifasdiary'], [' fun', 'jenifasdiary'], [' ericaunitesafrica', 'fun'], [' ieltswithexamplanet', 'ericaunitesafrica'], [' vaylaiens', 'vaylatoken'], ['poetry', ' zorasarahcreates'], [' zorasarahblogs', 'zorasarahcreates'], [' onmusicvideo', 'zorasarahblogs'], [' asprinkleofsorcery', 'onmusicvideo'], [' zorahosen', 'asprinkleofsorcery'], [' retweet', 'zorahosen'], ['ratm', ' notmeus'], [' bernie2020', 'notmeus'], [' bernieorbust', 'bernie2020'], [' feelthebern', 'bernieorbust'], [' berniesanders', 'feelthebern'], [' bernieblackout', 'berniesanders'], [' berniesanders2020', 'bernieblackout'], [' berniesbackinmn', 'berniesanders2020'], [' democrats', 'berniesbackinmn'], [' berniesback', 'democrats'], [' berniebeatstrump', 'berniesback'], [' bernie', 'berniebeatstrump'], [' bernieisback', 'bernie'], [' bernieyellsforus', 'bernieisback'], ['heisln', ' radelnforfuture'], [' weltfahrradtag', 'radelnforfuture'], ['kreislaufwirtschaft', ' c2c'], [' onted', 'topoli'], [' katastrophenschutz', 'flutopfer'], ['giveaway', ' fantasy'], [' pnr', 'fantasy'], [' mystery', 'pnr'], [' wrpbks', 'mystery'], ['cartoon', ' walliserbote'], [' protectantarctica', 'atcm'], ['nupes', ' forumrts'], ['bsf', ' bsftraining'], [' bsfwarrior', 'bsftraining'], [' thartraine', 'bsfwarrior'], [' tharwarrior', 'thartraine'], [' instridewiththefuture', 'tharwarrior'], ['gemeinsamfuersklima', ' konzernklagerechte'], ['miamigp', ' actnoworswimlater'], ['bluewave2022', ' neveragaingop'], [' neverforgetjanuary6th', 'neveragaingop'], [' womensmarch', 'neverforgetjanuary6th'], ['consumerism', ' ressourcenschonung'], ['landtagswahl', ' sh'], ['chegadepromessasvazias', ' justiçaclimatica'], ['31octubre', ' 12noviembre'], [' escocia', '12noviembre'], [' reinounido', 'escocia'], ['kmk', ' teamkinderschutz'], ['silverhair', ' hkpolicebrutality'], [' hongkongers', 'hkpolicebrutality'], [' soshk', 'hongkongers'], [' hongkongprotests', 'soshk'], ['rio', ' kyoto'], ['katjariemann', ' jellahaase'], [' lauratonke', 'jellahaase'], ['postpandemischestheater', 'lauratonke'], [' chance', 'sorgearbeit'], ['seenotretter', ' schlepperorganisation'], [' lol', 'schlepperorganisation'], [' wölki', 'lol'], ['cgil', 'nogreenpass'], ['alexsaab', ' alexgozadeinmunidad'], [' airdrop', 'dropyournft'], [' nftdrops', 'airdrop'], ['heterosex', ' enthaltungspaket'], ['baerbelbas', ' emiliafester'], ['woke', ' extremismi'], ['umweltzerstörungen', ' infektionskrankheiten'], [' esistzeit', 'infektionskrankheiten'], [' glp', 'esistzeit'], ['ambodenbleiben', ' staygrounded'], ['deutschlandfliegtnicht', 'staygrounded'], ['vegispowerful', ' worldvegetarianday'], ['narmada', ' narmadajayanti'], ['speechlive', ' ニュースレター'], [' ottowa', 'freiebürgerkassel'], ['rejectteck', ' ourtime'], ['climatefastpray', ' 2937daysleft'], ['actorslife', ' headshots'], [' shoplocal', 'whitemonday'], [' repamera', 'shoplocal'], ['monitor', ' dieanstait'], ['wasser', ' lande'], [' steinkohlekraftwerk', 'lande'], ['hanfkalk', ' nutzhanf'], [' hanf', 'nutzhanf'], ['dann', ' danna'], [' timeisrunningout', 'youthclimatemarch'], [' runningouttatime', 'timeisrunningout'], [' goveganfortheplanet', 'runningouttatime'], ['bio', ' homöopathie'], ['agrarpolitik', ' artenvielfalt'], [' biolandbau', 'artenvielfalt'], [' cap', 'biolandbau'], ['rbciskillingme', ' coderedforclimate'], ['nowruz', ' iran'], [' ایران', 'iran'], [' نوروز', 'ایران'], ['myleaderrukshmani', ' rukshmanikumari'], [' mylife', 'rukshmanikumari'], ['geceyebirsözbırak', ' cuma'], ['petrolshortage', ' petrol'], [' fuelshortage', 'petrol'], ['pensierirandagi', ' salalettura'], ['caritas', ' hattingen'], [' schwelm', 'hattingen'], ['rivers', ' climatestrikeweek_1'], ['jetztzusammen', ' wirzusammen'], ['nports', ' fontavis'], ['amazonie', ' uemercosur'], ['verbünden', ' politischerwandel'], ['aserbaidschan', ' umid'], ['klimaatzaak', ' duitsland'], [' napoleonseck', 'hegaualb'], ['renthag', 'napoleonseck'], ['blockade', ' bleiberechtfueralle'], ['antigenschnelltest', ' plastikmüll'], ['dankefürgarnichts', ' philippemueller'], ['50hertz', ' westayconnected'], [' stromnetzsicherheit', 'westayconnected'], ['wikipediaschreibtgeschichte', 'wikipedia'], ['ostseeskandal', ' fehmarnbelttunnel'], [' keinbelttunnel', 'fehmarnbelttunnel'], ['100ee30', ' energiewenderocken'], ['trutherbot', ' svenskpolitik'], ['3gennaio', ' 18anni'], [' sostenibilitat', 'mobilitat'], ['saveanakkayam', ' anakkayam'], ['co2neutral', ' gehtso1komma5'], ['brescia', ' mediterranea'], [' teachers4climate', 'delaatstewaarschuwing'], ['act4climate', ' youthlead'], ['trumpf', ' edletropfen'], [' unstoppable', 'wearegolden2019'], ['wearealltreatypeople', ' alleyesonmikmaki'], [' streatham', 'furzedown'], [' ffftooting', 'streatham'], ['jesus', ' grace'], ['terroranschlag', ' ablenkungsmanöver'], ['mainbhifff', ' resignjavdekar'], ['economics', ' pseudoscience'], [' hoax', 'pseudoscience'], ['theresistance', 'shepersisted'], ['unitedwefuture', ' gesellschaftumdenken'], [' unitedwetalk', 'gesellschaftumdenken'], ['occupywallstreet', ' meetoo'], [' blacklivesmatters', 'meetoo'], ['digitale', ' nachhhaltige'], ['salavirtual', ' semanaambiental'], [' vivelacinematecaencasa', 'semanaambiental'], [' idartessemudaatucasa', 'vivelacinematecaencasa'], [' startwith1thing', 'idartessemudaatucasa'], ['mobilprämiefüralle', 'wenotme'], ['sprühkreide', ' bayer'], ['menstrualhygiene', ' mhday2020'], [' itstimeforaction', 'mhday2020'], [' periodpoverty', 'itstimeforaction'], [' suaversspeak', 'periodpoverty'], [' menstruationmatters', 'suaversspeak'], ['museumweek2020', ' msnvenezia'], [' togetherness', 'msnvenezia'], ['fridayeve', ' knowledgeispower'], ['saltoextra', ' 15maggio'], ['bancodeespaña', ' stopcaredrainers'], ['vacacionesvirtuales', ' quedateencasa'], [' viernesdeganarseguidores', 'quedateencasa'], ['trumpisnotadoctor', ' plomo19'], ['schulboykottde', ' schoolstrikegermany'], [' laschetsschulklohs', 'schoolstrikegermany'], ['unitedwetalk', ' pointzero'], ['climatehealth', ' kidsclimatestrike'], ['24mar', ' tvvnoticias'], ['vernunft', 'bildungsnotstand'], ['saubereumwelttrotzcorona', ' müllsammeln'], ['airesacondicionados', ' 2900lis'], [' 15mclimático', '2900lis'], ['deutschlandkurier', ' oliverflesch'], [' rockandrollradio', 'supportsmallerstreamers'], [' nowplaying', 'rockandrollradio'], ['palebluedot', ' palebluedot30'], ['emerxenciaclimática', ' erasmusgns'], [' greennewschool', 'erasmusgns'], ['knittingscience', ' knitting'], [' dataviz', 'knitting'], ['urijiwallet', ' beurijinal'], ['alassio', ' varigotti'], [' liguria', 'varigotti'], [' parteien', 'parlamente'], ['asperger', ' totesmoutv3'], ['bushfire', ' smoke'], [' summer', 'smoke'], [' govt', 'summer'], ['minutoaminuto', ' mn_lpz'], ['polizeibremen', ' bürgerweide'], ['carolarackete', ' hambachforest'], ['12062020olympia', ' olympiastadionberlin'], ['uber', ' traffic']] \n",
      "Configuration: {'weight': 'weight', 'resolution': 0.8, 'randomize': None} \n",
      "Scoring: FitnessResult(min=None, max=None, score=0.48334074153108975, std=None)\n"
     ]
    }
   ],
   "source": [
    "print(\"Communities:\\n %s \\nConfiguration: %s \\nScoring: %s\" %(louvain_coms.communities, louvain_coms.method_parameters, scoring))"
   ]
  },
  {
   "cell_type": "code",
   "execution_count": 13,
   "id": "f3f18596",
   "metadata": {},
   "outputs": [],
   "source": [
    "louvain_coms = cdlib.algorithms.louvain(G, weight = \"Count\", resolution=0.9)"
   ]
  },
  {
   "cell_type": "code",
   "execution_count": 14,
   "id": "caf4ff59",
   "metadata": {},
   "outputs": [],
   "source": [
    "with open(community_path+'louvain.pickle', 'wb') as f:\n",
    "    pickle.dump(louvain_coms, f)"
   ]
  },
  {
   "cell_type": "code",
   "execution_count": 18,
   "id": "354ee5e9",
   "metadata": {},
   "outputs": [
    {
     "name": "stdout",
     "output_type": "stream",
     "text": [
      "\u001b[1mAverage Internal Degree:\u001b[0m FitnessResult(min=1.0, max=50.63281958295558, score=3.3543273255100408, std=6.695364830825016)\n",
      "\u001b[1mInternal Edge Density:\u001b[0m FitnessResult(min=0.0038061811996103812, max=1.0, score=0.6211737899151399, std=0.32039482961085824)\n",
      "\u001b[1mConductance:\u001b[0m FitnessResult(min=0.0, max=0.5384615384615384, score=0.17160571027999968, std=0.18262745115443188)\n",
      "\u001b[1mErdos Renyi Modularity:\u001b[0m FitnessResult(min=None, max=None, score=0.520012366202634, std=None)\n",
      "\u001b[1mNewman Girvan Modularity:\u001b[0m FitnessResult(min=None, max=None, score=0.47541037516420154, std=None)\n",
      "\u001b[1mModularity Density:\u001b[0m FitnessResult(min=None, max=None, score=321.6550180144551, std=None)\n",
      "\u001b[1mZ Modularity:\u001b[0m FitnessResult(min=None, max=None, score=1.0500992411076053, std=None)\n",
      "\u001b[1mTriangle Partecipation Ratio:\u001b[0m FitnessResult(min=0.0, max=1.0, score=0.16611483837509616, std=0.3295860099877776)\n",
      "\u001b[1mN_Community:\u001b[0m 156\n",
      "\u001b[1mMax_Dim_Community:\u001b[0m 5572\n"
     ]
    }
   ],
   "source": [
    "print(print_bold_str(\"Average Internal Degree:\"), louvain_coms.average_internal_degree())\n",
    "print(print_bold_str(\"Internal Edge Density:\"), louvain_coms.internal_edge_density())\n",
    "print(print_bold_str(\"Conductance:\"), louvain_coms.conductance())\n",
    "print(print_bold_str(\"Erdos Renyi Modularity:\"), louvain_coms.erdos_renyi_modularity())\n",
    "print(print_bold_str(\"Newman Girvan Modularity:\"), louvain_coms.newman_girvan_modularity())\n",
    "print(print_bold_str(\"Modularity Density:\"), louvain_coms.modularity_density())\n",
    "print(print_bold_str(\"Z Modularity:\"), louvain_coms.z_modularity())\n",
    "print(print_bold_str(\"Triangle Partecipation Ratio:\"), louvain_coms.triangle_participation_ratio())\n",
    "\n",
    "print(print_bold_str(\"N_Community:\"), len(louvain_coms.communities))\n",
    "\n",
    "max_com_len = 0\n",
    "for com in louvain_coms.communities:\n",
    "    if len(com) > max_com_len:\n",
    "        max_com_len = len(com)\n",
    "print(print_bold_str(\"Max_Dim_Community:\"), max_com_len)   "
   ]
  },
  {
   "cell_type": "code",
   "execution_count": 19,
   "id": "be5301fd",
   "metadata": {},
   "outputs": [],
   "source": [
    "louvain_tuple = [tuple(x) for x in louvain_coms.communities]\n"
   ]
  },
  {
   "cell_type": "code",
   "execution_count": 20,
   "id": "ce49fea5",
   "metadata": {},
   "outputs": [
    {
     "ename": "NameError",
     "evalue": "name 'plot_communities_dimentions' is not defined",
     "output_type": "error",
     "traceback": [
      "\u001b[1;31m---------------------------------------------------------------------------\u001b[0m",
      "\u001b[1;31mNameError\u001b[0m                                 Traceback (most recent call last)",
      "\u001b[1;32m<ipython-input-20-5436b4b434da>\u001b[0m in \u001b[0;36m<module>\u001b[1;34m\u001b[0m\n\u001b[0;32m      1\u001b[0m \u001b[1;31m# Analizziamo la cardinalità delle communities\u001b[0m\u001b[1;33m\u001b[0m\u001b[1;33m\u001b[0m\u001b[1;33m\u001b[0m\u001b[0m\n\u001b[1;32m----> 2\u001b[1;33m \u001b[0mplot_communities_dimentions\u001b[0m\u001b[1;33m(\u001b[0m\u001b[0mlouvain_tuple\u001b[0m\u001b[1;33m)\u001b[0m\u001b[1;33m\u001b[0m\u001b[1;33m\u001b[0m\u001b[0m\n\u001b[0m",
      "\u001b[1;31mNameError\u001b[0m: name 'plot_communities_dimentions' is not defined"
     ]
    }
   ],
   "source": [
    "# Analizziamo la cardinalità delle communities\n",
    "plot_communities_dimentions(louvain_tuple)"
   ]
  },
  {
   "cell_type": "code",
   "execution_count": 28,
   "id": "37263c95",
   "metadata": {},
   "outputs": [
    {
     "data": {
      "text/html": [
       "<div>\n",
       "<style scoped>\n",
       "    .dataframe tbody tr th:only-of-type {\n",
       "        vertical-align: middle;\n",
       "    }\n",
       "\n",
       "    .dataframe tbody tr th {\n",
       "        vertical-align: top;\n",
       "    }\n",
       "\n",
       "    .dataframe thead th {\n",
       "        text-align: right;\n",
       "    }\n",
       "</style>\n",
       "<table border=\"1\" class=\"dataframe\">\n",
       "  <thead>\n",
       "    <tr style=\"text-align: right;\">\n",
       "      <th></th>\n",
       "      <th>min</th>\n",
       "      <th>max</th>\n",
       "      <th>avg</th>\n",
       "      <th>std</th>\n",
       "    </tr>\n",
       "    <tr>\n",
       "      <th>Index</th>\n",
       "      <th></th>\n",
       "      <th></th>\n",
       "      <th></th>\n",
       "      <th></th>\n",
       "    </tr>\n",
       "  </thead>\n",
       "  <tbody>\n",
       "    <tr>\n",
       "      <th>Internal Density</th>\n",
       "      <td>0.500000</td>\n",
       "      <td>2.000000</td>\n",
       "      <td>0.916667</td>\n",
       "      <td>0.629153</td>\n",
       "    </tr>\n",
       "    <tr>\n",
       "      <th>Edges inside</th>\n",
       "      <td>2.000000</td>\n",
       "      <td>5.000000</td>\n",
       "      <td>3.000000</td>\n",
       "      <td>1.224745</td>\n",
       "    </tr>\n",
       "    <tr>\n",
       "      <th>Average Degree</th>\n",
       "      <td>1.333333</td>\n",
       "      <td>2.000000</td>\n",
       "      <td>1.708333</td>\n",
       "      <td>0.297560</td>\n",
       "    </tr>\n",
       "    <tr>\n",
       "      <th>FOMD</th>\n",
       "      <td>0.200000</td>\n",
       "      <td>0.500000</td>\n",
       "      <td>0.383333</td>\n",
       "      <td>0.125831</td>\n",
       "    </tr>\n",
       "    <tr>\n",
       "      <th>TPR</th>\n",
       "      <td>0.000000</td>\n",
       "      <td>0.000000</td>\n",
       "      <td>0.000000</td>\n",
       "      <td>0.000000</td>\n",
       "    </tr>\n",
       "    <tr>\n",
       "      <th>Expansion</th>\n",
       "      <td>0.500000</td>\n",
       "      <td>1.000000</td>\n",
       "      <td>0.875000</td>\n",
       "      <td>0.216506</td>\n",
       "    </tr>\n",
       "    <tr>\n",
       "      <th>Cut Ratio</th>\n",
       "      <td>0.050000</td>\n",
       "      <td>0.111111</td>\n",
       "      <td>0.083838</td>\n",
       "      <td>0.022018</td>\n",
       "    </tr>\n",
       "    <tr>\n",
       "      <th>Conductance</th>\n",
       "      <td>0.250000</td>\n",
       "      <td>0.428571</td>\n",
       "      <td>0.336310</td>\n",
       "      <td>0.063205</td>\n",
       "    </tr>\n",
       "    <tr>\n",
       "      <th>Normalized Cut</th>\n",
       "      <td>0.312500</td>\n",
       "      <td>0.514286</td>\n",
       "      <td>0.428392</td>\n",
       "      <td>0.081407</td>\n",
       "    </tr>\n",
       "    <tr>\n",
       "      <th>Maximum-ODF</th>\n",
       "      <td>1.000000</td>\n",
       "      <td>4.000000</td>\n",
       "      <td>2.000000</td>\n",
       "      <td>1.224745</td>\n",
       "    </tr>\n",
       "    <tr>\n",
       "      <th>Average-ODF</th>\n",
       "      <td>0.500000</td>\n",
       "      <td>1.000000</td>\n",
       "      <td>0.875000</td>\n",
       "      <td>0.216506</td>\n",
       "    </tr>\n",
       "    <tr>\n",
       "      <th>Flake-ODF</th>\n",
       "      <td>0.000000</td>\n",
       "      <td>0.333333</td>\n",
       "      <td>0.133333</td>\n",
       "      <td>0.141421</td>\n",
       "    </tr>\n",
       "  </tbody>\n",
       "</table>\n",
       "</div>"
      ],
      "text/plain": [
       "                       min       max       avg       std\n",
       "Index                                                   \n",
       "Internal Density  0.500000  2.000000  0.916667  0.629153\n",
       "Edges inside      2.000000  5.000000  3.000000  1.224745\n",
       "Average Degree    1.333333  2.000000  1.708333  0.297560\n",
       "FOMD              0.200000  0.500000  0.383333  0.125831\n",
       "TPR               0.000000  0.000000  0.000000  0.000000\n",
       "Expansion         0.500000  1.000000  0.875000  0.216506\n",
       "Cut Ratio         0.050000  0.111111  0.083838  0.022018\n",
       "Conductance       0.250000  0.428571  0.336310  0.063205\n",
       "Normalized Cut    0.312500  0.514286  0.428392  0.081407\n",
       "Maximum-ODF       1.000000  4.000000  2.000000  1.224745\n",
       "Average-ODF       0.500000  1.000000  0.875000  0.216506\n",
       "Flake-ODF         0.000000  0.333333  0.133333  0.141421"
      ]
     },
     "execution_count": 28,
     "metadata": {},
     "output_type": "execute_result"
    }
   ],
   "source": [
    "results = pquality.pquality_summary(G, louvain_tuple)\n",
    "results['Indexes']"
   ]
  },
  {
   "cell_type": "code",
   "execution_count": 29,
   "id": "a318ed24",
   "metadata": {},
   "outputs": [
    {
     "data": {
      "text/html": [
       "<div>\n",
       "<style scoped>\n",
       "    .dataframe tbody tr th:only-of-type {\n",
       "        vertical-align: middle;\n",
       "    }\n",
       "\n",
       "    .dataframe tbody tr th {\n",
       "        vertical-align: top;\n",
       "    }\n",
       "\n",
       "    .dataframe thead th {\n",
       "        text-align: right;\n",
       "    }\n",
       "</style>\n",
       "<table border=\"1\" class=\"dataframe\">\n",
       "  <thead>\n",
       "    <tr style=\"text-align: right;\">\n",
       "      <th></th>\n",
       "      <th>value</th>\n",
       "    </tr>\n",
       "    <tr>\n",
       "      <th>Index</th>\n",
       "      <th></th>\n",
       "    </tr>\n",
       "  </thead>\n",
       "  <tbody>\n",
       "    <tr>\n",
       "      <th>Modularity (no overlap)</th>\n",
       "      <td>0.378086</td>\n",
       "    </tr>\n",
       "  </tbody>\n",
       "</table>\n",
       "</div>"
      ],
      "text/plain": [
       "                            value\n",
       "Index                            \n",
       "Modularity (no overlap)  0.378086"
      ]
     },
     "execution_count": 29,
     "metadata": {},
     "output_type": "execute_result"
    }
   ],
   "source": [
    "results['Modularity']"
   ]
  },
  {
   "cell_type": "markdown",
   "id": "7e092cc6",
   "metadata": {},
   "source": [
    "# 2 - Label Propagation"
   ]
  },
  {
   "cell_type": "code",
   "execution_count": 30,
   "id": "cc8eacb4",
   "metadata": {},
   "outputs": [],
   "source": [
    "labelprop_coms = algorithms.label_propagation(G)"
   ]
  },
  {
   "cell_type": "code",
   "execution_count": 31,
   "id": "4de82b89",
   "metadata": {},
   "outputs": [
    {
     "name": "stdout",
     "output_type": "stream",
     "text": [
      "\u001b[1mAverage Internal Degree:\u001b[0m FitnessResult(min=1.0, max=2.25, score=1.3125, std=0.5412658773652742)\n",
      "\u001b[1mInternal Edge Density:\u001b[0m FitnessResult(min=0.32142857142857145, max=1.0, score=0.8303571428571428, std=0.29383004771257737)\n",
      "\u001b[1mConductance:\u001b[0m FitnessResult(min=0.25, max=0.5, score=0.4375, std=0.10825317547305482)\n",
      "\u001b[1mErdos Renyi Modularity:\u001b[0m FitnessResult(min=None, max=None, score=0.32600732600732596, std=None)\n",
      "\u001b[1mNewman Girvan Modularity:\u001b[0m FitnessResult(min=None, max=None, score=0.1851851851851852, std=None)\n",
      "\u001b[1mModularity Density:\u001b[0m FitnessResult(min=None, max=None, score=1.5, std=None)\n",
      "\u001b[1mZ Modularity:\u001b[0m FitnessResult(min=None, max=None, score=0.37062465833055075, std=None)\n",
      "\u001b[1mTriangle Partecipation Ratio:\u001b[0m FitnessResult(min=0.0, max=0.0, score=0.0, std=0.0)\n",
      "\u001b[1mN_Community:\u001b[0m 4\n",
      "\u001b[1mMax_Dim_Community:\u001b[0m 8\n"
     ]
    }
   ],
   "source": [
    "print(print_bold_str(\"Average Internal Degree:\"), labelprop_coms.average_internal_degree())\n",
    "print(print_bold_str(\"Internal Edge Density:\"), labelprop_coms.internal_edge_density())\n",
    "print(print_bold_str(\"Conductance:\"), labelprop_coms.conductance())\n",
    "print(print_bold_str(\"Erdos Renyi Modularity:\"), labelprop_coms.erdos_renyi_modularity())\n",
    "print(print_bold_str(\"Newman Girvan Modularity:\"), labelprop_coms.newman_girvan_modularity())\n",
    "print(print_bold_str(\"Modularity Density:\"), labelprop_coms.modularity_density())\n",
    "print(print_bold_str(\"Z Modularity:\"), labelprop_coms.z_modularity())\n",
    "print(print_bold_str(\"Triangle Partecipation Ratio:\"), labelprop_coms.triangle_participation_ratio())\n",
    "\n",
    "print(print_bold_str(\"N_Community:\"), len(labelprop_coms.communities))\n",
    "\n",
    "max_com_len = 0\n",
    "for com in labelprop_coms.communities:\n",
    "    if len(com) > max_com_len:\n",
    "        max_com_len = len(com)\n",
    "print(print_bold_str(\"Max_Dim_Community:\"), max_com_len) "
   ]
  },
  {
   "cell_type": "code",
   "execution_count": 32,
   "id": "b1219360",
   "metadata": {},
   "outputs": [],
   "source": [
    "with open(community_path+'labelprop.pickle', 'wb') as f:\n",
    "    pickle.dump(labelprop_coms, f)"
   ]
  },
  {
   "cell_type": "code",
   "execution_count": 33,
   "id": "85f44ec4",
   "metadata": {},
   "outputs": [],
   "source": [
    "labelprop_tuple = [tuple(x) for x in labelprop_coms.communities]"
   ]
  },
  {
   "cell_type": "code",
   "execution_count": 34,
   "id": "d9d201be",
   "metadata": {},
   "outputs": [
    {
     "name": "stdout",
     "output_type": "stream",
     "text": [
      "{'8': 1, '2': 3}\n"
     ]
    },
    {
     "data": {
      "image/png": "[encoded data removed]",
      "text/plain": [
       "<Figure size 1440x360 with 1 Axes>"
      ]
     },
     "metadata": {
      "needs_background": "light"
     },
     "output_type": "display_data"
    }
   ],
   "source": [
    "plot_communities_dimentions(labelprop_tuple)"
   ]
  },
  {
   "cell_type": "code",
   "execution_count": 35,
   "id": "a9881beb",
   "metadata": {},
   "outputs": [
    {
     "data": {
      "text/html": [
       "<div>\n",
       "<style scoped>\n",
       "    .dataframe tbody tr th:only-of-type {\n",
       "        vertical-align: middle;\n",
       "    }\n",
       "\n",
       "    .dataframe tbody tr th {\n",
       "        vertical-align: top;\n",
       "    }\n",
       "\n",
       "    .dataframe thead th {\n",
       "        text-align: right;\n",
       "    }\n",
       "</style>\n",
       "<table border=\"1\" class=\"dataframe\">\n",
       "  <thead>\n",
       "    <tr style=\"text-align: right;\">\n",
       "      <th></th>\n",
       "      <th>min</th>\n",
       "      <th>max</th>\n",
       "      <th>avg</th>\n",
       "      <th>std</th>\n",
       "    </tr>\n",
       "    <tr>\n",
       "      <th>Index</th>\n",
       "      <th></th>\n",
       "      <th></th>\n",
       "      <th></th>\n",
       "      <th></th>\n",
       "    </tr>\n",
       "  </thead>\n",
       "  <tbody>\n",
       "    <tr>\n",
       "      <th>Internal Density</th>\n",
       "      <td>0.321429</td>\n",
       "      <td>1.000000</td>\n",
       "      <td>0.830357</td>\n",
       "      <td>0.293830</td>\n",
       "    </tr>\n",
       "    <tr>\n",
       "      <th>Edges inside</th>\n",
       "      <td>1.000000</td>\n",
       "      <td>9.000000</td>\n",
       "      <td>3.000000</td>\n",
       "      <td>3.464102</td>\n",
       "    </tr>\n",
       "    <tr>\n",
       "      <th>Average Degree</th>\n",
       "      <td>1.000000</td>\n",
       "      <td>2.250000</td>\n",
       "      <td>1.312500</td>\n",
       "      <td>0.541266</td>\n",
       "    </tr>\n",
       "    <tr>\n",
       "      <th>FOMD</th>\n",
       "      <td>0.000000</td>\n",
       "      <td>0.250000</td>\n",
       "      <td>0.062500</td>\n",
       "      <td>0.108253</td>\n",
       "    </tr>\n",
       "    <tr>\n",
       "      <th>TPR</th>\n",
       "      <td>0.000000</td>\n",
       "      <td>0.000000</td>\n",
       "      <td>0.000000</td>\n",
       "      <td>0.000000</td>\n",
       "    </tr>\n",
       "    <tr>\n",
       "      <th>Expansion</th>\n",
       "      <td>0.750000</td>\n",
       "      <td>1.000000</td>\n",
       "      <td>0.937500</td>\n",
       "      <td>0.108253</td>\n",
       "    </tr>\n",
       "    <tr>\n",
       "      <th>Cut Ratio</th>\n",
       "      <td>0.083333</td>\n",
       "      <td>0.125000</td>\n",
       "      <td>0.093750</td>\n",
       "      <td>0.018042</td>\n",
       "    </tr>\n",
       "    <tr>\n",
       "      <th>Conductance</th>\n",
       "      <td>0.250000</td>\n",
       "      <td>0.500000</td>\n",
       "      <td>0.437500</td>\n",
       "      <td>0.108253</td>\n",
       "    </tr>\n",
       "    <tr>\n",
       "      <th>Normalized Cut</th>\n",
       "      <td>0.500000</td>\n",
       "      <td>0.555556</td>\n",
       "      <td>0.541667</td>\n",
       "      <td>0.024056</td>\n",
       "    </tr>\n",
       "    <tr>\n",
       "      <th>Maximum-ODF</th>\n",
       "      <td>1.000000</td>\n",
       "      <td>2.000000</td>\n",
       "      <td>1.250000</td>\n",
       "      <td>0.433013</td>\n",
       "    </tr>\n",
       "    <tr>\n",
       "      <th>Average-ODF</th>\n",
       "      <td>0.750000</td>\n",
       "      <td>1.000000</td>\n",
       "      <td>0.937500</td>\n",
       "      <td>0.108253</td>\n",
       "    </tr>\n",
       "    <tr>\n",
       "      <th>Flake-ODF</th>\n",
       "      <td>0.000000</td>\n",
       "      <td>0.000000</td>\n",
       "      <td>0.000000</td>\n",
       "      <td>0.000000</td>\n",
       "    </tr>\n",
       "  </tbody>\n",
       "</table>\n",
       "</div>"
      ],
      "text/plain": [
       "                       min       max       avg       std\n",
       "Index                                                   \n",
       "Internal Density  0.321429  1.000000  0.830357  0.293830\n",
       "Edges inside      1.000000  9.000000  3.000000  3.464102\n",
       "Average Degree    1.000000  2.250000  1.312500  0.541266\n",
       "FOMD              0.000000  0.250000  0.062500  0.108253\n",
       "TPR               0.000000  0.000000  0.000000  0.000000\n",
       "Expansion         0.750000  1.000000  0.937500  0.108253\n",
       "Cut Ratio         0.083333  0.125000  0.093750  0.018042\n",
       "Conductance       0.250000  0.500000  0.437500  0.108253\n",
       "Normalized Cut    0.500000  0.555556  0.541667  0.024056\n",
       "Maximum-ODF       1.000000  2.000000  1.250000  0.433013\n",
       "Average-ODF       0.750000  1.000000  0.937500  0.108253\n",
       "Flake-ODF         0.000000  0.000000  0.000000  0.000000"
      ]
     },
     "execution_count": 35,
     "metadata": {},
     "output_type": "execute_result"
    }
   ],
   "source": [
    "results = pquality.pquality_summary(G, labelprop_tuple)\n",
    "results['Indexes']"
   ]
  },
  {
   "cell_type": "code",
   "execution_count": 36,
   "id": "702573b8",
   "metadata": {},
   "outputs": [
    {
     "data": {
      "text/html": [
       "<div>\n",
       "<style scoped>\n",
       "    .dataframe tbody tr th:only-of-type {\n",
       "        vertical-align: middle;\n",
       "    }\n",
       "\n",
       "    .dataframe tbody tr th {\n",
       "        vertical-align: top;\n",
       "    }\n",
       "\n",
       "    .dataframe thead th {\n",
       "        text-align: right;\n",
       "    }\n",
       "</style>\n",
       "<table border=\"1\" class=\"dataframe\">\n",
       "  <thead>\n",
       "    <tr style=\"text-align: right;\">\n",
       "      <th></th>\n",
       "      <th>value</th>\n",
       "    </tr>\n",
       "    <tr>\n",
       "      <th>Index</th>\n",
       "      <th></th>\n",
       "    </tr>\n",
       "  </thead>\n",
       "  <tbody>\n",
       "    <tr>\n",
       "      <th>Modularity (no overlap)</th>\n",
       "      <td>0.185185</td>\n",
       "    </tr>\n",
       "  </tbody>\n",
       "</table>\n",
       "</div>"
      ],
      "text/plain": [
       "                            value\n",
       "Index                            \n",
       "Modularity (no overlap)  0.185185"
      ]
     },
     "execution_count": 36,
     "metadata": {},
     "output_type": "execute_result"
    }
   ],
   "source": [
    "results['Modularity']"
   ]
  },
  {
   "cell_type": "code",
   "execution_count": 37,
   "id": "9354b7a6",
   "metadata": {},
   "outputs": [],
   "source": [
    "eps = ensemble.Parameter(name=\"epsilon\", start=0.1, end=0.6, step=0.1)\n",
    "size = ensemble.Parameter(name=\"min_com_size\", start=3, end=5,step=1)"
   ]
  },
  {
   "cell_type": "code",
   "execution_count": 38,
   "id": "8a1bf3a6",
   "metadata": {},
   "outputs": [
    {
     "name": "stdout",
     "output_type": "stream",
     "text": [
      "Communities:\n",
      " [] \n",
      "Configuration: {'epsilon': 0.30000000000000004, 'min_com_size': 3} \n",
      "Scoring: FitnessResult(min=None, max=None, score=0.0, std=None)\n"
     ]
    }
   ],
   "source": [
    "coms_demon, scoring = ensemble.random_search(graph=G, method=algorithms.demon,\n",
    "                                                       parameters=[eps, size],\n",
    "                                                       quality_score=evaluation.newman_girvan_modularity,\n",
    "                                                        aggregate=max)\n",
    "\n",
    "print(\"Communities:\\n %s \\nConfiguration: %s \\nScoring: %s\" %(coms_demon.communities, coms_demon.method_parameters, scoring))"
   ]
  },
  {
   "cell_type": "code",
   "execution_count": 17,
   "id": "8781edc4",
   "metadata": {},
   "outputs": [
    {
     "ename": "NameError",
     "evalue": "name 'coms_demon' is not defined",
     "output_type": "error",
     "traceback": [
      "\u001b[1;31m---------------------------------------------------------------------------\u001b[0m",
      "\u001b[1;31mNameError\u001b[0m                                 Traceback (most recent call last)",
      "\u001b[1;32m<ipython-input-17-250ec24556b1>\u001b[0m in \u001b[0;36m<module>\u001b[1;34m\u001b[0m\n\u001b[1;32m----> 1\u001b[1;33m \u001b[0mprint\u001b[0m\u001b[1;33m(\u001b[0m\u001b[0mprint_bold_str\u001b[0m\u001b[1;33m(\u001b[0m\u001b[1;34m\"Average Internal Degree:\"\u001b[0m\u001b[1;33m)\u001b[0m\u001b[1;33m,\u001b[0m \u001b[0mcoms_demon\u001b[0m\u001b[1;33m.\u001b[0m\u001b[0maverage_internal_degree\u001b[0m\u001b[1;33m(\u001b[0m\u001b[1;33m)\u001b[0m\u001b[1;33m)\u001b[0m\u001b[1;33m\u001b[0m\u001b[1;33m\u001b[0m\u001b[0m\n\u001b[0m\u001b[0;32m      2\u001b[0m \u001b[0mprint\u001b[0m\u001b[1;33m(\u001b[0m\u001b[0mprint_bold_str\u001b[0m\u001b[1;33m(\u001b[0m\u001b[1;34m\"Internal Edge Density:\"\u001b[0m\u001b[1;33m)\u001b[0m\u001b[1;33m,\u001b[0m \u001b[0mcoms_demon\u001b[0m\u001b[1;33m.\u001b[0m\u001b[0minternal_edge_density\u001b[0m\u001b[1;33m(\u001b[0m\u001b[1;33m)\u001b[0m\u001b[1;33m)\u001b[0m\u001b[1;33m\u001b[0m\u001b[1;33m\u001b[0m\u001b[0m\n\u001b[0;32m      3\u001b[0m \u001b[0mprint\u001b[0m\u001b[1;33m(\u001b[0m\u001b[0mprint_bold_str\u001b[0m\u001b[1;33m(\u001b[0m\u001b[1;34m\"Conductance:\"\u001b[0m\u001b[1;33m)\u001b[0m\u001b[1;33m,\u001b[0m \u001b[0mcoms_demon\u001b[0m\u001b[1;33m.\u001b[0m\u001b[0mconductance\u001b[0m\u001b[1;33m(\u001b[0m\u001b[1;33m)\u001b[0m\u001b[1;33m)\u001b[0m\u001b[1;33m\u001b[0m\u001b[1;33m\u001b[0m\u001b[0m\n\u001b[0;32m      4\u001b[0m \u001b[0mprint\u001b[0m\u001b[1;33m(\u001b[0m\u001b[0mprint_bold_str\u001b[0m\u001b[1;33m(\u001b[0m\u001b[1;34m\"Erdos Renyi Modularity:\"\u001b[0m\u001b[1;33m)\u001b[0m\u001b[1;33m,\u001b[0m \u001b[0mcoms_demon\u001b[0m\u001b[1;33m.\u001b[0m\u001b[0merdos_renyi_modularity\u001b[0m\u001b[1;33m(\u001b[0m\u001b[1;33m)\u001b[0m\u001b[1;33m)\u001b[0m\u001b[1;33m\u001b[0m\u001b[1;33m\u001b[0m\u001b[0m\n\u001b[0;32m      5\u001b[0m \u001b[0mprint\u001b[0m\u001b[1;33m(\u001b[0m\u001b[0mprint_bold_str\u001b[0m\u001b[1;33m(\u001b[0m\u001b[1;34m\"Newman Girvan Modularity:\"\u001b[0m\u001b[1;33m)\u001b[0m\u001b[1;33m,\u001b[0m \u001b[0mcoms_demon\u001b[0m\u001b[1;33m.\u001b[0m\u001b[0mnewman_girvan_modularity\u001b[0m\u001b[1;33m(\u001b[0m\u001b[1;33m)\u001b[0m\u001b[1;33m)\u001b[0m\u001b[1;33m\u001b[0m\u001b[1;33m\u001b[0m\u001b[0m\n",
      "\u001b[1;31mNameError\u001b[0m: name 'coms_demon' is not defined"
     ]
    }
   ],
   "source": [
    "print(print_bold_str(\"Average Internal Degree:\"), coms_demon.average_internal_degree())\n",
    "print(print_bold_str(\"Internal Edge Density:\"), coms_demon.internal_edge_density())\n",
    "print(print_bold_str(\"Conductance:\"), coms_demon.conductance())\n",
    "print(print_bold_str(\"Erdos Renyi Modularity:\"), coms_demon.erdos_renyi_modularity())\n",
    "print(print_bold_str(\"Newman Girvan Modularity:\"), coms_demon.newman_girvan_modularity())\n",
    "print(print_bold_str(\"Modularity Density:\"), coms_demon.modularity_density())\n",
    "print(print_bold_str(\"Z Modularity:\"), coms_demon.z_modularity())"
   ]
  },
  {
   "cell_type": "code",
   "execution_count": 42,
   "id": "860c6dd6",
   "metadata": {},
   "outputs": [
    {
     "name": "stdout",
     "output_type": "stream",
     "text": [
      "\u001b[1mN_Community:\u001b[0m 0\n",
      "\u001b[1mMax_Dim_Community:\u001b[0m 0\n"
     ]
    }
   ],
   "source": [
    "print(print_bold_str(\"N_Community:\"), len(coms_demon.communities))\n",
    "\n",
    "max_com_len = 0\n",
    "for com in coms_demon.communities:\n",
    "    if len(com) > max_com_len:\n",
    "        max_com_len = len(com)\n",
    "print(print_bold_str(\"Max_Dim_Community:\"), max_com_len)  "
   ]
  },
  {
   "cell_type": "code",
   "execution_count": 43,
   "id": "bb7f3e2f",
   "metadata": {},
   "outputs": [],
   "source": [
    "with open(community_path+'demon.pickle', 'wb') as f:\n",
    "    pickle.dump(coms_demon, f)"
   ]
  },
  {
   "cell_type": "code",
   "execution_count": 44,
   "id": "d4a141d9",
   "metadata": {},
   "outputs": [],
   "source": [
    "demon_tuple = [tuple(x) for x in coms_demon.communities]"
   ]
  },
  {
   "cell_type": "code",
   "execution_count": 45,
   "id": "4bd3e4c8",
   "metadata": {},
   "outputs": [
    {
     "name": "stdout",
     "output_type": "stream",
     "text": [
      "Numero di communities:  0\n"
     ]
    }
   ],
   "source": [
    "print(\"Numero di communities: \", len(demon_tuple))"
   ]
  },
  {
   "cell_type": "code",
   "execution_count": 92,
   "id": "05c4e99a",
   "metadata": {},
   "outputs": [
    {
     "name": "stdout",
     "output_type": "stream",
     "text": [
      "{}\n"
     ]
    },
    {
     "data": {
      "image/png": "[encoded data removed]",
      "text/plain": [
       "<Figure size 1440x360 with 1 Axes>"
      ]
     },
     "metadata": {
      "needs_background": "light"
     },
     "output_type": "display_data"
    }
   ],
   "source": [
    "plot_communities_dimentions(demon_tuple)"
   ]
  },
  {
   "cell_type": "code",
   "execution_count": 47,
   "id": "54aea109",
   "metadata": {},
   "outputs": [
    {
     "ename": "ValueError",
     "evalue": "min() arg is an empty sequence",
     "output_type": "error",
     "traceback": [
      "\u001b[1;31m---------------------------------------------------------------------------\u001b[0m",
      "\u001b[1;31mValueError\u001b[0m                                Traceback (most recent call last)",
      "\u001b[1;32m<ipython-input-47-ea69e6d96832>\u001b[0m in \u001b[0;36m<module>\u001b[1;34m\u001b[0m\n\u001b[1;32m----> 1\u001b[1;33m \u001b[0mresults\u001b[0m \u001b[1;33m=\u001b[0m \u001b[0mpquality\u001b[0m\u001b[1;33m.\u001b[0m\u001b[0mpquality_summary\u001b[0m\u001b[1;33m(\u001b[0m\u001b[0mG\u001b[0m\u001b[1;33m,\u001b[0m \u001b[0mdemon_tuple\u001b[0m\u001b[1;33m)\u001b[0m\u001b[1;33m\u001b[0m\u001b[1;33m\u001b[0m\u001b[0m\n\u001b[0m\u001b[0;32m      2\u001b[0m \u001b[0mresults\u001b[0m\u001b[1;33m[\u001b[0m\u001b[1;34m'Indexes'\u001b[0m\u001b[1;33m]\u001b[0m\u001b[1;33m\u001b[0m\u001b[1;33m\u001b[0m\u001b[0m\n",
      "\u001b[1;32m~\\anaconda3\\lib\\site-packages\\pquality\\PartitionQuality.py\u001b[0m in \u001b[0;36mpquality_summary\u001b[1;34m(graph, partition)\u001b[0m\n\u001b[0;32m    203\u001b[0m \u001b[1;33m\u001b[0m\u001b[0m\n\u001b[0;32m    204\u001b[0m     m1 = [\n\u001b[1;32m--> 205\u001b[1;33m         \u001b[1;33m[\u001b[0m\u001b[1;34m\"Internal Density\"\u001b[0m\u001b[1;33m,\u001b[0m \u001b[0mmin\u001b[0m\u001b[1;33m(\u001b[0m\u001b[0mied\u001b[0m\u001b[1;33m)\u001b[0m\u001b[1;33m,\u001b[0m \u001b[0mmax\u001b[0m\u001b[1;33m(\u001b[0m\u001b[0mied\u001b[0m\u001b[1;33m)\u001b[0m\u001b[1;33m,\u001b[0m \u001b[0mnp\u001b[0m\u001b[1;33m.\u001b[0m\u001b[0mmean\u001b[0m\u001b[1;33m(\u001b[0m\u001b[0mied\u001b[0m\u001b[1;33m)\u001b[0m\u001b[1;33m,\u001b[0m \u001b[0mnp\u001b[0m\u001b[1;33m.\u001b[0m\u001b[0mstd\u001b[0m\u001b[1;33m(\u001b[0m\u001b[0mied\u001b[0m\u001b[1;33m)\u001b[0m\u001b[1;33m]\u001b[0m\u001b[1;33m,\u001b[0m\u001b[1;33m\u001b[0m\u001b[1;33m\u001b[0m\u001b[0m\n\u001b[0m\u001b[0;32m    206\u001b[0m         \u001b[1;33m[\u001b[0m\u001b[1;34m\"Edges inside\"\u001b[0m\u001b[1;33m,\u001b[0m \u001b[0mmin\u001b[0m\u001b[1;33m(\u001b[0m\u001b[0mnedges\u001b[0m\u001b[1;33m)\u001b[0m\u001b[1;33m,\u001b[0m \u001b[0mmax\u001b[0m\u001b[1;33m(\u001b[0m\u001b[0mnedges\u001b[0m\u001b[1;33m)\u001b[0m\u001b[1;33m,\u001b[0m \u001b[0mnp\u001b[0m\u001b[1;33m.\u001b[0m\u001b[0mmean\u001b[0m\u001b[1;33m(\u001b[0m\u001b[0mnedges\u001b[0m\u001b[1;33m)\u001b[0m\u001b[1;33m,\u001b[0m \u001b[0mnp\u001b[0m\u001b[1;33m.\u001b[0m\u001b[0mstd\u001b[0m\u001b[1;33m(\u001b[0m\u001b[0mnedges\u001b[0m\u001b[1;33m)\u001b[0m\u001b[1;33m]\u001b[0m\u001b[1;33m,\u001b[0m\u001b[1;33m\u001b[0m\u001b[1;33m\u001b[0m\u001b[0m\n\u001b[0;32m    207\u001b[0m         \u001b[1;33m[\u001b[0m\u001b[1;34m\"Average Degree\"\u001b[0m\u001b[1;33m,\u001b[0m \u001b[0mmin\u001b[0m\u001b[1;33m(\u001b[0m\u001b[0maid\u001b[0m\u001b[1;33m)\u001b[0m\u001b[1;33m,\u001b[0m \u001b[0mmax\u001b[0m\u001b[1;33m(\u001b[0m\u001b[0maid\u001b[0m\u001b[1;33m)\u001b[0m\u001b[1;33m,\u001b[0m \u001b[0mnp\u001b[0m\u001b[1;33m.\u001b[0m\u001b[0mmean\u001b[0m\u001b[1;33m(\u001b[0m\u001b[0maid\u001b[0m\u001b[1;33m)\u001b[0m\u001b[1;33m,\u001b[0m \u001b[0mnp\u001b[0m\u001b[1;33m.\u001b[0m\u001b[0mstd\u001b[0m\u001b[1;33m(\u001b[0m\u001b[0maid\u001b[0m\u001b[1;33m)\u001b[0m\u001b[1;33m]\u001b[0m\u001b[1;33m,\u001b[0m\u001b[1;33m\u001b[0m\u001b[1;33m\u001b[0m\u001b[0m\n",
      "\u001b[1;31mValueError\u001b[0m: min() arg is an empty sequence"
     ]
    }
   ],
   "source": [
    "results = pquality.pquality_summary(G, demon_tuple)\n",
    "results['Indexes']"
   ]
  },
  {
   "cell_type": "code",
   "execution_count": null,
   "id": "f39b1159",
   "metadata": {},
   "outputs": [],
   "source": [
    "results['Modularity']"
   ]
  },
  {
   "cell_type": "markdown",
   "id": "9e24ba36",
   "metadata": {},
   "source": [
    "# 4 - GM"
   ]
  },
  {
   "cell_type": "code",
   "execution_count": null,
   "id": "7007a823",
   "metadata": {},
   "outputs": [],
   "source": [
    "GM_coms = algorithms.greedy_modularity(G, weight = \"Count\") "
   ]
  },
  {
   "cell_type": "code",
   "execution_count": null,
   "id": "5f989c9c",
   "metadata": {},
   "outputs": [],
   "source": [
    "print(print_bold_str(\"Average Internal Degree:\"), GM_coms.average_internal_degree())\n",
    "print(print_bold_str(\"Internal Edge Density:\"), GM_coms.internal_edge_density())\n",
    "print(print_bold_str(\"Conductance:\"), GM_coms.conductance())\n",
    "print(print_bold_str(\"Erdos Renyi Modularity:\"), GM_coms.erdos_renyi_modularity())\n",
    "print(print_bold_str(\"Newman Girvan Modularity:\"), GM_coms.newman_girvan_modularity())\n",
    "print(print_bold_str(\"Modularity Density:\"), GM_coms.modularity_density())\n",
    "print(print_bold_str(\"Z Modularity:\"), GM_coms.z_modularity())"
   ]
  },
  {
   "cell_type": "code",
   "execution_count": null,
   "id": "7ffbeb84",
   "metadata": {},
   "outputs": [],
   "source": [
    "print(print_bold_str(\"N_Community:\"), len(GM_coms.communities))\n",
    "\n",
    "max_com_len = 0\n",
    "for com in GM_coms.communities:\n",
    "    if len(com) > max_com_len:\n",
    "        max_com_len = len(com)\n",
    "print(print_bold_str(\"Max_Dim_Community:\"), max_com_len)  "
   ]
  },
  {
   "cell_type": "code",
   "execution_count": null,
   "id": "388a628f",
   "metadata": {},
   "outputs": [],
   "source": [
    "with open(community_path+'GM.pickle', 'wb') as f:\n",
    "    pickle.dump(GM_coms, f)"
   ]
  },
  {
   "cell_type": "code",
   "execution_count": null,
   "id": "21683053",
   "metadata": {},
   "outputs": [],
   "source": [
    "GM_tuple = [tuple(x) for x in GM_coms.communities]"
   ]
  },
  {
   "cell_type": "code",
   "execution_count": null,
   "id": "6c951f8d",
   "metadata": {},
   "outputs": [],
   "source": [
    "plot_communities_dimentions(GM_tuple)"
   ]
  },
  {
   "cell_type": "code",
   "execution_count": null,
   "id": "8045e7b2",
   "metadata": {},
   "outputs": [],
   "source": [
    "results = pquality.pquality_summary(G, GM_tuple)\n",
    "results['Indexes']"
   ]
  },
  {
   "cell_type": "code",
   "execution_count": null,
   "id": "c13b6de7",
   "metadata": {},
   "outputs": [],
   "source": [
    "results['Modularity']"
   ]
  },
  {
   "cell_type": "code",
   "execution_count": null,
   "id": "e727dbf9",
   "metadata": {},
   "outputs": [],
   "source": []
  },
  {
   "cell_type": "markdown",
   "id": "2a985e11",
   "metadata": {},
   "source": [
    "# 5 - CONFRONTI"
   ]
  },
  {
   "cell_type": "markdown",
   "id": "07c14e65",
   "metadata": {},
   "source": [
    "1) Lettura"
   ]
  },
  {
   "cell_type": "code",
   "execution_count": 72,
   "id": "5de36fdb",
   "metadata": {},
   "outputs": [
    {
     "ename": "FileNotFoundError",
     "evalue": "[Errno 2] No such file or directory: '../Dataset FFF/Community_task/GM.pickle'",
     "output_type": "error",
     "traceback": [
      "\u001b[1;31m---------------------------------------------------------------------------\u001b[0m",
      "\u001b[1;31mFileNotFoundError\u001b[0m                         Traceback (most recent call last)",
      "\u001b[1;32m<ipython-input-72-c47bf236c2b3>\u001b[0m in \u001b[0;36m<module>\u001b[1;34m\u001b[0m\n\u001b[0;32m      5\u001b[0m \u001b[1;32mwith\u001b[0m \u001b[0mopen\u001b[0m\u001b[1;33m(\u001b[0m\u001b[0mcommunity_path\u001b[0m\u001b[1;33m+\u001b[0m\u001b[1;34m'demon.pickle'\u001b[0m\u001b[1;33m,\u001b[0m \u001b[1;34m'rb'\u001b[0m\u001b[1;33m)\u001b[0m \u001b[1;32mas\u001b[0m \u001b[0mf\u001b[0m\u001b[1;33m:\u001b[0m\u001b[1;33m\u001b[0m\u001b[1;33m\u001b[0m\u001b[0m\n\u001b[0;32m      6\u001b[0m     \u001b[0mdemon_coms\u001b[0m \u001b[1;33m=\u001b[0m \u001b[0mpickle\u001b[0m\u001b[1;33m.\u001b[0m\u001b[0mload\u001b[0m\u001b[1;33m(\u001b[0m\u001b[0mf\u001b[0m\u001b[1;33m)\u001b[0m\u001b[1;33m\u001b[0m\u001b[1;33m\u001b[0m\u001b[0m\n\u001b[1;32m----> 7\u001b[1;33m \u001b[1;32mwith\u001b[0m \u001b[0mopen\u001b[0m\u001b[1;33m(\u001b[0m\u001b[0mcommunity_path\u001b[0m\u001b[1;33m+\u001b[0m\u001b[1;34m'GM.pickle'\u001b[0m\u001b[1;33m,\u001b[0m \u001b[1;34m'rb'\u001b[0m\u001b[1;33m)\u001b[0m \u001b[1;32mas\u001b[0m \u001b[0mf\u001b[0m\u001b[1;33m:\u001b[0m\u001b[1;33m\u001b[0m\u001b[1;33m\u001b[0m\u001b[0m\n\u001b[0m\u001b[0;32m      8\u001b[0m     \u001b[0mGM_coms\u001b[0m \u001b[1;33m=\u001b[0m \u001b[0mpickle\u001b[0m\u001b[1;33m.\u001b[0m\u001b[0mload\u001b[0m\u001b[1;33m(\u001b[0m\u001b[0mf\u001b[0m\u001b[1;33m)\u001b[0m\u001b[1;33m\u001b[0m\u001b[1;33m\u001b[0m\u001b[0m\n",
      "\u001b[1;31mFileNotFoundError\u001b[0m: [Errno 2] No such file or directory: '../Dataset FFF/Community_task/GM.pickle'"
     ]
    }
   ],
   "source": [
    "with open(community_path+'louvain.pickle', 'rb') as f:\n",
    "    louvain_coms = pickle.load(f)\n",
    "with open(community_path+'labelprop.pickle', 'rb') as f:\n",
    "    labelprop_coms = pickle.load(f)\n",
    "with open(community_path+'demon.pickle', 'rb') as f:\n",
    "    demon_coms = pickle.load(f)\n",
    "with open(community_path+'GM.pickle', 'rb') as f:\n",
    "    GM_coms = pickle.load(f)"
   ]
  },
  {
   "cell_type": "code",
   "execution_count": null,
   "id": "b4a5a35f",
   "metadata": {},
   "outputs": [],
   "source": [
    "def covg_overlap(G, community, name):\n",
    "    print(f'{name} coverage:', community.node_coverage)\n",
    "    print(f'{name} overlap:', community.overlap) \n",
    "    print(f'{name} avg degree:', evaluation.average_internal_degree(G, community))\n",
    "    print(\"*******\")"
   ]
  },
  {
   "cell_type": "code",
   "execution_count": null,
   "id": "471d5bbd",
   "metadata": {},
   "outputs": [],
   "source": [
    "covg_overlap(G, louvain_coms, \"Louvain\")\n",
    "covg_overlap(G, labelprop_coms, \"LabelPropagation\")\n",
    "covg_overlap(G, demon_coms, \"Demon\")\n",
    "covg_overlap(G, GM_coms, \"GM\")"
   ]
  },
  {
   "cell_type": "markdown",
   "id": "cccfb3bc",
   "metadata": {},
   "source": [
    "2) Confronti"
   ]
  },
  {
   "cell_type": "markdown",
   "id": "c16891f0",
   "metadata": {},
   "source": [
    "2.1) Size BoxPlot"
   ]
  },
  {
   "cell_type": "code",
   "execution_count": null,
   "id": "9cbf70f0",
   "metadata": {},
   "outputs": [],
   "source": [
    "plot_list = [ np.array(evaluation.size(G,louvain_coms, summary=False)), \n",
    "             np.array(evaluation.size(G,labelprop_coms, summary=False)),\n",
    "             np.array(evaluation.size(G,demon_coms, summary=False)),\n",
    "             np.array(evaluation.size(G,GM_coms, summary=False))]\n",
    "labels = [\"Louvain\", \"Label Propagation\", \"Demon\", \"GM\"]\n",
    "\n",
    "fig = plt.figure(figsize=(16,8), dpi= 300)\n",
    "ax = fig.add_subplot(111)\n",
    "plt.boxplot(plot_list,labels=labels)\n",
    "#plt.boxplot(x)\n",
    "\n",
    "fontsize = 15\n",
    "\n",
    "#plt.yticks(ticks=y_list, labels=y_list, fontsize=fontsize, alpha=.7)\n",
    "plt.yticks(fontsize=fontsize, alpha=1)\n",
    "plt.xticks(fontsize=fontsize, alpha=1)\n",
    "plt.xlabel('Algorithms', fontsize=fontsize)\n",
    "plt.ylabel(\"Size\", fontsize=fontsize)\n",
    "plt.title(\" Size Box Plot\", fontsize=fontsize)\n",
    "#plt.title(name + \" in 24 hours\", fontsize=fontsize)\n",
    "plt.grid(axis='both', alpha=.3)\n",
    "plt.yscale(\"log\")\n",
    "\n",
    "\n",
    "\n",
    "# Remove borders\n",
    "plt.gca().spines[\"top\"].set_alpha(0.0)    \n",
    "plt.gca().spines[\"bottom\"].set_alpha(0.3)\n",
    "plt.gca().spines[\"right\"].set_alpha(0.0)    \n",
    "plt.gca().spines[\"left\"].set_alpha(0.3)   \n",
    "plt.show()"
   ]
  },
  {
   "cell_type": "code",
   "execution_count": null,
   "id": "ee7453b4",
   "metadata": {},
   "outputs": [],
   "source": [
    "edge_density_ = [(np.array(evaluation.size(G,labelprop_coms, summary=False)), \n",
    "                               np.array(evaluation.edges_inside(G,labelprop_coms, summary=False)),\n",
    "                               \"Label Propagation\"),\n",
    "                               (np.array(evaluation.size(G,demon_coms, summary=False)), \n",
    "                                np.array(evaluation.edges_inside(G,demon_coms, summary=False)),\n",
    "                                \"Demon\")]\n",
    "scatter_plot(edge_density_, \"Internal Edge Density vs Size\")"
   ]
  },
  {
   "cell_type": "code",
   "execution_count": null,
   "id": "f5dcb153",
   "metadata": {},
   "outputs": [],
   "source": [
    "edge_density_= [(np.array(evaluation.size(G,louvain_coms, summary=False)), \n",
    "                               np.array(evaluation.edges_inside(G,louvain_coms, summary=False)),\n",
    "                               \"Louvain\"),\n",
    "                               (np.array(evaluation.size(G,demon_coms, summary=False)), \n",
    "                                np.array(evaluation.edges_inside(G,demon_coms, summary=False)),\n",
    "                                \"Demon\")]\n",
    "scatter_plot(edge_density_, \"Internal Edge Density vs Size\")"
   ]
  },
  {
   "cell_type": "code",
   "execution_count": null,
   "id": "be8d2e3a",
   "metadata": {},
   "outputs": [],
   "source": [
    "edge_density_= [(np.array(evaluation.size(G,louvain_coms, summary=False)), \n",
    "                               np.array(evaluation.edges_inside(G,louvain_coms, summary=False)),\n",
    "                               \"Louvain\"),\n",
    "                               (np.array(evaluation.size(G,GM_coms, summary=False)), \n",
    "                                np.array(evaluation.edges_inside(G,GM_coms, summary=False)),\n",
    "                                \"GM\")]\n",
    "scatter_plot(edge_density_, \"Internal Edge Density vs Size\")"
   ]
  },
  {
   "cell_type": "code",
   "execution_count": null,
   "id": "013a0316",
   "metadata": {},
   "outputs": [],
   "source": [
    "edge_density_= [(np.array(evaluation.size(G,demon_coms, summary=False)), \n",
    "                               np.array(evaluation.edges_inside(G,demon_coms, summary=False)),\n",
    "                               \"Demon\"),\n",
    "                               (np.array(evaluation.size(G,GM_coms, summary=False)), \n",
    "                                np.array(evaluation.edges_inside(G,GM_coms, summary=False)),\n",
    "                                \"GM\")]\n",
    "scatter_plot(edge_density_, \"Internal Edge Density vs Size\")"
   ]
  },
  {
   "cell_type": "code",
   "execution_count": null,
   "id": "d2016666",
   "metadata": {},
   "outputs": [],
   "source": [
    "edge_density_= [(np.array(evaluation.size(G,demon_coms, summary=False)), \n",
    "                               np.array(evaluation.edges_inside(G,demon_coms, summary=False)),\n",
    "                               \"Demon\"),\n",
    "                               (np.array(evaluation.size(G,GM_coms, summary=False)), \n",
    "                                np.array(evaluation.edges_inside(G,GM_coms, summary=False)),\n",
    "                                \"GM\")]\n",
    "scatter_plot(edge_density_, \"Internal Edge Density vs Size\")"
   ]
  },
  {
   "cell_type": "code",
   "execution_count": null,
   "id": "1b2a7e79",
   "metadata": {},
   "outputs": [],
   "source": [
    "edge_density_ = [(np.array(evaluation.size(G,labelprop_coms, summary=False)), \n",
    "                               np.array(evaluation.edges_inside(G,labelprop_coms, summary=False)),\n",
    "                               \"Label Propagation\"),\n",
    "                               (np.array(evaluation.size(G,louvain_coms, summary=False)), \n",
    "                                np.array(evaluation.edges_inside(G,louvain_coms, summary=False)),\n",
    "                                \"Louvain\")]\n",
    "scatter_plot(edge_density_, \"Internal Edge Density vs Size\")"
   ]
  },
  {
   "cell_type": "code",
   "execution_count": null,
   "id": "e97cb309",
   "metadata": {},
   "outputs": [],
   "source": [
    "plot_list = [ np.array(evaluation.size(G,louvain_coms, summary=False)), \n",
    "             np.array(evaluation.size(G,labelprop_coms, summary=False)),\n",
    "             np.array(evaluation.size(G,demon_coms, summary=False)),\n",
    "             np.array(evaluation.size(G,GM_coms, summary=False))]"
   ]
  },
  {
   "cell_type": "code",
   "execution_count": null,
   "id": "7bf633a8",
   "metadata": {},
   "outputs": [],
   "source": [
    "(np.array(evaluation.size(G,labelprop_coms, summary=False)), \n",
    "                               np.array(evaluation.edges_inside(G,labelprop_coms, summary=False)),"
   ]
  },
  {
   "cell_type": "code",
   "execution_count": null,
   "id": "c9708842",
   "metadata": {},
   "outputs": [],
   "source": [
    "edge_density_all= [(np.array(evaluation.size(G,labelprop_coms, summary=False)), np.array(evaluation.edges_inside(G,labelprop_coms, summary=False)), \"Label Propagation\"),\n",
    "                       (np.array(evaluation.size(G,louvain_coms, summary=False)), np.array(evaluation.edges_inside(G,louvain_coms, summary=False)), \"Louvain\"),\n",
    "                      (np.array(evaluation.size(G,demon_coms, summary=False)), np.array(evaluation.edges_inside(G,demon_coms, summary=False)), \"Demon\"),\n",
    "                       (np.array(evaluation.size(G,GM_coms, summary=False)), np.array(evaluation.edges_inside(G,GM_coms, summary=False)), \"GM\"),]"
   ]
  },
  {
   "cell_type": "code",
   "execution_count": null,
   "id": "3b171ad0",
   "metadata": {},
   "outputs": [],
   "source": [
    "scatter_plot(edge_density_all, \"Internal Edge Density vs Size\")"
   ]
  },
  {
   "cell_type": "code",
   "execution_count": null,
   "id": "7a6a3b37",
   "metadata": {},
   "outputs": [],
   "source": [
    "avg_deg_all= [(np.array(evaluation.size(G,labelprop_coms, summary=False)), np.array(evaluation.average_internal_degree(G,labelprop_coms, summary=False)), \"Label Propagation\"),\n",
    "                       (np.array(evaluation.size(G,louvain_coms, summary=False)), np.array(evaluation.average_internal_degree(G,louvain_coms, summary=False)), \"Louvain\"),\n",
    "                      (np.array(evaluation.size(G,demon_coms, summary=False)), np.array(evaluation.average_internal_degree(G,demon_coms, summary=False)), \"Demon\"),\n",
    "                       (np.array(evaluation.size(G,GM_coms, summary=False)), np.array(evaluation.average_internal_degree(G,GM_coms, summary=False)), \"GM\"),]\n",
    "scatter_plot(avg_deg_all, \"Average Internal Degree vs Size\")"
   ]
  },
  {
   "cell_type": "markdown",
   "id": "5d909635",
   "metadata": {},
   "source": [
    "3) Comparison NMI, NF1"
   ]
  },
  {
   "cell_type": "code",
   "execution_count": null,
   "id": "8668d682",
   "metadata": {},
   "outputs": [],
   "source": [
    "#Non di Demon (e in caso di Kclique se si riesce a fare) perchè non copre tutto il dataset ed è overlapping\n",
    "def comparison_NMI(coms1, coms2, name):\n",
    "    print(f\"{name}: \",evaluation.normalized_mutual_information(coms1, coms2))  \n",
    "    print(\"********\")"
   ]
  },
  {
   "cell_type": "code",
   "execution_count": null,
   "id": "07acecf7",
   "metadata": {},
   "outputs": [],
   "source": [
    "def comparison_NF1(coms1, coms2, name):\n",
    "    print(f\"{name}: \",evaluation.nf1(coms1, coms2))\n",
    "    coms1_tuple = [tuple(x) for x in coms1.communities]\n",
    "    coms2_tuple = [tuple(x) for x in coms2.communities]\n",
    "    nf = NF1(coms1_tuple,coms2_tuple)\n",
    "    results = nf.summary()\n",
    "    print(results['scores'])\n",
    "    print(results['details'])\n",
    "    nf.plot(title=f'{name}')\n",
    "    print(\"*********\")"
   ]
  },
  {
   "cell_type": "markdown",
   "id": "d74b6fd8",
   "metadata": {},
   "source": [
    "NMI"
   ]
  },
  {
   "cell_type": "code",
   "execution_count": null,
   "id": "d2eedca7",
   "metadata": {},
   "outputs": [],
   "source": [
    "comparison_NMI(louvain_coms, labelprop_coms, \"Louvain vs Label\")\n",
    "comparison_NMI(GM_coms, labelprop_coms, \"GM vs Label\")\n",
    "comparison_NMI(louvain_coms, GM_coms, \"Louvain vs GM\")"
   ]
  },
  {
   "cell_type": "code",
   "execution_count": null,
   "id": "5c537198",
   "metadata": {},
   "outputs": [],
   "source": [
    "NF1"
   ]
  },
  {
   "cell_type": "code",
   "execution_count": null,
   "id": "9d242078",
   "metadata": {},
   "outputs": [],
   "source": [
    "comparison_NF1(louvain_coms, labelprop_coms, \"Louvain vs Label Propagation\")\n",
    "comparison_NF1(GM_coms, labelprop_coms, \"GM vs Label\")\n",
    "comparison_NF1(louvain_coms, GM_coms, \"Louvain vs GM\")\n",
    "\n",
    "comparison_NF1(louvain_coms, demon_coms, \"Louvain vs Demon\")\n",
    "comparison_NF1(GM_coms, demon_coms, \"GM vs Demon\")\n",
    "comparison_NF1(labelprop_coms, demon_coms, \"Label Propagation vs Demon\")"
   ]
  },
  {
   "cell_type": "code",
   "execution_count": null,
   "id": "872e808e",
   "metadata": {},
   "outputs": [],
   "source": [
    "viz.plot_com_stat([demon_coms, louvain_coms], evaluation.internal_edge_density)"
   ]
  },
  {
   "cell_type": "code",
   "execution_count": null,
   "id": "66f18f9e",
   "metadata": {},
   "outputs": [],
   "source": [
    "viz.plot_com_stat([labelprop_coms, louvain_coms], evaluation.internal_edge_density)"
   ]
  },
  {
   "cell_type": "code",
   "execution_count": null,
   "id": "2b97758d",
   "metadata": {},
   "outputs": [],
   "source": [
    "viz.plot_com_stat([labelprop_coms, demon_coms], evaluation.internal_edge_density)"
   ]
  },
  {
   "cell_type": "code",
   "execution_count": null,
   "id": "74cb528a",
   "metadata": {},
   "outputs": [],
   "source": [
    "viz.plot_com_stat([GM_coms, demon_coms], evaluation.internal_edge_density)"
   ]
  },
  {
   "cell_type": "code",
   "execution_count": null,
   "id": "b4381eb0",
   "metadata": {},
   "outputs": [],
   "source": [
    "viz.plot_com_stat([labelprop_coms, GM_coms], evaluation.internal_edge_density)"
   ]
  },
  {
   "cell_type": "code",
   "execution_count": null,
   "id": "94be1900",
   "metadata": {},
   "outputs": [],
   "source": [
    "viz.plot_com_stat([GM_coms, louvain_coms], evaluation.internal_edge_density)"
   ]
  },
  {
   "cell_type": "markdown",
   "id": "465a81b9",
   "metadata": {},
   "source": [
    "# 6 - Prova Kcliques"
   ]
  },
  {
   "cell_type": "code",
   "execution_count": 63,
   "id": "d686ff98",
   "metadata": {},
   "outputs": [
    {
     "ename": "ValueError",
     "evalue": "Sample larger than population or is negative",
     "output_type": "error",
     "traceback": [
      "\u001b[1;31m---------------------------------------------------------------------------\u001b[0m",
      "\u001b[1;31mValueError\u001b[0m                                Traceback (most recent call last)",
      "\u001b[1;32m<ipython-input-63-4e1dd784f5fa>\u001b[0m in \u001b[0;36m<module>\u001b[1;34m\u001b[0m\n\u001b[0;32m      1\u001b[0m \u001b[1;32mimport\u001b[0m \u001b[0mrandom\u001b[0m\u001b[1;33m\u001b[0m\u001b[1;33m\u001b[0m\u001b[0m\n\u001b[0;32m      2\u001b[0m \u001b[0mk\u001b[0m \u001b[1;33m=\u001b[0m \u001b[1;36m8500\u001b[0m\u001b[1;33m\u001b[0m\u001b[1;33m\u001b[0m\u001b[0m\n\u001b[1;32m----> 3\u001b[1;33m \u001b[0msampled_nodes\u001b[0m \u001b[1;33m=\u001b[0m \u001b[0mrandom\u001b[0m\u001b[1;33m.\u001b[0m\u001b[0msample\u001b[0m\u001b[1;33m(\u001b[0m\u001b[0mG\u001b[0m\u001b[1;33m.\u001b[0m\u001b[0mnodes\u001b[0m\u001b[1;33m,\u001b[0m \u001b[0mk\u001b[0m\u001b[1;33m)\u001b[0m\u001b[1;33m\u001b[0m\u001b[1;33m\u001b[0m\u001b[0m\n\u001b[0m\u001b[0;32m      4\u001b[0m \u001b[0msampled_graph\u001b[0m \u001b[1;33m=\u001b[0m \u001b[0mG\u001b[0m\u001b[1;33m.\u001b[0m\u001b[0msubgraph\u001b[0m\u001b[1;33m(\u001b[0m\u001b[0msampled_nodes\u001b[0m\u001b[1;33m)\u001b[0m\u001b[1;33m\u001b[0m\u001b[1;33m\u001b[0m\u001b[0m\n\u001b[0;32m      5\u001b[0m \u001b[0mk_num\u001b[0m \u001b[1;33m=\u001b[0m \u001b[0mensemble\u001b[0m\u001b[1;33m.\u001b[0m\u001b[0mParameter\u001b[0m\u001b[1;33m(\u001b[0m\u001b[0mname\u001b[0m\u001b[1;33m=\u001b[0m\u001b[1;34m\"k\"\u001b[0m\u001b[1;33m,\u001b[0m \u001b[0mstart\u001b[0m\u001b[1;33m=\u001b[0m\u001b[1;36m2\u001b[0m\u001b[1;33m,\u001b[0m \u001b[0mend\u001b[0m\u001b[1;33m=\u001b[0m\u001b[1;36m8\u001b[0m\u001b[1;33m,\u001b[0m \u001b[0mstep\u001b[0m\u001b[1;33m=\u001b[0m\u001b[1;36m1\u001b[0m\u001b[1;33m)\u001b[0m\u001b[1;33m\u001b[0m\u001b[1;33m\u001b[0m\u001b[0m\n",
      "\u001b[1;32m~\\anaconda3\\lib\\random.py\u001b[0m in \u001b[0;36msample\u001b[1;34m(self, population, k)\u001b[0m\n\u001b[0;32m    361\u001b[0m         \u001b[0mn\u001b[0m \u001b[1;33m=\u001b[0m \u001b[0mlen\u001b[0m\u001b[1;33m(\u001b[0m\u001b[0mpopulation\u001b[0m\u001b[1;33m)\u001b[0m\u001b[1;33m\u001b[0m\u001b[1;33m\u001b[0m\u001b[0m\n\u001b[0;32m    362\u001b[0m         \u001b[1;32mif\u001b[0m \u001b[1;32mnot\u001b[0m \u001b[1;36m0\u001b[0m \u001b[1;33m<=\u001b[0m \u001b[0mk\u001b[0m \u001b[1;33m<=\u001b[0m \u001b[0mn\u001b[0m\u001b[1;33m:\u001b[0m\u001b[1;33m\u001b[0m\u001b[1;33m\u001b[0m\u001b[0m\n\u001b[1;32m--> 363\u001b[1;33m             \u001b[1;32mraise\u001b[0m \u001b[0mValueError\u001b[0m\u001b[1;33m(\u001b[0m\u001b[1;34m\"Sample larger than population or is negative\"\u001b[0m\u001b[1;33m)\u001b[0m\u001b[1;33m\u001b[0m\u001b[1;33m\u001b[0m\u001b[0m\n\u001b[0m\u001b[0;32m    364\u001b[0m         \u001b[0mresult\u001b[0m \u001b[1;33m=\u001b[0m \u001b[1;33m[\u001b[0m\u001b[1;32mNone\u001b[0m\u001b[1;33m]\u001b[0m \u001b[1;33m*\u001b[0m \u001b[0mk\u001b[0m\u001b[1;33m\u001b[0m\u001b[1;33m\u001b[0m\u001b[0m\n\u001b[0;32m    365\u001b[0m         \u001b[0msetsize\u001b[0m \u001b[1;33m=\u001b[0m \u001b[1;36m21\u001b[0m        \u001b[1;31m# size of a small set minus size of an empty list\u001b[0m\u001b[1;33m\u001b[0m\u001b[1;33m\u001b[0m\u001b[0m\n",
      "\u001b[1;31mValueError\u001b[0m: Sample larger than population or is negative"
     ]
    }
   ],
   "source": [
    "import random\n",
    "k = 8500\n",
    "sampled_nodes = random.sample(G.nodes, k)\n",
    "sampled_graph = G.subgraph(sampled_nodes)\n",
    "k_num = ensemble.Parameter(name=\"k\", start=2, end=8, step=1)\n",
    "\n",
    "k_coms, scoring = ensemble.random_search(graph=sampled_graph, method=algorithms.kclique,\n",
    "                                                       parameters=[k_num],\n",
    "                                                       quality_score=evaluation.newman_girvan_modularity,\n",
    "                                                       instances=3, aggregate=max)"
   ]
  },
  {
   "cell_type": "code",
   "execution_count": null,
   "id": "f6b5eca6",
   "metadata": {},
   "outputs": [],
   "source": [
    "with open(community_path+'k.pickle', 'wb') as f:\n",
    "    pickle.dump(k_coms, f)"
   ]
  },
  {
   "cell_type": "code",
   "execution_count": null,
   "id": "5ee8f9e9",
   "metadata": {},
   "outputs": [],
   "source": [
    "with open(community_path+'k.pickle', 'rb') as f:\n",
    "    k_coms = pickle.load(f)"
   ]
  },
  {
   "cell_type": "code",
   "execution_count": null,
   "id": "eef8fb7c",
   "metadata": {},
   "outputs": [],
   "source": [
    "print(print_bold_str(\"Average Internal Degree:\"), k_coms.average_internal_degree())\n",
    "print(print_bold_str(\"Internal Edge Density:\"), k_coms.internal_edge_density())\n",
    "print(print_bold_str(\"Conductance:\"), k_coms.conductance())\n",
    "print(print_bold_str(\"Erdos Renyi Modularity:\"), k_coms.erdos_renyi_modularity())\n",
    "print(print_bold_str(\"Newman Girvan Modularity:\"), k_coms.newman_girvan_modularity())\n",
    "print(print_bold_str(\"Modularity Density:\"), k_coms.modularity_density())\n",
    "print(print_bold_str(\"Z Modularity:\"), k_coms.z_modularity())"
   ]
  },
  {
   "cell_type": "code",
   "execution_count": null,
   "id": "0e965bba",
   "metadata": {},
   "outputs": [],
   "source": [
    "print(print_bold_str(\"N_Community:\"), len(k_coms.communities))\n",
    "\n",
    "max_com_len = 0\n",
    "for com in k_coms.communities:\n",
    "    if len(com) > max_com_len:\n",
    "        max_com_len = len(com)\n",
    "print(print_bold_str(\"Max_Dim_Community:\"), max_com_len)  "
   ]
  },
  {
   "cell_type": "code",
   "execution_count": null,
   "id": "01e63ecc",
   "metadata": {},
   "outputs": [],
   "source": [
    "k_tuple = [tuple(x) for x in k_coms.communities]"
   ]
  },
  {
   "cell_type": "code",
   "execution_count": null,
   "id": "8e06bd55",
   "metadata": {},
   "outputs": [],
   "source": [
    "plot_communities_dimentions(k_tuple)"
   ]
  },
  {
   "cell_type": "code",
   "execution_count": null,
   "id": "3a82a40c",
   "metadata": {},
   "outputs": [],
   "source": [
    "covg_overlap(sampled_graph, k_coms, \"K-Cliques\")"
   ]
  },
  {
   "cell_type": "markdown",
   "id": "2d590beb",
   "metadata": {},
   "source": [
    "# 7 - Analisi delle communities di Louvain"
   ]
  },
  {
   "cell_type": "markdown",
   "id": "8b9a6b1f",
   "metadata": {},
   "source": [
    "1) Prova edit distance con supervisione tag"
   ]
  },
  {
   "cell_type": "code",
   "execution_count": 48,
   "id": "727310c3",
   "metadata": {},
   "outputs": [],
   "source": [
    "from collections import Counter\n",
    "from wordcloud import WordCloud"
   ]
  },
  {
   "cell_type": "code",
   "execution_count": 49,
   "id": "e9bdbbd9",
   "metadata": {},
   "outputs": [],
   "source": [
    "saved_path2 = \"../Dataset FFF/nodes_tagged.csv\""
   ]
  },
  {
   "cell_type": "code",
   "execution_count": 50,
   "id": "55d2be07",
   "metadata": {},
   "outputs": [],
   "source": [
    "tagged_dg = pd.read_csv(saved_path2)"
   ]
  },
  {
   "cell_type": "code",
   "execution_count": 51,
   "id": "3dd24a70",
   "metadata": {},
   "outputs": [
    {
     "data": {
      "text/html": [
       "<div>\n",
       "<style scoped>\n",
       "    .dataframe tbody tr th:only-of-type {\n",
       "        vertical-align: middle;\n",
       "    }\n",
       "\n",
       "    .dataframe tbody tr th {\n",
       "        vertical-align: top;\n",
       "    }\n",
       "\n",
       "    .dataframe thead th {\n",
       "        text-align: right;\n",
       "    }\n",
       "</style>\n",
       "<table border=\"1\" class=\"dataframe\">\n",
       "  <thead>\n",
       "    <tr style=\"text-align: right;\">\n",
       "      <th></th>\n",
       "      <th>Id</th>\n",
       "      <th>Named</th>\n",
       "    </tr>\n",
       "  </thead>\n",
       "  <tbody>\n",
       "    <tr>\n",
       "      <th>0</th>\n",
       "      <td>fridaysforfuture</td>\n",
       "      <td>#FridayForFuture</td>\n",
       "    </tr>\n",
       "    <tr>\n",
       "      <th>1</th>\n",
       "      <td>climatestrike</td>\n",
       "      <td>Action</td>\n",
       "    </tr>\n",
       "    <tr>\n",
       "      <th>2</th>\n",
       "      <td>climateaction</td>\n",
       "      <td>Action</td>\n",
       "    </tr>\n",
       "    <tr>\n",
       "      <th>3</th>\n",
       "      <td>climatecrisis</td>\n",
       "      <td>#FridayForFuture</td>\n",
       "    </tr>\n",
       "    <tr>\n",
       "      <th>4</th>\n",
       "      <td>climateemergency</td>\n",
       "      <td>#FridayForFuture</td>\n",
       "    </tr>\n",
       "    <tr>\n",
       "      <th>...</th>\n",
       "      <td>...</td>\n",
       "      <td>...</td>\n",
       "    </tr>\n",
       "    <tr>\n",
       "      <th>18842</th>\n",
       "      <td>orwell</td>\n",
       "      <td>German politics</td>\n",
       "    </tr>\n",
       "    <tr>\n",
       "      <th>18847</th>\n",
       "      <td>strajkdlaklimatu</td>\n",
       "      <td>FFF DE</td>\n",
       "    </tr>\n",
       "    <tr>\n",
       "      <th>18858</th>\n",
       "      <td>fridaysforfuturemexico</td>\n",
       "      <td>#FridayForFuture</td>\n",
       "    </tr>\n",
       "    <tr>\n",
       "      <th>18868</th>\n",
       "      <td>globalclimatestrikeindia</td>\n",
       "      <td>Action</td>\n",
       "    </tr>\n",
       "    <tr>\n",
       "      <th>18872</th>\n",
       "      <td>strikeforclimatechange</td>\n",
       "      <td>#FridayForFuture</td>\n",
       "    </tr>\n",
       "  </tbody>\n",
       "</table>\n",
       "<p>2338 rows × 2 columns</p>\n",
       "</div>"
      ],
      "text/plain": [
       "                             Id             Named\n",
       "0              fridaysforfuture  #FridayForFuture\n",
       "1                 climatestrike            Action\n",
       "2                 climateaction            Action\n",
       "3                 climatecrisis  #FridayForFuture\n",
       "4              climateemergency  #FridayForFuture\n",
       "...                         ...               ...\n",
       "18842                    orwell   German politics\n",
       "18847          strajkdlaklimatu            FFF DE\n",
       "18858    fridaysforfuturemexico  #FridayForFuture\n",
       "18868  globalclimatestrikeindia            Action\n",
       "18872    strikeforclimatechange  #FridayForFuture\n",
       "\n",
       "[2338 rows x 2 columns]"
      ]
     },
     "execution_count": 51,
     "metadata": {},
     "output_type": "execute_result"
    }
   ],
   "source": [
    "s_tag = tagged_dg[tagged_dg[\"Named\"]!=\"unamed\"][[\"Id\", \"Named\"]]\n",
    "s_tag"
   ]
  },
  {
   "cell_type": "code",
   "execution_count": 52,
   "id": "9860ca40",
   "metadata": {},
   "outputs": [],
   "source": [
    "def edit_distance(s1, s2):\n",
    "    m=len(s1)+1\n",
    "    n=len(s2)+1\n",
    "\n",
    "    tbl = {}\n",
    "    for i in range(m): tbl[i,0]=i\n",
    "    for j in range(n): tbl[0,j]=j\n",
    "    for i in range(1, m):\n",
    "        for j in range(1, n):\n",
    "            cost = 0 if s1[i-1] == s2[j-1] else 1\n",
    "            tbl[i,j] = min(tbl[i, j-1]+1, tbl[i-1, j]+1, tbl[i-1, j-1]+cost)\n",
    "\n",
    "    return tbl[i,j]"
   ]
  },
  {
   "cell_type": "code",
   "execution_count": 53,
   "id": "4b572700",
   "metadata": {},
   "outputs": [],
   "source": [
    "dd = {}"
   ]
  },
  {
   "cell_type": "code",
   "execution_count": 54,
   "id": "2293e59c",
   "metadata": {},
   "outputs": [],
   "source": [
    "categories_list = []\n",
    "for s in louvain_coms.communities[1]:\n",
    "    category = \"\"\n",
    "    maxmax_ = 30\n",
    "    for n in set(s_tag[\"Named\"]):\n",
    "        to_check = list(s_tag[s_tag[\"Named\"]==n][\"Id\"])\n",
    "        max_ = 30\n",
    "        for ss in to_check:\n",
    "            edit = edit_distance(s, ss)\n",
    "            if  edit < max_:\n",
    "                max_ = edit\n",
    "        if max_ < maxmax_:\n",
    "            maxmax_ = max_\n",
    "            category = n\n",
    "    categories_list.append(category)"
   ]
  },
  {
   "cell_type": "code",
   "execution_count": 55,
   "id": "1ae1bfed",
   "metadata": {},
   "outputs": [],
   "source": [
    "new_new_df = pd.DataFrame({\"Com_1\": categories_list})\n",
    "new_new_df.to_csv(community_path + \"Com_1.csv\", index=False)"
   ]
  },
  {
   "cell_type": "code",
   "execution_count": 56,
   "id": "82633fd4",
   "metadata": {},
   "outputs": [],
   "source": [
    "dd[1]=categories_list"
   ]
  },
  {
   "cell_type": "code",
   "execution_count": 57,
   "id": "be9e5c66",
   "metadata": {},
   "outputs": [
    {
     "data": {
      "text/plain": [
       "['German politics', 'Material', 'Material', 'German politics']"
      ]
     },
     "execution_count": 57,
     "metadata": {},
     "output_type": "execute_result"
    }
   ],
   "source": [
    "dd[1]"
   ]
  },
  {
   "cell_type": "code",
   "execution_count": 60,
   "id": "45c92359",
   "metadata": {},
   "outputs": [
    {
     "ename": "KeyError",
     "evalue": "0",
     "output_type": "error",
     "traceback": [
      "\u001b[1;31m---------------------------------------------------------------------------\u001b[0m",
      "\u001b[1;31mKeyError\u001b[0m                                  Traceback (most recent call last)",
      "\u001b[1;32m<ipython-input-60-0f0ff90cc03f>\u001b[0m in \u001b[0;36m<module>\u001b[1;34m\u001b[0m\n\u001b[0;32m      3\u001b[0m \u001b[1;32mfor\u001b[0m \u001b[0mi\u001b[0m \u001b[1;32min\u001b[0m \u001b[0mrange\u001b[0m\u001b[1;33m(\u001b[0m\u001b[1;36m2\u001b[0m\u001b[1;33m)\u001b[0m\u001b[1;33m:\u001b[0m\u001b[1;33m\u001b[0m\u001b[1;33m\u001b[0m\u001b[0m\n\u001b[0;32m      4\u001b[0m     \u001b[0mall_string\u001b[0m \u001b[1;33m=\u001b[0m \u001b[1;34m\"\"\u001b[0m\u001b[1;33m\u001b[0m\u001b[1;33m\u001b[0m\u001b[0m\n\u001b[1;32m----> 5\u001b[1;33m     \u001b[1;32mfor\u001b[0m \u001b[0ms\u001b[0m \u001b[1;32min\u001b[0m \u001b[0mdd\u001b[0m\u001b[1;33m[\u001b[0m\u001b[0mi\u001b[0m\u001b[1;33m]\u001b[0m\u001b[1;33m:\u001b[0m\u001b[1;33m\u001b[0m\u001b[1;33m\u001b[0m\u001b[0m\n\u001b[0m\u001b[0;32m      6\u001b[0m         \u001b[0mall_string\u001b[0m \u001b[1;33m=\u001b[0m \u001b[0mall_string\u001b[0m \u001b[1;33m+\u001b[0m \u001b[0ms\u001b[0m \u001b[1;33m+\u001b[0m \u001b[1;34m\"_\"\u001b[0m\u001b[1;33m\u001b[0m\u001b[1;33m\u001b[0m\u001b[0m\n\u001b[0;32m      7\u001b[0m     \u001b[0mword_could_dict\u001b[0m\u001b[1;33m=\u001b[0m\u001b[0mCounter\u001b[0m\u001b[1;33m(\u001b[0m\u001b[0mall_string\u001b[0m\u001b[1;33m.\u001b[0m\u001b[0msplit\u001b[0m\u001b[1;33m(\u001b[0m\u001b[1;34m\"_\"\u001b[0m\u001b[1;33m)\u001b[0m\u001b[1;33m)\u001b[0m\u001b[1;33m\u001b[0m\u001b[1;33m\u001b[0m\u001b[0m\n",
      "\u001b[1;31mKeyError\u001b[0m: 0"
     ]
    }
   ],
   "source": [
    "import matplotlib.pyplot as pyplot\n",
    "\n",
    "for i in range(2):\n",
    "    all_string = \"\"\n",
    "    for s in dd[i]:\n",
    "        all_string = all_string + s + \"_\"\n",
    "    word_could_dict=Counter(all_string.split(\"_\"))\n",
    "    pyplot.pie([float(v) for v in word_could_dict.values()], labels=[k for k in word_could_dict],\n",
    "           autopct=None)\n",
    "    pyplot.show()"
   ]
  },
  {
   "cell_type": "markdown",
   "id": "97fb2d3d",
   "metadata": {},
   "source": [
    "2) Prova word cloud"
   ]
  },
  {
   "cell_type": "code",
   "execution_count": 61,
   "id": "b307ba32",
   "metadata": {},
   "outputs": [
    {
     "data": {
      "image/png": "[encoded data removed]",
      "text/plain": [
       "<Figure size 1080x576 with 1 Axes>"
      ]
     },
     "metadata": {
      "needs_background": "light"
     },
     "output_type": "display_data"
    },
    {
     "data": {
      "image/png": "[encoded data removed]",
      "text/plain": [
       "<Figure size 1080x576 with 1 Axes>"
      ]
     },
     "metadata": {
      "needs_background": "light"
     },
     "output_type": "display_data"
    },
    {
     "data": {
      "image/png": "[encoded data removed]",
      "text/plain": [
       "<Figure size 1080x576 with 1 Axes>"
      ]
     },
     "metadata": {
      "needs_background": "light"
     },
     "output_type": "display_data"
    },
    {
     "data": {
      "image/png": "[encoded data removed]",
      "text/plain": [
       "<Figure size 1080x576 with 1 Axes>"
      ]
     },
     "metadata": {
      "needs_background": "light"
     },
     "output_type": "display_data"
    }
   ],
   "source": [
    "for i in louvain_coms.communities[:16]:\n",
    "    all_string = \"\"\n",
    "    for s in i:\n",
    "        all_string = all_string + s + \" \"\n",
    "    word_could_dict=Counter(all_string.split())\n",
    "    wordcloud = WordCloud(width = 1000, height = 500 , colormap=\"Blues\").generate_from_frequencies(word_could_dict)\n",
    "\n",
    "    plt.figure(figsize=(15,8))\n",
    "    plt.imshow(wordcloud)\n",
    "    plt.axis(\"off\")\n",
    "    plt.show()\n",
    "    plt.close()"
   ]
  },
  {
   "cell_type": "code",
   "execution_count": null,
   "id": "565417fb",
   "metadata": {},
   "outputs": [],
   "source": [
    "#0: react, node, frontend\n",
    "#1: python, julia, learning\n",
    "#2: C development\n",
    "#3: version control\n",
    "#4: deployment"
   ]
  },
  {
   "cell_type": "markdown",
   "id": "e5972035",
   "metadata": {},
   "source": [
    "# Analisi delle community Demon"
   ]
  },
  {
   "cell_type": "code",
   "execution_count": 62,
   "id": "2cf00a93",
   "metadata": {},
   "outputs": [
    {
     "ename": "NameError",
     "evalue": "name 'demon_coms' is not defined",
     "output_type": "error",
     "traceback": [
      "\u001b[1;31m---------------------------------------------------------------------------\u001b[0m",
      "\u001b[1;31mNameError\u001b[0m                                 Traceback (most recent call last)",
      "\u001b[1;32m<ipython-input-62-8b8e9cf4ca81>\u001b[0m in \u001b[0;36m<module>\u001b[1;34m\u001b[0m\n\u001b[1;32m----> 1\u001b[1;33m \u001b[1;32mfor\u001b[0m \u001b[0mi\u001b[0m \u001b[1;32min\u001b[0m \u001b[0mdemon_coms\u001b[0m\u001b[1;33m.\u001b[0m\u001b[0mcommunities\u001b[0m\u001b[1;33m[\u001b[0m\u001b[1;33m:\u001b[0m\u001b[1;36m6\u001b[0m\u001b[1;33m]\u001b[0m\u001b[1;33m:\u001b[0m\u001b[1;33m\u001b[0m\u001b[1;33m\u001b[0m\u001b[0m\n\u001b[0m\u001b[0;32m      2\u001b[0m     \u001b[0mall_string\u001b[0m \u001b[1;33m=\u001b[0m \u001b[1;34m\"\"\u001b[0m\u001b[1;33m\u001b[0m\u001b[1;33m\u001b[0m\u001b[0m\n\u001b[0;32m      3\u001b[0m     \u001b[1;32mfor\u001b[0m \u001b[0ms\u001b[0m \u001b[1;32min\u001b[0m \u001b[0mi\u001b[0m\u001b[1;33m:\u001b[0m\u001b[1;33m\u001b[0m\u001b[1;33m\u001b[0m\u001b[0m\n\u001b[0;32m      4\u001b[0m         \u001b[0mall_string\u001b[0m \u001b[1;33m=\u001b[0m \u001b[0mall_string\u001b[0m \u001b[1;33m+\u001b[0m \u001b[0ms\u001b[0m \u001b[1;33m+\u001b[0m \u001b[1;34m\" \"\u001b[0m\u001b[1;33m\u001b[0m\u001b[1;33m\u001b[0m\u001b[0m\n\u001b[0;32m      5\u001b[0m \u001b[1;33m\u001b[0m\u001b[0m\n",
      "\u001b[1;31mNameError\u001b[0m: name 'demon_coms' is not defined"
     ]
    }
   ],
   "source": [
    "for i in demon_coms.communities[:6]:\n",
    "    all_string = \"\"\n",
    "    for s in i:\n",
    "        all_string = all_string + s + \" \"\n",
    "    \n",
    "    word_could_dict=Counter(all_string.split())\n",
    "    \"\"\"\n",
    "    wordcloud = WordCloud(width = 1000, height = 500 , colormap=\"Blues\").generate_from_frequencies(word_could_dict)\n",
    "\n",
    "    plt.figure(figsize=(15,8))\n",
    "    plt.imshow(wordcloud)\n",
    "    plt.axis(\"off\")\n",
    "    plt.show()\n",
    "    plt.close()\n",
    "    \"\"\"\n",
    "    \n",
    "    # makes the circle using numpy\n",
    "    x, y = np.ogrid[:300, :300]\n",
    "    mask = (x - 150) ** 2 + (y - 150) ** 2 > 130 ** 2\n",
    "    mask = 255 * mask.astype(int)\n",
    "\n",
    "    # Generate a word cloud of document\n",
    "    wordcloud = WordCloud(mask=mask, contour_width=0.1, colormap=\"Blues\").generate_from_frequencies(word_could_dict)\n",
    "\n",
    "    plt.figure(figsize=(15,8))\n",
    "    #Display the generated image:\n",
    "    plt.imshow(wordcloud, interpolation='bilinear')\n",
    "    plt.axis('off')\n",
    "    plt.show()"
   ]
  },
  {
   "cell_type": "code",
   "execution_count": null,
   "id": "531b90b6",
   "metadata": {},
   "outputs": [],
   "source": []
  },
  {
   "cell_type": "code",
   "execution_count": null,
   "id": "3e81a532",
   "metadata": {},
   "outputs": [],
   "source": []
  },
  {
   "cell_type": "code",
   "execution_count": null,
   "id": "48220cc4",
   "metadata": {},
   "outputs": [],
   "source": []
  }
 ],
 "metadata": {
  "kernelspec": {
   "display_name": "Python 3",
   "language": "python",
   "name": "python3"
  },
  "language_info": {
   "codemirror_mode": {
    "name": "ipython",
    "version": 3
   },
   "file_extension": ".py",
   "mimetype": "text/x-python",
   "name": "python",
   "nbconvert_exporter": "python",
   "pygments_lexer": "ipython3",
   "version": "3.8.8"
  }
 },
 "nbformat": 4,
 "nbformat_minor": 5
}
