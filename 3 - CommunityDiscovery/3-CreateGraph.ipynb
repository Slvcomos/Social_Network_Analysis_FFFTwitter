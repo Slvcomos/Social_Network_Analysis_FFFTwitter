{
 "cells": [
  {
   "cell_type": "code",
   "execution_count": null,
   "id": "058277db",
   "metadata": {},
   "outputs": [],
   "source": [
    "import networkx as nx\n",
    "import pandas as pd\n",
    "import numpy as np\n",
    "import json\n",
    "import cdlib\n",
    "from cdlib import evaluation\n",
    "from cdlib import algorithms\n",
    "from cdlib import viz\n",
    "from cdlib import ensemble\n",
    "from cdlib import readwrite\n",
    "import pickle\n",
    "import pquality\n",
    "import matplotlib.pyplot as plt\n",
    "%matplotlib inline\n",
    "from nf1 import NF1"
   ]
  },
  {
   "cell_type": "code",
   "execution_count": null,
   "id": "473ab69d",
   "metadata": {},
   "outputs": [],
   "source": [
    "path_graph = \"../DataSet StackOverflow/Graph_data/\""
   ]
  },
  {
   "cell_type": "code",
   "execution_count": null,
   "id": "b47e5d5a",
   "metadata": {},
   "outputs": [],
   "source": [
    "G = nx.read_graphml(path_graph+\"Real_Network.graphml\")"
   ]
  },
  {
   "cell_type": "code",
   "execution_count": null,
   "id": "52521364",
   "metadata": {},
   "outputs": [],
   "source": [
    "community_path = \"../DataSet StackOverflow/Community_task/\""
   ]
  },
  {
   "cell_type": "code",
   "execution_count": null,
   "id": "79124388",
   "metadata": {},
   "outputs": [],
   "source": [
    "with open(community_path+'louvain.pickle', 'rb') as f:\n",
    "    louvain_coms = pickle.load(f)"
   ]
  },
  {
   "cell_type": "code",
   "execution_count": null,
   "id": "78728c76",
   "metadata": {},
   "outputs": [],
   "source": [
    "len(louvain_coms.communities)"
   ]
  },
  {
   "cell_type": "code",
   "execution_count": null,
   "id": "7def9dd0",
   "metadata": {},
   "outputs": [],
   "source": [
    "louvain_coms.communities[:13]"
   ]
  },
  {
   "cell_type": "code",
   "execution_count": null,
   "id": "d60f863f",
   "metadata": {},
   "outputs": [],
   "source": [
    "nodes = []\n",
    "comm = []"
   ]
  },
  {
   "cell_type": "code",
   "execution_count": null,
   "id": "e8331df2",
   "metadata": {},
   "outputs": [],
   "source": [
    "for idx, k in enumerate(louvain_coms.communities[:13]):\n",
    "    for i in k:\n",
    "        nodes.append(i)\n",
    "        comm.append(idx)"
   ]
  },
  {
   "cell_type": "code",
   "execution_count": null,
   "id": "a2f303d3",
   "metadata": {},
   "outputs": [],
   "source": [
    "df = pd.DataFrame({\"Id\": nodes,\n",
    "                   \"Community\": comm})\n",
    "df.to_csv(\"nodes.csv\", index=False)"
   ]
  },
  {
   "cell_type": "code",
   "execution_count": null,
   "id": "f327a839",
   "metadata": {},
   "outputs": [],
   "source": []
  },
  {
   "cell_type": "code",
   "execution_count": null,
   "id": "32810495",
   "metadata": {},
   "outputs": [],
   "source": []
  },
  {
   "cell_type": "code",
   "execution_count": null,
   "id": "5838c5d7",
   "metadata": {},
   "outputs": [],
   "source": []
  },
  {
   "cell_type": "code",
   "execution_count": null,
   "id": "d69fd957",
   "metadata": {},
   "outputs": [],
   "source": []
  },
  {
   "cell_type": "code",
   "execution_count": null,
   "id": "525c73a1",
   "metadata": {},
   "outputs": [],
   "source": []
  },
  {
   "cell_type": "code",
   "execution_count": null,
   "id": "b5915015",
   "metadata": {},
   "outputs": [],
   "source": []
  },
  {
   "cell_type": "code",
   "execution_count": null,
   "id": "0e7d85b0",
   "metadata": {},
   "outputs": [],
   "source": []
  },
  {
   "cell_type": "code",
   "execution_count": null,
   "id": "4336e8b9",
   "metadata": {},
   "outputs": [],
   "source": []
  }
 ],
 "metadata": {
  "kernelspec": {
   "display_name": "Python 3",
   "language": "python",
   "name": "python3"
  },
  "language_info": {
   "codemirror_mode": {
    "name": "ipython",
    "version": 3
   },
   "file_extension": ".py",
   "mimetype": "text/x-python",
   "name": "python",
   "nbconvert_exporter": "python",
   "pygments_lexer": "ipython3",
   "version": "3.8.8"
  }
 },
 "nbformat": 4,
 "nbformat_minor": 5
}
