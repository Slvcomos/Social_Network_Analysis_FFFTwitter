{
 "cells": [
  {
   "cell_type": "code",
   "execution_count": null,
   "id": "d8e36925",
   "metadata": {},
   "outputs": [],
   "source": [
    "pip install pquality"
   ]
  },
  {
   "cell_type": "code",
   "execution_count": 1,
   "id": "a4dc31b4",
   "metadata": {},
   "outputs": [
    {
     "name": "stdout",
     "output_type": "stream",
     "text": [
      "Requirement already satisfied: cdlib in c:\\users\\naomi\\anaconda3\\lib\\site-packages (0.2.6)\n",
      "Requirement already satisfied: python-igraph in c:\\users\\naomi\\anaconda3\\lib\\site-packages (from cdlib) (0.9.11)\n",
      "Requirement already satisfied: eva-lcd in c:\\users\\naomi\\anaconda3\\lib\\site-packages (from cdlib) (0.1.1)\n",
      "Requirement already satisfied: seaborn in c:\\users\\naomi\\anaconda3\\lib\\site-packages (from cdlib) (0.11.1)\n",
      "Requirement already satisfied: scipy in c:\\users\\naomi\\anaconda3\\lib\\site-packages (from cdlib) (1.6.2)\n",
      "Requirement already satisfied: pyclustering in c:\\users\\naomi\\anaconda3\\lib\\site-packages (from cdlib) (0.10.1.2)\n",
      "Requirement already satisfied: chinese-whispers in c:\\users\\naomi\\anaconda3\\lib\\site-packages (from cdlib) (0.8.0)\n",
      "Requirement already satisfied: bimlpa in c:\\users\\naomi\\anaconda3\\lib\\site-packages (from cdlib) (0.1.2)\n",
      "Requirement already satisfied: networkx>=2.4 in c:\\users\\naomi\\anaconda3\\lib\\site-packages (from cdlib) (2.5)\n",
      "Requirement already satisfied: demon in c:\\users\\naomi\\anaconda3\\lib\\site-packages (from cdlib) (2.0.6)\n",
      "Requirement already satisfied: angel-cd in c:\\users\\naomi\\anaconda3\\lib\\site-packages (from cdlib) (1.0.3)\n",
      "Requirement already satisfied: thresholdclustering in c:\\users\\naomi\\anaconda3\\lib\\site-packages (from cdlib) (1.1)\n",
      "Requirement already satisfied: matplotlib in c:\\users\\naomi\\anaconda3\\lib\\site-packages (from cdlib) (3.3.4)\n",
      "Requirement already satisfied: tqdm in c:\\users\\naomi\\anaconda3\\lib\\site-packages (from cdlib) (4.59.0)\n",
      "Requirement already satisfied: nf1 in c:\\users\\naomi\\anaconda3\\lib\\site-packages (from cdlib) (0.0.4)\n",
      "Requirement already satisfied: python-Levenshtein in c:\\users\\naomi\\anaconda3\\lib\\site-packages (from cdlib) (0.12.2)\n",
      "Requirement already satisfied: markov-clustering in c:\\users\\naomi\\anaconda3\\lib\\site-packages (from cdlib) (0.0.6.dev0)\n",
      "Requirement already satisfied: pulp in c:\\users\\naomi\\anaconda3\\lib\\site-packages (from cdlib) (2.6.0)\n",
      "Requirement already satisfied: future in c:\\users\\naomi\\anaconda3\\lib\\site-packages (from cdlib) (0.18.2)\n",
      "Requirement already satisfied: dynetx in c:\\users\\naomi\\anaconda3\\lib\\site-packages (from cdlib) (0.3.1)\n",
      "Requirement already satisfied: pandas in c:\\users\\naomi\\anaconda3\\lib\\site-packages (from cdlib) (1.2.4)\n",
      "Requirement already satisfied: pooch in c:\\users\\naomi\\anaconda3\\lib\\site-packages (from cdlib) (1.6.0)\n",
      "Requirement already satisfied: cython in c:\\users\\naomi\\anaconda3\\lib\\site-packages (from cdlib) (0.29.28)\n",
      "Requirement already satisfied: scikit-learn in c:\\users\\naomi\\anaconda3\\lib\\site-packages (from cdlib) (0.24.1)\n",
      "Requirement already satisfied: python-louvain>=0.16 in c:\\users\\naomi\\anaconda3\\lib\\site-packages (from cdlib) (0.16)\n",
      "Requirement already satisfied: numpy in c:\\users\\naomi\\anaconda3\\lib\\site-packages (from cdlib) (1.19.5)\n",
      "Requirement already satisfied: decorator>=4.3.0 in c:\\users\\naomi\\anaconda3\\lib\\site-packages (from networkx>=2.4->cdlib) (4.4.2)\n",
      "Requirement already satisfied: python-dateutil>=2.1 in c:\\users\\naomi\\anaconda3\\lib\\site-packages (from matplotlib->cdlib) (2.8.1)\n",
      "Requirement already satisfied: pyparsing!=2.0.4,!=2.1.2,!=2.1.6,>=2.0.3 in c:\\users\\naomi\\anaconda3\\lib\\site-packages (from matplotlib->cdlib) (2.4.7)\n",
      "Requirement already satisfied: pillow>=6.2.0 in c:\\users\\naomi\\anaconda3\\lib\\site-packages (from matplotlib->cdlib) (8.2.0)\n",
      "Requirement already satisfied: cycler>=0.10 in c:\\users\\naomi\\anaconda3\\lib\\site-packages (from matplotlib->cdlib) (0.10.0)\n",
      "Requirement already satisfied: kiwisolver>=1.0.1 in c:\\users\\naomi\\anaconda3\\lib\\site-packages (from matplotlib->cdlib) (1.3.1)\n",
      "Requirement already satisfied: six in c:\\users\\naomi\\anaconda3\\lib\\site-packages (from cycler>=0.10->matplotlib->cdlib) (1.15.0)\n",
      "Requirement already satisfied: pytz>=2017.3 in c:\\users\\naomi\\anaconda3\\lib\\site-packages (from pandas->cdlib) (2021.1)\n",
      "Requirement already satisfied: appdirs>=1.3.0 in c:\\users\\naomi\\anaconda3\\lib\\site-packages (from pooch->cdlib) (1.4.4)\n",
      "Requirement already satisfied: requests>=2.19.0 in c:\\users\\naomi\\anaconda3\\lib\\site-packages (from pooch->cdlib) (2.25.1)\n",
      "Requirement already satisfied: packaging>=20.0 in c:\\users\\naomi\\anaconda3\\lib\\site-packages (from pooch->cdlib) (20.9)\n",
      "Requirement already satisfied: chardet<5,>=3.0.2 in c:\\users\\naomi\\anaconda3\\lib\\site-packages (from requests>=2.19.0->pooch->cdlib) (4.0.0)\n",
      "Requirement already satisfied: certifi>=2017.4.17 in c:\\users\\naomi\\anaconda3\\lib\\site-packages (from requests>=2.19.0->pooch->cdlib) (2020.12.5)\n",
      "Requirement already satisfied: idna<3,>=2.5 in c:\\users\\naomi\\anaconda3\\lib\\site-packages (from requests>=2.19.0->pooch->cdlib) (2.10)\n",
      "Requirement already satisfied: urllib3<1.27,>=1.21.1 in c:\\users\\naomi\\anaconda3\\lib\\site-packages (from requests>=2.19.0->pooch->cdlib) (1.26.4)\n",
      "Requirement already satisfied: igraph==0.9.11 in c:\\users\\naomi\\anaconda3\\lib\\site-packages (from python-igraph->cdlib) (0.9.11)\n",
      "Requirement already satisfied: texttable>=1.6.2 in c:\\users\\naomi\\anaconda3\\lib\\site-packages (from igraph==0.9.11->python-igraph->cdlib) (1.6.4)\n",
      "Requirement already satisfied: setuptools in c:\\users\\naomi\\anaconda3\\lib\\site-packages (from python-Levenshtein->cdlib) (52.0.0.post20210125)\n",
      "Requirement already satisfied: joblib>=0.11 in c:\\users\\naomi\\anaconda3\\lib\\site-packages (from scikit-learn->cdlib) (1.0.1)\n",
      "Requirement already satisfied: threadpoolctl>=2.0.0 in c:\\users\\naomi\\anaconda3\\lib\\site-packages (from scikit-learn->cdlib) (2.1.0)\n",
      "Note: you may need to restart the kernel to use updated packages.\n"
     ]
    }
   ],
   "source": [
    "pip install cdlib"
   ]
  },
  {
   "cell_type": "code",
   "execution_count": 2,
   "id": "b0031122",
   "metadata": {},
   "outputs": [
    {
     "name": "stdout",
     "output_type": "stream",
     "text": [
      "Collecting infomap\n",
      "  Downloading infomap-2.5.0-cp38-cp38-win_amd64.whl (607 kB)\n",
      "Installing collected packages: infomap\n",
      "Successfully installed infomap-2.5.0\n",
      "Note: you may need to restart the kernel to use updated packages.\n"
     ]
    }
   ],
   "source": [
    "pip install infomap"
   ]
  },
  {
   "cell_type": "code",
   "execution_count": 3,
   "id": "c87e57c2",
   "metadata": {},
   "outputs": [
    {
     "name": "stdout",
     "output_type": "stream",
     "text": [
      "Collecting graph-tools\n",
      "  Downloading graph_tools-1.5-py3-none-any.whl (28 kB)\n",
      "Requirement already satisfied: numpy in c:\\users\\naomi\\anaconda3\\lib\\site-packages (from graph-tools) (1.19.5)\n",
      "Collecting perlcompat\n",
      "  Downloading perlcompat-1.1-py3-none-any.whl (15 kB)\n",
      "Collecting pytess\n",
      "  Downloading Pytess-1.0.0.tar.gz (11 kB)\n",
      "Building wheels for collected packages: pytess\n",
      "  Building wheel for pytess (setup.py): started\n",
      "  Building wheel for pytess (setup.py): finished with status 'done'\n",
      "  Created wheel for pytess: filename=Pytess-1.0.0-py3-none-any.whl size=11845 sha256=0282808263cab3e28db4ae82dbe0057a9ef64b3e3bc646c61cf34107094ac5cc\n",
      "  Stored in directory: c:\\users\\naomi\\appdata\\local\\pip\\cache\\wheels\\30\\12\\7f\\831396d9bf25a93ea344c24c0a8a978a18cb3b98759fddd1a7\n",
      "Successfully built pytess\n",
      "Installing collected packages: pytess, perlcompat, graph-tools\n",
      "Successfully installed graph-tools-1.5 perlcompat-1.1 pytess-1.0.0\n",
      "Note: you may need to restart the kernel to use updated packages.\n"
     ]
    }
   ],
   "source": [
    "pip install graph-tools"
   ]
  },
  {
   "cell_type": "code",
   "execution_count": 4,
   "id": "35208a19",
   "metadata": {},
   "outputs": [
    {
     "name": "stdout",
     "output_type": "stream",
     "text": [
      "Collecting karateclub\n",
      "  Downloading karateclub-1.3.0.tar.gz (62 kB)\n",
      "Requirement already satisfied: numpy in c:\\users\\naomi\\anaconda3\\lib\\site-packages (from karateclub) (1.19.5)\n",
      "Requirement already satisfied: networkx<2.7 in c:\\users\\naomi\\anaconda3\\lib\\site-packages (from karateclub) (2.5)\n",
      "Collecting decorator==4.4.2\n",
      "  Downloading decorator-4.4.2-py2.py3-none-any.whl (9.2 kB)\n",
      "Requirement already satisfied: tqdm in c:\\users\\naomi\\anaconda3\\lib\\site-packages (from karateclub) (4.59.0)\n",
      "Requirement already satisfied: python-louvain in c:\\users\\naomi\\anaconda3\\lib\\site-packages (from karateclub) (0.16)\n",
      "Requirement already satisfied: scikit-learn in c:\\users\\naomi\\anaconda3\\lib\\site-packages (from karateclub) (0.24.1)\n",
      "Requirement already satisfied: scipy in c:\\users\\naomi\\anaconda3\\lib\\site-packages (from karateclub) (1.6.2)\n",
      "Collecting pygsp\n",
      "  Downloading PyGSP-0.5.1-py2.py3-none-any.whl (1.8 MB)\n",
      "Collecting gensim>=4.0.0\n",
      "  Downloading gensim-4.2.0-cp38-cp38-win_amd64.whl (24.0 MB)\n",
      "Requirement already satisfied: pandas<=1.3.5 in c:\\users\\naomi\\anaconda3\\lib\\site-packages (from karateclub) (1.2.4)\n",
      "Requirement already satisfied: six in c:\\users\\naomi\\anaconda3\\lib\\site-packages (from karateclub) (1.15.0)\n",
      "Requirement already satisfied: python-Levenshtein in c:\\users\\naomi\\anaconda3\\lib\\site-packages (from karateclub) (0.12.2)\n",
      "Collecting smart-open>=1.8.1\n",
      "  Downloading smart_open-6.0.0-py3-none-any.whl (58 kB)\n",
      "Collecting Cython==0.29.28\n",
      "  Downloading Cython-0.29.28-py2.py3-none-any.whl (983 kB)\n",
      "Requirement already satisfied: python-dateutil>=2.7.3 in c:\\users\\naomi\\anaconda3\\lib\\site-packages (from pandas<=1.3.5->karateclub) (2.8.1)\n",
      "Requirement already satisfied: pytz>=2017.3 in c:\\users\\naomi\\anaconda3\\lib\\site-packages (from pandas<=1.3.5->karateclub) (2021.1)\n",
      "Requirement already satisfied: setuptools in c:\\users\\naomi\\anaconda3\\lib\\site-packages (from python-Levenshtein->karateclub) (52.0.0.post20210125)\n",
      "Requirement already satisfied: threadpoolctl>=2.0.0 in c:\\users\\naomi\\anaconda3\\lib\\site-packages (from scikit-learn->karateclub) (2.1.0)\n",
      "Requirement already satisfied: joblib>=0.11 in c:\\users\\naomi\\anaconda3\\lib\\site-packages (from scikit-learn->karateclub) (1.0.1)\n",
      "Building wheels for collected packages: karateclub\n",
      "  Building wheel for karateclub (setup.py): started\n",
      "  Building wheel for karateclub (setup.py): finished with status 'done'\n",
      "  Created wheel for karateclub: filename=karateclub-1.3.0-py3-none-any.whl size=98571 sha256=997823b6efe850f74be1bc3bd36026eb2f31f1dec65dda24d72c9fa690e89329\n",
      "  Stored in directory: c:\\users\\naomi\\appdata\\local\\pip\\cache\\wheels\\52\\78\\2f\\e906cbb1399b8d5a8e8a9d520a832fb2026da4f944de79bb54\n",
      "Successfully built karateclub\n",
      "Installing collected packages: decorator, smart-open, Cython, pygsp, gensim, karateclub\n",
      "  Attempting uninstall: decorator\n",
      "    Found existing installation: decorator 5.0.6\n",
      "    Uninstalling decorator-5.0.6:\n",
      "      Successfully uninstalled decorator-5.0.6\n",
      "  Attempting uninstall: Cython\n",
      "    Found existing installation: Cython 0.29.23\n",
      "    Uninstalling Cython-0.29.23:\n",
      "      Successfully uninstalled Cython-0.29.23\n",
      "Successfully installed Cython-0.29.28 decorator-4.4.2 gensim-4.2.0 karateclub-1.3.0 pygsp-0.5.1 smart-open-6.0.0\n",
      "Note: you may need to restart the kernel to use updated packages.\n"
     ]
    }
   ],
   "source": [
    "pip install karateclub"
   ]
  },
  {
   "cell_type": "code",
   "execution_count": 5,
   "id": "1b7a4336",
   "metadata": {},
   "outputs": [
    {
     "name": "stdout",
     "output_type": "stream",
     "text": [
      "Collecting wurlitzer\n",
      "  Downloading wurlitzer-3.0.2-py3-none-any.whl (7.3 kB)\n",
      "Installing collected packages: wurlitzer\n",
      "Successfully installed wurlitzer-3.0.2\n",
      "Note: you may need to restart the kernel to use updated packages.\n"
     ]
    }
   ],
   "source": [
    "pip install wurlitzer"
   ]
  },
  {
   "cell_type": "code",
   "execution_count": 6,
   "id": "12dea188",
   "metadata": {},
   "outputs": [
    {
     "name": "stdout",
     "output_type": "stream",
     "text": [
      "Collecting leidenalg\n",
      "  Downloading leidenalg-0.8.10-cp38-cp38-win_amd64.whl (104 kB)\n",
      "Requirement already satisfied: igraph<0.10,>=0.9.0 in c:\\users\\naomi\\anaconda3\\lib\\site-packages (from leidenalg) (0.9.11)\n",
      "Requirement already satisfied: texttable>=1.6.2 in c:\\users\\naomi\\anaconda3\\lib\\site-packages (from igraph<0.10,>=0.9.0->leidenalg) (1.6.4)\n",
      "Installing collected packages: leidenalg\n",
      "Successfully installed leidenalg-0.8.10\n",
      "Note: you may need to restart the kernel to use updated packages.\n"
     ]
    }
   ],
   "source": [
    "pip install leidenalg"
   ]
  },
  {
   "cell_type": "code",
   "execution_count": 7,
   "id": "a5a23f8a",
   "metadata": {},
   "outputs": [
    {
     "name": "stdout",
     "output_type": "stream",
     "text": [
      "Collecting ASLPAw\n",
      "  Downloading ASLPAw-2.2.0-py3-none-any.whl (17 kB)\n",
      "Collecting count-dict>=1.1.1\n",
      "  Downloading count_dict-1.1.1-py3-none-any.whl (15 kB)\n",
      "Requirement already satisfied: scikit-learn>=0.24.1 in c:\\users\\naomi\\anaconda3\\lib\\site-packages (from ASLPAw) (0.24.1)\n",
      "Collecting multivalued-dict>=2.0.1\n",
      "  Downloading multivalued_dict-2.0.1-py3-none-any.whl (21 kB)\n",
      "Collecting similarity-index-of-label-graph>=2.0.1\n",
      "  Downloading similarity_index_of_label_graph-2.0.1-py3-none-any.whl (17 kB)\n",
      "Collecting shuffle-graph>=2.2.0\n",
      "  Downloading shuffle_graph-2.2.0-py3-none-any.whl (16 kB)\n",
      "Requirement already satisfied: networkx>=2.4 in c:\\users\\naomi\\anaconda3\\lib\\site-packages (from ASLPAw) (2.5)\n",
      "Requirement already satisfied: decorator>=4.3.0 in c:\\users\\naomi\\anaconda3\\lib\\site-packages (from networkx>=2.4->ASLPAw) (4.4.2)\n",
      "Requirement already satisfied: numpy>=1.13.3 in c:\\users\\naomi\\anaconda3\\lib\\site-packages (from scikit-learn>=0.24.1->ASLPAw) (1.19.5)\n",
      "Requirement already satisfied: scipy>=0.19.1 in c:\\users\\naomi\\anaconda3\\lib\\site-packages (from scikit-learn>=0.24.1->ASLPAw) (1.6.2)\n",
      "Requirement already satisfied: threadpoolctl>=2.0.0 in c:\\users\\naomi\\anaconda3\\lib\\site-packages (from scikit-learn>=0.24.1->ASLPAw) (2.1.0)\n",
      "Requirement already satisfied: joblib>=0.11 in c:\\users\\naomi\\anaconda3\\lib\\site-packages (from scikit-learn>=0.24.1->ASLPAw) (1.0.1)\n",
      "Collecting complete-shuffle>=1.1.2\n",
      "  Downloading complete_shuffle-1.1.2-py3-none-any.whl (18 kB)\n",
      "Collecting gmpy2>=2.0.8\n",
      "  Downloading gmpy2-2.1.2-cp38-cp38-win_amd64.whl (1.1 MB)\n",
      "Collecting pure-nrng>=1.1.0\n",
      "  Downloading pure_nrng-1.1.0-py3-none-any.whl (21 kB)\n",
      "Collecting pure-prng>=2.9.0\n",
      "  Downloading pure_prng-2.9.0-py3-none-any.whl (32 kB)\n",
      "Collecting randomgen>=1.20.3\n",
      "  Downloading randomgen-1.21.2-cp38-cp38-win_amd64.whl (6.4 MB)\n",
      "Installing collected packages: gmpy2, randomgen, pure-nrng, pure-prng, complete-shuffle, similarity-index-of-label-graph, shuffle-graph, multivalued-dict, count-dict, ASLPAw\n",
      "Successfully installed ASLPAw-2.2.0 complete-shuffle-1.1.2 count-dict-1.1.1 gmpy2-2.1.2 multivalued-dict-2.0.1 pure-nrng-1.1.0 pure-prng-2.9.0 randomgen-1.21.2 shuffle-graph-2.2.0 similarity-index-of-label-graph-2.0.1\n",
      "Note: you may need to restart the kernel to use updated packages.\n"
     ]
    }
   ],
   "source": [
    "pip install ASLPAw"
   ]
  },
  {
   "cell_type": "code",
   "execution_count": 1,
   "id": "814c46a6",
   "metadata": {},
   "outputs": [
    {
     "name": "stdout",
     "output_type": "stream",
     "text": [
      "Collecting graphml\n",
      "  Downloading graphml-0.0.1-py3-none-any.whl (5.7 kB)\n",
      "Collecting typer\n",
      "  Downloading typer-0.6.1-py3-none-any.whl (38 kB)\n",
      "Requirement already satisfied: click<9.0.0,>=7.1.1 in c:\\users\\naomi\\anaconda3\\lib\\site-packages (from typer->graphml) (7.1.2)\n",
      "Installing collected packages: typer, graphml\n",
      "Successfully installed graphml-0.0.1 typer-0.6.1\n",
      "Note: you may need to restart the kernel to use updated packages.\n"
     ]
    }
   ],
   "source": [
    "pip install graphml"
   ]
  },
  {
   "cell_type": "code",
   "execution_count": 1,
   "id": "a5d93224",
   "metadata": {},
   "outputs": [
    {
     "name": "stdout",
     "output_type": "stream",
     "text": [
      "Requirement already satisfied: wurlitzer in c:\\users\\naomi\\anaconda3\\lib\\site-packages (3.0.2)\n",
      "Note: you may need to restart the kernel to use updated packages.\n"
     ]
    }
   ],
   "source": [
    "pip install wurlitzer"
   ]
  },
  {
   "cell_type": "code",
   "execution_count": 1,
   "id": "f209dd4c",
   "metadata": {},
   "outputs": [
    {
     "name": "stdout",
     "output_type": "stream",
     "text": [
      "Collecting linkpred\n",
      "  Downloading linkpred-0.5.1.tar.gz (23 kB)\n",
      "Requirement already satisfied: matplotlib>=2.1 in c:\\users\\naomi\\anaconda3\\lib\\site-packages (from linkpred) (3.3.4)\n",
      "Requirement already satisfied: networkx>=2.4 in c:\\users\\naomi\\anaconda3\\lib\\site-packages (from linkpred) (2.5)\n",
      "Requirement already satisfied: numpy>=1.14 in c:\\users\\naomi\\anaconda3\\lib\\site-packages (from linkpred) (1.19.5)\n",
      "Requirement already satisfied: pyyaml>=3.0 in c:\\users\\naomi\\anaconda3\\lib\\site-packages (from linkpred) (5.4.1)\n",
      "Requirement already satisfied: scipy>=1.0 in c:\\users\\naomi\\anaconda3\\lib\\site-packages (from linkpred) (1.6.2)\n",
      "Collecting smokesignal>=0.7\n",
      "  Downloading smokesignal-0.7.0.tar.gz (5.9 kB)\n",
      "Requirement already satisfied: pillow>=6.2.0 in c:\\users\\naomi\\anaconda3\\lib\\site-packages (from matplotlib>=2.1->linkpred) (8.2.0)\n",
      "Requirement already satisfied: pyparsing!=2.0.4,!=2.1.2,!=2.1.6,>=2.0.3 in c:\\users\\naomi\\anaconda3\\lib\\site-packages (from matplotlib>=2.1->linkpred) (2.4.7)\n",
      "Requirement already satisfied: cycler>=0.10 in c:\\users\\naomi\\anaconda3\\lib\\site-packages (from matplotlib>=2.1->linkpred) (0.10.0)\n",
      "Requirement already satisfied: kiwisolver>=1.0.1 in c:\\users\\naomi\\anaconda3\\lib\\site-packages (from matplotlib>=2.1->linkpred) (1.3.1)\n",
      "Requirement already satisfied: python-dateutil>=2.1 in c:\\users\\naomi\\anaconda3\\lib\\site-packages (from matplotlib>=2.1->linkpred) (2.8.1)\n",
      "Requirement already satisfied: six in c:\\users\\naomi\\anaconda3\\lib\\site-packages (from cycler>=0.10->matplotlib>=2.1->linkpred) (1.15.0)\n",
      "Requirement already satisfied: decorator>=4.3.0 in c:\\users\\naomi\\anaconda3\\lib\\site-packages (from networkx>=2.4->linkpred) (4.4.2)\n",
      "Building wheels for collected packages: linkpred, smokesignal\n",
      "  Building wheel for linkpred (setup.py): started\n",
      "  Building wheel for linkpred (setup.py): finished with status 'done'\n",
      "  Created wheel for linkpred: filename=linkpred-0.5.1-py3-none-any.whl size=28750 sha256=15deb09cc11009d56393af57a0a1eab239c8202d92cc7a0d63658d4ce102ee70\n",
      "  Stored in directory: c:\\users\\naomi\\appdata\\local\\pip\\cache\\wheels\\b6\\3a\\33\\ccf5dae9d822ae006b4704a63523ff519d09e3dca1a08abf83\n",
      "  Building wheel for smokesignal (setup.py): started\n",
      "  Building wheel for smokesignal (setup.py): finished with status 'done'\n",
      "  Created wheel for smokesignal: filename=smokesignal-0.7.0-py3-none-any.whl size=6032 sha256=42caaacea0cbc52db389c92d894c987e453f43de1edb47747f4eff6caa83593a\n",
      "  Stored in directory: c:\\users\\naomi\\appdata\\local\\pip\\cache\\wheels\\7a\\a3\\9a\\005090c2911b9f8813a5c00e765e2365f64cd6c284ebcdb851\n",
      "Successfully built linkpred smokesignal\n",
      "Installing collected packages: smokesignal, linkpred\n",
      "Successfully installed linkpred-0.5.1 smokesignal-0.7.0\n",
      "Note: you may need to restart the kernel to use updated packages.\n"
     ]
    }
   ],
   "source": [
    "pip install linkpred"
   ]
  },
  {
   "cell_type": "code",
   "execution_count": 1,
   "id": "048d5c3c",
   "metadata": {},
   "outputs": [],
   "source": [
    "import nltk"
   ]
  },
  {
   "cell_type": "code",
   "execution_count": null,
   "id": "536c9005",
   "metadata": {},
   "outputs": [
    {
     "name": "stderr",
     "output_type": "stream",
     "text": [
      "[nltk_data] Downloading package wordnet to\n",
      "[nltk_data]     C:\\Users\\naomi\\AppData\\Roaming\\nltk_data...\n"
     ]
    }
   ],
   "source": [
    "nltk.download('wordnet')"
   ]
  },
  {
   "cell_type": "code",
   "execution_count": null,
   "id": "2a6495ed",
   "metadata": {},
   "outputs": [],
   "source": []
  }
 ],
 "metadata": {
  "kernelspec": {
   "display_name": "Python 3",
   "language": "python",
   "name": "python3"
  },
  "language_info": {
   "codemirror_mode": {
    "name": "ipython",
    "version": 3
   },
   "file_extension": ".py",
   "mimetype": "text/x-python",
   "name": "python",
   "nbconvert_exporter": "python",
   "pygments_lexer": "ipython3",
   "version": "3.8.8"
  }
 },
 "nbformat": 4,
 "nbformat_minor": 5
}
