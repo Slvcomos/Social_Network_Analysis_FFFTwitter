{
 "cells": [
  {
   "cell_type": "code",
   "execution_count": 36,
   "metadata": {
    "id": "Q3c1GQT1jWvJ"
   },
   "outputs": [],
   "source": [
    "import networkx as nx\n",
    "import pandas as pd\n",
    "import numpy as np\n",
    "import json\n",
    "import cdlib                 # pip install cdlib #\n",
    "from cdlib import evaluation\n",
    "from cdlib import algorithms\n",
    "from cdlib import viz\n",
    "from cdlib import ensemble\n",
    "from cdlib import readwrite\n",
    "import pickle\n",
    "import pquality             # pip install pquality #\n",
    "import matplotlib.pyplot as plt\n",
    "%matplotlib inline\n",
    "from nf1 import NF1"
   ]
  },
  {
   "cell_type": "code",
   "execution_count": 27,
   "metadata": {
    "id": "pfGT1IJn3ZJ6"
   },
   "outputs": [],
   "source": []
  },
  {
   "cell_type": "markdown",
   "metadata": {
    "id": "-rHp7m_E3ZnP"
   },
   "source": [
    "# Codici utili per tutti gli algortimi "
   ]
  },
  {
   "cell_type": "code",
   "execution_count": 37,
   "metadata": {
    "id": "XL-KOuNYuOCo"
   },
   "outputs": [],
   "source": [
    "#Per plottare le communities per dimensione\n",
    "def plot_communities_dimentions(coms):\n",
    "    myd = {}\n",
    "    for t in coms:\n",
    "        lunghezza = len(t)\n",
    "\n",
    "        if str(lunghezza) in myd:\n",
    "            myd[str(lunghezza)] = myd[str(lunghezza)] + 1\n",
    "        else:\n",
    "            myd[str(lunghezza)] = 1\n",
    "\n",
    "    print(myd)\n",
    "    plt.figure(figsize=(20,5))\n",
    "    plt.bar(myd.keys(), myd.values(), color='b')"
   ]
  },
  {
   "cell_type": "code",
   "execution_count": 38,
   "metadata": {
    "id": "viWlO7dXnwR9"
   },
   "outputs": [],
   "source": [
    "def print_bold_str(s):\n",
    "    return \"\\033[1m\" + s + \"\\033[0m\""
   ]
  },
  {
   "cell_type": "code",
   "execution_count": 39,
   "metadata": {
    "id": "_sAT6Ggq3qQv"
   },
   "outputs": [],
   "source": [
    "#Da utilizzare per i confronti\n",
    "def scatter_plot(sizes, title):\n",
    "    fig = plt.figure(figsize=(16,8), dpi= 150)\n",
    "    ax = fig.add_subplot(111)\n",
    "\n",
    "   \n",
    "    labels = []\n",
    "    for i in sizes:\n",
    "        plt.scatter(i[0], i[1], alpha=0.5)\n",
    "        labels.append(i[2])\n",
    "    \n",
    "    \n",
    "    \n",
    "    fontsize = 15\n",
    "    \n",
    "    #plt.yticks(ticks=y_list, labels=y_list, fontsize=fontsize, alpha=.7)\n",
    "    plt.yticks(fontsize=fontsize, alpha=1)\n",
    "    plt.xticks(fontsize=fontsize, alpha=1)\n",
    "    plt.xlabel(\"Size\", fontsize=fontsize)\n",
    "    plt.ylabel(\"Internal Edge Density\", fontsize=fontsize)\n",
    "    plt.title(title + \" Scatter Plot\", fontsize=fontsize)\n",
    "    plt.legend(labels,fontsize=fontsize)\n",
    "    plt.grid(axis='both', alpha=.3)\n",
    "    plt.xscale(\"log\")\n",
    "    plt.yscale(\"linear\")\n",
    "    \n",
    "    #for i, v in enumerate(df[feature_2].values.tolist()):\n",
    "        #ax.text(i-0.4, v+6, str(v))\n",
    "    \n",
    "    #ax.yaxis.set_major_formatter(FormatStrFormatter('%.6f'))\n",
    "    \n",
    "    # Remove borders\n",
    "    plt.gca().spines[\"top\"].set_alpha(0.0)    \n",
    "    plt.gca().spines[\"bottom\"].set_alpha(0.3)\n",
    "    plt.gca().spines[\"right\"].set_alpha(0.0)    \n",
    "    plt.gca().spines[\"left\"].set_alpha(0.3)   \n",
    "    plt.show()"
   ]
  },
  {
   "cell_type": "code",
   "execution_count": 30,
   "metadata": {
    "id": "RCZ5Y9fY7dpa"
   },
   "outputs": [],
   "source": []
  },
  {
   "cell_type": "markdown",
   "metadata": {
    "id": "4ZNfUn8L7eCM"
   },
   "source": [
    "Importazione dati"
   ]
  },
  {
   "cell_type": "code",
   "execution_count": 31,
   "metadata": {
    "id": "NBlFRnZN7nbt"
   },
   "outputs": [],
   "source": [
    "community_path = \"../content/Dati/\""
   ]
  },
  {
   "cell_type": "code",
   "execution_count": 32,
   "metadata": {
    "id": "2oh-QTk_GYCd"
   },
   "outputs": [],
   "source": [
    "path = '../content/Real_Network.graphml'"
   ]
  },
  {
   "cell_type": "code",
   "execution_count": 40,
   "metadata": {
    "id": "ifhcVjWrlEBh"
   },
   "outputs": [],
   "source": [
    "G = nx.read_graphml('Real_Network.graphml')"
   ]
  },
  {
   "cell_type": "markdown",
   "metadata": {},
   "source": [
    "# 4 - Infomap"
   ]
  },
  {
   "cell_type": "code",
   "execution_count": 66,
   "metadata": {
    "id": "04Mw6Am_s-he"
   },
   "outputs": [],
   "source": [
    "infomap_coms = cdlib.algorithms.infomap(G)"
   ]
  },
  {
   "cell_type": "code",
   "execution_count": 67,
   "metadata": {
    "colab": {
     "base_uri": "https://localhost:8080/"
    },
    "id": "oCnq692woCLh",
    "outputId": "0792d763-9b41-435d-fe56-ec2fef33ca2a"
   },
   "outputs": [
    {
     "name": "stdout",
     "output_type": "stream",
     "text": [
      "\u001b[1mAverage Internal Degree:\u001b[0m FitnessResult(min=1.0, max=19.381818181818183, score=3.2204027195103953, std=2.3824052279840995)\n",
      "\u001b[1mInternal Edge Density:\u001b[0m FitnessResult(min=0.004258435961640009, max=1.0, score=0.6337837492475435, std=0.3652293822200047)\n",
      "\u001b[1mConductance:\u001b[0m FitnessResult(min=0.0, max=0.8829953198127926, score=0.4678081590463603, std=0.18652675451716627)\n",
      "\u001b[1mErdos Renyi Modularity:\u001b[0m FitnessResult(min=None, max=None, score=0.4035544692337002, std=None)\n",
      "\u001b[1mNewman Girvan Modularity:\u001b[0m FitnessResult(min=None, max=None, score=0.3902780519240632, std=None)\n",
      "\u001b[1mModularity Density:\u001b[0m FitnessResult(min=None, max=None, score=-196.92674580667466, std=None)\n",
      "\u001b[1mZ Modularity:\u001b[0m FitnessResult(min=None, max=None, score=2.7114036558607424, std=None)\n",
      "\u001b[1mTriangle Partecipation Ratio:\u001b[0m FitnessResult(min=0.0, max=1.0, score=0.6336927066693016, std=0.39132596511260653)\n",
      "\u001b[1mN_Community:\u001b[0m 706\n",
      "\u001b[1mMax_Dim_Community:\u001b[0m 594\n"
     ]
    }
   ],
   "source": [
    "print(print_bold_str(\"Average Internal Degree:\"), infomap_coms.average_internal_degree())\n",
    "print(print_bold_str(\"Internal Edge Density:\"), infomap_coms.internal_edge_density())\n",
    "print(print_bold_str(\"Conductance:\"), infomap_coms.conductance())\n",
    "print(print_bold_str(\"Erdos Renyi Modularity:\"), infomap_coms.erdos_renyi_modularity())\n",
    "print(print_bold_str(\"Newman Girvan Modularity:\"), infomap_coms.newman_girvan_modularity())\n",
    "print(print_bold_str(\"Modularity Density:\"), infomap_coms.modularity_density())\n",
    "print(print_bold_str(\"Z Modularity:\"), infomap_coms.z_modularity())\n",
    "print(print_bold_str(\"Triangle Partecipation Ratio:\"), infomap_coms.triangle_participation_ratio())\n",
    "\n",
    "print(print_bold_str(\"N_Community:\"), len(infomap_coms.communities))\n",
    "\n",
    "max_com_len = 0\n",
    "for com in infomap_coms.communities:\n",
    "    if len(com) > max_com_len:\n",
    "        max_com_len = len(com)\n",
    "print(print_bold_str(\"Max_Dim_Community:\"), max_com_len)  "
   ]
  },
  {
   "cell_type": "code",
   "execution_count": 68,
   "metadata": {
    "id": "ga47rN5Q07RW"
   },
   "outputs": [],
   "source": [
    "with open('infomap.pickle', 'wb') as f:\n",
    "    pickle.dump(infomap_coms, f)"
   ]
  },
  {
   "cell_type": "code",
   "execution_count": 69,
   "metadata": {
    "id": "lr6HWBZHtWin"
   },
   "outputs": [],
   "source": [
    "infomap_tuple = [tuple(x) for x in infomap_coms.communities]"
   ]
  },
  {
   "cell_type": "code",
   "execution_count": 70,
   "metadata": {
    "colab": {
     "base_uri": "https://localhost:8080/",
     "height": 346
    },
    "id": "VOaEEDj-toUa",
    "outputId": "a81b25cb-4fc2-4159-8787-1b1eb995169a"
   },
   "outputs": [
    {
     "name": "stdout",
     "output_type": "stream",
     "text": [
      "{'594': 1, '291': 1, '250': 1, '160': 1, '159': 1, '140': 1, '130': 1, '110': 1, '109': 1, '93': 1, '88': 2, '82': 1, '77': 1, '69': 1, '68': 2, '65': 1, '64': 1, '62': 1, '61': 1, '59': 1, '57': 3, '55': 4, '54': 3, '53': 1, '51': 1, '50': 2, '47': 1, '46': 1, '44': 3, '43': 2, '42': 3, '41': 2, '40': 1, '39': 2, '37': 1, '36': 3, '35': 4, '34': 6, '33': 3, '32': 5, '31': 4, '30': 4, '29': 5, '28': 9, '27': 4, '26': 2, '25': 7, '24': 5, '23': 2, '22': 14, '21': 11, '20': 6, '19': 14, '18': 16, '17': 11, '16': 14, '15': 10, '14': 10, '13': 11, '12': 15, '11': 14, '10': 19, '9': 18, '8': 27, '7': 19, '6': 25, '5': 26, '4': 54, '3': 88, '2': 169}\n"
     ]
    },
    {
     "data": {
      "image/png": "[encoded data removed]",
      "text/plain": [
       "<Figure size 1440x360 with 1 Axes>"
      ]
     },
     "metadata": {
      "needs_background": "light"
     },
     "output_type": "display_data"
    }
   ],
   "source": [
    "plot_communities_dimentions(infomap_tuple)"
   ]
  },
  {
   "cell_type": "code",
   "execution_count": 72,
   "metadata": {
    "colab": {
     "base_uri": "https://localhost:8080/",
     "height": 457
    },
    "id": "yZl2hldlzezU",
    "outputId": "09224ef4-7671-43e8-fc5d-6f887c9ce908"
   },
   "outputs": [
    {
     "data": {
      "text/html": [
       "\n",
       "  <div id=\"df-52921020-e57c-422e-8375-d89a71d13baf\">\n",
       "    <div class=\"colab-df-container\">\n",
       "      <div>\n",
       "<style scoped>\n",
       "    .dataframe tbody tr th:only-of-type {\n",
       "        vertical-align: middle;\n",
       "    }\n",
       "\n",
       "    .dataframe tbody tr th {\n",
       "        vertical-align: top;\n",
       "    }\n",
       "\n",
       "    .dataframe thead th {\n",
       "        text-align: right;\n",
       "    }\n",
       "</style>\n",
       "<table border=\"1\" class=\"dataframe\">\n",
       "  <thead>\n",
       "    <tr style=\"text-align: right;\">\n",
       "      <th></th>\n",
       "      <th>min</th>\n",
       "      <th>max</th>\n",
       "      <th>avg</th>\n",
       "      <th>std</th>\n",
       "    </tr>\n",
       "    <tr>\n",
       "      <th>Index</th>\n",
       "      <th></th>\n",
       "      <th></th>\n",
       "      <th></th>\n",
       "      <th></th>\n",
       "    </tr>\n",
       "  </thead>\n",
       "  <tbody>\n",
       "    <tr>\n",
       "      <th>Internal Density</th>\n",
       "      <td>0.004258</td>\n",
       "      <td>1.000000</td>\n",
       "      <td>0.633784</td>\n",
       "      <td>0.365229</td>\n",
       "    </tr>\n",
       "    <tr>\n",
       "      <th>Edges inside</th>\n",
       "      <td>1.000000</td>\n",
       "      <td>2487.000000</td>\n",
       "      <td>37.274788</td>\n",
       "      <td>123.047175</td>\n",
       "    </tr>\n",
       "    <tr>\n",
       "      <th>Average Degree</th>\n",
       "      <td>1.000000</td>\n",
       "      <td>19.381818</td>\n",
       "      <td>3.220403</td>\n",
       "      <td>2.382405</td>\n",
       "    </tr>\n",
       "    <tr>\n",
       "      <th>FOMD</th>\n",
       "      <td>0.000000</td>\n",
       "      <td>0.500000</td>\n",
       "      <td>0.175062</td>\n",
       "      <td>0.190100</td>\n",
       "    </tr>\n",
       "    <tr>\n",
       "      <th>TPR</th>\n",
       "      <td>0.000000</td>\n",
       "      <td>1.000000</td>\n",
       "      <td>0.633693</td>\n",
       "      <td>0.391326</td>\n",
       "    </tr>\n",
       "    <tr>\n",
       "      <th>Expansion</th>\n",
       "      <td>0.000000</td>\n",
       "      <td>20.391753</td>\n",
       "      <td>3.499336</td>\n",
       "      <td>3.042585</td>\n",
       "    </tr>\n",
       "    <tr>\n",
       "      <th>Cut Ratio</th>\n",
       "      <td>0.000000</td>\n",
       "      <td>0.002025</td>\n",
       "      <td>0.000339</td>\n",
       "      <td>0.000296</td>\n",
       "    </tr>\n",
       "    <tr>\n",
       "      <th>Conductance</th>\n",
       "      <td>0.000000</td>\n",
       "      <td>0.882995</td>\n",
       "      <td>0.467808</td>\n",
       "      <td>0.186527</td>\n",
       "    </tr>\n",
       "    <tr>\n",
       "      <th>Normalized Cut</th>\n",
       "      <td>0.000000</td>\n",
       "      <td>0.949441</td>\n",
       "      <td>0.468633</td>\n",
       "      <td>0.187305</td>\n",
       "    </tr>\n",
       "    <tr>\n",
       "      <th>Maximum-ODF</th>\n",
       "      <td>0.000000</td>\n",
       "      <td>8385.000000</td>\n",
       "      <td>45.480170</td>\n",
       "      <td>330.313029</td>\n",
       "    </tr>\n",
       "    <tr>\n",
       "      <th>Average-ODF</th>\n",
       "      <td>0.000000</td>\n",
       "      <td>20.391753</td>\n",
       "      <td>3.499336</td>\n",
       "      <td>3.042585</td>\n",
       "    </tr>\n",
       "    <tr>\n",
       "      <th>Flake-ODF</th>\n",
       "      <td>0.000000</td>\n",
       "      <td>1.000000</td>\n",
       "      <td>0.260869</td>\n",
       "      <td>0.281083</td>\n",
       "    </tr>\n",
       "  </tbody>\n",
       "</table>\n",
       "</div>\n",
       "      <button class=\"colab-df-convert\" onclick=\"convertToInteractive('df-52921020-e57c-422e-8375-d89a71d13baf')\"\n",
       "              title=\"Convert this dataframe to an interactive table.\"\n",
       "              style=\"display:none;\">\n",
       "        \n",
       "  <svg xmlns=\"http://www.w3.org/2000/svg\" height=\"24px\"viewBox=\"0 0 24 24\"\n",
       "       width=\"24px\">\n",
       "    <path d=\"M0 0h24v24H0V0z\" fill=\"none\"/>\n",
       "    <path d=\"M18.56 5.44l.94 2.06.94-2.06 2.06-.94-2.06-.94-.94-2.06-.94 2.06-2.06.94zm-11 1L8.5 8.5l.94-2.06 2.06-.94-2.06-.94L8.5 2.5l-.94 2.06-2.06.94zm10 10l.94 2.06.94-2.06 2.06-.94-2.06-.94-.94-2.06-.94 2.06-2.06.94z\"/><path d=\"M17.41 7.96l-1.37-1.37c-.4-.4-.92-.59-1.43-.59-.52 0-1.04.2-1.43.59L10.3 9.45l-7.72 7.72c-.78.78-.78 2.05 0 2.83L4 21.41c.39.39.9.59 1.41.59.51 0 1.02-.2 1.41-.59l7.78-7.78 2.81-2.81c.8-.78.8-2.07 0-2.86zM5.41 20L4 18.59l7.72-7.72 1.47 1.35L5.41 20z\"/>\n",
       "  </svg>\n",
       "      </button>\n",
       "      \n",
       "  <style>\n",
       "    .colab-df-container {\n",
       "      display:flex;\n",
       "      flex-wrap:wrap;\n",
       "      gap: 12px;\n",
       "    }\n",
       "\n",
       "    .colab-df-convert {\n",
       "      background-color: #E8F0FE;\n",
       "      border: none;\n",
       "      border-radius: 50%;\n",
       "      cursor: pointer;\n",
       "      display: none;\n",
       "      fill: #1967D2;\n",
       "      height: 32px;\n",
       "      padding: 0 0 0 0;\n",
       "      width: 32px;\n",
       "    }\n",
       "\n",
       "    .colab-df-convert:hover {\n",
       "      background-color: #E2EBFA;\n",
       "      box-shadow: 0px 1px 2px rgba(60, 64, 67, 0.3), 0px 1px 3px 1px rgba(60, 64, 67, 0.15);\n",
       "      fill: #174EA6;\n",
       "    }\n",
       "\n",
       "    [theme=dark] .colab-df-convert {\n",
       "      background-color: #3B4455;\n",
       "      fill: #D2E3FC;\n",
       "    }\n",
       "\n",
       "    [theme=dark] .colab-df-convert:hover {\n",
       "      background-color: #434B5C;\n",
       "      box-shadow: 0px 1px 3px 1px rgba(0, 0, 0, 0.15);\n",
       "      filter: drop-shadow(0px 1px 2px rgba(0, 0, 0, 0.3));\n",
       "      fill: #FFFFFF;\n",
       "    }\n",
       "  </style>\n",
       "\n",
       "      <script>\n",
       "        const buttonEl =\n",
       "          document.querySelector('#df-52921020-e57c-422e-8375-d89a71d13baf button.colab-df-convert');\n",
       "        buttonEl.style.display =\n",
       "          google.colab.kernel.accessAllowed ? 'block' : 'none';\n",
       "\n",
       "        async function convertToInteractive(key) {\n",
       "          const element = document.querySelector('#df-52921020-e57c-422e-8375-d89a71d13baf');\n",
       "          const dataTable =\n",
       "            await google.colab.kernel.invokeFunction('convertToInteractive',\n",
       "                                                     [key], {});\n",
       "          if (!dataTable) return;\n",
       "\n",
       "          const docLinkHtml = 'Like what you see? Visit the ' +\n",
       "            '<a target=\"_blank\" href=https://colab.research.google.com/notebooks/data_table.ipynb>data table notebook</a>'\n",
       "            + ' to learn more about interactive tables.';\n",
       "          element.innerHTML = '';\n",
       "          dataTable['output_type'] = 'display_data';\n",
       "          await google.colab.output.renderOutput(dataTable, element);\n",
       "          const docLink = document.createElement('div');\n",
       "          docLink.innerHTML = docLinkHtml;\n",
       "          element.appendChild(docLink);\n",
       "        }\n",
       "      </script>\n",
       "    </div>\n",
       "  </div>\n",
       "  "
      ],
      "text/plain": [
       "                       min          max        avg         std\n",
       "Index                                                         \n",
       "Internal Density  0.004258     1.000000   0.633784    0.365229\n",
       "Edges inside      1.000000  2487.000000  37.274788  123.047175\n",
       "Average Degree    1.000000    19.381818   3.220403    2.382405\n",
       "FOMD              0.000000     0.500000   0.175062    0.190100\n",
       "TPR               0.000000     1.000000   0.633693    0.391326\n",
       "Expansion         0.000000    20.391753   3.499336    3.042585\n",
       "Cut Ratio         0.000000     0.002025   0.000339    0.000296\n",
       "Conductance       0.000000     0.882995   0.467808    0.186527\n",
       "Normalized Cut    0.000000     0.949441   0.468633    0.187305\n",
       "Maximum-ODF       0.000000  8385.000000  45.480170  330.313029\n",
       "Average-ODF       0.000000    20.391753   3.499336    3.042585\n",
       "Flake-ODF         0.000000     1.000000   0.260869    0.281083"
      ]
     },
     "execution_count": 72,
     "metadata": {},
     "output_type": "execute_result"
    }
   ],
   "source": [
    "results = pquality.pquality_summary(G, infomap_tuple)\n",
    "results['Indexes']"
   ]
  },
  {
   "cell_type": "code",
   "execution_count": 73,
   "metadata": {
    "colab": {
     "base_uri": "https://localhost:8080/",
     "height": 112
    },
    "id": "JPl5AM6Sze2X",
    "outputId": "87c82963-a90d-4de9-8d33-605d7f94aa05"
   },
   "outputs": [
    {
     "data": {
      "text/html": [
       "\n",
       "  <div id=\"df-ec405ef6-0374-4444-9176-d4f02c30d5d7\">\n",
       "    <div class=\"colab-df-container\">\n",
       "      <div>\n",
       "<style scoped>\n",
       "    .dataframe tbody tr th:only-of-type {\n",
       "        vertical-align: middle;\n",
       "    }\n",
       "\n",
       "    .dataframe tbody tr th {\n",
       "        vertical-align: top;\n",
       "    }\n",
       "\n",
       "    .dataframe thead th {\n",
       "        text-align: right;\n",
       "    }\n",
       "</style>\n",
       "<table border=\"1\" class=\"dataframe\">\n",
       "  <thead>\n",
       "    <tr style=\"text-align: right;\">\n",
       "      <th></th>\n",
       "      <th>value</th>\n",
       "    </tr>\n",
       "    <tr>\n",
       "      <th>Index</th>\n",
       "      <th></th>\n",
       "    </tr>\n",
       "  </thead>\n",
       "  <tbody>\n",
       "    <tr>\n",
       "      <th>Modularity (no overlap)</th>\n",
       "      <td>0.390278</td>\n",
       "    </tr>\n",
       "  </tbody>\n",
       "</table>\n",
       "</div>\n",
       "      <button class=\"colab-df-convert\" onclick=\"convertToInteractive('df-ec405ef6-0374-4444-9176-d4f02c30d5d7')\"\n",
       "              title=\"Convert this dataframe to an interactive table.\"\n",
       "              style=\"display:none;\">\n",
       "        \n",
       "  <svg xmlns=\"http://www.w3.org/2000/svg\" height=\"24px\"viewBox=\"0 0 24 24\"\n",
       "       width=\"24px\">\n",
       "    <path d=\"M0 0h24v24H0V0z\" fill=\"none\"/>\n",
       "    <path d=\"M18.56 5.44l.94 2.06.94-2.06 2.06-.94-2.06-.94-.94-2.06-.94 2.06-2.06.94zm-11 1L8.5 8.5l.94-2.06 2.06-.94-2.06-.94L8.5 2.5l-.94 2.06-2.06.94zm10 10l.94 2.06.94-2.06 2.06-.94-2.06-.94-.94-2.06-.94 2.06-2.06.94z\"/><path d=\"M17.41 7.96l-1.37-1.37c-.4-.4-.92-.59-1.43-.59-.52 0-1.04.2-1.43.59L10.3 9.45l-7.72 7.72c-.78.78-.78 2.05 0 2.83L4 21.41c.39.39.9.59 1.41.59.51 0 1.02-.2 1.41-.59l7.78-7.78 2.81-2.81c.8-.78.8-2.07 0-2.86zM5.41 20L4 18.59l7.72-7.72 1.47 1.35L5.41 20z\"/>\n",
       "  </svg>\n",
       "      </button>\n",
       "      \n",
       "  <style>\n",
       "    .colab-df-container {\n",
       "      display:flex;\n",
       "      flex-wrap:wrap;\n",
       "      gap: 12px;\n",
       "    }\n",
       "\n",
       "    .colab-df-convert {\n",
       "      background-color: #E8F0FE;\n",
       "      border: none;\n",
       "      border-radius: 50%;\n",
       "      cursor: pointer;\n",
       "      display: none;\n",
       "      fill: #1967D2;\n",
       "      height: 32px;\n",
       "      padding: 0 0 0 0;\n",
       "      width: 32px;\n",
       "    }\n",
       "\n",
       "    .colab-df-convert:hover {\n",
       "      background-color: #E2EBFA;\n",
       "      box-shadow: 0px 1px 2px rgba(60, 64, 67, 0.3), 0px 1px 3px 1px rgba(60, 64, 67, 0.15);\n",
       "      fill: #174EA6;\n",
       "    }\n",
       "\n",
       "    [theme=dark] .colab-df-convert {\n",
       "      background-color: #3B4455;\n",
       "      fill: #D2E3FC;\n",
       "    }\n",
       "\n",
       "    [theme=dark] .colab-df-convert:hover {\n",
       "      background-color: #434B5C;\n",
       "      box-shadow: 0px 1px 3px 1px rgba(0, 0, 0, 0.15);\n",
       "      filter: drop-shadow(0px 1px 2px rgba(0, 0, 0, 0.3));\n",
       "      fill: #FFFFFF;\n",
       "    }\n",
       "  </style>\n",
       "\n",
       "      <script>\n",
       "        const buttonEl =\n",
       "          document.querySelector('#df-ec405ef6-0374-4444-9176-d4f02c30d5d7 button.colab-df-convert');\n",
       "        buttonEl.style.display =\n",
       "          google.colab.kernel.accessAllowed ? 'block' : 'none';\n",
       "\n",
       "        async function convertToInteractive(key) {\n",
       "          const element = document.querySelector('#df-ec405ef6-0374-4444-9176-d4f02c30d5d7');\n",
       "          const dataTable =\n",
       "            await google.colab.kernel.invokeFunction('convertToInteractive',\n",
       "                                                     [key], {});\n",
       "          if (!dataTable) return;\n",
       "\n",
       "          const docLinkHtml = 'Like what you see? Visit the ' +\n",
       "            '<a target=\"_blank\" href=https://colab.research.google.com/notebooks/data_table.ipynb>data table notebook</a>'\n",
       "            + ' to learn more about interactive tables.';\n",
       "          element.innerHTML = '';\n",
       "          dataTable['output_type'] = 'display_data';\n",
       "          await google.colab.output.renderOutput(dataTable, element);\n",
       "          const docLink = document.createElement('div');\n",
       "          docLink.innerHTML = docLinkHtml;\n",
       "          element.appendChild(docLink);\n",
       "        }\n",
       "      </script>\n",
       "    </div>\n",
       "  </div>\n",
       "  "
      ],
      "text/plain": [
       "                            value\n",
       "Index                            \n",
       "Modularity (no overlap)  0.390278"
      ]
     },
     "execution_count": 73,
     "metadata": {},
     "output_type": "execute_result"
    }
   ],
   "source": [
    "results['Modularity']"
   ]
  },
  {
   "cell_type": "code",
   "execution_count": null,
   "metadata": {
    "id": "gIjK6Pzxze4_"
   },
   "outputs": [],
   "source": []
  },
  {
   "cell_type": "code",
   "execution_count": null,
   "metadata": {
    "id": "HR8M6qoYDfMY"
   },
   "outputs": [],
   "source": []
  },
  {
   "cell_type": "code",
   "execution_count": null,
   "metadata": {
    "id": "yTbys14XDfRN"
   },
   "outputs": [],
   "source": []
  }
 ],
 "metadata": {
  "colab": {
   "collapsed_sections": [],
   "name": "1 - CommunityDiscovery.ipynb",
   "provenance": []
  },
  "kernelspec": {
   "display_name": "Python 3",
   "language": "python",
   "name": "python3"
  },
  "language_info": {
   "codemirror_mode": {
    "name": "ipython",
    "version": 3
   },
   "file_extension": ".py",
   "mimetype": "text/x-python",
   "name": "python",
   "nbconvert_exporter": "python",
   "pygments_lexer": "ipython3",
   "version": "3.8.8"
  }
 },
 "nbformat": 4,
 "nbformat_minor": 1
}
