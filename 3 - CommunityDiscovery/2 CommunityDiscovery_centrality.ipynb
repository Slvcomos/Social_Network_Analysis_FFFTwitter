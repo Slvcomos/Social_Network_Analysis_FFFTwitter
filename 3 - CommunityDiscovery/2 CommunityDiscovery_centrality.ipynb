{
 "cells": [
  {
   "cell_type": "code",
   "execution_count": 1,
   "id": "a5c62f43",
   "metadata": {},
   "outputs": [
    {
     "name": "stdout",
     "output_type": "stream",
     "text": [
      "Note: to be able to use all crisp methods, you need to install some additional packages:  {'karateclub', 'wurlitzer', 'graph_tool'}\n",
      "Note: to be able to use all overlapping methods, you need to install some additional packages:  {'karateclub'}\n",
      "Note: to be able to use all bipartite methods, you need to install some additional packages:  {'wurlitzer'}\n"
     ]
    }
   ],
   "source": [
    "import networkx as nx\n",
    "import pandas as pd\n",
    "import numpy as np\n",
    "import json\n",
    "import cdlib\n",
    "from cdlib import evaluation\n",
    "from cdlib import algorithms\n",
    "from cdlib import viz\n",
    "from cdlib import ensemble\n",
    "from cdlib import readwrite\n",
    "import pickle\n",
    "import pquality\n",
    "import matplotlib.pyplot as plt\n",
    "%matplotlib inline\n",
    "from nf1 import NF1\n",
    "import networkx as nx\n",
    "import numpy as np\n",
    "import pandas as pd\n",
    "import matplotlib.pyplot as plt\n",
    "from collections import Counter\n",
    "from operator import itemgetter\n",
    "import powerlaw\n",
    "from networkx.drawing.nx_agraph import graphviz_layout\n",
    "import pickle\n",
    "from statistics import mean, stdev\n",
    "import seaborn as sns\n",
    "import json"
   ]
  },
  {
   "cell_type": "code",
   "execution_count": 2,
   "id": "d8754811",
   "metadata": {},
   "outputs": [],
   "source": [
    "from cdlib import algorithms"
   ]
  },
  {
   "cell_type": "code",
   "execution_count": 20,
   "id": "40f558e7",
   "metadata": {},
   "outputs": [],
   "source": [
    "path = \"../DataSet FFF/\"\n",
    "path_subgraph = \"../DataSet FFF/Graph_data/\"\n",
    "path_graph = \"../DataSet FFF/Graph_data/\"\n",
    "community_path = \"../DataSet FFF/Community_task/\""
   ]
  },
  {
   "cell_type": "code",
   "execution_count": 21,
   "id": "ed8eae7a",
   "metadata": {},
   "outputs": [],
   "source": [
    "def plot_centralities(first, name_f, second, name_s, third, name_t, n):\n",
    "\n",
    "    lista = [(k, v) for k, v in first.items()]\n",
    "    lista.sort(key=lambda x: x[1], reverse = True)\n",
    "    tops = lista[:n]\n",
    "    first_ = []\n",
    "    second_ = []\n",
    "    third_ = []\n",
    "    for i in tops:\n",
    "        first_.append(first[i[0]])\n",
    "        second_.append(second[i[0]])\n",
    "        third_.append(third[i[0]])\n",
    "        \n",
    "    tops = [i for i,j in tops]\n",
    "    tops = tops[::-1]\n",
    "    first_ = first_[::-1]\n",
    "    second_ = second_[::-1]\n",
    "    third_ = third_[::-1]\n",
    "    \n",
    "    fig = plt.figure(figsize = (25,8), dpi = 300)\n",
    "\n",
    "    fontsize = 17\n",
    "    plt.rcParams.update({'font.size': fontsize})\n",
    "    ax = fig.add_subplot(151)\n",
    "    plt.barh(tops,first_, color = \"#31A894\")\n",
    "    plt.grid(axis = 'both', alpha = .3)\n",
    "    plt.xlabel(name_f)\n",
    "\n",
    "    ax2 = fig.add_subplot(152)\n",
    "    plt.barh(tops,second_, color = \"#315FA8\")\n",
    "    plt.grid(axis = 'both', alpha = .3)\n",
    "    plt.setp(ax2.get_yticklabels(), visible = False)\n",
    "    plt.xlabel(name_s)\n",
    "\n",
    "    ax3 = fig.add_subplot(153)\n",
    "    plt.barh(tops,third_, color = \"#5D2FA5\")\n",
    "    plt.grid(axis = 'both', alpha = .3)\n",
    "    plt.setp(ax3.get_yticklabels(), visible = False)\n",
    "    plt.xlabel(name_t)\n",
    "    plt.show()"
   ]
  },
  {
   "cell_type": "code",
   "execution_count": 22,
   "id": "86574f04",
   "metadata": {},
   "outputs": [],
   "source": [
    "#Per plottare le communities per dimensione\n",
    "def plot_communities_dimentions(coms):\n",
    "    myd = {}\n",
    "    for t in coms:\n",
    "        lunghezza = len(t)\n",
    "\n",
    "        if str(lunghezza) in myd:\n",
    "            myd[str(lunghezza)] = myd[str(lunghezza)] + 1\n",
    "        else:\n",
    "            myd[str(lunghezza)] = 1\n",
    "\n",
    "    print(myd)\n",
    "    plt.figure(figsize=(20,5))\n",
    "    plt.bar(myd.keys(), myd.values(), color='b')"
   ]
  },
  {
   "cell_type": "code",
   "execution_count": 23,
   "id": "08bd69cd",
   "metadata": {},
   "outputs": [],
   "source": [
    "def print_bold_str(s):\n",
    "    return \"\\033[1m\" + s + \"\\033[0m\""
   ]
  },
  {
   "cell_type": "code",
   "execution_count": 24,
   "id": "efa2d520",
   "metadata": {},
   "outputs": [],
   "source": [
    "G = nx.read_graphml(path_graph+\"Real_Network.graphml\")"
   ]
  },
  {
   "cell_type": "code",
   "execution_count": 25,
   "id": "8aea585d",
   "metadata": {},
   "outputs": [],
   "source": [
    "with open(community_path+'louvain.pickle', 'rb') as f:\n",
    "    louvain_coms = pickle.load(f)"
   ]
  },
  {
   "cell_type": "code",
   "execution_count": null,
   "id": "df6a8e13",
   "metadata": {},
   "outputs": [],
   "source": []
  }
 ],
 "metadata": {
  "kernelspec": {
   "display_name": "Python 3",
   "language": "python",
   "name": "python3"
  },
  "language_info": {
   "codemirror_mode": {
    "name": "ipython",
    "version": 3
   },
   "file_extension": ".py",
   "mimetype": "text/x-python",
   "name": "python",
   "nbconvert_exporter": "python",
   "pygments_lexer": "ipython3",
   "version": "3.8.8"
  }
 },
 "nbformat": 4,
 "nbformat_minor": 5
}
